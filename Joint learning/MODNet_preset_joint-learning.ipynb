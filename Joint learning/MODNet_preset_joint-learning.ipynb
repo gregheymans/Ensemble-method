{
 "cells": [
  {
   "cell_type": "markdown",
   "metadata": {
    "ExecuteTime": {
     "end_time": "2021-02-03T11:45:15.346116Z",
     "start_time": "2021-02-03T11:45:15.273111Z"
    }
   },
   "source": [
    "# MODNet on experimental dataset "
   ]
  },
  {
   "cell_type": "markdown",
   "metadata": {},
   "source": [
    "MODNet model with the fit_preset version, and doing joint learning on the experimental and PBE band gaps and their difference."
   ]
  },
  {
   "cell_type": "code",
   "execution_count": 1,
   "metadata": {
    "ExecuteTime": {
     "end_time": "2021-05-06T07:25:10.300514Z",
     "start_time": "2021-05-06T07:25:10.288736Z"
    }
   },
   "outputs": [],
   "source": [
    "def setup_threading():\n",
    "    import os\n",
    "    os.environ['OPENBLAS_NUM_THREADS'] = '1'\n",
    "    os.environ['MKL_NUM_THREADS'] = '1'\n",
    "    os.environ[\"OMP_NUM_THREADS\"] = \"1\"\n",
    "    os.environ[\"TF_NUM_INTRAOP_THREADS\"] = \"1\"\n",
    "    os.environ[\"TF_NUM_INTEROP_THREADS\"] = \"1\"\n",
    "    os.environ[\"CUDA_VISIBLE_DEVICES\"] = \"-1\""
   ]
  },
  {
   "cell_type": "code",
   "execution_count": 2,
   "metadata": {
    "ExecuteTime": {
     "end_time": "2021-05-06T07:25:10.864170Z",
     "start_time": "2021-05-06T07:25:10.861602Z"
    }
   },
   "outputs": [],
   "source": [
    "setup_threading()"
   ]
  },
  {
   "cell_type": "code",
   "execution_count": 3,
   "metadata": {
    "ExecuteTime": {
     "end_time": "2021-05-06T07:25:16.653489Z",
     "start_time": "2021-05-06T07:25:11.701844Z"
    }
   },
   "outputs": [
    {
     "name": "stdout",
     "output_type": "stream",
     "text": [
      "\n",
      "If you use the ChemEnv tool for your research, please consider citing the following reference(s) :\n",
      "==================================================================================================\n",
      "David Waroquiers, Xavier Gonze, Gian-Marco Rignanese, Cathrin Welker-Nieuwoudt, Frank Rosowski,\n",
      "Michael Goebel, Stephan Schenk, Peter Degelmann, Rute Andre, Robert Glaum, and Geoffroy Hautier,\n",
      "\"Statistical analysis of coordination environments in oxides\",\n",
      "Chem. Mater., 2017, 29 (19), pp 8346-8360,\n",
      "DOI: 10.1021/acs.chemmater.7b02766\n",
      "\n"
     ]
    }
   ],
   "source": [
    "from modnet.preprocessing import MODData\n",
    "from modnet.models import MODNetModel\n",
    "from modnet.models.ensemble import EnsembleMODNetModel\n",
    "import numpy as np\n",
    "import os\n",
    "import copy\n",
    "\n",
    "from collections import defaultdict\n",
    "import itertools\n",
    "import os\n",
    "import pandas as pd\n",
    "import matplotlib.pyplot as plt \n",
    "from IPython.display import Markdown\n",
    "from matminer.datasets import load_dataset, get_all_dataset_info\n",
    "from pymatgen.core import Composition\n",
    "\n",
    "from modnet.featurizers import MODFeaturizer\n",
    "from modnet.featurizers.presets import DeBreuck2020Featurizer\n",
    "\n",
    "os.environ[\"CUDA_VISIBLE_DEVICES\"] = \"1\""
   ]
  },
  {
   "cell_type": "code",
   "execution_count": 4,
   "metadata": {
    "ExecuteTime": {
     "end_time": "2021-05-06T07:25:16.659830Z",
     "start_time": "2021-05-06T07:25:16.654523Z"
    }
   },
   "outputs": [],
   "source": [
    "from sklearn.model_selection import KFold\n",
    "from modnet.preprocessing import MODData\n",
    "\n",
    "def shuffle_MD(data,random_state=10):\n",
    "    data = copy.deepcopy(data)\n",
    "    ids = data.df_targets.sample(frac=1,random_state=random_state).index\n",
    "    data.df_featurized = data.df_featurized.loc[ids]\n",
    "    data.df_targets = data.df_targets.loc[ids]\n",
    "    data.df_structure = data.df_structure.loc[ids]\n",
    "    \n",
    "    return data\n",
    "\n",
    "def MDKsplit(data,n_splits=5,random_state=10):\n",
    "    data = shuffle_MD(data,random_state=random_state)\n",
    "    ids = np.array(data.structure_ids)\n",
    "    kf = KFold(n_splits=n_splits,shuffle=True,random_state=random_state)\n",
    "    folds = []\n",
    "    for train_idx, val_idx in kf.split(ids):\n",
    "        data_train = MODData(data.df_structure.iloc[train_idx]['structure'].values,data.df_targets.iloc[train_idx].values,target_names=data.df_targets.columns,structure_ids=ids[train_idx])\n",
    "        data_train.df_featurized = data.df_featurized.iloc[train_idx]\n",
    "        #data_train.optimal_features = data.optimal_features\n",
    "        \n",
    "        data_val = MODData(data.df_structure.iloc[val_idx]['structure'].values,data.df_targets.iloc[val_idx].values,target_names=data.df_targets.columns,structure_ids=ids[val_idx])\n",
    "        data_val.df_featurized = data.df_featurized.iloc[val_idx]\n",
    "        #data_val.optimal_features = data.optimal_features\n",
    "\n",
    "        folds.append((data_train,data_val))\n",
    "        \n",
    "    return folds"
   ]
  },
  {
   "cell_type": "code",
   "execution_count": 3,
   "metadata": {
    "ExecuteTime": {
     "end_time": "2021-05-05T09:59:13.403918Z",
     "start_time": "2021-05-05T09:59:10.104688Z"
    }
   },
   "outputs": [
    {
     "name": "stdout",
     "output_type": "stream",
     "text": [
      "2021-05-05 11:59:12,513 - modnet - INFO - Loaded <modnet.preprocessing.MODData object at 0x7ff7d0267e80> object, created with modnet version <=0.1.7\n",
      "2021-05-05 11:59:13,401 - modnet - INFO - Loaded <modnet.preprocessing.MODData object at 0x7ff626e78730> object, created with modnet version <=0.1.7\n"
     ]
    }
   ],
   "source": [
    "md = MODData.load('exp_gap_all')\n",
    "df = pd.read_pickle('df_exp_cleaned.pkl')\n",
    "md_joint = MODData.load('exp_pbe_joint')"
   ]
  },
  {
   "cell_type": "code",
   "execution_count": 4,
   "metadata": {
    "ExecuteTime": {
     "end_time": "2021-05-05T09:59:13.422292Z",
     "start_time": "2021-05-05T09:59:13.405532Z"
    }
   },
   "outputs": [
    {
     "data": {
      "text/html": [
       "<div>\n",
       "<style scoped>\n",
       "    .dataframe tbody tr th:only-of-type {\n",
       "        vertical-align: middle;\n",
       "    }\n",
       "\n",
       "    .dataframe tbody tr th {\n",
       "        vertical-align: top;\n",
       "    }\n",
       "\n",
       "    .dataframe thead th {\n",
       "        text-align: right;\n",
       "    }\n",
       "</style>\n",
       "<table border=\"1\" class=\"dataframe\">\n",
       "  <thead>\n",
       "    <tr style=\"text-align: right;\">\n",
       "      <th></th>\n",
       "      <th>exp_gap</th>\n",
       "      <th>pbe_gap</th>\n",
       "      <th>difference</th>\n",
       "    </tr>\n",
       "  </thead>\n",
       "  <tbody>\n",
       "    <tr>\n",
       "      <th>mp-12699</th>\n",
       "      <td>0.00</td>\n",
       "      <td>0.0000</td>\n",
       "      <td>0.0000</td>\n",
       "    </tr>\n",
       "    <tr>\n",
       "      <th>mp-559459</th>\n",
       "      <td>3.40</td>\n",
       "      <td>2.1704</td>\n",
       "      <td>1.2296</td>\n",
       "    </tr>\n",
       "    <tr>\n",
       "      <th>mp-21162</th>\n",
       "      <td>0.00</td>\n",
       "      <td>0.0000</td>\n",
       "      <td>0.0000</td>\n",
       "    </tr>\n",
       "    <tr>\n",
       "      <th>mp-1306</th>\n",
       "      <td>0.00</td>\n",
       "      <td>0.0000</td>\n",
       "      <td>0.0000</td>\n",
       "    </tr>\n",
       "    <tr>\n",
       "      <th>mp-15252</th>\n",
       "      <td>0.53</td>\n",
       "      <td>0.1049</td>\n",
       "      <td>0.4251</td>\n",
       "    </tr>\n",
       "    <tr>\n",
       "      <th>...</th>\n",
       "      <td>...</td>\n",
       "      <td>...</td>\n",
       "      <td>...</td>\n",
       "    </tr>\n",
       "    <tr>\n",
       "      <th>mp-556541</th>\n",
       "      <td>1.80</td>\n",
       "      <td>1.5135</td>\n",
       "      <td>0.2865</td>\n",
       "    </tr>\n",
       "    <tr>\n",
       "      <th>mp-2602</th>\n",
       "      <td>1.04</td>\n",
       "      <td>0.0000</td>\n",
       "      <td>1.0400</td>\n",
       "    </tr>\n",
       "    <tr>\n",
       "      <th>mp-30366</th>\n",
       "      <td>0.00</td>\n",
       "      <td>0.0000</td>\n",
       "      <td>0.0000</td>\n",
       "    </tr>\n",
       "    <tr>\n",
       "      <th>mp-3718</th>\n",
       "      <td>1.45</td>\n",
       "      <td>0.2418</td>\n",
       "      <td>1.2082</td>\n",
       "    </tr>\n",
       "    <tr>\n",
       "      <th>mp-3709</th>\n",
       "      <td>0.00</td>\n",
       "      <td>0.0000</td>\n",
       "      <td>0.0000</td>\n",
       "    </tr>\n",
       "  </tbody>\n",
       "</table>\n",
       "<p>1703 rows × 3 columns</p>\n",
       "</div>"
      ],
      "text/plain": [
       "           exp_gap  pbe_gap  difference\n",
       "mp-12699      0.00   0.0000      0.0000\n",
       "mp-559459     3.40   2.1704      1.2296\n",
       "mp-21162      0.00   0.0000      0.0000\n",
       "mp-1306       0.00   0.0000      0.0000\n",
       "mp-15252      0.53   0.1049      0.4251\n",
       "...            ...      ...         ...\n",
       "mp-556541     1.80   1.5135      0.2865\n",
       "mp-2602       1.04   0.0000      1.0400\n",
       "mp-30366      0.00   0.0000      0.0000\n",
       "mp-3718       1.45   0.2418      1.2082\n",
       "mp-3709       0.00   0.0000      0.0000\n",
       "\n",
       "[1703 rows x 3 columns]"
      ]
     },
     "execution_count": 4,
     "metadata": {},
     "output_type": "execute_result"
    }
   ],
   "source": [
    "md_joint.df_targets"
   ]
  },
  {
   "cell_type": "code",
   "execution_count": 5,
   "metadata": {
    "ExecuteTime": {
     "end_time": "2021-05-05T09:59:13.425539Z",
     "start_time": "2021-05-05T09:59:13.423588Z"
    }
   },
   "outputs": [],
   "source": [
    "import pymatgen.ext.matproj"
   ]
  },
  {
   "cell_type": "code",
   "execution_count": 6,
   "metadata": {
    "ExecuteTime": {
     "end_time": "2021-05-05T10:06:26.913325Z",
     "start_time": "2021-05-05T09:59:13.426749Z"
    }
   },
   "outputs": [],
   "source": [
    "from pymatgen.ext.matproj import MPRester\n",
    "import pandas as pd\n",
    "\n",
    "with MPRester(\"v454AlrxL5Zg0cLAXW0\") as mpr:\n",
    "    index = md_joint.df_structure.index\n",
    "    array = np.empty(shape=md_joint.df_structure.shape, dtype=pymatgen.core.structure.Structure)\n",
    "    array = np.ndarray.flatten(array)\n",
    "    for i in range(len(md_joint.df_structure)):\n",
    "        array[i] = mpr.get_structure_by_material_id(index[i])\n",
    "    md_joint.df_structure = pd.DataFrame(data=array, columns=[\"structure\"])\n",
    "    md_joint.df_structure = md_joint.df_structure.set_index(index)"
   ]
  },
  {
   "cell_type": "code",
   "execution_count": 7,
   "metadata": {
    "ExecuteTime": {
     "end_time": "2021-05-05T10:06:27.361317Z",
     "start_time": "2021-05-05T10:06:26.916036Z"
    }
   },
   "outputs": [
    {
     "name": "stdout",
     "output_type": "stream",
     "text": [
      "2021-05-05 12:06:27,358 - modnet - INFO - Data successfully saved as exp-alone_pbe_joint!\n"
     ]
    }
   ],
   "source": [
    "#md_joint.save('exp-alone_pbe_joint')"
   ]
  },
  {
   "cell_type": "code",
   "execution_count": 5,
   "metadata": {
    "ExecuteTime": {
     "end_time": "2021-05-06T07:25:21.299562Z",
     "start_time": "2021-05-06T07:25:20.843260Z"
    }
   },
   "outputs": [
    {
     "name": "stdout",
     "output_type": "stream",
     "text": [
      "2021-05-06 09:25:21,297 - modnet - INFO - Loaded <modnet.preprocessing.MODData object at 0x7f60ec22e280> object, created with modnet version <=0.1.7\n"
     ]
    }
   ],
   "source": [
    "md_joint = MODData.load('exp-alone_pbe_joint')"
   ]
  },
  {
   "cell_type": "code",
   "execution_count": 6,
   "metadata": {
    "ExecuteTime": {
     "end_time": "2021-05-06T07:25:21.659816Z",
     "start_time": "2021-05-06T07:25:21.625961Z"
    }
   },
   "outputs": [
    {
     "data": {
      "text/html": [
       "<div>\n",
       "<style scoped>\n",
       "    .dataframe tbody tr th:only-of-type {\n",
       "        vertical-align: middle;\n",
       "    }\n",
       "\n",
       "    .dataframe tbody tr th {\n",
       "        vertical-align: top;\n",
       "    }\n",
       "\n",
       "    .dataframe thead th {\n",
       "        text-align: right;\n",
       "    }\n",
       "</style>\n",
       "<table border=\"1\" class=\"dataframe\">\n",
       "  <thead>\n",
       "    <tr style=\"text-align: right;\">\n",
       "      <th></th>\n",
       "      <th>structure</th>\n",
       "    </tr>\n",
       "    <tr>\n",
       "      <th>id</th>\n",
       "      <th></th>\n",
       "    </tr>\n",
       "  </thead>\n",
       "  <tbody>\n",
       "    <tr>\n",
       "      <th>mp-12699</th>\n",
       "      <td>[[ 0.13616363 -2.60631371  1.50340165] Ca, [-1...</td>\n",
       "    </tr>\n",
       "    <tr>\n",
       "      <th>mp-559459</th>\n",
       "      <td>[[2.14049282 6.43464803 1.76199846] Cs, [-0.70...</td>\n",
       "    </tr>\n",
       "    <tr>\n",
       "      <th>mp-21162</th>\n",
       "      <td>[[0. 0. 0.] Sr, [0.        2.5259875 2.5259875...</td>\n",
       "    </tr>\n",
       "    <tr>\n",
       "      <th>mp-1306</th>\n",
       "      <td>[[3.259129   1.88166243 1.15971025] Th, [ 3.25...</td>\n",
       "    </tr>\n",
       "    <tr>\n",
       "      <th>mp-15252</th>\n",
       "      <td>[[0.95531657 1.042239   0.86229681] Cu, [2.803...</td>\n",
       "    </tr>\n",
       "    <tr>\n",
       "      <th>...</th>\n",
       "      <td>...</td>\n",
       "    </tr>\n",
       "    <tr>\n",
       "      <th>mp-556541</th>\n",
       "      <td>[[0.         6.49363948 5.82657217] In, [ 0.  ...</td>\n",
       "    </tr>\n",
       "    <tr>\n",
       "      <th>mp-2602</th>\n",
       "      <td>[[3.023318 3.023318 3.023318] Nd, [0. 0. 0.] As]</td>\n",
       "    </tr>\n",
       "    <tr>\n",
       "      <th>mp-30366</th>\n",
       "      <td>[[4.51774558 1.37529211 4.32659015] Ca, [1.109...</td>\n",
       "    </tr>\n",
       "    <tr>\n",
       "      <th>mp-3718</th>\n",
       "      <td>[[2.0697935  0.         1.28932533] Th, [0.   ...</td>\n",
       "    </tr>\n",
       "    <tr>\n",
       "      <th>mp-3709</th>\n",
       "      <td>[[0. 0. 0.] Tb, [0.       1.983905 2.537711] C...</td>\n",
       "    </tr>\n",
       "  </tbody>\n",
       "</table>\n",
       "<p>1703 rows × 1 columns</p>\n",
       "</div>"
      ],
      "text/plain": [
       "                                                   structure\n",
       "id                                                          \n",
       "mp-12699   [[ 0.13616363 -2.60631371  1.50340165] Ca, [-1...\n",
       "mp-559459  [[2.14049282 6.43464803 1.76199846] Cs, [-0.70...\n",
       "mp-21162   [[0. 0. 0.] Sr, [0.        2.5259875 2.5259875...\n",
       "mp-1306    [[3.259129   1.88166243 1.15971025] Th, [ 3.25...\n",
       "mp-15252   [[0.95531657 1.042239   0.86229681] Cu, [2.803...\n",
       "...                                                      ...\n",
       "mp-556541  [[0.         6.49363948 5.82657217] In, [ 0.  ...\n",
       "mp-2602     [[3.023318 3.023318 3.023318] Nd, [0. 0. 0.] As]\n",
       "mp-30366   [[4.51774558 1.37529211 4.32659015] Ca, [1.109...\n",
       "mp-3718    [[2.0697935  0.         1.28932533] Th, [0.   ...\n",
       "mp-3709    [[0. 0. 0.] Tb, [0.       1.983905 2.537711] C...\n",
       "\n",
       "[1703 rows x 1 columns]"
      ]
     },
     "execution_count": 6,
     "metadata": {},
     "output_type": "execute_result"
    }
   ],
   "source": [
    "md_joint.df_structure"
   ]
  },
  {
   "cell_type": "code",
   "execution_count": 7,
   "metadata": {
    "ExecuteTime": {
     "end_time": "2021-05-06T15:22:37.034973Z",
     "start_time": "2021-05-06T07:25:22.602373Z"
    },
    "scrolled": true
   },
   "outputs": [
    {
     "name": "stdout",
     "output_type": "stream",
     "text": [
      "2021-05-06 09:25:22,644 - modnet - INFO - Loaded DeBreuck2020Featurizer featurizer.\n",
      "2021-05-06 09:25:22,658 - modnet - INFO - Loaded DeBreuck2020Featurizer featurizer.\n",
      "2021-05-06 09:25:22,666 - modnet - INFO - Loaded DeBreuck2020Featurizer featurizer.\n",
      "2021-05-06 09:25:22,680 - modnet - INFO - Loaded DeBreuck2020Featurizer featurizer.\n",
      "2021-05-06 09:25:22,688 - modnet - INFO - Loaded DeBreuck2020Featurizer featurizer.\n",
      "2021-05-06 09:25:22,701 - modnet - INFO - Loaded DeBreuck2020Featurizer featurizer.\n",
      "2021-05-06 09:25:22,710 - modnet - INFO - Loaded DeBreuck2020Featurizer featurizer.\n",
      "2021-05-06 09:25:22,724 - modnet - INFO - Loaded DeBreuck2020Featurizer featurizer.\n",
      "2021-05-06 09:25:22,732 - modnet - INFO - Loaded DeBreuck2020Featurizer featurizer.\n",
      "2021-05-06 09:25:22,746 - modnet - INFO - Loaded DeBreuck2020Featurizer featurizer.\n",
      "2021-05-06 09:25:23,113 - modnet - INFO - Loaded <modnet.preprocessing.MODData object at 0x7f6077e40400> object, created with modnet version 0.1.9\n",
      "2021-05-06 09:25:25,390 - modnet - INFO - Proceeding with grid search: archs: [(64, [[128], [32], [8], [8]]), (64, [[64], [32], [8], [8]]), (64, [[32], [16], [8], [8]]), (128, [[256], [64], [16], [16]]), (128, [[128], [64], [16], [16]]), (128, [[64], [32], [16], [16]]), (256, [[512], [128], [32], [32]]), (256, [[256], [128], [32], [32]]), (256, [[128], [64], [32], [32]]), (512, [[1024], [256], [64], [64]]), (512, [[512], [256], [64], [64]]), (512, [[256], [128], [64], [64]])], batch sizes: [64], learning_rates: [0.001, 0.005, 0.01]\n",
      "2021-05-06 09:25:27,315 - modnet - INFO - Multiprocessing on 64 cores. Total of 128 cores available.\n"
     ]
    },
    {
     "name": "stderr",
     "output_type": "stream",
     "text": [
      "  0%|          | 0/360 [00:00<?, ?it/s]"
     ]
    },
    {
     "name": "stdout",
     "output_type": "stream",
     "text": [
      "2021-05-06 09:28:24,483 - modnet - INFO - Preset #4 fitting finished, loss: 0.5405220150947571\n"
     ]
    },
    {
     "name": "stderr",
     "output_type": "stream",
     "text": [
      "  0%|          | 1/360 [02:57<17:44:15, 177.87s/it]"
     ]
    },
    {
     "name": "stdout",
     "output_type": "stream",
     "text": [
      "2021-05-06 09:28:32,890 - modnet - INFO - Preset #5 fitting finished, loss: 0.47943260073661803\n"
     ]
    },
    {
     "name": "stderr",
     "output_type": "stream",
     "text": [
      "  1%|          | 2/360 [03:06<12:37:54, 127.02s/it]"
     ]
    },
    {
     "name": "stdout",
     "output_type": "stream",
     "text": [
      "2021-05-06 09:28:44,377 - modnet - INFO - Preset #5 fitting finished, loss: 0.47517754435539244\n"
     ]
    },
    {
     "name": "stderr",
     "output_type": "stream",
     "text": [
      "  1%|          | 3/360 [03:17<9:09:22, 92.33s/it]  "
     ]
    },
    {
     "name": "stdout",
     "output_type": "stream",
     "text": [
      "2021-05-06 09:28:53,395 - modnet - INFO - Preset #4 fitting finished, loss: 0.4640743494033813\n"
     ]
    },
    {
     "name": "stderr",
     "output_type": "stream",
     "text": [
      "  1%|          | 4/360 [03:26<6:39:49, 67.39s/it]"
     ]
    },
    {
     "name": "stdout",
     "output_type": "stream",
     "text": [
      "2021-05-06 09:29:27,439 - modnet - INFO - Preset #3 fitting finished, loss: 0.47519263029098513\n"
     ]
    },
    {
     "name": "stderr",
     "output_type": "stream",
     "text": [
      "  1%|▏         | 5/360 [04:00<5:39:03, 57.30s/it]"
     ]
    },
    {
     "name": "stdout",
     "output_type": "stream",
     "text": [
      "2021-05-06 09:29:43,096 - modnet - INFO - Preset #2 fitting finished, loss: 0.46390423774719236\n"
     ]
    },
    {
     "name": "stderr",
     "output_type": "stream",
     "text": [
      "  2%|▏         | 6/360 [04:16<4:24:19, 44.80s/it]"
     ]
    },
    {
     "name": "stdout",
     "output_type": "stream",
     "text": [
      "2021-05-06 09:29:51,488 - modnet - INFO - Preset #5 fitting finished, loss: 0.4211581587791443\n"
     ]
    },
    {
     "name": "stderr",
     "output_type": "stream",
     "text": [
      "  2%|▏         | 7/360 [04:24<3:19:41, 33.94s/it]"
     ]
    },
    {
     "name": "stdout",
     "output_type": "stream",
     "text": [
      "2021-05-06 09:29:57,986 - modnet - INFO - Preset #11 fitting finished, loss: 0.47063921093940736\n"
     ]
    },
    {
     "name": "stderr",
     "output_type": "stream",
     "text": [
      "  2%|▏         | 8/360 [04:31<2:30:52, 25.72s/it]"
     ]
    },
    {
     "name": "stdout",
     "output_type": "stream",
     "text": [
      "2021-05-06 09:30:08,836 - modnet - INFO - Preset #4 fitting finished, loss: 0.451158344745636\n"
     ]
    },
    {
     "name": "stderr",
     "output_type": "stream",
     "text": [
      "  2%|▎         | 9/360 [04:42<2:04:45, 21.33s/it]"
     ]
    },
    {
     "name": "stdout",
     "output_type": "stream",
     "text": [
      "2021-05-06 09:30:24,328 - modnet - INFO - Preset #4 fitting finished, loss: 0.44047325253486636\n"
     ]
    },
    {
     "name": "stderr",
     "output_type": "stream",
     "text": [
      "  3%|▎         | 10/360 [04:57<1:53:46, 19.50s/it]"
     ]
    },
    {
     "name": "stdout",
     "output_type": "stream",
     "text": [
      "2021-05-06 09:30:25,459 - modnet - INFO - Preset #8 fitting finished, loss: 0.4551001191139221\n"
     ]
    },
    {
     "name": "stderr",
     "output_type": "stream",
     "text": [
      "  3%|▎         | 11/360 [04:58<1:21:30, 14.01s/it]"
     ]
    },
    {
     "name": "stdout",
     "output_type": "stream",
     "text": [
      "2021-05-06 09:30:34,787 - modnet - INFO - Preset #2 fitting finished, loss: 0.452814382314682\n"
     ]
    },
    {
     "name": "stderr",
     "output_type": "stream",
     "text": [
      "  3%|▎         | 12/360 [05:08<1:12:52, 12.57s/it]"
     ]
    },
    {
     "name": "stdout",
     "output_type": "stream",
     "text": [
      "2021-05-06 09:30:35,421 - modnet - INFO - Preset #2 fitting finished, loss: 0.45485535860061643\n"
     ]
    },
    {
     "name": "stderr",
     "output_type": "stream",
     "text": [
      "  4%|▎         | 13/360 [05:08<52:08,  9.02s/it]  "
     ]
    },
    {
     "name": "stdout",
     "output_type": "stream",
     "text": [
      "2021-05-06 09:30:36,205 - modnet - INFO - Preset #5 fitting finished, loss: 0.4747328519821167\n"
     ]
    },
    {
     "name": "stderr",
     "output_type": "stream",
     "text": [
      "  4%|▍         | 14/360 [05:09<37:48,  6.56s/it]"
     ]
    },
    {
     "name": "stdout",
     "output_type": "stream",
     "text": [
      "2021-05-06 09:30:47,165 - modnet - INFO - Preset #8 fitting finished, loss: 0.4485428690910339\n"
     ]
    },
    {
     "name": "stderr",
     "output_type": "stream",
     "text": [
      "  4%|▍         | 15/360 [05:20<45:25,  7.90s/it]"
     ]
    },
    {
     "name": "stdout",
     "output_type": "stream",
     "text": [
      "2021-05-06 09:30:51,634 - modnet - INFO - Preset #3 fitting finished, loss: 0.4957892715930939\n"
     ]
    },
    {
     "name": "stderr",
     "output_type": "stream",
     "text": [
      "  4%|▍         | 16/360 [05:24<38:53,  6.78s/it]"
     ]
    },
    {
     "name": "stdout",
     "output_type": "stream",
     "text": [
      "2021-05-06 09:31:00,125 - modnet - INFO - Preset #8 fitting finished, loss: 0.45170729160308837\n"
     ]
    },
    {
     "name": "stderr",
     "output_type": "stream",
     "text": [
      "  5%|▍         | 17/360 [05:33<42:02,  7.36s/it]"
     ]
    },
    {
     "name": "stdout",
     "output_type": "stream",
     "text": [
      "2021-05-06 09:31:03,597 - modnet - INFO - Preset #9 fitting finished, loss: 0.4640464723110199\n"
     ]
    },
    {
     "name": "stderr",
     "output_type": "stream",
     "text": [
      "  5%|▌         | 18/360 [05:36<35:16,  6.19s/it]"
     ]
    },
    {
     "name": "stdout",
     "output_type": "stream",
     "text": [
      "2021-05-06 09:31:30,702 - modnet - INFO - Preset #10 fitting finished, loss: 0.4480468273162842\n"
     ]
    },
    {
     "name": "stderr",
     "output_type": "stream",
     "text": [
      "  5%|▌         | 19/360 [06:04<1:10:41, 12.44s/it]"
     ]
    },
    {
     "name": "stdout",
     "output_type": "stream",
     "text": [
      "2021-05-06 09:31:39,426 - modnet - INFO - Preset #3 fitting finished, loss: 0.4564036428928375\n"
     ]
    },
    {
     "name": "stderr",
     "output_type": "stream",
     "text": [
      "  6%|▌         | 20/360 [06:12<1:04:01, 11.30s/it]"
     ]
    },
    {
     "name": "stdout",
     "output_type": "stream",
     "text": [
      "2021-05-06 09:31:52,283 - modnet - INFO - Preset #10 fitting finished, loss: 0.4656952559947968\n"
     ]
    },
    {
     "name": "stderr",
     "output_type": "stream",
     "text": [
      "  6%|▌         | 21/360 [06:26<1:07:19, 11.92s/it]"
     ]
    },
    {
     "name": "stdout",
     "output_type": "stream",
     "text": [
      "2021-05-06 09:31:56,593 - modnet - INFO - Preset #10 fitting finished, loss: 0.44394504427909853\n"
     ]
    },
    {
     "name": "stderr",
     "output_type": "stream",
     "text": [
      "  6%|▌         | 22/360 [06:30<54:25,  9.66s/it]  "
     ]
    },
    {
     "name": "stdout",
     "output_type": "stream",
     "text": [
      "2021-05-06 09:32:08,045 - modnet - INFO - Preset #1 fitting finished, loss: 0.4649878144264221\n"
     ]
    },
    {
     "name": "stderr",
     "output_type": "stream",
     "text": [
      "  6%|▋         | 23/360 [06:41<57:14, 10.19s/it]"
     ]
    },
    {
     "name": "stdout",
     "output_type": "stream",
     "text": [
      "2021-05-06 09:32:14,103 - modnet - INFO - Preset #9 fitting finished, loss: 0.48089991211891175\n"
     ]
    },
    {
     "name": "stderr",
     "output_type": "stream",
     "text": [
      "  7%|▋         | 24/360 [06:47<50:06,  8.95s/it]"
     ]
    },
    {
     "name": "stdout",
     "output_type": "stream",
     "text": [
      "2021-05-06 09:32:17,127 - modnet - INFO - Preset #8 fitting finished, loss: 0.476924467086792\n"
     ]
    },
    {
     "name": "stderr",
     "output_type": "stream",
     "text": [
      "  7%|▋         | 25/360 [06:50<39:43,  7.11s/it]"
     ]
    },
    {
     "name": "stdout",
     "output_type": "stream",
     "text": [
      "2021-05-06 09:32:28,711 - modnet - INFO - Preset #3 fitting finished, loss: 0.44097262620925903\n"
     ]
    },
    {
     "name": "stderr",
     "output_type": "stream",
     "text": [
      "  7%|▋         | 26/360 [07:04<50:15,  9.03s/it]"
     ]
    },
    {
     "name": "stdout",
     "output_type": "stream",
     "text": [
      "2021-05-06 09:32:31,548 - modnet - INFO - Preset #10 fitting finished, loss: 0.4830656468868256\n"
     ]
    },
    {
     "name": "stderr",
     "output_type": "stream",
     "text": [
      "  8%|▊         | 27/360 [07:05<36:42,  6.62s/it]"
     ]
    },
    {
     "name": "stdout",
     "output_type": "stream",
     "text": [
      "2021-05-06 09:32:34,385 - modnet - INFO - Preset #11 fitting finished, loss: 0.4364644348621368\n"
     ]
    },
    {
     "name": "stderr",
     "output_type": "stream",
     "text": [
      "  8%|▊         | 28/360 [07:08<30:31,  5.52s/it]"
     ]
    },
    {
     "name": "stdout",
     "output_type": "stream",
     "text": [
      "2021-05-06 09:32:43,109 - modnet - INFO - Preset #8 fitting finished, loss: 0.45059381127357484\n"
     ]
    },
    {
     "name": "stderr",
     "output_type": "stream",
     "text": [
      "  8%|▊         | 29/360 [07:16<35:47,  6.49s/it]"
     ]
    },
    {
     "name": "stdout",
     "output_type": "stream",
     "text": [
      "2021-05-06 09:32:46,546 - modnet - INFO - Preset #3 fitting finished, loss: 0.46660622358322146\n"
     ]
    },
    {
     "name": "stderr",
     "output_type": "stream",
     "text": [
      "  8%|▊         | 30/360 [07:20<30:35,  5.56s/it]"
     ]
    },
    {
     "name": "stdout",
     "output_type": "stream",
     "text": [
      "2021-05-06 09:32:53,661 - modnet - INFO - Preset #10 fitting finished, loss: 0.43112685084342955\n"
     ]
    },
    {
     "name": "stderr",
     "output_type": "stream",
     "text": [
      "  9%|▊         | 31/360 [07:27<33:09,  6.05s/it]"
     ]
    },
    {
     "name": "stdout",
     "output_type": "stream",
     "text": [
      "2021-05-06 09:33:03,637 - modnet - INFO - Preset #6 fitting finished, loss: 0.4782095789909363\n"
     ]
    },
    {
     "name": "stderr",
     "output_type": "stream",
     "text": [
      "  9%|▉         | 32/360 [07:37<39:43,  7.27s/it]"
     ]
    },
    {
     "name": "stdout",
     "output_type": "stream",
     "text": [
      "2021-05-06 09:33:04,932 - modnet - INFO - Preset #2 fitting finished, loss: 0.44770753383636475\n"
     ]
    },
    {
     "name": "stderr",
     "output_type": "stream",
     "text": [
      "  9%|▉         | 33/360 [07:38<29:36,  5.43s/it]"
     ]
    },
    {
     "name": "stdout",
     "output_type": "stream",
     "text": [
      "2021-05-06 09:33:07,211 - modnet - INFO - Preset #5 fitting finished, loss: 0.47910367846488955\n"
     ]
    },
    {
     "name": "stderr",
     "output_type": "stream",
     "text": [
      "  9%|▉         | 34/360 [07:41<24:30,  4.51s/it]"
     ]
    },
    {
     "name": "stdout",
     "output_type": "stream",
     "text": [
      "2021-05-06 09:33:19,403 - modnet - INFO - Preset #4 fitting finished, loss: 0.4573545455932617\n"
     ]
    },
    {
     "name": "stderr",
     "output_type": "stream",
     "text": [
      " 10%|▉         | 35/360 [07:52<36:20,  6.71s/it]"
     ]
    },
    {
     "name": "stdout",
     "output_type": "stream",
     "text": [
      "2021-05-06 09:33:21,672 - modnet - INFO - Preset #2 fitting finished, loss: 0.4669817566871643\n"
     ]
    },
    {
     "name": "stderr",
     "output_type": "stream",
     "text": [
      " 10%|█         | 36/360 [07:55<29:13,  5.41s/it]"
     ]
    },
    {
     "name": "stdout",
     "output_type": "stream",
     "text": [
      "2021-05-06 09:33:27,956 - modnet - INFO - Preset #9 fitting finished, loss: 0.4625807642936707\n"
     ]
    },
    {
     "name": "stderr",
     "output_type": "stream",
     "text": [
      " 10%|█         | 37/360 [08:01<30:32,  5.67s/it]"
     ]
    },
    {
     "name": "stdout",
     "output_type": "stream",
     "text": [
      "2021-05-06 09:33:52,811 - modnet - INFO - Preset #0 fitting finished, loss: 0.4711399614810944\n"
     ]
    },
    {
     "name": "stderr",
     "output_type": "stream",
     "text": [
      " 11%|█         | 38/360 [08:26<1:01:14, 11.41s/it]"
     ]
    },
    {
     "name": "stdout",
     "output_type": "stream",
     "text": [
      "2021-05-06 09:33:56,404 - modnet - INFO - Preset #9 fitting finished, loss: 0.43818647265434263\n"
     ]
    },
    {
     "name": "stderr",
     "output_type": "stream",
     "text": [
      " 11%|█         | 39/360 [08:29<48:27,  9.06s/it]  "
     ]
    },
    {
     "name": "stdout",
     "output_type": "stream",
     "text": [
      "2021-05-06 09:34:02,892 - modnet - INFO - Preset #7 fitting finished, loss: 0.4820808291435242\n"
     ]
    },
    {
     "name": "stderr",
     "output_type": "stream",
     "text": [
      " 11%|█         | 40/360 [08:36<44:25,  8.33s/it]"
     ]
    },
    {
     "name": "stdout",
     "output_type": "stream",
     "text": [
      "2021-05-06 09:34:11,069 - modnet - INFO - Preset #0 fitting finished, loss: 0.48116119503974913\n"
     ]
    },
    {
     "name": "stderr",
     "output_type": "stream",
     "text": [
      " 11%|█▏        | 41/360 [08:44<44:02,  8.28s/it]"
     ]
    },
    {
     "name": "stdout",
     "output_type": "stream",
     "text": [
      "2021-05-06 09:34:12,125 - modnet - INFO - Preset #7 fitting finished, loss: 0.49838990569114683\n"
     ]
    },
    {
     "name": "stderr",
     "output_type": "stream",
     "text": [
      " 12%|█▏        | 42/360 [08:45<32:20,  6.10s/it]"
     ]
    },
    {
     "name": "stdout",
     "output_type": "stream",
     "text": [
      "2021-05-06 09:34:21,002 - modnet - INFO - Preset #1 fitting finished, loss: 0.4681573748588562\n"
     ]
    },
    {
     "name": "stderr",
     "output_type": "stream",
     "text": [
      " 12%|█▏        | 43/360 [08:54<36:23,  6.89s/it]"
     ]
    },
    {
     "name": "stdout",
     "output_type": "stream",
     "text": [
      "2021-05-06 09:34:22,814 - modnet - INFO - Preset #11 fitting finished, loss: 0.4584018051624298\n"
     ]
    },
    {
     "name": "stderr",
     "output_type": "stream",
     "text": [
      " 12%|█▏        | 44/360 [08:56<28:27,  5.40s/it]"
     ]
    },
    {
     "name": "stdout",
     "output_type": "stream",
     "text": [
      "2021-05-06 09:34:34,315 - modnet - INFO - Preset #6 fitting finished, loss: 0.4978557646274567\n"
     ]
    },
    {
     "name": "stderr",
     "output_type": "stream",
     "text": [
      " 12%|█▎        | 45/360 [09:07<37:57,  7.23s/it]"
     ]
    },
    {
     "name": "stdout",
     "output_type": "stream",
     "text": [
      "2021-05-06 09:34:39,353 - modnet - INFO - Preset #0 fitting finished, loss: 0.4516886115074158\n"
     ]
    },
    {
     "name": "stderr",
     "output_type": "stream",
     "text": [
      " 13%|█▎        | 46/360 [09:12<34:18,  6.56s/it]"
     ]
    },
    {
     "name": "stdout",
     "output_type": "stream",
     "text": [
      "2021-05-06 09:34:58,703 - modnet - INFO - Preset #1 fitting finished, loss: 0.4663842797279358\n"
     ]
    },
    {
     "name": "stderr",
     "output_type": "stream",
     "text": [
      " 13%|█▎        | 47/360 [09:32<54:10, 10.39s/it]"
     ]
    },
    {
     "name": "stdout",
     "output_type": "stream",
     "text": [
      "2021-05-06 09:35:11,215 - modnet - INFO - Preset #0 fitting finished, loss: 0.4732742726802826\n"
     ]
    },
    {
     "name": "stderr",
     "output_type": "stream",
     "text": [
      " 13%|█▎        | 48/360 [09:44<57:37, 11.08s/it]"
     ]
    },
    {
     "name": "stdout",
     "output_type": "stream",
     "text": [
      "2021-05-06 09:35:34,567 - modnet - INFO - Preset #7 fitting finished, loss: 0.4926576018333435\n"
     ]
    },
    {
     "name": "stderr",
     "output_type": "stream",
     "text": [
      " 14%|█▎        | 49/360 [10:08<1:16:28, 14.75s/it]"
     ]
    },
    {
     "name": "stdout",
     "output_type": "stream",
     "text": [
      "2021-05-06 09:35:50,915 - modnet - INFO - Preset #11 fitting finished, loss: 0.4706193387508392\n"
     ]
    },
    {
     "name": "stderr",
     "output_type": "stream",
     "text": [
      " 14%|█▍        | 50/360 [10:24<1:18:47, 15.25s/it]"
     ]
    },
    {
     "name": "stdout",
     "output_type": "stream",
     "text": [
      "2021-05-06 09:35:52,063 - modnet - INFO - Preset #1 fitting finished, loss: 0.48734810948371887\n"
     ]
    },
    {
     "name": "stderr",
     "output_type": "stream",
     "text": [
      " 14%|█▍        | 51/360 [10:25<56:57, 11.06s/it]  "
     ]
    },
    {
     "name": "stdout",
     "output_type": "stream",
     "text": [
      "2021-05-06 09:35:58,134 - modnet - INFO - Preset #11 fitting finished, loss: 0.4560372531414032\n"
     ]
    },
    {
     "name": "stderr",
     "output_type": "stream",
     "text": [
      " 14%|█▍        | 52/360 [10:31<48:30,  9.45s/it]"
     ]
    },
    {
     "name": "stdout",
     "output_type": "stream",
     "text": [
      "2021-05-06 09:36:00,684 - modnet - INFO - Preset #6 fitting finished, loss: 0.44430922865867617\n"
     ]
    },
    {
     "name": "stderr",
     "output_type": "stream",
     "text": [
      " 15%|█▍        | 53/360 [10:34<37:48,  7.39s/it]"
     ]
    },
    {
     "name": "stdout",
     "output_type": "stream",
     "text": [
      "2021-05-06 09:36:13,187 - modnet - INFO - Preset #9 fitting finished, loss: 0.4693195283412933\n"
     ]
    },
    {
     "name": "stderr",
     "output_type": "stream",
     "text": [
      " 15%|█▌        | 54/360 [10:46<45:31,  8.93s/it]"
     ]
    },
    {
     "name": "stdout",
     "output_type": "stream",
     "text": [
      "2021-05-06 09:36:16,517 - modnet - INFO - Preset #7 fitting finished, loss: 0.46467610001564025\n"
     ]
    },
    {
     "name": "stderr",
     "output_type": "stream",
     "text": [
      " 15%|█▌        | 55/360 [10:50<37:03,  7.29s/it]"
     ]
    },
    {
     "name": "stdout",
     "output_type": "stream",
     "text": [
      "2021-05-06 09:36:17,840 - modnet - INFO - Preset #1 fitting finished, loss: 0.47615900039672854\n"
     ]
    },
    {
     "name": "stderr",
     "output_type": "stream",
     "text": [
      " 16%|█▌        | 56/360 [10:51<27:55,  5.51s/it]"
     ]
    },
    {
     "name": "stdout",
     "output_type": "stream",
     "text": [
      "2021-05-06 09:37:00,781 - modnet - INFO - Preset #0 fitting finished, loss: 0.480612188577652\n"
     ]
    },
    {
     "name": "stderr",
     "output_type": "stream",
     "text": [
      " 16%|█▌        | 57/360 [11:37<1:28:44, 17.57s/it]"
     ]
    },
    {
     "name": "stdout",
     "output_type": "stream",
     "text": [
      "2021-05-06 09:37:04,680 - modnet - INFO - Preset #7 fitting finished, loss: 0.4696370780467987\n"
     ]
    },
    {
     "name": "stderr",
     "output_type": "stream",
     "text": [
      " 16%|█▌        | 58/360 [11:38<1:03:28, 12.61s/it]"
     ]
    },
    {
     "name": "stdout",
     "output_type": "stream",
     "text": [
      "2021-05-06 09:38:03,104 - modnet - INFO - Preset #6 fitting finished, loss: 0.4768038928508759\n"
     ]
    },
    {
     "name": "stderr",
     "output_type": "stream",
     "text": [
      " 16%|█▋        | 59/360 [12:36<2:12:06, 26.33s/it]"
     ]
    },
    {
     "name": "stdout",
     "output_type": "stream",
     "text": [
      "2021-05-06 09:38:32,403 - modnet - INFO - Preset #6 fitting finished, loss: 0.4920285403728485\n"
     ]
    },
    {
     "name": "stderr",
     "output_type": "stream",
     "text": [
      " 17%|█▋        | 60/360 [13:06<2:16:21, 27.27s/it]"
     ]
    },
    {
     "name": "stdout",
     "output_type": "stream",
     "text": [
      "2021-05-06 09:39:20,773 - modnet - INFO - Preset #16 fitting finished, loss: 0.4634247124195099\n"
     ]
    },
    {
     "name": "stderr",
     "output_type": "stream",
     "text": [
      " 17%|█▋        | 61/360 [13:54<2:47:25, 33.60s/it]"
     ]
    },
    {
     "name": "stdout",
     "output_type": "stream",
     "text": [
      "2021-05-06 09:39:24,147 - modnet - INFO - Preset #14 fitting finished, loss: 0.4491332769393921\n"
     ]
    },
    {
     "name": "stderr",
     "output_type": "stream",
     "text": [
      " 17%|█▋        | 62/360 [13:58<2:02:03, 24.58s/it]"
     ]
    },
    {
     "name": "stdout",
     "output_type": "stream",
     "text": [
      "2021-05-06 09:40:25,331 - modnet - INFO - Preset #14 fitting finished, loss: 0.4471233129501343\n"
     ]
    },
    {
     "name": "stderr",
     "output_type": "stream",
     "text": [
      " 18%|█▊        | 63/360 [14:59<2:56:12, 35.60s/it]"
     ]
    },
    {
     "name": "stdout",
     "output_type": "stream",
     "text": [
      "2021-05-06 09:40:33,051 - modnet - INFO - Preset #12 fitting finished, loss: 0.4618316411972046\n"
     ]
    },
    {
     "name": "stderr",
     "output_type": "stream",
     "text": [
      " 18%|█▊        | 64/360 [15:06<2:13:48, 27.12s/it]"
     ]
    },
    {
     "name": "stdout",
     "output_type": "stream",
     "text": [
      "2021-05-06 09:40:50,911 - modnet - INFO - Preset #17 fitting finished, loss: 0.4771117985248566\n"
     ]
    },
    {
     "name": "stderr",
     "output_type": "stream",
     "text": [
      " 18%|█▊        | 65/360 [15:24<2:00:08, 24.43s/it]"
     ]
    },
    {
     "name": "stdout",
     "output_type": "stream",
     "text": [
      "2021-05-06 09:40:53,802 - modnet - INFO - Preset #16 fitting finished, loss: 0.4595849573612213\n"
     ]
    },
    {
     "name": "stderr",
     "output_type": "stream",
     "text": [
      " 18%|█▊        | 66/360 [15:27<1:27:46, 17.91s/it]"
     ]
    },
    {
     "name": "stdout",
     "output_type": "stream",
     "text": [
      "2021-05-06 09:41:12,737 - modnet - INFO - Preset #20 fitting finished, loss: 0.4260373830795288\n"
     ]
    },
    {
     "name": "stderr",
     "output_type": "stream",
     "text": [
      " 19%|█▊        | 67/360 [15:46<1:28:50, 18.19s/it]"
     ]
    },
    {
     "name": "stdout",
     "output_type": "stream",
     "text": [
      "2021-05-06 09:41:20,562 - modnet - INFO - Preset #12 fitting finished, loss: 0.5124857246875762\n"
     ]
    },
    {
     "name": "stderr",
     "output_type": "stream",
     "text": [
      " 19%|█▉        | 68/360 [15:54<1:13:20, 15.07s/it]"
     ]
    },
    {
     "name": "stdout",
     "output_type": "stream",
     "text": [
      "2021-05-06 09:42:09,019 - modnet - INFO - Preset #17 fitting finished, loss: 0.4401253581047058\n"
     ]
    },
    {
     "name": "stderr",
     "output_type": "stream",
     "text": [
      " 19%|█▉        | 69/360 [16:42<2:01:41, 25.09s/it]"
     ]
    },
    {
     "name": "stdout",
     "output_type": "stream",
     "text": [
      "2021-05-06 09:42:15,593 - modnet - INFO - Preset #12 fitting finished, loss: 0.4929173707962036\n"
     ]
    },
    {
     "name": "stderr",
     "output_type": "stream",
     "text": [
      " 19%|█▉        | 70/360 [16:49<1:34:27, 19.54s/it]"
     ]
    },
    {
     "name": "stdout",
     "output_type": "stream",
     "text": [
      "2021-05-06 09:42:21,832 - modnet - INFO - Preset #14 fitting finished, loss: 0.46855348944664\n"
     ]
    },
    {
     "name": "stderr",
     "output_type": "stream",
     "text": [
      " 20%|█▉        | 71/360 [16:55<1:14:53, 15.55s/it]"
     ]
    },
    {
     "name": "stdout",
     "output_type": "stream",
     "text": [
      "2021-05-06 09:42:25,082 - modnet - INFO - Preset #19 fitting finished, loss: 0.3977038741111755\n"
     ]
    },
    {
     "name": "stderr",
     "output_type": "stream",
     "text": [
      " 20%|██        | 72/360 [16:58<57:14, 11.93s/it]  "
     ]
    },
    {
     "name": "stdout",
     "output_type": "stream",
     "text": [
      "2021-05-06 09:42:30,384 - modnet - INFO - Preset #17 fitting finished, loss: 0.4343940258026123\n"
     ]
    },
    {
     "name": "stderr",
     "output_type": "stream",
     "text": [
      " 20%|██        | 73/360 [17:04<47:17,  9.89s/it]"
     ]
    },
    {
     "name": "stdout",
     "output_type": "stream",
     "text": [
      "2021-05-06 09:42:42,265 - modnet - INFO - Preset #14 fitting finished, loss: 0.4646621346473694\n"
     ]
    },
    {
     "name": "stderr",
     "output_type": "stream",
     "text": [
      " 21%|██        | 74/360 [17:15<49:52, 10.46s/it]"
     ]
    },
    {
     "name": "stdout",
     "output_type": "stream",
     "text": [
      "2021-05-06 09:42:43,927 - modnet - INFO - Preset #21 fitting finished, loss: 0.5238343775272369\n"
     ]
    },
    {
     "name": "stderr",
     "output_type": "stream",
     "text": [
      " 21%|██        | 75/360 [17:17<37:22,  7.87s/it]"
     ]
    },
    {
     "name": "stdout",
     "output_type": "stream",
     "text": [
      "2021-05-06 09:42:46,623 - modnet - INFO - Preset #15 fitting finished, loss: 0.48507431149482727\n"
     ]
    },
    {
     "name": "stderr",
     "output_type": "stream",
     "text": [
      " 21%|██        | 76/360 [17:20<29:42,  6.28s/it]"
     ]
    },
    {
     "name": "stdout",
     "output_type": "stream",
     "text": [
      "2021-05-06 09:42:54,005 - modnet - INFO - Preset #15 fitting finished, loss: 0.46943238377571106\n"
     ]
    },
    {
     "name": "stderr",
     "output_type": "stream",
     "text": [
      " 21%|██▏       | 77/360 [17:27<31:08,  6.60s/it]"
     ]
    },
    {
     "name": "stdout",
     "output_type": "stream",
     "text": [
      "2021-05-06 09:43:06,712 - modnet - INFO - Preset #16 fitting finished, loss: 0.4621424376964569\n"
     ]
    },
    {
     "name": "stderr",
     "output_type": "stream",
     "text": [
      " 22%|██▏       | 78/360 [17:40<39:40,  8.44s/it]"
     ]
    },
    {
     "name": "stdout",
     "output_type": "stream",
     "text": [
      "2021-05-06 09:43:09,373 - modnet - INFO - Preset #19 fitting finished, loss: 0.4621340334415436\n"
     ]
    },
    {
     "name": "stderr",
     "output_type": "stream",
     "text": [
      " 22%|██▏       | 79/360 [17:43<31:34,  6.74s/it]"
     ]
    },
    {
     "name": "stdout",
     "output_type": "stream",
     "text": [
      "2021-05-06 09:43:20,368 - modnet - INFO - Preset #14 fitting finished, loss: 0.45328900814056394\n"
     ]
    },
    {
     "name": "stderr",
     "output_type": "stream",
     "text": [
      " 22%|██▏       | 80/360 [17:54<37:17,  7.99s/it]"
     ]
    },
    {
     "name": "stdout",
     "output_type": "stream",
     "text": [
      "2021-05-06 09:43:23,468 - modnet - INFO - Preset #22 fitting finished, loss: 0.4778901219367981\n"
     ]
    },
    {
     "name": "stderr",
     "output_type": "stream",
     "text": [
      " 22%|██▎       | 81/360 [17:57<30:15,  6.51s/it]"
     ]
    },
    {
     "name": "stdout",
     "output_type": "stream",
     "text": [
      "2021-05-06 09:43:24,441 - modnet - INFO - Preset #21 fitting finished, loss: 0.4576226234436035\n"
     ]
    },
    {
     "name": "stderr",
     "output_type": "stream",
     "text": [
      " 23%|██▎       | 82/360 [17:58<22:27,  4.85s/it]"
     ]
    },
    {
     "name": "stdout",
     "output_type": "stream",
     "text": [
      "2021-05-06 09:43:56,944 - modnet - INFO - Preset #15 fitting finished, loss: 0.47182863354682925\n"
     ]
    },
    {
     "name": "stderr",
     "output_type": "stream",
     "text": [
      " 23%|██▎       | 83/360 [18:30<1:00:58, 13.21s/it]"
     ]
    },
    {
     "name": "stdout",
     "output_type": "stream",
     "text": [
      "2021-05-06 09:44:02,965 - modnet - INFO - Preset #20 fitting finished, loss: 0.4975464165210724\n"
     ]
    },
    {
     "name": "stderr",
     "output_type": "stream",
     "text": [
      " 23%|██▎       | 84/360 [18:36<50:33, 10.99s/it]  "
     ]
    },
    {
     "name": "stdout",
     "output_type": "stream",
     "text": [
      "2021-05-06 09:44:09,464 - modnet - INFO - Preset #17 fitting finished, loss: 0.4747688353061676\n"
     ]
    },
    {
     "name": "stderr",
     "output_type": "stream",
     "text": [
      " 24%|██▎       | 85/360 [18:43<44:19,  9.67s/it]"
     ]
    },
    {
     "name": "stdout",
     "output_type": "stream",
     "text": [
      "2021-05-06 09:44:18,104 - modnet - INFO - Preset #13 fitting finished, loss: 0.4663625180721283\n"
     ]
    },
    {
     "name": "stderr",
     "output_type": "stream",
     "text": [
      " 24%|██▍       | 86/360 [18:51<42:53,  9.39s/it]"
     ]
    },
    {
     "name": "stdout",
     "output_type": "stream",
     "text": [
      "2021-05-06 09:44:32,621 - modnet - INFO - Preset #13 fitting finished, loss: 0.45958973169326783\n"
     ]
    },
    {
     "name": "stderr",
     "output_type": "stream",
     "text": [
      " 24%|██▍       | 87/360 [19:06<49:26, 10.87s/it]"
     ]
    },
    {
     "name": "stdout",
     "output_type": "stream",
     "text": [
      "2021-05-06 09:44:35,480 - modnet - INFO - Preset #21 fitting finished, loss: 0.42619161009788514\n"
     ]
    },
    {
     "name": "stderr",
     "output_type": "stream",
     "text": [
      " 24%|██▍       | 88/360 [19:09<38:16,  8.44s/it]"
     ]
    },
    {
     "name": "stdout",
     "output_type": "stream",
     "text": [
      "2021-05-06 09:44:40,218 - modnet - INFO - Preset #19 fitting finished, loss: 0.4578662276268005\n"
     ]
    },
    {
     "name": "stderr",
     "output_type": "stream",
     "text": [
      " 25%|██▍       | 89/360 [19:14<33:27,  7.41s/it]"
     ]
    },
    {
     "name": "stdout",
     "output_type": "stream",
     "text": [
      "2021-05-06 09:44:42,379 - modnet - INFO - Preset #18 fitting finished, loss: 0.40344284772872924\n"
     ]
    },
    {
     "name": "stderr",
     "output_type": "stream",
     "text": [
      " 25%|██▌       | 90/360 [19:19<30:30,  6.78s/it]"
     ]
    },
    {
     "name": "stdout",
     "output_type": "stream",
     "text": [
      "2021-05-06 09:44:47,969 - modnet - INFO - Preset #18 fitting finished, loss: 0.4865783631801605\n"
     ]
    },
    {
     "name": "stderr",
     "output_type": "stream",
     "text": [
      " 25%|██▌       | 91/360 [19:21<24:32,  5.47s/it]"
     ]
    },
    {
     "name": "stdout",
     "output_type": "stream",
     "text": [
      "2021-05-06 09:44:49,118 - modnet - INFO - Preset #20 fitting finished, loss: 0.47561649680137635\n"
     ]
    },
    {
     "name": "stderr",
     "output_type": "stream",
     "text": [
      " 26%|██▌       | 92/360 [19:23<18:46,  4.20s/it]"
     ]
    },
    {
     "name": "stdout",
     "output_type": "stream",
     "text": [
      "2021-05-06 09:44:56,923 - modnet - INFO - Preset #19 fitting finished, loss: 0.4902607023715973\n"
     ]
    },
    {
     "name": "stderr",
     "output_type": "stream",
     "text": [
      " 26%|██▌       | 93/360 [19:30<23:24,  5.26s/it]"
     ]
    },
    {
     "name": "stdout",
     "output_type": "stream",
     "text": [
      "2021-05-06 09:44:59,259 - modnet - INFO - Preset #21 fitting finished, loss: 0.5050362706184387\n"
     ]
    },
    {
     "name": "stderr",
     "output_type": "stream",
     "text": [
      " 26%|██▌       | 94/360 [19:33<19:31,  4.41s/it]"
     ]
    },
    {
     "name": "stdout",
     "output_type": "stream",
     "text": [
      "2021-05-06 09:45:08,924 - modnet - INFO - Preset #15 fitting finished, loss: 0.43051061034202576\n"
     ]
    },
    {
     "name": "stderr",
     "output_type": "stream",
     "text": [
      " 26%|██▋       | 95/360 [19:42<26:01,  5.89s/it]"
     ]
    },
    {
     "name": "stdout",
     "output_type": "stream",
     "text": [
      "2021-05-06 09:45:15,541 - modnet - INFO - Preset #15 fitting finished, loss: 0.46517305374145507\n"
     ]
    },
    {
     "name": "stderr",
     "output_type": "stream",
     "text": [
      " 27%|██▋       | 96/360 [19:49<27:06,  6.16s/it]"
     ]
    },
    {
     "name": "stdout",
     "output_type": "stream",
     "text": [
      "2021-05-06 09:45:17,085 - modnet - INFO - Preset #18 fitting finished, loss: 0.3856074810028076\n"
     ]
    },
    {
     "name": "stderr",
     "output_type": "stream",
     "text": [
      " 27%|██▋       | 97/360 [19:51<21:12,  4.84s/it]"
     ]
    },
    {
     "name": "stdout",
     "output_type": "stream",
     "text": [
      "2021-05-06 09:45:24,537 - modnet - INFO - Preset #12 fitting finished, loss: 0.48850311040878297\n"
     ]
    },
    {
     "name": "stderr",
     "output_type": "stream",
     "text": [
      " 27%|██▋       | 98/360 [19:58<24:14,  5.55s/it]"
     ]
    },
    {
     "name": "stdout",
     "output_type": "stream",
     "text": [
      "2021-05-06 09:45:46,058 - modnet - INFO - Preset #16 fitting finished, loss: 0.44419294595718384\n"
     ]
    },
    {
     "name": "stderr",
     "output_type": "stream",
     "text": [
      " 28%|██▊       | 99/360 [20:19<45:05, 10.37s/it]"
     ]
    },
    {
     "name": "stdout",
     "output_type": "stream",
     "text": [
      "2021-05-06 09:45:48,737 - modnet - INFO - Preset #13 fitting finished, loss: 0.44861915707588196\n"
     ]
    },
    {
     "name": "stderr",
     "output_type": "stream",
     "text": [
      " 28%|██▊       | 100/360 [20:22<34:53,  8.05s/it]"
     ]
    },
    {
     "name": "stdout",
     "output_type": "stream",
     "text": [
      "2021-05-06 09:45:59,554 - modnet - INFO - Preset #22 fitting finished, loss: 0.45385944843292236\n"
     ]
    },
    {
     "name": "stderr",
     "output_type": "stream",
     "text": [
      " 28%|██▊       | 101/360 [20:33<38:43,  8.97s/it]"
     ]
    },
    {
     "name": "stdout",
     "output_type": "stream",
     "text": [
      "2021-05-06 09:46:09,604 - modnet - INFO - Preset #13 fitting finished, loss: 0.5192634880542755\n"
     ]
    },
    {
     "name": "stderr",
     "output_type": "stream",
     "text": [
      " 28%|██▊       | 102/360 [20:43<39:27,  9.18s/it]"
     ]
    },
    {
     "name": "stdout",
     "output_type": "stream",
     "text": [
      "2021-05-06 09:46:10,622 - modnet - INFO - Preset #12 fitting finished, loss: 0.4758955121040344\n"
     ]
    },
    {
     "name": "stderr",
     "output_type": "stream",
     "text": [
      " 29%|██▊       | 103/360 [20:44<29:11,  6.82s/it]"
     ]
    },
    {
     "name": "stdout",
     "output_type": "stream",
     "text": [
      "2021-05-06 09:46:14,002 - modnet - INFO - Preset #13 fitting finished, loss: 0.455826061964035\n"
     ]
    },
    {
     "name": "stderr",
     "output_type": "stream",
     "text": [
      " 29%|██▉       | 104/360 [20:47<24:21,  5.71s/it]"
     ]
    },
    {
     "name": "stdout",
     "output_type": "stream",
     "text": [
      "2021-05-06 09:46:44,844 - modnet - INFO - Preset #23 fitting finished, loss: 0.4304676175117493\n"
     ]
    },
    {
     "name": "stderr",
     "output_type": "stream",
     "text": [
      " 29%|██▉       | 105/360 [21:18<56:10, 13.22s/it]"
     ]
    },
    {
     "name": "stdout",
     "output_type": "stream",
     "text": [
      "2021-05-06 09:46:51,478 - modnet - INFO - Preset #23 fitting finished, loss: 0.5708970725536346\n"
     ]
    },
    {
     "name": "stderr",
     "output_type": "stream",
     "text": [
      " 29%|██▉       | 106/360 [21:25<47:56, 11.33s/it]"
     ]
    },
    {
     "name": "stdout",
     "output_type": "stream",
     "text": [
      "2021-05-06 09:46:53,142 - modnet - INFO - Preset #16 fitting finished, loss: 0.4599855840206146\n"
     ]
    },
    {
     "name": "stderr",
     "output_type": "stream",
     "text": [
      " 30%|██▉       | 107/360 [21:26<35:28,  8.41s/it]"
     ]
    },
    {
     "name": "stdout",
     "output_type": "stream",
     "text": [
      "2021-05-06 09:47:03,954 - modnet - INFO - Preset #20 fitting finished, loss: 0.434426474571228\n"
     ]
    },
    {
     "name": "stderr",
     "output_type": "stream",
     "text": [
      " 30%|███       | 108/360 [21:37<38:10,  9.09s/it]"
     ]
    },
    {
     "name": "stdout",
     "output_type": "stream",
     "text": [
      "2021-05-06 09:47:12,710 - modnet - INFO - Preset #17 fitting finished, loss: 0.470371401309967\n"
     ]
    },
    {
     "name": "stderr",
     "output_type": "stream",
     "text": [
      " 30%|███       | 109/360 [21:46<37:35,  8.99s/it]"
     ]
    },
    {
     "name": "stdout",
     "output_type": "stream",
     "text": [
      "2021-05-06 09:47:13,909 - modnet - INFO - Preset #18 fitting finished, loss: 0.4789897263050079\n"
     ]
    },
    {
     "name": "stderr",
     "output_type": "stream",
     "text": [
      " 31%|███       | 110/360 [21:47<27:46,  6.66s/it]"
     ]
    },
    {
     "name": "stdout",
     "output_type": "stream",
     "text": [
      "2021-05-06 09:47:41,495 - modnet - INFO - Preset #22 fitting finished, loss: 0.4370128631591797\n"
     ]
    },
    {
     "name": "stderr",
     "output_type": "stream",
     "text": [
      " 31%|███       | 111/360 [22:14<53:19, 12.85s/it]"
     ]
    },
    {
     "name": "stdout",
     "output_type": "stream",
     "text": [
      "2021-05-06 09:47:47,012 - modnet - INFO - Preset #22 fitting finished, loss: 0.4071365654468536\n"
     ]
    },
    {
     "name": "stderr",
     "output_type": "stream",
     "text": [
      " 31%|███       | 112/360 [22:20<44:03, 10.66s/it]"
     ]
    },
    {
     "name": "stdout",
     "output_type": "stream",
     "text": [
      "2021-05-06 09:48:12,146 - modnet - INFO - Preset #20 fitting finished, loss: 0.414572936296463\n"
     ]
    },
    {
     "name": "stderr",
     "output_type": "stream",
     "text": [
      " 31%|███▏      | 113/360 [22:45<1:01:56, 15.05s/it]"
     ]
    },
    {
     "name": "stdout",
     "output_type": "stream",
     "text": [
      "2021-05-06 09:48:45,703 - modnet - INFO - Preset #19 fitting finished, loss: 0.40350183844566345\n"
     ]
    },
    {
     "name": "stderr",
     "output_type": "stream",
     "text": [
      " 32%|███▏      | 114/360 [23:19<1:24:19, 20.57s/it]"
     ]
    },
    {
     "name": "stdout",
     "output_type": "stream",
     "text": [
      "2021-05-06 09:49:11,037 - modnet - INFO - Preset #21 fitting finished, loss: 0.39011183977127073\n"
     ]
    },
    {
     "name": "stderr",
     "output_type": "stream",
     "text": [
      " 32%|███▏      | 115/360 [23:44<1:29:55, 22.02s/it]"
     ]
    },
    {
     "name": "stdout",
     "output_type": "stream",
     "text": [
      "2021-05-06 09:49:19,282 - modnet - INFO - Preset #23 fitting finished, loss: 0.38345990180969236\n"
     ]
    },
    {
     "name": "stderr",
     "output_type": "stream",
     "text": [
      " 32%|███▏      | 116/360 [23:52<1:12:48, 17.90s/it]"
     ]
    },
    {
     "name": "stdout",
     "output_type": "stream",
     "text": [
      "2021-05-06 09:49:34,519 - modnet - INFO - Preset #23 fitting finished, loss: 0.4878552913665771\n"
     ]
    },
    {
     "name": "stderr",
     "output_type": "stream",
     "text": [
      " 32%|███▎      | 117/360 [24:07<1:08:59, 17.03s/it]"
     ]
    },
    {
     "name": "stdout",
     "output_type": "stream",
     "text": [
      "2021-05-06 09:49:37,097 - modnet - INFO - Preset #22 fitting finished, loss: 0.49573856592178345\n"
     ]
    },
    {
     "name": "stderr",
     "output_type": "stream",
     "text": [
      " 33%|███▎      | 118/360 [24:10<51:06, 12.67s/it]  "
     ]
    },
    {
     "name": "stdout",
     "output_type": "stream",
     "text": [
      "2021-05-06 09:49:47,056 - modnet - INFO - Preset #18 fitting finished, loss: 0.46555999517440794\n"
     ]
    },
    {
     "name": "stderr",
     "output_type": "stream",
     "text": [
      " 33%|███▎      | 119/360 [24:20<47:48, 11.90s/it]"
     ]
    },
    {
     "name": "stdout",
     "output_type": "stream",
     "text": [
      "2021-05-06 09:49:48,576 - modnet - INFO - Preset #23 fitting finished, loss: 0.4151947021484375\n"
     ]
    },
    {
     "name": "stderr",
     "output_type": "stream",
     "text": [
      " 33%|███▎      | 120/360 [24:22<35:23,  8.85s/it]"
     ]
    },
    {
     "name": "stdout",
     "output_type": "stream",
     "text": [
      "2021-05-06 09:50:15,135 - modnet - INFO - Preset #26 fitting finished, loss: 0.47864089608192445\n"
     ]
    },
    {
     "name": "stderr",
     "output_type": "stream",
     "text": [
      " 34%|███▎      | 121/360 [24:48<56:12, 14.11s/it]"
     ]
    },
    {
     "name": "stdout",
     "output_type": "stream",
     "text": [
      "2021-05-06 09:50:50,640 - modnet - INFO - Preset #25 fitting finished, loss: 0.4846479058265686\n"
     ]
    },
    {
     "name": "stderr",
     "output_type": "stream",
     "text": [
      " 34%|███▍      | 122/360 [25:23<1:21:06, 20.45s/it]"
     ]
    },
    {
     "name": "stdout",
     "output_type": "stream",
     "text": [
      "2021-05-06 09:50:53,987 - modnet - INFO - Preset #25 fitting finished, loss: 0.47179620862007143\n"
     ]
    },
    {
     "name": "stderr",
     "output_type": "stream",
     "text": [
      " 34%|███▍      | 123/360 [25:27<1:00:27, 15.31s/it]"
     ]
    },
    {
     "name": "stdout",
     "output_type": "stream",
     "text": [
      "2021-05-06 09:51:04,406 - modnet - INFO - Preset #28 fitting finished, loss: 0.5702365398406982\n"
     ]
    },
    {
     "name": "stderr",
     "output_type": "stream",
     "text": [
      " 34%|███▍      | 124/360 [25:37<54:42, 13.91s/it]  "
     ]
    },
    {
     "name": "stdout",
     "output_type": "stream",
     "text": [
      "2021-05-06 09:51:05,177 - modnet - INFO - Preset #24 fitting finished, loss: 0.4244050204753876\n"
     ]
    },
    {
     "name": "stderr",
     "output_type": "stream",
     "text": [
      " 35%|███▍      | 125/360 [25:38<39:12, 10.01s/it]"
     ]
    },
    {
     "name": "stdout",
     "output_type": "stream",
     "text": [
      "2021-05-06 09:51:07,654 - modnet - INFO - Preset #24 fitting finished, loss: 0.47704296112060546\n"
     ]
    },
    {
     "name": "stderr",
     "output_type": "stream",
     "text": [
      " 35%|███▌      | 126/360 [25:41<29:59,  7.69s/it]"
     ]
    },
    {
     "name": "stdout",
     "output_type": "stream",
     "text": [
      "2021-05-06 09:51:16,292 - modnet - INFO - Preset #27 fitting finished, loss: 0.44818689227104186\n"
     ]
    },
    {
     "name": "stderr",
     "output_type": "stream",
     "text": [
      " 35%|███▌      | 127/360 [25:49<30:51,  7.95s/it]"
     ]
    },
    {
     "name": "stdout",
     "output_type": "stream",
     "text": [
      "2021-05-06 09:51:21,823 - modnet - INFO - Preset #27 fitting finished, loss: 0.3936802089214325\n"
     ]
    },
    {
     "name": "stderr",
     "output_type": "stream",
     "text": [
      " 36%|███▌      | 128/360 [25:55<28:04,  7.26s/it]"
     ]
    },
    {
     "name": "stdout",
     "output_type": "stream",
     "text": [
      "2021-05-06 09:51:44,637 - modnet - INFO - Preset #27 fitting finished, loss: 0.5081620872020721\n"
     ]
    },
    {
     "name": "stderr",
     "output_type": "stream",
     "text": [
      " 36%|███▌      | 129/360 [26:18<45:59, 11.95s/it]"
     ]
    },
    {
     "name": "stdout",
     "output_type": "stream",
     "text": [
      "2021-05-06 09:51:47,644 - modnet - INFO - Preset #29 fitting finished, loss: 0.5146834194660187\n"
     ]
    },
    {
     "name": "stderr",
     "output_type": "stream",
     "text": [
      " 36%|███▌      | 130/360 [26:21<35:35,  9.29s/it]"
     ]
    },
    {
     "name": "stdout",
     "output_type": "stream",
     "text": [
      "2021-05-06 09:51:56,733 - modnet - INFO - Preset #24 fitting finished, loss: 0.40809435248374937\n"
     ]
    },
    {
     "name": "stderr",
     "output_type": "stream",
     "text": [
      " 36%|███▋      | 131/360 [26:30<35:14,  9.24s/it]"
     ]
    },
    {
     "name": "stdout",
     "output_type": "stream",
     "text": [
      "2021-05-06 09:51:59,116 - modnet - INFO - Preset #27 fitting finished, loss: 0.40526222586631777\n"
     ]
    },
    {
     "name": "stderr",
     "output_type": "stream",
     "text": [
      " 37%|███▋      | 132/360 [26:32<27:08,  7.14s/it]"
     ]
    },
    {
     "name": "stdout",
     "output_type": "stream",
     "text": [
      "2021-05-06 09:52:02,207 - modnet - INFO - Preset #24 fitting finished, loss: 0.4893138587474823\n"
     ]
    },
    {
     "name": "stderr",
     "output_type": "stream",
     "text": [
      " 37%|███▋      | 133/360 [26:35<22:26,  5.93s/it]"
     ]
    },
    {
     "name": "stdout",
     "output_type": "stream",
     "text": [
      "2021-05-06 09:52:05,004 - modnet - INFO - Preset #26 fitting finished, loss: 0.44806146025657656\n"
     ]
    },
    {
     "name": "stderr",
     "output_type": "stream",
     "text": [
      " 37%|███▋      | 134/360 [26:38<18:52,  5.01s/it]"
     ]
    },
    {
     "name": "stdout",
     "output_type": "stream",
     "text": [
      "2021-05-06 09:52:19,199 - modnet - INFO - Preset #25 fitting finished, loss: 0.3931936740875244\n"
     ]
    },
    {
     "name": "stderr",
     "output_type": "stream",
     "text": [
      " 38%|███▊      | 135/360 [26:53<29:44,  7.93s/it]"
     ]
    },
    {
     "name": "stdout",
     "output_type": "stream",
     "text": [
      "2021-05-06 09:52:24,992 - modnet - INFO - Preset #28 fitting finished, loss: 0.3992044448852539\n"
     ]
    },
    {
     "name": "stderr",
     "output_type": "stream",
     "text": [
      " 38%|███▊      | 136/360 [26:58<27:01,  7.24s/it]"
     ]
    },
    {
     "name": "stdout",
     "output_type": "stream",
     "text": [
      "2021-05-06 09:52:26,228 - modnet - INFO - Preset #29 fitting finished, loss: 0.5065468370914459\n"
     ]
    },
    {
     "name": "stderr",
     "output_type": "stream",
     "text": [
      " 38%|███▊      | 137/360 [27:00<20:24,  5.49s/it]"
     ]
    },
    {
     "name": "stdout",
     "output_type": "stream",
     "text": [
      "2021-05-06 09:52:47,121 - modnet - INFO - Preset #29 fitting finished, loss: 0.40799925923347474\n"
     ]
    },
    {
     "name": "stderr",
     "output_type": "stream",
     "text": [
      " 38%|███▊      | 138/360 [27:20<37:09, 10.04s/it]"
     ]
    },
    {
     "name": "stdout",
     "output_type": "stream",
     "text": [
      "2021-05-06 09:53:15,517 - modnet - INFO - Preset #29 fitting finished, loss: 0.5134895741939545\n"
     ]
    },
    {
     "name": "stderr",
     "output_type": "stream",
     "text": [
      " 39%|███▊      | 139/360 [27:49<57:18, 15.56s/it]"
     ]
    },
    {
     "name": "stdout",
     "output_type": "stream",
     "text": [
      "2021-05-06 09:53:22,626 - modnet - INFO - Preset #26 fitting finished, loss: 0.4127225041389465\n"
     ]
    },
    {
     "name": "stderr",
     "output_type": "stream",
     "text": [
      " 39%|███▉      | 140/360 [27:56<47:39, 13.00s/it]"
     ]
    },
    {
     "name": "stdout",
     "output_type": "stream",
     "text": [
      "2021-05-06 09:53:37,662 - modnet - INFO - Preset #27 fitting finished, loss: 0.4359335422515869\n"
     ]
    },
    {
     "name": "stderr",
     "output_type": "stream",
     "text": [
      " 39%|███▉      | 141/360 [28:11<49:23, 13.53s/it]"
     ]
    },
    {
     "name": "stdout",
     "output_type": "stream",
     "text": [
      "2021-05-06 09:53:45,263 - modnet - INFO - Preset #29 fitting finished, loss: 0.44989903569221495\n"
     ]
    },
    {
     "name": "stderr",
     "output_type": "stream",
     "text": [
      " 39%|███▉      | 142/360 [28:18<42:40, 11.75s/it]"
     ]
    },
    {
     "name": "stdout",
     "output_type": "stream",
     "text": [
      "2021-05-06 09:54:06,161 - modnet - INFO - Preset #26 fitting finished, loss: 0.38010126948356626\n"
     ]
    },
    {
     "name": "stderr",
     "output_type": "stream",
     "text": [
      " 40%|███▉      | 143/360 [28:39<52:25, 14.50s/it]"
     ]
    },
    {
     "name": "stdout",
     "output_type": "stream",
     "text": [
      "2021-05-06 09:54:07,037 - modnet - INFO - Preset #32 fitting finished, loss: 0.5015160202980041\n"
     ]
    },
    {
     "name": "stderr",
     "output_type": "stream",
     "text": [
      " 40%|████      | 144/360 [28:40<37:32, 10.43s/it]"
     ]
    },
    {
     "name": "stdout",
     "output_type": "stream",
     "text": [
      "2021-05-06 09:54:09,928 - modnet - INFO - Preset #25 fitting finished, loss: 0.4501516163349152\n"
     ]
    },
    {
     "name": "stderr",
     "output_type": "stream",
     "text": [
      " 40%|████      | 145/360 [28:43<29:19,  8.18s/it]"
     ]
    },
    {
     "name": "stdout",
     "output_type": "stream",
     "text": [
      "2021-05-06 09:54:30,740 - modnet - INFO - Preset #25 fitting finished, loss: 0.4059471845626831\n"
     ]
    },
    {
     "name": "stderr",
     "output_type": "stream",
     "text": [
      " 41%|████      | 146/360 [29:04<42:35, 11.94s/it]"
     ]
    },
    {
     "name": "stdout",
     "output_type": "stream",
     "text": [
      "2021-05-06 09:54:35,645 - modnet - INFO - Preset #34 fitting finished, loss: 0.4130884885787964\n"
     ]
    },
    {
     "name": "stderr",
     "output_type": "stream",
     "text": [
      " 41%|████      | 147/360 [29:09<34:55,  9.84s/it]"
     ]
    },
    {
     "name": "stdout",
     "output_type": "stream",
     "text": [
      "2021-05-06 09:55:09,508 - modnet - INFO - Preset #26 fitting finished, loss: 0.4444373369216919\n"
     ]
    },
    {
     "name": "stderr",
     "output_type": "stream",
     "text": [
      " 41%|████      | 148/360 [29:43<1:00:17, 17.06s/it]"
     ]
    },
    {
     "name": "stdout",
     "output_type": "stream",
     "text": [
      "2021-05-06 09:55:12,152 - modnet - INFO - Preset #24 fitting finished, loss: 0.4621859312057495\n"
     ]
    },
    {
     "name": "stderr",
     "output_type": "stream",
     "text": [
      " 41%|████▏     | 149/360 [29:45<44:51, 12.75s/it]  "
     ]
    },
    {
     "name": "stdout",
     "output_type": "stream",
     "text": [
      "2021-05-06 09:55:30,985 - modnet - INFO - Preset #33 fitting finished, loss: 0.4008071839809418\n"
     ]
    },
    {
     "name": "stderr",
     "output_type": "stream",
     "text": [
      " 42%|████▏     | 150/360 [30:04<50:42, 14.49s/it]"
     ]
    },
    {
     "name": "stdout",
     "output_type": "stream",
     "text": [
      "2021-05-06 09:56:00,180 - modnet - INFO - Preset #28 fitting finished, loss: 0.47339940071105957\n"
     ]
    },
    {
     "name": "stderr",
     "output_type": "stream",
     "text": [
      " 42%|████▏     | 151/360 [30:33<1:05:46, 18.88s/it]"
     ]
    },
    {
     "name": "stdout",
     "output_type": "stream",
     "text": [
      "2021-05-06 09:56:05,710 - modnet - INFO - Preset #35 fitting finished, loss: 0.4544193744659424\n"
     ]
    },
    {
     "name": "stderr",
     "output_type": "stream",
     "text": [
      " 42%|████▏     | 152/360 [30:39<51:40, 14.91s/it]  "
     ]
    },
    {
     "name": "stdout",
     "output_type": "stream",
     "text": [
      "2021-05-06 09:56:34,850 - modnet - INFO - Preset #33 fitting finished, loss: 0.4039930462837219\n"
     ]
    },
    {
     "name": "stderr",
     "output_type": "stream",
     "text": [
      " 42%|████▎     | 153/360 [31:08<1:06:11, 19.18s/it]"
     ]
    },
    {
     "name": "stdout",
     "output_type": "stream",
     "text": [
      "2021-05-06 09:56:38,429 - modnet - INFO - Preset #32 fitting finished, loss: 0.39428247809410094\n"
     ]
    },
    {
     "name": "stderr",
     "output_type": "stream",
     "text": [
      " 43%|████▎     | 154/360 [31:12<49:56, 14.55s/it]  "
     ]
    },
    {
     "name": "stdout",
     "output_type": "stream",
     "text": [
      "2021-05-06 09:56:53,836 - modnet - INFO - Preset #33 fitting finished, loss: 0.46118220686912537\n"
     ]
    },
    {
     "name": "stderr",
     "output_type": "stream",
     "text": [
      " 43%|████▎     | 155/360 [31:27<50:23, 14.75s/it]"
     ]
    },
    {
     "name": "stdout",
     "output_type": "stream",
     "text": [
      "2021-05-06 09:57:18,377 - modnet - INFO - Preset #40 fitting finished, loss: 0.782877939939499\n"
     ]
    },
    {
     "name": "stderr",
     "output_type": "stream",
     "text": [
      " 43%|████▎     | 156/360 [31:52<1:00:29, 17.79s/it]"
     ]
    },
    {
     "name": "stdout",
     "output_type": "stream",
     "text": [
      "2021-05-06 09:57:22,284 - modnet - INFO - Preset #30 fitting finished, loss: 0.4924753665924072\n"
     ]
    },
    {
     "name": "stderr",
     "output_type": "stream",
     "text": [
      " 44%|████▎     | 157/360 [31:55<45:50, 13.55s/it]  "
     ]
    },
    {
     "name": "stdout",
     "output_type": "stream",
     "text": [
      "2021-05-06 09:57:26,651 - modnet - INFO - Preset #28 fitting finished, loss: 0.4929138123989105\n"
     ]
    },
    {
     "name": "stderr",
     "output_type": "stream",
     "text": [
      " 44%|████▍     | 158/360 [32:00<36:24, 10.81s/it]"
     ]
    },
    {
     "name": "stdout",
     "output_type": "stream",
     "text": [
      "2021-05-06 09:57:43,298 - modnet - INFO - Preset #34 fitting finished, loss: 0.46025938391685484\n"
     ]
    },
    {
     "name": "stderr",
     "output_type": "stream",
     "text": [
      " 44%|████▍     | 159/360 [32:16<42:11, 12.59s/it]"
     ]
    },
    {
     "name": "stdout",
     "output_type": "stream",
     "text": [
      "2021-05-06 09:57:47,072 - modnet - INFO - Preset #32 fitting finished, loss: 0.4020360052585602\n"
     ]
    },
    {
     "name": "stderr",
     "output_type": "stream",
     "text": [
      " 44%|████▍     | 160/360 [32:20<33:03,  9.92s/it]"
     ]
    },
    {
     "name": "stdout",
     "output_type": "stream",
     "text": [
      "2021-05-06 09:58:06,902 - modnet - INFO - Preset #30 fitting finished, loss: 0.4140428721904755\n"
     ]
    },
    {
     "name": "stderr",
     "output_type": "stream",
     "text": [
      " 45%|████▍     | 161/360 [32:40<42:42, 12.88s/it]"
     ]
    },
    {
     "name": "stdout",
     "output_type": "stream",
     "text": [
      "2021-05-06 09:58:28,716 - modnet - INFO - Preset #34 fitting finished, loss: 0.4534517765045166\n"
     ]
    },
    {
     "name": "stderr",
     "output_type": "stream",
     "text": [
      " 45%|████▌     | 162/360 [33:02<51:16, 15.54s/it]"
     ]
    },
    {
     "name": "stdout",
     "output_type": "stream",
     "text": [
      "2021-05-06 09:58:56,016 - modnet - INFO - Preset #33 fitting finished, loss: 0.4558453023433685\n"
     ]
    },
    {
     "name": "stderr",
     "output_type": "stream",
     "text": [
      " 45%|████▌     | 163/360 [33:29<1:02:45, 19.11s/it]"
     ]
    },
    {
     "name": "stdout",
     "output_type": "stream",
     "text": [
      "2021-05-06 09:59:08,418 - modnet - INFO - Preset #32 fitting finished, loss: 0.4596859455108643\n"
     ]
    },
    {
     "name": "stderr",
     "output_type": "stream",
     "text": [
      " 46%|████▌     | 164/360 [33:41<55:50, 17.09s/it]  "
     ]
    },
    {
     "name": "stdout",
     "output_type": "stream",
     "text": [
      "2021-05-06 09:59:10,567 - modnet - INFO - Preset #33 fitting finished, loss: 0.498070752620697\n"
     ]
    },
    {
     "name": "stderr",
     "output_type": "stream",
     "text": [
      " 46%|████▌     | 165/360 [33:44<41:00, 12.62s/it]"
     ]
    },
    {
     "name": "stdout",
     "output_type": "stream",
     "text": [
      "2021-05-06 09:59:17,117 - modnet - INFO - Preset #30 fitting finished, loss: 0.48381437063217164\n"
     ]
    },
    {
     "name": "stderr",
     "output_type": "stream",
     "text": [
      " 46%|████▌     | 166/360 [33:50<34:47, 10.76s/it]"
     ]
    },
    {
     "name": "stdout",
     "output_type": "stream",
     "text": [
      "2021-05-06 09:59:24,239 - modnet - INFO - Preset #34 fitting finished, loss: 0.49553436040878296\n"
     ]
    },
    {
     "name": "stderr",
     "output_type": "stream",
     "text": [
      " 46%|████▋     | 167/360 [33:57<31:19,  9.74s/it]"
     ]
    },
    {
     "name": "stdout",
     "output_type": "stream",
     "text": [
      "2021-05-06 09:59:31,737 - modnet - INFO - Preset #30 fitting finished, loss: 0.4035984992980957\n"
     ]
    },
    {
     "name": "stderr",
     "output_type": "stream",
     "text": [
      " 47%|████▋     | 168/360 [34:05<28:50,  9.01s/it]"
     ]
    },
    {
     "name": "stdout",
     "output_type": "stream",
     "text": [
      "2021-05-06 09:59:34,942 - modnet - INFO - Preset #36 fitting finished, loss: 202.57198486328124\n"
     ]
    },
    {
     "name": "stderr",
     "output_type": "stream",
     "text": [
      " 47%|████▋     | 169/360 [34:08<23:14,  7.30s/it]"
     ]
    },
    {
     "name": "stdout",
     "output_type": "stream",
     "text": [
      "2021-05-06 09:59:43,701 - modnet - INFO - Preset #34 fitting finished, loss: 0.412810617685318\n"
     ]
    },
    {
     "name": "stderr",
     "output_type": "stream",
     "text": [
      " 47%|████▋     | 170/360 [34:21<28:03,  8.86s/it]"
     ]
    },
    {
     "name": "stdout",
     "output_type": "stream",
     "text": [
      "2021-05-06 09:59:48,420 - modnet - INFO - Preset #35 fitting finished, loss: 0.41254347562789917\n"
     ]
    },
    {
     "name": "stderr",
     "output_type": "stream",
     "text": [
      " 48%|████▊     | 171/360 [34:22<20:25,  6.48s/it]"
     ]
    },
    {
     "name": "stdout",
     "output_type": "stream",
     "text": [
      "2021-05-06 09:59:49,358 - modnet - INFO - Preset #28 fitting finished, loss: 0.44188579320907595\n"
     ]
    },
    {
     "name": "stderr",
     "output_type": "stream",
     "text": [
      " 48%|████▊     | 172/360 [34:22<14:57,  4.78s/it]"
     ]
    },
    {
     "name": "stdout",
     "output_type": "stream",
     "text": [
      "2021-05-06 09:59:52,648 - modnet - INFO - Preset #35 fitting finished, loss: 0.45434016585350034\n"
     ]
    },
    {
     "name": "stderr",
     "output_type": "stream",
     "text": [
      " 48%|████▊     | 173/360 [34:26<13:38,  4.38s/it]"
     ]
    },
    {
     "name": "stdout",
     "output_type": "stream",
     "text": [
      "2021-05-06 09:59:53,611 - modnet - INFO - Preset #35 fitting finished, loss: 0.5247514188289643\n"
     ]
    },
    {
     "name": "stderr",
     "output_type": "stream",
     "text": [
      " 48%|████▊     | 174/360 [34:27<10:23,  3.35s/it]"
     ]
    },
    {
     "name": "stdout",
     "output_type": "stream",
     "text": [
      "2021-05-06 09:59:56,605 - modnet - INFO - Preset #32 fitting finished, loss: 0.4429361641407013\n"
     ]
    },
    {
     "name": "stderr",
     "output_type": "stream",
     "text": [
      " 49%|████▊     | 175/360 [34:30<09:49,  3.19s/it]"
     ]
    },
    {
     "name": "stdout",
     "output_type": "stream",
     "text": [
      "2021-05-06 10:00:01,523 - modnet - INFO - Preset #35 fitting finished, loss: 0.4513131618499756\n"
     ]
    },
    {
     "name": "stderr",
     "output_type": "stream",
     "text": [
      " 49%|████▉     | 176/360 [34:34<11:22,  3.71s/it]"
     ]
    },
    {
     "name": "stdout",
     "output_type": "stream",
     "text": [
      "2021-05-06 10:00:15,585 - modnet - INFO - Preset #31 fitting finished, loss: 0.47550209164619445\n"
     ]
    },
    {
     "name": "stderr",
     "output_type": "stream",
     "text": [
      " 49%|████▉     | 177/360 [34:49<20:55,  6.86s/it]"
     ]
    },
    {
     "name": "stdout",
     "output_type": "stream",
     "text": [
      "2021-05-06 10:00:22,512 - modnet - INFO - Preset #41 fitting finished, loss: 0.9097844541072846\n"
     ]
    },
    {
     "name": "stderr",
     "output_type": "stream",
     "text": [
      " 49%|████▉     | 178/360 [34:56<20:49,  6.87s/it]"
     ]
    },
    {
     "name": "stdout",
     "output_type": "stream",
     "text": [
      "2021-05-06 10:00:33,666 - modnet - INFO - Preset #40 fitting finished, loss: 0.7163902759552002\n"
     ]
    },
    {
     "name": "stderr",
     "output_type": "stream",
     "text": [
      " 50%|████▉     | 179/360 [35:07<24:28,  8.11s/it]"
     ]
    },
    {
     "name": "stdout",
     "output_type": "stream",
     "text": [
      "2021-05-06 10:00:59,436 - modnet - INFO - Preset #31 fitting finished, loss: 0.40660216808319094\n"
     ]
    },
    {
     "name": "stderr",
     "output_type": "stream",
     "text": [
      " 50%|█████     | 180/360 [35:32<40:15, 13.42s/it]"
     ]
    },
    {
     "name": "stdout",
     "output_type": "stream",
     "text": [
      "2021-05-06 10:01:02,425 - modnet - INFO - Preset #37 fitting finished, loss: 0.36525624990463257\n"
     ]
    },
    {
     "name": "stderr",
     "output_type": "stream",
     "text": [
      " 50%|█████     | 181/360 [35:35<30:39, 10.28s/it]"
     ]
    },
    {
     "name": "stdout",
     "output_type": "stream",
     "text": [
      "2021-05-06 10:01:12,400 - modnet - INFO - Preset #31 fitting finished, loss: 0.48152209520339967\n"
     ]
    },
    {
     "name": "stderr",
     "output_type": "stream",
     "text": [
      " 51%|█████     | 182/360 [35:45<30:10, 10.17s/it]"
     ]
    },
    {
     "name": "stdout",
     "output_type": "stream",
     "text": [
      "2021-05-06 10:01:25,586 - modnet - INFO - Preset #37 fitting finished, loss: 0.3721172153949738\n"
     ]
    },
    {
     "name": "stderr",
     "output_type": "stream",
     "text": [
      " 51%|█████     | 183/360 [35:59<32:55, 11.16s/it]"
     ]
    },
    {
     "name": "stdout",
     "output_type": "stream",
     "text": [
      "2021-05-06 10:02:09,484 - modnet - INFO - Preset #41 fitting finished, loss: 0.6215132594108581\n"
     ]
    },
    {
     "name": "stderr",
     "output_type": "stream",
     "text": [
      " 51%|█████     | 184/360 [36:43<1:01:32, 20.98s/it]"
     ]
    },
    {
     "name": "stdout",
     "output_type": "stream",
     "text": [
      "2021-05-06 10:02:28,852 - modnet - INFO - Preset #31 fitting finished, loss: 0.5073993861675262\n"
     ]
    },
    {
     "name": "stderr",
     "output_type": "stream",
     "text": [
      " 51%|█████▏    | 185/360 [37:02<59:52, 20.53s/it]  "
     ]
    },
    {
     "name": "stdout",
     "output_type": "stream",
     "text": [
      "2021-05-06 10:02:29,944 - modnet - INFO - Preset #39 fitting finished, loss: 0.4698158264160156\n"
     ]
    },
    {
     "name": "stderr",
     "output_type": "stream",
     "text": [
      " 52%|█████▏    | 186/360 [37:03<42:33, 14.68s/it]"
     ]
    },
    {
     "name": "stdout",
     "output_type": "stream",
     "text": [
      "2021-05-06 10:02:36,943 - modnet - INFO - Preset #36 fitting finished, loss: 0.377599310874939\n"
     ]
    },
    {
     "name": "stderr",
     "output_type": "stream",
     "text": [
      " 52%|█████▏    | 187/360 [37:10<35:34, 12.34s/it]"
     ]
    },
    {
     "name": "stdout",
     "output_type": "stream",
     "text": [
      "2021-05-06 10:02:41,959 - modnet - INFO - Preset #41 fitting finished, loss: 0.5256347000598908\n"
     ]
    },
    {
     "name": "stderr",
     "output_type": "stream",
     "text": [
      " 52%|█████▏    | 188/360 [37:15<29:15, 10.21s/it]"
     ]
    },
    {
     "name": "stdout",
     "output_type": "stream",
     "text": [
      "2021-05-06 10:02:57,250 - modnet - INFO - Preset #41 fitting finished, loss: 0.5794946074485778\n"
     ]
    },
    {
     "name": "stderr",
     "output_type": "stream",
     "text": [
      " 52%|█████▎    | 189/360 [37:30<33:18, 11.69s/it]"
     ]
    },
    {
     "name": "stdout",
     "output_type": "stream",
     "text": [
      "2021-05-06 10:03:10,636 - modnet - INFO - Preset #37 fitting finished, loss: 0.44931416511535643\n"
     ]
    },
    {
     "name": "stderr",
     "output_type": "stream",
     "text": [
      " 53%|█████▎    | 190/360 [37:44<34:38, 12.23s/it]"
     ]
    },
    {
     "name": "stdout",
     "output_type": "stream",
     "text": [
      "2021-05-06 10:03:22,616 - modnet - INFO - Preset #31 fitting finished, loss: 0.42997831106185913\n"
     ]
    },
    {
     "name": "stderr",
     "output_type": "stream",
     "text": [
      " 53%|█████▎    | 191/360 [37:56<33:59, 12.07s/it]"
     ]
    },
    {
     "name": "stdout",
     "output_type": "stream",
     "text": [
      "2021-05-06 10:03:56,491 - modnet - INFO - Preset #39 fitting finished, loss: 0.5081331968307495\n"
     ]
    },
    {
     "name": "stderr",
     "output_type": "stream",
     "text": [
      " 53%|█████▎    | 192/360 [38:29<52:06, 18.61s/it]"
     ]
    },
    {
     "name": "stdout",
     "output_type": "stream",
     "text": [
      "2021-05-06 10:04:05,905 - modnet - INFO - Preset #46 fitting finished, loss: 0.9204799354076385\n"
     ]
    },
    {
     "name": "stderr",
     "output_type": "stream",
     "text": [
      " 54%|█████▎    | 193/360 [38:39<44:14, 15.89s/it]"
     ]
    },
    {
     "name": "stdout",
     "output_type": "stream",
     "text": [
      "2021-05-06 10:04:08,071 - modnet - INFO - Preset #43 fitting finished, loss: 0.4402543306350708\n"
     ]
    },
    {
     "name": "stderr",
     "output_type": "stream",
     "text": [
      " 54%|█████▍    | 194/360 [38:41<32:24, 11.71s/it]"
     ]
    },
    {
     "name": "stdout",
     "output_type": "stream",
     "text": [
      "2021-05-06 10:04:23,403 - modnet - INFO - Preset #30 fitting finished, loss: 0.4870293915271759\n"
     ]
    },
    {
     "name": "stderr",
     "output_type": "stream",
     "text": [
      " 54%|█████▍    | 195/360 [38:56<35:15, 12.82s/it]"
     ]
    },
    {
     "name": "stdout",
     "output_type": "stream",
     "text": [
      "2021-05-06 10:04:25,153 - modnet - INFO - Preset #40 fitting finished, loss: 15506.712451171876\n"
     ]
    },
    {
     "name": "stderr",
     "output_type": "stream",
     "text": [
      " 54%|█████▍    | 196/360 [38:58<26:13,  9.59s/it]"
     ]
    },
    {
     "name": "stdout",
     "output_type": "stream",
     "text": [
      "2021-05-06 10:04:43,185 - modnet - INFO - Preset #38 fitting finished, loss: 0.45872717499732973\n"
     ]
    },
    {
     "name": "stderr",
     "output_type": "stream",
     "text": [
      " 55%|█████▍    | 197/360 [39:16<32:51, 12.09s/it]"
     ]
    },
    {
     "name": "stdout",
     "output_type": "stream",
     "text": [
      "2021-05-06 10:04:57,051 - modnet - INFO - Preset #38 fitting finished, loss: 0.37253915071487426\n"
     ]
    },
    {
     "name": "stderr",
     "output_type": "stream",
     "text": [
      " 55%|█████▌    | 198/360 [39:30<34:16, 12.69s/it]"
     ]
    },
    {
     "name": "stdout",
     "output_type": "stream",
     "text": [
      "2021-05-06 10:05:03,473 - modnet - INFO - Preset #39 fitting finished, loss: 0.49423688650131226\n"
     ]
    },
    {
     "name": "stderr",
     "output_type": "stream",
     "text": [
      " 55%|█████▌    | 199/360 [39:37<29:03, 10.83s/it]"
     ]
    },
    {
     "name": "stdout",
     "output_type": "stream",
     "text": [
      "2021-05-06 10:05:09,522 - modnet - INFO - Preset #42 fitting finished, loss: 0.3648410975933075\n"
     ]
    },
    {
     "name": "stderr",
     "output_type": "stream",
     "text": [
      " 56%|█████▌    | 200/360 [39:43<24:51,  9.32s/it]"
     ]
    },
    {
     "name": "stdout",
     "output_type": "stream",
     "text": [
      "2021-05-06 10:05:36,924 - modnet - INFO - Preset #39 fitting finished, loss: 4371.56669921875\n"
     ]
    },
    {
     "name": "stderr",
     "output_type": "stream",
     "text": [
      " 56%|█████▌    | 201/360 [40:10<39:09, 14.78s/it]"
     ]
    },
    {
     "name": "stdout",
     "output_type": "stream",
     "text": [
      "2021-05-06 10:05:39,194 - modnet - INFO - Preset #38 fitting finished, loss: 0.4982761383056641\n"
     ]
    },
    {
     "name": "stderr",
     "output_type": "stream",
     "text": [
      " 56%|█████▌    | 202/360 [40:12<28:57, 11.00s/it]"
     ]
    },
    {
     "name": "stdout",
     "output_type": "stream",
     "text": [
      "2021-05-06 10:05:52,461 - modnet - INFO - Preset #42 fitting finished, loss: 0.43815834522247316\n"
     ]
    },
    {
     "name": "stderr",
     "output_type": "stream",
     "text": [
      " 56%|█████▋    | 203/360 [40:26<30:30, 11.66s/it]"
     ]
    },
    {
     "name": "stdout",
     "output_type": "stream",
     "text": [
      "2021-05-06 10:06:08,763 - modnet - INFO - Preset #37 fitting finished, loss: 374.88574371337893\n"
     ]
    },
    {
     "name": "stderr",
     "output_type": "stream",
     "text": [
      " 57%|█████▋    | 204/360 [40:42<33:53, 13.04s/it]"
     ]
    },
    {
     "name": "stdout",
     "output_type": "stream",
     "text": [
      "2021-05-06 10:06:25,690 - modnet - INFO - Preset #36 fitting finished, loss: 0.3583499789237976\n"
     ]
    },
    {
     "name": "stderr",
     "output_type": "stream",
     "text": [
      " 57%|█████▋    | 205/360 [40:59<36:31, 14.14s/it]"
     ]
    },
    {
     "name": "stdout",
     "output_type": "stream",
     "text": [
      "2021-05-06 10:06:30,368 - modnet - INFO - Preset #39 fitting finished, loss: 0.4473989546298981\n"
     ]
    },
    {
     "name": "stderr",
     "output_type": "stream",
     "text": [
      " 57%|█████▋    | 206/360 [41:03<29:10, 11.36s/it]"
     ]
    },
    {
     "name": "stdout",
     "output_type": "stream",
     "text": [
      "2021-05-06 10:06:44,560 - modnet - INFO - Preset #47 fitting finished, loss: 0.7116385281085968\n"
     ]
    },
    {
     "name": "stderr",
     "output_type": "stream",
     "text": [
      " 57%|█████▊    | 207/360 [41:18<31:07, 12.20s/it]"
     ]
    },
    {
     "name": "stdout",
     "output_type": "stream",
     "text": [
      "2021-05-06 10:06:56,694 - modnet - INFO - Preset #44 fitting finished, loss: 0.43057083487510683\n"
     ]
    },
    {
     "name": "stderr",
     "output_type": "stream",
     "text": [
      " 58%|█████▊    | 208/360 [41:30<30:42, 12.12s/it]"
     ]
    },
    {
     "name": "stdout",
     "output_type": "stream",
     "text": [
      "2021-05-06 10:06:58,879 - modnet - INFO - Preset #40 fitting finished, loss: 0.37820035219192505\n"
     ]
    },
    {
     "name": "stderr",
     "output_type": "stream",
     "text": [
      " 58%|█████▊    | 209/360 [41:32<23:04,  9.17s/it]"
     ]
    },
    {
     "name": "stdout",
     "output_type": "stream",
     "text": [
      "2021-05-06 10:07:03,131 - modnet - INFO - Preset #43 fitting finished, loss: 82.5972282409668\n"
     ]
    },
    {
     "name": "stderr",
     "output_type": "stream",
     "text": [
      " 58%|█████▊    | 210/360 [41:36<19:32,  7.82s/it]"
     ]
    },
    {
     "name": "stdout",
     "output_type": "stream",
     "text": [
      "2021-05-06 10:07:07,779 - modnet - INFO - Preset #37 fitting finished, loss: 0.46116763949394224\n"
     ]
    },
    {
     "name": "stderr",
     "output_type": "stream",
     "text": [
      " 59%|█████▊    | 211/360 [41:41<16:39,  6.71s/it]"
     ]
    },
    {
     "name": "stdout",
     "output_type": "stream",
     "text": [
      "2021-05-06 10:08:00,560 - modnet - INFO - Preset #46 fitting finished, loss: 0.38815096616744993\n"
     ]
    },
    {
     "name": "stderr",
     "output_type": "stream",
     "text": [
      " 59%|█████▉    | 212/360 [42:33<50:42, 20.56s/it]"
     ]
    },
    {
     "name": "stdout",
     "output_type": "stream",
     "text": [
      "2021-05-06 10:08:25,612 - modnet - INFO - Preset #36 fitting finished, loss: 0.4432499766349792\n"
     ]
    },
    {
     "name": "stderr",
     "output_type": "stream",
     "text": [
      " 59%|█████▉    | 213/360 [42:59<53:43, 21.93s/it]"
     ]
    },
    {
     "name": "stdout",
     "output_type": "stream",
     "text": [
      "2021-05-06 10:08:52,048 - modnet - INFO - Preset #44 fitting finished, loss: 1614.2825317382812\n"
     ]
    },
    {
     "name": "stderr",
     "output_type": "stream",
     "text": [
      " 59%|█████▉    | 214/360 [43:25<56:27, 23.20s/it]"
     ]
    },
    {
     "name": "stdout",
     "output_type": "stream",
     "text": [
      "2021-05-06 10:09:33,653 - modnet - INFO - Preset #42 fitting finished, loss: 142.244091796875\n"
     ]
    },
    {
     "name": "stderr",
     "output_type": "stream",
     "text": [
      " 60%|█████▉    | 215/360 [44:07<1:09:43, 28.85s/it]"
     ]
    },
    {
     "name": "stdout",
     "output_type": "stream",
     "text": [
      "2021-05-06 10:09:34,638 - modnet - INFO - Preset #38 fitting finished, loss: 0.3749186396598816\n"
     ]
    },
    {
     "name": "stderr",
     "output_type": "stream",
     "text": [
      " 60%|██████    | 216/360 [44:12<51:58, 21.66s/it]  "
     ]
    },
    {
     "name": "stdout",
     "output_type": "stream",
     "text": [
      "2021-05-06 10:09:39,522 - modnet - INFO - Preset #49 fitting finished, loss: 0.4030939221382141\n"
     ]
    },
    {
     "name": "stderr",
     "output_type": "stream",
     "text": [
      " 60%|██████    | 217/360 [44:13<36:56, 15.50s/it]"
     ]
    },
    {
     "name": "stdout",
     "output_type": "stream",
     "text": [
      "2021-05-06 10:09:40,642 - modnet - INFO - Preset #47 fitting finished, loss: 0.5283380508422851\n"
     ]
    },
    {
     "name": "stderr",
     "output_type": "stream",
     "text": [
      " 61%|██████    | 218/360 [44:14<26:21, 11.14s/it]"
     ]
    },
    {
     "name": "stdout",
     "output_type": "stream",
     "text": [
      "2021-05-06 10:09:59,474 - modnet - INFO - Preset #42 fitting finished, loss: 0.4432521641254425\n"
     ]
    },
    {
     "name": "stderr",
     "output_type": "stream",
     "text": [
      " 61%|██████    | 219/360 [44:33<31:44, 13.51s/it]"
     ]
    },
    {
     "name": "stdout",
     "output_type": "stream",
     "text": [
      "2021-05-06 10:10:16,408 - modnet - INFO - Preset #45 fitting finished, loss: 0.4331228077411652\n"
     ]
    },
    {
     "name": "stderr",
     "output_type": "stream",
     "text": [
      " 61%|██████    | 220/360 [44:49<33:37, 14.41s/it]"
     ]
    },
    {
     "name": "stdout",
     "output_type": "stream",
     "text": [
      "2021-05-06 10:10:49,788 - modnet - INFO - Preset #44 fitting finished, loss: 0.37222334146499636\n"
     ]
    },
    {
     "name": "stderr",
     "output_type": "stream",
     "text": [
      " 61%|██████▏   | 221/360 [45:23<46:41, 20.16s/it]"
     ]
    },
    {
     "name": "stdout",
     "output_type": "stream",
     "text": [
      "2021-05-06 10:10:59,197 - modnet - INFO - Preset #48 fitting finished, loss: 0.3871541380882263\n"
     ]
    },
    {
     "name": "stderr",
     "output_type": "stream",
     "text": [
      " 62%|██████▏   | 222/360 [45:32<38:45, 16.85s/it]"
     ]
    },
    {
     "name": "stdout",
     "output_type": "stream",
     "text": [
      "2021-05-06 10:11:00,381 - modnet - INFO - Preset #50 fitting finished, loss: 0.3695125222206116\n"
     ]
    },
    {
     "name": "stderr",
     "output_type": "stream",
     "text": [
      " 62%|██████▏   | 223/360 [45:33<27:44, 12.15s/it]"
     ]
    },
    {
     "name": "stdout",
     "output_type": "stream",
     "text": [
      "2021-05-06 10:11:11,220 - modnet - INFO - Preset #40 fitting finished, loss: 0.49146139025688174\n"
     ]
    },
    {
     "name": "stderr",
     "output_type": "stream",
     "text": [
      " 62%|██████▏   | 224/360 [45:44<26:40, 11.77s/it]"
     ]
    },
    {
     "name": "stdout",
     "output_type": "stream",
     "text": [
      "2021-05-06 10:11:13,611 - modnet - INFO - Preset #45 fitting finished, loss: 2907.1269775390624\n"
     ]
    },
    {
     "name": "stderr",
     "output_type": "stream",
     "text": [
      " 62%|██████▎   | 225/360 [45:47<20:11,  8.97s/it]"
     ]
    },
    {
     "name": "stdout",
     "output_type": "stream",
     "text": [
      "2021-05-06 10:11:24,098 - modnet - INFO - Preset #36 fitting finished, loss: 0.4266819775104523\n"
     ]
    },
    {
     "name": "stderr",
     "output_type": "stream",
     "text": [
      " 63%|██████▎   | 226/360 [45:57<21:06,  9.45s/it]"
     ]
    },
    {
     "name": "stdout",
     "output_type": "stream",
     "text": [
      "2021-05-06 10:11:34,292 - modnet - INFO - Preset #45 fitting finished, loss: 0.4667284607887268\n"
     ]
    },
    {
     "name": "stderr",
     "output_type": "stream",
     "text": [
      " 63%|██████▎   | 227/360 [46:08<21:51,  9.86s/it]"
     ]
    },
    {
     "name": "stdout",
     "output_type": "stream",
     "text": [
      "2021-05-06 10:11:44,119 - modnet - INFO - Preset #50 fitting finished, loss: 0.4359350085258484\n"
     ]
    },
    {
     "name": "stderr",
     "output_type": "stream",
     "text": [
      " 63%|██████▎   | 228/360 [46:18<21:36,  9.82s/it]"
     ]
    },
    {
     "name": "stdout",
     "output_type": "stream",
     "text": [
      "2021-05-06 10:11:49,792 - modnet - INFO - Preset #52 fitting finished, loss: 0.504701453447342\n"
     ]
    },
    {
     "name": "stderr",
     "output_type": "stream",
     "text": [
      " 64%|██████▎   | 229/360 [46:23<18:43,  8.58s/it]"
     ]
    },
    {
     "name": "stdout",
     "output_type": "stream",
     "text": [
      "2021-05-06 10:11:51,195 - modnet - INFO - Preset #48 fitting finished, loss: 0.35356483459472654\n"
     ]
    },
    {
     "name": "stderr",
     "output_type": "stream",
     "text": [
      " 64%|██████▍   | 230/360 [46:25<13:58,  6.45s/it]"
     ]
    },
    {
     "name": "stdout",
     "output_type": "stream",
     "text": [
      "2021-05-06 10:11:55,789 - modnet - INFO - Preset #46 fitting finished, loss: 0.5398407697677612\n"
     ]
    },
    {
     "name": "stderr",
     "output_type": "stream",
     "text": [
      " 64%|██████▍   | 231/360 [46:30<12:44,  5.92s/it]"
     ]
    },
    {
     "name": "stdout",
     "output_type": "stream",
     "text": [
      "2021-05-06 10:12:15,392 - modnet - INFO - Preset #46 fitting finished, loss: 0.45492508411407473\n"
     ]
    },
    {
     "name": "stderr",
     "output_type": "stream",
     "text": [
      " 64%|██████▍   | 232/360 [46:49<21:10,  9.92s/it]"
     ]
    },
    {
     "name": "stdout",
     "output_type": "stream",
     "text": [
      "2021-05-06 10:12:27,083 - modnet - INFO - Preset #44 fitting finished, loss: 0.3684683084487915\n"
     ]
    },
    {
     "name": "stderr",
     "output_type": "stream",
     "text": [
      " 65%|██████▍   | 233/360 [47:01<22:18, 10.54s/it]"
     ]
    },
    {
     "name": "stdout",
     "output_type": "stream",
     "text": [
      "2021-05-06 10:12:37,038 - modnet - INFO - Preset #53 fitting finished, loss: 0.6494774520397186\n"
     ]
    },
    {
     "name": "stderr",
     "output_type": "stream",
     "text": [
      " 65%|██████▌   | 234/360 [47:11<21:43, 10.34s/it]"
     ]
    },
    {
     "name": "stdout",
     "output_type": "stream",
     "text": [
      "2021-05-06 10:12:41,798 - modnet - INFO - Preset #44 fitting finished, loss: 0.4514412939548492\n"
     ]
    },
    {
     "name": "stderr",
     "output_type": "stream",
     "text": [
      " 65%|██████▌   | 235/360 [47:15<18:03,  8.67s/it]"
     ]
    },
    {
     "name": "stdout",
     "output_type": "stream",
     "text": [
      "2021-05-06 10:12:43,244 - modnet - INFO - Preset #42 fitting finished, loss: 0.35357308983802793\n"
     ]
    },
    {
     "name": "stderr",
     "output_type": "stream",
     "text": [
      " 66%|██████▌   | 236/360 [47:17<13:36,  6.58s/it]"
     ]
    },
    {
     "name": "stdout",
     "output_type": "stream",
     "text": [
      "2021-05-06 10:12:45,669 - modnet - INFO - Preset #50 fitting finished, loss: 0.38570754528045653\n"
     ]
    },
    {
     "name": "stderr",
     "output_type": "stream",
     "text": [
      " 66%|██████▌   | 237/360 [47:19<10:46,  5.26s/it]"
     ]
    },
    {
     "name": "stdout",
     "output_type": "stream",
     "text": [
      "2021-05-06 10:13:05,188 - modnet - INFO - Preset #48 fitting finished, loss: 134.77982306480408\n"
     ]
    },
    {
     "name": "stderr",
     "output_type": "stream",
     "text": [
      " 66%|██████▌   | 238/360 [47:39<19:18,  9.50s/it]"
     ]
    },
    {
     "name": "stdout",
     "output_type": "stream",
     "text": [
      "2021-05-06 10:13:19,373 - modnet - INFO - Preset #52 fitting finished, loss: 0.42935147881507874\n"
     ]
    },
    {
     "name": "stderr",
     "output_type": "stream",
     "text": [
      " 66%|██████▋   | 239/360 [47:53<22:06, 10.96s/it]"
     ]
    },
    {
     "name": "stdout",
     "output_type": "stream",
     "text": [
      "2021-05-06 10:13:21,079 - modnet - INFO - Preset #49 fitting finished, loss: 116.28249588012696\n"
     ]
    },
    {
     "name": "stderr",
     "output_type": "stream",
     "text": [
      " 67%|██████▋   | 240/360 [47:55<16:19,  8.16s/it]"
     ]
    },
    {
     "name": "stdout",
     "output_type": "stream",
     "text": [
      "2021-05-06 10:13:22,547 - modnet - INFO - Preset #43 fitting finished, loss: 0.36038365960121155\n"
     ]
    },
    {
     "name": "stderr",
     "output_type": "stream",
     "text": [
      " 67%|██████▋   | 241/360 [47:56<12:04,  6.09s/it]"
     ]
    },
    {
     "name": "stdout",
     "output_type": "stream",
     "text": [
      "2021-05-06 10:13:30,027 - modnet - INFO - Preset #47 fitting finished, loss: 14788.25252685547\n"
     ]
    },
    {
     "name": "stderr",
     "output_type": "stream",
     "text": [
      " 67%|██████▋   | 242/360 [48:04<12:58,  6.60s/it]"
     ]
    },
    {
     "name": "stdout",
     "output_type": "stream",
     "text": [
      "2021-05-06 10:13:44,982 - modnet - INFO - Preset #47 fitting finished, loss: 0.4894429862499237\n"
     ]
    },
    {
     "name": "stderr",
     "output_type": "stream",
     "text": [
      " 68%|██████▊   | 243/360 [48:19<17:47,  9.13s/it]"
     ]
    },
    {
     "name": "stdout",
     "output_type": "stream",
     "text": [
      "2021-05-06 10:13:52,848 - modnet - INFO - Preset #53 fitting finished, loss: 1514.835272216797\n"
     ]
    },
    {
     "name": "stderr",
     "output_type": "stream",
     "text": [
      " 68%|██████▊   | 244/360 [48:26<16:46,  8.68s/it]"
     ]
    },
    {
     "name": "stdout",
     "output_type": "stream",
     "text": [
      "2021-05-06 10:13:56,548 - modnet - INFO - Preset #43 fitting finished, loss: 0.43174428939819337\n"
     ]
    },
    {
     "name": "stderr",
     "output_type": "stream",
     "text": [
      " 68%|██████▊   | 245/360 [48:30<13:43,  7.16s/it]"
     ]
    },
    {
     "name": "stdout",
     "output_type": "stream",
     "text": [
      "2021-05-06 10:13:59,390 - modnet - INFO - Preset #47 fitting finished, loss: 0.4773448586463928\n"
     ]
    },
    {
     "name": "stderr",
     "output_type": "stream",
     "text": [
      " 68%|██████▊   | 246/360 [48:33<11:10,  5.88s/it]"
     ]
    },
    {
     "name": "stdout",
     "output_type": "stream",
     "text": [
      "2021-05-06 10:14:00,915 - modnet - INFO - Preset #51 fitting finished, loss: 0.37678502798080443\n"
     ]
    },
    {
     "name": "stderr",
     "output_type": "stream",
     "text": [
      " 69%|██████▊   | 247/360 [48:35<08:47,  4.67s/it]"
     ]
    },
    {
     "name": "stdout",
     "output_type": "stream",
     "text": [
      "2021-05-06 10:14:08,441 - modnet - INFO - Preset #50 fitting finished, loss: 472.4313140869141\n"
     ]
    },
    {
     "name": "stderr",
     "output_type": "stream",
     "text": [
      " 69%|██████▉   | 248/360 [48:42<10:18,  5.52s/it]"
     ]
    },
    {
     "name": "stdout",
     "output_type": "stream",
     "text": [
      "2021-05-06 10:14:10,113 - modnet - INFO - Preset #38 fitting finished, loss: 4606.850805664062\n"
     ]
    },
    {
     "name": "stderr",
     "output_type": "stream",
     "text": [
      " 69%|██████▉   | 249/360 [48:44<08:15,  4.47s/it]"
     ]
    },
    {
     "name": "stdout",
     "output_type": "stream",
     "text": [
      "2021-05-06 10:14:12,115 - modnet - INFO - Preset #41 fitting finished, loss: 14228.902978515625\n"
     ]
    },
    {
     "name": "stderr",
     "output_type": "stream",
     "text": [
      " 69%|██████▉   | 250/360 [48:46<06:32,  3.57s/it]"
     ]
    },
    {
     "name": "stdout",
     "output_type": "stream",
     "text": [
      "2021-05-06 10:14:31,726 - modnet - INFO - Preset #52 fitting finished, loss: 0.44957166314125063\n"
     ]
    },
    {
     "name": "stderr",
     "output_type": "stream",
     "text": [
      " 70%|██████▉   | 251/360 [49:05<15:07,  8.33s/it]"
     ]
    },
    {
     "name": "stdout",
     "output_type": "stream",
     "text": [
      "2021-05-06 10:14:51,311 - modnet - INFO - Preset #51 fitting finished, loss: 0.44432268142700193\n"
     ]
    },
    {
     "name": "stderr",
     "output_type": "stream",
     "text": [
      " 70%|███████   | 252/360 [49:25<21:06, 11.73s/it]"
     ]
    },
    {
     "name": "stdout",
     "output_type": "stream",
     "text": [
      "2021-05-06 10:14:55,921 - modnet - INFO - Preset #49 fitting finished, loss: 0.42347884774208067\n"
     ]
    },
    {
     "name": "stderr",
     "output_type": "stream",
     "text": [
      " 70%|███████   | 253/360 [49:29<17:05,  9.58s/it]"
     ]
    },
    {
     "name": "stdout",
     "output_type": "stream",
     "text": [
      "2021-05-06 10:14:57,539 - modnet - INFO - Preset #51 fitting finished, loss: 412.4729714393616\n"
     ]
    },
    {
     "name": "stderr",
     "output_type": "stream",
     "text": [
      " 71%|███████   | 254/360 [49:31<12:43,  7.20s/it]"
     ]
    },
    {
     "name": "stdout",
     "output_type": "stream",
     "text": [
      "2021-05-06 10:15:00,215 - modnet - INFO - Preset #46 fitting finished, loss: 20544.559118652345\n"
     ]
    },
    {
     "name": "stderr",
     "output_type": "stream",
     "text": [
      " 71%|███████   | 255/360 [49:34<10:17,  5.88s/it]"
     ]
    },
    {
     "name": "stdout",
     "output_type": "stream",
     "text": [
      "2021-05-06 10:15:02,983 - modnet - INFO - Preset #53 fitting finished, loss: 0.4306972920894623\n"
     ]
    },
    {
     "name": "stderr",
     "output_type": "stream",
     "text": [
      " 71%|███████   | 256/360 [49:37<08:31,  4.92s/it]"
     ]
    },
    {
     "name": "stdout",
     "output_type": "stream",
     "text": [
      "2021-05-06 10:15:04,359 - modnet - INFO - Preset #43 fitting finished, loss: 0.35557318925857545\n"
     ]
    },
    {
     "name": "stderr",
     "output_type": "stream",
     "text": [
      " 71%|███████▏  | 257/360 [49:38<06:42,  3.90s/it]"
     ]
    },
    {
     "name": "stdout",
     "output_type": "stream",
     "text": [
      "2021-05-06 10:15:46,665 - modnet - INFO - Preset #49 fitting finished, loss: 0.43783997297286986\n"
     ]
    },
    {
     "name": "stderr",
     "output_type": "stream",
     "text": [
      " 72%|███████▏  | 258/360 [50:20<26:08, 15.37s/it]"
     ]
    },
    {
     "name": "stdout",
     "output_type": "stream",
     "text": [
      "2021-05-06 10:15:49,132 - modnet - INFO - Preset #45 fitting finished, loss: 0.3585972487926483\n"
     ]
    },
    {
     "name": "stderr",
     "output_type": "stream",
     "text": [
      " 72%|███████▏  | 259/360 [50:23<19:17, 11.46s/it]"
     ]
    },
    {
     "name": "stdout",
     "output_type": "stream",
     "text": [
      "2021-05-06 10:15:58,342 - modnet - INFO - Preset #52 fitting finished, loss: 2914.139892578125\n"
     ]
    },
    {
     "name": "stderr",
     "output_type": "stream",
     "text": [
      " 72%|███████▏  | 260/360 [50:32<18:01, 10.81s/it]"
     ]
    },
    {
     "name": "stdout",
     "output_type": "stream",
     "text": [
      "2021-05-06 10:16:05,848 - modnet - INFO - Preset #52 fitting finished, loss: 0.36523318886756895\n"
     ]
    },
    {
     "name": "stderr",
     "output_type": "stream",
     "text": [
      " 72%|███████▎  | 261/360 [50:40<16:19,  9.89s/it]"
     ]
    },
    {
     "name": "stdout",
     "output_type": "stream",
     "text": [
      "2021-05-06 10:16:10,097 - modnet - INFO - Preset #48 fitting finished, loss: 0.43840653300285337\n"
     ]
    },
    {
     "name": "stderr",
     "output_type": "stream",
     "text": [
      " 73%|███████▎  | 262/360 [50:44<13:20,  8.17s/it]"
     ]
    },
    {
     "name": "stdout",
     "output_type": "stream",
     "text": [
      "2021-05-06 10:16:12,815 - modnet - INFO - Preset #53 fitting finished, loss: 0.371448814868927\n"
     ]
    },
    {
     "name": "stderr",
     "output_type": "stream",
     "text": [
      " 73%|███████▎  | 263/360 [50:46<10:34,  6.54s/it]"
     ]
    },
    {
     "name": "stdout",
     "output_type": "stream",
     "text": [
      "2021-05-06 10:17:20,745 - modnet - INFO - Preset #48 fitting finished, loss: 0.4308349311351776\n"
     ]
    },
    {
     "name": "stderr",
     "output_type": "stream",
     "text": [
      " 73%|███████▎  | 264/360 [51:54<39:54, 24.94s/it]"
     ]
    },
    {
     "name": "stdout",
     "output_type": "stream",
     "text": [
      "2021-05-06 10:18:29,762 - modnet - INFO - Preset #49 fitting finished, loss: 0.35917592644691465\n"
     ]
    },
    {
     "name": "stderr",
     "output_type": "stream",
     "text": [
      " 74%|███████▎  | 265/360 [53:03<1:00:27, 38.18s/it]"
     ]
    },
    {
     "name": "stdout",
     "output_type": "stream",
     "text": [
      "2021-05-06 10:18:32,280 - modnet - INFO - Preset #45 fitting finished, loss: 0.37160937786102294\n"
     ]
    },
    {
     "name": "stderr",
     "output_type": "stream",
     "text": [
      " 74%|███████▍  | 266/360 [53:16<47:39, 30.42s/it]  "
     ]
    },
    {
     "name": "stdout",
     "output_type": "stream",
     "text": [
      "2021-05-06 10:19:15,651 - modnet - INFO - Preset #53 fitting finished, loss: 0.4752515733242035\n"
     ]
    },
    {
     "name": "stderr",
     "output_type": "stream",
     "text": [
      " 74%|███████▍  | 267/360 [53:49<48:34, 31.34s/it]"
     ]
    },
    {
     "name": "stdout",
     "output_type": "stream",
     "text": [
      "2021-05-06 10:19:45,598 - modnet - INFO - Preset #50 fitting finished, loss: 0.4213362753391266\n"
     ]
    },
    {
     "name": "stderr",
     "output_type": "stream",
     "text": [
      " 74%|███████▍  | 268/360 [54:19<47:28, 30.96s/it]"
     ]
    },
    {
     "name": "stdout",
     "output_type": "stream",
     "text": [
      "2021-05-06 10:19:56,397 - modnet - INFO - Preset #58 fitting finished, loss: 1.045193123817444\n"
     ]
    },
    {
     "name": "stderr",
     "output_type": "stream",
     "text": [
      " 75%|███████▍  | 269/360 [54:30<37:46, 24.91s/it]"
     ]
    },
    {
     "name": "stdout",
     "output_type": "stream",
     "text": [
      "2021-05-06 10:20:10,498 - modnet - INFO - Preset #51 fitting finished, loss: 0.43794018030166626\n"
     ]
    },
    {
     "name": "stderr",
     "output_type": "stream",
     "text": [
      " 75%|███████▌  | 270/360 [54:44<32:27, 21.64s/it]"
     ]
    },
    {
     "name": "stdout",
     "output_type": "stream",
     "text": [
      "2021-05-06 10:20:29,839 - modnet - INFO - Preset #51 fitting finished, loss: 0.35183236598968504\n"
     ]
    },
    {
     "name": "stderr",
     "output_type": "stream",
     "text": [
      " 75%|███████▌  | 271/360 [55:03<31:03, 20.94s/it]"
     ]
    },
    {
     "name": "stdout",
     "output_type": "stream",
     "text": [
      "2021-05-06 10:20:31,428 - modnet - INFO - Preset #65 fitting finished, loss: 1.0448980808258057\n"
     ]
    },
    {
     "name": "stderr",
     "output_type": "stream",
     "text": [
      " 76%|███████▌  | 272/360 [55:05<22:25, 15.29s/it]"
     ]
    },
    {
     "name": "stdout",
     "output_type": "stream",
     "text": [
      "2021-05-06 10:20:54,816 - modnet - INFO - Preset #64 fitting finished, loss: 1.0511768341064454\n"
     ]
    },
    {
     "name": "stderr",
     "output_type": "stream",
     "text": [
      " 76%|███████▌  | 273/360 [55:29<25:33, 17.62s/it]"
     ]
    },
    {
     "name": "stdout",
     "output_type": "stream",
     "text": [
      "2021-05-06 10:21:16,900 - modnet - INFO - Preset #63 fitting finished, loss: 0.9210729658603668\n"
     ]
    },
    {
     "name": "stderr",
     "output_type": "stream",
     "text": [
      " 76%|███████▌  | 274/360 [55:51<27:11, 18.98s/it]"
     ]
    },
    {
     "name": "stdout",
     "output_type": "stream",
     "text": [
      "2021-05-06 10:21:36,985 - modnet - INFO - Preset #64 fitting finished, loss: 0.938130509853363\n"
     ]
    },
    {
     "name": "stderr",
     "output_type": "stream",
     "text": [
      " 76%|███████▋  | 275/360 [56:11<27:22, 19.32s/it]"
     ]
    },
    {
     "name": "stdout",
     "output_type": "stream",
     "text": [
      "2021-05-06 10:21:47,760 - modnet - INFO - Preset #64 fitting finished, loss: 0.9754351019859314\n"
     ]
    },
    {
     "name": "stderr",
     "output_type": "stream",
     "text": [
      " 77%|███████▋  | 276/360 [56:22<23:32, 16.81s/it]"
     ]
    },
    {
     "name": "stdout",
     "output_type": "stream",
     "text": [
      "2021-05-06 10:22:16,300 - modnet - INFO - Preset #57 fitting finished, loss: 1.0435261487960816\n"
     ]
    },
    {
     "name": "stderr",
     "output_type": "stream",
     "text": [
      " 77%|███████▋  | 277/360 [56:51<28:21, 20.50s/it]"
     ]
    },
    {
     "name": "stdout",
     "output_type": "stream",
     "text": [
      "2021-05-06 10:22:25,335 - modnet - INFO - Preset #58 fitting finished, loss: 0.9338465690612793\n"
     ]
    },
    {
     "name": "stderr",
     "output_type": "stream",
     "text": [
      " 77%|███████▋  | 278/360 [57:00<23:09, 16.94s/it]"
     ]
    },
    {
     "name": "stdout",
     "output_type": "stream",
     "text": [
      "2021-05-06 10:22:30,372 - modnet - INFO - Preset #56 fitting finished, loss: 1.044492530822754\n"
     ]
    },
    {
     "name": "stderr",
     "output_type": "stream",
     "text": [
      " 78%|███████▊  | 279/360 [57:04<17:53, 13.25s/it]"
     ]
    },
    {
     "name": "stdout",
     "output_type": "stream",
     "text": [
      "2021-05-06 10:23:08,457 - modnet - INFO - Preset #58 fitting finished, loss: 0.8220635175704956\n"
     ]
    },
    {
     "name": "stderr",
     "output_type": "stream",
     "text": [
      " 78%|███████▊  | 280/360 [57:43<27:44, 20.80s/it]"
     ]
    },
    {
     "name": "stdout",
     "output_type": "stream",
     "text": [
      "2021-05-06 10:24:10,882 - modnet - INFO - Preset #65 fitting finished, loss: 0.9330903172492981\n"
     ]
    },
    {
     "name": "stderr",
     "output_type": "stream",
     "text": [
      " 78%|███████▊  | 281/360 [58:45<43:44, 33.22s/it]"
     ]
    },
    {
     "name": "stdout",
     "output_type": "stream",
     "text": [
      "2021-05-06 10:24:40,305 - modnet - INFO - Preset #64 fitting finished, loss: 1102.4160869598388\n"
     ]
    },
    {
     "name": "stderr",
     "output_type": "stream",
     "text": [
      " 78%|███████▊  | 282/360 [59:14<41:41, 32.07s/it]"
     ]
    },
    {
     "name": "stdout",
     "output_type": "stream",
     "text": [
      "2021-05-06 10:24:57,614 - modnet - INFO - Preset #59 fitting finished, loss: 0.9247915625572205\n"
     ]
    },
    {
     "name": "stderr",
     "output_type": "stream",
     "text": [
      " 79%|███████▊  | 283/360 [59:32<35:31, 27.68s/it]"
     ]
    },
    {
     "name": "stdout",
     "output_type": "stream",
     "text": [
      "2021-05-06 10:25:26,137 - modnet - INFO - Preset #62 fitting finished, loss: 0.7829351246356964\n"
     ]
    },
    {
     "name": "stderr",
     "output_type": "stream",
     "text": [
      " 79%|███████▉  | 284/360 [1:00:00<35:18, 27.87s/it]"
     ]
    },
    {
     "name": "stdout",
     "output_type": "stream",
     "text": [
      "2021-05-06 10:25:37,286 - modnet - INFO - Preset #59 fitting finished, loss: 1.050647258758545\n"
     ]
    },
    {
     "name": "stderr",
     "output_type": "stream",
     "text": [
      " 79%|███████▉  | 285/360 [1:00:11<28:41, 22.95s/it]"
     ]
    },
    {
     "name": "stdout",
     "output_type": "stream",
     "text": [
      "2021-05-06 10:25:39,260 - modnet - INFO - Preset #59 fitting finished, loss: 57.39882593154907\n"
     ]
    },
    {
     "name": "stderr",
     "output_type": "stream",
     "text": [
      " 79%|███████▉  | 286/360 [1:00:13<20:29, 16.61s/it]"
     ]
    },
    {
     "name": "stdout",
     "output_type": "stream",
     "text": [
      "2021-05-06 10:26:06,454 - modnet - INFO - Preset #62 fitting finished, loss: 0.7309198021888733\n"
     ]
    },
    {
     "name": "stderr",
     "output_type": "stream",
     "text": [
      " 80%|███████▉  | 287/360 [1:00:40<24:01, 19.74s/it]"
     ]
    },
    {
     "name": "stdout",
     "output_type": "stream",
     "text": [
      "2021-05-06 10:26:49,121 - modnet - INFO - Preset #65 fitting finished, loss: 0.9838013172149658\n"
     ]
    },
    {
     "name": "stderr",
     "output_type": "stream",
     "text": [
      " 80%|████████  | 288/360 [1:01:23<31:54, 26.59s/it]"
     ]
    },
    {
     "name": "stdout",
     "output_type": "stream",
     "text": [
      "2021-05-06 10:28:38,839 - modnet - INFO - Preset #64 fitting finished, loss: 0.7870546221733093\n"
     ]
    },
    {
     "name": "stderr",
     "output_type": "stream",
     "text": [
      " 80%|████████  | 289/360 [1:03:13<1:01:00, 51.55s/it]"
     ]
    },
    {
     "name": "stdout",
     "output_type": "stream",
     "text": [
      "2021-05-06 10:29:14,315 - modnet - INFO - Preset #65 fitting finished, loss: 435.061905670166\n"
     ]
    },
    {
     "name": "stderr",
     "output_type": "stream",
     "text": [
      " 81%|████████  | 290/360 [1:03:48<54:29, 46.71s/it]  "
     ]
    },
    {
     "name": "stdout",
     "output_type": "stream",
     "text": [
      "2021-05-06 10:29:49,359 - modnet - INFO - Preset #63 fitting finished, loss: 0.6289468169212341\n"
     ]
    },
    {
     "name": "stderr",
     "output_type": "stream",
     "text": [
      " 81%|████████  | 291/360 [1:04:23<49:44, 43.26s/it]"
     ]
    },
    {
     "name": "stdout",
     "output_type": "stream",
     "text": [
      "2021-05-06 10:30:12,376 - modnet - INFO - Preset #63 fitting finished, loss: 25148.872743320466\n"
     ]
    },
    {
     "name": "stderr",
     "output_type": "stream",
     "text": [
      " 81%|████████  | 292/360 [1:04:46<42:02, 37.10s/it]"
     ]
    },
    {
     "name": "stdout",
     "output_type": "stream",
     "text": [
      "2021-05-06 10:30:20,505 - modnet - INFO - Preset #59 fitting finished, loss: 0.8747629880905151\n"
     ]
    },
    {
     "name": "stderr",
     "output_type": "stream",
     "text": [
      " 81%|████████▏ | 293/360 [1:04:54<31:40, 28.36s/it]"
     ]
    },
    {
     "name": "stdout",
     "output_type": "stream",
     "text": [
      "2021-05-06 10:30:58,125 - modnet - INFO - Preset #58 fitting finished, loss: 0.781424605846405\n"
     ]
    },
    {
     "name": "stderr",
     "output_type": "stream",
     "text": [
      " 82%|████████▏ | 294/360 [1:05:32<34:21, 31.24s/it]"
     ]
    },
    {
     "name": "stdout",
     "output_type": "stream",
     "text": [
      "2021-05-06 10:30:59,766 - modnet - INFO - Preset #67 fitting finished, loss: 0.43723481297492983\n"
     ]
    },
    {
     "name": "stderr",
     "output_type": "stream",
     "text": [
      " 82%|████████▏ | 295/360 [1:05:33<24:11, 22.33s/it]"
     ]
    },
    {
     "name": "stdout",
     "output_type": "stream",
     "text": [
      "2021-05-06 10:31:12,343 - modnet - INFO - Preset #59 fitting finished, loss: 0.7144039988517761\n"
     ]
    },
    {
     "name": "stderr",
     "output_type": "stream",
     "text": [
      " 82%|████████▏ | 296/360 [1:05:46<20:37, 19.33s/it]"
     ]
    },
    {
     "name": "stdout",
     "output_type": "stream",
     "text": [
      "2021-05-06 10:31:15,533 - modnet - INFO - Preset #60 fitting finished, loss: 0.4641769289970398\n"
     ]
    },
    {
     "name": "stderr",
     "output_type": "stream",
     "text": [
      " 82%|████████▎ | 297/360 [1:05:49<15:10, 14.46s/it]"
     ]
    },
    {
     "name": "stdout",
     "output_type": "stream",
     "text": [
      "2021-05-06 10:31:32,610 - modnet - INFO - Preset #61 fitting finished, loss: 0.3485746443271637\n"
     ]
    },
    {
     "name": "stderr",
     "output_type": "stream",
     "text": [
      " 83%|████████▎ | 298/360 [1:06:06<15:44, 15.24s/it]"
     ]
    },
    {
     "name": "stdout",
     "output_type": "stream",
     "text": [
      "2021-05-06 10:31:58,991 - modnet - INFO - Preset #70 fitting finished, loss: 0.7576975107192994\n"
     ]
    },
    {
     "name": "stderr",
     "output_type": "stream",
     "text": [
      " 83%|████████▎ | 299/360 [1:06:32<18:55, 18.61s/it]"
     ]
    },
    {
     "name": "stdout",
     "output_type": "stream",
     "text": [
      "2021-05-06 10:32:01,281 - modnet - INFO - Preset #56 fitting finished, loss: 0.7337762176990509\n"
     ]
    },
    {
     "name": "stderr",
     "output_type": "stream",
     "text": [
      " 83%|████████▎ | 300/360 [1:06:35<13:46, 13.78s/it]"
     ]
    },
    {
     "name": "stdout",
     "output_type": "stream",
     "text": [
      "2021-05-06 10:32:08,834 - modnet - INFO - Preset #60 fitting finished, loss: 0.39042784571647643\n"
     ]
    },
    {
     "name": "stderr",
     "output_type": "stream",
     "text": [
      " 84%|████████▎ | 301/360 [1:06:42<11:39, 11.86s/it]"
     ]
    },
    {
     "name": "stdout",
     "output_type": "stream",
     "text": [
      "2021-05-06 10:32:11,282 - modnet - INFO - Preset #63 fitting finished, loss: 0.3896471083164215\n"
     ]
    },
    {
     "name": "stderr",
     "output_type": "stream",
     "text": [
      " 84%|████████▍ | 302/360 [1:06:45<08:44,  9.04s/it]"
     ]
    },
    {
     "name": "stdout",
     "output_type": "stream",
     "text": [
      "2021-05-06 10:33:01,269 - modnet - INFO - Preset #61 fitting finished, loss: 0.39211409687995913\n"
     ]
    },
    {
     "name": "stderr",
     "output_type": "stream",
     "text": [
      " 84%|████████▍ | 303/360 [1:07:35<20:12, 21.28s/it]"
     ]
    },
    {
     "name": "stdout",
     "output_type": "stream",
     "text": [
      "2021-05-06 10:33:11,068 - modnet - INFO - Preset #68 fitting finished, loss: 0.4455811262130737\n"
     ]
    },
    {
     "name": "stderr",
     "output_type": "stream",
     "text": [
      " 84%|████████▍ | 304/360 [1:07:44<16:40, 17.86s/it]"
     ]
    },
    {
     "name": "stdout",
     "output_type": "stream",
     "text": [
      "2021-05-06 10:33:38,918 - modnet - INFO - Preset #65 fitting finished, loss: 0.7038967490196228\n"
     ]
    },
    {
     "name": "stderr",
     "output_type": "stream",
     "text": [
      " 85%|████████▍ | 305/360 [1:08:12<19:01, 20.75s/it]"
     ]
    },
    {
     "name": "stdout",
     "output_type": "stream",
     "text": [
      "2021-05-06 10:33:41,303 - modnet - INFO - Preset #62 fitting finished, loss: 1953.041925048828\n"
     ]
    },
    {
     "name": "stderr",
     "output_type": "stream",
     "text": [
      " 85%|████████▌ | 306/360 [1:08:14<13:44, 15.28s/it]"
     ]
    },
    {
     "name": "stdout",
     "output_type": "stream",
     "text": [
      "2021-05-06 10:33:44,668 - modnet - INFO - Preset #66 fitting finished, loss: 165.30150451660157\n"
     ]
    },
    {
     "name": "stderr",
     "output_type": "stream",
     "text": [
      " 85%|████████▌ | 307/360 [1:08:18<10:17, 11.65s/it]"
     ]
    },
    {
     "name": "stdout",
     "output_type": "stream",
     "text": [
      "2021-05-06 10:33:58,564 - modnet - INFO - Preset #70 fitting finished, loss: 0.9423152327537536\n"
     ]
    },
    {
     "name": "stderr",
     "output_type": "stream",
     "text": [
      " 86%|████████▌ | 308/360 [1:08:32<10:42, 12.36s/it]"
     ]
    },
    {
     "name": "stdout",
     "output_type": "stream",
     "text": [
      "2021-05-06 10:34:11,437 - modnet - INFO - Preset #57 fitting finished, loss: 0.722398555278778\n"
     ]
    },
    {
     "name": "stderr",
     "output_type": "stream",
     "text": [
      " 86%|████████▌ | 309/360 [1:08:45<10:42, 12.59s/it]"
     ]
    },
    {
     "name": "stdout",
     "output_type": "stream",
     "text": [
      "2021-05-06 10:34:19,487 - modnet - INFO - Preset #71 fitting finished, loss: 0.8360049068927765\n"
     ]
    },
    {
     "name": "stderr",
     "output_type": "stream",
     "text": [
      " 86%|████████▌ | 310/360 [1:08:52<09:15, 11.11s/it]"
     ]
    },
    {
     "name": "stdout",
     "output_type": "stream",
     "text": [
      "2021-05-06 10:34:22,248 - modnet - INFO - Preset #66 fitting finished, loss: 0.34281365275382997\n"
     ]
    },
    {
     "name": "stderr",
     "output_type": "stream",
     "text": [
      " 86%|████████▋ | 311/360 [1:08:55<06:59,  8.57s/it]"
     ]
    },
    {
     "name": "stdout",
     "output_type": "stream",
     "text": [
      "2021-05-06 10:34:42,977 - modnet - INFO - Preset #67 fitting finished, loss: 0.43901267647743225\n"
     ]
    },
    {
     "name": "stderr",
     "output_type": "stream",
     "text": [
      " 87%|████████▋ | 312/360 [1:09:16<09:45, 12.21s/it]"
     ]
    },
    {
     "name": "stdout",
     "output_type": "stream",
     "text": [
      "2021-05-06 10:34:49,881 - modnet - INFO - Preset #68 fitting finished, loss: 0.45556721091270447\n"
     ]
    },
    {
     "name": "stderr",
     "output_type": "stream",
     "text": [
      " 87%|████████▋ | 313/360 [1:09:23<08:18, 10.61s/it]"
     ]
    },
    {
     "name": "stdout",
     "output_type": "stream",
     "text": [
      "2021-05-06 10:34:52,149 - modnet - INFO - Preset #68 fitting finished, loss: 0.5026588916778565\n"
     ]
    },
    {
     "name": "stderr",
     "output_type": "stream",
     "text": [
      " 87%|████████▋ | 314/360 [1:09:25<06:14,  8.14s/it]"
     ]
    },
    {
     "name": "stdout",
     "output_type": "stream",
     "text": [
      "2021-05-06 10:34:57,788 - modnet - INFO - Preset #67 fitting finished, loss: 0.3590076982975006\n"
     ]
    },
    {
     "name": "stderr",
     "output_type": "stream",
     "text": [
      " 88%|████████▊ | 315/360 [1:09:31<05:33,  7.40s/it]"
     ]
    },
    {
     "name": "stdout",
     "output_type": "stream",
     "text": [
      "2021-05-06 10:35:04,531 - modnet - INFO - Preset #67 fitting finished, loss: 227.79955596923827\n"
     ]
    },
    {
     "name": "stderr",
     "output_type": "stream",
     "text": [
      " 88%|████████▊ | 316/360 [1:09:37<05:17,  7.21s/it]"
     ]
    },
    {
     "name": "stdout",
     "output_type": "stream",
     "text": [
      "2021-05-06 10:35:38,964 - modnet - INFO - Preset #55 fitting finished, loss: 0.42057946920394895\n"
     ]
    },
    {
     "name": "stderr",
     "output_type": "stream",
     "text": [
      " 88%|████████▊ | 317/360 [1:10:12<11:01, 15.37s/it]"
     ]
    },
    {
     "name": "stdout",
     "output_type": "stream",
     "text": [
      "2021-05-06 10:35:50,363 - modnet - INFO - Preset #60 fitting finished, loss: 0.3682542979717255\n"
     ]
    },
    {
     "name": "stderr",
     "output_type": "stream",
     "text": [
      " 88%|████████▊ | 318/360 [1:10:23<09:53, 14.14s/it]"
     ]
    },
    {
     "name": "stdout",
     "output_type": "stream",
     "text": [
      "2021-05-06 10:35:55,428 - modnet - INFO - Preset #61 fitting finished, loss: 647.6728088378907\n"
     ]
    },
    {
     "name": "stderr",
     "output_type": "stream",
     "text": [
      " 89%|████████▊ | 319/360 [1:10:29<07:51, 11.49s/it]"
     ]
    },
    {
     "name": "stdout",
     "output_type": "stream",
     "text": [
      "2021-05-06 10:35:56,345 - modnet - INFO - Preset #66 fitting finished, loss: 0.38534168601036073\n"
     ]
    },
    {
     "name": "stderr",
     "output_type": "stream",
     "text": [
      " 89%|████████▉ | 320/360 [1:10:29<05:30,  8.26s/it]"
     ]
    },
    {
     "name": "stdout",
     "output_type": "stream",
     "text": [
      "2021-05-06 10:36:17,538 - modnet - INFO - Preset #66 fitting finished, loss: 0.4462772488594055\n"
     ]
    },
    {
     "name": "stderr",
     "output_type": "stream",
     "text": [
      " 89%|████████▉ | 321/360 [1:10:50<07:52, 12.12s/it]"
     ]
    },
    {
     "name": "stdout",
     "output_type": "stream",
     "text": [
      "2021-05-06 10:36:56,058 - modnet - INFO - Preset #66 fitting finished, loss: 0.4388036549091339\n"
     ]
    },
    {
     "name": "stderr",
     "output_type": "stream",
     "text": [
      " 89%|████████▉ | 322/360 [1:11:29<12:40, 20.01s/it]"
     ]
    },
    {
     "name": "stdout",
     "output_type": "stream",
     "text": [
      "2021-05-06 10:36:57,430 - modnet - INFO - Preset #54 fitting finished, loss: 0.5316651880741119\n"
     ]
    },
    {
     "name": "stderr",
     "output_type": "stream",
     "text": [
      " 90%|████████▉ | 323/360 [1:11:30<08:51, 14.38s/it]"
     ]
    },
    {
     "name": "stdout",
     "output_type": "stream",
     "text": [
      "2021-05-06 10:37:00,637 - modnet - INFO - Preset #68 fitting finished, loss: 0.3796462297439575\n"
     ]
    },
    {
     "name": "stderr",
     "output_type": "stream",
     "text": [
      " 90%|█████████ | 324/360 [1:11:33<06:36, 11.01s/it]"
     ]
    },
    {
     "name": "stdout",
     "output_type": "stream",
     "text": [
      "2021-05-06 10:37:13,893 - modnet - INFO - Preset #69 fitting finished, loss: 0.6269497692584991\n"
     ]
    },
    {
     "name": "stderr",
     "output_type": "stream",
     "text": [
      " 90%|█████████ | 325/360 [1:11:46<06:49, 11.70s/it]"
     ]
    },
    {
     "name": "stdout",
     "output_type": "stream",
     "text": [
      "2021-05-06 10:37:27,189 - modnet - INFO - Preset #68 fitting finished, loss: 820.5076782226563\n"
     ]
    },
    {
     "name": "stderr",
     "output_type": "stream",
     "text": [
      " 91%|█████████ | 326/360 [1:12:00<06:53, 12.17s/it]"
     ]
    },
    {
     "name": "stdout",
     "output_type": "stream",
     "text": [
      "2021-05-06 10:37:28,693 - modnet - INFO - Preset #56 fitting finished, loss: 0.5550812244415283\n"
     ]
    },
    {
     "name": "stderr",
     "output_type": "stream",
     "text": [
      " 91%|█████████ | 327/360 [1:12:01<04:54,  8.93s/it]"
     ]
    },
    {
     "name": "stdout",
     "output_type": "stream",
     "text": [
      "2021-05-06 10:37:36,068 - modnet - INFO - Preset #57 fitting finished, loss: 0.5575259506702424\n"
     ]
    },
    {
     "name": "stderr",
     "output_type": "stream",
     "text": [
      " 91%|█████████ | 328/360 [1:12:08<04:30,  8.46s/it]"
     ]
    },
    {
     "name": "stdout",
     "output_type": "stream",
     "text": [
      "2021-05-06 10:37:38,146 - modnet - INFO - Preset #56 fitting finished, loss: 0.47819297909736636\n"
     ]
    },
    {
     "name": "stderr",
     "output_type": "stream",
     "text": [
      " 91%|█████████▏| 329/360 [1:12:11<03:23,  6.55s/it]"
     ]
    },
    {
     "name": "stdout",
     "output_type": "stream",
     "text": [
      "2021-05-06 10:37:47,268 - modnet - INFO - Preset #67 fitting finished, loss: 0.366250342130661\n"
     ]
    },
    {
     "name": "stderr",
     "output_type": "stream",
     "text": [
      " 92%|█████████▏| 330/360 [1:12:20<03:39,  7.32s/it]"
     ]
    },
    {
     "name": "stdout",
     "output_type": "stream",
     "text": [
      "2021-05-06 10:38:04,286 - modnet - INFO - Preset #63 fitting finished, loss: 0.5660444557666778\n"
     ]
    },
    {
     "name": "stderr",
     "output_type": "stream",
     "text": [
      " 92%|█████████▏| 331/360 [1:12:37<04:57, 10.27s/it]"
     ]
    },
    {
     "name": "stdout",
     "output_type": "stream",
     "text": [
      "2021-05-06 10:38:09,272 - modnet - INFO - Preset #70 fitting finished, loss: 3201.0884091377256\n"
     ]
    },
    {
     "name": "stderr",
     "output_type": "stream",
     "text": [
      " 92%|█████████▏| 332/360 [1:12:42<04:03,  8.68s/it]"
     ]
    },
    {
     "name": "stdout",
     "output_type": "stream",
     "text": [
      "2021-05-06 10:38:22,870 - modnet - INFO - Preset #54 fitting finished, loss: 0.40405545234680174\n"
     ]
    },
    {
     "name": "stderr",
     "output_type": "stream",
     "text": [
      " 92%|█████████▎| 333/360 [1:12:55<04:34, 10.16s/it]"
     ]
    },
    {
     "name": "stdout",
     "output_type": "stream",
     "text": [
      "2021-05-06 10:38:30,117 - modnet - INFO - Preset #71 fitting finished, loss: 0.7990891218185425\n"
     ]
    },
    {
     "name": "stderr",
     "output_type": "stream",
     "text": [
      " 93%|█████████▎| 334/360 [1:13:03<04:00,  9.26s/it]"
     ]
    },
    {
     "name": "stdout",
     "output_type": "stream",
     "text": [
      "2021-05-06 10:38:30,428 - modnet - INFO - Preset #54 fitting finished, loss: 0.4616167664527893\n"
     ]
    },
    {
     "name": "stderr",
     "output_type": "stream",
     "text": [
      " 93%|█████████▎| 335/360 [1:13:03<02:45,  6.63s/it]"
     ]
    },
    {
     "name": "stdout",
     "output_type": "stream",
     "text": [
      "2021-05-06 10:38:44,341 - modnet - INFO - Preset #69 fitting finished, loss: 0.44854618310928346\n"
     ]
    },
    {
     "name": "stderr",
     "output_type": "stream",
     "text": [
      " 93%|█████████▎| 336/360 [1:13:17<03:31,  8.80s/it]"
     ]
    },
    {
     "name": "stdout",
     "output_type": "stream",
     "text": [
      "2021-05-06 10:39:30,274 - modnet - INFO - Preset #69 fitting finished, loss: 725.9241653442383\n"
     ]
    },
    {
     "name": "stderr",
     "output_type": "stream",
     "text": [
      " 94%|█████████▎| 337/360 [1:14:03<07:37, 19.90s/it]"
     ]
    },
    {
     "name": "stdout",
     "output_type": "stream",
     "text": [
      "2021-05-06 10:39:34,370 - modnet - INFO - Preset #70 fitting finished, loss: 0.6085543513298035\n"
     ]
    },
    {
     "name": "stderr",
     "output_type": "stream",
     "text": [
      " 94%|█████████▍| 338/360 [1:14:07<05:33, 15.16s/it]"
     ]
    },
    {
     "name": "stdout",
     "output_type": "stream",
     "text": [
      "2021-05-06 10:39:39,925 - modnet - INFO - Preset #71 fitting finished, loss: 0.6647827327251434\n"
     ]
    },
    {
     "name": "stderr",
     "output_type": "stream",
     "text": [
      " 94%|█████████▍| 339/360 [1:14:12<04:18, 12.31s/it]"
     ]
    },
    {
     "name": "stdout",
     "output_type": "stream",
     "text": [
      "2021-05-06 10:39:43,657 - modnet - INFO - Preset #60 fitting finished, loss: 0.4579985201358795\n"
     ]
    },
    {
     "name": "stderr",
     "output_type": "stream",
     "text": [
      " 94%|█████████▍| 340/360 [1:14:16<03:13,  9.70s/it]"
     ]
    },
    {
     "name": "stdout",
     "output_type": "stream",
     "text": [
      "2021-05-06 10:39:44,870 - modnet - INFO - Preset #69 fitting finished, loss: 0.4275568604469299\n"
     ]
    },
    {
     "name": "stderr",
     "output_type": "stream",
     "text": [
      " 95%|█████████▍| 341/360 [1:14:17<02:15,  7.14s/it]"
     ]
    },
    {
     "name": "stdout",
     "output_type": "stream",
     "text": [
      "2021-05-06 10:39:45,373 - modnet - INFO - Preset #60 fitting finished, loss: 849.1857238769531\n"
     ]
    },
    {
     "name": "stderr",
     "output_type": "stream",
     "text": [
      " 95%|█████████▌| 342/360 [1:14:18<01:32,  5.15s/it]"
     ]
    },
    {
     "name": "stdout",
     "output_type": "stream",
     "text": [
      "2021-05-06 10:39:51,251 - modnet - INFO - Preset #57 fitting finished, loss: 2493.590291595459\n"
     ]
    },
    {
     "name": "stderr",
     "output_type": "stream",
     "text": [
      " 95%|█████████▌| 343/360 [1:14:24<01:31,  5.41s/it]"
     ]
    },
    {
     "name": "stdout",
     "output_type": "stream",
     "text": [
      "2021-05-06 10:39:51,970 - modnet - INFO - Preset #69 fitting finished, loss: 0.3858094155788422\n"
     ]
    },
    {
     "name": "stderr",
     "output_type": "stream",
     "text": [
      " 96%|█████████▌| 344/360 [1:14:25<01:04,  4.03s/it]"
     ]
    },
    {
     "name": "stdout",
     "output_type": "stream",
     "text": [
      "2021-05-06 10:39:58,119 - modnet - INFO - Preset #62 fitting finished, loss: 0.37743773460388186\n"
     ]
    },
    {
     "name": "stderr",
     "output_type": "stream",
     "text": [
      " 96%|█████████▌| 345/360 [1:14:31<01:09,  4.66s/it]"
     ]
    },
    {
     "name": "stdout",
     "output_type": "stream",
     "text": [
      "2021-05-06 10:40:03,426 - modnet - INFO - Preset #58 fitting finished, loss: 14386.247590255738\n"
     ]
    },
    {
     "name": "stderr",
     "output_type": "stream",
     "text": [
      " 96%|█████████▌| 346/360 [1:14:36<01:07,  4.85s/it]"
     ]
    },
    {
     "name": "stdout",
     "output_type": "stream",
     "text": [
      "2021-05-06 10:40:13,346 - modnet - INFO - Preset #71 fitting finished, loss: 0.39215354323387147\n"
     ]
    },
    {
     "name": "stderr",
     "output_type": "stream",
     "text": [
      " 96%|█████████▋| 347/360 [1:14:46<01:22,  6.34s/it]"
     ]
    },
    {
     "name": "stdout",
     "output_type": "stream",
     "text": [
      "2021-05-06 10:40:30,421 - modnet - INFO - Preset #61 fitting finished, loss: 0.44924936890602113\n"
     ]
    },
    {
     "name": "stderr",
     "output_type": "stream",
     "text": [
      " 97%|█████████▋| 348/360 [1:15:03<01:54,  9.58s/it]"
     ]
    },
    {
     "name": "stdout",
     "output_type": "stream",
     "text": [
      "2021-05-06 10:40:30,818 - modnet - INFO - Preset #61 fitting finished, loss: 0.4580900013446808\n"
     ]
    },
    {
     "name": "stderr",
     "output_type": "stream",
     "text": [
      " 97%|█████████▋| 349/360 [1:15:06<01:24,  7.66s/it]"
     ]
    },
    {
     "name": "stdout",
     "output_type": "stream",
     "text": [
      "2021-05-06 10:40:40,731 - modnet - INFO - Preset #54 fitting finished, loss: 1152.0730346679688\n"
     ]
    },
    {
     "name": "stderr",
     "output_type": "stream",
     "text": [
      " 97%|█████████▋| 350/360 [1:15:13<01:14,  7.50s/it]"
     ]
    },
    {
     "name": "stdout",
     "output_type": "stream",
     "text": [
      "2021-05-06 10:40:43,253 - modnet - INFO - Preset #70 fitting finished, loss: 0.5718087315559387\n"
     ]
    },
    {
     "name": "stderr",
     "output_type": "stream",
     "text": [
      " 98%|█████████▊| 351/360 [1:15:16<00:53,  5.95s/it]"
     ]
    },
    {
     "name": "stdout",
     "output_type": "stream",
     "text": [
      "2021-05-06 10:40:51,682 - modnet - INFO - Preset #71 fitting finished, loss: 4421.676177978516\n"
     ]
    },
    {
     "name": "stderr",
     "output_type": "stream",
     "text": [
      " 98%|█████████▊| 352/360 [1:15:24<00:53,  6.69s/it]"
     ]
    },
    {
     "name": "stdout",
     "output_type": "stream",
     "text": [
      "2021-05-06 10:41:04,186 - modnet - INFO - Preset #62 fitting finished, loss: 0.4426920413970947\n"
     ]
    },
    {
     "name": "stderr",
     "output_type": "stream",
     "text": [
      " 98%|█████████▊| 353/360 [1:15:37<00:59,  8.46s/it]"
     ]
    },
    {
     "name": "stdout",
     "output_type": "stream",
     "text": [
      "2021-05-06 10:41:12,568 - modnet - INFO - Preset #57 fitting finished, loss: 0.5756486237049103\n"
     ]
    },
    {
     "name": "stderr",
     "output_type": "stream",
     "text": [
      " 98%|█████████▊| 354/360 [1:15:45<00:50,  8.45s/it]"
     ]
    },
    {
     "name": "stdout",
     "output_type": "stream",
     "text": [
      "2021-05-06 10:42:29,902 - modnet - INFO - Preset #56 fitting finished, loss: 2941.2954107284545\n"
     ]
    },
    {
     "name": "stderr",
     "output_type": "stream",
     "text": [
      " 99%|█████████▊| 355/360 [1:17:02<02:25, 29.14s/it]"
     ]
    },
    {
     "name": "stdout",
     "output_type": "stream",
     "text": [
      "2021-05-06 10:43:15,447 - modnet - INFO - Preset #55 fitting finished, loss: 0.3644352376461029\n"
     ]
    },
    {
     "name": "stderr",
     "output_type": "stream",
     "text": [
      " 99%|█████████▉| 356/360 [1:17:48<02:16, 34.05s/it]"
     ]
    },
    {
     "name": "stdout",
     "output_type": "stream",
     "text": [
      "2021-05-06 10:43:21,484 - modnet - INFO - Preset #54 fitting finished, loss: 0.35711362957954407\n"
     ]
    },
    {
     "name": "stderr",
     "output_type": "stream",
     "text": [
      " 99%|█████████▉| 357/360 [1:17:54<01:17, 25.68s/it]"
     ]
    },
    {
     "name": "stdout",
     "output_type": "stream",
     "text": [
      "2021-05-06 10:43:28,826 - modnet - INFO - Preset #55 fitting finished, loss: 836.1574340820313\n"
     ]
    },
    {
     "name": "stderr",
     "output_type": "stream",
     "text": [
      " 99%|█████████▉| 358/360 [1:18:01<00:40, 20.16s/it]"
     ]
    },
    {
     "name": "stdout",
     "output_type": "stream",
     "text": [
      "2021-05-06 10:43:38,181 - modnet - INFO - Preset #55 fitting finished, loss: 0.4540791153907776\n"
     ]
    },
    {
     "name": "stderr",
     "output_type": "stream",
     "text": [
      "100%|█████████▉| 359/360 [1:18:11<00:16, 16.90s/it]"
     ]
    },
    {
     "name": "stdout",
     "output_type": "stream",
     "text": [
      "2021-05-06 10:48:39,490 - modnet - INFO - Preset #55 fitting finished, loss: 0.36098403930664064\n"
     ]
    },
    {
     "name": "stderr",
     "output_type": "stream",
     "text": [
      "100%|██████████| 360/360 [1:23:12<00:00, 13.87s/it] \n"
     ]
    },
    {
     "name": "stdout",
     "output_type": "stream",
     "text": [
      "2021-05-06 10:48:43,452 - modnet - INFO - Preset #27 resulted in lowest validation loss with params {'train_data': <modnet.preprocessing.MODData object at 0x7f6059205c40>, 'targets': [[['exp_gap']]], 'weights': {'exp_gap': 1}, 'n_models': 5, 'num_classes': {'exp_gap': 0}, 'n_feat': 128, 'num_neurons': [[128], [64], [16], [16]], 'lr': 0.005, 'batch_size': 64, 'epochs': 1000, 'loss': 'mae', 'act': 'elu', 'out_act': 'linear', 'callbacks': [<tensorflow.python.keras.callbacks.EarlyStopping object at 0x7f6074d6c550>], 'preset_id': 26, 'fold_id': 1, 'verbose': 0, 'val_data': <modnet.preprocessing.MODData object at 0x7f60591fa970>}\n",
      "mae\n",
      "0.37161023605920246\n",
      "uncertainty\n",
      "0.34915224\n",
      "2021-05-06 10:49:14,043 - modnet - INFO - Loaded <modnet.preprocessing.MODData object at 0x7f6077e40400> object, created with modnet version 0.1.9\n",
      "2021-05-06 10:49:18,231 - modnet - INFO - Proceeding with grid search: archs: [(64, [[128], [32], [8], [8]]), (64, [[64], [32], [8], [8]]), (64, [[32], [16], [8], [8]]), (128, [[256], [64], [16], [16]]), (128, [[128], [64], [16], [16]]), (128, [[64], [32], [16], [16]]), (256, [[512], [128], [32], [32]]), (256, [[256], [128], [32], [32]]), (256, [[128], [64], [32], [32]]), (512, [[1024], [256], [64], [64]]), (512, [[512], [256], [64], [64]]), (512, [[256], [128], [64], [64]])], batch sizes: [64], learning_rates: [0.001, 0.005, 0.01]\n",
      "2021-05-06 10:49:24,133 - modnet - INFO - Multiprocessing on 64 cores. Total of 128 cores available.\n"
     ]
    },
    {
     "name": "stderr",
     "output_type": "stream",
     "text": [
      "  0%|          | 0/360 [00:00<?, ?it/s]"
     ]
    },
    {
     "name": "stdout",
     "output_type": "stream",
     "text": [
      "2021-05-06 10:58:49,428 - modnet - INFO - Preset #10 fitting finished, loss: 0.4618215799331665\n"
     ]
    },
    {
     "name": "stderr",
     "output_type": "stream",
     "text": [
      "  0%|          | 1/360 [09:26<56:29:59, 566.57s/it]"
     ]
    },
    {
     "name": "stdout",
     "output_type": "stream",
     "text": [
      "2021-05-06 10:58:53,363 - modnet - INFO - Preset #4 fitting finished, loss: 0.5237317442893982\n"
     ]
    },
    {
     "name": "stderr",
     "output_type": "stream",
     "text": [
      "  1%|          | 2/360 [09:30<39:33:06, 397.73s/it]"
     ]
    },
    {
     "name": "stdout",
     "output_type": "stream",
     "text": [
      "2021-05-06 10:58:55,858 - modnet - INFO - Preset #11 fitting finished, loss: 0.43320748805999754\n"
     ]
    },
    {
     "name": "stderr",
     "output_type": "stream",
     "text": [
      "  1%|          | 3/360 [09:32<27:41:04, 279.17s/it]"
     ]
    },
    {
     "name": "stdout",
     "output_type": "stream",
     "text": [
      "2021-05-06 10:59:09,448 - modnet - INFO - Preset #11 fitting finished, loss: 0.5103224635124206\n"
     ]
    },
    {
     "name": "stderr",
     "output_type": "stream",
     "text": [
      "  1%|          | 4/360 [09:46<19:43:15, 199.42s/it]"
     ]
    },
    {
     "name": "stdout",
     "output_type": "stream",
     "text": [
      "2021-05-06 10:59:19,811 - modnet - INFO - Preset #5 fitting finished, loss: 0.44877583980560304\n"
     ]
    },
    {
     "name": "stderr",
     "output_type": "stream",
     "text": [
      "  1%|▏         | 5/360 [09:56<14:04:38, 142.76s/it]"
     ]
    },
    {
     "name": "stdout",
     "output_type": "stream",
     "text": [
      "2021-05-06 10:59:39,195 - modnet - INFO - Preset #8 fitting finished, loss: 0.5157026827335358\n"
     ]
    },
    {
     "name": "stderr",
     "output_type": "stream",
     "text": [
      "  2%|▏         | 6/360 [10:16<10:23:55, 105.75s/it]"
     ]
    },
    {
     "name": "stdout",
     "output_type": "stream",
     "text": [
      "2021-05-06 10:59:59,528 - modnet - INFO - Preset #5 fitting finished, loss: 0.49940107464790345\n"
     ]
    },
    {
     "name": "stderr",
     "output_type": "stream",
     "text": [
      "  2%|▏         | 7/360 [10:36<7:51:03, 80.07s/it]  "
     ]
    },
    {
     "name": "stdout",
     "output_type": "stream",
     "text": [
      "2021-05-06 11:00:13,843 - modnet - INFO - Preset #9 fitting finished, loss: 0.41935413479804995\n"
     ]
    },
    {
     "name": "stderr",
     "output_type": "stream",
     "text": [
      "  2%|▏         | 8/360 [10:50<5:54:05, 60.36s/it]"
     ]
    },
    {
     "name": "stdout",
     "output_type": "stream",
     "text": [
      "2021-05-06 11:00:36,911 - modnet - INFO - Preset #3 fitting finished, loss: 0.4804335355758667\n"
     ]
    },
    {
     "name": "stderr",
     "output_type": "stream",
     "text": [
      "  2%|▎         | 9/360 [11:13<4:47:23, 49.13s/it]"
     ]
    },
    {
     "name": "stdout",
     "output_type": "stream",
     "text": [
      "2021-05-06 11:00:52,291 - modnet - INFO - Preset #10 fitting finished, loss: 0.4262162744998932\n"
     ]
    },
    {
     "name": "stderr",
     "output_type": "stream",
     "text": [
      "  3%|▎         | 10/360 [11:29<3:47:42, 39.04s/it]"
     ]
    },
    {
     "name": "stdout",
     "output_type": "stream",
     "text": [
      "2021-05-06 11:00:57,676 - modnet - INFO - Preset #3 fitting finished, loss: 0.46322323083877565\n"
     ]
    },
    {
     "name": "stderr",
     "output_type": "stream",
     "text": [
      "  3%|▎         | 11/360 [11:34<2:48:32, 28.98s/it]"
     ]
    },
    {
     "name": "stdout",
     "output_type": "stream",
     "text": [
      "2021-05-06 11:01:00,683 - modnet - INFO - Preset #4 fitting finished, loss: 0.4360948920249939\n"
     ]
    },
    {
     "name": "stderr",
     "output_type": "stream",
     "text": [
      "  3%|▎         | 12/360 [11:37<2:02:50, 21.18s/it]"
     ]
    },
    {
     "name": "stdout",
     "output_type": "stream",
     "text": [
      "2021-05-06 11:01:03,899 - modnet - INFO - Preset #11 fitting finished, loss: 0.4812524259090424\n"
     ]
    },
    {
     "name": "stderr",
     "output_type": "stream",
     "text": [
      "  4%|▎         | 13/360 [11:40<1:31:30, 15.82s/it]"
     ]
    },
    {
     "name": "stdout",
     "output_type": "stream",
     "text": [
      "2021-05-06 11:01:26,112 - modnet - INFO - Preset #2 fitting finished, loss: 0.47493672370910645\n"
     ]
    },
    {
     "name": "stderr",
     "output_type": "stream",
     "text": [
      "  4%|▍         | 14/360 [12:03<1:42:34, 17.79s/it]"
     ]
    },
    {
     "name": "stdout",
     "output_type": "stream",
     "text": [
      "2021-05-06 11:01:29,102 - modnet - INFO - Preset #10 fitting finished, loss: 0.5067520558834075\n"
     ]
    },
    {
     "name": "stderr",
     "output_type": "stream",
     "text": [
      "  4%|▍         | 15/360 [12:06<1:16:22, 13.28s/it]"
     ]
    },
    {
     "name": "stdout",
     "output_type": "stream",
     "text": [
      "2021-05-06 11:01:33,567 - modnet - INFO - Preset #10 fitting finished, loss: 0.45449739694595337\n"
     ]
    },
    {
     "name": "stderr",
     "output_type": "stream",
     "text": [
      "  4%|▍         | 16/360 [12:10<1:00:59, 10.64s/it]"
     ]
    },
    {
     "name": "stdout",
     "output_type": "stream",
     "text": [
      "2021-05-06 11:01:53,406 - modnet - INFO - Preset #8 fitting finished, loss: 0.4611852943897247\n"
     ]
    },
    {
     "name": "stderr",
     "output_type": "stream",
     "text": [
      "  5%|▍         | 17/360 [12:30<1:16:36, 13.40s/it]"
     ]
    },
    {
     "name": "stdout",
     "output_type": "stream",
     "text": [
      "2021-05-06 11:01:54,934 - modnet - INFO - Preset #5 fitting finished, loss: 0.38627512454986573\n"
     ]
    },
    {
     "name": "stderr",
     "output_type": "stream",
     "text": [
      "  5%|▌         | 18/360 [12:31<56:02,  9.83s/it]  "
     ]
    },
    {
     "name": "stdout",
     "output_type": "stream",
     "text": [
      "2021-05-06 11:01:57,448 - modnet - INFO - Preset #3 fitting finished, loss: 0.4096309721469879\n"
     ]
    },
    {
     "name": "stderr",
     "output_type": "stream",
     "text": [
      "  5%|▌         | 19/360 [12:34<43:20,  7.63s/it]"
     ]
    },
    {
     "name": "stdout",
     "output_type": "stream",
     "text": [
      "2021-05-06 11:02:07,590 - modnet - INFO - Preset #11 fitting finished, loss: 0.4436216175556183\n"
     ]
    },
    {
     "name": "stderr",
     "output_type": "stream",
     "text": [
      "  6%|▌         | 20/360 [12:46<51:38,  9.11s/it]"
     ]
    },
    {
     "name": "stdout",
     "output_type": "stream",
     "text": [
      "2021-05-06 11:02:11,058 - modnet - INFO - Preset #9 fitting finished, loss: 0.49435760378837584\n"
     ]
    },
    {
     "name": "stderr",
     "output_type": "stream",
     "text": [
      "  6%|▌         | 21/360 [12:47<37:47,  6.69s/it]"
     ]
    },
    {
     "name": "stdout",
     "output_type": "stream",
     "text": [
      "2021-05-06 11:02:12,349 - modnet - INFO - Preset #2 fitting finished, loss: 0.4895566403865814\n"
     ]
    },
    {
     "name": "stderr",
     "output_type": "stream",
     "text": [
      "  6%|▌         | 22/360 [12:49<28:43,  5.10s/it]"
     ]
    },
    {
     "name": "stdout",
     "output_type": "stream",
     "text": [
      "2021-05-06 11:02:20,214 - modnet - INFO - Preset #4 fitting finished, loss: 0.36601316928863525\n"
     ]
    },
    {
     "name": "stderr",
     "output_type": "stream",
     "text": [
      "  6%|▋         | 23/360 [12:56<32:55,  5.86s/it]"
     ]
    },
    {
     "name": "stdout",
     "output_type": "stream",
     "text": [
      "2021-05-06 11:02:21,115 - modnet - INFO - Preset #8 fitting finished, loss: 0.4703569710254669\n"
     ]
    },
    {
     "name": "stderr",
     "output_type": "stream",
     "text": [
      "  7%|▋         | 24/360 [12:57<24:36,  4.39s/it]"
     ]
    },
    {
     "name": "stdout",
     "output_type": "stream",
     "text": [
      "2021-05-06 11:02:36,163 - modnet - INFO - Preset #11 fitting finished, loss: 0.38823469281196593\n"
     ]
    },
    {
     "name": "stderr",
     "output_type": "stream",
     "text": [
      "  7%|▋         | 25/360 [13:12<42:21,  7.59s/it]"
     ]
    },
    {
     "name": "stdout",
     "output_type": "stream",
     "text": [
      "2021-05-06 11:02:42,799 - modnet - INFO - Preset #10 fitting finished, loss: 0.3887639880180359\n"
     ]
    },
    {
     "name": "stderr",
     "output_type": "stream",
     "text": [
      "  7%|▋         | 26/360 [13:19<40:40,  7.31s/it]"
     ]
    },
    {
     "name": "stdout",
     "output_type": "stream",
     "text": [
      "2021-05-06 11:02:46,103 - modnet - INFO - Preset #2 fitting finished, loss: 0.4453429341316223\n"
     ]
    },
    {
     "name": "stderr",
     "output_type": "stream",
     "text": [
      "  8%|▊         | 27/360 [13:22<33:47,  6.09s/it]"
     ]
    },
    {
     "name": "stdout",
     "output_type": "stream",
     "text": [
      "2021-05-06 11:03:10,858 - modnet - INFO - Preset #3 fitting finished, loss: 0.44303229451179504\n"
     ]
    },
    {
     "name": "stderr",
     "output_type": "stream",
     "text": [
      "  8%|▊         | 28/360 [13:48<1:05:20, 11.81s/it]"
     ]
    },
    {
     "name": "stdout",
     "output_type": "stream",
     "text": [
      "2021-05-06 11:03:21,714 - modnet - INFO - Preset #4 fitting finished, loss: 0.4358640968799591\n"
     ]
    },
    {
     "name": "stderr",
     "output_type": "stream",
     "text": [
      "  8%|▊         | 29/360 [13:58<1:03:19, 11.48s/it]"
     ]
    },
    {
     "name": "stdout",
     "output_type": "stream",
     "text": [
      "2021-05-06 11:03:29,471 - modnet - INFO - Preset #5 fitting finished, loss: 0.4644180417060852\n"
     ]
    },
    {
     "name": "stderr",
     "output_type": "stream",
     "text": [
      "  8%|▊         | 30/360 [14:06<56:49, 10.33s/it]  "
     ]
    },
    {
     "name": "stdout",
     "output_type": "stream",
     "text": [
      "2021-05-06 11:03:30,593 - modnet - INFO - Preset #9 fitting finished, loss: 0.48433905839920044\n"
     ]
    },
    {
     "name": "stderr",
     "output_type": "stream",
     "text": [
      "  9%|▊         | 31/360 [14:07<41:47,  7.62s/it]"
     ]
    },
    {
     "name": "stdout",
     "output_type": "stream",
     "text": [
      "2021-05-06 11:03:35,758 - modnet - INFO - Preset #2 fitting finished, loss: 0.410793662071228\n"
     ]
    },
    {
     "name": "stderr",
     "output_type": "stream",
     "text": [
      "  9%|▉         | 32/360 [14:12<36:59,  6.77s/it]"
     ]
    },
    {
     "name": "stdout",
     "output_type": "stream",
     "text": [
      "2021-05-06 11:03:45,472 - modnet - INFO - Preset #9 fitting finished, loss: 0.39178490042686465\n"
     ]
    },
    {
     "name": "stderr",
     "output_type": "stream",
     "text": [
      "  9%|▉         | 33/360 [14:22<41:50,  7.68s/it]"
     ]
    },
    {
     "name": "stdout",
     "output_type": "stream",
     "text": [
      "2021-05-06 11:03:52,097 - modnet - INFO - Preset #9 fitting finished, loss: 0.42276322841644287\n"
     ]
    },
    {
     "name": "stderr",
     "output_type": "stream",
     "text": [
      "  9%|▉         | 34/360 [14:28<39:54,  7.35s/it]"
     ]
    },
    {
     "name": "stdout",
     "output_type": "stream",
     "text": [
      "2021-05-06 11:03:59,049 - modnet - INFO - Preset #8 fitting finished, loss: 0.4178070664405823\n"
     ]
    },
    {
     "name": "stderr",
     "output_type": "stream",
     "text": [
      " 10%|▉         | 35/360 [14:36<39:47,  7.35s/it]"
     ]
    },
    {
     "name": "stdout",
     "output_type": "stream",
     "text": [
      "2021-05-06 11:04:16,561 - modnet - INFO - Preset #1 fitting finished, loss: 0.4907348096370697\n"
     ]
    },
    {
     "name": "stderr",
     "output_type": "stream",
     "text": [
      " 10%|█         | 36/360 [14:53<55:37, 10.30s/it]"
     ]
    },
    {
     "name": "stdout",
     "output_type": "stream",
     "text": [
      "2021-05-06 11:04:43,386 - modnet - INFO - Preset #4 fitting finished, loss: 0.5009415566921234\n"
     ]
    },
    {
     "name": "stderr",
     "output_type": "stream",
     "text": [
      " 10%|█         | 37/360 [15:20<1:22:16, 15.28s/it]"
     ]
    },
    {
     "name": "stdout",
     "output_type": "stream",
     "text": [
      "2021-05-06 11:04:51,099 - modnet - INFO - Preset #0 fitting finished, loss: 0.42302810549736025\n"
     ]
    },
    {
     "name": "stderr",
     "output_type": "stream",
     "text": [
      " 11%|█         | 38/360 [15:27<1:09:39, 12.98s/it]"
     ]
    },
    {
     "name": "stdout",
     "output_type": "stream",
     "text": [
      "2021-05-06 11:05:06,137 - modnet - INFO - Preset #6 fitting finished, loss: 0.5229424118995667\n"
     ]
    },
    {
     "name": "stderr",
     "output_type": "stream",
     "text": [
      " 11%|█         | 39/360 [15:42<1:12:06, 13.48s/it]"
     ]
    },
    {
     "name": "stdout",
     "output_type": "stream",
     "text": [
      "2021-05-06 11:05:06,722 - modnet - INFO - Preset #7 fitting finished, loss: 0.4955466568470001\n"
     ]
    },
    {
     "name": "stderr",
     "output_type": "stream",
     "text": [
      " 11%|█         | 40/360 [15:43<52:17,  9.81s/it]  "
     ]
    },
    {
     "name": "stdout",
     "output_type": "stream",
     "text": [
      "2021-05-06 11:05:16,247 - modnet - INFO - Preset #12 fitting finished, loss: 0.4498973488807678\n"
     ]
    },
    {
     "name": "stderr",
     "output_type": "stream",
     "text": [
      " 11%|█▏        | 41/360 [15:53<51:31,  9.69s/it]"
     ]
    },
    {
     "name": "stdout",
     "output_type": "stream",
     "text": [
      "2021-05-06 11:05:21,804 - modnet - INFO - Preset #3 fitting finished, loss: 0.38744587302207945\n"
     ]
    },
    {
     "name": "stderr",
     "output_type": "stream",
     "text": [
      " 12%|█▏        | 42/360 [15:58<44:56,  8.48s/it]"
     ]
    },
    {
     "name": "stdout",
     "output_type": "stream",
     "text": [
      "2021-05-06 11:05:38,087 - modnet - INFO - Preset #8 fitting finished, loss: 0.408466100692749\n"
     ]
    },
    {
     "name": "stderr",
     "output_type": "stream",
     "text": [
      " 12%|█▏        | 43/360 [16:15<56:58, 10.78s/it]"
     ]
    },
    {
     "name": "stdout",
     "output_type": "stream",
     "text": [
      "2021-05-06 11:05:58,444 - modnet - INFO - Preset #0 fitting finished, loss: 0.49811444878578187\n"
     ]
    },
    {
     "name": "stderr",
     "output_type": "stream",
     "text": [
      " 12%|█▏        | 44/360 [16:35<1:12:07, 13.69s/it]"
     ]
    },
    {
     "name": "stdout",
     "output_type": "stream",
     "text": [
      "2021-05-06 11:06:00,903 - modnet - INFO - Preset #5 fitting finished, loss: 0.47683799266815186\n"
     ]
    },
    {
     "name": "stderr",
     "output_type": "stream",
     "text": [
      " 12%|█▎        | 45/360 [16:37<53:50, 10.25s/it]  "
     ]
    },
    {
     "name": "stdout",
     "output_type": "stream",
     "text": [
      "2021-05-06 11:06:08,827 - modnet - INFO - Preset #2 fitting finished, loss: 0.3916822254657745\n"
     ]
    },
    {
     "name": "stderr",
     "output_type": "stream",
     "text": [
      " 13%|█▎        | 46/360 [16:45<50:10,  9.59s/it]"
     ]
    },
    {
     "name": "stdout",
     "output_type": "stream",
     "text": [
      "2021-05-06 11:06:48,268 - modnet - INFO - Preset #12 fitting finished, loss: 0.4279324173927307\n"
     ]
    },
    {
     "name": "stderr",
     "output_type": "stream",
     "text": [
      " 13%|█▎        | 47/360 [17:25<1:36:36, 18.52s/it]"
     ]
    },
    {
     "name": "stdout",
     "output_type": "stream",
     "text": [
      "2021-05-06 11:07:20,396 - modnet - INFO - Preset #1 fitting finished, loss: 0.5119033694267273\n"
     ]
    },
    {
     "name": "stderr",
     "output_type": "stream",
     "text": [
      " 13%|█▎        | 48/360 [17:57<1:57:43, 22.64s/it]"
     ]
    },
    {
     "name": "stdout",
     "output_type": "stream",
     "text": [
      "2021-05-06 11:07:36,631 - modnet - INFO - Preset #0 fitting finished, loss: 0.4980808854103088\n"
     ]
    },
    {
     "name": "stderr",
     "output_type": "stream",
     "text": [
      " 14%|█▎        | 49/360 [18:16<1:51:37, 21.54s/it]"
     ]
    },
    {
     "name": "stdout",
     "output_type": "stream",
     "text": [
      "2021-05-06 11:07:41,675 - modnet - INFO - Preset #7 fitting finished, loss: 0.41829012632369994\n"
     ]
    },
    {
     "name": "stderr",
     "output_type": "stream",
     "text": [
      " 14%|█▍        | 50/360 [18:18<1:21:24, 15.76s/it]"
     ]
    },
    {
     "name": "stdout",
     "output_type": "stream",
     "text": [
      "2021-05-06 11:07:54,984 - modnet - INFO - Preset #7 fitting finished, loss: 0.4194004476070404\n"
     ]
    },
    {
     "name": "stderr",
     "output_type": "stream",
     "text": [
      " 14%|█▍        | 51/360 [18:31<1:17:13, 14.99s/it]"
     ]
    },
    {
     "name": "stdout",
     "output_type": "stream",
     "text": [
      "2021-05-06 11:08:03,420 - modnet - INFO - Preset #1 fitting finished, loss: 0.461025607585907\n"
     ]
    },
    {
     "name": "stderr",
     "output_type": "stream",
     "text": [
      " 14%|█▍        | 52/360 [18:40<1:07:19, 13.11s/it]"
     ]
    },
    {
     "name": "stdout",
     "output_type": "stream",
     "text": [
      "2021-05-06 11:08:19,817 - modnet - INFO - Preset #1 fitting finished, loss: 0.41985027194023133\n"
     ]
    },
    {
     "name": "stderr",
     "output_type": "stream",
     "text": [
      " 15%|█▍        | 53/360 [18:56<1:11:59, 14.07s/it]"
     ]
    },
    {
     "name": "stdout",
     "output_type": "stream",
     "text": [
      "2021-05-06 11:08:22,157 - modnet - INFO - Preset #7 fitting finished, loss: 0.5170166432857514\n"
     ]
    },
    {
     "name": "stderr",
     "output_type": "stream",
     "text": [
      " 15%|█▌        | 54/360 [18:59<53:33, 10.50s/it]  "
     ]
    },
    {
     "name": "stdout",
     "output_type": "stream",
     "text": [
      "2021-05-06 11:08:27,652 - modnet - INFO - Preset #6 fitting finished, loss: 0.39908398389816285\n"
     ]
    },
    {
     "name": "stderr",
     "output_type": "stream",
     "text": [
      " 15%|█▌        | 55/360 [19:04<45:30,  8.95s/it]"
     ]
    },
    {
     "name": "stdout",
     "output_type": "stream",
     "text": [
      "2021-05-06 11:08:50,501 - modnet - INFO - Preset #0 fitting finished, loss: 0.41029831767082214\n"
     ]
    },
    {
     "name": "stderr",
     "output_type": "stream",
     "text": [
      " 16%|█▌        | 56/360 [19:27<1:07:00, 13.22s/it]"
     ]
    },
    {
     "name": "stdout",
     "output_type": "stream",
     "text": [
      "2021-05-06 11:08:59,738 - modnet - INFO - Preset #7 fitting finished, loss: 0.46955586075782774\n"
     ]
    },
    {
     "name": "stderr",
     "output_type": "stream",
     "text": [
      " 16%|█▌        | 57/360 [19:36<1:00:34, 11.99s/it]"
     ]
    },
    {
     "name": "stdout",
     "output_type": "stream",
     "text": [
      "2021-05-06 11:09:00,831 - modnet - INFO - Preset #6 fitting finished, loss: 0.478424197435379\n"
     ]
    },
    {
     "name": "stderr",
     "output_type": "stream",
     "text": [
      " 16%|█▌        | 58/360 [19:37<44:11,  8.78s/it]  "
     ]
    },
    {
     "name": "stdout",
     "output_type": "stream",
     "text": [
      "2021-05-06 11:09:02,130 - modnet - INFO - Preset #12 fitting finished, loss: 0.51834357380867\n"
     ]
    },
    {
     "name": "stderr",
     "output_type": "stream",
     "text": [
      " 16%|█▋        | 59/360 [19:39<32:35,  6.50s/it]"
     ]
    },
    {
     "name": "stdout",
     "output_type": "stream",
     "text": [
      "2021-05-06 11:09:03,268 - modnet - INFO - Preset #6 fitting finished, loss: 0.4238621234893799\n"
     ]
    },
    {
     "name": "stderr",
     "output_type": "stream",
     "text": [
      " 17%|█▋        | 60/360 [19:40<24:13,  4.85s/it]"
     ]
    },
    {
     "name": "stdout",
     "output_type": "stream",
     "text": [
      "2021-05-06 11:09:31,821 - modnet - INFO - Preset #0 fitting finished, loss: 0.48361705541610717\n"
     ]
    },
    {
     "name": "stderr",
     "output_type": "stream",
     "text": [
      " 17%|█▋        | 61/360 [20:08<59:49, 12.00s/it]"
     ]
    },
    {
     "name": "stdout",
     "output_type": "stream",
     "text": [
      "2021-05-06 11:09:45,782 - modnet - INFO - Preset #6 fitting finished, loss: 0.48254542946815493\n"
     ]
    },
    {
     "name": "stderr",
     "output_type": "stream",
     "text": [
      " 17%|█▋        | 62/360 [20:22<1:02:22, 12.56s/it]"
     ]
    },
    {
     "name": "stdout",
     "output_type": "stream",
     "text": [
      "2021-05-06 11:09:55,578 - modnet - INFO - Preset #12 fitting finished, loss: 0.4348756670951843\n"
     ]
    },
    {
     "name": "stderr",
     "output_type": "stream",
     "text": [
      " 18%|█▊        | 63/360 [20:32<58:08, 11.75s/it]  "
     ]
    },
    {
     "name": "stdout",
     "output_type": "stream",
     "text": [
      "2021-05-06 11:10:08,155 - modnet - INFO - Preset #1 fitting finished, loss: 0.43310810923576354\n"
     ]
    },
    {
     "name": "stderr",
     "output_type": "stream",
     "text": [
      " 18%|█▊        | 64/360 [20:45<59:05, 11.98s/it]"
     ]
    },
    {
     "name": "stdout",
     "output_type": "stream",
     "text": [
      "2021-05-06 11:10:14,590 - modnet - INFO - Preset #16 fitting finished, loss: 0.4243753731250763\n"
     ]
    },
    {
     "name": "stderr",
     "output_type": "stream",
     "text": [
      " 18%|█▊        | 65/360 [20:51<50:48, 10.33s/it]"
     ]
    },
    {
     "name": "stdout",
     "output_type": "stream",
     "text": [
      "2021-05-06 11:10:38,336 - modnet - INFO - Preset #14 fitting finished, loss: 0.4947222113609314\n"
     ]
    },
    {
     "name": "stderr",
     "output_type": "stream",
     "text": [
      " 18%|█▊        | 66/360 [21:15<1:10:15, 14.34s/it]"
     ]
    },
    {
     "name": "stdout",
     "output_type": "stream",
     "text": [
      "2021-05-06 11:10:46,342 - modnet - INFO - Preset #16 fitting finished, loss: 0.4600818932056427\n"
     ]
    },
    {
     "name": "stderr",
     "output_type": "stream",
     "text": [
      " 19%|█▊        | 67/360 [21:23<1:00:36, 12.41s/it]"
     ]
    },
    {
     "name": "stdout",
     "output_type": "stream",
     "text": [
      "2021-05-06 11:12:00,303 - modnet - INFO - Preset #18 fitting finished, loss: 0.5057702898979187\n"
     ]
    },
    {
     "name": "stderr",
     "output_type": "stream",
     "text": [
      " 19%|█▉        | 68/360 [22:36<2:30:00, 30.82s/it]"
     ]
    },
    {
     "name": "stdout",
     "output_type": "stream",
     "text": [
      "2021-05-06 11:12:07,742 - modnet - INFO - Preset #14 fitting finished, loss: 0.4911412298679352\n"
     ]
    },
    {
     "name": "stderr",
     "output_type": "stream",
     "text": [
      " 19%|█▉        | 69/360 [22:44<1:55:41, 23.85s/it]"
     ]
    },
    {
     "name": "stdout",
     "output_type": "stream",
     "text": [
      "2021-05-06 11:12:17,943 - modnet - INFO - Preset #17 fitting finished, loss: 0.4902082920074463\n"
     ]
    },
    {
     "name": "stderr",
     "output_type": "stream",
     "text": [
      " 19%|█▉        | 70/360 [22:54<1:35:12, 19.70s/it]"
     ]
    },
    {
     "name": "stdout",
     "output_type": "stream",
     "text": [
      "2021-05-06 11:12:27,501 - modnet - INFO - Preset #15 fitting finished, loss: 0.4399795413017273\n"
     ]
    },
    {
     "name": "stderr",
     "output_type": "stream",
     "text": [
      " 20%|█▉        | 71/360 [23:04<1:20:25, 16.70s/it]"
     ]
    },
    {
     "name": "stdout",
     "output_type": "stream",
     "text": [
      "2021-05-06 11:12:55,949 - modnet - INFO - Preset #14 fitting finished, loss: 0.41377303600311277\n"
     ]
    },
    {
     "name": "stderr",
     "output_type": "stream",
     "text": [
      " 20%|██        | 72/360 [23:32<1:37:19, 20.27s/it]"
     ]
    },
    {
     "name": "stdout",
     "output_type": "stream",
     "text": [
      "2021-05-06 11:12:59,348 - modnet - INFO - Preset #15 fitting finished, loss: 0.4760735332965851\n"
     ]
    },
    {
     "name": "stderr",
     "output_type": "stream",
     "text": [
      " 20%|██        | 73/360 [23:36<1:13:09, 15.29s/it]"
     ]
    },
    {
     "name": "stdout",
     "output_type": "stream",
     "text": [
      "2021-05-06 11:13:06,422 - modnet - INFO - Preset #21 fitting finished, loss: 0.4284039199352264\n"
     ]
    },
    {
     "name": "stderr",
     "output_type": "stream",
     "text": [
      " 21%|██        | 74/360 [23:43<1:00:55, 12.78s/it]"
     ]
    },
    {
     "name": "stdout",
     "output_type": "stream",
     "text": [
      "2021-05-06 11:13:20,152 - modnet - INFO - Preset #16 fitting finished, loss: 0.4954072594642639\n"
     ]
    },
    {
     "name": "stderr",
     "output_type": "stream",
     "text": [
      " 21%|██        | 75/360 [23:56<1:01:38, 12.98s/it]"
     ]
    },
    {
     "name": "stdout",
     "output_type": "stream",
     "text": [
      "2021-05-06 11:13:22,653 - modnet - INFO - Preset #16 fitting finished, loss: 0.39679540395736695\n"
     ]
    },
    {
     "name": "stderr",
     "output_type": "stream",
     "text": [
      " 21%|██        | 76/360 [23:59<46:34,  9.84s/it]  "
     ]
    },
    {
     "name": "stdout",
     "output_type": "stream",
     "text": [
      "2021-05-06 11:13:36,149 - modnet - INFO - Preset #15 fitting finished, loss: 0.40712892413139345\n"
     ]
    },
    {
     "name": "stderr",
     "output_type": "stream",
     "text": [
      " 21%|██▏       | 77/360 [24:12<51:17, 10.87s/it]"
     ]
    },
    {
     "name": "stdout",
     "output_type": "stream",
     "text": [
      "2021-05-06 11:14:00,389 - modnet - INFO - Preset #18 fitting finished, loss: 0.4642961919307709\n"
     ]
    },
    {
     "name": "stderr",
     "output_type": "stream",
     "text": [
      " 22%|██▏       | 78/360 [24:37<1:10:22, 14.97s/it]"
     ]
    },
    {
     "name": "stdout",
     "output_type": "stream",
     "text": [
      "2021-05-06 11:14:05,697 - modnet - INFO - Preset #17 fitting finished, loss: 0.3926687896251678\n"
     ]
    },
    {
     "name": "stderr",
     "output_type": "stream",
     "text": [
      " 22%|██▏       | 79/360 [24:42<56:26, 12.05s/it]  "
     ]
    },
    {
     "name": "stdout",
     "output_type": "stream",
     "text": [
      "2021-05-06 11:14:15,569 - modnet - INFO - Preset #21 fitting finished, loss: 0.3947365641593933\n"
     ]
    },
    {
     "name": "stderr",
     "output_type": "stream",
     "text": [
      " 22%|██▏       | 80/360 [24:52<53:07, 11.38s/it]"
     ]
    },
    {
     "name": "stdout",
     "output_type": "stream",
     "text": [
      "2021-05-06 11:14:25,729 - modnet - INFO - Preset #20 fitting finished, loss: 0.5005980491638183\n"
     ]
    },
    {
     "name": "stderr",
     "output_type": "stream",
     "text": [
      " 22%|██▎       | 81/360 [25:02<51:06, 10.99s/it]"
     ]
    },
    {
     "name": "stdout",
     "output_type": "stream",
     "text": [
      "2021-05-06 11:14:35,453 - modnet - INFO - Preset #17 fitting finished, loss: 0.5196952044963836\n"
     ]
    },
    {
     "name": "stderr",
     "output_type": "stream",
     "text": [
      " 23%|██▎       | 82/360 [25:15<54:38, 11.79s/it]"
     ]
    },
    {
     "name": "stdout",
     "output_type": "stream",
     "text": [
      "2021-05-06 11:14:47,812 - modnet - INFO - Preset #20 fitting finished, loss: 0.45992777347564695\n"
     ]
    },
    {
     "name": "stderr",
     "output_type": "stream",
     "text": [
      " 23%|██▎       | 83/360 [25:24<49:54, 10.81s/it]"
     ]
    },
    {
     "name": "stdout",
     "output_type": "stream",
     "text": [
      "2021-05-06 11:14:48,682 - modnet - INFO - Preset #20 fitting finished, loss: 0.4068808853626251\n"
     ]
    },
    {
     "name": "stderr",
     "output_type": "stream",
     "text": [
      " 23%|██▎       | 84/360 [25:25<36:21,  7.91s/it]"
     ]
    },
    {
     "name": "stdout",
     "output_type": "stream",
     "text": [
      "2021-05-06 11:14:50,476 - modnet - INFO - Preset #18 fitting finished, loss: 0.41629870533943175\n"
     ]
    },
    {
     "name": "stderr",
     "output_type": "stream",
     "text": [
      " 24%|██▎       | 85/360 [25:26<27:09,  5.93s/it]"
     ]
    },
    {
     "name": "stdout",
     "output_type": "stream",
     "text": [
      "2021-05-06 11:14:52,119 - modnet - INFO - Preset #19 fitting finished, loss: 0.4869122803211212\n"
     ]
    },
    {
     "name": "stderr",
     "output_type": "stream",
     "text": [
      " 24%|██▍       | 86/360 [25:28<21:24,  4.69s/it]"
     ]
    },
    {
     "name": "stdout",
     "output_type": "stream",
     "text": [
      "2021-05-06 11:14:54,041 - modnet - INFO - Preset #13 fitting finished, loss: 0.5107874870300293\n"
     ]
    },
    {
     "name": "stderr",
     "output_type": "stream",
     "text": [
      " 24%|██▍       | 87/360 [25:30<17:16,  3.80s/it]"
     ]
    },
    {
     "name": "stdout",
     "output_type": "stream",
     "text": [
      "2021-05-06 11:14:58,115 - modnet - INFO - Preset #19 fitting finished, loss: 0.4594049692153931\n"
     ]
    },
    {
     "name": "stderr",
     "output_type": "stream",
     "text": [
      " 24%|██▍       | 88/360 [25:34<18:10,  4.01s/it]"
     ]
    },
    {
     "name": "stdout",
     "output_type": "stream",
     "text": [
      "2021-05-06 11:15:07,432 - modnet - INFO - Preset #20 fitting finished, loss: 0.40303182005882265\n"
     ]
    },
    {
     "name": "stderr",
     "output_type": "stream",
     "text": [
      " 25%|██▍       | 89/360 [25:43<24:39,  5.46s/it]"
     ]
    },
    {
     "name": "stdout",
     "output_type": "stream",
     "text": [
      "2021-05-06 11:15:15,801 - modnet - INFO - Preset #15 fitting finished, loss: 0.505511337518692\n"
     ]
    },
    {
     "name": "stderr",
     "output_type": "stream",
     "text": [
      " 25%|██▌       | 90/360 [25:52<28:18,  6.29s/it]"
     ]
    },
    {
     "name": "stdout",
     "output_type": "stream",
     "text": [
      "2021-05-06 11:15:20,621 - modnet - INFO - Preset #17 fitting finished, loss: 0.44925698041915896\n"
     ]
    },
    {
     "name": "stderr",
     "output_type": "stream",
     "text": [
      " 25%|██▌       | 91/360 [25:57<26:35,  5.93s/it]"
     ]
    },
    {
     "name": "stdout",
     "output_type": "stream",
     "text": [
      "2021-05-06 11:15:28,273 - modnet - INFO - Preset #19 fitting finished, loss: 0.410737133026123\n"
     ]
    },
    {
     "name": "stderr",
     "output_type": "stream",
     "text": [
      " 26%|██▌       | 92/360 [26:04<28:33,  6.40s/it]"
     ]
    },
    {
     "name": "stdout",
     "output_type": "stream",
     "text": [
      "2021-05-06 11:16:00,105 - modnet - INFO - Preset #17 fitting finished, loss: 0.43032660484313967\n"
     ]
    },
    {
     "name": "stderr",
     "output_type": "stream",
     "text": [
      " 26%|██▌       | 93/360 [26:36<1:02:36, 14.07s/it]"
     ]
    },
    {
     "name": "stdout",
     "output_type": "stream",
     "text": [
      "2021-05-06 11:16:04,123 - modnet - INFO - Preset #16 fitting finished, loss: 0.4765792787075043\n"
     ]
    },
    {
     "name": "stderr",
     "output_type": "stream",
     "text": [
      " 26%|██▌       | 94/360 [26:40<48:50, 11.02s/it]  "
     ]
    },
    {
     "name": "stdout",
     "output_type": "stream",
     "text": [
      "2021-05-06 11:16:12,146 - modnet - INFO - Preset #14 fitting finished, loss: 0.40347188115119936\n"
     ]
    },
    {
     "name": "stderr",
     "output_type": "stream",
     "text": [
      " 26%|██▋       | 95/360 [26:48<44:48, 10.15s/it]"
     ]
    },
    {
     "name": "stdout",
     "output_type": "stream",
     "text": [
      "2021-05-06 11:16:18,237 - modnet - INFO - Preset #23 fitting finished, loss: 0.6518999457359314\n"
     ]
    },
    {
     "name": "stderr",
     "output_type": "stream",
     "text": [
      " 27%|██▋       | 96/360 [26:54<39:19,  8.94s/it]"
     ]
    },
    {
     "name": "stdout",
     "output_type": "stream",
     "text": [
      "2021-05-06 11:16:23,221 - modnet - INFO - Preset #13 fitting finished, loss: 0.4237443387508392\n"
     ]
    },
    {
     "name": "stderr",
     "output_type": "stream",
     "text": [
      " 27%|██▋       | 97/360 [27:00<34:25,  7.85s/it]"
     ]
    },
    {
     "name": "stdout",
     "output_type": "stream",
     "text": [
      "2021-05-06 11:16:24,454 - modnet - INFO - Preset #15 fitting finished, loss: 0.42640729546546935\n"
     ]
    },
    {
     "name": "stderr",
     "output_type": "stream",
     "text": [
      " 27%|██▋       | 98/360 [27:01<25:34,  5.86s/it]"
     ]
    },
    {
     "name": "stdout",
     "output_type": "stream",
     "text": [
      "2021-05-06 11:16:31,784 - modnet - INFO - Preset #13 fitting finished, loss: 0.4139832615852356\n"
     ]
    },
    {
     "name": "stderr",
     "output_type": "stream",
     "text": [
      " 28%|██▊       | 99/360 [27:08<26:48,  6.16s/it]"
     ]
    },
    {
     "name": "stdout",
     "output_type": "stream",
     "text": [
      "2021-05-06 11:16:33,734 - modnet - INFO - Preset #22 fitting finished, loss: 0.41565163135528566\n"
     ]
    },
    {
     "name": "stderr",
     "output_type": "stream",
     "text": [
      " 28%|██▊       | 100/360 [27:10<21:11,  4.89s/it]"
     ]
    },
    {
     "name": "stdout",
     "output_type": "stream",
     "text": [
      "2021-05-06 11:16:41,663 - modnet - INFO - Preset #23 fitting finished, loss: 0.5356468498706818\n"
     ]
    },
    {
     "name": "stderr",
     "output_type": "stream",
     "text": [
      " 28%|██▊       | 101/360 [27:18<25:20,  5.87s/it]"
     ]
    },
    {
     "name": "stdout",
     "output_type": "stream",
     "text": [
      "2021-05-06 11:17:11,392 - modnet - INFO - Preset #13 fitting finished, loss: 0.5195290327072144\n"
     ]
    },
    {
     "name": "stderr",
     "output_type": "stream",
     "text": [
      " 28%|██▊       | 102/360 [27:47<55:46, 12.97s/it]"
     ]
    },
    {
     "name": "stdout",
     "output_type": "stream",
     "text": [
      "2021-05-06 11:17:46,493 - modnet - INFO - Preset #22 fitting finished, loss: 0.433180159330368\n"
     ]
    },
    {
     "name": "stderr",
     "output_type": "stream",
     "text": [
      " 29%|██▊       | 103/360 [28:23<1:25:02, 19.85s/it]"
     ]
    },
    {
     "name": "stdout",
     "output_type": "stream",
     "text": [
      "2021-05-06 11:17:48,551 - modnet - INFO - Preset #21 fitting finished, loss: 0.5024520874023437\n"
     ]
    },
    {
     "name": "stderr",
     "output_type": "stream",
     "text": [
      " 29%|██▉       | 104/360 [28:25<1:01:52, 14.50s/it]"
     ]
    },
    {
     "name": "stdout",
     "output_type": "stream",
     "text": [
      "2021-05-06 11:17:58,414 - modnet - INFO - Preset #14 fitting finished, loss: 0.3928041696548462\n"
     ]
    },
    {
     "name": "stderr",
     "output_type": "stream",
     "text": [
      " 29%|██▉       | 105/360 [28:35<55:23, 13.03s/it]  "
     ]
    },
    {
     "name": "stdout",
     "output_type": "stream",
     "text": [
      "2021-05-06 11:18:03,456 - modnet - INFO - Preset #13 fitting finished, loss: 0.4678423464298248\n"
     ]
    },
    {
     "name": "stderr",
     "output_type": "stream",
     "text": [
      " 29%|██▉       | 106/360 [28:40<45:03, 10.65s/it]"
     ]
    },
    {
     "name": "stdout",
     "output_type": "stream",
     "text": [
      "2021-05-06 11:18:24,774 - modnet - INFO - Preset #12 fitting finished, loss: 0.4797457158565521\n"
     ]
    },
    {
     "name": "stderr",
     "output_type": "stream",
     "text": [
      " 30%|██▉       | 107/360 [29:01<58:33, 13.89s/it]"
     ]
    },
    {
     "name": "stdout",
     "output_type": "stream",
     "text": [
      "2021-05-06 11:18:35,081 - modnet - INFO - Preset #18 fitting finished, loss: 0.4191223978996277\n"
     ]
    },
    {
     "name": "stderr",
     "output_type": "stream",
     "text": [
      " 30%|███       | 108/360 [29:11<53:29, 12.74s/it]"
     ]
    },
    {
     "name": "stdout",
     "output_type": "stream",
     "text": [
      "2021-05-06 11:19:14,964 - modnet - INFO - Preset #19 fitting finished, loss: 0.430941641330719\n"
     ]
    },
    {
     "name": "stderr",
     "output_type": "stream",
     "text": [
      " 30%|███       | 109/360 [29:51<1:27:32, 20.93s/it]"
     ]
    },
    {
     "name": "stdout",
     "output_type": "stream",
     "text": [
      "2021-05-06 11:19:24,972 - modnet - INFO - Preset #24 fitting finished, loss: 0.4126783192157745\n"
     ]
    },
    {
     "name": "stderr",
     "output_type": "stream",
     "text": [
      " 31%|███       | 110/360 [30:02<1:13:42, 17.69s/it]"
     ]
    },
    {
     "name": "stdout",
     "output_type": "stream",
     "text": [
      "2021-05-06 11:19:49,072 - modnet - INFO - Preset #18 fitting finished, loss: 0.4089458167552948\n"
     ]
    },
    {
     "name": "stderr",
     "output_type": "stream",
     "text": [
      " 31%|███       | 111/360 [30:25<1:21:02, 19.53s/it]"
     ]
    },
    {
     "name": "stdout",
     "output_type": "stream",
     "text": [
      "2021-05-06 11:19:55,808 - modnet - INFO - Preset #22 fitting finished, loss: 0.39215359687805174\n"
     ]
    },
    {
     "name": "stderr",
     "output_type": "stream",
     "text": [
      " 31%|███       | 112/360 [30:32<1:05:02, 15.74s/it]"
     ]
    },
    {
     "name": "stdout",
     "output_type": "stream",
     "text": [
      "2021-05-06 11:20:00,157 - modnet - INFO - Preset #26 fitting finished, loss: 0.497205913066864\n"
     ]
    },
    {
     "name": "stderr",
     "output_type": "stream",
     "text": [
      " 31%|███▏      | 113/360 [30:37<50:53, 12.36s/it]  "
     ]
    },
    {
     "name": "stdout",
     "output_type": "stream",
     "text": [
      "2021-05-06 11:20:02,525 - modnet - INFO - Preset #19 fitting finished, loss: 0.4149488747119904\n"
     ]
    },
    {
     "name": "stderr",
     "output_type": "stream",
     "text": [
      " 32%|███▏      | 114/360 [30:39<38:14,  9.33s/it]"
     ]
    },
    {
     "name": "stdout",
     "output_type": "stream",
     "text": [
      "2021-05-06 11:20:26,594 - modnet - INFO - Preset #22 fitting finished, loss: 0.6238807201385498\n"
     ]
    },
    {
     "name": "stderr",
     "output_type": "stream",
     "text": [
      " 32%|███▏      | 115/360 [31:03<55:55, 13.70s/it]"
     ]
    },
    {
     "name": "stdout",
     "output_type": "stream",
     "text": [
      "2021-05-06 11:20:39,799 - modnet - INFO - Preset #27 fitting finished, loss: 0.5048921644687653\n"
     ]
    },
    {
     "name": "stderr",
     "output_type": "stream",
     "text": [
      " 32%|███▏      | 116/360 [31:16<55:27, 13.64s/it]"
     ]
    },
    {
     "name": "stdout",
     "output_type": "stream",
     "text": [
      "2021-05-06 11:20:50,356 - modnet - INFO - Preset #23 fitting finished, loss: 0.3969755470752716\n"
     ]
    },
    {
     "name": "stderr",
     "output_type": "stream",
     "text": [
      " 32%|███▎      | 117/360 [31:27<51:24, 12.69s/it]"
     ]
    },
    {
     "name": "stdout",
     "output_type": "stream",
     "text": [
      "2021-05-06 11:20:51,524 - modnet - INFO - Preset #26 fitting finished, loss: 0.40825492739677427\n"
     ]
    },
    {
     "name": "stderr",
     "output_type": "stream",
     "text": [
      " 33%|███▎      | 118/360 [31:28<37:34,  9.31s/it]"
     ]
    },
    {
     "name": "stdout",
     "output_type": "stream",
     "text": [
      "2021-05-06 11:21:05,595 - modnet - INFO - Preset #24 fitting finished, loss: 0.421988970041275\n"
     ]
    },
    {
     "name": "stderr",
     "output_type": "stream",
     "text": [
      " 33%|███▎      | 119/360 [31:42<42:45, 10.64s/it]"
     ]
    },
    {
     "name": "stdout",
     "output_type": "stream",
     "text": [
      "2021-05-06 11:21:06,668 - modnet - INFO - Preset #21 fitting finished, loss: 0.4468065738677979\n"
     ]
    },
    {
     "name": "stderr",
     "output_type": "stream",
     "text": [
      " 33%|███▎      | 120/360 [31:43<30:56,  7.74s/it]"
     ]
    },
    {
     "name": "stdout",
     "output_type": "stream",
     "text": [
      "2021-05-06 11:21:07,658 - modnet - INFO - Preset #27 fitting finished, loss: 0.4026436507701874\n"
     ]
    },
    {
     "name": "stderr",
     "output_type": "stream",
     "text": [
      " 34%|███▎      | 121/360 [31:48<27:43,  6.96s/it]"
     ]
    },
    {
     "name": "stdout",
     "output_type": "stream",
     "text": [
      "2021-05-06 11:21:12,787 - modnet - INFO - Preset #28 fitting finished, loss: 0.49561055898666384\n"
     ]
    },
    {
     "name": "stderr",
     "output_type": "stream",
     "text": [
      " 34%|███▍      | 122/360 [31:49<20:36,  5.20s/it]"
     ]
    },
    {
     "name": "stdout",
     "output_type": "stream",
     "text": [
      "2021-05-06 11:21:13,834 - modnet - INFO - Preset #21 fitting finished, loss: 0.39711290001869204\n"
     ]
    },
    {
     "name": "stderr",
     "output_type": "stream",
     "text": [
      " 34%|███▍      | 123/360 [31:50<15:40,  3.97s/it]"
     ]
    },
    {
     "name": "stdout",
     "output_type": "stream",
     "text": [
      "2021-05-06 11:21:14,932 - modnet - INFO - Preset #26 fitting finished, loss: 0.4037684679031372\n"
     ]
    },
    {
     "name": "stderr",
     "output_type": "stream",
     "text": [
      " 34%|███▍      | 124/360 [31:52<12:27,  3.17s/it]"
     ]
    },
    {
     "name": "stdout",
     "output_type": "stream",
     "text": [
      "2021-05-06 11:21:16,263 - modnet - INFO - Preset #23 fitting finished, loss: 0.4099653363227844\n"
     ]
    },
    {
     "name": "stderr",
     "output_type": "stream",
     "text": [
      " 35%|███▍      | 125/360 [31:53<10:09,  2.59s/it]"
     ]
    },
    {
     "name": "stdout",
     "output_type": "stream",
     "text": [
      "2021-05-06 11:21:25,078 - modnet - INFO - Preset #27 fitting finished, loss: 0.4074455678462982\n"
     ]
    },
    {
     "name": "stderr",
     "output_type": "stream",
     "text": [
      " 35%|███▌      | 126/360 [32:01<17:03,  4.37s/it]"
     ]
    },
    {
     "name": "stdout",
     "output_type": "stream",
     "text": [
      "2021-05-06 11:21:51,965 - modnet - INFO - Preset #22 fitting finished, loss: 0.41125413179397585\n"
     ]
    },
    {
     "name": "stderr",
     "output_type": "stream",
     "text": [
      " 35%|███▌      | 127/360 [32:29<43:41, 11.25s/it]"
     ]
    },
    {
     "name": "stdout",
     "output_type": "stream",
     "text": [
      "2021-05-06 11:22:03,945 - modnet - INFO - Preset #28 fitting finished, loss: 0.4367541611194611\n"
     ]
    },
    {
     "name": "stderr",
     "output_type": "stream",
     "text": [
      " 36%|███▌      | 128/360 [32:41<44:31, 11.52s/it]"
     ]
    },
    {
     "name": "stdout",
     "output_type": "stream",
     "text": [
      "2021-05-06 11:22:15,608 - modnet - INFO - Preset #26 fitting finished, loss: 0.4612083375453949\n"
     ]
    },
    {
     "name": "stderr",
     "output_type": "stream",
     "text": [
      " 36%|███▌      | 129/360 [32:52<44:03, 11.44s/it]"
     ]
    },
    {
     "name": "stdout",
     "output_type": "stream",
     "text": [
      "2021-05-06 11:22:22,407 - modnet - INFO - Preset #20 fitting finished, loss: 0.42618754506111145\n"
     ]
    },
    {
     "name": "stderr",
     "output_type": "stream",
     "text": [
      " 36%|███▌      | 130/360 [32:59<38:32, 10.06s/it]"
     ]
    },
    {
     "name": "stdout",
     "output_type": "stream",
     "text": [
      "2021-05-06 11:22:28,636 - modnet - INFO - Preset #27 fitting finished, loss: 0.41268781423568723\n"
     ]
    },
    {
     "name": "stderr",
     "output_type": "stream",
     "text": [
      " 36%|███▋      | 131/360 [33:05<34:05,  8.93s/it]"
     ]
    },
    {
     "name": "stdout",
     "output_type": "stream",
     "text": [
      "2021-05-06 11:22:38,882 - modnet - INFO - Preset #27 fitting finished, loss: 0.4394829452037811\n"
     ]
    },
    {
     "name": "stderr",
     "output_type": "stream",
     "text": [
      " 37%|███▋      | 132/360 [33:15<35:16,  9.28s/it]"
     ]
    },
    {
     "name": "stdout",
     "output_type": "stream",
     "text": [
      "2021-05-06 11:22:48,545 - modnet - INFO - Preset #29 fitting finished, loss: 0.42957994937896726\n"
     ]
    },
    {
     "name": "stderr",
     "output_type": "stream",
     "text": [
      " 37%|███▋      | 133/360 [33:25<35:44,  9.45s/it]"
     ]
    },
    {
     "name": "stdout",
     "output_type": "stream",
     "text": [
      "2021-05-06 11:23:11,568 - modnet - INFO - Preset #29 fitting finished, loss: 0.5526342749595642\n"
     ]
    },
    {
     "name": "stderr",
     "output_type": "stream",
     "text": [
      " 37%|███▋      | 134/360 [33:48<50:51, 13.50s/it]"
     ]
    },
    {
     "name": "stdout",
     "output_type": "stream",
     "text": [
      "2021-05-06 11:23:22,172 - modnet - INFO - Preset #28 fitting finished, loss: 0.4440418124198914\n"
     ]
    },
    {
     "name": "stderr",
     "output_type": "stream",
     "text": [
      " 38%|███▊      | 135/360 [33:59<47:28, 12.66s/it]"
     ]
    },
    {
     "name": "stdout",
     "output_type": "stream",
     "text": [
      "2021-05-06 11:23:28,301 - modnet - INFO - Preset #24 fitting finished, loss: 0.41780913472175596\n"
     ]
    },
    {
     "name": "stderr",
     "output_type": "stream",
     "text": [
      " 38%|███▊      | 136/360 [34:05<39:51, 10.68s/it]"
     ]
    },
    {
     "name": "stdout",
     "output_type": "stream",
     "text": [
      "2021-05-06 11:23:29,797 - modnet - INFO - Preset #28 fitting finished, loss: 0.4025523543357849\n"
     ]
    },
    {
     "name": "stderr",
     "output_type": "stream",
     "text": [
      " 38%|███▊      | 137/360 [34:06<29:28,  7.93s/it]"
     ]
    },
    {
     "name": "stdout",
     "output_type": "stream",
     "text": [
      "2021-05-06 11:23:37,238 - modnet - INFO - Preset #25 fitting finished, loss: 0.501285845041275\n"
     ]
    },
    {
     "name": "stderr",
     "output_type": "stream",
     "text": [
      " 38%|███▊      | 138/360 [34:14<28:49,  7.79s/it]"
     ]
    },
    {
     "name": "stdout",
     "output_type": "stream",
     "text": [
      "2021-05-06 11:23:38,478 - modnet - INFO - Preset #24 fitting finished, loss: 0.46146568059921267\n"
     ]
    },
    {
     "name": "stderr",
     "output_type": "stream",
     "text": [
      " 39%|███▊      | 139/360 [34:15<21:16,  5.78s/it]"
     ]
    },
    {
     "name": "stdout",
     "output_type": "stream",
     "text": [
      "2021-05-06 11:24:07,940 - modnet - INFO - Preset #28 fitting finished, loss: 0.4111567437648773\n"
     ]
    },
    {
     "name": "stderr",
     "output_type": "stream",
     "text": [
      " 39%|███▉      | 140/360 [34:44<47:10, 12.86s/it]"
     ]
    },
    {
     "name": "stdout",
     "output_type": "stream",
     "text": [
      "2021-05-06 11:24:10,076 - modnet - INFO - Preset #25 fitting finished, loss: 0.4689077854156494\n"
     ]
    },
    {
     "name": "stderr",
     "output_type": "stream",
     "text": [
      " 39%|███▉      | 141/360 [34:46<35:12,  9.64s/it]"
     ]
    },
    {
     "name": "stdout",
     "output_type": "stream",
     "text": [
      "2021-05-06 11:24:35,334 - modnet - INFO - Preset #29 fitting finished, loss: 0.5063448369503021\n"
     ]
    },
    {
     "name": "stderr",
     "output_type": "stream",
     "text": [
      " 39%|███▉      | 142/360 [35:12<52:21, 14.41s/it]"
     ]
    },
    {
     "name": "stdout",
     "output_type": "stream",
     "text": [
      "2021-05-06 11:25:36,970 - modnet - INFO - Preset #29 fitting finished, loss: 0.4229194760322571\n"
     ]
    },
    {
     "name": "stderr",
     "output_type": "stream",
     "text": [
      " 40%|███▉      | 143/360 [36:13<1:43:06, 28.51s/it]"
     ]
    },
    {
     "name": "stdout",
     "output_type": "stream",
     "text": [
      "2021-05-06 11:25:38,038 - modnet - INFO - Preset #24 fitting finished, loss: 0.5019031643867493\n"
     ]
    },
    {
     "name": "stderr",
     "output_type": "stream",
     "text": [
      " 40%|████      | 144/360 [36:15<1:13:09, 20.32s/it]"
     ]
    },
    {
     "name": "stdout",
     "output_type": "stream",
     "text": [
      "2021-05-06 11:26:23,662 - modnet - INFO - Preset #23 fitting finished, loss: 0.450964492559433\n"
     ]
    },
    {
     "name": "stderr",
     "output_type": "stream",
     "text": [
      " 40%|████      | 145/360 [37:00<1:40:02, 27.92s/it]"
     ]
    },
    {
     "name": "stdout",
     "output_type": "stream",
     "text": [
      "2021-05-06 11:26:44,312 - modnet - INFO - Preset #25 fitting finished, loss: 0.41888073086738586\n"
     ]
    },
    {
     "name": "stderr",
     "output_type": "stream",
     "text": [
      " 41%|████      | 146/360 [37:21<1:31:38, 25.69s/it]"
     ]
    },
    {
     "name": "stdout",
     "output_type": "stream",
     "text": [
      "2021-05-06 11:27:07,003 - modnet - INFO - Preset #34 fitting finished, loss: 0.4311514854431152\n"
     ]
    },
    {
     "name": "stderr",
     "output_type": "stream",
     "text": [
      " 41%|████      | 147/360 [37:43<1:28:03, 24.81s/it]"
     ]
    },
    {
     "name": "stdout",
     "output_type": "stream",
     "text": [
      "2021-05-06 11:27:11,840 - modnet - INFO - Preset #33 fitting finished, loss: 0.5029161036014557\n"
     ]
    },
    {
     "name": "stderr",
     "output_type": "stream",
     "text": [
      " 41%|████      | 148/360 [37:48<1:06:32, 18.83s/it]"
     ]
    },
    {
     "name": "stdout",
     "output_type": "stream",
     "text": [
      "2021-05-06 11:27:15,156 - modnet - INFO - Preset #32 fitting finished, loss: 0.3993779897689819\n"
     ]
    },
    {
     "name": "stderr",
     "output_type": "stream",
     "text": [
      " 41%|████▏     | 149/360 [37:52<49:40, 14.12s/it]  "
     ]
    },
    {
     "name": "stdout",
     "output_type": "stream",
     "text": [
      "2021-05-06 11:27:16,976 - modnet - INFO - Preset #32 fitting finished, loss: 0.40363271832466124\n"
     ]
    },
    {
     "name": "stderr",
     "output_type": "stream",
     "text": [
      " 42%|████▏     | 150/360 [37:54<36:43, 10.49s/it]"
     ]
    },
    {
     "name": "stdout",
     "output_type": "stream",
     "text": [
      "2021-05-06 11:27:18,209 - modnet - INFO - Preset #29 fitting finished, loss: 0.44737109541893005\n"
     ]
    },
    {
     "name": "stderr",
     "output_type": "stream",
     "text": [
      " 42%|████▏     | 151/360 [37:55<27:04,  7.77s/it]"
     ]
    },
    {
     "name": "stdout",
     "output_type": "stream",
     "text": [
      "2021-05-06 11:27:23,750 - modnet - INFO - Preset #25 fitting finished, loss: 0.4286089360713959\n"
     ]
    },
    {
     "name": "stderr",
     "output_type": "stream",
     "text": [
      " 42%|████▏     | 152/360 [38:00<24:17,  7.01s/it]"
     ]
    },
    {
     "name": "stdout",
     "output_type": "stream",
     "text": [
      "2021-05-06 11:27:41,474 - modnet - INFO - Preset #34 fitting finished, loss: 0.4446422219276428\n"
     ]
    },
    {
     "name": "stderr",
     "output_type": "stream",
     "text": [
      " 42%|████▎     | 153/360 [38:18<35:17, 10.23s/it]"
     ]
    },
    {
     "name": "stdout",
     "output_type": "stream",
     "text": [
      "2021-05-06 11:28:35,645 - modnet - INFO - Preset #40 fitting finished, loss: 0.963531756401062\n"
     ]
    },
    {
     "name": "stderr",
     "output_type": "stream",
     "text": [
      " 43%|████▎     | 154/360 [39:12<1:20:35, 23.47s/it]"
     ]
    },
    {
     "name": "stdout",
     "output_type": "stream",
     "text": [
      "2021-05-06 11:28:36,952 - modnet - INFO - Preset #26 fitting finished, loss: 0.39865204095840456\n"
     ]
    },
    {
     "name": "stderr",
     "output_type": "stream",
     "text": [
      " 43%|████▎     | 155/360 [39:13<57:18, 16.77s/it]  "
     ]
    },
    {
     "name": "stdout",
     "output_type": "stream",
     "text": [
      "2021-05-06 11:28:55,959 - modnet - INFO - Preset #25 fitting finished, loss: 0.42260914444923403\n"
     ]
    },
    {
     "name": "stderr",
     "output_type": "stream",
     "text": [
      " 43%|████▎     | 156/360 [39:32<59:16, 17.43s/it]"
     ]
    },
    {
     "name": "stdout",
     "output_type": "stream",
     "text": [
      "2021-05-06 11:29:05,055 - modnet - INFO - Preset #30 fitting finished, loss: 0.4266319632530212\n"
     ]
    },
    {
     "name": "stderr",
     "output_type": "stream",
     "text": [
      " 44%|████▎     | 157/360 [39:42<50:34, 14.95s/it]"
     ]
    },
    {
     "name": "stdout",
     "output_type": "stream",
     "text": [
      "2021-05-06 11:29:06,222 - modnet - INFO - Preset #40 fitting finished, loss: 0.7615015804767609\n"
     ]
    },
    {
     "name": "stderr",
     "output_type": "stream",
     "text": [
      " 44%|████▍     | 158/360 [39:43<36:36, 10.87s/it]"
     ]
    },
    {
     "name": "stdout",
     "output_type": "stream",
     "text": [
      "2021-05-06 11:29:32,403 - modnet - INFO - Preset #35 fitting finished, loss: 0.5032805144786835\n"
     ]
    },
    {
     "name": "stderr",
     "output_type": "stream",
     "text": [
      " 44%|████▍     | 159/360 [40:09<51:38, 15.41s/it]"
     ]
    },
    {
     "name": "stdout",
     "output_type": "stream",
     "text": [
      "2021-05-06 11:29:57,729 - modnet - INFO - Preset #34 fitting finished, loss: 0.49782684445381165\n"
     ]
    },
    {
     "name": "stderr",
     "output_type": "stream",
     "text": [
      " 44%|████▍     | 160/360 [40:34<1:01:24, 18.42s/it]"
     ]
    },
    {
     "name": "stdout",
     "output_type": "stream",
     "text": [
      "2021-05-06 11:30:07,647 - modnet - INFO - Preset #31 fitting finished, loss: 0.4248971462249756\n"
     ]
    },
    {
     "name": "stderr",
     "output_type": "stream",
     "text": [
      " 45%|████▍     | 161/360 [40:44<52:38, 15.87s/it]  "
     ]
    },
    {
     "name": "stdout",
     "output_type": "stream",
     "text": [
      "2021-05-06 11:30:51,316 - modnet - INFO - Preset #30 fitting finished, loss: 0.4360691785812378\n"
     ]
    },
    {
     "name": "stderr",
     "output_type": "stream",
     "text": [
      " 45%|████▌     | 162/360 [41:33<1:24:44, 25.68s/it]"
     ]
    },
    {
     "name": "stdout",
     "output_type": "stream",
     "text": [
      "2021-05-06 11:31:14,890 - modnet - INFO - Preset #34 fitting finished, loss: 0.41218329668045045\n"
     ]
    },
    {
     "name": "stderr",
     "output_type": "stream",
     "text": [
      " 45%|████▌     | 163/360 [41:52<1:17:37, 23.64s/it]"
     ]
    },
    {
     "name": "stdout",
     "output_type": "stream",
     "text": [
      "2021-05-06 11:31:25,076 - modnet - INFO - Preset #33 fitting finished, loss: 0.4466716945171356\n"
     ]
    },
    {
     "name": "stderr",
     "output_type": "stream",
     "text": [
      " 46%|████▌     | 164/360 [42:02<1:03:57, 19.58s/it]"
     ]
    },
    {
     "name": "stdout",
     "output_type": "stream",
     "text": [
      "2021-05-06 11:31:36,332 - modnet - INFO - Preset #35 fitting finished, loss: 0.43714178204536436\n"
     ]
    },
    {
     "name": "stderr",
     "output_type": "stream",
     "text": [
      " 46%|████▌     | 165/360 [42:13<55:15, 17.00s/it]  "
     ]
    },
    {
     "name": "stdout",
     "output_type": "stream",
     "text": [
      "2021-05-06 11:31:38,852 - modnet - INFO - Preset #35 fitting finished, loss: 0.45403425097465516\n"
     ]
    },
    {
     "name": "stderr",
     "output_type": "stream",
     "text": [
      " 46%|████▌     | 166/360 [42:16<41:14, 12.76s/it]"
     ]
    },
    {
     "name": "stdout",
     "output_type": "stream",
     "text": [
      "2021-05-06 11:31:54,091 - modnet - INFO - Preset #37 fitting finished, loss: 0.38250736594200135\n"
     ]
    },
    {
     "name": "stderr",
     "output_type": "stream",
     "text": [
      " 46%|████▋     | 167/360 [42:31<43:27, 13.51s/it]"
     ]
    },
    {
     "name": "stdout",
     "output_type": "stream",
     "text": [
      "2021-05-06 11:32:17,043 - modnet - INFO - Preset #31 fitting finished, loss: 0.41277413368225097\n"
     ]
    },
    {
     "name": "stderr",
     "output_type": "stream",
     "text": [
      " 47%|████▋     | 168/360 [42:54<52:20, 16.36s/it]"
     ]
    },
    {
     "name": "stdout",
     "output_type": "stream",
     "text": [
      "2021-05-06 11:32:28,522 - modnet - INFO - Preset #35 fitting finished, loss: 0.4056397080421448\n"
     ]
    },
    {
     "name": "stderr",
     "output_type": "stream",
     "text": [
      " 47%|████▋     | 169/360 [43:05<47:06, 14.80s/it]"
     ]
    },
    {
     "name": "stdout",
     "output_type": "stream",
     "text": [
      "2021-05-06 11:32:35,154 - modnet - INFO - Preset #32 fitting finished, loss: 0.4947387397289276\n"
     ]
    },
    {
     "name": "stderr",
     "output_type": "stream",
     "text": [
      " 47%|████▋     | 170/360 [43:12<38:52, 12.27s/it]"
     ]
    },
    {
     "name": "stdout",
     "output_type": "stream",
     "text": [
      "2021-05-06 11:32:49,050 - modnet - INFO - Preset #32 fitting finished, loss: 0.4603511571884155\n"
     ]
    },
    {
     "name": "stderr",
     "output_type": "stream",
     "text": [
      " 48%|████▊     | 171/360 [43:26<40:25, 12.83s/it]"
     ]
    },
    {
     "name": "stdout",
     "output_type": "stream",
     "text": [
      "2021-05-06 11:32:50,960 - modnet - INFO - Preset #33 fitting finished, loss: 0.40426079630851747\n"
     ]
    },
    {
     "name": "stderr",
     "output_type": "stream",
     "text": [
      " 48%|████▊     | 172/360 [43:27<29:42,  9.48s/it]"
     ]
    },
    {
     "name": "stdout",
     "output_type": "stream",
     "text": [
      "2021-05-06 11:33:06,750 - modnet - INFO - Preset #38 fitting finished, loss: 0.4318459272384644\n"
     ]
    },
    {
     "name": "stderr",
     "output_type": "stream",
     "text": [
      " 48%|████▊     | 173/360 [43:43<35:40, 11.45s/it]"
     ]
    },
    {
     "name": "stdout",
     "output_type": "stream",
     "text": [
      "2021-05-06 11:33:09,771 - modnet - INFO - Preset #39 fitting finished, loss: 0.7304454267024993\n"
     ]
    },
    {
     "name": "stderr",
     "output_type": "stream",
     "text": [
      " 48%|████▊     | 174/360 [43:46<27:39,  8.92s/it]"
     ]
    },
    {
     "name": "stdout",
     "output_type": "stream",
     "text": [
      "2021-05-06 11:33:17,353 - modnet - INFO - Preset #37 fitting finished, loss: 0.4301774024963379\n"
     ]
    },
    {
     "name": "stderr",
     "output_type": "stream",
     "text": [
      " 49%|████▊     | 175/360 [43:54<26:18,  8.53s/it]"
     ]
    },
    {
     "name": "stdout",
     "output_type": "stream",
     "text": [
      "2021-05-06 11:33:21,739 - modnet - INFO - Preset #34 fitting finished, loss: 0.4464325964450836\n"
     ]
    },
    {
     "name": "stderr",
     "output_type": "stream",
     "text": [
      " 49%|████▉     | 176/360 [43:58<22:13,  7.25s/it]"
     ]
    },
    {
     "name": "stdout",
     "output_type": "stream",
     "text": [
      "2021-05-06 11:33:22,909 - modnet - INFO - Preset #33 fitting finished, loss: 0.4067104160785675\n"
     ]
    },
    {
     "name": "stderr",
     "output_type": "stream",
     "text": [
      " 49%|████▉     | 177/360 [44:00<16:41,  5.47s/it]"
     ]
    },
    {
     "name": "stdout",
     "output_type": "stream",
     "text": [
      "2021-05-06 11:33:36,721 - modnet - INFO - Preset #31 fitting finished, loss: 0.43209460377693176\n"
     ]
    },
    {
     "name": "stderr",
     "output_type": "stream",
     "text": [
      " 49%|████▉     | 178/360 [44:13<24:15,  8.00s/it]"
     ]
    },
    {
     "name": "stdout",
     "output_type": "stream",
     "text": [
      "2021-05-06 11:33:38,564 - modnet - INFO - Preset #30 fitting finished, loss: 0.4732877314090729\n"
     ]
    },
    {
     "name": "stderr",
     "output_type": "stream",
     "text": [
      " 50%|████▉     | 179/360 [44:15<18:30,  6.13s/it]"
     ]
    },
    {
     "name": "stdout",
     "output_type": "stream",
     "text": [
      "2021-05-06 11:33:39,922 - modnet - INFO - Preset #40 fitting finished, loss: 0.53247150182724\n"
     ]
    },
    {
     "name": "stderr",
     "output_type": "stream",
     "text": [
      " 50%|█████     | 180/360 [44:17<14:10,  4.72s/it]"
     ]
    },
    {
     "name": "stdout",
     "output_type": "stream",
     "text": [
      "2021-05-06 11:33:46,204 - modnet - INFO - Preset #40 fitting finished, loss: 0.5052773118019104\n"
     ]
    },
    {
     "name": "stderr",
     "output_type": "stream",
     "text": [
      " 50%|█████     | 181/360 [44:23<15:28,  5.19s/it]"
     ]
    },
    {
     "name": "stdout",
     "output_type": "stream",
     "text": [
      "2021-05-06 11:34:16,767 - modnet - INFO - Preset #36 fitting finished, loss: 0.4903291821479797\n"
     ]
    },
    {
     "name": "stderr",
     "output_type": "stream",
     "text": [
      " 51%|█████     | 182/360 [44:53<37:53, 12.77s/it]"
     ]
    },
    {
     "name": "stdout",
     "output_type": "stream",
     "text": [
      "2021-05-06 11:34:19,685 - modnet - INFO - Preset #36 fitting finished, loss: 0.3896742582321167\n"
     ]
    },
    {
     "name": "stderr",
     "output_type": "stream",
     "text": [
      " 51%|█████     | 183/360 [44:56<28:57,  9.82s/it]"
     ]
    },
    {
     "name": "stdout",
     "output_type": "stream",
     "text": [
      "2021-05-06 11:34:25,935 - modnet - INFO - Preset #30 fitting finished, loss: 0.4260973334312439\n"
     ]
    },
    {
     "name": "stderr",
     "output_type": "stream",
     "text": [
      " 51%|█████     | 184/360 [45:03<25:49,  8.80s/it]"
     ]
    },
    {
     "name": "stdout",
     "output_type": "stream",
     "text": [
      "2021-05-06 11:34:47,406 - modnet - INFO - Preset #41 fitting finished, loss: 0.5522278606891632\n"
     ]
    },
    {
     "name": "stderr",
     "output_type": "stream",
     "text": [
      " 51%|█████▏    | 185/360 [45:24<36:39, 12.57s/it]"
     ]
    },
    {
     "name": "stdout",
     "output_type": "stream",
     "text": [
      "2021-05-06 11:34:48,796 - modnet - INFO - Preset #36 fitting finished, loss: 0.41609097123146055\n"
     ]
    },
    {
     "name": "stderr",
     "output_type": "stream",
     "text": [
      " 52%|█████▏    | 186/360 [45:26<26:46,  9.23s/it]"
     ]
    },
    {
     "name": "stdout",
     "output_type": "stream",
     "text": [
      "2021-05-06 11:34:57,235 - modnet - INFO - Preset #31 fitting finished, loss: 0.4717048704624176\n"
     ]
    },
    {
     "name": "stderr",
     "output_type": "stream",
     "text": [
      " 52%|█████▏    | 187/360 [45:34<25:54,  8.99s/it]"
     ]
    },
    {
     "name": "stdout",
     "output_type": "stream",
     "text": [
      "2021-05-06 11:34:58,638 - modnet - INFO - Preset #37 fitting finished, loss: 0.42443000078201293\n"
     ]
    },
    {
     "name": "stderr",
     "output_type": "stream",
     "text": [
      " 52%|█████▏    | 188/360 [45:35<19:07,  6.67s/it]"
     ]
    },
    {
     "name": "stdout",
     "output_type": "stream",
     "text": [
      "2021-05-06 11:35:15,522 - modnet - INFO - Preset #39 fitting finished, loss: 0.4072414457798004\n"
     ]
    },
    {
     "name": "stderr",
     "output_type": "stream",
     "text": [
      " 52%|█████▎    | 189/360 [45:53<28:07,  9.87s/it]"
     ]
    },
    {
     "name": "stdout",
     "output_type": "stream",
     "text": [
      "2021-05-06 11:35:20,342 - modnet - INFO - Preset #35 fitting finished, loss: 0.41777917742729187\n"
     ]
    },
    {
     "name": "stderr",
     "output_type": "stream",
     "text": [
      " 53%|█████▎    | 190/360 [45:57<23:16,  8.21s/it]"
     ]
    },
    {
     "name": "stdout",
     "output_type": "stream",
     "text": [
      "2021-05-06 11:35:23,648 - modnet - INFO - Preset #31 fitting finished, loss: 0.5183667063713073\n"
     ]
    },
    {
     "name": "stderr",
     "output_type": "stream",
     "text": [
      " 53%|█████▎    | 191/360 [46:00<18:58,  6.74s/it]"
     ]
    },
    {
     "name": "stdout",
     "output_type": "stream",
     "text": [
      "2021-05-06 11:35:28,077 - modnet - INFO - Preset #38 fitting finished, loss: 0.6093852758407593\n"
     ]
    },
    {
     "name": "stderr",
     "output_type": "stream",
     "text": [
      " 53%|█████▎    | 192/360 [46:05<16:58,  6.06s/it]"
     ]
    },
    {
     "name": "stdout",
     "output_type": "stream",
     "text": [
      "2021-05-06 11:35:31,788 - modnet - INFO - Preset #41 fitting finished, loss: 0.7381827235221863\n"
     ]
    },
    {
     "name": "stderr",
     "output_type": "stream",
     "text": [
      " 54%|█████▎    | 193/360 [46:08<14:55,  5.36s/it]"
     ]
    },
    {
     "name": "stdout",
     "output_type": "stream",
     "text": [
      "2021-05-06 11:35:45,968 - modnet - INFO - Preset #40 fitting finished, loss: 0.408619624376297\n"
     ]
    },
    {
     "name": "stderr",
     "output_type": "stream",
     "text": [
      " 54%|█████▍    | 194/360 [46:23<22:05,  7.98s/it]"
     ]
    },
    {
     "name": "stdout",
     "output_type": "stream",
     "text": [
      "2021-05-06 11:35:47,390 - modnet - INFO - Preset #37 fitting finished, loss: 0.5090279042720794\n"
     ]
    },
    {
     "name": "stderr",
     "output_type": "stream",
     "text": [
      " 54%|█████▍    | 195/360 [46:24<16:42,  6.07s/it]"
     ]
    },
    {
     "name": "stdout",
     "output_type": "stream",
     "text": [
      "2021-05-06 11:35:52,447 - modnet - INFO - Preset #39 fitting finished, loss: 0.38301939368247984\n"
     ]
    },
    {
     "name": "stderr",
     "output_type": "stream",
     "text": [
      " 54%|█████▍    | 196/360 [46:29<15:37,  5.72s/it]"
     ]
    },
    {
     "name": "stdout",
     "output_type": "stream",
     "text": [
      "2021-05-06 11:36:00,107 - modnet - INFO - Preset #33 fitting finished, loss: 0.4215346395969391\n"
     ]
    },
    {
     "name": "stderr",
     "output_type": "stream",
     "text": [
      " 55%|█████▍    | 197/360 [46:36<16:55,  6.23s/it]"
     ]
    },
    {
     "name": "stdout",
     "output_type": "stream",
     "text": [
      "2021-05-06 11:36:03,289 - modnet - INFO - Preset #30 fitting finished, loss: 0.5008758783340455\n"
     ]
    },
    {
     "name": "stderr",
     "output_type": "stream",
     "text": [
      " 55%|█████▌    | 198/360 [46:40<14:34,  5.40s/it]"
     ]
    },
    {
     "name": "stdout",
     "output_type": "stream",
     "text": [
      "2021-05-06 11:36:05,111 - modnet - INFO - Preset #32 fitting finished, loss: 0.4126730144023895\n"
     ]
    },
    {
     "name": "stderr",
     "output_type": "stream",
     "text": [
      " 55%|█████▌    | 199/360 [46:42<11:47,  4.39s/it]"
     ]
    },
    {
     "name": "stdout",
     "output_type": "stream",
     "text": [
      "2021-05-06 11:36:09,547 - modnet - INFO - Preset #36 fitting finished, loss: 0.3679334223270416\n"
     ]
    },
    {
     "name": "stderr",
     "output_type": "stream",
     "text": [
      " 56%|█████▌    | 200/360 [46:46<11:40,  4.38s/it]"
     ]
    },
    {
     "name": "stdout",
     "output_type": "stream",
     "text": [
      "2021-05-06 11:36:25,160 - modnet - INFO - Preset #42 fitting finished, loss: 0.4960850954055786\n"
     ]
    },
    {
     "name": "stderr",
     "output_type": "stream",
     "text": [
      " 56%|█████▌    | 201/360 [47:02<20:24,  7.70s/it]"
     ]
    },
    {
     "name": "stdout",
     "output_type": "stream",
     "text": [
      "2021-05-06 11:38:18,025 - modnet - INFO - Preset #42 fitting finished, loss: 0.4423015058040619\n"
     ]
    },
    {
     "name": "stderr",
     "output_type": "stream",
     "text": [
      " 56%|█████▌    | 202/360 [48:55<1:43:26, 39.28s/it]"
     ]
    },
    {
     "name": "stdout",
     "output_type": "stream",
     "text": [
      "2021-05-06 11:38:42,129 - modnet - INFO - Preset #46 fitting finished, loss: 0.9533515453338623\n"
     ]
    },
    {
     "name": "stderr",
     "output_type": "stream",
     "text": [
      " 56%|█████▋    | 203/360 [49:19<1:30:45, 34.69s/it]"
     ]
    },
    {
     "name": "stdout",
     "output_type": "stream",
     "text": [
      "2021-05-06 11:39:10,776 - modnet - INFO - Preset #42 fitting finished, loss: 0.3836894392967224\n"
     ]
    },
    {
     "name": "stderr",
     "output_type": "stream",
     "text": [
      " 57%|█████▋    | 204/360 [49:47<1:25:33, 32.91s/it]"
     ]
    },
    {
     "name": "stdout",
     "output_type": "stream",
     "text": [
      "2021-05-06 11:39:21,169 - modnet - INFO - Preset #42 fitting finished, loss: 0.39719660878181456\n"
     ]
    },
    {
     "name": "stderr",
     "output_type": "stream",
     "text": [
      " 57%|█████▋    | 205/360 [49:58<1:07:34, 26.16s/it]"
     ]
    },
    {
     "name": "stdout",
     "output_type": "stream",
     "text": [
      "2021-05-06 11:39:36,611 - modnet - INFO - Preset #37 fitting finished, loss: 0.3720937788486481\n"
     ]
    },
    {
     "name": "stderr",
     "output_type": "stream",
     "text": [
      " 57%|█████▋    | 206/360 [50:19<1:03:19, 24.67s/it]"
     ]
    },
    {
     "name": "stdout",
     "output_type": "stream",
     "text": [
      "2021-05-06 11:39:45,187 - modnet - INFO - Preset #43 fitting finished, loss: 0.4209686279296875\n"
     ]
    },
    {
     "name": "stderr",
     "output_type": "stream",
     "text": [
      " 57%|█████▊    | 207/360 [50:22<45:58, 18.03s/it]  "
     ]
    },
    {
     "name": "stdout",
     "output_type": "stream",
     "text": [
      "2021-05-06 11:39:57,718 - modnet - INFO - Preset #44 fitting finished, loss: 0.42065154314041137\n"
     ]
    },
    {
     "name": "stderr",
     "output_type": "stream",
     "text": [
      " 58%|█████▊    | 208/360 [50:35<41:47, 16.50s/it]"
     ]
    },
    {
     "name": "stdout",
     "output_type": "stream",
     "text": [
      "2021-05-06 11:40:06,589 - modnet - INFO - Preset #44 fitting finished, loss: 0.4062385976314545\n"
     ]
    },
    {
     "name": "stderr",
     "output_type": "stream",
     "text": [
      " 58%|█████▊    | 209/360 [50:43<35:39, 14.17s/it]"
     ]
    },
    {
     "name": "stdout",
     "output_type": "stream",
     "text": [
      "2021-05-06 11:40:13,304 - modnet - INFO - Preset #41 fitting finished, loss: 0.4973255455493927\n"
     ]
    },
    {
     "name": "stderr",
     "output_type": "stream",
     "text": [
      " 58%|█████▊    | 210/360 [50:50<30:01, 12.01s/it]"
     ]
    },
    {
     "name": "stdout",
     "output_type": "stream",
     "text": [
      "2021-05-06 11:40:25,825 - modnet - INFO - Preset #44 fitting finished, loss: 0.37855005264282227\n"
     ]
    },
    {
     "name": "stderr",
     "output_type": "stream",
     "text": [
      " 59%|█████▊    | 211/360 [51:03<30:00, 12.08s/it]"
     ]
    },
    {
     "name": "stdout",
     "output_type": "stream",
     "text": [
      "2021-05-06 11:40:51,986 - modnet - INFO - Preset #39 fitting finished, loss: 0.5099265694618225\n"
     ]
    },
    {
     "name": "stderr",
     "output_type": "stream",
     "text": [
      " 59%|█████▉    | 212/360 [51:29<40:21, 16.36s/it]"
     ]
    },
    {
     "name": "stdout",
     "output_type": "stream",
     "text": [
      "2021-05-06 11:40:53,498 - modnet - INFO - Preset #44 fitting finished, loss: 0.4889687061309814\n"
     ]
    },
    {
     "name": "stderr",
     "output_type": "stream",
     "text": [
      " 59%|█████▉    | 213/360 [51:30<29:03, 11.86s/it]"
     ]
    },
    {
     "name": "stdout",
     "output_type": "stream",
     "text": [
      "2021-05-06 11:40:56,659 - modnet - INFO - Preset #38 fitting finished, loss: 0.38323400020599363\n"
     ]
    },
    {
     "name": "stderr",
     "output_type": "stream",
     "text": [
      " 59%|█████▉    | 214/360 [51:33<22:26,  9.23s/it]"
     ]
    },
    {
     "name": "stdout",
     "output_type": "stream",
     "text": [
      "2021-05-06 11:41:58,086 - modnet - INFO - Preset #47 fitting finished, loss: 0.4121190786361694\n"
     ]
    },
    {
     "name": "stderr",
     "output_type": "stream",
     "text": [
      " 60%|█████▉    | 215/360 [52:35<1:00:09, 24.89s/it]"
     ]
    },
    {
     "name": "stdout",
     "output_type": "stream",
     "text": [
      "2021-05-06 11:41:59,509 - modnet - INFO - Preset #47 fitting finished, loss: 0.40305562019348146\n"
     ]
    },
    {
     "name": "stderr",
     "output_type": "stream",
     "text": [
      " 60%|██████    | 216/360 [52:36<42:49, 17.85s/it]  "
     ]
    },
    {
     "name": "stdout",
     "output_type": "stream",
     "text": [
      "2021-05-06 11:42:21,364 - modnet - INFO - Preset #45 fitting finished, loss: 0.42357953190803527\n"
     ]
    },
    {
     "name": "stderr",
     "output_type": "stream",
     "text": [
      " 60%|██████    | 217/360 [52:58<45:28, 19.08s/it]"
     ]
    },
    {
     "name": "stdout",
     "output_type": "stream",
     "text": [
      "2021-05-06 11:42:29,176 - modnet - INFO - Preset #38 fitting finished, loss: 0.4333406925201416\n"
     ]
    },
    {
     "name": "stderr",
     "output_type": "stream",
     "text": [
      " 61%|██████    | 218/360 [53:06<37:07, 15.68s/it]"
     ]
    },
    {
     "name": "stdout",
     "output_type": "stream",
     "text": [
      "2021-05-06 11:42:33,625 - modnet - INFO - Preset #39 fitting finished, loss: 0.4312922179698944\n"
     ]
    },
    {
     "name": "stderr",
     "output_type": "stream",
     "text": [
      " 61%|██████    | 219/360 [53:10<28:51, 12.28s/it]"
     ]
    },
    {
     "name": "stdout",
     "output_type": "stream",
     "text": [
      "2021-05-06 11:43:12,987 - modnet - INFO - Preset #51 fitting finished, loss: 0.44377824664115906\n"
     ]
    },
    {
     "name": "stderr",
     "output_type": "stream",
     "text": [
      " 61%|██████    | 220/360 [53:50<47:45, 20.47s/it]"
     ]
    },
    {
     "name": "stdout",
     "output_type": "stream",
     "text": [
      "2021-05-06 11:43:17,105 - modnet - INFO - Preset #36 fitting finished, loss: 0.418163937330246\n"
     ]
    },
    {
     "name": "stderr",
     "output_type": "stream",
     "text": [
      " 61%|██████▏   | 221/360 [53:54<36:06, 15.59s/it]"
     ]
    },
    {
     "name": "stdout",
     "output_type": "stream",
     "text": [
      "2021-05-06 11:43:26,645 - modnet - INFO - Preset #38 fitting finished, loss: 0.3936823010444641\n"
     ]
    },
    {
     "name": "stderr",
     "output_type": "stream",
     "text": [
      " 62%|██████▏   | 222/360 [54:03<31:26, 13.67s/it]"
     ]
    },
    {
     "name": "stdout",
     "output_type": "stream",
     "text": [
      "2021-05-06 11:44:02,511 - modnet - INFO - Preset #51 fitting finished, loss: 0.4198221802711487\n"
     ]
    },
    {
     "name": "stderr",
     "output_type": "stream",
     "text": [
      " 62%|██████▏   | 223/360 [54:39<46:31, 20.38s/it]"
     ]
    },
    {
     "name": "stdout",
     "output_type": "stream",
     "text": [
      "2021-05-06 11:44:03,882 - modnet - INFO - Preset #41 fitting finished, loss: 0.4098808944225311\n"
     ]
    },
    {
     "name": "stderr",
     "output_type": "stream",
     "text": [
      " 62%|██████▏   | 224/360 [54:41<33:26, 14.76s/it]"
     ]
    },
    {
     "name": "stdout",
     "output_type": "stream",
     "text": [
      "2021-05-06 11:44:05,496 - modnet - INFO - Preset #51 fitting finished, loss: 0.49726359248161317\n"
     ]
    },
    {
     "name": "stderr",
     "output_type": "stream",
     "text": [
      " 62%|██████▎   | 225/360 [54:42<24:13, 10.77s/it]"
     ]
    },
    {
     "name": "stdout",
     "output_type": "stream",
     "text": [
      "2021-05-06 11:44:22,463 - modnet - INFO - Preset #50 fitting finished, loss: 0.4872935712337494\n"
     ]
    },
    {
     "name": "stderr",
     "output_type": "stream",
     "text": [
      " 63%|██████▎   | 226/360 [54:59<28:10, 12.61s/it]"
     ]
    },
    {
     "name": "stdout",
     "output_type": "stream",
     "text": [
      "2021-05-06 11:44:23,863 - modnet - INFO - Preset #43 fitting finished, loss: 0.4303278088569641\n"
     ]
    },
    {
     "name": "stderr",
     "output_type": "stream",
     "text": [
      " 63%|██████▎   | 227/360 [55:01<20:27,  9.23s/it]"
     ]
    },
    {
     "name": "stdout",
     "output_type": "stream",
     "text": [
      "2021-05-06 11:44:25,227 - modnet - INFO - Preset #47 fitting finished, loss: 0.6697115898132324\n"
     ]
    },
    {
     "name": "stderr",
     "output_type": "stream",
     "text": [
      " 63%|██████▎   | 228/360 [55:02<15:12,  6.91s/it]"
     ]
    },
    {
     "name": "stdout",
     "output_type": "stream",
     "text": [
      "2021-05-06 11:44:41,345 - modnet - INFO - Preset #43 fitting finished, loss: 0.49918767213821413\n"
     ]
    },
    {
     "name": "stderr",
     "output_type": "stream",
     "text": [
      " 64%|██████▎   | 229/360 [55:18<20:56,  9.59s/it]"
     ]
    },
    {
     "name": "stdout",
     "output_type": "stream",
     "text": [
      "2021-05-06 11:44:45,214 - modnet - INFO - Preset #46 fitting finished, loss: 0.42296524047851564\n"
     ]
    },
    {
     "name": "stderr",
     "output_type": "stream",
     "text": [
      " 64%|██████▍   | 230/360 [55:22<17:13,  7.95s/it]"
     ]
    },
    {
     "name": "stdout",
     "output_type": "stream",
     "text": [
      "2021-05-06 11:44:55,734 - modnet - INFO - Preset #49 fitting finished, loss: 0.5043331921100617\n"
     ]
    },
    {
     "name": "stderr",
     "output_type": "stream",
     "text": [
      " 64%|██████▍   | 231/360 [55:32<18:36,  8.65s/it]"
     ]
    },
    {
     "name": "stdout",
     "output_type": "stream",
     "text": [
      "2021-05-06 11:45:01,279 - modnet - INFO - Preset #41 fitting finished, loss: 0.5141016066074371\n"
     ]
    },
    {
     "name": "stderr",
     "output_type": "stream",
     "text": [
      " 64%|██████▍   | 232/360 [55:38<16:21,  7.67s/it]"
     ]
    },
    {
     "name": "stdout",
     "output_type": "stream",
     "text": [
      "2021-05-06 11:45:07,331 - modnet - INFO - Preset #45 fitting finished, loss: 0.42747458815574646\n"
     ]
    },
    {
     "name": "stderr",
     "output_type": "stream",
     "text": [
      " 65%|██████▍   | 233/360 [55:44<15:29,  7.32s/it]"
     ]
    },
    {
     "name": "stdout",
     "output_type": "stream",
     "text": [
      "2021-05-06 11:46:00,588 - modnet - INFO - Preset #49 fitting finished, loss: 0.37942134141921996\n"
     ]
    },
    {
     "name": "stderr",
     "output_type": "stream",
     "text": [
      " 65%|██████▌   | 234/360 [56:38<44:21, 21.12s/it]"
     ]
    },
    {
     "name": "stdout",
     "output_type": "stream",
     "text": [
      "2021-05-06 11:46:02,174 - modnet - INFO - Preset #46 fitting finished, loss: 0.42504135370254514\n"
     ]
    },
    {
     "name": "stderr",
     "output_type": "stream",
     "text": [
      " 65%|██████▌   | 235/360 [56:39<31:38, 15.19s/it]"
     ]
    },
    {
     "name": "stdout",
     "output_type": "stream",
     "text": [
      "2021-05-06 11:46:04,641 - modnet - INFO - Preset #47 fitting finished, loss: 0.41516690850257876\n"
     ]
    },
    {
     "name": "stderr",
     "output_type": "stream",
     "text": [
      " 66%|██████▌   | 236/360 [56:41<23:35, 11.42s/it]"
     ]
    },
    {
     "name": "stdout",
     "output_type": "stream",
     "text": [
      "2021-05-06 11:46:06,171 - modnet - INFO - Preset #43 fitting finished, loss: 0.3836710453033447\n"
     ]
    },
    {
     "name": "stderr",
     "output_type": "stream",
     "text": [
      " 66%|██████▌   | 237/360 [56:43<17:22,  8.48s/it]"
     ]
    },
    {
     "name": "stdout",
     "output_type": "stream",
     "text": [
      "2021-05-06 11:46:12,532 - modnet - INFO - Preset #51 fitting finished, loss: 0.39053465723991393\n"
     ]
    },
    {
     "name": "stderr",
     "output_type": "stream",
     "text": [
      " 66%|██████▌   | 238/360 [56:49<15:42,  7.73s/it]"
     ]
    },
    {
     "name": "stdout",
     "output_type": "stream",
     "text": [
      "2021-05-06 11:46:21,592 - modnet - INFO - Preset #45 fitting finished, loss: 0.3951850414276123\n"
     ]
    },
    {
     "name": "stderr",
     "output_type": "stream",
     "text": [
      " 66%|██████▋   | 239/360 [56:58<16:24,  8.14s/it]"
     ]
    },
    {
     "name": "stdout",
     "output_type": "stream",
     "text": [
      "2021-05-06 11:46:26,738 - modnet - INFO - Preset #42 fitting finished, loss: 0.417653352022171\n"
     ]
    },
    {
     "name": "stderr",
     "output_type": "stream",
     "text": [
      " 67%|██████▋   | 240/360 [57:03<14:30,  7.25s/it]"
     ]
    },
    {
     "name": "stdout",
     "output_type": "stream",
     "text": [
      "2021-05-06 11:46:37,245 - modnet - INFO - Preset #52 fitting finished, loss: 0.42467074394226073\n"
     ]
    },
    {
     "name": "stderr",
     "output_type": "stream",
     "text": [
      " 67%|██████▋   | 241/360 [57:14<16:24,  8.28s/it]"
     ]
    },
    {
     "name": "stdout",
     "output_type": "stream",
     "text": [
      "2021-05-06 11:46:38,908 - modnet - INFO - Preset #46 fitting finished, loss: 0.42371816039085386\n"
     ]
    },
    {
     "name": "stderr",
     "output_type": "stream",
     "text": [
      " 67%|██████▋   | 242/360 [57:16<12:45,  6.49s/it]"
     ]
    },
    {
     "name": "stdout",
     "output_type": "stream",
     "text": [
      "2021-05-06 11:46:41,849 - modnet - INFO - Preset #43 fitting finished, loss: 0.4098003268241882\n"
     ]
    },
    {
     "name": "stderr",
     "output_type": "stream",
     "text": [
      " 68%|██████▊   | 243/360 [57:19<10:17,  5.28s/it]"
     ]
    },
    {
     "name": "stdout",
     "output_type": "stream",
     "text": [
      "2021-05-06 11:46:58,099 - modnet - INFO - Preset #48 fitting finished, loss: 0.5070018470287323\n"
     ]
    },
    {
     "name": "stderr",
     "output_type": "stream",
     "text": [
      " 68%|██████▊   | 244/360 [57:35<16:31,  8.54s/it]"
     ]
    },
    {
     "name": "stdout",
     "output_type": "stream",
     "text": [
      "2021-05-06 11:47:44,724 - modnet - INFO - Preset #53 fitting finished, loss: 0.4370317816734314\n"
     ]
    },
    {
     "name": "stderr",
     "output_type": "stream",
     "text": [
      " 68%|██████▊   | 245/360 [58:22<38:19, 20.00s/it]"
     ]
    },
    {
     "name": "stdout",
     "output_type": "stream",
     "text": [
      "2021-05-06 11:48:01,858 - modnet - INFO - Preset #52 fitting finished, loss: 0.4026105463504791\n"
     ]
    },
    {
     "name": "stderr",
     "output_type": "stream",
     "text": [
      " 68%|██████▊   | 246/360 [58:39<36:17, 19.10s/it]"
     ]
    },
    {
     "name": "stdout",
     "output_type": "stream",
     "text": [
      "2021-05-06 11:48:06,498 - modnet - INFO - Preset #44 fitting finished, loss: 0.3738079309463501\n"
     ]
    },
    {
     "name": "stderr",
     "output_type": "stream",
     "text": [
      " 69%|██████▊   | 247/360 [58:43<27:51, 14.79s/it]"
     ]
    },
    {
     "name": "stdout",
     "output_type": "stream",
     "text": [
      "2021-05-06 11:48:11,257 - modnet - INFO - Preset #50 fitting finished, loss: 0.3838383495807648\n"
     ]
    },
    {
     "name": "stderr",
     "output_type": "stream",
     "text": [
      " 69%|██████▉   | 248/360 [58:48<21:59, 11.78s/it]"
     ]
    },
    {
     "name": "stdout",
     "output_type": "stream",
     "text": [
      "2021-05-06 11:48:12,844 - modnet - INFO - Preset #48 fitting finished, loss: 0.421664160490036\n"
     ]
    },
    {
     "name": "stderr",
     "output_type": "stream",
     "text": [
      " 69%|██████▉   | 249/360 [58:50<16:16,  8.80s/it]"
     ]
    },
    {
     "name": "stdout",
     "output_type": "stream",
     "text": [
      "2021-05-06 11:48:20,462 - modnet - INFO - Preset #53 fitting finished, loss: 0.4264579117298126\n"
     ]
    },
    {
     "name": "stderr",
     "output_type": "stream",
     "text": [
      " 69%|██████▉   | 250/360 [58:57<15:18,  8.35s/it]"
     ]
    },
    {
     "name": "stdout",
     "output_type": "stream",
     "text": [
      "2021-05-06 11:48:22,119 - modnet - INFO - Preset #45 fitting finished, loss: 0.6157854795455933\n"
     ]
    },
    {
     "name": "stderr",
     "output_type": "stream",
     "text": [
      " 70%|██████▉   | 251/360 [58:59<11:35,  6.38s/it]"
     ]
    },
    {
     "name": "stdout",
     "output_type": "stream",
     "text": [
      "2021-05-06 11:48:26,983 - modnet - INFO - Preset #46 fitting finished, loss: 0.4069529414176941\n"
     ]
    },
    {
     "name": "stderr",
     "output_type": "stream",
     "text": [
      " 70%|███████   | 252/360 [59:04<10:33,  5.86s/it]"
     ]
    },
    {
     "name": "stdout",
     "output_type": "stream",
     "text": [
      "2021-05-06 11:48:36,238 - modnet - INFO - Preset #50 fitting finished, loss: 0.4205408155918121\n"
     ]
    },
    {
     "name": "stderr",
     "output_type": "stream",
     "text": [
      " 70%|███████   | 253/360 [59:13<12:18,  6.90s/it]"
     ]
    },
    {
     "name": "stdout",
     "output_type": "stream",
     "text": [
      "2021-05-06 11:48:38,872 - modnet - INFO - Preset #52 fitting finished, loss: 0.3956612288951874\n"
     ]
    },
    {
     "name": "stderr",
     "output_type": "stream",
     "text": [
      " 71%|███████   | 254/360 [59:15<09:45,  5.53s/it]"
     ]
    },
    {
     "name": "stdout",
     "output_type": "stream",
     "text": [
      "2021-05-06 11:49:21,923 - modnet - INFO - Preset #51 fitting finished, loss: 0.38422569036483767\n"
     ]
    },
    {
     "name": "stderr",
     "output_type": "stream",
     "text": [
      " 71%|███████   | 255/360 [1:00:06<33:08, 18.94s/it]"
     ]
    },
    {
     "name": "stdout",
     "output_type": "stream",
     "text": [
      "2021-05-06 11:49:30,304 - modnet - INFO - Preset #50 fitting finished, loss: 0.37024086713790894\n"
     ]
    },
    {
     "name": "stderr",
     "output_type": "stream",
     "text": [
      " 71%|███████   | 256/360 [1:00:07<23:38, 13.64s/it]"
     ]
    },
    {
     "name": "stdout",
     "output_type": "stream",
     "text": [
      "2021-05-06 11:49:31,609 - modnet - INFO - Preset #53 fitting finished, loss: 0.39564589262008665\n"
     ]
    },
    {
     "name": "stderr",
     "output_type": "stream",
     "text": [
      " 71%|███████▏  | 257/360 [1:00:08<17:05,  9.96s/it]"
     ]
    },
    {
     "name": "stdout",
     "output_type": "stream",
     "text": [
      "2021-05-06 11:49:59,860 - modnet - INFO - Preset #52 fitting finished, loss: 0.4198590338230133\n"
     ]
    },
    {
     "name": "stderr",
     "output_type": "stream",
     "text": [
      " 72%|███████▏  | 258/360 [1:00:36<26:06, 15.36s/it]"
     ]
    },
    {
     "name": "stdout",
     "output_type": "stream",
     "text": [
      "2021-05-06 11:50:00,937 - modnet - INFO - Preset #49 fitting finished, loss: 0.3950385570526123\n"
     ]
    },
    {
     "name": "stderr",
     "output_type": "stream",
     "text": [
      " 72%|███████▏  | 259/360 [1:00:38<18:44, 11.14s/it]"
     ]
    },
    {
     "name": "stdout",
     "output_type": "stream",
     "text": [
      "2021-05-06 11:50:42,459 - modnet - INFO - Preset #48 fitting finished, loss: 0.4044732689857483\n"
     ]
    },
    {
     "name": "stderr",
     "output_type": "stream",
     "text": [
      " 72%|███████▏  | 260/360 [1:01:20<34:03, 20.43s/it]"
     ]
    },
    {
     "name": "stdout",
     "output_type": "stream",
     "text": [
      "2021-05-06 11:50:49,520 - modnet - INFO - Preset #45 fitting finished, loss: 0.40431228280067444\n"
     ]
    },
    {
     "name": "stderr",
     "output_type": "stream",
     "text": [
      " 72%|███████▎  | 261/360 [1:01:26<26:51, 16.27s/it]"
     ]
    },
    {
     "name": "stdout",
     "output_type": "stream",
     "text": [
      "2021-05-06 11:50:55,375 - modnet - INFO - Preset #48 fitting finished, loss: 0.43366395831108095\n"
     ]
    },
    {
     "name": "stderr",
     "output_type": "stream",
     "text": [
      " 73%|███████▎  | 262/360 [1:01:32<21:24, 13.10s/it]"
     ]
    },
    {
     "name": "stdout",
     "output_type": "stream",
     "text": [
      "2021-05-06 11:51:08,292 - modnet - INFO - Preset #47 fitting finished, loss: 0.48831896781921386\n"
     ]
    },
    {
     "name": "stderr",
     "output_type": "stream",
     "text": [
      " 73%|███████▎  | 263/360 [1:01:45<21:13, 13.12s/it]"
     ]
    },
    {
     "name": "stdout",
     "output_type": "stream",
     "text": [
      "2021-05-06 11:51:09,768 - modnet - INFO - Preset #52 fitting finished, loss: 0.5332100987434387\n"
     ]
    },
    {
     "name": "stderr",
     "output_type": "stream",
     "text": [
      " 73%|███████▎  | 264/360 [1:01:46<15:21,  9.60s/it]"
     ]
    },
    {
     "name": "stdout",
     "output_type": "stream",
     "text": [
      "2021-05-06 11:51:12,500 - modnet - INFO - Preset #48 fitting finished, loss: 0.3747570335865021\n"
     ]
    },
    {
     "name": "stderr",
     "output_type": "stream",
     "text": [
      " 74%|███████▎  | 265/360 [1:01:49<12:02,  7.61s/it]"
     ]
    },
    {
     "name": "stdout",
     "output_type": "stream",
     "text": [
      "2021-05-06 11:51:19,808 - modnet - INFO - Preset #50 fitting finished, loss: 0.42780913710594176\n"
     ]
    },
    {
     "name": "stderr",
     "output_type": "stream",
     "text": [
      " 74%|███████▍  | 266/360 [1:01:57<11:44,  7.50s/it]"
     ]
    },
    {
     "name": "stdout",
     "output_type": "stream",
     "text": [
      "2021-05-06 11:52:23,565 - modnet - INFO - Preset #49 fitting finished, loss: 0.40839343667030337\n"
     ]
    },
    {
     "name": "stderr",
     "output_type": "stream",
     "text": [
      " 74%|███████▍  | 267/360 [1:03:00<37:40, 24.31s/it]"
     ]
    },
    {
     "name": "stdout",
     "output_type": "stream",
     "text": [
      "2021-05-06 11:52:34,188 - modnet - INFO - Preset #59 fitting finished, loss: 1.070801305770874\n"
     ]
    },
    {
     "name": "stderr",
     "output_type": "stream",
     "text": [
      " 74%|███████▍  | 268/360 [1:03:11<31:05, 20.28s/it]"
     ]
    },
    {
     "name": "stdout",
     "output_type": "stream",
     "text": [
      "2021-05-06 11:52:42,336 - modnet - INFO - Preset #53 fitting finished, loss: 0.4349276900291443\n"
     ]
    },
    {
     "name": "stderr",
     "output_type": "stream",
     "text": [
      " 75%|███████▍  | 269/360 [1:03:19<25:06, 16.56s/it]"
     ]
    },
    {
     "name": "stdout",
     "output_type": "stream",
     "text": [
      "2021-05-06 11:52:45,838 - modnet - INFO - Preset #53 fitting finished, loss: 0.530572110414505\n"
     ]
    },
    {
     "name": "stderr",
     "output_type": "stream",
     "text": [
      " 75%|███████▌  | 270/360 [1:03:22<18:54, 12.61s/it]"
     ]
    },
    {
     "name": "stdout",
     "output_type": "stream",
     "text": [
      "2021-05-06 11:55:14,653 - modnet - INFO - Preset #49 fitting finished, loss: 0.4416517198085785\n"
     ]
    },
    {
     "name": "stderr",
     "output_type": "stream",
     "text": [
      " 75%|███████▌  | 271/360 [1:05:51<1:19:19, 53.47s/it]"
     ]
    },
    {
     "name": "stdout",
     "output_type": "stream",
     "text": [
      "2021-05-06 11:55:23,678 - modnet - INFO - Preset #58 fitting finished, loss: 0.9860043287277221\n"
     ]
    },
    {
     "name": "stderr",
     "output_type": "stream",
     "text": [
      " 76%|███████▌  | 272/360 [1:06:00<58:53, 40.16s/it]  "
     ]
    },
    {
     "name": "stdout",
     "output_type": "stream",
     "text": [
      "2021-05-06 11:55:53,565 - modnet - INFO - Preset #59 fitting finished, loss: 0.977902615070343\n"
     ]
    },
    {
     "name": "stderr",
     "output_type": "stream",
     "text": [
      " 76%|███████▌  | 273/360 [1:06:30<53:52, 37.16s/it]"
     ]
    },
    {
     "name": "stdout",
     "output_type": "stream",
     "text": [
      "2021-05-06 11:56:48,376 - modnet - INFO - Preset #59 fitting finished, loss: 0.9150102972984314\n"
     ]
    },
    {
     "name": "stderr",
     "output_type": "stream",
     "text": [
      " 76%|███████▌  | 274/360 [1:07:25<1:00:44, 42.38s/it]"
     ]
    },
    {
     "name": "stdout",
     "output_type": "stream",
     "text": [
      "2021-05-06 11:57:19,546 - modnet - INFO - Preset #64 fitting finished, loss: 0.966606342792511\n"
     ]
    },
    {
     "name": "stderr",
     "output_type": "stream",
     "text": [
      " 76%|███████▋  | 275/360 [1:07:57<55:27, 39.15s/it]  "
     ]
    },
    {
     "name": "stdout",
     "output_type": "stream",
     "text": [
      "2021-05-06 11:57:34,118 - modnet - INFO - Preset #65 fitting finished, loss: 0.7108498871326446\n"
     ]
    },
    {
     "name": "stderr",
     "output_type": "stream",
     "text": [
      " 77%|███████▋  | 276/360 [1:08:11<44:18, 31.65s/it]"
     ]
    },
    {
     "name": "stdout",
     "output_type": "stream",
     "text": [
      "2021-05-06 11:57:54,050 - modnet - INFO - Preset #59 fitting finished, loss: 0.8860913515090942\n"
     ]
    },
    {
     "name": "stderr",
     "output_type": "stream",
     "text": [
      " 77%|███████▋  | 277/360 [1:08:31<38:53, 28.12s/it]"
     ]
    },
    {
     "name": "stdout",
     "output_type": "stream",
     "text": [
      "2021-05-06 11:58:15,212 - modnet - INFO - Preset #65 fitting finished, loss: 0.983415150642395\n"
     ]
    },
    {
     "name": "stderr",
     "output_type": "stream",
     "text": [
      " 77%|███████▋  | 278/360 [1:08:52<35:33, 26.02s/it]"
     ]
    },
    {
     "name": "stdout",
     "output_type": "stream",
     "text": [
      "2021-05-06 11:58:17,741 - modnet - INFO - Preset #58 fitting finished, loss: 1.068565273284912\n"
     ]
    },
    {
     "name": "stderr",
     "output_type": "stream",
     "text": [
      " 78%|███████▊  | 279/360 [1:08:54<25:36, 18.97s/it]"
     ]
    },
    {
     "name": "stdout",
     "output_type": "stream",
     "text": [
      "2021-05-06 11:58:22,489 - modnet - INFO - Preset #64 fitting finished, loss: 0.8656664431095124\n"
     ]
    },
    {
     "name": "stderr",
     "output_type": "stream",
     "text": [
      " 78%|███████▊  | 280/360 [1:08:59<19:32, 14.66s/it]"
     ]
    },
    {
     "name": "stdout",
     "output_type": "stream",
     "text": [
      "2021-05-06 11:58:24,509 - modnet - INFO - Preset #57 fitting finished, loss: 0.8395499885082245\n"
     ]
    },
    {
     "name": "stderr",
     "output_type": "stream",
     "text": [
      " 78%|███████▊  | 281/360 [1:09:01<14:18, 10.87s/it]"
     ]
    },
    {
     "name": "stdout",
     "output_type": "stream",
     "text": [
      "2021-05-06 11:59:19,476 - modnet - INFO - Preset #65 fitting finished, loss: 0.8870938420295715\n"
     ]
    },
    {
     "name": "stderr",
     "output_type": "stream",
     "text": [
      " 78%|███████▊  | 282/360 [1:09:56<31:25, 24.18s/it]"
     ]
    },
    {
     "name": "stdout",
     "output_type": "stream",
     "text": [
      "2021-05-06 12:00:29,971 - modnet - INFO - Preset #58 fitting finished, loss: 0.8034647881984711\n"
     ]
    },
    {
     "name": "stderr",
     "output_type": "stream",
     "text": [
      " 79%|███████▊  | 283/360 [1:11:06<48:44, 37.97s/it]"
     ]
    },
    {
     "name": "stdout",
     "output_type": "stream",
     "text": [
      "2021-05-06 12:00:54,340 - modnet - INFO - Preset #60 fitting finished, loss: 0.5059687614440918\n"
     ]
    },
    {
     "name": "stderr",
     "output_type": "stream",
     "text": [
      " 79%|███████▉  | 284/360 [1:11:31<42:54, 33.87s/it]"
     ]
    },
    {
     "name": "stdout",
     "output_type": "stream",
     "text": [
      "2021-05-06 12:01:01,997 - modnet - INFO - Preset #64 fitting finished, loss: 0.7906653761863709\n"
     ]
    },
    {
     "name": "stderr",
     "output_type": "stream",
     "text": [
      " 79%|███████▉  | 285/360 [1:11:38<32:34, 26.06s/it]"
     ]
    },
    {
     "name": "stdout",
     "output_type": "stream",
     "text": [
      "2021-05-06 12:01:43,359 - modnet - INFO - Preset #60 fitting finished, loss: 0.4287262558937073\n"
     ]
    },
    {
     "name": "stderr",
     "output_type": "stream",
     "text": [
      " 79%|███████▉  | 286/360 [1:12:20<37:43, 30.59s/it]"
     ]
    },
    {
     "name": "stdout",
     "output_type": "stream",
     "text": [
      "2021-05-06 12:02:08,080 - modnet - INFO - Preset #66 fitting finished, loss: 0.49685946106910706\n"
     ]
    },
    {
     "name": "stderr",
     "output_type": "stream",
     "text": [
      " 80%|███████▉  | 287/360 [1:12:44<35:08, 28.88s/it]"
     ]
    },
    {
     "name": "stdout",
     "output_type": "stream",
     "text": [
      "2021-05-06 12:02:17,784 - modnet - INFO - Preset #64 fitting finished, loss: 0.7890403568744659\n"
     ]
    },
    {
     "name": "stderr",
     "output_type": "stream",
     "text": [
      " 80%|████████  | 288/360 [1:12:54<27:43, 23.11s/it]"
     ]
    },
    {
     "name": "stdout",
     "output_type": "stream",
     "text": [
      "2021-05-06 12:02:22,567 - modnet - INFO - Preset #64 fitting finished, loss: 0.7344752371311187\n"
     ]
    },
    {
     "name": "stderr",
     "output_type": "stream",
     "text": [
      " 80%|████████  | 289/360 [1:12:59<20:46, 17.56s/it]"
     ]
    },
    {
     "name": "stdout",
     "output_type": "stream",
     "text": [
      "2021-05-06 12:02:53,224 - modnet - INFO - Preset #56 fitting finished, loss: 0.755611914396286\n"
     ]
    },
    {
     "name": "stderr",
     "output_type": "stream",
     "text": [
      " 81%|████████  | 290/360 [1:13:29<25:05, 21.50s/it]"
     ]
    },
    {
     "name": "stdout",
     "output_type": "stream",
     "text": [
      "2021-05-06 12:03:43,371 - modnet - INFO - Preset #61 fitting finished, loss: 0.5168223142623901\n"
     ]
    },
    {
     "name": "stderr",
     "output_type": "stream",
     "text": [
      " 81%|████████  | 291/360 [1:14:20<34:40, 30.15s/it]"
     ]
    },
    {
     "name": "stdout",
     "output_type": "stream",
     "text": [
      "2021-05-06 12:03:45,618 - modnet - INFO - Preset #66 fitting finished, loss: 0.38760913014411924\n"
     ]
    },
    {
     "name": "stderr",
     "output_type": "stream",
     "text": [
      " 81%|████████  | 292/360 [1:14:22<24:39, 21.75s/it]"
     ]
    },
    {
     "name": "stdout",
     "output_type": "stream",
     "text": [
      "2021-05-06 12:04:14,796 - modnet - INFO - Preset #57 fitting finished, loss: 0.49658250212669375\n"
     ]
    },
    {
     "name": "stderr",
     "output_type": "stream",
     "text": [
      " 81%|████████▏ | 293/360 [1:14:51<26:46, 23.98s/it]"
     ]
    },
    {
     "name": "stdout",
     "output_type": "stream",
     "text": [
      "2021-05-06 12:04:19,456 - modnet - INFO - Preset #65 fitting finished, loss: 0.6109457790851593\n"
     ]
    },
    {
     "name": "stderr",
     "output_type": "stream",
     "text": [
      " 82%|████████▏ | 294/360 [1:14:55<19:54, 18.09s/it]"
     ]
    },
    {
     "name": "stdout",
     "output_type": "stream",
     "text": [
      "2021-05-06 12:04:23,202 - modnet - INFO - Preset #62 fitting finished, loss: 0.37073968052864076\n"
     ]
    },
    {
     "name": "stderr",
     "output_type": "stream",
     "text": [
      " 82%|████████▏ | 295/360 [1:14:59<14:53, 13.75s/it]"
     ]
    },
    {
     "name": "stdout",
     "output_type": "stream",
     "text": [
      "2021-05-06 12:04:34,755 - modnet - INFO - Preset #62 fitting finished, loss: 0.4318560719490051\n"
     ]
    },
    {
     "name": "stderr",
     "output_type": "stream",
     "text": [
      " 82%|████████▏ | 296/360 [1:15:11<13:58, 13.10s/it]"
     ]
    },
    {
     "name": "stdout",
     "output_type": "stream",
     "text": [
      "2021-05-06 12:04:43,407 - modnet - INFO - Preset #61 fitting finished, loss: 0.3898580074310303\n"
     ]
    },
    {
     "name": "stderr",
     "output_type": "stream",
     "text": [
      " 82%|████████▎ | 297/360 [1:15:19<12:19, 11.74s/it]"
     ]
    },
    {
     "name": "stdout",
     "output_type": "stream",
     "text": [
      "2021-05-06 12:04:55,539 - modnet - INFO - Preset #65 fitting finished, loss: 0.6465176284313202\n"
     ]
    },
    {
     "name": "stderr",
     "output_type": "stream",
     "text": [
      " 83%|████████▎ | 298/360 [1:15:31<12:15, 11.87s/it]"
     ]
    },
    {
     "name": "stdout",
     "output_type": "stream",
     "text": [
      "2021-05-06 12:05:04,509 - modnet - INFO - Preset #61 fitting finished, loss: 0.378602123260498\n"
     ]
    },
    {
     "name": "stderr",
     "output_type": "stream",
     "text": [
      " 83%|████████▎ | 299/360 [1:15:40<11:10, 10.99s/it]"
     ]
    },
    {
     "name": "stdout",
     "output_type": "stream",
     "text": [
      "2021-05-06 12:05:35,312 - modnet - INFO - Preset #66 fitting finished, loss: 0.38904852271080015\n"
     ]
    },
    {
     "name": "stderr",
     "output_type": "stream",
     "text": [
      " 83%|████████▎ | 300/360 [1:16:11<16:56, 16.95s/it]"
     ]
    },
    {
     "name": "stdout",
     "output_type": "stream",
     "text": [
      "2021-05-06 12:05:48,920 - modnet - INFO - Preset #62 fitting finished, loss: 0.39377355575561523\n"
     ]
    },
    {
     "name": "stderr",
     "output_type": "stream",
     "text": [
      " 84%|████████▎ | 301/360 [1:16:25<15:40, 15.94s/it]"
     ]
    },
    {
     "name": "stdout",
     "output_type": "stream",
     "text": [
      "2021-05-06 12:05:50,724 - modnet - INFO - Preset #59 fitting finished, loss: 0.7106773138046265\n"
     ]
    },
    {
     "name": "stderr",
     "output_type": "stream",
     "text": [
      " 84%|████████▍ | 302/360 [1:16:27<11:20, 11.74s/it]"
     ]
    },
    {
     "name": "stdout",
     "output_type": "stream",
     "text": [
      "2021-05-06 12:06:32,317 - modnet - INFO - Preset #66 fitting finished, loss: 0.412873649597168\n"
     ]
    },
    {
     "name": "stderr",
     "output_type": "stream",
     "text": [
      " 84%|████████▍ | 303/360 [1:17:08<19:36, 20.65s/it]"
     ]
    },
    {
     "name": "stdout",
     "output_type": "stream",
     "text": [
      "2021-05-06 12:06:33,673 - modnet - INFO - Preset #57 fitting finished, loss: 0.6065495908260345\n"
     ]
    },
    {
     "name": "stderr",
     "output_type": "stream",
     "text": [
      " 84%|████████▍ | 304/360 [1:17:10<13:55, 14.92s/it]"
     ]
    },
    {
     "name": "stdout",
     "output_type": "stream",
     "text": [
      "2021-05-06 12:06:40,280 - modnet - INFO - Preset #57 fitting finished, loss: 0.7477411508560181\n"
     ]
    },
    {
     "name": "stderr",
     "output_type": "stream",
     "text": [
      " 85%|████████▍ | 305/360 [1:17:16<11:21, 12.40s/it]"
     ]
    },
    {
     "name": "stdout",
     "output_type": "stream",
     "text": [
      "2021-05-06 12:06:42,880 - modnet - INFO - Preset #58 fitting finished, loss: 0.7045435786247254\n"
     ]
    },
    {
     "name": "stderr",
     "output_type": "stream",
     "text": [
      " 85%|████████▌ | 306/360 [1:17:19<08:31,  9.47s/it]"
     ]
    },
    {
     "name": "stdout",
     "output_type": "stream",
     "text": [
      "2021-05-06 12:07:01,578 - modnet - INFO - Preset #63 fitting finished, loss: 0.5456349909305572\n"
     ]
    },
    {
     "name": "stderr",
     "output_type": "stream",
     "text": [
      " 85%|████████▌ | 307/360 [1:17:37<10:47, 12.22s/it]"
     ]
    },
    {
     "name": "stdout",
     "output_type": "stream",
     "text": [
      "2021-05-06 12:07:05,791 - modnet - INFO - Preset #63 fitting finished, loss: 0.44675926566123964\n"
     ]
    },
    {
     "name": "stderr",
     "output_type": "stream",
     "text": [
      " 86%|████████▌ | 308/360 [1:17:42<08:29,  9.79s/it]"
     ]
    },
    {
     "name": "stdout",
     "output_type": "stream",
     "text": [
      "2021-05-06 12:07:18,063 - modnet - INFO - Preset #67 fitting finished, loss: 0.40190879702568055\n"
     ]
    },
    {
     "name": "stderr",
     "output_type": "stream",
     "text": [
      " 86%|████████▌ | 309/360 [1:17:54<08:58, 10.55s/it]"
     ]
    },
    {
     "name": "stdout",
     "output_type": "stream",
     "text": [
      "2021-05-06 12:07:23,474 - modnet - INFO - Preset #54 fitting finished, loss: 0.3840313255786896\n"
     ]
    },
    {
     "name": "stderr",
     "output_type": "stream",
     "text": [
      " 86%|████████▌ | 310/360 [1:17:59<07:32,  9.04s/it]"
     ]
    },
    {
     "name": "stdout",
     "output_type": "stream",
     "text": [
      "2021-05-06 12:07:29,197 - modnet - INFO - Preset #70 fitting finished, loss: 0.9764864921569825\n"
     ]
    },
    {
     "name": "stderr",
     "output_type": "stream",
     "text": [
      " 86%|████████▋ | 311/360 [1:18:05<06:30,  7.97s/it]"
     ]
    },
    {
     "name": "stdout",
     "output_type": "stream",
     "text": [
      "2021-05-06 12:07:33,015 - modnet - INFO - Preset #54 fitting finished, loss: 0.41497522592544556\n"
     ]
    },
    {
     "name": "stderr",
     "output_type": "stream",
     "text": [
      " 87%|████████▋ | 312/360 [1:18:09<05:24,  6.75s/it]"
     ]
    },
    {
     "name": "stdout",
     "output_type": "stream",
     "text": [
      "2021-05-06 12:07:35,144 - modnet - INFO - Preset #67 fitting finished, loss: 0.4210152268409729\n"
     ]
    },
    {
     "name": "stderr",
     "output_type": "stream",
     "text": [
      " 87%|████████▋ | 313/360 [1:18:11<04:11,  5.35s/it]"
     ]
    },
    {
     "name": "stdout",
     "output_type": "stream",
     "text": [
      "2021-05-06 12:07:46,552 - modnet - INFO - Preset #54 fitting finished, loss: 0.5387832224369049\n"
     ]
    },
    {
     "name": "stderr",
     "output_type": "stream",
     "text": [
      " 87%|████████▋ | 314/360 [1:18:22<05:30,  7.19s/it]"
     ]
    },
    {
     "name": "stdout",
     "output_type": "stream",
     "text": [
      "2021-05-06 12:07:52,679 - modnet - INFO - Preset #54 fitting finished, loss: 0.39953001141548156\n"
     ]
    },
    {
     "name": "stderr",
     "output_type": "stream",
     "text": [
      " 88%|████████▊ | 315/360 [1:18:29<05:09,  6.87s/it]"
     ]
    },
    {
     "name": "stdout",
     "output_type": "stream",
     "text": [
      "2021-05-06 12:08:03,338 - modnet - INFO - Preset #56 fitting finished, loss: 0.5189856767654419\n"
     ]
    },
    {
     "name": "stderr",
     "output_type": "stream",
     "text": [
      " 88%|████████▊ | 316/360 [1:18:39<05:51,  7.99s/it]"
     ]
    },
    {
     "name": "stdout",
     "output_type": "stream",
     "text": [
      "2021-05-06 12:08:04,210 - modnet - INFO - Preset #63 fitting finished, loss: 0.6018652796745301\n"
     ]
    },
    {
     "name": "stderr",
     "output_type": "stream",
     "text": [
      " 88%|████████▊ | 317/360 [1:18:40<04:10,  5.83s/it]"
     ]
    },
    {
     "name": "stdout",
     "output_type": "stream",
     "text": [
      "2021-05-06 12:08:10,506 - modnet - INFO - Preset #60 fitting finished, loss: 0.3756586968898773\n"
     ]
    },
    {
     "name": "stderr",
     "output_type": "stream",
     "text": [
      " 88%|████████▊ | 318/360 [1:18:46<04:11,  5.99s/it]"
     ]
    },
    {
     "name": "stdout",
     "output_type": "stream",
     "text": [
      "2021-05-06 12:08:11,607 - modnet - INFO - Preset #62 fitting finished, loss: 0.4955645024776459\n"
     ]
    },
    {
     "name": "stderr",
     "output_type": "stream",
     "text": [
      " 89%|████████▊ | 319/360 [1:18:47<03:05,  4.53s/it]"
     ]
    },
    {
     "name": "stdout",
     "output_type": "stream",
     "text": [
      "2021-05-06 12:08:15,720 - modnet - INFO - Preset #68 fitting finished, loss: 0.37444751262664794\n"
     ]
    },
    {
     "name": "stderr",
     "output_type": "stream",
     "text": [
      " 89%|████████▉ | 320/360 [1:18:51<02:55,  4.39s/it]"
     ]
    },
    {
     "name": "stdout",
     "output_type": "stream",
     "text": [
      "2021-05-06 12:08:16,126 - modnet - INFO - Preset #62 fitting finished, loss: 0.41388562321662903\n"
     ]
    },
    {
     "name": "stderr",
     "output_type": "stream",
     "text": [
      " 89%|████████▉ | 321/360 [1:18:52<02:04,  3.19s/it]"
     ]
    },
    {
     "name": "stdout",
     "output_type": "stream",
     "text": [
      "2021-05-06 12:08:24,364 - modnet - INFO - Preset #71 fitting finished, loss: 0.7443951904773712\n"
     ]
    },
    {
     "name": "stderr",
     "output_type": "stream",
     "text": [
      " 89%|████████▉ | 322/360 [1:19:00<02:58,  4.70s/it]"
     ]
    },
    {
     "name": "stdout",
     "output_type": "stream",
     "text": [
      "2021-05-06 12:08:32,381 - modnet - INFO - Preset #71 fitting finished, loss: 0.8506146252155304\n"
     ]
    },
    {
     "name": "stderr",
     "output_type": "stream",
     "text": [
      " 90%|████████▉ | 323/360 [1:19:08<03:32,  5.73s/it]"
     ]
    },
    {
     "name": "stdout",
     "output_type": "stream",
     "text": [
      "2021-05-06 12:08:36,504 - modnet - INFO - Preset #67 fitting finished, loss: 0.36407047510147095\n"
     ]
    },
    {
     "name": "stderr",
     "output_type": "stream",
     "text": [
      " 90%|█████████ | 324/360 [1:19:12<03:09,  5.26s/it]"
     ]
    },
    {
     "name": "stdout",
     "output_type": "stream",
     "text": [
      "2021-05-06 12:08:40,826 - modnet - INFO - Preset #55 fitting finished, loss: 0.5190384328365326\n"
     ]
    },
    {
     "name": "stderr",
     "output_type": "stream",
     "text": [
      " 90%|█████████ | 325/360 [1:19:17<02:54,  4.99s/it]"
     ]
    },
    {
     "name": "stdout",
     "output_type": "stream",
     "text": [
      "2021-05-06 12:08:42,443 - modnet - INFO - Preset #63 fitting finished, loss: 0.3747055888175964\n"
     ]
    },
    {
     "name": "stderr",
     "output_type": "stream",
     "text": [
      " 91%|█████████ | 326/360 [1:19:22<02:48,  4.95s/it]"
     ]
    },
    {
     "name": "stdout",
     "output_type": "stream",
     "text": [
      "2021-05-06 12:08:46,238 - modnet - INFO - Preset #61 fitting finished, loss: 0.43235962390899657\n"
     ]
    },
    {
     "name": "stderr",
     "output_type": "stream",
     "text": [
      " 91%|█████████ | 327/360 [1:19:22<01:58,  3.59s/it]"
     ]
    },
    {
     "name": "stdout",
     "output_type": "stream",
     "text": [
      "2021-05-06 12:08:51,043 - modnet - INFO - Preset #69 fitting finished, loss: 0.7507909417152405\n"
     ]
    },
    {
     "name": "stderr",
     "output_type": "stream",
     "text": [
      " 91%|█████████ | 328/360 [1:19:27<02:06,  3.96s/it]"
     ]
    },
    {
     "name": "stdout",
     "output_type": "stream",
     "text": [
      "2021-05-06 12:09:09,770 - modnet - INFO - Preset #60 fitting finished, loss: 0.4077432930469513\n"
     ]
    },
    {
     "name": "stderr",
     "output_type": "stream",
     "text": [
      " 91%|█████████▏| 329/360 [1:19:46<04:21,  8.43s/it]"
     ]
    },
    {
     "name": "stdout",
     "output_type": "stream",
     "text": [
      "2021-05-06 12:09:11,943 - modnet - INFO - Preset #61 fitting finished, loss: 0.40892802476882933\n"
     ]
    },
    {
     "name": "stderr",
     "output_type": "stream",
     "text": [
      " 92%|█████████▏| 330/360 [1:19:48<03:15,  6.52s/it]"
     ]
    },
    {
     "name": "stdout",
     "output_type": "stream",
     "text": [
      "2021-05-06 12:09:34,897 - modnet - INFO - Preset #55 fitting finished, loss: 0.43399298787117\n"
     ]
    },
    {
     "name": "stderr",
     "output_type": "stream",
     "text": [
      " 92%|█████████▏| 331/360 [1:20:11<05:31, 11.44s/it]"
     ]
    },
    {
     "name": "stdout",
     "output_type": "stream",
     "text": [
      "2021-05-06 12:09:45,470 - modnet - INFO - Preset #67 fitting finished, loss: 0.5073112726211548\n"
     ]
    },
    {
     "name": "stderr",
     "output_type": "stream",
     "text": [
      " 92%|█████████▏| 332/360 [1:20:21<05:12, 11.16s/it]"
     ]
    },
    {
     "name": "stdout",
     "output_type": "stream",
     "text": [
      "2021-05-06 12:09:52,033 - modnet - INFO - Preset #67 fitting finished, loss: 0.39154990315437316\n"
     ]
    },
    {
     "name": "stderr",
     "output_type": "stream",
     "text": [
      " 92%|█████████▎| 333/360 [1:20:28<04:23,  9.77s/it]"
     ]
    },
    {
     "name": "stdout",
     "output_type": "stream",
     "text": [
      "2021-05-06 12:09:55,605 - modnet - INFO - Preset #68 fitting finished, loss: 0.388513857126236\n"
     ]
    },
    {
     "name": "stderr",
     "output_type": "stream",
     "text": [
      " 93%|█████████▎| 334/360 [1:20:31<03:25,  7.92s/it]"
     ]
    },
    {
     "name": "stdout",
     "output_type": "stream",
     "text": [
      "2021-05-06 12:10:04,108 - modnet - INFO - Preset #55 fitting finished, loss: 0.3838186144828796\n"
     ]
    },
    {
     "name": "stderr",
     "output_type": "stream",
     "text": [
      " 93%|█████████▎| 335/360 [1:20:40<03:22,  8.11s/it]"
     ]
    },
    {
     "name": "stdout",
     "output_type": "stream",
     "text": [
      "2021-05-06 12:10:04,975 - modnet - INFO - Preset #60 fitting finished, loss: 0.4045181512832642\n"
     ]
    },
    {
     "name": "stderr",
     "output_type": "stream",
     "text": [
      " 93%|█████████▎| 336/360 [1:20:41<02:22,  5.92s/it]"
     ]
    },
    {
     "name": "stdout",
     "output_type": "stream",
     "text": [
      "2021-05-06 12:10:13,751 - modnet - INFO - Preset #70 fitting finished, loss: 0.567179948091507\n"
     ]
    },
    {
     "name": "stderr",
     "output_type": "stream",
     "text": [
      " 94%|█████████▎| 337/360 [1:20:49<02:35,  6.77s/it]"
     ]
    },
    {
     "name": "stdout",
     "output_type": "stream",
     "text": [
      "2021-05-06 12:10:15,615 - modnet - INFO - Preset #58 fitting finished, loss: 0.9316373586654663\n"
     ]
    },
    {
     "name": "stderr",
     "output_type": "stream",
     "text": [
      " 94%|█████████▍| 338/360 [1:20:51<01:57,  5.34s/it]"
     ]
    },
    {
     "name": "stdout",
     "output_type": "stream",
     "text": [
      "2021-05-06 12:10:20,556 - modnet - INFO - Preset #63 fitting finished, loss: 0.38950859308242797\n"
     ]
    },
    {
     "name": "stderr",
     "output_type": "stream",
     "text": [
      " 94%|█████████▍| 339/360 [1:20:56<01:49,  5.23s/it]"
     ]
    },
    {
     "name": "stdout",
     "output_type": "stream",
     "text": [
      "2021-05-06 12:10:31,874 - modnet - INFO - Preset #69 fitting finished, loss: 0.38962612152099607\n"
     ]
    },
    {
     "name": "stderr",
     "output_type": "stream",
     "text": [
      " 94%|█████████▍| 340/360 [1:21:08<02:21,  7.08s/it]"
     ]
    },
    {
     "name": "stdout",
     "output_type": "stream",
     "text": [
      "2021-05-06 12:10:32,465 - modnet - INFO - Preset #69 fitting finished, loss: 0.43683597445487976\n"
     ]
    },
    {
     "name": "stderr",
     "output_type": "stream",
     "text": [
      " 95%|█████████▍| 341/360 [1:21:08<01:36,  5.11s/it]"
     ]
    },
    {
     "name": "stdout",
     "output_type": "stream",
     "text": [
      "2021-05-06 12:10:42,161 - modnet - INFO - Preset #66 fitting finished, loss: 0.40343292355537413\n"
     ]
    },
    {
     "name": "stderr",
     "output_type": "stream",
     "text": [
      " 95%|█████████▌| 342/360 [1:21:18<01:56,  6.48s/it]"
     ]
    },
    {
     "name": "stdout",
     "output_type": "stream",
     "text": [
      "2021-05-06 12:10:58,182 - modnet - INFO - Preset #70 fitting finished, loss: 0.40046048164367676\n"
     ]
    },
    {
     "name": "stderr",
     "output_type": "stream",
     "text": [
      " 95%|█████████▌| 343/360 [1:21:34<02:38,  9.30s/it]"
     ]
    },
    {
     "name": "stdout",
     "output_type": "stream",
     "text": [
      "2021-05-06 12:11:01,602 - modnet - INFO - Preset #71 fitting finished, loss: 0.5031095504760742\n"
     ]
    },
    {
     "name": "stderr",
     "output_type": "stream",
     "text": [
      " 96%|█████████▌| 344/360 [1:21:37<02:00,  7.54s/it]"
     ]
    },
    {
     "name": "stdout",
     "output_type": "stream",
     "text": [
      "2021-05-06 12:11:05,290 - modnet - INFO - Preset #68 fitting finished, loss: 0.426260507106781\n"
     ]
    },
    {
     "name": "stderr",
     "output_type": "stream",
     "text": [
      " 96%|█████████▌| 345/360 [1:21:41<01:35,  6.39s/it]"
     ]
    },
    {
     "name": "stdout",
     "output_type": "stream",
     "text": [
      "2021-05-06 12:11:09,687 - modnet - INFO - Preset #68 fitting finished, loss: 0.39324658513069155\n"
     ]
    },
    {
     "name": "stderr",
     "output_type": "stream",
     "text": [
      " 96%|█████████▌| 346/360 [1:21:45<01:20,  5.77s/it]"
     ]
    },
    {
     "name": "stdout",
     "output_type": "stream",
     "text": [
      "2021-05-06 12:11:18,153 - modnet - INFO - Preset #56 fitting finished, loss: 0.48988261818885803\n"
     ]
    },
    {
     "name": "stderr",
     "output_type": "stream",
     "text": [
      " 96%|█████████▋| 347/360 [1:21:54<01:26,  6.64s/it]"
     ]
    },
    {
     "name": "stdout",
     "output_type": "stream",
     "text": [
      "2021-05-06 12:11:27,769 - modnet - INFO - Preset #68 fitting finished, loss: 0.4976478636264801\n"
     ]
    },
    {
     "name": "stderr",
     "output_type": "stream",
     "text": [
      " 97%|█████████▋| 348/360 [1:22:04<01:30,  7.52s/it]"
     ]
    },
    {
     "name": "stdout",
     "output_type": "stream",
     "text": [
      "2021-05-06 12:11:30,720 - modnet - INFO - Preset #69 fitting finished, loss: 0.42282783389091494\n"
     ]
    },
    {
     "name": "stderr",
     "output_type": "stream",
     "text": [
      " 97%|█████████▋| 349/360 [1:22:07<01:07,  6.14s/it]"
     ]
    },
    {
     "name": "stdout",
     "output_type": "stream",
     "text": [
      "2021-05-06 12:12:29,116 - modnet - INFO - Preset #70 fitting finished, loss: 0.5506702780723571\n"
     ]
    },
    {
     "name": "stderr",
     "output_type": "stream",
     "text": [
      " 97%|█████████▋| 350/360 [1:23:05<03:38, 21.86s/it]"
     ]
    },
    {
     "name": "stdout",
     "output_type": "stream",
     "text": [
      "2021-05-06 12:12:30,361 - modnet - INFO - Preset #56 fitting finished, loss: 0.6387504518032074\n"
     ]
    },
    {
     "name": "stderr",
     "output_type": "stream",
     "text": [
      " 98%|█████████▊| 351/360 [1:23:06<02:21, 15.68s/it]"
     ]
    },
    {
     "name": "stdout",
     "output_type": "stream",
     "text": [
      "2021-05-06 12:13:01,677 - modnet - INFO - Preset #69 fitting finished, loss: 0.3785701751708984\n"
     ]
    },
    {
     "name": "stderr",
     "output_type": "stream",
     "text": [
      " 98%|█████████▊| 352/360 [1:23:37<02:42, 20.30s/it]"
     ]
    },
    {
     "name": "stdout",
     "output_type": "stream",
     "text": [
      "2021-05-06 12:13:34,568 - modnet - INFO - Preset #56 fitting finished, loss: 0.7501842856407166\n"
     ]
    },
    {
     "name": "stderr",
     "output_type": "stream",
     "text": [
      " 98%|█████████▊| 353/360 [1:24:10<02:48, 24.08s/it]"
     ]
    },
    {
     "name": "stdout",
     "output_type": "stream",
     "text": [
      "2021-05-06 12:13:50,140 - modnet - INFO - Preset #70 fitting finished, loss: 0.394315230846405\n"
     ]
    },
    {
     "name": "stderr",
     "output_type": "stream",
     "text": [
      " 98%|█████████▊| 354/360 [1:24:26<02:09, 21.55s/it]"
     ]
    },
    {
     "name": "stdout",
     "output_type": "stream",
     "text": [
      "2021-05-06 12:14:03,116 - modnet - INFO - Preset #54 fitting finished, loss: 0.428381085395813\n"
     ]
    },
    {
     "name": "stderr",
     "output_type": "stream",
     "text": [
      " 99%|█████████▊| 355/360 [1:24:39<01:34, 18.98s/it]"
     ]
    },
    {
     "name": "stdout",
     "output_type": "stream",
     "text": [
      "2021-05-06 12:14:05,164 - modnet - INFO - Preset #71 fitting finished, loss: 0.43329859972000123\n"
     ]
    },
    {
     "name": "stderr",
     "output_type": "stream",
     "text": [
      " 99%|█████████▉| 356/360 [1:24:41<00:55, 13.87s/it]"
     ]
    },
    {
     "name": "stdout",
     "output_type": "stream",
     "text": [
      "2021-05-06 12:15:29,013 - modnet - INFO - Preset #57 fitting finished, loss: 0.38622434735298156\n"
     ]
    },
    {
     "name": "stderr",
     "output_type": "stream",
     "text": [
      " 99%|█████████▉| 357/360 [1:26:05<01:44, 34.91s/it]"
     ]
    },
    {
     "name": "stdout",
     "output_type": "stream",
     "text": [
      "2021-05-06 12:15:35,298 - modnet - INFO - Preset #71 fitting finished, loss: 0.4088229238986969\n"
     ]
    },
    {
     "name": "stderr",
     "output_type": "stream",
     "text": [
      " 99%|█████████▉| 358/360 [1:26:11<00:52, 26.26s/it]"
     ]
    },
    {
     "name": "stdout",
     "output_type": "stream",
     "text": [
      "2021-05-06 12:16:50,710 - modnet - INFO - Preset #55 fitting finished, loss: 0.399881637096405\n"
     ]
    },
    {
     "name": "stderr",
     "output_type": "stream",
     "text": [
      "100%|█████████▉| 359/360 [1:27:26<00:41, 41.02s/it]"
     ]
    },
    {
     "name": "stdout",
     "output_type": "stream",
     "text": [
      "2021-05-06 12:17:39,922 - modnet - INFO - Preset #55 fitting finished, loss: 0.41035672426223757\n"
     ]
    },
    {
     "name": "stderr",
     "output_type": "stream",
     "text": [
      "100%|██████████| 360/360 [1:28:16<00:00, 14.71s/it]\n"
     ]
    },
    {
     "name": "stdout",
     "output_type": "stream",
     "text": [
      "2021-05-06 12:17:47,426 - modnet - INFO - Preset #45 resulted in lowest validation loss with params {'train_data': <modnet.preprocessing.MODData object at 0x7f6017fc1e50>, 'targets': [[['exp_gap']]], 'weights': {'exp_gap': 1}, 'n_models': 5, 'num_classes': {'exp_gap': 0}, 'n_feat': 256, 'num_neurons': [[256], [128], [32], [32]], 'lr': 0.005, 'batch_size': 64, 'epochs': 1000, 'loss': 'mae', 'act': 'elu', 'out_act': 'linear', 'callbacks': [<tensorflow.python.keras.callbacks.EarlyStopping object at 0x7f601ba99190>], 'preset_id': 44, 'fold_id': 3, 'verbose': 0, 'val_data': <modnet.preprocessing.MODData object at 0x7f6028fb65e0>}\n",
      "mae\n",
      "0.37979697055074196\n",
      "uncertainty\n",
      "0.33423334\n",
      "2021-05-06 12:18:22,156 - modnet - INFO - Loaded <modnet.preprocessing.MODData object at 0x7f60389a9070> object, created with modnet version 0.1.9\n",
      "2021-05-06 12:18:36,958 - modnet - INFO - Proceeding with grid search: archs: [(64, [[128], [32], [8], [8]]), (64, [[64], [32], [8], [8]]), (64, [[32], [16], [8], [8]]), (128, [[256], [64], [16], [16]]), (128, [[128], [64], [16], [16]]), (128, [[64], [32], [16], [16]]), (256, [[512], [128], [32], [32]]), (256, [[256], [128], [32], [32]]), (256, [[128], [64], [32], [32]]), (512, [[1024], [256], [64], [64]]), (512, [[512], [256], [64], [64]]), (512, [[256], [128], [64], [64]])], batch sizes: [64], learning_rates: [0.001, 0.005, 0.01]\n",
      "2021-05-06 12:18:50,111 - modnet - INFO - Multiprocessing on 64 cores. Total of 128 cores available.\n"
     ]
    },
    {
     "name": "stderr",
     "output_type": "stream",
     "text": [
      "  0%|          | 0/360 [00:00<?, ?it/s]"
     ]
    },
    {
     "name": "stdout",
     "output_type": "stream",
     "text": [
      "2021-05-06 12:28:07,573 - modnet - INFO - Preset #10 fitting finished, loss: 0.487920469045639\n"
     ]
    },
    {
     "name": "stderr",
     "output_type": "stream",
     "text": [
      "  0%|          | 1/360 [09:18<55:41:06, 558.40s/it]"
     ]
    },
    {
     "name": "stdout",
     "output_type": "stream",
     "text": [
      "2021-05-06 12:29:33,188 - modnet - INFO - Preset #10 fitting finished, loss: 0.402522349357605\n"
     ]
    },
    {
     "name": "stderr",
     "output_type": "stream",
     "text": [
      "  1%|          | 2/360 [10:43<41:25:26, 416.55s/it]"
     ]
    },
    {
     "name": "stdout",
     "output_type": "stream",
     "text": [
      "2021-05-06 12:29:44,208 - modnet - INFO - Preset #2 fitting finished, loss: 0.4010551333427429\n"
     ]
    },
    {
     "name": "stderr",
     "output_type": "stream",
     "text": [
      "  1%|          | 3/360 [10:55<29:15:16, 295.00s/it]"
     ]
    },
    {
     "name": "stdout",
     "output_type": "stream",
     "text": [
      "2021-05-06 12:29:56,816 - modnet - INFO - Preset #5 fitting finished, loss: 0.4729738414287567\n"
     ]
    },
    {
     "name": "stderr",
     "output_type": "stream",
     "text": [
      "  1%|          | 4/360 [11:07<20:47:05, 210.18s/it]"
     ]
    },
    {
     "name": "stdout",
     "output_type": "stream",
     "text": [
      "2021-05-06 12:30:12,543 - modnet - INFO - Preset #11 fitting finished, loss: 0.5904709935188294\n"
     ]
    },
    {
     "name": "stderr",
     "output_type": "stream",
     "text": [
      "  1%|▏         | 5/360 [11:23<14:58:31, 151.86s/it]"
     ]
    },
    {
     "name": "stdout",
     "output_type": "stream",
     "text": [
      "2021-05-06 12:30:42,721 - modnet - INFO - Preset #8 fitting finished, loss: 0.3891903221607208\n"
     ]
    },
    {
     "name": "stderr",
     "output_type": "stream",
     "text": [
      "  2%|▏         | 6/360 [11:54<11:21:22, 115.49s/it]"
     ]
    },
    {
     "name": "stdout",
     "output_type": "stream",
     "text": [
      "2021-05-06 12:30:47,224 - modnet - INFO - Preset #3 fitting finished, loss: 0.4795904755592346\n"
     ]
    },
    {
     "name": "stderr",
     "output_type": "stream",
     "text": [
      "  2%|▏         | 7/360 [11:58<8:03:25, 82.17s/it]  "
     ]
    },
    {
     "name": "stdout",
     "output_type": "stream",
     "text": [
      "2021-05-06 12:30:49,294 - modnet - INFO - Preset #10 fitting finished, loss: 0.534943675994873\n"
     ]
    },
    {
     "name": "stderr",
     "output_type": "stream",
     "text": [
      "  2%|▏         | 8/360 [12:00<5:41:16, 58.17s/it]"
     ]
    },
    {
     "name": "stdout",
     "output_type": "stream",
     "text": [
      "2021-05-06 12:31:17,694 - modnet - INFO - Preset #10 fitting finished, loss: 0.4354529857635498\n"
     ]
    },
    {
     "name": "stderr",
     "output_type": "stream",
     "text": [
      "  2%|▎         | 9/360 [12:28<4:47:38, 49.17s/it]"
     ]
    },
    {
     "name": "stdout",
     "output_type": "stream",
     "text": [
      "2021-05-06 12:31:27,682 - modnet - INFO - Preset #2 fitting finished, loss: 0.48364166617393495\n"
     ]
    },
    {
     "name": "stderr",
     "output_type": "stream",
     "text": [
      "  3%|▎         | 10/360 [12:38<3:38:37, 37.48s/it]"
     ]
    },
    {
     "name": "stdout",
     "output_type": "stream",
     "text": [
      "2021-05-06 12:31:34,791 - modnet - INFO - Preset #5 fitting finished, loss: 0.4096494734287262\n"
     ]
    },
    {
     "name": "stderr",
     "output_type": "stream",
     "text": [
      "  3%|▎         | 11/360 [12:46<2:45:04, 28.38s/it]"
     ]
    },
    {
     "name": "stdout",
     "output_type": "stream",
     "text": [
      "2021-05-06 12:31:40,637 - modnet - INFO - Preset #4 fitting finished, loss: 0.4393103063106537\n"
     ]
    },
    {
     "name": "stderr",
     "output_type": "stream",
     "text": [
      "  3%|▎         | 12/360 [12:51<2:05:08, 21.57s/it]"
     ]
    },
    {
     "name": "stdout",
     "output_type": "stream",
     "text": [
      "2021-05-06 12:31:42,388 - modnet - INFO - Preset #8 fitting finished, loss: 0.4568991482257843\n"
     ]
    },
    {
     "name": "stderr",
     "output_type": "stream",
     "text": [
      "  4%|▎         | 13/360 [13:00<1:42:43, 17.76s/it]"
     ]
    },
    {
     "name": "stdout",
     "output_type": "stream",
     "text": [
      "2021-05-06 12:31:50,837 - modnet - INFO - Preset #4 fitting finished, loss: 0.5619851589202881\n"
     ]
    },
    {
     "name": "stderr",
     "output_type": "stream",
     "text": [
      "  4%|▍         | 14/360 [13:01<1:13:19, 12.72s/it]"
     ]
    },
    {
     "name": "stdout",
     "output_type": "stream",
     "text": [
      "2021-05-06 12:31:51,785 - modnet - INFO - Preset #3 fitting finished, loss: 0.47186952233314516\n"
     ]
    },
    {
     "name": "stderr",
     "output_type": "stream",
     "text": [
      "  4%|▍         | 15/360 [13:02<53:12,  9.25s/it]  "
     ]
    },
    {
     "name": "stdout",
     "output_type": "stream",
     "text": [
      "2021-05-06 12:31:52,942 - modnet - INFO - Preset #10 fitting finished, loss: 0.4687638938426971\n"
     ]
    },
    {
     "name": "stderr",
     "output_type": "stream",
     "text": [
      "  4%|▍         | 16/360 [13:03<38:52,  6.78s/it]"
     ]
    },
    {
     "name": "stdout",
     "output_type": "stream",
     "text": [
      "2021-05-06 12:32:12,682 - modnet - INFO - Preset #9 fitting finished, loss: 0.42885159254074096\n"
     ]
    },
    {
     "name": "stderr",
     "output_type": "stream",
     "text": [
      "  5%|▍         | 17/360 [13:23<1:01:00, 10.67s/it]"
     ]
    },
    {
     "name": "stdout",
     "output_type": "stream",
     "text": [
      "2021-05-06 12:32:16,464 - modnet - INFO - Preset #4 fitting finished, loss: 0.4545687198638916\n"
     ]
    },
    {
     "name": "stderr",
     "output_type": "stream",
     "text": [
      "  5%|▌         | 18/360 [13:27<49:31,  8.69s/it]  "
     ]
    },
    {
     "name": "stdout",
     "output_type": "stream",
     "text": [
      "2021-05-06 12:32:17,766 - modnet - INFO - Preset #11 fitting finished, loss: 0.47248971462249756\n"
     ]
    },
    {
     "name": "stderr",
     "output_type": "stream",
     "text": [
      "  5%|▌         | 19/360 [13:28<36:51,  6.49s/it]"
     ]
    },
    {
     "name": "stdout",
     "output_type": "stream",
     "text": [
      "2021-05-06 12:32:20,942 - modnet - INFO - Preset #9 fitting finished, loss: 0.40081107020378115\n"
     ]
    },
    {
     "name": "stderr",
     "output_type": "stream",
     "text": [
      "  6%|▌         | 20/360 [13:32<30:57,  5.46s/it]"
     ]
    },
    {
     "name": "stdout",
     "output_type": "stream",
     "text": [
      "2021-05-06 12:32:25,336 - modnet - INFO - Preset #9 fitting finished, loss: 0.472324538230896\n"
     ]
    },
    {
     "name": "stderr",
     "output_type": "stream",
     "text": [
      "  6%|▌         | 21/360 [13:36<28:54,  5.12s/it]"
     ]
    },
    {
     "name": "stdout",
     "output_type": "stream",
     "text": [
      "2021-05-06 12:32:26,503 - modnet - INFO - Preset #11 fitting finished, loss: 0.4317986309528351\n"
     ]
    },
    {
     "name": "stderr",
     "output_type": "stream",
     "text": [
      "  6%|▌         | 22/360 [13:37<22:17,  3.96s/it]"
     ]
    },
    {
     "name": "stdout",
     "output_type": "stream",
     "text": [
      "2021-05-06 12:32:28,318 - modnet - INFO - Preset #4 fitting finished, loss: 0.41753833293914794\n"
     ]
    },
    {
     "name": "stderr",
     "output_type": "stream",
     "text": [
      "  6%|▋         | 23/360 [13:38<17:35,  3.13s/it]"
     ]
    },
    {
     "name": "stdout",
     "output_type": "stream",
     "text": [
      "2021-05-06 12:32:31,247 - modnet - INFO - Preset #2 fitting finished, loss: 0.5595645189285279\n"
     ]
    },
    {
     "name": "stderr",
     "output_type": "stream",
     "text": [
      "  7%|▋         | 24/360 [13:42<17:53,  3.20s/it]"
     ]
    },
    {
     "name": "stdout",
     "output_type": "stream",
     "text": [
      "2021-05-06 12:32:44,479 - modnet - INFO - Preset #2 fitting finished, loss: 0.4801169574260712\n"
     ]
    },
    {
     "name": "stderr",
     "output_type": "stream",
     "text": [
      "  7%|▋         | 25/360 [13:55<34:30,  6.18s/it]"
     ]
    },
    {
     "name": "stdout",
     "output_type": "stream",
     "text": [
      "2021-05-06 12:32:49,617 - modnet - INFO - Preset #3 fitting finished, loss: 0.5617725729942322\n"
     ]
    },
    {
     "name": "stderr",
     "output_type": "stream",
     "text": [
      "  7%|▋         | 26/360 [14:00<32:23,  5.82s/it]"
     ]
    },
    {
     "name": "stdout",
     "output_type": "stream",
     "text": [
      "2021-05-06 12:32:50,423 - modnet - INFO - Preset #9 fitting finished, loss: 0.5542266607284546\n"
     ]
    },
    {
     "name": "stderr",
     "output_type": "stream",
     "text": [
      "  8%|▊         | 27/360 [14:01<24:33,  4.42s/it]"
     ]
    },
    {
     "name": "stdout",
     "output_type": "stream",
     "text": [
      "2021-05-06 12:32:56,568 - modnet - INFO - Preset #8 fitting finished, loss: 0.4317596971988678\n"
     ]
    },
    {
     "name": "stderr",
     "output_type": "stream",
     "text": [
      "  8%|▊         | 28/360 [14:07<27:30,  4.97s/it]"
     ]
    },
    {
     "name": "stdout",
     "output_type": "stream",
     "text": [
      "2021-05-06 12:33:03,705 - modnet - INFO - Preset #5 fitting finished, loss: 0.48414154052734376\n"
     ]
    },
    {
     "name": "stderr",
     "output_type": "stream",
     "text": [
      "  8%|▊         | 29/360 [14:14<30:09,  5.47s/it]"
     ]
    },
    {
     "name": "stdout",
     "output_type": "stream",
     "text": [
      "2021-05-06 12:33:13,828 - modnet - INFO - Preset #3 fitting finished, loss: 0.45350478291511537\n"
     ]
    },
    {
     "name": "stderr",
     "output_type": "stream",
     "text": [
      "  8%|▊         | 30/360 [14:24<38:00,  6.91s/it]"
     ]
    },
    {
     "name": "stdout",
     "output_type": "stream",
     "text": [
      "2021-05-06 12:33:14,741 - modnet - INFO - Preset #8 fitting finished, loss: 0.5423438847064972\n"
     ]
    },
    {
     "name": "stderr",
     "output_type": "stream",
     "text": [
      "  9%|▊         | 31/360 [14:25<28:27,  5.19s/it]"
     ]
    },
    {
     "name": "stdout",
     "output_type": "stream",
     "text": [
      "2021-05-06 12:33:15,917 - modnet - INFO - Preset #5 fitting finished, loss: 0.5791088104248047\n"
     ]
    },
    {
     "name": "stderr",
     "output_type": "stream",
     "text": [
      "  9%|▉         | 32/360 [14:26<21:13,  3.88s/it]"
     ]
    },
    {
     "name": "stdout",
     "output_type": "stream",
     "text": [
      "2021-05-06 12:33:20,029 - modnet - INFO - Preset #5 fitting finished, loss: 0.43523978590965273\n"
     ]
    },
    {
     "name": "stderr",
     "output_type": "stream",
     "text": [
      "  9%|▉         | 33/360 [14:30<21:44,  3.99s/it]"
     ]
    },
    {
     "name": "stdout",
     "output_type": "stream",
     "text": [
      "2021-05-06 12:33:34,815 - modnet - INFO - Preset #11 fitting finished, loss: 0.4112825751304626\n"
     ]
    },
    {
     "name": "stderr",
     "output_type": "stream",
     "text": [
      "  9%|▉         | 34/360 [14:45<39:08,  7.20s/it]"
     ]
    },
    {
     "name": "stdout",
     "output_type": "stream",
     "text": [
      "2021-05-06 12:34:05,703 - modnet - INFO - Preset #11 fitting finished, loss: 0.4903312921524048\n"
     ]
    },
    {
     "name": "stderr",
     "output_type": "stream",
     "text": [
      " 10%|▉         | 35/360 [15:16<1:17:23, 14.29s/it]"
     ]
    },
    {
     "name": "stdout",
     "output_type": "stream",
     "text": [
      "2021-05-06 12:34:36,836 - modnet - INFO - Preset #2 fitting finished, loss: 0.4267692744731903\n"
     ]
    },
    {
     "name": "stderr",
     "output_type": "stream",
     "text": [
      " 10%|█         | 36/360 [15:47<1:44:28, 19.35s/it]"
     ]
    },
    {
     "name": "stdout",
     "output_type": "stream",
     "text": [
      "2021-05-06 12:34:38,711 - modnet - INFO - Preset #4 fitting finished, loss: 0.46604620218276976\n"
     ]
    },
    {
     "name": "stderr",
     "output_type": "stream",
     "text": [
      " 10%|█         | 37/360 [15:49<1:16:13, 14.16s/it]"
     ]
    },
    {
     "name": "stdout",
     "output_type": "stream",
     "text": [
      "2021-05-06 12:34:44,284 - modnet - INFO - Preset #3 fitting finished, loss: 0.4155450344085693\n"
     ]
    },
    {
     "name": "stderr",
     "output_type": "stream",
     "text": [
      " 11%|█         | 38/360 [15:55<1:01:58, 11.55s/it]"
     ]
    },
    {
     "name": "stdout",
     "output_type": "stream",
     "text": [
      "2021-05-06 12:36:15,183 - modnet - INFO - Preset #1 fitting finished, loss: 0.46502299308776857\n"
     ]
    },
    {
     "name": "stderr",
     "output_type": "stream",
     "text": [
      " 11%|█         | 39/360 [17:25<3:09:01, 35.33s/it]"
     ]
    },
    {
     "name": "stdout",
     "output_type": "stream",
     "text": [
      "2021-05-06 12:36:18,139 - modnet - INFO - Preset #8 fitting finished, loss: 0.4601832330226898\n"
     ]
    },
    {
     "name": "stderr",
     "output_type": "stream",
     "text": [
      " 11%|█         | 40/360 [17:29<2:17:10, 25.72s/it]"
     ]
    },
    {
     "name": "stdout",
     "output_type": "stream",
     "text": [
      "2021-05-06 12:36:22,144 - modnet - INFO - Preset #12 fitting finished, loss: 0.5962806701660156\n"
     ]
    },
    {
     "name": "stderr",
     "output_type": "stream",
     "text": [
      " 11%|█▏        | 41/360 [17:32<1:41:36, 19.11s/it]"
     ]
    },
    {
     "name": "stdout",
     "output_type": "stream",
     "text": [
      "2021-05-06 12:36:29,778 - modnet - INFO - Preset #6 fitting finished, loss: 0.4784125924110413\n"
     ]
    },
    {
     "name": "stderr",
     "output_type": "stream",
     "text": [
      " 12%|█▏        | 42/360 [17:40<1:23:26, 15.74s/it]"
     ]
    },
    {
     "name": "stdout",
     "output_type": "stream",
     "text": [
      "2021-05-06 12:36:34,806 - modnet - INFO - Preset #6 fitting finished, loss: 0.458008223772049\n"
     ]
    },
    {
     "name": "stderr",
     "output_type": "stream",
     "text": [
      " 12%|█▏        | 43/360 [17:45<1:05:55, 12.48s/it]"
     ]
    },
    {
     "name": "stdout",
     "output_type": "stream",
     "text": [
      "2021-05-06 12:36:40,388 - modnet - INFO - Preset #0 fitting finished, loss: 0.4477950930595398\n"
     ]
    },
    {
     "name": "stderr",
     "output_type": "stream",
     "text": [
      " 12%|█▏        | 44/360 [17:51<55:17, 10.50s/it]  "
     ]
    },
    {
     "name": "stdout",
     "output_type": "stream",
     "text": [
      "2021-05-06 12:36:58,397 - modnet - INFO - Preset #12 fitting finished, loss: 0.486297196149826\n"
     ]
    },
    {
     "name": "stderr",
     "output_type": "stream",
     "text": [
      " 12%|█▎        | 45/360 [18:09<1:06:29, 12.66s/it]"
     ]
    },
    {
     "name": "stdout",
     "output_type": "stream",
     "text": [
      "2021-05-06 12:36:59,367 - modnet - INFO - Preset #1 fitting finished, loss: 0.5489563584327698\n"
     ]
    },
    {
     "name": "stderr",
     "output_type": "stream",
     "text": [
      " 13%|█▎        | 46/360 [18:10<48:16,  9.22s/it]  "
     ]
    },
    {
     "name": "stdout",
     "output_type": "stream",
     "text": [
      "2021-05-06 12:37:04,446 - modnet - INFO - Preset #1 fitting finished, loss: 0.4725514709949493\n"
     ]
    },
    {
     "name": "stderr",
     "output_type": "stream",
     "text": [
      " 13%|█▎        | 47/360 [18:15<41:19,  7.92s/it]"
     ]
    },
    {
     "name": "stdout",
     "output_type": "stream",
     "text": [
      "2021-05-06 12:37:05,792 - modnet - INFO - Preset #0 fitting finished, loss: 0.4634613931179047\n"
     ]
    },
    {
     "name": "stderr",
     "output_type": "stream",
     "text": [
      " 13%|█▎        | 48/360 [18:16<30:52,  5.94s/it]"
     ]
    },
    {
     "name": "stdout",
     "output_type": "stream",
     "text": [
      "2021-05-06 12:37:06,728 - modnet - INFO - Preset #0 fitting finished, loss: 0.5754158735275269\n"
     ]
    },
    {
     "name": "stderr",
     "output_type": "stream",
     "text": [
      " 14%|█▎        | 49/360 [18:17<23:37,  4.56s/it]"
     ]
    },
    {
     "name": "stdout",
     "output_type": "stream",
     "text": [
      "2021-05-06 12:37:22,506 - modnet - INFO - Preset #6 fitting finished, loss: 0.5673047423362731\n"
     ]
    },
    {
     "name": "stderr",
     "output_type": "stream",
     "text": [
      " 14%|█▍        | 50/360 [18:33<40:09,  7.77s/it]"
     ]
    },
    {
     "name": "stdout",
     "output_type": "stream",
     "text": [
      "2021-05-06 12:37:27,531 - modnet - INFO - Preset #9 fitting finished, loss: 0.49398391842842104\n"
     ]
    },
    {
     "name": "stderr",
     "output_type": "stream",
     "text": [
      " 14%|█▍        | 51/360 [18:38<35:41,  6.93s/it]"
     ]
    },
    {
     "name": "stdout",
     "output_type": "stream",
     "text": [
      "2021-05-06 12:37:30,319 - modnet - INFO - Preset #0 fitting finished, loss: 0.4631261169910431\n"
     ]
    },
    {
     "name": "stderr",
     "output_type": "stream",
     "text": [
      " 14%|█▍        | 52/360 [18:40<29:11,  5.69s/it]"
     ]
    },
    {
     "name": "stdout",
     "output_type": "stream",
     "text": [
      "2021-05-06 12:37:46,328 - modnet - INFO - Preset #12 fitting finished, loss: 0.46440187096595764\n"
     ]
    },
    {
     "name": "stderr",
     "output_type": "stream",
     "text": [
      " 15%|█▍        | 53/360 [18:57<45:22,  8.87s/it]"
     ]
    },
    {
     "name": "stdout",
     "output_type": "stream",
     "text": [
      "2021-05-06 12:37:53,538 - modnet - INFO - Preset #1 fitting finished, loss: 0.4515629768371582\n"
     ]
    },
    {
     "name": "stderr",
     "output_type": "stream",
     "text": [
      " 15%|█▌        | 54/360 [19:04<42:33,  8.34s/it]"
     ]
    },
    {
     "name": "stdout",
     "output_type": "stream",
     "text": [
      "2021-05-06 12:39:03,485 - modnet - INFO - Preset #12 fitting finished, loss: 0.46635515093803404\n"
     ]
    },
    {
     "name": "stderr",
     "output_type": "stream",
     "text": [
      " 15%|█▌        | 55/360 [20:14<2:16:13, 26.80s/it]"
     ]
    },
    {
     "name": "stdout",
     "output_type": "stream",
     "text": [
      "2021-05-06 12:39:17,723 - modnet - INFO - Preset #1 fitting finished, loss: 0.4512235581874847\n"
     ]
    },
    {
     "name": "stderr",
     "output_type": "stream",
     "text": [
      " 16%|█▌        | 56/360 [20:28<1:56:34, 23.01s/it]"
     ]
    },
    {
     "name": "stdout",
     "output_type": "stream",
     "text": [
      "2021-05-06 12:39:21,409 - modnet - INFO - Preset #7 fitting finished, loss: 0.4583632290363312\n"
     ]
    },
    {
     "name": "stderr",
     "output_type": "stream",
     "text": [
      " 16%|█▌        | 57/360 [20:31<1:26:42, 17.17s/it]"
     ]
    },
    {
     "name": "stdout",
     "output_type": "stream",
     "text": [
      "2021-05-06 12:39:26,231 - modnet - INFO - Preset #6 fitting finished, loss: 0.45941600799560545\n"
     ]
    },
    {
     "name": "stderr",
     "output_type": "stream",
     "text": [
      " 16%|█▌        | 58/360 [20:36<1:07:59, 13.51s/it]"
     ]
    },
    {
     "name": "stdout",
     "output_type": "stream",
     "text": [
      "2021-05-06 12:39:29,686 - modnet - INFO - Preset #7 fitting finished, loss: 0.5610073208808899\n"
     ]
    },
    {
     "name": "stderr",
     "output_type": "stream",
     "text": [
      " 16%|█▋        | 59/360 [20:40<52:37, 10.49s/it]  "
     ]
    },
    {
     "name": "stdout",
     "output_type": "stream",
     "text": [
      "2021-05-06 12:39:38,538 - modnet - INFO - Preset #7 fitting finished, loss: 0.4406375527381897\n"
     ]
    },
    {
     "name": "stderr",
     "output_type": "stream",
     "text": [
      " 17%|█▋        | 60/360 [20:49<49:50,  9.97s/it]"
     ]
    },
    {
     "name": "stdout",
     "output_type": "stream",
     "text": [
      "2021-05-06 12:39:58,131 - modnet - INFO - Preset #0 fitting finished, loss: 0.45111882090568545\n"
     ]
    },
    {
     "name": "stderr",
     "output_type": "stream",
     "text": [
      " 17%|█▋        | 61/360 [21:08<1:03:58, 12.84s/it]"
     ]
    },
    {
     "name": "stdout",
     "output_type": "stream",
     "text": [
      "2021-05-06 12:40:00,172 - modnet - INFO - Preset #7 fitting finished, loss: 0.45984246730804446\n"
     ]
    },
    {
     "name": "stderr",
     "output_type": "stream",
     "text": [
      " 17%|█▋        | 62/360 [21:10<47:57,  9.66s/it]  "
     ]
    },
    {
     "name": "stdout",
     "output_type": "stream",
     "text": [
      "2021-05-06 12:40:10,399 - modnet - INFO - Preset #7 fitting finished, loss: 0.46101621389389036\n"
     ]
    },
    {
     "name": "stderr",
     "output_type": "stream",
     "text": [
      " 18%|█▊        | 63/360 [21:21<48:36,  9.82s/it]"
     ]
    },
    {
     "name": "stdout",
     "output_type": "stream",
     "text": [
      "2021-05-06 12:40:52,556 - modnet - INFO - Preset #6 fitting finished, loss: 0.45909119844436647\n"
     ]
    },
    {
     "name": "stderr",
     "output_type": "stream",
     "text": [
      " 18%|█▊        | 64/360 [22:03<1:36:21, 19.53s/it]"
     ]
    },
    {
     "name": "stdout",
     "output_type": "stream",
     "text": [
      "2021-05-06 12:41:11,172 - modnet - INFO - Preset #17 fitting finished, loss: 0.39177467823028567\n"
     ]
    },
    {
     "name": "stderr",
     "output_type": "stream",
     "text": [
      " 18%|█▊        | 65/360 [22:21<1:34:49, 19.29s/it]"
     ]
    },
    {
     "name": "stdout",
     "output_type": "stream",
     "text": [
      "2021-05-06 12:42:27,469 - modnet - INFO - Preset #15 fitting finished, loss: 0.47571665048599243\n"
     ]
    },
    {
     "name": "stderr",
     "output_type": "stream",
     "text": [
      " 18%|█▊        | 66/360 [23:38<2:58:07, 36.35s/it]"
     ]
    },
    {
     "name": "stdout",
     "output_type": "stream",
     "text": [
      "2021-05-06 12:43:08,304 - modnet - INFO - Preset #14 fitting finished, loss: 0.5376113772392273\n"
     ]
    },
    {
     "name": "stderr",
     "output_type": "stream",
     "text": [
      " 19%|█▊        | 67/360 [24:19<3:04:11, 37.72s/it]"
     ]
    },
    {
     "name": "stdout",
     "output_type": "stream",
     "text": [
      "2021-05-06 12:44:01,195 - modnet - INFO - Preset #17 fitting finished, loss: 0.58344007730484\n"
     ]
    },
    {
     "name": "stderr",
     "output_type": "stream",
     "text": [
      " 19%|█▉        | 68/360 [25:11<3:25:45, 42.28s/it]"
     ]
    },
    {
     "name": "stdout",
     "output_type": "stream",
     "text": [
      "2021-05-06 12:44:08,698 - modnet - INFO - Preset #16 fitting finished, loss: 0.42465845942497255\n"
     ]
    },
    {
     "name": "stderr",
     "output_type": "stream",
     "text": [
      " 19%|█▉        | 69/360 [25:19<2:34:24, 31.84s/it]"
     ]
    },
    {
     "name": "stdout",
     "output_type": "stream",
     "text": [
      "2021-05-06 12:44:14,376 - modnet - INFO - Preset #18 fitting finished, loss: 0.41378265619277954\n"
     ]
    },
    {
     "name": "stderr",
     "output_type": "stream",
     "text": [
      " 19%|█▉        | 70/360 [25:24<1:55:40, 23.93s/it]"
     ]
    },
    {
     "name": "stdout",
     "output_type": "stream",
     "text": [
      "2021-05-06 12:44:25,702 - modnet - INFO - Preset #15 fitting finished, loss: 0.42804604172706606\n"
     ]
    },
    {
     "name": "stderr",
     "output_type": "stream",
     "text": [
      " 20%|█▉        | 71/360 [25:36<1:37:10, 20.17s/it]"
     ]
    },
    {
     "name": "stdout",
     "output_type": "stream",
     "text": [
      "2021-05-06 12:44:48,025 - modnet - INFO - Preset #18 fitting finished, loss: 0.4606449544429779\n"
     ]
    },
    {
     "name": "stderr",
     "output_type": "stream",
     "text": [
      " 20%|██        | 72/360 [25:58<1:39:59, 20.83s/it]"
     ]
    },
    {
     "name": "stdout",
     "output_type": "stream",
     "text": [
      "2021-05-06 12:44:55,974 - modnet - INFO - Preset #13 fitting finished, loss: 0.4964956045150757\n"
     ]
    },
    {
     "name": "stderr",
     "output_type": "stream",
     "text": [
      " 20%|██        | 73/360 [26:06<1:21:04, 16.95s/it]"
     ]
    },
    {
     "name": "stdout",
     "output_type": "stream",
     "text": [
      "2021-05-06 12:45:08,595 - modnet - INFO - Preset #15 fitting finished, loss: 0.5312116384506226\n"
     ]
    },
    {
     "name": "stderr",
     "output_type": "stream",
     "text": [
      " 21%|██        | 74/360 [26:19<1:14:28, 15.62s/it]"
     ]
    },
    {
     "name": "stdout",
     "output_type": "stream",
     "text": [
      "2021-05-06 12:45:14,090 - modnet - INFO - Preset #15 fitting finished, loss: 0.45649773478507993\n"
     ]
    },
    {
     "name": "stderr",
     "output_type": "stream",
     "text": [
      " 21%|██        | 75/360 [26:24<1:00:02, 12.64s/it]"
     ]
    },
    {
     "name": "stdout",
     "output_type": "stream",
     "text": [
      "2021-05-06 12:45:21,261 - modnet - INFO - Preset #18 fitting finished, loss: 0.4296391248703003\n"
     ]
    },
    {
     "name": "stderr",
     "output_type": "stream",
     "text": [
      " 21%|██        | 76/360 [26:32<52:16, 11.04s/it]  "
     ]
    },
    {
     "name": "stdout",
     "output_type": "stream",
     "text": [
      "2021-05-06 12:45:27,783 - modnet - INFO - Preset #15 fitting finished, loss: 0.4423019528388977\n"
     ]
    },
    {
     "name": "stderr",
     "output_type": "stream",
     "text": [
      " 21%|██▏       | 77/360 [26:38<45:31,  9.65s/it]"
     ]
    },
    {
     "name": "stdout",
     "output_type": "stream",
     "text": [
      "2021-05-06 12:45:43,852 - modnet - INFO - Preset #16 fitting finished, loss: 0.43760799169540404\n"
     ]
    },
    {
     "name": "stderr",
     "output_type": "stream",
     "text": [
      " 22%|██▏       | 78/360 [27:00<1:02:56, 13.39s/it]"
     ]
    },
    {
     "name": "stdout",
     "output_type": "stream",
     "text": [
      "2021-05-06 12:45:50,768 - modnet - INFO - Preset #13 fitting finished, loss: 0.5764171242713928\n"
     ]
    },
    {
     "name": "stderr",
     "output_type": "stream",
     "text": [
      " 22%|██▏       | 79/360 [27:01<44:57,  9.60s/it]  "
     ]
    },
    {
     "name": "stdout",
     "output_type": "stream",
     "text": [
      "2021-05-06 12:46:23,299 - modnet - INFO - Preset #20 fitting finished, loss: 0.41167856454849244\n"
     ]
    },
    {
     "name": "stderr",
     "output_type": "stream",
     "text": [
      " 22%|██▏       | 80/360 [27:34<1:17:09, 16.53s/it]"
     ]
    },
    {
     "name": "stdout",
     "output_type": "stream",
     "text": [
      "2021-05-06 12:46:31,279 - modnet - INFO - Preset #14 fitting finished, loss: 0.48096941113471986\n"
     ]
    },
    {
     "name": "stderr",
     "output_type": "stream",
     "text": [
      " 22%|██▎       | 81/360 [27:41<1:04:22, 13.84s/it]"
     ]
    },
    {
     "name": "stdout",
     "output_type": "stream",
     "text": [
      "2021-05-06 12:46:52,017 - modnet - INFO - Preset #16 fitting finished, loss: 0.4155288994312286\n"
     ]
    },
    {
     "name": "stderr",
     "output_type": "stream",
     "text": [
      " 23%|██▎       | 82/360 [28:02<1:14:11, 16.01s/it]"
     ]
    },
    {
     "name": "stdout",
     "output_type": "stream",
     "text": [
      "2021-05-06 12:46:57,829 - modnet - INFO - Preset #19 fitting finished, loss: 0.536552631855011\n"
     ]
    },
    {
     "name": "stderr",
     "output_type": "stream",
     "text": [
      " 23%|██▎       | 83/360 [28:08<59:57, 12.99s/it]  "
     ]
    },
    {
     "name": "stdout",
     "output_type": "stream",
     "text": [
      "2021-05-06 12:46:59,209 - modnet - INFO - Preset #21 fitting finished, loss: 0.3951549530029297\n"
     ]
    },
    {
     "name": "stderr",
     "output_type": "stream",
     "text": [
      " 23%|██▎       | 84/360 [28:10<43:55,  9.55s/it]"
     ]
    },
    {
     "name": "stdout",
     "output_type": "stream",
     "text": [
      "2021-05-06 12:47:08,788 - modnet - INFO - Preset #22 fitting finished, loss: 0.5182455480098724\n"
     ]
    },
    {
     "name": "stderr",
     "output_type": "stream",
     "text": [
      " 24%|██▎       | 85/360 [28:19<43:35,  9.51s/it]"
     ]
    },
    {
     "name": "stdout",
     "output_type": "stream",
     "text": [
      "2021-05-06 12:47:29,242 - modnet - INFO - Preset #20 fitting finished, loss: 0.5763392508029938\n"
     ]
    },
    {
     "name": "stderr",
     "output_type": "stream",
     "text": [
      " 24%|██▍       | 86/360 [28:40<58:31, 12.81s/it]"
     ]
    },
    {
     "name": "stdout",
     "output_type": "stream",
     "text": [
      "2021-05-06 12:47:40,623 - modnet - INFO - Preset #17 fitting finished, loss: 0.46046802401542664\n"
     ]
    },
    {
     "name": "stderr",
     "output_type": "stream",
     "text": [
      " 24%|██▍       | 87/360 [28:51<56:27, 12.41s/it]"
     ]
    },
    {
     "name": "stdout",
     "output_type": "stream",
     "text": [
      "2021-05-06 12:47:42,444 - modnet - INFO - Preset #13 fitting finished, loss: 0.4602686583995819\n"
     ]
    },
    {
     "name": "stderr",
     "output_type": "stream",
     "text": [
      " 24%|██▍       | 88/360 [28:53<41:46,  9.22s/it]"
     ]
    },
    {
     "name": "stdout",
     "output_type": "stream",
     "text": [
      "2021-05-06 12:47:43,508 - modnet - INFO - Preset #23 fitting finished, loss: 0.5307712554931641\n"
     ]
    },
    {
     "name": "stderr",
     "output_type": "stream",
     "text": [
      " 25%|██▍       | 89/360 [28:54<31:02,  6.87s/it]"
     ]
    },
    {
     "name": "stdout",
     "output_type": "stream",
     "text": [
      "2021-05-06 12:47:49,263 - modnet - INFO - Preset #17 fitting finished, loss: 0.47199261784553526\n"
     ]
    },
    {
     "name": "stderr",
     "output_type": "stream",
     "text": [
      " 25%|██▌       | 90/360 [28:59<28:35,  6.35s/it]"
     ]
    },
    {
     "name": "stdout",
     "output_type": "stream",
     "text": [
      "2021-05-06 12:47:50,964 - modnet - INFO - Preset #22 fitting finished, loss: 0.6783104956150054\n"
     ]
    },
    {
     "name": "stderr",
     "output_type": "stream",
     "text": [
      " 25%|██▌       | 91/360 [29:01<22:14,  4.96s/it]"
     ]
    },
    {
     "name": "stdout",
     "output_type": "stream",
     "text": [
      "2021-05-06 12:47:54,162 - modnet - INFO - Preset #18 fitting finished, loss: 0.4121581554412842\n"
     ]
    },
    {
     "name": "stderr",
     "output_type": "stream",
     "text": [
      " 26%|██▌       | 92/360 [29:05<20:01,  4.48s/it]"
     ]
    },
    {
     "name": "stdout",
     "output_type": "stream",
     "text": [
      "2021-05-06 12:48:02,613 - modnet - INFO - Preset #21 fitting finished, loss: 0.4142000138759613\n"
     ]
    },
    {
     "name": "stderr",
     "output_type": "stream",
     "text": [
      " 26%|██▌       | 93/360 [29:13<25:06,  5.64s/it]"
     ]
    },
    {
     "name": "stdout",
     "output_type": "stream",
     "text": [
      "2021-05-06 12:48:26,752 - modnet - INFO - Preset #14 fitting finished, loss: 0.45146321058273314\n"
     ]
    },
    {
     "name": "stderr",
     "output_type": "stream",
     "text": [
      " 26%|██▌       | 94/360 [29:37<49:36, 11.19s/it]"
     ]
    },
    {
     "name": "stdout",
     "output_type": "stream",
     "text": [
      "2021-05-06 12:48:27,598 - modnet - INFO - Preset #16 fitting finished, loss: 0.5379247188568115\n"
     ]
    },
    {
     "name": "stderr",
     "output_type": "stream",
     "text": [
      " 26%|██▋       | 95/360 [29:38<35:51,  8.12s/it]"
     ]
    },
    {
     "name": "stdout",
     "output_type": "stream",
     "text": [
      "2021-05-06 12:48:31,685 - modnet - INFO - Preset #19 fitting finished, loss: 0.44611126780509947\n"
     ]
    },
    {
     "name": "stderr",
     "output_type": "stream",
     "text": [
      " 27%|██▋       | 96/360 [29:42<30:10,  6.86s/it]"
     ]
    },
    {
     "name": "stdout",
     "output_type": "stream",
     "text": [
      "2021-05-06 12:48:45,303 - modnet - INFO - Preset #12 fitting finished, loss: 0.463953697681427\n"
     ]
    },
    {
     "name": "stderr",
     "output_type": "stream",
     "text": [
      " 27%|██▋       | 97/360 [29:55<38:52,  8.87s/it]"
     ]
    },
    {
     "name": "stdout",
     "output_type": "stream",
     "text": [
      "2021-05-06 12:48:47,031 - modnet - INFO - Preset #23 fitting finished, loss: 0.4836131572723389\n"
     ]
    },
    {
     "name": "stderr",
     "output_type": "stream",
     "text": [
      " 27%|██▋       | 98/360 [29:57<29:30,  6.76s/it]"
     ]
    },
    {
     "name": "stdout",
     "output_type": "stream",
     "text": [
      "2021-05-06 12:48:54,273 - modnet - INFO - Preset #21 fitting finished, loss: 0.43769270181655884\n"
     ]
    },
    {
     "name": "stderr",
     "output_type": "stream",
     "text": [
      " 28%|██▊       | 99/360 [30:04<29:56,  6.88s/it]"
     ]
    },
    {
     "name": "stdout",
     "output_type": "stream",
     "text": [
      "2021-05-06 12:49:04,461 - modnet - INFO - Preset #22 fitting finished, loss: 0.47897101640701295\n"
     ]
    },
    {
     "name": "stderr",
     "output_type": "stream",
     "text": [
      " 28%|██▊       | 100/360 [30:15<34:09,  7.88s/it]"
     ]
    },
    {
     "name": "stdout",
     "output_type": "stream",
     "text": [
      "2021-05-06 12:49:10,433 - modnet - INFO - Preset #17 fitting finished, loss: 0.45553447008132936\n"
     ]
    },
    {
     "name": "stderr",
     "output_type": "stream",
     "text": [
      " 28%|██▊       | 101/360 [30:21<31:34,  7.32s/it]"
     ]
    },
    {
     "name": "stdout",
     "output_type": "stream",
     "text": [
      "2021-05-06 12:49:14,642 - modnet - INFO - Preset #16 fitting finished, loss: 0.5168938875198364\n"
     ]
    },
    {
     "name": "stderr",
     "output_type": "stream",
     "text": [
      " 28%|██▊       | 102/360 [30:25<27:20,  6.36s/it]"
     ]
    },
    {
     "name": "stdout",
     "output_type": "stream",
     "text": [
      "2021-05-06 12:49:38,312 - modnet - INFO - Preset #19 fitting finished, loss: 0.42838055491447447\n"
     ]
    },
    {
     "name": "stderr",
     "output_type": "stream",
     "text": [
      " 29%|██▊       | 103/360 [30:49<49:36, 11.58s/it]"
     ]
    },
    {
     "name": "stdout",
     "output_type": "stream",
     "text": [
      "2021-05-06 12:49:41,243 - modnet - INFO - Preset #21 fitting finished, loss: 0.5319360375404358\n"
     ]
    },
    {
     "name": "stderr",
     "output_type": "stream",
     "text": [
      " 29%|██▉       | 104/360 [30:51<38:21,  8.99s/it]"
     ]
    },
    {
     "name": "stdout",
     "output_type": "stream",
     "text": [
      "2021-05-06 12:49:45,844 - modnet - INFO - Preset #14 fitting finished, loss: 0.41547011733055117\n"
     ]
    },
    {
     "name": "stderr",
     "output_type": "stream",
     "text": [
      " 29%|██▉       | 105/360 [30:56<32:41,  7.69s/it]"
     ]
    },
    {
     "name": "stdout",
     "output_type": "stream",
     "text": [
      "2021-05-06 12:49:46,866 - modnet - INFO - Preset #23 fitting finished, loss: 0.5735216200351715\n"
     ]
    },
    {
     "name": "stderr",
     "output_type": "stream",
     "text": [
      " 29%|██▉       | 106/360 [30:57<23:48,  5.63s/it]"
     ]
    },
    {
     "name": "stdout",
     "output_type": "stream",
     "text": [
      "2021-05-06 12:50:01,899 - modnet - INFO - Preset #21 fitting finished, loss: 0.46639037132263184\n"
     ]
    },
    {
     "name": "stderr",
     "output_type": "stream",
     "text": [
      " 30%|██▉       | 107/360 [31:12<36:05,  8.56s/it]"
     ]
    },
    {
     "name": "stdout",
     "output_type": "stream",
     "text": [
      "2021-05-06 12:50:10,288 - modnet - INFO - Preset #20 fitting finished, loss: 0.38214896321296693\n"
     ]
    },
    {
     "name": "stderr",
     "output_type": "stream",
     "text": [
      " 30%|███       | 108/360 [31:20<35:25,  8.43s/it]"
     ]
    },
    {
     "name": "stdout",
     "output_type": "stream",
     "text": [
      "2021-05-06 12:50:17,887 - modnet - INFO - Preset #13 fitting finished, loss: 0.42384291291236875\n"
     ]
    },
    {
     "name": "stderr",
     "output_type": "stream",
     "text": [
      " 30%|███       | 109/360 [31:28<34:11,  8.17s/it]"
     ]
    },
    {
     "name": "stdout",
     "output_type": "stream",
     "text": [
      "2021-05-06 12:50:31,054 - modnet - INFO - Preset #22 fitting finished, loss: 0.40353774428367617\n"
     ]
    },
    {
     "name": "stderr",
     "output_type": "stream",
     "text": [
      " 31%|███       | 110/360 [31:41<40:27,  9.71s/it]"
     ]
    },
    {
     "name": "stdout",
     "output_type": "stream",
     "text": [
      "2021-05-06 12:50:33,417 - modnet - INFO - Preset #20 fitting finished, loss: 0.5462299942970276\n"
     ]
    },
    {
     "name": "stderr",
     "output_type": "stream",
     "text": [
      " 31%|███       | 111/360 [31:44<31:03,  7.49s/it]"
     ]
    },
    {
     "name": "stdout",
     "output_type": "stream",
     "text": [
      "2021-05-06 12:50:37,100 - modnet - INFO - Preset #20 fitting finished, loss: 0.4515089809894562\n"
     ]
    },
    {
     "name": "stderr",
     "output_type": "stream",
     "text": [
      " 31%|███       | 112/360 [31:47<26:26,  6.40s/it]"
     ]
    },
    {
     "name": "stdout",
     "output_type": "stream",
     "text": [
      "2021-05-06 12:50:38,129 - modnet - INFO - Preset #19 fitting finished, loss: 0.40608922243118284\n"
     ]
    },
    {
     "name": "stderr",
     "output_type": "stream",
     "text": [
      " 31%|███▏      | 113/360 [31:48<19:25,  4.72s/it]"
     ]
    },
    {
     "name": "stdout",
     "output_type": "stream",
     "text": [
      "2021-05-06 12:50:40,144 - modnet - INFO - Preset #18 fitting finished, loss: 0.5433295726776123\n"
     ]
    },
    {
     "name": "stderr",
     "output_type": "stream",
     "text": [
      " 32%|███▏      | 114/360 [31:50<16:10,  3.95s/it]"
     ]
    },
    {
     "name": "stdout",
     "output_type": "stream",
     "text": [
      "2021-05-06 12:51:16,121 - modnet - INFO - Preset #14 fitting finished, loss: 0.4341826021671295\n"
     ]
    },
    {
     "name": "stderr",
     "output_type": "stream",
     "text": [
      " 32%|███▏      | 115/360 [32:26<55:24, 13.57s/it]"
     ]
    },
    {
     "name": "stdout",
     "output_type": "stream",
     "text": [
      "2021-05-06 12:51:46,062 - modnet - INFO - Preset #19 fitting finished, loss: 0.40196557641029357\n"
     ]
    },
    {
     "name": "stderr",
     "output_type": "stream",
     "text": [
      " 32%|███▏      | 116/360 [32:56<1:14:56, 18.43s/it]"
     ]
    },
    {
     "name": "stdout",
     "output_type": "stream",
     "text": [
      "2021-05-06 12:51:53,717 - modnet - INFO - Preset #28 fitting finished, loss: 0.5739384174346924\n"
     ]
    },
    {
     "name": "stderr",
     "output_type": "stream",
     "text": [
      " 32%|███▎      | 117/360 [33:04<1:01:43, 15.24s/it]"
     ]
    },
    {
     "name": "stdout",
     "output_type": "stream",
     "text": [
      "2021-05-06 12:52:52,744 - modnet - INFO - Preset #13 fitting finished, loss: 0.4608370721340179\n"
     ]
    },
    {
     "name": "stderr",
     "output_type": "stream",
     "text": [
      " 33%|███▎      | 118/360 [34:03<1:54:20, 28.35s/it]"
     ]
    },
    {
     "name": "stdout",
     "output_type": "stream",
     "text": [
      "2021-05-06 12:53:18,036 - modnet - INFO - Preset #23 fitting finished, loss: 0.4083468496799469\n"
     ]
    },
    {
     "name": "stderr",
     "output_type": "stream",
     "text": [
      " 33%|███▎      | 119/360 [34:28<1:50:22, 27.48s/it]"
     ]
    },
    {
     "name": "stdout",
     "output_type": "stream",
     "text": [
      "2021-05-06 12:53:25,021 - modnet - INFO - Preset #24 fitting finished, loss: 0.47252999544143676\n"
     ]
    },
    {
     "name": "stderr",
     "output_type": "stream",
     "text": [
      " 33%|███▎      | 120/360 [34:35<1:24:50, 21.21s/it]"
     ]
    },
    {
     "name": "stdout",
     "output_type": "stream",
     "text": [
      "2021-05-06 12:53:35,443 - modnet - INFO - Preset #23 fitting finished, loss: 0.4129289031028748\n"
     ]
    },
    {
     "name": "stderr",
     "output_type": "stream",
     "text": [
      " 34%|███▎      | 121/360 [34:46<1:11:50, 18.04s/it]"
     ]
    },
    {
     "name": "stdout",
     "output_type": "stream",
     "text": [
      "2021-05-06 12:54:01,139 - modnet - INFO - Preset #26 fitting finished, loss: 0.4627348780632019\n"
     ]
    },
    {
     "name": "stderr",
     "output_type": "stream",
     "text": [
      " 34%|███▍      | 122/360 [35:12<1:21:00, 20.42s/it]"
     ]
    },
    {
     "name": "stdout",
     "output_type": "stream",
     "text": [
      "2021-05-06 12:54:14,191 - modnet - INFO - Preset #27 fitting finished, loss: 0.5274318575859069\n"
     ]
    },
    {
     "name": "stderr",
     "output_type": "stream",
     "text": [
      " 34%|███▍      | 123/360 [35:25<1:12:01, 18.23s/it]"
     ]
    },
    {
     "name": "stdout",
     "output_type": "stream",
     "text": [
      "2021-05-06 12:54:15,372 - modnet - INFO - Preset #22 fitting finished, loss: 0.3944316267967224\n"
     ]
    },
    {
     "name": "stderr",
     "output_type": "stream",
     "text": [
      " 34%|███▍      | 124/360 [35:26<51:34, 13.11s/it]  "
     ]
    },
    {
     "name": "stdout",
     "output_type": "stream",
     "text": [
      "2021-05-06 12:54:23,091 - modnet - INFO - Preset #24 fitting finished, loss: 0.4214626610279083\n"
     ]
    },
    {
     "name": "stderr",
     "output_type": "stream",
     "text": [
      " 35%|███▍      | 125/360 [35:33<44:35, 11.39s/it]"
     ]
    },
    {
     "name": "stdout",
     "output_type": "stream",
     "text": [
      "2021-05-06 12:54:35,491 - modnet - INFO - Preset #27 fitting finished, loss: 0.43791561126708983\n"
     ]
    },
    {
     "name": "stderr",
     "output_type": "stream",
     "text": [
      " 35%|███▌      | 126/360 [35:46<45:52, 11.76s/it]"
     ]
    },
    {
     "name": "stdout",
     "output_type": "stream",
     "text": [
      "2021-05-06 12:55:06,999 - modnet - INFO - Preset #26 fitting finished, loss: 0.389981347322464\n"
     ]
    },
    {
     "name": "stderr",
     "output_type": "stream",
     "text": [
      " 35%|███▌      | 127/360 [36:17<1:08:30, 17.64s/it]"
     ]
    },
    {
     "name": "stdout",
     "output_type": "stream",
     "text": [
      "2021-05-06 12:55:13,458 - modnet - INFO - Preset #25 fitting finished, loss: 0.4281336903572083\n"
     ]
    },
    {
     "name": "stderr",
     "output_type": "stream",
     "text": [
      " 36%|███▌      | 128/360 [36:24<55:09, 14.27s/it]  "
     ]
    },
    {
     "name": "stdout",
     "output_type": "stream",
     "text": [
      "2021-05-06 12:55:14,732 - modnet - INFO - Preset #26 fitting finished, loss: 0.42311460971832277\n"
     ]
    },
    {
     "name": "stderr",
     "output_type": "stream",
     "text": [
      " 36%|███▌      | 129/360 [36:25<39:55, 10.37s/it]"
     ]
    },
    {
     "name": "stdout",
     "output_type": "stream",
     "text": [
      "2021-05-06 12:55:38,789 - modnet - INFO - Preset #28 fitting finished, loss: 0.5128349900245667\n"
     ]
    },
    {
     "name": "stderr",
     "output_type": "stream",
     "text": [
      " 36%|███▌      | 130/360 [36:49<55:38, 14.51s/it]"
     ]
    },
    {
     "name": "stdout",
     "output_type": "stream",
     "text": [
      "2021-05-06 12:55:43,590 - modnet - INFO - Preset #24 fitting finished, loss: 0.5613202691078186\n"
     ]
    },
    {
     "name": "stderr",
     "output_type": "stream",
     "text": [
      " 36%|███▋      | 131/360 [36:54<44:02, 11.54s/it]"
     ]
    },
    {
     "name": "stdout",
     "output_type": "stream",
     "text": [
      "2021-05-06 12:56:40,955 - modnet - INFO - Preset #24 fitting finished, loss: 0.43084225058555603\n"
     ]
    },
    {
     "name": "stderr",
     "output_type": "stream",
     "text": [
      " 37%|███▋      | 132/360 [37:51<1:35:58, 25.26s/it]"
     ]
    },
    {
     "name": "stdout",
     "output_type": "stream",
     "text": [
      "2021-05-06 12:56:49,419 - modnet - INFO - Preset #29 fitting finished, loss: 0.43307902812957766\n"
     ]
    },
    {
     "name": "stderr",
     "output_type": "stream",
     "text": [
      " 37%|███▋      | 133/360 [38:00<1:16:47, 20.30s/it]"
     ]
    },
    {
     "name": "stdout",
     "output_type": "stream",
     "text": [
      "2021-05-06 12:57:30,373 - modnet - INFO - Preset #27 fitting finished, loss: 0.4779237926006317\n"
     ]
    },
    {
     "name": "stderr",
     "output_type": "stream",
     "text": [
      " 37%|███▋      | 134/360 [38:40<1:39:30, 26.42s/it]"
     ]
    },
    {
     "name": "stdout",
     "output_type": "stream",
     "text": [
      "2021-05-06 12:58:13,888 - modnet - INFO - Preset #28 fitting finished, loss: 0.5225874066352845\n"
     ]
    },
    {
     "name": "stderr",
     "output_type": "stream",
     "text": [
      " 38%|███▊      | 135/360 [39:24<1:58:32, 31.61s/it]"
     ]
    },
    {
     "name": "stdout",
     "output_type": "stream",
     "text": [
      "2021-05-06 12:58:21,281 - modnet - INFO - Preset #27 fitting finished, loss: 0.40217076539993285\n"
     ]
    },
    {
     "name": "stderr",
     "output_type": "stream",
     "text": [
      " 38%|███▊      | 136/360 [39:32<1:30:53, 24.35s/it]"
     ]
    },
    {
     "name": "stdout",
     "output_type": "stream",
     "text": [
      "2021-05-06 12:58:24,619 - modnet - INFO - Preset #24 fitting finished, loss: 0.4365406811237335\n"
     ]
    },
    {
     "name": "stderr",
     "output_type": "stream",
     "text": [
      " 38%|███▊      | 137/360 [39:35<1:07:01, 18.03s/it]"
     ]
    },
    {
     "name": "stdout",
     "output_type": "stream",
     "text": [
      "2021-05-06 12:58:49,108 - modnet - INFO - Preset #25 fitting finished, loss: 0.4264735221862793\n"
     ]
    },
    {
     "name": "stderr",
     "output_type": "stream",
     "text": [
      " 38%|███▊      | 138/360 [39:59<1:13:53, 19.97s/it]"
     ]
    },
    {
     "name": "stdout",
     "output_type": "stream",
     "text": [
      "2021-05-06 12:58:53,428 - modnet - INFO - Preset #28 fitting finished, loss: 0.4013874650001526\n"
     ]
    },
    {
     "name": "stderr",
     "output_type": "stream",
     "text": [
      " 39%|███▊      | 139/360 [40:04<56:17, 15.28s/it]  "
     ]
    },
    {
     "name": "stdout",
     "output_type": "stream",
     "text": [
      "2021-05-06 12:58:55,075 - modnet - INFO - Preset #29 fitting finished, loss: 0.4505222260951996\n"
     ]
    },
    {
     "name": "stderr",
     "output_type": "stream",
     "text": [
      " 39%|███▉      | 140/360 [40:05<41:02, 11.19s/it]"
     ]
    },
    {
     "name": "stdout",
     "output_type": "stream",
     "text": [
      "2021-05-06 12:58:57,964 - modnet - INFO - Preset #25 fitting finished, loss: 0.5646148204803467\n"
     ]
    },
    {
     "name": "stderr",
     "output_type": "stream",
     "text": [
      " 39%|███▉      | 141/360 [40:08<31:46,  8.71s/it]"
     ]
    },
    {
     "name": "stdout",
     "output_type": "stream",
     "text": [
      "2021-05-06 12:58:58,851 - modnet - INFO - Preset #26 fitting finished, loss: 0.41771647334098816\n"
     ]
    },
    {
     "name": "stderr",
     "output_type": "stream",
     "text": [
      " 39%|███▉      | 142/360 [40:09<22:49,  6.28s/it]"
     ]
    },
    {
     "name": "stdout",
     "output_type": "stream",
     "text": [
      "2021-05-06 12:59:00,860 - modnet - INFO - Preset #29 fitting finished, loss: 0.5225219547748565\n"
     ]
    },
    {
     "name": "stderr",
     "output_type": "stream",
     "text": [
      " 40%|███▉      | 143/360 [40:11<18:12,  5.04s/it]"
     ]
    },
    {
     "name": "stdout",
     "output_type": "stream",
     "text": [
      "2021-05-06 12:59:02,361 - modnet - INFO - Preset #29 fitting finished, loss: 0.459741884469986\n"
     ]
    },
    {
     "name": "stderr",
     "output_type": "stream",
     "text": [
      " 40%|████      | 144/360 [40:12<14:13,  3.95s/it]"
     ]
    },
    {
     "name": "stdout",
     "output_type": "stream",
     "text": [
      "2021-05-06 12:59:20,372 - modnet - INFO - Preset #25 fitting finished, loss: 0.42464275360107423\n"
     ]
    },
    {
     "name": "stderr",
     "output_type": "stream",
     "text": [
      " 40%|████      | 145/360 [40:30<29:06,  8.12s/it]"
     ]
    },
    {
     "name": "stdout",
     "output_type": "stream",
     "text": [
      "2021-05-06 12:59:20,922 - modnet - INFO - Preset #27 fitting finished, loss: 0.3825554192066193\n"
     ]
    },
    {
     "name": "stderr",
     "output_type": "stream",
     "text": [
      " 41%|████      | 146/360 [40:31<20:59,  5.89s/it]"
     ]
    },
    {
     "name": "stdout",
     "output_type": "stream",
     "text": [
      "2021-05-06 12:59:28,559 - modnet - INFO - Preset #32 fitting finished, loss: 0.4291390538215637\n"
     ]
    },
    {
     "name": "stderr",
     "output_type": "stream",
     "text": [
      " 41%|████      | 147/360 [40:38<22:33,  6.35s/it]"
     ]
    },
    {
     "name": "stdout",
     "output_type": "stream",
     "text": [
      "2021-05-06 12:59:40,106 - modnet - INFO - Preset #33 fitting finished, loss: 0.40607461929321287\n"
     ]
    },
    {
     "name": "stderr",
     "output_type": "stream",
     "text": [
      " 41%|████      | 148/360 [40:50<28:27,  8.05s/it]"
     ]
    },
    {
     "name": "stdout",
     "output_type": "stream",
     "text": [
      "2021-05-06 13:00:04,335 - modnet - INFO - Preset #34 fitting finished, loss: 0.4517157256603241\n"
     ]
    },
    {
     "name": "stderr",
     "output_type": "stream",
     "text": [
      " 41%|████▏     | 149/360 [41:14<45:08, 12.84s/it]"
     ]
    },
    {
     "name": "stdout",
     "output_type": "stream",
     "text": [
      "2021-05-06 13:00:10,444 - modnet - INFO - Preset #25 fitting finished, loss: 0.45920279026031496\n"
     ]
    },
    {
     "name": "stderr",
     "output_type": "stream",
     "text": [
      " 42%|████▏     | 150/360 [41:21<37:52, 10.82s/it]"
     ]
    },
    {
     "name": "stdout",
     "output_type": "stream",
     "text": [
      "2021-05-06 13:00:16,401 - modnet - INFO - Preset #26 fitting finished, loss: 0.5273044466972351\n"
     ]
    },
    {
     "name": "stderr",
     "output_type": "stream",
     "text": [
      " 42%|████▏     | 151/360 [41:27<32:50,  9.43s/it]"
     ]
    },
    {
     "name": "stdout",
     "output_type": "stream",
     "text": [
      "2021-05-06 13:00:34,938 - modnet - INFO - Preset #32 fitting finished, loss: 0.3974124252796173\n"
     ]
    },
    {
     "name": "stderr",
     "output_type": "stream",
     "text": [
      " 42%|████▏     | 152/360 [41:45<41:49, 12.06s/it]"
     ]
    },
    {
     "name": "stdout",
     "output_type": "stream",
     "text": [
      "2021-05-06 13:00:46,808 - modnet - INFO - Preset #32 fitting finished, loss: 0.5289650559425354\n"
     ]
    },
    {
     "name": "stderr",
     "output_type": "stream",
     "text": [
      " 42%|████▎     | 153/360 [41:57<41:40, 12.08s/it]"
     ]
    },
    {
     "name": "stdout",
     "output_type": "stream",
     "text": [
      "2021-05-06 13:00:50,466 - modnet - INFO - Preset #28 fitting finished, loss: 0.4017078518867493\n"
     ]
    },
    {
     "name": "stderr",
     "output_type": "stream",
     "text": [
      " 43%|████▎     | 154/360 [42:00<32:26,  9.45s/it]"
     ]
    },
    {
     "name": "stdout",
     "output_type": "stream",
     "text": [
      "2021-05-06 13:00:57,758 - modnet - INFO - Preset #29 fitting finished, loss: 0.4038819491863251\n"
     ]
    },
    {
     "name": "stderr",
     "output_type": "stream",
     "text": [
      " 43%|████▎     | 155/360 [42:08<30:30,  8.93s/it]"
     ]
    },
    {
     "name": "stdout",
     "output_type": "stream",
     "text": [
      "2021-05-06 13:01:00,246 - modnet - INFO - Preset #33 fitting finished, loss: 0.38995757699012756\n"
     ]
    },
    {
     "name": "stderr",
     "output_type": "stream",
     "text": [
      " 43%|████▎     | 156/360 [42:11<23:50,  7.01s/it]"
     ]
    },
    {
     "name": "stdout",
     "output_type": "stream",
     "text": [
      "2021-05-06 13:01:06,415 - modnet - INFO - Preset #32 fitting finished, loss: 0.4517452657222748\n"
     ]
    },
    {
     "name": "stderr",
     "output_type": "stream",
     "text": [
      " 44%|████▎     | 157/360 [42:17<22:55,  6.78s/it]"
     ]
    },
    {
     "name": "stdout",
     "output_type": "stream",
     "text": [
      "2021-05-06 13:02:04,424 - modnet - INFO - Preset #34 fitting finished, loss: 0.5245083928108215\n"
     ]
    },
    {
     "name": "stderr",
     "output_type": "stream",
     "text": [
      " 44%|████▍     | 158/360 [43:15<1:14:14, 22.05s/it]"
     ]
    },
    {
     "name": "stdout",
     "output_type": "stream",
     "text": [
      "2021-05-06 13:02:09,979 - modnet - INFO - Preset #31 fitting finished, loss: 0.4645847022533417\n"
     ]
    },
    {
     "name": "stderr",
     "output_type": "stream",
     "text": [
      " 44%|████▍     | 159/360 [43:20<57:24, 17.14s/it]  "
     ]
    },
    {
     "name": "stdout",
     "output_type": "stream",
     "text": [
      "2021-05-06 13:02:24,870 - modnet - INFO - Preset #35 fitting finished, loss: 0.4547975957393646\n"
     ]
    },
    {
     "name": "stderr",
     "output_type": "stream",
     "text": [
      " 44%|████▍     | 160/360 [43:35<54:51, 16.46s/it]"
     ]
    },
    {
     "name": "stdout",
     "output_type": "stream",
     "text": [
      "2021-05-06 13:02:32,159 - modnet - INFO - Preset #34 fitting finished, loss: 0.4113625228404999\n"
     ]
    },
    {
     "name": "stderr",
     "output_type": "stream",
     "text": [
      " 45%|████▍     | 161/360 [43:42<45:32, 13.73s/it]"
     ]
    },
    {
     "name": "stdout",
     "output_type": "stream",
     "text": [
      "2021-05-06 13:02:36,942 - modnet - INFO - Preset #35 fitting finished, loss: 0.3809369683265686\n"
     ]
    },
    {
     "name": "stderr",
     "output_type": "stream",
     "text": [
      " 45%|████▌     | 162/360 [43:47<36:21, 11.02s/it]"
     ]
    },
    {
     "name": "stdout",
     "output_type": "stream",
     "text": [
      "2021-05-06 13:03:02,924 - modnet - INFO - Preset #35 fitting finished, loss: 0.5789201498031616\n"
     ]
    },
    {
     "name": "stderr",
     "output_type": "stream",
     "text": [
      " 45%|████▌     | 163/360 [44:13<50:49, 15.48s/it]"
     ]
    },
    {
     "name": "stdout",
     "output_type": "stream",
     "text": [
      "2021-05-06 13:03:23,602 - modnet - INFO - Preset #34 fitting finished, loss: 0.4522440195083618\n"
     ]
    },
    {
     "name": "stderr",
     "output_type": "stream",
     "text": [
      " 46%|████▌     | 164/360 [44:34<56:00, 17.14s/it]"
     ]
    },
    {
     "name": "stdout",
     "output_type": "stream",
     "text": [
      "2021-05-06 13:03:26,140 - modnet - INFO - Preset #33 fitting finished, loss: 0.5068571150302887\n"
     ]
    },
    {
     "name": "stderr",
     "output_type": "stream",
     "text": [
      " 46%|████▌     | 165/360 [44:36<41:00, 12.62s/it]"
     ]
    },
    {
     "name": "stdout",
     "output_type": "stream",
     "text": [
      "2021-05-06 13:03:30,384 - modnet - INFO - Preset #32 fitting finished, loss: 0.3854394555091858\n"
     ]
    },
    {
     "name": "stderr",
     "output_type": "stream",
     "text": [
      " 46%|████▌     | 166/360 [44:41<33:06, 10.24s/it]"
     ]
    },
    {
     "name": "stdout",
     "output_type": "stream",
     "text": [
      "2021-05-06 13:03:33,704 - modnet - INFO - Preset #31 fitting finished, loss: 0.4414633572101593\n"
     ]
    },
    {
     "name": "stderr",
     "output_type": "stream",
     "text": [
      " 46%|████▋     | 167/360 [44:44<26:09,  8.13s/it]"
     ]
    },
    {
     "name": "stdout",
     "output_type": "stream",
     "text": [
      "2021-05-06 13:03:41,000 - modnet - INFO - Preset #30 fitting finished, loss: 0.4492553174495697\n"
     ]
    },
    {
     "name": "stderr",
     "output_type": "stream",
     "text": [
      " 47%|████▋     | 168/360 [44:51<25:15,  7.89s/it]"
     ]
    },
    {
     "name": "stdout",
     "output_type": "stream",
     "text": [
      "2021-05-06 13:04:01,353 - modnet - INFO - Preset #33 fitting finished, loss: 0.43624849915504454\n"
     ]
    },
    {
     "name": "stderr",
     "output_type": "stream",
     "text": [
      " 47%|████▋     | 169/360 [45:12<36:58, 11.61s/it]"
     ]
    },
    {
     "name": "stdout",
     "output_type": "stream",
     "text": [
      "2021-05-06 13:04:12,917 - modnet - INFO - Preset #31 fitting finished, loss: 0.4344057023525238\n"
     ]
    },
    {
     "name": "stderr",
     "output_type": "stream",
     "text": [
      " 47%|████▋     | 170/360 [45:23<36:34, 11.55s/it]"
     ]
    },
    {
     "name": "stdout",
     "output_type": "stream",
     "text": [
      "2021-05-06 13:04:31,936 - modnet - INFO - Preset #34 fitting finished, loss: 0.3962331175804138\n"
     ]
    },
    {
     "name": "stderr",
     "output_type": "stream",
     "text": [
      " 48%|████▊     | 171/360 [45:42<43:33, 13.83s/it]"
     ]
    },
    {
     "name": "stdout",
     "output_type": "stream",
     "text": [
      "2021-05-06 13:05:21,518 - modnet - INFO - Preset #36 fitting finished, loss: 0.4206800639629364\n"
     ]
    },
    {
     "name": "stderr",
     "output_type": "stream",
     "text": [
      " 48%|████▊     | 172/360 [46:32<1:16:59, 24.57s/it]"
     ]
    },
    {
     "name": "stdout",
     "output_type": "stream",
     "text": [
      "2021-05-06 13:05:27,912 - modnet - INFO - Preset #33 fitting finished, loss: 0.5282117903232575\n"
     ]
    },
    {
     "name": "stderr",
     "output_type": "stream",
     "text": [
      " 48%|████▊     | 173/360 [46:38<59:25, 19.07s/it]  "
     ]
    },
    {
     "name": "stdout",
     "output_type": "stream",
     "text": [
      "2021-05-06 13:06:30,550 - modnet - INFO - Preset #37 fitting finished, loss: 0.46685712337493895\n"
     ]
    },
    {
     "name": "stderr",
     "output_type": "stream",
     "text": [
      " 48%|████▊     | 174/360 [47:41<1:39:45, 32.18s/it]"
     ]
    },
    {
     "name": "stdout",
     "output_type": "stream",
     "text": [
      "2021-05-06 13:06:59,138 - modnet - INFO - Preset #37 fitting finished, loss: 0.40152239203453066\n"
     ]
    },
    {
     "name": "stderr",
     "output_type": "stream",
     "text": [
      " 49%|████▊     | 175/360 [48:09<1:35:58, 31.13s/it]"
     ]
    },
    {
     "name": "stdout",
     "output_type": "stream",
     "text": [
      "2021-05-06 13:07:05,672 - modnet - INFO - Preset #35 fitting finished, loss: 0.4174197673797607\n"
     ]
    },
    {
     "name": "stderr",
     "output_type": "stream",
     "text": [
      " 49%|████▉     | 176/360 [48:16<1:12:37, 23.68s/it]"
     ]
    },
    {
     "name": "stdout",
     "output_type": "stream",
     "text": [
      "2021-05-06 13:07:30,564 - modnet - INFO - Preset #41 fitting finished, loss: 0.9049346685409546\n"
     ]
    },
    {
     "name": "stderr",
     "output_type": "stream",
     "text": [
      " 49%|████▉     | 177/360 [48:41<1:13:29, 24.09s/it]"
     ]
    },
    {
     "name": "stdout",
     "output_type": "stream",
     "text": [
      "2021-05-06 13:07:43,405 - modnet - INFO - Preset #31 fitting finished, loss: 0.43233185410499575\n"
     ]
    },
    {
     "name": "stderr",
     "output_type": "stream",
     "text": [
      " 49%|████▉     | 178/360 [48:53<1:02:35, 20.63s/it]"
     ]
    },
    {
     "name": "stdout",
     "output_type": "stream",
     "text": [
      "2021-05-06 13:07:47,664 - modnet - INFO - Preset #30 fitting finished, loss: 0.43539210557937624\n"
     ]
    },
    {
     "name": "stderr",
     "output_type": "stream",
     "text": [
      " 50%|████▉     | 179/360 [48:58<47:32, 15.76s/it]  "
     ]
    },
    {
     "name": "stdout",
     "output_type": "stream",
     "text": [
      "2021-05-06 13:07:55,438 - modnet - INFO - Preset #31 fitting finished, loss: 0.5707357048988342\n"
     ]
    },
    {
     "name": "stderr",
     "output_type": "stream",
     "text": [
      " 50%|█████     | 180/360 [49:06<40:04, 13.36s/it]"
     ]
    },
    {
     "name": "stdout",
     "output_type": "stream",
     "text": [
      "2021-05-06 13:08:25,810 - modnet - INFO - Preset #40 fitting finished, loss: 0.5097165942192078\n"
     ]
    },
    {
     "name": "stderr",
     "output_type": "stream",
     "text": [
      " 50%|█████     | 181/360 [49:36<55:23, 18.57s/it]"
     ]
    },
    {
     "name": "stdout",
     "output_type": "stream",
     "text": [
      "2021-05-06 13:08:30,134 - modnet - INFO - Preset #37 fitting finished, loss: 0.4855192303657532\n"
     ]
    },
    {
     "name": "stderr",
     "output_type": "stream",
     "text": [
      " 51%|█████     | 182/360 [49:40<42:14, 14.24s/it]"
     ]
    },
    {
     "name": "stdout",
     "output_type": "stream",
     "text": [
      "2021-05-06 13:08:41,447 - modnet - INFO - Preset #40 fitting finished, loss: 0.6504554927349091\n"
     ]
    },
    {
     "name": "stderr",
     "output_type": "stream",
     "text": [
      " 51%|█████     | 183/360 [49:52<39:38, 13.44s/it]"
     ]
    },
    {
     "name": "stdout",
     "output_type": "stream",
     "text": [
      "2021-05-06 13:08:42,592 - modnet - INFO - Preset #37 fitting finished, loss: 0.4350958287715912\n"
     ]
    },
    {
     "name": "stderr",
     "output_type": "stream",
     "text": [
      " 51%|█████     | 184/360 [49:53<28:32,  9.73s/it]"
     ]
    },
    {
     "name": "stdout",
     "output_type": "stream",
     "text": [
      "2021-05-06 13:08:52,964 - modnet - INFO - Preset #30 fitting finished, loss: 0.45942607522010803\n"
     ]
    },
    {
     "name": "stderr",
     "output_type": "stream",
     "text": [
      " 51%|█████▏    | 185/360 [50:03<28:41,  9.84s/it]"
     ]
    },
    {
     "name": "stdout",
     "output_type": "stream",
     "text": [
      "2021-05-06 13:09:28,382 - modnet - INFO - Preset #41 fitting finished, loss: 0.7009270906448364\n"
     ]
    },
    {
     "name": "stderr",
     "output_type": "stream",
     "text": [
      " 52%|█████▏    | 186/360 [50:39<50:55, 17.56s/it]"
     ]
    },
    {
     "name": "stdout",
     "output_type": "stream",
     "text": [
      "2021-05-06 13:09:43,237 - modnet - INFO - Preset #36 fitting finished, loss: 0.39592221975326536\n"
     ]
    },
    {
     "name": "stderr",
     "output_type": "stream",
     "text": [
      " 52%|█████▏    | 187/360 [50:53<48:08, 16.70s/it]"
     ]
    },
    {
     "name": "stdout",
     "output_type": "stream",
     "text": [
      "2021-05-06 13:10:00,832 - modnet - INFO - Preset #38 fitting finished, loss: 0.4881623208522797\n"
     ]
    },
    {
     "name": "stderr",
     "output_type": "stream",
     "text": [
      " 52%|█████▏    | 188/360 [51:11<48:42, 16.99s/it]"
     ]
    },
    {
     "name": "stdout",
     "output_type": "stream",
     "text": [
      "2021-05-06 13:10:09,996 - modnet - INFO - Preset #35 fitting finished, loss: 0.44802296757698057\n"
     ]
    },
    {
     "name": "stderr",
     "output_type": "stream",
     "text": [
      " 52%|█████▎    | 189/360 [51:20<41:49, 14.68s/it]"
     ]
    },
    {
     "name": "stdout",
     "output_type": "stream",
     "text": [
      "2021-05-06 13:10:13,293 - modnet - INFO - Preset #30 fitting finished, loss: 0.5667489290237426\n"
     ]
    },
    {
     "name": "stderr",
     "output_type": "stream",
     "text": [
      " 53%|█████▎    | 190/360 [51:24<31:51, 11.25s/it]"
     ]
    },
    {
     "name": "stdout",
     "output_type": "stream",
     "text": [
      "2021-05-06 13:10:29,678 - modnet - INFO - Preset #30 fitting finished, loss: 0.47698902487754824\n"
     ]
    },
    {
     "name": "stderr",
     "output_type": "stream",
     "text": [
      " 53%|█████▎    | 191/360 [51:40<35:46, 12.70s/it]"
     ]
    },
    {
     "name": "stdout",
     "output_type": "stream",
     "text": [
      "2021-05-06 13:10:32,322 - modnet - INFO - Preset #39 fitting finished, loss: 0.48899425864219664\n"
     ]
    },
    {
     "name": "stderr",
     "output_type": "stream",
     "text": [
      " 53%|█████▎    | 192/360 [51:42<27:11,  9.71s/it]"
     ]
    },
    {
     "name": "stdout",
     "output_type": "stream",
     "text": [
      "2021-05-06 13:11:16,782 - modnet - INFO - Preset #36 fitting finished, loss: 0.48358733057975767\n"
     ]
    },
    {
     "name": "stderr",
     "output_type": "stream",
     "text": [
      " 54%|█████▎    | 193/360 [52:27<56:01, 20.13s/it]"
     ]
    },
    {
     "name": "stdout",
     "output_type": "stream",
     "text": [
      "2021-05-06 13:11:19,545 - modnet - INFO - Preset #39 fitting finished, loss: 0.4021152794361115\n"
     ]
    },
    {
     "name": "stderr",
     "output_type": "stream",
     "text": [
      " 54%|█████▍    | 194/360 [52:30<41:31, 15.01s/it]"
     ]
    },
    {
     "name": "stdout",
     "output_type": "stream",
     "text": [
      "2021-05-06 13:11:39,949 - modnet - INFO - Preset #42 fitting finished, loss: 0.39568099975585935\n"
     ]
    },
    {
     "name": "stderr",
     "output_type": "stream",
     "text": [
      " 54%|█████▍    | 195/360 [52:50<45:27, 16.53s/it]"
     ]
    },
    {
     "name": "stdout",
     "output_type": "stream",
     "text": [
      "2021-05-06 13:11:56,376 - modnet - INFO - Preset #46 fitting finished, loss: 0.5132082939147949\n"
     ]
    },
    {
     "name": "stderr",
     "output_type": "stream",
     "text": [
      " 54%|█████▍    | 196/360 [53:07<45:17, 16.57s/it]"
     ]
    },
    {
     "name": "stdout",
     "output_type": "stream",
     "text": [
      "2021-05-06 13:12:09,384 - modnet - INFO - Preset #42 fitting finished, loss: 0.4163405060768127\n"
     ]
    },
    {
     "name": "stderr",
     "output_type": "stream",
     "text": [
      " 55%|█████▍    | 197/360 [53:20<42:09, 15.52s/it]"
     ]
    },
    {
     "name": "stdout",
     "output_type": "stream",
     "text": [
      "2021-05-06 13:12:17,981 - modnet - INFO - Preset #37 fitting finished, loss: 0.39692169427871704\n"
     ]
    },
    {
     "name": "stderr",
     "output_type": "stream",
     "text": [
      " 55%|█████▌    | 198/360 [53:28<36:09, 13.39s/it]"
     ]
    },
    {
     "name": "stdout",
     "output_type": "stream",
     "text": [
      "2021-05-06 13:12:28,460 - modnet - INFO - Preset #41 fitting finished, loss: 0.5885527312755585\n"
     ]
    },
    {
     "name": "stderr",
     "output_type": "stream",
     "text": [
      " 55%|█████▌    | 199/360 [53:39<33:38, 12.54s/it]"
     ]
    },
    {
     "name": "stdout",
     "output_type": "stream",
     "text": [
      "2021-05-06 13:12:30,966 - modnet - INFO - Preset #38 fitting finished, loss: 0.4493910849094391\n"
     ]
    },
    {
     "name": "stderr",
     "output_type": "stream",
     "text": [
      " 56%|█████▌    | 200/360 [53:41<25:31,  9.57s/it]"
     ]
    },
    {
     "name": "stdout",
     "output_type": "stream",
     "text": [
      "2021-05-06 13:12:53,937 - modnet - INFO - Preset #43 fitting finished, loss: 0.39695690870285033\n"
     ]
    },
    {
     "name": "stderr",
     "output_type": "stream",
     "text": [
      " 56%|█████▌    | 201/360 [54:04<35:49, 13.52s/it]"
     ]
    },
    {
     "name": "stdout",
     "output_type": "stream",
     "text": [
      "2021-05-06 13:13:15,415 - modnet - INFO - Preset #43 fitting finished, loss: 0.42280959486961367\n"
     ]
    },
    {
     "name": "stderr",
     "output_type": "stream",
     "text": [
      " 56%|█████▌    | 202/360 [54:26<42:02, 15.97s/it]"
     ]
    },
    {
     "name": "stdout",
     "output_type": "stream",
     "text": [
      "2021-05-06 13:13:25,592 - modnet - INFO - Preset #41 fitting finished, loss: 0.7017932891845703\n"
     ]
    },
    {
     "name": "stderr",
     "output_type": "stream",
     "text": [
      " 56%|█████▋    | 203/360 [54:40<40:27, 15.46s/it]"
     ]
    },
    {
     "name": "stdout",
     "output_type": "stream",
     "text": [
      "2021-05-06 13:13:36,944 - modnet - INFO - Preset #38 fitting finished, loss: 0.38925623893737793\n"
     ]
    },
    {
     "name": "stderr",
     "output_type": "stream",
     "text": [
      " 57%|█████▋    | 204/360 [54:47<33:41, 12.96s/it]"
     ]
    },
    {
     "name": "stdout",
     "output_type": "stream",
     "text": [
      "2021-05-06 13:13:39,087 - modnet - INFO - Preset #39 fitting finished, loss: 0.5144292294979096\n"
     ]
    },
    {
     "name": "stderr",
     "output_type": "stream",
     "text": [
      " 57%|█████▋    | 205/360 [54:49<25:11,  9.75s/it]"
     ]
    },
    {
     "name": "stdout",
     "output_type": "stream",
     "text": [
      "2021-05-06 13:14:25,326 - modnet - INFO - Preset #36 fitting finished, loss: 0.3857268810272217\n"
     ]
    },
    {
     "name": "stderr",
     "output_type": "stream",
     "text": [
      " 57%|█████▋    | 206/360 [55:35<52:56, 20.63s/it]"
     ]
    },
    {
     "name": "stdout",
     "output_type": "stream",
     "text": [
      "2021-05-06 13:14:58,624 - modnet - INFO - Preset #39 fitting finished, loss: 0.39901477098464966\n"
     ]
    },
    {
     "name": "stderr",
     "output_type": "stream",
     "text": [
      " 57%|█████▊    | 207/360 [56:09<1:02:35, 24.54s/it]"
     ]
    },
    {
     "name": "stdout",
     "output_type": "stream",
     "text": [
      "2021-05-06 13:14:59,785 - modnet - INFO - Preset #45 fitting finished, loss: 0.45251628160476687\n"
     ]
    },
    {
     "name": "stderr",
     "output_type": "stream",
     "text": [
      " 58%|█████▊    | 208/360 [56:10<44:21, 17.51s/it]  "
     ]
    },
    {
     "name": "stdout",
     "output_type": "stream",
     "text": [
      "2021-05-06 13:15:04,863 - modnet - INFO - Preset #43 fitting finished, loss: 0.47186551690101625\n"
     ]
    },
    {
     "name": "stderr",
     "output_type": "stream",
     "text": [
      " 58%|█████▊    | 209/360 [56:15<34:41, 13.78s/it]"
     ]
    },
    {
     "name": "stdout",
     "output_type": "stream",
     "text": [
      "2021-05-06 13:15:17,840 - modnet - INFO - Preset #44 fitting finished, loss: 0.4332660615444183\n"
     ]
    },
    {
     "name": "stderr",
     "output_type": "stream",
     "text": [
      " 58%|█████▊    | 210/360 [56:28<33:56, 13.58s/it]"
     ]
    },
    {
     "name": "stdout",
     "output_type": "stream",
     "text": [
      "2021-05-06 13:15:32,630 - modnet - INFO - Preset #43 fitting finished, loss: 0.3835171103477478\n"
     ]
    },
    {
     "name": "stderr",
     "output_type": "stream",
     "text": [
      " 59%|█████▊    | 211/360 [56:43<34:27, 13.88s/it]"
     ]
    },
    {
     "name": "stdout",
     "output_type": "stream",
     "text": [
      "2021-05-06 13:15:34,033 - modnet - INFO - Preset #38 fitting finished, loss: 0.39596704840660096\n"
     ]
    },
    {
     "name": "stderr",
     "output_type": "stream",
     "text": [
      " 59%|█████▉    | 212/360 [56:44<24:50, 10.07s/it]"
     ]
    },
    {
     "name": "stdout",
     "output_type": "stream",
     "text": [
      "2021-05-06 13:15:49,231 - modnet - INFO - Preset #36 fitting finished, loss: 0.43227158188819886\n"
     ]
    },
    {
     "name": "stderr",
     "output_type": "stream",
     "text": [
      " 59%|█████▉    | 213/360 [57:00<28:34, 11.67s/it]"
     ]
    },
    {
     "name": "stdout",
     "output_type": "stream",
     "text": [
      "2021-05-06 13:16:06,150 - modnet - INFO - Preset #43 fitting finished, loss: 0.4353270769119263\n"
     ]
    },
    {
     "name": "stderr",
     "output_type": "stream",
     "text": [
      " 59%|█████▉    | 214/360 [57:16<32:08, 13.21s/it]"
     ]
    },
    {
     "name": "stdout",
     "output_type": "stream",
     "text": [
      "2021-05-06 13:16:13,273 - modnet - INFO - Preset #46 fitting finished, loss: 0.48804718255996704\n"
     ]
    },
    {
     "name": "stderr",
     "output_type": "stream",
     "text": [
      " 60%|█████▉    | 215/360 [57:24<27:34, 11.41s/it]"
     ]
    },
    {
     "name": "stdout",
     "output_type": "stream",
     "text": [
      "2021-05-06 13:16:55,520 - modnet - INFO - Preset #42 fitting finished, loss: 0.48112287521362307\n"
     ]
    },
    {
     "name": "stderr",
     "output_type": "stream",
     "text": [
      " 60%|██████    | 216/360 [58:05<49:18, 20.54s/it]"
     ]
    },
    {
     "name": "stdout",
     "output_type": "stream",
     "text": [
      "2021-05-06 13:17:04,929 - modnet - INFO - Preset #46 fitting finished, loss: 0.6756158530712127\n"
     ]
    },
    {
     "name": "stderr",
     "output_type": "stream",
     "text": [
      " 60%|██████    | 217/360 [58:15<41:08, 17.26s/it]"
     ]
    },
    {
     "name": "stdout",
     "output_type": "stream",
     "text": [
      "2021-05-06 13:17:07,950 - modnet - INFO - Preset #45 fitting finished, loss: 0.3921439051628113\n"
     ]
    },
    {
     "name": "stderr",
     "output_type": "stream",
     "text": [
      " 61%|██████    | 218/360 [58:18<30:58, 13.09s/it]"
     ]
    },
    {
     "name": "stdout",
     "output_type": "stream",
     "text": [
      "2021-05-06 13:17:16,602 - modnet - INFO - Preset #38 fitting finished, loss: 0.5623989164829254\n"
     ]
    },
    {
     "name": "stderr",
     "output_type": "stream",
     "text": [
      " 61%|██████    | 219/360 [58:27<27:28, 11.69s/it]"
     ]
    },
    {
     "name": "stdout",
     "output_type": "stream",
     "text": [
      "2021-05-06 13:17:23,317 - modnet - INFO - Preset #40 fitting finished, loss: 0.6031316876411438\n"
     ]
    },
    {
     "name": "stderr",
     "output_type": "stream",
     "text": [
      " 61%|██████    | 220/360 [58:34<24:04, 10.32s/it]"
     ]
    },
    {
     "name": "stdout",
     "output_type": "stream",
     "text": [
      "2021-05-06 13:18:08,444 - modnet - INFO - Preset #47 fitting finished, loss: 0.5504270136356354\n"
     ]
    },
    {
     "name": "stderr",
     "output_type": "stream",
     "text": [
      " 61%|██████▏   | 221/360 [59:19<47:43, 20.60s/it]"
     ]
    },
    {
     "name": "stdout",
     "output_type": "stream",
     "text": [
      "2021-05-06 13:18:10,556 - modnet - INFO - Preset #46 fitting finished, loss: 0.5270996451377868\n"
     ]
    },
    {
     "name": "stderr",
     "output_type": "stream",
     "text": [
      " 62%|██████▏   | 222/360 [59:21<34:55, 15.18s/it]"
     ]
    },
    {
     "name": "stdout",
     "output_type": "stream",
     "text": [
      "2021-05-06 13:18:18,800 - modnet - INFO - Preset #47 fitting finished, loss: 0.5887470483779907\n"
     ]
    },
    {
     "name": "stderr",
     "output_type": "stream",
     "text": [
      " 62%|██████▏   | 223/360 [59:29<29:43, 13.02s/it]"
     ]
    },
    {
     "name": "stdout",
     "output_type": "stream",
     "text": [
      "2021-05-06 13:18:24,232 - modnet - INFO - Preset #41 fitting finished, loss: 0.5216887652873993\n"
     ]
    },
    {
     "name": "stderr",
     "output_type": "stream",
     "text": [
      " 62%|██████▏   | 224/360 [59:35<24:23, 10.76s/it]"
     ]
    },
    {
     "name": "stdout",
     "output_type": "stream",
     "text": [
      "2021-05-06 13:18:32,737 - modnet - INFO - Preset #47 fitting finished, loss: 0.5086696028709412\n"
     ]
    },
    {
     "name": "stderr",
     "output_type": "stream",
     "text": [
      " 62%|██████▎   | 225/360 [59:43<22:35, 10.04s/it]"
     ]
    },
    {
     "name": "stdout",
     "output_type": "stream",
     "text": [
      "2021-05-06 13:18:33,853 - modnet - INFO - Preset #42 fitting finished, loss: 0.44630038142204287\n"
     ]
    },
    {
     "name": "stderr",
     "output_type": "stream",
     "text": [
      " 63%|██████▎   | 226/360 [59:44<16:28,  7.37s/it]"
     ]
    },
    {
     "name": "stdout",
     "output_type": "stream",
     "text": [
      "2021-05-06 13:18:46,421 - modnet - INFO - Preset #40 fitting finished, loss: 0.557565301656723\n"
     ]
    },
    {
     "name": "stderr",
     "output_type": "stream",
     "text": [
      " 63%|██████▎   | 227/360 [59:57<19:53,  8.97s/it]"
     ]
    },
    {
     "name": "stdout",
     "output_type": "stream",
     "text": [
      "2021-05-06 13:19:19,590 - modnet - INFO - Preset #44 fitting finished, loss: 0.44006035923957826\n"
     ]
    },
    {
     "name": "stderr",
     "output_type": "stream",
     "text": [
      " 63%|██████▎   | 228/360 [1:00:30<35:41, 16.22s/it]"
     ]
    },
    {
     "name": "stdout",
     "output_type": "stream",
     "text": [
      "2021-05-06 13:19:49,865 - modnet - INFO - Preset #40 fitting finished, loss: 0.6040385782718658\n"
     ]
    },
    {
     "name": "stderr",
     "output_type": "stream",
     "text": [
      " 64%|██████▎   | 229/360 [1:01:00<44:46, 20.51s/it]"
     ]
    },
    {
     "name": "stdout",
     "output_type": "stream",
     "text": [
      "2021-05-06 13:19:52,091 - modnet - INFO - Preset #52 fitting finished, loss: 0.5213865637779236\n"
     ]
    },
    {
     "name": "stderr",
     "output_type": "stream",
     "text": [
      " 64%|██████▍   | 230/360 [1:01:02<32:20, 14.93s/it]"
     ]
    },
    {
     "name": "stdout",
     "output_type": "stream",
     "text": [
      "2021-05-06 13:20:02,550 - modnet - INFO - Preset #47 fitting finished, loss: 0.4087331712245941\n"
     ]
    },
    {
     "name": "stderr",
     "output_type": "stream",
     "text": [
      " 64%|██████▍   | 231/360 [1:01:13<29:22, 13.67s/it]"
     ]
    },
    {
     "name": "stdout",
     "output_type": "stream",
     "text": [
      "2021-05-06 13:20:28,315 - modnet - INFO - Preset #39 fitting finished, loss: 0.44250393509864805\n"
     ]
    },
    {
     "name": "stderr",
     "output_type": "stream",
     "text": [
      " 64%|██████▍   | 232/360 [1:01:39<36:44, 17.22s/it]"
     ]
    },
    {
     "name": "stdout",
     "output_type": "stream",
     "text": [
      "2021-05-06 13:20:37,081 - modnet - INFO - Preset #44 fitting finished, loss: 0.4968907356262207\n"
     ]
    },
    {
     "name": "stderr",
     "output_type": "stream",
     "text": [
      " 65%|██████▍   | 233/360 [1:01:48<31:14, 14.76s/it]"
     ]
    },
    {
     "name": "stdout",
     "output_type": "stream",
     "text": [
      "2021-05-06 13:20:52,557 - modnet - INFO - Preset #46 fitting finished, loss: 0.41861186027526853\n"
     ]
    },
    {
     "name": "stderr",
     "output_type": "stream",
     "text": [
      " 65%|██████▌   | 234/360 [1:02:04<31:56, 15.21s/it]"
     ]
    },
    {
     "name": "stdout",
     "output_type": "stream",
     "text": [
      "2021-05-06 13:20:56,501 - modnet - INFO - Preset #42 fitting finished, loss: 0.40301082134246824\n"
     ]
    },
    {
     "name": "stderr",
     "output_type": "stream",
     "text": [
      " 65%|██████▌   | 235/360 [1:02:08<24:41, 11.85s/it]"
     ]
    },
    {
     "name": "stdout",
     "output_type": "stream",
     "text": [
      "2021-05-06 13:21:27,181 - modnet - INFO - Preset #52 fitting finished, loss: 0.4403172075748444\n"
     ]
    },
    {
     "name": "stderr",
     "output_type": "stream",
     "text": [
      " 66%|██████▌   | 236/360 [1:02:39<36:27, 17.64s/it]"
     ]
    },
    {
     "name": "stdout",
     "output_type": "stream",
     "text": [
      "2021-05-06 13:21:31,658 - modnet - INFO - Preset #48 fitting finished, loss: 0.3969351351261139\n"
     ]
    },
    {
     "name": "stderr",
     "output_type": "stream",
     "text": [
      " 66%|██████▌   | 237/360 [1:02:43<27:52, 13.60s/it]"
     ]
    },
    {
     "name": "stdout",
     "output_type": "stream",
     "text": [
      "2021-05-06 13:21:44,622 - modnet - INFO - Preset #44 fitting finished, loss: 0.38107789754867555\n"
     ]
    },
    {
     "name": "stderr",
     "output_type": "stream",
     "text": [
      " 66%|██████▌   | 238/360 [1:02:56<27:17, 13.42s/it]"
     ]
    },
    {
     "name": "stdout",
     "output_type": "stream",
     "text": [
      "2021-05-06 13:21:47,972 - modnet - INFO - Preset #52 fitting finished, loss: 0.4179601907730103\n"
     ]
    },
    {
     "name": "stderr",
     "output_type": "stream",
     "text": [
      " 66%|██████▋   | 239/360 [1:02:59<20:55, 10.37s/it]"
     ]
    },
    {
     "name": "stdout",
     "output_type": "stream",
     "text": [
      "2021-05-06 13:22:02,319 - modnet - INFO - Preset #45 fitting finished, loss: 0.5031009018421173\n"
     ]
    },
    {
     "name": "stderr",
     "output_type": "stream",
     "text": [
      " 67%|██████▋   | 240/360 [1:03:14<23:11, 11.60s/it]"
     ]
    },
    {
     "name": "stdout",
     "output_type": "stream",
     "text": [
      "2021-05-06 13:22:22,770 - modnet - INFO - Preset #50 fitting finished, loss: 0.42100459337234497\n"
     ]
    },
    {
     "name": "stderr",
     "output_type": "stream",
     "text": [
      " 67%|██████▋   | 241/360 [1:03:34<28:11, 14.22s/it]"
     ]
    },
    {
     "name": "stdout",
     "output_type": "stream",
     "text": [
      "2021-05-06 13:22:26,090 - modnet - INFO - Preset #49 fitting finished, loss: 0.40827822089195254\n"
     ]
    },
    {
     "name": "stderr",
     "output_type": "stream",
     "text": [
      " 67%|██████▋   | 242/360 [1:03:37<21:28, 10.92s/it]"
     ]
    },
    {
     "name": "stdout",
     "output_type": "stream",
     "text": [
      "2021-05-06 13:22:28,067 - modnet - INFO - Preset #52 fitting finished, loss: 0.4523614525794983\n"
     ]
    },
    {
     "name": "stderr",
     "output_type": "stream",
     "text": [
      " 68%|██████▊   | 243/360 [1:03:40<16:15,  8.34s/it]"
     ]
    },
    {
     "name": "stdout",
     "output_type": "stream",
     "text": [
      "2021-05-06 13:22:47,224 - modnet - INFO - Preset #49 fitting finished, loss: 0.382244861125946\n"
     ]
    },
    {
     "name": "stderr",
     "output_type": "stream",
     "text": [
      " 68%|██████▊   | 244/360 [1:03:59<22:37, 11.71s/it]"
     ]
    },
    {
     "name": "stdout",
     "output_type": "stream",
     "text": [
      "2021-05-06 13:23:01,223 - modnet - INFO - Preset #53 fitting finished, loss: 0.38412901759147644\n"
     ]
    },
    {
     "name": "stderr",
     "output_type": "stream",
     "text": [
      " 68%|██████▊   | 245/360 [1:04:13<23:23, 12.20s/it]"
     ]
    },
    {
     "name": "stdout",
     "output_type": "stream",
     "text": [
      "2021-05-06 13:23:03,900 - modnet - INFO - Preset #51 fitting finished, loss: 0.3925978302955627\n"
     ]
    },
    {
     "name": "stderr",
     "output_type": "stream",
     "text": [
      " 68%|██████▊   | 246/360 [1:04:15<17:32,  9.23s/it]"
     ]
    },
    {
     "name": "stdout",
     "output_type": "stream",
     "text": [
      "2021-05-06 13:23:21,154 - modnet - INFO - Preset #45 fitting finished, loss: 0.3939075171947479\n"
     ]
    },
    {
     "name": "stderr",
     "output_type": "stream",
     "text": [
      " 69%|██████▊   | 247/360 [1:04:33<22:16, 11.83s/it]"
     ]
    },
    {
     "name": "stdout",
     "output_type": "stream",
     "text": [
      "2021-05-06 13:23:25,283 - modnet - INFO - Preset #49 fitting finished, loss: 0.4078574895858765\n"
     ]
    },
    {
     "name": "stderr",
     "output_type": "stream",
     "text": [
      " 69%|██████▉   | 248/360 [1:04:37<17:39,  9.46s/it]"
     ]
    },
    {
     "name": "stdout",
     "output_type": "stream",
     "text": [
      "2021-05-06 13:23:27,432 - modnet - INFO - Preset #51 fitting finished, loss: 0.4970386207103729\n"
     ]
    },
    {
     "name": "stderr",
     "output_type": "stream",
     "text": [
      " 69%|██████▉   | 249/360 [1:04:39<13:14,  7.16s/it]"
     ]
    },
    {
     "name": "stdout",
     "output_type": "stream",
     "text": [
      "2021-05-06 13:23:34,104 - modnet - INFO - Preset #53 fitting finished, loss: 0.45164069533348083\n"
     ]
    },
    {
     "name": "stderr",
     "output_type": "stream",
     "text": [
      " 69%|██████▉   | 250/360 [1:04:46<13:03,  7.12s/it]"
     ]
    },
    {
     "name": "stdout",
     "output_type": "stream",
     "text": [
      "2021-05-06 13:23:36,254 - modnet - INFO - Preset #51 fitting finished, loss: 0.4450436353683472\n"
     ]
    },
    {
     "name": "stderr",
     "output_type": "stream",
     "text": [
      " 70%|██████▉   | 251/360 [1:04:48<10:12,  5.62s/it]"
     ]
    },
    {
     "name": "stdout",
     "output_type": "stream",
     "text": [
      "2021-05-06 13:23:45,870 - modnet - INFO - Preset #47 fitting finished, loss: 0.5063386201858521\n"
     ]
    },
    {
     "name": "stderr",
     "output_type": "stream",
     "text": [
      " 70%|███████   | 252/360 [1:05:02<14:51,  8.26s/it]"
     ]
    },
    {
     "name": "stdout",
     "output_type": "stream",
     "text": [
      "2021-05-06 13:23:52,781 - modnet - INFO - Preset #50 fitting finished, loss: 0.37676420211791994\n"
     ]
    },
    {
     "name": "stderr",
     "output_type": "stream",
     "text": [
      " 70%|███████   | 253/360 [1:05:04<11:21,  6.37s/it]"
     ]
    },
    {
     "name": "stdout",
     "output_type": "stream",
     "text": [
      "2021-05-06 13:23:54,731 - modnet - INFO - Preset #53 fitting finished, loss: 0.635816216468811\n"
     ]
    },
    {
     "name": "stderr",
     "output_type": "stream",
     "text": [
      " 71%|███████   | 254/360 [1:05:06<08:50,  5.01s/it]"
     ]
    },
    {
     "name": "stdout",
     "output_type": "stream",
     "text": [
      "2021-05-06 13:23:56,558 - modnet - INFO - Preset #44 fitting finished, loss: 0.3936924934387207\n"
     ]
    },
    {
     "name": "stderr",
     "output_type": "stream",
     "text": [
      " 71%|███████   | 255/360 [1:05:07<06:52,  3.93s/it]"
     ]
    },
    {
     "name": "stdout",
     "output_type": "stream",
     "text": [
      "2021-05-06 13:24:32,303 - modnet - INFO - Preset #48 fitting finished, loss: 0.41890881061553953\n"
     ]
    },
    {
     "name": "stderr",
     "output_type": "stream",
     "text": [
      " 71%|███████   | 256/360 [1:05:43<23:33, 13.59s/it]"
     ]
    },
    {
     "name": "stdout",
     "output_type": "stream",
     "text": [
      "2021-05-06 13:24:37,111 - modnet - INFO - Preset #45 fitting finished, loss: 0.4745975911617279\n"
     ]
    },
    {
     "name": "stderr",
     "output_type": "stream",
     "text": [
      " 71%|███████▏  | 257/360 [1:05:48<18:47, 10.95s/it]"
     ]
    },
    {
     "name": "stdout",
     "output_type": "stream",
     "text": [
      "2021-05-06 13:24:45,464 - modnet - INFO - Preset #49 fitting finished, loss: 0.4933933198451996\n"
     ]
    },
    {
     "name": "stderr",
     "output_type": "stream",
     "text": [
      " 72%|███████▏  | 258/360 [1:05:57<17:22, 10.22s/it]"
     ]
    },
    {
     "name": "stdout",
     "output_type": "stream",
     "text": [
      "2021-05-06 13:24:47,506 - modnet - INFO - Preset #51 fitting finished, loss: 0.38690940737724305\n"
     ]
    },
    {
     "name": "stderr",
     "output_type": "stream",
     "text": [
      " 72%|███████▏  | 259/360 [1:05:59<13:06,  7.79s/it]"
     ]
    },
    {
     "name": "stdout",
     "output_type": "stream",
     "text": [
      "2021-05-06 13:24:56,844 - modnet - INFO - Preset #49 fitting finished, loss: 0.42502092719078066\n"
     ]
    },
    {
     "name": "stderr",
     "output_type": "stream",
     "text": [
      " 72%|███████▏  | 260/360 [1:06:08<13:37,  8.18s/it]"
     ]
    },
    {
     "name": "stdout",
     "output_type": "stream",
     "text": [
      "2021-05-06 13:25:21,627 - modnet - INFO - Preset #51 fitting finished, loss: 0.43579269051551817\n"
     ]
    },
    {
     "name": "stderr",
     "output_type": "stream",
     "text": [
      " 72%|███████▎  | 261/360 [1:06:33<21:50, 13.24s/it]"
     ]
    },
    {
     "name": "stdout",
     "output_type": "stream",
     "text": [
      "2021-05-06 13:25:41,458 - modnet - INFO - Preset #50 fitting finished, loss: 0.4866352200508118\n"
     ]
    },
    {
     "name": "stderr",
     "output_type": "stream",
     "text": [
      " 73%|███████▎  | 262/360 [1:06:53<24:43, 15.14s/it]"
     ]
    },
    {
     "name": "stdout",
     "output_type": "stream",
     "text": [
      "2021-05-06 13:25:57,240 - modnet - INFO - Preset #48 fitting finished, loss: 0.42287805676460266\n"
     ]
    },
    {
     "name": "stderr",
     "output_type": "stream",
     "text": [
      " 73%|███████▎  | 263/360 [1:07:08<24:37, 15.23s/it]"
     ]
    },
    {
     "name": "stdout",
     "output_type": "stream",
     "text": [
      "2021-05-06 13:26:24,482 - modnet - INFO - Preset #52 fitting finished, loss: 0.3957340121269226\n"
     ]
    },
    {
     "name": "stderr",
     "output_type": "stream",
     "text": [
      " 73%|███████▎  | 264/360 [1:07:36<30:27, 19.04s/it]"
     ]
    },
    {
     "name": "stdout",
     "output_type": "stream",
     "text": [
      "2021-05-06 13:26:26,607 - modnet - INFO - Preset #48 fitting finished, loss: 0.3955470621585846\n"
     ]
    },
    {
     "name": "stderr",
     "output_type": "stream",
     "text": [
      " 74%|███████▎  | 265/360 [1:07:38<22:03, 13.93s/it]"
     ]
    },
    {
     "name": "stdout",
     "output_type": "stream",
     "text": [
      "2021-05-06 13:26:28,623 - modnet - INFO - Preset #50 fitting finished, loss: 0.44695104360580445\n"
     ]
    },
    {
     "name": "stderr",
     "output_type": "stream",
     "text": [
      " 74%|███████▍  | 266/360 [1:07:40<16:11, 10.34s/it]"
     ]
    },
    {
     "name": "stdout",
     "output_type": "stream",
     "text": [
      "2021-05-06 13:26:57,483 - modnet - INFO - Preset #50 fitting finished, loss: 0.4029324948787689\n"
     ]
    },
    {
     "name": "stderr",
     "output_type": "stream",
     "text": [
      " 74%|███████▍  | 267/360 [1:08:09<24:46, 15.99s/it]"
     ]
    },
    {
     "name": "stdout",
     "output_type": "stream",
     "text": [
      "2021-05-06 13:28:23,615 - modnet - INFO - Preset #48 fitting finished, loss: 0.4770348072052002\n"
     ]
    },
    {
     "name": "stderr",
     "output_type": "stream",
     "text": [
      " 74%|███████▍  | 268/360 [1:09:35<56:43, 36.99s/it]"
     ]
    },
    {
     "name": "stdout",
     "output_type": "stream",
     "text": [
      "2021-05-06 13:29:45,076 - modnet - INFO - Preset #64 fitting finished, loss: 1.0516194105148315\n"
     ]
    },
    {
     "name": "stderr",
     "output_type": "stream",
     "text": [
      " 75%|███████▍  | 269/360 [1:10:57<1:16:23, 50.37s/it]"
     ]
    },
    {
     "name": "stdout",
     "output_type": "stream",
     "text": [
      "2021-05-06 13:30:23,286 - modnet - INFO - Preset #58 fitting finished, loss: 1.1739465475082398\n"
     ]
    },
    {
     "name": "stderr",
     "output_type": "stream",
     "text": [
      " 75%|███████▌  | 270/360 [1:11:35<1:10:13, 46.82s/it]"
     ]
    },
    {
     "name": "stdout",
     "output_type": "stream",
     "text": [
      "2021-05-06 13:30:25,848 - modnet - INFO - Preset #58 fitting finished, loss: 0.8305415630340576\n"
     ]
    },
    {
     "name": "stderr",
     "output_type": "stream",
     "text": [
      " 75%|███████▌  | 271/360 [1:11:37<49:34, 33.42s/it]  "
     ]
    },
    {
     "name": "stdout",
     "output_type": "stream",
     "text": [
      "2021-05-06 13:30:28,136 - modnet - INFO - Preset #53 fitting finished, loss: 0.44602726101875306\n"
     ]
    },
    {
     "name": "stderr",
     "output_type": "stream",
     "text": [
      " 76%|███████▌  | 272/360 [1:11:40<35:16, 24.06s/it]"
     ]
    },
    {
     "name": "stdout",
     "output_type": "stream",
     "text": [
      "2021-05-06 13:30:59,915 - modnet - INFO - Preset #59 fitting finished, loss: 0.9101530551910401\n"
     ]
    },
    {
     "name": "stderr",
     "output_type": "stream",
     "text": [
      " 76%|███████▌  | 273/360 [1:12:11<38:13, 26.37s/it]"
     ]
    },
    {
     "name": "stdout",
     "output_type": "stream",
     "text": [
      "2021-05-06 13:32:21,179 - modnet - INFO - Preset #64 fitting finished, loss: 0.8703034043312072\n"
     ]
    },
    {
     "name": "stderr",
     "output_type": "stream",
     "text": [
      " 76%|███████▌  | 274/360 [1:13:32<1:01:19, 42.78s/it]"
     ]
    },
    {
     "name": "stdout",
     "output_type": "stream",
     "text": [
      "2021-05-06 13:32:29,144 - modnet - INFO - Preset #64 fitting finished, loss: 1.0233048677444458\n"
     ]
    },
    {
     "name": "stderr",
     "output_type": "stream",
     "text": [
      " 76%|███████▋  | 275/360 [1:13:41<45:53, 32.39s/it]  "
     ]
    },
    {
     "name": "stdout",
     "output_type": "stream",
     "text": [
      "2021-05-06 13:32:49,854 - modnet - INFO - Preset #65 fitting finished, loss: 0.8373067378997803\n"
     ]
    },
    {
     "name": "stderr",
     "output_type": "stream",
     "text": [
      " 77%|███████▋  | 276/360 [1:14:01<40:14, 28.74s/it]"
     ]
    },
    {
     "name": "stdout",
     "output_type": "stream",
     "text": [
      "2021-05-06 13:32:52,277 - modnet - INFO - Preset #53 fitting finished, loss: 0.4165834367275238\n"
     ]
    },
    {
     "name": "stderr",
     "output_type": "stream",
     "text": [
      " 77%|███████▋  | 277/360 [1:14:03<28:49, 20.84s/it]"
     ]
    },
    {
     "name": "stdout",
     "output_type": "stream",
     "text": [
      "2021-05-06 13:32:59,477 - modnet - INFO - Preset #59 fitting finished, loss: 1.1786178588867187\n"
     ]
    },
    {
     "name": "stderr",
     "output_type": "stream",
     "text": [
      " 77%|███████▋  | 278/360 [1:14:11<22:58, 16.81s/it]"
     ]
    },
    {
     "name": "stdout",
     "output_type": "stream",
     "text": [
      "2021-05-06 13:33:01,906 - modnet - INFO - Preset #59 fitting finished, loss: 0.8290828108787537\n"
     ]
    },
    {
     "name": "stderr",
     "output_type": "stream",
     "text": [
      " 78%|███████▊  | 279/360 [1:14:13<16:53, 12.51s/it]"
     ]
    },
    {
     "name": "stdout",
     "output_type": "stream",
     "text": [
      "2021-05-06 13:33:18,864 - modnet - INFO - Preset #58 fitting finished, loss: 1.0491342782974242\n"
     ]
    },
    {
     "name": "stderr",
     "output_type": "stream",
     "text": [
      " 78%|███████▊  | 280/360 [1:14:30<18:27, 13.84s/it]"
     ]
    },
    {
     "name": "stdout",
     "output_type": "stream",
     "text": [
      "2021-05-06 13:33:51,016 - modnet - INFO - Preset #56 fitting finished, loss: 0.7356953799724579\n"
     ]
    },
    {
     "name": "stderr",
     "output_type": "stream",
     "text": [
      " 78%|███████▊  | 281/360 [1:15:02<25:29, 19.36s/it]"
     ]
    },
    {
     "name": "stdout",
     "output_type": "stream",
     "text": [
      "2021-05-06 13:35:05,513 - modnet - INFO - Preset #63 fitting finished, loss: 0.79427769780159\n"
     ]
    },
    {
     "name": "stderr",
     "output_type": "stream",
     "text": [
      " 78%|███████▊  | 282/360 [1:16:17<46:37, 35.86s/it]"
     ]
    },
    {
     "name": "stdout",
     "output_type": "stream",
     "text": [
      "2021-05-06 13:35:20,841 - modnet - INFO - Preset #59 fitting finished, loss: 1.0456999301910401\n"
     ]
    },
    {
     "name": "stderr",
     "output_type": "stream",
     "text": [
      " 79%|███████▊  | 283/360 [1:16:32<37:56, 29.57s/it]"
     ]
    },
    {
     "name": "stdout",
     "output_type": "stream",
     "text": [
      "2021-05-06 13:35:37,235 - modnet - INFO - Preset #62 fitting finished, loss: 0.6070559024810791\n"
     ]
    },
    {
     "name": "stderr",
     "output_type": "stream",
     "text": [
      " 79%|███████▉  | 284/360 [1:16:48<32:23, 25.58s/it]"
     ]
    },
    {
     "name": "stdout",
     "output_type": "stream",
     "text": [
      "2021-05-06 13:35:41,492 - modnet - INFO - Preset #65 fitting finished, loss: 0.8332132577896119\n"
     ]
    },
    {
     "name": "stderr",
     "output_type": "stream",
     "text": [
      " 79%|███████▉  | 285/360 [1:16:53<24:09, 19.33s/it]"
     ]
    },
    {
     "name": "stdout",
     "output_type": "stream",
     "text": [
      "2021-05-06 13:35:52,566 - modnet - INFO - Preset #59 fitting finished, loss: 0.7145754098892212\n"
     ]
    },
    {
     "name": "stderr",
     "output_type": "stream",
     "text": [
      " 79%|███████▉  | 286/360 [1:17:04<20:46, 16.84s/it]"
     ]
    },
    {
     "name": "stdout",
     "output_type": "stream",
     "text": [
      "2021-05-06 13:36:52,700 - modnet - INFO - Preset #58 fitting finished, loss: 0.7949631452560425\n"
     ]
    },
    {
     "name": "stderr",
     "output_type": "stream",
     "text": [
      " 80%|███████▉  | 287/360 [1:18:04<36:17, 29.82s/it]"
     ]
    },
    {
     "name": "stdout",
     "output_type": "stream",
     "text": [
      "2021-05-06 13:37:03,210 - modnet - INFO - Preset #64 fitting finished, loss: 0.7084347069263458\n"
     ]
    },
    {
     "name": "stderr",
     "output_type": "stream",
     "text": [
      " 80%|████████  | 288/360 [1:18:14<28:52, 24.06s/it]"
     ]
    },
    {
     "name": "stdout",
     "output_type": "stream",
     "text": [
      "2021-05-06 13:37:21,197 - modnet - INFO - Preset #62 fitting finished, loss: 0.5065895259380341\n"
     ]
    },
    {
     "name": "stderr",
     "output_type": "stream",
     "text": [
      " 80%|████████  | 289/360 [1:18:32<26:12, 22.15s/it]"
     ]
    },
    {
     "name": "stdout",
     "output_type": "stream",
     "text": [
      "2021-05-06 13:37:34,294 - modnet - INFO - Preset #65 fitting finished, loss: 1.0255841732025146\n"
     ]
    },
    {
     "name": "stderr",
     "output_type": "stream",
     "text": [
      " 81%|████████  | 290/360 [1:18:45<22:40, 19.43s/it]"
     ]
    },
    {
     "name": "stdout",
     "output_type": "stream",
     "text": [
      "2021-05-06 13:37:36,900 - modnet - INFO - Preset #65 fitting finished, loss: 1.0408336758613586\n"
     ]
    },
    {
     "name": "stderr",
     "output_type": "stream",
     "text": [
      " 81%|████████  | 291/360 [1:18:48<16:36, 14.44s/it]"
     ]
    },
    {
     "name": "stdout",
     "output_type": "stream",
     "text": [
      "2021-05-06 13:37:38,540 - modnet - INFO - Preset #64 fitting finished, loss: 0.910454398393631\n"
     ]
    },
    {
     "name": "stderr",
     "output_type": "stream",
     "text": [
      " 81%|████████  | 292/360 [1:18:49<11:56, 10.54s/it]"
     ]
    },
    {
     "name": "stdout",
     "output_type": "stream",
     "text": [
      "2021-05-06 13:38:23,684 - modnet - INFO - Preset #65 fitting finished, loss: 0.8033817052841187\n"
     ]
    },
    {
     "name": "stderr",
     "output_type": "stream",
     "text": [
      " 81%|████████▏ | 293/360 [1:19:34<23:19, 20.89s/it]"
     ]
    },
    {
     "name": "stdout",
     "output_type": "stream",
     "text": [
      "2021-05-06 13:38:52,672 - modnet - INFO - Preset #58 fitting finished, loss: 0.8979874193668366\n"
     ]
    },
    {
     "name": "stderr",
     "output_type": "stream",
     "text": [
      " 82%|████████▏ | 294/360 [1:20:04<25:45, 23.42s/it]"
     ]
    },
    {
     "name": "stdout",
     "output_type": "stream",
     "text": [
      "2021-05-06 13:39:32,281 - modnet - INFO - Preset #60 fitting finished, loss: 0.4118259310722351\n"
     ]
    },
    {
     "name": "stderr",
     "output_type": "stream",
     "text": [
      " 82%|████████▏ | 295/360 [1:20:43<30:33, 28.21s/it]"
     ]
    },
    {
     "name": "stdout",
     "output_type": "stream",
     "text": [
      "2021-05-06 13:40:14,676 - modnet - INFO - Preset #61 fitting finished, loss: 0.44472833871841433\n"
     ]
    },
    {
     "name": "stderr",
     "output_type": "stream",
     "text": [
      " 82%|████████▏ | 296/360 [1:21:25<34:36, 32.44s/it]"
     ]
    },
    {
     "name": "stdout",
     "output_type": "stream",
     "text": [
      "2021-05-06 13:40:17,863 - modnet - INFO - Preset #61 fitting finished, loss: 0.4007049560546875\n"
     ]
    },
    {
     "name": "stderr",
     "output_type": "stream",
     "text": [
      " 82%|████████▎ | 297/360 [1:21:29<24:52, 23.69s/it]"
     ]
    },
    {
     "name": "stdout",
     "output_type": "stream",
     "text": [
      "2021-05-06 13:40:48,727 - modnet - INFO - Preset #62 fitting finished, loss: 0.4548513412475586\n"
     ]
    },
    {
     "name": "stderr",
     "output_type": "stream",
     "text": [
      " 83%|████████▎ | 298/360 [1:21:59<26:36, 25.75s/it]"
     ]
    },
    {
     "name": "stdout",
     "output_type": "stream",
     "text": [
      "2021-05-06 13:41:03,800 - modnet - INFO - Preset #70 fitting finished, loss: 0.8545759916305542\n"
     ]
    },
    {
     "name": "stderr",
     "output_type": "stream",
     "text": [
      " 83%|████████▎ | 299/360 [1:22:14<22:59, 22.61s/it]"
     ]
    },
    {
     "name": "stdout",
     "output_type": "stream",
     "text": [
      "2021-05-06 13:41:05,907 - modnet - INFO - Preset #54 fitting finished, loss: 0.45547908544540405\n"
     ]
    },
    {
     "name": "stderr",
     "output_type": "stream",
     "text": [
      " 83%|████████▎ | 300/360 [1:22:17<16:27, 16.46s/it]"
     ]
    },
    {
     "name": "stdout",
     "output_type": "stream",
     "text": [
      "2021-05-06 13:41:21,118 - modnet - INFO - Preset #57 fitting finished, loss: 0.8021556675434113\n"
     ]
    },
    {
     "name": "stderr",
     "output_type": "stream",
     "text": [
      " 84%|████████▎ | 301/360 [1:22:32<15:43, 15.99s/it]"
     ]
    },
    {
     "name": "stdout",
     "output_type": "stream",
     "text": [
      "2021-05-06 13:41:29,581 - modnet - INFO - Preset #60 fitting finished, loss: 0.4388204276561737\n"
     ]
    },
    {
     "name": "stderr",
     "output_type": "stream",
     "text": [
      " 84%|████████▍ | 302/360 [1:22:40<13:22, 13.83s/it]"
     ]
    },
    {
     "name": "stdout",
     "output_type": "stream",
     "text": [
      "2021-05-06 13:41:44,809 - modnet - INFO - Preset #63 fitting finished, loss: 0.5902300715446472\n"
     ]
    },
    {
     "name": "stderr",
     "output_type": "stream",
     "text": [
      " 84%|████████▍ | 303/360 [1:22:55<13:29, 14.20s/it]"
     ]
    },
    {
     "name": "stdout",
     "output_type": "stream",
     "text": [
      "2021-05-06 13:42:05,453 - modnet - INFO - Preset #60 fitting finished, loss: 0.4036297559738159\n"
     ]
    },
    {
     "name": "stderr",
     "output_type": "stream",
     "text": [
      " 84%|████████▍ | 304/360 [1:23:16<15:02, 16.12s/it]"
     ]
    },
    {
     "name": "stdout",
     "output_type": "stream",
     "text": [
      "2021-05-06 13:42:25,471 - modnet - INFO - Preset #61 fitting finished, loss: 0.3706247329711914\n"
     ]
    },
    {
     "name": "stderr",
     "output_type": "stream",
     "text": [
      " 85%|████████▍ | 305/360 [1:23:36<15:50, 17.27s/it]"
     ]
    },
    {
     "name": "stdout",
     "output_type": "stream",
     "text": [
      "2021-05-06 13:42:57,107 - modnet - INFO - Preset #66 fitting finished, loss: 0.43949719667434695\n"
     ]
    },
    {
     "name": "stderr",
     "output_type": "stream",
     "text": [
      " 85%|████████▌ | 306/360 [1:24:07<19:23, 21.55s/it]"
     ]
    },
    {
     "name": "stdout",
     "output_type": "stream",
     "text": [
      "2021-05-06 13:43:14,268 - modnet - INFO - Preset #56 fitting finished, loss: 0.8011022090911866\n"
     ]
    },
    {
     "name": "stderr",
     "output_type": "stream",
     "text": [
      " 85%|████████▌ | 307/360 [1:24:24<17:50, 20.20s/it]"
     ]
    },
    {
     "name": "stdout",
     "output_type": "stream",
     "text": [
      "2021-05-06 13:43:15,400 - modnet - INFO - Preset #66 fitting finished, loss: 0.4475131332874298\n"
     ]
    },
    {
     "name": "stderr",
     "output_type": "stream",
     "text": [
      " 86%|████████▌ | 308/360 [1:24:28<13:15, 15.29s/it]"
     ]
    },
    {
     "name": "stdout",
     "output_type": "stream",
     "text": [
      "2021-05-06 13:43:22,166 - modnet - INFO - Preset #63 fitting finished, loss: 0.6192206680774689\n"
     ]
    },
    {
     "name": "stderr",
     "output_type": "stream",
     "text": [
      " 86%|████████▌ | 309/360 [1:24:32<10:01, 11.80s/it]"
     ]
    },
    {
     "name": "stdout",
     "output_type": "stream",
     "text": [
      "2021-05-06 13:43:32,314 - modnet - INFO - Preset #60 fitting finished, loss: 0.46917752027511594\n"
     ]
    },
    {
     "name": "stderr",
     "output_type": "stream",
     "text": [
      " 86%|████████▌ | 310/360 [1:24:42<09:24, 11.29s/it]"
     ]
    },
    {
     "name": "stdout",
     "output_type": "stream",
     "text": [
      "2021-05-06 13:43:48,418 - modnet - INFO - Preset #55 fitting finished, loss: 0.37496034502983094\n"
     ]
    },
    {
     "name": "stderr",
     "output_type": "stream",
     "text": [
      " 86%|████████▋ | 311/360 [1:24:58<10:25, 12.77s/it]"
     ]
    },
    {
     "name": "stdout",
     "output_type": "stream",
     "text": [
      "2021-05-06 13:44:00,562 - modnet - INFO - Preset #69 fitting finished, loss: 0.602583909034729\n"
     ]
    },
    {
     "name": "stderr",
     "output_type": "stream",
     "text": [
      " 87%|████████▋ | 312/360 [1:25:10<10:00, 12.52s/it]"
     ]
    },
    {
     "name": "stdout",
     "output_type": "stream",
     "text": [
      "2021-05-06 13:44:04,484 - modnet - INFO - Preset #68 fitting finished, loss: 0.4070191442966461\n"
     ]
    },
    {
     "name": "stderr",
     "output_type": "stream",
     "text": [
      " 87%|████████▋ | 313/360 [1:25:14<07:48,  9.97s/it]"
     ]
    },
    {
     "name": "stdout",
     "output_type": "stream",
     "text": [
      "2021-05-06 13:44:30,390 - modnet - INFO - Preset #61 fitting finished, loss: 0.42979502081871035\n"
     ]
    },
    {
     "name": "stderr",
     "output_type": "stream",
     "text": [
      " 87%|████████▋ | 314/360 [1:25:40<11:19, 14.76s/it]"
     ]
    },
    {
     "name": "stdout",
     "output_type": "stream",
     "text": [
      "2021-05-06 13:44:37,511 - modnet - INFO - Preset #66 fitting finished, loss: 0.3685918629169464\n"
     ]
    },
    {
     "name": "stderr",
     "output_type": "stream",
     "text": [
      " 88%|████████▊ | 315/360 [1:25:47<09:20, 12.45s/it]"
     ]
    },
    {
     "name": "stdout",
     "output_type": "stream",
     "text": [
      "2021-05-06 13:44:38,774 - modnet - INFO - Preset #70 fitting finished, loss: 0.8028390645980835\n"
     ]
    },
    {
     "name": "stderr",
     "output_type": "stream",
     "text": [
      " 88%|████████▊ | 316/360 [1:25:49<06:40,  9.10s/it]"
     ]
    },
    {
     "name": "stdout",
     "output_type": "stream",
     "text": [
      "2021-05-06 13:44:48,748 - modnet - INFO - Preset #61 fitting finished, loss: 0.4502083480358124\n"
     ]
    },
    {
     "name": "stderr",
     "output_type": "stream",
     "text": [
      " 88%|████████▊ | 317/360 [1:25:59<06:42,  9.37s/it]"
     ]
    },
    {
     "name": "stdout",
     "output_type": "stream",
     "text": [
      "2021-05-06 13:44:53,833 - modnet - INFO - Preset #56 fitting finished, loss: 0.6008172154426574\n"
     ]
    },
    {
     "name": "stderr",
     "output_type": "stream",
     "text": [
      " 88%|████████▊ | 318/360 [1:26:04<05:40,  8.10s/it]"
     ]
    },
    {
     "name": "stdout",
     "output_type": "stream",
     "text": [
      "2021-05-06 13:44:54,975 - modnet - INFO - Preset #71 fitting finished, loss: 0.8016288697719574\n"
     ]
    },
    {
     "name": "stderr",
     "output_type": "stream",
     "text": [
      " 89%|████████▊ | 319/360 [1:26:05<04:05,  5.98s/it]"
     ]
    },
    {
     "name": "stdout",
     "output_type": "stream",
     "text": [
      "2021-05-06 13:44:56,981 - modnet - INFO - Preset #68 fitting finished, loss: 0.44535475969314575\n"
     ]
    },
    {
     "name": "stderr",
     "output_type": "stream",
     "text": [
      " 89%|████████▉ | 320/360 [1:26:07<03:11,  4.78s/it]"
     ]
    },
    {
     "name": "stdout",
     "output_type": "stream",
     "text": [
      "2021-05-06 13:44:59,295 - modnet - INFO - Preset #68 fitting finished, loss: 0.5329399824142456\n"
     ]
    },
    {
     "name": "stderr",
     "output_type": "stream",
     "text": [
      " 89%|████████▉ | 321/360 [1:26:09<02:37,  4.05s/it]"
     ]
    },
    {
     "name": "stdout",
     "output_type": "stream",
     "text": [
      "2021-05-06 13:45:07,721 - modnet - INFO - Preset #63 fitting finished, loss: 0.3864298939704895\n"
     ]
    },
    {
     "name": "stderr",
     "output_type": "stream",
     "text": [
      " 89%|████████▉ | 322/360 [1:26:17<03:23,  5.36s/it]"
     ]
    },
    {
     "name": "stdout",
     "output_type": "stream",
     "text": [
      "2021-05-06 13:45:10,650 - modnet - INFO - Preset #62 fitting finished, loss: 0.3921903133392334\n"
     ]
    },
    {
     "name": "stderr",
     "output_type": "stream",
     "text": [
      " 90%|████████▉ | 323/360 [1:26:20<02:51,  4.63s/it]"
     ]
    },
    {
     "name": "stdout",
     "output_type": "stream",
     "text": [
      "2021-05-06 13:45:25,384 - modnet - INFO - Preset #66 fitting finished, loss: 0.3949348390102386\n"
     ]
    },
    {
     "name": "stderr",
     "output_type": "stream",
     "text": [
      " 90%|█████████ | 324/360 [1:26:35<04:34,  7.63s/it]"
     ]
    },
    {
     "name": "stdout",
     "output_type": "stream",
     "text": [
      "2021-05-06 13:45:34,868 - modnet - INFO - Preset #68 fitting finished, loss: 0.38430474400520326\n"
     ]
    },
    {
     "name": "stderr",
     "output_type": "stream",
     "text": [
      " 90%|█████████ | 325/360 [1:26:45<04:48,  8.24s/it]"
     ]
    },
    {
     "name": "stdout",
     "output_type": "stream",
     "text": [
      "2021-05-06 13:45:35,599 - modnet - INFO - Preset #63 fitting finished, loss: 0.5819831371307373\n"
     ]
    },
    {
     "name": "stderr",
     "output_type": "stream",
     "text": [
      " 91%|█████████ | 326/360 [1:26:45<03:23,  5.99s/it]"
     ]
    },
    {
     "name": "stdout",
     "output_type": "stream",
     "text": [
      "2021-05-06 13:45:38,871 - modnet - INFO - Preset #71 fitting finished, loss: 0.721761679649353\n"
     ]
    },
    {
     "name": "stderr",
     "output_type": "stream",
     "text": [
      " 91%|█████████ | 327/360 [1:26:49<02:49,  5.14s/it]"
     ]
    },
    {
     "name": "stdout",
     "output_type": "stream",
     "text": [
      "2021-05-06 13:45:43,095 - modnet - INFO - Preset #54 fitting finished, loss: 0.37749314308166504\n"
     ]
    },
    {
     "name": "stderr",
     "output_type": "stream",
     "text": [
      " 91%|█████████ | 328/360 [1:26:53<02:36,  4.89s/it]"
     ]
    },
    {
     "name": "stdout",
     "output_type": "stream",
     "text": [
      "2021-05-06 13:45:43,500 - modnet - INFO - Preset #60 fitting finished, loss: 0.464490681886673\n"
     ]
    },
    {
     "name": "stderr",
     "output_type": "stream",
     "text": [
      " 91%|█████████▏| 329/360 [1:26:53<01:49,  3.53s/it]"
     ]
    },
    {
     "name": "stdout",
     "output_type": "stream",
     "text": [
      "2021-05-06 13:45:51,970 - modnet - INFO - Preset #66 fitting finished, loss: 0.43555993437767027\n"
     ]
    },
    {
     "name": "stderr",
     "output_type": "stream",
     "text": [
      " 92%|█████████▏| 330/360 [1:27:02<02:33,  5.11s/it]"
     ]
    },
    {
     "name": "stdout",
     "output_type": "stream",
     "text": [
      "2021-05-06 13:46:09,571 - modnet - INFO - Preset #71 fitting finished, loss: 0.608853530883789\n"
     ]
    },
    {
     "name": "stderr",
     "output_type": "stream",
     "text": [
      " 92%|█████████▏| 331/360 [1:27:19<04:15,  8.80s/it]"
     ]
    },
    {
     "name": "stdout",
     "output_type": "stream",
     "text": [
      "2021-05-06 13:46:19,792 - modnet - INFO - Preset #68 fitting finished, loss: 0.5445975244045258\n"
     ]
    },
    {
     "name": "stderr",
     "output_type": "stream",
     "text": [
      " 92%|█████████▏| 332/360 [1:27:30<04:20,  9.31s/it]"
     ]
    },
    {
     "name": "stdout",
     "output_type": "stream",
     "text": [
      "2021-05-06 13:46:28,403 - modnet - INFO - Preset #69 fitting finished, loss: 0.3970384240150452\n"
     ]
    },
    {
     "name": "stderr",
     "output_type": "stream",
     "text": [
      " 92%|█████████▎| 333/360 [1:27:39<04:05,  9.11s/it]"
     ]
    },
    {
     "name": "stdout",
     "output_type": "stream",
     "text": [
      "2021-05-06 13:46:40,169 - modnet - INFO - Preset #71 fitting finished, loss: 0.6925795912742615\n"
     ]
    },
    {
     "name": "stderr",
     "output_type": "stream",
     "text": [
      " 93%|█████████▎| 334/360 [1:27:50<04:15,  9.84s/it]"
     ]
    },
    {
     "name": "stdout",
     "output_type": "stream",
     "text": [
      "2021-05-06 13:46:41,748 - modnet - INFO - Preset #67 fitting finished, loss: 0.43193591833114625\n"
     ]
    },
    {
     "name": "stderr",
     "output_type": "stream",
     "text": [
      " 93%|█████████▎| 335/360 [1:27:51<03:02,  7.29s/it]"
     ]
    },
    {
     "name": "stdout",
     "output_type": "stream",
     "text": [
      "2021-05-06 13:46:46,561 - modnet - INFO - Preset #55 fitting finished, loss: 0.45217801332473756\n"
     ]
    },
    {
     "name": "stderr",
     "output_type": "stream",
     "text": [
      " 93%|█████████▎| 336/360 [1:27:56<02:38,  6.60s/it]"
     ]
    },
    {
     "name": "stdout",
     "output_type": "stream",
     "text": [
      "2021-05-06 13:46:50,210 - modnet - INFO - Preset #62 fitting finished, loss: 0.4034485101699829\n"
     ]
    },
    {
     "name": "stderr",
     "output_type": "stream",
     "text": [
      " 94%|█████████▎| 337/360 [1:28:00<02:12,  5.77s/it]"
     ]
    },
    {
     "name": "stdout",
     "output_type": "stream",
     "text": [
      "2021-05-06 13:46:50,913 - modnet - INFO - Preset #54 fitting finished, loss: 0.42217821478843687\n"
     ]
    },
    {
     "name": "stderr",
     "output_type": "stream",
     "text": [
      " 94%|█████████▍| 338/360 [1:28:01<01:34,  4.28s/it]"
     ]
    },
    {
     "name": "stdout",
     "output_type": "stream",
     "text": [
      "2021-05-06 13:46:51,730 - modnet - INFO - Preset #69 fitting finished, loss: 0.4612606823444366\n"
     ]
    },
    {
     "name": "stderr",
     "output_type": "stream",
     "text": [
      " 94%|█████████▍| 339/360 [1:28:02<01:05,  3.13s/it]"
     ]
    },
    {
     "name": "stdout",
     "output_type": "stream",
     "text": [
      "2021-05-06 13:46:53,876 - modnet - INFO - Preset #67 fitting finished, loss: 0.44589497447013854\n"
     ]
    },
    {
     "name": "stderr",
     "output_type": "stream",
     "text": [
      " 94%|█████████▍| 340/360 [1:28:04<00:56,  2.81s/it]"
     ]
    },
    {
     "name": "stdout",
     "output_type": "stream",
     "text": [
      "2021-05-06 13:47:09,009 - modnet - INFO - Preset #69 fitting finished, loss: 0.41825873255729673\n"
     ]
    },
    {
     "name": "stderr",
     "output_type": "stream",
     "text": [
      " 95%|█████████▍| 341/360 [1:28:19<02:03,  6.49s/it]"
     ]
    },
    {
     "name": "stdout",
     "output_type": "stream",
     "text": [
      "2021-05-06 13:47:22,535 - modnet - INFO - Preset #67 fitting finished, loss: 0.43739903569221494\n"
     ]
    },
    {
     "name": "stderr",
     "output_type": "stream",
     "text": [
      " 95%|█████████▌| 342/360 [1:28:32<02:34,  8.61s/it]"
     ]
    },
    {
     "name": "stdout",
     "output_type": "stream",
     "text": [
      "2021-05-06 13:47:51,728 - modnet - INFO - Preset #67 fitting finished, loss: 0.3611376166343689\n"
     ]
    },
    {
     "name": "stderr",
     "output_type": "stream",
     "text": [
      " 95%|█████████▌| 343/360 [1:29:01<04:11, 14.78s/it]"
     ]
    },
    {
     "name": "stdout",
     "output_type": "stream",
     "text": [
      "2021-05-06 13:47:54,746 - modnet - INFO - Preset #67 fitting finished, loss: 0.3971726059913635\n"
     ]
    },
    {
     "name": "stderr",
     "output_type": "stream",
     "text": [
      " 96%|█████████▌| 344/360 [1:29:04<03:00, 11.26s/it]"
     ]
    },
    {
     "name": "stdout",
     "output_type": "stream",
     "text": [
      "2021-05-06 13:48:09,992 - modnet - INFO - Preset #71 fitting finished, loss: 0.5547341585159302\n"
     ]
    },
    {
     "name": "stderr",
     "output_type": "stream",
     "text": [
      " 96%|█████████▌| 345/360 [1:29:20<03:07, 12.47s/it]"
     ]
    },
    {
     "name": "stdout",
     "output_type": "stream",
     "text": [
      "2021-05-06 13:48:30,365 - modnet - INFO - Preset #69 fitting finished, loss: 0.5400205910205841\n"
     ]
    },
    {
     "name": "stderr",
     "output_type": "stream",
     "text": [
      " 96%|█████████▌| 346/360 [1:29:40<03:27, 14.82s/it]"
     ]
    },
    {
     "name": "stdout",
     "output_type": "stream",
     "text": [
      "2021-05-06 13:48:47,131 - modnet - INFO - Preset #57 fitting finished, loss: 0.4281234800815582\n"
     ]
    },
    {
     "name": "stderr",
     "output_type": "stream",
     "text": [
      " 96%|█████████▋| 347/360 [1:29:57<03:20, 15.43s/it]"
     ]
    },
    {
     "name": "stdout",
     "output_type": "stream",
     "text": [
      "2021-05-06 13:48:50,391 - modnet - INFO - Preset #56 fitting finished, loss: 0.5361337304115296\n"
     ]
    },
    {
     "name": "stderr",
     "output_type": "stream",
     "text": [
      " 97%|█████████▋| 348/360 [1:30:00<02:21, 11.77s/it]"
     ]
    },
    {
     "name": "stdout",
     "output_type": "stream",
     "text": [
      "2021-05-06 13:48:55,112 - modnet - INFO - Preset #70 fitting finished, loss: 0.6442719995975494\n"
     ]
    },
    {
     "name": "stderr",
     "output_type": "stream",
     "text": [
      " 97%|█████████▋| 349/360 [1:30:05<01:46,  9.64s/it]"
     ]
    },
    {
     "name": "stdout",
     "output_type": "stream",
     "text": [
      "2021-05-06 13:49:46,475 - modnet - INFO - Preset #70 fitting finished, loss: 0.41046876311302183\n"
     ]
    },
    {
     "name": "stderr",
     "output_type": "stream",
     "text": [
      " 97%|█████████▋| 350/360 [1:30:56<03:41, 22.15s/it]"
     ]
    },
    {
     "name": "stdout",
     "output_type": "stream",
     "text": [
      "2021-05-06 13:49:46,773 - modnet - INFO - Preset #70 fitting finished, loss: 0.4291894495487213\n"
     ]
    },
    {
     "name": "stderr",
     "output_type": "stream",
     "text": [
      " 98%|█████████▊| 351/360 [1:30:57<02:20, 15.61s/it]"
     ]
    },
    {
     "name": "stdout",
     "output_type": "stream",
     "text": [
      "2021-05-06 13:50:00,206 - modnet - INFO - Preset #54 fitting finished, loss: 0.44269404411315916\n"
     ]
    },
    {
     "name": "stderr",
     "output_type": "stream",
     "text": [
      " 98%|█████████▊| 352/360 [1:31:10<01:59, 14.96s/it]"
     ]
    },
    {
     "name": "stdout",
     "output_type": "stream",
     "text": [
      "2021-05-06 13:51:13,145 - modnet - INFO - Preset #54 fitting finished, loss: 0.4049987971782684\n"
     ]
    },
    {
     "name": "stderr",
     "output_type": "stream",
     "text": [
      " 98%|█████████▊| 353/360 [1:32:23<03:46, 32.34s/it]"
     ]
    },
    {
     "name": "stdout",
     "output_type": "stream",
     "text": [
      "2021-05-06 13:51:47,237 - modnet - INFO - Preset #57 fitting finished, loss: 0.5601086139678955\n"
     ]
    },
    {
     "name": "stderr",
     "output_type": "stream",
     "text": [
      " 98%|█████████▊| 354/360 [1:32:57<03:17, 32.88s/it]"
     ]
    },
    {
     "name": "stdout",
     "output_type": "stream",
     "text": [
      "2021-05-06 13:51:47,595 - modnet - INFO - Preset #55 fitting finished, loss: 0.42964611053466795\n"
     ]
    },
    {
     "name": "stderr",
     "output_type": "stream",
     "text": [
      " 99%|█████████▊| 355/360 [1:32:57<01:55, 23.12s/it]"
     ]
    },
    {
     "name": "stdout",
     "output_type": "stream",
     "text": [
      "2021-05-06 13:51:52,909 - modnet - INFO - Preset #55 fitting finished, loss: 0.41247392892837526\n"
     ]
    },
    {
     "name": "stderr",
     "output_type": "stream",
     "text": [
      " 99%|█████████▉| 356/360 [1:33:03<01:11, 17.81s/it]"
     ]
    },
    {
     "name": "stdout",
     "output_type": "stream",
     "text": [
      "2021-05-06 13:52:39,907 - modnet - INFO - Preset #55 fitting finished, loss: 0.4414729535579681\n"
     ]
    },
    {
     "name": "stderr",
     "output_type": "stream",
     "text": [
      " 99%|█████████▉| 357/360 [1:33:50<01:19, 26.54s/it]"
     ]
    },
    {
     "name": "stdout",
     "output_type": "stream",
     "text": [
      "2021-05-06 13:53:14,215 - modnet - INFO - Preset #57 fitting finished, loss: 0.5502815306186676\n"
     ]
    },
    {
     "name": "stderr",
     "output_type": "stream",
     "text": [
      " 99%|█████████▉| 358/360 [1:34:24<00:57, 28.88s/it]"
     ]
    },
    {
     "name": "stdout",
     "output_type": "stream",
     "text": [
      "2021-05-06 13:55:51,076 - modnet - INFO - Preset #56 fitting finished, loss: 0.6059762597084045\n"
     ]
    },
    {
     "name": "stderr",
     "output_type": "stream",
     "text": [
      "100%|█████████▉| 359/360 [1:37:01<01:07, 67.32s/it]"
     ]
    },
    {
     "name": "stdout",
     "output_type": "stream",
     "text": [
      "2021-05-06 14:02:48,738 - modnet - INFO - Preset #57 fitting finished, loss: 0.45473021268844604\n"
     ]
    },
    {
     "name": "stderr",
     "output_type": "stream",
     "text": [
      "100%|██████████| 360/360 [1:43:58<00:00, 17.33s/it] \n"
     ]
    },
    {
     "name": "stdout",
     "output_type": "stream",
     "text": [
      "2021-05-06 14:02:52,937 - modnet - INFO - Preset #68 resulted in lowest validation loss with params {'train_data': <modnet.preprocessing.MODData object at 0x7f606d3701f0>, 'targets': [[['exp_gap']]], 'weights': {'exp_gap': 1}, 'n_models': 5, 'num_classes': {'exp_gap': 0}, 'n_feat': 512, 'num_neurons': [[256], [128], [64], [64]], 'lr': 0.001, 'batch_size': 64, 'epochs': 1000, 'loss': 'mae', 'act': 'elu', 'out_act': 'linear', 'callbacks': [<tensorflow.python.keras.callbacks.EarlyStopping object at 0x7f606d279a90>], 'preset_id': 67, 'fold_id': 2, 'verbose': 0, 'val_data': <modnet.preprocessing.MODData object at 0x7f60182ac490>}\n",
      "mae\n",
      "0.2935638936173606\n",
      "uncertainty\n",
      "0.2791425\n",
      "2021-05-06 14:03:17,079 - modnet - INFO - Loaded <modnet.preprocessing.MODData object at 0x7f606d2b7610> object, created with modnet version 0.1.9\n",
      "2021-05-06 14:03:22,325 - modnet - INFO - Proceeding with grid search: archs: [(64, [[128], [32], [8], [8]]), (64, [[64], [32], [8], [8]]), (64, [[32], [16], [8], [8]]), (128, [[256], [64], [16], [16]]), (128, [[128], [64], [16], [16]]), (128, [[64], [32], [16], [16]]), (256, [[512], [128], [32], [32]]), (256, [[256], [128], [32], [32]]), (256, [[128], [64], [32], [32]]), (512, [[1024], [256], [64], [64]]), (512, [[512], [256], [64], [64]]), (512, [[256], [128], [64], [64]])], batch sizes: [64], learning_rates: [0.001, 0.005, 0.01]\n",
      "2021-05-06 14:03:28,981 - modnet - INFO - Multiprocessing on 64 cores. Total of 128 cores available.\n"
     ]
    },
    {
     "name": "stderr",
     "output_type": "stream",
     "text": [
      "  0%|          | 0/360 [00:00<?, ?it/s]"
     ]
    },
    {
     "name": "stdout",
     "output_type": "stream",
     "text": [
      "2021-05-06 14:16:47,692 - modnet - INFO - Preset #5 fitting finished, loss: 0.432102769613266\n"
     ]
    },
    {
     "name": "stderr",
     "output_type": "stream",
     "text": [
      "  0%|          | 1/360 [13:19<79:44:17, 799.60s/it]"
     ]
    },
    {
     "name": "stdout",
     "output_type": "stream",
     "text": [
      "2021-05-06 14:16:57,016 - modnet - INFO - Preset #2 fitting finished, loss: 0.38386407494544983\n"
     ]
    },
    {
     "name": "stderr",
     "output_type": "stream",
     "text": [
      "  1%|          | 2/360 [13:30<55:59:34, 563.06s/it]"
     ]
    },
    {
     "name": "stdout",
     "output_type": "stream",
     "text": [
      "2021-05-06 14:17:58,963 - modnet - INFO - Preset #10 fitting finished, loss: 0.5256629347801208\n"
     ]
    },
    {
     "name": "stderr",
     "output_type": "stream",
     "text": [
      "  1%|          | 3/360 [14:30<40:52:37, 412.21s/it]"
     ]
    },
    {
     "name": "stdout",
     "output_type": "stream",
     "text": [
      "2021-05-06 14:18:34,981 - modnet - INFO - Preset #8 fitting finished, loss: 0.39727426767349244\n"
     ]
    },
    {
     "name": "stderr",
     "output_type": "stream",
     "text": [
      "  1%|          | 4/360 [15:06<29:36:02, 299.33s/it]"
     ]
    },
    {
     "name": "stdout",
     "output_type": "stream",
     "text": [
      "2021-05-06 14:18:52,292 - modnet - INFO - Preset #8 fitting finished, loss: 0.47656134963035585\n"
     ]
    },
    {
     "name": "stderr",
     "output_type": "stream",
     "text": [
      "  1%|▏         | 5/360 [15:24<21:10:23, 214.71s/it]"
     ]
    },
    {
     "name": "stdout",
     "output_type": "stream",
     "text": [
      "2021-05-06 14:18:55,571 - modnet - INFO - Preset #11 fitting finished, loss: 0.5173982739448547\n"
     ]
    },
    {
     "name": "stderr",
     "output_type": "stream",
     "text": [
      "  2%|▏         | 6/360 [15:27<14:52:19, 151.24s/it]"
     ]
    },
    {
     "name": "stdout",
     "output_type": "stream",
     "text": [
      "2021-05-06 14:18:56,425 - modnet - INFO - Preset #5 fitting finished, loss: 0.5183197855949402\n"
     ]
    },
    {
     "name": "stderr",
     "output_type": "stream",
     "text": [
      "  2%|▏         | 7/360 [15:28<10:24:47, 106.20s/it]"
     ]
    },
    {
     "name": "stdout",
     "output_type": "stream",
     "text": [
      "2021-05-06 14:19:07,815 - modnet - INFO - Preset #2 fitting finished, loss: 0.48898313045501707\n"
     ]
    },
    {
     "name": "stderr",
     "output_type": "stream",
     "text": [
      "  2%|▏         | 8/360 [15:39<7:35:47, 77.69s/it]  "
     ]
    },
    {
     "name": "stdout",
     "output_type": "stream",
     "text": [
      "2021-05-06 14:19:17,917 - modnet - INFO - Preset #10 fitting finished, loss: 0.4451515436172485\n"
     ]
    },
    {
     "name": "stderr",
     "output_type": "stream",
     "text": [
      "  2%|▎         | 9/360 [15:49<5:36:10, 57.46s/it]"
     ]
    },
    {
     "name": "stdout",
     "output_type": "stream",
     "text": [
      "2021-05-06 14:19:20,260 - modnet - INFO - Preset #8 fitting finished, loss: 0.5244898676872254\n"
     ]
    },
    {
     "name": "stderr",
     "output_type": "stream",
     "text": [
      "  3%|▎         | 10/360 [15:52<3:58:31, 40.89s/it]"
     ]
    },
    {
     "name": "stdout",
     "output_type": "stream",
     "text": [
      "2021-05-06 14:19:34,359 - modnet - INFO - Preset #10 fitting finished, loss: 0.37976265549659727\n"
     ]
    },
    {
     "name": "stderr",
     "output_type": "stream",
     "text": [
      "  3%|▎         | 11/360 [16:06<3:10:51, 32.81s/it]"
     ]
    },
    {
     "name": "stdout",
     "output_type": "stream",
     "text": [
      "2021-05-06 14:19:42,803 - modnet - INFO - Preset #4 fitting finished, loss: 0.4854787945747375\n"
     ]
    },
    {
     "name": "stderr",
     "output_type": "stream",
     "text": [
      "  3%|▎         | 12/360 [16:14<2:28:15, 25.56s/it]"
     ]
    },
    {
     "name": "stdout",
     "output_type": "stream",
     "text": [
      "2021-05-06 14:19:43,693 - modnet - INFO - Preset #3 fitting finished, loss: 0.4809840440750122\n"
     ]
    },
    {
     "name": "stderr",
     "output_type": "stream",
     "text": [
      "  4%|▎         | 13/360 [16:15<1:45:10, 18.19s/it]"
     ]
    },
    {
     "name": "stdout",
     "output_type": "stream",
     "text": [
      "2021-05-06 14:19:44,668 - modnet - INFO - Preset #4 fitting finished, loss: 0.5287039756774903\n"
     ]
    },
    {
     "name": "stderr",
     "output_type": "stream",
     "text": [
      "  4%|▍         | 14/360 [16:16<1:15:04, 13.02s/it]"
     ]
    },
    {
     "name": "stdout",
     "output_type": "stream",
     "text": [
      "2021-05-06 14:20:24,534 - modnet - INFO - Preset #5 fitting finished, loss: 0.3755814731121063\n"
     ]
    },
    {
     "name": "stderr",
     "output_type": "stream",
     "text": [
      "  4%|▍         | 15/360 [16:56<2:01:28, 21.13s/it]"
     ]
    },
    {
     "name": "stdout",
     "output_type": "stream",
     "text": [
      "2021-05-06 14:20:47,403 - modnet - INFO - Preset #5 fitting finished, loss: 0.49551305174827576\n"
     ]
    },
    {
     "name": "stderr",
     "output_type": "stream",
     "text": [
      "  4%|▍         | 16/360 [17:19<2:03:23, 21.52s/it]"
     ]
    },
    {
     "name": "stdout",
     "output_type": "stream",
     "text": [
      "2021-05-06 14:21:07,219 - modnet - INFO - Preset #2 fitting finished, loss: 0.5292290210723877\n"
     ]
    },
    {
     "name": "stderr",
     "output_type": "stream",
     "text": [
      "  5%|▍         | 17/360 [17:39<2:00:25, 21.06s/it]"
     ]
    },
    {
     "name": "stdout",
     "output_type": "stream",
     "text": [
      "2021-05-06 14:21:09,192 - modnet - INFO - Preset #4 fitting finished, loss: 0.4557767152786255\n"
     ]
    },
    {
     "name": "stderr",
     "output_type": "stream",
     "text": [
      "  5%|▌         | 18/360 [17:41<1:27:21, 15.33s/it]"
     ]
    },
    {
     "name": "stdout",
     "output_type": "stream",
     "text": [
      "2021-05-06 14:21:27,968 - modnet - INFO - Preset #11 fitting finished, loss: 0.3769992709159851\n"
     ]
    },
    {
     "name": "stderr",
     "output_type": "stream",
     "text": [
      "  5%|▌         | 19/360 [17:59<1:32:56, 16.35s/it]"
     ]
    },
    {
     "name": "stdout",
     "output_type": "stream",
     "text": [
      "2021-05-06 14:21:40,443 - modnet - INFO - Preset #8 fitting finished, loss: 0.4185455679893494\n"
     ]
    },
    {
     "name": "stderr",
     "output_type": "stream",
     "text": [
      "  6%|▌         | 20/360 [18:12<1:26:08, 15.20s/it]"
     ]
    },
    {
     "name": "stdout",
     "output_type": "stream",
     "text": [
      "2021-05-06 14:21:42,124 - modnet - INFO - Preset #4 fitting finished, loss: 0.42169979214668274\n"
     ]
    },
    {
     "name": "stderr",
     "output_type": "stream",
     "text": [
      "  6%|▌         | 21/360 [18:13<1:02:53, 11.13s/it]"
     ]
    },
    {
     "name": "stdout",
     "output_type": "stream",
     "text": [
      "2021-05-06 14:21:43,864 - modnet - INFO - Preset #2 fitting finished, loss: 0.46112539172172545\n"
     ]
    },
    {
     "name": "stderr",
     "output_type": "stream",
     "text": [
      "  6%|▌         | 22/360 [18:15<46:35,  8.27s/it]  "
     ]
    },
    {
     "name": "stdout",
     "output_type": "stream",
     "text": [
      "2021-05-06 14:21:52,761 - modnet - INFO - Preset #5 fitting finished, loss: 0.4227639675140381\n"
     ]
    },
    {
     "name": "stderr",
     "output_type": "stream",
     "text": [
      "  6%|▋         | 23/360 [18:25<48:38,  8.66s/it]"
     ]
    },
    {
     "name": "stdout",
     "output_type": "stream",
     "text": [
      "2021-05-06 14:21:54,541 - modnet - INFO - Preset #8 fitting finished, loss: 0.46098453402519224\n"
     ]
    },
    {
     "name": "stderr",
     "output_type": "stream",
     "text": [
      "  7%|▋         | 24/360 [18:26<36:58,  6.60s/it]"
     ]
    },
    {
     "name": "stdout",
     "output_type": "stream",
     "text": [
      "2021-05-06 14:22:07,298 - modnet - INFO - Preset #3 fitting finished, loss: 0.3764504611492157\n"
     ]
    },
    {
     "name": "stderr",
     "output_type": "stream",
     "text": [
      "  7%|▋         | 25/360 [18:39<47:08,  8.44s/it]"
     ]
    },
    {
     "name": "stdout",
     "output_type": "stream",
     "text": [
      "2021-05-06 14:22:16,608 - modnet - INFO - Preset #3 fitting finished, loss: 0.4465905249118805\n"
     ]
    },
    {
     "name": "stderr",
     "output_type": "stream",
     "text": [
      "  7%|▋         | 26/360 [18:49<49:36,  8.91s/it]"
     ]
    },
    {
     "name": "stdout",
     "output_type": "stream",
     "text": [
      "2021-05-06 14:22:40,350 - modnet - INFO - Preset #4 fitting finished, loss: 0.4019904136657715\n"
     ]
    },
    {
     "name": "stderr",
     "output_type": "stream",
     "text": [
      "  8%|▊         | 27/360 [19:13<1:13:56, 13.32s/it]"
     ]
    },
    {
     "name": "stdout",
     "output_type": "stream",
     "text": [
      "2021-05-06 14:22:46,545 - modnet - INFO - Preset #2 fitting finished, loss: 0.4212948679924011\n"
     ]
    },
    {
     "name": "stderr",
     "output_type": "stream",
     "text": [
      "  8%|▊         | 28/360 [19:19<1:01:12, 11.06s/it]"
     ]
    },
    {
     "name": "stdout",
     "output_type": "stream",
     "text": [
      "2021-05-06 14:23:00,690 - modnet - INFO - Preset #10 fitting finished, loss: 0.4702819764614105\n"
     ]
    },
    {
     "name": "stderr",
     "output_type": "stream",
     "text": [
      "  8%|▊         | 29/360 [19:33<1:06:14, 12.01s/it]"
     ]
    },
    {
     "name": "stdout",
     "output_type": "stream",
     "text": [
      "2021-05-06 14:23:07,512 - modnet - INFO - Preset #9 fitting finished, loss: 0.46736140847206115\n"
     ]
    },
    {
     "name": "stderr",
     "output_type": "stream",
     "text": [
      "  8%|▊         | 30/360 [19:45<1:06:05, 12.02s/it]"
     ]
    },
    {
     "name": "stdout",
     "output_type": "stream",
     "text": [
      "2021-05-06 14:23:41,756 - modnet - INFO - Preset #7 fitting finished, loss: 0.5552100896835327\n"
     ]
    },
    {
     "name": "stderr",
     "output_type": "stream",
     "text": [
      "  9%|▊         | 31/360 [20:14<1:33:45, 17.10s/it]"
     ]
    },
    {
     "name": "stdout",
     "output_type": "stream",
     "text": [
      "2021-05-06 14:23:54,020 - modnet - INFO - Preset #7 fitting finished, loss: 0.4432422876358032\n"
     ]
    },
    {
     "name": "stderr",
     "output_type": "stream",
     "text": [
      "  9%|▉         | 32/360 [20:26<1:25:56, 15.72s/it]"
     ]
    },
    {
     "name": "stdout",
     "output_type": "stream",
     "text": [
      "2021-05-06 14:23:57,904 - modnet - INFO - Preset #12 fitting finished, loss: 0.4906972348690033\n"
     ]
    },
    {
     "name": "stderr",
     "output_type": "stream",
     "text": [
      "  9%|▉         | 33/360 [20:30<1:06:17, 12.16s/it]"
     ]
    },
    {
     "name": "stdout",
     "output_type": "stream",
     "text": [
      "2021-05-06 14:24:12,957 - modnet - INFO - Preset #1 fitting finished, loss: 0.4029059648513794\n"
     ]
    },
    {
     "name": "stderr",
     "output_type": "stream",
     "text": [
      "  9%|▉         | 34/360 [20:45<1:10:20, 12.95s/it]"
     ]
    },
    {
     "name": "stdout",
     "output_type": "stream",
     "text": [
      "2021-05-06 14:24:17,604 - modnet - INFO - Preset #9 fitting finished, loss: 0.4521121382713318\n"
     ]
    },
    {
     "name": "stderr",
     "output_type": "stream",
     "text": [
      " 10%|▉         | 35/360 [20:49<56:28, 10.43s/it]  "
     ]
    },
    {
     "name": "stdout",
     "output_type": "stream",
     "text": [
      "2021-05-06 14:24:32,943 - modnet - INFO - Preset #10 fitting finished, loss: 0.4369898200035095\n"
     ]
    },
    {
     "name": "stderr",
     "output_type": "stream",
     "text": [
      " 10%|█         | 36/360 [21:05<1:04:28, 11.94s/it]"
     ]
    },
    {
     "name": "stdout",
     "output_type": "stream",
     "text": [
      "2021-05-06 14:24:37,960 - modnet - INFO - Preset #11 fitting finished, loss: 0.4239541292190552\n"
     ]
    },
    {
     "name": "stderr",
     "output_type": "stream",
     "text": [
      " 10%|█         | 37/360 [21:10<52:42,  9.79s/it]  "
     ]
    },
    {
     "name": "stdout",
     "output_type": "stream",
     "text": [
      "2021-05-06 14:24:39,908 - modnet - INFO - Preset #6 fitting finished, loss: 0.485041880607605\n"
     ]
    },
    {
     "name": "stderr",
     "output_type": "stream",
     "text": [
      " 11%|█         | 38/360 [21:12<40:31,  7.55s/it]"
     ]
    },
    {
     "name": "stdout",
     "output_type": "stream",
     "text": [
      "2021-05-06 14:24:44,701 - modnet - INFO - Preset #11 fitting finished, loss: 0.47362848520278933\n"
     ]
    },
    {
     "name": "stderr",
     "output_type": "stream",
     "text": [
      " 11%|█         | 39/360 [21:17<35:35,  6.65s/it]"
     ]
    },
    {
     "name": "stdout",
     "output_type": "stream",
     "text": [
      "2021-05-06 14:24:47,731 - modnet - INFO - Preset #11 fitting finished, loss: 0.49116299748420716\n"
     ]
    },
    {
     "name": "stderr",
     "output_type": "stream",
     "text": [
      " 11%|█         | 40/360 [21:20<29:42,  5.57s/it]"
     ]
    },
    {
     "name": "stdout",
     "output_type": "stream",
     "text": [
      "2021-05-06 14:24:53,008 - modnet - INFO - Preset #6 fitting finished, loss: 0.4930854678153992\n"
     ]
    },
    {
     "name": "stderr",
     "output_type": "stream",
     "text": [
      " 11%|█▏        | 41/360 [21:25<29:15,  5.50s/it]"
     ]
    },
    {
     "name": "stdout",
     "output_type": "stream",
     "text": [
      "2021-05-06 14:24:55,123 - modnet - INFO - Preset #12 fitting finished, loss: 0.41117056608200075\n"
     ]
    },
    {
     "name": "stderr",
     "output_type": "stream",
     "text": [
      " 12%|█▏        | 42/360 [21:27<24:03,  4.54s/it]"
     ]
    },
    {
     "name": "stdout",
     "output_type": "stream",
     "text": [
      "2021-05-06 14:25:09,200 - modnet - INFO - Preset #3 fitting finished, loss: 0.5197626292705536\n"
     ]
    },
    {
     "name": "stderr",
     "output_type": "stream",
     "text": [
      " 12%|█▏        | 43/360 [21:41<38:38,  7.31s/it]"
     ]
    },
    {
     "name": "stdout",
     "output_type": "stream",
     "text": [
      "2021-05-06 14:25:15,969 - modnet - INFO - Preset #9 fitting finished, loss: 0.3663517892360687\n"
     ]
    },
    {
     "name": "stderr",
     "output_type": "stream",
     "text": [
      " 12%|█▏        | 44/360 [21:48<37:47,  7.18s/it]"
     ]
    },
    {
     "name": "stdout",
     "output_type": "stream",
     "text": [
      "2021-05-06 14:25:40,667 - modnet - INFO - Preset #9 fitting finished, loss: 0.5111997723579407\n"
     ]
    },
    {
     "name": "stderr",
     "output_type": "stream",
     "text": [
      " 12%|█▎        | 45/360 [22:12<1:05:06, 12.40s/it]"
     ]
    },
    {
     "name": "stdout",
     "output_type": "stream",
     "text": [
      "2021-05-06 14:25:46,188 - modnet - INFO - Preset #7 fitting finished, loss: 0.3939599096775055\n"
     ]
    },
    {
     "name": "stderr",
     "output_type": "stream",
     "text": [
      " 13%|█▎        | 46/360 [22:18<54:16, 10.37s/it]  "
     ]
    },
    {
     "name": "stdout",
     "output_type": "stream",
     "text": [
      "2021-05-06 14:26:13,982 - modnet - INFO - Preset #9 fitting finished, loss: 0.4172562837600708\n"
     ]
    },
    {
     "name": "stderr",
     "output_type": "stream",
     "text": [
      " 13%|█▎        | 47/360 [22:46<1:21:39, 15.65s/it]"
     ]
    },
    {
     "name": "stdout",
     "output_type": "stream",
     "text": [
      "2021-05-06 14:26:24,564 - modnet - INFO - Preset #3 fitting finished, loss: 0.41295507550239563\n"
     ]
    },
    {
     "name": "stderr",
     "output_type": "stream",
     "text": [
      " 13%|█▎        | 48/360 [22:56<1:13:10, 14.07s/it]"
     ]
    },
    {
     "name": "stdout",
     "output_type": "stream",
     "text": [
      "2021-05-06 14:26:44,700 - modnet - INFO - Preset #12 fitting finished, loss: 0.406458306312561\n"
     ]
    },
    {
     "name": "stderr",
     "output_type": "stream",
     "text": [
      " 14%|█▎        | 49/360 [23:17<1:22:27, 15.91s/it]"
     ]
    },
    {
     "name": "stdout",
     "output_type": "stream",
     "text": [
      "2021-05-06 14:27:31,258 - modnet - INFO - Preset #0 fitting finished, loss: 0.4851668834686279\n"
     ]
    },
    {
     "name": "stderr",
     "output_type": "stream",
     "text": [
      " 14%|█▍        | 50/360 [24:03<2:09:45, 25.12s/it]"
     ]
    },
    {
     "name": "stdout",
     "output_type": "stream",
     "text": [
      "2021-05-06 14:28:11,701 - modnet - INFO - Preset #0 fitting finished, loss: 0.44327312111854555\n"
     ]
    },
    {
     "name": "stderr",
     "output_type": "stream",
     "text": [
      " 14%|█▍        | 51/360 [24:44<2:33:09, 29.74s/it]"
     ]
    },
    {
     "name": "stdout",
     "output_type": "stream",
     "text": [
      "2021-05-06 14:28:23,431 - modnet - INFO - Preset #1 fitting finished, loss: 0.4958595335483551\n"
     ]
    },
    {
     "name": "stderr",
     "output_type": "stream",
     "text": [
      " 14%|█▍        | 52/360 [24:55<2:04:46, 24.31s/it]"
     ]
    },
    {
     "name": "stdout",
     "output_type": "stream",
     "text": [
      "2021-05-06 14:28:26,643 - modnet - INFO - Preset #7 fitting finished, loss: 0.4757459282875061\n"
     ]
    },
    {
     "name": "stderr",
     "output_type": "stream",
     "text": [
      " 15%|█▍        | 53/360 [24:59<1:31:50, 17.95s/it]"
     ]
    },
    {
     "name": "stdout",
     "output_type": "stream",
     "text": [
      "2021-05-06 14:28:48,272 - modnet - INFO - Preset #12 fitting finished, loss: 0.4720185875892639\n"
     ]
    },
    {
     "name": "stderr",
     "output_type": "stream",
     "text": [
      " 15%|█▌        | 54/360 [25:20<1:37:15, 19.07s/it]"
     ]
    },
    {
     "name": "stdout",
     "output_type": "stream",
     "text": [
      "2021-05-06 14:29:06,014 - modnet - INFO - Preset #1 fitting finished, loss: 0.42753292322158815\n"
     ]
    },
    {
     "name": "stderr",
     "output_type": "stream",
     "text": [
      " 15%|█▌        | 55/360 [25:38<1:34:43, 18.63s/it]"
     ]
    },
    {
     "name": "stdout",
     "output_type": "stream",
     "text": [
      "2021-05-06 14:29:11,649 - modnet - INFO - Preset #0 fitting finished, loss: 0.4827661097049713\n"
     ]
    },
    {
     "name": "stderr",
     "output_type": "stream",
     "text": [
      " 16%|█▌        | 56/360 [25:43<1:14:22, 14.68s/it]"
     ]
    },
    {
     "name": "stdout",
     "output_type": "stream",
     "text": [
      "2021-05-06 14:29:29,084 - modnet - INFO - Preset #0 fitting finished, loss: 0.4051146447658539\n"
     ]
    },
    {
     "name": "stderr",
     "output_type": "stream",
     "text": [
      " 16%|█▌        | 57/360 [26:01<1:18:30, 15.55s/it]"
     ]
    },
    {
     "name": "stdout",
     "output_type": "stream",
     "text": [
      "2021-05-06 14:29:44,915 - modnet - INFO - Preset #6 fitting finished, loss: 0.543050754070282\n"
     ]
    },
    {
     "name": "stderr",
     "output_type": "stream",
     "text": [
      " 16%|█▌        | 58/360 [26:17<1:18:42, 15.64s/it]"
     ]
    },
    {
     "name": "stdout",
     "output_type": "stream",
     "text": [
      "2021-05-06 14:29:49,951 - modnet - INFO - Preset #14 fitting finished, loss: 0.3980135560035706\n"
     ]
    },
    {
     "name": "stderr",
     "output_type": "stream",
     "text": [
      " 16%|█▋        | 59/360 [26:22<1:02:34, 12.47s/it]"
     ]
    },
    {
     "name": "stdout",
     "output_type": "stream",
     "text": [
      "2021-05-06 14:30:23,364 - modnet - INFO - Preset #7 fitting finished, loss: 0.49566726088523866\n"
     ]
    },
    {
     "name": "stderr",
     "output_type": "stream",
     "text": [
      " 17%|█▋        | 60/360 [26:55<1:33:46, 18.75s/it]"
     ]
    },
    {
     "name": "stdout",
     "output_type": "stream",
     "text": [
      "2021-05-06 14:30:31,403 - modnet - INFO - Preset #0 fitting finished, loss: 0.5423882365226745\n"
     ]
    },
    {
     "name": "stderr",
     "output_type": "stream",
     "text": [
      " 17%|█▋        | 61/360 [27:03<1:17:42, 15.59s/it]"
     ]
    },
    {
     "name": "stdout",
     "output_type": "stream",
     "text": [
      "2021-05-06 14:30:32,976 - modnet - INFO - Preset #6 fitting finished, loss: 0.421095472574234\n"
     ]
    },
    {
     "name": "stderr",
     "output_type": "stream",
     "text": [
      " 17%|█▋        | 62/360 [27:05<55:50, 11.24s/it]  "
     ]
    },
    {
     "name": "stdout",
     "output_type": "stream",
     "text": [
      "2021-05-06 14:30:50,885 - modnet - INFO - Preset #1 fitting finished, loss: 0.49493499398231505\n"
     ]
    },
    {
     "name": "stderr",
     "output_type": "stream",
     "text": [
      " 18%|█▊        | 63/360 [27:23<1:05:50, 13.30s/it]"
     ]
    },
    {
     "name": "stdout",
     "output_type": "stream",
     "text": [
      "2021-05-06 14:30:55,224 - modnet - INFO - Preset #1 fitting finished, loss: 0.5368894934654236\n"
     ]
    },
    {
     "name": "stderr",
     "output_type": "stream",
     "text": [
      " 18%|█▊        | 64/360 [27:27<52:47, 10.70s/it]  "
     ]
    },
    {
     "name": "stdout",
     "output_type": "stream",
     "text": [
      "2021-05-06 14:31:08,392 - modnet - INFO - Preset #6 fitting finished, loss: 0.4208867967128754\n"
     ]
    },
    {
     "name": "stderr",
     "output_type": "stream",
     "text": [
      " 18%|█▊        | 65/360 [27:40<55:46, 11.34s/it]"
     ]
    },
    {
     "name": "stdout",
     "output_type": "stream",
     "text": [
      "2021-05-06 14:31:34,915 - modnet - INFO - Preset #16 fitting finished, loss: 0.4392221748828888\n"
     ]
    },
    {
     "name": "stderr",
     "output_type": "stream",
     "text": [
      " 18%|█▊        | 66/360 [28:07<1:18:22, 15.99s/it]"
     ]
    },
    {
     "name": "stdout",
     "output_type": "stream",
     "text": [
      "2021-05-06 14:31:36,524 - modnet - INFO - Preset #17 fitting finished, loss: 0.38631951212883\n"
     ]
    },
    {
     "name": "stderr",
     "output_type": "stream",
     "text": [
      " 19%|█▊        | 67/360 [28:09<57:02, 11.68s/it]  "
     ]
    },
    {
     "name": "stdout",
     "output_type": "stream",
     "text": [
      "2021-05-06 14:31:47,956 - modnet - INFO - Preset #15 fitting finished, loss: 0.42869565486907957\n"
     ]
    },
    {
     "name": "stderr",
     "output_type": "stream",
     "text": [
      " 19%|█▉        | 68/360 [28:20<55:59, 11.50s/it]"
     ]
    },
    {
     "name": "stdout",
     "output_type": "stream",
     "text": [
      "2021-05-06 14:31:58,320 - modnet - INFO - Preset #14 fitting finished, loss: 0.48800172805786135\n"
     ]
    },
    {
     "name": "stderr",
     "output_type": "stream",
     "text": [
      " 19%|█▉        | 69/360 [28:30<54:25, 11.22s/it]"
     ]
    },
    {
     "name": "stdout",
     "output_type": "stream",
     "text": [
      "2021-05-06 14:32:10,457 - modnet - INFO - Preset #16 fitting finished, loss: 0.46228158473968506\n"
     ]
    },
    {
     "name": "stderr",
     "output_type": "stream",
     "text": [
      " 19%|█▉        | 70/360 [28:42<55:20, 11.45s/it]"
     ]
    },
    {
     "name": "stdout",
     "output_type": "stream",
     "text": [
      "2021-05-06 14:32:34,323 - modnet - INFO - Preset #12 fitting finished, loss: 0.5691975593566895\n"
     ]
    },
    {
     "name": "stderr",
     "output_type": "stream",
     "text": [
      " 20%|█▉        | 71/360 [29:06<1:13:12, 15.20s/it]"
     ]
    },
    {
     "name": "stdout",
     "output_type": "stream",
     "text": [
      "2021-05-06 14:32:53,358 - modnet - INFO - Preset #14 fitting finished, loss: 0.47285664081573486\n"
     ]
    },
    {
     "name": "stderr",
     "output_type": "stream",
     "text": [
      " 20%|██        | 72/360 [29:25<1:18:31, 16.36s/it]"
     ]
    },
    {
     "name": "stdout",
     "output_type": "stream",
     "text": [
      "2021-05-06 14:33:36,301 - modnet - INFO - Preset #15 fitting finished, loss: 0.47159565687179567\n"
     ]
    },
    {
     "name": "stderr",
     "output_type": "stream",
     "text": [
      " 20%|██        | 73/360 [30:08<1:56:16, 24.31s/it]"
     ]
    },
    {
     "name": "stdout",
     "output_type": "stream",
     "text": [
      "2021-05-06 14:33:51,435 - modnet - INFO - Preset #16 fitting finished, loss: 0.39445756673812865\n"
     ]
    },
    {
     "name": "stderr",
     "output_type": "stream",
     "text": [
      " 21%|██        | 74/360 [30:23<1:42:45, 21.56s/it]"
     ]
    },
    {
     "name": "stdout",
     "output_type": "stream",
     "text": [
      "2021-05-06 14:34:13,033 - modnet - INFO - Preset #16 fitting finished, loss: 0.524295312166214\n"
     ]
    },
    {
     "name": "stderr",
     "output_type": "stream",
     "text": [
      " 21%|██        | 75/360 [30:45<1:42:25, 21.56s/it]"
     ]
    },
    {
     "name": "stdout",
     "output_type": "stream",
     "text": [
      "2021-05-06 14:34:14,321 - modnet - INFO - Preset #16 fitting finished, loss: 0.49141420125961305\n"
     ]
    },
    {
     "name": "stderr",
     "output_type": "stream",
     "text": [
      " 21%|██        | 76/360 [30:46<1:13:21, 15.50s/it]"
     ]
    },
    {
     "name": "stdout",
     "output_type": "stream",
     "text": [
      "2021-05-06 14:35:08,321 - modnet - INFO - Preset #15 fitting finished, loss: 0.47498526573181155\n"
     ]
    },
    {
     "name": "stderr",
     "output_type": "stream",
     "text": [
      " 21%|██▏       | 77/360 [31:40<2:07:34, 27.05s/it]"
     ]
    },
    {
     "name": "stdout",
     "output_type": "stream",
     "text": [
      "2021-05-06 14:35:25,081 - modnet - INFO - Preset #13 fitting finished, loss: 0.5009188234806061\n"
     ]
    },
    {
     "name": "stderr",
     "output_type": "stream",
     "text": [
      " 22%|██▏       | 78/360 [31:57<1:52:42, 23.98s/it]"
     ]
    },
    {
     "name": "stdout",
     "output_type": "stream",
     "text": [
      "2021-05-06 14:35:27,641 - modnet - INFO - Preset #18 fitting finished, loss: 0.5492740273475647\n"
     ]
    },
    {
     "name": "stderr",
     "output_type": "stream",
     "text": [
      " 22%|██▏       | 79/360 [32:00<1:22:16, 17.57s/it]"
     ]
    },
    {
     "name": "stdout",
     "output_type": "stream",
     "text": [
      "2021-05-06 14:35:39,354 - modnet - INFO - Preset #21 fitting finished, loss: 0.5385522246360779\n"
     ]
    },
    {
     "name": "stderr",
     "output_type": "stream",
     "text": [
      " 22%|██▏       | 80/360 [32:11<1:13:46, 15.81s/it]"
     ]
    },
    {
     "name": "stdout",
     "output_type": "stream",
     "text": [
      "2021-05-06 14:35:42,718 - modnet - INFO - Preset #20 fitting finished, loss: 0.5333544850349426\n"
     ]
    },
    {
     "name": "stderr",
     "output_type": "stream",
     "text": [
      " 22%|██▎       | 81/360 [32:15<55:58, 12.04s/it]  "
     ]
    },
    {
     "name": "stdout",
     "output_type": "stream",
     "text": [
      "2021-05-06 14:35:44,038 - modnet - INFO - Preset #20 fitting finished, loss: 0.3685062289237976\n"
     ]
    },
    {
     "name": "stderr",
     "output_type": "stream",
     "text": [
      " 23%|██▎       | 82/360 [32:16<41:11,  8.89s/it]"
     ]
    },
    {
     "name": "stdout",
     "output_type": "stream",
     "text": [
      "2021-05-06 14:36:04,588 - modnet - INFO - Preset #20 fitting finished, loss: 0.4194925010204315\n"
     ]
    },
    {
     "name": "stderr",
     "output_type": "stream",
     "text": [
      " 23%|██▎       | 83/360 [32:37<57:05, 12.37s/it]"
     ]
    },
    {
     "name": "stdout",
     "output_type": "stream",
     "text": [
      "2021-05-06 14:36:11,082 - modnet - INFO - Preset #17 fitting finished, loss: 0.41580002903938296\n"
     ]
    },
    {
     "name": "stderr",
     "output_type": "stream",
     "text": [
      " 23%|██▎       | 84/360 [32:43<48:38, 10.57s/it]"
     ]
    },
    {
     "name": "stdout",
     "output_type": "stream",
     "text": [
      "2021-05-06 14:36:20,322 - modnet - INFO - Preset #17 fitting finished, loss: 0.499771511554718\n"
     ]
    },
    {
     "name": "stderr",
     "output_type": "stream",
     "text": [
      " 24%|██▎       | 85/360 [32:52<46:39, 10.18s/it]"
     ]
    },
    {
     "name": "stdout",
     "output_type": "stream",
     "text": [
      "2021-05-06 14:36:27,559 - modnet - INFO - Preset #20 fitting finished, loss: 0.46455374360084534\n"
     ]
    },
    {
     "name": "stderr",
     "output_type": "stream",
     "text": [
      " 24%|██▍       | 86/360 [32:59<42:27,  9.30s/it]"
     ]
    },
    {
     "name": "stdout",
     "output_type": "stream",
     "text": [
      "2021-05-06 14:36:33,333 - modnet - INFO - Preset #13 fitting finished, loss: 0.41831339001655576\n"
     ]
    },
    {
     "name": "stderr",
     "output_type": "stream",
     "text": [
      " 24%|██▍       | 87/360 [33:05<37:47,  8.31s/it]"
     ]
    },
    {
     "name": "stdout",
     "output_type": "stream",
     "text": [
      "2021-05-06 14:36:36,282 - modnet - INFO - Preset #21 fitting finished, loss: 0.47916504740715027\n"
     ]
    },
    {
     "name": "stderr",
     "output_type": "stream",
     "text": [
      " 24%|██▍       | 88/360 [33:08<30:11,  6.66s/it]"
     ]
    },
    {
     "name": "stdout",
     "output_type": "stream",
     "text": [
      "2021-05-06 14:36:45,318 - modnet - INFO - Preset #19 fitting finished, loss: 0.36399644017219546\n"
     ]
    },
    {
     "name": "stderr",
     "output_type": "stream",
     "text": [
      " 25%|██▍       | 89/360 [33:18<33:36,  7.44s/it]"
     ]
    },
    {
     "name": "stdout",
     "output_type": "stream",
     "text": [
      "2021-05-06 14:37:01,050 - modnet - INFO - Preset #14 fitting finished, loss: 0.4224002420902252\n"
     ]
    },
    {
     "name": "stderr",
     "output_type": "stream",
     "text": [
      " 25%|██▌       | 90/360 [33:33<44:28,  9.88s/it]"
     ]
    },
    {
     "name": "stdout",
     "output_type": "stream",
     "text": [
      "2021-05-06 14:37:29,940 - modnet - INFO - Preset #17 fitting finished, loss: 0.536701774597168\n"
     ]
    },
    {
     "name": "stderr",
     "output_type": "stream",
     "text": [
      " 25%|██▌       | 91/360 [34:02<1:09:28, 15.50s/it]"
     ]
    },
    {
     "name": "stdout",
     "output_type": "stream",
     "text": [
      "2021-05-06 14:37:37,233 - modnet - INFO - Preset #13 fitting finished, loss: 0.5709866404533386\n"
     ]
    },
    {
     "name": "stderr",
     "output_type": "stream",
     "text": [
      " 26%|██▌       | 92/360 [34:09<58:18, 13.05s/it]  "
     ]
    },
    {
     "name": "stdout",
     "output_type": "stream",
     "text": [
      "2021-05-06 14:37:53,518 - modnet - INFO - Preset #18 fitting finished, loss: 0.3610502779483795\n"
     ]
    },
    {
     "name": "stderr",
     "output_type": "stream",
     "text": [
      " 26%|██▌       | 93/360 [34:25<1:02:27, 14.03s/it]"
     ]
    },
    {
     "name": "stdout",
     "output_type": "stream",
     "text": [
      "2021-05-06 14:38:24,413 - modnet - INFO - Preset #19 fitting finished, loss: 0.4060925841331482\n"
     ]
    },
    {
     "name": "stderr",
     "output_type": "stream",
     "text": [
      " 26%|██▌       | 94/360 [34:56<1:24:49, 19.13s/it]"
     ]
    },
    {
     "name": "stdout",
     "output_type": "stream",
     "text": [
      "2021-05-06 14:38:40,246 - modnet - INFO - Preset #15 fitting finished, loss: 0.4078831851482391\n"
     ]
    },
    {
     "name": "stderr",
     "output_type": "stream",
     "text": [
      " 26%|██▋       | 95/360 [35:18<1:28:01, 19.93s/it]"
     ]
    },
    {
     "name": "stdout",
     "output_type": "stream",
     "text": [
      "2021-05-06 14:38:51,704 - modnet - INFO - Preset #15 fitting finished, loss: 0.5201021075248718\n"
     ]
    },
    {
     "name": "stderr",
     "output_type": "stream",
     "text": [
      " 27%|██▋       | 96/360 [35:24<1:08:50, 15.65s/it]"
     ]
    },
    {
     "name": "stdout",
     "output_type": "stream",
     "text": [
      "2021-05-06 14:38:59,527 - modnet - INFO - Preset #22 fitting finished, loss: 0.4296789109706879\n"
     ]
    },
    {
     "name": "stderr",
     "output_type": "stream",
     "text": [
      " 27%|██▋       | 97/360 [35:32<58:10, 13.27s/it]  "
     ]
    },
    {
     "name": "stdout",
     "output_type": "stream",
     "text": [
      "2021-05-06 14:39:18,853 - modnet - INFO - Preset #18 fitting finished, loss: 0.3889481544494629\n"
     ]
    },
    {
     "name": "stderr",
     "output_type": "stream",
     "text": [
      " 27%|██▋       | 98/360 [35:51<1:05:58, 15.11s/it]"
     ]
    },
    {
     "name": "stdout",
     "output_type": "stream",
     "text": [
      "2021-05-06 14:39:42,283 - modnet - INFO - Preset #21 fitting finished, loss: 0.4256511390209198\n"
     ]
    },
    {
     "name": "stderr",
     "output_type": "stream",
     "text": [
      " 28%|██▊       | 99/360 [36:14<1:16:08, 17.50s/it]"
     ]
    },
    {
     "name": "stdout",
     "output_type": "stream",
     "text": [
      "2021-05-06 14:39:49,774 - modnet - INFO - Preset #19 fitting finished, loss: 0.4755231559276581\n"
     ]
    },
    {
     "name": "stderr",
     "output_type": "stream",
     "text": [
      " 28%|██▊       | 100/360 [36:22<1:02:57, 14.53s/it]"
     ]
    },
    {
     "name": "stdout",
     "output_type": "stream",
     "text": [
      "2021-05-06 14:40:13,219 - modnet - INFO - Preset #21 fitting finished, loss: 0.449056476354599\n"
     ]
    },
    {
     "name": "stderr",
     "output_type": "stream",
     "text": [
      " 28%|██▊       | 101/360 [36:45<1:14:43, 17.31s/it]"
     ]
    },
    {
     "name": "stdout",
     "output_type": "stream",
     "text": [
      "2021-05-06 14:40:14,964 - modnet - INFO - Preset #18 fitting finished, loss: 0.47103660106658934\n"
     ]
    },
    {
     "name": "stderr",
     "output_type": "stream",
     "text": [
      " 28%|██▊       | 102/360 [36:47<54:22, 12.65s/it]  "
     ]
    },
    {
     "name": "stdout",
     "output_type": "stream",
     "text": [
      "2021-05-06 14:40:17,257 - modnet - INFO - Preset #24 fitting finished, loss: 0.481525057554245\n"
     ]
    },
    {
     "name": "stderr",
     "output_type": "stream",
     "text": [
      " 29%|██▊       | 103/360 [36:49<40:29,  9.46s/it]"
     ]
    },
    {
     "name": "stdout",
     "output_type": "stream",
     "text": [
      "2021-05-06 14:40:25,315 - modnet - INFO - Preset #18 fitting finished, loss: 0.4748580396175385\n"
     ]
    },
    {
     "name": "stderr",
     "output_type": "stream",
     "text": [
      " 29%|██▉       | 104/360 [36:58<38:56,  9.13s/it]"
     ]
    },
    {
     "name": "stdout",
     "output_type": "stream",
     "text": [
      "2021-05-06 14:40:34,352 - modnet - INFO - Preset #14 fitting finished, loss: 0.5114101588726043\n"
     ]
    },
    {
     "name": "stderr",
     "output_type": "stream",
     "text": [
      " 29%|██▉       | 105/360 [37:06<38:07,  8.97s/it]"
     ]
    },
    {
     "name": "stdout",
     "output_type": "stream",
     "text": [
      "2021-05-06 14:40:51,047 - modnet - INFO - Preset #22 fitting finished, loss: 0.49321027398109435\n"
     ]
    },
    {
     "name": "stderr",
     "output_type": "stream",
     "text": [
      " 29%|██▉       | 106/360 [37:23<48:02, 11.35s/it]"
     ]
    },
    {
     "name": "stdout",
     "output_type": "stream",
     "text": [
      "2021-05-06 14:40:58,847 - modnet - INFO - Preset #17 fitting finished, loss: 0.4773005485534668\n"
     ]
    },
    {
     "name": "stderr",
     "output_type": "stream",
     "text": [
      " 30%|██▉       | 107/360 [37:31<43:08, 10.23s/it]"
     ]
    },
    {
     "name": "stdout",
     "output_type": "stream",
     "text": [
      "2021-05-06 14:41:00,277 - modnet - INFO - Preset #13 fitting finished, loss: 0.43262016773223877\n"
     ]
    },
    {
     "name": "stderr",
     "output_type": "stream",
     "text": [
      " 30%|███       | 108/360 [37:32<32:04,  7.64s/it]"
     ]
    },
    {
     "name": "stdout",
     "output_type": "stream",
     "text": [
      "2021-05-06 14:41:08,854 - modnet - INFO - Preset #22 fitting finished, loss: 0.5318370342254639\n"
     ]
    },
    {
     "name": "stderr",
     "output_type": "stream",
     "text": [
      " 30%|███       | 109/360 [37:41<32:58,  7.88s/it]"
     ]
    },
    {
     "name": "stdout",
     "output_type": "stream",
     "text": [
      "2021-05-06 14:41:49,799 - modnet - INFO - Preset #20 fitting finished, loss: 0.4690696358680725\n"
     ]
    },
    {
     "name": "stderr",
     "output_type": "stream",
     "text": [
      " 31%|███       | 110/360 [38:22<1:14:12, 17.81s/it]"
     ]
    },
    {
     "name": "stdout",
     "output_type": "stream",
     "text": [
      "2021-05-06 14:41:59,436 - modnet - INFO - Preset #19 fitting finished, loss: 0.5404759764671325\n"
     ]
    },
    {
     "name": "stderr",
     "output_type": "stream",
     "text": [
      " 31%|███       | 111/360 [38:31<1:03:54, 15.40s/it]"
     ]
    },
    {
     "name": "stdout",
     "output_type": "stream",
     "text": [
      "2021-05-06 14:42:16,403 - modnet - INFO - Preset #22 fitting finished, loss: 0.3759756624698639\n"
     ]
    },
    {
     "name": "stderr",
     "output_type": "stream",
     "text": [
      " 31%|███       | 112/360 [38:48<1:05:20, 15.81s/it]"
     ]
    },
    {
     "name": "stdout",
     "output_type": "stream",
     "text": [
      "2021-05-06 14:42:22,342 - modnet - INFO - Preset #23 fitting finished, loss: 0.48225152492523193\n"
     ]
    },
    {
     "name": "stderr",
     "output_type": "stream",
     "text": [
      " 31%|███▏      | 113/360 [38:54<53:15, 12.94s/it]  "
     ]
    },
    {
     "name": "stdout",
     "output_type": "stream",
     "text": [
      "2021-05-06 14:42:30,370 - modnet - INFO - Preset #21 fitting finished, loss: 0.3636150360107422\n"
     ]
    },
    {
     "name": "stderr",
     "output_type": "stream",
     "text": [
      " 32%|███▏      | 114/360 [39:02<46:51, 11.43s/it]"
     ]
    },
    {
     "name": "stdout",
     "output_type": "stream",
     "text": [
      "2021-05-06 14:42:35,926 - modnet - INFO - Preset #19 fitting finished, loss: 0.4842983245849609\n"
     ]
    },
    {
     "name": "stderr",
     "output_type": "stream",
     "text": [
      " 32%|███▏      | 115/360 [39:08<39:19,  9.63s/it]"
     ]
    },
    {
     "name": "stdout",
     "output_type": "stream",
     "text": [
      "2021-05-06 14:43:15,472 - modnet - INFO - Preset #26 fitting finished, loss: 0.48045091032981874\n"
     ]
    },
    {
     "name": "stderr",
     "output_type": "stream",
     "text": [
      " 32%|███▏      | 116/360 [39:48<1:16:04, 18.71s/it]"
     ]
    },
    {
     "name": "stdout",
     "output_type": "stream",
     "text": [
      "2021-05-06 14:43:21,762 - modnet - INFO - Preset #28 fitting finished, loss: 0.4188817322254181\n"
     ]
    },
    {
     "name": "stderr",
     "output_type": "stream",
     "text": [
      " 32%|███▎      | 117/360 [39:54<1:00:16, 14.88s/it]"
     ]
    },
    {
     "name": "stdout",
     "output_type": "stream",
     "text": [
      "2021-05-06 14:43:30,716 - modnet - INFO - Preset #26 fitting finished, loss: 0.528119969367981\n"
     ]
    },
    {
     "name": "stderr",
     "output_type": "stream",
     "text": [
      " 33%|███▎      | 118/360 [40:03<53:03, 13.15s/it]  "
     ]
    },
    {
     "name": "stdout",
     "output_type": "stream",
     "text": [
      "2021-05-06 14:43:55,464 - modnet - INFO - Preset #23 fitting finished, loss: 0.524469667673111\n"
     ]
    },
    {
     "name": "stderr",
     "output_type": "stream",
     "text": [
      " 33%|███▎      | 119/360 [40:27<1:06:42, 16.61s/it]"
     ]
    },
    {
     "name": "stdout",
     "output_type": "stream",
     "text": [
      "2021-05-06 14:44:03,899 - modnet - INFO - Preset #26 fitting finished, loss: 0.4202756404876709\n"
     ]
    },
    {
     "name": "stderr",
     "output_type": "stream",
     "text": [
      " 33%|███▎      | 120/360 [40:36<56:27, 14.11s/it]  "
     ]
    },
    {
     "name": "stdout",
     "output_type": "stream",
     "text": [
      "2021-05-06 14:44:27,380 - modnet - INFO - Preset #13 fitting finished, loss: 0.48474437594413755\n"
     ]
    },
    {
     "name": "stderr",
     "output_type": "stream",
     "text": [
      " 34%|███▎      | 121/360 [40:59<1:07:11, 16.87s/it]"
     ]
    },
    {
     "name": "stdout",
     "output_type": "stream",
     "text": [
      "2021-05-06 14:44:50,521 - modnet - INFO - Preset #27 fitting finished, loss: 0.5415348529815673\n"
     ]
    },
    {
     "name": "stderr",
     "output_type": "stream",
     "text": [
      " 34%|███▍      | 122/360 [41:22<1:14:22, 18.75s/it]"
     ]
    },
    {
     "name": "stdout",
     "output_type": "stream",
     "text": [
      "2021-05-06 14:45:05,123 - modnet - INFO - Preset #28 fitting finished, loss: 0.4421563923358917\n"
     ]
    },
    {
     "name": "stderr",
     "output_type": "stream",
     "text": [
      " 34%|███▍      | 123/360 [41:37<1:09:21, 17.56s/it]"
     ]
    },
    {
     "name": "stdout",
     "output_type": "stream",
     "text": [
      "2021-05-06 14:45:29,993 - modnet - INFO - Preset #22 fitting finished, loss: 0.42826624512672423\n"
     ]
    },
    {
     "name": "stderr",
     "output_type": "stream",
     "text": [
      " 34%|███▍      | 124/360 [42:02<1:17:48, 19.78s/it]"
     ]
    },
    {
     "name": "stdout",
     "output_type": "stream",
     "text": [
      "2021-05-06 14:45:37,076 - modnet - INFO - Preset #26 fitting finished, loss: 0.4382066011428833\n"
     ]
    },
    {
     "name": "stderr",
     "output_type": "stream",
     "text": [
      " 35%|███▍      | 125/360 [42:09<1:02:22, 15.93s/it]"
     ]
    },
    {
     "name": "stdout",
     "output_type": "stream",
     "text": [
      "2021-05-06 14:45:38,395 - modnet - INFO - Preset #25 fitting finished, loss: 0.5545691728591919\n"
     ]
    },
    {
     "name": "stderr",
     "output_type": "stream",
     "text": [
      " 35%|███▌      | 126/360 [42:10<45:11, 11.59s/it]  "
     ]
    },
    {
     "name": "stdout",
     "output_type": "stream",
     "text": [
      "2021-05-06 14:45:43,447 - modnet - INFO - Preset #28 fitting finished, loss: 0.5310028910636901\n"
     ]
    },
    {
     "name": "stderr",
     "output_type": "stream",
     "text": [
      " 35%|███▌      | 127/360 [42:15<37:18,  9.61s/it]"
     ]
    },
    {
     "name": "stdout",
     "output_type": "stream",
     "text": [
      "2021-05-06 14:45:58,543 - modnet - INFO - Preset #29 fitting finished, loss: 0.3617671012878418\n"
     ]
    },
    {
     "name": "stderr",
     "output_type": "stream",
     "text": [
      " 36%|███▌      | 128/360 [42:30<43:25, 11.23s/it]"
     ]
    },
    {
     "name": "stdout",
     "output_type": "stream",
     "text": [
      "2021-05-06 14:46:11,850 - modnet - INFO - Preset #23 fitting finished, loss: 0.4294476807117462\n"
     ]
    },
    {
     "name": "stderr",
     "output_type": "stream",
     "text": [
      " 36%|███▌      | 129/360 [42:44<46:03, 11.96s/it]"
     ]
    },
    {
     "name": "stdout",
     "output_type": "stream",
     "text": [
      "2021-05-06 14:46:18,783 - modnet - INFO - Preset #24 fitting finished, loss: 0.3576824128627777\n"
     ]
    },
    {
     "name": "stderr",
     "output_type": "stream",
     "text": [
      " 36%|███▌      | 130/360 [42:51<39:56, 10.42s/it]"
     ]
    },
    {
     "name": "stdout",
     "output_type": "stream",
     "text": [
      "2021-05-06 14:46:32,163 - modnet - INFO - Preset #27 fitting finished, loss: 0.44689337611198426\n"
     ]
    },
    {
     "name": "stderr",
     "output_type": "stream",
     "text": [
      " 36%|███▋      | 131/360 [43:04<42:53, 11.24s/it]"
     ]
    },
    {
     "name": "stdout",
     "output_type": "stream",
     "text": [
      "2021-05-06 14:46:40,898 - modnet - INFO - Preset #27 fitting finished, loss: 0.3626018285751343\n"
     ]
    },
    {
     "name": "stderr",
     "output_type": "stream",
     "text": [
      " 37%|███▋      | 132/360 [43:13<39:58, 10.52s/it]"
     ]
    },
    {
     "name": "stdout",
     "output_type": "stream",
     "text": [
      "2021-05-06 14:46:48,505 - modnet - INFO - Preset #24 fitting finished, loss: 0.552116847038269\n"
     ]
    },
    {
     "name": "stderr",
     "output_type": "stream",
     "text": [
      " 37%|███▋      | 133/360 [43:21<36:59,  9.78s/it]"
     ]
    },
    {
     "name": "stdout",
     "output_type": "stream",
     "text": [
      "2021-05-06 14:46:50,382 - modnet - INFO - Preset #23 fitting finished, loss: 0.3718935489654541\n"
     ]
    },
    {
     "name": "stderr",
     "output_type": "stream",
     "text": [
      " 37%|███▋      | 134/360 [43:22<27:17,  7.24s/it]"
     ]
    },
    {
     "name": "stdout",
     "output_type": "stream",
     "text": [
      "2021-05-06 14:47:24,924 - modnet - INFO - Preset #29 fitting finished, loss: 0.42147989869117736\n"
     ]
    },
    {
     "name": "stderr",
     "output_type": "stream",
     "text": [
      " 38%|███▊      | 135/360 [43:57<57:51, 15.43s/it]"
     ]
    },
    {
     "name": "stdout",
     "output_type": "stream",
     "text": [
      "2021-05-06 14:47:45,068 - modnet - INFO - Preset #29 fitting finished, loss: 0.53263840675354\n"
     ]
    },
    {
     "name": "stderr",
     "output_type": "stream",
     "text": [
      " 38%|███▊      | 136/360 [44:17<1:03:08, 16.91s/it]"
     ]
    },
    {
     "name": "stdout",
     "output_type": "stream",
     "text": [
      "2021-05-06 14:48:40,432 - modnet - INFO - Preset #23 fitting finished, loss: 0.41021704077720644\n"
     ]
    },
    {
     "name": "stderr",
     "output_type": "stream",
     "text": [
      " 38%|███▊      | 137/360 [45:12<1:45:31, 28.39s/it]"
     ]
    },
    {
     "name": "stdout",
     "output_type": "stream",
     "text": [
      "2021-05-06 14:48:43,008 - modnet - INFO - Preset #24 fitting finished, loss: 0.4603340983390808\n"
     ]
    },
    {
     "name": "stderr",
     "output_type": "stream",
     "text": [
      " 38%|███▊      | 138/360 [45:15<1:16:36, 20.70s/it]"
     ]
    },
    {
     "name": "stdout",
     "output_type": "stream",
     "text": [
      "2021-05-06 14:48:44,609 - modnet - INFO - Preset #28 fitting finished, loss: 0.47309362292289736\n"
     ]
    },
    {
     "name": "stderr",
     "output_type": "stream",
     "text": [
      " 39%|███▊      | 139/360 [45:17<55:29, 15.07s/it]  "
     ]
    },
    {
     "name": "stdout",
     "output_type": "stream",
     "text": [
      "2021-05-06 14:48:59,354 - modnet - INFO - Preset #27 fitting finished, loss: 0.42709550857543943\n"
     ]
    },
    {
     "name": "stderr",
     "output_type": "stream",
     "text": [
      " 39%|███▉      | 140/360 [45:31<54:38, 14.90s/it]"
     ]
    },
    {
     "name": "stdout",
     "output_type": "stream",
     "text": [
      "2021-05-06 14:49:04,829 - modnet - INFO - Preset #28 fitting finished, loss: 0.3754190862178802\n"
     ]
    },
    {
     "name": "stderr",
     "output_type": "stream",
     "text": [
      " 39%|███▉      | 141/360 [45:37<43:56, 12.04s/it]"
     ]
    },
    {
     "name": "stdout",
     "output_type": "stream",
     "text": [
      "2021-05-06 14:49:23,155 - modnet - INFO - Preset #26 fitting finished, loss: 0.37271531820297243\n"
     ]
    },
    {
     "name": "stderr",
     "output_type": "stream",
     "text": [
      " 39%|███▉      | 142/360 [45:55<50:40, 13.95s/it]"
     ]
    },
    {
     "name": "stdout",
     "output_type": "stream",
     "text": [
      "2021-05-06 14:49:51,059 - modnet - INFO - Preset #25 fitting finished, loss: 0.35835878252983094\n"
     ]
    },
    {
     "name": "stderr",
     "output_type": "stream",
     "text": [
      " 40%|███▉      | 143/360 [46:23<1:05:27, 18.10s/it]"
     ]
    },
    {
     "name": "stdout",
     "output_type": "stream",
     "text": [
      "2021-05-06 14:50:44,588 - modnet - INFO - Preset #29 fitting finished, loss: 0.49113147258758544\n"
     ]
    },
    {
     "name": "stderr",
     "output_type": "stream",
     "text": [
      " 40%|████      | 144/360 [47:16<1:43:19, 28.70s/it]"
     ]
    },
    {
     "name": "stdout",
     "output_type": "stream",
     "text": [
      "2021-05-06 14:50:59,082 - modnet - INFO - Preset #27 fitting finished, loss: 0.47526684403419495\n"
     ]
    },
    {
     "name": "stderr",
     "output_type": "stream",
     "text": [
      " 40%|████      | 145/360 [47:31<1:27:47, 24.50s/it]"
     ]
    },
    {
     "name": "stdout",
     "output_type": "stream",
     "text": [
      "2021-05-06 14:51:06,736 - modnet - INFO - Preset #32 fitting finished, loss: 0.5359568476676941\n"
     ]
    },
    {
     "name": "stderr",
     "output_type": "stream",
     "text": [
      " 41%|████      | 146/360 [47:39<1:09:20, 19.44s/it]"
     ]
    },
    {
     "name": "stdout",
     "output_type": "stream",
     "text": [
      "2021-05-06 14:51:25,948 - modnet - INFO - Preset #30 fitting finished, loss: 0.36708235144615176\n"
     ]
    },
    {
     "name": "stderr",
     "output_type": "stream",
     "text": [
      " 41%|████      | 147/360 [47:58<1:08:53, 19.41s/it]"
     ]
    },
    {
     "name": "stdout",
     "output_type": "stream",
     "text": [
      "2021-05-06 14:51:39,416 - modnet - INFO - Preset #25 fitting finished, loss: 0.4696502089500427\n"
     ]
    },
    {
     "name": "stderr",
     "output_type": "stream",
     "text": [
      " 41%|████      | 148/360 [48:11<1:02:06, 17.58s/it]"
     ]
    },
    {
     "name": "stdout",
     "output_type": "stream",
     "text": [
      "2021-05-06 14:51:41,621 - modnet - INFO - Preset #30 fitting finished, loss: 0.4312222540378571\n"
     ]
    },
    {
     "name": "stderr",
     "output_type": "stream",
     "text": [
      " 41%|████▏     | 149/360 [48:14<45:49, 13.03s/it]  "
     ]
    },
    {
     "name": "stdout",
     "output_type": "stream",
     "text": [
      "2021-05-06 14:51:43,380 - modnet - INFO - Preset #30 fitting finished, loss: 0.48214214444160464\n"
     ]
    },
    {
     "name": "stderr",
     "output_type": "stream",
     "text": [
      " 42%|████▏     | 150/360 [48:15<33:33,  9.59s/it]"
     ]
    },
    {
     "name": "stdout",
     "output_type": "stream",
     "text": [
      "2021-05-06 14:51:50,886 - modnet - INFO - Preset #34 fitting finished, loss: 0.47877210974693296\n"
     ]
    },
    {
     "name": "stderr",
     "output_type": "stream",
     "text": [
      " 42%|████▏     | 151/360 [48:23<31:34,  9.06s/it]"
     ]
    },
    {
     "name": "stdout",
     "output_type": "stream",
     "text": [
      "2021-05-06 14:51:55,002 - modnet - INFO - Preset #25 fitting finished, loss: 0.45654207468032837\n"
     ]
    },
    {
     "name": "stderr",
     "output_type": "stream",
     "text": [
      " 42%|████▏     | 152/360 [48:27<25:51,  7.46s/it]"
     ]
    },
    {
     "name": "stdout",
     "output_type": "stream",
     "text": [
      "2021-05-06 14:51:56,715 - modnet - INFO - Preset #33 fitting finished, loss: 0.4161488592624664\n"
     ]
    },
    {
     "name": "stderr",
     "output_type": "stream",
     "text": [
      " 42%|████▎     | 153/360 [48:29<20:09,  5.84s/it]"
     ]
    },
    {
     "name": "stdout",
     "output_type": "stream",
     "text": [
      "2021-05-06 14:52:07,310 - modnet - INFO - Preset #35 fitting finished, loss: 0.5304078578948974\n"
     ]
    },
    {
     "name": "stderr",
     "output_type": "stream",
     "text": [
      " 43%|████▎     | 154/360 [48:39<24:44,  7.20s/it]"
     ]
    },
    {
     "name": "stdout",
     "output_type": "stream",
     "text": [
      "2021-05-06 14:52:11,502 - modnet - INFO - Preset #29 fitting finished, loss: 0.4471392571926117\n"
     ]
    },
    {
     "name": "stderr",
     "output_type": "stream",
     "text": [
      " 43%|████▎     | 155/360 [48:44<21:29,  6.29s/it]"
     ]
    },
    {
     "name": "stdout",
     "output_type": "stream",
     "text": [
      "2021-05-06 14:52:36,221 - modnet - INFO - Preset #25 fitting finished, loss: 0.40262419581413267\n"
     ]
    },
    {
     "name": "stderr",
     "output_type": "stream",
     "text": [
      " 43%|████▎     | 156/360 [49:08<40:00, 11.76s/it]"
     ]
    },
    {
     "name": "stdout",
     "output_type": "stream",
     "text": [
      "2021-05-06 14:52:52,413 - modnet - INFO - Preset #24 fitting finished, loss: 0.40982518792152406\n"
     ]
    },
    {
     "name": "stderr",
     "output_type": "stream",
     "text": [
      " 44%|████▎     | 157/360 [49:24<44:05, 13.03s/it]"
     ]
    },
    {
     "name": "stdout",
     "output_type": "stream",
     "text": [
      "2021-05-06 14:53:29,307 - modnet - INFO - Preset #31 fitting finished, loss: 0.4710643708705902\n"
     ]
    },
    {
     "name": "stderr",
     "output_type": "stream",
     "text": [
      " 44%|████▍     | 158/360 [50:01<1:08:08, 20.24s/it]"
     ]
    },
    {
     "name": "stdout",
     "output_type": "stream",
     "text": [
      "2021-05-06 14:53:46,383 - modnet - INFO - Preset #31 fitting finished, loss: 0.3711013734340668\n"
     ]
    },
    {
     "name": "stderr",
     "output_type": "stream",
     "text": [
      " 44%|████▍     | 159/360 [50:18<1:04:40, 19.31s/it]"
     ]
    },
    {
     "name": "stdout",
     "output_type": "stream",
     "text": [
      "2021-05-06 14:53:58,045 - modnet - INFO - Preset #32 fitting finished, loss: 0.44492616057395934\n"
     ]
    },
    {
     "name": "stderr",
     "output_type": "stream",
     "text": [
      " 44%|████▍     | 160/360 [50:30<56:43, 17.02s/it]  "
     ]
    },
    {
     "name": "stdout",
     "output_type": "stream",
     "text": [
      "2021-05-06 14:54:09,210 - modnet - INFO - Preset #30 fitting finished, loss: 0.5510626673698426\n"
     ]
    },
    {
     "name": "stderr",
     "output_type": "stream",
     "text": [
      " 45%|████▍     | 161/360 [50:41<50:48, 15.32s/it]"
     ]
    },
    {
     "name": "stdout",
     "output_type": "stream",
     "text": [
      "2021-05-06 14:54:59,340 - modnet - INFO - Preset #32 fitting finished, loss: 0.3584911048412323\n"
     ]
    },
    {
     "name": "stderr",
     "output_type": "stream",
     "text": [
      " 45%|████▌     | 162/360 [51:31<1:24:52, 25.72s/it]"
     ]
    },
    {
     "name": "stdout",
     "output_type": "stream",
     "text": [
      "2021-05-06 14:55:49,279 - modnet - INFO - Preset #31 fitting finished, loss: 0.4937205076217651\n"
     ]
    },
    {
     "name": "stderr",
     "output_type": "stream",
     "text": [
      " 45%|████▌     | 163/360 [52:21<1:48:12, 32.96s/it]"
     ]
    },
    {
     "name": "stdout",
     "output_type": "stream",
     "text": [
      "2021-05-06 14:55:50,960 - modnet - INFO - Preset #40 fitting finished, loss: 1098541.8054491996\n"
     ]
    },
    {
     "name": "stderr",
     "output_type": "stream",
     "text": [
      " 46%|████▌     | 164/360 [52:23<1:17:17, 23.66s/it]"
     ]
    },
    {
     "name": "stdout",
     "output_type": "stream",
     "text": [
      "2021-05-06 14:55:56,121 - modnet - INFO - Preset #32 fitting finished, loss: 0.4825762867927551\n"
     ]
    },
    {
     "name": "stderr",
     "output_type": "stream",
     "text": [
      " 46%|████▌     | 165/360 [52:28<58:47, 18.09s/it]  "
     ]
    },
    {
     "name": "stdout",
     "output_type": "stream",
     "text": [
      "2021-05-06 14:55:57,733 - modnet - INFO - Preset #33 fitting finished, loss: 0.348877477645874\n"
     ]
    },
    {
     "name": "stderr",
     "output_type": "stream",
     "text": [
      " 46%|████▌     | 166/360 [52:30<42:37, 13.18s/it]"
     ]
    },
    {
     "name": "stdout",
     "output_type": "stream",
     "text": [
      "2021-05-06 14:56:27,890 - modnet - INFO - Preset #33 fitting finished, loss: 0.5276598632335663\n"
     ]
    },
    {
     "name": "stderr",
     "output_type": "stream",
     "text": [
      " 46%|████▋     | 167/360 [53:00<58:33, 18.21s/it]"
     ]
    },
    {
     "name": "stdout",
     "output_type": "stream",
     "text": [
      "2021-05-06 14:56:31,356 - modnet - INFO - Preset #36 fitting finished, loss: 0.34862302541732787\n"
     ]
    },
    {
     "name": "stderr",
     "output_type": "stream",
     "text": [
      " 47%|████▋     | 168/360 [53:03<44:12, 13.82s/it]"
     ]
    },
    {
     "name": "stdout",
     "output_type": "stream",
     "text": [
      "2021-05-06 14:56:34,814 - modnet - INFO - Preset #35 fitting finished, loss: 0.4257567346096039\n"
     ]
    },
    {
     "name": "stderr",
     "output_type": "stream",
     "text": [
      " 47%|████▋     | 169/360 [53:07<33:58, 10.67s/it]"
     ]
    },
    {
     "name": "stdout",
     "output_type": "stream",
     "text": [
      "2021-05-06 14:56:54,974 - modnet - INFO - Preset #30 fitting finished, loss: 0.5042842268943787\n"
     ]
    },
    {
     "name": "stderr",
     "output_type": "stream",
     "text": [
      " 47%|████▋     | 170/360 [53:27<42:52, 13.54s/it]"
     ]
    },
    {
     "name": "stdout",
     "output_type": "stream",
     "text": [
      "2021-05-06 14:56:56,565 - modnet - INFO - Preset #33 fitting finished, loss: 0.4861073672771454\n"
     ]
    },
    {
     "name": "stderr",
     "output_type": "stream",
     "text": [
      " 48%|████▊     | 171/360 [53:29<31:32, 10.01s/it]"
     ]
    },
    {
     "name": "stdout",
     "output_type": "stream",
     "text": [
      "2021-05-06 14:57:16,155 - modnet - INFO - Preset #35 fitting finished, loss: 0.49601860642433165\n"
     ]
    },
    {
     "name": "stderr",
     "output_type": "stream",
     "text": [
      " 48%|████▊     | 172/360 [53:48<39:56, 12.75s/it]"
     ]
    },
    {
     "name": "stdout",
     "output_type": "stream",
     "text": [
      "2021-05-06 14:57:25,272 - modnet - INFO - Preset #32 fitting finished, loss: 0.4242603361606598\n"
     ]
    },
    {
     "name": "stderr",
     "output_type": "stream",
     "text": [
      " 48%|████▊     | 173/360 [53:57<36:16, 11.64s/it]"
     ]
    },
    {
     "name": "stdout",
     "output_type": "stream",
     "text": [
      "2021-05-06 14:57:56,135 - modnet - INFO - Preset #35 fitting finished, loss: 0.42464736104011536\n"
     ]
    },
    {
     "name": "stderr",
     "output_type": "stream",
     "text": [
      " 48%|████▊     | 174/360 [54:34<59:40, 19.25s/it]"
     ]
    },
    {
     "name": "stdout",
     "output_type": "stream",
     "text": [
      "2021-05-06 14:58:13,448 - modnet - INFO - Preset #34 fitting finished, loss: 0.5249139904975891\n"
     ]
    },
    {
     "name": "stderr",
     "output_type": "stream",
     "text": [
      " 49%|████▊     | 175/360 [54:45<52:11, 16.93s/it]"
     ]
    },
    {
     "name": "stdout",
     "output_type": "stream",
     "text": [
      "2021-05-06 14:58:23,807 - modnet - INFO - Preset #35 fitting finished, loss: 0.3690525949001312\n"
     ]
    },
    {
     "name": "stderr",
     "output_type": "stream",
     "text": [
      " 49%|████▉     | 176/360 [54:56<45:48, 14.94s/it]"
     ]
    },
    {
     "name": "stdout",
     "output_type": "stream",
     "text": [
      "2021-05-06 14:58:38,795 - modnet - INFO - Preset #34 fitting finished, loss: 0.43445799350738523\n"
     ]
    },
    {
     "name": "stderr",
     "output_type": "stream",
     "text": [
      " 49%|████▉     | 177/360 [55:11<45:38, 14.96s/it]"
     ]
    },
    {
     "name": "stdout",
     "output_type": "stream",
     "text": [
      "2021-05-06 14:58:46,984 - modnet - INFO - Preset #34 fitting finished, loss: 0.38795403838157655\n"
     ]
    },
    {
     "name": "stderr",
     "output_type": "stream",
     "text": [
      " 49%|████▉     | 178/360 [55:19<39:01, 12.87s/it]"
     ]
    },
    {
     "name": "stdout",
     "output_type": "stream",
     "text": [
      "2021-05-06 14:58:51,080 - modnet - INFO - Preset #33 fitting finished, loss: 0.45869292616844176\n"
     ]
    },
    {
     "name": "stderr",
     "output_type": "stream",
     "text": [
      " 50%|████▉     | 179/360 [55:23<30:50, 10.22s/it]"
     ]
    },
    {
     "name": "stdout",
     "output_type": "stream",
     "text": [
      "2021-05-06 14:58:52,375 - modnet - INFO - Preset #39 fitting finished, loss: 367.3085510253906\n"
     ]
    },
    {
     "name": "stderr",
     "output_type": "stream",
     "text": [
      " 50%|█████     | 180/360 [55:25<23:02,  7.68s/it]"
     ]
    },
    {
     "name": "stdout",
     "output_type": "stream",
     "text": [
      "2021-05-06 14:59:23,567 - modnet - INFO - Preset #31 fitting finished, loss: 0.5667664647102356\n"
     ]
    },
    {
     "name": "stderr",
     "output_type": "stream",
     "text": [
      " 50%|█████     | 181/360 [55:55<43:37, 14.62s/it]"
     ]
    },
    {
     "name": "stdout",
     "output_type": "stream",
     "text": [
      "2021-05-06 14:59:57,567 - modnet - INFO - Preset #40 fitting finished, loss: 144769.9844394684\n"
     ]
    },
    {
     "name": "stderr",
     "output_type": "stream",
     "text": [
      " 51%|█████     | 182/360 [56:29<1:00:32, 20.41s/it]"
     ]
    },
    {
     "name": "stdout",
     "output_type": "stream",
     "text": [
      "2021-05-06 14:59:59,121 - modnet - INFO - Preset #37 fitting finished, loss: 0.363117390871048\n"
     ]
    },
    {
     "name": "stderr",
     "output_type": "stream",
     "text": [
      " 51%|█████     | 183/360 [56:31<43:42, 14.82s/it]  "
     ]
    },
    {
     "name": "stdout",
     "output_type": "stream",
     "text": [
      "2021-05-06 15:00:17,627 - modnet - INFO - Preset #38 fitting finished, loss: 5254.951611328125\n"
     ]
    },
    {
     "name": "stderr",
     "output_type": "stream",
     "text": [
      " 51%|█████     | 184/360 [56:50<46:43, 15.93s/it]"
     ]
    },
    {
     "name": "stdout",
     "output_type": "stream",
     "text": [
      "2021-05-06 15:00:30,455 - modnet - INFO - Preset #41 fitting finished, loss: 0.719291377067566\n"
     ]
    },
    {
     "name": "stderr",
     "output_type": "stream",
     "text": [
      " 51%|█████▏    | 185/360 [57:02<43:38, 14.96s/it]"
     ]
    },
    {
     "name": "stdout",
     "output_type": "stream",
     "text": [
      "2021-05-06 15:00:38,302 - modnet - INFO - Preset #36 fitting finished, loss: 230.1986888885498\n"
     ]
    },
    {
     "name": "stderr",
     "output_type": "stream",
     "text": [
      " 52%|█████▏    | 186/360 [57:10<37:10, 12.82s/it]"
     ]
    },
    {
     "name": "stdout",
     "output_type": "stream",
     "text": [
      "2021-05-06 15:01:00,301 - modnet - INFO - Preset #40 fitting finished, loss: 0.46636605858802793\n"
     ]
    },
    {
     "name": "stderr",
     "output_type": "stream",
     "text": [
      " 52%|█████▏    | 187/360 [57:32<44:50, 15.55s/it]"
     ]
    },
    {
     "name": "stdout",
     "output_type": "stream",
     "text": [
      "2021-05-06 15:01:20,146 - modnet - INFO - Preset #38 fitting finished, loss: 0.36455684900283813\n"
     ]
    },
    {
     "name": "stderr",
     "output_type": "stream",
     "text": [
      " 52%|█████▏    | 188/360 [57:52<48:16, 16.84s/it]"
     ]
    },
    {
     "name": "stdout",
     "output_type": "stream",
     "text": [
      "2021-05-06 15:01:22,351 - modnet - INFO - Preset #34 fitting finished, loss: 0.45421533584594725\n"
     ]
    },
    {
     "name": "stderr",
     "output_type": "stream",
     "text": [
      " 52%|█████▎    | 189/360 [57:54<35:17, 12.38s/it]"
     ]
    },
    {
     "name": "stdout",
     "output_type": "stream",
     "text": [
      "2021-05-06 15:01:29,145 - modnet - INFO - Preset #31 fitting finished, loss: 0.4127378106117249\n"
     ]
    },
    {
     "name": "stderr",
     "output_type": "stream",
     "text": [
      " 53%|█████▎    | 190/360 [58:01<30:24, 10.73s/it]"
     ]
    },
    {
     "name": "stdout",
     "output_type": "stream",
     "text": [
      "2021-05-06 15:01:39,107 - modnet - INFO - Preset #36 fitting finished, loss: 0.46209120750427246\n"
     ]
    },
    {
     "name": "stderr",
     "output_type": "stream",
     "text": [
      " 53%|█████▎    | 191/360 [58:11<29:43, 10.55s/it]"
     ]
    },
    {
     "name": "stdout",
     "output_type": "stream",
     "text": [
      "2021-05-06 15:02:23,367 - modnet - INFO - Preset #41 fitting finished, loss: 0.7497623562812805\n"
     ]
    },
    {
     "name": "stderr",
     "output_type": "stream",
     "text": [
      " 53%|█████▎    | 192/360 [58:55<57:51, 20.67s/it]"
     ]
    },
    {
     "name": "stdout",
     "output_type": "stream",
     "text": [
      "2021-05-06 15:02:25,987 - modnet - INFO - Preset #36 fitting finished, loss: 100.25061111450195\n"
     ]
    },
    {
     "name": "stderr",
     "output_type": "stream",
     "text": [
      " 54%|█████▎    | 193/360 [58:58<42:26, 15.25s/it]"
     ]
    },
    {
     "name": "stdout",
     "output_type": "stream",
     "text": [
      "2021-05-06 15:02:40,301 - modnet - INFO - Preset #40 fitting finished, loss: 0.8104760885238648\n"
     ]
    },
    {
     "name": "stderr",
     "output_type": "stream",
     "text": [
      " 54%|█████▍    | 194/360 [59:12<41:19, 14.94s/it]"
     ]
    },
    {
     "name": "stdout",
     "output_type": "stream",
     "text": [
      "2021-05-06 15:02:54,826 - modnet - INFO - Preset #38 fitting finished, loss: 0.5466802597045899\n"
     ]
    },
    {
     "name": "stderr",
     "output_type": "stream",
     "text": [
      " 54%|█████▍    | 195/360 [59:27<40:47, 14.83s/it]"
     ]
    },
    {
     "name": "stdout",
     "output_type": "stream",
     "text": [
      "2021-05-06 15:02:57,907 - modnet - INFO - Preset #38 fitting finished, loss: 0.5823698997497558\n"
     ]
    },
    {
     "name": "stderr",
     "output_type": "stream",
     "text": [
      " 54%|█████▍    | 196/360 [59:30<30:50, 11.28s/it]"
     ]
    },
    {
     "name": "stdout",
     "output_type": "stream",
     "text": [
      "2021-05-06 15:03:13,695 - modnet - INFO - Preset #39 fitting finished, loss: 0.5553088068962098\n"
     ]
    },
    {
     "name": "stderr",
     "output_type": "stream",
     "text": [
      " 55%|█████▍    | 197/360 [59:45<34:19, 12.64s/it]"
     ]
    },
    {
     "name": "stdout",
     "output_type": "stream",
     "text": [
      "2021-05-06 15:03:26,465 - modnet - INFO - Preset #44 fitting finished, loss: 0.5261338114738464\n"
     ]
    },
    {
     "name": "stderr",
     "output_type": "stream",
     "text": [
      " 55%|█████▌    | 198/360 [59:58<34:09, 12.65s/it]"
     ]
    },
    {
     "name": "stdout",
     "output_type": "stream",
     "text": [
      "2021-05-06 15:03:29,828 - modnet - INFO - Preset #37 fitting finished, loss: 276.36230621337893\n"
     ]
    },
    {
     "name": "stderr",
     "output_type": "stream",
     "text": [
      " 55%|█████▌    | 199/360 [1:00:01<26:27,  9.86s/it]"
     ]
    },
    {
     "name": "stdout",
     "output_type": "stream",
     "text": [
      "2021-05-06 15:03:39,363 - modnet - INFO - Preset #42 fitting finished, loss: 22.63326439857483\n"
     ]
    },
    {
     "name": "stderr",
     "output_type": "stream",
     "text": [
      " 56%|█████▌    | 200/360 [1:00:11<25:50,  9.69s/it]"
     ]
    },
    {
     "name": "stdout",
     "output_type": "stream",
     "text": [
      "2021-05-06 15:04:18,319 - modnet - INFO - Preset #41 fitting finished, loss: 1482268.948211193\n"
     ]
    },
    {
     "name": "stderr",
     "output_type": "stream",
     "text": [
      " 56%|█████▌    | 201/360 [1:00:50<49:08, 18.55s/it]"
     ]
    },
    {
     "name": "stdout",
     "output_type": "stream",
     "text": [
      "2021-05-06 15:04:24,574 - modnet - INFO - Preset #37 fitting finished, loss: 54.34276866912842\n"
     ]
    },
    {
     "name": "stderr",
     "output_type": "stream",
     "text": [
      " 56%|█████▌    | 202/360 [1:00:56<39:01, 14.82s/it]"
     ]
    },
    {
     "name": "stdout",
     "output_type": "stream",
     "text": [
      "2021-05-06 15:04:26,657 - modnet - INFO - Preset #44 fitting finished, loss: 0.456289941072464\n"
     ]
    },
    {
     "name": "stderr",
     "output_type": "stream",
     "text": [
      " 56%|█████▋    | 203/360 [1:00:58<28:39, 10.95s/it]"
     ]
    },
    {
     "name": "stdout",
     "output_type": "stream",
     "text": [
      "2021-05-06 15:04:39,292 - modnet - INFO - Preset #39 fitting finished, loss: 0.43547030091285704\n"
     ]
    },
    {
     "name": "stderr",
     "output_type": "stream",
     "text": [
      " 57%|█████▋    | 204/360 [1:01:11<29:58, 11.53s/it]"
     ]
    },
    {
     "name": "stdout",
     "output_type": "stream",
     "text": [
      "2021-05-06 15:04:42,022 - modnet - INFO - Preset #37 fitting finished, loss: 0.46379066109657285\n"
     ]
    },
    {
     "name": "stderr",
     "output_type": "stream",
     "text": [
      " 57%|█████▋    | 205/360 [1:01:14<22:54,  8.87s/it]"
     ]
    },
    {
     "name": "stdout",
     "output_type": "stream",
     "text": [
      "2021-05-06 15:04:51,796 - modnet - INFO - Preset #43 fitting finished, loss: 0.4619418144226074\n"
     ]
    },
    {
     "name": "stderr",
     "output_type": "stream",
     "text": [
      " 57%|█████▋    | 206/360 [1:01:23<23:36,  9.19s/it]"
     ]
    },
    {
     "name": "stdout",
     "output_type": "stream",
     "text": [
      "2021-05-06 15:04:52,975 - modnet - INFO - Preset #36 fitting finished, loss: 0.523556399345398\n"
     ]
    },
    {
     "name": "stderr",
     "output_type": "stream",
     "text": [
      " 57%|█████▊    | 207/360 [1:01:25<17:23,  6.82s/it]"
     ]
    },
    {
     "name": "stdout",
     "output_type": "stream",
     "text": [
      "2021-05-06 15:05:15,981 - modnet - INFO - Preset #44 fitting finished, loss: 1727.917904663086\n"
     ]
    },
    {
     "name": "stderr",
     "output_type": "stream",
     "text": [
      " 58%|█████▊    | 208/360 [1:01:47<29:21, 11.59s/it]"
     ]
    },
    {
     "name": "stdout",
     "output_type": "stream",
     "text": [
      "2021-05-06 15:05:24,015 - modnet - INFO - Preset #43 fitting finished, loss: 86.55596694946288\n"
     ]
    },
    {
     "name": "stderr",
     "output_type": "stream",
     "text": [
      " 58%|█████▊    | 209/360 [1:01:56<26:45, 10.64s/it]"
     ]
    },
    {
     "name": "stdout",
     "output_type": "stream",
     "text": [
      "2021-05-06 15:05:45,173 - modnet - INFO - Preset #39 fitting finished, loss: 5990.034692382813\n"
     ]
    },
    {
     "name": "stderr",
     "output_type": "stream",
     "text": [
      " 58%|█████▊    | 210/360 [1:02:17<34:23, 13.76s/it]"
     ]
    },
    {
     "name": "stdout",
     "output_type": "stream",
     "text": [
      "2021-05-06 15:05:46,748 - modnet - INFO - Preset #43 fitting finished, loss: 0.5437111139297486\n"
     ]
    },
    {
     "name": "stderr",
     "output_type": "stream",
     "text": [
      " 59%|█████▊    | 211/360 [1:02:18<24:54, 10.03s/it]"
     ]
    },
    {
     "name": "stdout",
     "output_type": "stream",
     "text": [
      "2021-05-06 15:06:14,495 - modnet - INFO - Preset #42 fitting finished, loss: 0.4557267606258392\n"
     ]
    },
    {
     "name": "stderr",
     "output_type": "stream",
     "text": [
      " 59%|█████▉    | 212/360 [1:02:46<37:45, 15.31s/it]"
     ]
    },
    {
     "name": "stdout",
     "output_type": "stream",
     "text": [
      "2021-05-06 15:06:40,485 - modnet - INFO - Preset #41 fitting finished, loss: 0.47114176750183107\n"
     ]
    },
    {
     "name": "stderr",
     "output_type": "stream",
     "text": [
      " 59%|█████▉    | 213/360 [1:03:12<45:21, 18.51s/it]"
     ]
    },
    {
     "name": "stdout",
     "output_type": "stream",
     "text": [
      "2021-05-06 15:06:48,079 - modnet - INFO - Preset #46 fitting finished, loss: 12083.86119003296\n"
     ]
    },
    {
     "name": "stderr",
     "output_type": "stream",
     "text": [
      " 59%|█████▉    | 214/360 [1:03:20<37:13, 15.30s/it]"
     ]
    },
    {
     "name": "stdout",
     "output_type": "stream",
     "text": [
      "2021-05-06 15:06:57,484 - modnet - INFO - Preset #46 fitting finished, loss: 0.5952294111251831\n"
     ]
    },
    {
     "name": "stderr",
     "output_type": "stream",
     "text": [
      " 60%|█████▉    | 215/360 [1:03:29<32:36, 13.49s/it]"
     ]
    },
    {
     "name": "stdout",
     "output_type": "stream",
     "text": [
      "2021-05-06 15:07:07,459 - modnet - INFO - Preset #40 fitting finished, loss: 0.4632960855960846\n"
     ]
    },
    {
     "name": "stderr",
     "output_type": "stream",
     "text": [
      " 60%|██████    | 216/360 [1:03:39<29:51, 12.44s/it]"
     ]
    },
    {
     "name": "stdout",
     "output_type": "stream",
     "text": [
      "2021-05-06 15:07:08,435 - modnet - INFO - Preset #47 fitting finished, loss: 48241.02504882812\n"
     ]
    },
    {
     "name": "stderr",
     "output_type": "stream",
     "text": [
      " 60%|██████    | 217/360 [1:03:40<21:31,  9.03s/it]"
     ]
    },
    {
     "name": "stdout",
     "output_type": "stream",
     "text": [
      "2021-05-06 15:07:11,978 - modnet - INFO - Preset #38 fitting finished, loss: 1957.266162109375\n"
     ]
    },
    {
     "name": "stderr",
     "output_type": "stream",
     "text": [
      " 61%|██████    | 218/360 [1:03:43<17:21,  7.34s/it]"
     ]
    },
    {
     "name": "stdout",
     "output_type": "stream",
     "text": [
      "2021-05-06 15:07:15,232 - modnet - INFO - Preset #46 fitting finished, loss: 0.5653214931488038\n"
     ]
    },
    {
     "name": "stderr",
     "output_type": "stream",
     "text": [
      " 61%|██████    | 219/360 [1:03:47<14:24,  6.13s/it]"
     ]
    },
    {
     "name": "stdout",
     "output_type": "stream",
     "text": [
      "2021-05-06 15:07:21,089 - modnet - INFO - Preset #42 fitting finished, loss: 0.5384100615978241\n"
     ]
    },
    {
     "name": "stderr",
     "output_type": "stream",
     "text": [
      " 61%|██████    | 220/360 [1:03:53<14:07,  6.05s/it]"
     ]
    },
    {
     "name": "stdout",
     "output_type": "stream",
     "text": [
      "2021-05-06 15:07:36,343 - modnet - INFO - Preset #41 fitting finished, loss: 12743.538006591796\n"
     ]
    },
    {
     "name": "stderr",
     "output_type": "stream",
     "text": [
      " 61%|██████▏   | 221/360 [1:04:08<20:30,  8.85s/it]"
     ]
    },
    {
     "name": "stdout",
     "output_type": "stream",
     "text": [
      "2021-05-06 15:07:43,782 - modnet - INFO - Preset #44 fitting finished, loss: 7590.607568359375\n"
     ]
    },
    {
     "name": "stderr",
     "output_type": "stream",
     "text": [
      " 62%|██████▏   | 222/360 [1:04:15<19:12,  8.35s/it]"
     ]
    },
    {
     "name": "stdout",
     "output_type": "stream",
     "text": [
      "2021-05-06 15:07:59,519 - modnet - INFO - Preset #45 fitting finished, loss: 0.5296480774879455\n"
     ]
    },
    {
     "name": "stderr",
     "output_type": "stream",
     "text": [
      " 62%|██████▏   | 223/360 [1:04:31<24:04, 10.54s/it]"
     ]
    },
    {
     "name": "stdout",
     "output_type": "stream",
     "text": [
      "2021-05-06 15:08:08,590 - modnet - INFO - Preset #37 fitting finished, loss: 0.5265938460826873\n"
     ]
    },
    {
     "name": "stderr",
     "output_type": "stream",
     "text": [
      " 62%|██████▏   | 224/360 [1:04:40<22:58, 10.14s/it]"
     ]
    },
    {
     "name": "stdout",
     "output_type": "stream",
     "text": [
      "2021-05-06 15:08:18,798 - modnet - INFO - Preset #43 fitting finished, loss: 0.3427689731121063\n"
     ]
    },
    {
     "name": "stderr",
     "output_type": "stream",
     "text": [
      " 62%|██████▎   | 225/360 [1:04:50<22:50, 10.15s/it]"
     ]
    },
    {
     "name": "stdout",
     "output_type": "stream",
     "text": [
      "2021-05-06 15:08:21,213 - modnet - INFO - Preset #45 fitting finished, loss: 0.47934983372688295\n"
     ]
    },
    {
     "name": "stderr",
     "output_type": "stream",
     "text": [
      " 63%|██████▎   | 226/360 [1:04:53<17:36,  7.89s/it]"
     ]
    },
    {
     "name": "stdout",
     "output_type": "stream",
     "text": [
      "2021-05-06 15:08:35,432 - modnet - INFO - Preset #42 fitting finished, loss: 0.34381855726242067\n"
     ]
    },
    {
     "name": "stderr",
     "output_type": "stream",
     "text": [
      " 63%|██████▎   | 227/360 [1:05:07<21:41,  9.79s/it]"
     ]
    },
    {
     "name": "stdout",
     "output_type": "stream",
     "text": [
      "2021-05-06 15:08:50,552 - modnet - INFO - Preset #44 fitting finished, loss: 0.3620508313179016\n"
     ]
    },
    {
     "name": "stderr",
     "output_type": "stream",
     "text": [
      " 63%|██████▎   | 228/360 [1:05:22<24:55, 11.33s/it]"
     ]
    },
    {
     "name": "stdout",
     "output_type": "stream",
     "text": [
      "2021-05-06 15:08:51,620 - modnet - INFO - Preset #43 fitting finished, loss: 68.67241287231445\n"
     ]
    },
    {
     "name": "stderr",
     "output_type": "stream",
     "text": [
      " 64%|██████▎   | 229/360 [1:05:23<18:03,  8.27s/it]"
     ]
    },
    {
     "name": "stdout",
     "output_type": "stream",
     "text": [
      "2021-05-06 15:09:00,296 - modnet - INFO - Preset #42 fitting finished, loss: 152.13244838714598\n"
     ]
    },
    {
     "name": "stderr",
     "output_type": "stream",
     "text": [
      " 64%|██████▍   | 230/360 [1:05:32<18:16,  8.43s/it]"
     ]
    },
    {
     "name": "stdout",
     "output_type": "stream",
     "text": [
      "2021-05-06 15:09:07,222 - modnet - INFO - Preset #48 fitting finished, loss: 42.192455244064334\n"
     ]
    },
    {
     "name": "stderr",
     "output_type": "stream",
     "text": [
      " 64%|██████▍   | 231/360 [1:05:39<17:03,  7.93s/it]"
     ]
    },
    {
     "name": "stdout",
     "output_type": "stream",
     "text": [
      "2021-05-06 15:09:13,956 - modnet - INFO - Preset #49 fitting finished, loss: 0.3364913284778595\n"
     ]
    },
    {
     "name": "stderr",
     "output_type": "stream",
     "text": [
      " 64%|██████▍   | 232/360 [1:05:45<16:11,  7.59s/it]"
     ]
    },
    {
     "name": "stdout",
     "output_type": "stream",
     "text": [
      "2021-05-06 15:09:18,764 - modnet - INFO - Preset #46 fitting finished, loss: 61816.262109375\n"
     ]
    },
    {
     "name": "stderr",
     "output_type": "stream",
     "text": [
      " 65%|██████▍   | 233/360 [1:05:50<14:10,  6.70s/it]"
     ]
    },
    {
     "name": "stdout",
     "output_type": "stream",
     "text": [
      "2021-05-06 15:09:27,516 - modnet - INFO - Preset #47 fitting finished, loss: 14810.519287109375\n"
     ]
    },
    {
     "name": "stderr",
     "output_type": "stream",
     "text": [
      " 65%|██████▌   | 234/360 [1:05:59<15:30,  7.39s/it]"
     ]
    },
    {
     "name": "stdout",
     "output_type": "stream",
     "text": [
      "2021-05-06 15:09:35,952 - modnet - INFO - Preset #46 fitting finished, loss: 0.38580140471458435\n"
     ]
    },
    {
     "name": "stderr",
     "output_type": "stream",
     "text": [
      " 65%|██████▌   | 235/360 [1:06:07<15:51,  7.62s/it]"
     ]
    },
    {
     "name": "stdout",
     "output_type": "stream",
     "text": [
      "2021-05-06 15:09:38,521 - modnet - INFO - Preset #45 fitting finished, loss: 714.4574981689453\n"
     ]
    },
    {
     "name": "stderr",
     "output_type": "stream",
     "text": [
      " 66%|██████▌   | 236/360 [1:06:10<12:39,  6.13s/it]"
     ]
    },
    {
     "name": "stdout",
     "output_type": "stream",
     "text": [
      "2021-05-06 15:09:40,625 - modnet - INFO - Preset #45 fitting finished, loss: 2300.6575317382812\n"
     ]
    },
    {
     "name": "stderr",
     "output_type": "stream",
     "text": [
      " 66%|██████▌   | 237/360 [1:06:12<10:17,  5.02s/it]"
     ]
    },
    {
     "name": "stdout",
     "output_type": "stream",
     "text": [
      "2021-05-06 15:09:57,805 - modnet - INFO - Preset #49 fitting finished, loss: 0.4537728250026703\n"
     ]
    },
    {
     "name": "stderr",
     "output_type": "stream",
     "text": [
      " 66%|██████▌   | 238/360 [1:06:29<17:26,  8.57s/it]"
     ]
    },
    {
     "name": "stdout",
     "output_type": "stream",
     "text": [
      "2021-05-06 15:09:58,640 - modnet - INFO - Preset #50 fitting finished, loss: 0.5516480684280396\n"
     ]
    },
    {
     "name": "stderr",
     "output_type": "stream",
     "text": [
      " 66%|██████▋   | 239/360 [1:06:30<12:42,  6.30s/it]"
     ]
    },
    {
     "name": "stdout",
     "output_type": "stream",
     "text": [
      "2021-05-06 15:10:24,293 - modnet - INFO - Preset #50 fitting finished, loss: 0.35184953212738035\n"
     ]
    },
    {
     "name": "stderr",
     "output_type": "stream",
     "text": [
      " 67%|██████▋   | 240/360 [1:06:56<24:09, 12.08s/it]"
     ]
    },
    {
     "name": "stdout",
     "output_type": "stream",
     "text": [
      "2021-05-06 15:10:31,661 - modnet - INFO - Preset #49 fitting finished, loss: 51.426461410522464\n"
     ]
    },
    {
     "name": "stderr",
     "output_type": "stream",
     "text": [
      " 67%|██████▋   | 241/360 [1:07:03<21:03, 10.62s/it]"
     ]
    },
    {
     "name": "stdout",
     "output_type": "stream",
     "text": [
      "2021-05-06 15:10:35,086 - modnet - INFO - Preset #47 fitting finished, loss: 0.6442191123962402\n"
     ]
    },
    {
     "name": "stderr",
     "output_type": "stream",
     "text": [
      " 67%|██████▋   | 242/360 [1:07:06<16:44,  8.52s/it]"
     ]
    },
    {
     "name": "stdout",
     "output_type": "stream",
     "text": [
      "2021-05-06 15:10:52,124 - modnet - INFO - Preset #53 fitting finished, loss: 3788.681494140625\n"
     ]
    },
    {
     "name": "stderr",
     "output_type": "stream",
     "text": [
      " 68%|██████▊   | 243/360 [1:07:24<21:42, 11.13s/it]"
     ]
    },
    {
     "name": "stdout",
     "output_type": "stream",
     "text": [
      "2021-05-06 15:10:55,398 - modnet - INFO - Preset #47 fitting finished, loss: 0.4720684468746185\n"
     ]
    },
    {
     "name": "stderr",
     "output_type": "stream",
     "text": [
      " 68%|██████▊   | 244/360 [1:07:27<16:48,  8.70s/it]"
     ]
    },
    {
     "name": "stdout",
     "output_type": "stream",
     "text": [
      "2021-05-06 15:11:15,379 - modnet - INFO - Preset #48 fitting finished, loss: 0.5274559259414673\n"
     ]
    },
    {
     "name": "stderr",
     "output_type": "stream",
     "text": [
      " 68%|██████▊   | 245/360 [1:07:47<23:15, 12.13s/it]"
     ]
    },
    {
     "name": "stdout",
     "output_type": "stream",
     "text": [
      "2021-05-06 15:11:27,133 - modnet - INFO - Preset #45 fitting finished, loss: 0.3642090141773224\n"
     ]
    },
    {
     "name": "stderr",
     "output_type": "stream",
     "text": [
      " 68%|██████▊   | 246/360 [1:07:58<22:36, 11.90s/it]"
     ]
    },
    {
     "name": "stdout",
     "output_type": "stream",
     "text": [
      "2021-05-06 15:12:07,398 - modnet - INFO - Preset #52 fitting finished, loss: 2514.817492675781\n"
     ]
    },
    {
     "name": "stderr",
     "output_type": "stream",
     "text": [
      " 69%|██████▊   | 247/360 [1:08:39<38:37, 20.51s/it]"
     ]
    },
    {
     "name": "stdout",
     "output_type": "stream",
     "text": [
      "2021-05-06 15:12:17,211 - modnet - INFO - Preset #49 fitting finished, loss: 165.49846782684327\n"
     ]
    },
    {
     "name": "stderr",
     "output_type": "stream",
     "text": [
      " 69%|██████▉   | 248/360 [1:08:49<32:28, 17.39s/it]"
     ]
    },
    {
     "name": "stdout",
     "output_type": "stream",
     "text": [
      "2021-05-06 15:12:18,507 - modnet - INFO - Preset #49 fitting finished, loss: 0.520396226644516\n"
     ]
    },
    {
     "name": "stderr",
     "output_type": "stream",
     "text": [
      " 69%|██████▉   | 249/360 [1:08:50<23:13, 12.55s/it]"
     ]
    },
    {
     "name": "stdout",
     "output_type": "stream",
     "text": [
      "2021-05-06 15:12:31,235 - modnet - INFO - Preset #39 fitting finished, loss: 0.45667306780815126\n"
     ]
    },
    {
     "name": "stderr",
     "output_type": "stream",
     "text": [
      " 69%|██████▉   | 250/360 [1:09:03<23:04, 12.58s/it]"
     ]
    },
    {
     "name": "stdout",
     "output_type": "stream",
     "text": [
      "2021-05-06 15:12:43,499 - modnet - INFO - Preset #47 fitting finished, loss: 0.45806431770324707\n"
     ]
    },
    {
     "name": "stderr",
     "output_type": "stream",
     "text": [
      " 70%|██████▉   | 251/360 [1:09:15<22:35, 12.43s/it]"
     ]
    },
    {
     "name": "stdout",
     "output_type": "stream",
     "text": [
      "2021-05-06 15:12:55,347 - modnet - INFO - Preset #52 fitting finished, loss: 0.37759700417518616\n"
     ]
    },
    {
     "name": "stderr",
     "output_type": "stream",
     "text": [
      " 70%|███████   | 252/360 [1:09:27<22:03, 12.25s/it]"
     ]
    },
    {
     "name": "stdout",
     "output_type": "stream",
     "text": [
      "2021-05-06 15:13:11,215 - modnet - INFO - Preset #52 fitting finished, loss: 11224.922143554688\n"
     ]
    },
    {
     "name": "stderr",
     "output_type": "stream",
     "text": [
      " 70%|███████   | 253/360 [1:09:43<23:56, 13.43s/it]"
     ]
    },
    {
     "name": "stdout",
     "output_type": "stream",
     "text": [
      "2021-05-06 15:13:12,497 - modnet - INFO - Preset #52 fitting finished, loss: 0.47715649008750916\n"
     ]
    },
    {
     "name": "stderr",
     "output_type": "stream",
     "text": [
      " 71%|███████   | 254/360 [1:09:44<17:08,  9.70s/it]"
     ]
    },
    {
     "name": "stdout",
     "output_type": "stream",
     "text": [
      "2021-05-06 15:13:15,509 - modnet - INFO - Preset #52 fitting finished, loss: 0.5714445948600769\n"
     ]
    },
    {
     "name": "stderr",
     "output_type": "stream",
     "text": [
      " 71%|███████   | 255/360 [1:09:47<13:17,  7.60s/it]"
     ]
    },
    {
     "name": "stdout",
     "output_type": "stream",
     "text": [
      "2021-05-06 15:13:24,244 - modnet - INFO - Preset #50 fitting finished, loss: 0.4494922161102295\n"
     ]
    },
    {
     "name": "stderr",
     "output_type": "stream",
     "text": [
      " 71%|███████   | 256/360 [1:09:56<14:03,  8.11s/it]"
     ]
    },
    {
     "name": "stdout",
     "output_type": "stream",
     "text": [
      "2021-05-06 15:13:30,892 - modnet - INFO - Preset #51 fitting finished, loss: 0.5458455324172974\n"
     ]
    },
    {
     "name": "stderr",
     "output_type": "stream",
     "text": [
      " 71%|███████▏  | 257/360 [1:10:02<13:05,  7.63s/it]"
     ]
    },
    {
     "name": "stdout",
     "output_type": "stream",
     "text": [
      "2021-05-06 15:13:41,041 - modnet - INFO - Preset #53 fitting finished, loss: 0.5566763043403625\n"
     ]
    },
    {
     "name": "stderr",
     "output_type": "stream",
     "text": [
      " 72%|███████▏  | 258/360 [1:10:13<14:16,  8.39s/it]"
     ]
    },
    {
     "name": "stdout",
     "output_type": "stream",
     "text": [
      "2021-05-06 15:14:01,508 - modnet - INFO - Preset #48 fitting finished, loss: 0.3391821622848511\n"
     ]
    },
    {
     "name": "stderr",
     "output_type": "stream",
     "text": [
      " 72%|███████▏  | 259/360 [1:10:33<20:06, 11.95s/it]"
     ]
    },
    {
     "name": "stdout",
     "output_type": "stream",
     "text": [
      "2021-05-06 15:14:12,262 - modnet - INFO - Preset #50 fitting finished, loss: 220.01897506713868\n"
     ]
    },
    {
     "name": "stderr",
     "output_type": "stream",
     "text": [
      " 72%|███████▏  | 260/360 [1:10:43<19:07, 11.47s/it]"
     ]
    },
    {
     "name": "stdout",
     "output_type": "stream",
     "text": [
      "2021-05-06 15:14:14,207 - modnet - INFO - Preset #53 fitting finished, loss: 0.4676999807357788\n"
     ]
    },
    {
     "name": "stderr",
     "output_type": "stream",
     "text": [
      " 72%|███████▎  | 261/360 [1:10:45<14:16,  8.65s/it]"
     ]
    },
    {
     "name": "stdout",
     "output_type": "stream",
     "text": [
      "2021-05-06 15:14:19,547 - modnet - INFO - Preset #50 fitting finished, loss: 1582.02900390625\n"
     ]
    },
    {
     "name": "stderr",
     "output_type": "stream",
     "text": [
      " 73%|███████▎  | 262/360 [1:10:50<12:22,  7.58s/it]"
     ]
    },
    {
     "name": "stdout",
     "output_type": "stream",
     "text": [
      "2021-05-06 15:14:24,425 - modnet - INFO - Preset #48 fitting finished, loss: 0.45488569140434265\n"
     ]
    },
    {
     "name": "stderr",
     "output_type": "stream",
     "text": [
      " 73%|███████▎  | 263/360 [1:10:56<11:07,  6.88s/it]"
     ]
    },
    {
     "name": "stdout",
     "output_type": "stream",
     "text": [
      "2021-05-06 15:14:31,672 - modnet - INFO - Preset #51 fitting finished, loss: 549.0659393310547\n"
     ]
    },
    {
     "name": "stderr",
     "output_type": "stream",
     "text": [
      " 73%|███████▎  | 264/360 [1:11:03<11:06,  6.95s/it]"
     ]
    },
    {
     "name": "stdout",
     "output_type": "stream",
     "text": [
      "2021-05-06 15:14:42,603 - modnet - INFO - Preset #51 fitting finished, loss: 0.44396411776542666\n"
     ]
    },
    {
     "name": "stderr",
     "output_type": "stream",
     "text": [
      " 74%|███████▎  | 265/360 [1:11:14<12:55,  8.16s/it]"
     ]
    },
    {
     "name": "stdout",
     "output_type": "stream",
     "text": [
      "2021-05-06 15:14:44,700 - modnet - INFO - Preset #48 fitting finished, loss: 118.35063171386719\n"
     ]
    },
    {
     "name": "stderr",
     "output_type": "stream",
     "text": [
      " 74%|███████▍  | 266/360 [1:11:16<10:04,  6.43s/it]"
     ]
    },
    {
     "name": "stdout",
     "output_type": "stream",
     "text": [
      "2021-05-06 15:14:49,804 - modnet - INFO - Preset #53 fitting finished, loss: 0.3620411932468414\n"
     ]
    },
    {
     "name": "stderr",
     "output_type": "stream",
     "text": [
      " 74%|███████▍  | 267/360 [1:11:21<09:07,  5.88s/it]"
     ]
    },
    {
     "name": "stdout",
     "output_type": "stream",
     "text": [
      "2021-05-06 15:15:01,821 - modnet - INFO - Preset #51 fitting finished, loss: 0.36085458993911745\n"
     ]
    },
    {
     "name": "stderr",
     "output_type": "stream",
     "text": [
      " 74%|███████▍  | 268/360 [1:11:33<12:00,  7.83s/it]"
     ]
    },
    {
     "name": "stdout",
     "output_type": "stream",
     "text": [
      "2021-05-06 15:15:18,326 - modnet - INFO - Preset #51 fitting finished, loss: 499.8160766601562\n"
     ]
    },
    {
     "name": "stderr",
     "output_type": "stream",
     "text": [
      " 75%|███████▍  | 269/360 [1:11:50<15:50, 10.45s/it]"
     ]
    },
    {
     "name": "stdout",
     "output_type": "stream",
     "text": [
      "2021-05-06 15:15:21,999 - modnet - INFO - Preset #53 fitting finished, loss: 5843.771252441406\n"
     ]
    },
    {
     "name": "stderr",
     "output_type": "stream",
     "text": [
      " 75%|███████▌  | 270/360 [1:11:53<12:35,  8.40s/it]"
     ]
    },
    {
     "name": "stdout",
     "output_type": "stream",
     "text": [
      "2021-05-06 15:17:54,623 - modnet - INFO - Preset #58 fitting finished, loss: 1.1262178659439086\n"
     ]
    },
    {
     "name": "stderr",
     "output_type": "stream",
     "text": [
      " 75%|███████▌  | 271/360 [1:14:26<1:16:42, 51.71s/it]"
     ]
    },
    {
     "name": "stdout",
     "output_type": "stream",
     "text": [
      "2021-05-06 15:18:37,360 - modnet - INFO - Preset #58 fitting finished, loss: 0.8987358093261719\n"
     ]
    },
    {
     "name": "stderr",
     "output_type": "stream",
     "text": [
      " 76%|███████▌  | 272/360 [1:15:09<1:11:52, 49.01s/it]"
     ]
    },
    {
     "name": "stdout",
     "output_type": "stream",
     "text": [
      "2021-05-06 15:19:41,210 - modnet - INFO - Preset #65 fitting finished, loss: 0.8604572296142579\n"
     ]
    },
    {
     "name": "stderr",
     "output_type": "stream",
     "text": [
      " 76%|███████▌  | 273/360 [1:16:12<1:17:24, 53.38s/it]"
     ]
    },
    {
     "name": "stdout",
     "output_type": "stream",
     "text": [
      "2021-05-06 15:20:50,413 - modnet - INFO - Preset #64 fitting finished, loss: 0.9902571856975555\n"
     ]
    },
    {
     "name": "stderr",
     "output_type": "stream",
     "text": [
      " 76%|███████▌  | 274/360 [1:17:22<1:23:27, 58.23s/it]"
     ]
    },
    {
     "name": "stdout",
     "output_type": "stream",
     "text": [
      "2021-05-06 15:21:50,233 - modnet - INFO - Preset #65 fitting finished, loss: 0.86786048412323\n"
     ]
    },
    {
     "name": "stderr",
     "output_type": "stream",
     "text": [
      " 76%|███████▋  | 275/360 [1:18:22<1:23:10, 58.72s/it]"
     ]
    },
    {
     "name": "stdout",
     "output_type": "stream",
     "text": [
      "2021-05-06 15:22:10,599 - modnet - INFO - Preset #64 fitting finished, loss: 344404.38665328023\n"
     ]
    },
    {
     "name": "stderr",
     "output_type": "stream",
     "text": [
      " 77%|███████▋  | 276/360 [1:18:42<1:05:56, 47.10s/it]"
     ]
    },
    {
     "name": "stdout",
     "output_type": "stream",
     "text": [
      "2021-05-06 15:22:32,786 - modnet - INFO - Preset #59 fitting finished, loss: 0.8144447505474091\n"
     ]
    },
    {
     "name": "stderr",
     "output_type": "stream",
     "text": [
      " 77%|███████▋  | 277/360 [1:19:04<54:55, 39.70s/it]  "
     ]
    },
    {
     "name": "stdout",
     "output_type": "stream",
     "text": [
      "2021-05-06 15:22:39,551 - modnet - INFO - Preset #65 fitting finished, loss: 22162.972788667677\n"
     ]
    },
    {
     "name": "stderr",
     "output_type": "stream",
     "text": [
      " 77%|███████▋  | 278/360 [1:19:11<40:48, 29.86s/it]"
     ]
    },
    {
     "name": "stdout",
     "output_type": "stream",
     "text": [
      "2021-05-06 15:23:13,757 - modnet - INFO - Preset #59 fitting finished, loss: 202731.18740472794\n"
     ]
    },
    {
     "name": "stderr",
     "output_type": "stream",
     "text": [
      " 78%|███████▊  | 279/360 [1:19:45<41:56, 31.06s/it]"
     ]
    },
    {
     "name": "stdout",
     "output_type": "stream",
     "text": [
      "2021-05-06 15:24:15,883 - modnet - INFO - Preset #58 fitting finished, loss: 0.7910245537757874\n"
     ]
    },
    {
     "name": "stderr",
     "output_type": "stream",
     "text": [
      " 78%|███████▊  | 280/360 [1:20:47<53:57, 40.46s/it]"
     ]
    },
    {
     "name": "stdout",
     "output_type": "stream",
     "text": [
      "2021-05-06 15:24:55,804 - modnet - INFO - Preset #64 fitting finished, loss: 0.7029781222343445\n"
     ]
    },
    {
     "name": "stderr",
     "output_type": "stream",
     "text": [
      " 78%|███████▊  | 281/360 [1:21:27<53:06, 40.34s/it]"
     ]
    },
    {
     "name": "stdout",
     "output_type": "stream",
     "text": [
      "2021-05-06 15:25:45,303 - modnet - INFO - Preset #64 fitting finished, loss: 1108.9263256072998\n"
     ]
    },
    {
     "name": "stderr",
     "output_type": "stream",
     "text": [
      " 78%|███████▊  | 282/360 [1:22:16<55:45, 42.89s/it]"
     ]
    },
    {
     "name": "stdout",
     "output_type": "stream",
     "text": [
      "2021-05-06 15:26:12,830 - modnet - INFO - Preset #60 fitting finished, loss: 0.5011224091053009\n"
     ]
    },
    {
     "name": "stderr",
     "output_type": "stream",
     "text": [
      " 79%|███████▊  | 283/360 [1:22:44<49:13, 38.36s/it]"
     ]
    },
    {
     "name": "stdout",
     "output_type": "stream",
     "text": [
      "2021-05-06 15:26:23,383 - modnet - INFO - Preset #56 fitting finished, loss: 0.5692689895629883\n"
     ]
    },
    {
     "name": "stderr",
     "output_type": "stream",
     "text": [
      " 79%|███████▉  | 284/360 [1:22:55<38:03, 30.04s/it]"
     ]
    },
    {
     "name": "stdout",
     "output_type": "stream",
     "text": [
      "2021-05-06 15:26:58,690 - modnet - INFO - Preset #62 fitting finished, loss: 11133.961140823365\n"
     ]
    },
    {
     "name": "stderr",
     "output_type": "stream",
     "text": [
      " 79%|███████▉  | 285/360 [1:23:30<39:36, 31.68s/it]"
     ]
    },
    {
     "name": "stdout",
     "output_type": "stream",
     "text": [
      "2021-05-06 15:27:02,083 - modnet - INFO - Preset #58 fitting finished, loss: 17402.362331485747\n"
     ]
    },
    {
     "name": "stderr",
     "output_type": "stream",
     "text": [
      " 79%|███████▉  | 286/360 [1:23:33<28:31, 23.12s/it]"
     ]
    },
    {
     "name": "stdout",
     "output_type": "stream",
     "text": [
      "2021-05-06 15:27:22,990 - modnet - INFO - Preset #64 fitting finished, loss: 0.7191809892654419\n"
     ]
    },
    {
     "name": "stderr",
     "output_type": "stream",
     "text": [
      " 80%|███████▉  | 287/360 [1:23:54<27:21, 22.48s/it]"
     ]
    },
    {
     "name": "stdout",
     "output_type": "stream",
     "text": [
      "2021-05-06 15:28:20,721 - modnet - INFO - Preset #65 fitting finished, loss: 199345.24313373567\n"
     ]
    },
    {
     "name": "stderr",
     "output_type": "stream",
     "text": [
      " 80%|████████  | 288/360 [1:24:52<39:43, 33.11s/it]"
     ]
    },
    {
     "name": "stdout",
     "output_type": "stream",
     "text": [
      "2021-05-06 15:28:24,832 - modnet - INFO - Preset #66 fitting finished, loss: 19.079755783081055\n"
     ]
    },
    {
     "name": "stderr",
     "output_type": "stream",
     "text": [
      " 80%|████████  | 289/360 [1:24:56<28:53, 24.42s/it]"
     ]
    },
    {
     "name": "stdout",
     "output_type": "stream",
     "text": [
      "2021-05-06 15:28:36,165 - modnet - INFO - Preset #61 fitting finished, loss: 0.36410146951675415\n"
     ]
    },
    {
     "name": "stderr",
     "output_type": "stream",
     "text": [
      " 81%|████████  | 290/360 [1:25:08<23:54, 20.50s/it]"
     ]
    },
    {
     "name": "stdout",
     "output_type": "stream",
     "text": [
      "2021-05-06 15:28:55,078 - modnet - INFO - Preset #59 fitting finished, loss: 1897.370390701294\n"
     ]
    },
    {
     "name": "stderr",
     "output_type": "stream",
     "text": [
      " 81%|████████  | 291/360 [1:25:27<23:06, 20.10s/it]"
     ]
    },
    {
     "name": "stdout",
     "output_type": "stream",
     "text": [
      "2021-05-06 15:29:20,693 - modnet - INFO - Preset #59 fitting finished, loss: 0.802683436870575\n"
     ]
    },
    {
     "name": "stderr",
     "output_type": "stream",
     "text": [
      " 81%|████████  | 292/360 [1:25:53<24:40, 21.78s/it]"
     ]
    },
    {
     "name": "stdout",
     "output_type": "stream",
     "text": [
      "2021-05-06 15:30:02,224 - modnet - INFO - Preset #66 fitting finished, loss: 0.4451258718967438\n"
     ]
    },
    {
     "name": "stderr",
     "output_type": "stream",
     "text": [
      " 81%|████████▏ | 293/360 [1:26:34<31:00, 27.77s/it]"
     ]
    },
    {
     "name": "stdout",
     "output_type": "stream",
     "text": [
      "2021-05-06 15:30:09,954 - modnet - INFO - Preset #60 fitting finished, loss: 0.46327607035636903\n"
     ]
    },
    {
     "name": "stderr",
     "output_type": "stream",
     "text": [
      " 82%|████████▏ | 294/360 [1:26:42<23:56, 21.77s/it]"
     ]
    },
    {
     "name": "stdout",
     "output_type": "stream",
     "text": [
      "2021-05-06 15:30:24,061 - modnet - INFO - Preset #66 fitting finished, loss: 0.3436590552330017\n"
     ]
    },
    {
     "name": "stderr",
     "output_type": "stream",
     "text": [
      " 82%|████████▏ | 295/360 [1:26:56<21:06, 19.48s/it]"
     ]
    },
    {
     "name": "stdout",
     "output_type": "stream",
     "text": [
      "2021-05-06 15:30:58,784 - modnet - INFO - Preset #60 fitting finished, loss: 1265.2132446289063\n"
     ]
    },
    {
     "name": "stderr",
     "output_type": "stream",
     "text": [
      " 82%|████████▏ | 296/360 [1:27:31<25:34, 23.97s/it]"
     ]
    },
    {
     "name": "stdout",
     "output_type": "stream",
     "text": [
      "2021-05-06 15:31:25,988 - modnet - INFO - Preset #60 fitting finished, loss: 365.00006713867185\n"
     ]
    },
    {
     "name": "stderr",
     "output_type": "stream",
     "text": [
      " 82%|████████▎ | 297/360 [1:27:58<26:10, 24.93s/it]"
     ]
    },
    {
     "name": "stdout",
     "output_type": "stream",
     "text": [
      "2021-05-06 15:31:30,313 - modnet - INFO - Preset #62 fitting finished, loss: 0.4651284098625183\n"
     ]
    },
    {
     "name": "stderr",
     "output_type": "stream",
     "text": [
      " 83%|████████▎ | 298/360 [1:28:02<19:25, 18.80s/it]"
     ]
    },
    {
     "name": "stdout",
     "output_type": "stream",
     "text": [
      "2021-05-06 15:31:54,441 - modnet - INFO - Preset #63 fitting finished, loss: 28325.72314453125\n"
     ]
    },
    {
     "name": "stderr",
     "output_type": "stream",
     "text": [
      " 83%|████████▎ | 299/360 [1:28:27<20:44, 20.41s/it]"
     ]
    },
    {
     "name": "stdout",
     "output_type": "stream",
     "text": [
      "2021-05-06 15:31:56,026 - modnet - INFO - Preset #58 fitting finished, loss: 3583.957614612579\n"
     ]
    },
    {
     "name": "stderr",
     "output_type": "stream",
     "text": [
      " 83%|████████▎ | 300/360 [1:28:28<14:43, 14.73s/it]"
     ]
    },
    {
     "name": "stdout",
     "output_type": "stream",
     "text": [
      "2021-05-06 15:31:58,136 - modnet - INFO - Preset #66 fitting finished, loss: 366.8610107421875\n"
     ]
    },
    {
     "name": "stderr",
     "output_type": "stream",
     "text": [
      " 84%|████████▎ | 301/360 [1:28:30<10:45, 10.94s/it]"
     ]
    },
    {
     "name": "stdout",
     "output_type": "stream",
     "text": [
      "2021-05-06 15:32:28,719 - modnet - INFO - Preset #63 fitting finished, loss: 0.3576732337474823\n"
     ]
    },
    {
     "name": "stderr",
     "output_type": "stream",
     "text": [
      " 84%|████████▍ | 302/360 [1:29:01<16:19, 16.89s/it]"
     ]
    },
    {
     "name": "stdout",
     "output_type": "stream",
     "text": [
      "2021-05-06 15:32:30,622 - modnet - INFO - Preset #59 fitting finished, loss: 0.8663444519042969\n"
     ]
    },
    {
     "name": "stderr",
     "output_type": "stream",
     "text": [
      " 84%|████████▍ | 303/360 [1:29:03<11:44, 12.36s/it]"
     ]
    },
    {
     "name": "stdout",
     "output_type": "stream",
     "text": [
      "2021-05-06 15:33:04,817 - modnet - INFO - Preset #65 fitting finished, loss: 0.6400001287460327\n"
     ]
    },
    {
     "name": "stderr",
     "output_type": "stream",
     "text": [
      " 84%|████████▍ | 304/360 [1:29:37<17:36, 18.87s/it]"
     ]
    },
    {
     "name": "stdout",
     "output_type": "stream",
     "text": [
      "2021-05-06 15:33:12,649 - modnet - INFO - Preset #61 fitting finished, loss: 362.74013671875\n"
     ]
    },
    {
     "name": "stderr",
     "output_type": "stream",
     "text": [
      " 85%|████████▍ | 305/360 [1:29:44<14:13, 15.51s/it]"
     ]
    },
    {
     "name": "stdout",
     "output_type": "stream",
     "text": [
      "2021-05-06 15:33:25,221 - modnet - INFO - Preset #57 fitting finished, loss: 0.5689456403255463\n"
     ]
    },
    {
     "name": "stderr",
     "output_type": "stream",
     "text": [
      " 85%|████████▌ | 306/360 [1:29:57<13:12, 14.68s/it]"
     ]
    },
    {
     "name": "stdout",
     "output_type": "stream",
     "text": [
      "2021-05-06 15:33:30,213 - modnet - INFO - Preset #54 fitting finished, loss: 0.4779616057872772\n"
     ]
    },
    {
     "name": "stderr",
     "output_type": "stream",
     "text": [
      " 85%|████████▌ | 307/360 [1:30:03<10:30, 11.89s/it]"
     ]
    },
    {
     "name": "stdout",
     "output_type": "stream",
     "text": [
      "2021-05-06 15:33:42,120 - modnet - INFO - Preset #57 fitting finished, loss: 0.7415638923645019\n"
     ]
    },
    {
     "name": "stderr",
     "output_type": "stream",
     "text": [
      " 86%|████████▌ | 308/360 [1:30:14<10:08, 11.70s/it]"
     ]
    },
    {
     "name": "stdout",
     "output_type": "stream",
     "text": [
      "2021-05-06 15:33:48,234 - modnet - INFO - Preset #60 fitting finished, loss: 0.3614931046962738\n"
     ]
    },
    {
     "name": "stderr",
     "output_type": "stream",
     "text": [
      " 86%|████████▌ | 309/360 [1:30:20<08:28,  9.97s/it]"
     ]
    },
    {
     "name": "stdout",
     "output_type": "stream",
     "text": [
      "2021-05-06 15:34:23,971 - modnet - INFO - Preset #66 fitting finished, loss: 0.4857524573802948\n"
     ]
    },
    {
     "name": "stderr",
     "output_type": "stream",
     "text": [
      " 86%|████████▌ | 310/360 [1:30:56<14:48, 17.76s/it]"
     ]
    },
    {
     "name": "stdout",
     "output_type": "stream",
     "text": [
      "2021-05-06 15:34:32,601 - modnet - INFO - Preset #61 fitting finished, loss: 0.48506494164466857\n"
     ]
    },
    {
     "name": "stderr",
     "output_type": "stream",
     "text": [
      " 86%|████████▋ | 311/360 [1:31:05<12:27, 15.25s/it]"
     ]
    },
    {
     "name": "stdout",
     "output_type": "stream",
     "text": [
      "2021-05-06 15:34:44,794 - modnet - INFO - Preset #67 fitting finished, loss: 298.6893707275391\n"
     ]
    },
    {
     "name": "stderr",
     "output_type": "stream",
     "text": [
      " 87%|████████▋ | 312/360 [1:31:17<11:23, 14.23s/it]"
     ]
    },
    {
     "name": "stdout",
     "output_type": "stream",
     "text": [
      "2021-05-06 15:34:55,066 - modnet - INFO - Preset #67 fitting finished, loss: 0.49030715227127075\n"
     ]
    },
    {
     "name": "stderr",
     "output_type": "stream",
     "text": [
      " 87%|████████▋ | 313/360 [1:31:27<10:04, 12.87s/it]"
     ]
    },
    {
     "name": "stdout",
     "output_type": "stream",
     "text": [
      "2021-05-06 15:35:16,721 - modnet - INFO - Preset #56 fitting finished, loss: 0.6217369794845581\n"
     ]
    },
    {
     "name": "stderr",
     "output_type": "stream",
     "text": [
      " 87%|████████▋ | 314/360 [1:31:49<12:05, 15.78s/it]"
     ]
    },
    {
     "name": "stdout",
     "output_type": "stream",
     "text": [
      "2021-05-06 15:35:21,517 - modnet - INFO - Preset #67 fitting finished, loss: 0.35811824202537534\n"
     ]
    },
    {
     "name": "stderr",
     "output_type": "stream",
     "text": [
      " 88%|████████▊ | 315/360 [1:31:54<09:25, 12.56s/it]"
     ]
    },
    {
     "name": "stdout",
     "output_type": "stream",
     "text": [
      "2021-05-06 15:35:37,286 - modnet - INFO - Preset #61 fitting finished, loss: 0.46875165700912474\n"
     ]
    },
    {
     "name": "stderr",
     "output_type": "stream",
     "text": [
      " 88%|████████▊ | 316/360 [1:32:10<09:54, 13.51s/it]"
     ]
    },
    {
     "name": "stdout",
     "output_type": "stream",
     "text": [
      "2021-05-06 15:35:41,788 - modnet - INFO - Preset #56 fitting finished, loss: 938.6920892238617\n"
     ]
    },
    {
     "name": "stderr",
     "output_type": "stream",
     "text": [
      " 88%|████████▊ | 317/360 [1:32:14<07:34, 10.57s/it]"
     ]
    },
    {
     "name": "stdout",
     "output_type": "stream",
     "text": [
      "2021-05-06 15:35:51,952 - modnet - INFO - Preset #55 fitting finished, loss: 436.4963317871094\n"
     ]
    },
    {
     "name": "stderr",
     "output_type": "stream",
     "text": [
      " 88%|████████▊ | 318/360 [1:32:24<07:20, 10.49s/it]"
     ]
    },
    {
     "name": "stdout",
     "output_type": "stream",
     "text": [
      "2021-05-06 15:35:56,216 - modnet - INFO - Preset #55 fitting finished, loss: 0.4880317568778992\n"
     ]
    },
    {
     "name": "stderr",
     "output_type": "stream",
     "text": [
      " 89%|████████▊ | 319/360 [1:32:28<05:53,  8.62s/it]"
     ]
    },
    {
     "name": "stdout",
     "output_type": "stream",
     "text": [
      "2021-05-06 15:35:57,696 - modnet - INFO - Preset #63 fitting finished, loss: 0.5260688304901123\n"
     ]
    },
    {
     "name": "stderr",
     "output_type": "stream",
     "text": [
      " 89%|████████▉ | 320/360 [1:32:29<04:16,  6.41s/it]"
     ]
    },
    {
     "name": "stdout",
     "output_type": "stream",
     "text": [
      "2021-05-06 15:36:21,979 - modnet - INFO - Preset #67 fitting finished, loss: 45.071173429489136\n"
     ]
    },
    {
     "name": "stderr",
     "output_type": "stream",
     "text": [
      " 89%|████████▉ | 321/360 [1:32:54<07:39, 11.79s/it]"
     ]
    },
    {
     "name": "stdout",
     "output_type": "stream",
     "text": [
      "2021-05-06 15:36:39,134 - modnet - INFO - Preset #56 fitting finished, loss: 0.45978360772132876\n"
     ]
    },
    {
     "name": "stderr",
     "output_type": "stream",
     "text": [
      " 89%|████████▉ | 322/360 [1:33:11<08:27, 13.36s/it]"
     ]
    },
    {
     "name": "stdout",
     "output_type": "stream",
     "text": [
      "2021-05-06 15:36:45,800 - modnet - INFO - Preset #68 fitting finished, loss: 0.35560737252235414\n"
     ]
    },
    {
     "name": "stderr",
     "output_type": "stream",
     "text": [
      " 90%|████████▉ | 323/360 [1:33:18<07:02, 11.41s/it]"
     ]
    },
    {
     "name": "stdout",
     "output_type": "stream",
     "text": [
      "2021-05-06 15:37:52,326 - modnet - INFO - Preset #68 fitting finished, loss: 1683.7696649551392\n"
     ]
    },
    {
     "name": "stderr",
     "output_type": "stream",
     "text": [
      " 90%|█████████ | 324/360 [1:34:24<16:43, 27.88s/it]"
     ]
    },
    {
     "name": "stdout",
     "output_type": "stream",
     "text": [
      "2021-05-06 15:37:56,975 - modnet - INFO - Preset #55 fitting finished, loss: 0.36775886416435244\n"
     ]
    },
    {
     "name": "stderr",
     "output_type": "stream",
     "text": [
      " 90%|█████████ | 325/360 [1:34:29<12:10, 20.88s/it]"
     ]
    },
    {
     "name": "stdout",
     "output_type": "stream",
     "text": [
      "2021-05-06 15:38:56,944 - modnet - INFO - Preset #67 fitting finished, loss: 0.45361085534095763\n"
     ]
    },
    {
     "name": "stderr",
     "output_type": "stream",
     "text": [
      " 91%|█████████ | 326/360 [1:35:28<18:24, 32.49s/it]"
     ]
    },
    {
     "name": "stdout",
     "output_type": "stream",
     "text": [
      "2021-05-06 15:39:30,624 - modnet - INFO - Preset #63 fitting finished, loss: 2867.607067871094\n"
     ]
    },
    {
     "name": "stderr",
     "output_type": "stream",
     "text": [
      " 91%|█████████ | 327/360 [1:36:02<18:03, 32.84s/it]"
     ]
    },
    {
     "name": "stdout",
     "output_type": "stream",
     "text": [
      "2021-05-06 15:39:53,543 - modnet - INFO - Preset #62 fitting finished, loss: 0.4571753263473511\n"
     ]
    },
    {
     "name": "stderr",
     "output_type": "stream",
     "text": [
      " 91%|█████████ | 328/360 [1:36:25<15:54, 29.82s/it]"
     ]
    },
    {
     "name": "stdout",
     "output_type": "stream",
     "text": [
      "2021-05-06 15:40:00,738 - modnet - INFO - Preset #61 fitting finished, loss: 1663.4619689941405\n"
     ]
    },
    {
     "name": "stderr",
     "output_type": "stream",
     "text": [
      " 91%|█████████▏| 329/360 [1:36:32<11:54, 23.05s/it]"
     ]
    },
    {
     "name": "stdout",
     "output_type": "stream",
     "text": [
      "2021-05-06 15:40:03,258 - modnet - INFO - Preset #69 fitting finished, loss: 447.3884735107422\n"
     ]
    },
    {
     "name": "stderr",
     "output_type": "stream",
     "text": [
      " 92%|█████████▏| 330/360 [1:36:35<08:31, 17.06s/it]"
     ]
    },
    {
     "name": "stdout",
     "output_type": "stream",
     "text": [
      "2021-05-06 15:40:21,914 - modnet - INFO - Preset #62 fitting finished, loss: 11515.021222686768\n"
     ]
    },
    {
     "name": "stderr",
     "output_type": "stream",
     "text": [
      " 92%|█████████▏| 331/360 [1:36:54<08:30, 17.59s/it]"
     ]
    },
    {
     "name": "stdout",
     "output_type": "stream",
     "text": [
      "2021-05-06 15:40:25,913 - modnet - INFO - Preset #70 fitting finished, loss: 126984.96559753417\n"
     ]
    },
    {
     "name": "stderr",
     "output_type": "stream",
     "text": [
      " 92%|█████████▏| 332/360 [1:36:57<06:15, 13.40s/it]"
     ]
    },
    {
     "name": "stdout",
     "output_type": "stream",
     "text": [
      "2021-05-06 15:40:35,641 - modnet - INFO - Preset #57 fitting finished, loss: 95706.13773803711\n"
     ]
    },
    {
     "name": "stderr",
     "output_type": "stream",
     "text": [
      " 92%|█████████▎| 333/360 [1:37:07<05:33, 12.34s/it]"
     ]
    },
    {
     "name": "stdout",
     "output_type": "stream",
     "text": [
      "2021-05-06 15:40:53,732 - modnet - INFO - Preset #68 fitting finished, loss: 0.5535345315933228\n"
     ]
    },
    {
     "name": "stderr",
     "output_type": "stream",
     "text": [
      " 93%|█████████▎| 334/360 [1:37:26<06:07, 14.14s/it]"
     ]
    },
    {
     "name": "stdout",
     "output_type": "stream",
     "text": [
      "2021-05-06 15:40:55,706 - modnet - INFO - Preset #69 fitting finished, loss: 0.36296470165252687\n"
     ]
    },
    {
     "name": "stderr",
     "output_type": "stream",
     "text": [
      " 93%|█████████▎| 335/360 [1:37:27<04:20, 10.43s/it]"
     ]
    },
    {
     "name": "stdout",
     "output_type": "stream",
     "text": [
      "2021-05-06 15:41:02,570 - modnet - INFO - Preset #68 fitting finished, loss: 0.45969473123550414\n"
     ]
    },
    {
     "name": "stderr",
     "output_type": "stream",
     "text": [
      " 93%|█████████▎| 336/360 [1:37:34<03:42,  9.27s/it]"
     ]
    },
    {
     "name": "stdout",
     "output_type": "stream",
     "text": [
      "2021-05-06 15:41:10,545 - modnet - INFO - Preset #62 fitting finished, loss: 0.5250627517700195\n"
     ]
    },
    {
     "name": "stderr",
     "output_type": "stream",
     "text": [
      " 94%|█████████▎| 337/360 [1:37:42<03:26,  8.98s/it]"
     ]
    },
    {
     "name": "stdout",
     "output_type": "stream",
     "text": [
      "2021-05-06 15:41:32,340 - modnet - INFO - Preset #54 fitting finished, loss: 447.17860717773436\n"
     ]
    },
    {
     "name": "stderr",
     "output_type": "stream",
     "text": [
      " 94%|█████████▍| 338/360 [1:38:04<04:41, 12.81s/it]"
     ]
    },
    {
     "name": "stdout",
     "output_type": "stream",
     "text": [
      "2021-05-06 15:41:47,807 - modnet - INFO - Preset #70 fitting finished, loss: 4681.258728027344\n"
     ]
    },
    {
     "name": "stderr",
     "output_type": "stream",
     "text": [
      " 94%|█████████▍| 339/360 [1:38:19<04:44, 13.54s/it]"
     ]
    },
    {
     "name": "stdout",
     "output_type": "stream",
     "text": [
      "2021-05-06 15:42:07,857 - modnet - INFO - Preset #70 fitting finished, loss: 0.6226071059703827\n"
     ]
    },
    {
     "name": "stderr",
     "output_type": "stream",
     "text": [
      " 94%|█████████▍| 340/360 [1:38:40<05:12, 15.62s/it]"
     ]
    },
    {
     "name": "stdout",
     "output_type": "stream",
     "text": [
      "2021-05-06 15:42:10,530 - modnet - INFO - Preset #63 fitting finished, loss: 0.4667597830295563\n"
     ]
    },
    {
     "name": "stderr",
     "output_type": "stream",
     "text": [
      " 95%|█████████▍| 341/360 [1:38:42<03:43, 11.75s/it]"
     ]
    },
    {
     "name": "stdout",
     "output_type": "stream",
     "text": [
      "2021-05-06 15:42:12,798 - modnet - INFO - Preset #71 fitting finished, loss: 26114.64169921875\n"
     ]
    },
    {
     "name": "stderr",
     "output_type": "stream",
     "text": [
      " 95%|█████████▌| 342/360 [1:38:45<02:40,  8.91s/it]"
     ]
    },
    {
     "name": "stdout",
     "output_type": "stream",
     "text": [
      "2021-05-06 15:42:16,152 - modnet - INFO - Preset #71 fitting finished, loss: 0.6071302592754364\n"
     ]
    },
    {
     "name": "stderr",
     "output_type": "stream",
     "text": [
      " 95%|█████████▌| 343/360 [1:38:48<02:02,  7.20s/it]"
     ]
    },
    {
     "name": "stdout",
     "output_type": "stream",
     "text": [
      "2021-05-06 15:42:23,447 - modnet - INFO - Preset #68 fitting finished, loss: 1047.9138427734374\n"
     ]
    },
    {
     "name": "stderr",
     "output_type": "stream",
     "text": [
      " 96%|█████████▌| 344/360 [1:38:55<01:54,  7.17s/it]"
     ]
    },
    {
     "name": "stdout",
     "output_type": "stream",
     "text": [
      "2021-05-06 15:43:04,529 - modnet - INFO - Preset #71 fitting finished, loss: 0.4199765741825104\n"
     ]
    },
    {
     "name": "stderr",
     "output_type": "stream",
     "text": [
      " 96%|█████████▌| 345/360 [1:39:36<04:17, 17.19s/it]"
     ]
    },
    {
     "name": "stdout",
     "output_type": "stream",
     "text": [
      "2021-05-06 15:43:41,588 - modnet - INFO - Preset #54 fitting finished, loss: 1399.3845703125\n"
     ]
    },
    {
     "name": "stderr",
     "output_type": "stream",
     "text": [
      " 96%|█████████▌| 346/360 [1:40:13<05:24, 23.18s/it]"
     ]
    },
    {
     "name": "stdout",
     "output_type": "stream",
     "text": [
      "2021-05-06 15:43:43,300 - modnet - INFO - Preset #69 fitting finished, loss: 0.46662108302116395\n"
     ]
    },
    {
     "name": "stderr",
     "output_type": "stream",
     "text": [
      " 96%|█████████▋| 347/360 [1:40:15<03:38, 16.79s/it]"
     ]
    },
    {
     "name": "stdout",
     "output_type": "stream",
     "text": [
      "2021-05-06 15:43:45,110 - modnet - INFO - Preset #69 fitting finished, loss: 4906.977838134766\n"
     ]
    },
    {
     "name": "stderr",
     "output_type": "stream",
     "text": [
      " 97%|█████████▋| 348/360 [1:40:16<02:27, 12.25s/it]"
     ]
    },
    {
     "name": "stdout",
     "output_type": "stream",
     "text": [
      "2021-05-06 15:43:59,932 - modnet - INFO - Preset #54 fitting finished, loss: 0.4678863823413849\n"
     ]
    },
    {
     "name": "stderr",
     "output_type": "stream",
     "text": [
      " 97%|█████████▋| 349/360 [1:40:31<02:24, 13.12s/it]"
     ]
    },
    {
     "name": "stdout",
     "output_type": "stream",
     "text": [
      "2021-05-06 15:44:01,119 - modnet - INFO - Preset #55 fitting finished, loss: 0.5263949036598206\n"
     ]
    },
    {
     "name": "stderr",
     "output_type": "stream",
     "text": [
      " 97%|█████████▋| 350/360 [1:40:32<01:35,  9.53s/it]"
     ]
    },
    {
     "name": "stdout",
     "output_type": "stream",
     "text": [
      "2021-05-06 15:44:22,451 - modnet - INFO - Preset #71 fitting finished, loss: 0.55694078207016\n"
     ]
    },
    {
     "name": "stderr",
     "output_type": "stream",
     "text": [
      " 98%|█████████▊| 351/360 [1:40:54<01:56, 12.99s/it]"
     ]
    },
    {
     "name": "stdout",
     "output_type": "stream",
     "text": [
      "2021-05-06 15:44:51,640 - modnet - INFO - Preset #70 fitting finished, loss: 0.4642707347869873\n"
     ]
    },
    {
     "name": "stderr",
     "output_type": "stream",
     "text": [
      " 98%|█████████▊| 352/360 [1:41:23<02:22, 17.85s/it]"
     ]
    },
    {
     "name": "stdout",
     "output_type": "stream",
     "text": [
      "2021-05-06 15:44:56,234 - modnet - INFO - Preset #71 fitting finished, loss: 1832.9135681152343\n"
     ]
    },
    {
     "name": "stderr",
     "output_type": "stream",
     "text": [
      " 98%|█████████▊| 353/360 [1:41:27<01:37, 13.86s/it]"
     ]
    },
    {
     "name": "stdout",
     "output_type": "stream",
     "text": [
      "2021-05-06 15:45:15,840 - modnet - INFO - Preset #69 fitting finished, loss: 0.5184364676475525\n"
     ]
    },
    {
     "name": "stderr",
     "output_type": "stream",
     "text": [
      " 98%|█████████▊| 354/360 [1:41:47<01:33, 15.58s/it]"
     ]
    },
    {
     "name": "stdout",
     "output_type": "stream",
     "text": [
      "2021-05-06 15:45:36,060 - modnet - INFO - Preset #70 fitting finished, loss: 0.5950569748878479\n"
     ]
    },
    {
     "name": "stderr",
     "output_type": "stream",
     "text": [
      " 99%|█████████▊| 355/360 [1:42:07<01:24, 16.96s/it]"
     ]
    },
    {
     "name": "stdout",
     "output_type": "stream",
     "text": [
      "2021-05-06 15:47:51,197 - modnet - INFO - Preset #56 fitting finished, loss: 19643.290990114212\n"
     ]
    },
    {
     "name": "stderr",
     "output_type": "stream",
     "text": [
      " 99%|█████████▉| 356/360 [1:44:22<03:29, 52.35s/it]"
     ]
    },
    {
     "name": "stdout",
     "output_type": "stream",
     "text": [
      "2021-05-06 15:48:10,177 - modnet - INFO - Preset #55 fitting finished, loss: 2584.1159912109374\n"
     ]
    },
    {
     "name": "stderr",
     "output_type": "stream",
     "text": [
      " 99%|█████████▉| 357/360 [1:44:41<02:06, 42.33s/it]"
     ]
    },
    {
     "name": "stdout",
     "output_type": "stream",
     "text": [
      "2021-05-06 15:48:14,977 - modnet - INFO - Preset #57 fitting finished, loss: 1646.3239013671875\n"
     ]
    },
    {
     "name": "stderr",
     "output_type": "stream",
     "text": [
      " 99%|█████████▉| 358/360 [1:44:46<01:02, 31.08s/it]"
     ]
    },
    {
     "name": "stdout",
     "output_type": "stream",
     "text": [
      "2021-05-06 15:50:18,387 - modnet - INFO - Preset #54 fitting finished, loss: 0.34103920459747317\n"
     ]
    },
    {
     "name": "stderr",
     "output_type": "stream",
     "text": [
      "100%|█████████▉| 359/360 [1:46:49<00:58, 58.79s/it]"
     ]
    },
    {
     "name": "stdout",
     "output_type": "stream",
     "text": [
      "2021-05-06 15:50:21,221 - modnet - INFO - Preset #57 fitting finished, loss: 0.5442232131958008\n"
     ]
    },
    {
     "name": "stderr",
     "output_type": "stream",
     "text": [
      "100%|██████████| 360/360 [1:46:52<00:00, 17.81s/it]\n"
     ]
    },
    {
     "name": "stdout",
     "output_type": "stream",
     "text": [
      "2021-05-06 15:50:25,998 - modnet - INFO - Preset #10 resulted in lowest validation loss with params {'train_data': <modnet.preprocessing.MODData object at 0x7f604bcbee80>, 'targets': [[['exp_gap']]], 'weights': {'exp_gap': 1}, 'n_models': 5, 'num_classes': {'exp_gap': 0}, 'n_feat': 64, 'num_neurons': [[64], [32], [8], [8]], 'lr': 0.005, 'batch_size': 64, 'epochs': 1000, 'loss': 'mae', 'act': 'elu', 'out_act': 'linear', 'callbacks': [<tensorflow.python.keras.callbacks.EarlyStopping object at 0x7f6029bdcb20>], 'preset_id': 9, 'fold_id': 0, 'verbose': 0, 'val_data': <modnet.preprocessing.MODData object at 0x7f602a1f82e0>}\n",
      "mae\n",
      "0.35051085068210347\n",
      "uncertainty\n",
      "0.30915102\n",
      "2021-05-06 15:50:55,517 - modnet - INFO - Loaded <modnet.preprocessing.MODData object at 0x7f602bbfa460> object, created with modnet version 0.1.9\n",
      "2021-05-06 15:51:00,585 - modnet - INFO - Proceeding with grid search: archs: [(64, [[128], [32], [8], [8]]), (64, [[64], [32], [8], [8]]), (64, [[32], [16], [8], [8]]), (128, [[256], [64], [16], [16]]), (128, [[128], [64], [16], [16]]), (128, [[64], [32], [16], [16]]), (256, [[512], [128], [32], [32]]), (256, [[256], [128], [32], [32]]), (256, [[128], [64], [32], [32]]), (512, [[1024], [256], [64], [64]]), (512, [[512], [256], [64], [64]]), (512, [[256], [128], [64], [64]])], batch sizes: [64], learning_rates: [0.001, 0.005, 0.01]\n",
      "2021-05-06 15:51:08,857 - modnet - INFO - Multiprocessing on 64 cores. Total of 128 cores available.\n"
     ]
    },
    {
     "name": "stderr",
     "output_type": "stream",
     "text": [
      "  0%|          | 0/360 [00:00<?, ?it/s]"
     ]
    },
    {
     "name": "stdout",
     "output_type": "stream",
     "text": [
      "2021-05-06 16:04:10,617 - modnet - INFO - Preset #10 fitting finished, loss: 0.40626543164253237\n"
     ]
    },
    {
     "name": "stderr",
     "output_type": "stream",
     "text": [
      "  0%|          | 1/360 [13:03<78:05:51, 783.15s/it]"
     ]
    },
    {
     "name": "stdout",
     "output_type": "stream",
     "text": [
      "2021-05-06 16:04:18,412 - modnet - INFO - Preset #5 fitting finished, loss: 0.39864336848258974\n"
     ]
    },
    {
     "name": "stderr",
     "output_type": "stream",
     "text": [
      "  1%|          | 2/360 [13:10<54:44:31, 550.48s/it]"
     ]
    },
    {
     "name": "stdout",
     "output_type": "stream",
     "text": [
      "2021-05-06 16:04:53,898 - modnet - INFO - Preset #11 fitting finished, loss: 0.4130104541778564\n"
     ]
    },
    {
     "name": "stderr",
     "output_type": "stream",
     "text": [
      "  1%|          | 3/360 [13:46<39:16:26, 396.04s/it]"
     ]
    },
    {
     "name": "stdout",
     "output_type": "stream",
     "text": [
      "2021-05-06 16:05:34,170 - modnet - INFO - Preset #5 fitting finished, loss: 0.412852531671524\n"
     ]
    },
    {
     "name": "stderr",
     "output_type": "stream",
     "text": [
      "  1%|          | 4/360 [14:26<28:36:45, 289.34s/it]"
     ]
    },
    {
     "name": "stdout",
     "output_type": "stream",
     "text": [
      "2021-05-06 16:05:35,655 - modnet - INFO - Preset #11 fitting finished, loss: 0.51612588763237\n"
     ]
    },
    {
     "name": "stderr",
     "output_type": "stream",
     "text": [
      "  1%|▏         | 5/360 [14:27<20:00:28, 202.90s/it]"
     ]
    },
    {
     "name": "stdout",
     "output_type": "stream",
     "text": [
      "2021-05-06 16:05:47,285 - modnet - INFO - Preset #4 fitting finished, loss: 0.4571218371391296\n"
     ]
    },
    {
     "name": "stderr",
     "output_type": "stream",
     "text": [
      "  2%|▏         | 6/360 [14:39<14:19:05, 145.61s/it]"
     ]
    },
    {
     "name": "stdout",
     "output_type": "stream",
     "text": [
      "2021-05-06 16:05:57,000 - modnet - INFO - Preset #4 fitting finished, loss: 0.4124093413352966\n"
     ]
    },
    {
     "name": "stderr",
     "output_type": "stream",
     "text": [
      "  2%|▏         | 7/360 [14:49<10:16:04, 104.72s/it]"
     ]
    },
    {
     "name": "stdout",
     "output_type": "stream",
     "text": [
      "2021-05-06 16:06:07,154 - modnet - INFO - Preset #2 fitting finished, loss: 0.5335365772247315\n"
     ]
    },
    {
     "name": "stderr",
     "output_type": "stream",
     "text": [
      "  2%|▏         | 8/360 [14:59<7:28:05, 76.38s/it]  "
     ]
    },
    {
     "name": "stdout",
     "output_type": "stream",
     "text": [
      "2021-05-06 16:06:21,926 - modnet - INFO - Preset #5 fitting finished, loss: 0.5323136210441589\n"
     ]
    },
    {
     "name": "stderr",
     "output_type": "stream",
     "text": [
      "  2%|▎         | 9/360 [15:14<5:38:57, 57.94s/it]"
     ]
    },
    {
     "name": "stdout",
     "output_type": "stream",
     "text": [
      "2021-05-06 16:06:27,160 - modnet - INFO - Preset #2 fitting finished, loss: 0.4781459391117096\n"
     ]
    },
    {
     "name": "stderr",
     "output_type": "stream",
     "text": [
      "  3%|▎         | 10/360 [15:19<4:05:29, 42.09s/it]"
     ]
    },
    {
     "name": "stdout",
     "output_type": "stream",
     "text": [
      "2021-05-06 16:06:29,541 - modnet - INFO - Preset #10 fitting finished, loss: 0.4090226233005524\n"
     ]
    },
    {
     "name": "stderr",
     "output_type": "stream",
     "text": [
      "  3%|▎         | 11/360 [15:22<2:55:50, 30.23s/it]"
     ]
    },
    {
     "name": "stdout",
     "output_type": "stream",
     "text": [
      "2021-05-06 16:06:45,525 - modnet - INFO - Preset #8 fitting finished, loss: 0.5356110334396362\n"
     ]
    },
    {
     "name": "stderr",
     "output_type": "stream",
     "text": [
      "  3%|▎         | 12/360 [15:37<2:29:56, 25.85s/it]"
     ]
    },
    {
     "name": "stdout",
     "output_type": "stream",
     "text": [
      "2021-05-06 16:06:59,628 - modnet - INFO - Preset #9 fitting finished, loss: 0.41064592003822326\n"
     ]
    },
    {
     "name": "stderr",
     "output_type": "stream",
     "text": [
      "  4%|▎         | 13/360 [15:52<2:09:37, 22.41s/it]"
     ]
    },
    {
     "name": "stdout",
     "output_type": "stream",
     "text": [
      "2021-05-06 16:07:04,862 - modnet - INFO - Preset #11 fitting finished, loss: 0.43066431283950807\n"
     ]
    },
    {
     "name": "stderr",
     "output_type": "stream",
     "text": [
      "  4%|▍         | 14/360 [15:57<1:39:28, 17.25s/it]"
     ]
    },
    {
     "name": "stdout",
     "output_type": "stream",
     "text": [
      "2021-05-06 16:07:12,671 - modnet - INFO - Preset #11 fitting finished, loss: 0.44715487360954287\n"
     ]
    },
    {
     "name": "stderr",
     "output_type": "stream",
     "text": [
      "  4%|▍         | 15/360 [16:05<1:22:54, 14.42s/it]"
     ]
    },
    {
     "name": "stdout",
     "output_type": "stream",
     "text": [
      "2021-05-06 16:07:37,426 - modnet - INFO - Preset #4 fitting finished, loss: 0.5499307632446289\n"
     ]
    },
    {
     "name": "stderr",
     "output_type": "stream",
     "text": [
      "  4%|▍         | 16/360 [16:29<1:40:14, 17.48s/it]"
     ]
    },
    {
     "name": "stdout",
     "output_type": "stream",
     "text": [
      "2021-05-06 16:07:38,605 - modnet - INFO - Preset #10 fitting finished, loss: 0.48270968794822694\n"
     ]
    },
    {
     "name": "stderr",
     "output_type": "stream",
     "text": [
      "  5%|▍         | 17/360 [16:30<1:12:04, 12.61s/it]"
     ]
    },
    {
     "name": "stdout",
     "output_type": "stream",
     "text": [
      "2021-05-06 16:07:46,317 - modnet - INFO - Preset #10 fitting finished, loss: 0.5250989735126496\n"
     ]
    },
    {
     "name": "stderr",
     "output_type": "stream",
     "text": [
      "  5%|▌         | 18/360 [16:38<1:03:33, 11.15s/it]"
     ]
    },
    {
     "name": "stdout",
     "output_type": "stream",
     "text": [
      "2021-05-06 16:07:53,140 - modnet - INFO - Preset #10 fitting finished, loss: 0.40928010940551757\n"
     ]
    },
    {
     "name": "stderr",
     "output_type": "stream",
     "text": [
      "  5%|▌         | 19/360 [16:45<56:17,  9.90s/it]  "
     ]
    },
    {
     "name": "stdout",
     "output_type": "stream",
     "text": [
      "2021-05-06 16:08:10,586 - modnet - INFO - Preset #3 fitting finished, loss: 0.4684025049209595\n"
     ]
    },
    {
     "name": "stderr",
     "output_type": "stream",
     "text": [
      "  6%|▌         | 20/360 [17:02<1:08:10, 12.03s/it]"
     ]
    },
    {
     "name": "stdout",
     "output_type": "stream",
     "text": [
      "2021-05-06 16:08:11,677 - modnet - INFO - Preset #9 fitting finished, loss: 0.4040533363819122\n"
     ]
    },
    {
     "name": "stderr",
     "output_type": "stream",
     "text": [
      "  6%|▌         | 21/360 [17:04<50:16,  8.90s/it]  "
     ]
    },
    {
     "name": "stdout",
     "output_type": "stream",
     "text": [
      "2021-05-06 16:08:18,570 - modnet - INFO - Preset #3 fitting finished, loss: 0.5076824307441712\n"
     ]
    },
    {
     "name": "stderr",
     "output_type": "stream",
     "text": [
      "  6%|▌         | 22/360 [17:10<46:17,  8.22s/it]"
     ]
    },
    {
     "name": "stdout",
     "output_type": "stream",
     "text": [
      "2021-05-06 16:08:23,170 - modnet - INFO - Preset #3 fitting finished, loss: 0.4250630557537079\n"
     ]
    },
    {
     "name": "stderr",
     "output_type": "stream",
     "text": [
      "  6%|▋         | 23/360 [17:15<40:11,  7.16s/it]"
     ]
    },
    {
     "name": "stdout",
     "output_type": "stream",
     "text": [
      "2021-05-06 16:08:25,681 - modnet - INFO - Preset #11 fitting finished, loss: 0.3892602860927582\n"
     ]
    },
    {
     "name": "stderr",
     "output_type": "stream",
     "text": [
      "  7%|▋         | 24/360 [17:17<31:54,  5.70s/it]"
     ]
    },
    {
     "name": "stdout",
     "output_type": "stream",
     "text": [
      "2021-05-06 16:08:28,720 - modnet - INFO - Preset #4 fitting finished, loss: 0.43022016286849973\n"
     ]
    },
    {
     "name": "stderr",
     "output_type": "stream",
     "text": [
      "  7%|▋         | 25/360 [17:21<27:40,  4.96s/it]"
     ]
    },
    {
     "name": "stdout",
     "output_type": "stream",
     "text": [
      "2021-05-06 16:08:48,641 - modnet - INFO - Preset #8 fitting finished, loss: 0.4740221858024597\n"
     ]
    },
    {
     "name": "stderr",
     "output_type": "stream",
     "text": [
      "  7%|▋         | 26/360 [17:40<51:50,  9.31s/it]"
     ]
    },
    {
     "name": "stdout",
     "output_type": "stream",
     "text": [
      "2021-05-06 16:08:53,515 - modnet - INFO - Preset #8 fitting finished, loss: 0.38173272609710696\n"
     ]
    },
    {
     "name": "stderr",
     "output_type": "stream",
     "text": [
      "  8%|▊         | 27/360 [17:49<50:12,  9.05s/it]"
     ]
    },
    {
     "name": "stdout",
     "output_type": "stream",
     "text": [
      "2021-05-06 16:08:57,898 - modnet - INFO - Preset #4 fitting finished, loss: 0.4213929533958435\n"
     ]
    },
    {
     "name": "stderr",
     "output_type": "stream",
     "text": [
      "  8%|▊         | 28/360 [17:50<37:17,  6.74s/it]"
     ]
    },
    {
     "name": "stdout",
     "output_type": "stream",
     "text": [
      "2021-05-06 16:09:07,056 - modnet - INFO - Preset #8 fitting finished, loss: 0.427033531665802\n"
     ]
    },
    {
     "name": "stderr",
     "output_type": "stream",
     "text": [
      "  8%|▊         | 29/360 [17:59<41:27,  7.51s/it]"
     ]
    },
    {
     "name": "stdout",
     "output_type": "stream",
     "text": [
      "2021-05-06 16:09:09,302 - modnet - INFO - Preset #5 fitting finished, loss: 0.42215781211853026\n"
     ]
    },
    {
     "name": "stderr",
     "output_type": "stream",
     "text": [
      "  8%|▊         | 30/360 [18:01<32:37,  5.93s/it]"
     ]
    },
    {
     "name": "stdout",
     "output_type": "stream",
     "text": [
      "2021-05-06 16:09:21,800 - modnet - INFO - Preset #3 fitting finished, loss: 0.4347928762435913\n"
     ]
    },
    {
     "name": "stderr",
     "output_type": "stream",
     "text": [
      "  9%|▊         | 31/360 [18:14<43:02,  7.85s/it]"
     ]
    },
    {
     "name": "stdout",
     "output_type": "stream",
     "text": [
      "2021-05-06 16:10:13,490 - modnet - INFO - Preset #7 fitting finished, loss: 0.4522275447845459\n"
     ]
    },
    {
     "name": "stderr",
     "output_type": "stream",
     "text": [
      "  9%|▉         | 32/360 [19:05<1:54:44, 20.99s/it]"
     ]
    },
    {
     "name": "stdout",
     "output_type": "stream",
     "text": [
      "2021-05-06 16:10:19,376 - modnet - INFO - Preset #8 fitting finished, loss: 0.42526917457580565\n"
     ]
    },
    {
     "name": "stderr",
     "output_type": "stream",
     "text": [
      "  9%|▉         | 33/360 [19:11<1:29:51, 16.49s/it]"
     ]
    },
    {
     "name": "stdout",
     "output_type": "stream",
     "text": [
      "2021-05-06 16:10:31,049 - modnet - INFO - Preset #0 fitting finished, loss: 0.5577624678611756\n"
     ]
    },
    {
     "name": "stderr",
     "output_type": "stream",
     "text": [
      "  9%|▉         | 34/360 [19:23<1:21:40, 15.03s/it]"
     ]
    },
    {
     "name": "stdout",
     "output_type": "stream",
     "text": [
      "2021-05-06 16:10:39,079 - modnet - INFO - Preset #9 fitting finished, loss: 0.41650286316871643\n"
     ]
    },
    {
     "name": "stderr",
     "output_type": "stream",
     "text": [
      " 10%|▉         | 35/360 [19:31<1:10:10, 12.95s/it]"
     ]
    },
    {
     "name": "stdout",
     "output_type": "stream",
     "text": [
      "2021-05-06 16:10:53,855 - modnet - INFO - Preset #2 fitting finished, loss: 0.4391379177570343\n"
     ]
    },
    {
     "name": "stderr",
     "output_type": "stream",
     "text": [
      " 10%|█         | 36/360 [19:46<1:12:29, 13.43s/it]"
     ]
    },
    {
     "name": "stdout",
     "output_type": "stream",
     "text": [
      "2021-05-06 16:11:02,765 - modnet - INFO - Preset #7 fitting finished, loss: 0.5148670434951782\n"
     ]
    },
    {
     "name": "stderr",
     "output_type": "stream",
     "text": [
      " 10%|█         | 37/360 [19:55<1:05:02, 12.08s/it]"
     ]
    },
    {
     "name": "stdout",
     "output_type": "stream",
     "text": [
      "2021-05-06 16:11:23,589 - modnet - INFO - Preset #2 fitting finished, loss: 0.4230868279933929\n"
     ]
    },
    {
     "name": "stderr",
     "output_type": "stream",
     "text": [
      " 11%|█         | 38/360 [20:15<1:18:55, 14.71s/it]"
     ]
    },
    {
     "name": "stdout",
     "output_type": "stream",
     "text": [
      "2021-05-06 16:11:39,494 - modnet - INFO - Preset #3 fitting finished, loss: 0.39973745346069334\n"
     ]
    },
    {
     "name": "stderr",
     "output_type": "stream",
     "text": [
      " 11%|█         | 39/360 [20:31<1:20:27, 15.04s/it]"
     ]
    },
    {
     "name": "stdout",
     "output_type": "stream",
     "text": [
      "2021-05-06 16:11:42,449 - modnet - INFO - Preset #1 fitting finished, loss: 0.4519956707954407\n"
     ]
    },
    {
     "name": "stderr",
     "output_type": "stream",
     "text": [
      " 11%|█         | 40/360 [20:34<1:01:01, 11.44s/it]"
     ]
    },
    {
     "name": "stdout",
     "output_type": "stream",
     "text": [
      "2021-05-06 16:11:53,799 - modnet - INFO - Preset #0 fitting finished, loss: 0.45961796641349795\n"
     ]
    },
    {
     "name": "stderr",
     "output_type": "stream",
     "text": [
      " 11%|█▏        | 41/360 [20:46<1:00:51, 11.45s/it]"
     ]
    },
    {
     "name": "stdout",
     "output_type": "stream",
     "text": [
      "2021-05-06 16:12:06,828 - modnet - INFO - Preset #7 fitting finished, loss: 0.5695601582527161\n"
     ]
    },
    {
     "name": "stderr",
     "output_type": "stream",
     "text": [
      " 12%|█▏        | 42/360 [20:59<1:03:21, 11.95s/it]"
     ]
    },
    {
     "name": "stdout",
     "output_type": "stream",
     "text": [
      "2021-05-06 16:12:18,719 - modnet - INFO - Preset #9 fitting finished, loss: 0.5277408301830292\n"
     ]
    },
    {
     "name": "stderr",
     "output_type": "stream",
     "text": [
      " 12%|█▏        | 43/360 [21:10<1:02:31, 11.83s/it]"
     ]
    },
    {
     "name": "stdout",
     "output_type": "stream",
     "text": [
      "2021-05-06 16:12:34,023 - modnet - INFO - Preset #2 fitting finished, loss: 0.3997604489326477\n"
     ]
    },
    {
     "name": "stderr",
     "output_type": "stream",
     "text": [
      " 12%|█▏        | 44/360 [21:26<1:08:17, 12.97s/it]"
     ]
    },
    {
     "name": "stdout",
     "output_type": "stream",
     "text": [
      "2021-05-06 16:12:47,954 - modnet - INFO - Preset #12 fitting finished, loss: 0.5100334882736206\n"
     ]
    },
    {
     "name": "stderr",
     "output_type": "stream",
     "text": [
      " 12%|█▎        | 45/360 [21:40<1:09:16, 13.20s/it]"
     ]
    },
    {
     "name": "stdout",
     "output_type": "stream",
     "text": [
      "2021-05-06 16:12:49,195 - modnet - INFO - Preset #1 fitting finished, loss: 0.4434375584125519\n"
     ]
    },
    {
     "name": "stderr",
     "output_type": "stream",
     "text": [
      " 13%|█▎        | 46/360 [21:41<50:30,  9.65s/it]  "
     ]
    },
    {
     "name": "stdout",
     "output_type": "stream",
     "text": [
      "2021-05-06 16:13:41,616 - modnet - INFO - Preset #12 fitting finished, loss: 0.48016146421432493\n"
     ]
    },
    {
     "name": "stderr",
     "output_type": "stream",
     "text": [
      " 13%|█▎        | 47/360 [22:33<1:56:56, 22.42s/it]"
     ]
    },
    {
     "name": "stdout",
     "output_type": "stream",
     "text": [
      "2021-05-06 16:13:45,590 - modnet - INFO - Preset #5 fitting finished, loss: 0.502610445022583\n"
     ]
    },
    {
     "name": "stderr",
     "output_type": "stream",
     "text": [
      " 13%|█▎        | 48/360 [22:38<1:28:08, 16.95s/it]"
     ]
    },
    {
     "name": "stdout",
     "output_type": "stream",
     "text": [
      "2021-05-06 16:14:01,283 - modnet - INFO - Preset #9 fitting finished, loss: 0.45401411652565005\n"
     ]
    },
    {
     "name": "stderr",
     "output_type": "stream",
     "text": [
      " 14%|█▎        | 49/360 [22:53<1:25:46, 16.55s/it]"
     ]
    },
    {
     "name": "stdout",
     "output_type": "stream",
     "text": [
      "2021-05-06 16:14:14,937 - modnet - INFO - Preset #0 fitting finished, loss: 0.4335920035839081\n"
     ]
    },
    {
     "name": "stderr",
     "output_type": "stream",
     "text": [
      " 14%|█▍        | 50/360 [23:07<1:21:02, 15.69s/it]"
     ]
    },
    {
     "name": "stdout",
     "output_type": "stream",
     "text": [
      "2021-05-06 16:14:16,243 - modnet - INFO - Preset #6 fitting finished, loss: 0.4329844355583191\n"
     ]
    },
    {
     "name": "stderr",
     "output_type": "stream",
     "text": [
      " 14%|█▍        | 51/360 [23:08<58:19, 11.33s/it]  "
     ]
    },
    {
     "name": "stdout",
     "output_type": "stream",
     "text": [
      "2021-05-06 16:14:41,543 - modnet - INFO - Preset #0 fitting finished, loss: 0.45417659282684325\n"
     ]
    },
    {
     "name": "stderr",
     "output_type": "stream",
     "text": [
      " 14%|█▍        | 52/360 [23:34<1:20:10, 15.62s/it]"
     ]
    },
    {
     "name": "stdout",
     "output_type": "stream",
     "text": [
      "2021-05-06 16:16:05,362 - modnet - INFO - Preset #6 fitting finished, loss: 0.5472783327102662\n"
     ]
    },
    {
     "name": "stderr",
     "output_type": "stream",
     "text": [
      " 15%|█▍        | 53/360 [24:57<3:04:19, 36.02s/it]"
     ]
    },
    {
     "name": "stdout",
     "output_type": "stream",
     "text": [
      "2021-05-06 16:16:09,772 - modnet - INFO - Preset #1 fitting finished, loss: 0.5052120625972748\n"
     ]
    },
    {
     "name": "stderr",
     "output_type": "stream",
     "text": [
      " 15%|█▌        | 54/360 [25:02<2:15:09, 26.50s/it]"
     ]
    },
    {
     "name": "stdout",
     "output_type": "stream",
     "text": [
      "2021-05-06 16:16:36,808 - modnet - INFO - Preset #14 fitting finished, loss: 0.541822075843811\n"
     ]
    },
    {
     "name": "stderr",
     "output_type": "stream",
     "text": [
      " 15%|█▌        | 55/360 [25:29<2:15:44, 26.70s/it]"
     ]
    },
    {
     "name": "stdout",
     "output_type": "stream",
     "text": [
      "2021-05-06 16:16:41,499 - modnet - INFO - Preset #1 fitting finished, loss: 0.43690081834793093\n"
     ]
    },
    {
     "name": "stderr",
     "output_type": "stream",
     "text": [
      " 16%|█▌        | 56/360 [25:34<1:41:57, 20.12s/it]"
     ]
    },
    {
     "name": "stdout",
     "output_type": "stream",
     "text": [
      "2021-05-06 16:16:44,069 - modnet - INFO - Preset #0 fitting finished, loss: 0.5204959034919738\n"
     ]
    },
    {
     "name": "stderr",
     "output_type": "stream",
     "text": [
      " 16%|█▌        | 57/360 [25:36<1:14:50, 14.82s/it]"
     ]
    },
    {
     "name": "stdout",
     "output_type": "stream",
     "text": [
      "2021-05-06 16:16:57,191 - modnet - INFO - Preset #6 fitting finished, loss: 0.4703640878200531\n"
     ]
    },
    {
     "name": "stderr",
     "output_type": "stream",
     "text": [
      " 16%|█▌        | 58/360 [25:52<1:16:47, 15.26s/it]"
     ]
    },
    {
     "name": "stdout",
     "output_type": "stream",
     "text": [
      "2021-05-06 16:17:08,664 - modnet - INFO - Preset #1 fitting finished, loss: 0.5695290327072143\n"
     ]
    },
    {
     "name": "stderr",
     "output_type": "stream",
     "text": [
      " 16%|█▋        | 59/360 [26:01<1:06:10, 13.19s/it]"
     ]
    },
    {
     "name": "stdout",
     "output_type": "stream",
     "text": [
      "2021-05-06 16:17:20,221 - modnet - INFO - Preset #16 fitting finished, loss: 0.5334458351135254\n"
     ]
    },
    {
     "name": "stderr",
     "output_type": "stream",
     "text": [
      " 17%|█▋        | 60/360 [26:12<1:03:24, 12.68s/it]"
     ]
    },
    {
     "name": "stdout",
     "output_type": "stream",
     "text": [
      "2021-05-06 16:17:32,622 - modnet - INFO - Preset #12 fitting finished, loss: 0.4423667013645172\n"
     ]
    },
    {
     "name": "stderr",
     "output_type": "stream",
     "text": [
      " 17%|█▋        | 61/360 [26:25<1:02:59, 12.64s/it]"
     ]
    },
    {
     "name": "stdout",
     "output_type": "stream",
     "text": [
      "2021-05-06 16:17:36,000 - modnet - INFO - Preset #12 fitting finished, loss: 0.5378523468971252\n"
     ]
    },
    {
     "name": "stderr",
     "output_type": "stream",
     "text": [
      " 17%|█▋        | 62/360 [26:28<49:00,  9.87s/it]  "
     ]
    },
    {
     "name": "stdout",
     "output_type": "stream",
     "text": [
      "2021-05-06 16:17:47,675 - modnet - INFO - Preset #6 fitting finished, loss: 0.42454833984375\n"
     ]
    },
    {
     "name": "stderr",
     "output_type": "stream",
     "text": [
      " 18%|█▊        | 63/360 [26:40<51:16, 10.36s/it]"
     ]
    },
    {
     "name": "stdout",
     "output_type": "stream",
     "text": [
      "2021-05-06 16:18:22,774 - modnet - INFO - Preset #6 fitting finished, loss: 0.49927887320518494\n"
     ]
    },
    {
     "name": "stderr",
     "output_type": "stream",
     "text": [
      " 18%|█▊        | 64/360 [27:14<1:27:25, 17.72s/it]"
     ]
    },
    {
     "name": "stdout",
     "output_type": "stream",
     "text": [
      "2021-05-06 16:18:26,078 - modnet - INFO - Preset #7 fitting finished, loss: 0.4494458198547363\n"
     ]
    },
    {
     "name": "stderr",
     "output_type": "stream",
     "text": [
      " 18%|█▊        | 65/360 [27:18<1:06:00, 13.43s/it]"
     ]
    },
    {
     "name": "stdout",
     "output_type": "stream",
     "text": [
      "2021-05-06 16:18:27,259 - modnet - INFO - Preset #15 fitting finished, loss: 0.43112748861312866\n"
     ]
    },
    {
     "name": "stderr",
     "output_type": "stream",
     "text": [
      " 18%|█▊        | 66/360 [27:19<48:23,  9.88s/it]  "
     ]
    },
    {
     "name": "stdout",
     "output_type": "stream",
     "text": [
      "2021-05-06 16:18:46,536 - modnet - INFO - Preset #7 fitting finished, loss: 0.44433586597442626\n"
     ]
    },
    {
     "name": "stderr",
     "output_type": "stream",
     "text": [
      " 19%|█▊        | 67/360 [27:38<1:01:29, 12.59s/it]"
     ]
    },
    {
     "name": "stdout",
     "output_type": "stream",
     "text": [
      "2021-05-06 16:19:21,999 - modnet - INFO - Preset #16 fitting finished, loss: 0.4089783191680908\n"
     ]
    },
    {
     "name": "stderr",
     "output_type": "stream",
     "text": [
      " 19%|█▉        | 68/360 [28:14<1:35:09, 19.55s/it]"
     ]
    },
    {
     "name": "stdout",
     "output_type": "stream",
     "text": [
      "2021-05-06 16:19:54,202 - modnet - INFO - Preset #15 fitting finished, loss: 0.4616389870643616\n"
     ]
    },
    {
     "name": "stderr",
     "output_type": "stream",
     "text": [
      " 19%|█▉        | 69/360 [28:46<1:52:55, 23.28s/it]"
     ]
    },
    {
     "name": "stdout",
     "output_type": "stream",
     "text": [
      "2021-05-06 16:19:58,143 - modnet - INFO - Preset #15 fitting finished, loss: 0.42042936086654664\n"
     ]
    },
    {
     "name": "stderr",
     "output_type": "stream",
     "text": [
      " 19%|█▉        | 70/360 [28:50<1:24:26, 17.47s/it]"
     ]
    },
    {
     "name": "stdout",
     "output_type": "stream",
     "text": [
      "2021-05-06 16:20:32,288 - modnet - INFO - Preset #16 fitting finished, loss: 0.4205308735370636\n"
     ]
    },
    {
     "name": "stderr",
     "output_type": "stream",
     "text": [
      " 20%|█▉        | 71/360 [29:24<1:48:34, 22.54s/it]"
     ]
    },
    {
     "name": "stdout",
     "output_type": "stream",
     "text": [
      "2021-05-06 16:20:39,643 - modnet - INFO - Preset #17 fitting finished, loss: 0.41749247908592224\n"
     ]
    },
    {
     "name": "stderr",
     "output_type": "stream",
     "text": [
      " 20%|██        | 72/360 [29:32<1:26:01, 17.92s/it]"
     ]
    },
    {
     "name": "stdout",
     "output_type": "stream",
     "text": [
      "2021-05-06 16:20:47,523 - modnet - INFO - Preset #16 fitting finished, loss: 0.467452073097229\n"
     ]
    },
    {
     "name": "stderr",
     "output_type": "stream",
     "text": [
      " 20%|██        | 73/360 [29:40<1:11:38, 14.98s/it]"
     ]
    },
    {
     "name": "stdout",
     "output_type": "stream",
     "text": [
      "2021-05-06 16:20:58,135 - modnet - INFO - Preset #13 fitting finished, loss: 0.5251149892807007\n"
     ]
    },
    {
     "name": "stderr",
     "output_type": "stream",
     "text": [
      " 21%|██        | 74/360 [29:50<1:04:44, 13.58s/it]"
     ]
    },
    {
     "name": "stdout",
     "output_type": "stream",
     "text": [
      "2021-05-06 16:21:11,369 - modnet - INFO - Preset #18 fitting finished, loss: 0.3655687212944031\n"
     ]
    },
    {
     "name": "stderr",
     "output_type": "stream",
     "text": [
      " 21%|██        | 75/360 [30:03<1:04:10, 13.51s/it]"
     ]
    },
    {
     "name": "stdout",
     "output_type": "stream",
     "text": [
      "2021-05-06 16:21:28,864 - modnet - INFO - Preset #16 fitting finished, loss: 0.4064131736755371\n"
     ]
    },
    {
     "name": "stderr",
     "output_type": "stream",
     "text": [
      " 21%|██        | 76/360 [30:21<1:09:41, 14.72s/it]"
     ]
    },
    {
     "name": "stdout",
     "output_type": "stream",
     "text": [
      "2021-05-06 16:21:54,007 - modnet - INFO - Preset #14 fitting finished, loss: 0.4803554117679596\n"
     ]
    },
    {
     "name": "stderr",
     "output_type": "stream",
     "text": [
      " 21%|██▏       | 77/360 [30:46<1:24:06, 17.83s/it]"
     ]
    },
    {
     "name": "stdout",
     "output_type": "stream",
     "text": [
      "2021-05-06 16:22:06,363 - modnet - INFO - Preset #14 fitting finished, loss: 0.41079161763191224\n"
     ]
    },
    {
     "name": "stderr",
     "output_type": "stream",
     "text": [
      " 22%|██▏       | 78/360 [30:58<1:15:51, 16.14s/it]"
     ]
    },
    {
     "name": "stdout",
     "output_type": "stream",
     "text": [
      "2021-05-06 16:22:07,583 - modnet - INFO - Preset #13 fitting finished, loss: 0.4653840124607086\n"
     ]
    },
    {
     "name": "stderr",
     "output_type": "stream",
     "text": [
      " 22%|██▏       | 79/360 [31:00<55:11, 11.78s/it]  "
     ]
    },
    {
     "name": "stdout",
     "output_type": "stream",
     "text": [
      "2021-05-06 16:22:09,408 - modnet - INFO - Preset #18 fitting finished, loss: 0.46787533164024353\n"
     ]
    },
    {
     "name": "stderr",
     "output_type": "stream",
     "text": [
      " 22%|██▏       | 80/360 [31:02<40:58,  8.78s/it]"
     ]
    },
    {
     "name": "stdout",
     "output_type": "stream",
     "text": [
      "2021-05-06 16:22:12,523 - modnet - INFO - Preset #19 fitting finished, loss: 0.3807026147842407\n"
     ]
    },
    {
     "name": "stderr",
     "output_type": "stream",
     "text": [
      " 22%|██▎       | 81/360 [31:05<33:03,  7.11s/it]"
     ]
    },
    {
     "name": "stdout",
     "output_type": "stream",
     "text": [
      "2021-05-06 16:22:26,253 - modnet - INFO - Preset #13 fitting finished, loss: 0.46881166100502014\n"
     ]
    },
    {
     "name": "stderr",
     "output_type": "stream",
     "text": [
      " 23%|██▎       | 82/360 [31:18<41:57,  9.06s/it]"
     ]
    },
    {
     "name": "stdout",
     "output_type": "stream",
     "text": [
      "2021-05-06 16:22:29,672 - modnet - INFO - Preset #14 fitting finished, loss: 0.43527398109436033\n"
     ]
    },
    {
     "name": "stderr",
     "output_type": "stream",
     "text": [
      " 23%|██▎       | 83/360 [31:22<33:46,  7.32s/it]"
     ]
    },
    {
     "name": "stdout",
     "output_type": "stream",
     "text": [
      "2021-05-06 16:22:32,695 - modnet - INFO - Preset #15 fitting finished, loss: 0.5317874908447265\n"
     ]
    },
    {
     "name": "stderr",
     "output_type": "stream",
     "text": [
      " 23%|██▎       | 84/360 [31:25<28:00,  6.09s/it]"
     ]
    },
    {
     "name": "stdout",
     "output_type": "stream",
     "text": [
      "2021-05-06 16:22:48,775 - modnet - INFO - Preset #20 fitting finished, loss: 0.42491833567619325\n"
     ]
    },
    {
     "name": "stderr",
     "output_type": "stream",
     "text": [
      " 24%|██▎       | 85/360 [31:41<41:39,  9.09s/it]"
     ]
    },
    {
     "name": "stdout",
     "output_type": "stream",
     "text": [
      "2021-05-06 16:22:51,227 - modnet - INFO - Preset #13 fitting finished, loss: 0.4747973680496216\n"
     ]
    },
    {
     "name": "stderr",
     "output_type": "stream",
     "text": [
      " 24%|██▍       | 86/360 [31:43<32:00,  7.01s/it]"
     ]
    },
    {
     "name": "stdout",
     "output_type": "stream",
     "text": [
      "2021-05-06 16:22:55,994 - modnet - INFO - Preset #12 fitting finished, loss: 0.4336524546146393\n"
     ]
    },
    {
     "name": "stderr",
     "output_type": "stream",
     "text": [
      " 24%|██▍       | 87/360 [31:48<28:53,  6.35s/it]"
     ]
    },
    {
     "name": "stdout",
     "output_type": "stream",
     "text": [
      "2021-05-06 16:23:05,712 - modnet - INFO - Preset #14 fitting finished, loss: 0.43047829866409304\n"
     ]
    },
    {
     "name": "stderr",
     "output_type": "stream",
     "text": [
      " 24%|██▍       | 88/360 [31:58<33:26,  7.38s/it]"
     ]
    },
    {
     "name": "stdout",
     "output_type": "stream",
     "text": [
      "2021-05-06 16:23:14,912 - modnet - INFO - Preset #21 fitting finished, loss: 0.39409008622169495\n"
     ]
    },
    {
     "name": "stderr",
     "output_type": "stream",
     "text": [
      " 25%|██▍       | 89/360 [32:07<35:41,  7.90s/it]"
     ]
    },
    {
     "name": "stdout",
     "output_type": "stream",
     "text": [
      "2021-05-06 16:24:01,456 - modnet - INFO - Preset #21 fitting finished, loss: 0.48885366320610046\n"
     ]
    },
    {
     "name": "stderr",
     "output_type": "stream",
     "text": [
      " 25%|██▌       | 90/360 [32:54<1:28:05, 19.58s/it]"
     ]
    },
    {
     "name": "stdout",
     "output_type": "stream",
     "text": [
      "2021-05-06 16:24:03,021 - modnet - INFO - Preset #17 fitting finished, loss: 0.40756028294563296\n"
     ]
    },
    {
     "name": "stderr",
     "output_type": "stream",
     "text": [
      " 25%|██▌       | 91/360 [32:55<1:03:10, 14.09s/it]"
     ]
    },
    {
     "name": "stdout",
     "output_type": "stream",
     "text": [
      "2021-05-06 16:24:18,070 - modnet - INFO - Preset #20 fitting finished, loss: 0.38971796035766604\n"
     ]
    },
    {
     "name": "stderr",
     "output_type": "stream",
     "text": [
      " 26%|██▌       | 92/360 [33:14<1:09:51, 15.64s/it]"
     ]
    },
    {
     "name": "stdout",
     "output_type": "stream",
     "text": [
      "2021-05-06 16:24:40,382 - modnet - INFO - Preset #19 fitting finished, loss: 0.44516681432724\n"
     ]
    },
    {
     "name": "stderr",
     "output_type": "stream",
     "text": [
      " 26%|██▌       | 93/360 [33:32<1:13:02, 16.41s/it]"
     ]
    },
    {
     "name": "stdout",
     "output_type": "stream",
     "text": [
      "2021-05-06 16:25:12,028 - modnet - INFO - Preset #17 fitting finished, loss: 0.40713499784469603\n"
     ]
    },
    {
     "name": "stderr",
     "output_type": "stream",
     "text": [
      " 26%|██▌       | 94/360 [34:04<1:32:54, 20.96s/it]"
     ]
    },
    {
     "name": "stdout",
     "output_type": "stream",
     "text": [
      "2021-05-06 16:25:52,101 - modnet - INFO - Preset #20 fitting finished, loss: 0.5409199237823487\n"
     ]
    },
    {
     "name": "stderr",
     "output_type": "stream",
     "text": [
      " 26%|██▋       | 95/360 [34:44<1:58:12, 26.76s/it]"
     ]
    },
    {
     "name": "stdout",
     "output_type": "stream",
     "text": [
      "2021-05-06 16:25:54,634 - modnet - INFO - Preset #18 fitting finished, loss: 0.39766770601272583\n"
     ]
    },
    {
     "name": "stderr",
     "output_type": "stream",
     "text": [
      " 27%|██▋       | 96/360 [34:47<1:25:27, 19.42s/it]"
     ]
    },
    {
     "name": "stdout",
     "output_type": "stream",
     "text": [
      "2021-05-06 16:26:02,184 - modnet - INFO - Preset #19 fitting finished, loss: 0.39451382160186765\n"
     ]
    },
    {
     "name": "stderr",
     "output_type": "stream",
     "text": [
      " 27%|██▋       | 97/360 [34:54<1:09:28, 15.85s/it]"
     ]
    },
    {
     "name": "stdout",
     "output_type": "stream",
     "text": [
      "2021-05-06 16:26:03,450 - modnet - INFO - Preset #19 fitting finished, loss: 0.40796724557876585\n"
     ]
    },
    {
     "name": "stderr",
     "output_type": "stream",
     "text": [
      " 27%|██▋       | 98/360 [34:56<50:29, 11.56s/it]  "
     ]
    },
    {
     "name": "stdout",
     "output_type": "stream",
     "text": [
      "2021-05-06 16:26:35,265 - modnet - INFO - Preset #13 fitting finished, loss: 0.5448632121086121\n"
     ]
    },
    {
     "name": "stderr",
     "output_type": "stream",
     "text": [
      " 28%|██▊       | 99/360 [35:27<1:16:41, 17.63s/it]"
     ]
    },
    {
     "name": "stdout",
     "output_type": "stream",
     "text": [
      "2021-05-06 16:26:40,223 - modnet - INFO - Preset #15 fitting finished, loss: 0.43059503436088564\n"
     ]
    },
    {
     "name": "stderr",
     "output_type": "stream",
     "text": [
      " 28%|██▊       | 100/360 [35:32<59:39, 13.77s/it] "
     ]
    },
    {
     "name": "stdout",
     "output_type": "stream",
     "text": [
      "2021-05-06 16:26:41,548 - modnet - INFO - Preset #17 fitting finished, loss: 0.48072661757469176\n"
     ]
    },
    {
     "name": "stderr",
     "output_type": "stream",
     "text": [
      " 28%|██▊       | 101/360 [35:34<43:36, 10.10s/it]"
     ]
    },
    {
     "name": "stdout",
     "output_type": "stream",
     "text": [
      "2021-05-06 16:26:43,124 - modnet - INFO - Preset #20 fitting finished, loss: 0.3695167303085327\n"
     ]
    },
    {
     "name": "stderr",
     "output_type": "stream",
     "text": [
      " 28%|██▊       | 102/360 [35:35<32:21,  7.53s/it]"
     ]
    },
    {
     "name": "stdout",
     "output_type": "stream",
     "text": [
      "2021-05-06 16:26:53,162 - modnet - INFO - Preset #17 fitting finished, loss: 0.5644100785255433\n"
     ]
    },
    {
     "name": "stderr",
     "output_type": "stream",
     "text": [
      " 29%|██▊       | 103/360 [35:45<35:18,  8.24s/it]"
     ]
    },
    {
     "name": "stdout",
     "output_type": "stream",
     "text": [
      "2021-05-06 16:27:03,345 - modnet - INFO - Preset #18 fitting finished, loss: 0.3884951949119568\n"
     ]
    },
    {
     "name": "stderr",
     "output_type": "stream",
     "text": [
      " 29%|██▉       | 104/360 [35:55<37:44,  8.85s/it]"
     ]
    },
    {
     "name": "stdout",
     "output_type": "stream",
     "text": [
      "2021-05-06 16:27:09,559 - modnet - INFO - Preset #21 fitting finished, loss: 0.4071097493171692\n"
     ]
    },
    {
     "name": "stderr",
     "output_type": "stream",
     "text": [
      " 29%|██▉       | 105/360 [36:02<34:08,  8.03s/it]"
     ]
    },
    {
     "name": "stdout",
     "output_type": "stream",
     "text": [
      "2021-05-06 16:27:20,895 - modnet - INFO - Preset #23 fitting finished, loss: 0.4439048647880554\n"
     ]
    },
    {
     "name": "stderr",
     "output_type": "stream",
     "text": [
      " 29%|██▉       | 106/360 [36:13<38:13,  9.03s/it]"
     ]
    },
    {
     "name": "stdout",
     "output_type": "stream",
     "text": [
      "2021-05-06 16:27:22,270 - modnet - INFO - Preset #22 fitting finished, loss: 0.40491499900817873\n"
     ]
    },
    {
     "name": "stderr",
     "output_type": "stream",
     "text": [
      " 30%|██▉       | 107/360 [36:14<28:32,  6.77s/it]"
     ]
    },
    {
     "name": "stdout",
     "output_type": "stream",
     "text": [
      "2021-05-06 16:27:37,833 - modnet - INFO - Preset #19 fitting finished, loss: 0.48890254497528074\n"
     ]
    },
    {
     "name": "stderr",
     "output_type": "stream",
     "text": [
      " 30%|███       | 108/360 [36:30<39:13,  9.34s/it]"
     ]
    },
    {
     "name": "stdout",
     "output_type": "stream",
     "text": [
      "2021-05-06 16:28:03,919 - modnet - INFO - Preset #20 fitting finished, loss: 0.39521083831787107\n"
     ]
    },
    {
     "name": "stderr",
     "output_type": "stream",
     "text": [
      " 30%|███       | 109/360 [36:56<1:00:24, 14.44s/it]"
     ]
    },
    {
     "name": "stdout",
     "output_type": "stream",
     "text": [
      "2021-05-06 16:28:15,720 - modnet - INFO - Preset #22 fitting finished, loss: 0.39842703342437746\n"
     ]
    },
    {
     "name": "stderr",
     "output_type": "stream",
     "text": [
      " 31%|███       | 110/360 [37:07<56:20, 13.52s/it]  "
     ]
    },
    {
     "name": "stdout",
     "output_type": "stream",
     "text": [
      "2021-05-06 16:28:27,330 - modnet - INFO - Preset #22 fitting finished, loss: 0.4343858599662781\n"
     ]
    },
    {
     "name": "stderr",
     "output_type": "stream",
     "text": [
      " 31%|███       | 111/360 [37:19<54:11, 13.06s/it]"
     ]
    },
    {
     "name": "stdout",
     "output_type": "stream",
     "text": [
      "2021-05-06 16:28:54,396 - modnet - INFO - Preset #23 fitting finished, loss: 0.5046719193458558\n"
     ]
    },
    {
     "name": "stderr",
     "output_type": "stream",
     "text": [
      " 31%|███       | 112/360 [37:46<1:11:12, 17.23s/it]"
     ]
    },
    {
     "name": "stdout",
     "output_type": "stream",
     "text": [
      "2021-05-06 16:28:56,584 - modnet - INFO - Preset #21 fitting finished, loss: 0.3841878414154053\n"
     ]
    },
    {
     "name": "stderr",
     "output_type": "stream",
     "text": [
      " 31%|███▏      | 113/360 [37:49<52:16, 12.70s/it]  "
     ]
    },
    {
     "name": "stdout",
     "output_type": "stream",
     "text": [
      "2021-05-06 16:29:14,649 - modnet - INFO - Preset #21 fitting finished, loss: 0.42392765879631045\n"
     ]
    },
    {
     "name": "stderr",
     "output_type": "stream",
     "text": [
      " 32%|███▏      | 114/360 [38:07<58:49, 14.35s/it]"
     ]
    },
    {
     "name": "stdout",
     "output_type": "stream",
     "text": [
      "2021-05-06 16:29:20,078 - modnet - INFO - Preset #22 fitting finished, loss: 0.47316746711730956\n"
     ]
    },
    {
     "name": "stderr",
     "output_type": "stream",
     "text": [
      " 32%|███▏      | 115/360 [38:12<47:23, 11.61s/it]"
     ]
    },
    {
     "name": "stdout",
     "output_type": "stream",
     "text": [
      "2021-05-06 16:29:40,947 - modnet - INFO - Preset #23 fitting finished, loss: 0.39231821298599245\n"
     ]
    },
    {
     "name": "stderr",
     "output_type": "stream",
     "text": [
      " 32%|███▏      | 116/360 [38:32<58:04, 14.28s/it]"
     ]
    },
    {
     "name": "stdout",
     "output_type": "stream",
     "text": [
      "2021-05-06 16:30:20,209 - modnet - INFO - Preset #18 fitting finished, loss: 0.5012707114219666\n"
     ]
    },
    {
     "name": "stderr",
     "output_type": "stream",
     "text": [
      " 32%|███▎      | 117/360 [39:12<1:28:28, 21.85s/it]"
     ]
    },
    {
     "name": "stdout",
     "output_type": "stream",
     "text": [
      "2021-05-06 16:30:21,317 - modnet - INFO - Preset #22 fitting finished, loss: 0.527127206325531\n"
     ]
    },
    {
     "name": "stderr",
     "output_type": "stream",
     "text": [
      " 33%|███▎      | 118/360 [39:13<1:03:33, 15.76s/it]"
     ]
    },
    {
     "name": "stdout",
     "output_type": "stream",
     "text": [
      "2021-05-06 16:30:25,100 - modnet - INFO - Preset #25 fitting finished, loss: 0.40912799835205077\n"
     ]
    },
    {
     "name": "stderr",
     "output_type": "stream",
     "text": [
      " 33%|███▎      | 119/360 [39:17<48:38, 12.11s/it]  "
     ]
    },
    {
     "name": "stdout",
     "output_type": "stream",
     "text": [
      "2021-05-06 16:30:39,299 - modnet - INFO - Preset #26 fitting finished, loss: 0.3821975767612457\n"
     ]
    },
    {
     "name": "stderr",
     "output_type": "stream",
     "text": [
      " 33%|███▎      | 120/360 [39:31<50:51, 12.71s/it]"
     ]
    },
    {
     "name": "stdout",
     "output_type": "stream",
     "text": [
      "2021-05-06 16:30:42,217 - modnet - INFO - Preset #26 fitting finished, loss: 0.3918690860271454\n"
     ]
    },
    {
     "name": "stderr",
     "output_type": "stream",
     "text": [
      " 34%|███▎      | 121/360 [39:34<38:49,  9.75s/it]"
     ]
    },
    {
     "name": "stdout",
     "output_type": "stream",
     "text": [
      "2021-05-06 16:30:53,905 - modnet - INFO - Preset #29 fitting finished, loss: 0.39059205651283263\n"
     ]
    },
    {
     "name": "stderr",
     "output_type": "stream",
     "text": [
      " 34%|███▍      | 122/360 [39:46<41:08, 10.37s/it]"
     ]
    },
    {
     "name": "stdout",
     "output_type": "stream",
     "text": [
      "2021-05-06 16:31:09,599 - modnet - INFO - Preset #23 fitting finished, loss: 0.4001265287399292\n"
     ]
    },
    {
     "name": "stderr",
     "output_type": "stream",
     "text": [
      " 34%|███▍      | 123/360 [40:01<47:04, 11.92s/it]"
     ]
    },
    {
     "name": "stdout",
     "output_type": "stream",
     "text": [
      "2021-05-06 16:31:44,227 - modnet - INFO - Preset #24 fitting finished, loss: 0.5251316905021668\n"
     ]
    },
    {
     "name": "stderr",
     "output_type": "stream",
     "text": [
      " 34%|███▍      | 124/360 [40:36<1:13:50, 18.77s/it]"
     ]
    },
    {
     "name": "stdout",
     "output_type": "stream",
     "text": [
      "2021-05-06 16:31:45,541 - modnet - INFO - Preset #27 fitting finished, loss: 0.4396514117717743\n"
     ]
    },
    {
     "name": "stderr",
     "output_type": "stream",
     "text": [
      " 35%|███▍      | 125/360 [40:38<53:09, 13.57s/it]  "
     ]
    },
    {
     "name": "stdout",
     "output_type": "stream",
     "text": [
      "2021-05-06 16:32:29,600 - modnet - INFO - Preset #29 fitting finished, loss: 0.40626118779182435\n"
     ]
    },
    {
     "name": "stderr",
     "output_type": "stream",
     "text": [
      " 35%|███▌      | 126/360 [41:21<1:28:24, 22.67s/it]"
     ]
    },
    {
     "name": "stdout",
     "output_type": "stream",
     "text": [
      "2021-05-06 16:32:42,140 - modnet - INFO - Preset #27 fitting finished, loss: 0.3676522374153137\n"
     ]
    },
    {
     "name": "stderr",
     "output_type": "stream",
     "text": [
      " 35%|███▌      | 127/360 [41:34<1:16:08, 19.61s/it]"
     ]
    },
    {
     "name": "stdout",
     "output_type": "stream",
     "text": [
      "2021-05-06 16:33:01,642 - modnet - INFO - Preset #27 fitting finished, loss: 0.37443661093711855\n"
     ]
    },
    {
     "name": "stderr",
     "output_type": "stream",
     "text": [
      " 36%|███▌      | 128/360 [41:54<1:15:59, 19.66s/it]"
     ]
    },
    {
     "name": "stdout",
     "output_type": "stream",
     "text": [
      "2021-05-06 16:33:03,082 - modnet - INFO - Preset #29 fitting finished, loss: 0.3891937375068665\n"
     ]
    },
    {
     "name": "stderr",
     "output_type": "stream",
     "text": [
      " 36%|███▌      | 129/360 [41:55<54:51, 14.25s/it]  "
     ]
    },
    {
     "name": "stdout",
     "output_type": "stream",
     "text": [
      "2021-05-06 16:33:05,684 - modnet - INFO - Preset #23 fitting finished, loss: 0.3701011598110199\n"
     ]
    },
    {
     "name": "stderr",
     "output_type": "stream",
     "text": [
      " 36%|███▌      | 130/360 [42:03<46:32, 12.14s/it]"
     ]
    },
    {
     "name": "stdout",
     "output_type": "stream",
     "text": [
      "2021-05-06 16:33:25,464 - modnet - INFO - Preset #26 fitting finished, loss: 0.5177698135375977\n"
     ]
    },
    {
     "name": "stderr",
     "output_type": "stream",
     "text": [
      " 36%|███▋      | 131/360 [42:17<49:14, 12.90s/it]"
     ]
    },
    {
     "name": "stdout",
     "output_type": "stream",
     "text": [
      "2021-05-06 16:33:40,993 - modnet - INFO - Preset #28 fitting finished, loss: 0.5052766442298889\n"
     ]
    },
    {
     "name": "stderr",
     "output_type": "stream",
     "text": [
      " 37%|███▋      | 132/360 [42:33<52:14, 13.75s/it]"
     ]
    },
    {
     "name": "stdout",
     "output_type": "stream",
     "text": [
      "2021-05-06 16:33:42,433 - modnet - INFO - Preset #27 fitting finished, loss: 0.39702733755111697\n"
     ]
    },
    {
     "name": "stderr",
     "output_type": "stream",
     "text": [
      " 37%|███▋      | 133/360 [42:35<38:14, 10.11s/it]"
     ]
    },
    {
     "name": "stdout",
     "output_type": "stream",
     "text": [
      "2021-05-06 16:33:43,984 - modnet - INFO - Preset #28 fitting finished, loss: 0.3602574050426483\n"
     ]
    },
    {
     "name": "stderr",
     "output_type": "stream",
     "text": [
      " 37%|███▋      | 134/360 [42:36<28:05,  7.46s/it]"
     ]
    },
    {
     "name": "stdout",
     "output_type": "stream",
     "text": [
      "2021-05-06 16:33:52,043 - modnet - INFO - Preset #27 fitting finished, loss: 0.50823073387146\n"
     ]
    },
    {
     "name": "stderr",
     "output_type": "stream",
     "text": [
      " 38%|███▊      | 135/360 [42:44<28:54,  7.71s/it]"
     ]
    },
    {
     "name": "stdout",
     "output_type": "stream",
     "text": [
      "2021-05-06 16:33:55,355 - modnet - INFO - Preset #29 fitting finished, loss: 0.5004229426383973\n"
     ]
    },
    {
     "name": "stderr",
     "output_type": "stream",
     "text": [
      " 38%|███▊      | 136/360 [42:48<24:07,  6.46s/it]"
     ]
    },
    {
     "name": "stdout",
     "output_type": "stream",
     "text": [
      "2021-05-06 16:34:16,306 - modnet - INFO - Preset #28 fitting finished, loss: 0.4378022015094757\n"
     ]
    },
    {
     "name": "stderr",
     "output_type": "stream",
     "text": [
      " 38%|███▊      | 137/360 [43:08<39:58, 10.76s/it]"
     ]
    },
    {
     "name": "stdout",
     "output_type": "stream",
     "text": [
      "2021-05-06 16:34:28,363 - modnet - INFO - Preset #28 fitting finished, loss: 0.39063023328781127\n"
     ]
    },
    {
     "name": "stderr",
     "output_type": "stream",
     "text": [
      " 38%|███▊      | 138/360 [43:20<40:53, 11.05s/it]"
     ]
    },
    {
     "name": "stdout",
     "output_type": "stream",
     "text": [
      "2021-05-06 16:34:53,636 - modnet - INFO - Preset #28 fitting finished, loss: 0.4069327235221863\n"
     ]
    },
    {
     "name": "stderr",
     "output_type": "stream",
     "text": [
      " 39%|███▊      | 139/360 [43:46<56:30, 15.34s/it]"
     ]
    },
    {
     "name": "stdout",
     "output_type": "stream",
     "text": [
      "2021-05-06 16:34:54,982 - modnet - INFO - Preset #29 fitting finished, loss: 0.42774041295051574\n"
     ]
    },
    {
     "name": "stderr",
     "output_type": "stream",
     "text": [
      " 39%|███▉      | 140/360 [43:47<40:59, 11.18s/it]"
     ]
    },
    {
     "name": "stdout",
     "output_type": "stream",
     "text": [
      "2021-05-06 16:35:19,733 - modnet - INFO - Preset #24 fitting finished, loss: 0.40475067496299744\n"
     ]
    },
    {
     "name": "stderr",
     "output_type": "stream",
     "text": [
      " 39%|███▉      | 141/360 [44:12<55:33, 15.22s/it]"
     ]
    },
    {
     "name": "stdout",
     "output_type": "stream",
     "text": [
      "2021-05-06 16:35:28,283 - modnet - INFO - Preset #26 fitting finished, loss: 0.3831047058105469\n"
     ]
    },
    {
     "name": "stderr",
     "output_type": "stream",
     "text": [
      " 39%|███▉      | 142/360 [44:20<48:01, 13.22s/it]"
     ]
    },
    {
     "name": "stdout",
     "output_type": "stream",
     "text": [
      "2021-05-06 16:36:11,682 - modnet - INFO - Preset #24 fitting finished, loss: 0.39824708700180056\n"
     ]
    },
    {
     "name": "stderr",
     "output_type": "stream",
     "text": [
      " 40%|███▉      | 143/360 [45:04<1:20:31, 22.27s/it]"
     ]
    },
    {
     "name": "stdout",
     "output_type": "stream",
     "text": [
      "2021-05-06 16:36:42,769 - modnet - INFO - Preset #26 fitting finished, loss: 0.4274491012096405\n"
     ]
    },
    {
     "name": "stderr",
     "output_type": "stream",
     "text": [
      " 40%|████      | 144/360 [45:35<1:29:37, 24.90s/it]"
     ]
    },
    {
     "name": "stdout",
     "output_type": "stream",
     "text": [
      "2021-05-06 16:36:55,196 - modnet - INFO - Preset #24 fitting finished, loss: 0.4466621160507202\n"
     ]
    },
    {
     "name": "stderr",
     "output_type": "stream",
     "text": [
      " 40%|████      | 145/360 [45:47<1:16:08, 21.25s/it]"
     ]
    },
    {
     "name": "stdout",
     "output_type": "stream",
     "text": [
      "2021-05-06 16:37:15,733 - modnet - INFO - Preset #25 fitting finished, loss: 0.4130233347415924\n"
     ]
    },
    {
     "name": "stderr",
     "output_type": "stream",
     "text": [
      " 41%|████      | 146/360 [46:08<1:14:42, 20.95s/it]"
     ]
    },
    {
     "name": "stdout",
     "output_type": "stream",
     "text": [
      "2021-05-06 16:37:17,002 - modnet - INFO - Preset #24 fitting finished, loss: 0.38124624490737913\n"
     ]
    },
    {
     "name": "stderr",
     "output_type": "stream",
     "text": [
      " 41%|████      | 147/360 [46:09<53:31, 15.08s/it]  "
     ]
    },
    {
     "name": "stdout",
     "output_type": "stream",
     "text": [
      "2021-05-06 16:37:58,165 - modnet - INFO - Preset #32 fitting finished, loss: 0.35464749336242674\n"
     ]
    },
    {
     "name": "stderr",
     "output_type": "stream",
     "text": [
      " 41%|████      | 148/360 [46:50<1:20:40, 22.83s/it]"
     ]
    },
    {
     "name": "stdout",
     "output_type": "stream",
     "text": [
      "2021-05-06 16:37:59,740 - modnet - INFO - Preset #34 fitting finished, loss: 0.40382714867591857\n"
     ]
    },
    {
     "name": "stderr",
     "output_type": "stream",
     "text": [
      " 41%|████▏     | 149/360 [46:52<58:12, 16.55s/it]  "
     ]
    },
    {
     "name": "stdout",
     "output_type": "stream",
     "text": [
      "2021-05-06 16:38:45,753 - modnet - INFO - Preset #33 fitting finished, loss: 0.395391047000885\n"
     ]
    },
    {
     "name": "stderr",
     "output_type": "stream",
     "text": [
      " 42%|████▏     | 150/360 [47:38<1:28:32, 25.30s/it]"
     ]
    },
    {
     "name": "stdout",
     "output_type": "stream",
     "text": [
      "2021-05-06 16:38:47,135 - modnet - INFO - Preset #31 fitting finished, loss: 0.5210392594337463\n"
     ]
    },
    {
     "name": "stderr",
     "output_type": "stream",
     "text": [
      " 42%|████▏     | 151/360 [47:39<1:03:28, 18.22s/it]"
     ]
    },
    {
     "name": "stdout",
     "output_type": "stream",
     "text": [
      "2021-05-06 16:39:01,874 - modnet - INFO - Preset #30 fitting finished, loss: 0.4111770689487457\n"
     ]
    },
    {
     "name": "stderr",
     "output_type": "stream",
     "text": [
      " 42%|████▏     | 152/360 [47:54<59:16, 17.10s/it]  "
     ]
    },
    {
     "name": "stdout",
     "output_type": "stream",
     "text": [
      "2021-05-06 16:39:07,682 - modnet - INFO - Preset #34 fitting finished, loss: 0.39137713313102723\n"
     ]
    },
    {
     "name": "stderr",
     "output_type": "stream",
     "text": [
      " 42%|████▎     | 153/360 [48:00<47:18, 13.71s/it]"
     ]
    },
    {
     "name": "stdout",
     "output_type": "stream",
     "text": [
      "2021-05-06 16:39:15,593 - modnet - INFO - Preset #25 fitting finished, loss: 0.4721760332584381\n"
     ]
    },
    {
     "name": "stderr",
     "output_type": "stream",
     "text": [
      " 43%|████▎     | 154/360 [48:07<40:59, 11.94s/it]"
     ]
    },
    {
     "name": "stdout",
     "output_type": "stream",
     "text": [
      "2021-05-06 16:39:51,844 - modnet - INFO - Preset #25 fitting finished, loss: 0.5074379622936249\n"
     ]
    },
    {
     "name": "stderr",
     "output_type": "stream",
     "text": [
      " 43%|████▎     | 155/360 [48:44<1:05:53, 19.29s/it]"
     ]
    },
    {
     "name": "stdout",
     "output_type": "stream",
     "text": [
      "2021-05-06 16:40:12,246 - modnet - INFO - Preset #35 fitting finished, loss: 0.44313879013061525\n"
     ]
    },
    {
     "name": "stderr",
     "output_type": "stream",
     "text": [
      " 43%|████▎     | 156/360 [49:04<1:06:38, 19.60s/it]"
     ]
    },
    {
     "name": "stdout",
     "output_type": "stream",
     "text": [
      "2021-05-06 16:40:14,158 - modnet - INFO - Preset #25 fitting finished, loss: 0.3776883840560913\n"
     ]
    },
    {
     "name": "stderr",
     "output_type": "stream",
     "text": [
      " 44%|████▎     | 157/360 [49:06<48:05, 14.22s/it]  "
     ]
    },
    {
     "name": "stdout",
     "output_type": "stream",
     "text": [
      "2021-05-06 16:40:21,161 - modnet - INFO - Preset #35 fitting finished, loss: 0.3679386854171753\n"
     ]
    },
    {
     "name": "stderr",
     "output_type": "stream",
     "text": [
      " 44%|████▍     | 158/360 [49:13<40:44, 12.10s/it]"
     ]
    },
    {
     "name": "stdout",
     "output_type": "stream",
     "text": [
      "2021-05-06 16:40:37,397 - modnet - INFO - Preset #33 fitting finished, loss: 0.40152792930603026\n"
     ]
    },
    {
     "name": "stderr",
     "output_type": "stream",
     "text": [
      " 44%|████▍     | 159/360 [49:29<44:38, 13.32s/it]"
     ]
    },
    {
     "name": "stdout",
     "output_type": "stream",
     "text": [
      "2021-05-06 16:40:44,522 - modnet - INFO - Preset #30 fitting finished, loss: 0.506930124759674\n"
     ]
    },
    {
     "name": "stderr",
     "output_type": "stream",
     "text": [
      " 44%|████▍     | 160/360 [49:36<38:23, 11.52s/it]"
     ]
    },
    {
     "name": "stdout",
     "output_type": "stream",
     "text": [
      "2021-05-06 16:40:46,835 - modnet - INFO - Preset #34 fitting finished, loss: 0.49583271741867063\n"
     ]
    },
    {
     "name": "stderr",
     "output_type": "stream",
     "text": [
      " 45%|████▍     | 161/360 [49:39<28:58,  8.74s/it]"
     ]
    },
    {
     "name": "stdout",
     "output_type": "stream",
     "text": [
      "2021-05-06 16:40:51,374 - modnet - INFO - Preset #32 fitting finished, loss: 0.3930424690246582\n"
     ]
    },
    {
     "name": "stderr",
     "output_type": "stream",
     "text": [
      " 45%|████▌     | 162/360 [49:43<24:33,  7.44s/it]"
     ]
    },
    {
     "name": "stdout",
     "output_type": "stream",
     "text": [
      "2021-05-06 16:41:11,973 - modnet - INFO - Preset #32 fitting finished, loss: 0.5071198761463165\n"
     ]
    },
    {
     "name": "stderr",
     "output_type": "stream",
     "text": [
      " 45%|████▌     | 163/360 [50:04<37:32, 11.43s/it]"
     ]
    },
    {
     "name": "stdout",
     "output_type": "stream",
     "text": [
      "2021-05-06 16:41:28,857 - modnet - INFO - Preset #31 fitting finished, loss: 0.5253080308437348\n"
     ]
    },
    {
     "name": "stderr",
     "output_type": "stream",
     "text": [
      " 46%|████▌     | 164/360 [50:21<42:38, 13.05s/it]"
     ]
    },
    {
     "name": "stdout",
     "output_type": "stream",
     "text": [
      "2021-05-06 16:41:34,591 - modnet - INFO - Preset #32 fitting finished, loss: 0.3826859474182129\n"
     ]
    },
    {
     "name": "stderr",
     "output_type": "stream",
     "text": [
      " 46%|████▌     | 165/360 [50:26<35:08, 10.81s/it]"
     ]
    },
    {
     "name": "stdout",
     "output_type": "stream",
     "text": [
      "2021-05-06 16:41:53,249 - modnet - INFO - Preset #31 fitting finished, loss: 0.4030892074108124\n"
     ]
    },
    {
     "name": "stderr",
     "output_type": "stream",
     "text": [
      " 46%|████▌     | 166/360 [50:45<42:40, 13.20s/it]"
     ]
    },
    {
     "name": "stdout",
     "output_type": "stream",
     "text": [
      "2021-05-06 16:41:54,853 - modnet - INFO - Preset #36 fitting finished, loss: 0.3845860719680786\n"
     ]
    },
    {
     "name": "stderr",
     "output_type": "stream",
     "text": [
      " 46%|████▋     | 167/360 [50:47<31:14,  9.71s/it]"
     ]
    },
    {
     "name": "stdout",
     "output_type": "stream",
     "text": [
      "2021-05-06 16:42:09,259 - modnet - INFO - Preset #30 fitting finished, loss: 0.5182206749916076\n"
     ]
    },
    {
     "name": "stderr",
     "output_type": "stream",
     "text": [
      " 47%|████▋     | 168/360 [51:01<35:37, 11.13s/it]"
     ]
    },
    {
     "name": "stdout",
     "output_type": "stream",
     "text": [
      "2021-05-06 16:42:16,888 - modnet - INFO - Preset #34 fitting finished, loss: 0.4482778787612915\n"
     ]
    },
    {
     "name": "stderr",
     "output_type": "stream",
     "text": [
      " 47%|████▋     | 169/360 [51:08<31:50, 10.01s/it]"
     ]
    },
    {
     "name": "stdout",
     "output_type": "stream",
     "text": [
      "2021-05-06 16:42:28,129 - modnet - INFO - Preset #33 fitting finished, loss: 0.44172651767730714\n"
     ]
    },
    {
     "name": "stderr",
     "output_type": "stream",
     "text": [
      " 47%|████▋     | 170/360 [51:20<33:12, 10.49s/it]"
     ]
    },
    {
     "name": "stdout",
     "output_type": "stream",
     "text": [
      "2021-05-06 16:42:29,400 - modnet - INFO - Preset #32 fitting finished, loss: 0.4423441529273987\n"
     ]
    },
    {
     "name": "stderr",
     "output_type": "stream",
     "text": [
      " 48%|████▊     | 171/360 [51:21<24:10,  7.67s/it]"
     ]
    },
    {
     "name": "stdout",
     "output_type": "stream",
     "text": [
      "2021-05-06 16:42:30,529 - modnet - INFO - Preset #33 fitting finished, loss: 0.3528458774089813\n"
     ]
    },
    {
     "name": "stderr",
     "output_type": "stream",
     "text": [
      " 48%|████▊     | 172/360 [51:26<21:51,  6.98s/it]"
     ]
    },
    {
     "name": "stdout",
     "output_type": "stream",
     "text": [
      "2021-05-06 16:42:35,833 - modnet - INFO - Preset #35 fitting finished, loss: 0.39520809054374695\n"
     ]
    },
    {
     "name": "stderr",
     "output_type": "stream",
     "text": [
      " 48%|████▊     | 173/360 [51:28<16:16,  5.22s/it]"
     ]
    },
    {
     "name": "stdout",
     "output_type": "stream",
     "text": [
      "2021-05-06 16:42:49,857 - modnet - INFO - Preset #36 fitting finished, loss: 0.4648827791213989\n"
     ]
    },
    {
     "name": "stderr",
     "output_type": "stream",
     "text": [
      " 48%|████▊     | 174/360 [51:42<24:22,  7.87s/it]"
     ]
    },
    {
     "name": "stdout",
     "output_type": "stream",
     "text": [
      "2021-05-06 16:43:11,957 - modnet - INFO - Preset #35 fitting finished, loss: 0.38489131927490233\n"
     ]
    },
    {
     "name": "stderr",
     "output_type": "stream",
     "text": [
      " 49%|████▊     | 175/360 [52:03<37:12, 12.06s/it]"
     ]
    },
    {
     "name": "stdout",
     "output_type": "stream",
     "text": [
      "2021-05-06 16:43:15,453 - modnet - INFO - Preset #35 fitting finished, loss: 0.5149642288684845\n"
     ]
    },
    {
     "name": "stderr",
     "output_type": "stream",
     "text": [
      " 49%|████▉     | 176/360 [52:07<29:23,  9.58s/it]"
     ]
    },
    {
     "name": "stdout",
     "output_type": "stream",
     "text": [
      "2021-05-06 16:43:37,252 - modnet - INFO - Preset #34 fitting finished, loss: 0.38151649832725526\n"
     ]
    },
    {
     "name": "stderr",
     "output_type": "stream",
     "text": [
      " 49%|████▉     | 177/360 [52:29<40:17, 13.21s/it]"
     ]
    },
    {
     "name": "stdout",
     "output_type": "stream",
     "text": [
      "2021-05-06 16:43:51,834 - modnet - INFO - Preset #37 fitting finished, loss: 469.8629829406738\n"
     ]
    },
    {
     "name": "stderr",
     "output_type": "stream",
     "text": [
      " 49%|████▉     | 178/360 [52:44<41:22, 13.64s/it]"
     ]
    },
    {
     "name": "stdout",
     "output_type": "stream",
     "text": [
      "2021-05-06 16:44:00,613 - modnet - INFO - Preset #36 fitting finished, loss: 524.2532348632812\n"
     ]
    },
    {
     "name": "stderr",
     "output_type": "stream",
     "text": [
      " 50%|████▉     | 179/360 [52:52<36:43, 12.18s/it]"
     ]
    },
    {
     "name": "stdout",
     "output_type": "stream",
     "text": [
      "2021-05-06 16:44:05,811 - modnet - INFO - Preset #40 fitting finished, loss: 71916.73310546875\n"
     ]
    },
    {
     "name": "stderr",
     "output_type": "stream",
     "text": [
      " 50%|█████     | 180/360 [52:57<30:03, 10.02s/it]"
     ]
    },
    {
     "name": "stdout",
     "output_type": "stream",
     "text": [
      "2021-05-06 16:44:07,054 - modnet - INFO - Preset #30 fitting finished, loss: 0.39990127086639404\n"
     ]
    },
    {
     "name": "stderr",
     "output_type": "stream",
     "text": [
      " 50%|█████     | 181/360 [52:59<22:01,  7.38s/it]"
     ]
    },
    {
     "name": "stdout",
     "output_type": "stream",
     "text": [
      "2021-05-06 16:44:23,291 - modnet - INFO - Preset #37 fitting finished, loss: 0.42766021490097045\n"
     ]
    },
    {
     "name": "stderr",
     "output_type": "stream",
     "text": [
      " 51%|█████     | 182/360 [53:15<29:50, 10.06s/it]"
     ]
    },
    {
     "name": "stdout",
     "output_type": "stream",
     "text": [
      "2021-05-06 16:44:24,251 - modnet - INFO - Preset #30 fitting finished, loss: 0.40913586020469667\n"
     ]
    },
    {
     "name": "stderr",
     "output_type": "stream",
     "text": [
      " 51%|█████     | 183/360 [53:16<21:47,  7.39s/it]"
     ]
    },
    {
     "name": "stdout",
     "output_type": "stream",
     "text": [
      "2021-05-06 16:44:27,147 - modnet - INFO - Preset #31 fitting finished, loss: 0.39279844164848327\n"
     ]
    },
    {
     "name": "stderr",
     "output_type": "stream",
     "text": [
      " 51%|█████     | 184/360 [53:19<17:38,  6.01s/it]"
     ]
    },
    {
     "name": "stdout",
     "output_type": "stream",
     "text": [
      "2021-05-06 16:44:35,684 - modnet - INFO - Preset #37 fitting finished, loss: 0.37491335272789\n"
     ]
    },
    {
     "name": "stderr",
     "output_type": "stream",
     "text": [
      " 51%|█████▏    | 185/360 [53:27<19:49,  6.80s/it]"
     ]
    },
    {
     "name": "stdout",
     "output_type": "stream",
     "text": [
      "2021-05-06 16:44:41,405 - modnet - INFO - Preset #41 fitting finished, loss: 0.7003628730773925\n"
     ]
    },
    {
     "name": "stderr",
     "output_type": "stream",
     "text": [
      " 52%|█████▏    | 186/360 [53:33<18:17,  6.31s/it]"
     ]
    },
    {
     "name": "stdout",
     "output_type": "stream",
     "text": [
      "2021-05-06 16:44:42,005 - modnet - INFO - Preset #39 fitting finished, loss: 0.3869593143463135\n"
     ]
    },
    {
     "name": "stderr",
     "output_type": "stream",
     "text": [
      " 52%|█████▏    | 187/360 [53:34<13:31,  4.69s/it]"
     ]
    },
    {
     "name": "stdout",
     "output_type": "stream",
     "text": [
      "2021-05-06 16:44:55,274 - modnet - INFO - Preset #40 fitting finished, loss: 0.5555295705795288\n"
     ]
    },
    {
     "name": "stderr",
     "output_type": "stream",
     "text": [
      " 52%|█████▏    | 188/360 [53:47<20:48,  7.26s/it]"
     ]
    },
    {
     "name": "stdout",
     "output_type": "stream",
     "text": [
      "2021-05-06 16:45:26,684 - modnet - INFO - Preset #33 fitting finished, loss: 0.49484251737594603\n"
     ]
    },
    {
     "name": "stderr",
     "output_type": "stream",
     "text": [
      " 52%|█████▎    | 189/360 [54:18<41:20, 14.50s/it]"
     ]
    },
    {
     "name": "stdout",
     "output_type": "stream",
     "text": [
      "2021-05-06 16:45:34,599 - modnet - INFO - Preset #37 fitting finished, loss: 0.4813834071159363\n"
     ]
    },
    {
     "name": "stderr",
     "output_type": "stream",
     "text": [
      " 53%|█████▎    | 190/360 [54:26<35:36, 12.57s/it]"
     ]
    },
    {
     "name": "stdout",
     "output_type": "stream",
     "text": [
      "2021-05-06 16:45:48,248 - modnet - INFO - Preset #38 fitting finished, loss: 0.40783371329307555\n"
     ]
    },
    {
     "name": "stderr",
     "output_type": "stream",
     "text": [
      " 53%|█████▎    | 191/360 [54:40<36:10, 12.84s/it]"
     ]
    },
    {
     "name": "stdout",
     "output_type": "stream",
     "text": [
      "2021-05-06 16:45:55,703 - modnet - INFO - Preset #40 fitting finished, loss: 0.517416101694107\n"
     ]
    },
    {
     "name": "stderr",
     "output_type": "stream",
     "text": [
      " 53%|█████▎    | 192/360 [54:47<31:09, 11.13s/it]"
     ]
    },
    {
     "name": "stdout",
     "output_type": "stream",
     "text": [
      "2021-05-06 16:46:02,149 - modnet - INFO - Preset #36 fitting finished, loss: 0.430579686164856\n"
     ]
    },
    {
     "name": "stderr",
     "output_type": "stream",
     "text": [
      " 54%|█████▎    | 193/360 [54:53<27:11,  9.77s/it]"
     ]
    },
    {
     "name": "stdout",
     "output_type": "stream",
     "text": [
      "2021-05-06 16:46:12,893 - modnet - INFO - Preset #39 fitting finished, loss: 0.3970064461231232\n"
     ]
    },
    {
     "name": "stderr",
     "output_type": "stream",
     "text": [
      " 54%|█████▍    | 194/360 [55:04<28:01, 10.13s/it]"
     ]
    },
    {
     "name": "stdout",
     "output_type": "stream",
     "text": [
      "2021-05-06 16:46:21,675 - modnet - INFO - Preset #31 fitting finished, loss: 0.412428742647171\n"
     ]
    },
    {
     "name": "stderr",
     "output_type": "stream",
     "text": [
      " 54%|█████▍    | 195/360 [55:13<26:35,  9.67s/it]"
     ]
    },
    {
     "name": "stdout",
     "output_type": "stream",
     "text": [
      "2021-05-06 16:46:48,534 - modnet - INFO - Preset #40 fitting finished, loss: 0.5628585577011108\n"
     ]
    },
    {
     "name": "stderr",
     "output_type": "stream",
     "text": [
      " 54%|█████▍    | 196/360 [55:40<40:27, 14.80s/it]"
     ]
    },
    {
     "name": "stdout",
     "output_type": "stream",
     "text": [
      "2021-05-06 16:46:59,169 - modnet - INFO - Preset #40 fitting finished, loss: 0.5181556880474091\n"
     ]
    },
    {
     "name": "stderr",
     "output_type": "stream",
     "text": [
      " 55%|█████▍    | 197/360 [55:51<36:52, 13.57s/it]"
     ]
    },
    {
     "name": "stdout",
     "output_type": "stream",
     "text": [
      "2021-05-06 16:47:00,368 - modnet - INFO - Preset #38 fitting finished, loss: 7694.362045288086\n"
     ]
    },
    {
     "name": "stderr",
     "output_type": "stream",
     "text": [
      " 55%|█████▌    | 198/360 [55:52<26:43,  9.90s/it]"
     ]
    },
    {
     "name": "stdout",
     "output_type": "stream",
     "text": [
      "2021-05-06 16:47:09,292 - modnet - INFO - Preset #36 fitting finished, loss: 0.3527444064617157\n"
     ]
    },
    {
     "name": "stderr",
     "output_type": "stream",
     "text": [
      " 55%|█████▌    | 199/360 [56:00<25:30,  9.51s/it]"
     ]
    },
    {
     "name": "stdout",
     "output_type": "stream",
     "text": [
      "2021-05-06 16:47:25,665 - modnet - INFO - Preset #42 fitting finished, loss: 0.36194649934768675\n"
     ]
    },
    {
     "name": "stderr",
     "output_type": "stream",
     "text": [
      " 56%|█████▌    | 200/360 [56:17<30:56, 11.60s/it]"
     ]
    },
    {
     "name": "stdout",
     "output_type": "stream",
     "text": [
      "2021-05-06 16:47:29,647 - modnet - INFO - Preset #37 fitting finished, loss: 0.34996412992477416\n"
     ]
    },
    {
     "name": "stderr",
     "output_type": "stream",
     "text": [
      " 56%|█████▌    | 201/360 [56:21<24:42,  9.32s/it]"
     ]
    },
    {
     "name": "stdout",
     "output_type": "stream",
     "text": [
      "2021-05-06 16:47:35,584 - modnet - INFO - Preset #42 fitting finished, loss: 227.87312393188478\n"
     ]
    },
    {
     "name": "stderr",
     "output_type": "stream",
     "text": [
      " 56%|█████▌    | 202/360 [56:27<22:02,  8.37s/it]"
     ]
    },
    {
     "name": "stdout",
     "output_type": "stream",
     "text": [
      "2021-05-06 16:47:37,192 - modnet - INFO - Preset #39 fitting finished, loss: 6626.936788940429\n"
     ]
    },
    {
     "name": "stderr",
     "output_type": "stream",
     "text": [
      " 56%|█████▋    | 203/360 [56:28<16:26,  6.29s/it]"
     ]
    },
    {
     "name": "stdout",
     "output_type": "stream",
     "text": [
      "2021-05-06 16:48:01,812 - modnet - INFO - Preset #46 fitting finished, loss: 0.6243951201438904\n"
     ]
    },
    {
     "name": "stderr",
     "output_type": "stream",
     "text": [
      " 57%|█████▋    | 204/360 [56:53<30:40, 11.80s/it]"
     ]
    },
    {
     "name": "stdout",
     "output_type": "stream",
     "text": [
      "2021-05-06 16:48:10,283 - modnet - INFO - Preset #38 fitting finished, loss: 0.3605884790420532\n"
     ]
    },
    {
     "name": "stderr",
     "output_type": "stream",
     "text": [
      " 57%|█████▋    | 205/360 [57:02<28:01, 10.85s/it]"
     ]
    },
    {
     "name": "stdout",
     "output_type": "stream",
     "text": [
      "2021-05-06 16:48:21,734 - modnet - INFO - Preset #39 fitting finished, loss: 0.38179547190666197\n"
     ]
    },
    {
     "name": "stderr",
     "output_type": "stream",
     "text": [
      " 57%|█████▋    | 206/360 [57:13<28:16, 11.01s/it]"
     ]
    },
    {
     "name": "stdout",
     "output_type": "stream",
     "text": [
      "2021-05-06 16:48:25,442 - modnet - INFO - Preset #42 fitting finished, loss: 0.38406851291656496\n"
     ]
    },
    {
     "name": "stderr",
     "output_type": "stream",
     "text": [
      " 57%|█████▊    | 207/360 [57:17<22:32,  8.84s/it]"
     ]
    },
    {
     "name": "stdout",
     "output_type": "stream",
     "text": [
      "2021-05-06 16:48:33,210 - modnet - INFO - Preset #41 fitting finished, loss: 0.49769378304481504\n"
     ]
    },
    {
     "name": "stderr",
     "output_type": "stream",
     "text": [
      " 58%|█████▊    | 208/360 [57:25<21:38,  8.54s/it]"
     ]
    },
    {
     "name": "stdout",
     "output_type": "stream",
     "text": [
      "2021-05-06 16:48:40,215 - modnet - INFO - Preset #43 fitting finished, loss: 0.4282141387462616\n"
     ]
    },
    {
     "name": "stderr",
     "output_type": "stream",
     "text": [
      " 58%|█████▊    | 209/360 [57:32<20:14,  8.04s/it]"
     ]
    },
    {
     "name": "stdout",
     "output_type": "stream",
     "text": [
      "2021-05-06 16:48:48,134 - modnet - INFO - Preset #42 fitting finished, loss: 0.4716239035129547\n"
     ]
    },
    {
     "name": "stderr",
     "output_type": "stream",
     "text": [
      " 58%|█████▊    | 210/360 [57:39<19:53,  7.96s/it]"
     ]
    },
    {
     "name": "stdout",
     "output_type": "stream",
     "text": [
      "2021-05-06 16:48:52,065 - modnet - INFO - Preset #44 fitting finished, loss: 0.3485435128211975\n"
     ]
    },
    {
     "name": "stderr",
     "output_type": "stream",
     "text": [
      " 59%|█████▊    | 211/360 [57:44<16:55,  6.81s/it]"
     ]
    },
    {
     "name": "stdout",
     "output_type": "stream",
     "text": [
      "2021-05-06 16:48:54,466 - modnet - INFO - Preset #41 fitting finished, loss: 25177.85200805664\n"
     ]
    },
    {
     "name": "stderr",
     "output_type": "stream",
     "text": [
      " 59%|█████▉    | 212/360 [57:46<13:28,  5.46s/it]"
     ]
    },
    {
     "name": "stdout",
     "output_type": "stream",
     "text": [
      "2021-05-06 16:49:12,252 - modnet - INFO - Preset #41 fitting finished, loss: 0.3675836205482483\n"
     ]
    },
    {
     "name": "stderr",
     "output_type": "stream",
     "text": [
      " 59%|█████▉    | 213/360 [58:04<22:28,  9.17s/it]"
     ]
    },
    {
     "name": "stdout",
     "output_type": "stream",
     "text": [
      "2021-05-06 16:49:25,374 - modnet - INFO - Preset #38 fitting finished, loss: 0.38603381514549256\n"
     ]
    },
    {
     "name": "stderr",
     "output_type": "stream",
     "text": [
      " 59%|█████▉    | 214/360 [58:17<25:09, 10.34s/it]"
     ]
    },
    {
     "name": "stdout",
     "output_type": "stream",
     "text": [
      "2021-05-06 16:49:30,398 - modnet - INFO - Preset #41 fitting finished, loss: 0.5540145933628082\n"
     ]
    },
    {
     "name": "stderr",
     "output_type": "stream",
     "text": [
      " 60%|█████▉    | 215/360 [58:22<21:13,  8.78s/it]"
     ]
    },
    {
     "name": "stdout",
     "output_type": "stream",
     "text": [
      "2021-05-06 16:49:33,513 - modnet - INFO - Preset #44 fitting finished, loss: 4296.63115234375\n"
     ]
    },
    {
     "name": "stderr",
     "output_type": "stream",
     "text": [
      " 60%|██████    | 216/360 [58:25<16:52,  7.03s/it]"
     ]
    },
    {
     "name": "stdout",
     "output_type": "stream",
     "text": [
      "2021-05-06 16:49:42,955 - modnet - INFO - Preset #43 fitting finished, loss: 270.35855331420896\n"
     ]
    },
    {
     "name": "stderr",
     "output_type": "stream",
     "text": [
      " 60%|██████    | 217/360 [58:34<18:30,  7.77s/it]"
     ]
    },
    {
     "name": "stdout",
     "output_type": "stream",
     "text": [
      "2021-05-06 16:49:51,584 - modnet - INFO - Preset #43 fitting finished, loss: 0.3543869614601135\n"
     ]
    },
    {
     "name": "stderr",
     "output_type": "stream",
     "text": [
      " 61%|██████    | 218/360 [58:43<19:01,  8.04s/it]"
     ]
    },
    {
     "name": "stdout",
     "output_type": "stream",
     "text": [
      "2021-05-06 16:50:00,013 - modnet - INFO - Preset #45 fitting finished, loss: 0.4195433497428894\n"
     ]
    },
    {
     "name": "stderr",
     "output_type": "stream",
     "text": [
      " 61%|██████    | 219/360 [58:56<22:16,  9.48s/it]"
     ]
    },
    {
     "name": "stdout",
     "output_type": "stream",
     "text": [
      "2021-05-06 16:50:17,959 - modnet - INFO - Preset #42 fitting finished, loss: 0.42301279306411743\n"
     ]
    },
    {
     "name": "stderr",
     "output_type": "stream",
     "text": [
      " 61%|██████    | 220/360 [59:10<25:01, 10.73s/it]"
     ]
    },
    {
     "name": "stdout",
     "output_type": "stream",
     "text": [
      "2021-05-06 16:50:19,628 - modnet - INFO - Preset #39 fitting finished, loss: 0.47250930070877073\n"
     ]
    },
    {
     "name": "stderr",
     "output_type": "stream",
     "text": [
      " 61%|██████▏   | 221/360 [59:11<18:32,  8.01s/it]"
     ]
    },
    {
     "name": "stdout",
     "output_type": "stream",
     "text": [
      "2021-05-06 16:50:30,364 - modnet - INFO - Preset #44 fitting finished, loss: 0.40025304555892943\n"
     ]
    },
    {
     "name": "stderr",
     "output_type": "stream",
     "text": [
      " 62%|██████▏   | 222/360 [59:22<20:21,  8.85s/it]"
     ]
    },
    {
     "name": "stdout",
     "output_type": "stream",
     "text": [
      "2021-05-06 16:50:32,838 - modnet - INFO - Preset #38 fitting finished, loss: 0.4791279435157776\n"
     ]
    },
    {
     "name": "stderr",
     "output_type": "stream",
     "text": [
      " 62%|██████▏   | 223/360 [59:24<15:40,  6.86s/it]"
     ]
    },
    {
     "name": "stdout",
     "output_type": "stream",
     "text": [
      "2021-05-06 16:50:36,930 - modnet - INFO - Preset #46 fitting finished, loss: 0.4162109136581421\n"
     ]
    },
    {
     "name": "stderr",
     "output_type": "stream",
     "text": [
      " 62%|██████▏   | 224/360 [59:28<13:38,  6.02s/it]"
     ]
    },
    {
     "name": "stdout",
     "output_type": "stream",
     "text": [
      "2021-05-06 16:50:43,041 - modnet - INFO - Preset #47 fitting finished, loss: 44573.274359893796\n"
     ]
    },
    {
     "name": "stderr",
     "output_type": "stream",
     "text": [
      " 62%|██████▎   | 225/360 [59:35<13:45,  6.11s/it]"
     ]
    },
    {
     "name": "stdout",
     "output_type": "stream",
     "text": [
      "2021-05-06 16:50:44,930 - modnet - INFO - Preset #43 fitting finished, loss: 0.3826875925064087\n"
     ]
    },
    {
     "name": "stderr",
     "output_type": "stream",
     "text": [
      " 63%|██████▎   | 226/360 [59:36<10:39,  4.77s/it]"
     ]
    },
    {
     "name": "stdout",
     "output_type": "stream",
     "text": [
      "2021-05-06 16:51:29,230 - modnet - INFO - Preset #45 fitting finished, loss: 0.36787445545196534\n"
     ]
    },
    {
     "name": "stderr",
     "output_type": "stream",
     "text": [
      " 63%|██████▎   | 227/360 [1:00:21<36:53, 16.64s/it]"
     ]
    },
    {
     "name": "stdout",
     "output_type": "stream",
     "text": [
      "2021-05-06 16:51:30,917 - modnet - INFO - Preset #45 fitting finished, loss: 3788.5676849365236\n"
     ]
    },
    {
     "name": "stderr",
     "output_type": "stream",
     "text": [
      " 63%|██████▎   | 228/360 [1:00:22<26:38, 12.11s/it]"
     ]
    },
    {
     "name": "stdout",
     "output_type": "stream",
     "text": [
      "2021-05-06 16:51:49,002 - modnet - INFO - Preset #43 fitting finished, loss: 0.49041709303855896\n"
     ]
    },
    {
     "name": "stderr",
     "output_type": "stream",
     "text": [
      " 64%|██████▎   | 229/360 [1:00:41<30:36, 14.02s/it]"
     ]
    },
    {
     "name": "stdout",
     "output_type": "stream",
     "text": [
      "2021-05-06 16:51:54,778 - modnet - INFO - Preset #47 fitting finished, loss: 0.3942705810070038\n"
     ]
    },
    {
     "name": "stderr",
     "output_type": "stream",
     "text": [
      " 64%|██████▍   | 230/360 [1:00:46<25:01, 11.55s/it]"
     ]
    },
    {
     "name": "stdout",
     "output_type": "stream",
     "text": [
      "2021-05-06 16:51:58,817 - modnet - INFO - Preset #47 fitting finished, loss: 0.3782409965991974\n"
     ]
    },
    {
     "name": "stderr",
     "output_type": "stream",
     "text": [
      " 64%|██████▍   | 231/360 [1:00:50<19:55,  9.27s/it]"
     ]
    },
    {
     "name": "stdout",
     "output_type": "stream",
     "text": [
      "2021-05-06 16:52:12,759 - modnet - INFO - Preset #44 fitting finished, loss: 0.48070704340934756\n"
     ]
    },
    {
     "name": "stderr",
     "output_type": "stream",
     "text": [
      " 64%|██████▍   | 232/360 [1:01:04<22:42, 10.64s/it]"
     ]
    },
    {
     "name": "stdout",
     "output_type": "stream",
     "text": [
      "2021-05-06 16:52:14,056 - modnet - INFO - Preset #50 fitting finished, loss: 0.4199130296707153\n"
     ]
    },
    {
     "name": "stderr",
     "output_type": "stream",
     "text": [
      " 65%|██████▍   | 233/360 [1:01:05<16:30,  7.80s/it]"
     ]
    },
    {
     "name": "stdout",
     "output_type": "stream",
     "text": [
      "2021-05-06 16:52:15,172 - modnet - INFO - Preset #47 fitting finished, loss: 0.4071085274219513\n"
     ]
    },
    {
     "name": "stderr",
     "output_type": "stream",
     "text": [
      " 65%|██████▌   | 234/360 [1:01:07<12:20,  5.88s/it]"
     ]
    },
    {
     "name": "stdout",
     "output_type": "stream",
     "text": [
      "2021-05-06 16:52:16,945 - modnet - INFO - Preset #45 fitting finished, loss: 0.46706385016441343\n"
     ]
    },
    {
     "name": "stderr",
     "output_type": "stream",
     "text": [
      " 65%|██████▌   | 235/360 [1:01:08<09:33,  4.59s/it]"
     ]
    },
    {
     "name": "stdout",
     "output_type": "stream",
     "text": [
      "2021-05-06 16:52:20,118 - modnet - INFO - Preset #46 fitting finished, loss: 23354.33869628906\n"
     ]
    },
    {
     "name": "stderr",
     "output_type": "stream",
     "text": [
      " 66%|██████▌   | 236/360 [1:01:12<08:38,  4.18s/it]"
     ]
    },
    {
     "name": "stdout",
     "output_type": "stream",
     "text": [
      "2021-05-06 16:52:21,458 - modnet - INFO - Preset #47 fitting finished, loss: 0.5558468341827393\n"
     ]
    },
    {
     "name": "stderr",
     "output_type": "stream",
     "text": [
      " 66%|██████▌   | 237/360 [1:01:13<06:52,  3.35s/it]"
     ]
    },
    {
     "name": "stdout",
     "output_type": "stream",
     "text": [
      "2021-05-06 16:52:22,364 - modnet - INFO - Preset #46 fitting finished, loss: 0.38320666551589966\n"
     ]
    },
    {
     "name": "stderr",
     "output_type": "stream",
     "text": [
      " 66%|██████▌   | 238/360 [1:01:14<05:17,  2.60s/it]"
     ]
    },
    {
     "name": "stdout",
     "output_type": "stream",
     "text": [
      "2021-05-06 16:52:43,807 - modnet - INFO - Preset #45 fitting finished, loss: 0.37352913022041323\n"
     ]
    },
    {
     "name": "stderr",
     "output_type": "stream",
     "text": [
      " 66%|██████▋   | 239/360 [1:01:35<16:45,  8.31s/it]"
     ]
    },
    {
     "name": "stdout",
     "output_type": "stream",
     "text": [
      "2021-05-06 16:52:52,734 - modnet - INFO - Preset #49 fitting finished, loss: 0.4345781564712524\n"
     ]
    },
    {
     "name": "stderr",
     "output_type": "stream",
     "text": [
      " 67%|██████▋   | 240/360 [1:01:44<17:00,  8.50s/it]"
     ]
    },
    {
     "name": "stdout",
     "output_type": "stream",
     "text": [
      "2021-05-06 16:52:55,930 - modnet - INFO - Preset #44 fitting finished, loss: 0.38643927574157716\n"
     ]
    },
    {
     "name": "stderr",
     "output_type": "stream",
     "text": [
      " 67%|██████▋   | 241/360 [1:01:48<13:43,  6.92s/it]"
     ]
    },
    {
     "name": "stdout",
     "output_type": "stream",
     "text": [
      "2021-05-06 16:52:57,006 - modnet - INFO - Preset #48 fitting finished, loss: 0.4951858937740326\n"
     ]
    },
    {
     "name": "stderr",
     "output_type": "stream",
     "text": [
      " 67%|██████▋   | 242/360 [1:01:48<10:00,  5.09s/it]"
     ]
    },
    {
     "name": "stdout",
     "output_type": "stream",
     "text": [
      "2021-05-06 16:53:01,584 - modnet - INFO - Preset #51 fitting finished, loss: 0.41266824007034303\n"
     ]
    },
    {
     "name": "stderr",
     "output_type": "stream",
     "text": [
      " 68%|██████▊   | 243/360 [1:01:53<09:44,  4.99s/it]"
     ]
    },
    {
     "name": "stdout",
     "output_type": "stream",
     "text": [
      "2021-05-06 16:53:04,151 - modnet - INFO - Preset #48 fitting finished, loss: 43.300748348236084\n"
     ]
    },
    {
     "name": "stderr",
     "output_type": "stream",
     "text": [
      " 68%|██████▊   | 244/360 [1:01:56<08:10,  4.23s/it]"
     ]
    },
    {
     "name": "stdout",
     "output_type": "stream",
     "text": [
      "2021-05-06 16:53:05,942 - modnet - INFO - Preset #46 fitting finished, loss: 0.4870540738105774\n"
     ]
    },
    {
     "name": "stderr",
     "output_type": "stream",
     "text": [
      " 68%|██████▊   | 245/360 [1:01:58<06:44,  3.52s/it]"
     ]
    },
    {
     "name": "stdout",
     "output_type": "stream",
     "text": [
      "2021-05-06 16:53:13,852 - modnet - INFO - Preset #50 fitting finished, loss: 0.3733624339103699\n"
     ]
    },
    {
     "name": "stderr",
     "output_type": "stream",
     "text": [
      " 68%|██████▊   | 246/360 [1:02:05<09:08,  4.81s/it]"
     ]
    },
    {
     "name": "stdout",
     "output_type": "stream",
     "text": [
      "2021-05-06 16:53:17,960 - modnet - INFO - Preset #48 fitting finished, loss: 0.43205167055130006\n"
     ]
    },
    {
     "name": "stderr",
     "output_type": "stream",
     "text": [
      " 69%|██████▊   | 247/360 [1:02:10<08:41,  4.61s/it]"
     ]
    },
    {
     "name": "stdout",
     "output_type": "stream",
     "text": [
      "2021-05-06 16:54:19,740 - modnet - INFO - Preset #49 fitting finished, loss: 0.4871798872947693\n"
     ]
    },
    {
     "name": "stderr",
     "output_type": "stream",
     "text": [
      " 69%|██████▉   | 248/360 [1:03:11<40:40, 21.79s/it]"
     ]
    },
    {
     "name": "stdout",
     "output_type": "stream",
     "text": [
      "2021-05-06 16:54:22,200 - modnet - INFO - Preset #52 fitting finished, loss: 0.49469231963157656\n"
     ]
    },
    {
     "name": "stderr",
     "output_type": "stream",
     "text": [
      " 69%|██████▉   | 249/360 [1:03:14<29:40, 16.04s/it]"
     ]
    },
    {
     "name": "stdout",
     "output_type": "stream",
     "text": [
      "2021-05-06 16:54:28,525 - modnet - INFO - Preset #50 fitting finished, loss: 0.4696218729019165\n"
     ]
    },
    {
     "name": "stderr",
     "output_type": "stream",
     "text": [
      " 69%|██████▉   | 250/360 [1:03:20<24:07, 13.16s/it]"
     ]
    },
    {
     "name": "stdout",
     "output_type": "stream",
     "text": [
      "2021-05-06 16:54:29,811 - modnet - INFO - Preset #52 fitting finished, loss: 0.4145826458930969\n"
     ]
    },
    {
     "name": "stderr",
     "output_type": "stream",
     "text": [
      " 70%|██████▉   | 251/360 [1:03:21<17:16,  9.51s/it]"
     ]
    },
    {
     "name": "stdout",
     "output_type": "stream",
     "text": [
      "2021-05-06 16:54:31,888 - modnet - INFO - Preset #51 fitting finished, loss: 1466.6607055664062\n"
     ]
    },
    {
     "name": "stderr",
     "output_type": "stream",
     "text": [
      " 70%|███████   | 252/360 [1:03:23<12:58,  7.20s/it]"
     ]
    },
    {
     "name": "stdout",
     "output_type": "stream",
     "text": [
      "2021-05-06 16:54:40,717 - modnet - INFO - Preset #51 fitting finished, loss: 0.3781000554561615\n"
     ]
    },
    {
     "name": "stderr",
     "output_type": "stream",
     "text": [
      " 70%|███████   | 253/360 [1:03:32<13:45,  7.71s/it]"
     ]
    },
    {
     "name": "stdout",
     "output_type": "stream",
     "text": [
      "2021-05-06 16:54:43,415 - modnet - INFO - Preset #50 fitting finished, loss: 0.36157543063163755\n"
     ]
    },
    {
     "name": "stderr",
     "output_type": "stream",
     "text": [
      " 71%|███████   | 254/360 [1:03:35<10:59,  6.22s/it]"
     ]
    },
    {
     "name": "stdout",
     "output_type": "stream",
     "text": [
      "2021-05-06 16:54:45,329 - modnet - INFO - Preset #52 fitting finished, loss: 0.3672512650489807\n"
     ]
    },
    {
     "name": "stderr",
     "output_type": "stream",
     "text": [
      " 71%|███████   | 255/360 [1:03:37<08:46,  5.02s/it]"
     ]
    },
    {
     "name": "stdout",
     "output_type": "stream",
     "text": [
      "2021-05-06 16:54:52,395 - modnet - INFO - Preset #48 fitting finished, loss: 0.33827902674674987\n"
     ]
    },
    {
     "name": "stderr",
     "output_type": "stream",
     "text": [
      " 71%|███████   | 256/360 [1:03:44<09:39,  5.57s/it]"
     ]
    },
    {
     "name": "stdout",
     "output_type": "stream",
     "text": [
      "2021-05-06 16:55:02,938 - modnet - INFO - Preset #50 fitting finished, loss: 1168.290478515625\n"
     ]
    },
    {
     "name": "stderr",
     "output_type": "stream",
     "text": [
      " 71%|███████▏  | 257/360 [1:03:54<12:04,  7.04s/it]"
     ]
    },
    {
     "name": "stdout",
     "output_type": "stream",
     "text": [
      "2021-05-06 16:55:08,004 - modnet - INFO - Preset #53 fitting finished, loss: 0.3777550756931305\n"
     ]
    },
    {
     "name": "stderr",
     "output_type": "stream",
     "text": [
      " 72%|███████▏  | 258/360 [1:03:59<10:55,  6.43s/it]"
     ]
    },
    {
     "name": "stdout",
     "output_type": "stream",
     "text": [
      "2021-05-06 16:55:08,809 - modnet - INFO - Preset #49 fitting finished, loss: 132.04293842315673\n"
     ]
    },
    {
     "name": "stderr",
     "output_type": "stream",
     "text": [
      " 72%|███████▏  | 259/360 [1:04:01<08:09,  4.84s/it]"
     ]
    },
    {
     "name": "stdout",
     "output_type": "stream",
     "text": [
      "2021-05-06 16:55:32,427 - modnet - INFO - Preset #48 fitting finished, loss: 0.3815009295940399\n"
     ]
    },
    {
     "name": "stderr",
     "output_type": "stream",
     "text": [
      " 72%|███████▏  | 260/360 [1:04:24<17:23, 10.44s/it]"
     ]
    },
    {
     "name": "stdout",
     "output_type": "stream",
     "text": [
      "2021-05-06 16:55:33,453 - modnet - INFO - Preset #53 fitting finished, loss: 0.41723597049713135\n"
     ]
    },
    {
     "name": "stderr",
     "output_type": "stream",
     "text": [
      " 72%|███████▎  | 261/360 [1:04:25<12:28,  7.56s/it]"
     ]
    },
    {
     "name": "stdout",
     "output_type": "stream",
     "text": [
      "2021-05-06 16:55:36,483 - modnet - INFO - Preset #52 fitting finished, loss: 0.4036461353302002\n"
     ]
    },
    {
     "name": "stderr",
     "output_type": "stream",
     "text": [
      " 73%|███████▎  | 262/360 [1:04:28<10:09,  6.22s/it]"
     ]
    },
    {
     "name": "stdout",
     "output_type": "stream",
     "text": [
      "2021-05-06 16:56:02,080 - modnet - INFO - Preset #51 fitting finished, loss: 0.36846151351928713\n"
     ]
    },
    {
     "name": "stderr",
     "output_type": "stream",
     "text": [
      " 73%|███████▎  | 263/360 [1:04:53<19:23, 12.00s/it]"
     ]
    },
    {
     "name": "stdout",
     "output_type": "stream",
     "text": [
      "2021-05-06 16:56:03,425 - modnet - INFO - Preset #53 fitting finished, loss: 0.47324360013008115\n"
     ]
    },
    {
     "name": "stderr",
     "output_type": "stream",
     "text": [
      " 73%|███████▎  | 264/360 [1:04:55<14:12,  8.88s/it]"
     ]
    },
    {
     "name": "stdout",
     "output_type": "stream",
     "text": [
      "2021-05-06 16:56:07,784 - modnet - INFO - Preset #49 fitting finished, loss: 0.38121894001960754\n"
     ]
    },
    {
     "name": "stderr",
     "output_type": "stream",
     "text": [
      " 74%|███████▎  | 265/360 [1:04:59<11:47,  7.44s/it]"
     ]
    },
    {
     "name": "stdout",
     "output_type": "stream",
     "text": [
      "2021-05-06 16:56:42,231 - modnet - INFO - Preset #49 fitting finished, loss: 0.3430145144462585\n"
     ]
    },
    {
     "name": "stderr",
     "output_type": "stream",
     "text": [
      " 74%|███████▍  | 266/360 [1:05:33<24:15, 15.48s/it]"
     ]
    },
    {
     "name": "stdout",
     "output_type": "stream",
     "text": [
      "2021-05-06 16:57:20,417 - modnet - INFO - Preset #53 fitting finished, loss: 8179.73388671875\n"
     ]
    },
    {
     "name": "stderr",
     "output_type": "stream",
     "text": [
      " 74%|███████▍  | 267/360 [1:06:12<34:36, 22.33s/it]"
     ]
    },
    {
     "name": "stdout",
     "output_type": "stream",
     "text": [
      "2021-05-06 16:57:29,753 - modnet - INFO - Preset #52 fitting finished, loss: 6656.242132568359\n"
     ]
    },
    {
     "name": "stderr",
     "output_type": "stream",
     "text": [
      " 74%|███████▍  | 268/360 [1:06:21<28:22, 18.51s/it]"
     ]
    },
    {
     "name": "stdout",
     "output_type": "stream",
     "text": [
      "2021-05-06 16:57:46,770 - modnet - INFO - Preset #53 fitting finished, loss: 0.37594262361526487\n"
     ]
    },
    {
     "name": "stderr",
     "output_type": "stream",
     "text": [
      " 75%|███████▍  | 269/360 [1:06:38<27:14, 17.96s/it]"
     ]
    },
    {
     "name": "stdout",
     "output_type": "stream",
     "text": [
      "2021-05-06 16:57:47,807 - modnet - INFO - Preset #51 fitting finished, loss: 0.47124248147010805\n"
     ]
    },
    {
     "name": "stderr",
     "output_type": "stream",
     "text": [
      " 75%|███████▌  | 270/360 [1:06:39<19:25, 12.95s/it]"
     ]
    },
    {
     "name": "stdout",
     "output_type": "stream",
     "text": [
      "2021-05-06 16:58:25,409 - modnet - INFO - Preset #58 fitting finished, loss: 1.3249627351760864\n"
     ]
    },
    {
     "name": "stderr",
     "output_type": "stream",
     "text": [
      " 75%|███████▌  | 271/360 [1:07:17<30:09, 20.33s/it]"
     ]
    },
    {
     "name": "stdout",
     "output_type": "stream",
     "text": [
      "2021-05-06 17:00:57,729 - modnet - INFO - Preset #59 fitting finished, loss: 0.9521071314811707\n"
     ]
    },
    {
     "name": "stderr",
     "output_type": "stream",
     "text": [
      " 76%|███████▌  | 272/360 [1:09:53<1:29:34, 61.07s/it]"
     ]
    },
    {
     "name": "stdout",
     "output_type": "stream",
     "text": [
      "2021-05-06 17:01:10,650 - modnet - INFO - Preset #59 fitting finished, loss: 62.770252799987794\n"
     ]
    },
    {
     "name": "stderr",
     "output_type": "stream",
     "text": [
      " 76%|███████▌  | 273/360 [1:10:02<1:05:55, 45.47s/it]"
     ]
    },
    {
     "name": "stdout",
     "output_type": "stream",
     "text": [
      "2021-05-06 17:01:37,519 - modnet - INFO - Preset #64 fitting finished, loss: 1037.6392935991287\n"
     ]
    },
    {
     "name": "stderr",
     "output_type": "stream",
     "text": [
      " 76%|███████▌  | 274/360 [1:10:29<57:11, 39.90s/it]  "
     ]
    },
    {
     "name": "stdout",
     "output_type": "stream",
     "text": [
      "2021-05-06 17:02:52,205 - modnet - INFO - Preset #64 fitting finished, loss: 0.9341263055801392\n"
     ]
    },
    {
     "name": "stderr",
     "output_type": "stream",
     "text": [
      " 76%|███████▋  | 275/360 [1:11:44<1:11:18, 50.34s/it]"
     ]
    },
    {
     "name": "stdout",
     "output_type": "stream",
     "text": [
      "2021-05-06 17:03:40,393 - modnet - INFO - Preset #65 fitting finished, loss: 0.8474718511104584\n"
     ]
    },
    {
     "name": "stderr",
     "output_type": "stream",
     "text": [
      " 77%|███████▋  | 276/360 [1:12:32<1:09:41, 49.78s/it]"
     ]
    },
    {
     "name": "stdout",
     "output_type": "stream",
     "text": [
      "2021-05-06 17:04:01,860 - modnet - INFO - Preset #58 fitting finished, loss: 0.8444019198417664\n"
     ]
    },
    {
     "name": "stderr",
     "output_type": "stream",
     "text": [
      " 77%|███████▋  | 277/360 [1:12:54<57:05, 41.27s/it]  "
     ]
    },
    {
     "name": "stdout",
     "output_type": "stream",
     "text": [
      "2021-05-06 17:04:12,600 - modnet - INFO - Preset #64 fitting finished, loss: 0.9836700439453125\n"
     ]
    },
    {
     "name": "stderr",
     "output_type": "stream",
     "text": [
      " 77%|███████▋  | 278/360 [1:13:04<43:51, 32.09s/it]"
     ]
    },
    {
     "name": "stdout",
     "output_type": "stream",
     "text": [
      "2021-05-06 17:05:27,215 - modnet - INFO - Preset #64 fitting finished, loss: 0.7285150706768035\n"
     ]
    },
    {
     "name": "stderr",
     "output_type": "stream",
     "text": [
      " 78%|███████▊  | 279/360 [1:14:19<1:00:35, 44.88s/it]"
     ]
    },
    {
     "name": "stdout",
     "output_type": "stream",
     "text": [
      "2021-05-06 17:05:33,405 - modnet - INFO - Preset #59 fitting finished, loss: 0.8947487771511078\n"
     ]
    },
    {
     "name": "stderr",
     "output_type": "stream",
     "text": [
      " 78%|███████▊  | 280/360 [1:14:25<44:21, 33.27s/it]  "
     ]
    },
    {
     "name": "stdout",
     "output_type": "stream",
     "text": [
      "2021-05-06 17:06:39,679 - modnet - INFO - Preset #65 fitting finished, loss: 0.7746323466300964\n"
     ]
    },
    {
     "name": "stderr",
     "output_type": "stream",
     "text": [
      " 78%|███████▊  | 281/360 [1:15:31<56:53, 43.20s/it]"
     ]
    },
    {
     "name": "stdout",
     "output_type": "stream",
     "text": [
      "2021-05-06 17:06:56,800 - modnet - INFO - Preset #63 fitting finished, loss: 0.5068835079669952\n"
     ]
    },
    {
     "name": "stderr",
     "output_type": "stream",
     "text": [
      " 78%|███████▊  | 282/360 [1:15:48<45:54, 35.32s/it]"
     ]
    },
    {
     "name": "stdout",
     "output_type": "stream",
     "text": [
      "2021-05-06 17:07:01,514 - modnet - INFO - Preset #64 fitting finished, loss: 0.7377847254276275\n"
     ]
    },
    {
     "name": "stderr",
     "output_type": "stream",
     "text": [
      " 79%|███████▊  | 283/360 [1:15:53<33:35, 26.18s/it]"
     ]
    },
    {
     "name": "stdout",
     "output_type": "stream",
     "text": [
      "2021-05-06 17:07:04,328 - modnet - INFO - Preset #58 fitting finished, loss: 0.8462253332138061\n"
     ]
    },
    {
     "name": "stderr",
     "output_type": "stream",
     "text": [
      " 79%|███████▉  | 284/360 [1:15:56<24:18, 19.19s/it]"
     ]
    },
    {
     "name": "stdout",
     "output_type": "stream",
     "text": [
      "2021-05-06 17:07:18,299 - modnet - INFO - Preset #62 fitting finished, loss: 0.5080483853816986\n"
     ]
    },
    {
     "name": "stderr",
     "output_type": "stream",
     "text": [
      " 79%|███████▉  | 285/360 [1:16:10<21:59, 17.60s/it]"
     ]
    },
    {
     "name": "stdout",
     "output_type": "stream",
     "text": [
      "2021-05-06 17:07:20,789 - modnet - INFO - Preset #58 fitting finished, loss: 92367.3682406187\n"
     ]
    },
    {
     "name": "stderr",
     "output_type": "stream",
     "text": [
      " 79%|███████▉  | 286/360 [1:16:12<16:02, 13.01s/it]"
     ]
    },
    {
     "name": "stdout",
     "output_type": "stream",
     "text": [
      "2021-05-06 17:07:26,177 - modnet - INFO - Preset #60 fitting finished, loss: 0.5215975880622864\n"
     ]
    },
    {
     "name": "stderr",
     "output_type": "stream",
     "text": [
      " 80%|███████▉  | 287/360 [1:16:18<13:03, 10.74s/it]"
     ]
    },
    {
     "name": "stdout",
     "output_type": "stream",
     "text": [
      "2021-05-06 17:07:30,657 - modnet - INFO - Preset #65 fitting finished, loss: 193881.33565025328\n"
     ]
    },
    {
     "name": "stderr",
     "output_type": "stream",
     "text": [
      " 80%|████████  | 288/360 [1:16:22<10:39,  8.88s/it]"
     ]
    },
    {
     "name": "stdout",
     "output_type": "stream",
     "text": [
      "2021-05-06 17:07:55,914 - modnet - INFO - Preset #59 fitting finished, loss: 0.859766960144043\n"
     ]
    },
    {
     "name": "stderr",
     "output_type": "stream",
     "text": [
      " 80%|████████  | 289/360 [1:16:48<16:26, 13.89s/it]"
     ]
    },
    {
     "name": "stdout",
     "output_type": "stream",
     "text": [
      "2021-05-06 17:08:00,397 - modnet - INFO - Preset #65 fitting finished, loss: 0.6636605560779572\n"
     ]
    },
    {
     "name": "stderr",
     "output_type": "stream",
     "text": [
      " 81%|████████  | 290/360 [1:16:52<12:44, 10.92s/it]"
     ]
    },
    {
     "name": "stdout",
     "output_type": "stream",
     "text": [
      "2021-05-06 17:08:02,777 - modnet - INFO - Preset #62 fitting finished, loss: 0.48736039996147157\n"
     ]
    },
    {
     "name": "stderr",
     "output_type": "stream",
     "text": [
      " 81%|████████  | 291/360 [1:16:54<09:40,  8.41s/it]"
     ]
    },
    {
     "name": "stdout",
     "output_type": "stream",
     "text": [
      "2021-05-06 17:08:05,527 - modnet - INFO - Preset #65 fitting finished, loss: 0.6093871653079986\n"
     ]
    },
    {
     "name": "stderr",
     "output_type": "stream",
     "text": [
      " 81%|████████  | 292/360 [1:16:57<07:34,  6.69s/it]"
     ]
    },
    {
     "name": "stdout",
     "output_type": "stream",
     "text": [
      "2021-05-06 17:08:45,868 - modnet - INFO - Preset #63 fitting finished, loss: 0.3880476474761963\n"
     ]
    },
    {
     "name": "stderr",
     "output_type": "stream",
     "text": [
      " 81%|████████▏ | 293/360 [1:17:37<18:43, 16.76s/it]"
     ]
    },
    {
     "name": "stdout",
     "output_type": "stream",
     "text": [
      "2021-05-06 17:09:27,681 - modnet - INFO - Preset #66 fitting finished, loss: 0.3892454206943512\n"
     ]
    },
    {
     "name": "stderr",
     "output_type": "stream",
     "text": [
      " 82%|████████▏ | 294/360 [1:18:19<26:41, 24.27s/it]"
     ]
    },
    {
     "name": "stdout",
     "output_type": "stream",
     "text": [
      "2021-05-06 17:09:42,667 - modnet - INFO - Preset #63 fitting finished, loss: 0.5569709479808808\n"
     ]
    },
    {
     "name": "stderr",
     "output_type": "stream",
     "text": [
      " 82%|████████▏ | 295/360 [1:18:34<23:17, 21.50s/it]"
     ]
    },
    {
     "name": "stdout",
     "output_type": "stream",
     "text": [
      "2021-05-06 17:09:58,484 - modnet - INFO - Preset #66 fitting finished, loss: 310.9133270263672\n"
     ]
    },
    {
     "name": "stderr",
     "output_type": "stream",
     "text": [
      " 82%|████████▏ | 296/360 [1:18:50<21:02, 19.73s/it]"
     ]
    },
    {
     "name": "stdout",
     "output_type": "stream",
     "text": [
      "2021-05-06 17:10:04,251 - modnet - INFO - Preset #55 fitting finished, loss: 0.5045972347259522\n"
     ]
    },
    {
     "name": "stderr",
     "output_type": "stream",
     "text": [
      " 82%|████████▎ | 297/360 [1:18:56<16:21, 15.59s/it]"
     ]
    },
    {
     "name": "stdout",
     "output_type": "stream",
     "text": [
      "2021-05-06 17:10:05,751 - modnet - INFO - Preset #61 fitting finished, loss: 1314.2600952148437\n"
     ]
    },
    {
     "name": "stderr",
     "output_type": "stream",
     "text": [
      " 83%|████████▎ | 298/360 [1:18:57<11:40, 11.30s/it]"
     ]
    },
    {
     "name": "stdout",
     "output_type": "stream",
     "text": [
      "2021-05-06 17:11:02,047 - modnet - INFO - Preset #63 fitting finished, loss: 24697.112451171874\n"
     ]
    },
    {
     "name": "stderr",
     "output_type": "stream",
     "text": [
      " 83%|████████▎ | 299/360 [1:19:53<25:08, 24.73s/it]"
     ]
    },
    {
     "name": "stdout",
     "output_type": "stream",
     "text": [
      "2021-05-06 17:11:35,277 - modnet - INFO - Preset #66 fitting finished, loss: 0.3637437283992767\n"
     ]
    },
    {
     "name": "stderr",
     "output_type": "stream",
     "text": [
      " 83%|████████▎ | 300/360 [1:20:27<27:21, 27.36s/it]"
     ]
    },
    {
     "name": "stdout",
     "output_type": "stream",
     "text": [
      "2021-05-06 17:11:42,109 - modnet - INFO - Preset #60 fitting finished, loss: 1261.7202392578124\n"
     ]
    },
    {
     "name": "stderr",
     "output_type": "stream",
     "text": [
      " 84%|████████▎ | 301/360 [1:20:33<20:49, 21.17s/it]"
     ]
    },
    {
     "name": "stdout",
     "output_type": "stream",
     "text": [
      "2021-05-06 17:11:44,626 - modnet - INFO - Preset #63 fitting finished, loss: 0.480956506729126\n"
     ]
    },
    {
     "name": "stderr",
     "output_type": "stream",
     "text": [
      " 84%|████████▍ | 302/360 [1:20:36<15:04, 15.60s/it]"
     ]
    },
    {
     "name": "stdout",
     "output_type": "stream",
     "text": [
      "2021-05-06 17:11:56,578 - modnet - INFO - Preset #62 fitting finished, loss: 18440.729541015626\n"
     ]
    },
    {
     "name": "stderr",
     "output_type": "stream",
     "text": [
      " 84%|████████▍ | 303/360 [1:20:48<13:46, 14.50s/it]"
     ]
    },
    {
     "name": "stdout",
     "output_type": "stream",
     "text": [
      "2021-05-06 17:12:05,006 - modnet - INFO - Preset #66 fitting finished, loss: 0.5068698942661285\n"
     ]
    },
    {
     "name": "stderr",
     "output_type": "stream",
     "text": [
      " 84%|████████▍ | 304/360 [1:20:56<11:51, 12.70s/it]"
     ]
    },
    {
     "name": "stdout",
     "output_type": "stream",
     "text": [
      "2021-05-06 17:12:05,674 - modnet - INFO - Preset #60 fitting finished, loss: 0.43405142426490784\n"
     ]
    },
    {
     "name": "stderr",
     "output_type": "stream",
     "text": [
      " 85%|████████▍ | 305/360 [1:20:57<08:18,  9.07s/it]"
     ]
    },
    {
     "name": "stdout",
     "output_type": "stream",
     "text": [
      "2021-05-06 17:12:11,888 - modnet - INFO - Preset #66 fitting finished, loss: 0.4294866919517517\n"
     ]
    },
    {
     "name": "stderr",
     "output_type": "stream",
     "text": [
      " 85%|████████▌ | 306/360 [1:21:03<07:21,  8.18s/it]"
     ]
    },
    {
     "name": "stdout",
     "output_type": "stream",
     "text": [
      "2021-05-06 17:12:33,592 - modnet - INFO - Preset #61 fitting finished, loss: 0.39047375321388245\n"
     ]
    },
    {
     "name": "stderr",
     "output_type": "stream",
     "text": [
      " 85%|████████▌ | 307/360 [1:21:25<10:49, 12.25s/it]"
     ]
    },
    {
     "name": "stdout",
     "output_type": "stream",
     "text": [
      "2021-05-06 17:12:34,140 - modnet - INFO - Preset #56 fitting finished, loss: 0.7266130864620208\n"
     ]
    },
    {
     "name": "stderr",
     "output_type": "stream",
     "text": [
      " 86%|████████▌ | 308/360 [1:21:25<07:33,  8.71s/it]"
     ]
    },
    {
     "name": "stdout",
     "output_type": "stream",
     "text": [
      "2021-05-06 17:12:51,785 - modnet - INFO - Preset #67 fitting finished, loss: 0.4306508481502533\n"
     ]
    },
    {
     "name": "stderr",
     "output_type": "stream",
     "text": [
      " 86%|████████▌ | 309/360 [1:21:43<09:42, 11.41s/it]"
     ]
    },
    {
     "name": "stdout",
     "output_type": "stream",
     "text": [
      "2021-05-06 17:12:55,173 - modnet - INFO - Preset #58 fitting finished, loss: 0.7311099529266357\n"
     ]
    },
    {
     "name": "stderr",
     "output_type": "stream",
     "text": [
      " 86%|████████▌ | 310/360 [1:21:46<07:31,  9.03s/it]"
     ]
    },
    {
     "name": "stdout",
     "output_type": "stream",
     "text": [
      "2021-05-06 17:13:00,709 - modnet - INFO - Preset #61 fitting finished, loss: 0.3718481659889221\n"
     ]
    },
    {
     "name": "stderr",
     "output_type": "stream",
     "text": [
      " 86%|████████▋ | 311/360 [1:21:52<06:32,  8.01s/it]"
     ]
    },
    {
     "name": "stdout",
     "output_type": "stream",
     "text": [
      "2021-05-06 17:13:03,686 - modnet - INFO - Preset #60 fitting finished, loss: 0.38807329535484314\n"
     ]
    },
    {
     "name": "stderr",
     "output_type": "stream",
     "text": [
      " 87%|████████▋ | 312/360 [1:21:55<05:10,  6.46s/it]"
     ]
    },
    {
     "name": "stdout",
     "output_type": "stream",
     "text": [
      "2021-05-06 17:13:27,501 - modnet - INFO - Preset #68 fitting finished, loss: 0.43132324814796447\n"
     ]
    },
    {
     "name": "stderr",
     "output_type": "stream",
     "text": [
      " 87%|████████▋ | 313/360 [1:22:19<09:07, 11.66s/it]"
     ]
    },
    {
     "name": "stdout",
     "output_type": "stream",
     "text": [
      "2021-05-06 17:13:42,706 - modnet - INFO - Preset #67 fitting finished, loss: 345.84923248291017\n"
     ]
    },
    {
     "name": "stderr",
     "output_type": "stream",
     "text": [
      " 87%|████████▋ | 314/360 [1:22:34<09:45, 12.74s/it]"
     ]
    },
    {
     "name": "stdout",
     "output_type": "stream",
     "text": [
      "2021-05-06 17:13:44,239 - modnet - INFO - Preset #57 fitting finished, loss: 0.6231398701667785\n"
     ]
    },
    {
     "name": "stderr",
     "output_type": "stream",
     "text": [
      " 88%|████████▊ | 315/360 [1:22:35<07:01,  9.37s/it]"
     ]
    },
    {
     "name": "stdout",
     "output_type": "stream",
     "text": [
      "2021-05-06 17:14:03,465 - modnet - INFO - Preset #56 fitting finished, loss: 0.49755688309669494\n"
     ]
    },
    {
     "name": "stderr",
     "output_type": "stream",
     "text": [
      " 88%|████████▊ | 316/360 [1:22:55<09:04, 12.37s/it]"
     ]
    },
    {
     "name": "stdout",
     "output_type": "stream",
     "text": [
      "2021-05-06 17:14:17,958 - modnet - INFO - Preset #57 fitting finished, loss: 97627.69764137268\n"
     ]
    },
    {
     "name": "stderr",
     "output_type": "stream",
     "text": [
      " 88%|████████▊ | 317/360 [1:23:09<09:17, 12.97s/it]"
     ]
    },
    {
     "name": "stdout",
     "output_type": "stream",
     "text": [
      "2021-05-06 17:14:20,112 - modnet - INFO - Preset #56 fitting finished, loss: 25929.37213304043\n"
     ]
    },
    {
     "name": "stderr",
     "output_type": "stream",
     "text": [
      " 88%|████████▊ | 318/360 [1:23:11<06:48,  9.72s/it]"
     ]
    },
    {
     "name": "stdout",
     "output_type": "stream",
     "text": [
      "2021-05-06 17:14:25,596 - modnet - INFO - Preset #56 fitting finished, loss: 0.6994146883487702\n"
     ]
    },
    {
     "name": "stderr",
     "output_type": "stream",
     "text": [
      " 89%|████████▊ | 319/360 [1:23:17<05:46,  8.46s/it]"
     ]
    },
    {
     "name": "stdout",
     "output_type": "stream",
     "text": [
      "2021-05-06 17:14:32,844 - modnet - INFO - Preset #67 fitting finished, loss: 0.5231148600578308\n"
     ]
    },
    {
     "name": "stderr",
     "output_type": "stream",
     "text": [
      " 89%|████████▉ | 320/360 [1:23:24<05:21,  8.04s/it]"
     ]
    },
    {
     "name": "stdout",
     "output_type": "stream",
     "text": [
      "2021-05-06 17:14:33,539 - modnet - INFO - Preset #59 fitting finished, loss: 0.5865795016288757\n"
     ]
    },
    {
     "name": "stderr",
     "output_type": "stream",
     "text": [
      " 89%|████████▉ | 321/360 [1:23:25<03:49,  5.88s/it]"
     ]
    },
    {
     "name": "stdout",
     "output_type": "stream",
     "text": [
      "2021-05-06 17:15:06,237 - modnet - INFO - Preset #67 fitting finished, loss: 0.3434149742126465\n"
     ]
    },
    {
     "name": "stderr",
     "output_type": "stream",
     "text": [
      " 89%|████████▉ | 322/360 [1:23:57<08:46, 13.85s/it]"
     ]
    },
    {
     "name": "stdout",
     "output_type": "stream",
     "text": [
      "2021-05-06 17:15:12,182 - modnet - INFO - Preset #55 fitting finished, loss: 0.3911150395870209\n"
     ]
    },
    {
     "name": "stderr",
     "output_type": "stream",
     "text": [
      " 90%|████████▉ | 323/360 [1:24:03<07:07, 11.54s/it]"
     ]
    },
    {
     "name": "stdout",
     "output_type": "stream",
     "text": [
      "2021-05-06 17:15:23,126 - modnet - INFO - Preset #62 fitting finished, loss: 0.43170655965805055\n"
     ]
    },
    {
     "name": "stderr",
     "output_type": "stream",
     "text": [
      " 90%|█████████ | 324/360 [1:24:14<06:49, 11.37s/it]"
     ]
    },
    {
     "name": "stdout",
     "output_type": "stream",
     "text": [
      "2021-05-06 17:15:30,878 - modnet - INFO - Preset #61 fitting finished, loss: 0.4221854269504547\n"
     ]
    },
    {
     "name": "stderr",
     "output_type": "stream",
     "text": [
      " 90%|█████████ | 325/360 [1:24:22<05:59, 10.27s/it]"
     ]
    },
    {
     "name": "stdout",
     "output_type": "stream",
     "text": [
      "2021-05-06 17:15:45,322 - modnet - INFO - Preset #68 fitting finished, loss: 0.5003119647502899\n"
     ]
    },
    {
     "name": "stderr",
     "output_type": "stream",
     "text": [
      " 91%|█████████ | 326/360 [1:24:36<06:32, 11.53s/it]"
     ]
    },
    {
     "name": "stdout",
     "output_type": "stream",
     "text": [
      "2021-05-06 17:16:02,701 - modnet - INFO - Preset #56 fitting finished, loss: 0.5589899599552155\n"
     ]
    },
    {
     "name": "stderr",
     "output_type": "stream",
     "text": [
      " 91%|█████████ | 327/360 [1:24:54<07:18, 13.29s/it]"
     ]
    },
    {
     "name": "stdout",
     "output_type": "stream",
     "text": [
      "2021-05-06 17:16:31,230 - modnet - INFO - Preset #54 fitting finished, loss: 0.5054571330547333\n"
     ]
    },
    {
     "name": "stderr",
     "output_type": "stream",
     "text": [
      " 91%|█████████ | 328/360 [1:25:23<09:32, 17.90s/it]"
     ]
    },
    {
     "name": "stdout",
     "output_type": "stream",
     "text": [
      "2021-05-06 17:16:47,352 - modnet - INFO - Preset #62 fitting finished, loss: 0.3815705478191376\n"
     ]
    },
    {
     "name": "stderr",
     "output_type": "stream",
     "text": [
      " 91%|█████████▏| 329/360 [1:25:38<08:56, 17.31s/it]"
     ]
    },
    {
     "name": "stdout",
     "output_type": "stream",
     "text": [
      "2021-05-06 17:16:54,804 - modnet - INFO - Preset #70 fitting finished, loss: 0.4156349182128906\n"
     ]
    },
    {
     "name": "stderr",
     "output_type": "stream",
     "text": [
      " 92%|█████████▏| 330/360 [1:25:46<07:09, 14.33s/it]"
     ]
    },
    {
     "name": "stdout",
     "output_type": "stream",
     "text": [
      "2021-05-06 17:16:56,826 - modnet - INFO - Preset #61 fitting finished, loss: 0.5052601933479309\n"
     ]
    },
    {
     "name": "stderr",
     "output_type": "stream",
     "text": [
      " 92%|█████████▏| 331/360 [1:25:48<05:09, 10.66s/it]"
     ]
    },
    {
     "name": "stdout",
     "output_type": "stream",
     "text": [
      "2021-05-06 17:16:58,553 - modnet - INFO - Preset #68 fitting finished, loss: 0.3642940104007721\n"
     ]
    },
    {
     "name": "stderr",
     "output_type": "stream",
     "text": [
      " 92%|█████████▏| 332/360 [1:25:50<03:42,  7.94s/it]"
     ]
    },
    {
     "name": "stdout",
     "output_type": "stream",
     "text": [
      "2021-05-06 17:17:00,863 - modnet - INFO - Preset #57 fitting finished, loss: 0.4977536082267761\n"
     ]
    },
    {
     "name": "stderr",
     "output_type": "stream",
     "text": [
      " 92%|█████████▎| 333/360 [1:25:52<02:51,  6.35s/it]"
     ]
    },
    {
     "name": "stdout",
     "output_type": "stream",
     "text": [
      "2021-05-06 17:17:11,178 - modnet - INFO - Preset #54 fitting finished, loss: 0.4016546070575714\n"
     ]
    },
    {
     "name": "stderr",
     "output_type": "stream",
     "text": [
      " 93%|█████████▎| 334/360 [1:26:02<03:15,  7.52s/it]"
     ]
    },
    {
     "name": "stdout",
     "output_type": "stream",
     "text": [
      "2021-05-06 17:17:22,538 - modnet - INFO - Preset #69 fitting finished, loss: 0.38467514514923096\n"
     ]
    },
    {
     "name": "stderr",
     "output_type": "stream",
     "text": [
      " 93%|█████████▎| 335/360 [1:26:14<03:36,  8.68s/it]"
     ]
    },
    {
     "name": "stdout",
     "output_type": "stream",
     "text": [
      "2021-05-06 17:17:26,185 - modnet - INFO - Preset #67 fitting finished, loss: 0.3870968222618103\n"
     ]
    },
    {
     "name": "stderr",
     "output_type": "stream",
     "text": [
      " 93%|█████████▎| 336/360 [1:26:17<02:48,  7.03s/it]"
     ]
    },
    {
     "name": "stdout",
     "output_type": "stream",
     "text": [
      "2021-05-06 17:17:31,538 - modnet - INFO - Preset #54 fitting finished, loss: 2691.4165283203124\n"
     ]
    },
    {
     "name": "stderr",
     "output_type": "stream",
     "text": [
      " 94%|█████████▎| 337/360 [1:26:23<02:31,  6.58s/it]"
     ]
    },
    {
     "name": "stdout",
     "output_type": "stream",
     "text": [
      "2021-05-06 17:17:34,416 - modnet - INFO - Preset #70 fitting finished, loss: 0.4996237397193909\n"
     ]
    },
    {
     "name": "stderr",
     "output_type": "stream",
     "text": [
      " 94%|█████████▍| 338/360 [1:26:25<02:00,  5.47s/it]"
     ]
    },
    {
     "name": "stdout",
     "output_type": "stream",
     "text": [
      "2021-05-06 17:17:37,803 - modnet - INFO - Preset #71 fitting finished, loss: 0.4277703523635864\n"
     ]
    },
    {
     "name": "stderr",
     "output_type": "stream",
     "text": [
      " 94%|█████████▍| 339/360 [1:26:29<01:41,  4.85s/it]"
     ]
    },
    {
     "name": "stdout",
     "output_type": "stream",
     "text": [
      "2021-05-06 17:17:43,957 - modnet - INFO - Preset #70 fitting finished, loss: 14956.313859558106\n"
     ]
    },
    {
     "name": "stderr",
     "output_type": "stream",
     "text": [
      " 94%|█████████▍| 340/360 [1:26:35<01:44,  5.21s/it]"
     ]
    },
    {
     "name": "stdout",
     "output_type": "stream",
     "text": [
      "2021-05-06 17:17:49,956 - modnet - INFO - Preset #68 fitting finished, loss: 655.7285766601562\n"
     ]
    },
    {
     "name": "stderr",
     "output_type": "stream",
     "text": [
      " 95%|█████████▍| 341/360 [1:26:41<01:43,  5.45s/it]"
     ]
    },
    {
     "name": "stdout",
     "output_type": "stream",
     "text": [
      "2021-05-06 17:18:03,611 - modnet - INFO - Preset #54 fitting finished, loss: 0.3938987791538239\n"
     ]
    },
    {
     "name": "stderr",
     "output_type": "stream",
     "text": [
      " 95%|█████████▌| 342/360 [1:26:55<02:23,  7.96s/it]"
     ]
    },
    {
     "name": "stdout",
     "output_type": "stream",
     "text": [
      "2021-05-06 17:18:05,507 - modnet - INFO - Preset #70 fitting finished, loss: 0.4747362554073334\n"
     ]
    },
    {
     "name": "stderr",
     "output_type": "stream",
     "text": [
      " 95%|█████████▌| 343/360 [1:26:57<01:44,  6.14s/it]"
     ]
    },
    {
     "name": "stdout",
     "output_type": "stream",
     "text": [
      "2021-05-06 17:18:14,096 - modnet - INFO - Preset #60 fitting finished, loss: 0.3806553542613983\n"
     ]
    },
    {
     "name": "stderr",
     "output_type": "stream",
     "text": [
      " 96%|█████████▌| 344/360 [1:27:05<01:49,  6.84s/it]"
     ]
    },
    {
     "name": "stdout",
     "output_type": "stream",
     "text": [
      "2021-05-06 17:18:38,007 - modnet - INFO - Preset #69 fitting finished, loss: 0.38529775142669676\n"
     ]
    },
    {
     "name": "stderr",
     "output_type": "stream",
     "text": [
      " 96%|█████████▌| 345/360 [1:27:29<02:59, 11.99s/it]"
     ]
    },
    {
     "name": "stdout",
     "output_type": "stream",
     "text": [
      "2021-05-06 17:18:42,267 - modnet - INFO - Preset #54 fitting finished, loss: 0.45153711438179017\n"
     ]
    },
    {
     "name": "stderr",
     "output_type": "stream",
     "text": [
      " 96%|█████████▌| 346/360 [1:27:33<02:15,  9.65s/it]"
     ]
    },
    {
     "name": "stdout",
     "output_type": "stream",
     "text": [
      "2021-05-06 17:18:42,632 - modnet - INFO - Preset #69 fitting finished, loss: 0.4389179229736328\n"
     ]
    },
    {
     "name": "stderr",
     "output_type": "stream",
     "text": [
      " 96%|█████████▋| 347/360 [1:27:34<01:28,  6.84s/it]"
     ]
    },
    {
     "name": "stdout",
     "output_type": "stream",
     "text": [
      "2021-05-06 17:18:43,725 - modnet - INFO - Preset #55 fitting finished, loss: 1970.1625\n"
     ]
    },
    {
     "name": "stderr",
     "output_type": "stream",
     "text": [
      " 97%|█████████▋| 348/360 [1:27:35<01:01,  5.16s/it]"
     ]
    },
    {
     "name": "stdout",
     "output_type": "stream",
     "text": [
      "2021-05-06 17:19:01,548 - modnet - INFO - Preset #69 fitting finished, loss: 3012.6380920410156\n"
     ]
    },
    {
     "name": "stderr",
     "output_type": "stream",
     "text": [
      " 97%|█████████▋| 349/360 [1:27:53<01:38,  8.94s/it]"
     ]
    },
    {
     "name": "stdout",
     "output_type": "stream",
     "text": [
      "2021-05-06 17:19:04,035 - modnet - INFO - Preset #68 fitting finished, loss: 0.3849212765693665\n"
     ]
    },
    {
     "name": "stderr",
     "output_type": "stream",
     "text": [
      " 97%|█████████▋| 350/360 [1:27:55<01:09,  6.97s/it]"
     ]
    },
    {
     "name": "stdout",
     "output_type": "stream",
     "text": [
      "2021-05-06 17:19:09,450 - modnet - INFO - Preset #70 fitting finished, loss: 0.39167394042015075\n"
     ]
    },
    {
     "name": "stderr",
     "output_type": "stream",
     "text": [
      " 98%|█████████▊| 351/360 [1:28:00<00:58,  6.55s/it]"
     ]
    },
    {
     "name": "stdout",
     "output_type": "stream",
     "text": [
      "2021-05-06 17:19:15,764 - modnet - INFO - Preset #71 fitting finished, loss: 23320.607252502443\n"
     ]
    },
    {
     "name": "stderr",
     "output_type": "stream",
     "text": [
      " 98%|█████████▊| 352/360 [1:28:07<00:51,  6.47s/it]"
     ]
    },
    {
     "name": "stdout",
     "output_type": "stream",
     "text": [
      "2021-05-06 17:19:17,536 - modnet - INFO - Preset #71 fitting finished, loss: 0.4077763080596924\n"
     ]
    },
    {
     "name": "stderr",
     "output_type": "stream",
     "text": [
      " 98%|█████████▊| 353/360 [1:28:08<00:35,  5.04s/it]"
     ]
    },
    {
     "name": "stdout",
     "output_type": "stream",
     "text": [
      "2021-05-06 17:19:28,607 - modnet - INFO - Preset #71 fitting finished, loss: 0.49466575384140016\n"
     ]
    },
    {
     "name": "stderr",
     "output_type": "stream",
     "text": [
      " 98%|█████████▊| 354/360 [1:28:20<00:41,  6.85s/it]"
     ]
    },
    {
     "name": "stdout",
     "output_type": "stream",
     "text": [
      "2021-05-06 17:19:37,003 - modnet - INFO - Preset #71 fitting finished, loss: 0.4905534625053406\n"
     ]
    },
    {
     "name": "stderr",
     "output_type": "stream",
     "text": [
      " 99%|█████████▊| 355/360 [1:28:28<00:36,  7.32s/it]"
     ]
    },
    {
     "name": "stdout",
     "output_type": "stream",
     "text": [
      "2021-05-06 17:19:43,512 - modnet - INFO - Preset #69 fitting finished, loss: 0.485641086101532\n"
     ]
    },
    {
     "name": "stderr",
     "output_type": "stream",
     "text": [
      " 99%|█████████▉| 356/360 [1:28:34<00:28,  7.06s/it]"
     ]
    },
    {
     "name": "stdout",
     "output_type": "stream",
     "text": [
      "2021-05-06 17:19:45,125 - modnet - INFO - Preset #55 fitting finished, loss: 0.39013164639472964\n"
     ]
    },
    {
     "name": "stderr",
     "output_type": "stream",
     "text": [
      " 99%|█████████▉| 357/360 [1:28:36<00:16,  5.46s/it]"
     ]
    },
    {
     "name": "stdout",
     "output_type": "stream",
     "text": [
      "2021-05-06 17:19:48,536 - modnet - INFO - Preset #57 fitting finished, loss: 0.4820030391216278\n"
     ]
    },
    {
     "name": "stderr",
     "output_type": "stream",
     "text": [
      " 99%|█████████▉| 358/360 [1:28:40<00:09,  4.85s/it]"
     ]
    },
    {
     "name": "stdout",
     "output_type": "stream",
     "text": [
      "2021-05-06 17:20:26,772 - modnet - INFO - Preset #55 fitting finished, loss: 0.44250184297561646\n"
     ]
    },
    {
     "name": "stderr",
     "output_type": "stream",
     "text": [
      "100%|█████████▉| 359/360 [1:29:18<00:14, 14.84s/it]"
     ]
    },
    {
     "name": "stdout",
     "output_type": "stream",
     "text": [
      "2021-05-06 17:22:22,910 - modnet - INFO - Preset #57 fitting finished, loss: 0.5677945256233216\n"
     ]
    },
    {
     "name": "stderr",
     "output_type": "stream",
     "text": [
      "100%|██████████| 360/360 [1:31:14<00:00, 15.21s/it]\n"
     ]
    },
    {
     "name": "stdout",
     "output_type": "stream",
     "text": [
      "2021-05-06 17:22:26,187 - modnet - INFO - Preset #33 resulted in lowest validation loss with params {'train_data': <modnet.preprocessing.MODData object at 0x7f6039c788b0>, 'targets': [[['exp_gap']]], 'weights': {'exp_gap': 1}, 'n_models': 5, 'num_classes': {'exp_gap': 0}, 'n_feat': 128, 'num_neurons': [[64], [32], [16], [16]], 'lr': 0.005, 'batch_size': 64, 'epochs': 1000, 'loss': 'mae', 'act': 'elu', 'out_act': 'linear', 'callbacks': [<tensorflow.python.keras.callbacks.EarlyStopping object at 0x7f601efc0c10>], 'preset_id': 32, 'fold_id': 2, 'verbose': 0, 'val_data': <modnet.preprocessing.MODData object at 0x7f605b797af0>}\n",
      "mae\n",
      "0.3610488800198381\n",
      "uncertainty\n",
      "0.28794017\n"
     ]
    }
   ],
   "source": [
    "k = 5\n",
    "random_state = 202010\n",
    "folds = MDKsplit(md_joint,n_splits=k,random_state=random_state)\n",
    "maes = np.ones(5)\n",
    "uncertainties = np.ones(5)\n",
    "for i,f in enumerate(folds):\n",
    "    train = f[0]\n",
    "    test = f[1]\n",
    "    #train.feature_selection(n=-1, use_precomputed_cross_nmi=True)\n",
    "    fpath = 'train_{}_{}'.format(random_state,i+1)\n",
    "    if os.path.exists(fpath):\n",
    "        train = MODData.load(fpath)\n",
    "    else:\n",
    "        train.feature_selection(n=-1, use_precomputed_cross_nmi=True)\n",
    "        train.save(fpath)\n",
    "      \n",
    "    # assure no overlap\n",
    "    assert len(set(train.df_targets.index).intersection(set(test.df_targets.index))) == 0\n",
    "    \n",
    "    model = EnsembleMODNetModel([[['exp_gap']]],{'exp_gap':1})\n",
    "    model.fit_preset(train, verbose=0, n_jobs=20)\n",
    "    \n",
    "    pred, std = model.predict(test, return_unc=True)\n",
    "    #pred = pred.drop(columns='pbe_gap')\n",
    "    true = test.df_targets\n",
    "    error = pred['exp_gap']-true['exp_gap']\n",
    "    error = error.drop(pred.index[((pred['exp_gap']).abs()>20)]) # drop unrealistic values: happens extremely rarely\n",
    "    std = std['exp_gap'].drop(std.index[((std['exp_gap']).abs()>20)]) # drop unrealistic values: happens extremely rarely\n",
    "    mae = np.abs(error).mean()\n",
    "    uncertainty = np.abs(std).mean()\n",
    "    print('mae')\n",
    "    print(mae)\n",
    "    print('uncertainty')\n",
    "    print(uncertainty)\n",
    "    maes[i] = mae\n",
    "    uncertainties[i] = uncertainty\n",
    "    "
   ]
  },
  {
   "cell_type": "code",
   "execution_count": 8,
   "metadata": {
    "ExecuteTime": {
     "end_time": "2021-05-06T15:22:37.040299Z",
     "start_time": "2021-05-06T15:22:37.036768Z"
    }
   },
   "outputs": [
    {
     "data": {
      "text/plain": [
       "array([0.37161024, 0.37979697, 0.29356389, 0.35051085, 0.36104888])"
      ]
     },
     "execution_count": 8,
     "metadata": {},
     "output_type": "execute_result"
    }
   ],
   "source": [
    "maes"
   ]
  },
  {
   "cell_type": "code",
   "execution_count": 9,
   "metadata": {
    "ExecuteTime": {
     "end_time": "2021-05-06T15:22:37.123366Z",
     "start_time": "2021-05-06T15:22:37.042177Z"
    }
   },
   "outputs": [
    {
     "data": {
      "text/plain": [
       "0.3513061661858493"
      ]
     },
     "execution_count": 9,
     "metadata": {},
     "output_type": "execute_result"
    }
   ],
   "source": [
    "maes.mean()"
   ]
  },
  {
   "cell_type": "code",
   "execution_count": 10,
   "metadata": {
    "ExecuteTime": {
     "end_time": "2021-05-06T15:22:37.127926Z",
     "start_time": "2021-05-06T15:22:37.124736Z"
    }
   },
   "outputs": [
    {
     "data": {
      "text/plain": [
       "array([0.34915224, 0.33423334, 0.2791425 , 0.30915102, 0.28794017])"
      ]
     },
     "execution_count": 10,
     "metadata": {},
     "output_type": "execute_result"
    }
   ],
   "source": [
    "uncertainties"
   ]
  },
  {
   "cell_type": "code",
   "execution_count": 11,
   "metadata": {
    "ExecuteTime": {
     "end_time": "2021-05-06T15:22:37.132116Z",
     "start_time": "2021-05-06T15:22:37.128987Z"
    }
   },
   "outputs": [
    {
     "data": {
      "text/plain": [
       "0.3119238555431366"
      ]
     },
     "execution_count": 11,
     "metadata": {},
     "output_type": "execute_result"
    }
   ],
   "source": [
    "uncertainties.mean()"
   ]
  },
  {
   "cell_type": "markdown",
   "metadata": {},
   "source": [
    "#### Conclusion"
   ]
  },
  {
   "cell_type": "markdown",
   "metadata": {},
   "source": [
    "Relative percentage change of the error compared to MODNet_exp_GA reference: -1%"
   ]
  }
 ],
 "metadata": {
  "kernelspec": {
   "display_name": "Python [conda env:modnet]",
   "language": "python",
   "name": "conda-env-modnet-py"
  },
  "language_info": {
   "codemirror_mode": {
    "name": "ipython",
    "version": 3
   },
   "file_extension": ".py",
   "mimetype": "text/x-python",
   "name": "python",
   "nbconvert_exporter": "python",
   "pygments_lexer": "ipython3",
   "version": "3.8.5"
  }
 },
 "nbformat": 4,
 "nbformat_minor": 4
}
