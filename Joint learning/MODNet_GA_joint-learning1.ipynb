{
 "cells": [
  {
   "cell_type": "markdown",
   "metadata": {
    "ExecuteTime": {
     "end_time": "2021-02-03T11:45:15.346116Z",
     "start_time": "2021-02-03T11:45:15.273111Z"
    }
   },
   "source": [
    "# MODNet on experimental dataset "
   ]
  },
  {
   "cell_type": "markdown",
   "metadata": {},
   "source": [
    "MODNet model with the GA, and doing joint learning on the experimental and PBE band gaps."
   ]
  },
  {
   "cell_type": "code",
   "execution_count": 1,
   "metadata": {
    "ExecuteTime": {
     "end_time": "2021-06-14T15:43:30.339925Z",
     "start_time": "2021-06-14T15:43:30.334022Z"
    }
   },
   "outputs": [],
   "source": [
    "def setup_threading():\n",
    "    import os\n",
    "    os.environ['OPENBLAS_NUM_THREADS'] = '1'\n",
    "    os.environ['MKL_NUM_THREADS'] = '1'\n",
    "    os.environ[\"OMP_NUM_THREADS\"] = \"1\"\n",
    "    os.environ[\"TF_NUM_INTRAOP_THREADS\"] = \"1\"\n",
    "    os.environ[\"TF_NUM_INTEROP_THREADS\"] = \"1\"\n",
    "    os.environ[\"CUDA_VISIBLE_DEVICES\"] = \"-1\""
   ]
  },
  {
   "cell_type": "code",
   "execution_count": 2,
   "metadata": {
    "ExecuteTime": {
     "end_time": "2021-06-14T15:43:30.468288Z",
     "start_time": "2021-06-14T15:43:30.466520Z"
    }
   },
   "outputs": [],
   "source": [
    "setup_threading()"
   ]
  },
  {
   "cell_type": "code",
   "execution_count": 3,
   "metadata": {
    "ExecuteTime": {
     "end_time": "2021-06-14T15:43:34.668219Z",
     "start_time": "2021-06-14T15:43:30.624833Z"
    }
   },
   "outputs": [
    {
     "name": "stdout",
     "output_type": "stream",
     "text": [
      "\n",
      "If you use the ChemEnv tool for your research, please consider citing the following reference(s) :\n",
      "==================================================================================================\n",
      "David Waroquiers, Xavier Gonze, Gian-Marco Rignanese, Cathrin Welker-Nieuwoudt, Frank Rosowski,\n",
      "Michael Goebel, Stephan Schenk, Peter Degelmann, Rute Andre, Robert Glaum, and Geoffroy Hautier,\n",
      "\"Statistical analysis of coordination environments in oxides\",\n",
      "Chem. Mater., 2017, 29 (19), pp 8346-8360,\n",
      "DOI: 10.1021/acs.chemmater.7b02766\n",
      "\n"
     ]
    }
   ],
   "source": [
    "from modnet.preprocessing import MODData\n",
    "from modnet.models.vanilla import MODNetModel\n",
    "from modnet.hyper_opt.fit_genetic import FitGenetic\n",
    "import numpy as np\n",
    "import os\n",
    "import copy\n",
    "\n",
    "from collections import defaultdict\n",
    "import itertools\n",
    "import os\n",
    "import pandas as pd\n",
    "import matplotlib.pyplot as plt \n",
    "from IPython.display import Markdown\n",
    "from matminer.datasets import load_dataset, get_all_dataset_info\n",
    "from pymatgen.core import Composition\n",
    "\n",
    "from modnet.featurizers import MODFeaturizer\n",
    "from modnet.featurizers.presets import DeBreuck2020Featurizer\n",
    "\n",
    "os.environ[\"CUDA_VISIBLE_DEVICES\"] = \"1\""
   ]
  },
  {
   "cell_type": "code",
   "execution_count": 4,
   "metadata": {
    "ExecuteTime": {
     "end_time": "2021-06-14T15:43:34.674458Z",
     "start_time": "2021-06-14T15:43:34.669393Z"
    }
   },
   "outputs": [],
   "source": [
    "from sklearn.model_selection import KFold\n",
    "from modnet.preprocessing import MODData\n",
    "\n",
    "def shuffle_MD(data,random_state=10):\n",
    "    data = copy.deepcopy(data)\n",
    "    ids = data.df_targets.sample(frac=1,random_state=random_state).index\n",
    "    data.df_featurized = data.df_featurized.loc[ids]\n",
    "    data.df_targets = data.df_targets.loc[ids]\n",
    "    data.df_structure = data.df_structure.loc[ids]\n",
    "    \n",
    "    return data\n",
    "\n",
    "def MDKsplit(data,n_splits=5,random_state=10):\n",
    "    data = shuffle_MD(data,random_state=random_state)\n",
    "    ids = np.array(data.structure_ids)\n",
    "    kf = KFold(n_splits=n_splits,shuffle=True,random_state=random_state)\n",
    "    folds = []\n",
    "    for train_idx, val_idx in kf.split(ids):\n",
    "        data_train = MODData(data.df_structure.iloc[train_idx]['structure'].values,data.df_targets.iloc[train_idx].values,target_names=data.df_targets.columns,structure_ids=ids[train_idx])\n",
    "        data_train.df_featurized = data.df_featurized.iloc[train_idx]\n",
    "        #data_train.optimal_features = data.optimal_features\n",
    "        \n",
    "        data_val = MODData(data.df_structure.iloc[val_idx]['structure'].values,data.df_targets.iloc[val_idx].values,target_names=data.df_targets.columns,structure_ids=ids[val_idx])\n",
    "        data_val.df_featurized = data.df_featurized.iloc[val_idx]\n",
    "        #data_val.optimal_features = data.optimal_features\n",
    "\n",
    "        folds.append((data_train,data_val))\n",
    "        \n",
    "    return folds"
   ]
  },
  {
   "cell_type": "code",
   "execution_count": 5,
   "metadata": {
    "ExecuteTime": {
     "end_time": "2021-06-14T15:43:37.051278Z",
     "start_time": "2021-06-14T15:43:34.675656Z"
    }
   },
   "outputs": [
    {
     "name": "stdout",
     "output_type": "stream",
     "text": [
      "2021-06-14 17:43:36,444 - modnet - INFO - Loaded <modnet.preprocessing.MODData object at 0x7fdd646de6d0> object, created with modnet version <=0.1.7\n",
      "2021-06-14 17:43:37,049 - modnet - INFO - Loaded <modnet.preprocessing.MODData object at 0x7fddd4356370> object, created with modnet version <=0.1.7\n"
     ]
    }
   ],
   "source": [
    "md = MODData.load('exp_gap_all')\n",
    "df = pd.read_pickle('df_exp_cleaned.pkl')\n",
    "md_joint = MODData.load('exp_pbe_joint')"
   ]
  },
  {
   "cell_type": "code",
   "execution_count": 6,
   "metadata": {
    "ExecuteTime": {
     "end_time": "2021-06-14T15:43:37.063601Z",
     "start_time": "2021-06-14T15:43:37.052544Z"
    }
   },
   "outputs": [
    {
     "data": {
      "text/html": [
       "<div>\n",
       "<style scoped>\n",
       "    .dataframe tbody tr th:only-of-type {\n",
       "        vertical-align: middle;\n",
       "    }\n",
       "\n",
       "    .dataframe tbody tr th {\n",
       "        vertical-align: top;\n",
       "    }\n",
       "\n",
       "    .dataframe thead th {\n",
       "        text-align: right;\n",
       "    }\n",
       "</style>\n",
       "<table border=\"1\" class=\"dataframe\">\n",
       "  <thead>\n",
       "    <tr style=\"text-align: right;\">\n",
       "      <th></th>\n",
       "      <th>exp_gap</th>\n",
       "      <th>pbe_gap</th>\n",
       "      <th>difference</th>\n",
       "    </tr>\n",
       "  </thead>\n",
       "  <tbody>\n",
       "    <tr>\n",
       "      <th>mp-12699</th>\n",
       "      <td>0.00</td>\n",
       "      <td>0.0000</td>\n",
       "      <td>0.0000</td>\n",
       "    </tr>\n",
       "    <tr>\n",
       "      <th>mp-559459</th>\n",
       "      <td>3.40</td>\n",
       "      <td>2.1704</td>\n",
       "      <td>1.2296</td>\n",
       "    </tr>\n",
       "    <tr>\n",
       "      <th>mp-21162</th>\n",
       "      <td>0.00</td>\n",
       "      <td>0.0000</td>\n",
       "      <td>0.0000</td>\n",
       "    </tr>\n",
       "    <tr>\n",
       "      <th>mp-1306</th>\n",
       "      <td>0.00</td>\n",
       "      <td>0.0000</td>\n",
       "      <td>0.0000</td>\n",
       "    </tr>\n",
       "    <tr>\n",
       "      <th>mp-15252</th>\n",
       "      <td>0.53</td>\n",
       "      <td>0.1049</td>\n",
       "      <td>0.4251</td>\n",
       "    </tr>\n",
       "    <tr>\n",
       "      <th>...</th>\n",
       "      <td>...</td>\n",
       "      <td>...</td>\n",
       "      <td>...</td>\n",
       "    </tr>\n",
       "    <tr>\n",
       "      <th>mp-556541</th>\n",
       "      <td>1.80</td>\n",
       "      <td>1.5135</td>\n",
       "      <td>0.2865</td>\n",
       "    </tr>\n",
       "    <tr>\n",
       "      <th>mp-2602</th>\n",
       "      <td>1.04</td>\n",
       "      <td>0.0000</td>\n",
       "      <td>1.0400</td>\n",
       "    </tr>\n",
       "    <tr>\n",
       "      <th>mp-30366</th>\n",
       "      <td>0.00</td>\n",
       "      <td>0.0000</td>\n",
       "      <td>0.0000</td>\n",
       "    </tr>\n",
       "    <tr>\n",
       "      <th>mp-3718</th>\n",
       "      <td>1.45</td>\n",
       "      <td>0.2418</td>\n",
       "      <td>1.2082</td>\n",
       "    </tr>\n",
       "    <tr>\n",
       "      <th>mp-3709</th>\n",
       "      <td>0.00</td>\n",
       "      <td>0.0000</td>\n",
       "      <td>0.0000</td>\n",
       "    </tr>\n",
       "  </tbody>\n",
       "</table>\n",
       "<p>1703 rows × 3 columns</p>\n",
       "</div>"
      ],
      "text/plain": [
       "           exp_gap  pbe_gap  difference\n",
       "mp-12699      0.00   0.0000      0.0000\n",
       "mp-559459     3.40   2.1704      1.2296\n",
       "mp-21162      0.00   0.0000      0.0000\n",
       "mp-1306       0.00   0.0000      0.0000\n",
       "mp-15252      0.53   0.1049      0.4251\n",
       "...            ...      ...         ...\n",
       "mp-556541     1.80   1.5135      0.2865\n",
       "mp-2602       1.04   0.0000      1.0400\n",
       "mp-30366      0.00   0.0000      0.0000\n",
       "mp-3718       1.45   0.2418      1.2082\n",
       "mp-3709       0.00   0.0000      0.0000\n",
       "\n",
       "[1703 rows x 3 columns]"
      ]
     },
     "execution_count": 6,
     "metadata": {},
     "output_type": "execute_result"
    }
   ],
   "source": [
    "md_joint.df_targets"
   ]
  },
  {
   "cell_type": "code",
   "execution_count": 7,
   "metadata": {
    "ExecuteTime": {
     "end_time": "2021-06-14T15:43:37.066962Z",
     "start_time": "2021-06-14T15:43:37.064556Z"
    }
   },
   "outputs": [],
   "source": [
    "md_joint.df_targets = md_joint.df_targets.drop(columns='difference')"
   ]
  },
  {
   "cell_type": "code",
   "execution_count": 8,
   "metadata": {
    "ExecuteTime": {
     "end_time": "2021-06-14T15:43:37.074565Z",
     "start_time": "2021-06-14T15:43:37.067822Z"
    }
   },
   "outputs": [
    {
     "data": {
      "text/html": [
       "<div>\n",
       "<style scoped>\n",
       "    .dataframe tbody tr th:only-of-type {\n",
       "        vertical-align: middle;\n",
       "    }\n",
       "\n",
       "    .dataframe tbody tr th {\n",
       "        vertical-align: top;\n",
       "    }\n",
       "\n",
       "    .dataframe thead th {\n",
       "        text-align: right;\n",
       "    }\n",
       "</style>\n",
       "<table border=\"1\" class=\"dataframe\">\n",
       "  <thead>\n",
       "    <tr style=\"text-align: right;\">\n",
       "      <th></th>\n",
       "      <th>exp_gap</th>\n",
       "      <th>pbe_gap</th>\n",
       "    </tr>\n",
       "  </thead>\n",
       "  <tbody>\n",
       "    <tr>\n",
       "      <th>mp-12699</th>\n",
       "      <td>0.00</td>\n",
       "      <td>0.0000</td>\n",
       "    </tr>\n",
       "    <tr>\n",
       "      <th>mp-559459</th>\n",
       "      <td>3.40</td>\n",
       "      <td>2.1704</td>\n",
       "    </tr>\n",
       "    <tr>\n",
       "      <th>mp-21162</th>\n",
       "      <td>0.00</td>\n",
       "      <td>0.0000</td>\n",
       "    </tr>\n",
       "    <tr>\n",
       "      <th>mp-1306</th>\n",
       "      <td>0.00</td>\n",
       "      <td>0.0000</td>\n",
       "    </tr>\n",
       "    <tr>\n",
       "      <th>mp-15252</th>\n",
       "      <td>0.53</td>\n",
       "      <td>0.1049</td>\n",
       "    </tr>\n",
       "    <tr>\n",
       "      <th>...</th>\n",
       "      <td>...</td>\n",
       "      <td>...</td>\n",
       "    </tr>\n",
       "    <tr>\n",
       "      <th>mp-556541</th>\n",
       "      <td>1.80</td>\n",
       "      <td>1.5135</td>\n",
       "    </tr>\n",
       "    <tr>\n",
       "      <th>mp-2602</th>\n",
       "      <td>1.04</td>\n",
       "      <td>0.0000</td>\n",
       "    </tr>\n",
       "    <tr>\n",
       "      <th>mp-30366</th>\n",
       "      <td>0.00</td>\n",
       "      <td>0.0000</td>\n",
       "    </tr>\n",
       "    <tr>\n",
       "      <th>mp-3718</th>\n",
       "      <td>1.45</td>\n",
       "      <td>0.2418</td>\n",
       "    </tr>\n",
       "    <tr>\n",
       "      <th>mp-3709</th>\n",
       "      <td>0.00</td>\n",
       "      <td>0.0000</td>\n",
       "    </tr>\n",
       "  </tbody>\n",
       "</table>\n",
       "<p>1703 rows × 2 columns</p>\n",
       "</div>"
      ],
      "text/plain": [
       "           exp_gap  pbe_gap\n",
       "mp-12699      0.00   0.0000\n",
       "mp-559459     3.40   2.1704\n",
       "mp-21162      0.00   0.0000\n",
       "mp-1306       0.00   0.0000\n",
       "mp-15252      0.53   0.1049\n",
       "...            ...      ...\n",
       "mp-556541     1.80   1.5135\n",
       "mp-2602       1.04   0.0000\n",
       "mp-30366      0.00   0.0000\n",
       "mp-3718       1.45   0.2418\n",
       "mp-3709       0.00   0.0000\n",
       "\n",
       "[1703 rows x 2 columns]"
      ]
     },
     "execution_count": 8,
     "metadata": {},
     "output_type": "execute_result"
    }
   ],
   "source": [
    "md_joint.df_targets"
   ]
  },
  {
   "cell_type": "code",
   "execution_count": 9,
   "metadata": {
    "ExecuteTime": {
     "end_time": "2021-06-14T15:43:37.106880Z",
     "start_time": "2021-06-14T15:43:37.075380Z"
    }
   },
   "outputs": [
    {
     "data": {
      "text/html": [
       "<div>\n",
       "<style scoped>\n",
       "    .dataframe tbody tr th:only-of-type {\n",
       "        vertical-align: middle;\n",
       "    }\n",
       "\n",
       "    .dataframe tbody tr th {\n",
       "        vertical-align: top;\n",
       "    }\n",
       "\n",
       "    .dataframe thead th {\n",
       "        text-align: right;\n",
       "    }\n",
       "</style>\n",
       "<table border=\"1\" class=\"dataframe\">\n",
       "  <thead>\n",
       "    <tr style=\"text-align: right;\">\n",
       "      <th></th>\n",
       "      <th>structure</th>\n",
       "    </tr>\n",
       "    <tr>\n",
       "      <th>id</th>\n",
       "      <th></th>\n",
       "    </tr>\n",
       "  </thead>\n",
       "  <tbody>\n",
       "    <tr>\n",
       "      <th>mp-12699</th>\n",
       "      <td>[[ 0.13616363 -2.60631371  1.50340165] Ca, [-1...</td>\n",
       "    </tr>\n",
       "    <tr>\n",
       "      <th>mp-559459</th>\n",
       "      <td>[[2.14049282 6.43464803 1.76199846] Cs, [-0.70...</td>\n",
       "    </tr>\n",
       "    <tr>\n",
       "      <th>mp-21162</th>\n",
       "      <td>[[0. 0. 0.] Sr, [0.        2.5259875 2.5259875...</td>\n",
       "    </tr>\n",
       "    <tr>\n",
       "      <th>mp-1306</th>\n",
       "      <td>[[3.259129   1.88166243 1.15971025] Th, [ 3.25...</td>\n",
       "    </tr>\n",
       "    <tr>\n",
       "      <th>mp-15252</th>\n",
       "      <td>[[0.95531657 1.042239   0.86229681] Cu, [2.803...</td>\n",
       "    </tr>\n",
       "    <tr>\n",
       "      <th>...</th>\n",
       "      <td>...</td>\n",
       "    </tr>\n",
       "    <tr>\n",
       "      <th>mp-556541</th>\n",
       "      <td>[[0.         6.49363948 5.82657217] In, [ 0.  ...</td>\n",
       "    </tr>\n",
       "    <tr>\n",
       "      <th>mp-2602</th>\n",
       "      <td>[[3.023318 3.023318 3.023318] Nd, [0. 0. 0.] As]</td>\n",
       "    </tr>\n",
       "    <tr>\n",
       "      <th>mp-30366</th>\n",
       "      <td>[[4.51774558 1.37529211 4.32659015] Ca, [1.109...</td>\n",
       "    </tr>\n",
       "    <tr>\n",
       "      <th>mp-3718</th>\n",
       "      <td>[[2.0697935  0.         1.28932533] Th, [0.   ...</td>\n",
       "    </tr>\n",
       "    <tr>\n",
       "      <th>mp-3709</th>\n",
       "      <td>[[0. 0. 0.] Tb, [0.       1.983905 2.537711] C...</td>\n",
       "    </tr>\n",
       "  </tbody>\n",
       "</table>\n",
       "<p>1703 rows × 1 columns</p>\n",
       "</div>"
      ],
      "text/plain": [
       "                                                   structure\n",
       "id                                                          \n",
       "mp-12699   [[ 0.13616363 -2.60631371  1.50340165] Ca, [-1...\n",
       "mp-559459  [[2.14049282 6.43464803 1.76199846] Cs, [-0.70...\n",
       "mp-21162   [[0. 0. 0.] Sr, [0.        2.5259875 2.5259875...\n",
       "mp-1306    [[3.259129   1.88166243 1.15971025] Th, [ 3.25...\n",
       "mp-15252   [[0.95531657 1.042239   0.86229681] Cu, [2.803...\n",
       "...                                                      ...\n",
       "mp-556541  [[0.         6.49363948 5.82657217] In, [ 0.  ...\n",
       "mp-2602     [[3.023318 3.023318 3.023318] Nd, [0. 0. 0.] As]\n",
       "mp-30366   [[4.51774558 1.37529211 4.32659015] Ca, [1.109...\n",
       "mp-3718    [[2.0697935  0.         1.28932533] Th, [0.   ...\n",
       "mp-3709    [[0. 0. 0.] Tb, [0.       1.983905 2.537711] C...\n",
       "\n",
       "[1703 rows x 1 columns]"
      ]
     },
     "execution_count": 9,
     "metadata": {},
     "output_type": "execute_result"
    }
   ],
   "source": [
    "md_joint.df_structure"
   ]
  },
  {
   "cell_type": "code",
   "execution_count": 10,
   "metadata": {
    "ExecuteTime": {
     "end_time": "2021-06-14T22:59:20.282044Z",
     "start_time": "2021-06-14T15:43:37.108359Z"
    },
    "scrolled": true
   },
   "outputs": [
    {
     "name": "stdout",
     "output_type": "stream",
     "text": [
      "2021-06-14 17:43:37,219 - modnet - INFO - Loaded DeBreuck2020Featurizer featurizer.\n",
      "2021-06-14 17:43:37,234 - modnet - INFO - Loaded DeBreuck2020Featurizer featurizer.\n",
      "2021-06-14 17:43:37,243 - modnet - INFO - Loaded DeBreuck2020Featurizer featurizer.\n",
      "2021-06-14 17:43:37,258 - modnet - INFO - Loaded DeBreuck2020Featurizer featurizer.\n",
      "2021-06-14 17:43:37,267 - modnet - INFO - Loaded DeBreuck2020Featurizer featurizer.\n",
      "2021-06-14 17:43:37,281 - modnet - INFO - Loaded DeBreuck2020Featurizer featurizer.\n",
      "2021-06-14 17:43:37,290 - modnet - INFO - Loaded DeBreuck2020Featurizer featurizer.\n",
      "2021-06-14 17:43:37,305 - modnet - INFO - Loaded DeBreuck2020Featurizer featurizer.\n",
      "2021-06-14 17:43:37,314 - modnet - INFO - Loaded DeBreuck2020Featurizer featurizer.\n",
      "2021-06-14 17:43:37,328 - modnet - INFO - Loaded DeBreuck2020Featurizer featurizer.\n",
      "2021-06-14 17:43:38,112 - modnet - INFO - Loaded <modnet.preprocessing.MODData object at 0x7fdd5225e430> object, created with modnet version 0.1.9\n",
      "2021-06-14 17:43:38,113 - modnet - INFO - Generation number 0\n",
      "2021-06-14 17:43:39,555 - modnet - INFO - Multiprocessing on 10 cores. Total of 128 cores available.\n"
     ]
    },
    {
     "name": "stderr",
     "output_type": "stream",
     "text": [
      "100%|██████████| 100/100 [11:58<00:00,  7.18s/it]"
     ]
    },
    {
     "name": "stdout",
     "output_type": "stream",
     "text": [
      "2021-06-14 17:55:37,819 - modnet - INFO - Loss per individual: ind 0: 0.951 \tind 1: 0.634 \tind 2: 0.634 \tind 3: 0.652 \tind 4: 0.619 \tind 5: 0.753 \tind 6: 0.613 \tind 7: 0.638 \tind 8: 0.704 \tind 9: 0.585 \tind 10: 0.646 \tind 11: 0.951 \tind 12: 0.736 \tind 13: 0.633 \tind 14: 0.625 \tind 15: 0.745 \tind 16: 0.612 \tind 17: 0.711 \tind 18: 0.775 \tind 19: 0.693 \t\n"
     ]
    },
    {
     "name": "stderr",
     "output_type": "stream",
     "text": [
      "\n"
     ]
    },
    {
     "name": "stdout",
     "output_type": "stream",
     "text": [
      "2021-06-14 17:55:39,330 - modnet - INFO - Generation number 1\n",
      "2021-06-14 17:55:41,619 - modnet - INFO - Multiprocessing on 10 cores. Total of 128 cores available.\n"
     ]
    },
    {
     "name": "stderr",
     "output_type": "stream",
     "text": [
      "100%|██████████| 100/100 [14:48<00:00,  8.88s/it]"
     ]
    },
    {
     "name": "stdout",
     "output_type": "stream",
     "text": [
      "2021-06-14 18:10:30,081 - modnet - INFO - Loss per individual: ind 0: 0.596 \tind 1: 0.651 \tind 2: 0.604 \tind 3: 0.633 \tind 4: 0.649 \tind 5: 0.734 \tind 6: 0.651 \tind 7: 0.620 \tind 8: 0.629 \tind 9: 0.586 \tind 10: 0.610 \tind 11: 0.664 \tind 12: 0.634 \tind 13: 0.656 \tind 14: 0.957 \tind 15: 0.610 \tind 16: 0.633 \tind 17: 0.628 \tind 18: 0.613 \tind 19: 0.656 \t\n"
     ]
    },
    {
     "name": "stderr",
     "output_type": "stream",
     "text": [
      "\n"
     ]
    },
    {
     "name": "stdout",
     "output_type": "stream",
     "text": [
      "2021-06-14 18:10:31,721 - modnet - INFO - Generation number 2\n",
      "2021-06-14 18:10:34,408 - modnet - INFO - Multiprocessing on 10 cores. Total of 128 cores available.\n"
     ]
    },
    {
     "name": "stderr",
     "output_type": "stream",
     "text": [
      "100%|██████████| 100/100 [14:52<00:00,  8.92s/it]"
     ]
    },
    {
     "name": "stdout",
     "output_type": "stream",
     "text": [
      "2021-06-14 18:25:26,625 - modnet - INFO - Loss per individual: ind 0: 0.618 \tind 1: 0.648 \tind 2: 0.709 \tind 3: 0.627 \tind 4: 0.655 \tind 5: 0.612 \tind 6: 0.624 \tind 7: 0.613 \tind 8: 0.678 \tind 9: 0.631 \tind 10: 0.644 \tind 11: 0.839 \tind 12: 0.626 \tind 13: 0.662 \tind 14: 0.623 \tind 15: 0.684 \tind 16: 0.647 \tind 17: 0.637 \tind 18: 0.607 \tind 19: 0.625 \t\n"
     ]
    },
    {
     "name": "stderr",
     "output_type": "stream",
     "text": [
      "\n"
     ]
    },
    {
     "name": "stdout",
     "output_type": "stream",
     "text": [
      "2021-06-14 18:25:28,344 - modnet - INFO - Generation number 3\n",
      "2021-06-14 18:25:31,429 - modnet - INFO - Multiprocessing on 10 cores. Total of 128 cores available.\n"
     ]
    },
    {
     "name": "stderr",
     "output_type": "stream",
     "text": [
      "100%|██████████| 100/100 [14:30<00:00,  8.71s/it]"
     ]
    },
    {
     "name": "stdout",
     "output_type": "stream",
     "text": [
      "2021-06-14 18:40:02,340 - modnet - INFO - Loss per individual: ind 0: 0.610 \tind 1: 0.684 \tind 2: 0.612 \tind 3: 0.754 \tind 4: 0.589 \tind 5: 0.665 \tind 6: 0.615 \tind 7: 0.669 \tind 8: 0.740 \tind 9: 0.695 \tind 10: 0.596 \tind 11: 0.633 \tind 12: 0.651 \tind 13: 0.600 \tind 14: 0.611 \tind 15: 0.630 \tind 16: 0.596 \tind 17: 0.610 \tind 18: 0.675 \tind 19: 0.598 \t\n"
     ]
    },
    {
     "name": "stderr",
     "output_type": "stream",
     "text": [
      "\n"
     ]
    },
    {
     "name": "stdout",
     "output_type": "stream",
     "text": [
      "2021-06-14 18:40:03,691 - modnet - INFO - Early stopping: same best model for 4 consecutive generations\n",
      " (1/n) Calculating accuracy metrics\n",
      " (2/n) Calculating average calibration metrics\n"
     ]
    },
    {
     "name": "stderr",
     "output_type": "stream",
     "text": [
      " 10%|█         | 1/10 [00:00<00:01,  6.71it/s]"
     ]
    },
    {
     "name": "stdout",
     "output_type": "stream",
     "text": [
      " (3/n) Calculating adversarial group calibration metrics\n",
      "  [1/2] for mean absolute calibration error\n",
      "Measuring adversarial group calibration by spanning group size between 0.0 and 1.0, in 10 intervals\n"
     ]
    },
    {
     "name": "stderr",
     "output_type": "stream",
     "text": [
      "100%|██████████| 10/10 [00:01<00:00,  6.83it/s]\n",
      " 10%|█         | 1/10 [00:00<00:01,  7.59it/s]"
     ]
    },
    {
     "name": "stdout",
     "output_type": "stream",
     "text": [
      "  [2/2] for root mean squared calibration error\n",
      "Measuring adversarial group calibration by spanning group size between 0.0 and 1.0, in 10 intervals\n"
     ]
    },
    {
     "name": "stderr",
     "output_type": "stream",
     "text": [
      "100%|██████████| 10/10 [00:01<00:00,  6.82it/s]\n"
     ]
    },
    {
     "name": "stdout",
     "output_type": "stream",
     "text": [
      " (4/n) Calculating sharpness metrics\n",
      " (n/n) Calculating proper scoring rule metrics\n",
      "**Finished Calculating All Metrics**\n",
      "\n",
      "\n",
      "===================== Accuracy Metrics =====================\n",
      "  MAE           0.367\n",
      "  RMSE          0.764\n",
      "  MDAE          0.064\n",
      "  MARPD         130.928\n",
      "  R2            0.774\n",
      "  Correlation   0.886\n",
      "=============== Average Calibration Metrics ================\n",
      "  Root-mean-squared Calibration Error   0.077\n",
      "  Mean-absolute Calibration Error       0.048\n",
      "  Miscalibration Area                   0.049\n",
      "========== Adversarial Group Calibration Metrics ===========\n",
      "  Mean-absolute Adversarial Group Calibration Error\n",
      "     Group Size: 0.11 -- Calibration Error: 0.120\n",
      "     Group Size: 0.56 -- Calibration Error: 0.073\n",
      "     Group Size: 1.00 -- Calibration Error: 0.048\n",
      "  Root-mean-squared Adversarial Group Calibration Error\n",
      "     Group Size: 0.11 -- Calibration Error: 0.140\n",
      "     Group Size: 0.56 -- Calibration Error: 0.098\n",
      "     Group Size: 1.00 -- Calibration Error: 0.077\n",
      "==================== Sharpness Metrics =====================\n",
      "  Sharpness   0.297\n",
      "=================== Scoring Rule Metrics ===================\n",
      "  Negative-log-likelihood   3.741\n",
      "  CRPS                      0.298\n",
      "  Check Score               0.150\n",
      "  Interval Score            2.068\n",
      "MAE =\n",
      "0.3666417588051334\n",
      "uncertainty =\n",
      "0.19157691\n",
      "2021-06-14 18:40:15,064 - modnet - INFO - Loaded <modnet.preprocessing.MODData object at 0x7fdb75aa5ee0> object, created with modnet version 0.1.9\n",
      "2021-06-14 18:40:15,109 - modnet - INFO - Generation number 0\n",
      "2021-06-14 18:40:17,794 - modnet - INFO - Multiprocessing on 10 cores. Total of 128 cores available.\n"
     ]
    },
    {
     "name": "stderr",
     "output_type": "stream",
     "text": [
      "100%|██████████| 100/100 [13:03<00:00,  7.84s/it]"
     ]
    },
    {
     "name": "stdout",
     "output_type": "stream",
     "text": [
      "2021-06-14 18:53:21,666 - modnet - INFO - Loss per individual: ind 0: 0.607 \tind 1: 0.593 \tind 2: 0.759 \tind 3: 0.650 \tind 4: 0.692 \tind 5: 0.661 \tind 6: 0.665 \tind 7: 0.992 \tind 8: 0.670 \tind 9: 0.616 \tind 10: 0.731 \tind 11: 0.680 \tind 12: 0.609 \tind 13: 0.609 \tind 14: 0.777 \tind 15: 0.626 \tind 16: 0.615 \tind 17: 0.639 \tind 18: 0.639 \tind 19: 0.660 \t\n"
     ]
    },
    {
     "name": "stderr",
     "output_type": "stream",
     "text": [
      "\n"
     ]
    },
    {
     "name": "stdout",
     "output_type": "stream",
     "text": [
      "2021-06-14 18:53:23,342 - modnet - INFO - Generation number 1\n",
      "2021-06-14 18:53:26,374 - modnet - INFO - Multiprocessing on 10 cores. Total of 128 cores available.\n"
     ]
    },
    {
     "name": "stderr",
     "output_type": "stream",
     "text": [
      "100%|██████████| 100/100 [13:21<00:00,  8.02s/it]"
     ]
    },
    {
     "name": "stdout",
     "output_type": "stream",
     "text": [
      "2021-06-14 19:06:47,943 - modnet - INFO - Loss per individual: ind 0: 0.633 \tind 1: 0.649 \tind 2: 0.833 \tind 3: 0.666 \tind 4: 0.643 \tind 5: 0.640 \tind 6: 0.656 \tind 7: 0.681 \tind 8: 0.653 \tind 9: 0.651 \tind 10: 0.629 \tind 11: 0.664 \tind 12: 0.724 \tind 13: 0.613 \tind 14: 0.680 \tind 15: 0.618 \tind 16: 0.632 \tind 17: 0.680 \tind 18: 0.620 \tind 19: 0.635 \t\n"
     ]
    },
    {
     "name": "stderr",
     "output_type": "stream",
     "text": [
      "\n"
     ]
    },
    {
     "name": "stdout",
     "output_type": "stream",
     "text": [
      "2021-06-14 19:06:49,801 - modnet - INFO - Generation number 2\n",
      "2021-06-14 19:06:53,077 - modnet - INFO - Multiprocessing on 10 cores. Total of 128 cores available.\n"
     ]
    },
    {
     "name": "stderr",
     "output_type": "stream",
     "text": [
      "100%|██████████| 100/100 [12:54<00:00,  7.75s/it]"
     ]
    },
    {
     "name": "stdout",
     "output_type": "stream",
     "text": [
      "2021-06-14 19:19:47,983 - modnet - INFO - Loss per individual: ind 0: 0.599 \tind 1: 0.588 \tind 2: 0.609 \tind 3: 0.675 \tind 4: 0.616 \tind 5: 0.618 \tind 6: 0.612 \tind 7: 0.615 \tind 8: 1.009 \tind 9: 0.602 \tind 10: 0.737 \tind 11: 0.608 \tind 12: 0.698 \tind 13: 0.672 \tind 14: 0.608 \tind 15: 0.615 \tind 16: 0.614 \tind 17: 0.599 \tind 18: 0.613 \tind 19: 0.657 \t\n"
     ]
    },
    {
     "name": "stderr",
     "output_type": "stream",
     "text": [
      "\n"
     ]
    },
    {
     "name": "stdout",
     "output_type": "stream",
     "text": [
      "2021-06-14 19:19:49,869 - modnet - INFO - Generation number 3\n",
      "2021-06-14 19:19:53,125 - modnet - INFO - Multiprocessing on 10 cores. Total of 128 cores available.\n"
     ]
    },
    {
     "name": "stderr",
     "output_type": "stream",
     "text": [
      "100%|██████████| 100/100 [11:11<00:00,  6.71s/it]"
     ]
    },
    {
     "name": "stdout",
     "output_type": "stream",
     "text": [
      "2021-06-14 19:31:04,330 - modnet - INFO - Loss per individual: ind 0: 0.630 \tind 1: 0.687 \tind 2: 0.593 \tind 3: 0.585 \tind 4: 0.600 \tind 5: 0.603 \tind 6: 0.664 \tind 7: 0.651 \tind 8: 0.633 \tind 9: 0.644 \tind 10: 0.614 \tind 11: 0.633 \tind 12: 0.573 \tind 13: 0.613 \tind 14: 0.645 \tind 15: 0.644 \tind 16: 0.647 \tind 17: 0.625 \tind 18: 0.594 \tind 19: 0.585 \t\n"
     ]
    },
    {
     "name": "stderr",
     "output_type": "stream",
     "text": [
      "\n"
     ]
    },
    {
     "name": "stdout",
     "output_type": "stream",
     "text": [
      "2021-06-14 19:31:05,998 - modnet - INFO - Generation number 4\n",
      "2021-06-14 19:31:09,235 - modnet - INFO - Multiprocessing on 10 cores. Total of 128 cores available.\n"
     ]
    },
    {
     "name": "stderr",
     "output_type": "stream",
     "text": [
      "100%|██████████| 100/100 [10:29<00:00,  6.29s/it]"
     ]
    },
    {
     "name": "stdout",
     "output_type": "stream",
     "text": [
      "2021-06-14 19:41:38,420 - modnet - INFO - Loss per individual: ind 0: 0.667 \tind 1: 0.668 \tind 2: 0.612 \tind 3: 0.602 \tind 4: 0.617 \tind 5: 0.692 \tind 6: 0.618 \tind 7: 0.643 \tind 8: 0.633 \tind 9: 0.652 \tind 10: 0.645 \tind 11: 0.655 \tind 12: 0.607 \tind 13: 0.605 \tind 14: 0.639 \tind 15: 0.629 \tind 16: 0.613 \tind 17: 0.662 \tind 18: 0.631 \tind 19: 0.696 \t\n"
     ]
    },
    {
     "name": "stderr",
     "output_type": "stream",
     "text": [
      "\n"
     ]
    },
    {
     "name": "stdout",
     "output_type": "stream",
     "text": [
      "2021-06-14 19:41:39,919 - modnet - INFO - Generation number 5\n",
      "2021-06-14 19:41:42,637 - modnet - INFO - Multiprocessing on 10 cores. Total of 128 cores available.\n"
     ]
    },
    {
     "name": "stderr",
     "output_type": "stream",
     "text": [
      "100%|██████████| 100/100 [12:02<00:00,  7.23s/it]"
     ]
    },
    {
     "name": "stdout",
     "output_type": "stream",
     "text": [
      "2021-06-14 19:53:45,643 - modnet - INFO - Loss per individual: ind 0: 0.619 \tind 1: 0.652 \tind 2: 0.598 \tind 3: 0.604 \tind 4: 0.672 \tind 5: 0.606 \tind 6: 0.629 \tind 7: 0.599 \tind 8: 0.616 \tind 9: 0.611 \tind 10: 0.651 \tind 11: 0.630 \tind 12: 0.629 \tind 13: 0.651 \tind 14: 0.620 \tind 15: 0.618 \tind 16: 0.610 \tind 17: 0.612 \tind 18: 0.603 \tind 19: 0.623 \t\n"
     ]
    },
    {
     "name": "stderr",
     "output_type": "stream",
     "text": [
      "\n"
     ]
    },
    {
     "name": "stdout",
     "output_type": "stream",
     "text": [
      "2021-06-14 19:53:47,363 - modnet - INFO - Generation number 6\n",
      "2021-06-14 19:53:50,668 - modnet - INFO - Multiprocessing on 10 cores. Total of 128 cores available.\n"
     ]
    },
    {
     "name": "stderr",
     "output_type": "stream",
     "text": [
      "100%|██████████| 100/100 [11:20<00:00,  6.81s/it]"
     ]
    },
    {
     "name": "stdout",
     "output_type": "stream",
     "text": [
      "2021-06-14 20:05:11,273 - modnet - INFO - Loss per individual: ind 0: 0.625 \tind 1: 0.621 \tind 2: 0.606 \tind 3: 0.599 \tind 4: 0.622 \tind 5: 0.666 \tind 6: 0.614 \tind 7: 0.606 \tind 8: 0.606 \tind 9: 0.618 \tind 10: 0.610 \tind 11: 0.657 \tind 12: 0.613 \tind 13: 0.616 \tind 14: 0.610 \tind 15: 0.653 \tind 16: 0.585 \tind 17: 0.639 \tind 18: 0.585 \tind 19: 0.640 \t\n"
     ]
    },
    {
     "name": "stderr",
     "output_type": "stream",
     "text": [
      "\n"
     ]
    },
    {
     "name": "stdout",
     "output_type": "stream",
     "text": [
      "2021-06-14 20:05:12,969 - modnet - INFO - Early stopping: same best model for 4 consecutive generations\n",
      " (1/n) Calculating accuracy metrics\n",
      " (2/n) Calculating average calibration metrics\n"
     ]
    },
    {
     "name": "stderr",
     "output_type": "stream",
     "text": [
      " 10%|█         | 1/10 [00:00<00:01,  6.40it/s]"
     ]
    },
    {
     "name": "stdout",
     "output_type": "stream",
     "text": [
      " (3/n) Calculating adversarial group calibration metrics\n",
      "  [1/2] for mean absolute calibration error\n",
      "Measuring adversarial group calibration by spanning group size between 0.0 and 1.0, in 10 intervals\n"
     ]
    },
    {
     "name": "stderr",
     "output_type": "stream",
     "text": [
      "100%|██████████| 10/10 [00:01<00:00,  6.04it/s]\n",
      " 10%|█         | 1/10 [00:00<00:01,  5.55it/s]"
     ]
    },
    {
     "name": "stdout",
     "output_type": "stream",
     "text": [
      "  [2/2] for root mean squared calibration error\n",
      "Measuring adversarial group calibration by spanning group size between 0.0 and 1.0, in 10 intervals\n"
     ]
    },
    {
     "name": "stderr",
     "output_type": "stream",
     "text": [
      "100%|██████████| 10/10 [00:01<00:00,  5.69it/s]\n"
     ]
    },
    {
     "name": "stdout",
     "output_type": "stream",
     "text": [
      " (4/n) Calculating sharpness metrics\n",
      " (n/n) Calculating proper scoring rule metrics\n",
      "**Finished Calculating All Metrics**\n",
      "\n",
      "\n",
      "===================== Accuracy Metrics =====================\n",
      "  MAE           0.365\n",
      "  RMSE          0.732\n",
      "  MDAE          0.068\n",
      "  MARPD         133.506\n",
      "  R2            0.787\n",
      "  Correlation   0.888\n",
      "=============== Average Calibration Metrics ================\n",
      "  Root-mean-squared Calibration Error   0.105\n",
      "  Mean-absolute Calibration Error       0.083\n",
      "  Miscalibration Area                   0.084\n",
      "========== Adversarial Group Calibration Metrics ===========\n",
      "  Mean-absolute Adversarial Group Calibration Error\n",
      "     Group Size: 0.11 -- Calibration Error: 0.144\n",
      "     Group Size: 0.56 -- Calibration Error: 0.098\n",
      "     Group Size: 1.00 -- Calibration Error: 0.083\n",
      "  Root-mean-squared Adversarial Group Calibration Error\n",
      "     Group Size: 0.11 -- Calibration Error: 0.161\n",
      "     Group Size: 0.56 -- Calibration Error: 0.120\n",
      "     Group Size: 1.00 -- Calibration Error: 0.105\n",
      "==================== Sharpness Metrics =====================\n",
      "  Sharpness   0.376\n",
      "=================== Scoring Rule Metrics ===================\n",
      "  Negative-log-likelihood   0.073\n",
      "  CRPS                      0.282\n",
      "  Check Score               0.142\n",
      "  Interval Score            1.744\n",
      "MAE =\n",
      "0.3649041818543286\n",
      "uncertainty =\n",
      "0.23580144\n",
      "2021-06-14 20:05:25,766 - modnet - INFO - Loaded <modnet.preprocessing.MODData object at 0x7fdd56854580> object, created with modnet version 0.1.9\n",
      "2021-06-14 20:05:25,823 - modnet - INFO - Generation number 0\n",
      "2021-06-14 20:05:29,111 - modnet - INFO - Multiprocessing on 10 cores. Total of 128 cores available.\n"
     ]
    },
    {
     "name": "stderr",
     "output_type": "stream",
     "text": [
      "100%|██████████| 100/100 [12:04<00:00,  7.24s/it]"
     ]
    },
    {
     "name": "stdout",
     "output_type": "stream",
     "text": [
      "2021-06-14 20:17:33,383 - modnet - INFO - Loss per individual: ind 0: 0.684 \tind 1: 0.742 \tind 2: 0.750 \tind 3: 0.671 \tind 4: 0.611 \tind 5: 0.698 \tind 6: 0.752 \tind 7: 0.711 \tind 8: 0.675 \tind 9: 0.720 \tind 10: 0.784 \tind 11: 0.663 \tind 12: 0.629 \tind 13: 0.699 \tind 14: 0.647 \tind 15: 0.680 \tind 16: 0.635 \tind 17: 0.775 \tind 18: 0.700 \tind 19: 0.667 \t\n"
     ]
    },
    {
     "name": "stderr",
     "output_type": "stream",
     "text": [
      "\n"
     ]
    },
    {
     "name": "stdout",
     "output_type": "stream",
     "text": [
      "2021-06-14 20:17:35,021 - modnet - INFO - Generation number 1\n",
      "2021-06-14 20:17:38,510 - modnet - INFO - Multiprocessing on 10 cores. Total of 128 cores available.\n"
     ]
    },
    {
     "name": "stderr",
     "output_type": "stream",
     "text": [
      "100%|██████████| 100/100 [11:16<00:00,  6.76s/it]"
     ]
    },
    {
     "name": "stdout",
     "output_type": "stream",
     "text": [
      "2021-06-14 20:28:54,982 - modnet - INFO - Loss per individual: ind 0: 0.623 \tind 1: 0.654 \tind 2: 0.668 \tind 3: 0.686 \tind 4: 0.649 \tind 5: 0.716 \tind 6: 0.640 \tind 7: 0.625 \tind 8: 0.629 \tind 9: 0.628 \tind 10: 0.634 \tind 11: 0.637 \tind 12: 0.662 \tind 13: 0.663 \tind 14: 0.665 \tind 15: 0.690 \tind 16: 0.658 \tind 17: 0.621 \tind 18: 0.652 \tind 19: 0.707 \t\n"
     ]
    },
    {
     "name": "stderr",
     "output_type": "stream",
     "text": [
      "\n"
     ]
    },
    {
     "name": "stdout",
     "output_type": "stream",
     "text": [
      "2021-06-14 20:28:56,448 - modnet - INFO - Generation number 2\n",
      "2021-06-14 20:28:59,498 - modnet - INFO - Multiprocessing on 10 cores. Total of 128 cores available.\n"
     ]
    },
    {
     "name": "stderr",
     "output_type": "stream",
     "text": [
      "100%|██████████| 100/100 [13:06<00:00,  7.87s/it]"
     ]
    },
    {
     "name": "stdout",
     "output_type": "stream",
     "text": [
      "2021-06-14 20:42:06,304 - modnet - INFO - Loss per individual: ind 0: 0.660 \tind 1: 0.631 \tind 2: 0.713 \tind 3: 0.665 \tind 4: 0.655 \tind 5: 0.629 \tind 6: 0.642 \tind 7: 0.652 \tind 8: 0.654 \tind 9: 0.638 \tind 10: 0.682 \tind 11: 0.691 \tind 12: 0.711 \tind 13: 0.648 \tind 14: 0.716 \tind 15: 0.676 \tind 16: 0.658 \tind 17: 0.633 \tind 18: 0.647 \tind 19: 0.619 \t\n"
     ]
    },
    {
     "name": "stderr",
     "output_type": "stream",
     "text": [
      "\n"
     ]
    },
    {
     "name": "stdout",
     "output_type": "stream",
     "text": [
      "2021-06-14 20:42:07,754 - modnet - INFO - Generation number 3\n",
      "2021-06-14 20:42:11,005 - modnet - INFO - Multiprocessing on 10 cores. Total of 128 cores available.\n"
     ]
    },
    {
     "name": "stderr",
     "output_type": "stream",
     "text": [
      "100%|██████████| 100/100 [11:21<00:00,  6.81s/it]"
     ]
    },
    {
     "name": "stdout",
     "output_type": "stream",
     "text": [
      "2021-06-14 20:53:32,422 - modnet - INFO - Loss per individual: ind 0: 0.681 \tind 1: 0.690 \tind 2: 0.621 \tind 3: 0.655 \tind 4: 0.666 \tind 5: 0.667 \tind 6: 0.651 \tind 7: 0.643 \tind 8: 0.635 \tind 9: 0.661 \tind 10: 0.657 \tind 11: 0.695 \tind 12: 0.685 \tind 13: 0.736 \tind 14: 0.681 \tind 15: 0.672 \tind 16: 0.607 \tind 17: 0.654 \tind 18: 0.768 \tind 19: 0.655 \t\n"
     ]
    },
    {
     "name": "stderr",
     "output_type": "stream",
     "text": [
      "\n"
     ]
    },
    {
     "name": "stdout",
     "output_type": "stream",
     "text": [
      "2021-06-14 20:53:33,837 - modnet - INFO - Generation number 4\n",
      "2021-06-14 20:53:36,999 - modnet - INFO - Multiprocessing on 10 cores. Total of 128 cores available.\n"
     ]
    },
    {
     "name": "stderr",
     "output_type": "stream",
     "text": [
      "100%|██████████| 100/100 [10:43<00:00,  6.43s/it]"
     ]
    },
    {
     "name": "stdout",
     "output_type": "stream",
     "text": [
      "2021-06-14 21:04:20,435 - modnet - INFO - Loss per individual: ind 0: 0.682 \tind 1: 0.694 \tind 2: 0.631 \tind 3: 0.708 \tind 4: 0.689 \tind 5: 0.624 \tind 6: 0.695 \tind 7: 0.643 \tind 8: 0.655 \tind 9: 0.667 \tind 10: 0.632 \tind 11: 0.692 \tind 12: 0.689 \tind 13: 0.638 \tind 14: 0.659 \tind 15: 0.655 \tind 16: 0.649 \tind 17: 0.767 \tind 18: 0.651 \tind 19: 0.630 \t\n"
     ]
    },
    {
     "name": "stderr",
     "output_type": "stream",
     "text": [
      "\n"
     ]
    },
    {
     "name": "stdout",
     "output_type": "stream",
     "text": [
      "2021-06-14 21:04:21,910 - modnet - INFO - Generation number 5\n",
      "2021-06-14 21:04:40,970 - modnet - INFO - Multiprocessing on 10 cores. Total of 128 cores available.\n"
     ]
    },
    {
     "name": "stderr",
     "output_type": "stream",
     "text": [
      "100%|██████████| 100/100 [11:01<00:00,  6.61s/it]"
     ]
    },
    {
     "name": "stdout",
     "output_type": "stream",
     "text": [
      "2021-06-14 21:15:42,250 - modnet - INFO - Loss per individual: ind 0: 0.697 \tind 1: 0.703 \tind 2: 0.630 \tind 3: 0.645 \tind 4: 0.617 \tind 5: 0.640 \tind 6: 0.657 \tind 7: 0.638 \tind 8: 0.633 \tind 9: 0.741 \tind 10: 0.651 \tind 11: 0.805 \tind 12: 0.645 \tind 13: 0.659 \tind 14: 0.658 \tind 15: 0.677 \tind 16: 0.663 \tind 17: 0.712 \tind 18: 0.650 \tind 19: 0.665 \t\n"
     ]
    },
    {
     "name": "stderr",
     "output_type": "stream",
     "text": [
      "\n"
     ]
    },
    {
     "name": "stdout",
     "output_type": "stream",
     "text": [
      "2021-06-14 21:15:43,824 - modnet - INFO - Generation number 6\n",
      "2021-06-14 21:15:47,499 - modnet - INFO - Multiprocessing on 10 cores. Total of 128 cores available.\n"
     ]
    },
    {
     "name": "stderr",
     "output_type": "stream",
     "text": [
      "100%|██████████| 100/100 [11:04<00:00,  6.65s/it]"
     ]
    },
    {
     "name": "stdout",
     "output_type": "stream",
     "text": [
      "2021-06-14 21:26:52,276 - modnet - INFO - Loss per individual: ind 0: 0.671 \tind 1: 0.672 \tind 2: 0.739 \tind 3: 0.634 \tind 4: 0.644 \tind 5: 0.630 \tind 6: 0.640 \tind 7: 0.675 \tind 8: 0.669 \tind 9: 0.652 \tind 10: 0.672 \tind 11: 0.633 \tind 12: 0.686 \tind 13: 0.637 \tind 14: 0.658 \tind 15: 0.698 \tind 16: 0.624 \tind 17: 0.628 \tind 18: 0.637 \tind 19: 0.696 \t\n"
     ]
    },
    {
     "name": "stderr",
     "output_type": "stream",
     "text": [
      "\n"
     ]
    },
    {
     "name": "stdout",
     "output_type": "stream",
     "text": [
      "2021-06-14 21:26:53,716 - modnet - INFO - Early stopping: same best model for 4 consecutive generations\n",
      " (1/n) Calculating accuracy metrics\n",
      " (2/n) Calculating average calibration metrics\n"
     ]
    },
    {
     "name": "stderr",
     "output_type": "stream",
     "text": [
      " 10%|█         | 1/10 [00:00<00:01,  6.71it/s]"
     ]
    },
    {
     "name": "stdout",
     "output_type": "stream",
     "text": [
      " (3/n) Calculating adversarial group calibration metrics\n",
      "  [1/2] for mean absolute calibration error\n",
      "Measuring adversarial group calibration by spanning group size between 0.0 and 1.0, in 10 intervals\n"
     ]
    },
    {
     "name": "stderr",
     "output_type": "stream",
     "text": [
      "100%|██████████| 10/10 [00:01<00:00,  7.12it/s]\n",
      " 10%|█         | 1/10 [00:00<00:01,  6.84it/s]"
     ]
    },
    {
     "name": "stdout",
     "output_type": "stream",
     "text": [
      "  [2/2] for root mean squared calibration error\n",
      "Measuring adversarial group calibration by spanning group size between 0.0 and 1.0, in 10 intervals\n"
     ]
    },
    {
     "name": "stderr",
     "output_type": "stream",
     "text": [
      "100%|██████████| 10/10 [00:01<00:00,  6.76it/s]\n"
     ]
    },
    {
     "name": "stdout",
     "output_type": "stream",
     "text": [
      " (4/n) Calculating sharpness metrics\n",
      " (n/n) Calculating proper scoring rule metrics\n",
      "**Finished Calculating All Metrics**\n",
      "\n",
      "\n",
      "===================== Accuracy Metrics =====================\n",
      "  MAE           618.299\n",
      "  RMSE          6709.818\n",
      "  MDAE          0.031\n",
      "  MARPD         136.977\n",
      "  R2            -20708984.274\n",
      "  Correlation   -0.020\n",
      "=============== Average Calibration Metrics ================\n",
      "  Root-mean-squared Calibration Error   0.164\n",
      "  Mean-absolute Calibration Error       0.142\n",
      "  Miscalibration Area                   0.144\n",
      "========== Adversarial Group Calibration Metrics ===========\n",
      "  Mean-absolute Adversarial Group Calibration Error\n",
      "     Group Size: 0.11 -- Calibration Error: 0.203\n",
      "     Group Size: 0.56 -- Calibration Error: 0.163\n",
      "     Group Size: 1.00 -- Calibration Error: 0.142\n",
      "  Root-mean-squared Adversarial Group Calibration Error\n",
      "     Group Size: 0.11 -- Calibration Error: 0.228\n",
      "     Group Size: 0.56 -- Calibration Error: 0.183\n",
      "     Group Size: 1.00 -- Calibration Error: 0.164\n",
      "==================== Sharpness Metrics =====================\n",
      "  Sharpness   4620.691\n",
      "=================== Scoring Rule Metrics ===================\n",
      "  Negative-log-likelihood   3.388\n",
      "  CRPS                      405.920\n",
      "  Check Score               204.996\n",
      "  Interval Score            1699.997\n",
      "MAE =\n",
      "0.29065709781879345\n",
      "uncertainty =\n",
      "0.1882456\n",
      "2021-06-14 21:27:05,613 - modnet - INFO - Loaded <modnet.preprocessing.MODData object at 0x7fdcef327730> object, created with modnet version 0.1.9\n",
      "2021-06-14 21:27:05,663 - modnet - INFO - Generation number 0\n",
      "2021-06-14 21:27:08,792 - modnet - INFO - Multiprocessing on 10 cores. Total of 128 cores available.\n"
     ]
    },
    {
     "name": "stderr",
     "output_type": "stream",
     "text": [
      "100%|██████████| 100/100 [09:43<00:00,  5.84s/it]"
     ]
    },
    {
     "name": "stdout",
     "output_type": "stream",
     "text": [
      "2021-06-14 21:36:52,529 - modnet - INFO - Loss per individual: ind 0: 2.349 \tind 1: 15.606 \tind 2: 0.743 \tind 3: 0.662 \tind 4: 0.637 \tind 5: 0.711 \tind 6: 3.237 \tind 7: 0.787 \tind 8: 0.643 \tind 9: 0.714 \tind 10: 1.467 \tind 11: 0.622 \tind 12: 1.732 \tind 13: 0.992 \tind 14: 0.636 \tind 15: 0.626 \tind 16: 2.855 \tind 17: 0.645 \tind 18: 0.621 \tind 19: 1.388 \t\n"
     ]
    },
    {
     "name": "stderr",
     "output_type": "stream",
     "text": [
      "\n"
     ]
    },
    {
     "name": "stdout",
     "output_type": "stream",
     "text": [
      "2021-06-14 21:36:54,110 - modnet - INFO - Generation number 1\n",
      "2021-06-14 21:36:57,478 - modnet - INFO - Multiprocessing on 10 cores. Total of 128 cores available.\n"
     ]
    },
    {
     "name": "stderr",
     "output_type": "stream",
     "text": [
      "100%|██████████| 100/100 [15:30<00:00,  9.30s/it]"
     ]
    },
    {
     "name": "stdout",
     "output_type": "stream",
     "text": [
      "2021-06-14 21:52:27,622 - modnet - INFO - Loss per individual: ind 0: 0.680 \tind 1: 0.724 \tind 2: 0.636 \tind 3: 0.682 \tind 4: 0.630 \tind 5: 0.637 \tind 6: 0.609 \tind 7: 0.657 \tind 8: 0.643 \tind 9: 0.627 \tind 10: 0.629 \tind 11: 0.622 \tind 12: 0.633 \tind 13: 6.912 \tind 14: 0.765 \tind 15: 0.617 \tind 16: 0.639 \tind 17: 0.714 \tind 18: 0.644 \tind 19: 0.647 \t\n"
     ]
    },
    {
     "name": "stderr",
     "output_type": "stream",
     "text": [
      "\n"
     ]
    },
    {
     "name": "stdout",
     "output_type": "stream",
     "text": [
      "2021-06-14 21:52:29,229 - modnet - INFO - Generation number 2\n",
      "2021-06-14 21:52:32,645 - modnet - INFO - Multiprocessing on 10 cores. Total of 128 cores available.\n"
     ]
    },
    {
     "name": "stderr",
     "output_type": "stream",
     "text": [
      "100%|██████████| 100/100 [12:29<00:00,  7.49s/it]"
     ]
    },
    {
     "name": "stdout",
     "output_type": "stream",
     "text": [
      "2021-06-14 22:05:01,711 - modnet - INFO - Loss per individual: ind 0: 1.338 \tind 1: 0.599 \tind 2: 0.599 \tind 3: 0.623 \tind 4: 0.616 \tind 5: 0.635 \tind 6: 0.617 \tind 7: 0.634 \tind 8: 0.679 \tind 9: 0.650 \tind 10: 0.644 \tind 11: 0.604 \tind 12: 0.618 \tind 13: 0.689 \tind 14: 0.656 \tind 15: 0.670 \tind 16: 0.601 \tind 17: 0.612 \tind 18: 0.644 \tind 19: 0.621 \t\n"
     ]
    },
    {
     "name": "stderr",
     "output_type": "stream",
     "text": [
      "\n"
     ]
    },
    {
     "name": "stdout",
     "output_type": "stream",
     "text": [
      "2021-06-14 22:05:03,429 - modnet - INFO - Generation number 3\n",
      "2021-06-14 22:05:07,282 - modnet - INFO - Multiprocessing on 10 cores. Total of 128 cores available.\n"
     ]
    },
    {
     "name": "stderr",
     "output_type": "stream",
     "text": [
      "100%|██████████| 100/100 [41:25<00:00, 24.85s/it]  "
     ]
    },
    {
     "name": "stdout",
     "output_type": "stream",
     "text": [
      "2021-06-14 22:46:32,421 - modnet - INFO - Loss per individual: ind 0: 0.646 \tind 1: 0.622 \tind 2: 0.611 \tind 3: 0.637 \tind 4: 0.688 \tind 5: 0.758 \tind 6: 0.753 \tind 7: 0.632 \tind 8: 0.676 \tind 9: 0.683 \tind 10: 0.631 \tind 11: 0.643 \tind 12: 0.772 \tind 13: 0.676 \tind 14: 0.629 \tind 15: 0.637 \tind 16: 0.590 \tind 17: 1.603 \tind 18: 0.911 \tind 19: 0.674 \t\n"
     ]
    },
    {
     "name": "stderr",
     "output_type": "stream",
     "text": [
      "\n"
     ]
    },
    {
     "name": "stdout",
     "output_type": "stream",
     "text": [
      "2021-06-14 22:47:42,393 - modnet - INFO - Generation number 4\n",
      "2021-06-14 22:47:44,584 - modnet - INFO - Multiprocessing on 10 cores. Total of 128 cores available.\n"
     ]
    },
    {
     "name": "stderr",
     "output_type": "stream",
     "text": [
      "100%|██████████| 100/100 [15:29<00:00,  9.29s/it]"
     ]
    },
    {
     "name": "stdout",
     "output_type": "stream",
     "text": [
      "2021-06-14 23:03:13,862 - modnet - INFO - Loss per individual: ind 0: 1.603 \tind 1: 0.612 \tind 2: 0.631 \tind 3: 0.638 \tind 4: 0.605 \tind 5: 0.725 \tind 6: 0.726 \tind 7: 0.611 \tind 8: 0.621 \tind 9: 0.616 \tind 10: 13.902 \tind 11: 0.640 \tind 12: 0.621 \tind 13: 0.639 \tind 14: 0.679 \tind 15: 0.603 \tind 16: 0.673 \tind 17: 0.607 \tind 18: 0.621 \tind 19: 0.600 \t\n"
     ]
    },
    {
     "name": "stderr",
     "output_type": "stream",
     "text": [
      "\n"
     ]
    },
    {
     "name": "stdout",
     "output_type": "stream",
     "text": [
      "2021-06-14 23:03:15,422 - modnet - INFO - Generation number 5\n",
      "2021-06-14 23:03:19,545 - modnet - INFO - Multiprocessing on 10 cores. Total of 128 cores available.\n"
     ]
    },
    {
     "name": "stderr",
     "output_type": "stream",
     "text": [
      "100%|██████████| 100/100 [09:10<00:00,  5.50s/it]"
     ]
    },
    {
     "name": "stdout",
     "output_type": "stream",
     "text": [
      "2021-06-14 23:12:29,840 - modnet - INFO - Loss per individual: ind 0: 0.672 \tind 1: 0.612 \tind 2: 0.636 \tind 3: 0.657 \tind 4: 0.609 \tind 5: 0.595 \tind 6: 0.640 \tind 7: 0.624 \tind 8: 0.618 \tind 9: 0.615 \tind 10: 0.632 \tind 11: 0.674 \tind 12: 0.605 \tind 13: 0.615 \tind 14: 0.631 \tind 15: 0.634 \tind 16: 0.637 \tind 17: 0.640 \tind 18: 0.630 \tind 19: 0.640 \t\n"
     ]
    },
    {
     "name": "stderr",
     "output_type": "stream",
     "text": [
      "\n"
     ]
    },
    {
     "name": "stdout",
     "output_type": "stream",
     "text": [
      "2021-06-14 23:12:31,437 - modnet - INFO - Generation number 6\n",
      "2021-06-14 23:12:35,890 - modnet - INFO - Multiprocessing on 10 cores. Total of 128 cores available.\n"
     ]
    },
    {
     "name": "stderr",
     "output_type": "stream",
     "text": [
      "100%|██████████| 100/100 [09:01<00:00,  5.42s/it]"
     ]
    },
    {
     "name": "stdout",
     "output_type": "stream",
     "text": [
      "2021-06-14 23:21:37,713 - modnet - INFO - Loss per individual: ind 0: 0.622 \tind 1: 0.603 \tind 2: 0.595 \tind 3: 0.619 \tind 4: 0.632 \tind 5: 0.697 \tind 6: 0.628 \tind 7: 0.637 \tind 8: 0.625 \tind 9: 0.617 \tind 10: 0.629 \tind 11: 0.654 \tind 12: 0.652 \tind 13: 0.668 \tind 14: 0.625 \tind 15: 0.615 \tind 16: 0.670 \tind 17: 0.627 \tind 18: 0.629 \tind 19: 0.625 \t\n"
     ]
    },
    {
     "name": "stderr",
     "output_type": "stream",
     "text": [
      "\n"
     ]
    },
    {
     "name": "stdout",
     "output_type": "stream",
     "text": [
      "2021-06-14 23:21:39,326 - modnet - INFO - Early stopping: same best model for 4 consecutive generations\n",
      " (1/n) Calculating accuracy metrics\n",
      " (2/n) Calculating average calibration metrics\n"
     ]
    },
    {
     "name": "stderr",
     "output_type": "stream",
     "text": [
      " 10%|█         | 1/10 [00:00<00:01,  6.81it/s]"
     ]
    },
    {
     "name": "stdout",
     "output_type": "stream",
     "text": [
      " (3/n) Calculating adversarial group calibration metrics\n",
      "  [1/2] for mean absolute calibration error\n",
      "Measuring adversarial group calibration by spanning group size between 0.0 and 1.0, in 10 intervals\n"
     ]
    },
    {
     "name": "stderr",
     "output_type": "stream",
     "text": [
      "100%|██████████| 10/10 [00:01<00:00,  6.19it/s]\n",
      " 10%|█         | 1/10 [00:00<00:01,  6.50it/s]"
     ]
    },
    {
     "name": "stdout",
     "output_type": "stream",
     "text": [
      "  [2/2] for root mean squared calibration error\n",
      "Measuring adversarial group calibration by spanning group size between 0.0 and 1.0, in 10 intervals\n"
     ]
    },
    {
     "name": "stderr",
     "output_type": "stream",
     "text": [
      "100%|██████████| 10/10 [00:01<00:00,  6.17it/s]\n"
     ]
    },
    {
     "name": "stdout",
     "output_type": "stream",
     "text": [
      " (4/n) Calculating sharpness metrics\n",
      " (n/n) Calculating proper scoring rule metrics\n",
      "**Finished Calculating All Metrics**\n",
      "\n",
      "\n",
      "===================== Accuracy Metrics =====================\n",
      "  MAE           0.333\n",
      "  RMSE          0.783\n",
      "  MDAE          0.022\n",
      "  MARPD         137.975\n",
      "  R2            0.787\n",
      "  Correlation   0.890\n",
      "=============== Average Calibration Metrics ================\n",
      "  Root-mean-squared Calibration Error   0.084\n",
      "  Mean-absolute Calibration Error       0.078\n",
      "  Miscalibration Area                   0.079\n",
      "========== Adversarial Group Calibration Metrics ===========\n",
      "  Mean-absolute Adversarial Group Calibration Error\n",
      "     Group Size: 0.11 -- Calibration Error: 0.149\n",
      "     Group Size: 0.56 -- Calibration Error: 0.096\n",
      "     Group Size: 1.00 -- Calibration Error: 0.078\n",
      "  Root-mean-squared Adversarial Group Calibration Error\n",
      "     Group Size: 0.11 -- Calibration Error: 0.170\n",
      "     Group Size: 0.56 -- Calibration Error: 0.109\n",
      "     Group Size: 1.00 -- Calibration Error: 0.084\n",
      "==================== Sharpness Metrics =====================\n",
      "  Sharpness   0.334\n",
      "=================== Scoring Rule Metrics ===================\n",
      "  Negative-log-likelihood   6.404\n",
      "  CRPS                      0.266\n",
      "  Check Score               0.134\n",
      "  Interval Score            1.818\n",
      "MAE =\n",
      "0.3330875390347162\n",
      "uncertainty =\n",
      "0.18684244\n",
      "2021-06-14 23:21:52,802 - modnet - INFO - Loaded <modnet.preprocessing.MODData object at 0x7fd9e780e0a0> object, created with modnet version 0.1.9\n",
      "2021-06-14 23:21:52,847 - modnet - INFO - Generation number 0\n",
      "2021-06-14 23:21:56,354 - modnet - INFO - Multiprocessing on 10 cores. Total of 128 cores available.\n"
     ]
    },
    {
     "name": "stderr",
     "output_type": "stream",
     "text": [
      "100%|██████████| 100/100 [10:59<00:00,  6.59s/it]"
     ]
    },
    {
     "name": "stdout",
     "output_type": "stream",
     "text": [
      "2021-06-14 23:32:55,730 - modnet - INFO - Loss per individual: ind 0: 0.636 \tind 1: 0.636 \tind 2: 0.660 \tind 3: 0.586 \tind 4: 0.634 \tind 5: 0.590 \tind 6: 0.623 \tind 7: 10.492 \tind 8: 0.615 \tind 9: 0.594 \tind 10: 0.608 \tind 11: 0.568 \tind 12: 2.874 \tind 13: 2.457 \tind 14: 1.600 \tind 15: 0.634 \tind 16: 0.601 \tind 17: 0.603 \tind 18: 0.691 \tind 19: 2.133 \t\n"
     ]
    },
    {
     "name": "stderr",
     "output_type": "stream",
     "text": [
      "\n"
     ]
    },
    {
     "name": "stdout",
     "output_type": "stream",
     "text": [
      "2021-06-14 23:32:57,069 - modnet - INFO - Generation number 1\n",
      "2021-06-14 23:33:00,099 - modnet - INFO - Multiprocessing on 10 cores. Total of 128 cores available.\n"
     ]
    },
    {
     "name": "stderr",
     "output_type": "stream",
     "text": [
      "100%|██████████| 100/100 [11:11<00:00,  6.71s/it]"
     ]
    },
    {
     "name": "stdout",
     "output_type": "stream",
     "text": [
      "2021-06-14 23:44:11,520 - modnet - INFO - Loss per individual: ind 0: 0.608 \tind 1: 0.576 \tind 2: 0.580 \tind 3: 0.583 \tind 4: 0.617 \tind 5: 0.646 \tind 6: 0.610 \tind 7: 0.602 \tind 8: 0.635 \tind 9: 0.623 \tind 10: 0.620 \tind 11: 0.616 \tind 12: 0.615 \tind 13: 0.979 \tind 14: 0.601 \tind 15: 0.596 \tind 16: 0.594 \tind 17: 0.617 \tind 18: 0.600 \tind 19: 0.602 \t\n"
     ]
    },
    {
     "name": "stderr",
     "output_type": "stream",
     "text": [
      "\n"
     ]
    },
    {
     "name": "stdout",
     "output_type": "stream",
     "text": [
      "2021-06-14 23:44:13,446 - modnet - INFO - Generation number 2\n",
      "2021-06-14 23:44:17,922 - modnet - INFO - Multiprocessing on 10 cores. Total of 128 cores available.\n"
     ]
    },
    {
     "name": "stderr",
     "output_type": "stream",
     "text": [
      "100%|██████████| 100/100 [10:52<00:00,  6.53s/it]"
     ]
    },
    {
     "name": "stdout",
     "output_type": "stream",
     "text": [
      "2021-06-14 23:55:10,536 - modnet - INFO - Loss per individual: ind 0: 0.606 \tind 1: 0.591 \tind 2: 0.616 \tind 3: 0.631 \tind 4: 0.603 \tind 5: 0.623 \tind 6: 0.631 \tind 7: 0.575 \tind 8: 0.609 \tind 9: 0.619 \tind 10: 0.610 \tind 11: 0.605 \tind 12: 0.581 \tind 13: 0.587 \tind 14: 0.631 \tind 15: 0.622 \tind 16: 0.641 \tind 17: 0.641 \tind 18: 0.575 \tind 19: 0.576 \t\n"
     ]
    },
    {
     "name": "stderr",
     "output_type": "stream",
     "text": [
      "\n"
     ]
    },
    {
     "name": "stdout",
     "output_type": "stream",
     "text": [
      "2021-06-14 23:55:12,349 - modnet - INFO - Generation number 3\n",
      "2021-06-14 23:55:16,858 - modnet - INFO - Multiprocessing on 10 cores. Total of 128 cores available.\n"
     ]
    },
    {
     "name": "stderr",
     "output_type": "stream",
     "text": [
      "100%|██████████| 100/100 [10:43<00:00,  6.44s/it]"
     ]
    },
    {
     "name": "stdout",
     "output_type": "stream",
     "text": [
      "2021-06-15 00:06:00,759 - modnet - INFO - Loss per individual: ind 0: 0.567 \tind 1: 0.660 \tind 2: 0.652 \tind 3: 0.589 \tind 4: 0.604 \tind 5: 0.629 \tind 6: 0.576 \tind 7: 0.598 \tind 8: 0.600 \tind 9: 0.616 \tind 10: 0.673 \tind 11: 0.629 \tind 12: 0.640 \tind 13: 0.587 \tind 14: 0.603 \tind 15: 0.616 \tind 16: 0.595 \tind 17: 0.614 \tind 18: 0.612 \tind 19: 0.596 \t\n"
     ]
    },
    {
     "name": "stderr",
     "output_type": "stream",
     "text": [
      "\n"
     ]
    },
    {
     "name": "stdout",
     "output_type": "stream",
     "text": [
      "2021-06-15 00:06:02,439 - modnet - INFO - Generation number 4\n",
      "2021-06-15 00:06:07,163 - modnet - INFO - Multiprocessing on 10 cores. Total of 128 cores available.\n"
     ]
    },
    {
     "name": "stderr",
     "output_type": "stream",
     "text": [
      "100%|██████████| 100/100 [10:02<00:00,  6.03s/it]"
     ]
    },
    {
     "name": "stdout",
     "output_type": "stream",
     "text": [
      "2021-06-15 00:16:10,147 - modnet - INFO - Loss per individual: ind 0: 0.690 \tind 1: 0.615 \tind 2: 0.584 \tind 3: 0.622 \tind 4: 0.591 \tind 5: 0.575 \tind 6: 0.610 \tind 7: 0.589 \tind 8: 0.592 \tind 9: 0.657 \tind 10: 0.651 \tind 11: 0.586 \tind 12: 0.573 \tind 13: 0.610 \tind 14: 0.602 \tind 15: 0.608 \tind 16: 0.594 \tind 17: 0.602 \tind 18: 0.634 \tind 19: 0.574 \t\n"
     ]
    },
    {
     "name": "stderr",
     "output_type": "stream",
     "text": [
      "\n"
     ]
    },
    {
     "name": "stdout",
     "output_type": "stream",
     "text": [
      "2021-06-15 00:16:12,090 - modnet - INFO - Generation number 5\n",
      "2021-06-15 00:16:17,739 - modnet - INFO - Multiprocessing on 10 cores. Total of 128 cores available.\n"
     ]
    },
    {
     "name": "stderr",
     "output_type": "stream",
     "text": [
      "100%|██████████| 100/100 [11:22<00:00,  6.82s/it]"
     ]
    },
    {
     "name": "stdout",
     "output_type": "stream",
     "text": [
      "2021-06-15 00:27:40,010 - modnet - INFO - Loss per individual: ind 0: 0.595 \tind 1: 0.623 \tind 2: 0.633 \tind 3: 0.620 \tind 4: 0.796 \tind 5: 0.617 \tind 6: 0.642 \tind 7: 0.648 \tind 8: 0.631 \tind 9: 0.596 \tind 10: 0.605 \tind 11: 0.636 \tind 12: 0.586 \tind 13: 0.610 \tind 14: 0.593 \tind 15: 0.637 \tind 16: 0.567 \tind 17: 0.596 \tind 18: 0.590 \tind 19: 0.589 \t\n"
     ]
    },
    {
     "name": "stderr",
     "output_type": "stream",
     "text": [
      "\n"
     ]
    },
    {
     "name": "stdout",
     "output_type": "stream",
     "text": [
      "2021-06-15 00:27:41,510 - modnet - INFO - Generation number 6\n",
      "2021-06-15 00:27:46,336 - modnet - INFO - Multiprocessing on 10 cores. Total of 128 cores available.\n"
     ]
    },
    {
     "name": "stderr",
     "output_type": "stream",
     "text": [
      "100%|██████████| 100/100 [10:49<00:00,  6.50s/it]"
     ]
    },
    {
     "name": "stdout",
     "output_type": "stream",
     "text": [
      "2021-06-15 00:38:36,263 - modnet - INFO - Loss per individual: ind 0: 0.620 \tind 1: 0.590 \tind 2: 0.586 \tind 3: 0.612 \tind 4: 0.594 \tind 5: 0.611 \tind 6: 0.592 \tind 7: 0.612 \tind 8: 0.630 \tind 9: 0.602 \tind 10: 0.641 \tind 11: 0.683 \tind 12: 0.586 \tind 13: 0.591 \tind 14: 0.581 \tind 15: 0.593 \tind 16: 0.607 \tind 17: 0.642 \tind 18: 0.596 \tind 19: 0.599 \t\n"
     ]
    },
    {
     "name": "stderr",
     "output_type": "stream",
     "text": [
      "\n"
     ]
    },
    {
     "name": "stdout",
     "output_type": "stream",
     "text": [
      "2021-06-15 00:38:38,005 - modnet - INFO - Generation number 7\n",
      "2021-06-15 00:38:43,897 - modnet - INFO - Multiprocessing on 10 cores. Total of 128 cores available.\n"
     ]
    },
    {
     "name": "stderr",
     "output_type": "stream",
     "text": [
      "100%|██████████| 100/100 [11:04<00:00,  6.65s/it]"
     ]
    },
    {
     "name": "stdout",
     "output_type": "stream",
     "text": [
      "2021-06-15 00:49:48,816 - modnet - INFO - Loss per individual: ind 0: 0.637 \tind 1: 0.585 \tind 2: 0.590 \tind 3: 0.615 \tind 4: 0.581 \tind 5: 0.602 \tind 6: 0.609 \tind 7: 0.649 \tind 8: 0.600 \tind 9: 0.596 \tind 10: 0.590 \tind 11: 0.689 \tind 12: 0.642 \tind 13: 0.591 \tind 14: 0.592 \tind 15: 0.595 \tind 16: 0.593 \tind 17: 0.616 \tind 18: 0.630 \tind 19: 0.572 \t\n"
     ]
    },
    {
     "name": "stderr",
     "output_type": "stream",
     "text": [
      "\n"
     ]
    },
    {
     "name": "stdout",
     "output_type": "stream",
     "text": [
      "2021-06-15 00:49:50,473 - modnet - INFO - Generation number 8\n",
      "2021-06-15 00:49:56,535 - modnet - INFO - Multiprocessing on 10 cores. Total of 128 cores available.\n"
     ]
    },
    {
     "name": "stderr",
     "output_type": "stream",
     "text": [
      "100%|██████████| 100/100 [09:05<00:00,  5.46s/it]"
     ]
    },
    {
     "name": "stdout",
     "output_type": "stream",
     "text": [
      "2021-06-15 00:59:02,411 - modnet - INFO - Loss per individual: ind 0: 0.683 \tind 1: 0.574 \tind 2: 0.587 \tind 3: 0.582 \tind 4: 0.639 \tind 5: 0.604 \tind 6: 0.612 \tind 7: 0.598 \tind 8: 0.596 \tind 9: 0.583 \tind 10: 0.643 \tind 11: 0.626 \tind 12: 0.767 \tind 13: 0.635 \tind 14: 0.607 \tind 15: 0.632 \tind 16: 1.906 \tind 17: 0.605 \tind 18: 0.599 \tind 19: 0.597 \t\n"
     ]
    },
    {
     "name": "stderr",
     "output_type": "stream",
     "text": [
      "\n"
     ]
    },
    {
     "name": "stdout",
     "output_type": "stream",
     "text": [
      "2021-06-15 00:59:04,130 - modnet - INFO - Early stopping: same best model for 4 consecutive generations\n",
      " (1/n) Calculating accuracy metrics\n",
      " (2/n) Calculating average calibration metrics\n"
     ]
    },
    {
     "name": "stderr",
     "output_type": "stream",
     "text": [
      " 10%|█         | 1/10 [00:00<00:01,  6.79it/s]"
     ]
    },
    {
     "name": "stdout",
     "output_type": "stream",
     "text": [
      " (3/n) Calculating adversarial group calibration metrics\n",
      "  [1/2] for mean absolute calibration error\n",
      "Measuring adversarial group calibration by spanning group size between 0.0 and 1.0, in 10 intervals\n"
     ]
    },
    {
     "name": "stderr",
     "output_type": "stream",
     "text": [
      "100%|██████████| 10/10 [00:01<00:00,  6.19it/s]\n",
      " 10%|█         | 1/10 [00:00<00:01,  6.29it/s]"
     ]
    },
    {
     "name": "stdout",
     "output_type": "stream",
     "text": [
      "  [2/2] for root mean squared calibration error\n",
      "Measuring adversarial group calibration by spanning group size between 0.0 and 1.0, in 10 intervals\n"
     ]
    },
    {
     "name": "stderr",
     "output_type": "stream",
     "text": [
      "100%|██████████| 10/10 [00:01<00:00,  6.36it/s]\n"
     ]
    },
    {
     "name": "stdout",
     "output_type": "stream",
     "text": [
      " (4/n) Calculating sharpness metrics\n",
      " (n/n) Calculating proper scoring rule metrics\n",
      "**Finished Calculating All Metrics**\n",
      "\n",
      "\n",
      "===================== Accuracy Metrics =====================\n",
      "  MAE           0.365\n",
      "  RMSE          0.725\n",
      "  MDAE          0.039\n",
      "  MARPD         137.524\n",
      "  R2            0.827\n",
      "  Correlation   0.910\n",
      "=============== Average Calibration Metrics ================\n",
      "  Root-mean-squared Calibration Error   0.131\n",
      "  Mean-absolute Calibration Error       0.114\n",
      "  Miscalibration Area                   0.115\n",
      "========== Adversarial Group Calibration Metrics ===========\n",
      "  Mean-absolute Adversarial Group Calibration Error\n",
      "     Group Size: 0.11 -- Calibration Error: 0.163\n",
      "     Group Size: 0.56 -- Calibration Error: 0.127\n",
      "     Group Size: 1.00 -- Calibration Error: 0.114\n",
      "  Root-mean-squared Adversarial Group Calibration Error\n",
      "     Group Size: 0.11 -- Calibration Error: 0.185\n",
      "     Group Size: 0.56 -- Calibration Error: 0.142\n",
      "     Group Size: 1.00 -- Calibration Error: 0.131\n",
      "==================== Sharpness Metrics =====================\n",
      "  Sharpness   0.275\n",
      "=================== Scoring Rule Metrics ===================\n",
      "  Negative-log-likelihood   27.094\n",
      "  CRPS                      0.297\n",
      "  Check Score               0.150\n",
      "  Interval Score            2.062\n",
      "MAE =\n",
      "0.3646845665926507\n",
      "uncertainty =\n",
      "0.16942088\n"
     ]
    }
   ],
   "source": [
    "import uncertainty_toolbox as uct\n",
    "\n",
    "k = 5\n",
    "random_state = 202010\n",
    "folds = MDKsplit(md_joint,n_splits=k,random_state=random_state)\n",
    "maes = np.ones(5)\n",
    "uncertainties = np.ones(5)\n",
    "metricss = []\n",
    "for i,f in enumerate(folds):\n",
    "    train = f[0]\n",
    "    test = f[1]\n",
    "    #train.feature_selection(n=-1, use_precomputed_cross_nmi=True)\n",
    "    fpath = 'train_{}_{}'.format(random_state,i+1)\n",
    "    if os.path.exists(fpath):\n",
    "        train = MODData.load(fpath)\n",
    "    else:\n",
    "        train.feature_selection(n=-1, use_precomputed_cross_nmi=True)\n",
    "        train.save(fpath)\n",
    "      \n",
    "    # assure no overlap\n",
    "    assert len(set(train.df_targets.index).intersection(set(test.df_targets.index))) == 0\n",
    "    \n",
    "    ga = FitGenetic(train)\n",
    "    model = ga.run(size_pop=20, num_generations=10, n_jobs=10)\n",
    "    \n",
    "    pred, std = model.predict(test, return_unc=True)\n",
    "    true = test.df_targets\n",
    "    metrics = uct.metrics.get_all_metrics(pred['exp_gap'].values, std['exp_gap'].values, true['exp_gap'].values)\n",
    "    error = pred['exp_gap']-true['exp_gap']\n",
    "    error = error.drop(pred.index[((pred['exp_gap']).abs()>20)]) # drop unrealistic values: happens extremely rarely\n",
    "    std = std['exp_gap'].drop(std.index[((std['exp_gap']).abs()>20)]) # drop unrealistic values: happens extremely rarely\n",
    "    mae = np.abs(error.values).mean()\n",
    "    uncertainty = np.abs(std).mean()\n",
    "    print('MAE =')\n",
    "    print(mae)\n",
    "    print('uncertainty =')\n",
    "    print(uncertainty)\n",
    "    maes[i] = mae\n",
    "    uncertainties[i] = uncertainty\n",
    "    metricss.append(metrics)"
   ]
  },
  {
   "cell_type": "code",
   "execution_count": 11,
   "metadata": {
    "ExecuteTime": {
     "end_time": "2021-06-14T22:59:20.288294Z",
     "start_time": "2021-06-14T22:59:20.284132Z"
    }
   },
   "outputs": [
    {
     "data": {
      "text/plain": [
       "array([0.36664176, 0.36490418, 0.2906571 , 0.33308754, 0.36468457])"
      ]
     },
     "execution_count": 11,
     "metadata": {},
     "output_type": "execute_result"
    }
   ],
   "source": [
    "maes"
   ]
  },
  {
   "cell_type": "code",
   "execution_count": 12,
   "metadata": {
    "ExecuteTime": {
     "end_time": "2021-06-14T22:59:20.367781Z",
     "start_time": "2021-06-14T22:59:20.289789Z"
    }
   },
   "outputs": [
    {
     "data": {
      "text/plain": [
       "0.3439950288211245"
      ]
     },
     "execution_count": 12,
     "metadata": {},
     "output_type": "execute_result"
    }
   ],
   "source": [
    "maes.mean()"
   ]
  },
  {
   "cell_type": "code",
   "execution_count": 13,
   "metadata": {
    "ExecuteTime": {
     "end_time": "2021-06-14T22:59:20.373311Z",
     "start_time": "2021-06-14T22:59:20.369317Z"
    }
   },
   "outputs": [
    {
     "data": {
      "text/plain": [
       "array([0.19157691, 0.23580144, 0.18824559, 0.18684244, 0.16942088])"
      ]
     },
     "execution_count": 13,
     "metadata": {},
     "output_type": "execute_result"
    }
   ],
   "source": [
    "uncertainties"
   ]
  },
  {
   "cell_type": "code",
   "execution_count": 14,
   "metadata": {
    "ExecuteTime": {
     "end_time": "2021-06-14T22:59:20.379176Z",
     "start_time": "2021-06-14T22:59:20.375033Z"
    }
   },
   "outputs": [
    {
     "data": {
      "text/plain": [
       "0.1943774551153183"
      ]
     },
     "execution_count": 14,
     "metadata": {},
     "output_type": "execute_result"
    }
   ],
   "source": [
    "uncertainties.mean()"
   ]
  },
  {
   "cell_type": "code",
   "execution_count": 15,
   "metadata": {
    "ExecuteTime": {
     "end_time": "2021-06-14T22:59:20.443696Z",
     "start_time": "2021-06-14T22:59:20.380704Z"
    }
   },
   "outputs": [
    {
     "data": {
      "text/plain": [
       "[{'accuracy': {'mae': 0.3666417588051334,\n",
       "   'rmse': 0.7640836480782559,\n",
       "   'mdae': 0.06406853348016739,\n",
       "   'marpd': 130.92784034187395,\n",
       "   'r2': 0.7738235314172658,\n",
       "   'corr': 0.885975733070209},\n",
       "  'avg_calibration': {'rms_cal': 0.07719689281185402,\n",
       "   'ma_cal': 0.048403388725969394,\n",
       "   'miscal_area': 0.04885096242067718},\n",
       "  'adv_group_calibration': {'ma_adv_group_cal': {'group_sizes': array([0.        , 0.11111111, 0.22222222, 0.33333333, 0.44444444,\n",
       "           0.55555556, 0.66666667, 0.77777778, 0.88888889, 1.        ]),\n",
       "    'adv_group_cali_mean': array([0.40063131, 0.11951781, 0.10728575, 0.08403695, 0.07983367,\n",
       "           0.07316017, 0.06545201, 0.06012563, 0.0570129 , 0.04840339]),\n",
       "    'adv_group_cali_stderr': array([0.06944661, 0.02622863, 0.02214075, 0.01212431, 0.01095031,\n",
       "           0.00803942, 0.00786954, 0.00352915, 0.00370456, 0.        ])},\n",
       "   'rms_adv_group_cal': {'group_sizes': array([0.        , 0.11111111, 0.22222222, 0.33333333, 0.44444444,\n",
       "           0.55555556, 0.66666667, 0.77777778, 0.88888889, 1.        ]),\n",
       "    'adv_group_cali_mean': array([0.50504922, 0.14001315, 0.11457398, 0.10176899, 0.10577125,\n",
       "           0.09750108, 0.0940768 , 0.08828928, 0.08547551, 0.07719689]),\n",
       "    'adv_group_cali_stderr': array([0.07874719, 0.02680444, 0.01246591, 0.00654228, 0.00740898,\n",
       "           0.00838131, 0.00576348, 0.00325226, 0.00199194, 0.        ])}},\n",
       "  'sharpness': {'sharp': 0.29717454},\n",
       "  'scoring_rule': {'nll': 3.7410521649553243,\n",
       "   'crps': 0.29827555430867075,\n",
       "   'check': 0.15018625207875722,\n",
       "   'interval': 2.068268681523809}},\n",
       " {'accuracy': {'mae': 0.3649041818543286,\n",
       "   'rmse': 0.7316844123001255,\n",
       "   'mdae': 0.06774303317070007,\n",
       "   'marpd': 133.50586352114308,\n",
       "   'r2': 0.7872434827269558,\n",
       "   'corr': 0.8880275388615287},\n",
       "  'avg_calibration': {'rms_cal': 0.10453375857005802,\n",
       "   'ma_cal': 0.08288367546432066,\n",
       "   'miscal_area': 0.08370453064368022},\n",
       "  'adv_group_calibration': {'ma_adv_group_cal': {'group_sizes': array([0.        , 0.11111111, 0.22222222, 0.33333333, 0.44444444,\n",
       "           0.55555556, 0.66666667, 0.77777778, 0.88888889, 1.        ]),\n",
       "    'adv_group_cali_mean': array([0.42692929, 0.14410766, 0.13560766, 0.10884689, 0.11114108,\n",
       "           0.09755892, 0.09544703, 0.0905615 , 0.08832793, 0.08288368]),\n",
       "    'adv_group_cali_stderr': array([0.08496733, 0.02996763, 0.01803813, 0.01599181, 0.00992822,\n",
       "           0.00737356, 0.00381521, 0.00205539, 0.00282297, 0.        ])},\n",
       "   'rms_adv_group_cal': {'group_sizes': array([0.        , 0.11111111, 0.22222222, 0.33333333, 0.44444444,\n",
       "           0.55555556, 0.66666667, 0.77777778, 0.88888889, 1.        ]),\n",
       "    'adv_group_cali_mean': array([0.42194306, 0.16124327, 0.13959789, 0.12976559, 0.1284461 ,\n",
       "           0.12035769, 0.11804356, 0.11261564, 0.11131118, 0.10453376]),\n",
       "    'adv_group_cali_stderr': array([0.11175861, 0.01778426, 0.00747351, 0.0089968 , 0.00766161,\n",
       "           0.00487644, 0.00472152, 0.00382473, 0.00115728, 0.        ])}},\n",
       "  'sharpness': {'sharp': 0.37587112},\n",
       "  'scoring_rule': {'nll': 0.07305523531727702,\n",
       "   'crps': 0.2820044621100171,\n",
       "   'check': 0.1422039818949187,\n",
       "   'interval': 1.7435697435055377}},\n",
       " {'accuracy': {'mae': 618.2994957083952,\n",
       "   'rmse': 6709.81762443803,\n",
       "   'mdae': 0.03095012903213501,\n",
       "   'marpd': 136.97661788512139,\n",
       "   'r2': -20708984.27431113,\n",
       "   'corr': -0.02019168260593447},\n",
       "  'avg_calibration': {'rms_cal': 0.16437124788834342,\n",
       "   'ma_cal': 0.14249266862170093,\n",
       "   'miscal_area': 0.14393198850676853},\n",
       "  'adv_group_calibration': {'ma_adv_group_cal': {'group_sizes': array([0.        , 0.11111111, 0.22222222, 0.33333333, 0.44444444,\n",
       "           0.55555556, 0.66666667, 0.77777778, 0.88888889, 1.        ]),\n",
       "    'adv_group_cali_mean': array([0.40319192, 0.20297422, 0.17401316, 0.17107018, 0.16148026,\n",
       "           0.16277249, 0.15955947, 0.15335472, 0.14928383, 0.14249267]),\n",
       "    'adv_group_cali_stderr': array([0.07326877, 0.02322818, 0.01623876, 0.01138256, 0.00537475,\n",
       "           0.00615827, 0.00424033, 0.00382404, 0.00256508, 0.        ])},\n",
       "   'rms_adv_group_cal': {'group_sizes': array([0.        , 0.11111111, 0.22222222, 0.33333333, 0.44444444,\n",
       "           0.55555556, 0.66666667, 0.77777778, 0.88888889, 1.        ]),\n",
       "    'adv_group_cali_mean': array([0.44856696, 0.22825814, 0.20852117, 0.19536419, 0.18543151,\n",
       "           0.18253332, 0.17614879, 0.1759124 , 0.17135086, 0.16437125]),\n",
       "    'adv_group_cali_stderr': array([0.09260824, 0.01975285, 0.0179663 , 0.01021909, 0.0087516 ,\n",
       "           0.00580356, 0.00439569, 0.00397275, 0.00322731, 0.        ])}},\n",
       "  'sharpness': {'sharp': 4620.6914},\n",
       "  'scoring_rule': {'nll': 3.387844219326712,\n",
       "   'crps': 405.9203367001819,\n",
       "   'check': 204.9962661957272,\n",
       "   'interval': 1699.9974401955853}},\n",
       " {'accuracy': {'mae': 0.3330875390347162,\n",
       "   'rmse': 0.7825261304049067,\n",
       "   'mdae': 0.02157604694366455,\n",
       "   'marpd': 137.97524486059757,\n",
       "   'r2': 0.7867840515819922,\n",
       "   'corr': 0.8904024393954371},\n",
       "  'avg_calibration': {'rms_cal': 0.08449476204515427,\n",
       "   'ma_cal': 0.07800000000000004,\n",
       "   'miscal_area': 0.07878787878787881},\n",
       "  'adv_group_calibration': {'ma_adv_group_cal': {'group_sizes': array([0.        , 0.11111111, 0.22222222, 0.33333333, 0.44444444,\n",
       "           0.55555556, 0.66666667, 0.77777778, 0.88888889, 1.        ]),\n",
       "    'adv_group_cali_mean': array([0.42408586, 0.14890564, 0.12259729, 0.11243568, 0.10105793,\n",
       "           0.09591198, 0.09456828, 0.0912197 , 0.08781126, 0.078     ]),\n",
       "    'adv_group_cali_stderr': array([0.07453927, 0.01965604, 0.01885716, 0.01399148, 0.01063944,\n",
       "           0.00939721, 0.00884984, 0.00489257, 0.00363141, 0.        ])},\n",
       "   'rms_adv_group_cal': {'group_sizes': array([0.        , 0.11111111, 0.22222222, 0.33333333, 0.44444444,\n",
       "           0.55555556, 0.66666667, 0.77777778, 0.88888889, 1.        ]),\n",
       "    'adv_group_cali_mean': array([0.4086836 , 0.16970794, 0.13438192, 0.12721262, 0.12050607,\n",
       "           0.10888424, 0.10206628, 0.09956537, 0.09318031, 0.08449476]),\n",
       "    'adv_group_cali_stderr': array([0.07800908, 0.02381913, 0.01554193, 0.0134277 , 0.01418005,\n",
       "           0.00737577, 0.00566619, 0.00537248, 0.00243376, 0.        ])}},\n",
       "  'sharpness': {'sharp': 0.33428887},\n",
       "  'scoring_rule': {'nll': 6.404342137353425,\n",
       "   'crps': 0.2663567094155686,\n",
       "   'check': 0.13412855400630083,\n",
       "   'interval': 1.8176843716111621}},\n",
       " {'accuracy': {'mae': 0.3646845665926507,\n",
       "   'rmse': 0.7246225728731011,\n",
       "   'mdae': 0.03855036869645123,\n",
       "   'marpd': 137.52396902886235,\n",
       "   'r2': 0.8266813851539799,\n",
       "   'corr': 0.9098103474876833},\n",
       "  'avg_calibration': {'rms_cal': 0.13052472609863164,\n",
       "   'ma_cal': 0.11433600713012478,\n",
       "   'miscal_area': 0.11548151764163483},\n",
       "  'adv_group_calibration': {'ma_adv_group_cal': {'group_sizes': array([0.        , 0.11111111, 0.22222222, 0.33333333, 0.44444444,\n",
       "           0.55555556, 0.66666667, 0.77777778, 0.88888889, 1.        ]),\n",
       "    'adv_group_cali_mean': array([0.46018182, 0.16303535, 0.14608014, 0.13599705, 0.13244431,\n",
       "           0.12698509, 0.12390313, 0.12287374, 0.11956512, 0.11433601]),\n",
       "    'adv_group_cali_stderr': array([0.0388275 , 0.01688678, 0.00857736, 0.00541644, 0.00389995,\n",
       "           0.00293669, 0.00285321, 0.0021762 , 0.00176353, 0.        ])},\n",
       "   'rms_adv_group_cal': {'group_sizes': array([0.        , 0.11111111, 0.22222222, 0.33333333, 0.44444444,\n",
       "           0.55555556, 0.66666667, 0.77777778, 0.88888889, 1.        ]),\n",
       "    'adv_group_cali_mean': array([0.52644526, 0.18479472, 0.15999807, 0.15642686, 0.14850705,\n",
       "           0.14151009, 0.14064068, 0.13964276, 0.13518512, 0.13052473]),\n",
       "    'adv_group_cali_stderr': array([4.75080032e-02, 1.73830571e-02, 1.12885250e-02, 7.10695086e-03,\n",
       "           5.10660552e-03, 4.27992111e-03, 5.04905820e-03, 2.38339881e-03,\n",
       "           9.24835503e-04, 2.92569456e-17])}},\n",
       "  'sharpness': {'sharp': 0.2749061},\n",
       "  'scoring_rule': {'nll': 27.09358015447969,\n",
       "   'crps': 0.29702408272599007,\n",
       "   'check': 0.14957884997622659,\n",
       "   'interval': 2.0616460537750245}}]"
      ]
     },
     "execution_count": 15,
     "metadata": {},
     "output_type": "execute_result"
    }
   ],
   "source": [
    "metricss"
   ]
  },
  {
   "cell_type": "markdown",
   "metadata": {},
   "source": [
    "#### Conclusion"
   ]
  },
  {
   "cell_type": "markdown",
   "metadata": {},
   "source": [
    "Relative percentage change of the error compared to MODNet_exp_GA reference: 2%"
   ]
  }
 ],
 "metadata": {
  "kernelspec": {
   "display_name": "Python [conda env:modnet]",
   "language": "python",
   "name": "conda-env-modnet-py"
  },
  "language_info": {
   "codemirror_mode": {
    "name": "ipython",
    "version": 3
   },
   "file_extension": ".py",
   "mimetype": "text/x-python",
   "name": "python",
   "nbconvert_exporter": "python",
   "pygments_lexer": "ipython3",
   "version": "3.8.5"
  }
 },
 "nbformat": 4,
 "nbformat_minor": 4
}
