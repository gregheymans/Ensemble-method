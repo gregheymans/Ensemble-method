{
 "cells": [
  {
   "cell_type": "markdown",
   "metadata": {
    "ExecuteTime": {
     "end_time": "2021-02-17T10:56:18.873231Z",
     "start_time": "2021-02-17T10:56:14.465585Z"
    }
   },
   "source": [
    "# Integrated Stacking Model"
   ]
  },
  {
   "cell_type": "markdown",
   "metadata": {},
   "source": [
    "When using neural networks as sub-models, it may be desirable to use a neural network as a meta-learner. In this model, we used the last layer of the MODNet sub-models (trained with the HSE and experimental datasets) and of the MEGNet sub-model (pretrained) as inputs for our meta-learner."
   ]
  },
  {
   "cell_type": "code",
   "execution_count": 1,
   "metadata": {
    "ExecuteTime": {
     "end_time": "2021-06-17T22:49:42.908459Z",
     "start_time": "2021-06-17T22:49:42.879953Z"
    }
   },
   "outputs": [],
   "source": [
    "def setup_threading():\n",
    "    import os\n",
    "    os.environ['OPENBLAS_NUM_THREADS'] = '1'\n",
    "    os.environ['MKL_NUM_THREADS'] = '1'\n",
    "    os.environ[\"OMP_NUM_THREADS\"] = \"1\"\n",
    "    os.environ[\"TF_NUM_INTRAOP_THREADS\"] = \"1\"\n",
    "    os.environ[\"TF_NUM_INTEROP_THREADS\"] = \"1\"\n",
    "    os.environ[\"CUDA_VISIBLE_DEVICES\"] = \"-1\""
   ]
  },
  {
   "cell_type": "code",
   "execution_count": 2,
   "metadata": {
    "ExecuteTime": {
     "end_time": "2021-06-17T22:49:42.950041Z",
     "start_time": "2021-06-17T22:49:42.912950Z"
    }
   },
   "outputs": [],
   "source": [
    "setup_threading()"
   ]
  },
  {
   "cell_type": "code",
   "execution_count": 3,
   "metadata": {
    "ExecuteTime": {
     "end_time": "2021-06-17T22:52:59.635604Z",
     "start_time": "2021-06-17T22:49:42.955836Z"
    }
   },
   "outputs": [],
   "source": [
    "from modnet.preprocessing import MODData\n",
    "from modnet.models.vanilla import MODNetModel\n",
    "from modnet.hyper_opt.fit_genetic import FitGenetic\n",
    "import numpy as np\n",
    "import pandas as pd\n",
    "import os\n",
    "import copy\n",
    "from sklearn.model_selection import KFold"
   ]
  },
  {
   "cell_type": "code",
   "execution_count": 4,
   "metadata": {
    "ExecuteTime": {
     "end_time": "2021-06-17T22:52:59.670267Z",
     "start_time": "2021-06-17T22:52:59.641689Z"
    }
   },
   "outputs": [],
   "source": [
    "from modnet.preprocessing import MODData\n",
    "\n",
    "def shuffle_MD(data,random_state=10):\n",
    "    data = copy.deepcopy(data)\n",
    "    ids = data.df_targets.sample(frac=1,random_state=random_state).index\n",
    "    data.df_featurized = data.df_featurized.loc[ids]\n",
    "    data.df_targets = data.df_targets.loc[ids]\n",
    "    data.df_structure = data.df_structure.loc[ids]\n",
    "    \n",
    "    return data\n",
    "\n",
    "def MDKsplit(data,n_splits=5,random_state=10):\n",
    "    data = shuffle_MD(data,random_state=random_state)\n",
    "    ids = np.array(data.structure_ids)\n",
    "    kf = KFold(n_splits=n_splits,shuffle=True,random_state=random_state)\n",
    "    folds = []\n",
    "    for train_idx, val_idx in kf.split(ids):\n",
    "        data_train = MODData(data.df_structure.iloc[train_idx]['structure'].values,data.df_targets.iloc[train_idx].values,target_names=data.df_targets.columns,structure_ids=ids[train_idx])\n",
    "        data_train.df_featurized = data.df_featurized.iloc[train_idx]\n",
    "        #data_train.optimal_features = data.optimal_features\n",
    "        \n",
    "        data_val = MODData(data.df_structure.iloc[val_idx]['structure'].values,data.df_targets.iloc[val_idx].values,target_names=data.df_targets.columns,structure_ids=ids[val_idx])\n",
    "        data_val.df_featurized = data.df_featurized.iloc[val_idx]\n",
    "        #data_val.optimal_features = data.optimal_features\n",
    "\n",
    "        folds.append((data_train,data_val))\n",
    "        \n",
    "    return folds"
   ]
  },
  {
   "cell_type": "markdown",
   "metadata": {},
   "source": [
    "#### Loading the PBE, HSE and experimental datasets."
   ]
  },
  {
   "cell_type": "code",
   "execution_count": 5,
   "metadata": {
    "ExecuteTime": {
     "end_time": "2021-06-17T22:53:28.679457Z",
     "start_time": "2021-06-17T22:52:59.674510Z"
    }
   },
   "outputs": [
    {
     "name": "stdout",
     "output_type": "stream",
     "text": [
      "\n",
      "If you use the ChemEnv tool for your research, please consider citing the following reference(s) :\n",
      "==================================================================================================\n",
      "David Waroquiers, Xavier Gonze, Gian-Marco Rignanese, Cathrin Welker-Nieuwoudt, Frank Rosowski,\n",
      "Michael Goebel, Stephan Schenk, Peter Degelmann, Rute Andre, Robert Glaum, and Geoffroy Hautier,\n",
      "\"Statistical analysis of coordination environments in oxides\",\n",
      "Chem. Mater., 2017, 29 (19), pp 8346-8360,\n",
      "DOI: 10.1021/acs.chemmater.7b02766\n",
      "\n",
      "2021-06-18 00:53:16,174 - modnet - INFO - Loaded <modnet.preprocessing.MODData object at 0x7f7f2a3f9bb0> object, created with modnet version <=0.1.7\n",
      "2021-06-18 00:53:20,465 - modnet - INFO - Loaded <modnet.preprocessing.MODData object at 0x7f7f2a3f9fd0> object, created with modnet version 0.1.8~develop\n",
      "2021-06-18 00:53:26,498 - modnet - INFO - Loaded <modnet.preprocessing.MODData object at 0x7f7f5e474b20> object, created with modnet version <=0.1.7\n",
      "2021-06-18 00:53:28,672 - modnet - INFO - Loaded <modnet.preprocessing.MODData object at 0x7f7f982134c0> object, created with modnet version <=0.1.7\n"
     ]
    }
   ],
   "source": [
    "md_pbe = MODData.load('pbe_gap.zip')\n",
    "md_pbe.df_targets.columns = ['gap']\n",
    "md_hse = MODData.load('hse_gap.zip')\n",
    "md_hse.df_targets.columns = ['gap']\n",
    "md_exp = MODData.load('exp_gap_all')\n",
    "md_exp.df_targets.columns = ['gap']\n",
    "md_joint = MODData.load('exp_pbe_joint')\n",
    "md_joint.df_targets = md_joint.df_targets.drop(columns=['pbe_gap', 'difference'])"
   ]
  },
  {
   "cell_type": "markdown",
   "metadata": {},
   "source": [
    "#### MEGNet model trained on the PBE dataset"
   ]
  },
  {
   "cell_type": "code",
   "execution_count": 7,
   "metadata": {
    "ExecuteTime": {
     "end_time": "2021-06-17T22:53:36.335919Z",
     "start_time": "2021-06-17T22:53:28.739293Z"
    }
   },
   "outputs": [],
   "source": [
    "import tensorflow as tf\n",
    "from megnet.data.crystal import CrystalGraph\n",
    "from megnet.data.graph import GaussianDistance\n",
    "from megnet.models import MEGNetModel\n",
    "\n",
    "#Pretrained model (we are using transfer learning)\n",
    "\n",
    "model_form = MEGNetModel.from_file('band_gap_regression.hdf5')"
   ]
  },
  {
   "cell_type": "markdown",
   "metadata": {},
   "source": [
    "#### MODNet model trained on the HSE dataset"
   ]
  },
  {
   "cell_type": "code",
   "execution_count": 6,
   "metadata": {
    "ExecuteTime": {
     "end_time": "2021-02-10T19:54:38.405865Z",
     "start_time": "2021-02-10T18:50:58.540623Z"
    }
   },
   "outputs": [
    {
     "name": "stderr",
     "output_type": "stream",
     "text": [
      "INFO:root:Loaded DeBreuck2020Featurizer featurizer.\n",
      "INFO:root:Loaded DeBreuck2020Featurizer featurizer.\n",
      "INFO:root:Loaded DeBreuck2020Featurizer featurizer.\n",
      "INFO:root:Loaded DeBreuck2020Featurizer featurizer.\n",
      "INFO:root:Loaded DeBreuck2020Featurizer featurizer.\n",
      "INFO:root:Loaded DeBreuck2020Featurizer featurizer.\n",
      "INFO:root:Loaded DeBreuck2020Featurizer featurizer.\n",
      "INFO:root:Loaded DeBreuck2020Featurizer featurizer.\n",
      "INFO:root:Loaded DeBreuck2020Featurizer featurizer.\n",
      "INFO:root:Loaded DeBreuck2020Featurizer featurizer.\n",
      "INFO:root:Loaded <modnet.preprocessing.MODData object at 0x7f00accb70d0> object, created with modnet version 0.1.8~develop\n",
      "INFO:root:Training preset #1/16\n",
      "INFO:root:Compiling model...\n",
      "INFO:root:Fitting model...\n",
      "INFO:root:Validation loss: 0.333\n",
      "INFO:root:Training preset #2/16\n",
      "INFO:root:Compiling model...\n",
      "INFO:root:Fitting model...\n",
      "INFO:root:Validation loss: 0.394\n",
      "INFO:root:Training preset #3/16\n",
      "INFO:root:Compiling model...\n",
      "INFO:root:Fitting model...\n",
      "INFO:root:Validation loss: 0.322\n",
      "INFO:root:Training preset #4/16\n",
      "INFO:root:Compiling model...\n",
      "INFO:root:Fitting model...\n",
      "INFO:root:Validation loss: 0.483\n",
      "INFO:root:Training preset #5/16\n",
      "INFO:root:Compiling model...\n",
      "INFO:root:Fitting model...\n",
      "INFO:root:Validation loss: 0.365\n",
      "INFO:root:Training preset #6/16\n",
      "INFO:root:Compiling model...\n",
      "INFO:root:Fitting model...\n",
      "INFO:root:Validation loss: 0.381\n",
      "INFO:root:Training preset #7/16\n",
      "INFO:root:Compiling model...\n",
      "INFO:root:Fitting model...\n",
      "INFO:root:Validation loss: 0.414\n",
      "INFO:root:Training preset #8/16\n",
      "INFO:root:Compiling model...\n",
      "INFO:root:Fitting model...\n",
      "INFO:root:Validation loss: 0.354\n",
      "INFO:root:Training preset #9/16\n",
      "INFO:root:Compiling model...\n",
      "INFO:root:Fitting model...\n",
      "INFO:root:Validation loss: 0.338\n",
      "INFO:root:Training preset #10/16\n",
      "INFO:root:Compiling model...\n",
      "INFO:root:Fitting model...\n",
      "INFO:root:Validation loss: 0.391\n",
      "INFO:root:Training preset #11/16\n",
      "INFO:root:Compiling model...\n",
      "INFO:root:Fitting model...\n",
      "INFO:root:Validation loss: 0.318\n",
      "INFO:root:Training preset #12/16\n",
      "INFO:root:Compiling model...\n",
      "INFO:root:Fitting model...\n",
      "INFO:root:Validation loss: 0.344\n",
      "INFO:root:Training preset #13/16\n",
      "INFO:root:Compiling model...\n",
      "INFO:root:Fitting model...\n",
      "INFO:root:Validation loss: 0.318\n",
      "INFO:root:Training preset #14/16\n",
      "INFO:root:Compiling model...\n",
      "INFO:root:Fitting model...\n",
      "INFO:root:Validation loss: 0.362\n",
      "INFO:root:Training preset #15/16\n",
      "INFO:root:Compiling model...\n",
      "INFO:root:Fitting model...\n",
      "INFO:root:Validation loss: 0.316\n",
      "INFO:root:Training preset #16/16\n",
      "INFO:root:Compiling model...\n",
      "INFO:root:Fitting model...\n",
      "INFO:root:Validation loss: 0.341\n",
      "INFO:root:Preset #15 resulted in lowest validation loss.\n",
      "Fitting all data...\n",
      "INFO:root:Compiling model...\n",
      "INFO:root:Fitting model...\n"
     ]
    },
    {
     "name": "stdout",
     "output_type": "stream",
     "text": [
      "1.132328280405736\n"
     ]
    },
    {
     "name": "stderr",
     "output_type": "stream",
     "text": [
      "INFO:root:Loaded <modnet.preprocessing.MODData object at 0x7f00a86986d0> object, created with modnet version 0.1.8~develop\n",
      "INFO:root:Training preset #1/16\n",
      "INFO:root:Compiling model...\n",
      "INFO:root:Fitting model...\n",
      "INFO:root:Validation loss: 0.358\n",
      "INFO:root:Training preset #2/16\n",
      "INFO:root:Compiling model...\n",
      "INFO:root:Fitting model...\n",
      "INFO:root:Validation loss: 0.401\n",
      "INFO:root:Training preset #3/16\n",
      "INFO:root:Compiling model...\n",
      "INFO:root:Fitting model...\n",
      "INFO:root:Validation loss: 0.351\n",
      "INFO:root:Training preset #4/16\n",
      "INFO:root:Compiling model...\n",
      "INFO:root:Fitting model...\n",
      "INFO:root:Validation loss: 0.385\n",
      "INFO:root:Training preset #5/16\n",
      "INFO:root:Compiling model...\n",
      "INFO:root:Fitting model...\n",
      "INFO:root:Validation loss: 0.370\n",
      "INFO:root:Training preset #6/16\n",
      "INFO:root:Compiling model...\n",
      "INFO:root:Fitting model...\n",
      "INFO:root:Validation loss: 0.382\n",
      "INFO:root:Training preset #7/16\n",
      "INFO:root:Compiling model...\n",
      "INFO:root:Fitting model...\n",
      "INFO:root:Validation loss: 0.343\n",
      "INFO:root:Training preset #8/16\n",
      "INFO:root:Compiling model...\n",
      "INFO:root:Fitting model...\n",
      "INFO:root:Validation loss: 0.304\n",
      "INFO:root:Training preset #9/16\n",
      "INFO:root:Compiling model...\n",
      "INFO:root:Fitting model...\n",
      "INFO:root:Validation loss: 0.382\n",
      "INFO:root:Training preset #10/16\n",
      "INFO:root:Compiling model...\n",
      "INFO:root:Fitting model...\n",
      "INFO:root:Validation loss: 0.394\n",
      "INFO:root:Training preset #11/16\n",
      "INFO:root:Compiling model...\n",
      "INFO:root:Fitting model...\n",
      "INFO:root:Validation loss: 0.320\n",
      "INFO:root:Training preset #12/16\n",
      "INFO:root:Compiling model...\n",
      "INFO:root:Fitting model...\n",
      "INFO:root:Validation loss: 0.337\n",
      "INFO:root:Training preset #13/16\n",
      "INFO:root:Compiling model...\n",
      "INFO:root:Fitting model...\n",
      "INFO:root:Validation loss: 0.365\n",
      "INFO:root:Training preset #14/16\n",
      "INFO:root:Compiling model...\n",
      "INFO:root:Fitting model...\n",
      "INFO:root:Validation loss: 0.393\n",
      "INFO:root:Training preset #15/16\n",
      "INFO:root:Compiling model...\n",
      "INFO:root:Fitting model...\n",
      "INFO:root:Validation loss: 0.340\n",
      "INFO:root:Training preset #16/16\n",
      "INFO:root:Compiling model...\n",
      "INFO:root:Fitting model...\n",
      "INFO:root:Validation loss: 0.324\n",
      "INFO:root:Preset #8 resulted in lowest validation loss.\n",
      "Fitting all data...\n",
      "INFO:root:Compiling model...\n",
      "INFO:root:Fitting model...\n"
     ]
    },
    {
     "name": "stdout",
     "output_type": "stream",
     "text": [
      "0.9613473074160188\n"
     ]
    },
    {
     "name": "stderr",
     "output_type": "stream",
     "text": [
      "INFO:root:Loaded <modnet.preprocessing.MODData object at 0x7f00ace63670> object, created with modnet version 0.1.8~develop\n",
      "INFO:root:Training preset #1/16\n",
      "INFO:root:Compiling model...\n",
      "INFO:root:Fitting model...\n",
      "INFO:root:Validation loss: 0.387\n",
      "INFO:root:Training preset #2/16\n",
      "INFO:root:Compiling model...\n",
      "INFO:root:Fitting model...\n",
      "INFO:root:Validation loss: 0.430\n",
      "INFO:root:Training preset #3/16\n",
      "INFO:root:Compiling model...\n",
      "INFO:root:Fitting model...\n",
      "INFO:root:Validation loss: 0.370\n",
      "INFO:root:Training preset #4/16\n",
      "INFO:root:Compiling model...\n",
      "INFO:root:Fitting model...\n",
      "INFO:root:Validation loss: 0.374\n",
      "INFO:root:Training preset #5/16\n",
      "INFO:root:Compiling model...\n",
      "INFO:root:Fitting model...\n",
      "INFO:root:Validation loss: 0.400\n",
      "INFO:root:Training preset #6/16\n",
      "INFO:root:Compiling model...\n",
      "INFO:root:Fitting model...\n",
      "INFO:root:Validation loss: 0.389\n",
      "INFO:root:Training preset #7/16\n",
      "INFO:root:Compiling model...\n",
      "INFO:root:Fitting model...\n",
      "INFO:root:Validation loss: 0.352\n",
      "INFO:root:Training preset #8/16\n",
      "INFO:root:Compiling model...\n",
      "INFO:root:Fitting model...\n",
      "INFO:root:Validation loss: 0.365\n",
      "INFO:root:Training preset #9/16\n",
      "INFO:root:Compiling model...\n",
      "INFO:root:Fitting model...\n",
      "INFO:root:Validation loss: 0.396\n",
      "INFO:root:Training preset #10/16\n",
      "INFO:root:Compiling model...\n",
      "INFO:root:Fitting model...\n",
      "INFO:root:Validation loss: 0.422\n",
      "INFO:root:Training preset #11/16\n",
      "INFO:root:Compiling model...\n",
      "INFO:root:Fitting model...\n",
      "INFO:root:Validation loss: 0.356\n",
      "INFO:root:Training preset #12/16\n",
      "INFO:root:Compiling model...\n",
      "INFO:root:Fitting model...\n",
      "INFO:root:Validation loss: 0.383\n",
      "INFO:root:Training preset #13/16\n",
      "INFO:root:Compiling model...\n",
      "INFO:root:Fitting model...\n",
      "INFO:root:Validation loss: 0.381\n",
      "INFO:root:Training preset #14/16\n",
      "INFO:root:Compiling model...\n",
      "INFO:root:Fitting model...\n",
      "INFO:root:Validation loss: 0.418\n",
      "INFO:root:Training preset #15/16\n",
      "INFO:root:Compiling model...\n",
      "INFO:root:Fitting model...\n",
      "INFO:root:Validation loss: 0.356\n",
      "INFO:root:Training preset #16/16\n",
      "INFO:root:Compiling model...\n",
      "INFO:root:Fitting model...\n",
      "INFO:root:Validation loss: 0.363\n",
      "INFO:root:Preset #7 resulted in lowest validation loss.\n",
      "Fitting all data...\n",
      "INFO:root:Compiling model...\n",
      "INFO:root:Fitting model...\n"
     ]
    },
    {
     "name": "stdout",
     "output_type": "stream",
     "text": [
      "0.9850014001033152\n"
     ]
    },
    {
     "name": "stderr",
     "output_type": "stream",
     "text": [
      "INFO:root:Loaded <modnet.preprocessing.MODData object at 0x7f00ad7f0430> object, created with modnet version 0.1.8~develop\n",
      "INFO:root:Training preset #1/16\n",
      "INFO:root:Compiling model...\n",
      "INFO:root:Fitting model...\n",
      "INFO:root:Validation loss: 0.357\n",
      "INFO:root:Training preset #2/16\n",
      "INFO:root:Compiling model...\n",
      "INFO:root:Fitting model...\n",
      "INFO:root:Validation loss: 0.379\n",
      "INFO:root:Training preset #3/16\n",
      "INFO:root:Compiling model...\n",
      "INFO:root:Fitting model...\n",
      "INFO:root:Validation loss: 0.348\n",
      "INFO:root:Training preset #4/16\n",
      "INFO:root:Compiling model...\n",
      "INFO:root:Fitting model...\n",
      "INFO:root:Validation loss: 0.392\n",
      "INFO:root:Training preset #5/16\n",
      "INFO:root:Compiling model...\n",
      "INFO:root:Fitting model...\n",
      "INFO:root:Validation loss: 0.374\n",
      "INFO:root:Training preset #6/16\n",
      "INFO:root:Compiling model...\n",
      "INFO:root:Fitting model...\n",
      "INFO:root:Validation loss: 0.388\n",
      "INFO:root:Training preset #7/16\n",
      "INFO:root:Compiling model...\n",
      "INFO:root:Fitting model...\n",
      "INFO:root:Validation loss: 0.388\n",
      "INFO:root:Training preset #8/16\n",
      "INFO:root:Compiling model...\n",
      "INFO:root:Fitting model...\n",
      "INFO:root:Validation loss: 0.373\n",
      "INFO:root:Training preset #9/16\n",
      "INFO:root:Compiling model...\n",
      "INFO:root:Fitting model...\n",
      "INFO:root:Validation loss: 0.396\n",
      "INFO:root:Training preset #10/16\n",
      "INFO:root:Compiling model...\n",
      "INFO:root:Fitting model...\n",
      "INFO:root:Validation loss: 0.407\n",
      "INFO:root:Training preset #11/16\n",
      "INFO:root:Compiling model...\n",
      "INFO:root:Fitting model...\n",
      "INFO:root:Validation loss: 0.399\n",
      "INFO:root:Training preset #12/16\n",
      "INFO:root:Compiling model...\n",
      "INFO:root:Fitting model...\n",
      "INFO:root:Validation loss: 0.396\n",
      "INFO:root:Training preset #13/16\n",
      "INFO:root:Compiling model...\n",
      "INFO:root:Fitting model...\n",
      "INFO:root:Validation loss: 0.375\n",
      "INFO:root:Training preset #14/16\n",
      "INFO:root:Compiling model...\n",
      "INFO:root:Fitting model...\n",
      "INFO:root:Validation loss: 0.389\n",
      "INFO:root:Training preset #15/16\n",
      "INFO:root:Compiling model...\n",
      "INFO:root:Fitting model...\n",
      "INFO:root:Validation loss: 0.351\n",
      "INFO:root:Training preset #16/16\n",
      "INFO:root:Compiling model...\n",
      "INFO:root:Fitting model...\n",
      "INFO:root:Validation loss: 0.386\n",
      "INFO:root:Preset #3 resulted in lowest validation loss.\n",
      "Fitting all data...\n",
      "INFO:root:Compiling model...\n",
      "INFO:root:Fitting model...\n"
     ]
    },
    {
     "name": "stdout",
     "output_type": "stream",
     "text": [
      "1.0600857373613162\n"
     ]
    },
    {
     "name": "stderr",
     "output_type": "stream",
     "text": [
      "INFO:root:Loaded <modnet.preprocessing.MODData object at 0x7f00b28dc250> object, created with modnet version 0.1.8~develop\n",
      "INFO:root:Training preset #1/16\n",
      "INFO:root:Compiling model...\n",
      "INFO:root:Fitting model...\n",
      "INFO:root:Validation loss: 0.433\n",
      "INFO:root:Training preset #2/16\n",
      "INFO:root:Compiling model...\n",
      "INFO:root:Fitting model...\n",
      "INFO:root:Validation loss: 0.461\n",
      "INFO:root:Training preset #3/16\n",
      "INFO:root:Compiling model...\n",
      "INFO:root:Fitting model...\n",
      "INFO:root:Validation loss: 7.480\n",
      "INFO:root:Training preset #4/16\n",
      "INFO:root:Compiling model...\n",
      "INFO:root:Fitting model...\n",
      "INFO:root:Validation loss: 0.446\n",
      "INFO:root:Training preset #5/16\n",
      "INFO:root:Compiling model...\n",
      "INFO:root:Fitting model...\n",
      "INFO:root:Validation loss: 0.427\n",
      "INFO:root:Training preset #6/16\n",
      "INFO:root:Compiling model...\n",
      "INFO:root:Fitting model...\n",
      "INFO:root:Validation loss: 0.414\n",
      "INFO:root:Training preset #7/16\n",
      "INFO:root:Compiling model...\n",
      "INFO:root:Fitting model...\n",
      "INFO:root:Validation loss: 0.413\n",
      "INFO:root:Training preset #8/16\n",
      "INFO:root:Compiling model...\n",
      "INFO:root:Fitting model...\n",
      "INFO:root:Validation loss: 0.392\n",
      "INFO:root:Training preset #9/16\n",
      "INFO:root:Compiling model...\n",
      "INFO:root:Fitting model...\n",
      "INFO:root:Validation loss: 0.433\n",
      "INFO:root:Training preset #10/16\n",
      "INFO:root:Compiling model...\n",
      "INFO:root:Fitting model...\n",
      "INFO:root:Validation loss: 0.418\n",
      "INFO:root:Training preset #11/16\n",
      "INFO:root:Compiling model...\n",
      "INFO:root:Fitting model...\n",
      "INFO:root:Validation loss: 0.383\n",
      "INFO:root:Training preset #12/16\n",
      "INFO:root:Compiling model...\n",
      "INFO:root:Fitting model...\n",
      "INFO:root:Validation loss: 0.373\n",
      "INFO:root:Training preset #13/16\n",
      "INFO:root:Compiling model...\n",
      "INFO:root:Fitting model...\n",
      "INFO:root:Validation loss: 0.440\n",
      "INFO:root:Training preset #14/16\n",
      "INFO:root:Compiling model...\n",
      "INFO:root:Fitting model...\n",
      "INFO:root:Validation loss: 0.451\n",
      "INFO:root:Training preset #15/16\n",
      "INFO:root:Compiling model...\n",
      "INFO:root:Fitting model...\n",
      "INFO:root:Validation loss: 0.409\n",
      "INFO:root:Training preset #16/16\n",
      "INFO:root:Compiling model...\n",
      "INFO:root:Fitting model...\n",
      "INFO:root:Validation loss: 0.425\n",
      "INFO:root:Preset #12 resulted in lowest validation loss.\n",
      "Fitting all data...\n",
      "INFO:root:Compiling model...\n",
      "INFO:root:Fitting model...\n"
     ]
    },
    {
     "name": "stdout",
     "output_type": "stream",
     "text": [
      "1.0738566065837396\n"
     ]
    }
   ],
   "source": [
    "k = 5\n",
    "random_state = 202010\n",
    "folds = MDKsplit(md_hse,n_splits=k,random_state=random_state)\n",
    "maes = np.ones(5)\n",
    "for i,f in enumerate(folds):\n",
    "    train = f[0]\n",
    "    test = f[1]\n",
    "    fpath = 'train_{}_{}'.format(random_state,i+1)\n",
    "    if os.path.exists(fpath):\n",
    "        train = MODData.load(fpath)\n",
    "        train.df_targets.columns = ['gap']\n",
    "    else:\n",
    "        train.feature_selection(n=-1)\n",
    "        train.save(fpath)\n",
    "        \n",
    "    # assure no overlap\n",
    "    assert len(set(train.df_targets.index).intersection(set(test.df_targets.index))) == 0\n",
    "    \n",
    "    model2 = MODNetModel([[['gap']]],{'gap':1})\n",
    "    model2.fit_preset(train,verbose=0)\n",
    "    pred = model2.predict(test)\n",
    "    true = test.df_targets\n",
    "    error = pred-true\n",
    "    error = error.drop(pred.index[((pred['gap']).abs()>20)]) # drop unrealistic values: happens extremely rarely\n",
    "    mae = np.abs(error.values).mean()\n",
    "    print(mae)\n",
    "    maes[i] = mae"
   ]
  },
  {
   "cell_type": "code",
   "execution_count": 96,
   "metadata": {
    "ExecuteTime": {
     "end_time": "2021-02-12T08:45:15.515693Z",
     "start_time": "2021-02-12T08:45:15.472096Z"
    }
   },
   "outputs": [
    {
     "name": "stderr",
     "output_type": "stream",
     "text": [
      "INFO:root:Saving model...\n",
      "INFO:root:Saved model to MODNetModel2(.json/.h5/.pkl)\n"
     ]
    }
   ],
   "source": [
    "#model2.save('MODNetModel2')"
   ]
  },
  {
   "cell_type": "code",
   "execution_count": 8,
   "metadata": {
    "ExecuteTime": {
     "end_time": "2021-06-17T22:53:37.123686Z",
     "start_time": "2021-06-17T22:53:36.341436Z"
    }
   },
   "outputs": [
    {
     "name": "stdout",
     "output_type": "stream",
     "text": [
      "2021-06-18 00:53:37,119 - modnet - INFO - Loaded <modnet.models.ensemble.EnsembleMODNetModel object at 0x7f7e94962520> object, created with modnet version 0.1.9\n"
     ]
    },
    {
     "name": "stderr",
     "output_type": "stream",
     "text": [
      "INFO:modnet:Loaded <modnet.models.ensemble.EnsembleMODNetModel object at 0x7f7e94962520> object, created with modnet version 0.1.9\n"
     ]
    }
   ],
   "source": [
    "model2 = MODNetModel.load('MODNetModel2')"
   ]
  },
  {
   "cell_type": "markdown",
   "metadata": {},
   "source": [
    "### Integrated Stacking Model (3 meta-learner architectures are shown)"
   ]
  },
  {
   "cell_type": "code",
   "execution_count": 13,
   "metadata": {
    "ExecuteTime": {
     "end_time": "2021-06-18T07:23:56.298972Z",
     "start_time": "2021-06-18T07:23:56.286998Z"
    }
   },
   "outputs": [],
   "source": [
    "# stacked generalization with linear meta model on blobs dataset\n",
    "import pandas as pd\n",
    "from sklearn.metrics import accuracy_score"
   ]
  },
  {
   "cell_type": "code",
   "execution_count": 14,
   "metadata": {
    "ExecuteTime": {
     "end_time": "2021-06-18T07:23:56.611599Z",
     "start_time": "2021-06-18T07:23:56.604372Z"
    }
   },
   "outputs": [],
   "source": [
    "# load models\n",
    "def load_all_models():\n",
    "    all_models = list()\n",
    "    all_models = [model_form, model2, model3]\n",
    "    return all_models"
   ]
  },
  {
   "cell_type": "code",
   "execution_count": 15,
   "metadata": {
    "ExecuteTime": {
     "end_time": "2021-06-18T07:23:58.260008Z",
     "start_time": "2021-06-18T07:23:57.244850Z"
    }
   },
   "outputs": [],
   "source": [
    "# create stacked model input dataset as outputs from the ensemble\n",
    "\n",
    "from keras import backend as K\n",
    "from keras.models import Model\n",
    "\n",
    "def stacked_dataset(members, inputX, inputX_meg):\n",
    "    model_layer_out = MEGNetModel.from_file('band_gap_regression.hdf5')\n",
    "    model_layer_out.model = Model(inputs=model_form.model.input, outputs=model_form.model.layers[-2].output)\n",
    "    layer = [model_layer_out.predict_structure(x) for x in inputX_meg['structure']]\n",
    "    layer_output = np.array(layer)\n",
    "    \n",
    "    for model in members[1:]:\n",
    "        layers = None\n",
    "        for i in range(5):\n",
    "            x = inputX.get_featurized_df().replace([np.inf, -np.inf, np.nan], 0)[\n",
    "                model.model[i].optimal_descriptors[:model.model[i].n_feat]\n",
    "            ].values\n",
    "\n",
    "            # Scale the input features:\n",
    "            x = np.nan_to_num(x)\n",
    "            if model.model[i]._scaler is not None:\n",
    "                x = model.model[i]._scaler.transform(x)\n",
    "                x = np.nan_to_num(x)\n",
    "            get_layer_output = K.function([model.model[i].model.layers[0].input],\n",
    "                                  [model.model[i].model.layers[-2].output])\n",
    "            layer = get_layer_output([x])[0]\n",
    "            if layers is None:\n",
    "                layers = layer\n",
    "            else:\n",
    "                layers = np.dstack((layers, layer))\n",
    "        layer_output = np.mean(layers, axis=2)\n",
    "    return layer_output"
   ]
  },
  {
   "cell_type": "markdown",
   "metadata": {},
   "source": [
    "#### 1) Keras model with two hidden layers: 10 and 3 neurons respectively"
   ]
  },
  {
   "cell_type": "code",
   "execution_count": 12,
   "metadata": {
    "ExecuteTime": {
     "end_time": "2021-06-16T08:22:46.663543Z",
     "start_time": "2021-06-16T08:22:46.658517Z"
    }
   },
   "outputs": [],
   "source": [
    "# create the meta-learner model\n",
    "import tensorflow as tf\n",
    "\n",
    "def get_compiled_model():\n",
    "    model = tf.keras.Sequential([\n",
    "        tf.keras.layers.Dense(10, activation='relu'),\n",
    "        tf.keras.layers.Dense(3, activation='relu'),\n",
    "        tf.keras.layers.Dense(1)\n",
    "    ])\n",
    "\n",
    "    model.compile(optimizer='adam',\n",
    "                loss='mse',\n",
    "                metrics=['accuracy'])\n",
    "    return model"
   ]
  },
  {
   "cell_type": "code",
   "execution_count": 13,
   "metadata": {
    "ExecuteTime": {
     "end_time": "2021-06-16T08:22:46.669322Z",
     "start_time": "2021-06-16T08:22:46.665471Z"
    }
   },
   "outputs": [],
   "source": [
    "# fit a model based on the outputs from the ensemble members\n",
    "def fit_stacked_model(members, inputX, inputy, inputX_meg):\n",
    "    # create dataset using ensemble\n",
    "    stackedX = stacked_dataset(members, inputX, inputX_meg)\n",
    "    # fit standalone model\n",
    "    model = get_compiled_model()\n",
    "    model.fit(stackedX, inputy)\n",
    "    return model"
   ]
  },
  {
   "cell_type": "code",
   "execution_count": 20,
   "metadata": {
    "ExecuteTime": {
     "end_time": "2021-06-14T16:04:53.189628Z",
     "start_time": "2021-06-14T16:04:53.183180Z"
    }
   },
   "outputs": [],
   "source": [
    "# make a prediction with the stacked model\n",
    "def stacked_prediction(members, model, inputX, inputX_meg):\n",
    "    # create dataset using ensemble\n",
    "    stackedX = stacked_dataset(members, inputX, inputX_meg)\n",
    "    # make a prediction\n",
    "    yhat = model.predict(stackedX)\n",
    "    return yhat"
   ]
  },
  {
   "cell_type": "code",
   "execution_count": 26,
   "metadata": {
    "ExecuteTime": {
     "end_time": "2021-06-15T12:17:53.031108Z",
     "start_time": "2021-06-14T16:05:42.647953Z"
    }
   },
   "outputs": [
    {
     "name": "stdout",
     "output_type": "stream",
     "text": [
      "2021-06-14 18:05:42,839 - modnet - INFO - Loaded DeBreuck2020Featurizer featurizer.\n"
     ]
    },
    {
     "name": "stderr",
     "output_type": "stream",
     "text": [
      "INFO:modnet:Loaded DeBreuck2020Featurizer featurizer.\n"
     ]
    },
    {
     "name": "stdout",
     "output_type": "stream",
     "text": [
      "2021-06-14 18:05:42,886 - modnet - INFO - Loaded DeBreuck2020Featurizer featurizer.\n"
     ]
    },
    {
     "name": "stderr",
     "output_type": "stream",
     "text": [
      "INFO:modnet:Loaded DeBreuck2020Featurizer featurizer.\n"
     ]
    },
    {
     "name": "stdout",
     "output_type": "stream",
     "text": [
      "2021-06-14 18:05:42,908 - modnet - INFO - Loaded DeBreuck2020Featurizer featurizer.\n"
     ]
    },
    {
     "name": "stderr",
     "output_type": "stream",
     "text": [
      "INFO:modnet:Loaded DeBreuck2020Featurizer featurizer.\n"
     ]
    },
    {
     "name": "stdout",
     "output_type": "stream",
     "text": [
      "2021-06-14 18:05:42,955 - modnet - INFO - Loaded DeBreuck2020Featurizer featurizer.\n"
     ]
    },
    {
     "name": "stderr",
     "output_type": "stream",
     "text": [
      "INFO:modnet:Loaded DeBreuck2020Featurizer featurizer.\n"
     ]
    },
    {
     "name": "stdout",
     "output_type": "stream",
     "text": [
      "2021-06-14 18:05:42,977 - modnet - INFO - Loaded DeBreuck2020Featurizer featurizer.\n"
     ]
    },
    {
     "name": "stderr",
     "output_type": "stream",
     "text": [
      "INFO:modnet:Loaded DeBreuck2020Featurizer featurizer.\n"
     ]
    },
    {
     "name": "stdout",
     "output_type": "stream",
     "text": [
      "2021-06-14 18:05:43,028 - modnet - INFO - Loaded DeBreuck2020Featurizer featurizer.\n"
     ]
    },
    {
     "name": "stderr",
     "output_type": "stream",
     "text": [
      "INFO:modnet:Loaded DeBreuck2020Featurizer featurizer.\n"
     ]
    },
    {
     "name": "stdout",
     "output_type": "stream",
     "text": [
      "2021-06-14 18:05:43,050 - modnet - INFO - Loaded DeBreuck2020Featurizer featurizer.\n"
     ]
    },
    {
     "name": "stderr",
     "output_type": "stream",
     "text": [
      "INFO:modnet:Loaded DeBreuck2020Featurizer featurizer.\n"
     ]
    },
    {
     "name": "stdout",
     "output_type": "stream",
     "text": [
      "2021-06-14 18:05:43,096 - modnet - INFO - Loaded DeBreuck2020Featurizer featurizer.\n"
     ]
    },
    {
     "name": "stderr",
     "output_type": "stream",
     "text": [
      "INFO:modnet:Loaded DeBreuck2020Featurizer featurizer.\n"
     ]
    },
    {
     "name": "stdout",
     "output_type": "stream",
     "text": [
      "2021-06-14 18:05:43,118 - modnet - INFO - Loaded DeBreuck2020Featurizer featurizer.\n"
     ]
    },
    {
     "name": "stderr",
     "output_type": "stream",
     "text": [
      "INFO:modnet:Loaded DeBreuck2020Featurizer featurizer.\n"
     ]
    },
    {
     "name": "stdout",
     "output_type": "stream",
     "text": [
      "2021-06-14 18:05:43,165 - modnet - INFO - Loaded DeBreuck2020Featurizer featurizer.\n"
     ]
    },
    {
     "name": "stderr",
     "output_type": "stream",
     "text": [
      "INFO:modnet:Loaded DeBreuck2020Featurizer featurizer.\n"
     ]
    },
    {
     "name": "stdout",
     "output_type": "stream",
     "text": [
      "2021-06-14 18:05:43,441 - modnet - INFO - Loaded <modnet.preprocessing.MODData object at 0x7f5ada9c2460> object, created with modnet version 0.1.9\n"
     ]
    },
    {
     "name": "stderr",
     "output_type": "stream",
     "text": [
      "INFO:modnet:Loaded <modnet.preprocessing.MODData object at 0x7f5ada9c2460> object, created with modnet version 0.1.9\n"
     ]
    },
    {
     "name": "stdout",
     "output_type": "stream",
     "text": [
      "2021-06-14 18:05:44,807 - modnet - INFO - Generation number 0\n"
     ]
    },
    {
     "name": "stderr",
     "output_type": "stream",
     "text": [
      "INFO:modnet:Generation number 0\n"
     ]
    },
    {
     "name": "stdout",
     "output_type": "stream",
     "text": [
      "2021-06-14 18:05:47,397 - modnet - INFO - Multiprocessing on 10 cores. Total of 48 cores available.\n"
     ]
    },
    {
     "name": "stderr",
     "output_type": "stream",
     "text": [
      "INFO:modnet:Multiprocessing on 10 cores. Total of 48 cores available.\n",
      "100%|██████████| 100/100 [29:43<00:00, 17.84s/it]"
     ]
    },
    {
     "name": "stdout",
     "output_type": "stream",
     "text": [
      "2021-06-14 18:35:31,211 - modnet - INFO - Loss per individual: ind 0: 0.617 \tind 1: 0.630 \tind 2: 0.605 \tind 3: 0.633 \tind 4: 0.655 \tind 5: 0.591 \tind 6: 0.644 \tind 7: 0.586 \tind 8: 0.742 \tind 9: 0.684 \tind 10: 0.656 \tind 11: 1.029 \tind 12: 0.602 \tind 13: 0.637 \tind 14: 0.744 \tind 15: 0.663 \tind 16: 0.583 \tind 17: 0.618 \tind 18: 0.643 \tind 19: 0.640 \t\n"
     ]
    },
    {
     "name": "stderr",
     "output_type": "stream",
     "text": [
      "\n",
      "INFO:modnet:Loss per individual: ind 0: 0.617 \tind 1: 0.630 \tind 2: 0.605 \tind 3: 0.633 \tind 4: 0.655 \tind 5: 0.591 \tind 6: 0.644 \tind 7: 0.586 \tind 8: 0.742 \tind 9: 0.684 \tind 10: 0.656 \tind 11: 1.029 \tind 12: 0.602 \tind 13: 0.637 \tind 14: 0.744 \tind 15: 0.663 \tind 16: 0.583 \tind 17: 0.618 \tind 18: 0.643 \tind 19: 0.640 \t\n"
     ]
    },
    {
     "name": "stdout",
     "output_type": "stream",
     "text": [
      "2021-06-14 18:35:34,413 - modnet - INFO - Generation number 1\n"
     ]
    },
    {
     "name": "stderr",
     "output_type": "stream",
     "text": [
      "INFO:modnet:Generation number 1\n"
     ]
    },
    {
     "name": "stdout",
     "output_type": "stream",
     "text": [
      "2021-06-14 18:35:41,492 - modnet - INFO - Multiprocessing on 10 cores. Total of 48 cores available.\n"
     ]
    },
    {
     "name": "stderr",
     "output_type": "stream",
     "text": [
      "INFO:modnet:Multiprocessing on 10 cores. Total of 48 cores available.\n",
      "100%|██████████| 100/100 [31:32<00:00, 18.93s/it] "
     ]
    },
    {
     "name": "stdout",
     "output_type": "stream",
     "text": [
      "2021-06-14 19:07:14,735 - modnet - INFO - Loss per individual: ind 0: 0.586 \tind 1: 0.652 \tind 2: 0.631 \tind 3: 0.614 \tind 4: 0.613 \tind 5: 0.604 \tind 6: 0.658 \tind 7: 0.633 \tind 8: 0.641 \tind 9: 0.679 \tind 10: 0.603 \tind 11: 0.595 \tind 12: 0.606 \tind 13: 0.605 \tind 14: 0.653 \tind 15: 0.785 \tind 16: 0.629 \tind 17: 0.608 \tind 18: 0.612 \tind 19: 0.616 \t\n"
     ]
    },
    {
     "name": "stderr",
     "output_type": "stream",
     "text": [
      "\n",
      "INFO:modnet:Loss per individual: ind 0: 0.586 \tind 1: 0.652 \tind 2: 0.631 \tind 3: 0.614 \tind 4: 0.613 \tind 5: 0.604 \tind 6: 0.658 \tind 7: 0.633 \tind 8: 0.641 \tind 9: 0.679 \tind 10: 0.603 \tind 11: 0.595 \tind 12: 0.606 \tind 13: 0.605 \tind 14: 0.653 \tind 15: 0.785 \tind 16: 0.629 \tind 17: 0.608 \tind 18: 0.612 \tind 19: 0.616 \t\n"
     ]
    },
    {
     "name": "stdout",
     "output_type": "stream",
     "text": [
      "2021-06-14 19:07:18,138 - modnet - INFO - Generation number 2\n"
     ]
    },
    {
     "name": "stderr",
     "output_type": "stream",
     "text": [
      "INFO:modnet:Generation number 2\n"
     ]
    },
    {
     "name": "stdout",
     "output_type": "stream",
     "text": [
      "2021-06-14 19:07:26,557 - modnet - INFO - Multiprocessing on 10 cores. Total of 48 cores available.\n"
     ]
    },
    {
     "name": "stderr",
     "output_type": "stream",
     "text": [
      "INFO:modnet:Multiprocessing on 10 cores. Total of 48 cores available.\n",
      "100%|██████████| 100/100 [30:19<00:00, 18.19s/it] "
     ]
    },
    {
     "name": "stdout",
     "output_type": "stream",
     "text": [
      "2021-06-14 19:37:46,226 - modnet - INFO - Loss per individual: ind 0: 0.609 \tind 1: 0.607 \tind 2: 0.625 \tind 3: 0.653 \tind 4: 0.691 \tind 5: 1.031 \tind 6: 0.603 \tind 7: 0.624 \tind 8: 0.599 \tind 9: 0.603 \tind 10: 0.624 \tind 11: 0.604 \tind 12: 0.640 \tind 13: 0.725 \tind 14: 0.647 \tind 15: 0.610 \tind 16: 0.612 \tind 17: 0.604 \tind 18: 0.649 \tind 19: 0.648 \t\n"
     ]
    },
    {
     "name": "stderr",
     "output_type": "stream",
     "text": [
      "\n",
      "INFO:modnet:Loss per individual: ind 0: 0.609 \tind 1: 0.607 \tind 2: 0.625 \tind 3: 0.653 \tind 4: 0.691 \tind 5: 1.031 \tind 6: 0.603 \tind 7: 0.624 \tind 8: 0.599 \tind 9: 0.603 \tind 10: 0.624 \tind 11: 0.604 \tind 12: 0.640 \tind 13: 0.725 \tind 14: 0.647 \tind 15: 0.610 \tind 16: 0.612 \tind 17: 0.604 \tind 18: 0.649 \tind 19: 0.648 \t\n"
     ]
    },
    {
     "name": "stdout",
     "output_type": "stream",
     "text": [
      "2021-06-14 19:37:49,858 - modnet - INFO - Generation number 3\n"
     ]
    },
    {
     "name": "stderr",
     "output_type": "stream",
     "text": [
      "INFO:modnet:Generation number 3\n"
     ]
    },
    {
     "name": "stdout",
     "output_type": "stream",
     "text": [
      "2021-06-14 19:38:00,342 - modnet - INFO - Multiprocessing on 10 cores. Total of 48 cores available.\n"
     ]
    },
    {
     "name": "stderr",
     "output_type": "stream",
     "text": [
      "INFO:modnet:Multiprocessing on 10 cores. Total of 48 cores available.\n",
      "100%|██████████| 100/100 [31:09<00:00, 18.69s/it] "
     ]
    },
    {
     "name": "stdout",
     "output_type": "stream",
     "text": [
      "2021-06-14 20:09:09,586 - modnet - INFO - Loss per individual: ind 0: 0.654 \tind 1: 0.733 \tind 2: 0.703 \tind 3: 0.663 \tind 4: 0.606 \tind 5: 0.651 \tind 6: 0.611 \tind 7: 0.656 \tind 8: 0.629 \tind 9: 0.586 \tind 10: 0.616 \tind 11: 0.643 \tind 12: 0.604 \tind 13: 0.617 \tind 14: 0.571 \tind 15: 0.639 \tind 16: 0.607 \tind 17: 0.616 \tind 18: 0.634 \tind 19: 0.598 \t\n"
     ]
    },
    {
     "name": "stderr",
     "output_type": "stream",
     "text": [
      "\n",
      "INFO:modnet:Loss per individual: ind 0: 0.654 \tind 1: 0.733 \tind 2: 0.703 \tind 3: 0.663 \tind 4: 0.606 \tind 5: 0.651 \tind 6: 0.611 \tind 7: 0.656 \tind 8: 0.629 \tind 9: 0.586 \tind 10: 0.616 \tind 11: 0.643 \tind 12: 0.604 \tind 13: 0.617 \tind 14: 0.571 \tind 15: 0.639 \tind 16: 0.607 \tind 17: 0.616 \tind 18: 0.634 \tind 19: 0.598 \t\n"
     ]
    },
    {
     "name": "stdout",
     "output_type": "stream",
     "text": [
      "2021-06-14 20:09:12,639 - modnet - INFO - Generation number 4\n"
     ]
    },
    {
     "name": "stderr",
     "output_type": "stream",
     "text": [
      "INFO:modnet:Generation number 4\n"
     ]
    },
    {
     "name": "stdout",
     "output_type": "stream",
     "text": [
      "2021-06-14 20:09:22,388 - modnet - INFO - Multiprocessing on 10 cores. Total of 48 cores available.\n"
     ]
    },
    {
     "name": "stderr",
     "output_type": "stream",
     "text": [
      "INFO:modnet:Multiprocessing on 10 cores. Total of 48 cores available.\n",
      "100%|██████████| 100/100 [27:35<00:00, 16.55s/it] "
     ]
    },
    {
     "name": "stdout",
     "output_type": "stream",
     "text": [
      "2021-06-14 20:36:57,955 - modnet - INFO - Loss per individual: ind 0: 0.598 \tind 1: 0.639 \tind 2: 0.615 \tind 3: 0.589 \tind 4: 0.689 \tind 5: 0.632 \tind 6: 0.666 \tind 7: 0.597 \tind 8: 0.645 \tind 9: 0.644 \tind 10: 0.611 \tind 11: 0.602 \tind 12: 0.663 \tind 13: 0.610 \tind 14: 0.609 \tind 15: 0.579 \tind 16: 0.648 \tind 17: 0.671 \tind 18: 0.591 \tind 19: 0.592 \t\n"
     ]
    },
    {
     "name": "stderr",
     "output_type": "stream",
     "text": [
      "\n",
      "INFO:modnet:Loss per individual: ind 0: 0.598 \tind 1: 0.639 \tind 2: 0.615 \tind 3: 0.589 \tind 4: 0.689 \tind 5: 0.632 \tind 6: 0.666 \tind 7: 0.597 \tind 8: 0.645 \tind 9: 0.644 \tind 10: 0.611 \tind 11: 0.602 \tind 12: 0.663 \tind 13: 0.610 \tind 14: 0.609 \tind 15: 0.579 \tind 16: 0.648 \tind 17: 0.671 \tind 18: 0.591 \tind 19: 0.592 \t\n"
     ]
    },
    {
     "name": "stdout",
     "output_type": "stream",
     "text": [
      "2021-06-14 20:37:00,374 - modnet - INFO - Generation number 5\n"
     ]
    },
    {
     "name": "stderr",
     "output_type": "stream",
     "text": [
      "INFO:modnet:Generation number 5\n"
     ]
    },
    {
     "name": "stdout",
     "output_type": "stream",
     "text": [
      "2021-06-14 20:37:08,598 - modnet - INFO - Multiprocessing on 10 cores. Total of 48 cores available.\n"
     ]
    },
    {
     "name": "stderr",
     "output_type": "stream",
     "text": [
      "INFO:modnet:Multiprocessing on 10 cores. Total of 48 cores available.\n",
      "100%|██████████| 100/100 [28:16<00:00, 16.96s/it] "
     ]
    },
    {
     "name": "stdout",
     "output_type": "stream",
     "text": [
      "2021-06-14 21:05:25,150 - modnet - INFO - Loss per individual: ind 0: 0.599 \tind 1: 0.562 \tind 2: 0.651 \tind 3: 0.646 \tind 4: 0.714 \tind 5: 0.640 \tind 6: 0.610 \tind 7: 0.716 \tind 8: 0.611 \tind 9: 0.632 \tind 10: 0.654 \tind 11: 0.625 \tind 12: 0.660 \tind 13: 0.610 \tind 14: 0.584 \tind 15: 0.599 \tind 16: 0.702 \tind 17: 0.583 \tind 18: 0.619 \tind 19: 0.632 \t\n"
     ]
    },
    {
     "name": "stderr",
     "output_type": "stream",
     "text": [
      "\n",
      "INFO:modnet:Loss per individual: ind 0: 0.599 \tind 1: 0.562 \tind 2: 0.651 \tind 3: 0.646 \tind 4: 0.714 \tind 5: 0.640 \tind 6: 0.610 \tind 7: 0.716 \tind 8: 0.611 \tind 9: 0.632 \tind 10: 0.654 \tind 11: 0.625 \tind 12: 0.660 \tind 13: 0.610 \tind 14: 0.584 \tind 15: 0.599 \tind 16: 0.702 \tind 17: 0.583 \tind 18: 0.619 \tind 19: 0.632 \t\n"
     ]
    },
    {
     "name": "stdout",
     "output_type": "stream",
     "text": [
      "2021-06-14 21:05:28,805 - modnet - INFO - Generation number 6\n"
     ]
    },
    {
     "name": "stderr",
     "output_type": "stream",
     "text": [
      "INFO:modnet:Generation number 6\n"
     ]
    },
    {
     "name": "stdout",
     "output_type": "stream",
     "text": [
      "2021-06-14 21:05:43,147 - modnet - INFO - Multiprocessing on 10 cores. Total of 48 cores available.\n"
     ]
    },
    {
     "name": "stderr",
     "output_type": "stream",
     "text": [
      "INFO:modnet:Multiprocessing on 10 cores. Total of 48 cores available.\n",
      "100%|██████████| 100/100 [29:28<00:00, 17.69s/it] "
     ]
    },
    {
     "name": "stdout",
     "output_type": "stream",
     "text": [
      "2021-06-14 21:35:12,529 - modnet - INFO - Loss per individual: ind 0: 0.585 \tind 1: 0.591 \tind 2: 0.578 \tind 3: 0.739 \tind 4: 0.570 \tind 5: 0.786 \tind 6: 0.581 \tind 7: 0.580 \tind 8: 0.683 \tind 9: 0.638 \tind 10: 0.612 \tind 11: 0.602 \tind 12: 0.634 \tind 13: 0.636 \tind 14: 0.681 \tind 15: 0.630 \tind 16: 0.676 \tind 17: 0.601 \tind 18: 0.733 \tind 19: 0.625 \t\n"
     ]
    },
    {
     "name": "stderr",
     "output_type": "stream",
     "text": [
      "\n",
      "INFO:modnet:Loss per individual: ind 0: 0.585 \tind 1: 0.591 \tind 2: 0.578 \tind 3: 0.739 \tind 4: 0.570 \tind 5: 0.786 \tind 6: 0.581 \tind 7: 0.580 \tind 8: 0.683 \tind 9: 0.638 \tind 10: 0.612 \tind 11: 0.602 \tind 12: 0.634 \tind 13: 0.636 \tind 14: 0.681 \tind 15: 0.630 \tind 16: 0.676 \tind 17: 0.601 \tind 18: 0.733 \tind 19: 0.625 \t\n"
     ]
    },
    {
     "name": "stdout",
     "output_type": "stream",
     "text": [
      "2021-06-14 21:35:14,520 - modnet - INFO - Generation number 7\n"
     ]
    },
    {
     "name": "stderr",
     "output_type": "stream",
     "text": [
      "INFO:modnet:Generation number 7\n"
     ]
    },
    {
     "name": "stdout",
     "output_type": "stream",
     "text": [
      "2021-06-14 21:35:24,418 - modnet - INFO - Multiprocessing on 10 cores. Total of 48 cores available.\n"
     ]
    },
    {
     "name": "stderr",
     "output_type": "stream",
     "text": [
      "INFO:modnet:Multiprocessing on 10 cores. Total of 48 cores available.\n",
      "100%|██████████| 100/100 [43:14<00:00, 25.94s/it] "
     ]
    },
    {
     "name": "stdout",
     "output_type": "stream",
     "text": [
      "2021-06-14 22:18:38,872 - modnet - INFO - Loss per individual: ind 0: 0.623 \tind 1: 0.619 \tind 2: 0.742 \tind 3: 0.647 \tind 4: 0.600 \tind 5: 0.688 \tind 6: 0.622 \tind 7: 0.680 \tind 8: 0.592 \tind 9: 1.046 \tind 10: 0.584 \tind 11: 0.614 \tind 12: 0.604 \tind 13: 0.662 \tind 14: 0.599 \tind 15: 0.638 \tind 16: 0.598 \tind 17: 0.578 \tind 18: 0.624 \tind 19: 0.688 \t\n"
     ]
    },
    {
     "name": "stderr",
     "output_type": "stream",
     "text": [
      "\n",
      "INFO:modnet:Loss per individual: ind 0: 0.623 \tind 1: 0.619 \tind 2: 0.742 \tind 3: 0.647 \tind 4: 0.600 \tind 5: 0.688 \tind 6: 0.622 \tind 7: 0.680 \tind 8: 0.592 \tind 9: 1.046 \tind 10: 0.584 \tind 11: 0.614 \tind 12: 0.604 \tind 13: 0.662 \tind 14: 0.599 \tind 15: 0.638 \tind 16: 0.598 \tind 17: 0.578 \tind 18: 0.624 \tind 19: 0.688 \t\n"
     ]
    },
    {
     "name": "stdout",
     "output_type": "stream",
     "text": [
      "2021-06-14 22:18:41,559 - modnet - INFO - Generation number 8\n"
     ]
    },
    {
     "name": "stderr",
     "output_type": "stream",
     "text": [
      "INFO:modnet:Generation number 8\n"
     ]
    },
    {
     "name": "stdout",
     "output_type": "stream",
     "text": [
      "2021-06-14 22:18:53,363 - modnet - INFO - Multiprocessing on 10 cores. Total of 48 cores available.\n"
     ]
    },
    {
     "name": "stderr",
     "output_type": "stream",
     "text": [
      "INFO:modnet:Multiprocessing on 10 cores. Total of 48 cores available.\n",
      "100%|██████████| 100/100 [57:35<00:00, 34.56s/it]  "
     ]
    },
    {
     "name": "stdout",
     "output_type": "stream",
     "text": [
      "2021-06-14 23:16:29,113 - modnet - INFO - Loss per individual: ind 0: 0.633 \tind 1: 0.633 \tind 2: 0.627 \tind 3: 0.620 \tind 4: 0.619 \tind 5: 0.613 \tind 6: 0.697 \tind 7: 0.615 \tind 8: 0.611 \tind 9: 0.602 \tind 10: 0.623 \tind 11: 0.605 \tind 12: 0.610 \tind 13: 0.691 \tind 14: 0.612 \tind 15: 0.622 \tind 16: 0.582 \tind 17: 0.609 \tind 18: 0.597 \tind 19: 0.606 \t\n"
     ]
    },
    {
     "name": "stderr",
     "output_type": "stream",
     "text": [
      "\n",
      "INFO:modnet:Loss per individual: ind 0: 0.633 \tind 1: 0.633 \tind 2: 0.627 \tind 3: 0.620 \tind 4: 0.619 \tind 5: 0.613 \tind 6: 0.697 \tind 7: 0.615 \tind 8: 0.611 \tind 9: 0.602 \tind 10: 0.623 \tind 11: 0.605 \tind 12: 0.610 \tind 13: 0.691 \tind 14: 0.612 \tind 15: 0.622 \tind 16: 0.582 \tind 17: 0.609 \tind 18: 0.597 \tind 19: 0.606 \t\n"
     ]
    },
    {
     "name": "stdout",
     "output_type": "stream",
     "text": [
      "2021-06-14 23:16:31,052 - modnet - INFO - Early stopping: same best model for 4 consecutive generations\n"
     ]
    },
    {
     "name": "stderr",
     "output_type": "stream",
     "text": [
      "INFO:modnet:Early stopping: same best model for 4 consecutive generations\n"
     ]
    },
    {
     "name": "stdout",
     "output_type": "stream",
     "text": [
      "Loaded 3 models\n",
      "43/43 [==============================] - 1s 2ms/step - loss: 3.2950 - accuracy: 0.6139\n",
      "MAE =\n",
      "1.02136796263825\n",
      "2021-06-14 23:23:02,353 - modnet - INFO - Loaded <modnet.preprocessing.MODData object at 0x7f5722d414f0> object, created with modnet version 0.1.9\n"
     ]
    },
    {
     "name": "stderr",
     "output_type": "stream",
     "text": [
      "INFO:modnet:Loaded <modnet.preprocessing.MODData object at 0x7f5722d414f0> object, created with modnet version 0.1.9\n"
     ]
    },
    {
     "name": "stdout",
     "output_type": "stream",
     "text": [
      "2021-06-14 23:23:03,766 - modnet - INFO - Generation number 0\n"
     ]
    },
    {
     "name": "stderr",
     "output_type": "stream",
     "text": [
      "INFO:modnet:Generation number 0\n"
     ]
    },
    {
     "name": "stdout",
     "output_type": "stream",
     "text": [
      "2021-06-14 23:23:15,137 - modnet - INFO - Multiprocessing on 10 cores. Total of 48 cores available.\n"
     ]
    },
    {
     "name": "stderr",
     "output_type": "stream",
     "text": [
      "INFO:modnet:Multiprocessing on 10 cores. Total of 48 cores available.\n",
      "100%|██████████| 100/100 [32:51<00:00, 19.71s/it] "
     ]
    },
    {
     "name": "stdout",
     "output_type": "stream",
     "text": [
      "2021-06-14 23:56:06,859 - modnet - INFO - Loss per individual: ind 0: 0.742 \tind 1: 0.670 \tind 2: 0.692 \tind 3: 0.591 \tind 4: 0.683 \tind 5: 0.609 \tind 6: 0.736 \tind 7: 0.645 \tind 8: 0.707 \tind 9: 0.741 \tind 10: 0.671 \tind 11: 0.667 \tind 12: 0.616 \tind 13: 0.633 \tind 14: 0.633 \tind 15: 0.648 \tind 16: 0.610 \tind 17: 0.661 \tind 18: 0.728 \tind 19: 0.714 \t\n"
     ]
    },
    {
     "name": "stderr",
     "output_type": "stream",
     "text": [
      "\n",
      "INFO:modnet:Loss per individual: ind 0: 0.742 \tind 1: 0.670 \tind 2: 0.692 \tind 3: 0.591 \tind 4: 0.683 \tind 5: 0.609 \tind 6: 0.736 \tind 7: 0.645 \tind 8: 0.707 \tind 9: 0.741 \tind 10: 0.671 \tind 11: 0.667 \tind 12: 0.616 \tind 13: 0.633 \tind 14: 0.633 \tind 15: 0.648 \tind 16: 0.610 \tind 17: 0.661 \tind 18: 0.728 \tind 19: 0.714 \t\n"
     ]
    },
    {
     "name": "stdout",
     "output_type": "stream",
     "text": [
      "2021-06-14 23:56:09,939 - modnet - INFO - Generation number 1\n"
     ]
    },
    {
     "name": "stderr",
     "output_type": "stream",
     "text": [
      "INFO:modnet:Generation number 1\n"
     ]
    },
    {
     "name": "stdout",
     "output_type": "stream",
     "text": [
      "2021-06-14 23:56:19,858 - modnet - INFO - Multiprocessing on 10 cores. Total of 48 cores available.\n"
     ]
    },
    {
     "name": "stderr",
     "output_type": "stream",
     "text": [
      "INFO:modnet:Multiprocessing on 10 cores. Total of 48 cores available.\n",
      "100%|██████████| 100/100 [36:16<00:00, 21.76s/it] "
     ]
    },
    {
     "name": "stdout",
     "output_type": "stream",
     "text": [
      "2021-06-15 00:32:36,635 - modnet - INFO - Loss per individual: ind 0: 0.694 \tind 1: 0.628 \tind 2: 0.611 \tind 3: 0.785 \tind 4: 0.623 \tind 5: 0.646 \tind 6: 0.691 \tind 7: 0.648 \tind 8: 0.696 \tind 9: 0.686 \tind 10: 0.624 \tind 11: 0.640 \tind 12: 0.610 \tind 13: 0.672 \tind 14: 0.807 \tind 15: 0.701 \tind 16: 0.633 \tind 17: 0.647 \tind 18: 0.659 \tind 19: 0.615 \t\n"
     ]
    },
    {
     "name": "stderr",
     "output_type": "stream",
     "text": [
      "\n",
      "INFO:modnet:Loss per individual: ind 0: 0.694 \tind 1: 0.628 \tind 2: 0.611 \tind 3: 0.785 \tind 4: 0.623 \tind 5: 0.646 \tind 6: 0.691 \tind 7: 0.648 \tind 8: 0.696 \tind 9: 0.686 \tind 10: 0.624 \tind 11: 0.640 \tind 12: 0.610 \tind 13: 0.672 \tind 14: 0.807 \tind 15: 0.701 \tind 16: 0.633 \tind 17: 0.647 \tind 18: 0.659 \tind 19: 0.615 \t\n"
     ]
    },
    {
     "name": "stdout",
     "output_type": "stream",
     "text": [
      "2021-06-15 00:32:39,956 - modnet - INFO - Generation number 2\n"
     ]
    },
    {
     "name": "stderr",
     "output_type": "stream",
     "text": [
      "INFO:modnet:Generation number 2\n"
     ]
    },
    {
     "name": "stdout",
     "output_type": "stream",
     "text": [
      "2021-06-15 00:32:51,517 - modnet - INFO - Multiprocessing on 10 cores. Total of 48 cores available.\n"
     ]
    },
    {
     "name": "stderr",
     "output_type": "stream",
     "text": [
      "INFO:modnet:Multiprocessing on 10 cores. Total of 48 cores available.\n",
      "100%|██████████| 100/100 [32:07<00:00, 19.28s/it] "
     ]
    },
    {
     "name": "stdout",
     "output_type": "stream",
     "text": [
      "2021-06-15 01:04:59,526 - modnet - INFO - Loss per individual: ind 0: 0.712 \tind 1: 0.723 \tind 2: 0.690 \tind 3: 0.648 \tind 4: 0.682 \tind 5: 0.599 \tind 6: 0.648 \tind 7: 0.675 \tind 8: 0.660 \tind 9: 0.684 \tind 10: 0.660 \tind 11: 0.644 \tind 12: 0.688 \tind 13: 0.642 \tind 14: 0.710 \tind 15: 0.667 \tind 16: 0.705 \tind 17: 0.646 \tind 18: 0.644 \tind 19: 0.614 \t\n"
     ]
    },
    {
     "name": "stderr",
     "output_type": "stream",
     "text": [
      "\n",
      "INFO:modnet:Loss per individual: ind 0: 0.712 \tind 1: 0.723 \tind 2: 0.690 \tind 3: 0.648 \tind 4: 0.682 \tind 5: 0.599 \tind 6: 0.648 \tind 7: 0.675 \tind 8: 0.660 \tind 9: 0.684 \tind 10: 0.660 \tind 11: 0.644 \tind 12: 0.688 \tind 13: 0.642 \tind 14: 0.710 \tind 15: 0.667 \tind 16: 0.705 \tind 17: 0.646 \tind 18: 0.644 \tind 19: 0.614 \t\n"
     ]
    },
    {
     "name": "stdout",
     "output_type": "stream",
     "text": [
      "2021-06-15 01:05:02,670 - modnet - INFO - Generation number 3\n"
     ]
    },
    {
     "name": "stderr",
     "output_type": "stream",
     "text": [
      "INFO:modnet:Generation number 3\n"
     ]
    },
    {
     "name": "stdout",
     "output_type": "stream",
     "text": [
      "2021-06-15 01:05:16,413 - modnet - INFO - Multiprocessing on 10 cores. Total of 48 cores available.\n"
     ]
    },
    {
     "name": "stderr",
     "output_type": "stream",
     "text": [
      "INFO:modnet:Multiprocessing on 10 cores. Total of 48 cores available.\n",
      "100%|██████████| 100/100 [37:10<00:00, 22.30s/it] "
     ]
    },
    {
     "name": "stdout",
     "output_type": "stream",
     "text": [
      "2021-06-15 01:42:26,457 - modnet - INFO - Loss per individual: ind 0: 0.606 \tind 1: 0.692 \tind 2: 0.685 \tind 3: 0.776 \tind 4: 0.727 \tind 5: 0.619 \tind 6: 0.669 \tind 7: 0.634 \tind 8: 0.682 \tind 9: 0.654 \tind 10: 0.606 \tind 11: 0.697 \tind 12: 0.684 \tind 13: 0.662 \tind 14: 0.677 \tind 15: 0.668 \tind 16: 0.871 \tind 17: 0.675 \tind 18: 0.629 \tind 19: 0.649 \t\n"
     ]
    },
    {
     "name": "stderr",
     "output_type": "stream",
     "text": [
      "\n",
      "INFO:modnet:Loss per individual: ind 0: 0.606 \tind 1: 0.692 \tind 2: 0.685 \tind 3: 0.776 \tind 4: 0.727 \tind 5: 0.619 \tind 6: 0.669 \tind 7: 0.634 \tind 8: 0.682 \tind 9: 0.654 \tind 10: 0.606 \tind 11: 0.697 \tind 12: 0.684 \tind 13: 0.662 \tind 14: 0.677 \tind 15: 0.668 \tind 16: 0.871 \tind 17: 0.675 \tind 18: 0.629 \tind 19: 0.649 \t\n"
     ]
    },
    {
     "name": "stdout",
     "output_type": "stream",
     "text": [
      "2021-06-15 01:42:29,966 - modnet - INFO - Early stopping: same best model for 4 consecutive generations\n"
     ]
    },
    {
     "name": "stderr",
     "output_type": "stream",
     "text": [
      "INFO:modnet:Early stopping: same best model for 4 consecutive generations\n"
     ]
    },
    {
     "name": "stdout",
     "output_type": "stream",
     "text": [
      "Loaded 3 models\n",
      "43/43 [==============================] - 1s 4ms/step - loss: 0.8515 - accuracy: 0.6079\n",
      "MAE =\n",
      "0.537051319810391\n",
      "2021-06-15 01:50:03,908 - modnet - INFO - Loaded <modnet.preprocessing.MODData object at 0x7f5ae5e81490> object, created with modnet version 0.1.9\n"
     ]
    },
    {
     "name": "stderr",
     "output_type": "stream",
     "text": [
      "INFO:modnet:Loaded <modnet.preprocessing.MODData object at 0x7f5ae5e81490> object, created with modnet version 0.1.9\n"
     ]
    },
    {
     "name": "stdout",
     "output_type": "stream",
     "text": [
      "2021-06-15 01:50:07,880 - modnet - INFO - Generation number 0\n"
     ]
    },
    {
     "name": "stderr",
     "output_type": "stream",
     "text": [
      "INFO:modnet:Generation number 0\n"
     ]
    },
    {
     "name": "stdout",
     "output_type": "stream",
     "text": [
      "2021-06-15 01:50:16,444 - modnet - INFO - Multiprocessing on 10 cores. Total of 48 cores available.\n"
     ]
    },
    {
     "name": "stderr",
     "output_type": "stream",
     "text": [
      "INFO:modnet:Multiprocessing on 10 cores. Total of 48 cores available.\n",
      "100%|██████████| 100/100 [29:09<00:00, 17.50s/it] "
     ]
    },
    {
     "name": "stdout",
     "output_type": "stream",
     "text": [
      "2021-06-15 02:19:26,199 - modnet - INFO - Loss per individual: ind 0: 0.687 \tind 1: 0.632 \tind 2: 0.703 \tind 3: 0.645 \tind 4: 0.752 \tind 5: 0.660 \tind 6: 0.638 \tind 7: 0.661 \tind 8: 0.658 \tind 9: 0.640 \tind 10: 0.651 \tind 11: 0.672 \tind 12: 0.631 \tind 13: 0.636 \tind 14: 0.755 \tind 15: 0.812 \tind 16: 0.657 \tind 17: 0.666 \tind 18: 0.731 \tind 19: 0.660 \t\n"
     ]
    },
    {
     "name": "stderr",
     "output_type": "stream",
     "text": [
      "\n",
      "INFO:modnet:Loss per individual: ind 0: 0.687 \tind 1: 0.632 \tind 2: 0.703 \tind 3: 0.645 \tind 4: 0.752 \tind 5: 0.660 \tind 6: 0.638 \tind 7: 0.661 \tind 8: 0.658 \tind 9: 0.640 \tind 10: 0.651 \tind 11: 0.672 \tind 12: 0.631 \tind 13: 0.636 \tind 14: 0.755 \tind 15: 0.812 \tind 16: 0.657 \tind 17: 0.666 \tind 18: 0.731 \tind 19: 0.660 \t\n"
     ]
    },
    {
     "name": "stdout",
     "output_type": "stream",
     "text": [
      "2021-06-15 02:19:28,147 - modnet - INFO - Generation number 1\n"
     ]
    },
    {
     "name": "stderr",
     "output_type": "stream",
     "text": [
      "INFO:modnet:Generation number 1\n"
     ]
    },
    {
     "name": "stdout",
     "output_type": "stream",
     "text": [
      "2021-06-15 02:19:35,785 - modnet - INFO - Multiprocessing on 10 cores. Total of 48 cores available.\n"
     ]
    },
    {
     "name": "stderr",
     "output_type": "stream",
     "text": [
      "INFO:modnet:Multiprocessing on 10 cores. Total of 48 cores available.\n",
      "100%|██████████| 100/100 [15:24<00:00,  9.24s/it] "
     ]
    },
    {
     "name": "stdout",
     "output_type": "stream",
     "text": [
      "2021-06-15 02:34:59,917 - modnet - INFO - Loss per individual: ind 0: 0.662 \tind 1: 0.622 \tind 2: 0.718 \tind 3: 0.643 \tind 4: 0.676 \tind 5: 0.638 \tind 6: 0.714 \tind 7: 0.632 \tind 8: 0.678 \tind 9: 0.676 \tind 10: 0.638 \tind 11: 0.665 \tind 12: 0.660 \tind 13: 0.644 \tind 14: 0.644 \tind 15: 0.673 \tind 16: 0.638 \tind 17: 0.621 \tind 18: 0.639 \tind 19: 0.681 \t\n"
     ]
    },
    {
     "name": "stderr",
     "output_type": "stream",
     "text": [
      "\n",
      "INFO:modnet:Loss per individual: ind 0: 0.662 \tind 1: 0.622 \tind 2: 0.718 \tind 3: 0.643 \tind 4: 0.676 \tind 5: 0.638 \tind 6: 0.714 \tind 7: 0.632 \tind 8: 0.678 \tind 9: 0.676 \tind 10: 0.638 \tind 11: 0.665 \tind 12: 0.660 \tind 13: 0.644 \tind 14: 0.644 \tind 15: 0.673 \tind 16: 0.638 \tind 17: 0.621 \tind 18: 0.639 \tind 19: 0.681 \t\n"
     ]
    },
    {
     "name": "stdout",
     "output_type": "stream",
     "text": [
      "2021-06-15 02:35:01,794 - modnet - INFO - Generation number 2\n"
     ]
    },
    {
     "name": "stderr",
     "output_type": "stream",
     "text": [
      "INFO:modnet:Generation number 2\n"
     ]
    },
    {
     "name": "stdout",
     "output_type": "stream",
     "text": [
      "2021-06-15 02:35:10,143 - modnet - INFO - Multiprocessing on 10 cores. Total of 48 cores available.\n"
     ]
    },
    {
     "name": "stderr",
     "output_type": "stream",
     "text": [
      "INFO:modnet:Multiprocessing on 10 cores. Total of 48 cores available.\n",
      "100%|██████████| 100/100 [25:30<00:00, 15.31s/it]"
     ]
    },
    {
     "name": "stdout",
     "output_type": "stream",
     "text": [
      "2021-06-15 03:00:41,075 - modnet - INFO - Loss per individual: ind 0: 0.622 \tind 1: 0.726 \tind 2: 0.640 \tind 3: 0.683 \tind 4: 0.603 \tind 5: 0.640 \tind 6: 0.789 \tind 7: 0.625 \tind 8: 0.623 \tind 9: 0.634 \tind 10: 0.756 \tind 11: 0.700 \tind 12: 0.635 \tind 13: 0.682 \tind 14: 0.630 \tind 15: 0.759 \tind 16: 0.658 \tind 17: 0.653 \tind 18: 0.681 \tind 19: 0.683 \t\n"
     ]
    },
    {
     "name": "stderr",
     "output_type": "stream",
     "text": [
      "\n",
      "INFO:modnet:Loss per individual: ind 0: 0.622 \tind 1: 0.726 \tind 2: 0.640 \tind 3: 0.683 \tind 4: 0.603 \tind 5: 0.640 \tind 6: 0.789 \tind 7: 0.625 \tind 8: 0.623 \tind 9: 0.634 \tind 10: 0.756 \tind 11: 0.700 \tind 12: 0.635 \tind 13: 0.682 \tind 14: 0.630 \tind 15: 0.759 \tind 16: 0.658 \tind 17: 0.653 \tind 18: 0.681 \tind 19: 0.683 \t\n"
     ]
    },
    {
     "name": "stdout",
     "output_type": "stream",
     "text": [
      "2021-06-15 03:00:44,059 - modnet - INFO - Generation number 3\n"
     ]
    },
    {
     "name": "stderr",
     "output_type": "stream",
     "text": [
      "INFO:modnet:Generation number 3\n"
     ]
    },
    {
     "name": "stdout",
     "output_type": "stream",
     "text": [
      "2021-06-15 03:00:55,311 - modnet - INFO - Multiprocessing on 10 cores. Total of 48 cores available.\n"
     ]
    },
    {
     "name": "stderr",
     "output_type": "stream",
     "text": [
      "INFO:modnet:Multiprocessing on 10 cores. Total of 48 cores available.\n",
      "100%|██████████| 100/100 [28:11<00:00, 16.91s/it] "
     ]
    },
    {
     "name": "stdout",
     "output_type": "stream",
     "text": [
      "2021-06-15 03:29:07,108 - modnet - INFO - Loss per individual: ind 0: 0.698 \tind 1: 0.638 \tind 2: 0.611 \tind 3: 0.650 \tind 4: 0.630 \tind 5: 0.626 \tind 6: 0.694 \tind 7: 0.624 \tind 8: 0.695 \tind 9: 0.751 \tind 10: 0.615 \tind 11: 0.765 \tind 12: 0.786 \tind 13: 0.660 \tind 14: 0.632 \tind 15: 0.654 \tind 16: 0.603 \tind 17: 0.641 \tind 18: 0.637 \tind 19: 0.704 \t\n"
     ]
    },
    {
     "name": "stderr",
     "output_type": "stream",
     "text": [
      "\n",
      "INFO:modnet:Loss per individual: ind 0: 0.698 \tind 1: 0.638 \tind 2: 0.611 \tind 3: 0.650 \tind 4: 0.630 \tind 5: 0.626 \tind 6: 0.694 \tind 7: 0.624 \tind 8: 0.695 \tind 9: 0.751 \tind 10: 0.615 \tind 11: 0.765 \tind 12: 0.786 \tind 13: 0.660 \tind 14: 0.632 \tind 15: 0.654 \tind 16: 0.603 \tind 17: 0.641 \tind 18: 0.637 \tind 19: 0.704 \t\n"
     ]
    },
    {
     "name": "stdout",
     "output_type": "stream",
     "text": [
      "2021-06-15 03:29:10,797 - modnet - INFO - Generation number 4\n"
     ]
    },
    {
     "name": "stderr",
     "output_type": "stream",
     "text": [
      "INFO:modnet:Generation number 4\n"
     ]
    },
    {
     "name": "stdout",
     "output_type": "stream",
     "text": [
      "2021-06-15 03:29:23,283 - modnet - INFO - Multiprocessing on 10 cores. Total of 48 cores available.\n"
     ]
    },
    {
     "name": "stderr",
     "output_type": "stream",
     "text": [
      "INFO:modnet:Multiprocessing on 10 cores. Total of 48 cores available.\n",
      "100%|██████████| 100/100 [28:26<00:00, 17.07s/it] "
     ]
    },
    {
     "name": "stdout",
     "output_type": "stream",
     "text": [
      "2021-06-15 03:57:50,053 - modnet - INFO - Loss per individual: ind 0: 0.757 \tind 1: 0.642 \tind 2: 0.619 \tind 3: 0.629 \tind 4: 0.643 \tind 5: 0.653 \tind 6: 0.742 \tind 7: 0.623 \tind 8: 0.689 \tind 9: 0.675 \tind 10: 0.666 \tind 11: 0.634 \tind 12: 0.662 \tind 13: 0.649 \tind 14: 0.611 \tind 15: 0.632 \tind 16: 0.669 \tind 17: 0.640 \tind 18: 0.630 \tind 19: 0.618 \t\n"
     ]
    },
    {
     "name": "stderr",
     "output_type": "stream",
     "text": [
      "\n",
      "INFO:modnet:Loss per individual: ind 0: 0.757 \tind 1: 0.642 \tind 2: 0.619 \tind 3: 0.629 \tind 4: 0.643 \tind 5: 0.653 \tind 6: 0.742 \tind 7: 0.623 \tind 8: 0.689 \tind 9: 0.675 \tind 10: 0.666 \tind 11: 0.634 \tind 12: 0.662 \tind 13: 0.649 \tind 14: 0.611 \tind 15: 0.632 \tind 16: 0.669 \tind 17: 0.640 \tind 18: 0.630 \tind 19: 0.618 \t\n"
     ]
    },
    {
     "name": "stdout",
     "output_type": "stream",
     "text": [
      "2021-06-15 03:57:53,811 - modnet - INFO - Generation number 5\n"
     ]
    },
    {
     "name": "stderr",
     "output_type": "stream",
     "text": [
      "INFO:modnet:Generation number 5\n"
     ]
    },
    {
     "name": "stdout",
     "output_type": "stream",
     "text": [
      "2021-06-15 03:58:08,417 - modnet - INFO - Multiprocessing on 10 cores. Total of 48 cores available.\n"
     ]
    },
    {
     "name": "stderr",
     "output_type": "stream",
     "text": [
      "INFO:modnet:Multiprocessing on 10 cores. Total of 48 cores available.\n",
      "100%|██████████| 100/100 [26:12<00:00, 15.73s/it] "
     ]
    },
    {
     "name": "stdout",
     "output_type": "stream",
     "text": [
      "2021-06-15 04:24:21,278 - modnet - INFO - Loss per individual: ind 0: 0.620 \tind 1: 0.656 \tind 2: 0.641 \tind 3: 0.631 \tind 4: 0.630 \tind 5: 0.694 \tind 6: 0.633 \tind 7: 0.619 \tind 8: 0.679 \tind 9: 0.631 \tind 10: 0.780 \tind 11: 0.628 \tind 12: 0.641 \tind 13: 0.628 \tind 14: 0.659 \tind 15: 0.662 \tind 16: 0.647 \tind 17: 0.621 \tind 18: 0.674 \tind 19: 0.635 \t\n"
     ]
    },
    {
     "name": "stderr",
     "output_type": "stream",
     "text": [
      "\n",
      "INFO:modnet:Loss per individual: ind 0: 0.620 \tind 1: 0.656 \tind 2: 0.641 \tind 3: 0.631 \tind 4: 0.630 \tind 5: 0.694 \tind 6: 0.633 \tind 7: 0.619 \tind 8: 0.679 \tind 9: 0.631 \tind 10: 0.780 \tind 11: 0.628 \tind 12: 0.641 \tind 13: 0.628 \tind 14: 0.659 \tind 15: 0.662 \tind 16: 0.647 \tind 17: 0.621 \tind 18: 0.674 \tind 19: 0.635 \t\n"
     ]
    },
    {
     "name": "stdout",
     "output_type": "stream",
     "text": [
      "2021-06-15 04:24:24,606 - modnet - INFO - Early stopping: same best model for 4 consecutive generations\n"
     ]
    },
    {
     "name": "stderr",
     "output_type": "stream",
     "text": [
      "INFO:modnet:Early stopping: same best model for 4 consecutive generations\n"
     ]
    },
    {
     "name": "stdout",
     "output_type": "stream",
     "text": [
      "Loaded 3 models\n",
      "43/43 [==============================] - 1s 3ms/step - loss: 4.2423 - accuracy: 0.5785\n",
      "MAE =\n",
      "0.9164695090130754\n",
      "2021-06-15 04:32:00,968 - modnet - INFO - Loaded <modnet.preprocessing.MODData object at 0x7f59b8455e50> object, created with modnet version 0.1.9\n"
     ]
    },
    {
     "name": "stderr",
     "output_type": "stream",
     "text": [
      "INFO:modnet:Loaded <modnet.preprocessing.MODData object at 0x7f59b8455e50> object, created with modnet version 0.1.9\n"
     ]
    },
    {
     "name": "stdout",
     "output_type": "stream",
     "text": [
      "2021-06-15 04:32:02,780 - modnet - INFO - Generation number 0\n"
     ]
    },
    {
     "name": "stderr",
     "output_type": "stream",
     "text": [
      "INFO:modnet:Generation number 0\n"
     ]
    },
    {
     "name": "stdout",
     "output_type": "stream",
     "text": [
      "2021-06-15 04:32:12,498 - modnet - INFO - Multiprocessing on 10 cores. Total of 48 cores available.\n"
     ]
    },
    {
     "name": "stderr",
     "output_type": "stream",
     "text": [
      "INFO:modnet:Multiprocessing on 10 cores. Total of 48 cores available.\n",
      "100%|██████████| 100/100 [29:39<00:00, 17.79s/it] "
     ]
    },
    {
     "name": "stdout",
     "output_type": "stream",
     "text": [
      "2021-06-15 05:01:52,227 - modnet - INFO - Loss per individual: ind 0: 0.630 \tind 1: 0.626 \tind 2: 1.126 \tind 3: 0.673 \tind 4: 0.693 \tind 5: 5.201 \tind 6: 0.732 \tind 7: 1.363 \tind 8: 7.968 \tind 9: 4.804 \tind 10: 0.599 \tind 11: 0.609 \tind 12: 0.618 \tind 13: 0.665 \tind 14: 0.668 \tind 15: 0.619 \tind 16: 0.674 \tind 17: 7.329 \tind 18: 0.740 \tind 19: 0.605 \t\n"
     ]
    },
    {
     "name": "stderr",
     "output_type": "stream",
     "text": [
      "\n",
      "INFO:modnet:Loss per individual: ind 0: 0.630 \tind 1: 0.626 \tind 2: 1.126 \tind 3: 0.673 \tind 4: 0.693 \tind 5: 5.201 \tind 6: 0.732 \tind 7: 1.363 \tind 8: 7.968 \tind 9: 4.804 \tind 10: 0.599 \tind 11: 0.609 \tind 12: 0.618 \tind 13: 0.665 \tind 14: 0.668 \tind 15: 0.619 \tind 16: 0.674 \tind 17: 7.329 \tind 18: 0.740 \tind 19: 0.605 \t\n"
     ]
    },
    {
     "name": "stdout",
     "output_type": "stream",
     "text": [
      "2021-06-15 05:01:55,740 - modnet - INFO - Generation number 1\n"
     ]
    },
    {
     "name": "stderr",
     "output_type": "stream",
     "text": [
      "INFO:modnet:Generation number 1\n"
     ]
    },
    {
     "name": "stdout",
     "output_type": "stream",
     "text": [
      "2021-06-15 05:02:07,251 - modnet - INFO - Multiprocessing on 10 cores. Total of 48 cores available.\n"
     ]
    },
    {
     "name": "stderr",
     "output_type": "stream",
     "text": [
      "INFO:modnet:Multiprocessing on 10 cores. Total of 48 cores available.\n",
      "100%|██████████| 100/100 [28:50<00:00, 17.30s/it] "
     ]
    },
    {
     "name": "stdout",
     "output_type": "stream",
     "text": [
      "2021-06-15 05:30:57,547 - modnet - INFO - Loss per individual: ind 0: 0.616 \tind 1: 0.599 \tind 2: 0.738 \tind 3: 0.639 \tind 4: 0.671 \tind 5: 0.669 \tind 6: 0.635 \tind 7: 0.614 \tind 8: 0.612 \tind 9: 0.653 \tind 10: 0.654 \tind 11: 0.616 \tind 12: 0.709 \tind 13: 0.660 \tind 14: 0.642 \tind 15: 0.618 \tind 16: 0.723 \tind 17: 0.661 \tind 18: 0.609 \tind 19: 0.618 \t\n"
     ]
    },
    {
     "name": "stderr",
     "output_type": "stream",
     "text": [
      "\n",
      "INFO:modnet:Loss per individual: ind 0: 0.616 \tind 1: 0.599 \tind 2: 0.738 \tind 3: 0.639 \tind 4: 0.671 \tind 5: 0.669 \tind 6: 0.635 \tind 7: 0.614 \tind 8: 0.612 \tind 9: 0.653 \tind 10: 0.654 \tind 11: 0.616 \tind 12: 0.709 \tind 13: 0.660 \tind 14: 0.642 \tind 15: 0.618 \tind 16: 0.723 \tind 17: 0.661 \tind 18: 0.609 \tind 19: 0.618 \t\n"
     ]
    },
    {
     "name": "stdout",
     "output_type": "stream",
     "text": [
      "2021-06-15 05:31:00,885 - modnet - INFO - Generation number 2\n"
     ]
    },
    {
     "name": "stderr",
     "output_type": "stream",
     "text": [
      "INFO:modnet:Generation number 2\n"
     ]
    },
    {
     "name": "stdout",
     "output_type": "stream",
     "text": [
      "2021-06-15 05:31:11,800 - modnet - INFO - Multiprocessing on 10 cores. Total of 48 cores available.\n"
     ]
    },
    {
     "name": "stderr",
     "output_type": "stream",
     "text": [
      "INFO:modnet:Multiprocessing on 10 cores. Total of 48 cores available.\n",
      "100%|██████████| 100/100 [22:40<00:00, 13.60s/it] "
     ]
    },
    {
     "name": "stdout",
     "output_type": "stream",
     "text": [
      "2021-06-15 05:53:52,373 - modnet - INFO - Loss per individual: ind 0: 0.678 \tind 1: 0.617 \tind 2: 0.623 \tind 3: 0.659 \tind 4: 0.625 \tind 5: 0.630 \tind 6: 0.615 \tind 7: 0.610 \tind 8: 0.627 \tind 9: 0.618 \tind 10: 0.602 \tind 11: 0.615 \tind 12: 0.617 \tind 13: 0.620 \tind 14: 0.632 \tind 15: 0.627 \tind 16: 0.611 \tind 17: 0.658 \tind 18: 0.626 \tind 19: 0.610 \t\n"
     ]
    },
    {
     "name": "stderr",
     "output_type": "stream",
     "text": [
      "\n",
      "INFO:modnet:Loss per individual: ind 0: 0.678 \tind 1: 0.617 \tind 2: 0.623 \tind 3: 0.659 \tind 4: 0.625 \tind 5: 0.630 \tind 6: 0.615 \tind 7: 0.610 \tind 8: 0.627 \tind 9: 0.618 \tind 10: 0.602 \tind 11: 0.615 \tind 12: 0.617 \tind 13: 0.620 \tind 14: 0.632 \tind 15: 0.627 \tind 16: 0.611 \tind 17: 0.658 \tind 18: 0.626 \tind 19: 0.610 \t\n"
     ]
    },
    {
     "name": "stdout",
     "output_type": "stream",
     "text": [
      "2021-06-15 05:53:54,270 - modnet - INFO - Generation number 3\n"
     ]
    },
    {
     "name": "stderr",
     "output_type": "stream",
     "text": [
      "INFO:modnet:Generation number 3\n"
     ]
    },
    {
     "name": "stdout",
     "output_type": "stream",
     "text": [
      "2021-06-15 05:54:01,510 - modnet - INFO - Multiprocessing on 10 cores. Total of 48 cores available.\n"
     ]
    },
    {
     "name": "stderr",
     "output_type": "stream",
     "text": [
      "INFO:modnet:Multiprocessing on 10 cores. Total of 48 cores available.\n",
      "100%|██████████| 100/100 [30:34<00:00, 18.34s/it]  "
     ]
    },
    {
     "name": "stdout",
     "output_type": "stream",
     "text": [
      "2021-06-15 06:24:36,124 - modnet - INFO - Loss per individual: ind 0: 0.608 \tind 1: 0.591 \tind 2: 0.654 \tind 3: 0.625 \tind 4: 0.620 \tind 5: 0.630 \tind 6: 0.613 \tind 7: 0.696 \tind 8: 0.681 \tind 9: 0.614 \tind 10: 0.590 \tind 11: 0.627 \tind 12: 0.637 \tind 13: 0.659 \tind 14: 0.615 \tind 15: 0.652 \tind 16: 0.633 \tind 17: 0.632 \tind 18: 0.608 \tind 19: 0.655 \t\n"
     ]
    },
    {
     "name": "stderr",
     "output_type": "stream",
     "text": [
      "\n",
      "INFO:modnet:Loss per individual: ind 0: 0.608 \tind 1: 0.591 \tind 2: 0.654 \tind 3: 0.625 \tind 4: 0.620 \tind 5: 0.630 \tind 6: 0.613 \tind 7: 0.696 \tind 8: 0.681 \tind 9: 0.614 \tind 10: 0.590 \tind 11: 0.627 \tind 12: 0.637 \tind 13: 0.659 \tind 14: 0.615 \tind 15: 0.652 \tind 16: 0.633 \tind 17: 0.632 \tind 18: 0.608 \tind 19: 0.655 \t\n"
     ]
    },
    {
     "name": "stdout",
     "output_type": "stream",
     "text": [
      "2021-06-15 06:24:39,622 - modnet - INFO - Generation number 4\n"
     ]
    },
    {
     "name": "stderr",
     "output_type": "stream",
     "text": [
      "INFO:modnet:Generation number 4\n"
     ]
    },
    {
     "name": "stdout",
     "output_type": "stream",
     "text": [
      "2021-06-15 06:24:54,692 - modnet - INFO - Multiprocessing on 10 cores. Total of 48 cores available.\n"
     ]
    },
    {
     "name": "stderr",
     "output_type": "stream",
     "text": [
      "INFO:modnet:Multiprocessing on 10 cores. Total of 48 cores available.\n",
      "100%|██████████| 100/100 [31:04<00:00, 18.64s/it] "
     ]
    },
    {
     "name": "stdout",
     "output_type": "stream",
     "text": [
      "2021-06-15 06:55:58,969 - modnet - INFO - Loss per individual: ind 0: 0.623 \tind 1: 0.668 \tind 2: 0.619 \tind 3: 0.624 \tind 4: 0.668 \tind 5: 0.641 \tind 6: 0.612 \tind 7: 0.616 \tind 8: 0.620 \tind 9: 0.655 \tind 10: 0.592 \tind 11: 0.633 \tind 12: 0.634 \tind 13: 0.618 \tind 14: 0.623 \tind 15: 0.668 \tind 16: 0.609 \tind 17: 0.621 \tind 18: 0.613 \tind 19: 0.636 \t\n"
     ]
    },
    {
     "name": "stderr",
     "output_type": "stream",
     "text": [
      "\n",
      "INFO:modnet:Loss per individual: ind 0: 0.623 \tind 1: 0.668 \tind 2: 0.619 \tind 3: 0.624 \tind 4: 0.668 \tind 5: 0.641 \tind 6: 0.612 \tind 7: 0.616 \tind 8: 0.620 \tind 9: 0.655 \tind 10: 0.592 \tind 11: 0.633 \tind 12: 0.634 \tind 13: 0.618 \tind 14: 0.623 \tind 15: 0.668 \tind 16: 0.609 \tind 17: 0.621 \tind 18: 0.613 \tind 19: 0.636 \t\n"
     ]
    },
    {
     "name": "stdout",
     "output_type": "stream",
     "text": [
      "2021-06-15 06:56:00,970 - modnet - INFO - Generation number 5\n"
     ]
    },
    {
     "name": "stderr",
     "output_type": "stream",
     "text": [
      "INFO:modnet:Generation number 5\n"
     ]
    },
    {
     "name": "stdout",
     "output_type": "stream",
     "text": [
      "2021-06-15 06:56:09,998 - modnet - INFO - Multiprocessing on 10 cores. Total of 48 cores available.\n"
     ]
    },
    {
     "name": "stderr",
     "output_type": "stream",
     "text": [
      "INFO:modnet:Multiprocessing on 10 cores. Total of 48 cores available.\n",
      "100%|██████████| 100/100 [29:46<00:00, 17.86s/it] "
     ]
    },
    {
     "name": "stdout",
     "output_type": "stream",
     "text": [
      "2021-06-15 07:25:56,577 - modnet - INFO - Loss per individual: ind 0: 0.697 \tind 1: 0.633 \tind 2: 0.649 \tind 3: 0.627 \tind 4: 0.608 \tind 5: 0.602 \tind 6: 0.631 \tind 7: 0.617 \tind 8: 0.627 \tind 9: 0.620 \tind 10: 0.648 \tind 11: 0.610 \tind 12: 0.662 \tind 13: 0.616 \tind 14: 0.610 \tind 15: 0.644 \tind 16: 0.651 \tind 17: 0.628 \tind 18: 0.608 \tind 19: 0.675 \t\n"
     ]
    },
    {
     "name": "stderr",
     "output_type": "stream",
     "text": [
      "\n",
      "INFO:modnet:Loss per individual: ind 0: 0.697 \tind 1: 0.633 \tind 2: 0.649 \tind 3: 0.627 \tind 4: 0.608 \tind 5: 0.602 \tind 6: 0.631 \tind 7: 0.617 \tind 8: 0.627 \tind 9: 0.620 \tind 10: 0.648 \tind 11: 0.610 \tind 12: 0.662 \tind 13: 0.616 \tind 14: 0.610 \tind 15: 0.644 \tind 16: 0.651 \tind 17: 0.628 \tind 18: 0.608 \tind 19: 0.675 \t\n"
     ]
    },
    {
     "name": "stdout",
     "output_type": "stream",
     "text": [
      "2021-06-15 07:25:58,374 - modnet - INFO - Generation number 6\n"
     ]
    },
    {
     "name": "stderr",
     "output_type": "stream",
     "text": [
      "INFO:modnet:Generation number 6\n"
     ]
    },
    {
     "name": "stdout",
     "output_type": "stream",
     "text": [
      "2021-06-15 07:26:08,048 - modnet - INFO - Multiprocessing on 10 cores. Total of 48 cores available.\n"
     ]
    },
    {
     "name": "stderr",
     "output_type": "stream",
     "text": [
      "INFO:modnet:Multiprocessing on 10 cores. Total of 48 cores available.\n",
      "100%|██████████| 100/100 [38:34<00:00, 23.14s/it]  "
     ]
    },
    {
     "name": "stdout",
     "output_type": "stream",
     "text": [
      "2021-06-15 08:04:42,574 - modnet - INFO - Loss per individual: ind 0: 0.712 \tind 1: 0.652 \tind 2: 0.640 \tind 3: 0.626 \tind 4: 0.614 \tind 5: 0.640 \tind 6: 0.596 \tind 7: 0.702 \tind 8: 0.613 \tind 9: 0.682 \tind 10: 0.636 \tind 11: 0.603 \tind 12: 0.627 \tind 13: 0.580 \tind 14: 0.604 \tind 15: 0.615 \tind 16: 0.614 \tind 17: 0.617 \tind 18: 0.576 \tind 19: 0.597 \t\n"
     ]
    },
    {
     "name": "stderr",
     "output_type": "stream",
     "text": [
      "\n",
      "INFO:modnet:Loss per individual: ind 0: 0.712 \tind 1: 0.652 \tind 2: 0.640 \tind 3: 0.626 \tind 4: 0.614 \tind 5: 0.640 \tind 6: 0.596 \tind 7: 0.702 \tind 8: 0.613 \tind 9: 0.682 \tind 10: 0.636 \tind 11: 0.603 \tind 12: 0.627 \tind 13: 0.580 \tind 14: 0.604 \tind 15: 0.615 \tind 16: 0.614 \tind 17: 0.617 \tind 18: 0.576 \tind 19: 0.597 \t\n"
     ]
    },
    {
     "name": "stdout",
     "output_type": "stream",
     "text": [
      "2021-06-15 08:04:45,848 - modnet - INFO - Generation number 7\n"
     ]
    },
    {
     "name": "stderr",
     "output_type": "stream",
     "text": [
      "INFO:modnet:Generation number 7\n"
     ]
    },
    {
     "name": "stdout",
     "output_type": "stream",
     "text": [
      "2021-06-15 08:05:04,582 - modnet - INFO - Multiprocessing on 10 cores. Total of 48 cores available.\n"
     ]
    },
    {
     "name": "stderr",
     "output_type": "stream",
     "text": [
      "INFO:modnet:Multiprocessing on 10 cores. Total of 48 cores available.\n",
      "100%|██████████| 100/100 [31:12<00:00, 18.73s/it] "
     ]
    },
    {
     "name": "stdout",
     "output_type": "stream",
     "text": [
      "2021-06-15 08:36:17,119 - modnet - INFO - Loss per individual: ind 0: 0.603 \tind 1: 0.671 \tind 2: 0.621 \tind 3: 0.662 \tind 4: 0.637 \tind 5: 0.680 \tind 6: 0.652 \tind 7: 0.635 \tind 8: 0.608 \tind 9: 0.616 \tind 10: 0.609 \tind 11: 0.631 \tind 12: 0.773 \tind 13: 0.665 \tind 14: 0.615 \tind 15: 0.612 \tind 16: 0.627 \tind 17: 0.640 \tind 18: 0.698 \tind 19: 0.625 \t\n"
     ]
    },
    {
     "name": "stderr",
     "output_type": "stream",
     "text": [
      "\n",
      "INFO:modnet:Loss per individual: ind 0: 0.603 \tind 1: 0.671 \tind 2: 0.621 \tind 3: 0.662 \tind 4: 0.637 \tind 5: 0.680 \tind 6: 0.652 \tind 7: 0.635 \tind 8: 0.608 \tind 9: 0.616 \tind 10: 0.609 \tind 11: 0.631 \tind 12: 0.773 \tind 13: 0.665 \tind 14: 0.615 \tind 15: 0.612 \tind 16: 0.627 \tind 17: 0.640 \tind 18: 0.698 \tind 19: 0.625 \t\n"
     ]
    },
    {
     "name": "stdout",
     "output_type": "stream",
     "text": [
      "2021-06-15 08:36:20,466 - modnet - INFO - Generation number 8\n"
     ]
    },
    {
     "name": "stderr",
     "output_type": "stream",
     "text": [
      "INFO:modnet:Generation number 8\n"
     ]
    },
    {
     "name": "stdout",
     "output_type": "stream",
     "text": [
      "2021-06-15 08:36:37,633 - modnet - INFO - Multiprocessing on 10 cores. Total of 48 cores available.\n"
     ]
    },
    {
     "name": "stderr",
     "output_type": "stream",
     "text": [
      "INFO:modnet:Multiprocessing on 10 cores. Total of 48 cores available.\n",
      "100%|██████████| 100/100 [54:19<00:00, 32.59s/it]  "
     ]
    },
    {
     "name": "stdout",
     "output_type": "stream",
     "text": [
      "2021-06-15 09:30:56,885 - modnet - INFO - Loss per individual: ind 0: 0.613 \tind 1: 0.626 \tind 2: 0.633 \tind 3: 0.630 \tind 4: 0.608 \tind 5: 0.625 \tind 6: 0.642 \tind 7: 0.675 \tind 8: 0.691 \tind 9: 0.609 \tind 10: 0.665 \tind 11: 0.638 \tind 12: 0.690 \tind 13: 0.597 \tind 14: 0.630 \tind 15: 0.613 \tind 16: 0.612 \tind 17: 0.614 \tind 18: 0.643 \tind 19: 0.672 \t\n"
     ]
    },
    {
     "name": "stderr",
     "output_type": "stream",
     "text": [
      "\n",
      "INFO:modnet:Loss per individual: ind 0: 0.613 \tind 1: 0.626 \tind 2: 0.633 \tind 3: 0.630 \tind 4: 0.608 \tind 5: 0.625 \tind 6: 0.642 \tind 7: 0.675 \tind 8: 0.691 \tind 9: 0.609 \tind 10: 0.665 \tind 11: 0.638 \tind 12: 0.690 \tind 13: 0.597 \tind 14: 0.630 \tind 15: 0.613 \tind 16: 0.612 \tind 17: 0.614 \tind 18: 0.643 \tind 19: 0.672 \t\n"
     ]
    },
    {
     "name": "stdout",
     "output_type": "stream",
     "text": [
      "2021-06-15 09:31:00,554 - modnet - INFO - Generation number 9\n"
     ]
    },
    {
     "name": "stderr",
     "output_type": "stream",
     "text": [
      "INFO:modnet:Generation number 9\n"
     ]
    },
    {
     "name": "stdout",
     "output_type": "stream",
     "text": [
      "2021-06-15 09:31:17,468 - modnet - INFO - Multiprocessing on 10 cores. Total of 48 cores available.\n"
     ]
    },
    {
     "name": "stderr",
     "output_type": "stream",
     "text": [
      "INFO:modnet:Multiprocessing on 10 cores. Total of 48 cores available.\n",
      "100%|██████████| 100/100 [56:09<00:00, 33.70s/it]  "
     ]
    },
    {
     "name": "stdout",
     "output_type": "stream",
     "text": [
      "2021-06-15 10:27:27,744 - modnet - INFO - Loss per individual: ind 0: 0.635 \tind 1: 0.606 \tind 2: 0.623 \tind 3: 0.628 \tind 4: 0.617 \tind 5: 0.713 \tind 6: 0.617 \tind 7: 0.681 \tind 8: 0.607 \tind 9: 0.631 \tind 10: 0.616 \tind 11: 0.654 \tind 12: 0.599 \tind 13: 0.634 \tind 14: 0.624 \tind 15: 0.624 \tind 16: 0.627 \tind 17: 0.676 \tind 18: 0.633 \tind 19: 0.637 \t\n"
     ]
    },
    {
     "name": "stderr",
     "output_type": "stream",
     "text": [
      "\n",
      "INFO:modnet:Loss per individual: ind 0: 0.635 \tind 1: 0.606 \tind 2: 0.623 \tind 3: 0.628 \tind 4: 0.617 \tind 5: 0.713 \tind 6: 0.617 \tind 7: 0.681 \tind 8: 0.607 \tind 9: 0.631 \tind 10: 0.616 \tind 11: 0.654 \tind 12: 0.599 \tind 13: 0.634 \tind 14: 0.624 \tind 15: 0.624 \tind 16: 0.627 \tind 17: 0.676 \tind 18: 0.633 \tind 19: 0.637 \t\n"
     ]
    },
    {
     "name": "stdout",
     "output_type": "stream",
     "text": [
      "2021-06-15 10:27:30,743 - modnet - INFO - Early stopping: same best model for 4 consecutive generations\n"
     ]
    },
    {
     "name": "stderr",
     "output_type": "stream",
     "text": [
      "INFO:modnet:Early stopping: same best model for 4 consecutive generations\n"
     ]
    },
    {
     "name": "stdout",
     "output_type": "stream",
     "text": [
      "Loaded 3 models\n",
      "43/43 [==============================] - 1s 3ms/step - loss: 3.4677 - accuracy: 0.5943\n",
      "MAE =\n",
      "0.9917698077869734\n",
      "2021-06-15 10:34:52,988 - modnet - INFO - Loaded <modnet.preprocessing.MODData object at 0x7f590ed87d00> object, created with modnet version 0.1.9\n"
     ]
    },
    {
     "name": "stderr",
     "output_type": "stream",
     "text": [
      "INFO:modnet:Loaded <modnet.preprocessing.MODData object at 0x7f590ed87d00> object, created with modnet version 0.1.9\n"
     ]
    },
    {
     "name": "stdout",
     "output_type": "stream",
     "text": [
      "2021-06-15 10:34:55,108 - modnet - INFO - Generation number 0\n"
     ]
    },
    {
     "name": "stderr",
     "output_type": "stream",
     "text": [
      "INFO:modnet:Generation number 0\n"
     ]
    },
    {
     "name": "stdout",
     "output_type": "stream",
     "text": [
      "2021-06-15 10:35:05,726 - modnet - INFO - Multiprocessing on 10 cores. Total of 48 cores available.\n"
     ]
    },
    {
     "name": "stderr",
     "output_type": "stream",
     "text": [
      "INFO:modnet:Multiprocessing on 10 cores. Total of 48 cores available.\n",
      "100%|██████████| 100/100 [33:37<00:00, 20.18s/it] "
     ]
    },
    {
     "name": "stdout",
     "output_type": "stream",
     "text": [
      "2021-06-15 11:08:43,700 - modnet - INFO - Loss per individual: ind 0: 0.660 \tind 1: 0.626 \tind 2: 0.612 \tind 3: 0.691 \tind 4: 0.599 \tind 5: 0.643 \tind 6: 0.603 \tind 7: 0.614 \tind 8: 0.644 \tind 9: 0.626 \tind 10: 0.619 \tind 11: 0.606 \tind 12: 0.619 \tind 13: 0.579 \tind 14: 0.591 \tind 15: 0.677 \tind 16: 0.668 \tind 17: 0.717 \tind 18: 0.659 \tind 19: 0.686 \t\n"
     ]
    },
    {
     "name": "stderr",
     "output_type": "stream",
     "text": [
      "\n",
      "INFO:modnet:Loss per individual: ind 0: 0.660 \tind 1: 0.626 \tind 2: 0.612 \tind 3: 0.691 \tind 4: 0.599 \tind 5: 0.643 \tind 6: 0.603 \tind 7: 0.614 \tind 8: 0.644 \tind 9: 0.626 \tind 10: 0.619 \tind 11: 0.606 \tind 12: 0.619 \tind 13: 0.579 \tind 14: 0.591 \tind 15: 0.677 \tind 16: 0.668 \tind 17: 0.717 \tind 18: 0.659 \tind 19: 0.686 \t\n"
     ]
    },
    {
     "name": "stdout",
     "output_type": "stream",
     "text": [
      "2021-06-15 11:08:47,183 - modnet - INFO - Generation number 1\n"
     ]
    },
    {
     "name": "stderr",
     "output_type": "stream",
     "text": [
      "INFO:modnet:Generation number 1\n"
     ]
    },
    {
     "name": "stdout",
     "output_type": "stream",
     "text": [
      "2021-06-15 11:08:59,820 - modnet - INFO - Multiprocessing on 10 cores. Total of 48 cores available.\n"
     ]
    },
    {
     "name": "stderr",
     "output_type": "stream",
     "text": [
      "INFO:modnet:Multiprocessing on 10 cores. Total of 48 cores available.\n",
      "100%|██████████| 100/100 [28:10<00:00, 16.90s/it] "
     ]
    },
    {
     "name": "stdout",
     "output_type": "stream",
     "text": [
      "2021-06-15 11:37:10,060 - modnet - INFO - Loss per individual: ind 0: 0.650 \tind 1: 0.642 \tind 2: 0.639 \tind 3: 0.638 \tind 4: 0.731 \tind 5: 0.747 \tind 6: 0.639 \tind 7: 0.681 \tind 8: 0.602 \tind 9: 0.591 \tind 10: 0.603 \tind 11: 0.658 \tind 12: 0.665 \tind 13: 0.723 \tind 14: 0.602 \tind 15: 0.600 \tind 16: 0.623 \tind 17: 0.668 \tind 18: 0.714 \tind 19: 0.609 \t\n"
     ]
    },
    {
     "name": "stderr",
     "output_type": "stream",
     "text": [
      "\n",
      "INFO:modnet:Loss per individual: ind 0: 0.650 \tind 1: 0.642 \tind 2: 0.639 \tind 3: 0.638 \tind 4: 0.731 \tind 5: 0.747 \tind 6: 0.639 \tind 7: 0.681 \tind 8: 0.602 \tind 9: 0.591 \tind 10: 0.603 \tind 11: 0.658 \tind 12: 0.665 \tind 13: 0.723 \tind 14: 0.602 \tind 15: 0.600 \tind 16: 0.623 \tind 17: 0.668 \tind 18: 0.714 \tind 19: 0.609 \t\n"
     ]
    },
    {
     "name": "stdout",
     "output_type": "stream",
     "text": [
      "2021-06-15 11:37:11,984 - modnet - INFO - Generation number 2\n"
     ]
    },
    {
     "name": "stderr",
     "output_type": "stream",
     "text": [
      "INFO:modnet:Generation number 2\n"
     ]
    },
    {
     "name": "stdout",
     "output_type": "stream",
     "text": [
      "2021-06-15 11:37:20,750 - modnet - INFO - Multiprocessing on 10 cores. Total of 48 cores available.\n"
     ]
    },
    {
     "name": "stderr",
     "output_type": "stream",
     "text": [
      "INFO:modnet:Multiprocessing on 10 cores. Total of 48 cores available.\n",
      "100%|██████████| 100/100 [22:33<00:00, 13.54s/it]"
     ]
    },
    {
     "name": "stdout",
     "output_type": "stream",
     "text": [
      "2021-06-15 11:59:54,495 - modnet - INFO - Loss per individual: ind 0: 0.601 \tind 1: 1.497 \tind 2: 0.640 \tind 3: 0.652 \tind 4: 0.584 \tind 5: 0.601 \tind 6: 0.630 \tind 7: 0.633 \tind 8: 0.606 \tind 9: 0.651 \tind 10: 0.626 \tind 11: 0.758 \tind 12: 0.657 \tind 13: 0.619 \tind 14: 0.682 \tind 15: 0.599 \tind 16: 0.682 \tind 17: 0.615 \tind 18: 0.653 \tind 19: 0.620 \t\n"
     ]
    },
    {
     "name": "stderr",
     "output_type": "stream",
     "text": [
      "\n",
      "INFO:modnet:Loss per individual: ind 0: 0.601 \tind 1: 1.497 \tind 2: 0.640 \tind 3: 0.652 \tind 4: 0.584 \tind 5: 0.601 \tind 6: 0.630 \tind 7: 0.633 \tind 8: 0.606 \tind 9: 0.651 \tind 10: 0.626 \tind 11: 0.758 \tind 12: 0.657 \tind 13: 0.619 \tind 14: 0.682 \tind 15: 0.599 \tind 16: 0.682 \tind 17: 0.615 \tind 18: 0.653 \tind 19: 0.620 \t\n"
     ]
    },
    {
     "name": "stdout",
     "output_type": "stream",
     "text": [
      "2021-06-15 11:59:57,658 - modnet - INFO - Generation number 3\n"
     ]
    },
    {
     "name": "stderr",
     "output_type": "stream",
     "text": [
      "INFO:modnet:Generation number 3\n"
     ]
    },
    {
     "name": "stdout",
     "output_type": "stream",
     "text": [
      "2021-06-15 12:00:11,278 - modnet - INFO - Multiprocessing on 10 cores. Total of 48 cores available.\n"
     ]
    },
    {
     "name": "stderr",
     "output_type": "stream",
     "text": [
      "INFO:modnet:Multiprocessing on 10 cores. Total of 48 cores available.\n",
      "100%|██████████| 100/100 [29:03<00:00, 17.44s/it] "
     ]
    },
    {
     "name": "stdout",
     "output_type": "stream",
     "text": [
      "2021-06-15 12:29:14,812 - modnet - INFO - Loss per individual: ind 0: 0.593 \tind 1: 0.595 \tind 2: 0.592 \tind 3: 0.653 \tind 4: 0.640 \tind 5: 0.616 \tind 6: 0.622 \tind 7: 0.791 \tind 8: 0.633 \tind 9: 0.611 \tind 10: 0.578 \tind 11: 0.741 \tind 12: 0.602 \tind 13: 0.586 \tind 14: 0.601 \tind 15: 0.598 \tind 16: 0.652 \tind 17: 0.617 \tind 18: 0.646 \tind 19: 0.673 \t\n"
     ]
    },
    {
     "name": "stderr",
     "output_type": "stream",
     "text": [
      "\n",
      "INFO:modnet:Loss per individual: ind 0: 0.593 \tind 1: 0.595 \tind 2: 0.592 \tind 3: 0.653 \tind 4: 0.640 \tind 5: 0.616 \tind 6: 0.622 \tind 7: 0.791 \tind 8: 0.633 \tind 9: 0.611 \tind 10: 0.578 \tind 11: 0.741 \tind 12: 0.602 \tind 13: 0.586 \tind 14: 0.601 \tind 15: 0.598 \tind 16: 0.652 \tind 17: 0.617 \tind 18: 0.646 \tind 19: 0.673 \t\n"
     ]
    },
    {
     "name": "stdout",
     "output_type": "stream",
     "text": [
      "2021-06-15 12:29:17,996 - modnet - INFO - Generation number 4\n"
     ]
    },
    {
     "name": "stderr",
     "output_type": "stream",
     "text": [
      "INFO:modnet:Generation number 4\n"
     ]
    },
    {
     "name": "stdout",
     "output_type": "stream",
     "text": [
      "2021-06-15 12:29:30,900 - modnet - INFO - Multiprocessing on 10 cores. Total of 48 cores available.\n"
     ]
    },
    {
     "name": "stderr",
     "output_type": "stream",
     "text": [
      "INFO:modnet:Multiprocessing on 10 cores. Total of 48 cores available.\n",
      "100%|██████████| 100/100 [29:28<00:00, 17.68s/it] "
     ]
    },
    {
     "name": "stdout",
     "output_type": "stream",
     "text": [
      "2021-06-15 12:58:59,399 - modnet - INFO - Loss per individual: ind 0: 0.588 \tind 1: 0.579 \tind 2: 0.641 \tind 3: 0.636 \tind 4: 0.658 \tind 5: 0.646 \tind 6: 0.606 \tind 7: 0.618 \tind 8: 0.615 \tind 9: 0.652 \tind 10: 0.684 \tind 11: 0.618 \tind 12: 0.630 \tind 13: 0.644 \tind 14: 0.647 \tind 15: 0.577 \tind 16: 0.609 \tind 17: 0.611 \tind 18: 0.618 \tind 19: 0.613 \t\n"
     ]
    },
    {
     "name": "stderr",
     "output_type": "stream",
     "text": [
      "\n",
      "INFO:modnet:Loss per individual: ind 0: 0.588 \tind 1: 0.579 \tind 2: 0.641 \tind 3: 0.636 \tind 4: 0.658 \tind 5: 0.646 \tind 6: 0.606 \tind 7: 0.618 \tind 8: 0.615 \tind 9: 0.652 \tind 10: 0.684 \tind 11: 0.618 \tind 12: 0.630 \tind 13: 0.644 \tind 14: 0.647 \tind 15: 0.577 \tind 16: 0.609 \tind 17: 0.611 \tind 18: 0.618 \tind 19: 0.613 \t\n"
     ]
    },
    {
     "name": "stdout",
     "output_type": "stream",
     "text": [
      "2021-06-15 12:59:01,481 - modnet - INFO - Generation number 5\n"
     ]
    },
    {
     "name": "stderr",
     "output_type": "stream",
     "text": [
      "INFO:modnet:Generation number 5\n"
     ]
    },
    {
     "name": "stdout",
     "output_type": "stream",
     "text": [
      "2021-06-15 12:59:11,930 - modnet - INFO - Multiprocessing on 10 cores. Total of 48 cores available.\n"
     ]
    },
    {
     "name": "stderr",
     "output_type": "stream",
     "text": [
      "INFO:modnet:Multiprocessing on 10 cores. Total of 48 cores available.\n",
      "100%|██████████| 100/100 [28:01<00:00, 16.82s/it]"
     ]
    },
    {
     "name": "stdout",
     "output_type": "stream",
     "text": [
      "2021-06-15 13:27:13,480 - modnet - INFO - Loss per individual: ind 0: 0.638 \tind 1: 0.630 \tind 2: 0.613 \tind 3: 0.594 \tind 4: 0.684 \tind 5: 0.606 \tind 6: 0.606 \tind 7: 0.626 \tind 8: 0.595 \tind 9: 0.589 \tind 10: 0.608 \tind 11: 0.618 \tind 12: 0.669 \tind 13: 0.604 \tind 14: 0.638 \tind 15: 0.627 \tind 16: 0.638 \tind 17: 0.669 \tind 18: 0.592 \tind 19: 0.637 \t\n"
     ]
    },
    {
     "name": "stderr",
     "output_type": "stream",
     "text": [
      "\n",
      "INFO:modnet:Loss per individual: ind 0: 0.638 \tind 1: 0.630 \tind 2: 0.613 \tind 3: 0.594 \tind 4: 0.684 \tind 5: 0.606 \tind 6: 0.606 \tind 7: 0.626 \tind 8: 0.595 \tind 9: 0.589 \tind 10: 0.608 \tind 11: 0.618 \tind 12: 0.669 \tind 13: 0.604 \tind 14: 0.638 \tind 15: 0.627 \tind 16: 0.638 \tind 17: 0.669 \tind 18: 0.592 \tind 19: 0.637 \t\n"
     ]
    },
    {
     "name": "stdout",
     "output_type": "stream",
     "text": [
      "2021-06-15 13:27:16,819 - modnet - INFO - Generation number 6\n"
     ]
    },
    {
     "name": "stderr",
     "output_type": "stream",
     "text": [
      "INFO:modnet:Generation number 6\n"
     ]
    },
    {
     "name": "stdout",
     "output_type": "stream",
     "text": [
      "2021-06-15 13:27:32,297 - modnet - INFO - Multiprocessing on 10 cores. Total of 48 cores available.\n"
     ]
    },
    {
     "name": "stderr",
     "output_type": "stream",
     "text": [
      "INFO:modnet:Multiprocessing on 10 cores. Total of 48 cores available.\n",
      "100%|██████████| 100/100 [26:40<00:00, 16.01s/it] "
     ]
    },
    {
     "name": "stdout",
     "output_type": "stream",
     "text": [
      "2021-06-15 13:54:13,312 - modnet - INFO - Loss per individual: ind 0: 0.623 \tind 1: 0.599 \tind 2: 0.631 \tind 3: 0.602 \tind 4: 0.617 \tind 5: 0.595 \tind 6: 0.606 \tind 7: 0.593 \tind 8: 0.593 \tind 9: 0.668 \tind 10: 0.717 \tind 11: 0.606 \tind 12: 0.675 \tind 13: 0.629 \tind 14: 0.627 \tind 15: 0.632 \tind 16: 0.631 \tind 17: 0.624 \tind 18: 0.620 \tind 19: 0.597 \t\n"
     ]
    },
    {
     "name": "stderr",
     "output_type": "stream",
     "text": [
      "\n",
      "INFO:modnet:Loss per individual: ind 0: 0.623 \tind 1: 0.599 \tind 2: 0.631 \tind 3: 0.602 \tind 4: 0.617 \tind 5: 0.595 \tind 6: 0.606 \tind 7: 0.593 \tind 8: 0.593 \tind 9: 0.668 \tind 10: 0.717 \tind 11: 0.606 \tind 12: 0.675 \tind 13: 0.629 \tind 14: 0.627 \tind 15: 0.632 \tind 16: 0.631 \tind 17: 0.624 \tind 18: 0.620 \tind 19: 0.597 \t\n"
     ]
    },
    {
     "name": "stdout",
     "output_type": "stream",
     "text": [
      "2021-06-15 13:54:15,260 - modnet - INFO - Generation number 7\n"
     ]
    },
    {
     "name": "stderr",
     "output_type": "stream",
     "text": [
      "INFO:modnet:Generation number 7\n"
     ]
    },
    {
     "name": "stdout",
     "output_type": "stream",
     "text": [
      "2021-06-15 13:54:26,543 - modnet - INFO - Multiprocessing on 10 cores. Total of 48 cores available.\n"
     ]
    },
    {
     "name": "stderr",
     "output_type": "stream",
     "text": [
      "INFO:modnet:Multiprocessing on 10 cores. Total of 48 cores available.\n",
      "100%|██████████| 100/100 [19:26<00:00, 11.66s/it]"
     ]
    },
    {
     "name": "stdout",
     "output_type": "stream",
     "text": [
      "2021-06-15 14:13:52,772 - modnet - INFO - Loss per individual: ind 0: 0.603 \tind 1: 0.668 \tind 2: 0.691 \tind 3: 0.645 \tind 4: 0.605 \tind 5: 0.655 \tind 6: 0.605 \tind 7: 0.656 \tind 8: 0.592 \tind 9: 0.594 \tind 10: 0.621 \tind 11: 0.615 \tind 12: 0.636 \tind 13: 0.729 \tind 14: 0.589 \tind 15: 0.580 \tind 16: 0.750 \tind 17: 0.604 \tind 18: 0.671 \tind 19: 0.666 \t\n"
     ]
    },
    {
     "name": "stderr",
     "output_type": "stream",
     "text": [
      "\n",
      "INFO:modnet:Loss per individual: ind 0: 0.603 \tind 1: 0.668 \tind 2: 0.691 \tind 3: 0.645 \tind 4: 0.605 \tind 5: 0.655 \tind 6: 0.605 \tind 7: 0.656 \tind 8: 0.592 \tind 9: 0.594 \tind 10: 0.621 \tind 11: 0.615 \tind 12: 0.636 \tind 13: 0.729 \tind 14: 0.589 \tind 15: 0.580 \tind 16: 0.750 \tind 17: 0.604 \tind 18: 0.671 \tind 19: 0.666 \t\n"
     ]
    },
    {
     "name": "stdout",
     "output_type": "stream",
     "text": [
      "2021-06-15 14:13:54,523 - modnet - INFO - Early stopping: same best model for 4 consecutive generations\n"
     ]
    },
    {
     "name": "stderr",
     "output_type": "stream",
     "text": [
      "INFO:modnet:Early stopping: same best model for 4 consecutive generations\n"
     ]
    },
    {
     "name": "stdout",
     "output_type": "stream",
     "text": [
      "Loaded 3 models\n",
      "43/43 [==============================] - 1s 2ms/step - loss: 2.0394 - accuracy: 0.5955\n",
      "MAE =\n",
      "0.7510423737445614\n"
     ]
    }
   ],
   "source": [
    "import math\n",
    "from pymatgen.ext.matproj import MPRester\n",
    "from pymatgen.core.structure import Structure\n",
    "\n",
    "k = 5\n",
    "random_state = 202010\n",
    "folds = MDKsplit(md_joint,n_splits=k,random_state=random_state)\n",
    "maes = np.ones(5)\n",
    "for i,f in enumerate(folds):\n",
    "    train = f[0]\n",
    "    test = f[1]\n",
    "    #train.feature_selection(n=-1, use_precomputed_cross_nmi=True)\n",
    "    fpath = 'train_{}_{}'.format(random_state,i+1)\n",
    "    if os.path.exists(fpath):\n",
    "        train = MODData.load(fpath)\n",
    "    else:\n",
    "        train.feature_selection(n=-1, use_precomputed_cross_nmi=True)\n",
    "        train.save(fpath)\n",
    "       \n",
    "    # assure no overlap\n",
    "    assert len(set(train.df_targets.index).intersection(set(test.df_targets.index))) == 0\n",
    "    \n",
    "    fpath_meg = 'train_meg_{}_{}.pkl'.format(random_state,i+1)\n",
    "    if os.path.exists(fpath_meg):\n",
    "        train_meg = pd.read_pickle(fpath_meg)\n",
    "    else:\n",
    "        with MPRester(\"v454AlrxL5Zg0cLAXW0\") as mpr:\n",
    "            for a in range(len(train.df_structure)):\n",
    "                try:\n",
    "                    structure = mpr.get_doc(mpr.get_materials_id_from_task_id(train.df_structure.index[a]))['structure']\n",
    "                    train.df_structure['structure'][a] = structure\n",
    "                except:\n",
    "                    train.df_structure['structure'][a] = math.nan      \n",
    "        for b in range(len(train.df_structure)):\n",
    "            structure = Structure.from_dict(train.df_structure['structure'][b])\n",
    "            train.df_structure['structure'][b] = structure\n",
    "        train_meg = train.df_structure\n",
    "        train_meg.to_pickle(fpath_meg)\n",
    "    \n",
    "    fpath_meg_test = 'train_meg_test_{}_{}.pkl'.format(random_state,i+1)\n",
    "    if os.path.exists(fpath_meg_test):\n",
    "        test_meg = pd.read_pickle(fpath_meg_test)\n",
    "    else:\n",
    "        with MPRester(\"v454AlrxL5Zg0cLAXW0\") as mpr:\n",
    "            for c in range(len(test.df_structure)):\n",
    "                try:\n",
    "                    structure = mpr.get_doc(mpr.get_materials_id_from_task_id(test.df_structure.index[c]))['structure']\n",
    "                    test.df_structure['structure'][c] = structure\n",
    "                except:\n",
    "                    test.df_structure['structure'][c] = math.nan\n",
    "        for d in range(len(test.df_structure)):\n",
    "            structure = Structure.from_dict(test.df_structure['structure'][d])\n",
    "            test.df_structure['structure'][d] = structure\n",
    "        test_meg = test.df_structure\n",
    "        test_meg.to_pickle(fpath_meg_test)\n",
    "    \n",
    "    ga = FitGenetic(train)\n",
    "    model3 = ga.run(size_pop=20, num_generations=10, n_jobs=10)\n",
    "    \n",
    "    # load all models\n",
    "    members = [model_form, model2, model3]\n",
    "    print('Loaded %d models' % len(members))\n",
    "    \n",
    "    # fit stacked model on test dataset\n",
    "    model = fit_stacked_model(members, inputX=train, inputy=train.df_targets['exp_gap'], inputX_meg=train_meg)\n",
    "\n",
    "    # evaluate model on test set\n",
    "    pred = stacked_prediction(members, model, test, test_meg)\n",
    "    pred = pd.DataFrame(pred)\n",
    "    pred = pred.rename(columns={pred.columns[0]: 'exp_gap'})\n",
    "    true = test.df_targets\n",
    "    for j in range(len(pred)):\n",
    "        pred = pred.rename(index={pred.index[j]: true.index[j]})\n",
    "    error = pred-true\n",
    "    error = error['exp_gap'].drop(pred.index[((pred['exp_gap']).abs()>20)]) # drop unrealistic values: happens extremely rarely\n",
    "    mae = np.abs(error.values).mean()\n",
    "    print('MAE =')\n",
    "    print(mae)\n",
    "    maes[i] = mae"
   ]
  },
  {
   "cell_type": "code",
   "execution_count": 27,
   "metadata": {
    "ExecuteTime": {
     "end_time": "2021-06-15T12:17:53.045921Z",
     "start_time": "2021-06-15T12:17:53.036981Z"
    }
   },
   "outputs": [
    {
     "data": {
      "text/plain": [
       "array([1.02136796, 0.53705132, 0.91646951, 0.99176981, 0.75104237])"
      ]
     },
     "execution_count": 27,
     "metadata": {},
     "output_type": "execute_result"
    }
   ],
   "source": [
    "maes"
   ]
  },
  {
   "cell_type": "code",
   "execution_count": 28,
   "metadata": {
    "ExecuteTime": {
     "end_time": "2021-06-15T12:17:53.116685Z",
     "start_time": "2021-06-15T12:17:53.050901Z"
    }
   },
   "outputs": [
    {
     "data": {
      "text/plain": [
       "0.8435401945986503"
      ]
     },
     "execution_count": 28,
     "metadata": {},
     "output_type": "execute_result"
    }
   ],
   "source": [
    "maes.mean()"
   ]
  },
  {
   "cell_type": "markdown",
   "metadata": {},
   "source": [
    "#### 2) Keras model with one hidden layer of 3 neurons"
   ]
  },
  {
   "cell_type": "code",
   "execution_count": 9,
   "metadata": {
    "ExecuteTime": {
     "end_time": "2021-06-17T22:53:37.132182Z",
     "start_time": "2021-06-17T22:53:37.126156Z"
    }
   },
   "outputs": [],
   "source": [
    "# create the meta-learner model\n",
    "import tensorflow as tf\n",
    "\n",
    "def get_compiled_model():\n",
    "    model = tf.keras.Sequential([\n",
    "        tf.keras.layers.Dense(3, activation='relu'),\n",
    "        tf.keras.layers.Dense(1)\n",
    "    ])\n",
    "\n",
    "    model.compile(optimizer='adam',\n",
    "                loss='mse',\n",
    "                metrics=['accuracy'])\n",
    "    return model"
   ]
  },
  {
   "cell_type": "code",
   "execution_count": 10,
   "metadata": {
    "ExecuteTime": {
     "end_time": "2021-06-17T22:53:37.139377Z",
     "start_time": "2021-06-17T22:53:37.134561Z"
    }
   },
   "outputs": [],
   "source": [
    "# fit a model based on the outputs from the ensemble members\n",
    "def fit_stacked_model(members, inputX, inputy, inputX_meg):\n",
    "    # create dataset using ensemble\n",
    "    stackedX = stacked_dataset(members, inputX, inputX_meg)\n",
    "    # fit standalone model\n",
    "    model = get_compiled_model()\n",
    "    model.fit(stackedX, inputy)\n",
    "    return model"
   ]
  },
  {
   "cell_type": "code",
   "execution_count": 11,
   "metadata": {
    "ExecuteTime": {
     "end_time": "2021-06-17T22:53:37.146296Z",
     "start_time": "2021-06-17T22:53:37.141787Z"
    }
   },
   "outputs": [],
   "source": [
    "# make a prediction with the stacked model\n",
    "def stacked_prediction(members, model, inputX, inputX_meg):\n",
    "    # create dataset using ensemble\n",
    "    stackedX = stacked_dataset(members, inputX, inputX_meg)\n",
    "    # make a prediction\n",
    "    yhat = model.predict(stackedX)\n",
    "    return yhat"
   ]
  },
  {
   "cell_type": "code",
   "execution_count": 16,
   "metadata": {
    "ExecuteTime": {
     "end_time": "2021-06-18T14:22:05.595159Z",
     "start_time": "2021-06-18T07:24:21.807903Z"
    }
   },
   "outputs": [
    {
     "name": "stdout",
     "output_type": "stream",
     "text": [
      "2021-06-18 09:24:22,044 - modnet - INFO - Loaded DeBreuck2020Featurizer featurizer.\n"
     ]
    },
    {
     "name": "stderr",
     "output_type": "stream",
     "text": [
      "INFO:modnet:Loaded DeBreuck2020Featurizer featurizer.\n"
     ]
    },
    {
     "name": "stdout",
     "output_type": "stream",
     "text": [
      "2021-06-18 09:24:22,090 - modnet - INFO - Loaded DeBreuck2020Featurizer featurizer.\n"
     ]
    },
    {
     "name": "stderr",
     "output_type": "stream",
     "text": [
      "INFO:modnet:Loaded DeBreuck2020Featurizer featurizer.\n"
     ]
    },
    {
     "name": "stdout",
     "output_type": "stream",
     "text": [
      "2021-06-18 09:24:22,119 - modnet - INFO - Loaded DeBreuck2020Featurizer featurizer.\n"
     ]
    },
    {
     "name": "stderr",
     "output_type": "stream",
     "text": [
      "INFO:modnet:Loaded DeBreuck2020Featurizer featurizer.\n"
     ]
    },
    {
     "name": "stdout",
     "output_type": "stream",
     "text": [
      "2021-06-18 09:24:22,168 - modnet - INFO - Loaded DeBreuck2020Featurizer featurizer.\n"
     ]
    },
    {
     "name": "stderr",
     "output_type": "stream",
     "text": [
      "INFO:modnet:Loaded DeBreuck2020Featurizer featurizer.\n"
     ]
    },
    {
     "name": "stdout",
     "output_type": "stream",
     "text": [
      "2021-06-18 09:24:22,195 - modnet - INFO - Loaded DeBreuck2020Featurizer featurizer.\n"
     ]
    },
    {
     "name": "stderr",
     "output_type": "stream",
     "text": [
      "INFO:modnet:Loaded DeBreuck2020Featurizer featurizer.\n"
     ]
    },
    {
     "name": "stdout",
     "output_type": "stream",
     "text": [
      "2021-06-18 09:24:22,244 - modnet - INFO - Loaded DeBreuck2020Featurizer featurizer.\n"
     ]
    },
    {
     "name": "stderr",
     "output_type": "stream",
     "text": [
      "INFO:modnet:Loaded DeBreuck2020Featurizer featurizer.\n"
     ]
    },
    {
     "name": "stdout",
     "output_type": "stream",
     "text": [
      "2021-06-18 09:24:22,270 - modnet - INFO - Loaded DeBreuck2020Featurizer featurizer.\n"
     ]
    },
    {
     "name": "stderr",
     "output_type": "stream",
     "text": [
      "INFO:modnet:Loaded DeBreuck2020Featurizer featurizer.\n"
     ]
    },
    {
     "name": "stdout",
     "output_type": "stream",
     "text": [
      "2021-06-18 09:24:22,317 - modnet - INFO - Loaded DeBreuck2020Featurizer featurizer.\n"
     ]
    },
    {
     "name": "stderr",
     "output_type": "stream",
     "text": [
      "INFO:modnet:Loaded DeBreuck2020Featurizer featurizer.\n"
     ]
    },
    {
     "name": "stdout",
     "output_type": "stream",
     "text": [
      "2021-06-18 09:24:22,342 - modnet - INFO - Loaded DeBreuck2020Featurizer featurizer.\n"
     ]
    },
    {
     "name": "stderr",
     "output_type": "stream",
     "text": [
      "INFO:modnet:Loaded DeBreuck2020Featurizer featurizer.\n"
     ]
    },
    {
     "name": "stdout",
     "output_type": "stream",
     "text": [
      "2021-06-18 09:24:22,393 - modnet - INFO - Loaded DeBreuck2020Featurizer featurizer.\n"
     ]
    },
    {
     "name": "stderr",
     "output_type": "stream",
     "text": [
      "INFO:modnet:Loaded DeBreuck2020Featurizer featurizer.\n"
     ]
    },
    {
     "name": "stdout",
     "output_type": "stream",
     "text": [
      "2021-06-18 09:24:23,117 - modnet - INFO - Loaded <modnet.preprocessing.MODData object at 0x7f7e926a1ac0> object, created with modnet version 0.1.9\n"
     ]
    },
    {
     "name": "stderr",
     "output_type": "stream",
     "text": [
      "INFO:modnet:Loaded <modnet.preprocessing.MODData object at 0x7f7e926a1ac0> object, created with modnet version 0.1.9\n"
     ]
    },
    {
     "name": "stdout",
     "output_type": "stream",
     "text": [
      "2021-06-18 09:24:27,001 - modnet - INFO - Generation number 0\n"
     ]
    },
    {
     "name": "stderr",
     "output_type": "stream",
     "text": [
      "INFO:modnet:Generation number 0\n"
     ]
    },
    {
     "name": "stdout",
     "output_type": "stream",
     "text": [
      "2021-06-18 09:24:35,489 - modnet - INFO - Multiprocessing on 32 cores. Total of 32 cores available.\n"
     ]
    },
    {
     "name": "stderr",
     "output_type": "stream",
     "text": [
      "INFO:modnet:Multiprocessing on 32 cores. Total of 32 cores available.\n",
      "100%|██████████| 100/100 [13:36<00:00,  8.17s/it] "
     ]
    },
    {
     "name": "stdout",
     "output_type": "stream",
     "text": [
      "2021-06-18 09:38:12,542 - modnet - INFO - Loss per individual: ind 0: 0.622 \tind 1: 0.617 \tind 2: 0.632 \tind 3: 0.678 \tind 4: 0.634 \tind 5: 0.601 \tind 6: 0.617 \tind 7: 0.766 \tind 8: 0.667 \tind 9: 0.604 \tind 10: 0.697 \tind 11: 0.594 \tind 12: 0.640 \tind 13: 0.622 \tind 14: 0.623 \tind 15: 0.651 \tind 16: 0.614 \tind 17: 0.648 \tind 18: 0.590 \tind 19: 0.629 \t\n"
     ]
    },
    {
     "name": "stderr",
     "output_type": "stream",
     "text": [
      "\n",
      "INFO:modnet:Loss per individual: ind 0: 0.622 \tind 1: 0.617 \tind 2: 0.632 \tind 3: 0.678 \tind 4: 0.634 \tind 5: 0.601 \tind 6: 0.617 \tind 7: 0.766 \tind 8: 0.667 \tind 9: 0.604 \tind 10: 0.697 \tind 11: 0.594 \tind 12: 0.640 \tind 13: 0.622 \tind 14: 0.623 \tind 15: 0.651 \tind 16: 0.614 \tind 17: 0.648 \tind 18: 0.590 \tind 19: 0.629 \t\n"
     ]
    },
    {
     "name": "stdout",
     "output_type": "stream",
     "text": [
      "2021-06-18 09:38:15,125 - modnet - INFO - Generation number 1\n"
     ]
    },
    {
     "name": "stderr",
     "output_type": "stream",
     "text": [
      "INFO:modnet:Generation number 1\n"
     ]
    },
    {
     "name": "stdout",
     "output_type": "stream",
     "text": [
      "2021-06-18 09:38:24,232 - modnet - INFO - Multiprocessing on 32 cores. Total of 32 cores available.\n"
     ]
    },
    {
     "name": "stderr",
     "output_type": "stream",
     "text": [
      "INFO:modnet:Multiprocessing on 32 cores. Total of 32 cores available.\n",
      "100%|██████████| 100/100 [15:19<00:00,  9.19s/it]"
     ]
    },
    {
     "name": "stdout",
     "output_type": "stream",
     "text": [
      "2021-06-18 09:53:43,567 - modnet - INFO - Loss per individual: ind 0: 0.596 \tind 1: 0.784 \tind 2: 0.631 \tind 3: 0.625 \tind 4: 0.636 \tind 5: 0.633 \tind 6: 0.605 \tind 7: 0.655 \tind 8: 0.630 \tind 9: 0.633 \tind 10: 0.629 \tind 11: 0.596 \tind 12: 0.635 \tind 13: 0.650 \tind 14: 0.617 \tind 15: 0.648 \tind 16: 0.641 \tind 17: 0.651 \tind 18: 0.646 \tind 19: 0.697 \t\n"
     ]
    },
    {
     "name": "stderr",
     "output_type": "stream",
     "text": [
      "\n",
      "INFO:modnet:Loss per individual: ind 0: 0.596 \tind 1: 0.784 \tind 2: 0.631 \tind 3: 0.625 \tind 4: 0.636 \tind 5: 0.633 \tind 6: 0.605 \tind 7: 0.655 \tind 8: 0.630 \tind 9: 0.633 \tind 10: 0.629 \tind 11: 0.596 \tind 12: 0.635 \tind 13: 0.650 \tind 14: 0.617 \tind 15: 0.648 \tind 16: 0.641 \tind 17: 0.651 \tind 18: 0.646 \tind 19: 0.697 \t\n"
     ]
    },
    {
     "name": "stdout",
     "output_type": "stream",
     "text": [
      "2021-06-18 09:53:46,228 - modnet - INFO - Generation number 2\n"
     ]
    },
    {
     "name": "stderr",
     "output_type": "stream",
     "text": [
      "INFO:modnet:Generation number 2\n"
     ]
    },
    {
     "name": "stdout",
     "output_type": "stream",
     "text": [
      "2021-06-18 09:53:55,570 - modnet - INFO - Multiprocessing on 32 cores. Total of 32 cores available.\n"
     ]
    },
    {
     "name": "stderr",
     "output_type": "stream",
     "text": [
      "INFO:modnet:Multiprocessing on 32 cores. Total of 32 cores available.\n",
      "100%|██████████| 100/100 [14:43<00:00,  8.83s/it] "
     ]
    },
    {
     "name": "stdout",
     "output_type": "stream",
     "text": [
      "2021-06-18 10:08:38,879 - modnet - INFO - Loss per individual: ind 0: 0.678 \tind 1: 0.716 \tind 2: 0.628 \tind 3: 0.606 \tind 4: 0.615 \tind 5: 0.651 \tind 6: 0.620 \tind 7: 0.712 \tind 8: 0.613 \tind 9: 0.617 \tind 10: 0.607 \tind 11: 0.612 \tind 12: 0.594 \tind 13: 0.606 \tind 14: 0.593 \tind 15: 0.655 \tind 16: 0.641 \tind 17: 0.604 \tind 18: 0.612 \tind 19: 0.592 \t\n"
     ]
    },
    {
     "name": "stderr",
     "output_type": "stream",
     "text": [
      "\n",
      "INFO:modnet:Loss per individual: ind 0: 0.678 \tind 1: 0.716 \tind 2: 0.628 \tind 3: 0.606 \tind 4: 0.615 \tind 5: 0.651 \tind 6: 0.620 \tind 7: 0.712 \tind 8: 0.613 \tind 9: 0.617 \tind 10: 0.607 \tind 11: 0.612 \tind 12: 0.594 \tind 13: 0.606 \tind 14: 0.593 \tind 15: 0.655 \tind 16: 0.641 \tind 17: 0.604 \tind 18: 0.612 \tind 19: 0.592 \t\n"
     ]
    },
    {
     "name": "stdout",
     "output_type": "stream",
     "text": [
      "2021-06-18 10:08:41,324 - modnet - INFO - Generation number 3\n"
     ]
    },
    {
     "name": "stderr",
     "output_type": "stream",
     "text": [
      "INFO:modnet:Generation number 3\n"
     ]
    },
    {
     "name": "stdout",
     "output_type": "stream",
     "text": [
      "2021-06-18 10:08:50,762 - modnet - INFO - Multiprocessing on 32 cores. Total of 32 cores available.\n"
     ]
    },
    {
     "name": "stderr",
     "output_type": "stream",
     "text": [
      "INFO:modnet:Multiprocessing on 32 cores. Total of 32 cores available.\n",
      "100%|██████████| 100/100 [11:24<00:00,  6.85s/it]"
     ]
    },
    {
     "name": "stdout",
     "output_type": "stream",
     "text": [
      "2021-06-18 10:20:15,609 - modnet - INFO - Loss per individual: ind 0: 0.596 \tind 1: 0.644 \tind 2: 0.609 \tind 3: 0.622 \tind 4: 0.685 \tind 5: 0.600 \tind 6: 0.621 \tind 7: 0.599 \tind 8: 0.664 \tind 9: 0.605 \tind 10: 0.642 \tind 11: 0.610 \tind 12: 0.592 \tind 13: 0.621 \tind 14: 0.607 \tind 15: 0.600 \tind 16: 0.597 \tind 17: 0.655 \tind 18: 0.605 \tind 19: 0.607 \t\n"
     ]
    },
    {
     "name": "stderr",
     "output_type": "stream",
     "text": [
      "\n",
      "INFO:modnet:Loss per individual: ind 0: 0.596 \tind 1: 0.644 \tind 2: 0.609 \tind 3: 0.622 \tind 4: 0.685 \tind 5: 0.600 \tind 6: 0.621 \tind 7: 0.599 \tind 8: 0.664 \tind 9: 0.605 \tind 10: 0.642 \tind 11: 0.610 \tind 12: 0.592 \tind 13: 0.621 \tind 14: 0.607 \tind 15: 0.600 \tind 16: 0.597 \tind 17: 0.655 \tind 18: 0.605 \tind 19: 0.607 \t\n"
     ]
    },
    {
     "name": "stdout",
     "output_type": "stream",
     "text": [
      "2021-06-18 10:20:18,370 - modnet - INFO - Early stopping: same best model for 4 consecutive generations\n"
     ]
    },
    {
     "name": "stderr",
     "output_type": "stream",
     "text": [
      "INFO:modnet:Early stopping: same best model for 4 consecutive generations\n"
     ]
    },
    {
     "name": "stdout",
     "output_type": "stream",
     "text": [
      "Loaded 3 models\n",
      "43/43 [==============================] - 1s 1ms/step - loss: 2.9782 - accuracy: 0.6007\n",
      "MAE =\n",
      "0.9834881172212846\n",
      "2021-06-18 10:24:22,672 - modnet - INFO - Loaded <modnet.preprocessing.MODData object at 0x7f7d923f0cd0> object, created with modnet version 0.1.9\n"
     ]
    },
    {
     "name": "stderr",
     "output_type": "stream",
     "text": [
      "INFO:modnet:Loaded <modnet.preprocessing.MODData object at 0x7f7d923f0cd0> object, created with modnet version 0.1.9\n"
     ]
    },
    {
     "name": "stdout",
     "output_type": "stream",
     "text": [
      "2021-06-18 10:24:23,556 - modnet - INFO - Generation number 0\n"
     ]
    },
    {
     "name": "stderr",
     "output_type": "stream",
     "text": [
      "INFO:modnet:Generation number 0\n"
     ]
    },
    {
     "name": "stdout",
     "output_type": "stream",
     "text": [
      "2021-06-18 10:24:34,180 - modnet - INFO - Multiprocessing on 32 cores. Total of 32 cores available.\n"
     ]
    },
    {
     "name": "stderr",
     "output_type": "stream",
     "text": [
      "INFO:modnet:Multiprocessing on 32 cores. Total of 32 cores available.\n",
      "100%|██████████| 100/100 [12:11<00:00,  7.31s/it]"
     ]
    },
    {
     "name": "stdout",
     "output_type": "stream",
     "text": [
      "2021-06-18 10:36:45,469 - modnet - INFO - Loss per individual: ind 0: 0.630 \tind 1: 0.606 \tind 2: 0.649 \tind 3: 0.686 \tind 4: 0.689 \tind 5: 0.676 \tind 6: 0.628 \tind 7: 0.703 \tind 8: 0.715 \tind 9: 0.605 \tind 10: 0.615 \tind 11: 0.730 \tind 12: 0.623 \tind 13: 0.606 \tind 14: 0.628 \tind 15: 0.638 \tind 16: 0.717 \tind 17: 0.728 \tind 18: 0.635 \tind 19: 0.637 \t\n"
     ]
    },
    {
     "name": "stderr",
     "output_type": "stream",
     "text": [
      "\n",
      "INFO:modnet:Loss per individual: ind 0: 0.630 \tind 1: 0.606 \tind 2: 0.649 \tind 3: 0.686 \tind 4: 0.689 \tind 5: 0.676 \tind 6: 0.628 \tind 7: 0.703 \tind 8: 0.715 \tind 9: 0.605 \tind 10: 0.615 \tind 11: 0.730 \tind 12: 0.623 \tind 13: 0.606 \tind 14: 0.628 \tind 15: 0.638 \tind 16: 0.717 \tind 17: 0.728 \tind 18: 0.635 \tind 19: 0.637 \t\n"
     ]
    },
    {
     "name": "stdout",
     "output_type": "stream",
     "text": [
      "2021-06-18 10:36:48,293 - modnet - INFO - Generation number 1\n"
     ]
    },
    {
     "name": "stderr",
     "output_type": "stream",
     "text": [
      "INFO:modnet:Generation number 1\n"
     ]
    },
    {
     "name": "stdout",
     "output_type": "stream",
     "text": [
      "2021-06-18 10:36:59,039 - modnet - INFO - Multiprocessing on 32 cores. Total of 32 cores available.\n"
     ]
    },
    {
     "name": "stderr",
     "output_type": "stream",
     "text": [
      "INFO:modnet:Multiprocessing on 32 cores. Total of 32 cores available.\n",
      "100%|██████████| 100/100 [13:05<00:00,  7.86s/it] "
     ]
    },
    {
     "name": "stdout",
     "output_type": "stream",
     "text": [
      "2021-06-18 10:50:04,913 - modnet - INFO - Loss per individual: ind 0: 0.621 \tind 1: 0.626 \tind 2: 0.616 \tind 3: 0.672 \tind 4: 0.616 \tind 5: 0.668 \tind 6: 0.616 \tind 7: 0.616 \tind 8: 0.633 \tind 9: 0.611 \tind 10: 0.635 \tind 11: 0.631 \tind 12: 0.742 \tind 13: 0.665 \tind 14: 0.656 \tind 15: 0.708 \tind 16: 0.629 \tind 17: 0.615 \tind 18: 0.625 \tind 19: 0.641 \t\n"
     ]
    },
    {
     "name": "stderr",
     "output_type": "stream",
     "text": [
      "\n",
      "INFO:modnet:Loss per individual: ind 0: 0.621 \tind 1: 0.626 \tind 2: 0.616 \tind 3: 0.672 \tind 4: 0.616 \tind 5: 0.668 \tind 6: 0.616 \tind 7: 0.616 \tind 8: 0.633 \tind 9: 0.611 \tind 10: 0.635 \tind 11: 0.631 \tind 12: 0.742 \tind 13: 0.665 \tind 14: 0.656 \tind 15: 0.708 \tind 16: 0.629 \tind 17: 0.615 \tind 18: 0.625 \tind 19: 0.641 \t\n"
     ]
    },
    {
     "name": "stdout",
     "output_type": "stream",
     "text": [
      "2021-06-18 10:50:07,442 - modnet - INFO - Generation number 2\n"
     ]
    },
    {
     "name": "stderr",
     "output_type": "stream",
     "text": [
      "INFO:modnet:Generation number 2\n"
     ]
    },
    {
     "name": "stdout",
     "output_type": "stream",
     "text": [
      "2021-06-18 10:50:18,954 - modnet - INFO - Multiprocessing on 32 cores. Total of 32 cores available.\n"
     ]
    },
    {
     "name": "stderr",
     "output_type": "stream",
     "text": [
      "INFO:modnet:Multiprocessing on 32 cores. Total of 32 cores available.\n",
      "100%|██████████| 100/100 [13:19<00:00,  7.99s/it]"
     ]
    },
    {
     "name": "stdout",
     "output_type": "stream",
     "text": [
      "2021-06-18 11:03:38,435 - modnet - INFO - Loss per individual: ind 0: 0.659 \tind 1: 0.619 \tind 2: 0.652 \tind 3: 0.620 \tind 4: 0.636 \tind 5: 0.603 \tind 6: 0.626 \tind 7: 0.632 \tind 8: 0.616 \tind 9: 0.660 \tind 10: 0.653 \tind 11: 0.607 \tind 12: 0.659 \tind 13: 0.629 \tind 14: 0.651 \tind 15: 0.651 \tind 16: 0.599 \tind 17: 0.636 \tind 18: 0.593 \tind 19: 0.678 \t\n"
     ]
    },
    {
     "name": "stderr",
     "output_type": "stream",
     "text": [
      "\n",
      "INFO:modnet:Loss per individual: ind 0: 0.659 \tind 1: 0.619 \tind 2: 0.652 \tind 3: 0.620 \tind 4: 0.636 \tind 5: 0.603 \tind 6: 0.626 \tind 7: 0.632 \tind 8: 0.616 \tind 9: 0.660 \tind 10: 0.653 \tind 11: 0.607 \tind 12: 0.659 \tind 13: 0.629 \tind 14: 0.651 \tind 15: 0.651 \tind 16: 0.599 \tind 17: 0.636 \tind 18: 0.593 \tind 19: 0.678 \t\n"
     ]
    },
    {
     "name": "stdout",
     "output_type": "stream",
     "text": [
      "2021-06-18 11:03:40,899 - modnet - INFO - Generation number 3\n"
     ]
    },
    {
     "name": "stderr",
     "output_type": "stream",
     "text": [
      "INFO:modnet:Generation number 3\n"
     ]
    },
    {
     "name": "stdout",
     "output_type": "stream",
     "text": [
      "2021-06-18 11:04:04,393 - modnet - INFO - Multiprocessing on 32 cores. Total of 32 cores available.\n"
     ]
    },
    {
     "name": "stderr",
     "output_type": "stream",
     "text": [
      "INFO:modnet:Multiprocessing on 32 cores. Total of 32 cores available.\n",
      "100%|██████████| 100/100 [12:06<00:00,  7.26s/it] "
     ]
    },
    {
     "name": "stdout",
     "output_type": "stream",
     "text": [
      "2021-06-18 11:16:10,523 - modnet - INFO - Loss per individual: ind 0: 0.604 \tind 1: 0.650 \tind 2: 0.637 \tind 3: 0.604 \tind 4: 0.636 \tind 5: 0.621 \tind 6: 0.623 \tind 7: 0.614 \tind 8: 0.689 \tind 9: 0.633 \tind 10: 0.607 \tind 11: 0.745 \tind 12: 0.699 \tind 13: 0.600 \tind 14: 0.914 \tind 15: 0.602 \tind 16: 0.625 \tind 17: 0.610 \tind 18: 0.677 \tind 19: 0.624 \t\n"
     ]
    },
    {
     "name": "stderr",
     "output_type": "stream",
     "text": [
      "\n",
      "INFO:modnet:Loss per individual: ind 0: 0.604 \tind 1: 0.650 \tind 2: 0.637 \tind 3: 0.604 \tind 4: 0.636 \tind 5: 0.621 \tind 6: 0.623 \tind 7: 0.614 \tind 8: 0.689 \tind 9: 0.633 \tind 10: 0.607 \tind 11: 0.745 \tind 12: 0.699 \tind 13: 0.600 \tind 14: 0.914 \tind 15: 0.602 \tind 16: 0.625 \tind 17: 0.610 \tind 18: 0.677 \tind 19: 0.624 \t\n"
     ]
    },
    {
     "name": "stdout",
     "output_type": "stream",
     "text": [
      "2021-06-18 11:16:13,102 - modnet - INFO - Generation number 4\n"
     ]
    },
    {
     "name": "stderr",
     "output_type": "stream",
     "text": [
      "INFO:modnet:Generation number 4\n"
     ]
    },
    {
     "name": "stdout",
     "output_type": "stream",
     "text": [
      "2021-06-18 11:16:24,903 - modnet - INFO - Multiprocessing on 32 cores. Total of 32 cores available.\n"
     ]
    },
    {
     "name": "stderr",
     "output_type": "stream",
     "text": [
      "INFO:modnet:Multiprocessing on 32 cores. Total of 32 cores available.\n",
      "100%|██████████| 100/100 [11:47<00:00,  7.08s/it] "
     ]
    },
    {
     "name": "stdout",
     "output_type": "stream",
     "text": [
      "2021-06-18 11:28:12,636 - modnet - INFO - Loss per individual: ind 0: 0.627 \tind 1: 0.616 \tind 2: 0.624 \tind 3: 0.598 \tind 4: 0.746 \tind 5: 0.625 \tind 6: 0.626 \tind 7: 0.598 \tind 8: 0.627 \tind 9: 0.655 \tind 10: 0.598 \tind 11: 0.601 \tind 12: 0.629 \tind 13: 0.654 \tind 14: 0.676 \tind 15: 0.616 \tind 16: 0.643 \tind 17: 0.611 \tind 18: 0.614 \tind 19: 0.602 \t\n"
     ]
    },
    {
     "name": "stderr",
     "output_type": "stream",
     "text": [
      "\n",
      "INFO:modnet:Loss per individual: ind 0: 0.627 \tind 1: 0.616 \tind 2: 0.624 \tind 3: 0.598 \tind 4: 0.746 \tind 5: 0.625 \tind 6: 0.626 \tind 7: 0.598 \tind 8: 0.627 \tind 9: 0.655 \tind 10: 0.598 \tind 11: 0.601 \tind 12: 0.629 \tind 13: 0.654 \tind 14: 0.676 \tind 15: 0.616 \tind 16: 0.643 \tind 17: 0.611 \tind 18: 0.614 \tind 19: 0.602 \t\n"
     ]
    },
    {
     "name": "stdout",
     "output_type": "stream",
     "text": [
      "2021-06-18 11:28:15,219 - modnet - INFO - Generation number 5\n"
     ]
    },
    {
     "name": "stderr",
     "output_type": "stream",
     "text": [
      "INFO:modnet:Generation number 5\n"
     ]
    },
    {
     "name": "stdout",
     "output_type": "stream",
     "text": [
      "2021-06-18 11:28:27,910 - modnet - INFO - Multiprocessing on 32 cores. Total of 32 cores available.\n"
     ]
    },
    {
     "name": "stderr",
     "output_type": "stream",
     "text": [
      "INFO:modnet:Multiprocessing on 32 cores. Total of 32 cores available.\n",
      "100%|██████████| 100/100 [11:08<00:00,  6.68s/it]"
     ]
    },
    {
     "name": "stdout",
     "output_type": "stream",
     "text": [
      "2021-06-18 11:39:36,425 - modnet - INFO - Loss per individual: ind 0: 0.591 \tind 1: 0.613 \tind 2: 0.582 \tind 3: 0.668 \tind 4: 0.619 \tind 5: 0.622 \tind 6: 0.631 \tind 7: 0.607 \tind 8: 0.609 \tind 9: 0.646 \tind 10: 0.641 \tind 11: 0.592 \tind 12: 0.691 \tind 13: 0.741 \tind 14: 0.655 \tind 15: 0.602 \tind 16: 0.653 \tind 17: 0.623 \tind 18: 0.623 \tind 19: 0.644 \t\n"
     ]
    },
    {
     "name": "stderr",
     "output_type": "stream",
     "text": [
      "\n",
      "INFO:modnet:Loss per individual: ind 0: 0.591 \tind 1: 0.613 \tind 2: 0.582 \tind 3: 0.668 \tind 4: 0.619 \tind 5: 0.622 \tind 6: 0.631 \tind 7: 0.607 \tind 8: 0.609 \tind 9: 0.646 \tind 10: 0.641 \tind 11: 0.592 \tind 12: 0.691 \tind 13: 0.741 \tind 14: 0.655 \tind 15: 0.602 \tind 16: 0.653 \tind 17: 0.623 \tind 18: 0.623 \tind 19: 0.644 \t\n"
     ]
    },
    {
     "name": "stdout",
     "output_type": "stream",
     "text": [
      "2021-06-18 11:39:38,949 - modnet - INFO - Generation number 6\n"
     ]
    },
    {
     "name": "stderr",
     "output_type": "stream",
     "text": [
      "INFO:modnet:Generation number 6\n"
     ]
    },
    {
     "name": "stdout",
     "output_type": "stream",
     "text": [
      "2021-06-18 11:39:52,644 - modnet - INFO - Multiprocessing on 32 cores. Total of 32 cores available.\n"
     ]
    },
    {
     "name": "stderr",
     "output_type": "stream",
     "text": [
      "INFO:modnet:Multiprocessing on 32 cores. Total of 32 cores available.\n",
      "100%|██████████| 100/100 [10:32<00:00,  6.32s/it] "
     ]
    },
    {
     "name": "stdout",
     "output_type": "stream",
     "text": [
      "2021-06-18 11:50:25,156 - modnet - INFO - Loss per individual: ind 0: 0.787 \tind 1: 0.666 \tind 2: 0.643 \tind 3: 0.628 \tind 4: 0.619 \tind 5: 0.603 \tind 6: 0.620 \tind 7: 0.645 \tind 8: 0.624 \tind 9: 0.744 \tind 10: 0.599 \tind 11: 0.591 \tind 12: 0.665 \tind 13: 0.593 \tind 14: 0.644 \tind 15: 0.676 \tind 16: 0.605 \tind 17: 0.624 \tind 18: 0.629 \tind 19: 0.638 \t\n"
     ]
    },
    {
     "name": "stderr",
     "output_type": "stream",
     "text": [
      "\n",
      "INFO:modnet:Loss per individual: ind 0: 0.787 \tind 1: 0.666 \tind 2: 0.643 \tind 3: 0.628 \tind 4: 0.619 \tind 5: 0.603 \tind 6: 0.620 \tind 7: 0.645 \tind 8: 0.624 \tind 9: 0.744 \tind 10: 0.599 \tind 11: 0.591 \tind 12: 0.665 \tind 13: 0.593 \tind 14: 0.644 \tind 15: 0.676 \tind 16: 0.605 \tind 17: 0.624 \tind 18: 0.629 \tind 19: 0.638 \t\n"
     ]
    },
    {
     "name": "stdout",
     "output_type": "stream",
     "text": [
      "2021-06-18 11:50:27,717 - modnet - INFO - Generation number 7\n"
     ]
    },
    {
     "name": "stderr",
     "output_type": "stream",
     "text": [
      "INFO:modnet:Generation number 7\n"
     ]
    },
    {
     "name": "stdout",
     "output_type": "stream",
     "text": [
      "2021-06-18 11:50:42,638 - modnet - INFO - Multiprocessing on 32 cores. Total of 32 cores available.\n"
     ]
    },
    {
     "name": "stderr",
     "output_type": "stream",
     "text": [
      "INFO:modnet:Multiprocessing on 32 cores. Total of 32 cores available.\n",
      "100%|██████████| 100/100 [12:38<00:00,  7.59s/it]"
     ]
    },
    {
     "name": "stdout",
     "output_type": "stream",
     "text": [
      "2021-06-18 12:03:21,669 - modnet - INFO - Loss per individual: ind 0: 0.596 \tind 1: 0.590 \tind 2: 0.638 \tind 3: 0.700 \tind 4: 0.608 \tind 5: 0.619 \tind 6: 0.626 \tind 7: 0.622 \tind 8: 0.638 \tind 9: 0.603 \tind 10: 0.626 \tind 11: 0.652 \tind 12: 0.610 \tind 13: 0.611 \tind 14: 0.609 \tind 15: 0.628 \tind 16: 0.617 \tind 17: 0.645 \tind 18: 0.622 \tind 19: 0.675 \t\n"
     ]
    },
    {
     "name": "stderr",
     "output_type": "stream",
     "text": [
      "\n",
      "INFO:modnet:Loss per individual: ind 0: 0.596 \tind 1: 0.590 \tind 2: 0.638 \tind 3: 0.700 \tind 4: 0.608 \tind 5: 0.619 \tind 6: 0.626 \tind 7: 0.622 \tind 8: 0.638 \tind 9: 0.603 \tind 10: 0.626 \tind 11: 0.652 \tind 12: 0.610 \tind 13: 0.611 \tind 14: 0.609 \tind 15: 0.628 \tind 16: 0.617 \tind 17: 0.645 \tind 18: 0.622 \tind 19: 0.675 \t\n"
     ]
    },
    {
     "name": "stdout",
     "output_type": "stream",
     "text": [
      "2021-06-18 12:03:24,258 - modnet - INFO - Generation number 8\n"
     ]
    },
    {
     "name": "stderr",
     "output_type": "stream",
     "text": [
      "INFO:modnet:Generation number 8\n"
     ]
    },
    {
     "name": "stdout",
     "output_type": "stream",
     "text": [
      "2021-06-18 12:03:39,886 - modnet - INFO - Multiprocessing on 32 cores. Total of 32 cores available.\n"
     ]
    },
    {
     "name": "stderr",
     "output_type": "stream",
     "text": [
      "INFO:modnet:Multiprocessing on 32 cores. Total of 32 cores available.\n",
      "100%|██████████| 100/100 [13:34<00:00,  8.15s/it] "
     ]
    },
    {
     "name": "stdout",
     "output_type": "stream",
     "text": [
      "2021-06-18 12:17:14,676 - modnet - INFO - Loss per individual: ind 0: 0.721 \tind 1: 0.605 \tind 2: 0.598 \tind 3: 0.693 \tind 4: 0.603 \tind 5: 0.597 \tind 6: 0.613 \tind 7: 0.646 \tind 8: 0.607 \tind 9: 0.625 \tind 10: 0.627 \tind 11: 0.638 \tind 12: 0.609 \tind 13: 0.594 \tind 14: 0.649 \tind 15: 0.672 \tind 16: 0.630 \tind 17: 0.664 \tind 18: 0.605 \tind 19: 0.593 \t\n"
     ]
    },
    {
     "name": "stderr",
     "output_type": "stream",
     "text": [
      "\n",
      "INFO:modnet:Loss per individual: ind 0: 0.721 \tind 1: 0.605 \tind 2: 0.598 \tind 3: 0.693 \tind 4: 0.603 \tind 5: 0.597 \tind 6: 0.613 \tind 7: 0.646 \tind 8: 0.607 \tind 9: 0.625 \tind 10: 0.627 \tind 11: 0.638 \tind 12: 0.609 \tind 13: 0.594 \tind 14: 0.649 \tind 15: 0.672 \tind 16: 0.630 \tind 17: 0.664 \tind 18: 0.605 \tind 19: 0.593 \t\n"
     ]
    },
    {
     "name": "stdout",
     "output_type": "stream",
     "text": [
      "2021-06-18 12:17:17,234 - modnet - INFO - Early stopping: same best model for 4 consecutive generations\n"
     ]
    },
    {
     "name": "stderr",
     "output_type": "stream",
     "text": [
      "INFO:modnet:Early stopping: same best model for 4 consecutive generations\n"
     ]
    },
    {
     "name": "stdout",
     "output_type": "stream",
     "text": [
      "Loaded 3 models\n",
      "43/43 [==============================] - 1s 2ms/step - loss: 8.2324 - accuracy: 0.6031\n",
      "MAE =\n",
      "1.4136301659910122\n",
      "2021-06-18 12:21:27,201 - modnet - INFO - Loaded <modnet.preprocessing.MODData object at 0x7f7ad34d7d60> object, created with modnet version 0.1.9\n"
     ]
    },
    {
     "name": "stderr",
     "output_type": "stream",
     "text": [
      "INFO:modnet:Loaded <modnet.preprocessing.MODData object at 0x7f7ad34d7d60> object, created with modnet version 0.1.9\n"
     ]
    },
    {
     "name": "stdout",
     "output_type": "stream",
     "text": [
      "2021-06-18 12:21:28,663 - modnet - INFO - Generation number 0\n"
     ]
    },
    {
     "name": "stderr",
     "output_type": "stream",
     "text": [
      "INFO:modnet:Generation number 0\n"
     ]
    },
    {
     "name": "stdout",
     "output_type": "stream",
     "text": [
      "2021-06-18 12:21:45,643 - modnet - INFO - Multiprocessing on 32 cores. Total of 32 cores available.\n"
     ]
    },
    {
     "name": "stderr",
     "output_type": "stream",
     "text": [
      "INFO:modnet:Multiprocessing on 32 cores. Total of 32 cores available.\n",
      "100%|██████████| 100/100 [13:25<00:00,  8.06s/it] "
     ]
    },
    {
     "name": "stdout",
     "output_type": "stream",
     "text": [
      "2021-06-18 12:35:11,190 - modnet - INFO - Loss per individual: ind 0: 0.680 \tind 1: 0.738 \tind 2: 0.627 \tind 3: 0.731 \tind 4: 0.715 \tind 5: 0.698 \tind 6: 0.602 \tind 7: 0.708 \tind 8: 0.736 \tind 9: 0.641 \tind 10: 0.706 \tind 11: 0.665 \tind 12: 0.653 \tind 13: 0.723 \tind 14: 0.628 \tind 15: 0.652 \tind 16: 0.751 \tind 17: 0.740 \tind 18: 0.710 \tind 19: 0.711 \t\n"
     ]
    },
    {
     "name": "stderr",
     "output_type": "stream",
     "text": [
      "\n",
      "INFO:modnet:Loss per individual: ind 0: 0.680 \tind 1: 0.738 \tind 2: 0.627 \tind 3: 0.731 \tind 4: 0.715 \tind 5: 0.698 \tind 6: 0.602 \tind 7: 0.708 \tind 8: 0.736 \tind 9: 0.641 \tind 10: 0.706 \tind 11: 0.665 \tind 12: 0.653 \tind 13: 0.723 \tind 14: 0.628 \tind 15: 0.652 \tind 16: 0.751 \tind 17: 0.740 \tind 18: 0.710 \tind 19: 0.711 \t\n"
     ]
    },
    {
     "name": "stdout",
     "output_type": "stream",
     "text": [
      "2021-06-18 12:35:13,748 - modnet - INFO - Generation number 1\n"
     ]
    },
    {
     "name": "stderr",
     "output_type": "stream",
     "text": [
      "INFO:modnet:Generation number 1\n"
     ]
    },
    {
     "name": "stdout",
     "output_type": "stream",
     "text": [
      "2021-06-18 12:35:30,357 - modnet - INFO - Multiprocessing on 32 cores. Total of 32 cores available.\n"
     ]
    },
    {
     "name": "stderr",
     "output_type": "stream",
     "text": [
      "INFO:modnet:Multiprocessing on 32 cores. Total of 32 cores available.\n",
      "100%|██████████| 100/100 [13:13<00:00,  7.93s/it]"
     ]
    },
    {
     "name": "stdout",
     "output_type": "stream",
     "text": [
      "2021-06-18 12:48:43,653 - modnet - INFO - Loss per individual: ind 0: 0.691 \tind 1: 0.646 \tind 2: 0.648 \tind 3: 0.695 \tind 4: 0.724 \tind 5: 0.656 \tind 6: 0.684 \tind 7: 0.608 \tind 8: 0.660 \tind 9: 0.720 \tind 10: 0.677 \tind 11: 0.716 \tind 12: 0.660 \tind 13: 0.640 \tind 14: 0.721 \tind 15: 0.638 \tind 16: 0.668 \tind 17: 0.625 \tind 18: 0.725 \tind 19: 0.594 \t\n"
     ]
    },
    {
     "name": "stderr",
     "output_type": "stream",
     "text": [
      "\n",
      "INFO:modnet:Loss per individual: ind 0: 0.691 \tind 1: 0.646 \tind 2: 0.648 \tind 3: 0.695 \tind 4: 0.724 \tind 5: 0.656 \tind 6: 0.684 \tind 7: 0.608 \tind 8: 0.660 \tind 9: 0.720 \tind 10: 0.677 \tind 11: 0.716 \tind 12: 0.660 \tind 13: 0.640 \tind 14: 0.721 \tind 15: 0.638 \tind 16: 0.668 \tind 17: 0.625 \tind 18: 0.725 \tind 19: 0.594 \t\n"
     ]
    },
    {
     "name": "stdout",
     "output_type": "stream",
     "text": [
      "2021-06-18 12:48:46,323 - modnet - INFO - Generation number 2\n"
     ]
    },
    {
     "name": "stderr",
     "output_type": "stream",
     "text": [
      "INFO:modnet:Generation number 2\n"
     ]
    },
    {
     "name": "stdout",
     "output_type": "stream",
     "text": [
      "2021-06-18 12:49:02,960 - modnet - INFO - Multiprocessing on 32 cores. Total of 32 cores available.\n"
     ]
    },
    {
     "name": "stderr",
     "output_type": "stream",
     "text": [
      "INFO:modnet:Multiprocessing on 32 cores. Total of 32 cores available.\n",
      "100%|██████████| 100/100 [12:36<00:00,  7.57s/it]"
     ]
    },
    {
     "name": "stdout",
     "output_type": "stream",
     "text": [
      "2021-06-18 13:01:39,659 - modnet - INFO - Loss per individual: ind 0: 0.684 \tind 1: 0.712 \tind 2: 0.649 \tind 3: 0.623 \tind 4: 0.743 \tind 5: 0.618 \tind 6: 0.640 \tind 7: 0.670 \tind 8: 0.697 \tind 9: 0.696 \tind 10: 0.662 \tind 11: 0.678 \tind 12: 0.674 \tind 13: 0.618 \tind 14: 0.659 \tind 15: 0.696 \tind 16: 0.664 \tind 17: 0.637 \tind 18: 0.681 \tind 19: 0.675 \t\n"
     ]
    },
    {
     "name": "stderr",
     "output_type": "stream",
     "text": [
      "\n",
      "INFO:modnet:Loss per individual: ind 0: 0.684 \tind 1: 0.712 \tind 2: 0.649 \tind 3: 0.623 \tind 4: 0.743 \tind 5: 0.618 \tind 6: 0.640 \tind 7: 0.670 \tind 8: 0.697 \tind 9: 0.696 \tind 10: 0.662 \tind 11: 0.678 \tind 12: 0.674 \tind 13: 0.618 \tind 14: 0.659 \tind 15: 0.696 \tind 16: 0.664 \tind 17: 0.637 \tind 18: 0.681 \tind 19: 0.675 \t\n"
     ]
    },
    {
     "name": "stdout",
     "output_type": "stream",
     "text": [
      "2021-06-18 13:01:42,241 - modnet - INFO - Generation number 3\n"
     ]
    },
    {
     "name": "stderr",
     "output_type": "stream",
     "text": [
      "INFO:modnet:Generation number 3\n"
     ]
    },
    {
     "name": "stdout",
     "output_type": "stream",
     "text": [
      "2021-06-18 13:01:59,610 - modnet - INFO - Multiprocessing on 32 cores. Total of 32 cores available.\n"
     ]
    },
    {
     "name": "stderr",
     "output_type": "stream",
     "text": [
      "INFO:modnet:Multiprocessing on 32 cores. Total of 32 cores available.\n",
      "100%|██████████| 100/100 [14:40<00:00,  8.81s/it] "
     ]
    },
    {
     "name": "stdout",
     "output_type": "stream",
     "text": [
      "2021-06-18 13:16:40,223 - modnet - INFO - Loss per individual: ind 0: 0.622 \tind 1: 0.658 \tind 2: 0.660 \tind 3: 0.715 \tind 4: 0.719 \tind 5: 0.765 \tind 6: 0.686 \tind 7: 0.710 \tind 8: 0.716 \tind 9: 0.672 \tind 10: 0.804 \tind 11: 0.633 \tind 12: 0.645 \tind 13: 0.644 \tind 14: 0.652 \tind 15: 0.632 \tind 16: 0.682 \tind 17: 0.638 \tind 18: 0.639 \tind 19: 0.628 \t\n"
     ]
    },
    {
     "name": "stderr",
     "output_type": "stream",
     "text": [
      "\n",
      "INFO:modnet:Loss per individual: ind 0: 0.622 \tind 1: 0.658 \tind 2: 0.660 \tind 3: 0.715 \tind 4: 0.719 \tind 5: 0.765 \tind 6: 0.686 \tind 7: 0.710 \tind 8: 0.716 \tind 9: 0.672 \tind 10: 0.804 \tind 11: 0.633 \tind 12: 0.645 \tind 13: 0.644 \tind 14: 0.652 \tind 15: 0.632 \tind 16: 0.682 \tind 17: 0.638 \tind 18: 0.639 \tind 19: 0.628 \t\n"
     ]
    },
    {
     "name": "stdout",
     "output_type": "stream",
     "text": [
      "2021-06-18 13:16:42,833 - modnet - INFO - Generation number 4\n"
     ]
    },
    {
     "name": "stderr",
     "output_type": "stream",
     "text": [
      "INFO:modnet:Generation number 4\n"
     ]
    },
    {
     "name": "stdout",
     "output_type": "stream",
     "text": [
      "2021-06-18 13:17:00,005 - modnet - INFO - Multiprocessing on 32 cores. Total of 32 cores available.\n"
     ]
    },
    {
     "name": "stderr",
     "output_type": "stream",
     "text": [
      "INFO:modnet:Multiprocessing on 32 cores. Total of 32 cores available.\n",
      "100%|██████████| 100/100 [14:31<00:00,  8.72s/it] "
     ]
    },
    {
     "name": "stdout",
     "output_type": "stream",
     "text": [
      "2021-06-18 13:31:31,905 - modnet - INFO - Loss per individual: ind 0: 0.626 \tind 1: 0.668 \tind 2: 0.648 \tind 3: 0.637 \tind 4: 0.732 \tind 5: 0.614 \tind 6: 0.690 \tind 7: 0.624 \tind 8: 0.834 \tind 9: 0.647 \tind 10: 0.704 \tind 11: 0.631 \tind 12: 0.811 \tind 13: 0.618 \tind 14: 0.646 \tind 15: 0.663 \tind 16: 0.688 \tind 17: 0.628 \tind 18: 0.675 \tind 19: 0.639 \t\n"
     ]
    },
    {
     "name": "stderr",
     "output_type": "stream",
     "text": [
      "\n",
      "INFO:modnet:Loss per individual: ind 0: 0.626 \tind 1: 0.668 \tind 2: 0.648 \tind 3: 0.637 \tind 4: 0.732 \tind 5: 0.614 \tind 6: 0.690 \tind 7: 0.624 \tind 8: 0.834 \tind 9: 0.647 \tind 10: 0.704 \tind 11: 0.631 \tind 12: 0.811 \tind 13: 0.618 \tind 14: 0.646 \tind 15: 0.663 \tind 16: 0.688 \tind 17: 0.628 \tind 18: 0.675 \tind 19: 0.639 \t\n"
     ]
    },
    {
     "name": "stdout",
     "output_type": "stream",
     "text": [
      "2021-06-18 13:31:34,288 - modnet - INFO - Early stopping: same best model for 4 consecutive generations\n"
     ]
    },
    {
     "name": "stderr",
     "output_type": "stream",
     "text": [
      "INFO:modnet:Early stopping: same best model for 4 consecutive generations\n"
     ]
    },
    {
     "name": "stdout",
     "output_type": "stream",
     "text": [
      "Loaded 3 models\n",
      "43/43 [==============================] - 1s 1ms/step - loss: 1.3693 - accuracy: 0.6045\n",
      "MAE =\n",
      "0.5519436506798038\n",
      "2021-06-18 13:35:38,926 - modnet - INFO - Loaded <modnet.preprocessing.MODData object at 0x7f7cad070430> object, created with modnet version 0.1.9\n"
     ]
    },
    {
     "name": "stderr",
     "output_type": "stream",
     "text": [
      "INFO:modnet:Loaded <modnet.preprocessing.MODData object at 0x7f7cad070430> object, created with modnet version 0.1.9\n"
     ]
    },
    {
     "name": "stdout",
     "output_type": "stream",
     "text": [
      "2021-06-18 13:35:39,886 - modnet - INFO - Generation number 0\n"
     ]
    },
    {
     "name": "stderr",
     "output_type": "stream",
     "text": [
      "INFO:modnet:Generation number 0\n"
     ]
    },
    {
     "name": "stdout",
     "output_type": "stream",
     "text": [
      "2021-06-18 13:35:55,810 - modnet - INFO - Multiprocessing on 32 cores. Total of 32 cores available.\n"
     ]
    },
    {
     "name": "stderr",
     "output_type": "stream",
     "text": [
      "INFO:modnet:Multiprocessing on 32 cores. Total of 32 cores available.\n",
      "100%|██████████| 100/100 [11:04<00:00,  6.65s/it]"
     ]
    },
    {
     "name": "stdout",
     "output_type": "stream",
     "text": [
      "2021-06-18 13:47:00,553 - modnet - INFO - Loss per individual: ind 0: 0.698 \tind 1: 0.675 \tind 2: 0.675 \tind 3: 0.617 \tind 4: 0.670 \tind 5: 3.585 \tind 6: 0.612 \tind 7: 0.650 \tind 8: 4.719 \tind 9: 0.890 \tind 10: 0.596 \tind 11: 0.700 \tind 12: 3.734 \tind 13: 0.611 \tind 14: 0.641 \tind 15: 0.628 \tind 16: 0.672 \tind 17: 0.618 \tind 18: 0.631 \tind 19: 0.640 \t\n"
     ]
    },
    {
     "name": "stderr",
     "output_type": "stream",
     "text": [
      "\n",
      "INFO:modnet:Loss per individual: ind 0: 0.698 \tind 1: 0.675 \tind 2: 0.675 \tind 3: 0.617 \tind 4: 0.670 \tind 5: 3.585 \tind 6: 0.612 \tind 7: 0.650 \tind 8: 4.719 \tind 9: 0.890 \tind 10: 0.596 \tind 11: 0.700 \tind 12: 3.734 \tind 13: 0.611 \tind 14: 0.641 \tind 15: 0.628 \tind 16: 0.672 \tind 17: 0.618 \tind 18: 0.631 \tind 19: 0.640 \t\n"
     ]
    },
    {
     "name": "stdout",
     "output_type": "stream",
     "text": [
      "2021-06-18 13:47:03,191 - modnet - INFO - Generation number 1\n"
     ]
    },
    {
     "name": "stderr",
     "output_type": "stream",
     "text": [
      "INFO:modnet:Generation number 1\n"
     ]
    },
    {
     "name": "stdout",
     "output_type": "stream",
     "text": [
      "2021-06-18 13:47:18,583 - modnet - INFO - Multiprocessing on 32 cores. Total of 32 cores available.\n"
     ]
    },
    {
     "name": "stderr",
     "output_type": "stream",
     "text": [
      "INFO:modnet:Multiprocessing on 32 cores. Total of 32 cores available.\n",
      "100%|██████████| 100/100 [11:47<00:00,  7.08s/it]"
     ]
    },
    {
     "name": "stdout",
     "output_type": "stream",
     "text": [
      "2021-06-18 13:59:06,440 - modnet - INFO - Loss per individual: ind 0: 0.602 \tind 1: 0.647 \tind 2: 0.674 \tind 3: 0.623 \tind 4: 0.607 \tind 5: 0.643 \tind 6: 0.616 \tind 7: 0.615 \tind 8: 0.609 \tind 9: 0.680 \tind 10: 0.635 \tind 11: 0.652 \tind 12: 0.616 \tind 13: 0.631 \tind 14: 0.627 \tind 15: 0.647 \tind 16: 0.638 \tind 17: 0.624 \tind 18: 0.652 \tind 19: 0.617 \t\n"
     ]
    },
    {
     "name": "stderr",
     "output_type": "stream",
     "text": [
      "\n",
      "INFO:modnet:Loss per individual: ind 0: 0.602 \tind 1: 0.647 \tind 2: 0.674 \tind 3: 0.623 \tind 4: 0.607 \tind 5: 0.643 \tind 6: 0.616 \tind 7: 0.615 \tind 8: 0.609 \tind 9: 0.680 \tind 10: 0.635 \tind 11: 0.652 \tind 12: 0.616 \tind 13: 0.631 \tind 14: 0.627 \tind 15: 0.647 \tind 16: 0.638 \tind 17: 0.624 \tind 18: 0.652 \tind 19: 0.617 \t\n"
     ]
    },
    {
     "name": "stdout",
     "output_type": "stream",
     "text": [
      "2021-06-18 13:59:08,802 - modnet - INFO - Generation number 2\n"
     ]
    },
    {
     "name": "stderr",
     "output_type": "stream",
     "text": [
      "INFO:modnet:Generation number 2\n"
     ]
    },
    {
     "name": "stdout",
     "output_type": "stream",
     "text": [
      "2021-06-18 13:59:24,571 - modnet - INFO - Multiprocessing on 32 cores. Total of 32 cores available.\n"
     ]
    },
    {
     "name": "stderr",
     "output_type": "stream",
     "text": [
      "INFO:modnet:Multiprocessing on 32 cores. Total of 32 cores available.\n",
      "100%|██████████| 100/100 [10:47<00:00,  6.47s/it]"
     ]
    },
    {
     "name": "stdout",
     "output_type": "stream",
     "text": [
      "2021-06-18 14:10:11,825 - modnet - INFO - Loss per individual: ind 0: 0.620 \tind 1: 0.611 \tind 2: 0.647 \tind 3: 0.670 \tind 4: 0.634 \tind 5: 0.653 \tind 6: 0.632 \tind 7: 0.639 \tind 8: 0.673 \tind 9: 0.635 \tind 10: 0.730 \tind 11: 0.663 \tind 12: 0.610 \tind 13: 0.606 \tind 14: 0.610 \tind 15: 0.610 \tind 16: 0.640 \tind 17: 0.634 \tind 18: 0.714 \tind 19: 0.640 \t\n"
     ]
    },
    {
     "name": "stderr",
     "output_type": "stream",
     "text": [
      "\n",
      "INFO:modnet:Loss per individual: ind 0: 0.620 \tind 1: 0.611 \tind 2: 0.647 \tind 3: 0.670 \tind 4: 0.634 \tind 5: 0.653 \tind 6: 0.632 \tind 7: 0.639 \tind 8: 0.673 \tind 9: 0.635 \tind 10: 0.730 \tind 11: 0.663 \tind 12: 0.610 \tind 13: 0.606 \tind 14: 0.610 \tind 15: 0.610 \tind 16: 0.640 \tind 17: 0.634 \tind 18: 0.714 \tind 19: 0.640 \t\n"
     ]
    },
    {
     "name": "stdout",
     "output_type": "stream",
     "text": [
      "2021-06-18 14:10:14,328 - modnet - INFO - Generation number 3\n"
     ]
    },
    {
     "name": "stderr",
     "output_type": "stream",
     "text": [
      "INFO:modnet:Generation number 3\n"
     ]
    },
    {
     "name": "stdout",
     "output_type": "stream",
     "text": [
      "2021-06-18 14:10:29,777 - modnet - INFO - Multiprocessing on 32 cores. Total of 32 cores available.\n"
     ]
    },
    {
     "name": "stderr",
     "output_type": "stream",
     "text": [
      "INFO:modnet:Multiprocessing on 32 cores. Total of 32 cores available.\n",
      "100%|██████████| 100/100 [13:57<00:00,  8.38s/it] "
     ]
    },
    {
     "name": "stdout",
     "output_type": "stream",
     "text": [
      "2021-06-18 14:24:27,405 - modnet - INFO - Loss per individual: ind 0: 0.598 \tind 1: 0.651 \tind 2: 0.651 \tind 3: 0.675 \tind 4: 0.648 \tind 5: 0.662 \tind 6: 0.624 \tind 7: 0.621 \tind 8: 0.679 \tind 9: 0.606 \tind 10: 0.597 \tind 11: 0.597 \tind 12: 0.625 \tind 13: 0.598 \tind 14: 0.670 \tind 15: 0.610 \tind 16: 0.601 \tind 17: 0.617 \tind 18: 0.619 \tind 19: 0.622 \t\n"
     ]
    },
    {
     "name": "stderr",
     "output_type": "stream",
     "text": [
      "\n",
      "INFO:modnet:Loss per individual: ind 0: 0.598 \tind 1: 0.651 \tind 2: 0.651 \tind 3: 0.675 \tind 4: 0.648 \tind 5: 0.662 \tind 6: 0.624 \tind 7: 0.621 \tind 8: 0.679 \tind 9: 0.606 \tind 10: 0.597 \tind 11: 0.597 \tind 12: 0.625 \tind 13: 0.598 \tind 14: 0.670 \tind 15: 0.610 \tind 16: 0.601 \tind 17: 0.617 \tind 18: 0.619 \tind 19: 0.622 \t\n"
     ]
    },
    {
     "name": "stdout",
     "output_type": "stream",
     "text": [
      "2021-06-18 14:24:29,915 - modnet - INFO - Early stopping: same best model for 4 consecutive generations\n"
     ]
    },
    {
     "name": "stderr",
     "output_type": "stream",
     "text": [
      "INFO:modnet:Early stopping: same best model for 4 consecutive generations\n"
     ]
    },
    {
     "name": "stdout",
     "output_type": "stream",
     "text": [
      "Loaded 3 models\n",
      "43/43 [==============================] - 1s 1ms/step - loss: 3.6870 - accuracy: 0.5883\n",
      "MAE =\n",
      "0.9712522695620238\n",
      "2021-06-18 14:28:34,149 - modnet - INFO - Loaded <modnet.preprocessing.MODData object at 0x7f7b89c9c0d0> object, created with modnet version 0.1.9\n"
     ]
    },
    {
     "name": "stderr",
     "output_type": "stream",
     "text": [
      "INFO:modnet:Loaded <modnet.preprocessing.MODData object at 0x7f7b89c9c0d0> object, created with modnet version 0.1.9\n"
     ]
    },
    {
     "name": "stdout",
     "output_type": "stream",
     "text": [
      "2021-06-18 14:28:35,608 - modnet - INFO - Generation number 0\n"
     ]
    },
    {
     "name": "stderr",
     "output_type": "stream",
     "text": [
      "INFO:modnet:Generation number 0\n"
     ]
    },
    {
     "name": "stdout",
     "output_type": "stream",
     "text": [
      "2021-06-18 14:28:51,253 - modnet - INFO - Multiprocessing on 32 cores. Total of 32 cores available.\n"
     ]
    },
    {
     "name": "stderr",
     "output_type": "stream",
     "text": [
      "INFO:modnet:Multiprocessing on 32 cores. Total of 32 cores available.\n",
      "100%|██████████| 100/100 [09:33<00:00,  5.74s/it]"
     ]
    },
    {
     "name": "stdout",
     "output_type": "stream",
     "text": [
      "2021-06-18 14:38:25,149 - modnet - INFO - Loss per individual: ind 0: 0.641 \tind 1: 0.626 \tind 2: 0.632 \tind 3: 1.898 \tind 4: 0.697 \tind 5: 0.639 \tind 6: 0.607 \tind 7: 0.601 \tind 8: 0.610 \tind 9: 0.652 \tind 10: 0.685 \tind 11: 0.644 \tind 12: 1.682 \tind 13: 0.606 \tind 14: 0.605 \tind 15: 4.638 \tind 16: 0.627 \tind 17: 0.697 \tind 18: 0.637 \tind 19: 2.928 \t\n"
     ]
    },
    {
     "name": "stderr",
     "output_type": "stream",
     "text": [
      "\n",
      "INFO:modnet:Loss per individual: ind 0: 0.641 \tind 1: 0.626 \tind 2: 0.632 \tind 3: 1.898 \tind 4: 0.697 \tind 5: 0.639 \tind 6: 0.607 \tind 7: 0.601 \tind 8: 0.610 \tind 9: 0.652 \tind 10: 0.685 \tind 11: 0.644 \tind 12: 1.682 \tind 13: 0.606 \tind 14: 0.605 \tind 15: 4.638 \tind 16: 0.627 \tind 17: 0.697 \tind 18: 0.637 \tind 19: 2.928 \t\n"
     ]
    },
    {
     "name": "stdout",
     "output_type": "stream",
     "text": [
      "2021-06-18 14:38:27,439 - modnet - INFO - Generation number 1\n"
     ]
    },
    {
     "name": "stderr",
     "output_type": "stream",
     "text": [
      "INFO:modnet:Generation number 1\n"
     ]
    },
    {
     "name": "stdout",
     "output_type": "stream",
     "text": [
      "2021-06-18 14:38:42,747 - modnet - INFO - Multiprocessing on 32 cores. Total of 32 cores available.\n"
     ]
    },
    {
     "name": "stderr",
     "output_type": "stream",
     "text": [
      "INFO:modnet:Multiprocessing on 32 cores. Total of 32 cores available.\n",
      "100%|██████████| 100/100 [11:19<00:00,  6.80s/it]"
     ]
    },
    {
     "name": "stdout",
     "output_type": "stream",
     "text": [
      "2021-06-18 14:50:02,632 - modnet - INFO - Loss per individual: ind 0: 0.697 \tind 1: 0.668 \tind 2: 0.615 \tind 3: 0.717 \tind 4: 0.671 \tind 5: 0.687 \tind 6: 0.929 \tind 7: 0.602 \tind 8: 0.597 \tind 9: 0.676 \tind 10: 0.661 \tind 11: 0.617 \tind 12: 0.670 \tind 13: 0.661 \tind 14: 0.597 \tind 15: 0.711 \tind 16: 0.606 \tind 17: 0.672 \tind 18: 0.628 \tind 19: 0.613 \t\n"
     ]
    },
    {
     "name": "stderr",
     "output_type": "stream",
     "text": [
      "\n",
      "INFO:modnet:Loss per individual: ind 0: 0.697 \tind 1: 0.668 \tind 2: 0.615 \tind 3: 0.717 \tind 4: 0.671 \tind 5: 0.687 \tind 6: 0.929 \tind 7: 0.602 \tind 8: 0.597 \tind 9: 0.676 \tind 10: 0.661 \tind 11: 0.617 \tind 12: 0.670 \tind 13: 0.661 \tind 14: 0.597 \tind 15: 0.711 \tind 16: 0.606 \tind 17: 0.672 \tind 18: 0.628 \tind 19: 0.613 \t\n"
     ]
    },
    {
     "name": "stdout",
     "output_type": "stream",
     "text": [
      "2021-06-18 14:50:05,181 - modnet - INFO - Generation number 2\n"
     ]
    },
    {
     "name": "stderr",
     "output_type": "stream",
     "text": [
      "INFO:modnet:Generation number 2\n"
     ]
    },
    {
     "name": "stdout",
     "output_type": "stream",
     "text": [
      "2021-06-18 14:50:20,555 - modnet - INFO - Multiprocessing on 32 cores. Total of 32 cores available.\n"
     ]
    },
    {
     "name": "stderr",
     "output_type": "stream",
     "text": [
      "INFO:modnet:Multiprocessing on 32 cores. Total of 32 cores available.\n",
      "100%|██████████| 100/100 [10:17<00:00,  6.17s/it]"
     ]
    },
    {
     "name": "stdout",
     "output_type": "stream",
     "text": [
      "2021-06-18 15:00:37,995 - modnet - INFO - Loss per individual: ind 0: 0.706 \tind 1: 0.636 \tind 2: 0.611 \tind 3: 0.608 \tind 4: 0.618 \tind 5: 0.595 \tind 6: 0.617 \tind 7: 0.639 \tind 8: 0.610 \tind 9: 0.605 \tind 10: 0.636 \tind 11: 0.596 \tind 12: 0.594 \tind 13: 0.625 \tind 14: 0.632 \tind 15: 0.611 \tind 16: 0.657 \tind 17: 0.620 \tind 18: 0.708 \tind 19: 0.573 \t\n"
     ]
    },
    {
     "name": "stderr",
     "output_type": "stream",
     "text": [
      "\n",
      "INFO:modnet:Loss per individual: ind 0: 0.706 \tind 1: 0.636 \tind 2: 0.611 \tind 3: 0.608 \tind 4: 0.618 \tind 5: 0.595 \tind 6: 0.617 \tind 7: 0.639 \tind 8: 0.610 \tind 9: 0.605 \tind 10: 0.636 \tind 11: 0.596 \tind 12: 0.594 \tind 13: 0.625 \tind 14: 0.632 \tind 15: 0.611 \tind 16: 0.657 \tind 17: 0.620 \tind 18: 0.708 \tind 19: 0.573 \t\n"
     ]
    },
    {
     "name": "stdout",
     "output_type": "stream",
     "text": [
      "2021-06-18 15:00:40,593 - modnet - INFO - Generation number 3\n"
     ]
    },
    {
     "name": "stderr",
     "output_type": "stream",
     "text": [
      "INFO:modnet:Generation number 3\n"
     ]
    },
    {
     "name": "stdout",
     "output_type": "stream",
     "text": [
      "2021-06-18 15:00:56,079 - modnet - INFO - Multiprocessing on 32 cores. Total of 32 cores available.\n"
     ]
    },
    {
     "name": "stderr",
     "output_type": "stream",
     "text": [
      "INFO:modnet:Multiprocessing on 32 cores. Total of 32 cores available.\n",
      "100%|██████████| 100/100 [11:10<00:00,  6.71s/it]"
     ]
    },
    {
     "name": "stdout",
     "output_type": "stream",
     "text": [
      "2021-06-18 15:12:06,799 - modnet - INFO - Loss per individual: ind 0: 0.651 \tind 1: 0.651 \tind 2: 0.698 \tind 3: 0.643 \tind 4: 0.673 \tind 5: 0.592 \tind 6: 0.601 \tind 7: 0.660 \tind 8: 0.616 \tind 9: 0.649 \tind 10: 0.611 \tind 11: 0.624 \tind 12: 0.653 \tind 13: 0.635 \tind 14: 0.650 \tind 15: 0.638 \tind 16: 0.583 \tind 17: 0.617 \tind 18: 0.666 \tind 19: 0.647 \t\n"
     ]
    },
    {
     "name": "stderr",
     "output_type": "stream",
     "text": [
      "\n",
      "INFO:modnet:Loss per individual: ind 0: 0.651 \tind 1: 0.651 \tind 2: 0.698 \tind 3: 0.643 \tind 4: 0.673 \tind 5: 0.592 \tind 6: 0.601 \tind 7: 0.660 \tind 8: 0.616 \tind 9: 0.649 \tind 10: 0.611 \tind 11: 0.624 \tind 12: 0.653 \tind 13: 0.635 \tind 14: 0.650 \tind 15: 0.638 \tind 16: 0.583 \tind 17: 0.617 \tind 18: 0.666 \tind 19: 0.647 \t\n"
     ]
    },
    {
     "name": "stdout",
     "output_type": "stream",
     "text": [
      "2021-06-18 15:12:09,240 - modnet - INFO - Generation number 4\n"
     ]
    },
    {
     "name": "stderr",
     "output_type": "stream",
     "text": [
      "INFO:modnet:Generation number 4\n"
     ]
    },
    {
     "name": "stdout",
     "output_type": "stream",
     "text": [
      "2021-06-18 15:12:25,388 - modnet - INFO - Multiprocessing on 32 cores. Total of 32 cores available.\n"
     ]
    },
    {
     "name": "stderr",
     "output_type": "stream",
     "text": [
      "INFO:modnet:Multiprocessing on 32 cores. Total of 32 cores available.\n",
      "100%|██████████| 100/100 [12:07<00:00,  7.28s/it]"
     ]
    },
    {
     "name": "stdout",
     "output_type": "stream",
     "text": [
      "2021-06-18 15:24:33,172 - modnet - INFO - Loss per individual: ind 0: 0.643 \tind 1: 0.596 \tind 2: 0.604 \tind 3: 0.605 \tind 4: 0.680 \tind 5: 0.663 \tind 6: 0.692 \tind 7: 0.614 \tind 8: 0.601 \tind 9: 0.638 \tind 10: 0.674 \tind 11: 0.614 \tind 12: 0.641 \tind 13: 0.699 \tind 14: 0.704 \tind 15: 0.691 \tind 16: 0.573 \tind 17: 0.697 \tind 18: 0.635 \tind 19: 0.602 \t\n"
     ]
    },
    {
     "name": "stderr",
     "output_type": "stream",
     "text": [
      "\n",
      "INFO:modnet:Loss per individual: ind 0: 0.643 \tind 1: 0.596 \tind 2: 0.604 \tind 3: 0.605 \tind 4: 0.680 \tind 5: 0.663 \tind 6: 0.692 \tind 7: 0.614 \tind 8: 0.601 \tind 9: 0.638 \tind 10: 0.674 \tind 11: 0.614 \tind 12: 0.641 \tind 13: 0.699 \tind 14: 0.704 \tind 15: 0.691 \tind 16: 0.573 \tind 17: 0.697 \tind 18: 0.635 \tind 19: 0.602 \t\n"
     ]
    },
    {
     "name": "stdout",
     "output_type": "stream",
     "text": [
      "2021-06-18 15:24:35,775 - modnet - INFO - Generation number 5\n"
     ]
    },
    {
     "name": "stderr",
     "output_type": "stream",
     "text": [
      "INFO:modnet:Generation number 5\n"
     ]
    },
    {
     "name": "stdout",
     "output_type": "stream",
     "text": [
      "2021-06-18 15:24:51,799 - modnet - INFO - Multiprocessing on 32 cores. Total of 32 cores available.\n"
     ]
    },
    {
     "name": "stderr",
     "output_type": "stream",
     "text": [
      "INFO:modnet:Multiprocessing on 32 cores. Total of 32 cores available.\n",
      "100%|██████████| 100/100 [11:07<00:00,  6.68s/it]"
     ]
    },
    {
     "name": "stdout",
     "output_type": "stream",
     "text": [
      "2021-06-18 15:35:59,750 - modnet - INFO - Loss per individual: ind 0: 0.620 \tind 1: 0.580 \tind 2: 0.605 \tind 3: 0.602 \tind 4: 0.625 \tind 5: 0.611 \tind 6: 0.598 \tind 7: 0.592 \tind 8: 0.577 \tind 9: 0.599 \tind 10: 0.571 \tind 11: 0.685 \tind 12: 0.668 \tind 13: 0.619 \tind 14: 0.654 \tind 15: 0.610 \tind 16: 0.599 \tind 17: 0.633 \tind 18: 0.649 \tind 19: 0.609 \t\n"
     ]
    },
    {
     "name": "stderr",
     "output_type": "stream",
     "text": [
      "\n",
      "INFO:modnet:Loss per individual: ind 0: 0.620 \tind 1: 0.580 \tind 2: 0.605 \tind 3: 0.602 \tind 4: 0.625 \tind 5: 0.611 \tind 6: 0.598 \tind 7: 0.592 \tind 8: 0.577 \tind 9: 0.599 \tind 10: 0.571 \tind 11: 0.685 \tind 12: 0.668 \tind 13: 0.619 \tind 14: 0.654 \tind 15: 0.610 \tind 16: 0.599 \tind 17: 0.633 \tind 18: 0.649 \tind 19: 0.609 \t\n"
     ]
    },
    {
     "name": "stdout",
     "output_type": "stream",
     "text": [
      "2021-06-18 15:36:02,351 - modnet - INFO - Generation number 6\n"
     ]
    },
    {
     "name": "stderr",
     "output_type": "stream",
     "text": [
      "INFO:modnet:Generation number 6\n"
     ]
    },
    {
     "name": "stdout",
     "output_type": "stream",
     "text": [
      "2021-06-18 15:36:18,385 - modnet - INFO - Multiprocessing on 32 cores. Total of 32 cores available.\n"
     ]
    },
    {
     "name": "stderr",
     "output_type": "stream",
     "text": [
      "INFO:modnet:Multiprocessing on 32 cores. Total of 32 cores available.\n",
      "100%|██████████| 100/100 [10:15<00:00,  6.16s/it]"
     ]
    },
    {
     "name": "stdout",
     "output_type": "stream",
     "text": [
      "2021-06-18 15:46:34,103 - modnet - INFO - Loss per individual: ind 0: 0.616 \tind 1: 0.615 \tind 2: 0.583 \tind 3: 0.606 \tind 4: 0.638 \tind 5: 0.649 \tind 6: 0.594 \tind 7: 0.625 \tind 8: 0.598 \tind 9: 0.645 \tind 10: 0.581 \tind 11: 0.698 \tind 12: 0.686 \tind 13: 0.637 \tind 14: 0.614 \tind 15: 0.631 \tind 16: 0.663 \tind 17: 0.631 \tind 18: 0.659 \tind 19: 0.602 \t\n"
     ]
    },
    {
     "name": "stderr",
     "output_type": "stream",
     "text": [
      "\n",
      "INFO:modnet:Loss per individual: ind 0: 0.616 \tind 1: 0.615 \tind 2: 0.583 \tind 3: 0.606 \tind 4: 0.638 \tind 5: 0.649 \tind 6: 0.594 \tind 7: 0.625 \tind 8: 0.598 \tind 9: 0.645 \tind 10: 0.581 \tind 11: 0.698 \tind 12: 0.686 \tind 13: 0.637 \tind 14: 0.614 \tind 15: 0.631 \tind 16: 0.663 \tind 17: 0.631 \tind 18: 0.659 \tind 19: 0.602 \t\n"
     ]
    },
    {
     "name": "stdout",
     "output_type": "stream",
     "text": [
      "2021-06-18 15:46:36,542 - modnet - INFO - Generation number 7\n"
     ]
    },
    {
     "name": "stderr",
     "output_type": "stream",
     "text": [
      "INFO:modnet:Generation number 7\n"
     ]
    },
    {
     "name": "stdout",
     "output_type": "stream",
     "text": [
      "2021-06-18 15:46:52,916 - modnet - INFO - Multiprocessing on 32 cores. Total of 32 cores available.\n"
     ]
    },
    {
     "name": "stderr",
     "output_type": "stream",
     "text": [
      "INFO:modnet:Multiprocessing on 32 cores. Total of 32 cores available.\n",
      "100%|██████████| 100/100 [11:11<00:00,  6.72s/it]"
     ]
    },
    {
     "name": "stdout",
     "output_type": "stream",
     "text": [
      "2021-06-18 15:58:04,553 - modnet - INFO - Loss per individual: ind 0: 0.667 \tind 1: 0.602 \tind 2: 0.629 \tind 3: 0.695 \tind 4: 0.617 \tind 5: 0.637 \tind 6: 0.673 \tind 7: 0.682 \tind 8: 0.630 \tind 9: 0.628 \tind 10: 0.621 \tind 11: 0.635 \tind 12: 0.618 \tind 13: 0.639 \tind 14: 0.596 \tind 15: 0.637 \tind 16: 0.623 \tind 17: 0.627 \tind 18: 0.623 \tind 19: 0.589 \t\n"
     ]
    },
    {
     "name": "stderr",
     "output_type": "stream",
     "text": [
      "\n",
      "INFO:modnet:Loss per individual: ind 0: 0.667 \tind 1: 0.602 \tind 2: 0.629 \tind 3: 0.695 \tind 4: 0.617 \tind 5: 0.637 \tind 6: 0.673 \tind 7: 0.682 \tind 8: 0.630 \tind 9: 0.628 \tind 10: 0.621 \tind 11: 0.635 \tind 12: 0.618 \tind 13: 0.639 \tind 14: 0.596 \tind 15: 0.637 \tind 16: 0.623 \tind 17: 0.627 \tind 18: 0.623 \tind 19: 0.589 \t\n"
     ]
    },
    {
     "name": "stdout",
     "output_type": "stream",
     "text": [
      "2021-06-18 15:58:07,136 - modnet - INFO - Generation number 8\n"
     ]
    },
    {
     "name": "stderr",
     "output_type": "stream",
     "text": [
      "INFO:modnet:Generation number 8\n"
     ]
    },
    {
     "name": "stdout",
     "output_type": "stream",
     "text": [
      "2021-06-18 15:58:24,150 - modnet - INFO - Multiprocessing on 32 cores. Total of 32 cores available.\n"
     ]
    },
    {
     "name": "stderr",
     "output_type": "stream",
     "text": [
      "INFO:modnet:Multiprocessing on 32 cores. Total of 32 cores available.\n",
      "100%|██████████| 100/100 [10:59<00:00,  6.59s/it]"
     ]
    },
    {
     "name": "stdout",
     "output_type": "stream",
     "text": [
      "2021-06-18 16:09:23,339 - modnet - INFO - Loss per individual: ind 0: 1.600 \tind 1: 0.707 \tind 2: 0.626 \tind 3: 0.589 \tind 4: 0.632 \tind 5: 0.625 \tind 6: 0.631 \tind 7: 0.606 \tind 8: 0.623 \tind 9: 0.643 \tind 10: 0.598 \tind 11: 0.627 \tind 12: 0.558 \tind 13: 0.653 \tind 14: 0.645 \tind 15: 0.643 \tind 16: 0.620 \tind 17: 0.594 \tind 18: 0.631 \tind 19: 0.563 \t\n"
     ]
    },
    {
     "name": "stderr",
     "output_type": "stream",
     "text": [
      "\n",
      "INFO:modnet:Loss per individual: ind 0: 1.600 \tind 1: 0.707 \tind 2: 0.626 \tind 3: 0.589 \tind 4: 0.632 \tind 5: 0.625 \tind 6: 0.631 \tind 7: 0.606 \tind 8: 0.623 \tind 9: 0.643 \tind 10: 0.598 \tind 11: 0.627 \tind 12: 0.558 \tind 13: 0.653 \tind 14: 0.645 \tind 15: 0.643 \tind 16: 0.620 \tind 17: 0.594 \tind 18: 0.631 \tind 19: 0.563 \t\n"
     ]
    },
    {
     "name": "stdout",
     "output_type": "stream",
     "text": [
      "2021-06-18 16:09:25,737 - modnet - INFO - Generation number 9\n"
     ]
    },
    {
     "name": "stderr",
     "output_type": "stream",
     "text": [
      "INFO:modnet:Generation number 9\n"
     ]
    },
    {
     "name": "stdout",
     "output_type": "stream",
     "text": [
      "2021-06-18 16:09:43,855 - modnet - INFO - Multiprocessing on 32 cores. Total of 32 cores available.\n"
     ]
    },
    {
     "name": "stderr",
     "output_type": "stream",
     "text": [
      "INFO:modnet:Multiprocessing on 32 cores. Total of 32 cores available.\n",
      "100%|██████████| 100/100 [08:09<00:00,  4.90s/it]"
     ]
    },
    {
     "name": "stdout",
     "output_type": "stream",
     "text": [
      "2021-06-18 16:17:53,400 - modnet - INFO - Loss per individual: ind 0: 0.637 \tind 1: 0.574 \tind 2: 0.652 \tind 3: 0.628 \tind 4: 0.689 \tind 5: 0.625 \tind 6: 0.602 \tind 7: 0.625 \tind 8: 0.630 \tind 9: 0.609 \tind 10: 0.670 \tind 11: 0.687 \tind 12: 0.608 \tind 13: 0.633 \tind 14: 0.643 \tind 15: 0.694 \tind 16: 0.605 \tind 17: 0.673 \tind 18: 0.633 \tind 19: 0.605 \t\n"
     ]
    },
    {
     "name": "stderr",
     "output_type": "stream",
     "text": [
      "\n",
      "INFO:modnet:Loss per individual: ind 0: 0.637 \tind 1: 0.574 \tind 2: 0.652 \tind 3: 0.628 \tind 4: 0.689 \tind 5: 0.625 \tind 6: 0.602 \tind 7: 0.625 \tind 8: 0.630 \tind 9: 0.609 \tind 10: 0.670 \tind 11: 0.687 \tind 12: 0.608 \tind 13: 0.633 \tind 14: 0.643 \tind 15: 0.694 \tind 16: 0.605 \tind 17: 0.673 \tind 18: 0.633 \tind 19: 0.605 \t\n"
     ]
    },
    {
     "name": "stdout",
     "output_type": "stream",
     "text": [
      "Loaded 3 models\n",
      "43/43 [==============================] - 1s 1ms/step - loss: 14.6197 - accuracy: 0.5910\n",
      "MAE =\n",
      "1.8632047076966856\n"
     ]
    }
   ],
   "source": [
    "import math\n",
    "from pymatgen.ext.matproj import MPRester\n",
    "from pymatgen.core.structure import Structure\n",
    "\n",
    "k = 5\n",
    "random_state = 202010\n",
    "folds = MDKsplit(md_joint,n_splits=k,random_state=random_state)\n",
    "maes = np.ones(5)\n",
    "for i,f in enumerate(folds):\n",
    "    train = f[0]\n",
    "    test = f[1]\n",
    "    #train.feature_selection(n=-1, use_precomputed_cross_nmi=True)\n",
    "    fpath = 'train_{}_{}'.format(random_state,i+1)\n",
    "    if os.path.exists(fpath):\n",
    "        train = MODData.load(fpath)\n",
    "    else:\n",
    "        train.feature_selection(n=-1, use_precomputed_cross_nmi=True)\n",
    "        train.save(fpath)\n",
    "       \n",
    "    # assure no overlap\n",
    "    assert len(set(train.df_targets.index).intersection(set(test.df_targets.index))) == 0\n",
    "    \n",
    "    fpath_meg = 'train_meg_{}_{}.pkl'.format(random_state,i+1)\n",
    "    if os.path.exists(fpath_meg):\n",
    "        train_meg = pd.read_pickle(fpath_meg)\n",
    "    else:\n",
    "        with MPRester(\"v454AlrxL5Zg0cLAXW0\") as mpr:\n",
    "            for a in range(len(train.df_structure)):\n",
    "                try:\n",
    "                    structure = mpr.get_doc(mpr.get_materials_id_from_task_id(train.df_structure.index[a]))['structure']\n",
    "                    train.df_structure['structure'][a] = structure\n",
    "                except:\n",
    "                    train.df_structure['structure'][a] = math.nan      \n",
    "        for b in range(len(train.df_structure)):\n",
    "            structure = Structure.from_dict(train.df_structure['structure'][b])\n",
    "            train.df_structure['structure'][b] = structure\n",
    "        train_meg = train.df_structure\n",
    "        train_meg.to_pickle(fpath_meg)\n",
    "    \n",
    "    fpath_meg_test = 'train_meg_test_{}_{}.pkl'.format(random_state,i+1)\n",
    "    if os.path.exists(fpath_meg_test):\n",
    "        test_meg = pd.read_pickle(fpath_meg_test)\n",
    "    else:\n",
    "        with MPRester(\"v454AlrxL5Zg0cLAXW0\") as mpr:\n",
    "            for c in range(len(test.df_structure)):\n",
    "                try:\n",
    "                    structure = mpr.get_doc(mpr.get_materials_id_from_task_id(test.df_structure.index[c]))['structure']\n",
    "                    test.df_structure['structure'][c] = structure\n",
    "                except:\n",
    "                    test.df_structure['structure'][c] = math.nan\n",
    "        for d in range(len(test.df_structure)):\n",
    "            structure = Structure.from_dict(test.df_structure['structure'][d])\n",
    "            test.df_structure['structure'][d] = structure\n",
    "        test_meg = test.df_structure\n",
    "        test_meg.to_pickle(fpath_meg_test)\n",
    "    \n",
    "    ga = FitGenetic(train)\n",
    "    model3 = ga.run(size_pop=20, num_generations=10, n_jobs=32)\n",
    "    \n",
    "    # load all models\n",
    "    members = [model_form, model2, model3]\n",
    "    print('Loaded %d models' % len(members))\n",
    "    \n",
    "    # fit stacked model on test dataset\n",
    "    model = fit_stacked_model(members, inputX=train, inputy=train.df_targets['exp_gap'], inputX_meg=train_meg)\n",
    "\n",
    "    # evaluate model on test set\n",
    "    pred = stacked_prediction(members, model, test, test_meg)\n",
    "    pred = pd.DataFrame(pred)\n",
    "    pred = pred.rename(columns={pred.columns[0]: 'exp_gap'})\n",
    "    true = test.df_targets\n",
    "    for j in range(len(pred)):\n",
    "        pred = pred.rename(index={pred.index[j]: true.index[j]})\n",
    "    error = pred-true\n",
    "    error = error['exp_gap'].drop(pred.index[((pred['exp_gap']).abs()>20)]) # drop unrealistic values: happens extremely rarely\n",
    "    mae = np.abs(error.values).mean()\n",
    "    print('MAE =')\n",
    "    print(mae)\n",
    "    maes[i] = mae"
   ]
  },
  {
   "cell_type": "code",
   "execution_count": 17,
   "metadata": {
    "ExecuteTime": {
     "end_time": "2021-06-18T14:22:05.604998Z",
     "start_time": "2021-06-18T14:22:05.598523Z"
    }
   },
   "outputs": [
    {
     "data": {
      "text/plain": [
       "array([0.98348812, 1.41363017, 0.55194365, 0.97125227, 1.86320471])"
      ]
     },
     "execution_count": 17,
     "metadata": {},
     "output_type": "execute_result"
    }
   ],
   "source": [
    "maes"
   ]
  },
  {
   "cell_type": "code",
   "execution_count": 18,
   "metadata": {
    "ExecuteTime": {
     "end_time": "2021-06-18T14:22:05.740302Z",
     "start_time": "2021-06-18T14:22:05.608200Z"
    }
   },
   "outputs": [
    {
     "data": {
      "text/plain": [
       "1.1567037822301622"
      ]
     },
     "execution_count": 18,
     "metadata": {},
     "output_type": "execute_result"
    }
   ],
   "source": [
    "maes.mean()"
   ]
  },
  {
   "cell_type": "markdown",
   "metadata": {},
   "source": [
    "#### 3) Extra Trees Regressor scikit-learn method"
   ]
  },
  {
   "cell_type": "code",
   "execution_count": 19,
   "metadata": {
    "ExecuteTime": {
     "end_time": "2021-06-18T14:22:07.099944Z",
     "start_time": "2021-06-18T14:22:05.743386Z"
    }
   },
   "outputs": [],
   "source": [
    "from sklearn.ensemble import ExtraTreesRegressor\n",
    "\n",
    "# fit a model based on the outputs from the ensemble members\n",
    "def fit_stacked_model(members, inputX, inputy, inputX_meg):\n",
    "    # create dataset using ensemble\n",
    "    stackedX = stacked_dataset(members, inputX, inputX_meg)\n",
    "    # fit standalone model\n",
    "    model = ExtraTreesRegressor(n_estimators=500)\n",
    "    model.fit(stackedX, inputy)\n",
    "    return model"
   ]
  },
  {
   "cell_type": "code",
   "execution_count": 20,
   "metadata": {
    "ExecuteTime": {
     "end_time": "2021-06-18T14:22:07.107150Z",
     "start_time": "2021-06-18T14:22:07.102446Z"
    }
   },
   "outputs": [],
   "source": [
    "# make a prediction with the stacked model\n",
    "def stacked_prediction(members, model, inputX, inputX_meg):\n",
    "    # create dataset using ensemble\n",
    "    stackedX = stacked_dataset(members, inputX, inputX_meg)\n",
    "    # make a prediction\n",
    "    yhat = model.predict(stackedX)\n",
    "    return yhat"
   ]
  },
  {
   "cell_type": "code",
   "execution_count": 21,
   "metadata": {
    "ExecuteTime": {
     "end_time": "2021-06-18T22:24:29.740180Z",
     "start_time": "2021-06-18T14:22:07.109737Z"
    }
   },
   "outputs": [
    {
     "name": "stdout",
     "output_type": "stream",
     "text": [
      "2021-06-18 16:22:07,232 - modnet - INFO - Loaded DeBreuck2020Featurizer featurizer.\n"
     ]
    },
    {
     "name": "stderr",
     "output_type": "stream",
     "text": [
      "INFO:modnet:Loaded DeBreuck2020Featurizer featurizer.\n"
     ]
    },
    {
     "name": "stdout",
     "output_type": "stream",
     "text": [
      "2021-06-18 16:22:07,267 - modnet - INFO - Loaded DeBreuck2020Featurizer featurizer.\n"
     ]
    },
    {
     "name": "stderr",
     "output_type": "stream",
     "text": [
      "INFO:modnet:Loaded DeBreuck2020Featurizer featurizer.\n"
     ]
    },
    {
     "name": "stdout",
     "output_type": "stream",
     "text": [
      "2021-06-18 16:22:07,291 - modnet - INFO - Loaded DeBreuck2020Featurizer featurizer.\n"
     ]
    },
    {
     "name": "stderr",
     "output_type": "stream",
     "text": [
      "INFO:modnet:Loaded DeBreuck2020Featurizer featurizer.\n"
     ]
    },
    {
     "name": "stdout",
     "output_type": "stream",
     "text": [
      "2021-06-18 16:22:07,332 - modnet - INFO - Loaded DeBreuck2020Featurizer featurizer.\n"
     ]
    },
    {
     "name": "stderr",
     "output_type": "stream",
     "text": [
      "INFO:modnet:Loaded DeBreuck2020Featurizer featurizer.\n"
     ]
    },
    {
     "name": "stdout",
     "output_type": "stream",
     "text": [
      "2021-06-18 16:22:07,356 - modnet - INFO - Loaded DeBreuck2020Featurizer featurizer.\n"
     ]
    },
    {
     "name": "stderr",
     "output_type": "stream",
     "text": [
      "INFO:modnet:Loaded DeBreuck2020Featurizer featurizer.\n"
     ]
    },
    {
     "name": "stdout",
     "output_type": "stream",
     "text": [
      "2021-06-18 16:22:07,399 - modnet - INFO - Loaded DeBreuck2020Featurizer featurizer.\n"
     ]
    },
    {
     "name": "stderr",
     "output_type": "stream",
     "text": [
      "INFO:modnet:Loaded DeBreuck2020Featurizer featurizer.\n"
     ]
    },
    {
     "name": "stdout",
     "output_type": "stream",
     "text": [
      "2021-06-18 16:22:07,422 - modnet - INFO - Loaded DeBreuck2020Featurizer featurizer.\n"
     ]
    },
    {
     "name": "stderr",
     "output_type": "stream",
     "text": [
      "INFO:modnet:Loaded DeBreuck2020Featurizer featurizer.\n"
     ]
    },
    {
     "name": "stdout",
     "output_type": "stream",
     "text": [
      "2021-06-18 16:22:07,465 - modnet - INFO - Loaded DeBreuck2020Featurizer featurizer.\n"
     ]
    },
    {
     "name": "stderr",
     "output_type": "stream",
     "text": [
      "INFO:modnet:Loaded DeBreuck2020Featurizer featurizer.\n"
     ]
    },
    {
     "name": "stdout",
     "output_type": "stream",
     "text": [
      "2021-06-18 16:22:07,497 - modnet - INFO - Loaded DeBreuck2020Featurizer featurizer.\n"
     ]
    },
    {
     "name": "stderr",
     "output_type": "stream",
     "text": [
      "INFO:modnet:Loaded DeBreuck2020Featurizer featurizer.\n"
     ]
    },
    {
     "name": "stdout",
     "output_type": "stream",
     "text": [
      "2021-06-18 16:22:07,535 - modnet - INFO - Loaded DeBreuck2020Featurizer featurizer.\n"
     ]
    },
    {
     "name": "stderr",
     "output_type": "stream",
     "text": [
      "INFO:modnet:Loaded DeBreuck2020Featurizer featurizer.\n"
     ]
    },
    {
     "name": "stdout",
     "output_type": "stream",
     "text": [
      "2021-06-18 16:22:08,153 - modnet - INFO - Loaded <modnet.preprocessing.MODData object at 0x7f7e93b51be0> object, created with modnet version 0.1.9\n"
     ]
    },
    {
     "name": "stderr",
     "output_type": "stream",
     "text": [
      "INFO:modnet:Loaded <modnet.preprocessing.MODData object at 0x7f7e93b51be0> object, created with modnet version 0.1.9\n"
     ]
    },
    {
     "name": "stdout",
     "output_type": "stream",
     "text": [
      "2021-06-18 16:22:08,858 - modnet - INFO - Generation number 0\n"
     ]
    },
    {
     "name": "stderr",
     "output_type": "stream",
     "text": [
      "INFO:modnet:Generation number 0\n"
     ]
    },
    {
     "name": "stdout",
     "output_type": "stream",
     "text": [
      "2021-06-18 16:22:27,777 - modnet - INFO - Multiprocessing on 32 cores. Total of 32 cores available.\n"
     ]
    },
    {
     "name": "stderr",
     "output_type": "stream",
     "text": [
      "INFO:modnet:Multiprocessing on 32 cores. Total of 32 cores available.\n",
      "100%|██████████| 100/100 [11:41<00:00,  7.02s/it]"
     ]
    },
    {
     "name": "stdout",
     "output_type": "stream",
     "text": [
      "2021-06-18 16:34:09,327 - modnet - INFO - Loss per individual: ind 0: 0.641 \tind 1: 0.593 \tind 2: 0.637 \tind 3: 0.648 \tind 4: 0.668 \tind 5: 0.644 \tind 6: 0.663 \tind 7: 0.631 \tind 8: 0.594 \tind 9: 0.657 \tind 10: 0.710 \tind 11: 0.581 \tind 12: 0.660 \tind 13: 0.615 \tind 14: 0.734 \tind 15: 0.677 \tind 16: 0.610 \tind 17: 0.676 \tind 18: 0.671 \tind 19: 0.619 \t\n"
     ]
    },
    {
     "name": "stderr",
     "output_type": "stream",
     "text": [
      "\n",
      "INFO:modnet:Loss per individual: ind 0: 0.641 \tind 1: 0.593 \tind 2: 0.637 \tind 3: 0.648 \tind 4: 0.668 \tind 5: 0.644 \tind 6: 0.663 \tind 7: 0.631 \tind 8: 0.594 \tind 9: 0.657 \tind 10: 0.710 \tind 11: 0.581 \tind 12: 0.660 \tind 13: 0.615 \tind 14: 0.734 \tind 15: 0.677 \tind 16: 0.610 \tind 17: 0.676 \tind 18: 0.671 \tind 19: 0.619 \t\n"
     ]
    },
    {
     "name": "stdout",
     "output_type": "stream",
     "text": [
      "2021-06-18 16:34:11,951 - modnet - INFO - Generation number 1\n"
     ]
    },
    {
     "name": "stderr",
     "output_type": "stream",
     "text": [
      "INFO:modnet:Generation number 1\n"
     ]
    },
    {
     "name": "stdout",
     "output_type": "stream",
     "text": [
      "2021-06-18 16:34:30,876 - modnet - INFO - Multiprocessing on 32 cores. Total of 32 cores available.\n"
     ]
    },
    {
     "name": "stderr",
     "output_type": "stream",
     "text": [
      "INFO:modnet:Multiprocessing on 32 cores. Total of 32 cores available.\n",
      "100%|██████████| 100/100 [09:58<00:00,  5.98s/it]"
     ]
    },
    {
     "name": "stdout",
     "output_type": "stream",
     "text": [
      "2021-06-18 16:44:29,343 - modnet - INFO - Loss per individual: ind 0: 0.670 \tind 1: 0.602 \tind 2: 0.674 \tind 3: 0.616 \tind 4: 0.634 \tind 5: 0.635 \tind 6: 0.641 \tind 7: 0.647 \tind 8: 0.623 \tind 9: 0.594 \tind 10: 0.594 \tind 11: 0.709 \tind 12: 0.637 \tind 13: 0.658 \tind 14: 0.594 \tind 15: 0.669 \tind 16: 0.658 \tind 17: 0.628 \tind 18: 0.648 \tind 19: 0.658 \t\n"
     ]
    },
    {
     "name": "stderr",
     "output_type": "stream",
     "text": [
      "\n",
      "INFO:modnet:Loss per individual: ind 0: 0.670 \tind 1: 0.602 \tind 2: 0.674 \tind 3: 0.616 \tind 4: 0.634 \tind 5: 0.635 \tind 6: 0.641 \tind 7: 0.647 \tind 8: 0.623 \tind 9: 0.594 \tind 10: 0.594 \tind 11: 0.709 \tind 12: 0.637 \tind 13: 0.658 \tind 14: 0.594 \tind 15: 0.669 \tind 16: 0.658 \tind 17: 0.628 \tind 18: 0.648 \tind 19: 0.658 \t\n"
     ]
    },
    {
     "name": "stdout",
     "output_type": "stream",
     "text": [
      "2021-06-18 16:44:31,878 - modnet - INFO - Generation number 2\n"
     ]
    },
    {
     "name": "stderr",
     "output_type": "stream",
     "text": [
      "INFO:modnet:Generation number 2\n"
     ]
    },
    {
     "name": "stdout",
     "output_type": "stream",
     "text": [
      "2021-06-18 16:44:50,474 - modnet - INFO - Multiprocessing on 32 cores. Total of 32 cores available.\n"
     ]
    },
    {
     "name": "stderr",
     "output_type": "stream",
     "text": [
      "INFO:modnet:Multiprocessing on 32 cores. Total of 32 cores available.\n",
      "100%|██████████| 100/100 [10:06<00:00,  6.07s/it]"
     ]
    },
    {
     "name": "stdout",
     "output_type": "stream",
     "text": [
      "2021-06-18 16:54:57,285 - modnet - INFO - Loss per individual: ind 0: 0.596 \tind 1: 0.679 \tind 2: 0.575 \tind 3: 0.654 \tind 4: 0.627 \tind 5: 0.611 \tind 6: 0.621 \tind 7: 0.615 \tind 8: 0.581 \tind 9: 0.639 \tind 10: 0.748 \tind 11: 0.684 \tind 12: 0.612 \tind 13: 0.652 \tind 14: 0.605 \tind 15: 0.588 \tind 16: 0.640 \tind 17: 0.718 \tind 18: 0.631 \tind 19: 0.607 \t\n"
     ]
    },
    {
     "name": "stderr",
     "output_type": "stream",
     "text": [
      "\n",
      "INFO:modnet:Loss per individual: ind 0: 0.596 \tind 1: 0.679 \tind 2: 0.575 \tind 3: 0.654 \tind 4: 0.627 \tind 5: 0.611 \tind 6: 0.621 \tind 7: 0.615 \tind 8: 0.581 \tind 9: 0.639 \tind 10: 0.748 \tind 11: 0.684 \tind 12: 0.612 \tind 13: 0.652 \tind 14: 0.605 \tind 15: 0.588 \tind 16: 0.640 \tind 17: 0.718 \tind 18: 0.631 \tind 19: 0.607 \t\n"
     ]
    },
    {
     "name": "stdout",
     "output_type": "stream",
     "text": [
      "2021-06-18 16:54:59,955 - modnet - INFO - Generation number 3\n"
     ]
    },
    {
     "name": "stderr",
     "output_type": "stream",
     "text": [
      "INFO:modnet:Generation number 3\n"
     ]
    },
    {
     "name": "stdout",
     "output_type": "stream",
     "text": [
      "2021-06-18 16:55:18,538 - modnet - INFO - Multiprocessing on 32 cores. Total of 32 cores available.\n"
     ]
    },
    {
     "name": "stderr",
     "output_type": "stream",
     "text": [
      "INFO:modnet:Multiprocessing on 32 cores. Total of 32 cores available.\n",
      "100%|██████████| 100/100 [09:02<00:00,  5.42s/it]"
     ]
    },
    {
     "name": "stdout",
     "output_type": "stream",
     "text": [
      "2021-06-18 17:04:20,942 - modnet - INFO - Loss per individual: ind 0: 0.622 \tind 1: 0.658 \tind 2: 0.601 \tind 3: 0.620 \tind 4: 0.630 \tind 5: 0.620 \tind 6: 0.656 \tind 7: 0.603 \tind 8: 0.619 \tind 9: 0.602 \tind 10: 0.616 \tind 11: 0.677 \tind 12: 0.721 \tind 13: 0.603 \tind 14: 0.618 \tind 15: 0.620 \tind 16: 0.633 \tind 17: 1.568 \tind 18: 0.649 \tind 19: 0.569 \t\n"
     ]
    },
    {
     "name": "stderr",
     "output_type": "stream",
     "text": [
      "\n",
      "INFO:modnet:Loss per individual: ind 0: 0.622 \tind 1: 0.658 \tind 2: 0.601 \tind 3: 0.620 \tind 4: 0.630 \tind 5: 0.620 \tind 6: 0.656 \tind 7: 0.603 \tind 8: 0.619 \tind 9: 0.602 \tind 10: 0.616 \tind 11: 0.677 \tind 12: 0.721 \tind 13: 0.603 \tind 14: 0.618 \tind 15: 0.620 \tind 16: 0.633 \tind 17: 1.568 \tind 18: 0.649 \tind 19: 0.569 \t\n"
     ]
    },
    {
     "name": "stdout",
     "output_type": "stream",
     "text": [
      "2021-06-18 17:04:23,528 - modnet - INFO - Generation number 4\n"
     ]
    },
    {
     "name": "stderr",
     "output_type": "stream",
     "text": [
      "INFO:modnet:Generation number 4\n"
     ]
    },
    {
     "name": "stdout",
     "output_type": "stream",
     "text": [
      "2021-06-18 17:04:42,367 - modnet - INFO - Multiprocessing on 32 cores. Total of 32 cores available.\n"
     ]
    },
    {
     "name": "stderr",
     "output_type": "stream",
     "text": [
      "INFO:modnet:Multiprocessing on 32 cores. Total of 32 cores available.\n",
      "100%|██████████| 100/100 [09:44<00:00,  5.84s/it]"
     ]
    },
    {
     "name": "stdout",
     "output_type": "stream",
     "text": [
      "2021-06-18 17:14:26,711 - modnet - INFO - Loss per individual: ind 0: 0.621 \tind 1: 0.621 \tind 2: 0.601 \tind 3: 0.587 \tind 4: 0.597 \tind 5: 0.611 \tind 6: 0.587 \tind 7: 0.608 \tind 8: 0.692 \tind 9: 0.633 \tind 10: 0.593 \tind 11: 0.636 \tind 12: 0.591 \tind 13: 0.659 \tind 14: 0.625 \tind 15: 0.649 \tind 16: 0.755 \tind 17: 0.620 \tind 18: 0.597 \tind 19: 0.652 \t\n"
     ]
    },
    {
     "name": "stderr",
     "output_type": "stream",
     "text": [
      "\n",
      "INFO:modnet:Loss per individual: ind 0: 0.621 \tind 1: 0.621 \tind 2: 0.601 \tind 3: 0.587 \tind 4: 0.597 \tind 5: 0.611 \tind 6: 0.587 \tind 7: 0.608 \tind 8: 0.692 \tind 9: 0.633 \tind 10: 0.593 \tind 11: 0.636 \tind 12: 0.591 \tind 13: 0.659 \tind 14: 0.625 \tind 15: 0.649 \tind 16: 0.755 \tind 17: 0.620 \tind 18: 0.597 \tind 19: 0.652 \t\n"
     ]
    },
    {
     "name": "stdout",
     "output_type": "stream",
     "text": [
      "2021-06-18 17:14:29,272 - modnet - INFO - Generation number 5\n"
     ]
    },
    {
     "name": "stderr",
     "output_type": "stream",
     "text": [
      "INFO:modnet:Generation number 5\n"
     ]
    },
    {
     "name": "stdout",
     "output_type": "stream",
     "text": [
      "2021-06-18 17:14:48,053 - modnet - INFO - Multiprocessing on 32 cores. Total of 32 cores available.\n"
     ]
    },
    {
     "name": "stderr",
     "output_type": "stream",
     "text": [
      "INFO:modnet:Multiprocessing on 32 cores. Total of 32 cores available.\n",
      "100%|██████████| 100/100 [09:55<00:00,  5.96s/it]"
     ]
    },
    {
     "name": "stdout",
     "output_type": "stream",
     "text": [
      "2021-06-18 17:24:43,839 - modnet - INFO - Loss per individual: ind 0: 0.601 \tind 1: 0.642 \tind 2: 0.593 \tind 3: 0.590 \tind 4: 0.963 \tind 5: 0.616 \tind 6: 0.674 \tind 7: 0.754 \tind 8: 0.599 \tind 9: 0.584 \tind 10: 0.709 \tind 11: 0.582 \tind 12: 0.651 \tind 13: 0.653 \tind 14: 0.588 \tind 15: 0.689 \tind 16: 0.585 \tind 17: 0.713 \tind 18: 0.587 \tind 19: 0.593 \t\n"
     ]
    },
    {
     "name": "stderr",
     "output_type": "stream",
     "text": [
      "\n",
      "INFO:modnet:Loss per individual: ind 0: 0.601 \tind 1: 0.642 \tind 2: 0.593 \tind 3: 0.590 \tind 4: 0.963 \tind 5: 0.616 \tind 6: 0.674 \tind 7: 0.754 \tind 8: 0.599 \tind 9: 0.584 \tind 10: 0.709 \tind 11: 0.582 \tind 12: 0.651 \tind 13: 0.653 \tind 14: 0.588 \tind 15: 0.689 \tind 16: 0.585 \tind 17: 0.713 \tind 18: 0.587 \tind 19: 0.593 \t\n"
     ]
    },
    {
     "name": "stdout",
     "output_type": "stream",
     "text": [
      "2021-06-18 17:24:46,240 - modnet - INFO - Generation number 6\n"
     ]
    },
    {
     "name": "stderr",
     "output_type": "stream",
     "text": [
      "INFO:modnet:Generation number 6\n"
     ]
    },
    {
     "name": "stdout",
     "output_type": "stream",
     "text": [
      "2021-06-18 17:25:05,447 - modnet - INFO - Multiprocessing on 32 cores. Total of 32 cores available.\n"
     ]
    },
    {
     "name": "stderr",
     "output_type": "stream",
     "text": [
      "INFO:modnet:Multiprocessing on 32 cores. Total of 32 cores available.\n",
      "100%|██████████| 100/100 [12:09<00:00,  7.29s/it]"
     ]
    },
    {
     "name": "stdout",
     "output_type": "stream",
     "text": [
      "2021-06-18 17:37:14,808 - modnet - INFO - Loss per individual: ind 0: 0.596 \tind 1: 0.664 \tind 2: 0.617 \tind 3: 0.579 \tind 4: 0.592 \tind 5: 0.635 \tind 6: 0.593 \tind 7: 0.633 \tind 8: 0.617 \tind 9: 0.634 \tind 10: 0.609 \tind 11: 0.585 \tind 12: 0.638 \tind 13: 0.670 \tind 14: 0.622 \tind 15: 0.715 \tind 16: 0.636 \tind 17: 0.599 \tind 18: 0.613 \tind 19: 0.599 \t\n"
     ]
    },
    {
     "name": "stderr",
     "output_type": "stream",
     "text": [
      "\n",
      "INFO:modnet:Loss per individual: ind 0: 0.596 \tind 1: 0.664 \tind 2: 0.617 \tind 3: 0.579 \tind 4: 0.592 \tind 5: 0.635 \tind 6: 0.593 \tind 7: 0.633 \tind 8: 0.617 \tind 9: 0.634 \tind 10: 0.609 \tind 11: 0.585 \tind 12: 0.638 \tind 13: 0.670 \tind 14: 0.622 \tind 15: 0.715 \tind 16: 0.636 \tind 17: 0.599 \tind 18: 0.613 \tind 19: 0.599 \t\n"
     ]
    },
    {
     "name": "stdout",
     "output_type": "stream",
     "text": [
      "2021-06-18 17:37:17,411 - modnet - INFO - Early stopping: same best model for 4 consecutive generations\n"
     ]
    },
    {
     "name": "stderr",
     "output_type": "stream",
     "text": [
      "INFO:modnet:Early stopping: same best model for 4 consecutive generations\n"
     ]
    },
    {
     "name": "stdout",
     "output_type": "stream",
     "text": [
      "Loaded 3 models\n",
      "MAE =\n",
      "0.38099465841947777\n",
      "2021-06-18 17:41:30,373 - modnet - INFO - Loaded <modnet.preprocessing.MODData object at 0x7f7da90f47c0> object, created with modnet version 0.1.9\n"
     ]
    },
    {
     "name": "stderr",
     "output_type": "stream",
     "text": [
      "INFO:modnet:Loaded <modnet.preprocessing.MODData object at 0x7f7da90f47c0> object, created with modnet version 0.1.9\n"
     ]
    },
    {
     "name": "stdout",
     "output_type": "stream",
     "text": [
      "2021-06-18 17:41:31,092 - modnet - INFO - Generation number 0\n"
     ]
    },
    {
     "name": "stderr",
     "output_type": "stream",
     "text": [
      "INFO:modnet:Generation number 0\n"
     ]
    },
    {
     "name": "stdout",
     "output_type": "stream",
     "text": [
      "2021-06-18 17:41:49,773 - modnet - INFO - Multiprocessing on 32 cores. Total of 32 cores available.\n"
     ]
    },
    {
     "name": "stderr",
     "output_type": "stream",
     "text": [
      "INFO:modnet:Multiprocessing on 32 cores. Total of 32 cores available.\n",
      "100%|██████████| 100/100 [10:53<00:00,  6.53s/it]"
     ]
    },
    {
     "name": "stdout",
     "output_type": "stream",
     "text": [
      "2021-06-18 17:52:43,103 - modnet - INFO - Loss per individual: ind 0: 0.650 \tind 1: 0.606 \tind 2: 0.615 \tind 3: 0.668 \tind 4: 0.626 \tind 5: 0.607 \tind 6: 0.706 \tind 7: 0.606 \tind 8: 0.636 \tind 9: 0.627 \tind 10: 0.679 \tind 11: 0.614 \tind 12: 0.622 \tind 13: 0.688 \tind 14: 0.640 \tind 15: 0.611 \tind 16: 0.624 \tind 17: 0.697 \tind 18: 0.622 \tind 19: 0.664 \t\n"
     ]
    },
    {
     "name": "stderr",
     "output_type": "stream",
     "text": [
      "\n",
      "INFO:modnet:Loss per individual: ind 0: 0.650 \tind 1: 0.606 \tind 2: 0.615 \tind 3: 0.668 \tind 4: 0.626 \tind 5: 0.607 \tind 6: 0.706 \tind 7: 0.606 \tind 8: 0.636 \tind 9: 0.627 \tind 10: 0.679 \tind 11: 0.614 \tind 12: 0.622 \tind 13: 0.688 \tind 14: 0.640 \tind 15: 0.611 \tind 16: 0.624 \tind 17: 0.697 \tind 18: 0.622 \tind 19: 0.664 \t\n"
     ]
    },
    {
     "name": "stdout",
     "output_type": "stream",
     "text": [
      "2021-06-18 17:52:45,601 - modnet - INFO - Generation number 1\n"
     ]
    },
    {
     "name": "stderr",
     "output_type": "stream",
     "text": [
      "INFO:modnet:Generation number 1\n"
     ]
    },
    {
     "name": "stdout",
     "output_type": "stream",
     "text": [
      "2021-06-18 17:53:03,432 - modnet - INFO - Multiprocessing on 32 cores. Total of 32 cores available.\n"
     ]
    },
    {
     "name": "stderr",
     "output_type": "stream",
     "text": [
      "INFO:modnet:Multiprocessing on 32 cores. Total of 32 cores available.\n",
      "100%|██████████| 100/100 [11:10<00:00,  6.71s/it]"
     ]
    },
    {
     "name": "stdout",
     "output_type": "stream",
     "text": [
      "2021-06-18 18:04:14,546 - modnet - INFO - Loss per individual: ind 0: 0.596 \tind 1: 0.647 \tind 2: 0.627 \tind 3: 0.640 \tind 4: 0.672 \tind 5: 0.634 \tind 6: 0.675 \tind 7: 0.707 \tind 8: 0.608 \tind 9: 0.621 \tind 10: 0.639 \tind 11: 0.663 \tind 12: 0.667 \tind 13: 0.674 \tind 14: 0.607 \tind 15: 0.616 \tind 16: 0.657 \tind 17: 0.635 \tind 18: 0.626 \tind 19: 0.657 \t\n"
     ]
    },
    {
     "name": "stderr",
     "output_type": "stream",
     "text": [
      "\n",
      "INFO:modnet:Loss per individual: ind 0: 0.596 \tind 1: 0.647 \tind 2: 0.627 \tind 3: 0.640 \tind 4: 0.672 \tind 5: 0.634 \tind 6: 0.675 \tind 7: 0.707 \tind 8: 0.608 \tind 9: 0.621 \tind 10: 0.639 \tind 11: 0.663 \tind 12: 0.667 \tind 13: 0.674 \tind 14: 0.607 \tind 15: 0.616 \tind 16: 0.657 \tind 17: 0.635 \tind 18: 0.626 \tind 19: 0.657 \t\n"
     ]
    },
    {
     "name": "stdout",
     "output_type": "stream",
     "text": [
      "2021-06-18 18:04:17,045 - modnet - INFO - Generation number 2\n"
     ]
    },
    {
     "name": "stderr",
     "output_type": "stream",
     "text": [
      "INFO:modnet:Generation number 2\n"
     ]
    },
    {
     "name": "stdout",
     "output_type": "stream",
     "text": [
      "2021-06-18 18:04:35,084 - modnet - INFO - Multiprocessing on 32 cores. Total of 32 cores available.\n"
     ]
    },
    {
     "name": "stderr",
     "output_type": "stream",
     "text": [
      "INFO:modnet:Multiprocessing on 32 cores. Total of 32 cores available.\n",
      "100%|██████████| 100/100 [09:45<00:00,  5.85s/it]"
     ]
    },
    {
     "name": "stdout",
     "output_type": "stream",
     "text": [
      "2021-06-18 18:14:20,149 - modnet - INFO - Loss per individual: ind 0: 0.612 \tind 1: 0.674 \tind 2: 0.696 \tind 3: 0.624 \tind 4: 0.627 \tind 5: 0.604 \tind 6: 0.623 \tind 7: 0.626 \tind 8: 0.646 \tind 9: 0.597 \tind 10: 0.693 \tind 11: 0.679 \tind 12: 0.617 \tind 13: 0.594 \tind 14: 0.622 \tind 15: 0.618 \tind 16: 0.637 \tind 17: 0.671 \tind 18: 0.666 \tind 19: 0.617 \t\n"
     ]
    },
    {
     "name": "stderr",
     "output_type": "stream",
     "text": [
      "\n",
      "INFO:modnet:Loss per individual: ind 0: 0.612 \tind 1: 0.674 \tind 2: 0.696 \tind 3: 0.624 \tind 4: 0.627 \tind 5: 0.604 \tind 6: 0.623 \tind 7: 0.626 \tind 8: 0.646 \tind 9: 0.597 \tind 10: 0.693 \tind 11: 0.679 \tind 12: 0.617 \tind 13: 0.594 \tind 14: 0.622 \tind 15: 0.618 \tind 16: 0.637 \tind 17: 0.671 \tind 18: 0.666 \tind 19: 0.617 \t\n"
     ]
    },
    {
     "name": "stdout",
     "output_type": "stream",
     "text": [
      "2021-06-18 18:14:22,666 - modnet - INFO - Generation number 3\n"
     ]
    },
    {
     "name": "stderr",
     "output_type": "stream",
     "text": [
      "INFO:modnet:Generation number 3\n"
     ]
    },
    {
     "name": "stdout",
     "output_type": "stream",
     "text": [
      "2021-06-18 18:14:41,429 - modnet - INFO - Multiprocessing on 32 cores. Total of 32 cores available.\n"
     ]
    },
    {
     "name": "stderr",
     "output_type": "stream",
     "text": [
      "INFO:modnet:Multiprocessing on 32 cores. Total of 32 cores available.\n",
      "100%|██████████| 100/100 [10:10<00:00,  6.10s/it]"
     ]
    },
    {
     "name": "stdout",
     "output_type": "stream",
     "text": [
      "2021-06-18 18:24:51,844 - modnet - INFO - Loss per individual: ind 0: 0.634 \tind 1: 0.613 \tind 2: 0.655 \tind 3: 0.673 \tind 4: 0.629 \tind 5: 0.634 \tind 6: 0.692 \tind 7: 0.638 \tind 8: 0.633 \tind 9: 0.665 \tind 10: 0.646 \tind 11: 0.634 \tind 12: 0.683 \tind 13: 0.609 \tind 14: 0.629 \tind 15: 0.648 \tind 16: 0.624 \tind 17: 0.628 \tind 18: 0.607 \tind 19: 0.621 \t\n"
     ]
    },
    {
     "name": "stderr",
     "output_type": "stream",
     "text": [
      "\n",
      "INFO:modnet:Loss per individual: ind 0: 0.634 \tind 1: 0.613 \tind 2: 0.655 \tind 3: 0.673 \tind 4: 0.629 \tind 5: 0.634 \tind 6: 0.692 \tind 7: 0.638 \tind 8: 0.633 \tind 9: 0.665 \tind 10: 0.646 \tind 11: 0.634 \tind 12: 0.683 \tind 13: 0.609 \tind 14: 0.629 \tind 15: 0.648 \tind 16: 0.624 \tind 17: 0.628 \tind 18: 0.607 \tind 19: 0.621 \t\n"
     ]
    },
    {
     "name": "stdout",
     "output_type": "stream",
     "text": [
      "2021-06-18 18:24:54,295 - modnet - INFO - Generation number 4\n"
     ]
    },
    {
     "name": "stderr",
     "output_type": "stream",
     "text": [
      "INFO:modnet:Generation number 4\n"
     ]
    },
    {
     "name": "stdout",
     "output_type": "stream",
     "text": [
      "2021-06-18 18:25:12,770 - modnet - INFO - Multiprocessing on 32 cores. Total of 32 cores available.\n"
     ]
    },
    {
     "name": "stderr",
     "output_type": "stream",
     "text": [
      "INFO:modnet:Multiprocessing on 32 cores. Total of 32 cores available.\n",
      "100%|██████████| 100/100 [13:39<00:00,  8.20s/it]"
     ]
    },
    {
     "name": "stdout",
     "output_type": "stream",
     "text": [
      "2021-06-18 18:38:52,552 - modnet - INFO - Loss per individual: ind 0: 0.643 \tind 1: 0.613 \tind 2: 0.632 \tind 3: 0.609 \tind 4: 0.587 \tind 5: 0.689 \tind 6: 0.604 \tind 7: 0.675 \tind 8: 0.611 \tind 9: 0.657 \tind 10: 0.622 \tind 11: 0.633 \tind 12: 0.624 \tind 13: 0.623 \tind 14: 0.628 \tind 15: 0.599 \tind 16: 0.671 \tind 17: 0.627 \tind 18: 0.600 \tind 19: 0.661 \t\n"
     ]
    },
    {
     "name": "stderr",
     "output_type": "stream",
     "text": [
      "\n",
      "INFO:modnet:Loss per individual: ind 0: 0.643 \tind 1: 0.613 \tind 2: 0.632 \tind 3: 0.609 \tind 4: 0.587 \tind 5: 0.689 \tind 6: 0.604 \tind 7: 0.675 \tind 8: 0.611 \tind 9: 0.657 \tind 10: 0.622 \tind 11: 0.633 \tind 12: 0.624 \tind 13: 0.623 \tind 14: 0.628 \tind 15: 0.599 \tind 16: 0.671 \tind 17: 0.627 \tind 18: 0.600 \tind 19: 0.661 \t\n"
     ]
    },
    {
     "name": "stdout",
     "output_type": "stream",
     "text": [
      "2021-06-18 18:38:54,940 - modnet - INFO - Generation number 5\n"
     ]
    },
    {
     "name": "stderr",
     "output_type": "stream",
     "text": [
      "INFO:modnet:Generation number 5\n"
     ]
    },
    {
     "name": "stdout",
     "output_type": "stream",
     "text": [
      "2021-06-18 18:39:13,361 - modnet - INFO - Multiprocessing on 32 cores. Total of 32 cores available.\n"
     ]
    },
    {
     "name": "stderr",
     "output_type": "stream",
     "text": [
      "INFO:modnet:Multiprocessing on 32 cores. Total of 32 cores available.\n",
      "100%|██████████| 100/100 [10:02<00:00,  6.02s/it]"
     ]
    },
    {
     "name": "stdout",
     "output_type": "stream",
     "text": [
      "2021-06-18 18:49:15,905 - modnet - INFO - Loss per individual: ind 0: 0.641 \tind 1: 0.617 \tind 2: 0.667 \tind 3: 0.636 \tind 4: 0.766 \tind 5: 0.618 \tind 6: 0.592 \tind 7: 0.624 \tind 8: 0.631 \tind 9: 0.658 \tind 10: 0.635 \tind 11: 0.632 \tind 12: 0.669 \tind 13: 0.632 \tind 14: 0.617 \tind 15: 0.638 \tind 16: 0.639 \tind 17: 0.592 \tind 18: 0.623 \tind 19: 0.641 \t\n"
     ]
    },
    {
     "name": "stderr",
     "output_type": "stream",
     "text": [
      "\n",
      "INFO:modnet:Loss per individual: ind 0: 0.641 \tind 1: 0.617 \tind 2: 0.667 \tind 3: 0.636 \tind 4: 0.766 \tind 5: 0.618 \tind 6: 0.592 \tind 7: 0.624 \tind 8: 0.631 \tind 9: 0.658 \tind 10: 0.635 \tind 11: 0.632 \tind 12: 0.669 \tind 13: 0.632 \tind 14: 0.617 \tind 15: 0.638 \tind 16: 0.639 \tind 17: 0.592 \tind 18: 0.623 \tind 19: 0.641 \t\n"
     ]
    },
    {
     "name": "stdout",
     "output_type": "stream",
     "text": [
      "2021-06-18 18:49:18,372 - modnet - INFO - Generation number 6\n"
     ]
    },
    {
     "name": "stderr",
     "output_type": "stream",
     "text": [
      "INFO:modnet:Generation number 6\n"
     ]
    },
    {
     "name": "stdout",
     "output_type": "stream",
     "text": [
      "2021-06-18 18:49:37,169 - modnet - INFO - Multiprocessing on 32 cores. Total of 32 cores available.\n"
     ]
    },
    {
     "name": "stderr",
     "output_type": "stream",
     "text": [
      "INFO:modnet:Multiprocessing on 32 cores. Total of 32 cores available.\n",
      "100%|██████████| 100/100 [11:01<00:00,  6.62s/it]"
     ]
    },
    {
     "name": "stdout",
     "output_type": "stream",
     "text": [
      "2021-06-18 19:00:38,774 - modnet - INFO - Loss per individual: ind 0: 0.690 \tind 1: 0.621 \tind 2: 0.672 \tind 3: 0.709 \tind 4: 0.631 \tind 5: 0.659 \tind 6: 0.637 \tind 7: 0.616 \tind 8: 0.639 \tind 9: 0.649 \tind 10: 0.617 \tind 11: 0.670 \tind 12: 0.649 \tind 13: 0.643 \tind 14: 0.639 \tind 15: 0.606 \tind 16: 0.671 \tind 17: 0.679 \tind 18: 0.658 \tind 19: 0.606 \t\n"
     ]
    },
    {
     "name": "stderr",
     "output_type": "stream",
     "text": [
      "\n",
      "INFO:modnet:Loss per individual: ind 0: 0.690 \tind 1: 0.621 \tind 2: 0.672 \tind 3: 0.709 \tind 4: 0.631 \tind 5: 0.659 \tind 6: 0.637 \tind 7: 0.616 \tind 8: 0.639 \tind 9: 0.649 \tind 10: 0.617 \tind 11: 0.670 \tind 12: 0.649 \tind 13: 0.643 \tind 14: 0.639 \tind 15: 0.606 \tind 16: 0.671 \tind 17: 0.679 \tind 18: 0.658 \tind 19: 0.606 \t\n"
     ]
    },
    {
     "name": "stdout",
     "output_type": "stream",
     "text": [
      "2021-06-18 19:00:41,433 - modnet - INFO - Generation number 7\n"
     ]
    },
    {
     "name": "stderr",
     "output_type": "stream",
     "text": [
      "INFO:modnet:Generation number 7\n"
     ]
    },
    {
     "name": "stdout",
     "output_type": "stream",
     "text": [
      "2021-06-18 19:01:00,277 - modnet - INFO - Multiprocessing on 32 cores. Total of 32 cores available.\n"
     ]
    },
    {
     "name": "stderr",
     "output_type": "stream",
     "text": [
      "INFO:modnet:Multiprocessing on 32 cores. Total of 32 cores available.\n",
      "100%|██████████| 100/100 [10:55<00:00,  6.56s/it]"
     ]
    },
    {
     "name": "stdout",
     "output_type": "stream",
     "text": [
      "2021-06-18 19:11:55,883 - modnet - INFO - Loss per individual: ind 0: 0.641 \tind 1: 0.627 \tind 2: 0.606 \tind 3: 0.637 \tind 4: 0.600 \tind 5: 0.627 \tind 6: 0.705 \tind 7: 0.676 \tind 8: 0.630 \tind 9: 0.625 \tind 10: 0.626 \tind 11: 0.652 \tind 12: 0.655 \tind 13: 0.594 \tind 14: 0.612 \tind 15: 0.667 \tind 16: 0.622 \tind 17: 0.609 \tind 18: 0.608 \tind 19: 0.630 \t\n"
     ]
    },
    {
     "name": "stderr",
     "output_type": "stream",
     "text": [
      "\n",
      "INFO:modnet:Loss per individual: ind 0: 0.641 \tind 1: 0.627 \tind 2: 0.606 \tind 3: 0.637 \tind 4: 0.600 \tind 5: 0.627 \tind 6: 0.705 \tind 7: 0.676 \tind 8: 0.630 \tind 9: 0.625 \tind 10: 0.626 \tind 11: 0.652 \tind 12: 0.655 \tind 13: 0.594 \tind 14: 0.612 \tind 15: 0.667 \tind 16: 0.622 \tind 17: 0.609 \tind 18: 0.608 \tind 19: 0.630 \t\n"
     ]
    },
    {
     "name": "stdout",
     "output_type": "stream",
     "text": [
      "2021-06-18 19:11:58,205 - modnet - INFO - Early stopping: same best model for 4 consecutive generations\n"
     ]
    },
    {
     "name": "stderr",
     "output_type": "stream",
     "text": [
      "INFO:modnet:Early stopping: same best model for 4 consecutive generations\n"
     ]
    },
    {
     "name": "stdout",
     "output_type": "stream",
     "text": [
      "Loaded 3 models\n",
      "MAE =\n",
      "0.3699528932763692\n",
      "2021-06-18 19:16:04,309 - modnet - INFO - Loaded <modnet.preprocessing.MODData object at 0x7f7b36c7e5b0> object, created with modnet version 0.1.9\n"
     ]
    },
    {
     "name": "stderr",
     "output_type": "stream",
     "text": [
      "INFO:modnet:Loaded <modnet.preprocessing.MODData object at 0x7f7b36c7e5b0> object, created with modnet version 0.1.9\n"
     ]
    },
    {
     "name": "stdout",
     "output_type": "stream",
     "text": [
      "2021-06-18 19:16:05,009 - modnet - INFO - Generation number 0\n"
     ]
    },
    {
     "name": "stderr",
     "output_type": "stream",
     "text": [
      "INFO:modnet:Generation number 0\n"
     ]
    },
    {
     "name": "stdout",
     "output_type": "stream",
     "text": [
      "2021-06-18 19:16:23,618 - modnet - INFO - Multiprocessing on 32 cores. Total of 32 cores available.\n"
     ]
    },
    {
     "name": "stderr",
     "output_type": "stream",
     "text": [
      "INFO:modnet:Multiprocessing on 32 cores. Total of 32 cores available.\n",
      "100%|██████████| 100/100 [13:16<00:00,  7.96s/it]"
     ]
    },
    {
     "name": "stdout",
     "output_type": "stream",
     "text": [
      "2021-06-18 19:29:39,786 - modnet - INFO - Loss per individual: ind 0: 0.653 \tind 1: 0.631 \tind 2: 0.629 \tind 3: 0.653 \tind 4: 0.698 \tind 5: 0.629 \tind 6: 0.735 \tind 7: 0.650 \tind 8: 0.753 \tind 9: 0.783 \tind 10: 0.673 \tind 11: 0.680 \tind 12: 0.648 \tind 13: 0.683 \tind 14: 0.704 \tind 15: 0.729 \tind 16: 0.642 \tind 17: 0.655 \tind 18: 0.664 \tind 19: 0.660 \t\n"
     ]
    },
    {
     "name": "stderr",
     "output_type": "stream",
     "text": [
      "\n",
      "INFO:modnet:Loss per individual: ind 0: 0.653 \tind 1: 0.631 \tind 2: 0.629 \tind 3: 0.653 \tind 4: 0.698 \tind 5: 0.629 \tind 6: 0.735 \tind 7: 0.650 \tind 8: 0.753 \tind 9: 0.783 \tind 10: 0.673 \tind 11: 0.680 \tind 12: 0.648 \tind 13: 0.683 \tind 14: 0.704 \tind 15: 0.729 \tind 16: 0.642 \tind 17: 0.655 \tind 18: 0.664 \tind 19: 0.660 \t\n"
     ]
    },
    {
     "name": "stdout",
     "output_type": "stream",
     "text": [
      "2021-06-18 19:29:42,342 - modnet - INFO - Generation number 1\n"
     ]
    },
    {
     "name": "stderr",
     "output_type": "stream",
     "text": [
      "INFO:modnet:Generation number 1\n"
     ]
    },
    {
     "name": "stdout",
     "output_type": "stream",
     "text": [
      "2021-06-18 19:30:00,275 - modnet - INFO - Multiprocessing on 32 cores. Total of 32 cores available.\n"
     ]
    },
    {
     "name": "stderr",
     "output_type": "stream",
     "text": [
      "INFO:modnet:Multiprocessing on 32 cores. Total of 32 cores available.\n",
      "100%|██████████| 100/100 [12:27<00:00,  7.47s/it] "
     ]
    },
    {
     "name": "stdout",
     "output_type": "stream",
     "text": [
      "2021-06-18 19:42:27,432 - modnet - INFO - Loss per individual: ind 0: 0.664 \tind 1: 0.692 \tind 2: 0.629 \tind 3: 0.637 \tind 4: 0.718 \tind 5: 0.625 \tind 6: 0.646 \tind 7: 0.678 \tind 8: 0.719 \tind 9: 0.690 \tind 10: 0.705 \tind 11: 0.698 \tind 12: 0.630 \tind 13: 0.730 \tind 14: 0.662 \tind 15: 0.715 \tind 16: 0.678 \tind 17: 0.651 \tind 18: 0.619 \tind 19: 0.647 \t\n"
     ]
    },
    {
     "name": "stderr",
     "output_type": "stream",
     "text": [
      "\n",
      "INFO:modnet:Loss per individual: ind 0: 0.664 \tind 1: 0.692 \tind 2: 0.629 \tind 3: 0.637 \tind 4: 0.718 \tind 5: 0.625 \tind 6: 0.646 \tind 7: 0.678 \tind 8: 0.719 \tind 9: 0.690 \tind 10: 0.705 \tind 11: 0.698 \tind 12: 0.630 \tind 13: 0.730 \tind 14: 0.662 \tind 15: 0.715 \tind 16: 0.678 \tind 17: 0.651 \tind 18: 0.619 \tind 19: 0.647 \t\n"
     ]
    },
    {
     "name": "stdout",
     "output_type": "stream",
     "text": [
      "2021-06-18 19:42:29,901 - modnet - INFO - Generation number 2\n"
     ]
    },
    {
     "name": "stderr",
     "output_type": "stream",
     "text": [
      "INFO:modnet:Generation number 2\n"
     ]
    },
    {
     "name": "stdout",
     "output_type": "stream",
     "text": [
      "2021-06-18 19:42:48,173 - modnet - INFO - Multiprocessing on 32 cores. Total of 32 cores available.\n"
     ]
    },
    {
     "name": "stderr",
     "output_type": "stream",
     "text": [
      "INFO:modnet:Multiprocessing on 32 cores. Total of 32 cores available.\n",
      "100%|██████████| 100/100 [10:54<00:00,  6.54s/it]"
     ]
    },
    {
     "name": "stdout",
     "output_type": "stream",
     "text": [
      "2021-06-18 19:53:42,293 - modnet - INFO - Loss per individual: ind 0: 0.618 \tind 1: 0.683 \tind 2: 0.647 \tind 3: 0.699 \tind 4: 0.708 \tind 5: 0.628 \tind 6: 0.708 \tind 7: 0.671 \tind 8: 0.633 \tind 9: 0.688 \tind 10: 0.614 \tind 11: 0.671 \tind 12: 0.616 \tind 13: 0.638 \tind 14: 0.633 \tind 15: 0.693 \tind 16: 0.739 \tind 17: 0.674 \tind 18: 0.644 \tind 19: 0.656 \t\n"
     ]
    },
    {
     "name": "stderr",
     "output_type": "stream",
     "text": [
      "\n",
      "INFO:modnet:Loss per individual: ind 0: 0.618 \tind 1: 0.683 \tind 2: 0.647 \tind 3: 0.699 \tind 4: 0.708 \tind 5: 0.628 \tind 6: 0.708 \tind 7: 0.671 \tind 8: 0.633 \tind 9: 0.688 \tind 10: 0.614 \tind 11: 0.671 \tind 12: 0.616 \tind 13: 0.638 \tind 14: 0.633 \tind 15: 0.693 \tind 16: 0.739 \tind 17: 0.674 \tind 18: 0.644 \tind 19: 0.656 \t\n"
     ]
    },
    {
     "name": "stdout",
     "output_type": "stream",
     "text": [
      "2021-06-18 19:53:44,797 - modnet - INFO - Generation number 3\n"
     ]
    },
    {
     "name": "stderr",
     "output_type": "stream",
     "text": [
      "INFO:modnet:Generation number 3\n"
     ]
    },
    {
     "name": "stdout",
     "output_type": "stream",
     "text": [
      "2021-06-18 19:54:03,196 - modnet - INFO - Multiprocessing on 32 cores. Total of 32 cores available.\n"
     ]
    },
    {
     "name": "stderr",
     "output_type": "stream",
     "text": [
      "INFO:modnet:Multiprocessing on 32 cores. Total of 32 cores available.\n",
      "100%|██████████| 100/100 [11:06<00:00,  6.66s/it]"
     ]
    },
    {
     "name": "stdout",
     "output_type": "stream",
     "text": [
      "2021-06-18 20:05:09,431 - modnet - INFO - Loss per individual: ind 0: 0.695 \tind 1: 0.758 \tind 2: 0.674 \tind 3: 0.694 \tind 4: 0.648 \tind 5: 0.701 \tind 6: 0.676 \tind 7: 0.653 \tind 8: 0.627 \tind 9: 0.690 \tind 10: 0.668 \tind 11: 0.671 \tind 12: 0.644 \tind 13: 0.670 \tind 14: 0.652 \tind 15: 0.654 \tind 16: 0.665 \tind 17: 0.663 \tind 18: 0.636 \tind 19: 0.620 \t\n"
     ]
    },
    {
     "name": "stderr",
     "output_type": "stream",
     "text": [
      "\n",
      "INFO:modnet:Loss per individual: ind 0: 0.695 \tind 1: 0.758 \tind 2: 0.674 \tind 3: 0.694 \tind 4: 0.648 \tind 5: 0.701 \tind 6: 0.676 \tind 7: 0.653 \tind 8: 0.627 \tind 9: 0.690 \tind 10: 0.668 \tind 11: 0.671 \tind 12: 0.644 \tind 13: 0.670 \tind 14: 0.652 \tind 15: 0.654 \tind 16: 0.665 \tind 17: 0.663 \tind 18: 0.636 \tind 19: 0.620 \t\n"
     ]
    },
    {
     "name": "stdout",
     "output_type": "stream",
     "text": [
      "2021-06-18 20:05:11,891 - modnet - INFO - Generation number 4\n"
     ]
    },
    {
     "name": "stderr",
     "output_type": "stream",
     "text": [
      "INFO:modnet:Generation number 4\n"
     ]
    },
    {
     "name": "stdout",
     "output_type": "stream",
     "text": [
      "2021-06-18 20:05:30,578 - modnet - INFO - Multiprocessing on 32 cores. Total of 32 cores available.\n"
     ]
    },
    {
     "name": "stderr",
     "output_type": "stream",
     "text": [
      "INFO:modnet:Multiprocessing on 32 cores. Total of 32 cores available.\n",
      "100%|██████████| 100/100 [10:35<00:00,  6.36s/it] "
     ]
    },
    {
     "name": "stdout",
     "output_type": "stream",
     "text": [
      "2021-06-18 20:16:06,173 - modnet - INFO - Loss per individual: ind 0: 0.657 \tind 1: 0.633 \tind 2: 0.685 \tind 3: 0.685 \tind 4: 0.666 \tind 5: 0.672 \tind 6: 0.697 \tind 7: 0.649 \tind 8: 0.627 \tind 9: 0.643 \tind 10: 0.614 \tind 11: 0.708 \tind 12: 0.703 \tind 13: 0.630 \tind 14: 0.673 \tind 15: 0.643 \tind 16: 0.657 \tind 17: 0.632 \tind 18: 0.636 \tind 19: 0.639 \t\n"
     ]
    },
    {
     "name": "stderr",
     "output_type": "stream",
     "text": [
      "\n",
      "INFO:modnet:Loss per individual: ind 0: 0.657 \tind 1: 0.633 \tind 2: 0.685 \tind 3: 0.685 \tind 4: 0.666 \tind 5: 0.672 \tind 6: 0.697 \tind 7: 0.649 \tind 8: 0.627 \tind 9: 0.643 \tind 10: 0.614 \tind 11: 0.708 \tind 12: 0.703 \tind 13: 0.630 \tind 14: 0.673 \tind 15: 0.643 \tind 16: 0.657 \tind 17: 0.632 \tind 18: 0.636 \tind 19: 0.639 \t\n"
     ]
    },
    {
     "name": "stdout",
     "output_type": "stream",
     "text": [
      "2021-06-18 20:16:08,775 - modnet - INFO - Generation number 5\n"
     ]
    },
    {
     "name": "stderr",
     "output_type": "stream",
     "text": [
      "INFO:modnet:Generation number 5\n"
     ]
    },
    {
     "name": "stdout",
     "output_type": "stream",
     "text": [
      "2021-06-18 20:16:27,191 - modnet - INFO - Multiprocessing on 32 cores. Total of 32 cores available.\n"
     ]
    },
    {
     "name": "stderr",
     "output_type": "stream",
     "text": [
      "INFO:modnet:Multiprocessing on 32 cores. Total of 32 cores available.\n",
      "100%|██████████| 100/100 [13:33<00:00,  8.14s/it]"
     ]
    },
    {
     "name": "stdout",
     "output_type": "stream",
     "text": [
      "2021-06-18 20:30:00,870 - modnet - INFO - Loss per individual: ind 0: 0.672 \tind 1: 0.667 \tind 2: 0.658 \tind 3: 0.676 \tind 4: 0.649 \tind 5: 0.690 \tind 6: 0.687 \tind 7: 0.737 \tind 8: 0.625 \tind 9: 0.649 \tind 10: 0.646 \tind 11: 0.625 \tind 12: 0.635 \tind 13: 0.671 \tind 14: 0.631 \tind 15: 0.679 \tind 16: 0.665 \tind 17: 0.667 \tind 18: 0.651 \tind 19: 0.643 \t\n"
     ]
    },
    {
     "name": "stderr",
     "output_type": "stream",
     "text": [
      "\n",
      "INFO:modnet:Loss per individual: ind 0: 0.672 \tind 1: 0.667 \tind 2: 0.658 \tind 3: 0.676 \tind 4: 0.649 \tind 5: 0.690 \tind 6: 0.687 \tind 7: 0.737 \tind 8: 0.625 \tind 9: 0.649 \tind 10: 0.646 \tind 11: 0.625 \tind 12: 0.635 \tind 13: 0.671 \tind 14: 0.631 \tind 15: 0.679 \tind 16: 0.665 \tind 17: 0.667 \tind 18: 0.651 \tind 19: 0.643 \t\n"
     ]
    },
    {
     "name": "stdout",
     "output_type": "stream",
     "text": [
      "2021-06-18 20:30:03,335 - modnet - INFO - Generation number 6\n"
     ]
    },
    {
     "name": "stderr",
     "output_type": "stream",
     "text": [
      "INFO:modnet:Generation number 6\n"
     ]
    },
    {
     "name": "stdout",
     "output_type": "stream",
     "text": [
      "2021-06-18 20:30:22,009 - modnet - INFO - Multiprocessing on 32 cores. Total of 32 cores available.\n"
     ]
    },
    {
     "name": "stderr",
     "output_type": "stream",
     "text": [
      "INFO:modnet:Multiprocessing on 32 cores. Total of 32 cores available.\n",
      "100%|██████████| 100/100 [10:35<00:00,  6.36s/it]"
     ]
    },
    {
     "name": "stdout",
     "output_type": "stream",
     "text": [
      "2021-06-18 20:40:57,621 - modnet - INFO - Loss per individual: ind 0: 0.630 \tind 1: 0.693 \tind 2: 0.636 \tind 3: 0.674 \tind 4: 0.635 \tind 5: 0.696 \tind 6: 0.641 \tind 7: 0.652 \tind 8: 0.695 \tind 9: 0.668 \tind 10: 0.628 \tind 11: 0.644 \tind 12: 0.625 \tind 13: 0.654 \tind 14: 0.635 \tind 15: 0.690 \tind 16: 0.658 \tind 17: 0.666 \tind 18: 0.632 \tind 19: 0.656 \t\n"
     ]
    },
    {
     "name": "stderr",
     "output_type": "stream",
     "text": [
      "\n",
      "INFO:modnet:Loss per individual: ind 0: 0.630 \tind 1: 0.693 \tind 2: 0.636 \tind 3: 0.674 \tind 4: 0.635 \tind 5: 0.696 \tind 6: 0.641 \tind 7: 0.652 \tind 8: 0.695 \tind 9: 0.668 \tind 10: 0.628 \tind 11: 0.644 \tind 12: 0.625 \tind 13: 0.654 \tind 14: 0.635 \tind 15: 0.690 \tind 16: 0.658 \tind 17: 0.666 \tind 18: 0.632 \tind 19: 0.656 \t\n"
     ]
    },
    {
     "name": "stdout",
     "output_type": "stream",
     "text": [
      "2021-06-18 20:41:00,065 - modnet - INFO - Generation number 7\n"
     ]
    },
    {
     "name": "stderr",
     "output_type": "stream",
     "text": [
      "INFO:modnet:Generation number 7\n"
     ]
    },
    {
     "name": "stdout",
     "output_type": "stream",
     "text": [
      "2021-06-18 20:41:18,740 - modnet - INFO - Multiprocessing on 32 cores. Total of 32 cores available.\n"
     ]
    },
    {
     "name": "stderr",
     "output_type": "stream",
     "text": [
      "INFO:modnet:Multiprocessing on 32 cores. Total of 32 cores available.\n",
      "100%|██████████| 100/100 [12:42<00:00,  7.62s/it]"
     ]
    },
    {
     "name": "stdout",
     "output_type": "stream",
     "text": [
      "2021-06-18 20:54:01,212 - modnet - INFO - Loss per individual: ind 0: 0.623 \tind 1: 0.671 \tind 2: 0.648 \tind 3: 0.654 \tind 4: 0.666 \tind 5: 0.643 \tind 6: 0.673 \tind 7: 0.625 \tind 8: 0.634 \tind 9: 0.627 \tind 10: 0.680 \tind 11: 0.658 \tind 12: 0.648 \tind 13: 0.651 \tind 14: 0.656 \tind 15: 0.723 \tind 16: 0.645 \tind 17: 0.680 \tind 18: 0.669 \tind 19: 0.674 \t\n"
     ]
    },
    {
     "name": "stderr",
     "output_type": "stream",
     "text": [
      "\n",
      "INFO:modnet:Loss per individual: ind 0: 0.623 \tind 1: 0.671 \tind 2: 0.648 \tind 3: 0.654 \tind 4: 0.666 \tind 5: 0.643 \tind 6: 0.673 \tind 7: 0.625 \tind 8: 0.634 \tind 9: 0.627 \tind 10: 0.680 \tind 11: 0.658 \tind 12: 0.648 \tind 13: 0.651 \tind 14: 0.656 \tind 15: 0.723 \tind 16: 0.645 \tind 17: 0.680 \tind 18: 0.669 \tind 19: 0.674 \t\n"
     ]
    },
    {
     "name": "stdout",
     "output_type": "stream",
     "text": [
      "2021-06-18 20:54:03,824 - modnet - INFO - Early stopping: same best model for 4 consecutive generations\n"
     ]
    },
    {
     "name": "stderr",
     "output_type": "stream",
     "text": [
      "INFO:modnet:Early stopping: same best model for 4 consecutive generations\n"
     ]
    },
    {
     "name": "stdout",
     "output_type": "stream",
     "text": [
      "Loaded 3 models\n",
      "MAE =\n",
      "0.376057241069126\n",
      "2021-06-18 20:58:10,502 - modnet - INFO - Loaded <modnet.preprocessing.MODData object at 0x7f7d2551e130> object, created with modnet version 0.1.9\n"
     ]
    },
    {
     "name": "stderr",
     "output_type": "stream",
     "text": [
      "INFO:modnet:Loaded <modnet.preprocessing.MODData object at 0x7f7d2551e130> object, created with modnet version 0.1.9\n"
     ]
    },
    {
     "name": "stdout",
     "output_type": "stream",
     "text": [
      "2021-06-18 20:58:11,296 - modnet - INFO - Generation number 0\n"
     ]
    },
    {
     "name": "stderr",
     "output_type": "stream",
     "text": [
      "INFO:modnet:Generation number 0\n"
     ]
    },
    {
     "name": "stdout",
     "output_type": "stream",
     "text": [
      "2021-06-18 20:58:29,887 - modnet - INFO - Multiprocessing on 32 cores. Total of 32 cores available.\n"
     ]
    },
    {
     "name": "stderr",
     "output_type": "stream",
     "text": [
      "INFO:modnet:Multiprocessing on 32 cores. Total of 32 cores available.\n",
      "100%|██████████| 100/100 [12:15<00:00,  7.36s/it] "
     ]
    },
    {
     "name": "stdout",
     "output_type": "stream",
     "text": [
      "2021-06-18 21:10:45,859 - modnet - INFO - Loss per individual: ind 0: 0.629 \tind 1: 0.605 \tind 2: 0.639 \tind 3: 0.667 \tind 4: 0.616 \tind 5: 0.640 \tind 6: 0.622 \tind 7: 2.296 \tind 8: 0.649 \tind 9: 4.338 \tind 10: 0.685 \tind 11: 1.040 \tind 12: 1.843 \tind 13: 0.615 \tind 14: 0.659 \tind 15: 1.650 \tind 16: 0.704 \tind 17: 5.248 \tind 18: 0.654 \tind 19: 11.080 \t\n"
     ]
    },
    {
     "name": "stderr",
     "output_type": "stream",
     "text": [
      "\n",
      "INFO:modnet:Loss per individual: ind 0: 0.629 \tind 1: 0.605 \tind 2: 0.639 \tind 3: 0.667 \tind 4: 0.616 \tind 5: 0.640 \tind 6: 0.622 \tind 7: 2.296 \tind 8: 0.649 \tind 9: 4.338 \tind 10: 0.685 \tind 11: 1.040 \tind 12: 1.843 \tind 13: 0.615 \tind 14: 0.659 \tind 15: 1.650 \tind 16: 0.704 \tind 17: 5.248 \tind 18: 0.654 \tind 19: 11.080 \t\n"
     ]
    },
    {
     "name": "stdout",
     "output_type": "stream",
     "text": [
      "2021-06-18 21:10:48,337 - modnet - INFO - Generation number 1\n"
     ]
    },
    {
     "name": "stderr",
     "output_type": "stream",
     "text": [
      "INFO:modnet:Generation number 1\n"
     ]
    },
    {
     "name": "stdout",
     "output_type": "stream",
     "text": [
      "2021-06-18 21:11:06,471 - modnet - INFO - Multiprocessing on 32 cores. Total of 32 cores available.\n"
     ]
    },
    {
     "name": "stderr",
     "output_type": "stream",
     "text": [
      "INFO:modnet:Multiprocessing on 32 cores. Total of 32 cores available.\n",
      "100%|██████████| 100/100 [09:19<00:00,  5.59s/it]"
     ]
    },
    {
     "name": "stdout",
     "output_type": "stream",
     "text": [
      "2021-06-18 21:20:25,923 - modnet - INFO - Loss per individual: ind 0: 0.612 \tind 1: 0.618 \tind 2: 0.596 \tind 3: 0.620 \tind 4: 0.599 \tind 5: 0.624 \tind 6: 0.616 \tind 7: 0.638 \tind 8: 0.671 \tind 9: 0.718 \tind 10: 0.590 \tind 11: 0.679 \tind 12: 0.627 \tind 13: 0.653 \tind 14: 0.655 \tind 15: 0.614 \tind 16: 0.654 \tind 17: 0.627 \tind 18: 0.625 \tind 19: 0.664 \t\n"
     ]
    },
    {
     "name": "stderr",
     "output_type": "stream",
     "text": [
      "\n",
      "INFO:modnet:Loss per individual: ind 0: 0.612 \tind 1: 0.618 \tind 2: 0.596 \tind 3: 0.620 \tind 4: 0.599 \tind 5: 0.624 \tind 6: 0.616 \tind 7: 0.638 \tind 8: 0.671 \tind 9: 0.718 \tind 10: 0.590 \tind 11: 0.679 \tind 12: 0.627 \tind 13: 0.653 \tind 14: 0.655 \tind 15: 0.614 \tind 16: 0.654 \tind 17: 0.627 \tind 18: 0.625 \tind 19: 0.664 \t\n"
     ]
    },
    {
     "name": "stdout",
     "output_type": "stream",
     "text": [
      "2021-06-18 21:20:28,454 - modnet - INFO - Generation number 2\n"
     ]
    },
    {
     "name": "stderr",
     "output_type": "stream",
     "text": [
      "INFO:modnet:Generation number 2\n"
     ]
    },
    {
     "name": "stdout",
     "output_type": "stream",
     "text": [
      "2021-06-18 21:20:47,148 - modnet - INFO - Multiprocessing on 32 cores. Total of 32 cores available.\n"
     ]
    },
    {
     "name": "stderr",
     "output_type": "stream",
     "text": [
      "INFO:modnet:Multiprocessing on 32 cores. Total of 32 cores available.\n",
      "100%|██████████| 100/100 [12:23<00:00,  7.43s/it]"
     ]
    },
    {
     "name": "stdout",
     "output_type": "stream",
     "text": [
      "2021-06-18 21:33:10,610 - modnet - INFO - Loss per individual: ind 0: 0.611 \tind 1: 0.690 \tind 2: 0.636 \tind 3: 0.615 \tind 4: 0.606 \tind 5: 0.650 \tind 6: 0.611 \tind 7: 0.632 \tind 8: 0.596 \tind 9: 0.673 \tind 10: 0.620 \tind 11: 0.617 \tind 12: 0.656 \tind 13: 0.671 \tind 14: 0.649 \tind 15: 0.687 \tind 16: 0.686 \tind 17: 0.618 \tind 18: 0.593 \tind 19: 0.617 \t\n"
     ]
    },
    {
     "name": "stderr",
     "output_type": "stream",
     "text": [
      "\n",
      "INFO:modnet:Loss per individual: ind 0: 0.611 \tind 1: 0.690 \tind 2: 0.636 \tind 3: 0.615 \tind 4: 0.606 \tind 5: 0.650 \tind 6: 0.611 \tind 7: 0.632 \tind 8: 0.596 \tind 9: 0.673 \tind 10: 0.620 \tind 11: 0.617 \tind 12: 0.656 \tind 13: 0.671 \tind 14: 0.649 \tind 15: 0.687 \tind 16: 0.686 \tind 17: 0.618 \tind 18: 0.593 \tind 19: 0.617 \t\n"
     ]
    },
    {
     "name": "stdout",
     "output_type": "stream",
     "text": [
      "2021-06-18 21:33:13,204 - modnet - INFO - Generation number 3\n"
     ]
    },
    {
     "name": "stderr",
     "output_type": "stream",
     "text": [
      "INFO:modnet:Generation number 3\n"
     ]
    },
    {
     "name": "stdout",
     "output_type": "stream",
     "text": [
      "2021-06-18 21:33:31,145 - modnet - INFO - Multiprocessing on 32 cores. Total of 32 cores available.\n"
     ]
    },
    {
     "name": "stderr",
     "output_type": "stream",
     "text": [
      "INFO:modnet:Multiprocessing on 32 cores. Total of 32 cores available.\n",
      "100%|██████████| 100/100 [10:46<00:00,  6.47s/it]"
     ]
    },
    {
     "name": "stdout",
     "output_type": "stream",
     "text": [
      "2021-06-18 21:44:18,145 - modnet - INFO - Loss per individual: ind 0: 0.603 \tind 1: 0.603 \tind 2: 0.609 \tind 3: 0.725 \tind 4: 0.633 \tind 5: 0.623 \tind 6: 0.668 \tind 7: 0.678 \tind 8: 0.627 \tind 9: 0.624 \tind 10: 0.631 \tind 11: 0.632 \tind 12: 0.625 \tind 13: 0.606 \tind 14: 0.691 \tind 15: 0.610 \tind 16: 0.676 \tind 17: 0.622 \tind 18: 0.693 \tind 19: 0.622 \t\n"
     ]
    },
    {
     "name": "stderr",
     "output_type": "stream",
     "text": [
      "\n",
      "INFO:modnet:Loss per individual: ind 0: 0.603 \tind 1: 0.603 \tind 2: 0.609 \tind 3: 0.725 \tind 4: 0.633 \tind 5: 0.623 \tind 6: 0.668 \tind 7: 0.678 \tind 8: 0.627 \tind 9: 0.624 \tind 10: 0.631 \tind 11: 0.632 \tind 12: 0.625 \tind 13: 0.606 \tind 14: 0.691 \tind 15: 0.610 \tind 16: 0.676 \tind 17: 0.622 \tind 18: 0.693 \tind 19: 0.622 \t\n"
     ]
    },
    {
     "name": "stdout",
     "output_type": "stream",
     "text": [
      "2021-06-18 21:44:20,516 - modnet - INFO - Generation number 4\n"
     ]
    },
    {
     "name": "stderr",
     "output_type": "stream",
     "text": [
      "INFO:modnet:Generation number 4\n"
     ]
    },
    {
     "name": "stdout",
     "output_type": "stream",
     "text": [
      "2021-06-18 21:44:38,698 - modnet - INFO - Multiprocessing on 32 cores. Total of 32 cores available.\n"
     ]
    },
    {
     "name": "stderr",
     "output_type": "stream",
     "text": [
      "INFO:modnet:Multiprocessing on 32 cores. Total of 32 cores available.\n",
      "100%|██████████| 100/100 [11:08<00:00,  6.68s/it] "
     ]
    },
    {
     "name": "stdout",
     "output_type": "stream",
     "text": [
      "2021-06-18 21:55:46,803 - modnet - INFO - Loss per individual: ind 0: 0.698 \tind 1: 0.595 \tind 2: 0.639 \tind 3: 0.614 \tind 4: 0.622 \tind 5: 0.628 \tind 6: 0.631 \tind 7: 0.661 \tind 8: 0.668 \tind 9: 0.590 \tind 10: 0.672 \tind 11: 1.012 \tind 12: 0.713 \tind 13: 0.609 \tind 14: 0.656 \tind 15: 0.629 \tind 16: 0.591 \tind 17: 0.616 \tind 18: 0.775 \tind 19: 0.637 \t\n"
     ]
    },
    {
     "name": "stderr",
     "output_type": "stream",
     "text": [
      "\n",
      "INFO:modnet:Loss per individual: ind 0: 0.698 \tind 1: 0.595 \tind 2: 0.639 \tind 3: 0.614 \tind 4: 0.622 \tind 5: 0.628 \tind 6: 0.631 \tind 7: 0.661 \tind 8: 0.668 \tind 9: 0.590 \tind 10: 0.672 \tind 11: 1.012 \tind 12: 0.713 \tind 13: 0.609 \tind 14: 0.656 \tind 15: 0.629 \tind 16: 0.591 \tind 17: 0.616 \tind 18: 0.775 \tind 19: 0.637 \t\n"
     ]
    },
    {
     "name": "stdout",
     "output_type": "stream",
     "text": [
      "2021-06-18 21:55:49,407 - modnet - INFO - Generation number 5\n"
     ]
    },
    {
     "name": "stderr",
     "output_type": "stream",
     "text": [
      "INFO:modnet:Generation number 5\n"
     ]
    },
    {
     "name": "stdout",
     "output_type": "stream",
     "text": [
      "2021-06-18 21:56:08,110 - modnet - INFO - Multiprocessing on 32 cores. Total of 32 cores available.\n"
     ]
    },
    {
     "name": "stderr",
     "output_type": "stream",
     "text": [
      "INFO:modnet:Multiprocessing on 32 cores. Total of 32 cores available.\n",
      "100%|██████████| 100/100 [12:09<00:00,  7.30s/it]"
     ]
    },
    {
     "name": "stdout",
     "output_type": "stream",
     "text": [
      "2021-06-18 22:08:17,897 - modnet - INFO - Loss per individual: ind 0: 0.633 \tind 1: 0.613 \tind 2: 0.619 \tind 3: 0.602 \tind 4: 0.626 \tind 5: 0.637 \tind 6: 0.601 \tind 7: 0.611 \tind 8: 0.856 \tind 9: 0.620 \tind 10: 0.640 \tind 11: 0.639 \tind 12: 0.616 \tind 13: 0.603 \tind 14: 0.648 \tind 15: 0.645 \tind 16: 0.623 \tind 17: 0.644 \tind 18: 0.602 \tind 19: 0.618 \t\n"
     ]
    },
    {
     "name": "stderr",
     "output_type": "stream",
     "text": [
      "\n",
      "INFO:modnet:Loss per individual: ind 0: 0.633 \tind 1: 0.613 \tind 2: 0.619 \tind 3: 0.602 \tind 4: 0.626 \tind 5: 0.637 \tind 6: 0.601 \tind 7: 0.611 \tind 8: 0.856 \tind 9: 0.620 \tind 10: 0.640 \tind 11: 0.639 \tind 12: 0.616 \tind 13: 0.603 \tind 14: 0.648 \tind 15: 0.645 \tind 16: 0.623 \tind 17: 0.644 \tind 18: 0.602 \tind 19: 0.618 \t\n"
     ]
    },
    {
     "name": "stdout",
     "output_type": "stream",
     "text": [
      "2021-06-18 22:08:20,379 - modnet - INFO - Generation number 6\n"
     ]
    },
    {
     "name": "stderr",
     "output_type": "stream",
     "text": [
      "INFO:modnet:Generation number 6\n"
     ]
    },
    {
     "name": "stdout",
     "output_type": "stream",
     "text": [
      "2021-06-18 22:08:39,631 - modnet - INFO - Multiprocessing on 32 cores. Total of 32 cores available.\n"
     ]
    },
    {
     "name": "stderr",
     "output_type": "stream",
     "text": [
      "INFO:modnet:Multiprocessing on 32 cores. Total of 32 cores available.\n",
      "100%|██████████| 100/100 [11:42<00:00,  7.02s/it]"
     ]
    },
    {
     "name": "stdout",
     "output_type": "stream",
     "text": [
      "2021-06-18 22:20:21,802 - modnet - INFO - Loss per individual: ind 0: 0.638 \tind 1: 0.684 \tind 2: 0.612 \tind 3: 1.174 \tind 4: 0.618 \tind 5: 0.642 \tind 6: 0.621 \tind 7: 0.668 \tind 8: 0.655 \tind 9: 0.616 \tind 10: 0.612 \tind 11: 0.618 \tind 12: 0.609 \tind 13: 0.733 \tind 14: 0.617 \tind 15: 0.617 \tind 16: 0.632 \tind 17: 0.622 \tind 18: 0.608 \tind 19: 0.649 \t\n"
     ]
    },
    {
     "name": "stderr",
     "output_type": "stream",
     "text": [
      "\n",
      "INFO:modnet:Loss per individual: ind 0: 0.638 \tind 1: 0.684 \tind 2: 0.612 \tind 3: 1.174 \tind 4: 0.618 \tind 5: 0.642 \tind 6: 0.621 \tind 7: 0.668 \tind 8: 0.655 \tind 9: 0.616 \tind 10: 0.612 \tind 11: 0.618 \tind 12: 0.609 \tind 13: 0.733 \tind 14: 0.617 \tind 15: 0.617 \tind 16: 0.632 \tind 17: 0.622 \tind 18: 0.608 \tind 19: 0.649 \t\n"
     ]
    },
    {
     "name": "stdout",
     "output_type": "stream",
     "text": [
      "2021-06-18 22:20:24,446 - modnet - INFO - Generation number 7\n"
     ]
    },
    {
     "name": "stderr",
     "output_type": "stream",
     "text": [
      "INFO:modnet:Generation number 7\n"
     ]
    },
    {
     "name": "stdout",
     "output_type": "stream",
     "text": [
      "2021-06-18 22:20:42,962 - modnet - INFO - Multiprocessing on 32 cores. Total of 32 cores available.\n"
     ]
    },
    {
     "name": "stderr",
     "output_type": "stream",
     "text": [
      "INFO:modnet:Multiprocessing on 32 cores. Total of 32 cores available.\n",
      "100%|██████████| 100/100 [10:34<00:00,  6.34s/it]"
     ]
    },
    {
     "name": "stdout",
     "output_type": "stream",
     "text": [
      "2021-06-18 22:31:17,251 - modnet - INFO - Loss per individual: ind 0: 0.620 \tind 1: 0.606 \tind 2: 0.647 \tind 3: 0.609 \tind 4: 0.633 \tind 5: 0.625 \tind 6: 0.603 \tind 7: 0.635 \tind 8: 0.722 \tind 9: 0.630 \tind 10: 0.645 \tind 11: 0.618 \tind 12: 0.650 \tind 13: 0.647 \tind 14: 0.622 \tind 15: 0.638 \tind 16: 0.624 \tind 17: 0.614 \tind 18: 0.649 \tind 19: 0.618 \t\n"
     ]
    },
    {
     "name": "stderr",
     "output_type": "stream",
     "text": [
      "\n",
      "INFO:modnet:Loss per individual: ind 0: 0.620 \tind 1: 0.606 \tind 2: 0.647 \tind 3: 0.609 \tind 4: 0.633 \tind 5: 0.625 \tind 6: 0.603 \tind 7: 0.635 \tind 8: 0.722 \tind 9: 0.630 \tind 10: 0.645 \tind 11: 0.618 \tind 12: 0.650 \tind 13: 0.647 \tind 14: 0.622 \tind 15: 0.638 \tind 16: 0.624 \tind 17: 0.614 \tind 18: 0.649 \tind 19: 0.618 \t\n"
     ]
    },
    {
     "name": "stdout",
     "output_type": "stream",
     "text": [
      "2021-06-18 22:31:19,882 - modnet - INFO - Early stopping: same best model for 4 consecutive generations\n"
     ]
    },
    {
     "name": "stderr",
     "output_type": "stream",
     "text": [
      "INFO:modnet:Early stopping: same best model for 4 consecutive generations\n"
     ]
    },
    {
     "name": "stdout",
     "output_type": "stream",
     "text": [
      "Loaded 3 models\n",
      "MAE =\n",
      "0.33940861051010557\n",
      "2021-06-18 22:35:37,410 - modnet - INFO - Loaded <modnet.preprocessing.MODData object at 0x7f7f2dedb9d0> object, created with modnet version 0.1.9\n"
     ]
    },
    {
     "name": "stderr",
     "output_type": "stream",
     "text": [
      "INFO:modnet:Loaded <modnet.preprocessing.MODData object at 0x7f7f2dedb9d0> object, created with modnet version 0.1.9\n"
     ]
    },
    {
     "name": "stdout",
     "output_type": "stream",
     "text": [
      "2021-06-18 22:35:38,192 - modnet - INFO - Generation number 0\n"
     ]
    },
    {
     "name": "stderr",
     "output_type": "stream",
     "text": [
      "INFO:modnet:Generation number 0\n"
     ]
    },
    {
     "name": "stdout",
     "output_type": "stream",
     "text": [
      "2021-06-18 22:35:57,727 - modnet - INFO - Multiprocessing on 32 cores. Total of 32 cores available.\n"
     ]
    },
    {
     "name": "stderr",
     "output_type": "stream",
     "text": [
      "INFO:modnet:Multiprocessing on 32 cores. Total of 32 cores available.\n",
      "100%|██████████| 100/100 [11:32<00:00,  6.93s/it] "
     ]
    },
    {
     "name": "stdout",
     "output_type": "stream",
     "text": [
      "2021-06-18 22:47:30,445 - modnet - INFO - Loss per individual: ind 0: 0.634 \tind 1: 0.629 \tind 2: 0.715 \tind 3: 0.646 \tind 4: 0.623 \tind 5: 0.636 \tind 6: 0.728 \tind 7: 2.757 \tind 8: 0.714 \tind 9: 0.616 \tind 10: 0.661 \tind 11: 0.659 \tind 12: 0.588 \tind 13: 0.588 \tind 14: 0.641 \tind 15: 0.641 \tind 16: 0.598 \tind 17: 0.598 \tind 18: 0.602 \tind 19: 0.648 \t\n"
     ]
    },
    {
     "name": "stderr",
     "output_type": "stream",
     "text": [
      "\n",
      "INFO:modnet:Loss per individual: ind 0: 0.634 \tind 1: 0.629 \tind 2: 0.715 \tind 3: 0.646 \tind 4: 0.623 \tind 5: 0.636 \tind 6: 0.728 \tind 7: 2.757 \tind 8: 0.714 \tind 9: 0.616 \tind 10: 0.661 \tind 11: 0.659 \tind 12: 0.588 \tind 13: 0.588 \tind 14: 0.641 \tind 15: 0.641 \tind 16: 0.598 \tind 17: 0.598 \tind 18: 0.602 \tind 19: 0.648 \t\n"
     ]
    },
    {
     "name": "stdout",
     "output_type": "stream",
     "text": [
      "2021-06-18 22:47:33,069 - modnet - INFO - Generation number 1\n"
     ]
    },
    {
     "name": "stderr",
     "output_type": "stream",
     "text": [
      "INFO:modnet:Generation number 1\n"
     ]
    },
    {
     "name": "stdout",
     "output_type": "stream",
     "text": [
      "2021-06-18 22:47:51,640 - modnet - INFO - Multiprocessing on 32 cores. Total of 32 cores available.\n"
     ]
    },
    {
     "name": "stderr",
     "output_type": "stream",
     "text": [
      "INFO:modnet:Multiprocessing on 32 cores. Total of 32 cores available.\n",
      "100%|██████████| 100/100 [11:56<00:00,  7.17s/it] "
     ]
    },
    {
     "name": "stdout",
     "output_type": "stream",
     "text": [
      "2021-06-18 22:59:48,365 - modnet - INFO - Loss per individual: ind 0: 0.769 \tind 1: 0.619 \tind 2: 0.696 \tind 3: 0.629 \tind 4: 0.590 \tind 5: 0.619 \tind 6: 0.639 \tind 7: 0.608 \tind 8: 0.617 \tind 9: 0.644 \tind 10: 0.636 \tind 11: 0.675 \tind 12: 0.620 \tind 13: 0.669 \tind 14: 0.658 \tind 15: 0.678 \tind 16: 0.601 \tind 17: 0.694 \tind 18: 0.679 \tind 19: 0.628 \t\n"
     ]
    },
    {
     "name": "stderr",
     "output_type": "stream",
     "text": [
      "\n",
      "INFO:modnet:Loss per individual: ind 0: 0.769 \tind 1: 0.619 \tind 2: 0.696 \tind 3: 0.629 \tind 4: 0.590 \tind 5: 0.619 \tind 6: 0.639 \tind 7: 0.608 \tind 8: 0.617 \tind 9: 0.644 \tind 10: 0.636 \tind 11: 0.675 \tind 12: 0.620 \tind 13: 0.669 \tind 14: 0.658 \tind 15: 0.678 \tind 16: 0.601 \tind 17: 0.694 \tind 18: 0.679 \tind 19: 0.628 \t\n"
     ]
    },
    {
     "name": "stdout",
     "output_type": "stream",
     "text": [
      "2021-06-18 22:59:51,174 - modnet - INFO - Generation number 2\n"
     ]
    },
    {
     "name": "stderr",
     "output_type": "stream",
     "text": [
      "INFO:modnet:Generation number 2\n"
     ]
    },
    {
     "name": "stdout",
     "output_type": "stream",
     "text": [
      "2021-06-18 23:00:09,971 - modnet - INFO - Multiprocessing on 32 cores. Total of 32 cores available.\n"
     ]
    },
    {
     "name": "stderr",
     "output_type": "stream",
     "text": [
      "INFO:modnet:Multiprocessing on 32 cores. Total of 32 cores available.\n",
      "100%|██████████| 100/100 [10:28<00:00,  6.28s/it] "
     ]
    },
    {
     "name": "stdout",
     "output_type": "stream",
     "text": [
      "2021-06-18 23:10:38,438 - modnet - INFO - Loss per individual: ind 0: 0.631 \tind 1: 0.607 \tind 2: 0.617 \tind 3: 0.596 \tind 4: 0.641 \tind 5: 0.651 \tind 6: 0.598 \tind 7: 0.603 \tind 8: 0.574 \tind 9: 0.754 \tind 10: 0.627 \tind 11: 0.619 \tind 12: 0.640 \tind 13: 0.643 \tind 14: 0.597 \tind 15: 0.627 \tind 16: 0.609 \tind 17: 0.620 \tind 18: 0.582 \tind 19: 0.735 \t\n"
     ]
    },
    {
     "name": "stderr",
     "output_type": "stream",
     "text": [
      "\n",
      "INFO:modnet:Loss per individual: ind 0: 0.631 \tind 1: 0.607 \tind 2: 0.617 \tind 3: 0.596 \tind 4: 0.641 \tind 5: 0.651 \tind 6: 0.598 \tind 7: 0.603 \tind 8: 0.574 \tind 9: 0.754 \tind 10: 0.627 \tind 11: 0.619 \tind 12: 0.640 \tind 13: 0.643 \tind 14: 0.597 \tind 15: 0.627 \tind 16: 0.609 \tind 17: 0.620 \tind 18: 0.582 \tind 19: 0.735 \t\n"
     ]
    },
    {
     "name": "stdout",
     "output_type": "stream",
     "text": [
      "2021-06-18 23:10:40,839 - modnet - INFO - Generation number 3\n"
     ]
    },
    {
     "name": "stderr",
     "output_type": "stream",
     "text": [
      "INFO:modnet:Generation number 3\n"
     ]
    },
    {
     "name": "stdout",
     "output_type": "stream",
     "text": [
      "2021-06-18 23:10:59,065 - modnet - INFO - Multiprocessing on 32 cores. Total of 32 cores available.\n"
     ]
    },
    {
     "name": "stderr",
     "output_type": "stream",
     "text": [
      "INFO:modnet:Multiprocessing on 32 cores. Total of 32 cores available.\n",
      "100%|██████████| 100/100 [10:44<00:00,  6.44s/it]"
     ]
    },
    {
     "name": "stdout",
     "output_type": "stream",
     "text": [
      "2021-06-18 23:21:43,374 - modnet - INFO - Loss per individual: ind 0: 0.594 \tind 1: 0.661 \tind 2: 0.649 \tind 3: 0.610 \tind 4: 0.598 \tind 5: 0.595 \tind 6: 0.636 \tind 7: 0.573 \tind 8: 0.600 \tind 9: 0.741 \tind 10: 0.578 \tind 11: 0.589 \tind 12: 0.642 \tind 13: 0.685 \tind 14: 0.668 \tind 15: 0.634 \tind 16: 0.575 \tind 17: 0.644 \tind 18: 0.701 \tind 19: 0.616 \t\n"
     ]
    },
    {
     "name": "stderr",
     "output_type": "stream",
     "text": [
      "\n",
      "INFO:modnet:Loss per individual: ind 0: 0.594 \tind 1: 0.661 \tind 2: 0.649 \tind 3: 0.610 \tind 4: 0.598 \tind 5: 0.595 \tind 6: 0.636 \tind 7: 0.573 \tind 8: 0.600 \tind 9: 0.741 \tind 10: 0.578 \tind 11: 0.589 \tind 12: 0.642 \tind 13: 0.685 \tind 14: 0.668 \tind 15: 0.634 \tind 16: 0.575 \tind 17: 0.644 \tind 18: 0.701 \tind 19: 0.616 \t\n"
     ]
    },
    {
     "name": "stdout",
     "output_type": "stream",
     "text": [
      "2021-06-18 23:21:45,957 - modnet - INFO - Generation number 4\n"
     ]
    },
    {
     "name": "stderr",
     "output_type": "stream",
     "text": [
      "INFO:modnet:Generation number 4\n"
     ]
    },
    {
     "name": "stdout",
     "output_type": "stream",
     "text": [
      "2021-06-18 23:22:04,491 - modnet - INFO - Multiprocessing on 32 cores. Total of 32 cores available.\n"
     ]
    },
    {
     "name": "stderr",
     "output_type": "stream",
     "text": [
      "INFO:modnet:Multiprocessing on 32 cores. Total of 32 cores available.\n",
      "100%|██████████| 100/100 [08:38<00:00,  5.19s/it]"
     ]
    },
    {
     "name": "stdout",
     "output_type": "stream",
     "text": [
      "2021-06-18 23:30:43,077 - modnet - INFO - Loss per individual: ind 0: 0.656 \tind 1: 0.586 \tind 2: 0.670 \tind 3: 0.644 \tind 4: 0.617 \tind 5: 0.609 \tind 6: 0.639 \tind 7: 0.600 \tind 8: 0.643 \tind 9: 0.692 \tind 10: 0.585 \tind 11: 0.620 \tind 12: 0.696 \tind 13: 0.647 \tind 14: 0.588 \tind 15: 0.621 \tind 16: 0.605 \tind 17: 0.603 \tind 18: 0.597 \tind 19: 0.615 \t\n"
     ]
    },
    {
     "name": "stderr",
     "output_type": "stream",
     "text": [
      "\n",
      "INFO:modnet:Loss per individual: ind 0: 0.656 \tind 1: 0.586 \tind 2: 0.670 \tind 3: 0.644 \tind 4: 0.617 \tind 5: 0.609 \tind 6: 0.639 \tind 7: 0.600 \tind 8: 0.643 \tind 9: 0.692 \tind 10: 0.585 \tind 11: 0.620 \tind 12: 0.696 \tind 13: 0.647 \tind 14: 0.588 \tind 15: 0.621 \tind 16: 0.605 \tind 17: 0.603 \tind 18: 0.597 \tind 19: 0.615 \t\n"
     ]
    },
    {
     "name": "stdout",
     "output_type": "stream",
     "text": [
      "2021-06-18 23:30:45,409 - modnet - INFO - Generation number 5\n"
     ]
    },
    {
     "name": "stderr",
     "output_type": "stream",
     "text": [
      "INFO:modnet:Generation number 5\n"
     ]
    },
    {
     "name": "stdout",
     "output_type": "stream",
     "text": [
      "2021-06-18 23:31:04,292 - modnet - INFO - Multiprocessing on 32 cores. Total of 32 cores available.\n"
     ]
    },
    {
     "name": "stderr",
     "output_type": "stream",
     "text": [
      "INFO:modnet:Multiprocessing on 32 cores. Total of 32 cores available.\n",
      "100%|██████████| 100/100 [09:11<00:00,  5.52s/it]"
     ]
    },
    {
     "name": "stdout",
     "output_type": "stream",
     "text": [
      "2021-06-18 23:40:16,298 - modnet - INFO - Loss per individual: ind 0: 0.605 \tind 1: 0.590 \tind 2: 0.600 \tind 3: 0.614 \tind 4: 0.629 \tind 5: 0.621 \tind 6: 0.624 \tind 7: 0.636 \tind 8: 0.647 \tind 9: 0.641 \tind 10: 0.603 \tind 11: 0.659 \tind 12: 0.708 \tind 13: 0.599 \tind 14: 0.639 \tind 15: 0.646 \tind 16: 0.602 \tind 17: 0.599 \tind 18: 0.618 \tind 19: 0.589 \t\n"
     ]
    },
    {
     "name": "stderr",
     "output_type": "stream",
     "text": [
      "\n",
      "INFO:modnet:Loss per individual: ind 0: 0.605 \tind 1: 0.590 \tind 2: 0.600 \tind 3: 0.614 \tind 4: 0.629 \tind 5: 0.621 \tind 6: 0.624 \tind 7: 0.636 \tind 8: 0.647 \tind 9: 0.641 \tind 10: 0.603 \tind 11: 0.659 \tind 12: 0.708 \tind 13: 0.599 \tind 14: 0.639 \tind 15: 0.646 \tind 16: 0.602 \tind 17: 0.599 \tind 18: 0.618 \tind 19: 0.589 \t\n"
     ]
    },
    {
     "name": "stdout",
     "output_type": "stream",
     "text": [
      "2021-06-18 23:40:18,929 - modnet - INFO - Generation number 6\n"
     ]
    },
    {
     "name": "stderr",
     "output_type": "stream",
     "text": [
      "INFO:modnet:Generation number 6\n"
     ]
    },
    {
     "name": "stdout",
     "output_type": "stream",
     "text": [
      "2021-06-18 23:40:36,989 - modnet - INFO - Multiprocessing on 32 cores. Total of 32 cores available.\n"
     ]
    },
    {
     "name": "stderr",
     "output_type": "stream",
     "text": [
      "INFO:modnet:Multiprocessing on 32 cores. Total of 32 cores available.\n",
      "100%|██████████| 100/100 [10:14<00:00,  6.15s/it]"
     ]
    },
    {
     "name": "stdout",
     "output_type": "stream",
     "text": [
      "2021-06-18 23:50:51,606 - modnet - INFO - Loss per individual: ind 0: 0.620 \tind 1: 0.715 \tind 2: 0.570 \tind 3: 0.618 \tind 4: 0.592 \tind 5: 0.612 \tind 6: 0.638 \tind 7: 0.668 \tind 8: 0.700 \tind 9: 0.605 \tind 10: 0.628 \tind 11: 0.677 \tind 12: 0.585 \tind 13: 0.602 \tind 14: 0.614 \tind 15: 0.579 \tind 16: 0.746 \tind 17: 0.645 \tind 18: 0.615 \tind 19: 0.644 \t\n"
     ]
    },
    {
     "name": "stderr",
     "output_type": "stream",
     "text": [
      "\n",
      "INFO:modnet:Loss per individual: ind 0: 0.620 \tind 1: 0.715 \tind 2: 0.570 \tind 3: 0.618 \tind 4: 0.592 \tind 5: 0.612 \tind 6: 0.638 \tind 7: 0.668 \tind 8: 0.700 \tind 9: 0.605 \tind 10: 0.628 \tind 11: 0.677 \tind 12: 0.585 \tind 13: 0.602 \tind 14: 0.614 \tind 15: 0.579 \tind 16: 0.746 \tind 17: 0.645 \tind 18: 0.615 \tind 19: 0.644 \t\n"
     ]
    },
    {
     "name": "stdout",
     "output_type": "stream",
     "text": [
      "2021-06-18 23:50:54,142 - modnet - INFO - Generation number 7\n"
     ]
    },
    {
     "name": "stderr",
     "output_type": "stream",
     "text": [
      "INFO:modnet:Generation number 7\n"
     ]
    },
    {
     "name": "stdout",
     "output_type": "stream",
     "text": [
      "2021-06-18 23:51:12,802 - modnet - INFO - Multiprocessing on 32 cores. Total of 32 cores available.\n"
     ]
    },
    {
     "name": "stderr",
     "output_type": "stream",
     "text": [
      "INFO:modnet:Multiprocessing on 32 cores. Total of 32 cores available.\n",
      "100%|██████████| 100/100 [09:13<00:00,  5.53s/it] "
     ]
    },
    {
     "name": "stdout",
     "output_type": "stream",
     "text": [
      "2021-06-19 00:00:26,101 - modnet - INFO - Loss per individual: ind 0: 0.587 \tind 1: 0.628 \tind 2: 0.641 \tind 3: 0.596 \tind 4: 0.597 \tind 5: 0.589 \tind 6: 0.617 \tind 7: 0.604 \tind 8: 0.622 \tind 9: 0.684 \tind 10: 0.600 \tind 11: 0.719 \tind 12: 0.631 \tind 13: 0.597 \tind 14: 0.627 \tind 15: 0.598 \tind 16: 0.615 \tind 17: 0.638 \tind 18: 0.607 \tind 19: 0.741 \t\n"
     ]
    },
    {
     "name": "stderr",
     "output_type": "stream",
     "text": [
      "\n",
      "INFO:modnet:Loss per individual: ind 0: 0.587 \tind 1: 0.628 \tind 2: 0.641 \tind 3: 0.596 \tind 4: 0.597 \tind 5: 0.589 \tind 6: 0.617 \tind 7: 0.604 \tind 8: 0.622 \tind 9: 0.684 \tind 10: 0.600 \tind 11: 0.719 \tind 12: 0.631 \tind 13: 0.597 \tind 14: 0.627 \tind 15: 0.598 \tind 16: 0.615 \tind 17: 0.638 \tind 18: 0.607 \tind 19: 0.741 \t\n"
     ]
    },
    {
     "name": "stdout",
     "output_type": "stream",
     "text": [
      "2021-06-19 00:00:28,733 - modnet - INFO - Generation number 8\n"
     ]
    },
    {
     "name": "stderr",
     "output_type": "stream",
     "text": [
      "INFO:modnet:Generation number 8\n"
     ]
    },
    {
     "name": "stdout",
     "output_type": "stream",
     "text": [
      "2021-06-19 00:00:47,631 - modnet - INFO - Multiprocessing on 32 cores. Total of 32 cores available.\n"
     ]
    },
    {
     "name": "stderr",
     "output_type": "stream",
     "text": [
      "INFO:modnet:Multiprocessing on 32 cores. Total of 32 cores available.\n",
      "100%|██████████| 100/100 [08:55<00:00,  5.36s/it]"
     ]
    },
    {
     "name": "stdout",
     "output_type": "stream",
     "text": [
      "2021-06-19 00:09:43,395 - modnet - INFO - Loss per individual: ind 0: 0.628 \tind 1: 0.655 \tind 2: 0.611 \tind 3: 0.600 \tind 4: 0.588 \tind 5: 0.617 \tind 6: 0.588 \tind 7: 0.603 \tind 8: 0.634 \tind 9: 0.632 \tind 10: 0.609 \tind 11: 0.636 \tind 12: 0.648 \tind 13: 0.675 \tind 14: 0.594 \tind 15: 0.603 \tind 16: 0.629 \tind 17: 0.583 \tind 18: 0.581 \tind 19: 0.623 \t\n"
     ]
    },
    {
     "name": "stderr",
     "output_type": "stream",
     "text": [
      "\n",
      "INFO:modnet:Loss per individual: ind 0: 0.628 \tind 1: 0.655 \tind 2: 0.611 \tind 3: 0.600 \tind 4: 0.588 \tind 5: 0.617 \tind 6: 0.588 \tind 7: 0.603 \tind 8: 0.634 \tind 9: 0.632 \tind 10: 0.609 \tind 11: 0.636 \tind 12: 0.648 \tind 13: 0.675 \tind 14: 0.594 \tind 15: 0.603 \tind 16: 0.629 \tind 17: 0.583 \tind 18: 0.581 \tind 19: 0.623 \t\n"
     ]
    },
    {
     "name": "stdout",
     "output_type": "stream",
     "text": [
      "2021-06-19 00:09:46,061 - modnet - INFO - Generation number 9\n"
     ]
    },
    {
     "name": "stderr",
     "output_type": "stream",
     "text": [
      "INFO:modnet:Generation number 9\n"
     ]
    },
    {
     "name": "stdout",
     "output_type": "stream",
     "text": [
      "2021-06-19 00:10:05,583 - modnet - INFO - Multiprocessing on 32 cores. Total of 32 cores available.\n"
     ]
    },
    {
     "name": "stderr",
     "output_type": "stream",
     "text": [
      "INFO:modnet:Multiprocessing on 32 cores. Total of 32 cores available.\n",
      "100%|██████████| 100/100 [10:11<00:00,  6.11s/it]"
     ]
    },
    {
     "name": "stdout",
     "output_type": "stream",
     "text": [
      "2021-06-19 00:20:16,925 - modnet - INFO - Loss per individual: ind 0: 0.615 \tind 1: 0.609 \tind 2: 0.659 \tind 3: 0.608 \tind 4: 0.773 \tind 5: 0.612 \tind 6: 0.609 \tind 7: 0.624 \tind 8: 0.596 \tind 9: 0.616 \tind 10: 0.620 \tind 11: 0.608 \tind 12: 0.626 \tind 13: 0.627 \tind 14: 0.600 \tind 15: 0.706 \tind 16: 0.652 \tind 17: 0.698 \tind 18: 0.610 \tind 19: 0.720 \t\n"
     ]
    },
    {
     "name": "stderr",
     "output_type": "stream",
     "text": [
      "\n",
      "INFO:modnet:Loss per individual: ind 0: 0.615 \tind 1: 0.609 \tind 2: 0.659 \tind 3: 0.608 \tind 4: 0.773 \tind 5: 0.612 \tind 6: 0.609 \tind 7: 0.624 \tind 8: 0.596 \tind 9: 0.616 \tind 10: 0.620 \tind 11: 0.608 \tind 12: 0.626 \tind 13: 0.627 \tind 14: 0.600 \tind 15: 0.706 \tind 16: 0.652 \tind 17: 0.698 \tind 18: 0.610 \tind 19: 0.720 \t\n"
     ]
    },
    {
     "name": "stdout",
     "output_type": "stream",
     "text": [
      "2021-06-19 00:20:19,365 - modnet - INFO - Early stopping: same best model for 4 consecutive generations\n"
     ]
    },
    {
     "name": "stderr",
     "output_type": "stream",
     "text": [
      "INFO:modnet:Early stopping: same best model for 4 consecutive generations\n"
     ]
    },
    {
     "name": "stdout",
     "output_type": "stream",
     "text": [
      "Loaded 3 models\n",
      "MAE =\n",
      "0.3660119362406702\n"
     ]
    }
   ],
   "source": [
    "import math\n",
    "from pymatgen.ext.matproj import MPRester\n",
    "from pymatgen.core.structure import Structure\n",
    "\n",
    "k = 5\n",
    "random_state = 202010\n",
    "folds = MDKsplit(md_joint,n_splits=k,random_state=random_state)\n",
    "maes = np.ones(5)\n",
    "for i,f in enumerate(folds):\n",
    "    train = f[0]\n",
    "    test = f[1]\n",
    "    #train.feature_selection(n=-1, use_precomputed_cross_nmi=True)\n",
    "    fpath = 'train_{}_{}'.format(random_state,i+1)\n",
    "    if os.path.exists(fpath):\n",
    "        train = MODData.load(fpath)\n",
    "    else:\n",
    "        train.feature_selection(n=-1, use_precomputed_cross_nmi=True)\n",
    "        train.save(fpath)\n",
    "       \n",
    "    # assure no overlap\n",
    "    assert len(set(train.df_targets.index).intersection(set(test.df_targets.index))) == 0\n",
    "    \n",
    "    fpath_meg = 'train_meg_{}_{}.pkl'.format(random_state,i+1)\n",
    "    if os.path.exists(fpath_meg):\n",
    "        train_meg = pd.read_pickle(fpath_meg)\n",
    "    else:\n",
    "        with MPRester(\"v454AlrxL5Zg0cLAXW0\") as mpr:\n",
    "            for a in range(len(train.df_structure)):\n",
    "                try:\n",
    "                    structure = mpr.get_doc(mpr.get_materials_id_from_task_id(train.df_structure.index[a]))['structure']\n",
    "                    train.df_structure['structure'][a] = structure\n",
    "                except:\n",
    "                    train.df_structure['structure'][a] = math.nan      \n",
    "        for b in range(len(train.df_structure)):\n",
    "            structure = Structure.from_dict(train.df_structure['structure'][b])\n",
    "            train.df_structure['structure'][b] = structure\n",
    "        train_meg = train.df_structure\n",
    "        train_meg.to_pickle(fpath_meg)\n",
    "    \n",
    "    fpath_meg_test = 'train_meg_test_{}_{}.pkl'.format(random_state,i+1)\n",
    "    if os.path.exists(fpath_meg_test):\n",
    "        test_meg = pd.read_pickle(fpath_meg_test)\n",
    "    else:\n",
    "        with MPRester(\"v454AlrxL5Zg0cLAXW0\") as mpr:\n",
    "            for c in range(len(test.df_structure)):\n",
    "                try:\n",
    "                    structure = mpr.get_doc(mpr.get_materials_id_from_task_id(test.df_structure.index[c]))['structure']\n",
    "                    test.df_structure['structure'][c] = structure\n",
    "                except:\n",
    "                    test.df_structure['structure'][c] = math.nan\n",
    "        for d in range(len(test.df_structure)):\n",
    "            structure = Structure.from_dict(test.df_structure['structure'][d])\n",
    "            test.df_structure['structure'][d] = structure\n",
    "        test_meg = test.df_structure\n",
    "        test_meg.to_pickle(fpath_meg_test)\n",
    "    \n",
    "    ga = FitGenetic(train)\n",
    "    model3 = ga.run(size_pop=20, num_generations=10, n_jobs=32)\n",
    "    \n",
    "    # load all models\n",
    "    members = [model_form, model2, model3]\n",
    "    print('Loaded %d models' % len(members))\n",
    "    \n",
    "    # fit stacked model on test dataset\n",
    "    model = fit_stacked_model(members, inputX=train, inputy=train.df_targets['exp_gap'], inputX_meg=train_meg)\n",
    "\n",
    "    # evaluate model on test set\n",
    "    pred = stacked_prediction(members, model, test, test_meg)\n",
    "    pred = pd.DataFrame(pred)\n",
    "    pred = pred.rename(columns={pred.columns[0]: 'exp_gap'})\n",
    "    true = test.df_targets\n",
    "    for j in range(len(pred)):\n",
    "        pred = pred.rename(index={pred.index[j]: true.index[j]})\n",
    "    error = pred-true\n",
    "    error = error['exp_gap'].drop(pred.index[((pred['exp_gap']).abs()>20)]) # drop unrealistic values: happens extremely rarely\n",
    "    mae = np.abs(error.values).mean()\n",
    "    print('MAE =')\n",
    "    print(mae)\n",
    "    maes[i] = mae"
   ]
  },
  {
   "cell_type": "code",
   "execution_count": 22,
   "metadata": {
    "ExecuteTime": {
     "end_time": "2021-06-18T22:24:29.749728Z",
     "start_time": "2021-06-18T22:24:29.743284Z"
    }
   },
   "outputs": [
    {
     "data": {
      "text/plain": [
       "array([0.38099466, 0.36995289, 0.37605724, 0.33940861, 0.36601194])"
      ]
     },
     "execution_count": 22,
     "metadata": {},
     "output_type": "execute_result"
    }
   ],
   "source": [
    "maes"
   ]
  },
  {
   "cell_type": "code",
   "execution_count": 23,
   "metadata": {
    "ExecuteTime": {
     "end_time": "2021-06-18T22:24:29.886212Z",
     "start_time": "2021-06-18T22:24:29.753470Z"
    }
   },
   "outputs": [
    {
     "data": {
      "text/plain": [
       "0.3664850679031498"
      ]
     },
     "execution_count": 23,
     "metadata": {},
     "output_type": "execute_result"
    }
   ],
   "source": [
    "maes.mean()"
   ]
  },
  {
   "cell_type": "markdown",
   "metadata": {},
   "source": [
    "#### Conclusion"
   ]
  },
  {
   "cell_type": "markdown",
   "metadata": {},
   "source": [
    "Relative percentage change of the error compared to MODNet_exp_GA reference: -6%"
   ]
  }
 ],
 "metadata": {
  "kernelspec": {
   "display_name": "Python [conda env:modnet]",
   "language": "python",
   "name": "conda-env-modnet-py"
  },
  "language_info": {
   "codemirror_mode": {
    "name": "ipython",
    "version": 3
   },
   "file_extension": ".py",
   "mimetype": "text/x-python",
   "name": "python",
   "nbconvert_exporter": "python",
   "pygments_lexer": "ipython3",
   "version": "3.8.5"
  }
 },
 "nbformat": 4,
 "nbformat_minor": 4
}
