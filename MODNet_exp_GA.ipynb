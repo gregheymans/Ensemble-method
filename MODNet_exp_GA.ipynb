{
 "cells": [
  {
   "cell_type": "markdown",
   "metadata": {
    "ExecuteTime": {
     "end_time": "2021-02-03T11:45:15.346116Z",
     "start_time": "2021-02-03T11:45:15.273111Z"
    }
   },
   "source": [
    "# MODNet on experimental dataset "
   ]
  },
  {
   "cell_type": "markdown",
   "metadata": {},
   "source": [
    "MODNet model on the experimental dataset alone. This model is used as our benchmark in this Ensemble Methods repository."
   ]
  },
  {
   "cell_type": "code",
   "execution_count": 1,
   "metadata": {
    "ExecuteTime": {
     "end_time": "2021-06-14T15:43:48.575418Z",
     "start_time": "2021-06-14T15:43:48.564008Z"
    }
   },
   "outputs": [],
   "source": [
    "def setup_threading():\n",
    "    import os\n",
    "    os.environ['OPENBLAS_NUM_THREADS'] = '1'\n",
    "    os.environ['MKL_NUM_THREADS'] = '1'\n",
    "    os.environ[\"OMP_NUM_THREADS\"] = \"1\"\n",
    "    os.environ[\"TF_NUM_INTRAOP_THREADS\"] = \"1\"\n",
    "    os.environ[\"TF_NUM_INTEROP_THREADS\"] = \"1\"\n",
    "    os.environ[\"CUDA_VISIBLE_DEVICES\"] = \"-1\""
   ]
  },
  {
   "cell_type": "code",
   "execution_count": 2,
   "metadata": {
    "ExecuteTime": {
     "end_time": "2021-06-14T15:43:48.737954Z",
     "start_time": "2021-06-14T15:43:48.735079Z"
    }
   },
   "outputs": [],
   "source": [
    "setup_threading()"
   ]
  },
  {
   "cell_type": "code",
   "execution_count": 3,
   "metadata": {
    "ExecuteTime": {
     "end_time": "2021-06-14T15:43:53.898950Z",
     "start_time": "2021-06-14T15:43:48.969928Z"
    }
   },
   "outputs": [
    {
     "name": "stdout",
     "output_type": "stream",
     "text": [
      "\n",
      "If you use the ChemEnv tool for your research, please consider citing the following reference(s) :\n",
      "==================================================================================================\n",
      "David Waroquiers, Xavier Gonze, Gian-Marco Rignanese, Cathrin Welker-Nieuwoudt, Frank Rosowski,\n",
      "Michael Goebel, Stephan Schenk, Peter Degelmann, Rute Andre, Robert Glaum, and Geoffroy Hautier,\n",
      "\"Statistical analysis of coordination environments in oxides\",\n",
      "Chem. Mater., 2017, 29 (19), pp 8346-8360,\n",
      "DOI: 10.1021/acs.chemmater.7b02766\n",
      "\n"
     ]
    }
   ],
   "source": [
    "from modnet.preprocessing import MODData\n",
    "from modnet.models.vanilla import MODNetModel\n",
    "from modnet.hyper_opt.fit_genetic import FitGenetic\n",
    "import numpy as np\n",
    "import os\n",
    "import copy\n",
    "\n",
    "from collections import defaultdict\n",
    "import itertools\n",
    "import os\n",
    "import pandas as pd\n",
    "import matplotlib.pyplot as plt \n",
    "from IPython.display import Markdown\n",
    "from matminer.datasets import load_dataset, get_all_dataset_info\n",
    "from pymatgen.core import Composition\n",
    "\n",
    "from modnet.featurizers import MODFeaturizer\n",
    "from modnet.featurizers.presets import DeBreuck2020Featurizer\n",
    "\n",
    "os.environ[\"CUDA_VISIBLE_DEVICES\"] = \"1\""
   ]
  },
  {
   "cell_type": "code",
   "execution_count": 4,
   "metadata": {
    "ExecuteTime": {
     "end_time": "2021-06-14T15:43:53.905865Z",
     "start_time": "2021-06-14T15:43:53.900267Z"
    }
   },
   "outputs": [],
   "source": [
    "from sklearn.model_selection import KFold\n",
    "from modnet.preprocessing import MODData\n",
    "\n",
    "def shuffle_MD(data,random_state=10):\n",
    "    data = copy.deepcopy(data)\n",
    "    ids = data.df_targets.sample(frac=1,random_state=random_state).index\n",
    "    data.df_featurized = data.df_featurized.loc[ids]\n",
    "    data.df_targets = data.df_targets.loc[ids]\n",
    "    data.df_structure = data.df_structure.loc[ids]\n",
    "    \n",
    "    return data\n",
    "\n",
    "def MDKsplit(data,n_splits=5,random_state=10):\n",
    "    data = shuffle_MD(data,random_state=random_state)\n",
    "    ids = np.array(data.structure_ids)\n",
    "    kf = KFold(n_splits=n_splits,shuffle=True,random_state=random_state)\n",
    "    folds = []\n",
    "    for train_idx, val_idx in kf.split(ids):\n",
    "        data_train = MODData(data.df_structure.iloc[train_idx]['structure'].values,data.df_targets.iloc[train_idx].values,target_names=data.df_targets.columns,structure_ids=ids[train_idx])\n",
    "        data_train.df_featurized = data.df_featurized.iloc[train_idx]\n",
    "        #data_train.optimal_features = data.optimal_features\n",
    "        \n",
    "        data_val = MODData(data.df_structure.iloc[val_idx]['structure'].values,data.df_targets.iloc[val_idx].values,target_names=data.df_targets.columns,structure_ids=ids[val_idx])\n",
    "        data_val.df_featurized = data.df_featurized.iloc[val_idx]\n",
    "        #data_val.optimal_features = data.optimal_features\n",
    "\n",
    "        folds.append((data_train,data_val))\n",
    "        \n",
    "    return folds"
   ]
  },
  {
   "cell_type": "code",
   "execution_count": 5,
   "metadata": {
    "ExecuteTime": {
     "end_time": "2021-06-14T15:43:56.242346Z",
     "start_time": "2021-06-14T15:43:53.907217Z"
    }
   },
   "outputs": [
    {
     "name": "stdout",
     "output_type": "stream",
     "text": [
      "2021-06-14 17:43:55,625 - modnet - INFO - Loaded <modnet.preprocessing.MODData object at 0x7f63c4940bb0> object, created with modnet version <=0.1.7\n",
      "2021-06-14 17:43:56,239 - modnet - INFO - Loaded <modnet.preprocessing.MODData object at 0x7f6355795700> object, created with modnet version <=0.1.7\n"
     ]
    }
   ],
   "source": [
    "md = MODData.load('exp_gap_all')\n",
    "df = pd.read_pickle('df_exp_cleaned.pkl')\n",
    "md_joint = MODData.load('exp_pbe_joint')"
   ]
  },
  {
   "cell_type": "code",
   "execution_count": 6,
   "metadata": {
    "ExecuteTime": {
     "end_time": "2021-06-14T15:43:56.254907Z",
     "start_time": "2021-06-14T15:43:56.243828Z"
    }
   },
   "outputs": [
    {
     "data": {
      "text/html": [
       "<div>\n",
       "<style scoped>\n",
       "    .dataframe tbody tr th:only-of-type {\n",
       "        vertical-align: middle;\n",
       "    }\n",
       "\n",
       "    .dataframe tbody tr th {\n",
       "        vertical-align: top;\n",
       "    }\n",
       "\n",
       "    .dataframe thead th {\n",
       "        text-align: right;\n",
       "    }\n",
       "</style>\n",
       "<table border=\"1\" class=\"dataframe\">\n",
       "  <thead>\n",
       "    <tr style=\"text-align: right;\">\n",
       "      <th></th>\n",
       "      <th>exp_gap</th>\n",
       "      <th>pbe_gap</th>\n",
       "      <th>difference</th>\n",
       "    </tr>\n",
       "  </thead>\n",
       "  <tbody>\n",
       "    <tr>\n",
       "      <th>mp-12699</th>\n",
       "      <td>0.00</td>\n",
       "      <td>0.0000</td>\n",
       "      <td>0.0000</td>\n",
       "    </tr>\n",
       "    <tr>\n",
       "      <th>mp-559459</th>\n",
       "      <td>3.40</td>\n",
       "      <td>2.1704</td>\n",
       "      <td>1.2296</td>\n",
       "    </tr>\n",
       "    <tr>\n",
       "      <th>mp-21162</th>\n",
       "      <td>0.00</td>\n",
       "      <td>0.0000</td>\n",
       "      <td>0.0000</td>\n",
       "    </tr>\n",
       "    <tr>\n",
       "      <th>mp-1306</th>\n",
       "      <td>0.00</td>\n",
       "      <td>0.0000</td>\n",
       "      <td>0.0000</td>\n",
       "    </tr>\n",
       "    <tr>\n",
       "      <th>mp-15252</th>\n",
       "      <td>0.53</td>\n",
       "      <td>0.1049</td>\n",
       "      <td>0.4251</td>\n",
       "    </tr>\n",
       "    <tr>\n",
       "      <th>...</th>\n",
       "      <td>...</td>\n",
       "      <td>...</td>\n",
       "      <td>...</td>\n",
       "    </tr>\n",
       "    <tr>\n",
       "      <th>mp-556541</th>\n",
       "      <td>1.80</td>\n",
       "      <td>1.5135</td>\n",
       "      <td>0.2865</td>\n",
       "    </tr>\n",
       "    <tr>\n",
       "      <th>mp-2602</th>\n",
       "      <td>1.04</td>\n",
       "      <td>0.0000</td>\n",
       "      <td>1.0400</td>\n",
       "    </tr>\n",
       "    <tr>\n",
       "      <th>mp-30366</th>\n",
       "      <td>0.00</td>\n",
       "      <td>0.0000</td>\n",
       "      <td>0.0000</td>\n",
       "    </tr>\n",
       "    <tr>\n",
       "      <th>mp-3718</th>\n",
       "      <td>1.45</td>\n",
       "      <td>0.2418</td>\n",
       "      <td>1.2082</td>\n",
       "    </tr>\n",
       "    <tr>\n",
       "      <th>mp-3709</th>\n",
       "      <td>0.00</td>\n",
       "      <td>0.0000</td>\n",
       "      <td>0.0000</td>\n",
       "    </tr>\n",
       "  </tbody>\n",
       "</table>\n",
       "<p>1703 rows × 3 columns</p>\n",
       "</div>"
      ],
      "text/plain": [
       "           exp_gap  pbe_gap  difference\n",
       "mp-12699      0.00   0.0000      0.0000\n",
       "mp-559459     3.40   2.1704      1.2296\n",
       "mp-21162      0.00   0.0000      0.0000\n",
       "mp-1306       0.00   0.0000      0.0000\n",
       "mp-15252      0.53   0.1049      0.4251\n",
       "...            ...      ...         ...\n",
       "mp-556541     1.80   1.5135      0.2865\n",
       "mp-2602       1.04   0.0000      1.0400\n",
       "mp-30366      0.00   0.0000      0.0000\n",
       "mp-3718       1.45   0.2418      1.2082\n",
       "mp-3709       0.00   0.0000      0.0000\n",
       "\n",
       "[1703 rows x 3 columns]"
      ]
     },
     "execution_count": 6,
     "metadata": {},
     "output_type": "execute_result"
    }
   ],
   "source": [
    "md_joint.df_targets"
   ]
  },
  {
   "cell_type": "code",
   "execution_count": 7,
   "metadata": {
    "ExecuteTime": {
     "end_time": "2021-06-14T15:43:56.262158Z",
     "start_time": "2021-06-14T15:43:56.257223Z"
    }
   },
   "outputs": [],
   "source": [
    "md_joint.df_targets = md_joint.df_targets.drop(columns=['pbe_gap', 'difference'])"
   ]
  },
  {
   "cell_type": "code",
   "execution_count": 8,
   "metadata": {
    "ExecuteTime": {
     "end_time": "2021-06-14T15:43:56.276222Z",
     "start_time": "2021-06-14T15:43:56.264262Z"
    }
   },
   "outputs": [
    {
     "data": {
      "text/html": [
       "<div>\n",
       "<style scoped>\n",
       "    .dataframe tbody tr th:only-of-type {\n",
       "        vertical-align: middle;\n",
       "    }\n",
       "\n",
       "    .dataframe tbody tr th {\n",
       "        vertical-align: top;\n",
       "    }\n",
       "\n",
       "    .dataframe thead th {\n",
       "        text-align: right;\n",
       "    }\n",
       "</style>\n",
       "<table border=\"1\" class=\"dataframe\">\n",
       "  <thead>\n",
       "    <tr style=\"text-align: right;\">\n",
       "      <th></th>\n",
       "      <th>exp_gap</th>\n",
       "    </tr>\n",
       "  </thead>\n",
       "  <tbody>\n",
       "    <tr>\n",
       "      <th>mp-12699</th>\n",
       "      <td>0.00</td>\n",
       "    </tr>\n",
       "    <tr>\n",
       "      <th>mp-559459</th>\n",
       "      <td>3.40</td>\n",
       "    </tr>\n",
       "    <tr>\n",
       "      <th>mp-21162</th>\n",
       "      <td>0.00</td>\n",
       "    </tr>\n",
       "    <tr>\n",
       "      <th>mp-1306</th>\n",
       "      <td>0.00</td>\n",
       "    </tr>\n",
       "    <tr>\n",
       "      <th>mp-15252</th>\n",
       "      <td>0.53</td>\n",
       "    </tr>\n",
       "    <tr>\n",
       "      <th>...</th>\n",
       "      <td>...</td>\n",
       "    </tr>\n",
       "    <tr>\n",
       "      <th>mp-556541</th>\n",
       "      <td>1.80</td>\n",
       "    </tr>\n",
       "    <tr>\n",
       "      <th>mp-2602</th>\n",
       "      <td>1.04</td>\n",
       "    </tr>\n",
       "    <tr>\n",
       "      <th>mp-30366</th>\n",
       "      <td>0.00</td>\n",
       "    </tr>\n",
       "    <tr>\n",
       "      <th>mp-3718</th>\n",
       "      <td>1.45</td>\n",
       "    </tr>\n",
       "    <tr>\n",
       "      <th>mp-3709</th>\n",
       "      <td>0.00</td>\n",
       "    </tr>\n",
       "  </tbody>\n",
       "</table>\n",
       "<p>1703 rows × 1 columns</p>\n",
       "</div>"
      ],
      "text/plain": [
       "           exp_gap\n",
       "mp-12699      0.00\n",
       "mp-559459     3.40\n",
       "mp-21162      0.00\n",
       "mp-1306       0.00\n",
       "mp-15252      0.53\n",
       "...            ...\n",
       "mp-556541     1.80\n",
       "mp-2602       1.04\n",
       "mp-30366      0.00\n",
       "mp-3718       1.45\n",
       "mp-3709       0.00\n",
       "\n",
       "[1703 rows x 1 columns]"
      ]
     },
     "execution_count": 8,
     "metadata": {},
     "output_type": "execute_result"
    }
   ],
   "source": [
    "md_joint.df_targets"
   ]
  },
  {
   "cell_type": "code",
   "execution_count": 9,
   "metadata": {
    "ExecuteTime": {
     "end_time": "2021-06-14T15:43:56.348962Z",
     "start_time": "2021-06-14T15:43:56.278264Z"
    }
   },
   "outputs": [
    {
     "data": {
      "text/html": [
       "<div>\n",
       "<style scoped>\n",
       "    .dataframe tbody tr th:only-of-type {\n",
       "        vertical-align: middle;\n",
       "    }\n",
       "\n",
       "    .dataframe tbody tr th {\n",
       "        vertical-align: top;\n",
       "    }\n",
       "\n",
       "    .dataframe thead th {\n",
       "        text-align: right;\n",
       "    }\n",
       "</style>\n",
       "<table border=\"1\" class=\"dataframe\">\n",
       "  <thead>\n",
       "    <tr style=\"text-align: right;\">\n",
       "      <th></th>\n",
       "      <th>structure</th>\n",
       "    </tr>\n",
       "    <tr>\n",
       "      <th>id</th>\n",
       "      <th></th>\n",
       "    </tr>\n",
       "  </thead>\n",
       "  <tbody>\n",
       "    <tr>\n",
       "      <th>mp-12699</th>\n",
       "      <td>[[ 0.13616363 -2.60631371  1.50340165] Ca, [-1...</td>\n",
       "    </tr>\n",
       "    <tr>\n",
       "      <th>mp-559459</th>\n",
       "      <td>[[2.14049282 6.43464803 1.76199846] Cs, [-0.70...</td>\n",
       "    </tr>\n",
       "    <tr>\n",
       "      <th>mp-21162</th>\n",
       "      <td>[[0. 0. 0.] Sr, [0.        2.5259875 2.5259875...</td>\n",
       "    </tr>\n",
       "    <tr>\n",
       "      <th>mp-1306</th>\n",
       "      <td>[[3.259129   1.88166243 1.15971025] Th, [ 3.25...</td>\n",
       "    </tr>\n",
       "    <tr>\n",
       "      <th>mp-15252</th>\n",
       "      <td>[[0.95531657 1.042239   0.86229681] Cu, [2.803...</td>\n",
       "    </tr>\n",
       "    <tr>\n",
       "      <th>...</th>\n",
       "      <td>...</td>\n",
       "    </tr>\n",
       "    <tr>\n",
       "      <th>mp-556541</th>\n",
       "      <td>[[0.         6.49363948 5.82657217] In, [ 0.  ...</td>\n",
       "    </tr>\n",
       "    <tr>\n",
       "      <th>mp-2602</th>\n",
       "      <td>[[3.023318 3.023318 3.023318] Nd, [0. 0. 0.] As]</td>\n",
       "    </tr>\n",
       "    <tr>\n",
       "      <th>mp-30366</th>\n",
       "      <td>[[4.51774558 1.37529211 4.32659015] Ca, [1.109...</td>\n",
       "    </tr>\n",
       "    <tr>\n",
       "      <th>mp-3718</th>\n",
       "      <td>[[2.0697935  0.         1.28932533] Th, [0.   ...</td>\n",
       "    </tr>\n",
       "    <tr>\n",
       "      <th>mp-3709</th>\n",
       "      <td>[[0. 0. 0.] Tb, [0.       1.983905 2.537711] C...</td>\n",
       "    </tr>\n",
       "  </tbody>\n",
       "</table>\n",
       "<p>1703 rows × 1 columns</p>\n",
       "</div>"
      ],
      "text/plain": [
       "                                                   structure\n",
       "id                                                          \n",
       "mp-12699   [[ 0.13616363 -2.60631371  1.50340165] Ca, [-1...\n",
       "mp-559459  [[2.14049282 6.43464803 1.76199846] Cs, [-0.70...\n",
       "mp-21162   [[0. 0. 0.] Sr, [0.        2.5259875 2.5259875...\n",
       "mp-1306    [[3.259129   1.88166243 1.15971025] Th, [ 3.25...\n",
       "mp-15252   [[0.95531657 1.042239   0.86229681] Cu, [2.803...\n",
       "...                                                      ...\n",
       "mp-556541  [[0.         6.49363948 5.82657217] In, [ 0.  ...\n",
       "mp-2602     [[3.023318 3.023318 3.023318] Nd, [0. 0. 0.] As]\n",
       "mp-30366   [[4.51774558 1.37529211 4.32659015] Ca, [1.109...\n",
       "mp-3718    [[2.0697935  0.         1.28932533] Th, [0.   ...\n",
       "mp-3709    [[0. 0. 0.] Tb, [0.       1.983905 2.537711] C...\n",
       "\n",
       "[1703 rows x 1 columns]"
      ]
     },
     "execution_count": 9,
     "metadata": {},
     "output_type": "execute_result"
    }
   ],
   "source": [
    "md_joint.df_structure"
   ]
  },
  {
   "cell_type": "code",
   "execution_count": 10,
   "metadata": {
    "ExecuteTime": {
     "end_time": "2021-06-14T22:17:08.928606Z",
     "start_time": "2021-06-14T15:43:56.352021Z"
    },
    "scrolled": true
   },
   "outputs": [
    {
     "name": "stdout",
     "output_type": "stream",
     "text": [
      "2021-06-14 17:43:56,483 - modnet - INFO - Loaded DeBreuck2020Featurizer featurizer.\n",
      "2021-06-14 17:43:56,503 - modnet - INFO - Loaded DeBreuck2020Featurizer featurizer.\n",
      "2021-06-14 17:43:56,515 - modnet - INFO - Loaded DeBreuck2020Featurizer featurizer.\n",
      "2021-06-14 17:43:56,534 - modnet - INFO - Loaded DeBreuck2020Featurizer featurizer.\n",
      "2021-06-14 17:43:56,545 - modnet - INFO - Loaded DeBreuck2020Featurizer featurizer.\n",
      "2021-06-14 17:43:56,560 - modnet - INFO - Loaded DeBreuck2020Featurizer featurizer.\n",
      "2021-06-14 17:43:56,569 - modnet - INFO - Loaded DeBreuck2020Featurizer featurizer.\n",
      "2021-06-14 17:43:56,584 - modnet - INFO - Loaded DeBreuck2020Featurizer featurizer.\n",
      "2021-06-14 17:43:56,593 - modnet - INFO - Loaded DeBreuck2020Featurizer featurizer.\n",
      "2021-06-14 17:43:56,607 - modnet - INFO - Loaded DeBreuck2020Featurizer featurizer.\n",
      "2021-06-14 17:43:57,411 - modnet - INFO - Loaded <modnet.preprocessing.MODData object at 0x7f6342db1ca0> object, created with modnet version 0.1.9\n",
      "2021-06-14 17:43:57,413 - modnet - INFO - Generation number 0\n",
      "2021-06-14 17:43:58,875 - modnet - INFO - Multiprocessing on 10 cores. Total of 128 cores available.\n"
     ]
    },
    {
     "name": "stderr",
     "output_type": "stream",
     "text": [
      "100%|██████████| 100/100 [12:09<00:00,  7.30s/it]"
     ]
    },
    {
     "name": "stdout",
     "output_type": "stream",
     "text": [
      "2021-06-14 17:56:08,841 - modnet - INFO - Loss per individual: ind 0: 0.598 \tind 1: 0.654 \tind 2: 0.726 \tind 3: 0.610 \tind 4: 0.947 \tind 5: 0.768 \tind 6: 0.739 \tind 7: 0.736 \tind 8: 0.626 \tind 9: 0.651 \tind 10: 0.684 \tind 11: 0.741 \tind 12: 0.603 \tind 13: 0.589 \tind 14: 0.663 \tind 15: 0.635 \tind 16: 0.633 \tind 17: 0.682 \tind 18: 0.640 \tind 19: 0.735 \t\n"
     ]
    },
    {
     "name": "stderr",
     "output_type": "stream",
     "text": [
      "\n"
     ]
    },
    {
     "name": "stdout",
     "output_type": "stream",
     "text": [
      "2021-06-14 17:56:10,588 - modnet - INFO - Generation number 1\n",
      "2021-06-14 17:56:13,295 - modnet - INFO - Multiprocessing on 10 cores. Total of 128 cores available.\n"
     ]
    },
    {
     "name": "stderr",
     "output_type": "stream",
     "text": [
      "100%|██████████| 100/100 [12:38<00:00,  7.59s/it]"
     ]
    },
    {
     "name": "stdout",
     "output_type": "stream",
     "text": [
      "2021-06-14 18:08:51,882 - modnet - INFO - Loss per individual: ind 0: 0.658 \tind 1: 0.726 \tind 2: 0.659 \tind 3: 0.599 \tind 4: 0.566 \tind 5: 0.664 \tind 6: 0.625 \tind 7: 0.655 \tind 8: 0.589 \tind 9: 1.023 \tind 10: 0.622 \tind 11: 0.633 \tind 12: 0.756 \tind 13: 0.578 \tind 14: 0.570 \tind 15: 0.616 \tind 16: 0.613 \tind 17: 0.762 \tind 18: 0.617 \tind 19: 0.594 \t\n"
     ]
    },
    {
     "name": "stderr",
     "output_type": "stream",
     "text": [
      "\n"
     ]
    },
    {
     "name": "stdout",
     "output_type": "stream",
     "text": [
      "2021-06-14 18:08:53,565 - modnet - INFO - Generation number 2\n",
      "2021-06-14 18:08:56,410 - modnet - INFO - Multiprocessing on 10 cores. Total of 128 cores available.\n"
     ]
    },
    {
     "name": "stderr",
     "output_type": "stream",
     "text": [
      "100%|██████████| 100/100 [11:29<00:00,  6.89s/it]"
     ]
    },
    {
     "name": "stdout",
     "output_type": "stream",
     "text": [
      "2021-06-14 18:20:25,486 - modnet - INFO - Loss per individual: ind 0: 0.653 \tind 1: 0.594 \tind 2: 0.603 \tind 3: 0.631 \tind 4: 0.622 \tind 5: 0.559 \tind 6: 0.742 \tind 7: 0.615 \tind 8: 0.608 \tind 9: 0.607 \tind 10: 0.594 \tind 11: 0.585 \tind 12: 0.580 \tind 13: 0.737 \tind 14: 0.607 \tind 15: 0.604 \tind 16: 0.625 \tind 17: 0.637 \tind 18: 0.711 \tind 19: 0.707 \t\n"
     ]
    },
    {
     "name": "stderr",
     "output_type": "stream",
     "text": [
      "\n"
     ]
    },
    {
     "name": "stdout",
     "output_type": "stream",
     "text": [
      "2021-06-14 18:20:27,413 - modnet - INFO - Generation number 3\n",
      "2021-06-14 18:20:30,645 - modnet - INFO - Multiprocessing on 10 cores. Total of 128 cores available.\n"
     ]
    },
    {
     "name": "stderr",
     "output_type": "stream",
     "text": [
      "100%|██████████| 100/100 [10:15<00:00,  6.15s/it]"
     ]
    },
    {
     "name": "stdout",
     "output_type": "stream",
     "text": [
      "2021-06-14 18:30:45,840 - modnet - INFO - Loss per individual: ind 0: 0.967 \tind 1: 0.599 \tind 2: 0.595 \tind 3: 0.600 \tind 4: 0.570 \tind 5: 0.644 \tind 6: 0.653 \tind 7: 0.742 \tind 8: 0.655 \tind 9: 0.628 \tind 10: 0.646 \tind 11: 0.599 \tind 12: 1.010 \tind 13: 0.645 \tind 14: 0.590 \tind 15: 0.720 \tind 16: 0.592 \tind 17: 0.603 \tind 18: 0.599 \tind 19: 0.587 \t\n"
     ]
    },
    {
     "name": "stderr",
     "output_type": "stream",
     "text": [
      "\n"
     ]
    },
    {
     "name": "stdout",
     "output_type": "stream",
     "text": [
      "2021-06-14 18:30:47,597 - modnet - INFO - Generation number 4\n",
      "2021-06-14 18:30:50,706 - modnet - INFO - Multiprocessing on 10 cores. Total of 128 cores available.\n"
     ]
    },
    {
     "name": "stderr",
     "output_type": "stream",
     "text": [
      "100%|██████████| 100/100 [11:33<00:00,  6.94s/it]"
     ]
    },
    {
     "name": "stdout",
     "output_type": "stream",
     "text": [
      "2021-06-14 18:42:24,298 - modnet - INFO - Loss per individual: ind 0: 0.630 \tind 1: 0.585 \tind 2: 0.653 \tind 3: 0.595 \tind 4: 0.646 \tind 5: 0.670 \tind 6: 0.587 \tind 7: 0.608 \tind 8: 0.633 \tind 9: 0.569 \tind 10: 0.758 \tind 11: 0.743 \tind 12: 0.672 \tind 13: 0.662 \tind 14: 0.751 \tind 15: 0.674 \tind 16: 0.600 \tind 17: 0.611 \tind 18: 0.585 \tind 19: 0.564 \t\n"
     ]
    },
    {
     "name": "stderr",
     "output_type": "stream",
     "text": [
      "\n"
     ]
    },
    {
     "name": "stdout",
     "output_type": "stream",
     "text": [
      "2021-06-14 18:42:26,047 - modnet - INFO - Generation number 5\n",
      "2021-06-14 18:42:29,181 - modnet - INFO - Multiprocessing on 10 cores. Total of 128 cores available.\n"
     ]
    },
    {
     "name": "stderr",
     "output_type": "stream",
     "text": [
      "100%|██████████| 100/100 [11:14<00:00,  6.74s/it]"
     ]
    },
    {
     "name": "stdout",
     "output_type": "stream",
     "text": [
      "2021-06-14 18:53:43,297 - modnet - INFO - Loss per individual: ind 0: 0.668 \tind 1: 0.594 \tind 2: 0.614 \tind 3: 0.600 \tind 4: 0.583 \tind 5: 0.582 \tind 6: 0.569 \tind 7: 0.584 \tind 8: 0.615 \tind 9: 0.649 \tind 10: 0.660 \tind 11: 0.631 \tind 12: 0.569 \tind 13: 0.578 \tind 14: 0.745 \tind 15: 0.671 \tind 16: 0.752 \tind 17: 0.606 \tind 18: 0.618 \tind 19: 0.627 \t\n"
     ]
    },
    {
     "name": "stderr",
     "output_type": "stream",
     "text": [
      "\n"
     ]
    },
    {
     "name": "stdout",
     "output_type": "stream",
     "text": [
      "2021-06-14 18:53:44,965 - modnet - INFO - Early stopping: same best model for 4 consecutive generations\n",
      " (1/n) Calculating accuracy metrics\n",
      " (2/n) Calculating average calibration metrics\n"
     ]
    },
    {
     "name": "stderr",
     "output_type": "stream",
     "text": [
      " 10%|█         | 1/10 [00:00<00:01,  5.78it/s]"
     ]
    },
    {
     "name": "stdout",
     "output_type": "stream",
     "text": [
      " (3/n) Calculating adversarial group calibration metrics\n",
      "  [1/2] for mean absolute calibration error\n",
      "Measuring adversarial group calibration by spanning group size between 0.0 and 1.0, in 10 intervals\n"
     ]
    },
    {
     "name": "stderr",
     "output_type": "stream",
     "text": [
      "100%|██████████| 10/10 [00:01<00:00,  5.40it/s]\n",
      " 10%|█         | 1/10 [00:00<00:01,  5.72it/s]"
     ]
    },
    {
     "name": "stdout",
     "output_type": "stream",
     "text": [
      "  [2/2] for root mean squared calibration error\n",
      "Measuring adversarial group calibration by spanning group size between 0.0 and 1.0, in 10 intervals\n"
     ]
    },
    {
     "name": "stderr",
     "output_type": "stream",
     "text": [
      "100%|██████████| 10/10 [00:01<00:00,  5.37it/s]\n"
     ]
    },
    {
     "name": "stdout",
     "output_type": "stream",
     "text": [
      " (4/n) Calculating sharpness metrics\n",
      " (n/n) Calculating proper scoring rule metrics\n",
      "**Finished Calculating All Metrics**\n",
      "\n",
      "\n",
      "===================== Accuracy Metrics =====================\n",
      "  MAE           0.396\n",
      "  RMSE          0.859\n",
      "  MDAE          0.072\n",
      "  MARPD         134.327\n",
      "  R2            0.714\n",
      "  Correlation   0.864\n",
      "=============== Average Calibration Metrics ================\n",
      "  Root-mean-squared Calibration Error   0.071\n",
      "  Mean-absolute Calibration Error       0.056\n",
      "  Miscalibration Area                   0.056\n",
      "========== Adversarial Group Calibration Metrics ===========\n",
      "  Mean-absolute Adversarial Group Calibration Error\n",
      "     Group Size: 0.11 -- Calibration Error: 0.121\n",
      "     Group Size: 0.56 -- Calibration Error: 0.071\n",
      "     Group Size: 1.00 -- Calibration Error: 0.056\n",
      "  Root-mean-squared Adversarial Group Calibration Error\n",
      "     Group Size: 0.11 -- Calibration Error: 0.147\n",
      "     Group Size: 0.56 -- Calibration Error: 0.086\n",
      "     Group Size: 1.00 -- Calibration Error: 0.071\n",
      "==================== Sharpness Metrics =====================\n",
      "  Sharpness   0.349\n",
      "=================== Scoring Rule Metrics ===================\n",
      "  Negative-log-likelihood   2.198\n",
      "  CRPS                      0.316\n",
      "  Check Score               0.159\n",
      "  Interval Score            2.126\n",
      "MAE =\n",
      "0.39583979969546573\n",
      "uncertainty =\n",
      "0.2193156\n",
      "2021-06-14 18:54:02,344 - modnet - INFO - Loaded <modnet.preprocessing.MODData object at 0x7f62081d0610> object, created with modnet version 0.1.9\n",
      "2021-06-14 18:54:02,408 - modnet - INFO - Generation number 0\n",
      "2021-06-14 18:54:05,756 - modnet - INFO - Multiprocessing on 10 cores. Total of 128 cores available.\n"
     ]
    },
    {
     "name": "stderr",
     "output_type": "stream",
     "text": [
      "100%|██████████| 100/100 [13:44<00:00,  8.25s/it]"
     ]
    },
    {
     "name": "stdout",
     "output_type": "stream",
     "text": [
      "2021-06-14 19:07:50,533 - modnet - INFO - Loss per individual: ind 0: 0.686 \tind 1: 0.653 \tind 2: 0.679 \tind 3: 0.727 \tind 4: 0.652 \tind 5: 0.596 \tind 6: 0.660 \tind 7: 0.643 \tind 8: 0.659 \tind 9: 0.604 \tind 10: 0.617 \tind 11: 0.796 \tind 12: 0.677 \tind 13: 0.588 \tind 14: 0.606 \tind 15: 0.735 \tind 16: 0.625 \tind 17: 0.676 \tind 18: 0.662 \tind 19: 0.641 \t\n"
     ]
    },
    {
     "name": "stderr",
     "output_type": "stream",
     "text": [
      "\n"
     ]
    },
    {
     "name": "stdout",
     "output_type": "stream",
     "text": [
      "2021-06-14 19:07:52,276 - modnet - INFO - Generation number 1\n",
      "2021-06-14 19:07:55,522 - modnet - INFO - Multiprocessing on 10 cores. Total of 128 cores available.\n"
     ]
    },
    {
     "name": "stderr",
     "output_type": "stream",
     "text": [
      "100%|██████████| 100/100 [13:05<00:00,  7.85s/it]"
     ]
    },
    {
     "name": "stdout",
     "output_type": "stream",
     "text": [
      "2021-06-14 19:21:00,757 - modnet - INFO - Loss per individual: ind 0: 0.663 \tind 1: 0.656 \tind 2: 0.700 \tind 3: 0.610 \tind 4: 0.634 \tind 5: 0.612 \tind 6: 0.640 \tind 7: 0.734 \tind 8: 0.617 \tind 9: 0.618 \tind 10: 0.615 \tind 11: 0.679 \tind 12: 0.741 \tind 13: 0.619 \tind 14: 0.680 \tind 15: 0.671 \tind 16: 0.611 \tind 17: 0.606 \tind 18: 0.594 \tind 19: 0.639 \t\n"
     ]
    },
    {
     "name": "stderr",
     "output_type": "stream",
     "text": [
      "\n"
     ]
    },
    {
     "name": "stdout",
     "output_type": "stream",
     "text": [
      "2021-06-14 19:21:02,546 - modnet - INFO - Generation number 2\n",
      "2021-06-14 19:21:05,749 - modnet - INFO - Multiprocessing on 10 cores. Total of 128 cores available.\n"
     ]
    },
    {
     "name": "stderr",
     "output_type": "stream",
     "text": [
      "100%|██████████| 100/100 [12:33<00:00,  7.54s/it]"
     ]
    },
    {
     "name": "stdout",
     "output_type": "stream",
     "text": [
      "2021-06-14 19:33:39,584 - modnet - INFO - Loss per individual: ind 0: 0.626 \tind 1: 0.603 \tind 2: 0.624 \tind 3: 0.623 \tind 4: 0.646 \tind 5: 0.620 \tind 6: 0.640 \tind 7: 0.626 \tind 8: 0.624 \tind 9: 0.602 \tind 10: 0.787 \tind 11: 0.596 \tind 12: 0.597 \tind 13: 0.646 \tind 14: 0.607 \tind 15: 0.592 \tind 16: 0.686 \tind 17: 0.675 \tind 18: 0.674 \tind 19: 0.741 \t\n"
     ]
    },
    {
     "name": "stderr",
     "output_type": "stream",
     "text": [
      "\n"
     ]
    },
    {
     "name": "stdout",
     "output_type": "stream",
     "text": [
      "2021-06-14 19:33:41,102 - modnet - INFO - Generation number 3\n",
      "2021-06-14 19:33:44,091 - modnet - INFO - Multiprocessing on 10 cores. Total of 128 cores available.\n"
     ]
    },
    {
     "name": "stderr",
     "output_type": "stream",
     "text": [
      "100%|██████████| 100/100 [11:21<00:00,  6.82s/it]"
     ]
    },
    {
     "name": "stdout",
     "output_type": "stream",
     "text": [
      "2021-06-14 19:45:05,726 - modnet - INFO - Loss per individual: ind 0: 0.597 \tind 1: 0.676 \tind 2: 0.627 \tind 3: 0.635 \tind 4: 0.601 \tind 5: 0.648 \tind 6: 0.608 \tind 7: 0.624 \tind 8: 0.654 \tind 9: 0.617 \tind 10: 0.605 \tind 11: 0.621 \tind 12: 0.644 \tind 13: 0.635 \tind 14: 0.751 \tind 15: 0.628 \tind 16: 0.615 \tind 17: 0.668 \tind 18: 0.651 \tind 19: 0.593 \t\n"
     ]
    },
    {
     "name": "stderr",
     "output_type": "stream",
     "text": [
      "\n"
     ]
    },
    {
     "name": "stdout",
     "output_type": "stream",
     "text": [
      "2021-06-14 19:45:07,564 - modnet - INFO - Early stopping: same best model for 4 consecutive generations\n",
      " (1/n) Calculating accuracy metrics\n",
      " (2/n) Calculating average calibration metrics\n"
     ]
    },
    {
     "name": "stderr",
     "output_type": "stream",
     "text": [
      " 10%|█         | 1/10 [00:00<00:01,  6.24it/s]"
     ]
    },
    {
     "name": "stdout",
     "output_type": "stream",
     "text": [
      " (3/n) Calculating adversarial group calibration metrics\n",
      "  [1/2] for mean absolute calibration error\n",
      "Measuring adversarial group calibration by spanning group size between 0.0 and 1.0, in 10 intervals\n"
     ]
    },
    {
     "name": "stderr",
     "output_type": "stream",
     "text": [
      "100%|██████████| 10/10 [00:01<00:00,  5.23it/s]\n",
      " 10%|█         | 1/10 [00:00<00:01,  5.97it/s]"
     ]
    },
    {
     "name": "stdout",
     "output_type": "stream",
     "text": [
      "  [2/2] for root mean squared calibration error\n",
      "Measuring adversarial group calibration by spanning group size between 0.0 and 1.0, in 10 intervals\n"
     ]
    },
    {
     "name": "stderr",
     "output_type": "stream",
     "text": [
      "100%|██████████| 10/10 [00:01<00:00,  5.18it/s]\n"
     ]
    },
    {
     "name": "stdout",
     "output_type": "stream",
     "text": [
      " (4/n) Calculating sharpness metrics\n",
      " (n/n) Calculating proper scoring rule metrics\n",
      "**Finished Calculating All Metrics**\n",
      "\n",
      "\n",
      "===================== Accuracy Metrics =====================\n",
      "  MAE           0.355\n",
      "  RMSE          0.721\n",
      "  MDAE          0.052\n",
      "  MARPD         132.497\n",
      "  R2            0.794\n",
      "  Correlation   0.891\n",
      "=============== Average Calibration Metrics ================\n",
      "  Root-mean-squared Calibration Error   0.132\n",
      "  Mean-absolute Calibration Error       0.123\n",
      "  Miscalibration Area                   0.124\n",
      "========== Adversarial Group Calibration Metrics ===========\n",
      "  Mean-absolute Adversarial Group Calibration Error\n",
      "     Group Size: 0.11 -- Calibration Error: 0.198\n",
      "     Group Size: 0.56 -- Calibration Error: 0.148\n",
      "     Group Size: 1.00 -- Calibration Error: 0.123\n",
      "  Root-mean-squared Adversarial Group Calibration Error\n",
      "     Group Size: 0.11 -- Calibration Error: 0.206\n",
      "     Group Size: 0.56 -- Calibration Error: 0.152\n",
      "     Group Size: 1.00 -- Calibration Error: 0.132\n",
      "==================== Sharpness Metrics =====================\n",
      "  Sharpness   0.312\n",
      "=================== Scoring Rule Metrics ===================\n",
      "  Negative-log-likelihood   2.535\n",
      "  CRPS                      0.282\n",
      "  Check Score               0.142\n",
      "  Interval Score            1.869\n",
      "MAE =\n",
      "0.3545426163906421\n",
      "uncertainty =\n",
      "0.19080055\n",
      "2021-06-14 19:45:19,587 - modnet - INFO - Loaded <modnet.preprocessing.MODData object at 0x7f6346f5d9a0> object, created with modnet version 0.1.9\n",
      "2021-06-14 19:45:19,643 - modnet - INFO - Generation number 0\n",
      "2021-06-14 19:45:22,790 - modnet - INFO - Multiprocessing on 10 cores. Total of 128 cores available.\n"
     ]
    },
    {
     "name": "stderr",
     "output_type": "stream",
     "text": [
      "100%|██████████| 100/100 [13:17<00:00,  7.97s/it]"
     ]
    },
    {
     "name": "stdout",
     "output_type": "stream",
     "text": [
      "2021-06-14 19:58:40,262 - modnet - INFO - Loss per individual: ind 0: 0.731 \tind 1: 0.742 \tind 2: 0.642 \tind 3: 0.782 \tind 4: 0.780 \tind 5: 0.757 \tind 6: 0.649 \tind 7: 0.645 \tind 8: 0.616 \tind 9: 0.629 \tind 10: 0.679 \tind 11: 0.772 \tind 12: 0.646 \tind 13: 0.689 \tind 14: 0.685 \tind 15: 0.639 \tind 16: 0.624 \tind 17: 0.708 \tind 18: 0.691 \tind 19: 0.643 \t\n"
     ]
    },
    {
     "name": "stderr",
     "output_type": "stream",
     "text": [
      "\n"
     ]
    },
    {
     "name": "stdout",
     "output_type": "stream",
     "text": [
      "2021-06-14 19:58:41,830 - modnet - INFO - Generation number 1\n",
      "2021-06-14 19:58:44,724 - modnet - INFO - Multiprocessing on 10 cores. Total of 128 cores available.\n"
     ]
    },
    {
     "name": "stderr",
     "output_type": "stream",
     "text": [
      "100%|██████████| 100/100 [11:41<00:00,  7.02s/it]"
     ]
    },
    {
     "name": "stdout",
     "output_type": "stream",
     "text": [
      "2021-06-14 20:10:26,782 - modnet - INFO - Loss per individual: ind 0: 0.709 \tind 1: 0.731 \tind 2: 0.641 \tind 3: 0.638 \tind 4: 0.674 \tind 5: 0.801 \tind 6: 0.782 \tind 7: 0.650 \tind 8: 0.636 \tind 9: 0.671 \tind 10: 0.658 \tind 11: 0.708 \tind 12: 0.693 \tind 13: 0.669 \tind 14: 0.614 \tind 15: 0.627 \tind 16: 0.659 \tind 17: 0.635 \tind 18: 0.669 \tind 19: 0.633 \t\n"
     ]
    },
    {
     "name": "stderr",
     "output_type": "stream",
     "text": [
      "\n"
     ]
    },
    {
     "name": "stdout",
     "output_type": "stream",
     "text": [
      "2021-06-14 20:10:28,564 - modnet - INFO - Generation number 2\n",
      "2021-06-14 20:10:31,824 - modnet - INFO - Multiprocessing on 10 cores. Total of 128 cores available.\n"
     ]
    },
    {
     "name": "stderr",
     "output_type": "stream",
     "text": [
      "100%|██████████| 100/100 [09:29<00:00,  5.70s/it]"
     ]
    },
    {
     "name": "stdout",
     "output_type": "stream",
     "text": [
      "2021-06-14 20:20:01,619 - modnet - INFO - Loss per individual: ind 0: 0.638 \tind 1: 0.689 \tind 2: 0.659 \tind 3: 0.674 \tind 4: 0.742 \tind 5: 0.668 \tind 6: 0.628 \tind 7: 0.812 \tind 8: 0.614 \tind 9: 0.654 \tind 10: 0.692 \tind 11: 0.675 \tind 12: 0.642 \tind 13: 0.694 \tind 14: 0.624 \tind 15: 0.639 \tind 16: 0.703 \tind 17: 0.678 \tind 18: 0.674 \tind 19: 0.661 \t\n"
     ]
    },
    {
     "name": "stderr",
     "output_type": "stream",
     "text": [
      "\n"
     ]
    },
    {
     "name": "stdout",
     "output_type": "stream",
     "text": [
      "2021-06-14 20:20:03,176 - modnet - INFO - Generation number 3\n",
      "2021-06-14 20:20:06,212 - modnet - INFO - Multiprocessing on 10 cores. Total of 128 cores available.\n"
     ]
    },
    {
     "name": "stderr",
     "output_type": "stream",
     "text": [
      "100%|██████████| 100/100 [11:21<00:00,  6.82s/it]"
     ]
    },
    {
     "name": "stdout",
     "output_type": "stream",
     "text": [
      "2021-06-14 20:31:28,161 - modnet - INFO - Loss per individual: ind 0: 0.640 \tind 1: 0.704 \tind 2: 0.691 \tind 3: 0.645 \tind 4: 0.655 \tind 5: 0.639 \tind 6: 0.681 \tind 7: 0.660 \tind 8: 0.744 \tind 9: 0.651 \tind 10: 0.706 \tind 11: 0.685 \tind 12: 0.687 \tind 13: 0.664 \tind 14: 0.739 \tind 15: 0.671 \tind 16: 0.625 \tind 17: 0.714 \tind 18: 0.632 \tind 19: 0.672 \t\n"
     ]
    },
    {
     "name": "stderr",
     "output_type": "stream",
     "text": [
      "\n"
     ]
    },
    {
     "name": "stdout",
     "output_type": "stream",
     "text": [
      "2021-06-14 20:31:29,617 - modnet - INFO - Generation number 4\n",
      "2021-06-14 20:31:32,672 - modnet - INFO - Multiprocessing on 10 cores. Total of 128 cores available.\n"
     ]
    },
    {
     "name": "stderr",
     "output_type": "stream",
     "text": [
      "100%|██████████| 100/100 [11:30<00:00,  6.90s/it]"
     ]
    },
    {
     "name": "stdout",
     "output_type": "stream",
     "text": [
      "2021-06-14 20:43:02,752 - modnet - INFO - Loss per individual: ind 0: 0.709 \tind 1: 0.631 \tind 2: 0.680 \tind 3: 0.630 \tind 4: 0.637 \tind 5: 0.680 \tind 6: 0.717 \tind 7: 0.705 \tind 8: 0.651 \tind 9: 0.638 \tind 10: 0.648 \tind 11: 0.792 \tind 12: 0.662 \tind 13: 0.625 \tind 14: 0.694 \tind 15: 0.657 \tind 16: 0.683 \tind 17: 0.621 \tind 18: 0.635 \tind 19: 0.631 \t\n"
     ]
    },
    {
     "name": "stderr",
     "output_type": "stream",
     "text": [
      "\n"
     ]
    },
    {
     "name": "stdout",
     "output_type": "stream",
     "text": [
      "2021-06-14 20:43:04,373 - modnet - INFO - Generation number 5\n",
      "2021-06-14 20:43:07,758 - modnet - INFO - Multiprocessing on 10 cores. Total of 128 cores available.\n"
     ]
    },
    {
     "name": "stderr",
     "output_type": "stream",
     "text": [
      "100%|██████████| 100/100 [12:48<00:00,  7.69s/it]"
     ]
    },
    {
     "name": "stdout",
     "output_type": "stream",
     "text": [
      "2021-06-14 20:55:56,390 - modnet - INFO - Loss per individual: ind 0: 0.609 \tind 1: 0.651 \tind 2: 0.619 \tind 3: 0.656 \tind 4: 0.724 \tind 5: 0.692 \tind 6: 0.641 \tind 7: 0.809 \tind 8: 0.698 \tind 9: 0.617 \tind 10: 0.755 \tind 11: 0.700 \tind 12: 0.616 \tind 13: 0.634 \tind 14: 0.688 \tind 15: 0.607 \tind 16: 0.778 \tind 17: 0.642 \tind 18: 0.656 \tind 19: 0.671 \t\n"
     ]
    },
    {
     "name": "stderr",
     "output_type": "stream",
     "text": [
      "\n"
     ]
    },
    {
     "name": "stdout",
     "output_type": "stream",
     "text": [
      "2021-06-14 20:55:58,102 - modnet - INFO - Generation number 6\n",
      "2021-06-14 20:56:01,716 - modnet - INFO - Multiprocessing on 10 cores. Total of 128 cores available.\n"
     ]
    },
    {
     "name": "stderr",
     "output_type": "stream",
     "text": [
      "100%|██████████| 100/100 [09:31<00:00,  5.72s/it]"
     ]
    },
    {
     "name": "stdout",
     "output_type": "stream",
     "text": [
      "2021-06-14 21:05:33,598 - modnet - INFO - Loss per individual: ind 0: 0.618 \tind 1: 0.658 \tind 2: 0.626 \tind 3: 0.688 \tind 4: 0.687 \tind 5: 0.699 \tind 6: 0.651 \tind 7: 0.640 \tind 8: 0.662 \tind 9: 0.683 \tind 10: 0.604 \tind 11: 0.711 \tind 12: 0.662 \tind 13: 0.615 \tind 14: 0.686 \tind 15: 0.599 \tind 16: 0.635 \tind 17: 0.649 \tind 18: 0.657 \tind 19: 0.697 \t\n"
     ]
    },
    {
     "name": "stderr",
     "output_type": "stream",
     "text": [
      "\n"
     ]
    },
    {
     "name": "stdout",
     "output_type": "stream",
     "text": [
      "2021-06-14 21:05:35,107 - modnet - INFO - Generation number 7\n",
      "2021-06-14 21:05:38,391 - modnet - INFO - Multiprocessing on 10 cores. Total of 128 cores available.\n"
     ]
    },
    {
     "name": "stderr",
     "output_type": "stream",
     "text": [
      "100%|██████████| 100/100 [11:17<00:00,  6.77s/it]"
     ]
    },
    {
     "name": "stdout",
     "output_type": "stream",
     "text": [
      "2021-06-14 21:16:55,784 - modnet - INFO - Loss per individual: ind 0: 0.636 \tind 1: 0.654 \tind 2: 0.659 \tind 3: 0.675 \tind 4: 0.620 \tind 5: 0.665 \tind 6: 0.800 \tind 7: 0.668 \tind 8: 0.683 \tind 9: 0.644 \tind 10: 0.642 \tind 11: 0.695 \tind 12: 0.662 \tind 13: 0.704 \tind 14: 0.616 \tind 15: 0.653 \tind 16: 0.657 \tind 17: 0.696 \tind 18: 0.634 \tind 19: 0.721 \t\n"
     ]
    },
    {
     "name": "stderr",
     "output_type": "stream",
     "text": [
      "\n"
     ]
    },
    {
     "name": "stdout",
     "output_type": "stream",
     "text": [
      "2021-06-14 21:16:57,216 - modnet - INFO - Generation number 8\n",
      "2021-06-14 21:17:00,719 - modnet - INFO - Multiprocessing on 10 cores. Total of 128 cores available.\n"
     ]
    },
    {
     "name": "stderr",
     "output_type": "stream",
     "text": [
      "100%|██████████| 100/100 [10:51<00:00,  6.52s/it]"
     ]
    },
    {
     "name": "stdout",
     "output_type": "stream",
     "text": [
      "2021-06-14 21:27:52,450 - modnet - INFO - Loss per individual: ind 0: 0.639 \tind 1: 0.638 \tind 2: 0.669 \tind 3: 0.633 \tind 4: 0.694 \tind 5: 0.725 \tind 6: 0.640 \tind 7: 0.679 \tind 8: 0.616 \tind 9: 0.616 \tind 10: 0.641 \tind 11: 0.670 \tind 12: 0.612 \tind 13: 0.647 \tind 14: 0.697 \tind 15: 0.652 \tind 16: 0.645 \tind 17: 0.623 \tind 18: 0.634 \tind 19: 0.651 \t\n"
     ]
    },
    {
     "name": "stderr",
     "output_type": "stream",
     "text": [
      "\n"
     ]
    },
    {
     "name": "stdout",
     "output_type": "stream",
     "text": [
      "2021-06-14 21:27:54,091 - modnet - INFO - Generation number 9\n",
      "2021-06-14 21:27:58,493 - modnet - INFO - Multiprocessing on 10 cores. Total of 128 cores available.\n"
     ]
    },
    {
     "name": "stderr",
     "output_type": "stream",
     "text": [
      "100%|██████████| 100/100 [09:49<00:00,  5.89s/it]"
     ]
    },
    {
     "name": "stdout",
     "output_type": "stream",
     "text": [
      "2021-06-14 21:37:47,542 - modnet - INFO - Loss per individual: ind 0: 0.601 \tind 1: 0.642 \tind 2: 0.646 \tind 3: 0.728 \tind 4: 0.736 \tind 5: 0.733 \tind 6: 0.640 \tind 7: 0.627 \tind 8: 0.634 \tind 9: 0.625 \tind 10: 0.670 \tind 11: 0.670 \tind 12: 0.649 \tind 13: 0.681 \tind 14: 0.648 \tind 15: 0.644 \tind 16: 0.780 \tind 17: 0.601 \tind 18: 0.656 \tind 19: 0.678 \t\n"
     ]
    },
    {
     "name": "stderr",
     "output_type": "stream",
     "text": [
      "\n"
     ]
    },
    {
     "name": "stdout",
     "output_type": "stream",
     "text": [
      "2021-06-14 21:37:49,168 - modnet - INFO - Early stopping: same best model for 4 consecutive generations\n",
      " (1/n) Calculating accuracy metrics\n",
      " (2/n) Calculating average calibration metrics\n"
     ]
    },
    {
     "name": "stderr",
     "output_type": "stream",
     "text": [
      " 10%|█         | 1/10 [00:00<00:01,  5.58it/s]"
     ]
    },
    {
     "name": "stdout",
     "output_type": "stream",
     "text": [
      " (3/n) Calculating adversarial group calibration metrics\n",
      "  [1/2] for mean absolute calibration error\n",
      "Measuring adversarial group calibration by spanning group size between 0.0 and 1.0, in 10 intervals\n"
     ]
    },
    {
     "name": "stderr",
     "output_type": "stream",
     "text": [
      "100%|██████████| 10/10 [00:01<00:00,  5.49it/s]\n",
      " 10%|█         | 1/10 [00:00<00:01,  6.10it/s]"
     ]
    },
    {
     "name": "stdout",
     "output_type": "stream",
     "text": [
      "  [2/2] for root mean squared calibration error\n",
      "Measuring adversarial group calibration by spanning group size between 0.0 and 1.0, in 10 intervals\n"
     ]
    },
    {
     "name": "stderr",
     "output_type": "stream",
     "text": [
      "100%|██████████| 10/10 [00:01<00:00,  5.75it/s]\n"
     ]
    },
    {
     "name": "stdout",
     "output_type": "stream",
     "text": [
      " (4/n) Calculating sharpness metrics\n",
      " (n/n) Calculating proper scoring rule metrics\n",
      "**Finished Calculating All Metrics**\n",
      "\n",
      "\n",
      "===================== Accuracy Metrics =====================\n",
      "  MAE           945.136\n",
      "  RMSE          10258.307\n",
      "  MDAE          0.029\n",
      "  MARPD         136.884\n",
      "  R2            -48404841.095\n",
      "  Correlation   -0.020\n",
      "=============== Average Calibration Metrics ================\n",
      "  Root-mean-squared Calibration Error   0.109\n",
      "  Mean-absolute Calibration Error       0.104\n",
      "  Miscalibration Area                   0.105\n",
      "========== Adversarial Group Calibration Metrics ===========\n",
      "  Mean-absolute Adversarial Group Calibration Error\n",
      "     Group Size: 0.11 -- Calibration Error: 0.168\n",
      "     Group Size: 0.56 -- Calibration Error: 0.124\n",
      "     Group Size: 1.00 -- Calibration Error: 0.104\n",
      "  Root-mean-squared Adversarial Group Calibration Error\n",
      "     Group Size: 0.11 -- Calibration Error: 0.164\n",
      "     Group Size: 0.56 -- Calibration Error: 0.133\n",
      "     Group Size: 1.00 -- Calibration Error: 0.109\n",
      "==================== Sharpness Metrics =====================\n",
      "  Sharpness   4089.206\n",
      "=================== Scoring Rule Metrics ===================\n",
      "  Negative-log-likelihood   3.097\n",
      "  CRPS                      734.043\n",
      "  Check Score               370.794\n",
      "  Interval Score            3977.597\n",
      "MAE =\n",
      "0.2912852318298309\n",
      "uncertainty =\n",
      "0.17977706\n",
      "2021-06-14 21:38:06,580 - modnet - INFO - Loaded <modnet.preprocessing.MODData object at 0x7f634bfc2850> object, created with modnet version 0.1.9\n",
      "2021-06-14 21:38:06,638 - modnet - INFO - Generation number 0\n",
      "2021-06-14 21:38:10,621 - modnet - INFO - Multiprocessing on 10 cores. Total of 128 cores available.\n"
     ]
    },
    {
     "name": "stderr",
     "output_type": "stream",
     "text": [
      "100%|██████████| 100/100 [17:35<00:00, 10.55s/it] "
     ]
    },
    {
     "name": "stdout",
     "output_type": "stream",
     "text": [
      "2021-06-14 21:55:46,001 - modnet - INFO - Loss per individual: ind 0: 2.112 \tind 1: 1.087 \tind 2: 1.699 \tind 3: 2.547 \tind 4: 0.631 \tind 5: 3.865 \tind 6: 0.688 \tind 7: 0.669 \tind 8: 0.721 \tind 9: 0.621 \tind 10: 0.614 \tind 11: 0.597 \tind 12: 10.027 \tind 13: 0.900 \tind 14: 0.639 \tind 15: 0.672 \tind 16: 3.067 \tind 17: 0.742 \tind 18: 0.649 \tind 19: 3.290 \t\n"
     ]
    },
    {
     "name": "stderr",
     "output_type": "stream",
     "text": [
      "\n"
     ]
    },
    {
     "name": "stdout",
     "output_type": "stream",
     "text": [
      "2021-06-14 21:55:47,862 - modnet - INFO - Generation number 1\n",
      "2021-06-14 21:55:51,822 - modnet - INFO - Multiprocessing on 10 cores. Total of 128 cores available.\n"
     ]
    },
    {
     "name": "stderr",
     "output_type": "stream",
     "text": [
      "100%|██████████| 100/100 [22:29<00:00, 13.49s/it]"
     ]
    },
    {
     "name": "stdout",
     "output_type": "stream",
     "text": [
      "2021-06-14 22:18:21,249 - modnet - INFO - Loss per individual: ind 0: 0.633 \tind 1: 0.623 \tind 2: 0.634 \tind 3: 0.623 \tind 4: 0.609 \tind 5: 0.664 \tind 6: 0.614 \tind 7: 0.636 \tind 8: 0.627 \tind 9: 0.652 \tind 10: 0.614 \tind 11: 0.658 \tind 12: 0.607 \tind 13: 0.663 \tind 14: 1.892 \tind 15: 0.619 \tind 16: 0.606 \tind 17: 0.602 \tind 18: 4.332 \tind 19: 0.629 \t\n"
     ]
    },
    {
     "name": "stderr",
     "output_type": "stream",
     "text": [
      "\n"
     ]
    },
    {
     "name": "stdout",
     "output_type": "stream",
     "text": [
      "2021-06-14 22:18:22,968 - modnet - INFO - Generation number 2\n",
      "2021-06-14 22:18:26,998 - modnet - INFO - Multiprocessing on 10 cores. Total of 128 cores available.\n"
     ]
    },
    {
     "name": "stderr",
     "output_type": "stream",
     "text": [
      "100%|██████████| 100/100 [37:36<00:00, 22.57s/it]  "
     ]
    },
    {
     "name": "stdout",
     "output_type": "stream",
     "text": [
      "2021-06-14 22:56:04,123 - modnet - INFO - Loss per individual: ind 0: 0.648 \tind 1: 0.657 \tind 2: 0.626 \tind 3: 0.678 \tind 4: 0.615 \tind 5: 0.621 \tind 6: 0.601 \tind 7: 0.614 \tind 8: 0.654 \tind 9: 0.627 \tind 10: 0.600 \tind 11: 0.703 \tind 12: 0.628 \tind 13: 0.696 \tind 14: 0.604 \tind 15: 0.622 \tind 16: 0.618 \tind 17: 0.625 \tind 18: 0.663 \tind 19: 0.665 \t\n"
     ]
    },
    {
     "name": "stderr",
     "output_type": "stream",
     "text": [
      "\n"
     ]
    },
    {
     "name": "stdout",
     "output_type": "stream",
     "text": [
      "2021-06-14 22:56:05,718 - modnet - INFO - Generation number 3\n",
      "2021-06-14 22:56:10,004 - modnet - INFO - Multiprocessing on 10 cores. Total of 128 cores available.\n"
     ]
    },
    {
     "name": "stderr",
     "output_type": "stream",
     "text": [
      "100%|██████████| 100/100 [12:10<00:00,  7.30s/it]"
     ]
    },
    {
     "name": "stdout",
     "output_type": "stream",
     "text": [
      "2021-06-14 23:08:20,107 - modnet - INFO - Loss per individual: ind 0: 0.659 \tind 1: 0.620 \tind 2: 0.664 \tind 3: 0.625 \tind 4: 0.613 \tind 5: 0.621 \tind 6: 0.632 \tind 7: 0.657 \tind 8: 0.644 \tind 9: 0.669 \tind 10: 0.659 \tind 11: 0.619 \tind 12: 0.645 \tind 13: 0.630 \tind 14: 0.630 \tind 15: 0.622 \tind 16: 0.622 \tind 17: 0.611 \tind 18: 0.602 \tind 19: 0.629 \t\n"
     ]
    },
    {
     "name": "stderr",
     "output_type": "stream",
     "text": [
      "\n"
     ]
    },
    {
     "name": "stdout",
     "output_type": "stream",
     "text": [
      "2021-06-14 23:08:21,598 - modnet - INFO - Early stopping: same best model for 4 consecutive generations\n",
      " (1/n) Calculating accuracy metrics\n",
      " (2/n) Calculating average calibration metrics\n"
     ]
    },
    {
     "name": "stderr",
     "output_type": "stream",
     "text": [
      " 10%|█         | 1/10 [00:00<00:01,  8.07it/s]"
     ]
    },
    {
     "name": "stdout",
     "output_type": "stream",
     "text": [
      " (3/n) Calculating adversarial group calibration metrics\n",
      "  [1/2] for mean absolute calibration error\n",
      "Measuring adversarial group calibration by spanning group size between 0.0 and 1.0, in 10 intervals\n"
     ]
    },
    {
     "name": "stderr",
     "output_type": "stream",
     "text": [
      "100%|██████████| 10/10 [00:01<00:00,  6.81it/s]\n",
      " 10%|█         | 1/10 [00:00<00:01,  7.31it/s]"
     ]
    },
    {
     "name": "stdout",
     "output_type": "stream",
     "text": [
      "  [2/2] for root mean squared calibration error\n",
      "Measuring adversarial group calibration by spanning group size between 0.0 and 1.0, in 10 intervals\n"
     ]
    },
    {
     "name": "stderr",
     "output_type": "stream",
     "text": [
      "100%|██████████| 10/10 [00:01<00:00,  6.30it/s]\n"
     ]
    },
    {
     "name": "stdout",
     "output_type": "stream",
     "text": [
      " (4/n) Calculating sharpness metrics\n",
      " (n/n) Calculating proper scoring rule metrics\n",
      "**Finished Calculating All Metrics**\n",
      "\n",
      "\n",
      "===================== Accuracy Metrics =====================\n",
      "  MAE           0.321\n",
      "  RMSE          0.734\n",
      "  MDAE          0.020\n",
      "  MARPD         137.974\n",
      "  R2            0.813\n",
      "  Correlation   0.905\n",
      "=============== Average Calibration Metrics ================\n",
      "  Root-mean-squared Calibration Error   0.082\n",
      "  Mean-absolute Calibration Error       0.070\n",
      "  Miscalibration Area                   0.071\n",
      "========== Adversarial Group Calibration Metrics ===========\n",
      "  Mean-absolute Adversarial Group Calibration Error\n",
      "     Group Size: 0.11 -- Calibration Error: 0.138\n",
      "     Group Size: 0.56 -- Calibration Error: 0.085\n",
      "     Group Size: 1.00 -- Calibration Error: 0.070\n",
      "  Root-mean-squared Adversarial Group Calibration Error\n",
      "     Group Size: 0.11 -- Calibration Error: 0.147\n",
      "     Group Size: 0.56 -- Calibration Error: 0.100\n",
      "     Group Size: 1.00 -- Calibration Error: 0.082\n",
      "==================== Sharpness Metrics =====================\n",
      "  Sharpness   0.329\n",
      "=================== Scoring Rule Metrics ===================\n",
      "  Negative-log-likelihood   3.126\n",
      "  CRPS                      0.253\n",
      "  Check Score               0.128\n",
      "  Interval Score            1.689\n",
      "MAE =\n",
      "0.3208305416901097\n",
      "uncertainty =\n",
      "0.18877757\n",
      "2021-06-14 23:08:30,989 - modnet - INFO - Loaded <modnet.preprocessing.MODData object at 0x7f63379801f0> object, created with modnet version 0.1.9\n",
      "2021-06-14 23:08:31,061 - modnet - INFO - Generation number 0\n",
      "2021-06-14 23:08:34,626 - modnet - INFO - Multiprocessing on 10 cores. Total of 128 cores available.\n"
     ]
    },
    {
     "name": "stderr",
     "output_type": "stream",
     "text": [
      "100%|██████████| 100/100 [10:57<00:00,  6.58s/it]"
     ]
    },
    {
     "name": "stdout",
     "output_type": "stream",
     "text": [
      "2021-06-14 23:19:32,350 - modnet - INFO - Loss per individual: ind 0: 0.611 \tind 1: 0.770 \tind 2: 0.576 \tind 3: 0.573 \tind 4: 0.654 \tind 5: 0.637 \tind 6: 0.635 \tind 7: 1.106 \tind 8: 0.627 \tind 9: 0.648 \tind 10: 0.592 \tind 11: 0.819 \tind 12: 0.607 \tind 13: 0.607 \tind 14: 0.613 \tind 15: 0.696 \tind 16: 0.828 \tind 17: 0.648 \tind 18: 0.644 \tind 19: 0.615 \t\n"
     ]
    },
    {
     "name": "stderr",
     "output_type": "stream",
     "text": [
      "\n"
     ]
    },
    {
     "name": "stdout",
     "output_type": "stream",
     "text": [
      "2021-06-14 23:19:33,661 - modnet - INFO - Generation number 1\n",
      "2021-06-14 23:19:36,861 - modnet - INFO - Multiprocessing on 10 cores. Total of 128 cores available.\n"
     ]
    },
    {
     "name": "stderr",
     "output_type": "stream",
     "text": [
      "100%|██████████| 100/100 [09:35<00:00,  5.75s/it]"
     ]
    },
    {
     "name": "stdout",
     "output_type": "stream",
     "text": [
      "2021-06-14 23:29:12,090 - modnet - INFO - Loss per individual: ind 0: 0.603 \tind 1: 0.632 \tind 2: 1.195 \tind 3: 1.451 \tind 4: 0.591 \tind 5: 0.701 \tind 6: 0.666 \tind 7: 0.756 \tind 8: 0.614 \tind 9: 0.590 \tind 10: 0.643 \tind 11: 1.294 \tind 12: 0.617 \tind 13: 0.591 \tind 14: 0.594 \tind 15: 2.881 \tind 16: 0.570 \tind 17: 0.612 \tind 18: 0.648 \tind 19: 0.593 \t\n"
     ]
    },
    {
     "name": "stderr",
     "output_type": "stream",
     "text": [
      "\n"
     ]
    },
    {
     "name": "stdout",
     "output_type": "stream",
     "text": [
      "2021-06-14 23:29:13,857 - modnet - INFO - Generation number 2\n",
      "2021-06-14 23:29:18,361 - modnet - INFO - Multiprocessing on 10 cores. Total of 128 cores available.\n"
     ]
    },
    {
     "name": "stderr",
     "output_type": "stream",
     "text": [
      "100%|██████████| 100/100 [09:51<00:00,  5.92s/it]"
     ]
    },
    {
     "name": "stdout",
     "output_type": "stream",
     "text": [
      "2021-06-14 23:39:10,228 - modnet - INFO - Loss per individual: ind 0: 0.616 \tind 1: 0.645 \tind 2: 0.624 \tind 3: 0.583 \tind 4: 0.604 \tind 5: 0.598 \tind 6: 0.607 \tind 7: 0.625 \tind 8: 0.610 \tind 9: 0.621 \tind 10: 0.615 \tind 11: 0.550 \tind 12: 0.713 \tind 13: 0.613 \tind 14: 0.618 \tind 15: 0.620 \tind 16: 0.588 \tind 17: 0.603 \tind 18: 0.715 \tind 19: 0.611 \t\n"
     ]
    },
    {
     "name": "stderr",
     "output_type": "stream",
     "text": [
      "\n"
     ]
    },
    {
     "name": "stdout",
     "output_type": "stream",
     "text": [
      "2021-06-14 23:39:12,070 - modnet - INFO - Generation number 3\n",
      "2021-06-14 23:39:16,951 - modnet - INFO - Multiprocessing on 10 cores. Total of 128 cores available.\n"
     ]
    },
    {
     "name": "stderr",
     "output_type": "stream",
     "text": [
      "100%|██████████| 100/100 [11:21<00:00,  6.81s/it]"
     ]
    },
    {
     "name": "stdout",
     "output_type": "stream",
     "text": [
      "2021-06-14 23:50:38,373 - modnet - INFO - Loss per individual: ind 0: 0.667 \tind 1: 0.590 \tind 2: 0.671 \tind 3: 0.670 \tind 4: 0.643 \tind 5: 0.701 \tind 6: 0.724 \tind 7: 0.592 \tind 8: 0.634 \tind 9: 0.604 \tind 10: 0.585 \tind 11: 0.659 \tind 12: 0.589 \tind 13: 0.607 \tind 14: 0.632 \tind 15: 0.591 \tind 16: 0.592 \tind 17: 0.599 \tind 18: 0.662 \tind 19: 0.635 \t\n"
     ]
    },
    {
     "name": "stderr",
     "output_type": "stream",
     "text": [
      "\n"
     ]
    },
    {
     "name": "stdout",
     "output_type": "stream",
     "text": [
      "2021-06-14 23:50:40,368 - modnet - INFO - Generation number 4\n",
      "2021-06-14 23:50:45,730 - modnet - INFO - Multiprocessing on 10 cores. Total of 128 cores available.\n"
     ]
    },
    {
     "name": "stderr",
     "output_type": "stream",
     "text": [
      "100%|██████████| 100/100 [14:15<00:00,  8.55s/it]"
     ]
    },
    {
     "name": "stdout",
     "output_type": "stream",
     "text": [
      "2021-06-15 00:05:00,898 - modnet - INFO - Loss per individual: ind 0: 0.643 \tind 1: 0.630 \tind 2: 0.592 \tind 3: 0.586 \tind 4: 0.629 \tind 5: 0.566 \tind 6: 0.596 \tind 7: 0.676 \tind 8: 0.578 \tind 9: 0.617 \tind 10: 0.659 \tind 11: 0.725 \tind 12: 0.578 \tind 13: 0.594 \tind 14: 0.619 \tind 15: 0.636 \tind 16: 1.972 \tind 17: 0.600 \tind 18: 0.588 \tind 19: 0.612 \t\n"
     ]
    },
    {
     "name": "stderr",
     "output_type": "stream",
     "text": [
      "\n"
     ]
    },
    {
     "name": "stdout",
     "output_type": "stream",
     "text": [
      "2021-06-15 00:05:02,715 - modnet - INFO - Generation number 5\n",
      "2021-06-15 00:05:08,250 - modnet - INFO - Multiprocessing on 10 cores. Total of 128 cores available.\n"
     ]
    },
    {
     "name": "stderr",
     "output_type": "stream",
     "text": [
      "100%|██████████| 100/100 [11:44<00:00,  7.05s/it]"
     ]
    },
    {
     "name": "stdout",
     "output_type": "stream",
     "text": [
      "2021-06-15 00:16:52,905 - modnet - INFO - Loss per individual: ind 0: 0.573 \tind 1: 0.619 \tind 2: 0.568 \tind 3: 0.583 \tind 4: 0.574 \tind 5: 0.593 \tind 6: 0.713 \tind 7: 0.589 \tind 8: 0.700 \tind 9: 0.580 \tind 10: 0.617 \tind 11: 0.596 \tind 12: 0.852 \tind 13: 0.588 \tind 14: 0.598 \tind 15: 0.703 \tind 16: 0.558 \tind 17: 0.601 \tind 18: 0.598 \tind 19: 0.598 \t\n"
     ]
    },
    {
     "name": "stderr",
     "output_type": "stream",
     "text": [
      "\n"
     ]
    },
    {
     "name": "stdout",
     "output_type": "stream",
     "text": [
      "2021-06-15 00:16:54,786 - modnet - INFO - Early stopping: same best model for 4 consecutive generations\n",
      " (1/n) Calculating accuracy metrics\n",
      " (2/n) Calculating average calibration metrics\n"
     ]
    },
    {
     "name": "stderr",
     "output_type": "stream",
     "text": [
      " 10%|█         | 1/10 [00:00<00:01,  5.88it/s]"
     ]
    },
    {
     "name": "stdout",
     "output_type": "stream",
     "text": [
      " (3/n) Calculating adversarial group calibration metrics\n",
      "  [1/2] for mean absolute calibration error\n",
      "Measuring adversarial group calibration by spanning group size between 0.0 and 1.0, in 10 intervals\n"
     ]
    },
    {
     "name": "stderr",
     "output_type": "stream",
     "text": [
      "100%|██████████| 10/10 [00:01<00:00,  5.20it/s]\n",
      " 10%|█         | 1/10 [00:00<00:01,  5.77it/s]"
     ]
    },
    {
     "name": "stdout",
     "output_type": "stream",
     "text": [
      "  [2/2] for root mean squared calibration error\n",
      "Measuring adversarial group calibration by spanning group size between 0.0 and 1.0, in 10 intervals\n"
     ]
    },
    {
     "name": "stderr",
     "output_type": "stream",
     "text": [
      "100%|██████████| 10/10 [00:01<00:00,  5.28it/s]"
     ]
    },
    {
     "name": "stdout",
     "output_type": "stream",
     "text": [
      " (4/n) Calculating sharpness metrics\n",
      " (n/n) Calculating proper scoring rule metrics\n",
      "**Finished Calculating All Metrics**\n",
      "\n",
      "\n",
      "===================== Accuracy Metrics =====================\n",
      "  MAE           0.368\n",
      "  RMSE          0.744\n",
      "  MDAE          0.038\n",
      "  MARPD         137.341\n",
      "  R2            0.817\n",
      "  Correlation   0.905\n",
      "=============== Average Calibration Metrics ================\n",
      "  Root-mean-squared Calibration Error   0.075\n",
      "  Mean-absolute Calibration Error       0.053\n",
      "  Miscalibration Area                   0.054\n",
      "========== Adversarial Group Calibration Metrics ===========\n",
      "  Mean-absolute Adversarial Group Calibration Error\n",
      "     Group Size: 0.11 -- Calibration Error: 0.129\n",
      "     Group Size: 0.56 -- Calibration Error: 0.077\n",
      "     Group Size: 1.00 -- Calibration Error: 0.053\n",
      "  Root-mean-squared Adversarial Group Calibration Error\n",
      "     Group Size: 0.11 -- Calibration Error: 0.143\n",
      "     Group Size: 0.56 -- Calibration Error: 0.100\n",
      "     Group Size: 1.00 -- Calibration Error: 0.075\n",
      "==================== Sharpness Metrics =====================\n",
      "  Sharpness   0.281\n",
      "=================== Scoring Rule Metrics ===================\n",
      "  Negative-log-likelihood   8.248\n",
      "  CRPS                      0.295\n",
      "  Check Score               0.149\n",
      "  Interval Score            2.003\n",
      "MAE =\n",
      "0.36778862158025194\n",
      "uncertainty =\n",
      "0.17967668\n"
     ]
    },
    {
     "name": "stderr",
     "output_type": "stream",
     "text": [
      "\n"
     ]
    }
   ],
   "source": [
    "import uncertainty_toolbox as uct\n",
    "\n",
    "k = 5\n",
    "random_state = 202010\n",
    "folds = MDKsplit(md_joint,n_splits=k,random_state=random_state)\n",
    "maes = np.ones(5)\n",
    "uncertainties = np.ones(5)\n",
    "metricss = []\n",
    "for i,f in enumerate(folds):\n",
    "    train = f[0]\n",
    "    test = f[1]\n",
    "    #train.feature_selection(n=-1, use_precomputed_cross_nmi=True)\n",
    "    fpath = 'train_{}_{}'.format(random_state,i+1)\n",
    "    if os.path.exists(fpath):\n",
    "        train = MODData.load(fpath)\n",
    "    else:\n",
    "        train.feature_selection(n=-1, use_precomputed_cross_nmi=True)\n",
    "        train.save(fpath)\n",
    "      \n",
    "    # assure no overlap\n",
    "    assert len(set(train.df_targets.index).intersection(set(test.df_targets.index))) == 0\n",
    "    \n",
    "    ga = FitGenetic(train)\n",
    "    model = ga.run(size_pop=20, num_generations=10, n_jobs=10)\n",
    "    \n",
    "    pred, std = model.predict(test, return_unc=True)\n",
    "    true = test.df_targets\n",
    "    metrics = uct.metrics.get_all_metrics(pred['exp_gap'].values, std['exp_gap'].values, true['exp_gap'].values)\n",
    "    error = pred['exp_gap']-true['exp_gap']\n",
    "    error = error.drop(pred.index[((pred['exp_gap']).abs()>20)]) # drop unrealistic values: happens extremely rarely\n",
    "    std = std['exp_gap'].drop(std.index[((std['exp_gap']).abs()>20)]) # drop unrealistic values: happens extremely rarely\n",
    "    mae = np.abs(error.values).mean()\n",
    "    uncertainty = np.abs(std).mean()\n",
    "    print('MAE =')\n",
    "    print(mae)\n",
    "    print('uncertainty =')\n",
    "    print(uncertainty)\n",
    "    maes[i] = mae\n",
    "    uncertainties[i] = uncertainty\n",
    "    metricss.append(metrics)"
   ]
  },
  {
   "cell_type": "code",
   "execution_count": 11,
   "metadata": {
    "ExecuteTime": {
     "end_time": "2021-06-14T22:17:08.940778Z",
     "start_time": "2021-06-14T22:17:08.930686Z"
    }
   },
   "outputs": [
    {
     "data": {
      "text/plain": [
       "array([0.3958398 , 0.35454262, 0.29128523, 0.32083054, 0.36778862])"
      ]
     },
     "execution_count": 11,
     "metadata": {},
     "output_type": "execute_result"
    }
   ],
   "source": [
    "maes"
   ]
  },
  {
   "cell_type": "code",
   "execution_count": 12,
   "metadata": {
    "ExecuteTime": {
     "end_time": "2021-06-14T22:17:09.095934Z",
     "start_time": "2021-06-14T22:17:08.943596Z"
    }
   },
   "outputs": [
    {
     "data": {
      "text/plain": [
       "0.34605736223726014"
      ]
     },
     "execution_count": 12,
     "metadata": {},
     "output_type": "execute_result"
    }
   ],
   "source": [
    "maes.mean()"
   ]
  },
  {
   "cell_type": "code",
   "execution_count": 13,
   "metadata": {
    "ExecuteTime": {
     "end_time": "2021-06-14T22:17:09.104281Z",
     "start_time": "2021-06-14T22:17:09.097755Z"
    }
   },
   "outputs": [
    {
     "data": {
      "text/plain": [
       "array([0.2193156 , 0.19080055, 0.17977706, 0.18877757, 0.17967668])"
      ]
     },
     "execution_count": 13,
     "metadata": {},
     "output_type": "execute_result"
    }
   ],
   "source": [
    "uncertainties"
   ]
  },
  {
   "cell_type": "code",
   "execution_count": 14,
   "metadata": {
    "ExecuteTime": {
     "end_time": "2021-06-14T22:17:09.110198Z",
     "start_time": "2021-06-14T22:17:09.105880Z"
    }
   },
   "outputs": [
    {
     "data": {
      "text/plain": [
       "0.19166949093341829"
      ]
     },
     "execution_count": 14,
     "metadata": {},
     "output_type": "execute_result"
    }
   ],
   "source": [
    "uncertainties.mean()"
   ]
  },
  {
   "cell_type": "code",
   "execution_count": 15,
   "metadata": {
    "ExecuteTime": {
     "end_time": "2021-06-14T22:17:09.131357Z",
     "start_time": "2021-06-14T22:17:09.112434Z"
    }
   },
   "outputs": [
    {
     "data": {
      "text/plain": [
       "[{'accuracy': {'mae': 0.39583979969546573,\n",
       "   'rmse': 0.8585004758684266,\n",
       "   'mdae': 0.07177907228469849,\n",
       "   'marpd': 134.32681348338014,\n",
       "   'r2': 0.7144733248240083,\n",
       "   'corr': 0.8640669855670066},\n",
       "  'avg_calibration': {'rms_cal': 0.07052779714067306,\n",
       "   'ma_cal': 0.05581622678396872,\n",
       "   'miscal_area': 0.056357731128329994},\n",
       "  'adv_group_calibration': {'ma_adv_group_cal': {'group_sizes': array([0.        , 0.11111111, 0.22222222, 0.33333333, 0.44444444,\n",
       "           0.55555556, 0.66666667, 0.77777778, 0.88888889, 1.        ]),\n",
       "    'adv_group_cali_mean': array([0.42358081, 0.12136151, 0.09064195, 0.07555024, 0.07019225,\n",
       "           0.07075613, 0.06661291, 0.06351702, 0.06030773, 0.05581623]),\n",
       "    'adv_group_cali_stderr': array([4.05586300e-02, 3.27459087e-02, 1.67073727e-02, 7.47382366e-03,\n",
       "           5.53433886e-03, 6.08288658e-03, 3.61350826e-03, 1.79924678e-03,\n",
       "           1.86031052e-03, 7.31423639e-18])},\n",
       "   'rms_adv_group_cal': {'group_sizes': array([0.        , 0.11111111, 0.22222222, 0.33333333, 0.44444444,\n",
       "           0.55555556, 0.66666667, 0.77777778, 0.88888889, 1.        ]),\n",
       "    'adv_group_cali_mean': array([0.48530871, 0.14683945, 0.11374549, 0.10477276, 0.08977849,\n",
       "           0.08626546, 0.08384174, 0.08082071, 0.07551974, 0.0705278 ]),\n",
       "    'adv_group_cali_stderr': array([0.04860423, 0.02310153, 0.01650061, 0.0088361 , 0.00615853,\n",
       "           0.00567266, 0.00647137, 0.00337813, 0.00147058, 0.        ])}},\n",
       "  'sharpness': {'sharp': 0.34892923},\n",
       "  'scoring_rule': {'nll': 2.1980474883701673,\n",
       "   'crps': 0.3158273350420955,\n",
       "   'check': 0.15909310102870236,\n",
       "   'interval': 2.125678039917345}},\n",
       " {'accuracy': {'mae': 0.3545426163906421,\n",
       "   'rmse': 0.7207036309361476,\n",
       "   'mdae': 0.05230742454528814,\n",
       "   'marpd': 132.49742321613115,\n",
       "   'r2': 0.7935814672735937,\n",
       "   'corr': 0.8913062616560617},\n",
       "  'avg_calibration': {'rms_cal': 0.13157167222451205,\n",
       "   'ma_cal': 0.1232323232323233,\n",
       "   'miscal_area': 0.1244712759990407},\n",
       "  'adv_group_calibration': {'ma_adv_group_cal': {'group_sizes': array([0.        , 0.11111111, 0.22222222, 0.33333333, 0.44444444,\n",
       "           0.55555556, 0.66666667, 0.77777778, 0.88888889, 1.        ]),\n",
       "    'adv_group_cali_mean': array([0.41475758, 0.19774349, 0.16804001, 0.15404891, 0.15315896,\n",
       "           0.14836941, 0.14032888, 0.13615845, 0.13157676, 0.12323232]),\n",
       "    'adv_group_cali_stderr': array([8.30941123e-02, 2.09194715e-02, 1.03875275e-02, 1.13663210e-02,\n",
       "           1.09206250e-02, 1.02645866e-02, 4.61612804e-03, 5.82528299e-03,\n",
       "           2.95845827e-03, 1.46284728e-17])},\n",
       "   'rms_adv_group_cal': {'group_sizes': array([0.        , 0.11111111, 0.22222222, 0.33333333, 0.44444444,\n",
       "           0.55555556, 0.66666667, 0.77777778, 0.88888889, 1.        ]),\n",
       "    'adv_group_cali_mean': array([0.46563532, 0.20588182, 0.18132642, 0.17419196, 0.15843999,\n",
       "           0.15190184, 0.14890349, 0.1456257 , 0.1409676 , 0.13157167]),\n",
       "    'adv_group_cali_stderr': array([9.75345746e-02, 3.52655347e-02, 1.28263489e-02, 1.36007244e-02,\n",
       "           8.76634430e-03, 7.49340788e-03, 6.72617978e-03, 4.74615372e-03,\n",
       "           1.89199285e-03, 2.92569456e-17])}},\n",
       "  'sharpness': {'sharp': 0.3118412},\n",
       "  'scoring_rule': {'nll': 2.5345890181341946,\n",
       "   'crps': 0.281766917343234,\n",
       "   'check': 0.14197214150165047,\n",
       "   'interval': 1.8692697354251329}},\n",
       " {'accuracy': {'mae': 945.1362620113152,\n",
       "   'rmse': 10258.307429994013,\n",
       "   'mdae': 0.02933415211737156,\n",
       "   'marpd': 136.8843550250745,\n",
       "   'r2': -48404841.0953576,\n",
       "   'corr': -0.020259809155930838},\n",
       "  'avg_calibration': {'rms_cal': 0.10910082103779441,\n",
       "   'ma_cal': 0.103900293255132,\n",
       "   'miscal_area': 0.10494979116680007},\n",
       "  'adv_group_calibration': {'ma_adv_group_cal': {'group_sizes': array([0.        , 0.11111111, 0.22222222, 0.33333333, 0.44444444,\n",
       "           0.55555556, 0.66666667, 0.77777778, 0.88888889, 1.        ]),\n",
       "    'adv_group_cali_mean': array([0.42339394, 0.16771345, 0.14416215, 0.13798671, 0.12868328,\n",
       "           0.12435305, 0.12125293, 0.11727902, 0.11319472, 0.10390029]),\n",
       "    'adv_group_cali_stderr': array([4.21546791e-02, 1.99403753e-02, 1.64660797e-02, 1.25585747e-02,\n",
       "           1.04234115e-02, 8.08949387e-03, 6.03535797e-03, 3.97340829e-03,\n",
       "           3.50742953e-03, 1.46284728e-17])},\n",
       "   'rms_adv_group_cal': {'group_sizes': array([0.        , 0.11111111, 0.22222222, 0.33333333, 0.44444444,\n",
       "           0.55555556, 0.66666667, 0.77777778, 0.88888889, 1.        ]),\n",
       "    'adv_group_cali_mean': array([0.51298162, 0.16438826, 0.15101096, 0.14554631, 0.14049822,\n",
       "           0.13316082, 0.13064208, 0.12239763, 0.11988242, 0.10910082]),\n",
       "    'adv_group_cali_stderr': array([4.94416203e-02, 2.20205535e-02, 2.17661359e-02, 1.16470070e-02,\n",
       "           7.99033616e-03, 1.23609623e-02, 9.92379946e-03, 6.36815506e-03,\n",
       "           4.25508750e-03, 1.46284728e-17])}},\n",
       "  'sharpness': {'sharp': 4089.2058},\n",
       "  'scoring_rule': {'nll': 3.097230981289307,\n",
       "   'crps': 734.0432555213517,\n",
       "   'check': 370.79351570072146,\n",
       "   'interval': 3977.597246837825}},\n",
       " {'accuracy': {'mae': 0.3208305416901097,\n",
       "   'rmse': 0.7335373726629014,\n",
       "   'mdae': 0.01995485182851553,\n",
       "   'marpd': 137.97447095685254,\n",
       "   'r2': 0.8126444855749816,\n",
       "   'corr': 0.9048901001175977},\n",
       "  'avg_calibration': {'rms_cal': 0.08225927141861458,\n",
       "   'ma_cal': 0.07032887700534762,\n",
       "   'miscal_area': 0.0709961134780666},\n",
       "  'adv_group_calibration': {'ma_adv_group_cal': {'group_sizes': array([0.        , 0.11111111, 0.22222222, 0.33333333, 0.44444444,\n",
       "           0.55555556, 0.66666667, 0.77777778, 0.88888889, 1.        ]),\n",
       "    'adv_group_cali_mean': array([0.39218182, 0.13818448, 0.10462839, 0.09291955, 0.08886347,\n",
       "           0.08516931, 0.08131714, 0.07761111, 0.07685895, 0.07032888]),\n",
       "    'adv_group_cali_stderr': array([0.04538222, 0.03123379, 0.01303961, 0.01248764, 0.00882686,\n",
       "           0.00547436, 0.00525335, 0.00170644, 0.0021429 , 0.        ])},\n",
       "   'rms_adv_group_cal': {'group_sizes': array([0.        , 0.11111111, 0.22222222, 0.33333333, 0.44444444,\n",
       "           0.55555556, 0.66666667, 0.77777778, 0.88888889, 1.        ]),\n",
       "    'adv_group_cali_mean': array([0.39103996, 0.14665302, 0.12115013, 0.10840767, 0.10536576,\n",
       "           0.10027135, 0.09515298, 0.09327808, 0.08832901, 0.08225927]),\n",
       "    'adv_group_cali_stderr': array([0.08646336, 0.01804562, 0.01032473, 0.01222936, 0.01224035,\n",
       "           0.00730561, 0.00555116, 0.00306692, 0.00187113, 0.        ])}},\n",
       "  'sharpness': {'sharp': 0.3292129},\n",
       "  'scoring_rule': {'nll': 3.1262736377198803,\n",
       "   'crps': 0.253275170430732,\n",
       "   'check': 0.12756517140417825,\n",
       "   'interval': 1.6888330378513292}},\n",
       " {'accuracy': {'mae': 0.36778862158025194,\n",
       "   'rmse': 0.7436628542719561,\n",
       "   'mdae': 0.038279734551906586,\n",
       "   'marpd': 137.3413924140505,\n",
       "   'r2': 0.8174534328085401,\n",
       "   'corr': 0.9046408139769632},\n",
       "  'avg_calibration': {'rms_cal': 0.07496461287350521,\n",
       "   'ma_cal': 0.053360368389780186,\n",
       "   'miscal_area': 0.053851785870003485},\n",
       "  'adv_group_calibration': {'ma_adv_group_cal': {'group_sizes': array([0.        , 0.11111111, 0.22222222, 0.33333333, 0.44444444,\n",
       "           0.55555556, 0.66666667, 0.77777778, 0.88888889, 1.        ]),\n",
       "    'adv_group_cali_mean': array([0.47364141, 0.1287706 , 0.10630183, 0.09265236, 0.08430042,\n",
       "           0.0769798 , 0.07107476, 0.06351515, 0.06055231, 0.05336037]),\n",
       "    'adv_group_cali_stderr': array([0.01450161, 0.02861321, 0.02195099, 0.01388454, 0.01207961,\n",
       "           0.00544818, 0.00363983, 0.0029397 , 0.00181981, 0.        ])},\n",
       "   'rms_adv_group_cal': {'group_sizes': array([0.        , 0.11111111, 0.22222222, 0.33333333, 0.44444444,\n",
       "           0.55555556, 0.66666667, 0.77777778, 0.88888889, 1.        ]),\n",
       "    'adv_group_cali_mean': array([0.42479152, 0.14326903, 0.12790042, 0.11705875, 0.1043286 ,\n",
       "           0.09954009, 0.09432268, 0.08703429, 0.083058  , 0.07496461]),\n",
       "    'adv_group_cali_stderr': array([0.08808542, 0.02307106, 0.02086148, 0.01019482, 0.01239272,\n",
       "           0.00707455, 0.00731497, 0.00663054, 0.00297695, 0.        ])}},\n",
       "  'sharpness': {'sharp': 0.28091425},\n",
       "  'scoring_rule': {'nll': 8.247994290781419,\n",
       "   'crps': 0.29501226942403896,\n",
       "   'check': 0.1485821885488176,\n",
       "   'interval': 2.002844260439939}}]"
      ]
     },
     "execution_count": 15,
     "metadata": {},
     "output_type": "execute_result"
    }
   ],
   "source": [
    "metricss"
   ]
  },
  {
   "cell_type": "markdown",
   "metadata": {},
   "source": [
    "#### Conclusion"
   ]
  },
  {
   "cell_type": "markdown",
   "metadata": {},
   "source": [
    "This value of the MAE will be our benchmark value for comparing the different methods in this repository."
   ]
  }
 ],
 "metadata": {
  "kernelspec": {
   "display_name": "Python [conda env:modnet]",
   "language": "python",
   "name": "conda-env-modnet-py"
  },
  "language_info": {
   "codemirror_mode": {
    "name": "ipython",
    "version": 3
   },
   "file_extension": ".py",
   "mimetype": "text/x-python",
   "name": "python",
   "nbconvert_exporter": "python",
   "pygments_lexer": "ipython3",
   "version": "3.8.5"
  }
 },
 "nbformat": 4,
 "nbformat_minor": 4
}
