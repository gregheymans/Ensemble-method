{
 "cells": [
  {
   "cell_type": "markdown",
   "metadata": {
    "ExecuteTime": {
     "end_time": "2021-02-03T11:45:15.346116Z",
     "start_time": "2021-02-03T11:45:15.273111Z"
    }
   },
   "source": [
    "# MODNet with PBE band gaps as a feature"
   ]
  },
  {
   "cell_type": "markdown",
   "metadata": {},
   "source": [
    "Band gap predictions using MODNet, experimental data as a training set and the PBE band gap values as a feature."
   ]
  },
  {
   "cell_type": "code",
   "execution_count": 1,
   "metadata": {
    "ExecuteTime": {
     "end_time": "2021-06-14T15:44:09.754183Z",
     "start_time": "2021-06-14T15:44:09.740767Z"
    }
   },
   "outputs": [],
   "source": [
    "def setup_threading():\n",
    "    import os\n",
    "    os.environ['OPENBLAS_NUM_THREADS'] = '1'\n",
    "    os.environ['MKL_NUM_THREADS'] = '1'\n",
    "    os.environ[\"OMP_NUM_THREADS\"] = \"1\"\n",
    "    os.environ[\"TF_NUM_INTRAOP_THREADS\"] = \"1\"\n",
    "    os.environ[\"TF_NUM_INTEROP_THREADS\"] = \"1\"\n",
    "    os.environ[\"CUDA_VISIBLE_DEVICES\"] = \"-1\""
   ]
  },
  {
   "cell_type": "code",
   "execution_count": 2,
   "metadata": {
    "ExecuteTime": {
     "end_time": "2021-06-14T15:44:10.087782Z",
     "start_time": "2021-06-14T15:44:10.085381Z"
    }
   },
   "outputs": [],
   "source": [
    "setup_threading()"
   ]
  },
  {
   "cell_type": "code",
   "execution_count": 3,
   "metadata": {
    "ExecuteTime": {
     "end_time": "2021-06-14T15:44:15.669638Z",
     "start_time": "2021-06-14T15:44:10.286977Z"
    }
   },
   "outputs": [
    {
     "name": "stdout",
     "output_type": "stream",
     "text": [
      "\n",
      "If you use the ChemEnv tool for your research, please consider citing the following reference(s) :\n",
      "==================================================================================================\n",
      "David Waroquiers, Xavier Gonze, Gian-Marco Rignanese, Cathrin Welker-Nieuwoudt, Frank Rosowski,\n",
      "Michael Goebel, Stephan Schenk, Peter Degelmann, Rute Andre, Robert Glaum, and Geoffroy Hautier,\n",
      "\"Statistical analysis of coordination environments in oxides\",\n",
      "Chem. Mater., 2017, 29 (19), pp 8346-8360,\n",
      "DOI: 10.1021/acs.chemmater.7b02766\n",
      "\n"
     ]
    }
   ],
   "source": [
    "from modnet.preprocessing import MODData\n",
    "from modnet.models.vanilla import MODNetModel\n",
    "from modnet.hyper_opt.fit_genetic import FitGenetic\n",
    "import numpy as np\n",
    "import os\n",
    "import copy\n",
    "\n",
    "from collections import defaultdict\n",
    "import itertools\n",
    "import os\n",
    "import pandas as pd\n",
    "import matplotlib.pyplot as plt \n",
    "from IPython.display import Markdown\n",
    "from matminer.datasets import load_dataset, get_all_dataset_info\n",
    "from pymatgen.core import Composition\n",
    "\n",
    "from modnet.featurizers import MODFeaturizer\n",
    "from modnet.featurizers.presets import DeBreuck2020Featurizer\n",
    "\n",
    "os.environ[\"CUDA_VISIBLE_DEVICES\"] = \"1\""
   ]
  },
  {
   "cell_type": "code",
   "execution_count": 4,
   "metadata": {
    "ExecuteTime": {
     "end_time": "2021-06-14T15:44:15.677597Z",
     "start_time": "2021-06-14T15:44:15.671544Z"
    }
   },
   "outputs": [],
   "source": [
    "from sklearn.model_selection import KFold\n",
    "from modnet.preprocessing import MODData\n",
    "\n",
    "def shuffle_MD(data,random_state=10):\n",
    "    data = copy.deepcopy(data)\n",
    "    ids = data.df_targets.sample(frac=1,random_state=random_state).index\n",
    "    data.df_featurized = data.df_featurized.loc[ids]\n",
    "    data.df_targets = data.df_targets.loc[ids]\n",
    "    data.df_structure = data.df_structure.loc[ids]\n",
    "    \n",
    "    return data\n",
    "\n",
    "def MDKsplit(data,n_splits=5,random_state=10):\n",
    "    data = shuffle_MD(data,random_state=random_state)\n",
    "    ids = np.array(data.structure_ids)\n",
    "    kf = KFold(n_splits=n_splits,shuffle=True,random_state=random_state)\n",
    "    folds = []\n",
    "    for train_idx, val_idx in kf.split(ids):\n",
    "        data_train = MODData(data.df_structure.iloc[train_idx]['structure'].values,data.df_targets.iloc[train_idx].values,target_names=data.df_targets.columns,structure_ids=ids[train_idx])\n",
    "        data_train.df_featurized = data.df_featurized.iloc[train_idx]\n",
    "        #data_train.optimal_features = data.optimal_features\n",
    "        \n",
    "        data_val = MODData(data.df_structure.iloc[val_idx]['structure'].values,data.df_targets.iloc[val_idx].values,target_names=data.df_targets.columns,structure_ids=ids[val_idx])\n",
    "        data_val.df_featurized = data.df_featurized.iloc[val_idx]\n",
    "        #data_val.optimal_features = data.optimal_features\n",
    "\n",
    "        folds.append((data_train,data_val))\n",
    "        \n",
    "    return folds"
   ]
  },
  {
   "cell_type": "code",
   "execution_count": 5,
   "metadata": {
    "ExecuteTime": {
     "end_time": "2021-06-14T15:44:16.284716Z",
     "start_time": "2021-06-14T15:44:15.679331Z"
    }
   },
   "outputs": [
    {
     "name": "stdout",
     "output_type": "stream",
     "text": [
      "2021-06-14 17:44:16,282 - modnet - INFO - Loaded <modnet.preprocessing.MODData object at 0x7f0050762dc0> object, created with modnet version <=0.1.7\n"
     ]
    }
   ],
   "source": [
    "md_joint = MODData.load('exp_pbe_joint')"
   ]
  },
  {
   "cell_type": "code",
   "execution_count": 6,
   "metadata": {
    "ExecuteTime": {
     "end_time": "2021-06-14T15:44:16.326973Z",
     "start_time": "2021-06-14T15:44:16.286416Z"
    }
   },
   "outputs": [
    {
     "data": {
      "text/html": [
       "<div>\n",
       "<style scoped>\n",
       "    .dataframe tbody tr th:only-of-type {\n",
       "        vertical-align: middle;\n",
       "    }\n",
       "\n",
       "    .dataframe tbody tr th {\n",
       "        vertical-align: top;\n",
       "    }\n",
       "\n",
       "    .dataframe thead th {\n",
       "        text-align: right;\n",
       "    }\n",
       "</style>\n",
       "<table border=\"1\" class=\"dataframe\">\n",
       "  <thead>\n",
       "    <tr style=\"text-align: right;\">\n",
       "      <th></th>\n",
       "      <th>structure</th>\n",
       "    </tr>\n",
       "    <tr>\n",
       "      <th>id</th>\n",
       "      <th></th>\n",
       "    </tr>\n",
       "  </thead>\n",
       "  <tbody>\n",
       "    <tr>\n",
       "      <th>mp-12699</th>\n",
       "      <td>[[ 0.13616363 -2.60631371  1.50340165] Ca, [-1...</td>\n",
       "    </tr>\n",
       "    <tr>\n",
       "      <th>mp-559459</th>\n",
       "      <td>[[2.14049282 6.43464803 1.76199846] Cs, [-0.70...</td>\n",
       "    </tr>\n",
       "    <tr>\n",
       "      <th>mp-21162</th>\n",
       "      <td>[[0. 0. 0.] Sr, [0.        2.5259875 2.5259875...</td>\n",
       "    </tr>\n",
       "    <tr>\n",
       "      <th>mp-1306</th>\n",
       "      <td>[[3.259129   1.88166243 1.15971025] Th, [ 3.25...</td>\n",
       "    </tr>\n",
       "    <tr>\n",
       "      <th>mp-15252</th>\n",
       "      <td>[[0.95531657 1.042239   0.86229681] Cu, [2.803...</td>\n",
       "    </tr>\n",
       "    <tr>\n",
       "      <th>...</th>\n",
       "      <td>...</td>\n",
       "    </tr>\n",
       "    <tr>\n",
       "      <th>mp-556541</th>\n",
       "      <td>[[0.         6.49363948 5.82657217] In, [ 0.  ...</td>\n",
       "    </tr>\n",
       "    <tr>\n",
       "      <th>mp-2602</th>\n",
       "      <td>[[3.023318 3.023318 3.023318] Nd, [0. 0. 0.] As]</td>\n",
       "    </tr>\n",
       "    <tr>\n",
       "      <th>mp-30366</th>\n",
       "      <td>[[4.51774558 1.37529211 4.32659015] Ca, [1.109...</td>\n",
       "    </tr>\n",
       "    <tr>\n",
       "      <th>mp-3718</th>\n",
       "      <td>[[2.0697935  0.         1.28932533] Th, [0.   ...</td>\n",
       "    </tr>\n",
       "    <tr>\n",
       "      <th>mp-3709</th>\n",
       "      <td>[[0. 0. 0.] Tb, [0.       1.983905 2.537711] C...</td>\n",
       "    </tr>\n",
       "  </tbody>\n",
       "</table>\n",
       "<p>1703 rows × 1 columns</p>\n",
       "</div>"
      ],
      "text/plain": [
       "                                                   structure\n",
       "id                                                          \n",
       "mp-12699   [[ 0.13616363 -2.60631371  1.50340165] Ca, [-1...\n",
       "mp-559459  [[2.14049282 6.43464803 1.76199846] Cs, [-0.70...\n",
       "mp-21162   [[0. 0. 0.] Sr, [0.        2.5259875 2.5259875...\n",
       "mp-1306    [[3.259129   1.88166243 1.15971025] Th, [ 3.25...\n",
       "mp-15252   [[0.95531657 1.042239   0.86229681] Cu, [2.803...\n",
       "...                                                      ...\n",
       "mp-556541  [[0.         6.49363948 5.82657217] In, [ 0.  ...\n",
       "mp-2602     [[3.023318 3.023318 3.023318] Nd, [0. 0. 0.] As]\n",
       "mp-30366   [[4.51774558 1.37529211 4.32659015] Ca, [1.109...\n",
       "mp-3718    [[2.0697935  0.         1.28932533] Th, [0.   ...\n",
       "mp-3709    [[0. 0. 0.] Tb, [0.       1.983905 2.537711] C...\n",
       "\n",
       "[1703 rows x 1 columns]"
      ]
     },
     "execution_count": 6,
     "metadata": {},
     "output_type": "execute_result"
    }
   ],
   "source": [
    "md_joint.df_structure"
   ]
  },
  {
   "cell_type": "code",
   "execution_count": 7,
   "metadata": {
    "ExecuteTime": {
     "end_time": "2021-06-14T15:44:16.332172Z",
     "start_time": "2021-06-14T15:44:16.328471Z"
    }
   },
   "outputs": [],
   "source": [
    "md_joint.df_featurized['Band gap PBE'] = md_joint.df_targets['pbe_gap']"
   ]
  },
  {
   "cell_type": "code",
   "execution_count": 8,
   "metadata": {
    "ExecuteTime": {
     "end_time": "2021-06-14T15:44:16.368703Z",
     "start_time": "2021-06-14T15:44:16.333672Z"
    }
   },
   "outputs": [
    {
     "data": {
      "text/html": [
       "<div>\n",
       "<style scoped>\n",
       "    .dataframe tbody tr th:only-of-type {\n",
       "        vertical-align: middle;\n",
       "    }\n",
       "\n",
       "    .dataframe tbody tr th {\n",
       "        vertical-align: top;\n",
       "    }\n",
       "\n",
       "    .dataframe thead th {\n",
       "        text-align: right;\n",
       "    }\n",
       "</style>\n",
       "<table border=\"1\" class=\"dataframe\">\n",
       "  <thead>\n",
       "    <tr style=\"text-align: right;\">\n",
       "      <th></th>\n",
       "      <th>ElementProperty|MagpieData minimum Number</th>\n",
       "      <th>ElementProperty|MagpieData maximum Number</th>\n",
       "      <th>ElementProperty|MagpieData range Number</th>\n",
       "      <th>ElementProperty|MagpieData mean Number</th>\n",
       "      <th>ElementProperty|MagpieData avg_dev Number</th>\n",
       "      <th>ElementProperty|MagpieData mode Number</th>\n",
       "      <th>ElementProperty|MagpieData minimum MendeleevNumber</th>\n",
       "      <th>ElementProperty|MagpieData maximum MendeleevNumber</th>\n",
       "      <th>ElementProperty|MagpieData range MendeleevNumber</th>\n",
       "      <th>ElementProperty|MagpieData mean MendeleevNumber</th>\n",
       "      <th>...</th>\n",
       "      <th>ChemEnvSiteFingerprint|GaussianSymmFuncstd_dev G2_80.0</th>\n",
       "      <th>ChemEnvSiteFingerprint|GaussianSymmFuncmean G4_0.005_1.0_1.0</th>\n",
       "      <th>ChemEnvSiteFingerprint|GaussianSymmFuncstd_dev G4_0.005_1.0_1.0</th>\n",
       "      <th>ChemEnvSiteFingerprint|GaussianSymmFuncmean G4_0.005_1.0_-1.0</th>\n",
       "      <th>ChemEnvSiteFingerprint|GaussianSymmFuncmean G4_0.005_4.0_1.0</th>\n",
       "      <th>ChemEnvSiteFingerprint|GaussianSymmFuncstd_dev G4_0.005_4.0_1.0</th>\n",
       "      <th>ChemEnvSiteFingerprint|GaussianSymmFuncmean G4_0.005_4.0_-1.0</th>\n",
       "      <th>ChemEnvSiteFingerprint|GaussianSymmFuncstd_dev G4_0.005_4.0_-1.0</th>\n",
       "      <th>ChemEnvSiteFingerprint|GaussianSymmFuncstd_dev G4_0.005_1.0_-1.0</th>\n",
       "      <th>Band gap PBE</th>\n",
       "    </tr>\n",
       "  </thead>\n",
       "  <tbody>\n",
       "    <tr>\n",
       "      <th>mp-12699</th>\n",
       "      <td>20.0</td>\n",
       "      <td>79.0</td>\n",
       "      <td>59.0</td>\n",
       "      <td>53.714286</td>\n",
       "      <td>28.897959</td>\n",
       "      <td>79.0</td>\n",
       "      <td>7.0</td>\n",
       "      <td>66.0</td>\n",
       "      <td>59.0</td>\n",
       "      <td>40.714286</td>\n",
       "      <td>...</td>\n",
       "      <td>0.0</td>\n",
       "      <td>0.0</td>\n",
       "      <td>0.0</td>\n",
       "      <td>0.0</td>\n",
       "      <td>0.0</td>\n",
       "      <td>0.0</td>\n",
       "      <td>0.0</td>\n",
       "      <td>0.0</td>\n",
       "      <td>0.0</td>\n",
       "      <td>0.0000</td>\n",
       "    </tr>\n",
       "    <tr>\n",
       "      <th>mp-559459</th>\n",
       "      <td>16.0</td>\n",
       "      <td>55.0</td>\n",
       "      <td>39.0</td>\n",
       "      <td>34.000000</td>\n",
       "      <td>18.000000</td>\n",
       "      <td>16.0</td>\n",
       "      <td>5.0</td>\n",
       "      <td>88.0</td>\n",
       "      <td>83.0</td>\n",
       "      <td>64.000000</td>\n",
       "      <td>...</td>\n",
       "      <td>0.0</td>\n",
       "      <td>0.0</td>\n",
       "      <td>0.0</td>\n",
       "      <td>0.0</td>\n",
       "      <td>0.0</td>\n",
       "      <td>0.0</td>\n",
       "      <td>0.0</td>\n",
       "      <td>0.0</td>\n",
       "      <td>0.0</td>\n",
       "      <td>2.1704</td>\n",
       "    </tr>\n",
       "    <tr>\n",
       "      <th>mp-21162</th>\n",
       "      <td>38.0</td>\n",
       "      <td>82.0</td>\n",
       "      <td>44.0</td>\n",
       "      <td>71.000000</td>\n",
       "      <td>16.500000</td>\n",
       "      <td>82.0</td>\n",
       "      <td>8.0</td>\n",
       "      <td>81.0</td>\n",
       "      <td>73.0</td>\n",
       "      <td>62.750000</td>\n",
       "      <td>...</td>\n",
       "      <td>0.0</td>\n",
       "      <td>0.0</td>\n",
       "      <td>0.0</td>\n",
       "      <td>0.0</td>\n",
       "      <td>0.0</td>\n",
       "      <td>0.0</td>\n",
       "      <td>0.0</td>\n",
       "      <td>0.0</td>\n",
       "      <td>0.0</td>\n",
       "      <td>0.0000</td>\n",
       "    </tr>\n",
       "    <tr>\n",
       "      <th>mp-1306</th>\n",
       "      <td>13.0</td>\n",
       "      <td>90.0</td>\n",
       "      <td>77.0</td>\n",
       "      <td>32.250000</td>\n",
       "      <td>28.875000</td>\n",
       "      <td>13.0</td>\n",
       "      <td>16.0</td>\n",
       "      <td>73.0</td>\n",
       "      <td>57.0</td>\n",
       "      <td>58.750000</td>\n",
       "      <td>...</td>\n",
       "      <td>0.0</td>\n",
       "      <td>0.0</td>\n",
       "      <td>0.0</td>\n",
       "      <td>0.0</td>\n",
       "      <td>0.0</td>\n",
       "      <td>0.0</td>\n",
       "      <td>0.0</td>\n",
       "      <td>0.0</td>\n",
       "      <td>0.0</td>\n",
       "      <td>0.0000</td>\n",
       "    </tr>\n",
       "    <tr>\n",
       "      <th>mp-15252</th>\n",
       "      <td>16.0</td>\n",
       "      <td>32.0</td>\n",
       "      <td>16.0</td>\n",
       "      <td>23.000000</td>\n",
       "      <td>7.000000</td>\n",
       "      <td>16.0</td>\n",
       "      <td>64.0</td>\n",
       "      <td>88.0</td>\n",
       "      <td>24.0</td>\n",
       "      <td>78.500000</td>\n",
       "      <td>...</td>\n",
       "      <td>0.0</td>\n",
       "      <td>0.0</td>\n",
       "      <td>0.0</td>\n",
       "      <td>0.0</td>\n",
       "      <td>0.0</td>\n",
       "      <td>0.0</td>\n",
       "      <td>0.0</td>\n",
       "      <td>0.0</td>\n",
       "      <td>0.0</td>\n",
       "      <td>0.1049</td>\n",
       "    </tr>\n",
       "    <tr>\n",
       "      <th>...</th>\n",
       "      <td>...</td>\n",
       "      <td>...</td>\n",
       "      <td>...</td>\n",
       "      <td>...</td>\n",
       "      <td>...</td>\n",
       "      <td>...</td>\n",
       "      <td>...</td>\n",
       "      <td>...</td>\n",
       "      <td>...</td>\n",
       "      <td>...</td>\n",
       "      <td>...</td>\n",
       "      <td>...</td>\n",
       "      <td>...</td>\n",
       "      <td>...</td>\n",
       "      <td>...</td>\n",
       "      <td>...</td>\n",
       "      <td>...</td>\n",
       "      <td>...</td>\n",
       "      <td>...</td>\n",
       "      <td>...</td>\n",
       "      <td>...</td>\n",
       "    </tr>\n",
       "    <tr>\n",
       "      <th>mp-556541</th>\n",
       "      <td>16.0</td>\n",
       "      <td>51.0</td>\n",
       "      <td>35.0</td>\n",
       "      <td>29.000000</td>\n",
       "      <td>16.000000</td>\n",
       "      <td>16.0</td>\n",
       "      <td>75.0</td>\n",
       "      <td>94.0</td>\n",
       "      <td>19.0</td>\n",
       "      <td>86.375000</td>\n",
       "      <td>...</td>\n",
       "      <td>0.0</td>\n",
       "      <td>0.0</td>\n",
       "      <td>0.0</td>\n",
       "      <td>0.0</td>\n",
       "      <td>0.0</td>\n",
       "      <td>0.0</td>\n",
       "      <td>0.0</td>\n",
       "      <td>0.0</td>\n",
       "      <td>0.0</td>\n",
       "      <td>1.5135</td>\n",
       "    </tr>\n",
       "    <tr>\n",
       "      <th>mp-2602</th>\n",
       "      <td>33.0</td>\n",
       "      <td>60.0</td>\n",
       "      <td>27.0</td>\n",
       "      <td>46.500000</td>\n",
       "      <td>13.500000</td>\n",
       "      <td>33.0</td>\n",
       "      <td>19.0</td>\n",
       "      <td>84.0</td>\n",
       "      <td>65.0</td>\n",
       "      <td>51.500000</td>\n",
       "      <td>...</td>\n",
       "      <td>0.0</td>\n",
       "      <td>0.0</td>\n",
       "      <td>0.0</td>\n",
       "      <td>0.0</td>\n",
       "      <td>0.0</td>\n",
       "      <td>0.0</td>\n",
       "      <td>0.0</td>\n",
       "      <td>0.0</td>\n",
       "      <td>0.0</td>\n",
       "      <td>0.0000</td>\n",
       "    </tr>\n",
       "    <tr>\n",
       "      <th>mp-30366</th>\n",
       "      <td>20.0</td>\n",
       "      <td>79.0</td>\n",
       "      <td>59.0</td>\n",
       "      <td>34.750000</td>\n",
       "      <td>22.125000</td>\n",
       "      <td>20.0</td>\n",
       "      <td>7.0</td>\n",
       "      <td>66.0</td>\n",
       "      <td>59.0</td>\n",
       "      <td>21.750000</td>\n",
       "      <td>...</td>\n",
       "      <td>0.0</td>\n",
       "      <td>0.0</td>\n",
       "      <td>0.0</td>\n",
       "      <td>0.0</td>\n",
       "      <td>0.0</td>\n",
       "      <td>0.0</td>\n",
       "      <td>0.0</td>\n",
       "      <td>0.0</td>\n",
       "      <td>0.0</td>\n",
       "      <td>0.0000</td>\n",
       "    </tr>\n",
       "    <tr>\n",
       "      <th>mp-3718</th>\n",
       "      <td>8.0</td>\n",
       "      <td>90.0</td>\n",
       "      <td>82.0</td>\n",
       "      <td>50.000000</td>\n",
       "      <td>28.000000</td>\n",
       "      <td>8.0</td>\n",
       "      <td>16.0</td>\n",
       "      <td>90.0</td>\n",
       "      <td>74.0</td>\n",
       "      <td>64.333333</td>\n",
       "      <td>...</td>\n",
       "      <td>0.0</td>\n",
       "      <td>0.0</td>\n",
       "      <td>0.0</td>\n",
       "      <td>0.0</td>\n",
       "      <td>0.0</td>\n",
       "      <td>0.0</td>\n",
       "      <td>0.0</td>\n",
       "      <td>0.0</td>\n",
       "      <td>0.0</td>\n",
       "      <td>0.2418</td>\n",
       "    </tr>\n",
       "    <tr>\n",
       "      <th>mp-3709</th>\n",
       "      <td>27.0</td>\n",
       "      <td>65.0</td>\n",
       "      <td>38.0</td>\n",
       "      <td>36.600000</td>\n",
       "      <td>11.360000</td>\n",
       "      <td>27.0</td>\n",
       "      <td>29.0</td>\n",
       "      <td>79.0</td>\n",
       "      <td>50.0</td>\n",
       "      <td>60.600000</td>\n",
       "      <td>...</td>\n",
       "      <td>0.0</td>\n",
       "      <td>0.0</td>\n",
       "      <td>0.0</td>\n",
       "      <td>0.0</td>\n",
       "      <td>0.0</td>\n",
       "      <td>0.0</td>\n",
       "      <td>0.0</td>\n",
       "      <td>0.0</td>\n",
       "      <td>0.0</td>\n",
       "      <td>0.0000</td>\n",
       "    </tr>\n",
       "  </tbody>\n",
       "</table>\n",
       "<p>1703 rows × 5078 columns</p>\n",
       "</div>"
      ],
      "text/plain": [
       "           ElementProperty|MagpieData minimum Number  \\\n",
       "mp-12699                                        20.0   \n",
       "mp-559459                                       16.0   \n",
       "mp-21162                                        38.0   \n",
       "mp-1306                                         13.0   \n",
       "mp-15252                                        16.0   \n",
       "...                                              ...   \n",
       "mp-556541                                       16.0   \n",
       "mp-2602                                         33.0   \n",
       "mp-30366                                        20.0   \n",
       "mp-3718                                          8.0   \n",
       "mp-3709                                         27.0   \n",
       "\n",
       "           ElementProperty|MagpieData maximum Number  \\\n",
       "mp-12699                                        79.0   \n",
       "mp-559459                                       55.0   \n",
       "mp-21162                                        82.0   \n",
       "mp-1306                                         90.0   \n",
       "mp-15252                                        32.0   \n",
       "...                                              ...   \n",
       "mp-556541                                       51.0   \n",
       "mp-2602                                         60.0   \n",
       "mp-30366                                        79.0   \n",
       "mp-3718                                         90.0   \n",
       "mp-3709                                         65.0   \n",
       "\n",
       "           ElementProperty|MagpieData range Number  \\\n",
       "mp-12699                                      59.0   \n",
       "mp-559459                                     39.0   \n",
       "mp-21162                                      44.0   \n",
       "mp-1306                                       77.0   \n",
       "mp-15252                                      16.0   \n",
       "...                                            ...   \n",
       "mp-556541                                     35.0   \n",
       "mp-2602                                       27.0   \n",
       "mp-30366                                      59.0   \n",
       "mp-3718                                       82.0   \n",
       "mp-3709                                       38.0   \n",
       "\n",
       "           ElementProperty|MagpieData mean Number  \\\n",
       "mp-12699                                53.714286   \n",
       "mp-559459                               34.000000   \n",
       "mp-21162                                71.000000   \n",
       "mp-1306                                 32.250000   \n",
       "mp-15252                                23.000000   \n",
       "...                                           ...   \n",
       "mp-556541                               29.000000   \n",
       "mp-2602                                 46.500000   \n",
       "mp-30366                                34.750000   \n",
       "mp-3718                                 50.000000   \n",
       "mp-3709                                 36.600000   \n",
       "\n",
       "           ElementProperty|MagpieData avg_dev Number  \\\n",
       "mp-12699                                   28.897959   \n",
       "mp-559459                                  18.000000   \n",
       "mp-21162                                   16.500000   \n",
       "mp-1306                                    28.875000   \n",
       "mp-15252                                    7.000000   \n",
       "...                                              ...   \n",
       "mp-556541                                  16.000000   \n",
       "mp-2602                                    13.500000   \n",
       "mp-30366                                   22.125000   \n",
       "mp-3718                                    28.000000   \n",
       "mp-3709                                    11.360000   \n",
       "\n",
       "           ElementProperty|MagpieData mode Number  \\\n",
       "mp-12699                                     79.0   \n",
       "mp-559459                                    16.0   \n",
       "mp-21162                                     82.0   \n",
       "mp-1306                                      13.0   \n",
       "mp-15252                                     16.0   \n",
       "...                                           ...   \n",
       "mp-556541                                    16.0   \n",
       "mp-2602                                      33.0   \n",
       "mp-30366                                     20.0   \n",
       "mp-3718                                       8.0   \n",
       "mp-3709                                      27.0   \n",
       "\n",
       "           ElementProperty|MagpieData minimum MendeleevNumber  \\\n",
       "mp-12699                                                 7.0    \n",
       "mp-559459                                                5.0    \n",
       "mp-21162                                                 8.0    \n",
       "mp-1306                                                 16.0    \n",
       "mp-15252                                                64.0    \n",
       "...                                                      ...    \n",
       "mp-556541                                               75.0    \n",
       "mp-2602                                                 19.0    \n",
       "mp-30366                                                 7.0    \n",
       "mp-3718                                                 16.0    \n",
       "mp-3709                                                 29.0    \n",
       "\n",
       "           ElementProperty|MagpieData maximum MendeleevNumber  \\\n",
       "mp-12699                                                66.0    \n",
       "mp-559459                                               88.0    \n",
       "mp-21162                                                81.0    \n",
       "mp-1306                                                 73.0    \n",
       "mp-15252                                                88.0    \n",
       "...                                                      ...    \n",
       "mp-556541                                               94.0    \n",
       "mp-2602                                                 84.0    \n",
       "mp-30366                                                66.0    \n",
       "mp-3718                                                 90.0    \n",
       "mp-3709                                                 79.0    \n",
       "\n",
       "           ElementProperty|MagpieData range MendeleevNumber  \\\n",
       "mp-12699                                               59.0   \n",
       "mp-559459                                              83.0   \n",
       "mp-21162                                               73.0   \n",
       "mp-1306                                                57.0   \n",
       "mp-15252                                               24.0   \n",
       "...                                                     ...   \n",
       "mp-556541                                              19.0   \n",
       "mp-2602                                                65.0   \n",
       "mp-30366                                               59.0   \n",
       "mp-3718                                                74.0   \n",
       "mp-3709                                                50.0   \n",
       "\n",
       "           ElementProperty|MagpieData mean MendeleevNumber  ...  \\\n",
       "mp-12699                                         40.714286  ...   \n",
       "mp-559459                                        64.000000  ...   \n",
       "mp-21162                                         62.750000  ...   \n",
       "mp-1306                                          58.750000  ...   \n",
       "mp-15252                                         78.500000  ...   \n",
       "...                                                    ...  ...   \n",
       "mp-556541                                        86.375000  ...   \n",
       "mp-2602                                          51.500000  ...   \n",
       "mp-30366                                         21.750000  ...   \n",
       "mp-3718                                          64.333333  ...   \n",
       "mp-3709                                          60.600000  ...   \n",
       "\n",
       "           ChemEnvSiteFingerprint|GaussianSymmFuncstd_dev G2_80.0  \\\n",
       "mp-12699                                                 0.0        \n",
       "mp-559459                                                0.0        \n",
       "mp-21162                                                 0.0        \n",
       "mp-1306                                                  0.0        \n",
       "mp-15252                                                 0.0        \n",
       "...                                                      ...        \n",
       "mp-556541                                                0.0        \n",
       "mp-2602                                                  0.0        \n",
       "mp-30366                                                 0.0        \n",
       "mp-3718                                                  0.0        \n",
       "mp-3709                                                  0.0        \n",
       "\n",
       "           ChemEnvSiteFingerprint|GaussianSymmFuncmean G4_0.005_1.0_1.0  \\\n",
       "mp-12699                                                 0.0              \n",
       "mp-559459                                                0.0              \n",
       "mp-21162                                                 0.0              \n",
       "mp-1306                                                  0.0              \n",
       "mp-15252                                                 0.0              \n",
       "...                                                      ...              \n",
       "mp-556541                                                0.0              \n",
       "mp-2602                                                  0.0              \n",
       "mp-30366                                                 0.0              \n",
       "mp-3718                                                  0.0              \n",
       "mp-3709                                                  0.0              \n",
       "\n",
       "           ChemEnvSiteFingerprint|GaussianSymmFuncstd_dev G4_0.005_1.0_1.0  \\\n",
       "mp-12699                                                 0.0                 \n",
       "mp-559459                                                0.0                 \n",
       "mp-21162                                                 0.0                 \n",
       "mp-1306                                                  0.0                 \n",
       "mp-15252                                                 0.0                 \n",
       "...                                                      ...                 \n",
       "mp-556541                                                0.0                 \n",
       "mp-2602                                                  0.0                 \n",
       "mp-30366                                                 0.0                 \n",
       "mp-3718                                                  0.0                 \n",
       "mp-3709                                                  0.0                 \n",
       "\n",
       "           ChemEnvSiteFingerprint|GaussianSymmFuncmean G4_0.005_1.0_-1.0  \\\n",
       "mp-12699                                                 0.0               \n",
       "mp-559459                                                0.0               \n",
       "mp-21162                                                 0.0               \n",
       "mp-1306                                                  0.0               \n",
       "mp-15252                                                 0.0               \n",
       "...                                                      ...               \n",
       "mp-556541                                                0.0               \n",
       "mp-2602                                                  0.0               \n",
       "mp-30366                                                 0.0               \n",
       "mp-3718                                                  0.0               \n",
       "mp-3709                                                  0.0               \n",
       "\n",
       "           ChemEnvSiteFingerprint|GaussianSymmFuncmean G4_0.005_4.0_1.0  \\\n",
       "mp-12699                                                 0.0              \n",
       "mp-559459                                                0.0              \n",
       "mp-21162                                                 0.0              \n",
       "mp-1306                                                  0.0              \n",
       "mp-15252                                                 0.0              \n",
       "...                                                      ...              \n",
       "mp-556541                                                0.0              \n",
       "mp-2602                                                  0.0              \n",
       "mp-30366                                                 0.0              \n",
       "mp-3718                                                  0.0              \n",
       "mp-3709                                                  0.0              \n",
       "\n",
       "           ChemEnvSiteFingerprint|GaussianSymmFuncstd_dev G4_0.005_4.0_1.0  \\\n",
       "mp-12699                                                 0.0                 \n",
       "mp-559459                                                0.0                 \n",
       "mp-21162                                                 0.0                 \n",
       "mp-1306                                                  0.0                 \n",
       "mp-15252                                                 0.0                 \n",
       "...                                                      ...                 \n",
       "mp-556541                                                0.0                 \n",
       "mp-2602                                                  0.0                 \n",
       "mp-30366                                                 0.0                 \n",
       "mp-3718                                                  0.0                 \n",
       "mp-3709                                                  0.0                 \n",
       "\n",
       "           ChemEnvSiteFingerprint|GaussianSymmFuncmean G4_0.005_4.0_-1.0  \\\n",
       "mp-12699                                                 0.0               \n",
       "mp-559459                                                0.0               \n",
       "mp-21162                                                 0.0               \n",
       "mp-1306                                                  0.0               \n",
       "mp-15252                                                 0.0               \n",
       "...                                                      ...               \n",
       "mp-556541                                                0.0               \n",
       "mp-2602                                                  0.0               \n",
       "mp-30366                                                 0.0               \n",
       "mp-3718                                                  0.0               \n",
       "mp-3709                                                  0.0               \n",
       "\n",
       "           ChemEnvSiteFingerprint|GaussianSymmFuncstd_dev G4_0.005_4.0_-1.0  \\\n",
       "mp-12699                                                 0.0                  \n",
       "mp-559459                                                0.0                  \n",
       "mp-21162                                                 0.0                  \n",
       "mp-1306                                                  0.0                  \n",
       "mp-15252                                                 0.0                  \n",
       "...                                                      ...                  \n",
       "mp-556541                                                0.0                  \n",
       "mp-2602                                                  0.0                  \n",
       "mp-30366                                                 0.0                  \n",
       "mp-3718                                                  0.0                  \n",
       "mp-3709                                                  0.0                  \n",
       "\n",
       "           ChemEnvSiteFingerprint|GaussianSymmFuncstd_dev G4_0.005_1.0_-1.0  \\\n",
       "mp-12699                                                 0.0                  \n",
       "mp-559459                                                0.0                  \n",
       "mp-21162                                                 0.0                  \n",
       "mp-1306                                                  0.0                  \n",
       "mp-15252                                                 0.0                  \n",
       "...                                                      ...                  \n",
       "mp-556541                                                0.0                  \n",
       "mp-2602                                                  0.0                  \n",
       "mp-30366                                                 0.0                  \n",
       "mp-3718                                                  0.0                  \n",
       "mp-3709                                                  0.0                  \n",
       "\n",
       "           Band gap PBE  \n",
       "mp-12699         0.0000  \n",
       "mp-559459        2.1704  \n",
       "mp-21162         0.0000  \n",
       "mp-1306          0.0000  \n",
       "mp-15252         0.1049  \n",
       "...                 ...  \n",
       "mp-556541        1.5135  \n",
       "mp-2602          0.0000  \n",
       "mp-30366         0.0000  \n",
       "mp-3718          0.2418  \n",
       "mp-3709          0.0000  \n",
       "\n",
       "[1703 rows x 5078 columns]"
      ]
     },
     "execution_count": 8,
     "metadata": {},
     "output_type": "execute_result"
    }
   ],
   "source": [
    "md_joint.df_featurized"
   ]
  },
  {
   "cell_type": "code",
   "execution_count": 9,
   "metadata": {
    "ExecuteTime": {
     "end_time": "2021-06-14T15:44:16.373628Z",
     "start_time": "2021-06-14T15:44:16.370052Z"
    }
   },
   "outputs": [],
   "source": [
    "md_joint.df_targets = md_joint.df_targets.drop(columns=['pbe_gap', 'difference'])"
   ]
  },
  {
   "cell_type": "code",
   "execution_count": 10,
   "metadata": {
    "ExecuteTime": {
     "end_time": "2021-06-14T23:03:51.247173Z",
     "start_time": "2021-06-14T15:44:16.375605Z"
    }
   },
   "outputs": [
    {
     "name": "stdout",
     "output_type": "stream",
     "text": [
      "2021-06-14 17:44:16,490 - modnet - INFO - Loaded DeBreuck2020Featurizer featurizer.\n",
      "2021-06-14 17:44:16,505 - modnet - INFO - Loaded DeBreuck2020Featurizer featurizer.\n",
      "2021-06-14 17:44:16,516 - modnet - INFO - Loaded DeBreuck2020Featurizer featurizer.\n",
      "2021-06-14 17:44:16,531 - modnet - INFO - Loaded DeBreuck2020Featurizer featurizer.\n",
      "2021-06-14 17:44:16,541 - modnet - INFO - Loaded DeBreuck2020Featurizer featurizer.\n",
      "2021-06-14 17:44:16,557 - modnet - INFO - Loaded DeBreuck2020Featurizer featurizer.\n",
      "2021-06-14 17:44:16,567 - modnet - INFO - Loaded DeBreuck2020Featurizer featurizer.\n",
      "2021-06-14 17:44:16,583 - modnet - INFO - Loaded DeBreuck2020Featurizer featurizer.\n",
      "2021-06-14 17:44:16,593 - modnet - INFO - Loaded DeBreuck2020Featurizer featurizer.\n",
      "2021-06-14 17:44:16,610 - modnet - INFO - Loaded DeBreuck2020Featurizer featurizer.\n",
      "2021-06-14 17:44:17,092 - modnet - INFO - Loaded <modnet.preprocessing.MODData object at 0x7effdae562b0> object, created with modnet version 0.1.9\n",
      "2021-06-14 17:44:17,093 - modnet - INFO - Generation number 0\n",
      "2021-06-14 17:44:18,695 - modnet - INFO - Multiprocessing on 10 cores. Total of 128 cores available.\n"
     ]
    },
    {
     "name": "stderr",
     "output_type": "stream",
     "text": [
      "100%|██████████| 100/100 [11:14<00:00,  6.74s/it]"
     ]
    },
    {
     "name": "stdout",
     "output_type": "stream",
     "text": [
      "2021-06-14 17:55:33,235 - modnet - INFO - Loss per individual: ind 0: 0.987 \tind 1: 0.911 \tind 2: 0.911 \tind 3: 0.955 \tind 4: 0.987 \tind 5: 0.957 \tind 6: 0.922 \tind 7: 1.154 \tind 8: 0.905 \tind 9: 0.943 \tind 10: 0.919 \tind 11: 0.928 \tind 12: 0.976 \tind 13: 1.043 \tind 14: 0.965 \tind 15: 0.950 \tind 16: 0.994 \tind 17: 0.881 \tind 18: 0.893 \tind 19: 1.109 \t\n"
     ]
    },
    {
     "name": "stderr",
     "output_type": "stream",
     "text": [
      "\n"
     ]
    },
    {
     "name": "stdout",
     "output_type": "stream",
     "text": [
      "2021-06-14 17:55:34,760 - modnet - INFO - Generation number 1\n",
      "2021-06-14 17:55:37,000 - modnet - INFO - Multiprocessing on 10 cores. Total of 128 cores available.\n"
     ]
    },
    {
     "name": "stderr",
     "output_type": "stream",
     "text": [
      "100%|██████████| 100/100 [11:34<00:00,  6.94s/it]"
     ]
    },
    {
     "name": "stdout",
     "output_type": "stream",
     "text": [
      "2021-06-14 18:07:11,096 - modnet - INFO - Loss per individual: ind 0: 0.882 \tind 1: 0.933 \tind 2: 0.873 \tind 3: 0.974 \tind 4: 0.913 \tind 5: 0.935 \tind 6: 0.895 \tind 7: 0.897 \tind 8: 0.867 \tind 9: 0.933 \tind 10: 1.993 \tind 11: 0.987 \tind 12: 0.953 \tind 13: 0.912 \tind 14: 0.912 \tind 15: 0.936 \tind 16: 0.965 \tind 17: 1.027 \tind 18: 0.921 \tind 19: 0.913 \t\n"
     ]
    },
    {
     "name": "stderr",
     "output_type": "stream",
     "text": [
      "\n"
     ]
    },
    {
     "name": "stdout",
     "output_type": "stream",
     "text": [
      "2021-06-14 18:07:12,721 - modnet - INFO - Generation number 2\n",
      "2021-06-14 18:07:15,418 - modnet - INFO - Multiprocessing on 10 cores. Total of 128 cores available.\n"
     ]
    },
    {
     "name": "stderr",
     "output_type": "stream",
     "text": [
      "100%|██████████| 100/100 [11:53<00:00,  7.14s/it]"
     ]
    },
    {
     "name": "stdout",
     "output_type": "stream",
     "text": [
      "2021-06-14 18:19:08,983 - modnet - INFO - Loss per individual: ind 0: 0.976 \tind 1: 0.897 \tind 2: 0.921 \tind 3: 0.897 \tind 4: 1.009 \tind 5: 0.907 \tind 6: 0.951 \tind 7: 0.925 \tind 8: 1.002 \tind 9: 0.926 \tind 10: 0.962 \tind 11: 0.964 \tind 12: 0.922 \tind 13: 0.944 \tind 14: 0.881 \tind 15: 0.937 \tind 16: 0.929 \tind 17: 0.922 \tind 18: 0.954 \tind 19: 0.919 \t\n"
     ]
    },
    {
     "name": "stderr",
     "output_type": "stream",
     "text": [
      "\n"
     ]
    },
    {
     "name": "stdout",
     "output_type": "stream",
     "text": [
      "2021-06-14 18:19:10,554 - modnet - INFO - Generation number 3\n",
      "2021-06-14 18:19:13,322 - modnet - INFO - Multiprocessing on 10 cores. Total of 128 cores available.\n"
     ]
    },
    {
     "name": "stderr",
     "output_type": "stream",
     "text": [
      "100%|██████████| 100/100 [12:09<00:00,  7.29s/it]"
     ]
    },
    {
     "name": "stdout",
     "output_type": "stream",
     "text": [
      "2021-06-14 18:31:22,524 - modnet - INFO - Loss per individual: ind 0: 0.932 \tind 1: 0.927 \tind 2: 0.908 \tind 3: 0.906 \tind 4: 0.920 \tind 5: 0.947 \tind 6: 0.966 \tind 7: 0.884 \tind 8: 0.942 \tind 9: 0.928 \tind 10: 0.999 \tind 11: 0.900 \tind 12: 0.949 \tind 13: 0.911 \tind 14: 0.903 \tind 15: 0.949 \tind 16: 0.973 \tind 17: 0.932 \tind 18: 0.934 \tind 19: 0.915 \t\n"
     ]
    },
    {
     "name": "stderr",
     "output_type": "stream",
     "text": [
      "\n"
     ]
    },
    {
     "name": "stdout",
     "output_type": "stream",
     "text": [
      "2021-06-14 18:31:24,341 - modnet - INFO - Generation number 4\n",
      "2021-06-14 18:31:27,474 - modnet - INFO - Multiprocessing on 10 cores. Total of 128 cores available.\n"
     ]
    },
    {
     "name": "stderr",
     "output_type": "stream",
     "text": [
      "100%|██████████| 100/100 [10:51<00:00,  6.51s/it]"
     ]
    },
    {
     "name": "stdout",
     "output_type": "stream",
     "text": [
      "2021-06-14 18:42:18,740 - modnet - INFO - Loss per individual: ind 0: 0.930 \tind 1: 0.917 \tind 2: 0.904 \tind 3: 0.929 \tind 4: 0.941 \tind 5: 0.876 \tind 6: 0.956 \tind 7: 0.883 \tind 8: 0.972 \tind 9: 0.906 \tind 10: 0.959 \tind 11: 0.930 \tind 12: 0.940 \tind 13: 0.967 \tind 14: 0.944 \tind 15: 0.937 \tind 16: 0.891 \tind 17: 0.932 \tind 18: 0.987 \tind 19: 0.956 \t\n"
     ]
    },
    {
     "name": "stderr",
     "output_type": "stream",
     "text": [
      "\n"
     ]
    },
    {
     "name": "stdout",
     "output_type": "stream",
     "text": [
      "2021-06-14 18:42:20,524 - modnet - INFO - Early stopping: same best model for 4 consecutive generations\n",
      " (1/n) Calculating accuracy metrics\n",
      " (2/n) Calculating average calibration metrics\n"
     ]
    },
    {
     "name": "stderr",
     "output_type": "stream",
     "text": [
      " 10%|█         | 1/10 [00:00<00:01,  6.50it/s]"
     ]
    },
    {
     "name": "stdout",
     "output_type": "stream",
     "text": [
      " (3/n) Calculating adversarial group calibration metrics\n",
      "  [1/2] for mean absolute calibration error\n",
      "Measuring adversarial group calibration by spanning group size between 0.0 and 1.0, in 10 intervals\n"
     ]
    },
    {
     "name": "stderr",
     "output_type": "stream",
     "text": [
      "100%|██████████| 10/10 [00:01<00:00,  5.96it/s]\n",
      " 10%|█         | 1/10 [00:00<00:01,  6.04it/s]"
     ]
    },
    {
     "name": "stdout",
     "output_type": "stream",
     "text": [
      "  [2/2] for root mean squared calibration error\n",
      "Measuring adversarial group calibration by spanning group size between 0.0 and 1.0, in 10 intervals\n"
     ]
    },
    {
     "name": "stderr",
     "output_type": "stream",
     "text": [
      "100%|██████████| 10/10 [00:01<00:00,  5.62it/s]\n"
     ]
    },
    {
     "name": "stdout",
     "output_type": "stream",
     "text": [
      " (4/n) Calculating sharpness metrics\n",
      " (n/n) Calculating proper scoring rule metrics\n",
      "**Finished Calculating All Metrics**\n",
      "\n",
      "\n",
      "===================== Accuracy Metrics =====================\n",
      "  MAE           0.364\n",
      "  RMSE          0.762\n",
      "  MDAE          0.084\n",
      "  MARPD         132.720\n",
      "  R2            0.775\n",
      "  Correlation   0.884\n",
      "=============== Average Calibration Metrics ================\n",
      "  Root-mean-squared Calibration Error   0.095\n",
      "  Mean-absolute Calibration Error       0.084\n",
      "  Miscalibration Area                   0.085\n",
      "========== Adversarial Group Calibration Metrics ===========\n",
      "  Mean-absolute Adversarial Group Calibration Error\n",
      "     Group Size: 0.11 -- Calibration Error: 0.142\n",
      "     Group Size: 0.56 -- Calibration Error: 0.098\n",
      "     Group Size: 1.00 -- Calibration Error: 0.084\n",
      "  Root-mean-squared Adversarial Group Calibration Error\n",
      "     Group Size: 0.11 -- Calibration Error: 0.155\n",
      "     Group Size: 0.56 -- Calibration Error: 0.112\n",
      "     Group Size: 1.00 -- Calibration Error: 0.095\n",
      "==================== Sharpness Metrics =====================\n",
      "  Sharpness   0.331\n",
      "=================== Scoring Rule Metrics ===================\n",
      "  Negative-log-likelihood   5.202\n",
      "  CRPS                      0.292\n",
      "  Check Score               0.147\n",
      "  Interval Score            1.949\n",
      "MAE =\n",
      "0.36448238013036294\n",
      "uncertainty =\n",
      "0.21845903\n",
      "2021-06-14 18:42:32,156 - modnet - INFO - Loaded <modnet.preprocessing.MODData object at 0x7efeb0a227c0> object, created with modnet version 0.1.9\n",
      "2021-06-14 18:42:32,203 - modnet - INFO - Generation number 0\n",
      "2021-06-14 18:42:35,187 - modnet - INFO - Multiprocessing on 10 cores. Total of 128 cores available.\n"
     ]
    },
    {
     "name": "stderr",
     "output_type": "stream",
     "text": [
      "100%|██████████| 100/100 [15:31<00:00,  9.31s/it]"
     ]
    },
    {
     "name": "stdout",
     "output_type": "stream",
     "text": [
      "2021-06-14 18:58:06,268 - modnet - INFO - Loss per individual: ind 0: 0.948 \tind 1: 0.957 \tind 2: 1.405 \tind 3: 1.113 \tind 4: 1.065 \tind 5: 0.932 \tind 6: 0.939 \tind 7: 0.973 \tind 8: 1.023 \tind 9: 0.934 \tind 10: 0.951 \tind 11: 0.928 \tind 12: 0.885 \tind 13: 0.938 \tind 14: 1.224 \tind 15: 0.922 \tind 16: 1.189 \tind 17: 1.220 \tind 18: 0.948 \tind 19: 0.882 \t\n"
     ]
    },
    {
     "name": "stderr",
     "output_type": "stream",
     "text": [
      "\n"
     ]
    },
    {
     "name": "stdout",
     "output_type": "stream",
     "text": [
      "2021-06-14 18:58:08,090 - modnet - INFO - Generation number 1\n",
      "2021-06-14 18:58:11,434 - modnet - INFO - Multiprocessing on 10 cores. Total of 128 cores available.\n"
     ]
    },
    {
     "name": "stderr",
     "output_type": "stream",
     "text": [
      "100%|██████████| 100/100 [17:31<00:00, 10.51s/it]"
     ]
    },
    {
     "name": "stdout",
     "output_type": "stream",
     "text": [
      "2021-06-14 19:15:42,894 - modnet - INFO - Loss per individual: ind 0: 0.931 \tind 1: 0.899 \tind 2: 0.927 \tind 3: 0.943 \tind 4: 0.903 \tind 5: 1.007 \tind 6: 0.929 \tind 7: 0.889 \tind 8: 1.228 \tind 9: 0.896 \tind 10: 0.992 \tind 11: 0.907 \tind 12: 0.976 \tind 13: 0.927 \tind 14: 0.953 \tind 15: 0.919 \tind 16: 0.894 \tind 17: 0.942 \tind 18: 0.894 \tind 19: 0.940 \t\n"
     ]
    },
    {
     "name": "stderr",
     "output_type": "stream",
     "text": [
      "\n"
     ]
    },
    {
     "name": "stdout",
     "output_type": "stream",
     "text": [
      "2021-06-14 19:15:44,922 - modnet - INFO - Generation number 2\n",
      "2021-06-14 19:15:48,285 - modnet - INFO - Multiprocessing on 10 cores. Total of 128 cores available.\n"
     ]
    },
    {
     "name": "stderr",
     "output_type": "stream",
     "text": [
      "100%|██████████| 100/100 [14:17<00:00,  8.58s/it]"
     ]
    },
    {
     "name": "stdout",
     "output_type": "stream",
     "text": [
      "2021-06-14 19:30:06,225 - modnet - INFO - Loss per individual: ind 0: 0.938 \tind 1: 0.912 \tind 2: 0.924 \tind 3: 0.948 \tind 4: 0.964 \tind 5: 0.893 \tind 6: 0.995 \tind 7: 0.973 \tind 8: 0.945 \tind 9: 0.868 \tind 10: 0.944 \tind 11: 0.937 \tind 12: 0.899 \tind 13: 0.956 \tind 14: 0.888 \tind 15: 0.921 \tind 16: 0.959 \tind 17: 1.321 \tind 18: 0.991 \tind 19: 0.890 \t\n"
     ]
    },
    {
     "name": "stderr",
     "output_type": "stream",
     "text": [
      "\n"
     ]
    },
    {
     "name": "stdout",
     "output_type": "stream",
     "text": [
      "2021-06-14 19:30:07,755 - modnet - INFO - Generation number 3\n",
      "2021-06-14 19:30:10,624 - modnet - INFO - Multiprocessing on 10 cores. Total of 128 cores available.\n"
     ]
    },
    {
     "name": "stderr",
     "output_type": "stream",
     "text": [
      "100%|██████████| 100/100 [12:56<00:00,  7.76s/it]"
     ]
    },
    {
     "name": "stdout",
     "output_type": "stream",
     "text": [
      "2021-06-14 19:43:06,940 - modnet - INFO - Loss per individual: ind 0: 1.037 \tind 1: 0.916 \tind 2: 1.058 \tind 3: 0.921 \tind 4: 0.934 \tind 5: 0.926 \tind 6: 0.881 \tind 7: 0.900 \tind 8: 1.030 \tind 9: 0.967 \tind 10: 0.934 \tind 11: 0.970 \tind 12: 0.921 \tind 13: 1.007 \tind 14: 0.961 \tind 15: 0.898 \tind 16: 0.954 \tind 17: 0.941 \tind 18: 0.914 \tind 19: 0.899 \t\n"
     ]
    },
    {
     "name": "stderr",
     "output_type": "stream",
     "text": [
      "\n"
     ]
    },
    {
     "name": "stdout",
     "output_type": "stream",
     "text": [
      "2021-06-14 19:43:08,630 - modnet - INFO - Generation number 4\n",
      "2021-06-14 19:43:11,755 - modnet - INFO - Multiprocessing on 10 cores. Total of 128 cores available.\n"
     ]
    },
    {
     "name": "stderr",
     "output_type": "stream",
     "text": [
      "100%|██████████| 100/100 [16:08<00:00,  9.68s/it]"
     ]
    },
    {
     "name": "stdout",
     "output_type": "stream",
     "text": [
      "2021-06-14 19:59:20,015 - modnet - INFO - Loss per individual: ind 0: 0.923 \tind 1: 1.302 \tind 2: 0.974 \tind 3: 0.893 \tind 4: 0.910 \tind 5: 0.975 \tind 6: 1.009 \tind 7: 0.936 \tind 8: 0.942 \tind 9: 0.926 \tind 10: 0.889 \tind 11: 1.083 \tind 12: 0.907 \tind 13: 0.914 \tind 14: 0.969 \tind 15: 0.891 \tind 16: 0.975 \tind 17: 0.937 \tind 18: 0.893 \tind 19: 1.056 \t\n"
     ]
    },
    {
     "name": "stderr",
     "output_type": "stream",
     "text": [
      "\n"
     ]
    },
    {
     "name": "stdout",
     "output_type": "stream",
     "text": [
      "2021-06-14 19:59:21,665 - modnet - INFO - Generation number 5\n",
      "2021-06-14 19:59:24,836 - modnet - INFO - Multiprocessing on 10 cores. Total of 128 cores available.\n"
     ]
    },
    {
     "name": "stderr",
     "output_type": "stream",
     "text": [
      "100%|██████████| 100/100 [13:14<00:00,  7.94s/it]"
     ]
    },
    {
     "name": "stdout",
     "output_type": "stream",
     "text": [
      "2021-06-14 20:12:38,993 - modnet - INFO - Loss per individual: ind 0: 0.901 \tind 1: 0.905 \tind 2: 0.914 \tind 3: 0.891 \tind 4: 1.073 \tind 5: 0.987 \tind 6: 0.927 \tind 7: 0.987 \tind 8: 0.966 \tind 9: 0.917 \tind 10: 0.897 \tind 11: 0.906 \tind 12: 0.914 \tind 13: 0.941 \tind 14: 0.913 \tind 15: 1.098 \tind 16: 1.100 \tind 17: 0.890 \tind 18: 0.942 \tind 19: 0.970 \t\n"
     ]
    },
    {
     "name": "stderr",
     "output_type": "stream",
     "text": [
      "\n"
     ]
    },
    {
     "name": "stdout",
     "output_type": "stream",
     "text": [
      "2021-06-14 20:12:40,616 - modnet - INFO - Early stopping: same best model for 4 consecutive generations\n",
      " (1/n) Calculating accuracy metrics\n",
      " (2/n) Calculating average calibration metrics\n"
     ]
    },
    {
     "name": "stderr",
     "output_type": "stream",
     "text": [
      " 10%|█         | 1/10 [00:00<00:01,  6.04it/s]"
     ]
    },
    {
     "name": "stdout",
     "output_type": "stream",
     "text": [
      " (3/n) Calculating adversarial group calibration metrics\n",
      "  [1/2] for mean absolute calibration error\n",
      "Measuring adversarial group calibration by spanning group size between 0.0 and 1.0, in 10 intervals\n"
     ]
    },
    {
     "name": "stderr",
     "output_type": "stream",
     "text": [
      "100%|██████████| 10/10 [00:01<00:00,  5.58it/s]\n",
      " 10%|█         | 1/10 [00:00<00:01,  6.19it/s]"
     ]
    },
    {
     "name": "stdout",
     "output_type": "stream",
     "text": [
      "  [2/2] for root mean squared calibration error\n",
      "Measuring adversarial group calibration by spanning group size between 0.0 and 1.0, in 10 intervals\n"
     ]
    },
    {
     "name": "stderr",
     "output_type": "stream",
     "text": [
      "100%|██████████| 10/10 [00:01<00:00,  5.72it/s]\n"
     ]
    },
    {
     "name": "stdout",
     "output_type": "stream",
     "text": [
      " (4/n) Calculating sharpness metrics\n",
      " (n/n) Calculating proper scoring rule metrics\n",
      "**Finished Calculating All Metrics**\n",
      "\n",
      "\n",
      "===================== Accuracy Metrics =====================\n",
      "  MAE           0.364\n",
      "  RMSE          0.724\n",
      "  MDAE          0.059\n",
      "  MARPD         132.936\n",
      "  R2            0.792\n",
      "  Correlation   0.891\n",
      "=============== Average Calibration Metrics ================\n",
      "  Root-mean-squared Calibration Error   0.087\n",
      "  Mean-absolute Calibration Error       0.073\n",
      "  Miscalibration Area                   0.073\n",
      "========== Adversarial Group Calibration Metrics ===========\n",
      "  Mean-absolute Adversarial Group Calibration Error\n",
      "     Group Size: 0.11 -- Calibration Error: 0.134\n",
      "     Group Size: 0.56 -- Calibration Error: 0.085\n",
      "     Group Size: 1.00 -- Calibration Error: 0.073\n",
      "  Root-mean-squared Adversarial Group Calibration Error\n",
      "     Group Size: 0.11 -- Calibration Error: 0.152\n",
      "     Group Size: 0.56 -- Calibration Error: 0.103\n",
      "     Group Size: 1.00 -- Calibration Error: 0.087\n",
      "==================== Sharpness Metrics =====================\n",
      "  Sharpness   0.299\n",
      "=================== Scoring Rule Metrics ===================\n",
      "  Negative-log-likelihood   1.594\n",
      "  CRPS                      0.294\n",
      "  Check Score               0.148\n",
      "  Interval Score            1.993\n",
      "MAE =\n",
      "0.36444801193655435\n",
      "uncertainty =\n",
      "0.19188686\n",
      "2021-06-14 20:12:53,240 - modnet - INFO - Loaded <modnet.preprocessing.MODData object at 0x7efddbee4e50> object, created with modnet version 0.1.9\n",
      "2021-06-14 20:12:53,287 - modnet - INFO - Generation number 0\n",
      "2021-06-14 20:12:56,408 - modnet - INFO - Multiprocessing on 10 cores. Total of 128 cores available.\n"
     ]
    },
    {
     "name": "stderr",
     "output_type": "stream",
     "text": [
      "100%|██████████| 100/100 [12:13<00:00,  7.34s/it]"
     ]
    },
    {
     "name": "stdout",
     "output_type": "stream",
     "text": [
      "2021-06-14 20:25:10,105 - modnet - INFO - Loss per individual: ind 0: 0.979 \tind 1: 0.943 \tind 2: 1.051 \tind 3: 0.971 \tind 4: 1.040 \tind 5: 0.957 \tind 6: 0.956 \tind 7: 1.053 \tind 8: 0.979 \tind 9: 1.500 \tind 10: 1.009 \tind 11: 0.980 \tind 12: 0.983 \tind 13: 1.043 \tind 14: 1.051 \tind 15: 1.034 \tind 16: 1.038 \tind 17: 1.006 \tind 18: 1.224 \tind 19: 0.945 \t\n"
     ]
    },
    {
     "name": "stderr",
     "output_type": "stream",
     "text": [
      "\n"
     ]
    },
    {
     "name": "stdout",
     "output_type": "stream",
     "text": [
      "2021-06-14 20:25:11,856 - modnet - INFO - Generation number 1\n",
      "2021-06-14 20:25:15,148 - modnet - INFO - Multiprocessing on 10 cores. Total of 128 cores available.\n"
     ]
    },
    {
     "name": "stderr",
     "output_type": "stream",
     "text": [
      "100%|██████████| 100/100 [12:08<00:00,  7.28s/it]"
     ]
    },
    {
     "name": "stdout",
     "output_type": "stream",
     "text": [
      "2021-06-14 20:37:23,574 - modnet - INFO - Loss per individual: ind 0: 1.029 \tind 1: 0.997 \tind 2: 1.154 \tind 3: 1.111 \tind 4: 1.026 \tind 5: 0.971 \tind 6: 1.018 \tind 7: 0.965 \tind 8: 0.938 \tind 9: 0.983 \tind 10: 1.006 \tind 11: 1.046 \tind 12: 0.984 \tind 13: 1.054 \tind 14: 1.176 \tind 15: 1.028 \tind 16: 0.976 \tind 17: 0.956 \tind 18: 0.990 \tind 19: 1.048 \t\n"
     ]
    },
    {
     "name": "stderr",
     "output_type": "stream",
     "text": [
      "\n"
     ]
    },
    {
     "name": "stdout",
     "output_type": "stream",
     "text": [
      "2021-06-14 20:37:25,327 - modnet - INFO - Generation number 2\n",
      "2021-06-14 20:37:28,554 - modnet - INFO - Multiprocessing on 10 cores. Total of 128 cores available.\n"
     ]
    },
    {
     "name": "stderr",
     "output_type": "stream",
     "text": [
      "100%|██████████| 100/100 [13:38<00:00,  8.18s/it] "
     ]
    },
    {
     "name": "stdout",
     "output_type": "stream",
     "text": [
      "2021-06-14 20:51:07,033 - modnet - INFO - Loss per individual: ind 0: 0.935 \tind 1: 1.063 \tind 2: 1.106 \tind 3: 0.967 \tind 4: 1.093 \tind 5: 0.952 \tind 6: 0.970 \tind 7: 1.026 \tind 8: 0.997 \tind 9: 1.027 \tind 10: 0.986 \tind 11: 0.949 \tind 12: 0.969 \tind 13: 0.982 \tind 14: 0.964 \tind 15: 0.963 \tind 16: 0.958 \tind 17: 1.002 \tind 18: 0.968 \tind 19: 1.025 \t\n"
     ]
    },
    {
     "name": "stderr",
     "output_type": "stream",
     "text": [
      "\n"
     ]
    },
    {
     "name": "stdout",
     "output_type": "stream",
     "text": [
      "2021-06-14 20:51:08,760 - modnet - INFO - Generation number 3\n",
      "2021-06-14 20:51:12,146 - modnet - INFO - Multiprocessing on 10 cores. Total of 128 cores available.\n"
     ]
    },
    {
     "name": "stderr",
     "output_type": "stream",
     "text": [
      "100%|██████████| 100/100 [12:38<00:00,  7.59s/it]"
     ]
    },
    {
     "name": "stdout",
     "output_type": "stream",
     "text": [
      "2021-06-14 21:03:50,988 - modnet - INFO - Loss per individual: ind 0: 0.975 \tind 1: 0.939 \tind 2: 0.974 \tind 3: 0.943 \tind 4: 0.961 \tind 5: 1.046 \tind 6: 1.000 \tind 7: 0.989 \tind 8: 1.031 \tind 9: 1.052 \tind 10: 0.925 \tind 11: 1.098 \tind 12: 1.003 \tind 13: 1.067 \tind 14: 0.969 \tind 15: 0.916 \tind 16: 0.959 \tind 17: 1.010 \tind 18: 0.920 \tind 19: 0.953 \t\n"
     ]
    },
    {
     "name": "stderr",
     "output_type": "stream",
     "text": [
      "\n"
     ]
    },
    {
     "name": "stdout",
     "output_type": "stream",
     "text": [
      "2021-06-14 21:03:52,501 - modnet - INFO - Generation number 4\n",
      "2021-06-14 21:03:55,516 - modnet - INFO - Multiprocessing on 10 cores. Total of 128 cores available.\n"
     ]
    },
    {
     "name": "stderr",
     "output_type": "stream",
     "text": [
      "100%|██████████| 100/100 [12:49<00:00,  7.69s/it]"
     ]
    },
    {
     "name": "stdout",
     "output_type": "stream",
     "text": [
      "2021-06-14 21:16:44,613 - modnet - INFO - Loss per individual: ind 0: 0.966 \tind 1: 0.951 \tind 2: 1.000 \tind 3: 0.977 \tind 4: 0.954 \tind 5: 0.943 \tind 6: 0.971 \tind 7: 0.940 \tind 8: 0.938 \tind 9: 0.942 \tind 10: 0.983 \tind 11: 0.980 \tind 12: 0.945 \tind 13: 0.979 \tind 14: 0.982 \tind 15: 1.041 \tind 16: 0.963 \tind 17: 0.957 \tind 18: 0.941 \tind 19: 0.982 \t\n"
     ]
    },
    {
     "name": "stderr",
     "output_type": "stream",
     "text": [
      "\n"
     ]
    },
    {
     "name": "stdout",
     "output_type": "stream",
     "text": [
      "2021-06-14 21:16:46,152 - modnet - INFO - Generation number 5\n",
      "2021-06-14 21:16:49,169 - modnet - INFO - Multiprocessing on 10 cores. Total of 128 cores available.\n"
     ]
    },
    {
     "name": "stderr",
     "output_type": "stream",
     "text": [
      "100%|██████████| 100/100 [15:10<00:00,  9.11s/it]"
     ]
    },
    {
     "name": "stdout",
     "output_type": "stream",
     "text": [
      "2021-06-14 21:31:59,893 - modnet - INFO - Loss per individual: ind 0: 1.047 \tind 1: 1.015 \tind 2: 0.949 \tind 3: 0.986 \tind 4: 1.121 \tind 5: 1.011 \tind 6: 1.071 \tind 7: 0.982 \tind 8: 0.993 \tind 9: 1.006 \tind 10: 0.984 \tind 11: 0.924 \tind 12: 0.953 \tind 13: 0.949 \tind 14: 0.944 \tind 15: 0.944 \tind 16: 0.975 \tind 17: 0.984 \tind 18: 0.970 \tind 19: 0.968 \t\n"
     ]
    },
    {
     "name": "stderr",
     "output_type": "stream",
     "text": [
      "\n"
     ]
    },
    {
     "name": "stdout",
     "output_type": "stream",
     "text": [
      "2021-06-14 21:32:01,495 - modnet - INFO - Generation number 6\n",
      "2021-06-14 21:32:04,877 - modnet - INFO - Multiprocessing on 10 cores. Total of 128 cores available.\n"
     ]
    },
    {
     "name": "stderr",
     "output_type": "stream",
     "text": [
      "100%|██████████| 100/100 [22:55<00:00, 13.75s/it]"
     ]
    },
    {
     "name": "stdout",
     "output_type": "stream",
     "text": [
      "2021-06-14 21:55:00,194 - modnet - INFO - Loss per individual: ind 0: 0.972 \tind 1: 0.948 \tind 2: 1.057 \tind 3: 0.939 \tind 4: 0.946 \tind 5: 0.932 \tind 6: 0.975 \tind 7: 1.019 \tind 8: 0.949 \tind 9: 0.962 \tind 10: 0.930 \tind 11: 0.980 \tind 12: 1.035 \tind 13: 0.936 \tind 14: 1.070 \tind 15: 0.964 \tind 16: 0.984 \tind 17: 0.927 \tind 18: 0.975 \tind 19: 0.964 \t\n"
     ]
    },
    {
     "name": "stderr",
     "output_type": "stream",
     "text": [
      "\n"
     ]
    },
    {
     "name": "stdout",
     "output_type": "stream",
     "text": [
      "2021-06-14 21:55:01,823 - modnet - INFO - Early stopping: same best model for 4 consecutive generations\n",
      " (1/n) Calculating accuracy metrics\n",
      " (2/n) Calculating average calibration metrics\n"
     ]
    },
    {
     "name": "stderr",
     "output_type": "stream",
     "text": [
      " 10%|█         | 1/10 [00:00<00:01,  5.92it/s]"
     ]
    },
    {
     "name": "stdout",
     "output_type": "stream",
     "text": [
      " (3/n) Calculating adversarial group calibration metrics\n",
      "  [1/2] for mean absolute calibration error\n",
      "Measuring adversarial group calibration by spanning group size between 0.0 and 1.0, in 10 intervals\n"
     ]
    },
    {
     "name": "stderr",
     "output_type": "stream",
     "text": [
      "100%|██████████| 10/10 [00:01<00:00,  5.98it/s]\n",
      " 10%|█         | 1/10 [00:00<00:01,  5.54it/s]"
     ]
    },
    {
     "name": "stdout",
     "output_type": "stream",
     "text": [
      "  [2/2] for root mean squared calibration error\n",
      "Measuring adversarial group calibration by spanning group size between 0.0 and 1.0, in 10 intervals\n"
     ]
    },
    {
     "name": "stderr",
     "output_type": "stream",
     "text": [
      "100%|██████████| 10/10 [00:01<00:00,  6.01it/s]\n"
     ]
    },
    {
     "name": "stdout",
     "output_type": "stream",
     "text": [
      " (4/n) Calculating sharpness metrics\n",
      " (n/n) Calculating proper scoring rule metrics\n",
      "**Finished Calculating All Metrics**\n",
      "\n",
      "\n",
      "===================== Accuracy Metrics =====================\n",
      "  MAE           454.326\n",
      "  RMSE          4929.412\n",
      "  MDAE          0.016\n",
      "  MARPD         138.098\n",
      "  R2            -11177060.117\n",
      "  Correlation   -0.020\n",
      "=============== Average Calibration Metrics ================\n",
      "  Root-mean-squared Calibration Error   0.089\n",
      "  Mean-absolute Calibration Error       0.076\n",
      "  Miscalibration Area                   0.077\n",
      "========== Adversarial Group Calibration Metrics ===========\n",
      "  Mean-absolute Adversarial Group Calibration Error\n",
      "     Group Size: 0.11 -- Calibration Error: 0.118\n",
      "     Group Size: 0.56 -- Calibration Error: 0.088\n",
      "     Group Size: 1.00 -- Calibration Error: 0.076\n",
      "  Root-mean-squared Adversarial Group Calibration Error\n",
      "     Group Size: 0.11 -- Calibration Error: 0.153\n",
      "     Group Size: 0.56 -- Calibration Error: 0.109\n",
      "     Group Size: 1.00 -- Calibration Error: 0.089\n",
      "==================== Sharpness Metrics =====================\n",
      "  Sharpness   6070.165\n",
      "=================== Scoring Rule Metrics ===================\n",
      "  Negative-log-likelihood   3.633\n",
      "  CRPS                      270.405\n",
      "  Check Score               136.537\n",
      "  Interval Score            1245.799\n",
      "MAE =\n",
      "0.30313387110637663\n",
      "uncertainty =\n",
      "0.18078476\n",
      "2021-06-14 21:55:15,037 - modnet - INFO - Loaded <modnet.preprocessing.MODData object at 0x7efcc9f29a90> object, created with modnet version 0.1.9\n",
      "2021-06-14 21:55:15,092 - modnet - INFO - Generation number 0\n",
      "2021-06-14 21:55:18,423 - modnet - INFO - Multiprocessing on 10 cores. Total of 128 cores available.\n"
     ]
    },
    {
     "name": "stderr",
     "output_type": "stream",
     "text": [
      "100%|██████████| 100/100 [36:13<00:00, 21.73s/it]  "
     ]
    },
    {
     "name": "stdout",
     "output_type": "stream",
     "text": [
      "2021-06-14 22:31:31,822 - modnet - INFO - Loss per individual: ind 0: 1.078 \tind 1: 1.039 \tind 2: 0.925 \tind 3: 1.024 \tind 4: 1.320 \tind 5: 0.994 \tind 6: 0.916 \tind 7: 1.021 \tind 8: 1.039 \tind 9: 0.898 \tind 10: 1.225 \tind 11: 1.038 \tind 12: 0.997 \tind 13: 0.965 \tind 14: 0.967 \tind 15: 0.942 \tind 16: 0.896 \tind 17: 0.997 \tind 18: 0.941 \tind 19: 1.038 \t\n"
     ]
    },
    {
     "name": "stderr",
     "output_type": "stream",
     "text": [
      "\n"
     ]
    },
    {
     "name": "stdout",
     "output_type": "stream",
     "text": [
      "2021-06-14 22:31:33,560 - modnet - INFO - Generation number 1\n",
      "2021-06-14 22:31:35,736 - modnet - INFO - Multiprocessing on 10 cores. Total of 128 cores available.\n"
     ]
    },
    {
     "name": "stderr",
     "output_type": "stream",
     "text": [
      "100%|██████████| 100/100 [34:04<00:00, 20.44s/it]  "
     ]
    },
    {
     "name": "stdout",
     "output_type": "stream",
     "text": [
      "2021-06-14 23:05:39,950 - modnet - INFO - Loss per individual: ind 0: 0.983 \tind 1: 0.922 \tind 2: 0.986 \tind 3: 0.902 \tind 4: 0.992 \tind 5: 0.988 \tind 6: 0.958 \tind 7: 0.932 \tind 8: 0.917 \tind 9: 1.088 \tind 10: 0.974 \tind 11: 0.989 \tind 12: 1.025 \tind 13: 0.926 \tind 14: 0.969 \tind 15: 0.914 \tind 16: 1.020 \tind 17: 0.942 \tind 18: 0.941 \tind 19: 1.060 \t\n"
     ]
    },
    {
     "name": "stderr",
     "output_type": "stream",
     "text": [
      "\n"
     ]
    },
    {
     "name": "stdout",
     "output_type": "stream",
     "text": [
      "2021-06-14 23:05:41,543 - modnet - INFO - Generation number 2\n",
      "2021-06-14 23:05:45,184 - modnet - INFO - Multiprocessing on 10 cores. Total of 128 cores available.\n"
     ]
    },
    {
     "name": "stderr",
     "output_type": "stream",
     "text": [
      "100%|██████████| 100/100 [13:23<00:00,  8.04s/it]"
     ]
    },
    {
     "name": "stdout",
     "output_type": "stream",
     "text": [
      "2021-06-14 23:19:08,819 - modnet - INFO - Loss per individual: ind 0: 0.962 \tind 1: 0.927 \tind 2: 0.917 \tind 3: 0.938 \tind 4: 0.962 \tind 5: 0.996 \tind 6: 1.078 \tind 7: 0.918 \tind 8: 0.991 \tind 9: 1.247 \tind 10: 1.009 \tind 11: 1.064 \tind 12: 0.922 \tind 13: 1.009 \tind 14: 0.947 \tind 15: 0.968 \tind 16: 0.934 \tind 17: 1.004 \tind 18: 0.976 \tind 19: 0.923 \t\n"
     ]
    },
    {
     "name": "stderr",
     "output_type": "stream",
     "text": [
      "\n"
     ]
    },
    {
     "name": "stdout",
     "output_type": "stream",
     "text": [
      "2021-06-14 23:19:10,368 - modnet - INFO - Generation number 3\n",
      "2021-06-14 23:19:14,139 - modnet - INFO - Multiprocessing on 10 cores. Total of 128 cores available.\n"
     ]
    },
    {
     "name": "stderr",
     "output_type": "stream",
     "text": [
      "100%|██████████| 100/100 [13:27<00:00,  8.08s/it]"
     ]
    },
    {
     "name": "stdout",
     "output_type": "stream",
     "text": [
      "2021-06-14 23:32:41,887 - modnet - INFO - Loss per individual: ind 0: 0.934 \tind 1: 0.931 \tind 2: 1.042 \tind 3: 1.047 \tind 4: 0.946 \tind 5: 0.950 \tind 6: 0.952 \tind 7: 0.929 \tind 8: 1.068 \tind 9: 0.945 \tind 10: 0.995 \tind 11: 0.903 \tind 12: 1.032 \tind 13: 0.929 \tind 14: 1.034 \tind 15: 0.925 \tind 16: 0.937 \tind 17: 0.930 \tind 18: 1.015 \tind 19: 0.923 \t\n"
     ]
    },
    {
     "name": "stderr",
     "output_type": "stream",
     "text": [
      "\n"
     ]
    },
    {
     "name": "stdout",
     "output_type": "stream",
     "text": [
      "2021-06-14 23:32:43,129 - modnet - INFO - Early stopping: same best model for 4 consecutive generations\n",
      " (1/n) Calculating accuracy metrics\n",
      " (2/n) Calculating average calibration metrics\n"
     ]
    },
    {
     "name": "stderr",
     "output_type": "stream",
     "text": [
      " 10%|█         | 1/10 [00:00<00:01,  8.04it/s]"
     ]
    },
    {
     "name": "stdout",
     "output_type": "stream",
     "text": [
      " (3/n) Calculating adversarial group calibration metrics\n",
      "  [1/2] for mean absolute calibration error\n",
      "Measuring adversarial group calibration by spanning group size between 0.0 and 1.0, in 10 intervals\n"
     ]
    },
    {
     "name": "stderr",
     "output_type": "stream",
     "text": [
      "100%|██████████| 10/10 [00:01<00:00,  9.47it/s]\n",
      " 20%|██        | 2/10 [00:00<00:00, 10.16it/s]"
     ]
    },
    {
     "name": "stdout",
     "output_type": "stream",
     "text": [
      "  [2/2] for root mean squared calibration error\n",
      "Measuring adversarial group calibration by spanning group size between 0.0 and 1.0, in 10 intervals\n"
     ]
    },
    {
     "name": "stderr",
     "output_type": "stream",
     "text": [
      "100%|██████████| 10/10 [00:01<00:00,  9.95it/s]\n"
     ]
    },
    {
     "name": "stdout",
     "output_type": "stream",
     "text": [
      " (4/n) Calculating sharpness metrics\n",
      " (n/n) Calculating proper scoring rule metrics\n",
      "**Finished Calculating All Metrics**\n",
      "\n",
      "\n",
      "===================== Accuracy Metrics =====================\n",
      "  MAE           0.341\n",
      "  RMSE          0.758\n",
      "  MDAE          0.033\n",
      "  MARPD         137.805\n",
      "  R2            0.800\n",
      "  Correlation   0.898\n",
      "=============== Average Calibration Metrics ================\n",
      "  Root-mean-squared Calibration Error   0.071\n",
      "  Mean-absolute Calibration Error       0.059\n",
      "  Miscalibration Area                   0.059\n",
      "========== Adversarial Group Calibration Metrics ===========\n",
      "  Mean-absolute Adversarial Group Calibration Error\n",
      "     Group Size: 0.11 -- Calibration Error: 0.133\n",
      "     Group Size: 0.56 -- Calibration Error: 0.079\n",
      "     Group Size: 1.00 -- Calibration Error: 0.059\n",
      "  Root-mean-squared Adversarial Group Calibration Error\n",
      "     Group Size: 0.11 -- Calibration Error: 0.140\n",
      "     Group Size: 0.56 -- Calibration Error: 0.091\n",
      "     Group Size: 1.00 -- Calibration Error: 0.071\n",
      "==================== Sharpness Metrics =====================\n",
      "  Sharpness   0.290\n",
      "=================== Scoring Rule Metrics ===================\n",
      "  Negative-log-likelihood   32.304\n",
      "  CRPS                      0.274\n",
      "  Check Score               0.138\n",
      "  Interval Score            1.858\n",
      "MAE =\n",
      "0.34086998162569354\n",
      "uncertainty =\n",
      "0.1794947\n",
      "2021-06-14 23:32:49,909 - modnet - INFO - Loaded <modnet.preprocessing.MODData object at 0x7effdac5ceb0> object, created with modnet version 0.1.9\n",
      "2021-06-14 23:32:49,933 - modnet - INFO - Generation number 0\n",
      "2021-06-14 23:32:52,095 - modnet - INFO - Multiprocessing on 10 cores. Total of 128 cores available.\n"
     ]
    },
    {
     "name": "stderr",
     "output_type": "stream",
     "text": [
      "100%|██████████| 100/100 [13:50<00:00,  8.31s/it]"
     ]
    },
    {
     "name": "stdout",
     "output_type": "stream",
     "text": [
      "2021-06-14 23:46:42,737 - modnet - INFO - Loss per individual: ind 0: 0.889 \tind 1: 0.969 \tind 2: 0.948 \tind 3: 0.883 \tind 4: 0.905 \tind 5: 0.888 \tind 6: 0.992 \tind 7: 0.986 \tind 8: 0.895 \tind 9: 0.906 \tind 10: 0.959 \tind 11: 5.278 \tind 12: 0.861 \tind 13: 2.108 \tind 14: 0.967 \tind 15: 0.949 \tind 16: 0.928 \tind 17: 0.949 \tind 18: 0.942 \tind 19: 0.968 \t\n"
     ]
    },
    {
     "name": "stderr",
     "output_type": "stream",
     "text": [
      "\n"
     ]
    },
    {
     "name": "stdout",
     "output_type": "stream",
     "text": [
      "2021-06-14 23:46:44,530 - modnet - INFO - Generation number 1\n",
      "2021-06-14 23:46:48,459 - modnet - INFO - Multiprocessing on 10 cores. Total of 128 cores available.\n"
     ]
    },
    {
     "name": "stderr",
     "output_type": "stream",
     "text": [
      "100%|██████████| 100/100 [12:39<00:00,  7.60s/it]"
     ]
    },
    {
     "name": "stdout",
     "output_type": "stream",
     "text": [
      "2021-06-14 23:59:28,193 - modnet - INFO - Loss per individual: ind 0: 0.877 \tind 1: 1.076 \tind 2: 0.972 \tind 3: 0.873 \tind 4: 0.913 \tind 5: 0.876 \tind 6: 0.927 \tind 7: 0.949 \tind 8: 0.946 \tind 9: 0.982 \tind 10: 1.081 \tind 11: 0.915 \tind 12: 0.901 \tind 13: 0.950 \tind 14: 0.957 \tind 15: 0.928 \tind 16: 0.887 \tind 17: 0.870 \tind 18: 0.943 \tind 19: 0.911 \t\n"
     ]
    },
    {
     "name": "stderr",
     "output_type": "stream",
     "text": [
      "\n"
     ]
    },
    {
     "name": "stdout",
     "output_type": "stream",
     "text": [
      "2021-06-14 23:59:30,023 - modnet - INFO - Generation number 2\n",
      "2021-06-14 23:59:34,172 - modnet - INFO - Multiprocessing on 10 cores. Total of 128 cores available.\n"
     ]
    },
    {
     "name": "stderr",
     "output_type": "stream",
     "text": [
      "100%|██████████| 100/100 [12:40<00:00,  7.61s/it]"
     ]
    },
    {
     "name": "stdout",
     "output_type": "stream",
     "text": [
      "2021-06-15 00:12:15,137 - modnet - INFO - Loss per individual: ind 0: 0.898 \tind 1: 0.974 \tind 2: 0.896 \tind 3: 0.901 \tind 4: 0.923 \tind 5: 0.940 \tind 6: 0.921 \tind 7: 0.867 \tind 8: 0.983 \tind 9: 0.943 \tind 10: 0.900 \tind 11: 1.010 \tind 12: 0.878 \tind 13: 0.940 \tind 14: 0.971 \tind 15: 1.012 \tind 16: 0.917 \tind 17: 0.983 \tind 18: 0.874 \tind 19: 1.044 \t\n"
     ]
    },
    {
     "name": "stderr",
     "output_type": "stream",
     "text": [
      "\n"
     ]
    },
    {
     "name": "stdout",
     "output_type": "stream",
     "text": [
      "2021-06-15 00:12:16,945 - modnet - INFO - Generation number 3\n",
      "2021-06-15 00:12:21,643 - modnet - INFO - Multiprocessing on 10 cores. Total of 128 cores available.\n"
     ]
    },
    {
     "name": "stderr",
     "output_type": "stream",
     "text": [
      "100%|██████████| 100/100 [12:01<00:00,  7.21s/it]"
     ]
    },
    {
     "name": "stdout",
     "output_type": "stream",
     "text": [
      "2021-06-15 00:24:23,123 - modnet - INFO - Loss per individual: ind 0: 0.972 \tind 1: 1.035 \tind 2: 0.936 \tind 3: 0.929 \tind 4: 0.940 \tind 5: 0.912 \tind 6: 0.952 \tind 7: 0.933 \tind 8: 0.986 \tind 9: 0.909 \tind 10: 0.891 \tind 11: 0.945 \tind 12: 0.944 \tind 13: 0.861 \tind 14: 0.875 \tind 15: 0.983 \tind 16: 0.879 \tind 17: 0.927 \tind 18: 0.900 \tind 19: 0.887 \t\n"
     ]
    },
    {
     "name": "stderr",
     "output_type": "stream",
     "text": [
      "\n"
     ]
    },
    {
     "name": "stdout",
     "output_type": "stream",
     "text": [
      "2021-06-15 00:24:24,828 - modnet - INFO - Generation number 4\n",
      "2021-06-15 00:24:29,808 - modnet - INFO - Multiprocessing on 10 cores. Total of 128 cores available.\n"
     ]
    },
    {
     "name": "stderr",
     "output_type": "stream",
     "text": [
      "100%|██████████| 100/100 [12:13<00:00,  7.34s/it]"
     ]
    },
    {
     "name": "stdout",
     "output_type": "stream",
     "text": [
      "2021-06-15 00:36:43,778 - modnet - INFO - Loss per individual: ind 0: 0.953 \tind 1: 1.040 \tind 2: 0.919 \tind 3: 0.938 \tind 4: 0.938 \tind 5: 0.889 \tind 6: 0.956 \tind 7: 0.921 \tind 8: 0.872 \tind 9: 0.882 \tind 10: 0.945 \tind 11: 0.952 \tind 12: 0.910 \tind 13: 0.928 \tind 14: 0.997 \tind 15: 1.074 \tind 16: 0.877 \tind 17: 0.865 \tind 18: 0.936 \tind 19: 0.933 \t\n"
     ]
    },
    {
     "name": "stderr",
     "output_type": "stream",
     "text": [
      "\n"
     ]
    },
    {
     "name": "stdout",
     "output_type": "stream",
     "text": [
      "2021-06-15 00:36:45,635 - modnet - INFO - Generation number 5\n",
      "2021-06-15 00:36:50,999 - modnet - INFO - Multiprocessing on 10 cores. Total of 128 cores available.\n"
     ]
    },
    {
     "name": "stderr",
     "output_type": "stream",
     "text": [
      "100%|██████████| 100/100 [12:26<00:00,  7.47s/it]"
     ]
    },
    {
     "name": "stdout",
     "output_type": "stream",
     "text": [
      "2021-06-15 00:49:17,775 - modnet - INFO - Loss per individual: ind 0: 1.008 \tind 1: 0.891 \tind 2: 0.944 \tind 3: 0.882 \tind 4: 0.916 \tind 5: 0.903 \tind 6: 1.022 \tind 7: 0.866 \tind 8: 0.920 \tind 9: 0.930 \tind 10: 0.885 \tind 11: 0.939 \tind 12: 0.889 \tind 13: 0.915 \tind 14: 0.900 \tind 15: 0.889 \tind 16: 1.037 \tind 17: 0.921 \tind 18: 0.925 \tind 19: 1.010 \t\n"
     ]
    },
    {
     "name": "stderr",
     "output_type": "stream",
     "text": [
      "\n"
     ]
    },
    {
     "name": "stdout",
     "output_type": "stream",
     "text": [
      "2021-06-15 00:49:19,462 - modnet - INFO - Generation number 6\n",
      "2021-06-15 00:49:24,318 - modnet - INFO - Multiprocessing on 10 cores. Total of 128 cores available.\n"
     ]
    },
    {
     "name": "stderr",
     "output_type": "stream",
     "text": [
      "100%|██████████| 100/100 [14:15<00:00,  8.55s/it]"
     ]
    },
    {
     "name": "stdout",
     "output_type": "stream",
     "text": [
      "2021-06-15 01:03:39,771 - modnet - INFO - Loss per individual: ind 0: 0.883 \tind 1: 0.922 \tind 2: 0.976 \tind 3: 0.962 \tind 4: 0.918 \tind 5: 0.932 \tind 6: 0.921 \tind 7: 0.969 \tind 8: 0.967 \tind 9: 0.932 \tind 10: 0.931 \tind 11: 0.910 \tind 12: 0.874 \tind 13: 0.904 \tind 14: 0.923 \tind 15: 0.906 \tind 16: 0.932 \tind 17: 0.885 \tind 18: 0.946 \tind 19: 0.923 \t\n"
     ]
    },
    {
     "name": "stderr",
     "output_type": "stream",
     "text": [
      "\n"
     ]
    },
    {
     "name": "stdout",
     "output_type": "stream",
     "text": [
      "2021-06-15 01:03:41,144 - modnet - INFO - Early stopping: same best model for 4 consecutive generations\n",
      " (1/n) Calculating accuracy metrics\n",
      " (2/n) Calculating average calibration metrics\n"
     ]
    },
    {
     "name": "stderr",
     "output_type": "stream",
     "text": [
      " 10%|█         | 1/10 [00:00<00:00,  9.04it/s]"
     ]
    },
    {
     "name": "stdout",
     "output_type": "stream",
     "text": [
      " (3/n) Calculating adversarial group calibration metrics\n",
      "  [1/2] for mean absolute calibration error\n",
      "Measuring adversarial group calibration by spanning group size between 0.0 and 1.0, in 10 intervals\n"
     ]
    },
    {
     "name": "stderr",
     "output_type": "stream",
     "text": [
      "100%|██████████| 10/10 [00:01<00:00,  8.39it/s]\n",
      " 10%|█         | 1/10 [00:00<00:01,  7.41it/s]"
     ]
    },
    {
     "name": "stdout",
     "output_type": "stream",
     "text": [
      "  [2/2] for root mean squared calibration error\n",
      "Measuring adversarial group calibration by spanning group size between 0.0 and 1.0, in 10 intervals\n"
     ]
    },
    {
     "name": "stderr",
     "output_type": "stream",
     "text": [
      "100%|██████████| 10/10 [00:01<00:00,  7.94it/s]"
     ]
    },
    {
     "name": "stdout",
     "output_type": "stream",
     "text": [
      " (4/n) Calculating sharpness metrics\n",
      " (n/n) Calculating proper scoring rule metrics\n",
      "**Finished Calculating All Metrics**\n",
      "\n",
      "\n",
      "===================== Accuracy Metrics =====================\n",
      "  MAE           0.346\n",
      "  RMSE          0.699\n",
      "  MDAE          0.024\n",
      "  MARPD         136.681\n",
      "  R2            0.839\n",
      "  Correlation   0.920\n",
      "=============== Average Calibration Metrics ================\n",
      "  Root-mean-squared Calibration Error   0.201\n",
      "  Mean-absolute Calibration Error       0.174\n",
      "  Miscalibration Area                   0.176\n",
      "========== Adversarial Group Calibration Metrics ===========\n",
      "  Mean-absolute Adversarial Group Calibration Error\n",
      "     Group Size: 0.11 -- Calibration Error: 0.227\n",
      "     Group Size: 0.56 -- Calibration Error: 0.187\n",
      "     Group Size: 1.00 -- Calibration Error: 0.174\n",
      "  Root-mean-squared Adversarial Group Calibration Error\n",
      "     Group Size: 0.11 -- Calibration Error: 0.255\n",
      "     Group Size: 0.56 -- Calibration Error: 0.220\n",
      "     Group Size: 1.00 -- Calibration Error: 0.201\n",
      "==================== Sharpness Metrics =====================\n",
      "  Sharpness   0.347\n",
      "=================== Scoring Rule Metrics ===================\n",
      "  Negative-log-likelihood   27.419\n",
      "  CRPS                      0.269\n",
      "  Check Score               0.136\n",
      "  Interval Score            1.717\n",
      "MAE =\n",
      "0.3464376142968117\n",
      "uncertainty =\n",
      "0.1999878\n"
     ]
    },
    {
     "name": "stderr",
     "output_type": "stream",
     "text": [
      "\n"
     ]
    }
   ],
   "source": [
    "import uncertainty_toolbox as uct\n",
    "\n",
    "k = 5\n",
    "random_state = 202010\n",
    "folds = MDKsplit(md_joint,n_splits=k,random_state=random_state)\n",
    "maes = np.ones(5)\n",
    "uncertainties = np.ones(5)\n",
    "metricss = []\n",
    "for i,f in enumerate(folds):\n",
    "    train = f[0]\n",
    "    test = f[1]\n",
    "    #train.feature_selection(n=-1, use_precomputed_cross_nmi=True)\n",
    "    fpath = 'train_PBE-feature_{}_{}'.format(random_state,i+1)\n",
    "    if os.path.exists(fpath):\n",
    "        train = MODData.load(fpath)\n",
    "    else:\n",
    "        train.feature_selection(n=-1, use_precomputed_cross_nmi=True)\n",
    "        train.save(fpath)\n",
    "      \n",
    "    # assure no overlap\n",
    "    assert len(set(train.df_targets.index).intersection(set(test.df_targets.index))) == 0\n",
    "    \n",
    "    ga = FitGenetic(train)\n",
    "    model = ga.run(size_pop=20, num_generations=10, n_jobs=10)\n",
    "    \n",
    "    pred, std = model.predict(test, return_unc=True)\n",
    "    true = test.df_targets\n",
    "    metrics = uct.metrics.get_all_metrics(pred['exp_gap'].values, std['exp_gap'].values, true['exp_gap'].values)\n",
    "    error = pred['exp_gap']-true['exp_gap']\n",
    "    error = error.drop(pred.index[((pred['exp_gap']).abs()>20)]) # drop unrealistic values: happens extremely rarely\n",
    "    std = std['exp_gap'].drop(std.index[((std['exp_gap']).abs()>20)]) # drop unrealistic values: happens extremely rarely\n",
    "    mae = np.abs(error.values).mean()\n",
    "    uncertainty = np.abs(std).mean()\n",
    "    print('MAE =')\n",
    "    print(mae)\n",
    "    print('uncertainty =')\n",
    "    print(uncertainty)\n",
    "    maes[i] = mae\n",
    "    uncertainties[i] = uncertainty\n",
    "    metricss.append(metrics)"
   ]
  },
  {
   "cell_type": "code",
   "execution_count": 11,
   "metadata": {
    "ExecuteTime": {
     "end_time": "2021-06-14T23:03:51.252764Z",
     "start_time": "2021-06-14T23:03:51.248828Z"
    }
   },
   "outputs": [
    {
     "data": {
      "text/plain": [
       "array([0.36448238, 0.36444801, 0.30313387, 0.34086998, 0.34643761])"
      ]
     },
     "execution_count": 11,
     "metadata": {},
     "output_type": "execute_result"
    }
   ],
   "source": [
    "maes"
   ]
  },
  {
   "cell_type": "code",
   "execution_count": 12,
   "metadata": {
    "ExecuteTime": {
     "end_time": "2021-06-14T23:03:51.388248Z",
     "start_time": "2021-06-14T23:03:51.253986Z"
    }
   },
   "outputs": [
    {
     "data": {
      "text/plain": [
       "0.3438743718191598"
      ]
     },
     "execution_count": 12,
     "metadata": {},
     "output_type": "execute_result"
    }
   ],
   "source": [
    "maes.mean()"
   ]
  },
  {
   "cell_type": "code",
   "execution_count": 13,
   "metadata": {
    "ExecuteTime": {
     "end_time": "2021-06-14T23:03:51.393489Z",
     "start_time": "2021-06-14T23:03:51.389885Z"
    }
   },
   "outputs": [
    {
     "data": {
      "text/plain": [
       "array([0.21845903, 0.19188686, 0.18078476, 0.17949469, 0.1999878 ])"
      ]
     },
     "execution_count": 13,
     "metadata": {},
     "output_type": "execute_result"
    }
   ],
   "source": [
    "uncertainties"
   ]
  },
  {
   "cell_type": "code",
   "execution_count": 14,
   "metadata": {
    "ExecuteTime": {
     "end_time": "2021-06-14T23:03:51.398959Z",
     "start_time": "2021-06-14T23:03:51.394989Z"
    }
   },
   "outputs": [
    {
     "data": {
      "text/plain": [
       "0.19412262737751007"
      ]
     },
     "execution_count": 14,
     "metadata": {},
     "output_type": "execute_result"
    }
   ],
   "source": [
    "uncertainties.mean()"
   ]
  },
  {
   "cell_type": "code",
   "execution_count": 15,
   "metadata": {
    "ExecuteTime": {
     "end_time": "2021-06-14T23:03:51.414575Z",
     "start_time": "2021-06-14T23:03:51.400299Z"
    }
   },
   "outputs": [
    {
     "data": {
      "text/plain": [
       "[{'accuracy': {'mae': 0.36448238013036294,\n",
       "   'rmse': 0.761863198955022,\n",
       "   'mdae': 0.08438744395971298,\n",
       "   'marpd': 132.72021905337536,\n",
       "   'r2': 0.7751361720408235,\n",
       "   'corr': 0.8842640762160107},\n",
       "  'avg_calibration': {'rms_cal': 0.09542256098834742,\n",
       "   'ma_cal': 0.0844770283479961,\n",
       "   'miscal_area': 0.08531969822292407},\n",
       "  'adv_group_calibration': {'ma_adv_group_cal': {'group_sizes': array([0.        , 0.11111111, 0.22222222, 0.33333333, 0.44444444,\n",
       "           0.55555556, 0.66666667, 0.77777778, 0.88888889, 1.        ]),\n",
       "    'adv_group_cali_mean': array([0.45786869, 0.14153854, 0.11149934, 0.10703349, 0.10323864,\n",
       "           0.0982405 , 0.09345851, 0.09279935, 0.08887299, 0.08447703]),\n",
       "    'adv_group_cali_stderr': array([0.03525213, 0.01862428, 0.01110936, 0.00725247, 0.00419611,\n",
       "           0.00441212, 0.00532296, 0.00237604, 0.00162063, 0.        ])},\n",
       "   'rms_adv_group_cal': {'group_sizes': array([0.        , 0.11111111, 0.22222222, 0.33333333, 0.44444444,\n",
       "           0.55555556, 0.66666667, 0.77777778, 0.88888889, 1.        ]),\n",
       "    'adv_group_cali_mean': array([0.52157074, 0.15460388, 0.12972849, 0.12161111, 0.11560199,\n",
       "           0.11235406, 0.10698636, 0.10321349, 0.1012565 , 0.09542256]),\n",
       "    'adv_group_cali_stderr': array([0.04628134, 0.02252324, 0.0106325 , 0.00904001, 0.00528563,\n",
       "           0.00615778, 0.00600323, 0.00215301, 0.00157461, 0.        ])}},\n",
       "  'sharpness': {'sharp': 0.33067107},\n",
       "  'scoring_rule': {'nll': 5.201727710346806,\n",
       "   'crps': 0.2919538908253512,\n",
       "   'check': 0.14706349574313254,\n",
       "   'interval': 1.9489315498441444}},\n",
       " {'accuracy': {'mae': 0.36444801193655435,\n",
       "   'rmse': 0.7235897900928935,\n",
       "   'mdae': 0.05879370689392083,\n",
       "   'marpd': 132.93606911312125,\n",
       "   'r2': 0.7919248927578191,\n",
       "   'corr': 0.8910939965718434},\n",
       "  'avg_calibration': {'rms_cal': 0.0870674400834981,\n",
       "   'ma_cal': 0.07269794721407626,\n",
       "   'miscal_area': 0.07343226991320832},\n",
       "  'adv_group_calibration': {'ma_adv_group_cal': {'group_sizes': array([0.        , 0.11111111, 0.22222222, 0.33333333, 0.44444444,\n",
       "           0.55555556, 0.66666667, 0.77777778, 0.88888889, 1.        ]),\n",
       "    'adv_group_cali_mean': array([0.45457576, 0.13436948, 0.1044588 , 0.09385354, 0.09175419,\n",
       "           0.08547427, 0.08320816, 0.08027219, 0.07749855, 0.07269795]),\n",
       "    'adv_group_cali_stderr': array([3.48818071e-02, 2.36513112e-02, 6.89197063e-03, 7.58505658e-03,\n",
       "           5.45520586e-03, 2.85009501e-03, 1.46221709e-03, 2.07573384e-03,\n",
       "           1.47999054e-03, 1.46284728e-17])},\n",
       "   'rms_adv_group_cal': {'group_sizes': array([0.        , 0.11111111, 0.22222222, 0.33333333, 0.44444444,\n",
       "           0.55555556, 0.66666667, 0.77777778, 0.88888889, 1.        ]),\n",
       "    'adv_group_cali_mean': array([0.50942743, 0.15222862, 0.11883816, 0.11608932, 0.10799962,\n",
       "           0.10278004, 0.1018011 , 0.09546012, 0.09279641, 0.08706744]),\n",
       "    'adv_group_cali_stderr': array([0.06372308, 0.02184088, 0.02313006, 0.01074203, 0.00775369,\n",
       "           0.0048467 , 0.00386844, 0.00337185, 0.00225619, 0.        ])}},\n",
       "  'sharpness': {'sharp': 0.29874584},\n",
       "  'scoring_rule': {'nll': 1.5935540836431978,\n",
       "   'crps': 0.2938177164440731,\n",
       "   'check': 0.14799099188230222,\n",
       "   'interval': 1.9931217474407745}},\n",
       " {'accuracy': {'mae': 454.32564341549545,\n",
       "   'rmse': 4929.412014124414,\n",
       "   'mdae': 0.01596357300877571,\n",
       "   'marpd': 138.098182605229,\n",
       "   'r2': -11177060.116820643,\n",
       "   'corr': -0.020132768609948063},\n",
       "  'avg_calibration': {'rms_cal': 0.08916099233290378,\n",
       "   'ma_cal': 0.07612903225806451,\n",
       "   'miscal_area': 0.07688303875987162},\n",
       "  'adv_group_calibration': {'ma_adv_group_cal': {'group_sizes': array([0.        , 0.11111111, 0.22222222, 0.33333333, 0.44444444,\n",
       "           0.55555556, 0.66666667, 0.77777778, 0.88888889, 1.        ]),\n",
       "    'adv_group_cali_mean': array([0.39584343, 0.11847342, 0.1109806 , 0.09846438, 0.09763377,\n",
       "           0.08824723, 0.08617973, 0.08444216, 0.08227713, 0.07612903]),\n",
       "    'adv_group_cali_stderr': array([8.03673695e-02, 1.30630131e-02, 9.30051854e-03, 8.94847474e-03,\n",
       "           7.26669193e-03, 4.04921037e-03, 2.82800757e-03, 3.41606218e-03,\n",
       "           1.73653668e-03, 1.46284728e-17])},\n",
       "   'rms_adv_group_cal': {'group_sizes': array([0.        , 0.11111111, 0.22222222, 0.33333333, 0.44444444,\n",
       "           0.55555556, 0.66666667, 0.77777778, 0.88888889, 1.        ]),\n",
       "    'adv_group_cali_mean': array([0.50365385, 0.15309414, 0.13649353, 0.12031383, 0.11215677,\n",
       "           0.10896809, 0.10441535, 0.10188069, 0.09433073, 0.08916099]),\n",
       "    'adv_group_cali_stderr': array([0.06427652, 0.01708742, 0.01414426, 0.01073216, 0.00688974,\n",
       "           0.00607371, 0.00658925, 0.00388275, 0.0021462 , 0.        ])}},\n",
       "  'sharpness': {'sharp': 6070.1646},\n",
       "  'scoring_rule': {'nll': 3.632818496699003,\n",
       "   'crps': 270.4049236625159,\n",
       "   'check': 136.53654004818617,\n",
       "   'interval': 1245.7985343166001}},\n",
       " {'accuracy': {'mae': 0.34086998162569354,\n",
       "   'rmse': 0.7580579514278231,\n",
       "   'mdae': 0.03259623795747757,\n",
       "   'marpd': 137.80462505377665,\n",
       "   'r2': 0.7999093457008047,\n",
       "   'corr': 0.8981367394102932},\n",
       "  'avg_calibration': {'rms_cal': 0.07146461972605607,\n",
       "   'ma_cal': 0.05879797979797983,\n",
       "   'miscal_area': 0.05938172110500194},\n",
       "  'adv_group_calibration': {'ma_adv_group_cal': {'group_sizes': array([0.        , 0.11111111, 0.22222222, 0.33333333, 0.44444444,\n",
       "           0.55555556, 0.66666667, 0.77777778, 0.88888889, 1.        ]),\n",
       "    'adv_group_cali_mean': array([0.42926768, 0.1325008 , 0.11226582, 0.101567  , 0.08195485,\n",
       "           0.07908321, 0.07694011, 0.06877778, 0.06797083, 0.05879798]),\n",
       "    'adv_group_cali_stderr': array([0.06188122, 0.01835778, 0.02078316, 0.01878116, 0.00698989,\n",
       "           0.00928938, 0.00398179, 0.00423072, 0.00289274, 0.        ])},\n",
       "   'rms_adv_group_cal': {'group_sizes': array([0.        , 0.11111111, 0.22222222, 0.33333333, 0.44444444,\n",
       "           0.55555556, 0.66666667, 0.77777778, 0.88888889, 1.        ]),\n",
       "    'adv_group_cali_mean': array([0.50738261, 0.14037466, 0.12015872, 0.10724607, 0.10088598,\n",
       "           0.09116692, 0.08818458, 0.08439557, 0.08026128, 0.07146462]),\n",
       "    'adv_group_cali_stderr': array([8.87557510e-02, 2.31396430e-02, 1.95899928e-02, 1.14303845e-02,\n",
       "           1.24314666e-02, 8.74673461e-03, 7.98459718e-03, 7.26648937e-03,\n",
       "           2.49010316e-03, 1.46284728e-17])}},\n",
       "  'sharpness': {'sharp': 0.29023752},\n",
       "  'scoring_rule': {'nll': 32.30398516423666,\n",
       "   'crps': 0.27365812926943456,\n",
       "   'check': 0.13783475625832034,\n",
       "   'interval': 1.857559810048467}},\n",
       " {'accuracy': {'mae': 0.3464376142968117,\n",
       "   'rmse': 0.6991511036826832,\n",
       "   'mdae': 0.024259915947914212,\n",
       "   'marpd': 136.68108238170603,\n",
       "   'r2': 0.8386519997083506,\n",
       "   'corr': 0.9199113436701144},\n",
       "  'avg_calibration': {'rms_cal': 0.20099422078999646,\n",
       "   'ma_cal': 0.17379411764705888,\n",
       "   'miscal_area': 0.17554961378490805},\n",
       "  'adv_group_calibration': {'ma_adv_group_cal': {'group_sizes': array([0.        , 0.11111111, 0.22222222, 0.33333333, 0.44444444,\n",
       "           0.55555556, 0.66666667, 0.77777778, 0.88888889, 1.        ]),\n",
       "    'adv_group_cali_mean': array([0.398     , 0.22728761, 0.21043421, 0.19897345, 0.19340397,\n",
       "           0.18693122, 0.18959031, 0.18295455, 0.18014238, 0.17379412]),\n",
       "    'adv_group_cali_stderr': array([8.26642808e-02, 1.82424644e-02, 1.24399218e-02, 1.37118461e-02,\n",
       "           5.87803633e-03, 4.25303806e-03, 7.42958359e-03, 3.77978934e-03,\n",
       "           2.05961862e-03, 2.92569456e-17])},\n",
       "   'rms_adv_group_cal': {'group_sizes': array([0.        , 0.11111111, 0.22222222, 0.33333333, 0.44444444,\n",
       "           0.55555556, 0.66666667, 0.77777778, 0.88888889, 1.        ]),\n",
       "    'adv_group_cali_mean': array([0.47378455, 0.25467079, 0.23534442, 0.22671629, 0.21658583,\n",
       "           0.21973564, 0.21185451, 0.21076112, 0.20774909, 0.20099422]),\n",
       "    'adv_group_cali_stderr': array([0.09687651, 0.01704328, 0.01161007, 0.00896129, 0.00452095,\n",
       "           0.00541613, 0.00516167, 0.00444016, 0.00380523, 0.        ])}},\n",
       "  'sharpness': {'sharp': 0.3466649},\n",
       "  'scoring_rule': {'nll': 27.418827041908763,\n",
       "   'crps': 0.2689163720400721,\n",
       "   'check': 0.13551451615804805,\n",
       "   'interval': 1.7167905350624877}}]"
      ]
     },
     "execution_count": 15,
     "metadata": {},
     "output_type": "execute_result"
    }
   ],
   "source": [
    "metricss"
   ]
  },
  {
   "cell_type": "markdown",
   "metadata": {},
   "source": [
    "#### Conclusion"
   ]
  },
  {
   "cell_type": "markdown",
   "metadata": {},
   "source": [
    "Relative percentage change of the error compared to MODNet_exp_GA reference: 1%"
   ]
  }
 ],
 "metadata": {
  "kernelspec": {
   "display_name": "Python [conda env:modnet]",
   "language": "python",
   "name": "conda-env-modnet-py"
  },
  "language_info": {
   "codemirror_mode": {
    "name": "ipython",
    "version": 3
   },
   "file_extension": ".py",
   "mimetype": "text/x-python",
   "name": "python",
   "nbconvert_exporter": "python",
   "pygments_lexer": "ipython3",
   "version": "3.8.5"
  }
 },
 "nbformat": 4,
 "nbformat_minor": 4
}
