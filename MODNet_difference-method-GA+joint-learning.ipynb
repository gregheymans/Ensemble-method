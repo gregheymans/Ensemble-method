{
 "cells": [
  {
   "cell_type": "markdown",
   "metadata": {},
   "source": [
    "# Difference method + joint learning"
   ]
  },
  {
   "cell_type": "markdown",
   "metadata": {},
   "source": [
    "In this model, we will use what we called the Difference method. We first calculate the difference between the experimental band gap and the PBE band gap, and we then evaluate the error on this difference. We have three targets in the dataframe: the experimental and PBE band gaps, and the difference between them. We will apply joint learning on these columns."
   ]
  },
  {
   "cell_type": "code",
   "execution_count": 1,
   "metadata": {
    "ExecuteTime": {
     "end_time": "2021-05-20T13:06:18.393577Z",
     "start_time": "2021-05-20T13:06:18.388041Z"
    }
   },
   "outputs": [],
   "source": [
    "def setup_threading():\n",
    "    import os\n",
    "    os.environ['OPENBLAS_NUM_THREADS'] = '1'\n",
    "    os.environ['MKL_NUM_THREADS'] = '1'\n",
    "    os.environ[\"OMP_NUM_THREADS\"] = \"1\"\n",
    "    os.environ[\"TF_NUM_INTRAOP_THREADS\"] = \"1\"\n",
    "    os.environ[\"TF_NUM_INTEROP_THREADS\"] = \"1\"\n",
    "    os.environ[\"CUDA_VISIBLE_DEVICES\"] = \"-1\""
   ]
  },
  {
   "cell_type": "code",
   "execution_count": 2,
   "metadata": {
    "ExecuteTime": {
     "end_time": "2021-05-20T13:06:18.403854Z",
     "start_time": "2021-05-20T13:06:18.396284Z"
    }
   },
   "outputs": [],
   "source": [
    "setup_threading()"
   ]
  },
  {
   "cell_type": "code",
   "execution_count": 3,
   "metadata": {
    "ExecuteTime": {
     "end_time": "2021-05-20T13:06:28.520405Z",
     "start_time": "2021-05-20T13:06:18.407458Z"
    }
   },
   "outputs": [],
   "source": [
    "from modnet.preprocessing import MODData\n",
    "from modnet.models.vanilla import MODNetModel\n",
    "from modnet.hyper_opt.fit_genetic import FitGenetic\n",
    "import numpy as np\n",
    "import os\n",
    "import copy\n",
    "from tensorflow.keras.callbacks import EarlyStopping, ReduceLROnPlateau"
   ]
  },
  {
   "cell_type": "code",
   "execution_count": 4,
   "metadata": {
    "ExecuteTime": {
     "end_time": "2021-05-20T13:06:28.535995Z",
     "start_time": "2021-05-20T13:06:28.523509Z"
    }
   },
   "outputs": [],
   "source": [
    "from sklearn.model_selection import KFold\n",
    "from modnet.preprocessing import MODData\n",
    "\n",
    "def shuffle_MD(data,random_state=10):\n",
    "    data = copy.deepcopy(data)\n",
    "    ids = data.df_targets.sample(frac=1,random_state=random_state).index\n",
    "    data.df_featurized = data.df_featurized.reindex([ids])\n",
    "    data.df_targets = data.df_targets.reindex([ids])\n",
    "    data.df_structure = data.df_structure.reindex([ids])\n",
    "    \n",
    "    return data\n",
    "\n",
    "def MDKsplit(data,n_splits=5,random_state=10):\n",
    "    #data = shuffle_MD(data,random_state=random_state)\n",
    "    ids = np.array(data.structure_ids)\n",
    "    kf = KFold(n_splits=n_splits,shuffle=True,random_state=random_state)\n",
    "    folds = []\n",
    "    for train_idx, val_idx in kf.split(ids):\n",
    "        data_train = MODData(data.df_structure.iloc[train_idx]['structure'].values,data.df_targets.iloc[train_idx].values,target_names=data.df_targets.columns,structure_ids=ids[train_idx])\n",
    "        data_train.df_featurized = data.df_featurized.iloc[train_idx]\n",
    "        #data_train.optimal_features = data.optimal_features\n",
    "        \n",
    "        data_val = MODData(data.df_structure.iloc[val_idx]['structure'].values,data.df_targets.iloc[val_idx].values,target_names=data.df_targets.columns,structure_ids=ids[val_idx])\n",
    "        data_val.df_featurized = data.df_featurized.iloc[val_idx]\n",
    "        #data_val.optimal_features = data.optimal_features\n",
    "\n",
    "        folds.append((data_train,data_val))\n",
    "        \n",
    "    return folds\n",
    "\n",
    "def MD_append(md,lmd):\n",
    "    md = copy.deepcopy(md)\n",
    "    for m in lmd:\n",
    "        md.df_structure.append(m.df_structure)\n",
    "        md.df_targets.append(m.df_targets)\n",
    "        md.df_featurized.append(m.df_featurized)\n",
    "    return md"
   ]
  },
  {
   "cell_type": "code",
   "execution_count": 3,
   "metadata": {
    "ExecuteTime": {
     "end_time": "2021-05-04T14:31:00.990585Z",
     "start_time": "2021-05-04T14:31:00.968276Z"
    }
   },
   "outputs": [],
   "source": [
    "#from random import randint\n",
    "#def train_val_split(data):\n",
    "\n",
    "#    \"\"\"Splits arrays or matrices into random train and validation subsets.\n",
    "#\n",
    "#   Parameter:\n",
    "#      data: 'MODData' data which need to be splitted.\n",
    "#    \"\"\"\n",
    "    #i = randint(0,9)\n",
    "    #md_train, md_val = MDKsplit(data, n_splits=5, random_state=1)[0]\n",
    "    #y_train = md_train.df_targets\n",
    "    #y_val = md_val.df_targets\n",
    "\n",
    "    #return md_train, md_val, y_train, y_val"
   ]
  },
  {
   "cell_type": "code",
   "execution_count": 4,
   "metadata": {
    "ExecuteTime": {
     "end_time": "2021-05-04T14:31:00.995071Z",
     "start_time": "2021-05-04T14:31:00.992606Z"
    }
   },
   "outputs": [],
   "source": [
    "#train_val_split(md_joint)"
   ]
  },
  {
   "cell_type": "code",
   "execution_count": 5,
   "metadata": {
    "ExecuteTime": {
     "end_time": "2021-05-05T09:51:31.053834Z",
     "start_time": "2021-05-05T09:51:22.299480Z"
    }
   },
   "outputs": [
    {
     "name": "stdout",
     "output_type": "stream",
     "text": [
      "\n",
      "If you use the ChemEnv tool for your research, please consider citing the following reference(s) :\n",
      "==================================================================================================\n",
      "David Waroquiers, Xavier Gonze, Gian-Marco Rignanese, Cathrin Welker-Nieuwoudt, Frank Rosowski,\n",
      "Michael Goebel, Stephan Schenk, Peter Degelmann, Rute Andre, Robert Glaum, and Geoffroy Hautier,\n",
      "\"Statistical analysis of coordination environments in oxides\",\n",
      "Chem. Mater., 2017, 29 (19), pp 8346-8360,\n",
      "DOI: 10.1021/acs.chemmater.7b02766\n",
      "\n",
      "2021-05-05 11:51:24,381 - modnet - INFO - Loaded <modnet.preprocessing.MODData object at 0x7f54f42e8700> object, created with modnet version <=0.1.7\n",
      "2021-05-05 11:51:31,026 - modnet - INFO - Loaded <modnet.preprocessing.MODData object at 0x7f54f42eeac0> object, created with modnet version <=0.1.7\n",
      "2021-05-05 11:51:31,050 - modnet - INFO - Loaded <modnet.preprocessing.MODData object at 0x7f54f42da760> object, created with modnet version <=0.1.7\n"
     ]
    }
   ],
   "source": [
    "md_exp = MODData.load('exp_gap_all_mpid')\n",
    "md_exp.df_targets.columns = ['exp_gap','mp_id']\n",
    "md_pbe = MODData.load('pbe_gap.zip')\n",
    "md_pbe.df_targets.columns = ['gap']\n",
    "md_joint = MODData.load('exp_pbe_joint')"
   ]
  },
  {
   "cell_type": "code",
   "execution_count": 6,
   "metadata": {
    "ExecuteTime": {
     "end_time": "2021-05-05T09:51:31.071788Z",
     "start_time": "2021-05-05T09:51:31.055826Z"
    }
   },
   "outputs": [
    {
     "data": {
      "text/html": [
       "<div>\n",
       "<style scoped>\n",
       "    .dataframe tbody tr th:only-of-type {\n",
       "        vertical-align: middle;\n",
       "    }\n",
       "\n",
       "    .dataframe tbody tr th {\n",
       "        vertical-align: top;\n",
       "    }\n",
       "\n",
       "    .dataframe thead th {\n",
       "        text-align: right;\n",
       "    }\n",
       "</style>\n",
       "<table border=\"1\" class=\"dataframe\">\n",
       "  <thead>\n",
       "    <tr style=\"text-align: right;\">\n",
       "      <th></th>\n",
       "      <th>exp_gap</th>\n",
       "      <th>pbe_gap</th>\n",
       "    </tr>\n",
       "  </thead>\n",
       "  <tbody>\n",
       "    <tr>\n",
       "      <th>mp-12699</th>\n",
       "      <td>0.00</td>\n",
       "      <td>0.0000</td>\n",
       "    </tr>\n",
       "    <tr>\n",
       "      <th>mp-559459</th>\n",
       "      <td>3.40</td>\n",
       "      <td>2.1704</td>\n",
       "    </tr>\n",
       "    <tr>\n",
       "      <th>mp-21162</th>\n",
       "      <td>0.00</td>\n",
       "      <td>0.0000</td>\n",
       "    </tr>\n",
       "    <tr>\n",
       "      <th>mp-1306</th>\n",
       "      <td>0.00</td>\n",
       "      <td>0.0000</td>\n",
       "    </tr>\n",
       "    <tr>\n",
       "      <th>mp-15252</th>\n",
       "      <td>0.53</td>\n",
       "      <td>0.1049</td>\n",
       "    </tr>\n",
       "    <tr>\n",
       "      <th>...</th>\n",
       "      <td>...</td>\n",
       "      <td>...</td>\n",
       "    </tr>\n",
       "    <tr>\n",
       "      <th>mp-556541</th>\n",
       "      <td>1.80</td>\n",
       "      <td>1.5135</td>\n",
       "    </tr>\n",
       "    <tr>\n",
       "      <th>mp-2602</th>\n",
       "      <td>1.04</td>\n",
       "      <td>0.0000</td>\n",
       "    </tr>\n",
       "    <tr>\n",
       "      <th>mp-30366</th>\n",
       "      <td>0.00</td>\n",
       "      <td>0.0000</td>\n",
       "    </tr>\n",
       "    <tr>\n",
       "      <th>mp-3718</th>\n",
       "      <td>1.45</td>\n",
       "      <td>0.2418</td>\n",
       "    </tr>\n",
       "    <tr>\n",
       "      <th>mp-3709</th>\n",
       "      <td>0.00</td>\n",
       "      <td>0.0000</td>\n",
       "    </tr>\n",
       "  </tbody>\n",
       "</table>\n",
       "<p>1703 rows × 2 columns</p>\n",
       "</div>"
      ],
      "text/plain": [
       "           exp_gap  pbe_gap\n",
       "mp-12699      0.00   0.0000\n",
       "mp-559459     3.40   2.1704\n",
       "mp-21162      0.00   0.0000\n",
       "mp-1306       0.00   0.0000\n",
       "mp-15252      0.53   0.1049\n",
       "...            ...      ...\n",
       "mp-556541     1.80   1.5135\n",
       "mp-2602       1.04   0.0000\n",
       "mp-30366      0.00   0.0000\n",
       "mp-3718       1.45   0.2418\n",
       "mp-3709       0.00   0.0000\n",
       "\n",
       "[1703 rows x 2 columns]"
      ]
     },
     "execution_count": 6,
     "metadata": {},
     "output_type": "execute_result"
    }
   ],
   "source": [
    "md_joint.df_targets"
   ]
  },
  {
   "cell_type": "code",
   "execution_count": 7,
   "metadata": {
    "ExecuteTime": {
     "end_time": "2021-05-05T09:51:31.077987Z",
     "start_time": "2021-05-05T09:51:31.073327Z"
    }
   },
   "outputs": [],
   "source": [
    "md_joint.df_targets['difference'] = md_joint.df_targets['exp_gap'] - md_joint.df_targets['pbe_gap']"
   ]
  },
  {
   "cell_type": "code",
   "execution_count": 8,
   "metadata": {
    "ExecuteTime": {
     "end_time": "2021-05-05T09:51:31.086663Z",
     "start_time": "2021-05-05T09:51:31.079289Z"
    }
   },
   "outputs": [
    {
     "data": {
      "text/html": [
       "<div>\n",
       "<style scoped>\n",
       "    .dataframe tbody tr th:only-of-type {\n",
       "        vertical-align: middle;\n",
       "    }\n",
       "\n",
       "    .dataframe tbody tr th {\n",
       "        vertical-align: top;\n",
       "    }\n",
       "\n",
       "    .dataframe thead th {\n",
       "        text-align: right;\n",
       "    }\n",
       "</style>\n",
       "<table border=\"1\" class=\"dataframe\">\n",
       "  <thead>\n",
       "    <tr style=\"text-align: right;\">\n",
       "      <th></th>\n",
       "      <th>exp_gap</th>\n",
       "      <th>pbe_gap</th>\n",
       "      <th>difference</th>\n",
       "    </tr>\n",
       "  </thead>\n",
       "  <tbody>\n",
       "    <tr>\n",
       "      <th>mp-12699</th>\n",
       "      <td>0.00</td>\n",
       "      <td>0.0000</td>\n",
       "      <td>0.0000</td>\n",
       "    </tr>\n",
       "    <tr>\n",
       "      <th>mp-559459</th>\n",
       "      <td>3.40</td>\n",
       "      <td>2.1704</td>\n",
       "      <td>1.2296</td>\n",
       "    </tr>\n",
       "    <tr>\n",
       "      <th>mp-21162</th>\n",
       "      <td>0.00</td>\n",
       "      <td>0.0000</td>\n",
       "      <td>0.0000</td>\n",
       "    </tr>\n",
       "    <tr>\n",
       "      <th>mp-1306</th>\n",
       "      <td>0.00</td>\n",
       "      <td>0.0000</td>\n",
       "      <td>0.0000</td>\n",
       "    </tr>\n",
       "    <tr>\n",
       "      <th>mp-15252</th>\n",
       "      <td>0.53</td>\n",
       "      <td>0.1049</td>\n",
       "      <td>0.4251</td>\n",
       "    </tr>\n",
       "    <tr>\n",
       "      <th>...</th>\n",
       "      <td>...</td>\n",
       "      <td>...</td>\n",
       "      <td>...</td>\n",
       "    </tr>\n",
       "    <tr>\n",
       "      <th>mp-556541</th>\n",
       "      <td>1.80</td>\n",
       "      <td>1.5135</td>\n",
       "      <td>0.2865</td>\n",
       "    </tr>\n",
       "    <tr>\n",
       "      <th>mp-2602</th>\n",
       "      <td>1.04</td>\n",
       "      <td>0.0000</td>\n",
       "      <td>1.0400</td>\n",
       "    </tr>\n",
       "    <tr>\n",
       "      <th>mp-30366</th>\n",
       "      <td>0.00</td>\n",
       "      <td>0.0000</td>\n",
       "      <td>0.0000</td>\n",
       "    </tr>\n",
       "    <tr>\n",
       "      <th>mp-3718</th>\n",
       "      <td>1.45</td>\n",
       "      <td>0.2418</td>\n",
       "      <td>1.2082</td>\n",
       "    </tr>\n",
       "    <tr>\n",
       "      <th>mp-3709</th>\n",
       "      <td>0.00</td>\n",
       "      <td>0.0000</td>\n",
       "      <td>0.0000</td>\n",
       "    </tr>\n",
       "  </tbody>\n",
       "</table>\n",
       "<p>1703 rows × 3 columns</p>\n",
       "</div>"
      ],
      "text/plain": [
       "           exp_gap  pbe_gap  difference\n",
       "mp-12699      0.00   0.0000      0.0000\n",
       "mp-559459     3.40   2.1704      1.2296\n",
       "mp-21162      0.00   0.0000      0.0000\n",
       "mp-1306       0.00   0.0000      0.0000\n",
       "mp-15252      0.53   0.1049      0.4251\n",
       "...            ...      ...         ...\n",
       "mp-556541     1.80   1.5135      0.2865\n",
       "mp-2602       1.04   0.0000      1.0400\n",
       "mp-30366      0.00   0.0000      0.0000\n",
       "mp-3718       1.45   0.2418      1.2082\n",
       "mp-3709       0.00   0.0000      0.0000\n",
       "\n",
       "[1703 rows x 3 columns]"
      ]
     },
     "execution_count": 8,
     "metadata": {},
     "output_type": "execute_result"
    }
   ],
   "source": [
    "md_joint.df_targets"
   ]
  },
  {
   "cell_type": "code",
   "execution_count": 9,
   "metadata": {
    "ExecuteTime": {
     "end_time": "2021-05-05T09:51:31.089540Z",
     "start_time": "2021-05-05T09:51:31.087756Z"
    }
   },
   "outputs": [],
   "source": [
    "import pymatgen.ext.matproj"
   ]
  },
  {
   "cell_type": "code",
   "execution_count": 10,
   "metadata": {
    "ExecuteTime": {
     "end_time": "2021-05-05T09:58:44.437078Z",
     "start_time": "2021-05-05T09:51:31.090528Z"
    }
   },
   "outputs": [],
   "source": [
    "from pymatgen.ext.matproj import MPRester\n",
    "import pandas as pd\n",
    "\n",
    "with MPRester(\"v454AlrxL5Zg0cLAXW0\") as mpr:\n",
    "    index = md_joint.df_structure.index\n",
    "    array = np.empty(shape=md_joint.df_structure.shape, dtype=pymatgen.core.structure.Structure)\n",
    "    array = np.ndarray.flatten(array)\n",
    "    for i in range(len(md_joint.df_structure)):\n",
    "        array[i] = mpr.get_structure_by_material_id(index[i])\n",
    "    md_joint.df_structure = pd.DataFrame(data=array, columns=[\"structure\"])\n",
    "    md_joint.df_structure = md_joint.df_structure.set_index(index)"
   ]
  },
  {
   "cell_type": "code",
   "execution_count": 11,
   "metadata": {
    "ExecuteTime": {
     "end_time": "2021-05-05T09:58:44.958041Z",
     "start_time": "2021-05-05T09:58:44.439404Z"
    }
   },
   "outputs": [
    {
     "name": "stdout",
     "output_type": "stream",
     "text": [
      "2021-05-05 11:58:44,955 - modnet - INFO - Data successfully saved as exp_pbe_joint!\n"
     ]
    }
   ],
   "source": [
    "#md_joint.save('exp_pbe_joint')"
   ]
  },
  {
   "cell_type": "code",
   "execution_count": 5,
   "metadata": {
    "ExecuteTime": {
     "end_time": "2021-05-20T13:06:30.048325Z",
     "start_time": "2021-05-20T13:06:28.542902Z"
    }
   },
   "outputs": [
    {
     "name": "stdout",
     "output_type": "stream",
     "text": [
      "\n",
      "If you use the ChemEnv tool for your research, please consider citing the following reference(s) :\n",
      "==================================================================================================\n",
      "David Waroquiers, Xavier Gonze, Gian-Marco Rignanese, Cathrin Welker-Nieuwoudt, Frank Rosowski,\n",
      "Michael Goebel, Stephan Schenk, Peter Degelmann, Rute Andre, Robert Glaum, and Geoffroy Hautier,\n",
      "\"Statistical analysis of coordination environments in oxides\",\n",
      "Chem. Mater., 2017, 29 (19), pp 8346-8360,\n",
      "DOI: 10.1021/acs.chemmater.7b02766\n",
      "\n",
      "2021-05-20 15:06:30,044 - modnet - INFO - Loaded <modnet.preprocessing.MODData object at 0x7f6a8c4d4d00> object, created with modnet version <=0.1.7\n"
     ]
    }
   ],
   "source": [
    "md_joint = MODData.load('exp_pbe_joint')"
   ]
  },
  {
   "cell_type": "code",
   "execution_count": 6,
   "metadata": {
    "ExecuteTime": {
     "end_time": "2021-05-20T13:06:30.137691Z",
     "start_time": "2021-05-20T13:06:30.050863Z"
    }
   },
   "outputs": [
    {
     "data": {
      "text/html": [
       "<div>\n",
       "<style scoped>\n",
       "    .dataframe tbody tr th:only-of-type {\n",
       "        vertical-align: middle;\n",
       "    }\n",
       "\n",
       "    .dataframe tbody tr th {\n",
       "        vertical-align: top;\n",
       "    }\n",
       "\n",
       "    .dataframe thead th {\n",
       "        text-align: right;\n",
       "    }\n",
       "</style>\n",
       "<table border=\"1\" class=\"dataframe\">\n",
       "  <thead>\n",
       "    <tr style=\"text-align: right;\">\n",
       "      <th></th>\n",
       "      <th>structure</th>\n",
       "    </tr>\n",
       "    <tr>\n",
       "      <th>id</th>\n",
       "      <th></th>\n",
       "    </tr>\n",
       "  </thead>\n",
       "  <tbody>\n",
       "    <tr>\n",
       "      <th>mp-12699</th>\n",
       "      <td>[[ 0.13616363 -2.60631371  1.50340165] Ca, [-1...</td>\n",
       "    </tr>\n",
       "    <tr>\n",
       "      <th>mp-559459</th>\n",
       "      <td>[[2.14049282 6.43464803 1.76199846] Cs, [-0.70...</td>\n",
       "    </tr>\n",
       "    <tr>\n",
       "      <th>mp-21162</th>\n",
       "      <td>[[0. 0. 0.] Sr, [0.        2.5259875 2.5259875...</td>\n",
       "    </tr>\n",
       "    <tr>\n",
       "      <th>mp-1306</th>\n",
       "      <td>[[3.259129   1.88166243 1.15971025] Th, [ 3.25...</td>\n",
       "    </tr>\n",
       "    <tr>\n",
       "      <th>mp-15252</th>\n",
       "      <td>[[0.95531657 1.042239   0.86229681] Cu, [2.803...</td>\n",
       "    </tr>\n",
       "    <tr>\n",
       "      <th>...</th>\n",
       "      <td>...</td>\n",
       "    </tr>\n",
       "    <tr>\n",
       "      <th>mp-556541</th>\n",
       "      <td>[[0.         6.49363948 5.82657217] In, [ 0.  ...</td>\n",
       "    </tr>\n",
       "    <tr>\n",
       "      <th>mp-2602</th>\n",
       "      <td>[[3.023318 3.023318 3.023318] Nd, [0. 0. 0.] As]</td>\n",
       "    </tr>\n",
       "    <tr>\n",
       "      <th>mp-30366</th>\n",
       "      <td>[[4.51774558 1.37529211 4.32659015] Ca, [1.109...</td>\n",
       "    </tr>\n",
       "    <tr>\n",
       "      <th>mp-3718</th>\n",
       "      <td>[[2.0697935  0.         1.28932533] Th, [0.   ...</td>\n",
       "    </tr>\n",
       "    <tr>\n",
       "      <th>mp-3709</th>\n",
       "      <td>[[0. 0. 0.] Tb, [0.       1.983905 2.537711] C...</td>\n",
       "    </tr>\n",
       "  </tbody>\n",
       "</table>\n",
       "<p>1703 rows × 1 columns</p>\n",
       "</div>"
      ],
      "text/plain": [
       "                                                   structure\n",
       "id                                                          \n",
       "mp-12699   [[ 0.13616363 -2.60631371  1.50340165] Ca, [-1...\n",
       "mp-559459  [[2.14049282 6.43464803 1.76199846] Cs, [-0.70...\n",
       "mp-21162   [[0. 0. 0.] Sr, [0.        2.5259875 2.5259875...\n",
       "mp-1306    [[3.259129   1.88166243 1.15971025] Th, [ 3.25...\n",
       "mp-15252   [[0.95531657 1.042239   0.86229681] Cu, [2.803...\n",
       "...                                                      ...\n",
       "mp-556541  [[0.         6.49363948 5.82657217] In, [ 0.  ...\n",
       "mp-2602     [[3.023318 3.023318 3.023318] Nd, [0. 0. 0.] As]\n",
       "mp-30366   [[4.51774558 1.37529211 4.32659015] Ca, [1.109...\n",
       "mp-3718    [[2.0697935  0.         1.28932533] Th, [0.   ...\n",
       "mp-3709    [[0. 0. 0.] Tb, [0.       1.983905 2.537711] C...\n",
       "\n",
       "[1703 rows x 1 columns]"
      ]
     },
     "execution_count": 6,
     "metadata": {},
     "output_type": "execute_result"
    }
   ],
   "source": [
    "md_joint.df_structure"
   ]
  },
  {
   "cell_type": "code",
   "execution_count": 7,
   "metadata": {
    "ExecuteTime": {
     "end_time": "2021-05-20T13:06:30.145785Z",
     "start_time": "2021-05-20T13:06:30.139663Z"
    }
   },
   "outputs": [
    {
     "data": {
      "text/plain": [
       "0.429783975697596"
      ]
     },
     "execution_count": 7,
     "metadata": {},
     "output_type": "execute_result"
    }
   ],
   "source": [
    "from sklearn.metrics import mean_absolute_error\n",
    "mean_absolute_error(md_joint.df_targets['exp_gap'], md_joint.df_targets['pbe_gap'])"
   ]
  },
  {
   "cell_type": "code",
   "execution_count": 8,
   "metadata": {
    "ExecuteTime": {
     "end_time": "2021-05-20T13:06:30.157066Z",
     "start_time": "2021-05-20T13:06:30.147709Z"
    }
   },
   "outputs": [
    {
     "data": {
      "text/plain": [
       "0.5494667780829975"
      ]
     },
     "execution_count": 8,
     "metadata": {},
     "output_type": "execute_result"
    }
   ],
   "source": [
    "md_joint.df_targets['difference'].mad()"
   ]
  },
  {
   "cell_type": "code",
   "execution_count": null,
   "metadata": {},
   "outputs": [],
   "source": []
  },
  {
   "cell_type": "code",
   "execution_count": null,
   "metadata": {},
   "outputs": [],
   "source": []
  },
  {
   "cell_type": "code",
   "execution_count": 9,
   "metadata": {
    "ExecuteTime": {
     "end_time": "2021-05-20T18:57:16.055834Z",
     "start_time": "2021-05-20T13:06:34.398006Z"
    },
    "scrolled": true
   },
   "outputs": [
    {
     "name": "stdout",
     "output_type": "stream",
     "text": [
      "2021-05-20 15:06:34,511 - modnet - INFO - Loaded DeBreuck2020Featurizer featurizer.\n",
      "2021-05-20 15:06:34,556 - modnet - INFO - Loaded DeBreuck2020Featurizer featurizer.\n",
      "2021-05-20 15:06:34,593 - modnet - INFO - Loaded DeBreuck2020Featurizer featurizer.\n",
      "2021-05-20 15:06:34,644 - modnet - INFO - Loaded DeBreuck2020Featurizer featurizer.\n",
      "2021-05-20 15:06:34,681 - modnet - INFO - Loaded DeBreuck2020Featurizer featurizer.\n",
      "2021-05-20 15:06:34,734 - modnet - INFO - Loaded DeBreuck2020Featurizer featurizer.\n",
      "2021-05-20 15:06:34,769 - modnet - INFO - Loaded DeBreuck2020Featurizer featurizer.\n",
      "2021-05-20 15:06:34,817 - modnet - INFO - Loaded DeBreuck2020Featurizer featurizer.\n",
      "2021-05-20 15:06:34,853 - modnet - INFO - Loaded DeBreuck2020Featurizer featurizer.\n",
      "2021-05-20 15:06:34,904 - modnet - INFO - Loaded DeBreuck2020Featurizer featurizer.\n",
      "2021-05-20 15:06:35,365 - modnet - INFO - Loaded <modnet.preprocessing.MODData object at 0x7f6a19a8a430> object, created with modnet version 0.1.9\n",
      "2021-05-20 15:06:35,367 - modnet - INFO - Generation number 0\n",
      "2021-05-20 15:06:38,476 - modnet - INFO - Multiprocessing on 20 cores. Total of 32 cores available.\n"
     ]
    },
    {
     "name": "stderr",
     "output_type": "stream",
     "text": [
      "100%|██████████| 100/100 [13:37<00:00,  8.18s/it]"
     ]
    },
    {
     "name": "stdout",
     "output_type": "stream",
     "text": [
      "2021-05-20 15:20:16,412 - modnet - INFO - Loss per individual: ind 0: 0.867 \tind 1: 0.973 \tind 2: 0.921 \tind 3: 1.068 \tind 4: 0.879 \tind 5: 0.938 \tind 6: 0.903 \tind 7: 0.850 \tind 8: 0.951 \tind 9: 0.894 \tind 10: 0.826 \tind 11: 0.863 \tind 12: 0.964 \tind 13: 0.881 \tind 14: 0.864 \tind 15: 0.901 \tind 16: 0.885 \tind 17: 0.981 \tind 18: 0.859 \tind 19: 0.858 \t\n"
     ]
    },
    {
     "name": "stderr",
     "output_type": "stream",
     "text": [
      "\n"
     ]
    },
    {
     "name": "stdout",
     "output_type": "stream",
     "text": [
      "2021-05-20 15:20:19,512 - modnet - INFO - Generation number 1\n",
      "2021-05-20 15:20:23,076 - modnet - INFO - Multiprocessing on 20 cores. Total of 32 cores available.\n"
     ]
    },
    {
     "name": "stderr",
     "output_type": "stream",
     "text": [
      "100%|██████████| 100/100 [11:02<00:00,  6.63s/it] "
     ]
    },
    {
     "name": "stdout",
     "output_type": "stream",
     "text": [
      "2021-05-20 15:31:25,828 - modnet - INFO - Loss per individual: ind 0: 0.893 \tind 1: 0.999 \tind 2: 0.876 \tind 3: 1.159 \tind 4: 0.941 \tind 5: 0.857 \tind 6: 0.874 \tind 7: 0.964 \tind 8: 0.845 \tind 9: 0.934 \tind 10: 0.903 \tind 11: 0.915 \tind 12: 0.900 \tind 13: 0.823 \tind 14: 0.851 \tind 15: 0.886 \tind 16: 0.844 \tind 17: 0.974 \tind 18: 0.856 \tind 19: 1.099 \t\n"
     ]
    },
    {
     "name": "stderr",
     "output_type": "stream",
     "text": [
      "\n"
     ]
    },
    {
     "name": "stdout",
     "output_type": "stream",
     "text": [
      "2021-05-20 15:31:28,480 - modnet - INFO - Generation number 2\n",
      "2021-05-20 15:31:32,433 - modnet - INFO - Multiprocessing on 20 cores. Total of 32 cores available.\n"
     ]
    },
    {
     "name": "stderr",
     "output_type": "stream",
     "text": [
      "100%|██████████| 100/100 [12:35<00:00,  7.56s/it]"
     ]
    },
    {
     "name": "stdout",
     "output_type": "stream",
     "text": [
      "2021-05-20 15:44:08,377 - modnet - INFO - Loss per individual: ind 0: 0.861 \tind 1: 0.860 \tind 2: 0.856 \tind 3: 0.828 \tind 4: 0.940 \tind 5: 0.888 \tind 6: 0.811 \tind 7: 0.912 \tind 8: 0.871 \tind 9: 0.914 \tind 10: 0.856 \tind 11: 0.877 \tind 12: 0.887 \tind 13: 0.880 \tind 14: 0.918 \tind 15: 0.978 \tind 16: 0.857 \tind 17: 0.895 \tind 18: 0.966 \tind 19: 0.900 \t\n"
     ]
    },
    {
     "name": "stderr",
     "output_type": "stream",
     "text": [
      "\n"
     ]
    },
    {
     "name": "stdout",
     "output_type": "stream",
     "text": [
      "2021-05-20 15:44:11,116 - modnet - INFO - Generation number 3\n",
      "2021-05-20 15:44:15,413 - modnet - INFO - Multiprocessing on 20 cores. Total of 32 cores available.\n"
     ]
    },
    {
     "name": "stderr",
     "output_type": "stream",
     "text": [
      "100%|██████████| 100/100 [09:43<00:00,  5.84s/it]"
     ]
    },
    {
     "name": "stdout",
     "output_type": "stream",
     "text": [
      "2021-05-20 15:53:59,169 - modnet - INFO - Loss per individual: ind 0: 0.849 \tind 1: 0.924 \tind 2: 0.876 \tind 3: 0.850 \tind 4: 0.847 \tind 5: 0.998 \tind 6: 0.843 \tind 7: 0.869 \tind 8: 0.958 \tind 9: 0.838 \tind 10: 0.857 \tind 11: 0.957 \tind 12: 0.840 \tind 13: 0.840 \tind 14: 0.972 \tind 15: 0.837 \tind 16: 0.905 \tind 17: 0.837 \tind 18: 0.833 \tind 19: 0.877 \t\n"
     ]
    },
    {
     "name": "stderr",
     "output_type": "stream",
     "text": [
      "\n"
     ]
    },
    {
     "name": "stdout",
     "output_type": "stream",
     "text": [
      "2021-05-20 15:54:01,724 - modnet - INFO - Generation number 4\n",
      "2021-05-20 15:54:06,409 - modnet - INFO - Multiprocessing on 20 cores. Total of 32 cores available.\n"
     ]
    },
    {
     "name": "stderr",
     "output_type": "stream",
     "text": [
      "100%|██████████| 100/100 [08:35<00:00,  5.16s/it]"
     ]
    },
    {
     "name": "stdout",
     "output_type": "stream",
     "text": [
      "2021-05-20 16:02:42,528 - modnet - INFO - Loss per individual: ind 0: 0.843 \tind 1: 0.854 \tind 2: 0.852 \tind 3: 0.956 \tind 4: 0.906 \tind 5: 1.009 \tind 6: 0.887 \tind 7: 0.834 \tind 8: 0.865 \tind 9: 0.866 \tind 10: 0.840 \tind 11: 0.968 \tind 12: 0.898 \tind 13: 0.826 \tind 14: 0.853 \tind 15: 0.897 \tind 16: 1.005 \tind 17: 0.889 \tind 18: 0.877 \tind 19: 0.862 \t\n"
     ]
    },
    {
     "name": "stderr",
     "output_type": "stream",
     "text": [
      "\n"
     ]
    },
    {
     "name": "stdout",
     "output_type": "stream",
     "text": [
      "2021-05-20 16:02:45,076 - modnet - INFO - Generation number 5\n",
      "2021-05-20 16:02:50,844 - modnet - INFO - Multiprocessing on 20 cores. Total of 32 cores available.\n"
     ]
    },
    {
     "name": "stderr",
     "output_type": "stream",
     "text": [
      "100%|██████████| 100/100 [12:47<00:00,  7.67s/it]"
     ]
    },
    {
     "name": "stdout",
     "output_type": "stream",
     "text": [
      "2021-05-20 16:15:38,130 - modnet - INFO - Loss per individual: ind 0: 0.874 \tind 1: 0.864 \tind 2: 0.918 \tind 3: 0.824 \tind 4: 0.842 \tind 5: 0.903 \tind 6: 0.853 \tind 7: 0.848 \tind 8: 0.931 \tind 9: 0.844 \tind 10: 0.869 \tind 11: 0.831 \tind 12: 0.906 \tind 13: 0.850 \tind 14: 0.924 \tind 15: 0.876 \tind 16: 0.870 \tind 17: 0.918 \tind 18: 0.901 \tind 19: 0.823 \t\n"
     ]
    },
    {
     "name": "stderr",
     "output_type": "stream",
     "text": [
      "\n"
     ]
    },
    {
     "name": "stdout",
     "output_type": "stream",
     "text": [
      "2021-05-20 16:15:41,018 - modnet - INFO - Early stopping: same best model for 4 consecutive generations\n",
      " (1/n) Calculating accuracy metrics\n",
      " (2/n) Calculating average calibration metrics\n"
     ]
    },
    {
     "name": "stderr",
     "output_type": "stream",
     "text": [
      "  0%|          | 0/10 [00:00<?, ?it/s]"
     ]
    },
    {
     "name": "stdout",
     "output_type": "stream",
     "text": [
      " (3/n) Calculating adversarial group calibration metrics\n",
      "  [1/2] for mean absolute calibration error\n",
      "Measuring adversarial group calibration by spanning group size between 0.0 and 1.0, in 10 intervals\n"
     ]
    },
    {
     "name": "stderr",
     "output_type": "stream",
     "text": [
      "100%|██████████| 10/10 [00:02<00:00,  4.21it/s]\n",
      "  0%|          | 0/10 [00:00<?, ?it/s]"
     ]
    },
    {
     "name": "stdout",
     "output_type": "stream",
     "text": [
      "  [2/2] for root mean squared calibration error\n",
      "Measuring adversarial group calibration by spanning group size between 0.0 and 1.0, in 10 intervals\n"
     ]
    },
    {
     "name": "stderr",
     "output_type": "stream",
     "text": [
      "100%|██████████| 10/10 [00:02<00:00,  4.22it/s]\n"
     ]
    },
    {
     "name": "stdout",
     "output_type": "stream",
     "text": [
      " (4/n) Calculating sharpness metrics\n",
      " (n/n) Calculating proper scoring rule metrics\n",
      "**Finished Calculating All Metrics**\n",
      "\n",
      "\n",
      "===================== Accuracy Metrics =====================\n",
      "  MAE           0.332\n",
      "  RMSE          0.678\n",
      "  MDAE          0.066\n",
      "  MARPD         146.903\n",
      "  R2            0.399\n",
      "  Correlation   0.647\n",
      "=============== Average Calibration Metrics ================\n",
      "  Root-mean-squared Calibration Error   0.112\n",
      "  Mean-absolute Calibration Error       0.088\n",
      "  Miscalibration Area                   0.089\n",
      "========== Adversarial Group Calibration Metrics ===========\n",
      "  Mean-absolute Adversarial Group Calibration Error\n",
      "     Group Size: 0.11 -- Calibration Error: 0.168\n",
      "     Group Size: 0.56 -- Calibration Error: 0.114\n",
      "     Group Size: 1.00 -- Calibration Error: 0.088\n",
      "  Root-mean-squared Adversarial Group Calibration Error\n",
      "     Group Size: 0.11 -- Calibration Error: 0.195\n",
      "     Group Size: 0.56 -- Calibration Error: 0.135\n",
      "     Group Size: 1.00 -- Calibration Error: 0.112\n",
      "==================== Sharpness Metrics =====================\n",
      "  Sharpness   0.184\n",
      "=================== Scoring Rule Metrics ===================\n",
      "  Negative-log-likelihood   77.332\n",
      "  CRPS                      0.283\n",
      "  Check Score               0.142\n",
      "  Interval Score            2.221\n",
      "MAE =\n",
      "0.33222279051059017\n",
      "uncertainty =\n",
      "0.12359382\n",
      "2021-05-20 16:15:57,947 - modnet - INFO - Loaded <modnet.preprocessing.MODData object at 0x7f67afcd0850> object, created with modnet version 0.1.9\n",
      "2021-05-20 16:15:58,009 - modnet - INFO - Generation number 0\n",
      "2021-05-20 16:16:03,396 - modnet - INFO - Multiprocessing on 20 cores. Total of 32 cores available.\n"
     ]
    },
    {
     "name": "stderr",
     "output_type": "stream",
     "text": [
      "100%|██████████| 100/100 [11:10<00:00,  6.70s/it]"
     ]
    },
    {
     "name": "stdout",
     "output_type": "stream",
     "text": [
      "2021-05-20 16:27:13,984 - modnet - INFO - Loss per individual: ind 0: 8.358 \tind 1: 90.506 \tind 2: 0.964 \tind 3: 0.955 \tind 4: 18.738 \tind 5: 31.249 \tind 6: 0.947 \tind 7: 1.404 \tind 8: 29.454 \tind 9: 11.318 \tind 10: 4.528 \tind 11: 7.596 \tind 12: 0.985 \tind 13: 58.669 \tind 14: 3.540 \tind 15: 25.821 \tind 16: 2.446 \tind 17: 36.225 \tind 18: 7.595 \tind 19: 66.070 \t\n"
     ]
    },
    {
     "name": "stderr",
     "output_type": "stream",
     "text": [
      "\n"
     ]
    },
    {
     "name": "stdout",
     "output_type": "stream",
     "text": [
      "2021-05-20 16:27:16,613 - modnet - INFO - Generation number 1\n",
      "2021-05-20 16:27:21,690 - modnet - INFO - Multiprocessing on 20 cores. Total of 32 cores available.\n"
     ]
    },
    {
     "name": "stderr",
     "output_type": "stream",
     "text": [
      "100%|██████████| 100/100 [07:16<00:00,  4.36s/it]"
     ]
    },
    {
     "name": "stdout",
     "output_type": "stream",
     "text": [
      "2021-05-20 16:34:37,967 - modnet - INFO - Loss per individual: ind 0: 18.620 \tind 1: 0.958 \tind 2: 0.966 \tind 3: 18.338 \tind 4: 0.945 \tind 5: 7.221 \tind 6: 20.713 \tind 7: 0.953 \tind 8: 0.932 \tind 9: 0.971 \tind 10: 2.005 \tind 11: 2.389 \tind 12: 0.998 \tind 13: 0.977 \tind 14: 5.164 \tind 15: 0.967 \tind 16: 2.612 \tind 17: 131.715 \tind 18: 0.944 \tind 19: 0.978 \t\n"
     ]
    },
    {
     "name": "stderr",
     "output_type": "stream",
     "text": [
      "\n"
     ]
    },
    {
     "name": "stdout",
     "output_type": "stream",
     "text": [
      "2021-05-20 16:34:40,965 - modnet - INFO - Generation number 2\n",
      "2021-05-20 16:34:46,242 - modnet - INFO - Multiprocessing on 20 cores. Total of 32 cores available.\n"
     ]
    },
    {
     "name": "stderr",
     "output_type": "stream",
     "text": [
      "100%|██████████| 100/100 [07:06<00:00,  4.27s/it]"
     ]
    },
    {
     "name": "stdout",
     "output_type": "stream",
     "text": [
      "2021-05-20 16:41:53,107 - modnet - INFO - Loss per individual: ind 0: 0.923 \tind 1: 0.984 \tind 2: 14.635 \tind 3: 1.007 \tind 4: 0.959 \tind 5: 3.355 \tind 6: 30.416 \tind 7: 1.002 \tind 8: 0.948 \tind 9: 26.463 \tind 10: 0.947 \tind 11: 105.312 \tind 12: 0.946 \tind 13: 0.958 \tind 14: 0.946 \tind 15: 1.440 \tind 16: 3.076 \tind 17: 0.933 \tind 18: 0.917 \tind 19: 5.790 \t\n"
     ]
    },
    {
     "name": "stderr",
     "output_type": "stream",
     "text": [
      "\n"
     ]
    },
    {
     "name": "stdout",
     "output_type": "stream",
     "text": [
      "2021-05-20 16:41:55,674 - modnet - INFO - Generation number 3\n",
      "2021-05-20 16:42:01,649 - modnet - INFO - Multiprocessing on 20 cores. Total of 32 cores available.\n"
     ]
    },
    {
     "name": "stderr",
     "output_type": "stream",
     "text": [
      "100%|██████████| 100/100 [08:26<00:00,  5.07s/it]"
     ]
    },
    {
     "name": "stdout",
     "output_type": "stream",
     "text": [
      "2021-05-20 16:50:28,418 - modnet - INFO - Loss per individual: ind 0: 0.945 \tind 1: 0.931 \tind 2: 0.945 \tind 3: 0.978 \tind 4: 0.979 \tind 5: 1.008 \tind 6: 1.019 \tind 7: 0.934 \tind 8: 0.995 \tind 9: 5.088 \tind 10: 1.853 \tind 11: 0.953 \tind 12: 0.925 \tind 13: 1.437 \tind 14: 0.917 \tind 15: 0.913 \tind 16: 0.914 \tind 17: 0.935 \tind 18: 7.878 \tind 19: 1.323 \t\n"
     ]
    },
    {
     "name": "stderr",
     "output_type": "stream",
     "text": [
      "\n"
     ]
    },
    {
     "name": "stdout",
     "output_type": "stream",
     "text": [
      "2021-05-20 16:50:31,258 - modnet - INFO - Generation number 4\n",
      "2021-05-20 16:50:36,570 - modnet - INFO - Multiprocessing on 20 cores. Total of 32 cores available.\n"
     ]
    },
    {
     "name": "stderr",
     "output_type": "stream",
     "text": [
      "100%|██████████| 100/100 [09:14<00:00,  5.55s/it]"
     ]
    },
    {
     "name": "stdout",
     "output_type": "stream",
     "text": [
      "2021-05-20 16:59:51,420 - modnet - INFO - Loss per individual: ind 0: 11.750 \tind 1: 0.948 \tind 2: 0.930 \tind 3: 0.927 \tind 4: 0.963 \tind 5: 2.188 \tind 6: 0.930 \tind 7: 0.921 \tind 8: 0.919 \tind 9: 0.931 \tind 10: 12.096 \tind 11: 0.929 \tind 12: 0.964 \tind 13: 0.946 \tind 14: 0.917 \tind 15: 0.935 \tind 16: 0.948 \tind 17: 0.936 \tind 18: 0.968 \tind 19: 1.139 \t\n"
     ]
    },
    {
     "name": "stderr",
     "output_type": "stream",
     "text": [
      "\n"
     ]
    },
    {
     "name": "stdout",
     "output_type": "stream",
     "text": [
      "2021-05-20 16:59:53,696 - modnet - INFO - Generation number 5\n",
      "2021-05-20 17:00:00,015 - modnet - INFO - Multiprocessing on 20 cores. Total of 32 cores available.\n"
     ]
    },
    {
     "name": "stderr",
     "output_type": "stream",
     "text": [
      "100%|██████████| 100/100 [06:56<00:00,  4.16s/it]"
     ]
    },
    {
     "name": "stdout",
     "output_type": "stream",
     "text": [
      "2021-05-20 17:06:56,310 - modnet - INFO - Loss per individual: ind 0: 0.945 \tind 1: 0.956 \tind 2: 0.935 \tind 3: 0.936 \tind 4: 0.951 \tind 5: 0.986 \tind 6: 1.006 \tind 7: 0.968 \tind 8: 0.960 \tind 9: 0.939 \tind 10: 1.150 \tind 11: 0.917 \tind 12: 5.984 \tind 13: 0.939 \tind 14: 0.912 \tind 15: 0.946 \tind 16: 0.919 \tind 17: 1.108 \tind 18: 1.005 \tind 19: 0.914 \t\n"
     ]
    },
    {
     "name": "stderr",
     "output_type": "stream",
     "text": [
      "\n"
     ]
    },
    {
     "name": "stdout",
     "output_type": "stream",
     "text": [
      "2021-05-20 17:06:59,350 - modnet - INFO - Generation number 6\n",
      "2021-05-20 17:07:05,307 - modnet - INFO - Multiprocessing on 20 cores. Total of 32 cores available.\n"
     ]
    },
    {
     "name": "stderr",
     "output_type": "stream",
     "text": [
      "100%|██████████| 100/100 [08:21<00:00,  5.01s/it]"
     ]
    },
    {
     "name": "stdout",
     "output_type": "stream",
     "text": [
      "2021-05-20 17:15:26,848 - modnet - INFO - Loss per individual: ind 0: 0.935 \tind 1: 0.966 \tind 2: 1.171 \tind 3: 0.952 \tind 4: 0.955 \tind 5: 0.936 \tind 6: 0.940 \tind 7: 0.940 \tind 8: 0.973 \tind 9: 0.933 \tind 10: 0.956 \tind 11: 0.983 \tind 12: 0.909 \tind 13: 0.971 \tind 14: 0.918 \tind 15: 0.976 \tind 16: 0.996 \tind 17: 0.969 \tind 18: 0.956 \tind 19: 0.945 \t\n"
     ]
    },
    {
     "name": "stderr",
     "output_type": "stream",
     "text": [
      "\n"
     ]
    },
    {
     "name": "stdout",
     "output_type": "stream",
     "text": [
      "2021-05-20 17:15:29,781 - modnet - INFO - Generation number 7\n",
      "2021-05-20 17:15:36,873 - modnet - INFO - Multiprocessing on 20 cores. Total of 32 cores available.\n"
     ]
    },
    {
     "name": "stderr",
     "output_type": "stream",
     "text": [
      "100%|██████████| 100/100 [07:23<00:00,  4.43s/it]"
     ]
    },
    {
     "name": "stdout",
     "output_type": "stream",
     "text": [
      "2021-05-20 17:23:00,248 - modnet - INFO - Loss per individual: ind 0: 0.914 \tind 1: 2.279 \tind 2: 0.948 \tind 3: 0.976 \tind 4: 1.021 \tind 5: 0.954 \tind 6: 0.958 \tind 7: 0.946 \tind 8: 0.916 \tind 9: 0.928 \tind 10: 0.942 \tind 11: 1.077 \tind 12: 0.914 \tind 13: 1.999 \tind 14: 0.927 \tind 15: 0.956 \tind 16: 0.940 \tind 17: 0.956 \tind 18: 0.954 \tind 19: 0.926 \t\n"
     ]
    },
    {
     "name": "stderr",
     "output_type": "stream",
     "text": [
      "\n"
     ]
    },
    {
     "name": "stdout",
     "output_type": "stream",
     "text": [
      "2021-05-20 17:23:02,803 - modnet - INFO - Generation number 8\n",
      "2021-05-20 17:23:09,689 - modnet - INFO - Multiprocessing on 20 cores. Total of 32 cores available.\n"
     ]
    },
    {
     "name": "stderr",
     "output_type": "stream",
     "text": [
      "100%|██████████| 100/100 [07:48<00:00,  4.68s/it]"
     ]
    },
    {
     "name": "stdout",
     "output_type": "stream",
     "text": [
      "2021-05-20 17:30:58,101 - modnet - INFO - Loss per individual: ind 0: 0.997 \tind 1: 0.922 \tind 2: 0.950 \tind 3: 0.931 \tind 4: 0.932 \tind 5: 1.777 \tind 6: 0.904 \tind 7: 0.946 \tind 8: 0.945 \tind 9: 1.825 \tind 10: 0.987 \tind 11: 2.532 \tind 12: 0.942 \tind 13: 0.977 \tind 14: 0.936 \tind 15: 0.987 \tind 16: 1.100 \tind 17: 4.027 \tind 18: 0.926 \tind 19: 0.931 \t\n"
     ]
    },
    {
     "name": "stderr",
     "output_type": "stream",
     "text": [
      "\n"
     ]
    },
    {
     "name": "stdout",
     "output_type": "stream",
     "text": [
      "2021-05-20 17:31:00,710 - modnet - INFO - Generation number 9\n",
      "2021-05-20 17:31:08,151 - modnet - INFO - Multiprocessing on 20 cores. Total of 32 cores available.\n"
     ]
    },
    {
     "name": "stderr",
     "output_type": "stream",
     "text": [
      "100%|██████████| 100/100 [07:56<00:00,  4.77s/it]"
     ]
    },
    {
     "name": "stdout",
     "output_type": "stream",
     "text": [
      "2021-05-20 17:39:04,867 - modnet - INFO - Loss per individual: ind 0: 0.955 \tind 1: 0.945 \tind 2: 0.910 \tind 3: 0.969 \tind 4: 0.966 \tind 5: 0.970 \tind 6: 0.965 \tind 7: 0.903 \tind 8: 0.928 \tind 9: 2.428 \tind 10: 0.944 \tind 11: 0.921 \tind 12: 1.006 \tind 13: 0.933 \tind 14: 0.925 \tind 15: 0.941 \tind 16: 41.620 \tind 17: 0.928 \tind 18: 0.970 \tind 19: 0.941 \t\n"
     ]
    },
    {
     "name": "stderr",
     "output_type": "stream",
     "text": [
      "\n"
     ]
    },
    {
     "name": "stdout",
     "output_type": "stream",
     "text": [
      " (1/n) Calculating accuracy metrics\n",
      " (2/n) Calculating average calibration metrics\n"
     ]
    },
    {
     "name": "stderr",
     "output_type": "stream",
     "text": [
      "  0%|          | 0/10 [00:00<?, ?it/s]"
     ]
    },
    {
     "name": "stdout",
     "output_type": "stream",
     "text": [
      " (3/n) Calculating adversarial group calibration metrics\n",
      "  [1/2] for mean absolute calibration error\n",
      "Measuring adversarial group calibration by spanning group size between 0.0 and 1.0, in 10 intervals\n"
     ]
    },
    {
     "name": "stderr",
     "output_type": "stream",
     "text": [
      "100%|██████████| 10/10 [00:02<00:00,  4.62it/s]\n",
      "  0%|          | 0/10 [00:00<?, ?it/s]"
     ]
    },
    {
     "name": "stdout",
     "output_type": "stream",
     "text": [
      "  [2/2] for root mean squared calibration error\n",
      "Measuring adversarial group calibration by spanning group size between 0.0 and 1.0, in 10 intervals\n"
     ]
    },
    {
     "name": "stderr",
     "output_type": "stream",
     "text": [
      "100%|██████████| 10/10 [00:02<00:00,  4.62it/s]\n"
     ]
    },
    {
     "name": "stdout",
     "output_type": "stream",
     "text": [
      " (4/n) Calculating sharpness metrics\n",
      " (n/n) Calculating proper scoring rule metrics\n",
      "**Finished Calculating All Metrics**\n",
      "\n",
      "\n",
      "===================== Accuracy Metrics =====================\n",
      "  MAE           0.285\n",
      "  RMSE          0.632\n",
      "  MDAE          0.029\n",
      "  MARPD         148.770\n",
      "  R2            0.390\n",
      "  Correlation   0.626\n",
      "=============== Average Calibration Metrics ================\n",
      "  Root-mean-squared Calibration Error   0.151\n",
      "  Mean-absolute Calibration Error       0.139\n",
      "  Miscalibration Area                   0.141\n",
      "========== Adversarial Group Calibration Metrics ===========\n",
      "  Mean-absolute Adversarial Group Calibration Error\n",
      "     Group Size: 0.11 -- Calibration Error: 0.197\n",
      "     Group Size: 0.56 -- Calibration Error: 0.157\n",
      "     Group Size: 1.00 -- Calibration Error: 0.139\n",
      "  Root-mean-squared Adversarial Group Calibration Error\n",
      "     Group Size: 0.11 -- Calibration Error: 0.219\n",
      "     Group Size: 0.56 -- Calibration Error: 0.168\n",
      "     Group Size: 1.00 -- Calibration Error: 0.151\n",
      "==================== Sharpness Metrics =====================\n",
      "  Sharpness   0.212\n",
      "=================== Scoring Rule Metrics ===================\n",
      "  Negative-log-likelihood   6.391\n",
      "  CRPS                      0.235\n",
      "  Check Score               0.118\n",
      "  Interval Score            1.701\n",
      "MAE =\n",
      "0.28476675746517927\n",
      "uncertainty =\n",
      "0.14253537\n",
      "2021-05-20 17:39:29,977 - modnet - INFO - Loaded <modnet.preprocessing.MODData object at 0x7f666d655340> object, created with modnet version 0.1.9\n",
      "2021-05-20 17:39:30,037 - modnet - INFO - Generation number 0\n",
      "2021-05-20 17:39:37,662 - modnet - INFO - Multiprocessing on 20 cores. Total of 32 cores available.\n"
     ]
    },
    {
     "name": "stderr",
     "output_type": "stream",
     "text": [
      "100%|██████████| 100/100 [13:55<00:00,  8.36s/it]"
     ]
    },
    {
     "name": "stdout",
     "output_type": "stream",
     "text": [
      "2021-05-20 17:53:33,435 - modnet - INFO - Loss per individual: ind 0: 0.890 \tind 1: 3.017 \tind 2: 0.855 \tind 3: 1.279 \tind 4: 1.290 \tind 5: 0.896 \tind 6: 1.025 \tind 7: 0.960 \tind 8: 1.701 \tind 9: 0.919 \tind 10: 0.916 \tind 11: 0.942 \tind 12: 3.094 \tind 13: 1.455 \tind 14: 0.975 \tind 15: 0.896 \tind 16: 0.972 \tind 17: 0.949 \tind 18: 0.878 \tind 19: 0.919 \t\n"
     ]
    },
    {
     "name": "stderr",
     "output_type": "stream",
     "text": [
      "\n"
     ]
    },
    {
     "name": "stdout",
     "output_type": "stream",
     "text": [
      "2021-05-20 17:53:35,767 - modnet - INFO - Generation number 1\n",
      "2021-05-20 17:53:43,602 - modnet - INFO - Multiprocessing on 20 cores. Total of 32 cores available.\n"
     ]
    },
    {
     "name": "stderr",
     "output_type": "stream",
     "text": [
      "100%|██████████| 100/100 [11:37<00:00,  6.97s/it]"
     ]
    },
    {
     "name": "stdout",
     "output_type": "stream",
     "text": [
      "2021-05-20 18:05:20,833 - modnet - INFO - Loss per individual: ind 0: 0.943 \tind 1: 0.863 \tind 2: 0.894 \tind 3: 0.902 \tind 4: 0.959 \tind 5: 0.936 \tind 6: 0.933 \tind 7: 0.914 \tind 8: 0.915 \tind 9: 0.942 \tind 10: 0.959 \tind 11: 1.225 \tind 12: 0.877 \tind 13: 0.963 \tind 14: 0.852 \tind 15: 0.936 \tind 16: 0.869 \tind 17: 0.917 \tind 18: 0.895 \tind 19: 0.955 \t\n"
     ]
    },
    {
     "name": "stderr",
     "output_type": "stream",
     "text": [
      "\n"
     ]
    },
    {
     "name": "stdout",
     "output_type": "stream",
     "text": [
      "2021-05-20 18:05:23,533 - modnet - INFO - Generation number 2\n",
      "2021-05-20 18:05:30,004 - modnet - INFO - Multiprocessing on 20 cores. Total of 32 cores available.\n"
     ]
    },
    {
     "name": "stderr",
     "output_type": "stream",
     "text": [
      "100%|██████████| 100/100 [14:05<00:00,  8.45s/it]"
     ]
    },
    {
     "name": "stdout",
     "output_type": "stream",
     "text": [
      "2021-05-20 18:19:35,623 - modnet - INFO - Loss per individual: ind 0: 0.898 \tind 1: 1.001 \tind 2: 0.853 \tind 3: 0.923 \tind 4: 0.934 \tind 5: 0.874 \tind 6: 1.016 \tind 7: 0.940 \tind 8: 0.961 \tind 9: 0.917 \tind 10: 0.932 \tind 11: 0.947 \tind 12: 0.962 \tind 13: 0.914 \tind 14: 1.162 \tind 15: 0.882 \tind 16: 0.909 \tind 17: 0.912 \tind 18: 0.960 \tind 19: 0.922 \t\n"
     ]
    },
    {
     "name": "stderr",
     "output_type": "stream",
     "text": [
      "\n"
     ]
    },
    {
     "name": "stdout",
     "output_type": "stream",
     "text": [
      "2021-05-20 18:19:38,628 - modnet - INFO - Generation number 3\n",
      "2021-05-20 18:19:45,332 - modnet - INFO - Multiprocessing on 20 cores. Total of 32 cores available.\n"
     ]
    },
    {
     "name": "stderr",
     "output_type": "stream",
     "text": [
      "100%|██████████| 100/100 [11:36<00:00,  6.96s/it]"
     ]
    },
    {
     "name": "stdout",
     "output_type": "stream",
     "text": [
      "2021-05-20 18:31:21,816 - modnet - INFO - Loss per individual: ind 0: 0.966 \tind 1: 0.891 \tind 2: 0.964 \tind 3: 0.943 \tind 4: 0.885 \tind 5: 0.952 \tind 6: 8.672 \tind 7: 0.897 \tind 8: 0.917 \tind 9: 0.958 \tind 10: 0.932 \tind 11: 0.911 \tind 12: 0.938 \tind 13: 0.910 \tind 14: 0.927 \tind 15: 0.859 \tind 16: 0.924 \tind 17: 0.960 \tind 18: 0.885 \tind 19: 0.918 \t\n"
     ]
    },
    {
     "name": "stderr",
     "output_type": "stream",
     "text": [
      "\n"
     ]
    },
    {
     "name": "stdout",
     "output_type": "stream",
     "text": [
      "2021-05-20 18:31:24,054 - modnet - INFO - Generation number 4\n",
      "2021-05-20 18:31:31,765 - modnet - INFO - Multiprocessing on 20 cores. Total of 32 cores available.\n"
     ]
    },
    {
     "name": "stderr",
     "output_type": "stream",
     "text": [
      "100%|██████████| 100/100 [11:52<00:00,  7.12s/it]"
     ]
    },
    {
     "name": "stdout",
     "output_type": "stream",
     "text": [
      "2021-05-20 18:43:24,030 - modnet - INFO - Loss per individual: ind 0: 0.909 \tind 1: 0.949 \tind 2: 0.901 \tind 3: 0.987 \tind 4: 0.927 \tind 5: 0.947 \tind 6: 0.863 \tind 7: 0.927 \tind 8: 0.869 \tind 9: 0.914 \tind 10: 0.954 \tind 11: 0.996 \tind 12: 0.957 \tind 13: 1.117 \tind 14: 0.878 \tind 15: 0.929 \tind 16: 0.938 \tind 17: 0.874 \tind 18: 0.897 \tind 19: 0.912 \t\n"
     ]
    },
    {
     "name": "stderr",
     "output_type": "stream",
     "text": [
      "\n"
     ]
    },
    {
     "name": "stdout",
     "output_type": "stream",
     "text": [
      "2021-05-20 18:43:26,641 - modnet - INFO - Early stopping: same best model for 4 consecutive generations\n",
      " (1/n) Calculating accuracy metrics\n",
      " (2/n) Calculating average calibration metrics\n"
     ]
    },
    {
     "name": "stderr",
     "output_type": "stream",
     "text": [
      "  0%|          | 0/10 [00:00<?, ?it/s]"
     ]
    },
    {
     "name": "stdout",
     "output_type": "stream",
     "text": [
      " (3/n) Calculating adversarial group calibration metrics\n",
      "  [1/2] for mean absolute calibration error\n",
      "Measuring adversarial group calibration by spanning group size between 0.0 and 1.0, in 10 intervals\n"
     ]
    },
    {
     "name": "stderr",
     "output_type": "stream",
     "text": [
      "100%|██████████| 10/10 [00:02<00:00,  4.47it/s]\n",
      "  0%|          | 0/10 [00:00<?, ?it/s]"
     ]
    },
    {
     "name": "stdout",
     "output_type": "stream",
     "text": [
      "  [2/2] for root mean squared calibration error\n",
      "Measuring adversarial group calibration by spanning group size between 0.0 and 1.0, in 10 intervals\n"
     ]
    },
    {
     "name": "stderr",
     "output_type": "stream",
     "text": [
      "100%|██████████| 10/10 [00:02<00:00,  4.37it/s]\n"
     ]
    },
    {
     "name": "stdout",
     "output_type": "stream",
     "text": [
      " (4/n) Calculating sharpness metrics\n",
      " (n/n) Calculating proper scoring rule metrics\n",
      "**Finished Calculating All Metrics**\n",
      "\n",
      "\n",
      "===================== Accuracy Metrics =====================\n",
      "  MAE           0.319\n",
      "  RMSE          0.697\n",
      "  MDAE          0.018\n",
      "  MARPD         150.064\n",
      "  R2            0.451\n",
      "  Correlation   0.675\n",
      "=============== Average Calibration Metrics ================\n",
      "  Root-mean-squared Calibration Error   0.110\n",
      "  Mean-absolute Calibration Error       0.094\n",
      "  Miscalibration Area                   0.095\n",
      "========== Adversarial Group Calibration Metrics ===========\n",
      "  Mean-absolute Adversarial Group Calibration Error\n",
      "     Group Size: 0.11 -- Calibration Error: 0.161\n",
      "     Group Size: 0.56 -- Calibration Error: 0.116\n",
      "     Group Size: 1.00 -- Calibration Error: 0.094\n",
      "  Root-mean-squared Adversarial Group Calibration Error\n",
      "     Group Size: 0.11 -- Calibration Error: 0.178\n",
      "     Group Size: 0.56 -- Calibration Error: 0.127\n",
      "     Group Size: 1.00 -- Calibration Error: 0.110\n",
      "==================== Sharpness Metrics =====================\n",
      "  Sharpness   0.252\n",
      "=================== Scoring Rule Metrics ===================\n",
      "  Negative-log-likelihood   94.744\n",
      "  CRPS                      0.258\n",
      "  Check Score               0.130\n",
      "  Interval Score            1.811\n",
      "MAE =\n",
      "0.31888674067908535\n",
      "uncertainty =\n",
      "0.15704803\n",
      "2021-05-20 18:43:39,768 - modnet - INFO - Loaded <modnet.preprocessing.MODData object at 0x7f68e8f89ee0> object, created with modnet version 0.1.9\n",
      "2021-05-20 18:43:39,820 - modnet - INFO - Generation number 0\n",
      "2021-05-20 18:43:46,764 - modnet - INFO - Multiprocessing on 20 cores. Total of 32 cores available.\n"
     ]
    },
    {
     "name": "stderr",
     "output_type": "stream",
     "text": [
      "100%|██████████| 100/100 [11:35<00:00,  6.96s/it]"
     ]
    },
    {
     "name": "stdout",
     "output_type": "stream",
     "text": [
      "2021-05-20 18:55:22,647 - modnet - INFO - Loss per individual: ind 0: 0.922 \tind 1: 1.024 \tind 2: 1.045 \tind 3: 1.081 \tind 4: 1.107 \tind 5: 0.926 \tind 6: 0.976 \tind 7: 1.136 \tind 8: 0.915 \tind 9: 0.968 \tind 10: 0.996 \tind 11: 0.991 \tind 12: 1.067 \tind 13: 0.886 \tind 14: 1.007 \tind 15: 1.154 \tind 16: 0.974 \tind 17: 0.952 \tind 18: 0.997 \tind 19: 0.932 \t\n"
     ]
    },
    {
     "name": "stderr",
     "output_type": "stream",
     "text": [
      "\n"
     ]
    },
    {
     "name": "stdout",
     "output_type": "stream",
     "text": [
      "2021-05-20 18:55:25,473 - modnet - INFO - Generation number 1\n",
      "2021-05-20 18:55:33,303 - modnet - INFO - Multiprocessing on 20 cores. Total of 32 cores available.\n"
     ]
    },
    {
     "name": "stderr",
     "output_type": "stream",
     "text": [
      "100%|██████████| 100/100 [10:13<00:00,  6.13s/it]"
     ]
    },
    {
     "name": "stdout",
     "output_type": "stream",
     "text": [
      "2021-05-20 19:05:46,625 - modnet - INFO - Loss per individual: ind 0: 0.989 \tind 1: 0.971 \tind 2: 0.941 \tind 3: 1.023 \tind 4: 1.041 \tind 5: 1.155 \tind 6: 0.912 \tind 7: 0.907 \tind 8: 0.965 \tind 9: 0.905 \tind 10: 0.944 \tind 11: 1.131 \tind 12: 1.048 \tind 13: 1.001 \tind 14: 1.158 \tind 15: 0.919 \tind 16: 1.110 \tind 17: 0.934 \tind 18: 0.992 \tind 19: 1.019 \t\n"
     ]
    },
    {
     "name": "stderr",
     "output_type": "stream",
     "text": [
      "\n"
     ]
    },
    {
     "name": "stdout",
     "output_type": "stream",
     "text": [
      "2021-05-20 19:05:48,973 - modnet - INFO - Generation number 2\n",
      "2021-05-20 19:05:56,593 - modnet - INFO - Multiprocessing on 20 cores. Total of 32 cores available.\n"
     ]
    },
    {
     "name": "stderr",
     "output_type": "stream",
     "text": [
      "100%|██████████| 100/100 [10:28<00:00,  6.28s/it]"
     ]
    },
    {
     "name": "stdout",
     "output_type": "stream",
     "text": [
      "2021-05-20 19:16:25,135 - modnet - INFO - Loss per individual: ind 0: 0.940 \tind 1: 0.902 \tind 2: 0.968 \tind 3: 0.952 \tind 4: 1.165 \tind 5: 1.014 \tind 6: 0.960 \tind 7: 0.922 \tind 8: 1.001 \tind 9: 0.906 \tind 10: 1.027 \tind 11: 0.929 \tind 12: 0.965 \tind 13: 0.952 \tind 14: 0.999 \tind 15: 0.963 \tind 16: 0.945 \tind 17: 0.913 \tind 18: 1.011 \tind 19: 0.902 \t\n"
     ]
    },
    {
     "name": "stderr",
     "output_type": "stream",
     "text": [
      "\n"
     ]
    },
    {
     "name": "stdout",
     "output_type": "stream",
     "text": [
      "2021-05-20 19:16:27,888 - modnet - INFO - Generation number 3\n",
      "2021-05-20 19:16:34,655 - modnet - INFO - Multiprocessing on 20 cores. Total of 32 cores available.\n"
     ]
    },
    {
     "name": "stderr",
     "output_type": "stream",
     "text": [
      "100%|██████████| 100/100 [10:12<00:00,  6.12s/it]"
     ]
    },
    {
     "name": "stdout",
     "output_type": "stream",
     "text": [
      "2021-05-20 19:26:47,236 - modnet - INFO - Loss per individual: ind 0: 0.988 \tind 1: 0.941 \tind 2: 1.042 \tind 3: 0.981 \tind 4: 1.038 \tind 5: 0.966 \tind 6: 0.913 \tind 7: 0.974 \tind 8: 0.993 \tind 9: 0.923 \tind 10: 1.067 \tind 11: 1.022 \tind 12: 0.934 \tind 13: 0.907 \tind 14: 0.919 \tind 15: 0.907 \tind 16: 0.910 \tind 17: 0.962 \tind 18: 0.966 \tind 19: 0.986 \t\n"
     ]
    },
    {
     "name": "stderr",
     "output_type": "stream",
     "text": [
      "\n"
     ]
    },
    {
     "name": "stdout",
     "output_type": "stream",
     "text": [
      "2021-05-20 19:26:50,014 - modnet - INFO - Early stopping: same best model for 4 consecutive generations\n",
      " (1/n) Calculating accuracy metrics\n",
      " (2/n) Calculating average calibration metrics\n"
     ]
    },
    {
     "name": "stderr",
     "output_type": "stream",
     "text": [
      "  0%|          | 0/10 [00:00<?, ?it/s]"
     ]
    },
    {
     "name": "stdout",
     "output_type": "stream",
     "text": [
      " (3/n) Calculating adversarial group calibration metrics\n",
      "  [1/2] for mean absolute calibration error\n",
      "Measuring adversarial group calibration by spanning group size between 0.0 and 1.0, in 10 intervals\n"
     ]
    },
    {
     "name": "stderr",
     "output_type": "stream",
     "text": [
      "100%|██████████| 10/10 [00:02<00:00,  4.52it/s]\n",
      "  0%|          | 0/10 [00:00<?, ?it/s]"
     ]
    },
    {
     "name": "stdout",
     "output_type": "stream",
     "text": [
      "  [2/2] for root mean squared calibration error\n",
      "Measuring adversarial group calibration by spanning group size between 0.0 and 1.0, in 10 intervals\n"
     ]
    },
    {
     "name": "stderr",
     "output_type": "stream",
     "text": [
      "100%|██████████| 10/10 [00:02<00:00,  4.49it/s]\n"
     ]
    },
    {
     "name": "stdout",
     "output_type": "stream",
     "text": [
      " (4/n) Calculating sharpness metrics\n",
      " (n/n) Calculating proper scoring rule metrics\n",
      "**Finished Calculating All Metrics**\n",
      "\n",
      "\n",
      "===================== Accuracy Metrics =====================\n",
      "  MAE           0.283\n",
      "  RMSE          0.690\n",
      "  MDAE          0.018\n",
      "  MARPD         152.243\n",
      "  R2            0.271\n",
      "  Correlation   0.559\n",
      "=============== Average Calibration Metrics ================\n",
      "  Root-mean-squared Calibration Error   0.079\n",
      "  Mean-absolute Calibration Error       0.064\n",
      "  Miscalibration Area                   0.064\n",
      "========== Adversarial Group Calibration Metrics ===========\n",
      "  Mean-absolute Adversarial Group Calibration Error\n",
      "     Group Size: 0.11 -- Calibration Error: 0.123\n",
      "     Group Size: 0.56 -- Calibration Error: 0.081\n",
      "     Group Size: 1.00 -- Calibration Error: 0.064\n",
      "  Root-mean-squared Adversarial Group Calibration Error\n",
      "     Group Size: 0.11 -- Calibration Error: 0.142\n",
      "     Group Size: 0.56 -- Calibration Error: 0.099\n",
      "     Group Size: 1.00 -- Calibration Error: 0.079\n",
      "==================== Sharpness Metrics =====================\n",
      "  Sharpness   0.253\n",
      "=================== Scoring Rule Metrics ===================\n",
      "  Negative-log-likelihood   28.332\n",
      "  CRPS                      0.232\n",
      "  Check Score               0.117\n",
      "  Interval Score            1.693\n",
      "MAE =\n",
      "0.28262384427342696\n",
      "uncertainty =\n",
      "0.14324321\n",
      "2021-05-20 19:27:02,517 - modnet - INFO - Loaded <modnet.preprocessing.MODData object at 0x7f6655e64220> object, created with modnet version 0.1.9\n",
      "2021-05-20 19:27:02,579 - modnet - INFO - Generation number 0\n",
      "2021-05-20 19:27:08,812 - modnet - INFO - Multiprocessing on 20 cores. Total of 32 cores available.\n"
     ]
    },
    {
     "name": "stderr",
     "output_type": "stream",
     "text": [
      "100%|██████████| 100/100 [10:10<00:00,  6.10s/it]"
     ]
    },
    {
     "name": "stdout",
     "output_type": "stream",
     "text": [
      "2021-05-20 19:37:19,154 - modnet - INFO - Loss per individual: ind 0: 1.024 \tind 1: 1.173 \tind 2: 1.143 \tind 3: 1.027 \tind 4: 1.055 \tind 5: 1.062 \tind 6: 1.039 \tind 7: 1.120 \tind 8: 1.534 \tind 9: 1.142 \tind 10: 1.028 \tind 11: 0.973 \tind 12: 0.975 \tind 13: 1.086 \tind 14: 0.966 \tind 15: 1.084 \tind 16: 1.012 \tind 17: 1.193 \tind 18: 1.042 \tind 19: 1.030 \t\n"
     ]
    },
    {
     "name": "stderr",
     "output_type": "stream",
     "text": [
      "\n"
     ]
    },
    {
     "name": "stdout",
     "output_type": "stream",
     "text": [
      "2021-05-20 19:37:21,777 - modnet - INFO - Generation number 1\n",
      "2021-05-20 19:37:28,017 - modnet - INFO - Multiprocessing on 20 cores. Total of 32 cores available.\n"
     ]
    },
    {
     "name": "stderr",
     "output_type": "stream",
     "text": [
      "100%|██████████| 100/100 [11:59<00:00,  7.19s/it]"
     ]
    },
    {
     "name": "stdout",
     "output_type": "stream",
     "text": [
      "2021-05-20 19:49:27,318 - modnet - INFO - Loss per individual: ind 0: 1.066 \tind 1: 1.104 \tind 2: 1.074 \tind 3: 0.993 \tind 4: 1.018 \tind 5: 1.101 \tind 6: 1.058 \tind 7: 1.039 \tind 8: 1.101 \tind 9: 1.055 \tind 10: 1.110 \tind 11: 0.978 \tind 12: 1.043 \tind 13: 0.976 \tind 14: 1.040 \tind 15: 1.081 \tind 16: 1.029 \tind 17: 0.975 \tind 18: 1.082 \tind 19: 1.003 \t\n"
     ]
    },
    {
     "name": "stderr",
     "output_type": "stream",
     "text": [
      "\n"
     ]
    },
    {
     "name": "stdout",
     "output_type": "stream",
     "text": [
      "2021-05-20 19:49:29,956 - modnet - INFO - Generation number 2\n",
      "2021-05-20 19:49:36,478 - modnet - INFO - Multiprocessing on 20 cores. Total of 32 cores available.\n"
     ]
    },
    {
     "name": "stderr",
     "output_type": "stream",
     "text": [
      "100%|██████████| 100/100 [11:38<00:00,  6.98s/it]"
     ]
    },
    {
     "name": "stdout",
     "output_type": "stream",
     "text": [
      "2021-05-20 20:01:15,007 - modnet - INFO - Loss per individual: ind 0: 1.023 \tind 1: 1.094 \tind 2: 1.026 \tind 3: 1.037 \tind 4: 0.990 \tind 5: 1.062 \tind 6: 0.948 \tind 7: 1.024 \tind 8: 1.078 \tind 9: 1.072 \tind 10: 0.995 \tind 11: 1.117 \tind 12: 1.009 \tind 13: 1.050 \tind 14: 0.995 \tind 15: 1.098 \tind 16: 1.149 \tind 17: 1.076 \tind 18: 1.013 \tind 19: 1.237 \t\n"
     ]
    },
    {
     "name": "stderr",
     "output_type": "stream",
     "text": [
      "\n"
     ]
    },
    {
     "name": "stdout",
     "output_type": "stream",
     "text": [
      "2021-05-20 20:01:17,774 - modnet - INFO - Generation number 3\n",
      "2021-05-20 20:01:24,975 - modnet - INFO - Multiprocessing on 20 cores. Total of 32 cores available.\n"
     ]
    },
    {
     "name": "stderr",
     "output_type": "stream",
     "text": [
      "100%|██████████| 100/100 [08:32<00:00,  5.12s/it]"
     ]
    },
    {
     "name": "stdout",
     "output_type": "stream",
     "text": [
      "2021-05-20 20:09:57,464 - modnet - INFO - Loss per individual: ind 0: 0.958 \tind 1: 1.142 \tind 2: 1.038 \tind 3: 1.011 \tind 4: 1.205 \tind 5: 1.020 \tind 6: 0.988 \tind 7: 0.957 \tind 8: 1.006 \tind 9: 1.020 \tind 10: 1.047 \tind 11: 0.978 \tind 12: 1.006 \tind 13: 0.968 \tind 14: 1.371 \tind 15: 0.988 \tind 16: 1.144 \tind 17: 1.261 \tind 18: 0.970 \tind 19: 0.968 \t\n"
     ]
    },
    {
     "name": "stderr",
     "output_type": "stream",
     "text": [
      "\n"
     ]
    },
    {
     "name": "stdout",
     "output_type": "stream",
     "text": [
      "2021-05-20 20:10:00,193 - modnet - INFO - Generation number 4\n",
      "2021-05-20 20:10:08,252 - modnet - INFO - Multiprocessing on 20 cores. Total of 32 cores available.\n"
     ]
    },
    {
     "name": "stderr",
     "output_type": "stream",
     "text": [
      "100%|██████████| 100/100 [11:35<00:00,  6.95s/it]"
     ]
    },
    {
     "name": "stdout",
     "output_type": "stream",
     "text": [
      "2021-05-20 20:21:43,817 - modnet - INFO - Loss per individual: ind 0: 0.944 \tind 1: 1.000 \tind 2: 0.957 \tind 3: 0.988 \tind 4: 0.996 \tind 5: 0.946 \tind 6: 1.132 \tind 7: 0.985 \tind 8: 1.042 \tind 9: 1.004 \tind 10: 1.075 \tind 11: 1.025 \tind 12: 0.984 \tind 13: 1.005 \tind 14: 1.189 \tind 15: 1.119 \tind 16: 0.976 \tind 17: 0.968 \tind 18: 1.093 \tind 19: 1.380 \t\n"
     ]
    },
    {
     "name": "stderr",
     "output_type": "stream",
     "text": [
      "\n"
     ]
    },
    {
     "name": "stdout",
     "output_type": "stream",
     "text": [
      "2021-05-20 20:21:46,798 - modnet - INFO - Generation number 5\n",
      "2021-05-20 20:21:53,918 - modnet - INFO - Multiprocessing on 20 cores. Total of 32 cores available.\n"
     ]
    },
    {
     "name": "stderr",
     "output_type": "stream",
     "text": [
      "100%|██████████| 100/100 [07:44<00:00,  4.64s/it]"
     ]
    },
    {
     "name": "stdout",
     "output_type": "stream",
     "text": [
      "2021-05-20 20:29:38,346 - modnet - INFO - Loss per individual: ind 0: 1.013 \tind 1: 1.178 \tind 2: 0.989 \tind 3: 1.029 \tind 4: 1.021 \tind 5: 0.958 \tind 6: 1.020 \tind 7: 1.040 \tind 8: 0.972 \tind 9: 1.049 \tind 10: 0.991 \tind 11: 1.073 \tind 12: 1.056 \tind 13: 0.923 \tind 14: 1.154 \tind 15: 1.021 \tind 16: 1.095 \tind 17: 1.439 \tind 18: 1.022 \tind 19: 1.166 \t\n"
     ]
    },
    {
     "name": "stderr",
     "output_type": "stream",
     "text": [
      "\n"
     ]
    },
    {
     "name": "stdout",
     "output_type": "stream",
     "text": [
      "2021-05-20 20:29:40,926 - modnet - INFO - Generation number 6\n",
      "2021-05-20 20:29:49,011 - modnet - INFO - Multiprocessing on 20 cores. Total of 32 cores available.\n"
     ]
    },
    {
     "name": "stderr",
     "output_type": "stream",
     "text": [
      "100%|██████████| 100/100 [09:12<00:00,  5.53s/it]"
     ]
    },
    {
     "name": "stdout",
     "output_type": "stream",
     "text": [
      "2021-05-20 20:39:01,673 - modnet - INFO - Loss per individual: ind 0: 0.952 \tind 1: 1.008 \tind 2: 1.009 \tind 3: 1.126 \tind 4: 1.007 \tind 5: 1.027 \tind 6: 1.228 \tind 7: 1.057 \tind 8: 1.106 \tind 9: 0.998 \tind 10: 0.957 \tind 11: 1.033 \tind 12: 0.981 \tind 13: 1.023 \tind 14: 0.961 \tind 15: 1.023 \tind 16: 1.032 \tind 17: 0.947 \tind 18: 0.974 \tind 19: 1.038 \t\n"
     ]
    },
    {
     "name": "stderr",
     "output_type": "stream",
     "text": [
      "\n"
     ]
    },
    {
     "name": "stdout",
     "output_type": "stream",
     "text": [
      "2021-05-20 20:39:03,762 - modnet - INFO - Generation number 7\n",
      "2021-05-20 20:39:12,478 - modnet - INFO - Multiprocessing on 20 cores. Total of 32 cores available.\n"
     ]
    },
    {
     "name": "stderr",
     "output_type": "stream",
     "text": [
      "100%|██████████| 100/100 [08:14<00:00,  4.95s/it]"
     ]
    },
    {
     "name": "stdout",
     "output_type": "stream",
     "text": [
      "2021-05-20 20:47:27,455 - modnet - INFO - Loss per individual: ind 0: 1.035 \tind 1: 1.117 \tind 2: 1.011 \tind 3: 0.939 \tind 4: 1.033 \tind 5: 1.149 \tind 6: 0.998 \tind 7: 0.972 \tind 8: 1.020 \tind 9: 1.099 \tind 10: 1.058 \tind 11: 1.085 \tind 12: 1.052 \tind 13: 1.032 \tind 14: 0.991 \tind 15: 1.014 \tind 16: 0.994 \tind 17: 1.077 \tind 18: 1.040 \tind 19: 1.014 \t\n"
     ]
    },
    {
     "name": "stderr",
     "output_type": "stream",
     "text": [
      "\n"
     ]
    },
    {
     "name": "stdout",
     "output_type": "stream",
     "text": [
      "2021-05-20 20:47:29,792 - modnet - INFO - Generation number 8\n",
      "2021-05-20 20:47:38,471 - modnet - INFO - Multiprocessing on 20 cores. Total of 32 cores available.\n"
     ]
    },
    {
     "name": "stderr",
     "output_type": "stream",
     "text": [
      "100%|██████████| 100/100 [09:15<00:00,  5.56s/it]"
     ]
    },
    {
     "name": "stdout",
     "output_type": "stream",
     "text": [
      "2021-05-20 20:56:54,312 - modnet - INFO - Loss per individual: ind 0: 0.948 \tind 1: 0.947 \tind 2: 1.097 \tind 3: 0.956 \tind 4: 1.038 \tind 5: 1.282 \tind 6: 1.004 \tind 7: 1.001 \tind 8: 1.057 \tind 9: 1.010 \tind 10: 0.960 \tind 11: 1.007 \tind 12: 1.022 \tind 13: 1.146 \tind 14: 1.033 \tind 15: 0.940 \tind 16: 1.008 \tind 17: 1.003 \tind 18: 1.124 \tind 19: 0.936 \t\n"
     ]
    },
    {
     "name": "stderr",
     "output_type": "stream",
     "text": [
      "\n"
     ]
    },
    {
     "name": "stdout",
     "output_type": "stream",
     "text": [
      "2021-05-20 20:56:56,665 - modnet - INFO - Early stopping: same best model for 4 consecutive generations\n",
      " (1/n) Calculating accuracy metrics\n",
      " (2/n) Calculating average calibration metrics\n"
     ]
    },
    {
     "name": "stderr",
     "output_type": "stream",
     "text": [
      "  0%|          | 0/10 [00:00<?, ?it/s]"
     ]
    },
    {
     "name": "stdout",
     "output_type": "stream",
     "text": [
      " (3/n) Calculating adversarial group calibration metrics\n",
      "  [1/2] for mean absolute calibration error\n",
      "Measuring adversarial group calibration by spanning group size between 0.0 and 1.0, in 10 intervals\n"
     ]
    },
    {
     "name": "stderr",
     "output_type": "stream",
     "text": [
      "100%|██████████| 10/10 [00:02<00:00,  4.69it/s]\n",
      "  0%|          | 0/10 [00:00<?, ?it/s]"
     ]
    },
    {
     "name": "stdout",
     "output_type": "stream",
     "text": [
      "  [2/2] for root mean squared calibration error\n",
      "Measuring adversarial group calibration by spanning group size between 0.0 and 1.0, in 10 intervals\n"
     ]
    },
    {
     "name": "stderr",
     "output_type": "stream",
     "text": [
      "100%|██████████| 10/10 [00:02<00:00,  4.66it/s]"
     ]
    },
    {
     "name": "stdout",
     "output_type": "stream",
     "text": [
      " (4/n) Calculating sharpness metrics\n",
      " (n/n) Calculating proper scoring rule metrics\n",
      "**Finished Calculating All Metrics**\n",
      "\n",
      "\n",
      "===================== Accuracy Metrics =====================\n",
      "  MAE           0.186\n",
      "  RMSE          0.410\n",
      "  MDAE          0.010\n",
      "  MARPD         155.946\n",
      "  R2            0.496\n",
      "  Correlation   0.719\n",
      "=============== Average Calibration Metrics ================\n",
      "  Root-mean-squared Calibration Error   0.084\n",
      "  Mean-absolute Calibration Error       0.070\n",
      "  Miscalibration Area                   0.070\n",
      "========== Adversarial Group Calibration Metrics ===========\n",
      "  Mean-absolute Adversarial Group Calibration Error\n",
      "     Group Size: 0.11 -- Calibration Error: 0.112\n",
      "     Group Size: 0.56 -- Calibration Error: 0.082\n",
      "     Group Size: 1.00 -- Calibration Error: 0.070\n",
      "  Root-mean-squared Adversarial Group Calibration Error\n",
      "     Group Size: 0.11 -- Calibration Error: 0.139\n",
      "     Group Size: 0.56 -- Calibration Error: 0.100\n",
      "     Group Size: 1.00 -- Calibration Error: 0.084\n",
      "==================== Sharpness Metrics =====================\n",
      "  Sharpness   0.194\n",
      "=================== Scoring Rule Metrics ===================\n",
      "  Negative-log-likelihood   8.901\n",
      "  CRPS                      0.148\n",
      "  Check Score               0.075\n",
      "  Interval Score            1.025\n",
      "MAE =\n",
      "0.1855918411496365\n",
      "uncertainty =\n",
      "0.11988797\n"
     ]
    },
    {
     "name": "stderr",
     "output_type": "stream",
     "text": [
      "\n"
     ]
    }
   ],
   "source": [
    "import uncertainty_toolbox as uct\n",
    "\n",
    "k = 5\n",
    "random_state = 202010\n",
    "folds = MDKsplit(md_joint,n_splits=k,random_state=random_state)\n",
    "errors = np.ones((int(len(md_joint.df_targets)/k),5))\n",
    "maes = np.ones(5)\n",
    "uncertainties = np.ones(5)\n",
    "metricss = []\n",
    "for i,f in enumerate(folds):\n",
    "    train = f[0]\n",
    "    test = f[1]\n",
    "    #train.feature_selection(n=-1, use_precomputed_cross_nmi=True)\n",
    "    fpath = 'train_joint_exp-pbe_{}_{}'.format(random_state,i+1)\n",
    "    if os.path.exists(fpath):\n",
    "        train = MODData.load(fpath)\n",
    "    else:\n",
    "        train.feature_selection(n=-1, use_precomputed_cross_nmi=True)\n",
    "        train.save(fpath)\n",
    "       \n",
    "    # assure no overlap\n",
    "    assert len(set(train.df_targets.index).intersection(set(test.df_targets.index))) == 0\n",
    "    \n",
    "    # difference prediction\n",
    "    ga = FitGenetic(train)\n",
    "    model = ga.run(size_pop=20, num_generations=10, n_jobs=20)\n",
    "    \n",
    "    pred, std = model.predict(test, return_unc=True)\n",
    "    true = test.df_targets\n",
    "    true = true.drop(columns=['exp_gap','pbe_gap'])\n",
    "    metrics = uct.metrics.get_all_metrics(pred['difference'].values, std['difference'].values, true['difference'].values)\n",
    "    error = pred-true\n",
    "    error = error['difference'].drop(pred.index[((pred['difference']).abs()>20)]) # drop unrealistic values: happens extremely rarely\n",
    "    std = std['difference'].drop(std.index[((std['difference']).abs()>20)]) # drop unrealistic values: happens extremely rarely\n",
    "    mae = np.abs(error.values).mean()\n",
    "    uncertainty = np.abs(std).mean()\n",
    "    print('MAE =')\n",
    "    print(mae)\n",
    "    print('uncertainty =')\n",
    "    print(uncertainty)\n",
    "    maes[i] = mae\n",
    "    uncertainties[i] = uncertainty\n",
    "    metricss.append(metrics)"
   ]
  },
  {
   "cell_type": "code",
   "execution_count": 10,
   "metadata": {
    "ExecuteTime": {
     "end_time": "2021-05-20T18:57:16.066210Z",
     "start_time": "2021-05-20T18:57:16.058635Z"
    }
   },
   "outputs": [
    {
     "data": {
      "text/plain": [
       "array([0.33222279, 0.28476676, 0.31888674, 0.28262384, 0.18559184])"
      ]
     },
     "execution_count": 10,
     "metadata": {},
     "output_type": "execute_result"
    }
   ],
   "source": [
    "maes"
   ]
  },
  {
   "cell_type": "code",
   "execution_count": 11,
   "metadata": {
    "ExecuteTime": {
     "end_time": "2021-05-20T18:57:16.078167Z",
     "start_time": "2021-05-20T18:57:16.068922Z"
    }
   },
   "outputs": [
    {
     "data": {
      "text/plain": [
       "0.2808183948155837"
      ]
     },
     "execution_count": 11,
     "metadata": {},
     "output_type": "execute_result"
    }
   ],
   "source": [
    "maes.mean()"
   ]
  },
  {
   "cell_type": "code",
   "execution_count": 12,
   "metadata": {
    "ExecuteTime": {
     "end_time": "2021-05-20T18:57:16.084925Z",
     "start_time": "2021-05-20T18:57:16.080446Z"
    }
   },
   "outputs": [
    {
     "data": {
      "text/plain": [
       "array([0.12359382, 0.14253537, 0.15704803, 0.14324321, 0.11988797])"
      ]
     },
     "execution_count": 12,
     "metadata": {},
     "output_type": "execute_result"
    }
   ],
   "source": [
    "uncertainties"
   ]
  },
  {
   "cell_type": "code",
   "execution_count": 13,
   "metadata": {
    "ExecuteTime": {
     "end_time": "2021-05-20T18:57:16.090951Z",
     "start_time": "2021-05-20T18:57:16.086784Z"
    }
   },
   "outputs": [
    {
     "data": {
      "text/plain": [
       "0.13726168125867844"
      ]
     },
     "execution_count": 13,
     "metadata": {},
     "output_type": "execute_result"
    }
   ],
   "source": [
    "uncertainties.mean()"
   ]
  },
  {
   "cell_type": "code",
   "execution_count": 14,
   "metadata": {
    "ExecuteTime": {
     "end_time": "2021-05-20T18:57:16.116406Z",
     "start_time": "2021-05-20T18:57:16.092729Z"
    }
   },
   "outputs": [
    {
     "data": {
      "text/plain": [
       "[{'accuracy': {'mae': 0.33222279051059017,\n",
       "   'rmse': 0.6776748256732111,\n",
       "   'mdae': 0.0662896976470948,\n",
       "   'marpd': 146.9026570534816,\n",
       "   'r2': 0.39913545425355534,\n",
       "   'corr': 0.6472028851931801},\n",
       "  'avg_calibration': {'rms_cal': 0.11160391760585173,\n",
       "   'ma_cal': 0.08823721081785602,\n",
       "   'miscal_area': 0.08911120047164932},\n",
       "  'adv_group_calibration': {'ma_adv_group_cal': {'group_sizes': array([0.        , 0.11111111, 0.22222222, 0.33333333, 0.44444444,\n",
       "           0.55555556, 0.66666667, 0.77777778, 0.88888889, 1.        ]),\n",
       "    'adv_group_cali_mean': array([0.43464646, 0.16839208, 0.13844949, 0.12402578, 0.11737287,\n",
       "           0.11417893, 0.10807097, 0.10096897, 0.09919762, 0.08823721]),\n",
       "    'adv_group_cali_stderr': array([5.94006196e-02, 2.81425271e-02, 1.60758724e-02, 1.66081478e-02,\n",
       "           8.17050025e-03, 1.13574325e-02, 6.94458359e-03, 5.16110525e-03,\n",
       "           4.17516084e-03, 1.46284728e-17])},\n",
       "   'rms_adv_group_cal': {'group_sizes': array([0.        , 0.11111111, 0.22222222, 0.33333333, 0.44444444,\n",
       "           0.55555556, 0.66666667, 0.77777778, 0.88888889, 1.        ]),\n",
       "    'adv_group_cali_mean': array([0.51408669, 0.19507447, 0.18064943, 0.15030071, 0.14409655,\n",
       "           0.13545204, 0.12635034, 0.12577942, 0.12017855, 0.11160392]),\n",
       "    'adv_group_cali_stderr': array([5.40128378e-02, 2.76217375e-02, 2.44425092e-02, 1.17806285e-02,\n",
       "           1.27661139e-02, 1.38403467e-02, 5.77688595e-03, 5.16252986e-03,\n",
       "           3.16812500e-03, 1.46284728e-17])}},\n",
       "  'sharpness': {'sharp': 0.18414953},\n",
       "  'scoring_rule': {'nll': 77.33235858557414,\n",
       "   'crps': 0.28306113709202213,\n",
       "   'check': 0.14228113236392398,\n",
       "   'interval': 2.221097498403933}},\n",
       " {'accuracy': {'mae': 0.28476675746517927,\n",
       "   'rmse': 0.632008596596265,\n",
       "   'mdae': 0.029314788055420316,\n",
       "   'marpd': 148.76987458007403,\n",
       "   'r2': 0.39042081186258015,\n",
       "   'corr': 0.6258257981133133},\n",
       "  'avg_calibration': {'rms_cal': 0.15137297694701404,\n",
       "   'ma_cal': 0.13923753665689154,\n",
       "   'miscal_area': 0.14064397642110243},\n",
       "  'adv_group_calibration': {'ma_adv_group_cal': {'group_sizes': array([0.        , 0.11111111, 0.22222222, 0.33333333, 0.44444444,\n",
       "           0.55555556, 0.66666667, 0.77777778, 0.88888889, 1.        ]),\n",
       "    'adv_group_cali_mean': array([0.43161111, 0.19701223, 0.1815    , 0.16812281, 0.16001316,\n",
       "           0.15651323, 0.15406608, 0.15049057, 0.14685149, 0.13923754]),\n",
       "    'adv_group_cali_stderr': array([6.53080513e-02, 1.87540712e-02, 1.29180181e-02, 9.24330009e-03,\n",
       "           8.30644323e-03, 7.47156436e-03, 5.10092720e-03, 4.94274005e-03,\n",
       "           3.22837587e-03, 2.92569456e-17])},\n",
       "   'rms_adv_group_cal': {'group_sizes': array([0.        , 0.11111111, 0.22222222, 0.33333333, 0.44444444,\n",
       "           0.55555556, 0.66666667, 0.77777778, 0.88888889, 1.        ]),\n",
       "    'adv_group_cali_mean': array([0.45084058, 0.21908554, 0.19503506, 0.18421392, 0.17407198,\n",
       "           0.16803857, 0.16839098, 0.16411804, 0.15877521, 0.15137298]),\n",
       "    'adv_group_cali_stderr': array([0.08669652, 0.01493231, 0.01445176, 0.01142611, 0.00751498,\n",
       "           0.00450429, 0.00549103, 0.00328321, 0.00215377, 0.        ])}},\n",
       "  'sharpness': {'sharp': 0.2124455},\n",
       "  'scoring_rule': {'nll': 6.391285344812215,\n",
       "   'crps': 0.23479524103116794,\n",
       "   'check': 0.11816635729768321,\n",
       "   'interval': 1.7010302597997538}},\n",
       " {'accuracy': {'mae': 0.31888674067908535,\n",
       "   'rmse': 0.6970075283120661,\n",
       "   'mdae': 0.018398038005829065,\n",
       "   'marpd': 150.06441143840453,\n",
       "   'r2': 0.45076464638689684,\n",
       "   'corr': 0.675286266382169},\n",
       "  'avg_calibration': {'rms_cal': 0.10955796711544069,\n",
       "   'ma_cal': 0.09442815249266866,\n",
       "   'miscal_area': 0.09538197221481688},\n",
       "  'adv_group_calibration': {'ma_adv_group_cal': {'group_sizes': array([0.        , 0.11111111, 0.22222222, 0.33333333, 0.44444444,\n",
       "           0.55555556, 0.66666667, 0.77777778, 0.88888889, 1.        ]),\n",
       "    'adv_group_cali_mean': array([0.36914141, 0.16081579, 0.13355263, 0.12862547, 0.12190789,\n",
       "           0.1157672 , 0.11045374, 0.10546038, 0.10344884, 0.09442815]),\n",
       "    'adv_group_cali_stderr': array([0.08872144, 0.01988403, 0.02030252, 0.01982162, 0.01025674,\n",
       "           0.00540754, 0.00655196, 0.00289806, 0.00218688, 0.        ])},\n",
       "   'rms_adv_group_cal': {'group_sizes': array([0.        , 0.11111111, 0.22222222, 0.33333333, 0.44444444,\n",
       "           0.55555556, 0.66666667, 0.77777778, 0.88888889, 1.        ]),\n",
       "    'adv_group_cali_mean': array([0.50249767, 0.17805111, 0.15624595, 0.14111115, 0.12879584,\n",
       "           0.12666927, 0.12349272, 0.12018081, 0.11574494, 0.10955797]),\n",
       "    'adv_group_cali_stderr': array([1.04233054e-01, 2.53970794e-02, 2.29792578e-02, 7.44905202e-03,\n",
       "           8.32492521e-03, 4.88034823e-03, 4.49986565e-03, 4.24309016e-03,\n",
       "           2.52774306e-03, 1.46284728e-17])}},\n",
       "  'sharpness': {'sharp': 0.25238243},\n",
       "  'scoring_rule': {'nll': 94.74411282341764,\n",
       "   'crps': 0.2581766051218856,\n",
       "   'check': 0.1299685037906068,\n",
       "   'interval': 1.8111858611937364}},\n",
       " {'accuracy': {'mae': 0.28262384427342696,\n",
       "   'rmse': 0.6896667569283035,\n",
       "   'mdae': 0.01833015766441809,\n",
       "   'marpd': 152.24324228015382,\n",
       "   'r2': 0.27136930868236286,\n",
       "   'corr': 0.5586126606157269},\n",
       "  'avg_calibration': {'rms_cal': 0.07855267283673911,\n",
       "   'ma_cal': 0.06376886512180632,\n",
       "   'miscal_area': 0.06437218826924712},\n",
       "  'adv_group_calibration': {'ma_adv_group_cal': {'group_sizes': array([0.        , 0.11111111, 0.22222222, 0.33333333, 0.44444444,\n",
       "           0.55555556, 0.66666667, 0.77777778, 0.88888889, 1.        ]),\n",
       "    'adv_group_cali_mean': array([0.40705556, 0.1231244 , 0.09296903, 0.10150121, 0.09004087,\n",
       "           0.08136556, 0.07880363, 0.07557197, 0.07014245, 0.06376887]),\n",
       "    'adv_group_cali_stderr': array([0.05664208, 0.02554301, 0.00719124, 0.0102048 , 0.00956705,\n",
       "           0.00868775, 0.00504518, 0.00614743, 0.00282018, 0.        ])},\n",
       "   'rms_adv_group_cal': {'group_sizes': array([0.        , 0.11111111, 0.22222222, 0.33333333, 0.44444444,\n",
       "           0.55555556, 0.66666667, 0.77777778, 0.88888889, 1.        ]),\n",
       "    'adv_group_cali_mean': array([0.50024634, 0.14191987, 0.12403537, 0.11055701, 0.10778202,\n",
       "           0.09925926, 0.09517429, 0.09065509, 0.08513608, 0.07855267]),\n",
       "    'adv_group_cali_stderr': array([8.30312956e-02, 2.14001884e-02, 1.25968557e-02, 1.73202745e-02,\n",
       "           1.15349226e-02, 7.05369839e-03, 4.67212908e-03, 4.61536517e-03,\n",
       "           1.67075992e-03, 1.46284728e-17])}},\n",
       "  'sharpness': {'sharp': 0.25284678},\n",
       "  'scoring_rule': {'nll': 28.331594529511772,\n",
       "   'crps': 0.23173147618489498,\n",
       "   'check': 0.11657546087700738,\n",
       "   'interval': 1.693355990187499}},\n",
       " {'accuracy': {'mae': 0.1855918411496365,\n",
       "   'rmse': 0.41048879100897495,\n",
       "   'mdae': 0.010278202593326569,\n",
       "   'marpd': 155.94589813454837,\n",
       "   'r2': 0.49624533829322204,\n",
       "   'corr': 0.7191801448398911},\n",
       "  'avg_calibration': {'rms_cal': 0.08375582147656424,\n",
       "   'ma_cal': 0.0695427807486631,\n",
       "   'miscal_area': 0.07019642490556886},\n",
       "  'adv_group_calibration': {'ma_adv_group_cal': {'group_sizes': array([0.        , 0.11111111, 0.22222222, 0.33333333, 0.44444444,\n",
       "           0.55555556, 0.66666667, 0.77777778, 0.88888889, 1.        ]),\n",
       "    'adv_group_cali_mean': array([0.35838384, 0.11210207, 0.09045362, 0.08815893, 0.08130678,\n",
       "           0.08233862, 0.07739741, 0.07504545, 0.07338983, 0.06954278]),\n",
       "    'adv_group_cali_stderr': array([4.97482695e-02, 1.21701236e-02, 8.43967664e-03, 6.34730386e-03,\n",
       "           3.87826067e-03, 5.38291801e-03, 1.86694632e-03, 1.71630705e-03,\n",
       "           2.20803597e-03, 1.46284728e-17])},\n",
       "   'rms_adv_group_cal': {'group_sizes': array([0.        , 0.11111111, 0.22222222, 0.33333333, 0.44444444,\n",
       "           0.55555556, 0.66666667, 0.77777778, 0.88888889, 1.        ]),\n",
       "    'adv_group_cali_mean': array([0.45109425, 0.13876652, 0.12029954, 0.11288395, 0.10272931,\n",
       "           0.09955552, 0.09796855, 0.0918466 , 0.0892894 , 0.08375582]),\n",
       "    'adv_group_cali_stderr': array([0.08871831, 0.03187087, 0.01772785, 0.00846382, 0.00583141,\n",
       "           0.00695203, 0.00532028, 0.00371266, 0.00242052, 0.        ])}},\n",
       "  'sharpness': {'sharp': 0.19423203},\n",
       "  'scoring_rule': {'nll': 8.901028255482503,\n",
       "   'crps': 0.1480376368430246,\n",
       "   'check': 0.07453873089110527,\n",
       "   'interval': 1.0250659641647812}}]"
      ]
     },
     "execution_count": 14,
     "metadata": {},
     "output_type": "execute_result"
    }
   ],
   "source": [
    "metricss"
   ]
  },
  {
   "cell_type": "markdown",
   "metadata": {},
   "source": [
    "#### Conclusion"
   ]
  },
  {
   "cell_type": "markdown",
   "metadata": {},
   "source": [
    "Relative percentage change of the error compared to MODNet_exp_GA reference: 19%"
   ]
  }
 ],
 "metadata": {
  "kernelspec": {
   "display_name": "Python [conda env:modnet-develop]",
   "language": "python",
   "name": "conda-env-modnet-develop-py"
  },
  "language_info": {
   "codemirror_mode": {
    "name": "ipython",
    "version": 3
   },
   "file_extension": ".py",
   "mimetype": "text/x-python",
   "name": "python",
   "nbconvert_exporter": "python",
   "pygments_lexer": "ipython3",
   "version": "3.8.5"
  }
 },
 "nbformat": 4,
 "nbformat_minor": 4
}
