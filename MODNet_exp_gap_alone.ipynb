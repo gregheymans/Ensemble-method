{
 "cells": [
  {
   "cell_type": "markdown",
   "metadata": {
    "ExecuteTime": {
     "end_time": "2021-02-03T11:45:15.346116Z",
     "start_time": "2021-02-03T11:45:15.273111Z"
    }
   },
   "source": [
    "# MODNet on experimental dataset "
   ]
  },
  {
   "cell_type": "markdown",
   "metadata": {},
   "source": [
    "MODNet model on the experimental dataset alone. This model is used as our benchmark in this Ensemble Methods repository."
   ]
  },
  {
   "cell_type": "code",
   "execution_count": 1,
   "metadata": {
    "ExecuteTime": {
     "end_time": "2021-02-03T11:45:10.973614Z",
     "start_time": "2021-02-03T11:43:35.366849Z"
    }
   },
   "outputs": [],
   "source": [
    "from modnet.preprocessing import MODData\n",
    "from modnet.models import MODNetModel\n",
    "import numpy as np\n",
    "import os\n",
    "import copy"
   ]
  },
  {
   "cell_type": "code",
   "execution_count": 2,
   "metadata": {
    "ExecuteTime": {
     "end_time": "2021-02-03T11:45:10.992398Z",
     "start_time": "2021-02-03T11:45:10.977765Z"
    }
   },
   "outputs": [],
   "source": [
    "from sklearn.model_selection import KFold\n",
    "from modnet.preprocessing import MODData\n",
    "\n",
    "def shuffle_MD(data,random_state=10):\n",
    "    data = copy.deepcopy(data)\n",
    "    ids = data.df_targets.sample(frac=1,random_state=random_state).index\n",
    "    data.df_featurized = data.df_featurized.loc[ids]\n",
    "    data.df_targets = data.df_targets.loc[ids]\n",
    "    data.df_structure = data.df_structure.loc[ids]\n",
    "    \n",
    "    return data\n",
    "\n",
    "def MDKsplit(data,n_splits=5,random_state=10):\n",
    "    data = shuffle_MD(data,random_state=random_state)\n",
    "    ids = np.array(data.structure_ids)\n",
    "    kf = KFold(n_splits=n_splits,shuffle=True,random_state=random_state)\n",
    "    folds = []\n",
    "    for train_idx, val_idx in kf.split(ids):\n",
    "        data_train = MODData(data.df_structure.iloc[train_idx]['structure'].values,data.df_targets.iloc[train_idx].values,target_names=data.df_targets.columns,structure_ids=ids[train_idx])\n",
    "        data_train.df_featurized = data.df_featurized.iloc[train_idx]\n",
    "        #data_train.optimal_features = data.optimal_features\n",
    "        \n",
    "        data_val = MODData(data.df_structure.iloc[val_idx]['structure'].values,data.df_targets.iloc[val_idx].values,target_names=data.df_targets.columns,structure_ids=ids[val_idx])\n",
    "        data_val.df_featurized = data.df_featurized.iloc[val_idx]\n",
    "        #data_val.optimal_features = data.optimal_features\n",
    "\n",
    "        folds.append((data_train,data_val))\n",
    "        \n",
    "    return folds"
   ]
  },
  {
   "cell_type": "code",
   "execution_count": 3,
   "metadata": {
    "ExecuteTime": {
     "end_time": "2021-02-03T11:45:15.271152Z",
     "start_time": "2021-02-03T11:45:10.995784Z"
    }
   },
   "outputs": [
    {
     "name": "stdout",
     "output_type": "stream",
     "text": [
      "\n",
      "If you use the ChemEnv tool for your research, please consider citing the following reference(s) :\n",
      "==================================================================================================\n",
      "David Waroquiers, Xavier Gonze, Gian-Marco Rignanese, Cathrin Welker-Nieuwoudt, Frank Rosowski,\n",
      "Michael Goebel, Stephan Schenk, Peter Degelmann, Rute Andre, Robert Glaum, and Geoffroy Hautier,\n",
      "\"Statistical analysis of coordination environments in oxides\",\n",
      "Chem. Mater., 2017, 29 (19), pp 8346-8360,\n",
      "DOI: 10.1021/acs.chemmater.7b02766\n",
      "\n"
     ]
    },
    {
     "name": "stderr",
     "output_type": "stream",
     "text": [
      "INFO:root:Loaded <modnet.preprocessing.MODData object at 0x7f719b8dd0a0> object, created with modnet version <=0.1.7\n"
     ]
    }
   ],
   "source": [
    "md = MODData.load('exp_gap_all')"
   ]
  },
  {
   "cell_type": "code",
   "execution_count": 5,
   "metadata": {
    "ExecuteTime": {
     "end_time": "2021-02-03T12:35:42.402298Z",
     "start_time": "2021-02-03T11:45:15.347858Z"
    }
   },
   "outputs": [
    {
     "name": "stderr",
     "output_type": "stream",
     "text": [
      "INFO:root:Loaded DeBreuck2020Featurizer featurizer.\n",
      "INFO:root:Loaded DeBreuck2020Featurizer featurizer.\n",
      "INFO:root:Loaded DeBreuck2020Featurizer featurizer.\n",
      "INFO:root:Loaded DeBreuck2020Featurizer featurizer.\n",
      "INFO:root:Loaded DeBreuck2020Featurizer featurizer.\n",
      "INFO:root:Loaded DeBreuck2020Featurizer featurizer.\n",
      "INFO:root:Loaded DeBreuck2020Featurizer featurizer.\n",
      "INFO:root:Loaded DeBreuck2020Featurizer featurizer.\n",
      "INFO:root:Loaded DeBreuck2020Featurizer featurizer.\n",
      "INFO:root:Loaded DeBreuck2020Featurizer featurizer.\n",
      "INFO:root:Loaded <modnet.preprocessing.MODData object at 0x7f716877f430> object, created with modnet version 0.1.8~develop\n",
      "INFO:root:Training preset #1/16\n",
      "INFO:root:Compiling model...\n",
      "INFO:root:Fitting model...\n",
      "INFO:root:Validation loss: 0.342\n",
      "INFO:root:Training preset #2/16\n",
      "INFO:root:Compiling model...\n",
      "INFO:root:Fitting model...\n",
      "INFO:root:Validation loss: 0.402\n",
      "INFO:root:Training preset #3/16\n",
      "INFO:root:Compiling model...\n",
      "INFO:root:Fitting model...\n",
      "INFO:root:Validation loss: 0.319\n",
      "INFO:root:Training preset #4/16\n",
      "INFO:root:Compiling model...\n",
      "INFO:root:Fitting model...\n",
      "INFO:root:Validation loss: 0.362\n",
      "INFO:root:Training preset #5/16\n",
      "INFO:root:Compiling model...\n",
      "INFO:root:Fitting model...\n",
      "INFO:root:Validation loss: 0.363\n",
      "INFO:root:Training preset #6/16\n",
      "INFO:root:Compiling model...\n",
      "INFO:root:Fitting model...\n",
      "INFO:root:Validation loss: 0.374\n",
      "INFO:root:Training preset #7/16\n",
      "INFO:root:Compiling model...\n",
      "INFO:root:Fitting model...\n",
      "INFO:root:Validation loss: 0.326\n",
      "INFO:root:Training preset #8/16\n",
      "INFO:root:Compiling model...\n",
      "INFO:root:Fitting model...\n",
      "INFO:root:Validation loss: 0.343\n",
      "INFO:root:Training preset #9/16\n",
      "INFO:root:Compiling model...\n",
      "INFO:root:Fitting model...\n",
      "INFO:root:Validation loss: 0.351\n",
      "INFO:root:Training preset #10/16\n",
      "INFO:root:Compiling model...\n",
      "INFO:root:Fitting model...\n",
      "INFO:root:Validation loss: 0.368\n",
      "INFO:root:Training preset #11/16\n",
      "INFO:root:Compiling model...\n",
      "INFO:root:Fitting model...\n",
      "INFO:root:Validation loss: 0.318\n",
      "INFO:root:Training preset #12/16\n",
      "INFO:root:Compiling model...\n",
      "INFO:root:Fitting model...\n",
      "INFO:root:Validation loss: 0.328\n",
      "INFO:root:Training preset #13/16\n",
      "INFO:root:Compiling model...\n",
      "INFO:root:Fitting model...\n",
      "INFO:root:Validation loss: 0.365\n",
      "INFO:root:Training preset #14/16\n",
      "INFO:root:Compiling model...\n",
      "INFO:root:Fitting model...\n",
      "INFO:root:Validation loss: 0.355\n",
      "INFO:root:Training preset #15/16\n",
      "INFO:root:Compiling model...\n",
      "INFO:root:Fitting model...\n",
      "INFO:root:Validation loss: 0.325\n",
      "INFO:root:Training preset #16/16\n",
      "INFO:root:Compiling model...\n",
      "INFO:root:Fitting model...\n",
      "INFO:root:Validation loss: 0.337\n",
      "INFO:root:Preset #11 resulted in lowest validation loss.\n",
      "Fitting all data...\n",
      "INFO:root:Compiling model...\n",
      "INFO:root:Fitting model...\n"
     ]
    },
    {
     "name": "stdout",
     "output_type": "stream",
     "text": [
      "0.4430654950947201\n"
     ]
    },
    {
     "name": "stderr",
     "output_type": "stream",
     "text": [
      "INFO:root:Loaded <modnet.preprocessing.MODData object at 0x7f7133940dc0> object, created with modnet version 0.1.8~develop\n",
      "INFO:root:Training preset #1/16\n",
      "INFO:root:Compiling model...\n",
      "INFO:root:Fitting model...\n",
      "INFO:root:Validation loss: 0.349\n",
      "INFO:root:Training preset #2/16\n",
      "INFO:root:Compiling model...\n",
      "INFO:root:Fitting model...\n",
      "INFO:root:Validation loss: 0.404\n",
      "INFO:root:Training preset #3/16\n",
      "INFO:root:Compiling model...\n",
      "INFO:root:Fitting model...\n",
      "INFO:root:Validation loss: 0.321\n",
      "INFO:root:Training preset #4/16\n",
      "INFO:root:Compiling model...\n",
      "INFO:root:Fitting model...\n",
      "INFO:root:Validation loss: 0.373\n",
      "INFO:root:Training preset #5/16\n",
      "INFO:root:Compiling model...\n",
      "INFO:root:Fitting model...\n",
      "INFO:root:Validation loss: 0.358\n",
      "INFO:root:Training preset #6/16\n",
      "INFO:root:Compiling model...\n",
      "INFO:root:Fitting model...\n",
      "INFO:root:Validation loss: 0.386\n",
      "INFO:root:Training preset #7/16\n",
      "INFO:root:Compiling model...\n",
      "INFO:root:Fitting model...\n",
      "INFO:root:Validation loss: 0.297\n",
      "INFO:root:Training preset #8/16\n",
      "INFO:root:Compiling model...\n",
      "INFO:root:Fitting model...\n",
      "INFO:root:Validation loss: 0.336\n",
      "INFO:root:Training preset #9/16\n",
      "INFO:root:Compiling model...\n",
      "INFO:root:Fitting model...\n",
      "INFO:root:Validation loss: 0.366\n",
      "INFO:root:Training preset #10/16\n",
      "INFO:root:Compiling model...\n",
      "INFO:root:Fitting model...\n",
      "INFO:root:Validation loss: 0.364\n",
      "INFO:root:Training preset #11/16\n",
      "INFO:root:Compiling model...\n",
      "INFO:root:Fitting model...\n",
      "INFO:root:Validation loss: 0.321\n",
      "INFO:root:Training preset #12/16\n",
      "INFO:root:Compiling model...\n",
      "INFO:root:Fitting model...\n",
      "INFO:root:Validation loss: 0.329\n",
      "INFO:root:Training preset #13/16\n",
      "INFO:root:Compiling model...\n",
      "INFO:root:Fitting model...\n",
      "INFO:root:Validation loss: 0.395\n",
      "INFO:root:Training preset #14/16\n",
      "INFO:root:Compiling model...\n",
      "INFO:root:Fitting model...\n",
      "INFO:root:Validation loss: 0.362\n",
      "INFO:root:Training preset #15/16\n",
      "INFO:root:Compiling model...\n",
      "INFO:root:Fitting model...\n",
      "INFO:root:Validation loss: 0.334\n",
      "INFO:root:Training preset #16/16\n",
      "INFO:root:Compiling model...\n",
      "INFO:root:Fitting model...\n",
      "INFO:root:Validation loss: 0.329\n",
      "INFO:root:Preset #7 resulted in lowest validation loss.\n",
      "Fitting all data...\n",
      "INFO:root:Compiling model...\n",
      "INFO:root:Fitting model...\n"
     ]
    },
    {
     "name": "stdout",
     "output_type": "stream",
     "text": [
      "0.37510596731513884\n"
     ]
    },
    {
     "name": "stderr",
     "output_type": "stream",
     "text": [
      "INFO:root:Loaded <modnet.preprocessing.MODData object at 0x7f71101e90d0> object, created with modnet version 0.1.8~develop\n",
      "INFO:root:Training preset #1/16\n",
      "INFO:root:Compiling model...\n",
      "INFO:root:Fitting model...\n",
      "INFO:root:Validation loss: 0.406\n",
      "INFO:root:Training preset #2/16\n",
      "INFO:root:Compiling model...\n",
      "INFO:root:Fitting model...\n",
      "INFO:root:Validation loss: 0.404\n",
      "INFO:root:Training preset #3/16\n",
      "INFO:root:Compiling model...\n",
      "INFO:root:Fitting model...\n",
      "INFO:root:Validation loss: 0.376\n",
      "INFO:root:Training preset #4/16\n",
      "INFO:root:Compiling model...\n",
      "INFO:root:Fitting model...\n",
      "INFO:root:Validation loss: 0.440\n",
      "INFO:root:Training preset #5/16\n",
      "INFO:root:Compiling model...\n",
      "INFO:root:Fitting model...\n",
      "INFO:root:Validation loss: 0.392\n",
      "INFO:root:Training preset #6/16\n",
      "INFO:root:Compiling model...\n",
      "INFO:root:Fitting model...\n",
      "INFO:root:Validation loss: 0.387\n",
      "INFO:root:Training preset #7/16\n",
      "INFO:root:Compiling model...\n",
      "INFO:root:Fitting model...\n",
      "INFO:root:Validation loss: 0.377\n",
      "INFO:root:Training preset #8/16\n",
      "INFO:root:Compiling model...\n",
      "INFO:root:Fitting model...\n",
      "INFO:root:Validation loss: 0.364\n",
      "INFO:root:Training preset #9/16\n",
      "INFO:root:Compiling model...\n",
      "INFO:root:Fitting model...\n",
      "INFO:root:Validation loss: 0.389\n",
      "INFO:root:Training preset #10/16\n",
      "INFO:root:Compiling model...\n",
      "INFO:root:Fitting model...\n",
      "INFO:root:Validation loss: 0.389\n",
      "INFO:root:Training preset #11/16\n",
      "INFO:root:Compiling model...\n",
      "INFO:root:Fitting model...\n",
      "INFO:root:Validation loss: 0.326\n",
      "INFO:root:Training preset #12/16\n",
      "INFO:root:Compiling model...\n",
      "INFO:root:Fitting model...\n",
      "INFO:root:Validation loss: 0.367\n",
      "INFO:root:Training preset #13/16\n",
      "INFO:root:Compiling model...\n",
      "INFO:root:Fitting model...\n",
      "INFO:root:Validation loss: 0.411\n",
      "INFO:root:Training preset #14/16\n",
      "INFO:root:Compiling model...\n",
      "INFO:root:Fitting model...\n",
      "INFO:root:Validation loss: 0.409\n",
      "INFO:root:Training preset #15/16\n",
      "INFO:root:Compiling model...\n",
      "INFO:root:Fitting model...\n",
      "INFO:root:Validation loss: 0.356\n",
      "INFO:root:Training preset #16/16\n",
      "INFO:root:Compiling model...\n",
      "INFO:root:Fitting model...\n",
      "INFO:root:Validation loss: 0.352\n",
      "INFO:root:Preset #11 resulted in lowest validation loss.\n",
      "Fitting all data...\n",
      "INFO:root:Compiling model...\n",
      "INFO:root:Fitting model...\n"
     ]
    },
    {
     "name": "stdout",
     "output_type": "stream",
     "text": [
      "0.3909746961133561\n"
     ]
    },
    {
     "name": "stderr",
     "output_type": "stream",
     "text": [
      "INFO:root:Loaded <modnet.preprocessing.MODData object at 0x7f715dfd2970> object, created with modnet version 0.1.8~develop\n",
      "INFO:root:Training preset #1/16\n",
      "INFO:root:Compiling model...\n",
      "INFO:root:Fitting model...\n",
      "INFO:root:Validation loss: 0.396\n",
      "INFO:root:Training preset #2/16\n",
      "INFO:root:Compiling model...\n",
      "INFO:root:Fitting model...\n",
      "INFO:root:Validation loss: 0.428\n",
      "INFO:root:Training preset #3/16\n",
      "INFO:root:Compiling model...\n",
      "INFO:root:Fitting model...\n",
      "INFO:root:Validation loss: 0.373\n",
      "INFO:root:Training preset #4/16\n",
      "INFO:root:Compiling model...\n",
      "INFO:root:Fitting model...\n",
      "INFO:root:Validation loss: 0.450\n",
      "INFO:root:Training preset #5/16\n",
      "INFO:root:Compiling model...\n",
      "INFO:root:Fitting model...\n",
      "INFO:root:Validation loss: 0.371\n",
      "INFO:root:Training preset #6/16\n",
      "INFO:root:Compiling model...\n",
      "INFO:root:Fitting model...\n",
      "INFO:root:Validation loss: 0.388\n",
      "INFO:root:Training preset #7/16\n",
      "INFO:root:Compiling model...\n",
      "INFO:root:Fitting model...\n",
      "INFO:root:Validation loss: 0.364\n",
      "INFO:root:Training preset #8/16\n",
      "INFO:root:Compiling model...\n",
      "INFO:root:Fitting model...\n",
      "INFO:root:Validation loss: 0.354\n",
      "INFO:root:Training preset #9/16\n",
      "INFO:root:Compiling model...\n",
      "INFO:root:Fitting model...\n",
      "INFO:root:Validation loss: 0.389\n",
      "INFO:root:Training preset #10/16\n",
      "INFO:root:Compiling model...\n",
      "INFO:root:Fitting model...\n",
      "INFO:root:Validation loss: 0.404\n",
      "INFO:root:Training preset #11/16\n",
      "INFO:root:Compiling model...\n",
      "INFO:root:Fitting model...\n",
      "INFO:root:Validation loss: 0.406\n",
      "INFO:root:Training preset #12/16\n",
      "INFO:root:Compiling model...\n",
      "INFO:root:Fitting model...\n",
      "INFO:root:Validation loss: 0.400\n",
      "INFO:root:Training preset #13/16\n",
      "INFO:root:Compiling model...\n",
      "INFO:root:Fitting model...\n",
      "INFO:root:Validation loss: 0.382\n",
      "INFO:root:Training preset #14/16\n",
      "INFO:root:Compiling model...\n",
      "INFO:root:Fitting model...\n",
      "INFO:root:Validation loss: 0.422\n",
      "INFO:root:Training preset #15/16\n",
      "INFO:root:Compiling model...\n",
      "INFO:root:Fitting model...\n",
      "INFO:root:Validation loss: 0.404\n",
      "INFO:root:Training preset #16/16\n",
      "INFO:root:Compiling model...\n",
      "INFO:root:Fitting model...\n",
      "INFO:root:Validation loss: 0.329\n",
      "INFO:root:Preset #16 resulted in lowest validation loss.\n",
      "Fitting all data...\n",
      "INFO:root:Compiling model...\n",
      "INFO:root:Fitting model...\n"
     ]
    },
    {
     "name": "stdout",
     "output_type": "stream",
     "text": [
      "0.40012405996660955\n"
     ]
    },
    {
     "name": "stderr",
     "output_type": "stream",
     "text": [
      "INFO:root:Loaded <modnet.preprocessing.MODData object at 0x7f71344d30d0> object, created with modnet version 0.1.8~develop\n",
      "INFO:root:Training preset #1/16\n",
      "INFO:root:Compiling model...\n",
      "INFO:root:Fitting model...\n",
      "INFO:root:Validation loss: 0.436\n",
      "INFO:root:Training preset #2/16\n",
      "INFO:root:Compiling model...\n",
      "INFO:root:Fitting model...\n",
      "INFO:root:Validation loss: 0.481\n",
      "INFO:root:Training preset #3/16\n",
      "INFO:root:Compiling model...\n",
      "INFO:root:Fitting model...\n",
      "INFO:root:Validation loss: 0.386\n",
      "INFO:root:Training preset #4/16\n",
      "INFO:root:Compiling model...\n",
      "INFO:root:Fitting model...\n",
      "INFO:root:Validation loss: 0.399\n",
      "INFO:root:Training preset #5/16\n",
      "INFO:root:Compiling model...\n",
      "INFO:root:Fitting model...\n",
      "INFO:root:Validation loss: 0.439\n",
      "INFO:root:Training preset #6/16\n",
      "INFO:root:Compiling model...\n",
      "INFO:root:Fitting model...\n",
      "INFO:root:Validation loss: 0.438\n",
      "INFO:root:Training preset #7/16\n",
      "INFO:root:Compiling model...\n",
      "INFO:root:Fitting model...\n",
      "INFO:root:Validation loss: 0.402\n",
      "INFO:root:Training preset #8/16\n",
      "INFO:root:Compiling model...\n",
      "INFO:root:Fitting model...\n",
      "INFO:root:Validation loss: 0.417\n",
      "INFO:root:Training preset #9/16\n",
      "INFO:root:Compiling model...\n",
      "INFO:root:Fitting model...\n",
      "INFO:root:Validation loss: 0.413\n",
      "INFO:root:Training preset #10/16\n",
      "INFO:root:Compiling model...\n",
      "INFO:root:Fitting model...\n",
      "INFO:root:Validation loss: 0.426\n",
      "INFO:root:Training preset #11/16\n",
      "INFO:root:Compiling model...\n",
      "INFO:root:Fitting model...\n",
      "INFO:root:Validation loss: 0.427\n",
      "INFO:root:Training preset #12/16\n",
      "INFO:root:Compiling model...\n",
      "INFO:root:Fitting model...\n",
      "INFO:root:Validation loss: 0.400\n",
      "INFO:root:Training preset #13/16\n",
      "INFO:root:Compiling model...\n",
      "INFO:root:Fitting model...\n",
      "INFO:root:Validation loss: 0.382\n",
      "INFO:root:Training preset #14/16\n",
      "INFO:root:Compiling model...\n",
      "INFO:root:Fitting model...\n",
      "INFO:root:Validation loss: 0.476\n",
      "INFO:root:Training preset #15/16\n",
      "INFO:root:Compiling model...\n",
      "INFO:root:Fitting model...\n",
      "INFO:root:Validation loss: 0.368\n",
      "INFO:root:Training preset #16/16\n",
      "INFO:root:Compiling model...\n",
      "INFO:root:Fitting model...\n",
      "INFO:root:Validation loss: 0.393\n",
      "INFO:root:Preset #15 resulted in lowest validation loss.\n",
      "Fitting all data...\n",
      "INFO:root:Compiling model...\n",
      "INFO:root:Fitting model...\n"
     ]
    },
    {
     "name": "stdout",
     "output_type": "stream",
     "text": [
      "0.3565624984297653\n"
     ]
    }
   ],
   "source": [
    "k = 5\n",
    "random_state = 202010\n",
    "folds = MDKsplit(md,n_splits=k,random_state=random_state)\n",
    "maes = np.ones(5)\n",
    "for i,f in enumerate(folds):\n",
    "    train = f[0]\n",
    "    test = f[1]\n",
    "    fpath = 'train_{}_{}'.format(random_state,i+1)\n",
    "    if os.path.exists(fpath):\n",
    "        train = MODData.load(fpath)\n",
    "        train.df_targets.columns = ['exp_gap']\n",
    "    else:\n",
    "        train.feature_selection(n=-1)\n",
    "        train.save(fpath)\n",
    "        \n",
    "    # assure no overlap\n",
    "    assert len(set(train.df_targets.index).intersection(set(test.df_targets.index))) == 0\n",
    "    \n",
    "    model = MODNetModel([[['exp_gap']]],{'exp_gap':1})\n",
    "    model.fit_preset(train,verbose=0)\n",
    "    pred = model.predict(test)\n",
    "    true = test.df_targets\n",
    "    error = pred-true\n",
    "    error = error.drop(pred.index[((pred['exp_gap']).abs()>20)]) # drop unrealistic values: happens extremely rarely\n",
    "    mae = np.abs(error.values).mean()\n",
    "    print(mae)\n",
    "    maes[i] = mae\n",
    "    "
   ]
  },
  {
   "cell_type": "code",
   "execution_count": 6,
   "metadata": {
    "ExecuteTime": {
     "end_time": "2021-02-03T12:35:42.409525Z",
     "start_time": "2021-02-03T12:35:42.405031Z"
    }
   },
   "outputs": [
    {
     "data": {
      "text/plain": [
       "0.393166543383918"
      ]
     },
     "execution_count": 6,
     "metadata": {},
     "output_type": "execute_result"
    }
   ],
   "source": [
    "maes.mean()"
   ]
  },
  {
   "cell_type": "markdown",
   "metadata": {},
   "source": [
    "#### Conclusion"
   ]
  },
  {
   "cell_type": "markdown",
   "metadata": {},
   "source": [
    "This value of the MAE will be our benchmark value for comparing the different methods in this repository."
   ]
  }
 ],
 "metadata": {
  "kernelspec": {
   "display_name": "Python [conda env:modnet]",
   "language": "python",
   "name": "conda-env-modnet-py"
  },
  "language_info": {
   "codemirror_mode": {
    "name": "ipython",
    "version": 3
   },
   "file_extension": ".py",
   "mimetype": "text/x-python",
   "name": "python",
   "nbconvert_exporter": "python",
   "pygments_lexer": "ipython3",
   "version": "3.8.5"
  }
 },
 "nbformat": 4,
 "nbformat_minor": 4
}
