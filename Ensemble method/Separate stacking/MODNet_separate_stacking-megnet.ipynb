{
 "cells": [
  {
   "cell_type": "markdown",
   "metadata": {},
   "source": [
    "# Separate Stacking Model"
   ]
  },
  {
   "cell_type": "markdown",
   "metadata": {},
   "source": [
    "Here, we train a meta-learner that will best combine the predictions from the sub-models and ideally perform better than any single sub-model. The three sub-models are:\n",
    " - 2 MODNet models trained on the HSE and experimental datasets\n",
    " - 1 pretrained MEGNet model for the PBE dataset."
   ]
  },
  {
   "cell_type": "code",
   "execution_count": 1,
   "metadata": {
    "ExecuteTime": {
     "end_time": "2021-06-14T15:49:45.719839Z",
     "start_time": "2021-06-14T15:49:45.709695Z"
    }
   },
   "outputs": [],
   "source": [
    "def setup_threading():\n",
    "    import os\n",
    "    os.environ['OPENBLAS_NUM_THREADS'] = '1'\n",
    "    os.environ['MKL_NUM_THREADS'] = '1'\n",
    "    os.environ[\"OMP_NUM_THREADS\"] = \"1\"\n",
    "    os.environ[\"TF_NUM_INTRAOP_THREADS\"] = \"1\"\n",
    "    os.environ[\"TF_NUM_INTEROP_THREADS\"] = \"1\"\n",
    "    os.environ[\"CUDA_VISIBLE_DEVICES\"] = \"-1\""
   ]
  },
  {
   "cell_type": "code",
   "execution_count": 2,
   "metadata": {
    "ExecuteTime": {
     "end_time": "2021-06-14T15:49:45.797246Z",
     "start_time": "2021-06-14T15:49:45.731469Z"
    }
   },
   "outputs": [],
   "source": [
    "setup_threading()"
   ]
  },
  {
   "cell_type": "code",
   "execution_count": 3,
   "metadata": {
    "ExecuteTime": {
     "end_time": "2021-06-14T15:49:53.564906Z",
     "start_time": "2021-06-14T15:49:46.031465Z"
    }
   },
   "outputs": [],
   "source": [
    "from modnet.preprocessing import MODData\n",
    "from modnet.models.vanilla import MODNetModel\n",
    "from modnet.hyper_opt.fit_genetic import FitGenetic\n",
    "import numpy as np\n",
    "import pandas as pd\n",
    "import os\n",
    "import copy"
   ]
  },
  {
   "cell_type": "code",
   "execution_count": 4,
   "metadata": {
    "ExecuteTime": {
     "end_time": "2021-06-14T15:49:53.577646Z",
     "start_time": "2021-06-14T15:49:53.567257Z"
    }
   },
   "outputs": [],
   "source": [
    "from sklearn.model_selection import KFold\n",
    "from modnet.preprocessing import MODData\n",
    "\n",
    "def shuffle_MD(data,random_state=10):\n",
    "    data = copy.deepcopy(data)\n",
    "    ids = data.df_targets.sample(frac=1,random_state=random_state).index\n",
    "    data.df_featurized = data.df_featurized.loc[ids]\n",
    "    data.df_targets = data.df_targets.loc[ids]\n",
    "    data.df_structure = data.df_structure.loc[ids]\n",
    "    \n",
    "    return data\n",
    "\n",
    "def MDKsplit(data,n_splits=5,random_state=10):\n",
    "    data = shuffle_MD(data,random_state=random_state)\n",
    "    ids = np.array(data.structure_ids)\n",
    "    kf = KFold(n_splits=n_splits,shuffle=True,random_state=random_state)\n",
    "    folds = []\n",
    "    for train_idx, val_idx in kf.split(ids):\n",
    "        data_train = MODData(data.df_structure.iloc[train_idx]['structure'].values,data.df_targets.iloc[train_idx].values,target_names=data.df_targets.columns,structure_ids=ids[train_idx])\n",
    "        data_train.df_featurized = data.df_featurized.iloc[train_idx]\n",
    "        #data_train.optimal_features = data.optimal_features\n",
    "        \n",
    "        data_val = MODData(data.df_structure.iloc[val_idx]['structure'].values,data.df_targets.iloc[val_idx].values,target_names=data.df_targets.columns,structure_ids=ids[val_idx])\n",
    "        data_val.df_featurized = data.df_featurized.iloc[val_idx]\n",
    "        #data_val.optimal_features = data.optimal_features\n",
    "\n",
    "        folds.append((data_train,data_val))\n",
    "        \n",
    "    return folds"
   ]
  },
  {
   "cell_type": "markdown",
   "metadata": {},
   "source": [
    "#### Loading the PBE, HSE and experimental datasets."
   ]
  },
  {
   "cell_type": "code",
   "execution_count": 5,
   "metadata": {
    "ExecuteTime": {
     "end_time": "2021-06-14T15:50:12.396938Z",
     "start_time": "2021-06-14T15:49:53.579934Z"
    }
   },
   "outputs": [
    {
     "name": "stdout",
     "output_type": "stream",
     "text": [
      "\n",
      "If you use the ChemEnv tool for your research, please consider citing the following reference(s) :\n",
      "==================================================================================================\n",
      "David Waroquiers, Xavier Gonze, Gian-Marco Rignanese, Cathrin Welker-Nieuwoudt, Frank Rosowski,\n",
      "Michael Goebel, Stephan Schenk, Peter Degelmann, Rute Andre, Robert Glaum, and Geoffroy Hautier,\n",
      "\"Statistical analysis of coordination environments in oxides\",\n",
      "Chem. Mater., 2017, 29 (19), pp 8346-8360,\n",
      "DOI: 10.1021/acs.chemmater.7b02766\n",
      "\n",
      "2021-06-14 17:50:02,763 - modnet - INFO - Loaded <modnet.preprocessing.MODData object at 0x7f2cf37d43a0> object, created with modnet version <=0.1.7\n",
      "2021-06-14 17:50:06,197 - modnet - INFO - Loaded <modnet.preprocessing.MODData object at 0x7f2cf37d4f40> object, created with modnet version 0.1.8~develop\n",
      "2021-06-14 17:50:10,579 - modnet - INFO - Loaded <modnet.preprocessing.MODData object at 0x7f2cf37d49a0> object, created with modnet version <=0.1.7\n",
      "2021-06-14 17:50:12,394 - modnet - INFO - Loaded <modnet.preprocessing.MODData object at 0x7f2cf37db6d0> object, created with modnet version <=0.1.7\n"
     ]
    }
   ],
   "source": [
    "md_pbe = MODData.load('pbe_gap.zip')\n",
    "md_pbe.df_targets.columns = ['gap']\n",
    "md_hse = MODData.load('hse_gap.zip')\n",
    "md_hse.df_targets.columns = ['gap']\n",
    "md_exp = MODData.load('exp_gap_all')\n",
    "md_exp.df_targets.columns = ['gap']\n",
    "md_joint = MODData.load('exp_pbe_joint')"
   ]
  },
  {
   "cell_type": "code",
   "execution_count": null,
   "metadata": {},
   "outputs": [],
   "source": [
    "md_joint.df_targets = md_joint.df_targets.drop(columns=['pbe_gap', 'difference'])"
   ]
  },
  {
   "cell_type": "markdown",
   "metadata": {},
   "source": [
    "#### MEGNet model trained on the PBE dataset"
   ]
  },
  {
   "cell_type": "code",
   "execution_count": 6,
   "metadata": {
    "ExecuteTime": {
     "end_time": "2021-06-14T15:50:17.391985Z",
     "start_time": "2021-06-14T15:50:12.398958Z"
    }
   },
   "outputs": [],
   "source": [
    "import tensorflow as tf\n",
    "from megnet.data.crystal import CrystalGraph\n",
    "from megnet.data.graph import GaussianDistance\n",
    "from megnet.models import MEGNetModel\n",
    "\n",
    "#Pretrained model (we are using transfer learning)\n",
    "\n",
    "model_form = MEGNetModel.from_file('band_gap_regression.hdf5')"
   ]
  },
  {
   "cell_type": "markdown",
   "metadata": {},
   "source": [
    "#### MODNet model trained on the HSE dataset"
   ]
  },
  {
   "cell_type": "code",
   "execution_count": 8,
   "metadata": {
    "ExecuteTime": {
     "end_time": "2021-06-14T15:51:05.082433Z",
     "start_time": "2021-06-14T15:51:04.696994Z"
    }
   },
   "outputs": [
    {
     "name": "stdout",
     "output_type": "stream",
     "text": [
      "2021-06-14 17:51:05,078 - modnet - INFO - Loaded <modnet.models.ensemble.EnsembleMODNetModel object at 0x7f2bfc463c40> object, created with modnet version 0.1.9\n"
     ]
    },
    {
     "name": "stderr",
     "output_type": "stream",
     "text": [
      "INFO:modnet:Loaded <modnet.models.ensemble.EnsembleMODNetModel object at 0x7f2bfc463c40> object, created with modnet version 0.1.9\n"
     ]
    }
   ],
   "source": [
    "model2 = MODNetModel.load('MODNetModel2')"
   ]
  },
  {
   "cell_type": "markdown",
   "metadata": {},
   "source": [
    "### Separate Stacking Model"
   ]
  },
  {
   "cell_type": "code",
   "execution_count": 10,
   "metadata": {
    "ExecuteTime": {
     "end_time": "2021-06-14T15:51:05.100071Z",
     "start_time": "2021-06-14T15:51:05.093276Z"
    }
   },
   "outputs": [],
   "source": [
    "# stacked generalization with linear meta model on blobs dataset\n",
    "import pandas as pd\n",
    "from sklearn.metrics import accuracy_score"
   ]
  },
  {
   "cell_type": "code",
   "execution_count": 11,
   "metadata": {
    "ExecuteTime": {
     "end_time": "2021-06-14T15:51:05.108277Z",
     "start_time": "2021-06-14T15:51:05.102423Z"
    }
   },
   "outputs": [],
   "source": [
    "# load the saved models\n",
    "def load_all_models():\n",
    "    all_models = list()\n",
    "    all_models = [model_form, model2, model3]\n",
    "    return all_models"
   ]
  },
  {
   "cell_type": "code",
   "execution_count": 12,
   "metadata": {
    "ExecuteTime": {
     "end_time": "2021-06-14T15:51:05.123260Z",
     "start_time": "2021-06-14T15:51:05.114497Z"
    }
   },
   "outputs": [],
   "source": [
    "# create stacked model input dataset as outputs from the ensemble\n",
    "def stacked_dataset(members, inputX, inputX_meg):\n",
    "    pred_meg = pd.DataFrame([model_form.predict_structure(x) for x in inputX_meg['structure']])\n",
    "    gap = pred_meg[pred_meg.columns[0]]\n",
    "    pred_meg = pred_meg.reindex(model2.predict(inputX).index)\n",
    "    pred_meg['gap'] = gap\n",
    "    pred_meg = pred_meg.drop(pred_meg.columns[0], axis=1)\n",
    "    for i in range(len(pred_meg)):\n",
    "        pred_meg.iloc[i] = gap[i]\n",
    "    \n",
    "    stackX = pd.concat([pred_meg, model2.predict(inputX), model3.predict(inputX)], axis=1).to_numpy()\n",
    "    return stackX"
   ]
  },
  {
   "cell_type": "code",
   "execution_count": 13,
   "metadata": {
    "ExecuteTime": {
     "end_time": "2021-06-14T15:51:05.130906Z",
     "start_time": "2021-06-14T15:51:05.126041Z"
    }
   },
   "outputs": [],
   "source": [
    "# Optional cell if you want to customize the model used in the fit_stacked_model() function (instead of the LinearRegression())\n",
    "import tensorflow as tf\n",
    "\n",
    "def get_compiled_model():\n",
    "    model = tf.keras.Sequential([\n",
    "        tf.keras.layers.Dense(4, activation='relu'),\n",
    "        tf.keras.layers.Dense(3, activation='relu'),\n",
    "        tf.keras.layers.Dense(1)\n",
    "    ])\n",
    "\n",
    "    model.compile(optimizer='adam',\n",
    "                loss='mse',\n",
    "                metrics=['accuracy'])\n",
    "    return model"
   ]
  },
  {
   "cell_type": "code",
   "execution_count": 14,
   "metadata": {
    "ExecuteTime": {
     "end_time": "2021-06-14T15:51:05.199352Z",
     "start_time": "2021-06-14T15:51:05.133334Z"
    }
   },
   "outputs": [],
   "source": [
    "# fit a model based on the outputs from the ensemble members\n",
    "from sklearn.linear_model import LinearRegression\n",
    "\n",
    "def fit_stacked_model(members, inputX, inputy, inputX_meg):\n",
    "    # create dataset using ensemble\n",
    "    stackedX = stacked_dataset(members, inputX, inputX_meg)\n",
    "    # fit standalone model\n",
    "    model = LinearRegression()\n",
    "    model.fit(stackedX, inputy)\n",
    "    return model"
   ]
  },
  {
   "cell_type": "code",
   "execution_count": 15,
   "metadata": {
    "ExecuteTime": {
     "end_time": "2021-06-14T15:51:05.207625Z",
     "start_time": "2021-06-14T15:51:05.203170Z"
    }
   },
   "outputs": [],
   "source": [
    "# make a prediction with the stacked model\n",
    "def stacked_prediction(members, model, inputX, inputX_meg):\n",
    "    # create dataset using ensemble\n",
    "    stackedX = stacked_dataset(members, inputX, inputX_meg)\n",
    "    # make a prediction\n",
    "    yhat = model.predict(stackedX)\n",
    "    return yhat"
   ]
  },
  {
   "cell_type": "code",
   "execution_count": 16,
   "metadata": {
    "ExecuteTime": {
     "end_time": "2021-06-14T22:48:44.701815Z",
     "start_time": "2021-06-14T15:51:05.211625Z"
    },
    "scrolled": true
   },
   "outputs": [
    {
     "name": "stdout",
     "output_type": "stream",
     "text": [
      "2021-06-14 17:51:05,303 - modnet - INFO - Loaded DeBreuck2020Featurizer featurizer.\n"
     ]
    },
    {
     "name": "stderr",
     "output_type": "stream",
     "text": [
      "INFO:modnet:Loaded DeBreuck2020Featurizer featurizer.\n"
     ]
    },
    {
     "name": "stdout",
     "output_type": "stream",
     "text": [
      "2021-06-14 17:51:05,330 - modnet - INFO - Loaded DeBreuck2020Featurizer featurizer.\n"
     ]
    },
    {
     "name": "stderr",
     "output_type": "stream",
     "text": [
      "INFO:modnet:Loaded DeBreuck2020Featurizer featurizer.\n"
     ]
    },
    {
     "name": "stdout",
     "output_type": "stream",
     "text": [
      "2021-06-14 17:51:05,349 - modnet - INFO - Loaded DeBreuck2020Featurizer featurizer.\n"
     ]
    },
    {
     "name": "stderr",
     "output_type": "stream",
     "text": [
      "INFO:modnet:Loaded DeBreuck2020Featurizer featurizer.\n"
     ]
    },
    {
     "name": "stdout",
     "output_type": "stream",
     "text": [
      "2021-06-14 17:51:05,376 - modnet - INFO - Loaded DeBreuck2020Featurizer featurizer.\n"
     ]
    },
    {
     "name": "stderr",
     "output_type": "stream",
     "text": [
      "INFO:modnet:Loaded DeBreuck2020Featurizer featurizer.\n"
     ]
    },
    {
     "name": "stdout",
     "output_type": "stream",
     "text": [
      "2021-06-14 17:51:05,398 - modnet - INFO - Loaded DeBreuck2020Featurizer featurizer.\n"
     ]
    },
    {
     "name": "stderr",
     "output_type": "stream",
     "text": [
      "INFO:modnet:Loaded DeBreuck2020Featurizer featurizer.\n"
     ]
    },
    {
     "name": "stdout",
     "output_type": "stream",
     "text": [
      "2021-06-14 17:51:05,427 - modnet - INFO - Loaded DeBreuck2020Featurizer featurizer.\n"
     ]
    },
    {
     "name": "stderr",
     "output_type": "stream",
     "text": [
      "INFO:modnet:Loaded DeBreuck2020Featurizer featurizer.\n"
     ]
    },
    {
     "name": "stdout",
     "output_type": "stream",
     "text": [
      "2021-06-14 17:51:05,448 - modnet - INFO - Loaded DeBreuck2020Featurizer featurizer.\n"
     ]
    },
    {
     "name": "stderr",
     "output_type": "stream",
     "text": [
      "INFO:modnet:Loaded DeBreuck2020Featurizer featurizer.\n"
     ]
    },
    {
     "name": "stdout",
     "output_type": "stream",
     "text": [
      "2021-06-14 17:51:05,487 - modnet - INFO - Loaded DeBreuck2020Featurizer featurizer.\n"
     ]
    },
    {
     "name": "stderr",
     "output_type": "stream",
     "text": [
      "INFO:modnet:Loaded DeBreuck2020Featurizer featurizer.\n"
     ]
    },
    {
     "name": "stdout",
     "output_type": "stream",
     "text": [
      "2021-06-14 17:51:05,513 - modnet - INFO - Loaded DeBreuck2020Featurizer featurizer.\n"
     ]
    },
    {
     "name": "stderr",
     "output_type": "stream",
     "text": [
      "INFO:modnet:Loaded DeBreuck2020Featurizer featurizer.\n"
     ]
    },
    {
     "name": "stdout",
     "output_type": "stream",
     "text": [
      "2021-06-14 17:51:05,539 - modnet - INFO - Loaded DeBreuck2020Featurizer featurizer.\n"
     ]
    },
    {
     "name": "stderr",
     "output_type": "stream",
     "text": [
      "INFO:modnet:Loaded DeBreuck2020Featurizer featurizer.\n"
     ]
    },
    {
     "name": "stdout",
     "output_type": "stream",
     "text": [
      "2021-06-14 17:51:05,935 - modnet - INFO - Loaded <modnet.preprocessing.MODData object at 0x7f2ccb280c40> object, created with modnet version 0.1.9\n"
     ]
    },
    {
     "name": "stderr",
     "output_type": "stream",
     "text": [
      "INFO:modnet:Loaded <modnet.preprocessing.MODData object at 0x7f2ccb280c40> object, created with modnet version 0.1.9\n"
     ]
    },
    {
     "name": "stdout",
     "output_type": "stream",
     "text": [
      "2021-06-14 17:51:07,018 - modnet - INFO - Generation number 0\n"
     ]
    },
    {
     "name": "stderr",
     "output_type": "stream",
     "text": [
      "INFO:modnet:Generation number 0\n"
     ]
    },
    {
     "name": "stdout",
     "output_type": "stream",
     "text": [
      "2021-06-14 17:51:10,221 - modnet - INFO - Multiprocessing on 10 cores. Total of 128 cores available.\n"
     ]
    },
    {
     "name": "stderr",
     "output_type": "stream",
     "text": [
      "INFO:modnet:Multiprocessing on 10 cores. Total of 128 cores available.\n",
      "100%|██████████| 100/100 [15:37<00:00,  9.38s/it]"
     ]
    },
    {
     "name": "stdout",
     "output_type": "stream",
     "text": [
      "2021-06-14 18:06:47,993 - modnet - INFO - Loss per individual: ind 0: 0.659 \tind 1: 0.639 \tind 2: 0.682 \tind 3: 0.745 \tind 4: 0.644 \tind 5: 0.696 \tind 6: 0.672 \tind 7: 0.648 \tind 8: 0.648 \tind 9: 0.660 \tind 10: 0.625 \tind 11: 0.673 \tind 12: 0.742 \tind 13: 0.649 \tind 14: 0.736 \tind 15: 0.612 \tind 16: 0.638 \tind 17: 0.645 \tind 18: 0.661 \tind 19: 0.632 \t\n"
     ]
    },
    {
     "name": "stderr",
     "output_type": "stream",
     "text": [
      "\n",
      "INFO:modnet:Loss per individual: ind 0: 0.659 \tind 1: 0.639 \tind 2: 0.682 \tind 3: 0.745 \tind 4: 0.644 \tind 5: 0.696 \tind 6: 0.672 \tind 7: 0.648 \tind 8: 0.648 \tind 9: 0.660 \tind 10: 0.625 \tind 11: 0.673 \tind 12: 0.742 \tind 13: 0.649 \tind 14: 0.736 \tind 15: 0.612 \tind 16: 0.638 \tind 17: 0.645 \tind 18: 0.661 \tind 19: 0.632 \t\n"
     ]
    },
    {
     "name": "stdout",
     "output_type": "stream",
     "text": [
      "2021-06-14 18:06:49,609 - modnet - INFO - Generation number 1\n"
     ]
    },
    {
     "name": "stderr",
     "output_type": "stream",
     "text": [
      "INFO:modnet:Generation number 1\n"
     ]
    },
    {
     "name": "stdout",
     "output_type": "stream",
     "text": [
      "2021-06-14 18:06:52,457 - modnet - INFO - Multiprocessing on 10 cores. Total of 128 cores available.\n"
     ]
    },
    {
     "name": "stderr",
     "output_type": "stream",
     "text": [
      "INFO:modnet:Multiprocessing on 10 cores. Total of 128 cores available.\n",
      "100%|██████████| 100/100 [11:57<00:00,  7.17s/it]"
     ]
    },
    {
     "name": "stdout",
     "output_type": "stream",
     "text": [
      "2021-06-14 18:18:49,575 - modnet - INFO - Loss per individual: ind 0: 0.639 \tind 1: 0.673 \tind 2: 0.621 \tind 3: 0.630 \tind 4: 0.683 \tind 5: 0.595 \tind 6: 0.663 \tind 7: 0.621 \tind 8: 0.705 \tind 9: 0.648 \tind 10: 0.662 \tind 11: 0.634 \tind 12: 0.676 \tind 13: 0.650 \tind 14: 0.625 \tind 15: 0.670 \tind 16: 0.675 \tind 17: 0.615 \tind 18: 0.662 \tind 19: 0.674 \t\n"
     ]
    },
    {
     "name": "stderr",
     "output_type": "stream",
     "text": [
      "\n",
      "INFO:modnet:Loss per individual: ind 0: 0.639 \tind 1: 0.673 \tind 2: 0.621 \tind 3: 0.630 \tind 4: 0.683 \tind 5: 0.595 \tind 6: 0.663 \tind 7: 0.621 \tind 8: 0.705 \tind 9: 0.648 \tind 10: 0.662 \tind 11: 0.634 \tind 12: 0.676 \tind 13: 0.650 \tind 14: 0.625 \tind 15: 0.670 \tind 16: 0.675 \tind 17: 0.615 \tind 18: 0.662 \tind 19: 0.674 \t\n"
     ]
    },
    {
     "name": "stdout",
     "output_type": "stream",
     "text": [
      "2021-06-14 18:18:51,051 - modnet - INFO - Generation number 2\n"
     ]
    },
    {
     "name": "stderr",
     "output_type": "stream",
     "text": [
      "INFO:modnet:Generation number 2\n"
     ]
    },
    {
     "name": "stdout",
     "output_type": "stream",
     "text": [
      "2021-06-14 18:18:53,859 - modnet - INFO - Multiprocessing on 10 cores. Total of 128 cores available.\n"
     ]
    },
    {
     "name": "stderr",
     "output_type": "stream",
     "text": [
      "INFO:modnet:Multiprocessing on 10 cores. Total of 128 cores available.\n",
      "100%|██████████| 100/100 [12:48<00:00,  7.69s/it]"
     ]
    },
    {
     "name": "stdout",
     "output_type": "stream",
     "text": [
      "2021-06-14 18:31:42,514 - modnet - INFO - Loss per individual: ind 0: 0.713 \tind 1: 0.658 \tind 2: 0.642 \tind 3: 0.650 \tind 4: 0.567 \tind 5: 0.712 \tind 6: 0.627 \tind 7: 0.634 \tind 8: 0.670 \tind 9: 0.637 \tind 10: 0.626 \tind 11: 0.642 \tind 12: 0.608 \tind 13: 0.621 \tind 14: 0.713 \tind 15: 0.650 \tind 16: 0.669 \tind 17: 0.705 \tind 18: 0.598 \tind 19: 0.590 \t\n"
     ]
    },
    {
     "name": "stderr",
     "output_type": "stream",
     "text": [
      "\n",
      "INFO:modnet:Loss per individual: ind 0: 0.713 \tind 1: 0.658 \tind 2: 0.642 \tind 3: 0.650 \tind 4: 0.567 \tind 5: 0.712 \tind 6: 0.627 \tind 7: 0.634 \tind 8: 0.670 \tind 9: 0.637 \tind 10: 0.626 \tind 11: 0.642 \tind 12: 0.608 \tind 13: 0.621 \tind 14: 0.713 \tind 15: 0.650 \tind 16: 0.669 \tind 17: 0.705 \tind 18: 0.598 \tind 19: 0.590 \t\n"
     ]
    },
    {
     "name": "stdout",
     "output_type": "stream",
     "text": [
      "2021-06-14 18:31:44,353 - modnet - INFO - Generation number 3\n"
     ]
    },
    {
     "name": "stderr",
     "output_type": "stream",
     "text": [
      "INFO:modnet:Generation number 3\n"
     ]
    },
    {
     "name": "stdout",
     "output_type": "stream",
     "text": [
      "2021-06-14 18:31:47,875 - modnet - INFO - Multiprocessing on 10 cores. Total of 128 cores available.\n"
     ]
    },
    {
     "name": "stderr",
     "output_type": "stream",
     "text": [
      "INFO:modnet:Multiprocessing on 10 cores. Total of 128 cores available.\n",
      "100%|██████████| 100/100 [12:05<00:00,  7.25s/it]"
     ]
    },
    {
     "name": "stdout",
     "output_type": "stream",
     "text": [
      "2021-06-14 18:43:53,353 - modnet - INFO - Loss per individual: ind 0: 0.605 \tind 1: 0.675 \tind 2: 0.656 \tind 3: 0.635 \tind 4: 0.631 \tind 5: 0.659 \tind 6: 0.607 \tind 7: 0.673 \tind 8: 0.683 \tind 9: 1.568 \tind 10: 0.717 \tind 11: 0.687 \tind 12: 0.648 \tind 13: 0.606 \tind 14: 0.718 \tind 15: 0.615 \tind 16: 0.675 \tind 17: 0.662 \tind 18: 0.601 \tind 19: 0.660 \t\n"
     ]
    },
    {
     "name": "stderr",
     "output_type": "stream",
     "text": [
      "\n",
      "INFO:modnet:Loss per individual: ind 0: 0.605 \tind 1: 0.675 \tind 2: 0.656 \tind 3: 0.635 \tind 4: 0.631 \tind 5: 0.659 \tind 6: 0.607 \tind 7: 0.673 \tind 8: 0.683 \tind 9: 1.568 \tind 10: 0.717 \tind 11: 0.687 \tind 12: 0.648 \tind 13: 0.606 \tind 14: 0.718 \tind 15: 0.615 \tind 16: 0.675 \tind 17: 0.662 \tind 18: 0.601 \tind 19: 0.660 \t\n"
     ]
    },
    {
     "name": "stdout",
     "output_type": "stream",
     "text": [
      "2021-06-14 18:43:55,166 - modnet - INFO - Generation number 4\n"
     ]
    },
    {
     "name": "stderr",
     "output_type": "stream",
     "text": [
      "INFO:modnet:Generation number 4\n"
     ]
    },
    {
     "name": "stdout",
     "output_type": "stream",
     "text": [
      "2021-06-14 18:43:58,885 - modnet - INFO - Multiprocessing on 10 cores. Total of 128 cores available.\n"
     ]
    },
    {
     "name": "stderr",
     "output_type": "stream",
     "text": [
      "INFO:modnet:Multiprocessing on 10 cores. Total of 128 cores available.\n",
      "100%|██████████| 100/100 [13:37<00:00,  8.18s/it]"
     ]
    },
    {
     "name": "stdout",
     "output_type": "stream",
     "text": [
      "2021-06-14 18:57:36,443 - modnet - INFO - Loss per individual: ind 0: 0.646 \tind 1: 0.640 \tind 2: 0.605 \tind 3: 0.689 \tind 4: 0.685 \tind 5: 0.604 \tind 6: 0.603 \tind 7: 0.630 \tind 8: 0.629 \tind 9: 0.655 \tind 10: 0.616 \tind 11: 0.648 \tind 12: 0.593 \tind 13: 0.628 \tind 14: 0.680 \tind 15: 0.639 \tind 16: 0.633 \tind 17: 0.626 \tind 18: 0.602 \tind 19: 0.720 \t\n"
     ]
    },
    {
     "name": "stderr",
     "output_type": "stream",
     "text": [
      "\n",
      "INFO:modnet:Loss per individual: ind 0: 0.646 \tind 1: 0.640 \tind 2: 0.605 \tind 3: 0.689 \tind 4: 0.685 \tind 5: 0.604 \tind 6: 0.603 \tind 7: 0.630 \tind 8: 0.629 \tind 9: 0.655 \tind 10: 0.616 \tind 11: 0.648 \tind 12: 0.593 \tind 13: 0.628 \tind 14: 0.680 \tind 15: 0.639 \tind 16: 0.633 \tind 17: 0.626 \tind 18: 0.602 \tind 19: 0.720 \t\n"
     ]
    },
    {
     "name": "stdout",
     "output_type": "stream",
     "text": [
      "2021-06-14 18:57:38,243 - modnet - INFO - Generation number 5\n"
     ]
    },
    {
     "name": "stderr",
     "output_type": "stream",
     "text": [
      "INFO:modnet:Generation number 5\n"
     ]
    },
    {
     "name": "stdout",
     "output_type": "stream",
     "text": [
      "2021-06-14 18:57:41,985 - modnet - INFO - Multiprocessing on 10 cores. Total of 128 cores available.\n"
     ]
    },
    {
     "name": "stderr",
     "output_type": "stream",
     "text": [
      "INFO:modnet:Multiprocessing on 10 cores. Total of 128 cores available.\n",
      "100%|██████████| 100/100 [12:52<00:00,  7.72s/it]"
     ]
    },
    {
     "name": "stdout",
     "output_type": "stream",
     "text": [
      "2021-06-14 19:10:34,031 - modnet - INFO - Loss per individual: ind 0: 0.648 \tind 1: 0.620 \tind 2: 0.652 \tind 3: 0.601 \tind 4: 0.629 \tind 5: 0.606 \tind 6: 0.606 \tind 7: 0.613 \tind 8: 0.648 \tind 9: 0.696 \tind 10: 0.570 \tind 11: 0.624 \tind 12: 0.655 \tind 13: 0.623 \tind 14: 0.657 \tind 15: 0.604 \tind 16: 0.676 \tind 17: 0.706 \tind 18: 0.596 \tind 19: 0.742 \t\n"
     ]
    },
    {
     "name": "stderr",
     "output_type": "stream",
     "text": [
      "\n",
      "INFO:modnet:Loss per individual: ind 0: 0.648 \tind 1: 0.620 \tind 2: 0.652 \tind 3: 0.601 \tind 4: 0.629 \tind 5: 0.606 \tind 6: 0.606 \tind 7: 0.613 \tind 8: 0.648 \tind 9: 0.696 \tind 10: 0.570 \tind 11: 0.624 \tind 12: 0.655 \tind 13: 0.623 \tind 14: 0.657 \tind 15: 0.604 \tind 16: 0.676 \tind 17: 0.706 \tind 18: 0.596 \tind 19: 0.742 \t\n"
     ]
    },
    {
     "name": "stdout",
     "output_type": "stream",
     "text": [
      "2021-06-14 19:10:35,686 - modnet - INFO - Early stopping: same best model for 4 consecutive generations\n"
     ]
    },
    {
     "name": "stderr",
     "output_type": "stream",
     "text": [
      "INFO:modnet:Early stopping: same best model for 4 consecutive generations\n"
     ]
    },
    {
     "name": "stdout",
     "output_type": "stream",
     "text": [
      "Loaded 3 models\n",
      "MAE =\n",
      "0.4055403121710589\n",
      "2021-06-14 19:13:40,701 - modnet - INFO - Loaded <modnet.preprocessing.MODData object at 0x7f28f8a3ad60> object, created with modnet version 0.1.9\n"
     ]
    },
    {
     "name": "stderr",
     "output_type": "stream",
     "text": [
      "INFO:modnet:Loaded <modnet.preprocessing.MODData object at 0x7f28f8a3ad60> object, created with modnet version 0.1.9\n"
     ]
    },
    {
     "name": "stdout",
     "output_type": "stream",
     "text": [
      "2021-06-14 19:13:41,473 - modnet - INFO - Generation number 0\n"
     ]
    },
    {
     "name": "stderr",
     "output_type": "stream",
     "text": [
      "INFO:modnet:Generation number 0\n"
     ]
    },
    {
     "name": "stdout",
     "output_type": "stream",
     "text": [
      "2021-06-14 19:13:45,076 - modnet - INFO - Multiprocessing on 10 cores. Total of 128 cores available.\n"
     ]
    },
    {
     "name": "stderr",
     "output_type": "stream",
     "text": [
      "INFO:modnet:Multiprocessing on 10 cores. Total of 128 cores available.\n",
      "100%|██████████| 100/100 [13:40<00:00,  8.20s/it]"
     ]
    },
    {
     "name": "stdout",
     "output_type": "stream",
     "text": [
      "2021-06-14 19:27:25,144 - modnet - INFO - Loss per individual: ind 0: 0.806 \tind 1: 0.638 \tind 2: 0.759 \tind 3: 0.668 \tind 4: 0.646 \tind 5: 0.654 \tind 6: 0.688 \tind 7: 0.620 \tind 8: 0.671 \tind 9: 0.620 \tind 10: 0.673 \tind 11: 0.664 \tind 12: 0.625 \tind 13: 0.629 \tind 14: 0.642 \tind 15: 0.607 \tind 16: 0.618 \tind 17: 0.640 \tind 18: 0.629 \tind 19: 0.628 \t\n"
     ]
    },
    {
     "name": "stderr",
     "output_type": "stream",
     "text": [
      "\n",
      "INFO:modnet:Loss per individual: ind 0: 0.806 \tind 1: 0.638 \tind 2: 0.759 \tind 3: 0.668 \tind 4: 0.646 \tind 5: 0.654 \tind 6: 0.688 \tind 7: 0.620 \tind 8: 0.671 \tind 9: 0.620 \tind 10: 0.673 \tind 11: 0.664 \tind 12: 0.625 \tind 13: 0.629 \tind 14: 0.642 \tind 15: 0.607 \tind 16: 0.618 \tind 17: 0.640 \tind 18: 0.629 \tind 19: 0.628 \t\n"
     ]
    },
    {
     "name": "stdout",
     "output_type": "stream",
     "text": [
      "2021-06-14 19:27:26,696 - modnet - INFO - Generation number 1\n"
     ]
    },
    {
     "name": "stderr",
     "output_type": "stream",
     "text": [
      "INFO:modnet:Generation number 1\n"
     ]
    },
    {
     "name": "stdout",
     "output_type": "stream",
     "text": [
      "2021-06-14 19:27:29,929 - modnet - INFO - Multiprocessing on 10 cores. Total of 128 cores available.\n"
     ]
    },
    {
     "name": "stderr",
     "output_type": "stream",
     "text": [
      "INFO:modnet:Multiprocessing on 10 cores. Total of 128 cores available.\n",
      "100%|██████████| 100/100 [11:39<00:00,  6.99s/it]"
     ]
    },
    {
     "name": "stdout",
     "output_type": "stream",
     "text": [
      "2021-06-14 19:39:09,302 - modnet - INFO - Loss per individual: ind 0: 0.696 \tind 1: 0.658 \tind 2: 0.717 \tind 3: 0.611 \tind 4: 0.680 \tind 5: 0.672 \tind 6: 0.589 \tind 7: 0.639 \tind 8: 0.686 \tind 9: 0.668 \tind 10: 0.640 \tind 11: 0.640 \tind 12: 0.682 \tind 13: 0.655 \tind 14: 0.655 \tind 15: 0.664 \tind 16: 0.648 \tind 17: 0.629 \tind 18: 0.634 \tind 19: 0.646 \t\n"
     ]
    },
    {
     "name": "stderr",
     "output_type": "stream",
     "text": [
      "\n",
      "INFO:modnet:Loss per individual: ind 0: 0.696 \tind 1: 0.658 \tind 2: 0.717 \tind 3: 0.611 \tind 4: 0.680 \tind 5: 0.672 \tind 6: 0.589 \tind 7: 0.639 \tind 8: 0.686 \tind 9: 0.668 \tind 10: 0.640 \tind 11: 0.640 \tind 12: 0.682 \tind 13: 0.655 \tind 14: 0.655 \tind 15: 0.664 \tind 16: 0.648 \tind 17: 0.629 \tind 18: 0.634 \tind 19: 0.646 \t\n"
     ]
    },
    {
     "name": "stdout",
     "output_type": "stream",
     "text": [
      "2021-06-14 19:39:11,052 - modnet - INFO - Generation number 2\n"
     ]
    },
    {
     "name": "stderr",
     "output_type": "stream",
     "text": [
      "INFO:modnet:Generation number 2\n"
     ]
    },
    {
     "name": "stdout",
     "output_type": "stream",
     "text": [
      "2021-06-14 19:39:14,705 - modnet - INFO - Multiprocessing on 10 cores. Total of 128 cores available.\n"
     ]
    },
    {
     "name": "stderr",
     "output_type": "stream",
     "text": [
      "INFO:modnet:Multiprocessing on 10 cores. Total of 128 cores available.\n",
      "100%|██████████| 100/100 [12:57<00:00,  7.77s/it] "
     ]
    },
    {
     "name": "stdout",
     "output_type": "stream",
     "text": [
      "2021-06-14 19:52:12,125 - modnet - INFO - Loss per individual: ind 0: 0.696 \tind 1: 0.660 \tind 2: 0.613 \tind 3: 0.655 \tind 4: 0.599 \tind 5: 0.629 \tind 6: 0.701 \tind 7: 0.634 \tind 8: 0.664 \tind 9: 0.617 \tind 10: 0.615 \tind 11: 0.583 \tind 12: 0.608 \tind 13: 0.652 \tind 14: 0.661 \tind 15: 0.671 \tind 16: 0.652 \tind 17: 0.603 \tind 18: 1.582 \tind 19: 0.700 \t\n"
     ]
    },
    {
     "name": "stderr",
     "output_type": "stream",
     "text": [
      "\n",
      "INFO:modnet:Loss per individual: ind 0: 0.696 \tind 1: 0.660 \tind 2: 0.613 \tind 3: 0.655 \tind 4: 0.599 \tind 5: 0.629 \tind 6: 0.701 \tind 7: 0.634 \tind 8: 0.664 \tind 9: 0.617 \tind 10: 0.615 \tind 11: 0.583 \tind 12: 0.608 \tind 13: 0.652 \tind 14: 0.661 \tind 15: 0.671 \tind 16: 0.652 \tind 17: 0.603 \tind 18: 1.582 \tind 19: 0.700 \t\n"
     ]
    },
    {
     "name": "stdout",
     "output_type": "stream",
     "text": [
      "2021-06-14 19:52:13,656 - modnet - INFO - Generation number 3\n"
     ]
    },
    {
     "name": "stderr",
     "output_type": "stream",
     "text": [
      "INFO:modnet:Generation number 3\n"
     ]
    },
    {
     "name": "stdout",
     "output_type": "stream",
     "text": [
      "2021-06-14 19:52:16,945 - modnet - INFO - Multiprocessing on 10 cores. Total of 128 cores available.\n"
     ]
    },
    {
     "name": "stderr",
     "output_type": "stream",
     "text": [
      "INFO:modnet:Multiprocessing on 10 cores. Total of 128 cores available.\n",
      "100%|██████████| 100/100 [11:51<00:00,  7.12s/it]"
     ]
    },
    {
     "name": "stdout",
     "output_type": "stream",
     "text": [
      "2021-06-14 20:04:08,621 - modnet - INFO - Loss per individual: ind 0: 0.707 \tind 1: 0.690 \tind 2: 0.710 \tind 3: 0.651 \tind 4: 0.600 \tind 5: 0.682 \tind 6: 0.652 \tind 7: 0.695 \tind 8: 0.672 \tind 9: 0.731 \tind 10: 0.634 \tind 11: 0.614 \tind 12: 0.669 \tind 13: 0.578 \tind 14: 0.660 \tind 15: 0.637 \tind 16: 0.650 \tind 17: 0.606 \tind 18: 0.597 \tind 19: 0.600 \t\n"
     ]
    },
    {
     "name": "stderr",
     "output_type": "stream",
     "text": [
      "\n",
      "INFO:modnet:Loss per individual: ind 0: 0.707 \tind 1: 0.690 \tind 2: 0.710 \tind 3: 0.651 \tind 4: 0.600 \tind 5: 0.682 \tind 6: 0.652 \tind 7: 0.695 \tind 8: 0.672 \tind 9: 0.731 \tind 10: 0.634 \tind 11: 0.614 \tind 12: 0.669 \tind 13: 0.578 \tind 14: 0.660 \tind 15: 0.637 \tind 16: 0.650 \tind 17: 0.606 \tind 18: 0.597 \tind 19: 0.600 \t\n"
     ]
    },
    {
     "name": "stdout",
     "output_type": "stream",
     "text": [
      "2021-06-14 20:04:10,196 - modnet - INFO - Generation number 4\n"
     ]
    },
    {
     "name": "stderr",
     "output_type": "stream",
     "text": [
      "INFO:modnet:Generation number 4\n"
     ]
    },
    {
     "name": "stdout",
     "output_type": "stream",
     "text": [
      "2021-06-14 20:04:13,449 - modnet - INFO - Multiprocessing on 10 cores. Total of 128 cores available.\n"
     ]
    },
    {
     "name": "stderr",
     "output_type": "stream",
     "text": [
      "INFO:modnet:Multiprocessing on 10 cores. Total of 128 cores available.\n",
      "100%|██████████| 100/100 [11:57<00:00,  7.17s/it]"
     ]
    },
    {
     "name": "stdout",
     "output_type": "stream",
     "text": [
      "2021-06-14 20:16:10,602 - modnet - INFO - Loss per individual: ind 0: 0.674 \tind 1: 0.604 \tind 2: 0.693 \tind 3: 0.616 \tind 4: 0.652 \tind 5: 0.642 \tind 6: 0.632 \tind 7: 0.733 \tind 8: 0.731 \tind 9: 0.642 \tind 10: 0.639 \tind 11: 0.625 \tind 12: 0.625 \tind 13: 0.689 \tind 14: 0.653 \tind 15: 0.728 \tind 16: 0.731 \tind 17: 0.620 \tind 18: 0.649 \tind 19: 0.596 \t\n"
     ]
    },
    {
     "name": "stderr",
     "output_type": "stream",
     "text": [
      "\n",
      "INFO:modnet:Loss per individual: ind 0: 0.674 \tind 1: 0.604 \tind 2: 0.693 \tind 3: 0.616 \tind 4: 0.652 \tind 5: 0.642 \tind 6: 0.632 \tind 7: 0.733 \tind 8: 0.731 \tind 9: 0.642 \tind 10: 0.639 \tind 11: 0.625 \tind 12: 0.625 \tind 13: 0.689 \tind 14: 0.653 \tind 15: 0.728 \tind 16: 0.731 \tind 17: 0.620 \tind 18: 0.649 \tind 19: 0.596 \t\n"
     ]
    },
    {
     "name": "stdout",
     "output_type": "stream",
     "text": [
      "2021-06-14 20:16:12,216 - modnet - INFO - Generation number 5\n"
     ]
    },
    {
     "name": "stderr",
     "output_type": "stream",
     "text": [
      "INFO:modnet:Generation number 5\n"
     ]
    },
    {
     "name": "stdout",
     "output_type": "stream",
     "text": [
      "2021-06-14 20:16:15,584 - modnet - INFO - Multiprocessing on 10 cores. Total of 128 cores available.\n"
     ]
    },
    {
     "name": "stderr",
     "output_type": "stream",
     "text": [
      "INFO:modnet:Multiprocessing on 10 cores. Total of 128 cores available.\n",
      "100%|██████████| 100/100 [11:22<00:00,  6.83s/it]"
     ]
    },
    {
     "name": "stdout",
     "output_type": "stream",
     "text": [
      "2021-06-14 20:27:38,161 - modnet - INFO - Loss per individual: ind 0: 0.639 \tind 1: 0.624 \tind 2: 0.669 \tind 3: 0.701 \tind 4: 0.650 \tind 5: 0.656 \tind 6: 0.637 \tind 7: 0.593 \tind 8: 0.605 \tind 9: 0.611 \tind 10: 0.591 \tind 11: 0.644 \tind 12: 0.622 \tind 13: 0.694 \tind 14: 0.624 \tind 15: 0.630 \tind 16: 0.627 \tind 17: 0.659 \tind 18: 0.597 \tind 19: 0.680 \t\n"
     ]
    },
    {
     "name": "stderr",
     "output_type": "stream",
     "text": [
      "\n",
      "INFO:modnet:Loss per individual: ind 0: 0.639 \tind 1: 0.624 \tind 2: 0.669 \tind 3: 0.701 \tind 4: 0.650 \tind 5: 0.656 \tind 6: 0.637 \tind 7: 0.593 \tind 8: 0.605 \tind 9: 0.611 \tind 10: 0.591 \tind 11: 0.644 \tind 12: 0.622 \tind 13: 0.694 \tind 14: 0.624 \tind 15: 0.630 \tind 16: 0.627 \tind 17: 0.659 \tind 18: 0.597 \tind 19: 0.680 \t\n"
     ]
    },
    {
     "name": "stdout",
     "output_type": "stream",
     "text": [
      "2021-06-14 20:27:39,788 - modnet - INFO - Generation number 6\n"
     ]
    },
    {
     "name": "stderr",
     "output_type": "stream",
     "text": [
      "INFO:modnet:Generation number 6\n"
     ]
    },
    {
     "name": "stdout",
     "output_type": "stream",
     "text": [
      "2021-06-14 20:27:43,330 - modnet - INFO - Multiprocessing on 10 cores. Total of 128 cores available.\n"
     ]
    },
    {
     "name": "stderr",
     "output_type": "stream",
     "text": [
      "INFO:modnet:Multiprocessing on 10 cores. Total of 128 cores available.\n",
      "100%|██████████| 100/100 [12:03<00:00,  7.24s/it]"
     ]
    },
    {
     "name": "stdout",
     "output_type": "stream",
     "text": [
      "2021-06-14 20:39:47,202 - modnet - INFO - Loss per individual: ind 0: 0.654 \tind 1: 0.669 \tind 2: 0.624 \tind 3: 0.667 \tind 4: 0.620 \tind 5: 0.627 \tind 6: 0.641 \tind 7: 0.651 \tind 8: 0.639 \tind 9: 0.633 \tind 10: 0.658 \tind 11: 0.682 \tind 12: 0.668 \tind 13: 0.689 \tind 14: 0.635 \tind 15: 0.613 \tind 16: 0.721 \tind 17: 0.645 \tind 18: 0.681 \tind 19: 0.658 \t\n"
     ]
    },
    {
     "name": "stderr",
     "output_type": "stream",
     "text": [
      "\n",
      "INFO:modnet:Loss per individual: ind 0: 0.654 \tind 1: 0.669 \tind 2: 0.624 \tind 3: 0.667 \tind 4: 0.620 \tind 5: 0.627 \tind 6: 0.641 \tind 7: 0.651 \tind 8: 0.639 \tind 9: 0.633 \tind 10: 0.658 \tind 11: 0.682 \tind 12: 0.668 \tind 13: 0.689 \tind 14: 0.635 \tind 15: 0.613 \tind 16: 0.721 \tind 17: 0.645 \tind 18: 0.681 \tind 19: 0.658 \t\n"
     ]
    },
    {
     "name": "stdout",
     "output_type": "stream",
     "text": [
      "2021-06-14 20:39:48,882 - modnet - INFO - Early stopping: same best model for 4 consecutive generations\n"
     ]
    },
    {
     "name": "stderr",
     "output_type": "stream",
     "text": [
      "INFO:modnet:Early stopping: same best model for 4 consecutive generations\n"
     ]
    },
    {
     "name": "stdout",
     "output_type": "stream",
     "text": [
      "Loaded 3 models\n",
      "MAE =\n",
      "0.3585018447637849\n",
      "2021-06-14 20:42:05,290 - modnet - INFO - Loaded <modnet.preprocessing.MODData object at 0x7f2adc746610> object, created with modnet version 0.1.9\n"
     ]
    },
    {
     "name": "stderr",
     "output_type": "stream",
     "text": [
      "INFO:modnet:Loaded <modnet.preprocessing.MODData object at 0x7f2adc746610> object, created with modnet version 0.1.9\n"
     ]
    },
    {
     "name": "stdout",
     "output_type": "stream",
     "text": [
      "2021-06-14 20:42:06,039 - modnet - INFO - Generation number 0\n"
     ]
    },
    {
     "name": "stderr",
     "output_type": "stream",
     "text": [
      "INFO:modnet:Generation number 0\n"
     ]
    },
    {
     "name": "stdout",
     "output_type": "stream",
     "text": [
      "2021-06-14 20:42:09,422 - modnet - INFO - Multiprocessing on 10 cores. Total of 128 cores available.\n"
     ]
    },
    {
     "name": "stderr",
     "output_type": "stream",
     "text": [
      "INFO:modnet:Multiprocessing on 10 cores. Total of 128 cores available.\n",
      "100%|██████████| 100/100 [11:14<00:00,  6.75s/it]"
     ]
    },
    {
     "name": "stdout",
     "output_type": "stream",
     "text": [
      "2021-06-14 20:53:24,026 - modnet - INFO - Loss per individual: ind 0: 0.683 \tind 1: 0.663 \tind 2: 0.622 \tind 3: 0.769 \tind 4: 0.648 \tind 5: 0.698 \tind 6: 0.664 \tind 7: 0.737 \tind 8: 0.719 \tind 9: 0.616 \tind 10: 0.627 \tind 11: 0.646 \tind 12: 0.774 \tind 13: 0.707 \tind 14: 0.658 \tind 15: 0.631 \tind 16: 0.726 \tind 17: 0.795 \tind 18: 0.651 \tind 19: 0.706 \t\n"
     ]
    },
    {
     "name": "stderr",
     "output_type": "stream",
     "text": [
      "\n",
      "INFO:modnet:Loss per individual: ind 0: 0.683 \tind 1: 0.663 \tind 2: 0.622 \tind 3: 0.769 \tind 4: 0.648 \tind 5: 0.698 \tind 6: 0.664 \tind 7: 0.737 \tind 8: 0.719 \tind 9: 0.616 \tind 10: 0.627 \tind 11: 0.646 \tind 12: 0.774 \tind 13: 0.707 \tind 14: 0.658 \tind 15: 0.631 \tind 16: 0.726 \tind 17: 0.795 \tind 18: 0.651 \tind 19: 0.706 \t\n"
     ]
    },
    {
     "name": "stdout",
     "output_type": "stream",
     "text": [
      "2021-06-14 20:53:25,377 - modnet - INFO - Generation number 1\n"
     ]
    },
    {
     "name": "stderr",
     "output_type": "stream",
     "text": [
      "INFO:modnet:Generation number 1\n"
     ]
    },
    {
     "name": "stdout",
     "output_type": "stream",
     "text": [
      "2021-06-14 20:53:28,494 - modnet - INFO - Multiprocessing on 10 cores. Total of 128 cores available.\n"
     ]
    },
    {
     "name": "stderr",
     "output_type": "stream",
     "text": [
      "INFO:modnet:Multiprocessing on 10 cores. Total of 128 cores available.\n",
      "100%|██████████| 100/100 [13:22<00:00,  8.02s/it]"
     ]
    },
    {
     "name": "stdout",
     "output_type": "stream",
     "text": [
      "2021-06-14 21:06:50,997 - modnet - INFO - Loss per individual: ind 0: 0.650 \tind 1: 0.625 \tind 2: 0.650 \tind 3: 0.689 \tind 4: 0.695 \tind 5: 0.662 \tind 6: 0.636 \tind 7: 0.724 \tind 8: 0.698 \tind 9: 0.696 \tind 10: 0.795 \tind 11: 0.619 \tind 12: 0.633 \tind 13: 0.703 \tind 14: 0.697 \tind 15: 0.632 \tind 16: 0.728 \tind 17: 0.802 \tind 18: 0.656 \tind 19: 0.660 \t\n"
     ]
    },
    {
     "name": "stderr",
     "output_type": "stream",
     "text": [
      "\n",
      "INFO:modnet:Loss per individual: ind 0: 0.650 \tind 1: 0.625 \tind 2: 0.650 \tind 3: 0.689 \tind 4: 0.695 \tind 5: 0.662 \tind 6: 0.636 \tind 7: 0.724 \tind 8: 0.698 \tind 9: 0.696 \tind 10: 0.795 \tind 11: 0.619 \tind 12: 0.633 \tind 13: 0.703 \tind 14: 0.697 \tind 15: 0.632 \tind 16: 0.728 \tind 17: 0.802 \tind 18: 0.656 \tind 19: 0.660 \t\n"
     ]
    },
    {
     "name": "stdout",
     "output_type": "stream",
     "text": [
      "2021-06-14 21:06:52,508 - modnet - INFO - Generation number 2\n"
     ]
    },
    {
     "name": "stderr",
     "output_type": "stream",
     "text": [
      "INFO:modnet:Generation number 2\n"
     ]
    },
    {
     "name": "stdout",
     "output_type": "stream",
     "text": [
      "2021-06-14 21:06:56,138 - modnet - INFO - Multiprocessing on 10 cores. Total of 128 cores available.\n"
     ]
    },
    {
     "name": "stderr",
     "output_type": "stream",
     "text": [
      "INFO:modnet:Multiprocessing on 10 cores. Total of 128 cores available.\n",
      "100%|██████████| 100/100 [10:41<00:00,  6.42s/it]"
     ]
    },
    {
     "name": "stdout",
     "output_type": "stream",
     "text": [
      "2021-06-14 21:17:37,792 - modnet - INFO - Loss per individual: ind 0: 0.635 \tind 1: 0.647 \tind 2: 0.712 \tind 3: 0.647 \tind 4: 0.639 \tind 5: 0.711 \tind 6: 0.692 \tind 7: 0.660 \tind 8: 0.633 \tind 9: 0.715 \tind 10: 0.731 \tind 11: 0.698 \tind 12: 0.689 \tind 13: 0.647 \tind 14: 0.642 \tind 15: 0.624 \tind 16: 0.813 \tind 17: 0.631 \tind 18: 0.710 \tind 19: 0.643 \t\n"
     ]
    },
    {
     "name": "stderr",
     "output_type": "stream",
     "text": [
      "\n",
      "INFO:modnet:Loss per individual: ind 0: 0.635 \tind 1: 0.647 \tind 2: 0.712 \tind 3: 0.647 \tind 4: 0.639 \tind 5: 0.711 \tind 6: 0.692 \tind 7: 0.660 \tind 8: 0.633 \tind 9: 0.715 \tind 10: 0.731 \tind 11: 0.698 \tind 12: 0.689 \tind 13: 0.647 \tind 14: 0.642 \tind 15: 0.624 \tind 16: 0.813 \tind 17: 0.631 \tind 18: 0.710 \tind 19: 0.643 \t\n"
     ]
    },
    {
     "name": "stdout",
     "output_type": "stream",
     "text": [
      "2021-06-14 21:17:39,379 - modnet - INFO - Generation number 3\n"
     ]
    },
    {
     "name": "stderr",
     "output_type": "stream",
     "text": [
      "INFO:modnet:Generation number 3\n"
     ]
    },
    {
     "name": "stdout",
     "output_type": "stream",
     "text": [
      "2021-06-14 21:17:43,405 - modnet - INFO - Multiprocessing on 10 cores. Total of 128 cores available.\n"
     ]
    },
    {
     "name": "stderr",
     "output_type": "stream",
     "text": [
      "INFO:modnet:Multiprocessing on 10 cores. Total of 128 cores available.\n",
      "100%|██████████| 100/100 [13:10<00:00,  7.91s/it]"
     ]
    },
    {
     "name": "stdout",
     "output_type": "stream",
     "text": [
      "2021-06-14 21:30:54,159 - modnet - INFO - Loss per individual: ind 0: 0.748 \tind 1: 0.693 \tind 2: 0.627 \tind 3: 0.722 \tind 4: 0.699 \tind 5: 0.687 \tind 6: 0.702 \tind 7: 0.638 \tind 8: 0.643 \tind 9: 0.666 \tind 10: 0.702 \tind 11: 0.721 \tind 12: 0.713 \tind 13: 0.682 \tind 14: 0.643 \tind 15: 0.664 \tind 16: 0.635 \tind 17: 0.750 \tind 18: 0.637 \tind 19: 0.739 \t\n"
     ]
    },
    {
     "name": "stderr",
     "output_type": "stream",
     "text": [
      "\n",
      "INFO:modnet:Loss per individual: ind 0: 0.748 \tind 1: 0.693 \tind 2: 0.627 \tind 3: 0.722 \tind 4: 0.699 \tind 5: 0.687 \tind 6: 0.702 \tind 7: 0.638 \tind 8: 0.643 \tind 9: 0.666 \tind 10: 0.702 \tind 11: 0.721 \tind 12: 0.713 \tind 13: 0.682 \tind 14: 0.643 \tind 15: 0.664 \tind 16: 0.635 \tind 17: 0.750 \tind 18: 0.637 \tind 19: 0.739 \t\n"
     ]
    },
    {
     "name": "stdout",
     "output_type": "stream",
     "text": [
      "2021-06-14 21:30:55,712 - modnet - INFO - Early stopping: same best model for 4 consecutive generations\n"
     ]
    },
    {
     "name": "stderr",
     "output_type": "stream",
     "text": [
      "INFO:modnet:Early stopping: same best model for 4 consecutive generations\n"
     ]
    },
    {
     "name": "stdout",
     "output_type": "stream",
     "text": [
      "Loaded 3 models\n",
      "MAE =\n",
      "0.3084865858700461\n",
      "2021-06-14 21:33:21,872 - modnet - INFO - Loaded <modnet.preprocessing.MODData object at 0x7f29b4f77ac0> object, created with modnet version 0.1.9\n"
     ]
    },
    {
     "name": "stderr",
     "output_type": "stream",
     "text": [
      "INFO:modnet:Loaded <modnet.preprocessing.MODData object at 0x7f29b4f77ac0> object, created with modnet version 0.1.9\n"
     ]
    },
    {
     "name": "stdout",
     "output_type": "stream",
     "text": [
      "2021-06-14 21:33:22,668 - modnet - INFO - Generation number 0\n"
     ]
    },
    {
     "name": "stderr",
     "output_type": "stream",
     "text": [
      "INFO:modnet:Generation number 0\n"
     ]
    },
    {
     "name": "stdout",
     "output_type": "stream",
     "text": [
      "2021-06-14 21:33:26,861 - modnet - INFO - Multiprocessing on 10 cores. Total of 128 cores available.\n"
     ]
    },
    {
     "name": "stderr",
     "output_type": "stream",
     "text": [
      "INFO:modnet:Multiprocessing on 10 cores. Total of 128 cores available.\n",
      "100%|██████████| 100/100 [20:03<00:00, 12.03s/it]"
     ]
    },
    {
     "name": "stdout",
     "output_type": "stream",
     "text": [
      "2021-06-14 21:53:30,113 - modnet - INFO - Loss per individual: ind 0: 0.612 \tind 1: 0.719 \tind 2: 1.391 \tind 3: 0.644 \tind 4: 0.693 \tind 5: 0.640 \tind 6: 0.787 \tind 7: 2.082 \tind 8: 0.634 \tind 9: 1.196 \tind 10: 1.243 \tind 11: 2.432 \tind 12: 7.438 \tind 13: 2.146 \tind 14: 0.793 \tind 15: 0.638 \tind 16: 5.748 \tind 17: 0.620 \tind 18: 0.625 \tind 19: 14.669 \t\n"
     ]
    },
    {
     "name": "stderr",
     "output_type": "stream",
     "text": [
      "\n",
      "INFO:modnet:Loss per individual: ind 0: 0.612 \tind 1: 0.719 \tind 2: 1.391 \tind 3: 0.644 \tind 4: 0.693 \tind 5: 0.640 \tind 6: 0.787 \tind 7: 2.082 \tind 8: 0.634 \tind 9: 1.196 \tind 10: 1.243 \tind 11: 2.432 \tind 12: 7.438 \tind 13: 2.146 \tind 14: 0.793 \tind 15: 0.638 \tind 16: 5.748 \tind 17: 0.620 \tind 18: 0.625 \tind 19: 14.669 \t\n"
     ]
    },
    {
     "name": "stdout",
     "output_type": "stream",
     "text": [
      "2021-06-14 21:53:31,703 - modnet - INFO - Generation number 1\n"
     ]
    },
    {
     "name": "stderr",
     "output_type": "stream",
     "text": [
      "INFO:modnet:Generation number 1\n"
     ]
    },
    {
     "name": "stdout",
     "output_type": "stream",
     "text": [
      "2021-06-14 21:53:35,522 - modnet - INFO - Multiprocessing on 10 cores. Total of 128 cores available.\n"
     ]
    },
    {
     "name": "stderr",
     "output_type": "stream",
     "text": [
      "INFO:modnet:Multiprocessing on 10 cores. Total of 128 cores available.\n",
      "100%|██████████| 100/100 [24:28<00:00, 14.69s/it]"
     ]
    },
    {
     "name": "stdout",
     "output_type": "stream",
     "text": [
      "2021-06-14 22:18:04,336 - modnet - INFO - Loss per individual: ind 0: 0.629 \tind 1: 0.640 \tind 2: 0.630 \tind 3: 0.631 \tind 4: 1.718 \tind 5: 0.634 \tind 6: 0.683 \tind 7: 0.614 \tind 8: 3.465 \tind 9: 0.625 \tind 10: 0.622 \tind 11: 0.634 \tind 12: 0.688 \tind 13: 0.650 \tind 14: 0.643 \tind 15: 0.625 \tind 16: 0.627 \tind 17: 0.607 \tind 18: 0.621 \tind 19: 0.617 \t\n"
     ]
    },
    {
     "name": "stderr",
     "output_type": "stream",
     "text": [
      "\n",
      "INFO:modnet:Loss per individual: ind 0: 0.629 \tind 1: 0.640 \tind 2: 0.630 \tind 3: 0.631 \tind 4: 1.718 \tind 5: 0.634 \tind 6: 0.683 \tind 7: 0.614 \tind 8: 3.465 \tind 9: 0.625 \tind 10: 0.622 \tind 11: 0.634 \tind 12: 0.688 \tind 13: 0.650 \tind 14: 0.643 \tind 15: 0.625 \tind 16: 0.627 \tind 17: 0.607 \tind 18: 0.621 \tind 19: 0.617 \t\n"
     ]
    },
    {
     "name": "stdout",
     "output_type": "stream",
     "text": [
      "2021-06-14 22:18:05,991 - modnet - INFO - Generation number 2\n"
     ]
    },
    {
     "name": "stderr",
     "output_type": "stream",
     "text": [
      "INFO:modnet:Generation number 2\n"
     ]
    },
    {
     "name": "stdout",
     "output_type": "stream",
     "text": [
      "2021-06-14 22:18:10,157 - modnet - INFO - Multiprocessing on 10 cores. Total of 128 cores available.\n"
     ]
    },
    {
     "name": "stderr",
     "output_type": "stream",
     "text": [
      "INFO:modnet:Multiprocessing on 10 cores. Total of 128 cores available.\n",
      "100%|██████████| 100/100 [37:40<00:00, 22.60s/it]  "
     ]
    },
    {
     "name": "stdout",
     "output_type": "stream",
     "text": [
      "2021-06-14 22:55:50,519 - modnet - INFO - Loss per individual: ind 0: 0.588 \tind 1: 0.660 \tind 2: 0.597 \tind 3: 0.620 \tind 4: 0.602 \tind 5: 0.647 \tind 6: 0.678 \tind 7: 0.611 \tind 8: 0.613 \tind 9: 0.615 \tind 10: 0.605 \tind 11: 0.643 \tind 12: 0.627 \tind 13: 0.630 \tind 14: 0.644 \tind 15: 0.632 \tind 16: 0.611 \tind 17: 0.595 \tind 18: 0.652 \tind 19: 0.609 \t\n"
     ]
    },
    {
     "name": "stderr",
     "output_type": "stream",
     "text": [
      "\n",
      "INFO:modnet:Loss per individual: ind 0: 0.588 \tind 1: 0.660 \tind 2: 0.597 \tind 3: 0.620 \tind 4: 0.602 \tind 5: 0.647 \tind 6: 0.678 \tind 7: 0.611 \tind 8: 0.613 \tind 9: 0.615 \tind 10: 0.605 \tind 11: 0.643 \tind 12: 0.627 \tind 13: 0.630 \tind 14: 0.644 \tind 15: 0.632 \tind 16: 0.611 \tind 17: 0.595 \tind 18: 0.652 \tind 19: 0.609 \t\n"
     ]
    },
    {
     "name": "stdout",
     "output_type": "stream",
     "text": [
      "2021-06-14 22:55:52,224 - modnet - INFO - Generation number 3\n"
     ]
    },
    {
     "name": "stderr",
     "output_type": "stream",
     "text": [
      "INFO:modnet:Generation number 3\n"
     ]
    },
    {
     "name": "stdout",
     "output_type": "stream",
     "text": [
      "2021-06-14 22:55:56,379 - modnet - INFO - Multiprocessing on 10 cores. Total of 128 cores available.\n"
     ]
    },
    {
     "name": "stderr",
     "output_type": "stream",
     "text": [
      "INFO:modnet:Multiprocessing on 10 cores. Total of 128 cores available.\n",
      "100%|██████████| 100/100 [12:27<00:00,  7.48s/it]"
     ]
    },
    {
     "name": "stdout",
     "output_type": "stream",
     "text": [
      "2021-06-14 23:08:24,180 - modnet - INFO - Loss per individual: ind 0: 0.613 \tind 1: 0.689 \tind 2: 0.620 \tind 3: 0.614 \tind 4: 0.644 \tind 5: 0.631 \tind 6: 0.607 \tind 7: 0.627 \tind 8: 0.653 \tind 9: 0.718 \tind 10: 0.635 \tind 11: 0.639 \tind 12: 0.632 \tind 13: 0.605 \tind 14: 0.606 \tind 15: 0.641 \tind 16: 0.615 \tind 17: 0.634 \tind 18: 0.648 \tind 19: 0.604 \t\n"
     ]
    },
    {
     "name": "stderr",
     "output_type": "stream",
     "text": [
      "\n",
      "INFO:modnet:Loss per individual: ind 0: 0.613 \tind 1: 0.689 \tind 2: 0.620 \tind 3: 0.614 \tind 4: 0.644 \tind 5: 0.631 \tind 6: 0.607 \tind 7: 0.627 \tind 8: 0.653 \tind 9: 0.718 \tind 10: 0.635 \tind 11: 0.639 \tind 12: 0.632 \tind 13: 0.605 \tind 14: 0.606 \tind 15: 0.641 \tind 16: 0.615 \tind 17: 0.634 \tind 18: 0.648 \tind 19: 0.604 \t\n"
     ]
    },
    {
     "name": "stdout",
     "output_type": "stream",
     "text": [
      "2021-06-14 23:08:25,744 - modnet - INFO - Generation number 4\n"
     ]
    },
    {
     "name": "stderr",
     "output_type": "stream",
     "text": [
      "INFO:modnet:Generation number 4\n"
     ]
    },
    {
     "name": "stdout",
     "output_type": "stream",
     "text": [
      "2021-06-14 23:08:30,096 - modnet - INFO - Multiprocessing on 10 cores. Total of 128 cores available.\n"
     ]
    },
    {
     "name": "stderr",
     "output_type": "stream",
     "text": [
      "INFO:modnet:Multiprocessing on 10 cores. Total of 128 cores available.\n",
      "100%|██████████| 100/100 [12:24<00:00,  7.45s/it]"
     ]
    },
    {
     "name": "stdout",
     "output_type": "stream",
     "text": [
      "2021-06-14 23:20:55,175 - modnet - INFO - Loss per individual: ind 0: 0.671 \tind 1: 0.692 \tind 2: 0.692 \tind 3: 0.615 \tind 4: 0.617 \tind 5: 0.663 \tind 6: 0.621 \tind 7: 0.626 \tind 8: 0.605 \tind 9: 0.604 \tind 10: 0.625 \tind 11: 0.611 \tind 12: 0.625 \tind 13: 0.632 \tind 14: 0.612 \tind 15: 0.665 \tind 16: 0.612 \tind 17: 0.616 \tind 18: 0.605 \tind 19: 0.612 \t\n"
     ]
    },
    {
     "name": "stderr",
     "output_type": "stream",
     "text": [
      "\n",
      "INFO:modnet:Loss per individual: ind 0: 0.671 \tind 1: 0.692 \tind 2: 0.692 \tind 3: 0.615 \tind 4: 0.617 \tind 5: 0.663 \tind 6: 0.621 \tind 7: 0.626 \tind 8: 0.605 \tind 9: 0.604 \tind 10: 0.625 \tind 11: 0.611 \tind 12: 0.625 \tind 13: 0.632 \tind 14: 0.612 \tind 15: 0.665 \tind 16: 0.612 \tind 17: 0.616 \tind 18: 0.605 \tind 19: 0.612 \t\n"
     ]
    },
    {
     "name": "stdout",
     "output_type": "stream",
     "text": [
      "2021-06-14 23:20:56,979 - modnet - INFO - Generation number 5\n"
     ]
    },
    {
     "name": "stderr",
     "output_type": "stream",
     "text": [
      "INFO:modnet:Generation number 5\n"
     ]
    },
    {
     "name": "stdout",
     "output_type": "stream",
     "text": [
      "2021-06-14 23:21:02,523 - modnet - INFO - Multiprocessing on 10 cores. Total of 128 cores available.\n"
     ]
    },
    {
     "name": "stderr",
     "output_type": "stream",
     "text": [
      "INFO:modnet:Multiprocessing on 10 cores. Total of 128 cores available.\n",
      "100%|██████████| 100/100 [11:03<00:00,  6.64s/it]"
     ]
    },
    {
     "name": "stdout",
     "output_type": "stream",
     "text": [
      "2021-06-14 23:32:06,197 - modnet - INFO - Loss per individual: ind 0: 0.616 \tind 1: 0.635 \tind 2: 0.624 \tind 3: 0.645 \tind 4: 0.608 \tind 5: 0.623 \tind 6: 0.631 \tind 7: 0.623 \tind 8: 0.604 \tind 9: 0.614 \tind 10: 0.628 \tind 11: 0.609 \tind 12: 0.606 \tind 13: 0.610 \tind 14: 0.669 \tind 15: 0.662 \tind 16: 0.595 \tind 17: 0.607 \tind 18: 0.633 \tind 19: 0.644 \t\n"
     ]
    },
    {
     "name": "stderr",
     "output_type": "stream",
     "text": [
      "\n",
      "INFO:modnet:Loss per individual: ind 0: 0.616 \tind 1: 0.635 \tind 2: 0.624 \tind 3: 0.645 \tind 4: 0.608 \tind 5: 0.623 \tind 6: 0.631 \tind 7: 0.623 \tind 8: 0.604 \tind 9: 0.614 \tind 10: 0.628 \tind 11: 0.609 \tind 12: 0.606 \tind 13: 0.610 \tind 14: 0.669 \tind 15: 0.662 \tind 16: 0.595 \tind 17: 0.607 \tind 18: 0.633 \tind 19: 0.644 \t\n"
     ]
    },
    {
     "name": "stdout",
     "output_type": "stream",
     "text": [
      "2021-06-14 23:32:07,698 - modnet - INFO - Early stopping: same best model for 4 consecutive generations\n"
     ]
    },
    {
     "name": "stderr",
     "output_type": "stream",
     "text": [
      "INFO:modnet:Early stopping: same best model for 4 consecutive generations\n"
     ]
    },
    {
     "name": "stdout",
     "output_type": "stream",
     "text": [
      "Loaded 3 models\n",
      "MAE =\n",
      "0.3432599093905878\n",
      "2021-06-14 23:34:16,015 - modnet - INFO - Loaded <modnet.preprocessing.MODData object at 0x7f295471b5e0> object, created with modnet version 0.1.9\n"
     ]
    },
    {
     "name": "stderr",
     "output_type": "stream",
     "text": [
      "INFO:modnet:Loaded <modnet.preprocessing.MODData object at 0x7f295471b5e0> object, created with modnet version 0.1.9\n"
     ]
    },
    {
     "name": "stdout",
     "output_type": "stream",
     "text": [
      "2021-06-14 23:34:16,589 - modnet - INFO - Generation number 0\n"
     ]
    },
    {
     "name": "stderr",
     "output_type": "stream",
     "text": [
      "INFO:modnet:Generation number 0\n"
     ]
    },
    {
     "name": "stdout",
     "output_type": "stream",
     "text": [
      "2021-06-14 23:34:20,647 - modnet - INFO - Multiprocessing on 10 cores. Total of 128 cores available.\n"
     ]
    },
    {
     "name": "stderr",
     "output_type": "stream",
     "text": [
      "INFO:modnet:Multiprocessing on 10 cores. Total of 128 cores available.\n",
      "100%|██████████| 100/100 [11:10<00:00,  6.71s/it]"
     ]
    },
    {
     "name": "stdout",
     "output_type": "stream",
     "text": [
      "2021-06-14 23:45:31,300 - modnet - INFO - Loss per individual: ind 0: 0.682 \tind 1: 0.619 \tind 2: 0.635 \tind 3: 0.643 \tind 4: 0.640 \tind 5: 0.625 \tind 6: 0.702 \tind 7: 0.599 \tind 8: 0.634 \tind 9: 0.763 \tind 10: 0.620 \tind 11: 0.665 \tind 12: 0.650 \tind 13: 1.655 \tind 14: 4.330 \tind 15: 0.644 \tind 16: 0.639 \tind 17: 0.666 \tind 18: 0.635 \tind 19: 0.624 \t\n"
     ]
    },
    {
     "name": "stderr",
     "output_type": "stream",
     "text": [
      "\n",
      "INFO:modnet:Loss per individual: ind 0: 0.682 \tind 1: 0.619 \tind 2: 0.635 \tind 3: 0.643 \tind 4: 0.640 \tind 5: 0.625 \tind 6: 0.702 \tind 7: 0.599 \tind 8: 0.634 \tind 9: 0.763 \tind 10: 0.620 \tind 11: 0.665 \tind 12: 0.650 \tind 13: 1.655 \tind 14: 4.330 \tind 15: 0.644 \tind 16: 0.639 \tind 17: 0.666 \tind 18: 0.635 \tind 19: 0.624 \t\n"
     ]
    },
    {
     "name": "stdout",
     "output_type": "stream",
     "text": [
      "2021-06-14 23:45:32,814 - modnet - INFO - Generation number 1\n"
     ]
    },
    {
     "name": "stderr",
     "output_type": "stream",
     "text": [
      "INFO:modnet:Generation number 1\n"
     ]
    },
    {
     "name": "stdout",
     "output_type": "stream",
     "text": [
      "2021-06-14 23:45:36,709 - modnet - INFO - Multiprocessing on 10 cores. Total of 128 cores available.\n"
     ]
    },
    {
     "name": "stderr",
     "output_type": "stream",
     "text": [
      "INFO:modnet:Multiprocessing on 10 cores. Total of 128 cores available.\n",
      "100%|██████████| 100/100 [12:06<00:00,  7.26s/it]"
     ]
    },
    {
     "name": "stdout",
     "output_type": "stream",
     "text": [
      "2021-06-14 23:57:43,005 - modnet - INFO - Loss per individual: ind 0: 0.656 \tind 1: 0.644 \tind 2: 0.680 \tind 3: 0.632 \tind 4: 0.633 \tind 5: 0.620 \tind 6: 0.649 \tind 7: 0.630 \tind 8: 0.632 \tind 9: 0.633 \tind 10: 0.647 \tind 11: 0.700 \tind 12: 0.627 \tind 13: 0.668 \tind 14: 0.611 \tind 15: 0.650 \tind 16: 0.744 \tind 17: 0.651 \tind 18: 0.667 \tind 19: 0.639 \t\n"
     ]
    },
    {
     "name": "stderr",
     "output_type": "stream",
     "text": [
      "\n",
      "INFO:modnet:Loss per individual: ind 0: 0.656 \tind 1: 0.644 \tind 2: 0.680 \tind 3: 0.632 \tind 4: 0.633 \tind 5: 0.620 \tind 6: 0.649 \tind 7: 0.630 \tind 8: 0.632 \tind 9: 0.633 \tind 10: 0.647 \tind 11: 0.700 \tind 12: 0.627 \tind 13: 0.668 \tind 14: 0.611 \tind 15: 0.650 \tind 16: 0.744 \tind 17: 0.651 \tind 18: 0.667 \tind 19: 0.639 \t\n"
     ]
    },
    {
     "name": "stdout",
     "output_type": "stream",
     "text": [
      "2021-06-14 23:57:44,677 - modnet - INFO - Generation number 2\n"
     ]
    },
    {
     "name": "stderr",
     "output_type": "stream",
     "text": [
      "INFO:modnet:Generation number 2\n"
     ]
    },
    {
     "name": "stdout",
     "output_type": "stream",
     "text": [
      "2021-06-14 23:57:49,273 - modnet - INFO - Multiprocessing on 10 cores. Total of 128 cores available.\n"
     ]
    },
    {
     "name": "stderr",
     "output_type": "stream",
     "text": [
      "INFO:modnet:Multiprocessing on 10 cores. Total of 128 cores available.\n",
      "100%|██████████| 100/100 [13:44<00:00,  8.25s/it]"
     ]
    },
    {
     "name": "stdout",
     "output_type": "stream",
     "text": [
      "2021-06-15 00:11:33,901 - modnet - INFO - Loss per individual: ind 0: 0.631 \tind 1: 0.623 \tind 2: 0.589 \tind 3: 0.621 \tind 4: 0.622 \tind 5: 0.670 \tind 6: 0.583 \tind 7: 0.634 \tind 8: 0.609 \tind 9: 0.718 \tind 10: 0.690 \tind 11: 0.648 \tind 12: 0.727 \tind 13: 0.645 \tind 14: 0.618 \tind 15: 0.603 \tind 16: 0.608 \tind 17: 0.627 \tind 18: 0.624 \tind 19: 0.628 \t\n"
     ]
    },
    {
     "name": "stderr",
     "output_type": "stream",
     "text": [
      "\n",
      "INFO:modnet:Loss per individual: ind 0: 0.631 \tind 1: 0.623 \tind 2: 0.589 \tind 3: 0.621 \tind 4: 0.622 \tind 5: 0.670 \tind 6: 0.583 \tind 7: 0.634 \tind 8: 0.609 \tind 9: 0.718 \tind 10: 0.690 \tind 11: 0.648 \tind 12: 0.727 \tind 13: 0.645 \tind 14: 0.618 \tind 15: 0.603 \tind 16: 0.608 \tind 17: 0.627 \tind 18: 0.624 \tind 19: 0.628 \t\n"
     ]
    },
    {
     "name": "stdout",
     "output_type": "stream",
     "text": [
      "2021-06-15 00:11:35,742 - modnet - INFO - Generation number 3\n"
     ]
    },
    {
     "name": "stderr",
     "output_type": "stream",
     "text": [
      "INFO:modnet:Generation number 3\n"
     ]
    },
    {
     "name": "stdout",
     "output_type": "stream",
     "text": [
      "2021-06-15 00:11:40,941 - modnet - INFO - Multiprocessing on 10 cores. Total of 128 cores available.\n"
     ]
    },
    {
     "name": "stderr",
     "output_type": "stream",
     "text": [
      "INFO:modnet:Multiprocessing on 10 cores. Total of 128 cores available.\n",
      "100%|██████████| 100/100 [11:07<00:00,  6.67s/it]"
     ]
    },
    {
     "name": "stdout",
     "output_type": "stream",
     "text": [
      "2021-06-15 00:22:48,457 - modnet - INFO - Loss per individual: ind 0: 0.675 \tind 1: 0.655 \tind 2: 0.629 \tind 3: 0.713 \tind 4: 0.644 \tind 5: 0.608 \tind 6: 0.618 \tind 7: 0.585 \tind 8: 0.725 \tind 9: 0.661 \tind 10: 0.646 \tind 11: 0.646 \tind 12: 0.705 \tind 13: 0.678 \tind 14: 0.632 \tind 15: 0.612 \tind 16: 0.681 \tind 17: 0.605 \tind 18: 0.645 \tind 19: 0.632 \t\n"
     ]
    },
    {
     "name": "stderr",
     "output_type": "stream",
     "text": [
      "\n",
      "INFO:modnet:Loss per individual: ind 0: 0.675 \tind 1: 0.655 \tind 2: 0.629 \tind 3: 0.713 \tind 4: 0.644 \tind 5: 0.608 \tind 6: 0.618 \tind 7: 0.585 \tind 8: 0.725 \tind 9: 0.661 \tind 10: 0.646 \tind 11: 0.646 \tind 12: 0.705 \tind 13: 0.678 \tind 14: 0.632 \tind 15: 0.612 \tind 16: 0.681 \tind 17: 0.605 \tind 18: 0.645 \tind 19: 0.632 \t\n"
     ]
    },
    {
     "name": "stdout",
     "output_type": "stream",
     "text": [
      "2021-06-15 00:22:50,224 - modnet - INFO - Generation number 4\n"
     ]
    },
    {
     "name": "stderr",
     "output_type": "stream",
     "text": [
      "INFO:modnet:Generation number 4\n"
     ]
    },
    {
     "name": "stdout",
     "output_type": "stream",
     "text": [
      "2021-06-15 00:22:55,515 - modnet - INFO - Multiprocessing on 10 cores. Total of 128 cores available.\n"
     ]
    },
    {
     "name": "stderr",
     "output_type": "stream",
     "text": [
      "INFO:modnet:Multiprocessing on 10 cores. Total of 128 cores available.\n",
      "100%|██████████| 100/100 [09:58<00:00,  5.99s/it]"
     ]
    },
    {
     "name": "stdout",
     "output_type": "stream",
     "text": [
      "2021-06-15 00:32:54,555 - modnet - INFO - Loss per individual: ind 0: 0.643 \tind 1: 0.699 \tind 2: 0.606 \tind 3: 0.591 \tind 4: 0.662 \tind 5: 0.649 \tind 6: 0.612 \tind 7: 0.627 \tind 8: 0.713 \tind 9: 0.613 \tind 10: 0.622 \tind 11: 0.658 \tind 12: 0.597 \tind 13: 0.619 \tind 14: 0.641 \tind 15: 0.614 \tind 16: 0.623 \tind 17: 0.632 \tind 18: 0.662 \tind 19: 0.615 \t\n"
     ]
    },
    {
     "name": "stderr",
     "output_type": "stream",
     "text": [
      "\n",
      "INFO:modnet:Loss per individual: ind 0: 0.643 \tind 1: 0.699 \tind 2: 0.606 \tind 3: 0.591 \tind 4: 0.662 \tind 5: 0.649 \tind 6: 0.612 \tind 7: 0.627 \tind 8: 0.713 \tind 9: 0.613 \tind 10: 0.622 \tind 11: 0.658 \tind 12: 0.597 \tind 13: 0.619 \tind 14: 0.641 \tind 15: 0.614 \tind 16: 0.623 \tind 17: 0.632 \tind 18: 0.662 \tind 19: 0.615 \t\n"
     ]
    },
    {
     "name": "stdout",
     "output_type": "stream",
     "text": [
      "2021-06-15 00:32:56,386 - modnet - INFO - Generation number 5\n"
     ]
    },
    {
     "name": "stderr",
     "output_type": "stream",
     "text": [
      "INFO:modnet:Generation number 5\n"
     ]
    },
    {
     "name": "stdout",
     "output_type": "stream",
     "text": [
      "2021-06-15 00:33:02,212 - modnet - INFO - Multiprocessing on 10 cores. Total of 128 cores available.\n"
     ]
    },
    {
     "name": "stderr",
     "output_type": "stream",
     "text": [
      "INFO:modnet:Multiprocessing on 10 cores. Total of 128 cores available.\n",
      "100%|██████████| 100/100 [13:03<00:00,  7.83s/it] "
     ]
    },
    {
     "name": "stdout",
     "output_type": "stream",
     "text": [
      "2021-06-15 00:46:05,844 - modnet - INFO - Loss per individual: ind 0: 0.665 \tind 1: 0.609 \tind 2: 0.590 \tind 3: 0.643 \tind 4: 0.676 \tind 5: 0.630 \tind 6: 0.630 \tind 7: 0.614 \tind 8: 0.649 \tind 9: 0.667 \tind 10: 0.716 \tind 11: 0.619 \tind 12: 0.643 \tind 13: 0.642 \tind 14: 0.655 \tind 15: 0.655 \tind 16: 0.604 \tind 17: 0.744 \tind 18: 0.635 \tind 19: 0.626 \t\n"
     ]
    },
    {
     "name": "stderr",
     "output_type": "stream",
     "text": [
      "\n",
      "INFO:modnet:Loss per individual: ind 0: 0.665 \tind 1: 0.609 \tind 2: 0.590 \tind 3: 0.643 \tind 4: 0.676 \tind 5: 0.630 \tind 6: 0.630 \tind 7: 0.614 \tind 8: 0.649 \tind 9: 0.667 \tind 10: 0.716 \tind 11: 0.619 \tind 12: 0.643 \tind 13: 0.642 \tind 14: 0.655 \tind 15: 0.655 \tind 16: 0.604 \tind 17: 0.744 \tind 18: 0.635 \tind 19: 0.626 \t\n"
     ]
    },
    {
     "name": "stdout",
     "output_type": "stream",
     "text": [
      "2021-06-15 00:46:07,809 - modnet - INFO - Early stopping: same best model for 4 consecutive generations\n"
     ]
    },
    {
     "name": "stderr",
     "output_type": "stream",
     "text": [
      "INFO:modnet:Early stopping: same best model for 4 consecutive generations\n"
     ]
    },
    {
     "name": "stdout",
     "output_type": "stream",
     "text": [
      "Loaded 3 models\n",
      "MAE =\n",
      "0.37428165677317615\n"
     ]
    }
   ],
   "source": [
    "import math\n",
    "from pymatgen.ext.matproj import MPRester\n",
    "from pymatgen.core.structure import Structure\n",
    "\n",
    "k = 5\n",
    "random_state = 202010\n",
    "folds = MDKsplit(md_joint,n_splits=k,random_state=random_state)\n",
    "maes = np.ones(5)\n",
    "for i,f in enumerate(folds):\n",
    "    train = f[0]\n",
    "    test = f[1]\n",
    "    #train.feature_selection(n=-1, use_precomputed_cross_nmi=True)\n",
    "    fpath = 'train_{}_{}'.format(random_state,i+1)\n",
    "    if os.path.exists(fpath):\n",
    "        train = MODData.load(fpath)\n",
    "    else:\n",
    "        train.feature_selection(n=-1, use_precomputed_cross_nmi=True)\n",
    "        train.save(fpath)\n",
    "             \n",
    "    # assure no overlap\n",
    "    assert len(set(train.df_targets.index).intersection(set(test.df_targets.index))) == 0\n",
    "    \n",
    "    fpath_meg = 'train_meg_{}_{}.pkl'.format(random_state,i+1)\n",
    "    if os.path.exists(fpath_meg):\n",
    "        train_meg = pd.read_pickle(fpath_meg)\n",
    "    else:\n",
    "        with MPRester(\"v454AlrxL5Zg0cLAXW0\") as mpr:\n",
    "            for a in range(len(train.df_structure)):\n",
    "                try:\n",
    "                    structure = mpr.get_doc(mpr.get_materials_id_from_task_id(train.df_structure.index[a]))['structure']\n",
    "                    train.df_structure['structure'][a] = structure\n",
    "                except:\n",
    "                    train.df_structure['structure'][a] = math.nan      \n",
    "        for b in range(len(train.df_structure)):\n",
    "            structure = Structure.from_dict(train.df_structure['structure'][b])\n",
    "            train.df_structure['structure'][b] = structure\n",
    "        train_meg = train.df_structure\n",
    "        train_meg.to_pickle(fpath_meg)\n",
    "    \n",
    "    fpath_meg_test = 'train_meg_test_{}_{}.pkl'.format(random_state,i+1)\n",
    "    if os.path.exists(fpath_meg_test):\n",
    "        test_meg = pd.read_pickle(fpath_meg_test)\n",
    "    else:\n",
    "        with MPRester(\"v454AlrxL5Zg0cLAXW0\") as mpr:\n",
    "            for c in range(len(test.df_structure)):\n",
    "                try:\n",
    "                    structure = mpr.get_doc(mpr.get_materials_id_from_task_id(test.df_structure.index[c]))['structure']\n",
    "                    test.df_structure['structure'][c] = structure\n",
    "                except:\n",
    "                    test.df_structure['structure'][c] = math.nan\n",
    "        for d in range(len(test.df_structure)):\n",
    "            structure = Structure.from_dict(test.df_structure['structure'][d])\n",
    "            test.df_structure['structure'][d] = structure\n",
    "        test_meg = test.df_structure\n",
    "        test_meg.to_pickle(fpath_meg_test)\n",
    "    \n",
    "    ga = FitGenetic(train)\n",
    "    model3 = ga.run(size_pop=20, num_generations=10, n_jobs=10)\n",
    "    \n",
    "    # load all models\n",
    "    members = [model_form, model2, model3]\n",
    "    print('Loaded %d models' % len(members))\n",
    "    \n",
    "    # fit stacked model on test dataset\n",
    "    model = fit_stacked_model(members, inputX=train, inputy=train.df_targets.to_numpy(), inputX_meg=train_meg)\n",
    "\n",
    "    # evaluate model on test set\n",
    "    pred = stacked_prediction(members, model, test, test_meg)\n",
    "    pred = pd.DataFrame(pred)\n",
    "    pred = pred.rename(columns={pred.columns[0]: 'exp_gap'})\n",
    "    true = test.df_targets\n",
    "    for j in range(len(pred)):\n",
    "        pred = pred.rename(index={pred.index[j]: true.index[j]})\n",
    "    error = pred-true\n",
    "    error = error['exp_gap'].drop(pred.index[((pred['exp_gap']).abs()>20)]) # drop unrealistic values: happens extremely rarely\n",
    "    mae = np.abs(error.values).mean()\n",
    "    print('MAE =')\n",
    "    print(mae)\n",
    "    maes[i] = mae"
   ]
  },
  {
   "cell_type": "code",
   "execution_count": 17,
   "metadata": {
    "ExecuteTime": {
     "end_time": "2021-06-14T22:48:44.721230Z",
     "start_time": "2021-06-14T22:48:44.707513Z"
    }
   },
   "outputs": [
    {
     "data": {
      "text/plain": [
       "array([0.40554031, 0.35850184, 0.30848659, 0.34325991, 0.37428166])"
      ]
     },
     "execution_count": 17,
     "metadata": {},
     "output_type": "execute_result"
    }
   ],
   "source": [
    "maes"
   ]
  },
  {
   "cell_type": "code",
   "execution_count": 18,
   "metadata": {
    "ExecuteTime": {
     "end_time": "2021-06-14T22:48:44.791169Z",
     "start_time": "2021-06-14T22:48:44.723437Z"
    }
   },
   "outputs": [
    {
     "data": {
      "text/plain": [
       "0.35801406179373074"
      ]
     },
     "execution_count": 18,
     "metadata": {},
     "output_type": "execute_result"
    }
   ],
   "source": [
    "maes.mean()"
   ]
  },
  {
   "cell_type": "markdown",
   "metadata": {},
   "source": [
    "### Conclusion"
   ]
  },
  {
   "cell_type": "markdown",
   "metadata": {},
   "source": [
    "Relative percentage change of the error compared to MODNet_exp_GA reference: -3%"
   ]
  }
 ],
 "metadata": {
  "kernelspec": {
   "display_name": "Python [conda env:modnet]",
   "language": "python",
   "name": "conda-env-modnet-py"
  },
  "language_info": {
   "codemirror_mode": {
    "name": "ipython",
    "version": 3
   },
   "file_extension": ".py",
   "mimetype": "text/x-python",
   "name": "python",
   "nbconvert_exporter": "python",
   "pygments_lexer": "ipython3",
   "version": "3.8.5"
  }
 },
 "nbformat": 4,
 "nbformat_minor": 4
}
