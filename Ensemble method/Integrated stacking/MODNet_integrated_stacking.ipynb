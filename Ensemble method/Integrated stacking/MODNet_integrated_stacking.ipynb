{
 "cells": [
  {
   "cell_type": "markdown",
   "metadata": {
    "ExecuteTime": {
     "end_time": "2021-02-17T10:56:18.873231Z",
     "start_time": "2021-02-17T10:56:14.465585Z"
    }
   },
   "source": [
    "# Integrated Stacking Model"
   ]
  },
  {
   "cell_type": "markdown",
   "metadata": {},
   "source": [
    "When using neural networks as sub-models, it may be desirable to use a neural network as a meta-learner. In this model, we used the last layer of the three MODNet sub-models (trained on the PBE, HSE and experimental datasets) as inputs for our meta-learner."
   ]
  },
  {
   "cell_type": "code",
   "execution_count": 1,
   "metadata": {
    "ExecuteTime": {
     "end_time": "2021-06-17T22:52:05.667370Z",
     "start_time": "2021-06-17T22:52:05.653027Z"
    }
   },
   "outputs": [],
   "source": [
    "def setup_threading():\n",
    "    import os\n",
    "    os.environ['OPENBLAS_NUM_THREADS'] = '1'\n",
    "    os.environ['MKL_NUM_THREADS'] = '1'\n",
    "    os.environ[\"OMP_NUM_THREADS\"] = \"1\"\n",
    "    os.environ[\"TF_NUM_INTRAOP_THREADS\"] = \"1\"\n",
    "    os.environ[\"TF_NUM_INTEROP_THREADS\"] = \"1\"\n",
    "    os.environ[\"CUDA_VISIBLE_DEVICES\"] = \"-1\""
   ]
  },
  {
   "cell_type": "code",
   "execution_count": 2,
   "metadata": {
    "ExecuteTime": {
     "end_time": "2021-06-17T22:52:06.455783Z",
     "start_time": "2021-06-17T22:52:06.451424Z"
    }
   },
   "outputs": [],
   "source": [
    "setup_threading()"
   ]
  },
  {
   "cell_type": "code",
   "execution_count": 3,
   "metadata": {
    "ExecuteTime": {
     "end_time": "2021-06-17T22:54:19.815905Z",
     "start_time": "2021-06-17T22:52:09.122088Z"
    }
   },
   "outputs": [],
   "source": [
    "from modnet.preprocessing import MODData\n",
    "from modnet.models.vanilla import MODNetModel\n",
    "from modnet.hyper_opt.fit_genetic import FitGenetic\n",
    "import numpy as np\n",
    "import pandas as pd\n",
    "import os\n",
    "import copy\n",
    "from sklearn.model_selection import KFold"
   ]
  },
  {
   "cell_type": "code",
   "execution_count": 4,
   "metadata": {
    "ExecuteTime": {
     "end_time": "2021-06-17T22:54:19.837337Z",
     "start_time": "2021-06-17T22:54:19.819904Z"
    }
   },
   "outputs": [],
   "source": [
    "from modnet.preprocessing import MODData\n",
    "\n",
    "def shuffle_MD(data,random_state=10):\n",
    "    data = copy.deepcopy(data)\n",
    "    ids = data.df_targets.sample(frac=1,random_state=random_state).index\n",
    "    data.df_featurized = data.df_featurized.loc[ids]\n",
    "    data.df_targets = data.df_targets.loc[ids]\n",
    "    data.df_structure = data.df_structure.loc[ids]\n",
    "    \n",
    "    return data\n",
    "\n",
    "def MDKsplit(data,n_splits=5,random_state=10):\n",
    "    data = shuffle_MD(data,random_state=random_state)\n",
    "    ids = np.array(data.structure_ids)\n",
    "    kf = KFold(n_splits=n_splits,shuffle=True,random_state=random_state)\n",
    "    folds = []\n",
    "    for train_idx, val_idx in kf.split(ids):\n",
    "        data_train = MODData(data.df_structure.iloc[train_idx]['structure'].values,data.df_targets.iloc[train_idx].values,target_names=data.df_targets.columns,structure_ids=ids[train_idx])\n",
    "        data_train.df_featurized = data.df_featurized.iloc[train_idx]\n",
    "        #data_train.optimal_features = data.optimal_features\n",
    "        \n",
    "        data_val = MODData(data.df_structure.iloc[val_idx]['structure'].values,data.df_targets.iloc[val_idx].values,target_names=data.df_targets.columns,structure_ids=ids[val_idx])\n",
    "        data_val.df_featurized = data.df_featurized.iloc[val_idx]\n",
    "        #data_val.optimal_features = data.optimal_features\n",
    "\n",
    "        folds.append((data_train,data_val))\n",
    "        \n",
    "    return folds"
   ]
  },
  {
   "cell_type": "markdown",
   "metadata": {},
   "source": [
    "#### Loading the PBE, HSE and experimental datasets."
   ]
  },
  {
   "cell_type": "code",
   "execution_count": 5,
   "metadata": {
    "ExecuteTime": {
     "end_time": "2021-06-17T22:54:41.096809Z",
     "start_time": "2021-06-17T22:54:19.840918Z"
    }
   },
   "outputs": [
    {
     "name": "stdout",
     "output_type": "stream",
     "text": [
      "\n",
      "If you use the ChemEnv tool for your research, please consider citing the following reference(s) :\n",
      "==================================================================================================\n",
      "David Waroquiers, Xavier Gonze, Gian-Marco Rignanese, Cathrin Welker-Nieuwoudt, Frank Rosowski,\n",
      "Michael Goebel, Stephan Schenk, Peter Degelmann, Rute Andre, Robert Glaum, and Geoffroy Hautier,\n",
      "\"Statistical analysis of coordination environments in oxides\",\n",
      "Chem. Mater., 2017, 29 (19), pp 8346-8360,\n",
      "DOI: 10.1021/acs.chemmater.7b02766\n",
      "\n",
      "2021-06-18 00:54:31,864 - modnet - INFO - Loaded <modnet.preprocessing.MODData object at 0x7f5f2fac8f10> object, created with modnet version <=0.1.7\n",
      "2021-06-18 00:54:34,273 - modnet - INFO - Loaded <modnet.preprocessing.MODData object at 0x7f5f2fac8e20> object, created with modnet version 0.1.8~develop\n",
      "2021-06-18 00:54:38,637 - modnet - INFO - Loaded <modnet.preprocessing.MODData object at 0x7f5f2fac8fa0> object, created with modnet version <=0.1.7\n",
      "2021-06-18 00:54:41,092 - modnet - INFO - Loaded <modnet.preprocessing.MODData object at 0x7f5f2fabf4c0> object, created with modnet version <=0.1.7\n"
     ]
    }
   ],
   "source": [
    "md_pbe = MODData.load('pbe_gap.zip')\n",
    "md_pbe.df_targets.columns = ['gap']\n",
    "md_hse = MODData.load('hse_gap.zip')\n",
    "md_hse.df_targets.columns = ['gap']\n",
    "md_exp = MODData.load('exp_gap_all')\n",
    "md_exp.df_targets.columns = ['gap']\n",
    "md_joint = MODData.load('exp_pbe_joint')\n",
    "md_joint.df_targets = md_joint.df_targets.drop(columns=['pbe_gap', 'difference'])"
   ]
  },
  {
   "cell_type": "markdown",
   "metadata": {},
   "source": [
    "#### MODNet model trained on the PBE dataset"
   ]
  },
  {
   "cell_type": "code",
   "execution_count": 21,
   "metadata": {
    "ExecuteTime": {
     "end_time": "2021-03-15T14:24:45.070743Z",
     "start_time": "2021-03-15T14:24:45.042985Z"
    }
   },
   "outputs": [
    {
     "ename": "NameError",
     "evalue": "name 'df_pbe' is not defined",
     "output_type": "error",
     "traceback": [
      "\u001b[0;31m---------------------------------------------------------------------------\u001b[0m",
      "\u001b[0;31mNameError\u001b[0m                                 Traceback (most recent call last)",
      "\u001b[0;32m<ipython-input-21-102230503094>\u001b[0m in \u001b[0;36m<module>\u001b[0;34m\u001b[0m\n\u001b[1;32m      2\u001b[0m \u001b[0mrandom_state\u001b[0m \u001b[0;34m=\u001b[0m \u001b[0;36m202010\u001b[0m\u001b[0;34m\u001b[0m\u001b[0;34m\u001b[0m\u001b[0m\n\u001b[1;32m      3\u001b[0m \u001b[0mkf\u001b[0m \u001b[0;34m=\u001b[0m \u001b[0mKFold\u001b[0m\u001b[0;34m(\u001b[0m\u001b[0mn_splits\u001b[0m\u001b[0;34m=\u001b[0m\u001b[0mk\u001b[0m\u001b[0;34m,\u001b[0m \u001b[0mshuffle\u001b[0m\u001b[0;34m=\u001b[0m\u001b[0;32mTrue\u001b[0m\u001b[0;34m,\u001b[0m \u001b[0mrandom_state\u001b[0m\u001b[0;34m=\u001b[0m\u001b[0mrandom_state\u001b[0m\u001b[0;34m)\u001b[0m\u001b[0;34m\u001b[0m\u001b[0;34m\u001b[0m\u001b[0m\n\u001b[0;32m----> 4\u001b[0;31m \u001b[0mfolds\u001b[0m \u001b[0;34m=\u001b[0m \u001b[0mkf\u001b[0m\u001b[0;34m.\u001b[0m\u001b[0msplit\u001b[0m\u001b[0;34m(\u001b[0m\u001b[0mdf_pbe\u001b[0m\u001b[0;34m[\u001b[0m\u001b[0;34m:\u001b[0m\u001b[0;36m10\u001b[0m\u001b[0;34m]\u001b[0m\u001b[0;34m)\u001b[0m\u001b[0;34m\u001b[0m\u001b[0;34m\u001b[0m\u001b[0m\n\u001b[0m\u001b[1;32m      5\u001b[0m \u001b[0mmaes\u001b[0m \u001b[0;34m=\u001b[0m \u001b[0mnp\u001b[0m\u001b[0;34m.\u001b[0m\u001b[0mones\u001b[0m\u001b[0;34m(\u001b[0m\u001b[0;36m5\u001b[0m\u001b[0;34m)\u001b[0m\u001b[0;34m\u001b[0m\u001b[0;34m\u001b[0m\u001b[0m\n\u001b[1;32m      6\u001b[0m \u001b[0;32mfor\u001b[0m \u001b[0mi\u001b[0m \u001b[0;32min\u001b[0m \u001b[0mrange\u001b[0m\u001b[0;34m(\u001b[0m\u001b[0;36m5\u001b[0m\u001b[0;34m)\u001b[0m\u001b[0;34m:\u001b[0m\u001b[0;34m\u001b[0m\u001b[0;34m\u001b[0m\u001b[0m\n",
      "\u001b[0;31mNameError\u001b[0m: name 'df_pbe' is not defined"
     ]
    }
   ],
   "source": [
    "k = 5\n",
    "random_state = 202010\n",
    "folds = MDKsplit(md_pbe,n_splits=k,random_state=random_state)\n",
    "maes = np.ones(5)\n",
    "for i,f in enumerate(folds):\n",
    "    train = f[0]\n",
    "    test = f[1]\n",
    "    fpath = 'train-pbe_{}_{}'.format(random_state,i+1)\n",
    "    if os.path.exists(fpath):\n",
    "        train = MODData.load(fpath)\n",
    "        train.df_targets.columns = ['gap']\n",
    "    else:\n",
    "        train.feature_selection(n=-1)\n",
    "        train.save(fpath)\n",
    "        \n",
    "    # assure no overlap\n",
    "    assert len(set(train.df_targets.index).intersection(set(test.df_targets.index))) == 0\n",
    "    \n",
    "    model1 = MODNetModel([[['gap']]],{'gap':1})\n",
    "    model1.fit_preset(train,verbose=0)\n",
    "    pred = model1.predict(test)\n",
    "    true = test.df_targets\n",
    "    error = pred-true\n",
    "    error = error.drop(pred.index[((pred['gap']).abs()>20)]) # drop unrealistic values: happens extremely rarely\n",
    "    mae = np.abs(error.values).mean()\n",
    "    print(mae)\n",
    "    maes[i] = mae"
   ]
  },
  {
   "cell_type": "code",
   "execution_count": 95,
   "metadata": {
    "ExecuteTime": {
     "end_time": "2021-02-12T08:44:45.237290Z",
     "start_time": "2021-02-12T08:44:45.133515Z"
    }
   },
   "outputs": [
    {
     "name": "stderr",
     "output_type": "stream",
     "text": [
      "INFO:root:Saving model...\n",
      "INFO:root:Saved model to MODNetModel1(.json/.h5/.pkl)\n"
     ]
    }
   ],
   "source": [
    "#model1.save('MODNetModel1')"
   ]
  },
  {
   "cell_type": "code",
   "execution_count": 7,
   "metadata": {
    "ExecuteTime": {
     "end_time": "2021-06-17T22:54:42.968097Z",
     "start_time": "2021-06-17T22:54:41.118739Z"
    }
   },
   "outputs": [
    {
     "name": "stdout",
     "output_type": "stream",
     "text": [
      "2021-06-18 00:54:42,964 - modnet - INFO - Loaded <modnet.models.ensemble.EnsembleMODNetModel object at 0x7f5f2fac85e0> object, created with modnet version 0.1.9\n"
     ]
    }
   ],
   "source": [
    "model1 = MODNetModel.load('MODNetModel1')"
   ]
  },
  {
   "cell_type": "markdown",
   "metadata": {},
   "source": [
    "#### MODNet model trained on the HSE dataset"
   ]
  },
  {
   "cell_type": "code",
   "execution_count": 6,
   "metadata": {
    "ExecuteTime": {
     "end_time": "2021-02-10T19:54:38.405865Z",
     "start_time": "2021-02-10T18:50:58.540623Z"
    }
   },
   "outputs": [
    {
     "name": "stderr",
     "output_type": "stream",
     "text": [
      "INFO:root:Loaded DeBreuck2020Featurizer featurizer.\n",
      "INFO:root:Loaded DeBreuck2020Featurizer featurizer.\n",
      "INFO:root:Loaded DeBreuck2020Featurizer featurizer.\n",
      "INFO:root:Loaded DeBreuck2020Featurizer featurizer.\n",
      "INFO:root:Loaded DeBreuck2020Featurizer featurizer.\n",
      "INFO:root:Loaded DeBreuck2020Featurizer featurizer.\n",
      "INFO:root:Loaded DeBreuck2020Featurizer featurizer.\n",
      "INFO:root:Loaded DeBreuck2020Featurizer featurizer.\n",
      "INFO:root:Loaded DeBreuck2020Featurizer featurizer.\n",
      "INFO:root:Loaded DeBreuck2020Featurizer featurizer.\n",
      "INFO:root:Loaded <modnet.preprocessing.MODData object at 0x7f00accb70d0> object, created with modnet version 0.1.8~develop\n",
      "INFO:root:Training preset #1/16\n",
      "INFO:root:Compiling model...\n",
      "INFO:root:Fitting model...\n",
      "INFO:root:Validation loss: 0.333\n",
      "INFO:root:Training preset #2/16\n",
      "INFO:root:Compiling model...\n",
      "INFO:root:Fitting model...\n",
      "INFO:root:Validation loss: 0.394\n",
      "INFO:root:Training preset #3/16\n",
      "INFO:root:Compiling model...\n",
      "INFO:root:Fitting model...\n",
      "INFO:root:Validation loss: 0.322\n",
      "INFO:root:Training preset #4/16\n",
      "INFO:root:Compiling model...\n",
      "INFO:root:Fitting model...\n",
      "INFO:root:Validation loss: 0.483\n",
      "INFO:root:Training preset #5/16\n",
      "INFO:root:Compiling model...\n",
      "INFO:root:Fitting model...\n",
      "INFO:root:Validation loss: 0.365\n",
      "INFO:root:Training preset #6/16\n",
      "INFO:root:Compiling model...\n",
      "INFO:root:Fitting model...\n",
      "INFO:root:Validation loss: 0.381\n",
      "INFO:root:Training preset #7/16\n",
      "INFO:root:Compiling model...\n",
      "INFO:root:Fitting model...\n",
      "INFO:root:Validation loss: 0.414\n",
      "INFO:root:Training preset #8/16\n",
      "INFO:root:Compiling model...\n",
      "INFO:root:Fitting model...\n",
      "INFO:root:Validation loss: 0.354\n",
      "INFO:root:Training preset #9/16\n",
      "INFO:root:Compiling model...\n",
      "INFO:root:Fitting model...\n",
      "INFO:root:Validation loss: 0.338\n",
      "INFO:root:Training preset #10/16\n",
      "INFO:root:Compiling model...\n",
      "INFO:root:Fitting model...\n",
      "INFO:root:Validation loss: 0.391\n",
      "INFO:root:Training preset #11/16\n",
      "INFO:root:Compiling model...\n",
      "INFO:root:Fitting model...\n",
      "INFO:root:Validation loss: 0.318\n",
      "INFO:root:Training preset #12/16\n",
      "INFO:root:Compiling model...\n",
      "INFO:root:Fitting model...\n",
      "INFO:root:Validation loss: 0.344\n",
      "INFO:root:Training preset #13/16\n",
      "INFO:root:Compiling model...\n",
      "INFO:root:Fitting model...\n",
      "INFO:root:Validation loss: 0.318\n",
      "INFO:root:Training preset #14/16\n",
      "INFO:root:Compiling model...\n",
      "INFO:root:Fitting model...\n",
      "INFO:root:Validation loss: 0.362\n",
      "INFO:root:Training preset #15/16\n",
      "INFO:root:Compiling model...\n",
      "INFO:root:Fitting model...\n",
      "INFO:root:Validation loss: 0.316\n",
      "INFO:root:Training preset #16/16\n",
      "INFO:root:Compiling model...\n",
      "INFO:root:Fitting model...\n",
      "INFO:root:Validation loss: 0.341\n",
      "INFO:root:Preset #15 resulted in lowest validation loss.\n",
      "Fitting all data...\n",
      "INFO:root:Compiling model...\n",
      "INFO:root:Fitting model...\n"
     ]
    },
    {
     "name": "stdout",
     "output_type": "stream",
     "text": [
      "1.132328280405736\n"
     ]
    },
    {
     "name": "stderr",
     "output_type": "stream",
     "text": [
      "INFO:root:Loaded <modnet.preprocessing.MODData object at 0x7f00a86986d0> object, created with modnet version 0.1.8~develop\n",
      "INFO:root:Training preset #1/16\n",
      "INFO:root:Compiling model...\n",
      "INFO:root:Fitting model...\n",
      "INFO:root:Validation loss: 0.358\n",
      "INFO:root:Training preset #2/16\n",
      "INFO:root:Compiling model...\n",
      "INFO:root:Fitting model...\n",
      "INFO:root:Validation loss: 0.401\n",
      "INFO:root:Training preset #3/16\n",
      "INFO:root:Compiling model...\n",
      "INFO:root:Fitting model...\n",
      "INFO:root:Validation loss: 0.351\n",
      "INFO:root:Training preset #4/16\n",
      "INFO:root:Compiling model...\n",
      "INFO:root:Fitting model...\n",
      "INFO:root:Validation loss: 0.385\n",
      "INFO:root:Training preset #5/16\n",
      "INFO:root:Compiling model...\n",
      "INFO:root:Fitting model...\n",
      "INFO:root:Validation loss: 0.370\n",
      "INFO:root:Training preset #6/16\n",
      "INFO:root:Compiling model...\n",
      "INFO:root:Fitting model...\n",
      "INFO:root:Validation loss: 0.382\n",
      "INFO:root:Training preset #7/16\n",
      "INFO:root:Compiling model...\n",
      "INFO:root:Fitting model...\n",
      "INFO:root:Validation loss: 0.343\n",
      "INFO:root:Training preset #8/16\n",
      "INFO:root:Compiling model...\n",
      "INFO:root:Fitting model...\n",
      "INFO:root:Validation loss: 0.304\n",
      "INFO:root:Training preset #9/16\n",
      "INFO:root:Compiling model...\n",
      "INFO:root:Fitting model...\n",
      "INFO:root:Validation loss: 0.382\n",
      "INFO:root:Training preset #10/16\n",
      "INFO:root:Compiling model...\n",
      "INFO:root:Fitting model...\n",
      "INFO:root:Validation loss: 0.394\n",
      "INFO:root:Training preset #11/16\n",
      "INFO:root:Compiling model...\n",
      "INFO:root:Fitting model...\n",
      "INFO:root:Validation loss: 0.320\n",
      "INFO:root:Training preset #12/16\n",
      "INFO:root:Compiling model...\n",
      "INFO:root:Fitting model...\n",
      "INFO:root:Validation loss: 0.337\n",
      "INFO:root:Training preset #13/16\n",
      "INFO:root:Compiling model...\n",
      "INFO:root:Fitting model...\n",
      "INFO:root:Validation loss: 0.365\n",
      "INFO:root:Training preset #14/16\n",
      "INFO:root:Compiling model...\n",
      "INFO:root:Fitting model...\n",
      "INFO:root:Validation loss: 0.393\n",
      "INFO:root:Training preset #15/16\n",
      "INFO:root:Compiling model...\n",
      "INFO:root:Fitting model...\n",
      "INFO:root:Validation loss: 0.340\n",
      "INFO:root:Training preset #16/16\n",
      "INFO:root:Compiling model...\n",
      "INFO:root:Fitting model...\n",
      "INFO:root:Validation loss: 0.324\n",
      "INFO:root:Preset #8 resulted in lowest validation loss.\n",
      "Fitting all data...\n",
      "INFO:root:Compiling model...\n",
      "INFO:root:Fitting model...\n"
     ]
    },
    {
     "name": "stdout",
     "output_type": "stream",
     "text": [
      "0.9613473074160188\n"
     ]
    },
    {
     "name": "stderr",
     "output_type": "stream",
     "text": [
      "INFO:root:Loaded <modnet.preprocessing.MODData object at 0x7f00ace63670> object, created with modnet version 0.1.8~develop\n",
      "INFO:root:Training preset #1/16\n",
      "INFO:root:Compiling model...\n",
      "INFO:root:Fitting model...\n",
      "INFO:root:Validation loss: 0.387\n",
      "INFO:root:Training preset #2/16\n",
      "INFO:root:Compiling model...\n",
      "INFO:root:Fitting model...\n",
      "INFO:root:Validation loss: 0.430\n",
      "INFO:root:Training preset #3/16\n",
      "INFO:root:Compiling model...\n",
      "INFO:root:Fitting model...\n",
      "INFO:root:Validation loss: 0.370\n",
      "INFO:root:Training preset #4/16\n",
      "INFO:root:Compiling model...\n",
      "INFO:root:Fitting model...\n",
      "INFO:root:Validation loss: 0.374\n",
      "INFO:root:Training preset #5/16\n",
      "INFO:root:Compiling model...\n",
      "INFO:root:Fitting model...\n",
      "INFO:root:Validation loss: 0.400\n",
      "INFO:root:Training preset #6/16\n",
      "INFO:root:Compiling model...\n",
      "INFO:root:Fitting model...\n",
      "INFO:root:Validation loss: 0.389\n",
      "INFO:root:Training preset #7/16\n",
      "INFO:root:Compiling model...\n",
      "INFO:root:Fitting model...\n",
      "INFO:root:Validation loss: 0.352\n",
      "INFO:root:Training preset #8/16\n",
      "INFO:root:Compiling model...\n",
      "INFO:root:Fitting model...\n",
      "INFO:root:Validation loss: 0.365\n",
      "INFO:root:Training preset #9/16\n",
      "INFO:root:Compiling model...\n",
      "INFO:root:Fitting model...\n",
      "INFO:root:Validation loss: 0.396\n",
      "INFO:root:Training preset #10/16\n",
      "INFO:root:Compiling model...\n",
      "INFO:root:Fitting model...\n",
      "INFO:root:Validation loss: 0.422\n",
      "INFO:root:Training preset #11/16\n",
      "INFO:root:Compiling model...\n",
      "INFO:root:Fitting model...\n",
      "INFO:root:Validation loss: 0.356\n",
      "INFO:root:Training preset #12/16\n",
      "INFO:root:Compiling model...\n",
      "INFO:root:Fitting model...\n",
      "INFO:root:Validation loss: 0.383\n",
      "INFO:root:Training preset #13/16\n",
      "INFO:root:Compiling model...\n",
      "INFO:root:Fitting model...\n",
      "INFO:root:Validation loss: 0.381\n",
      "INFO:root:Training preset #14/16\n",
      "INFO:root:Compiling model...\n",
      "INFO:root:Fitting model...\n",
      "INFO:root:Validation loss: 0.418\n",
      "INFO:root:Training preset #15/16\n",
      "INFO:root:Compiling model...\n",
      "INFO:root:Fitting model...\n",
      "INFO:root:Validation loss: 0.356\n",
      "INFO:root:Training preset #16/16\n",
      "INFO:root:Compiling model...\n",
      "INFO:root:Fitting model...\n",
      "INFO:root:Validation loss: 0.363\n",
      "INFO:root:Preset #7 resulted in lowest validation loss.\n",
      "Fitting all data...\n",
      "INFO:root:Compiling model...\n",
      "INFO:root:Fitting model...\n"
     ]
    },
    {
     "name": "stdout",
     "output_type": "stream",
     "text": [
      "0.9850014001033152\n"
     ]
    },
    {
     "name": "stderr",
     "output_type": "stream",
     "text": [
      "INFO:root:Loaded <modnet.preprocessing.MODData object at 0x7f00ad7f0430> object, created with modnet version 0.1.8~develop\n",
      "INFO:root:Training preset #1/16\n",
      "INFO:root:Compiling model...\n",
      "INFO:root:Fitting model...\n",
      "INFO:root:Validation loss: 0.357\n",
      "INFO:root:Training preset #2/16\n",
      "INFO:root:Compiling model...\n",
      "INFO:root:Fitting model...\n",
      "INFO:root:Validation loss: 0.379\n",
      "INFO:root:Training preset #3/16\n",
      "INFO:root:Compiling model...\n",
      "INFO:root:Fitting model...\n",
      "INFO:root:Validation loss: 0.348\n",
      "INFO:root:Training preset #4/16\n",
      "INFO:root:Compiling model...\n",
      "INFO:root:Fitting model...\n",
      "INFO:root:Validation loss: 0.392\n",
      "INFO:root:Training preset #5/16\n",
      "INFO:root:Compiling model...\n",
      "INFO:root:Fitting model...\n",
      "INFO:root:Validation loss: 0.374\n",
      "INFO:root:Training preset #6/16\n",
      "INFO:root:Compiling model...\n",
      "INFO:root:Fitting model...\n",
      "INFO:root:Validation loss: 0.388\n",
      "INFO:root:Training preset #7/16\n",
      "INFO:root:Compiling model...\n",
      "INFO:root:Fitting model...\n",
      "INFO:root:Validation loss: 0.388\n",
      "INFO:root:Training preset #8/16\n",
      "INFO:root:Compiling model...\n",
      "INFO:root:Fitting model...\n",
      "INFO:root:Validation loss: 0.373\n",
      "INFO:root:Training preset #9/16\n",
      "INFO:root:Compiling model...\n",
      "INFO:root:Fitting model...\n",
      "INFO:root:Validation loss: 0.396\n",
      "INFO:root:Training preset #10/16\n",
      "INFO:root:Compiling model...\n",
      "INFO:root:Fitting model...\n",
      "INFO:root:Validation loss: 0.407\n",
      "INFO:root:Training preset #11/16\n",
      "INFO:root:Compiling model...\n",
      "INFO:root:Fitting model...\n",
      "INFO:root:Validation loss: 0.399\n",
      "INFO:root:Training preset #12/16\n",
      "INFO:root:Compiling model...\n",
      "INFO:root:Fitting model...\n",
      "INFO:root:Validation loss: 0.396\n",
      "INFO:root:Training preset #13/16\n",
      "INFO:root:Compiling model...\n",
      "INFO:root:Fitting model...\n",
      "INFO:root:Validation loss: 0.375\n",
      "INFO:root:Training preset #14/16\n",
      "INFO:root:Compiling model...\n",
      "INFO:root:Fitting model...\n",
      "INFO:root:Validation loss: 0.389\n",
      "INFO:root:Training preset #15/16\n",
      "INFO:root:Compiling model...\n",
      "INFO:root:Fitting model...\n",
      "INFO:root:Validation loss: 0.351\n",
      "INFO:root:Training preset #16/16\n",
      "INFO:root:Compiling model...\n",
      "INFO:root:Fitting model...\n",
      "INFO:root:Validation loss: 0.386\n",
      "INFO:root:Preset #3 resulted in lowest validation loss.\n",
      "Fitting all data...\n",
      "INFO:root:Compiling model...\n",
      "INFO:root:Fitting model...\n"
     ]
    },
    {
     "name": "stdout",
     "output_type": "stream",
     "text": [
      "1.0600857373613162\n"
     ]
    },
    {
     "name": "stderr",
     "output_type": "stream",
     "text": [
      "INFO:root:Loaded <modnet.preprocessing.MODData object at 0x7f00b28dc250> object, created with modnet version 0.1.8~develop\n",
      "INFO:root:Training preset #1/16\n",
      "INFO:root:Compiling model...\n",
      "INFO:root:Fitting model...\n",
      "INFO:root:Validation loss: 0.433\n",
      "INFO:root:Training preset #2/16\n",
      "INFO:root:Compiling model...\n",
      "INFO:root:Fitting model...\n",
      "INFO:root:Validation loss: 0.461\n",
      "INFO:root:Training preset #3/16\n",
      "INFO:root:Compiling model...\n",
      "INFO:root:Fitting model...\n",
      "INFO:root:Validation loss: 7.480\n",
      "INFO:root:Training preset #4/16\n",
      "INFO:root:Compiling model...\n",
      "INFO:root:Fitting model...\n",
      "INFO:root:Validation loss: 0.446\n",
      "INFO:root:Training preset #5/16\n",
      "INFO:root:Compiling model...\n",
      "INFO:root:Fitting model...\n",
      "INFO:root:Validation loss: 0.427\n",
      "INFO:root:Training preset #6/16\n",
      "INFO:root:Compiling model...\n",
      "INFO:root:Fitting model...\n",
      "INFO:root:Validation loss: 0.414\n",
      "INFO:root:Training preset #7/16\n",
      "INFO:root:Compiling model...\n",
      "INFO:root:Fitting model...\n",
      "INFO:root:Validation loss: 0.413\n",
      "INFO:root:Training preset #8/16\n",
      "INFO:root:Compiling model...\n",
      "INFO:root:Fitting model...\n",
      "INFO:root:Validation loss: 0.392\n",
      "INFO:root:Training preset #9/16\n",
      "INFO:root:Compiling model...\n",
      "INFO:root:Fitting model...\n",
      "INFO:root:Validation loss: 0.433\n",
      "INFO:root:Training preset #10/16\n",
      "INFO:root:Compiling model...\n",
      "INFO:root:Fitting model...\n",
      "INFO:root:Validation loss: 0.418\n",
      "INFO:root:Training preset #11/16\n",
      "INFO:root:Compiling model...\n",
      "INFO:root:Fitting model...\n",
      "INFO:root:Validation loss: 0.383\n",
      "INFO:root:Training preset #12/16\n",
      "INFO:root:Compiling model...\n",
      "INFO:root:Fitting model...\n",
      "INFO:root:Validation loss: 0.373\n",
      "INFO:root:Training preset #13/16\n",
      "INFO:root:Compiling model...\n",
      "INFO:root:Fitting model...\n",
      "INFO:root:Validation loss: 0.440\n",
      "INFO:root:Training preset #14/16\n",
      "INFO:root:Compiling model...\n",
      "INFO:root:Fitting model...\n",
      "INFO:root:Validation loss: 0.451\n",
      "INFO:root:Training preset #15/16\n",
      "INFO:root:Compiling model...\n",
      "INFO:root:Fitting model...\n",
      "INFO:root:Validation loss: 0.409\n",
      "INFO:root:Training preset #16/16\n",
      "INFO:root:Compiling model...\n",
      "INFO:root:Fitting model...\n",
      "INFO:root:Validation loss: 0.425\n",
      "INFO:root:Preset #12 resulted in lowest validation loss.\n",
      "Fitting all data...\n",
      "INFO:root:Compiling model...\n",
      "INFO:root:Fitting model...\n"
     ]
    },
    {
     "name": "stdout",
     "output_type": "stream",
     "text": [
      "1.0738566065837396\n"
     ]
    }
   ],
   "source": [
    "k = 5\n",
    "random_state = 202010\n",
    "folds = MDKsplit(md_hse,n_splits=k,random_state=random_state)\n",
    "maes = np.ones(5)\n",
    "for i,f in enumerate(folds):\n",
    "    train = f[0]\n",
    "    test = f[1]\n",
    "    fpath = 'train-hse_{}_{}'.format(random_state,i+1)\n",
    "    if os.path.exists(fpath):\n",
    "        train = MODData.load(fpath)\n",
    "        train.df_targets.columns = ['gap']\n",
    "    else:\n",
    "        train.feature_selection(n=-1)\n",
    "        train.save(fpath)\n",
    "        \n",
    "    # assure no overlap\n",
    "    assert len(set(train.df_targets.index).intersection(set(test.df_targets.index))) == 0\n",
    "    \n",
    "    model2 = MODNetModel([[['gap']]],{'gap':1})\n",
    "    model2.fit_preset(train,verbose=0)\n",
    "    pred = model2.predict(test)\n",
    "    true = test.df_targets\n",
    "    error = pred-true\n",
    "    error = error.drop(pred.index[((pred['gap']).abs()>20)]) # drop unrealistic values: happens extremely rarely\n",
    "    mae = np.abs(error.values).mean()\n",
    "    print(mae)\n",
    "    maes[i] = mae"
   ]
  },
  {
   "cell_type": "code",
   "execution_count": 96,
   "metadata": {
    "ExecuteTime": {
     "end_time": "2021-02-12T08:45:15.515693Z",
     "start_time": "2021-02-12T08:45:15.472096Z"
    }
   },
   "outputs": [
    {
     "name": "stderr",
     "output_type": "stream",
     "text": [
      "INFO:root:Saving model...\n",
      "INFO:root:Saved model to MODNetModel2(.json/.h5/.pkl)\n"
     ]
    }
   ],
   "source": [
    "#model2.save('MODNetModel2')"
   ]
  },
  {
   "cell_type": "code",
   "execution_count": 8,
   "metadata": {
    "ExecuteTime": {
     "end_time": "2021-06-17T22:54:43.367223Z",
     "start_time": "2021-06-17T22:54:42.970051Z"
    }
   },
   "outputs": [
    {
     "name": "stdout",
     "output_type": "stream",
     "text": [
      "2021-06-18 00:54:43,364 - modnet - INFO - Loaded <modnet.models.ensemble.EnsembleMODNetModel object at 0x7f5e978611c0> object, created with modnet version 0.1.9\n"
     ]
    }
   ],
   "source": [
    "model2 = MODNetModel.load('MODNetModel2')"
   ]
  },
  {
   "cell_type": "markdown",
   "metadata": {},
   "source": [
    "### Integrated Stacking Model (3 meta-learner architectures are shown)"
   ]
  },
  {
   "cell_type": "code",
   "execution_count": 13,
   "metadata": {
    "ExecuteTime": {
     "end_time": "2021-06-18T07:24:50.012753Z",
     "start_time": "2021-06-18T07:24:49.998439Z"
    }
   },
   "outputs": [],
   "source": [
    "# stacked generalization with linear meta model on blobs dataset\n",
    "import pandas as pd\n",
    "from sklearn.metrics import accuracy_score"
   ]
  },
  {
   "cell_type": "code",
   "execution_count": 14,
   "metadata": {
    "ExecuteTime": {
     "end_time": "2021-06-18T07:24:50.409342Z",
     "start_time": "2021-06-18T07:24:50.403940Z"
    }
   },
   "outputs": [],
   "source": [
    "# load models\n",
    "def load_all_models():\n",
    "    all_models = list()\n",
    "    all_models = [model1, model2, model3]\n",
    "    return all_models"
   ]
  },
  {
   "cell_type": "code",
   "execution_count": 15,
   "metadata": {
    "ExecuteTime": {
     "end_time": "2021-06-18T07:24:53.035479Z",
     "start_time": "2021-06-18T07:24:52.477658Z"
    }
   },
   "outputs": [],
   "source": [
    "# create stacked model input dataset as outputs from the ensemble\n",
    "\n",
    "from keras import backend as K\n",
    "\n",
    "def stacked_dataset(members, inputX):\n",
    "    layer_output = np.zeros(len(inputX.df_targets))\n",
    "    for model in members:\n",
    "        layers = None\n",
    "        for i in range(5):\n",
    "            x = inputX.get_featurized_df().replace([np.inf, -np.inf, np.nan], 0)[\n",
    "                model.model[i].optimal_descriptors[:model.model[i].n_feat]\n",
    "            ].values\n",
    "\n",
    "            # Scale the input features:\n",
    "            x = np.nan_to_num(x)\n",
    "            if model.model[i]._scaler is not None:\n",
    "                x = model.model[i]._scaler.transform(x)\n",
    "                x = np.nan_to_num(x)\n",
    "            get_layer_output = K.function([model.model[i].model.layers[0].input],\n",
    "                                  [model.model[i].model.layers[-2].output])\n",
    "            layer = get_layer_output([x])[0]\n",
    "            if layers is None:\n",
    "                layers = layer\n",
    "            else:\n",
    "                layers = np.dstack((layers, layer))\n",
    "        layer_output = np.mean(layers, axis=2)\n",
    "    return layer_output"
   ]
  },
  {
   "cell_type": "markdown",
   "metadata": {},
   "source": [
    "#### 1) Keras model with two hidden layers: 10 and 3 neurons respectively"
   ]
  },
  {
   "cell_type": "code",
   "execution_count": 12,
   "metadata": {
    "ExecuteTime": {
     "end_time": "2021-06-14T16:07:15.230113Z",
     "start_time": "2021-06-14T16:07:15.218623Z"
    }
   },
   "outputs": [],
   "source": [
    "# create the meta-learner model\n",
    "import tensorflow as tf\n",
    "\n",
    "def get_compiled_model():\n",
    "    model = tf.keras.Sequential([\n",
    "        tf.keras.layers.Dense(10, activation='relu'),\n",
    "        tf.keras.layers.Dense(3, activation='relu'),\n",
    "        tf.keras.layers.Dense(1)\n",
    "    ])\n",
    "\n",
    "    model.compile(optimizer='adam',\n",
    "                loss='mse',\n",
    "                metrics=['accuracy'])\n",
    "    return model"
   ]
  },
  {
   "cell_type": "code",
   "execution_count": 13,
   "metadata": {
    "ExecuteTime": {
     "end_time": "2021-06-14T16:07:15.242243Z",
     "start_time": "2021-06-14T16:07:15.233368Z"
    }
   },
   "outputs": [],
   "source": [
    "# fit a model based on the outputs from the ensemble members\n",
    "def fit_stacked_model(members, inputX, inputy):\n",
    "    # create dataset using ensemble\n",
    "    stackedX = stacked_dataset(members, inputX)\n",
    "    # fit standalone model\n",
    "    model = get_compiled_model()\n",
    "    model.fit(stackedX, inputy, epochs=500, verbose=0)\n",
    "    return model"
   ]
  },
  {
   "cell_type": "code",
   "execution_count": 14,
   "metadata": {
    "ExecuteTime": {
     "end_time": "2021-06-14T16:07:15.249369Z",
     "start_time": "2021-06-14T16:07:15.245175Z"
    }
   },
   "outputs": [],
   "source": [
    "# make a prediction with the stacked model\n",
    "def stacked_prediction(members, model, inputX):\n",
    "    # create dataset using ensemble\n",
    "    stackedX = stacked_dataset(members, inputX)\n",
    "    # make a prediction\n",
    "    yhat = model.predict(stackedX)\n",
    "    return yhat"
   ]
  },
  {
   "cell_type": "code",
   "execution_count": 15,
   "metadata": {
    "ExecuteTime": {
     "end_time": "2021-06-15T10:27:29.804697Z",
     "start_time": "2021-06-14T16:07:15.255954Z"
    },
    "scrolled": true
   },
   "outputs": [
    {
     "name": "stdout",
     "output_type": "stream",
     "text": [
      "2021-06-14 18:07:15,431 - modnet - INFO - Loaded DeBreuck2020Featurizer featurizer.\n",
      "2021-06-14 18:07:15,491 - modnet - INFO - Loaded DeBreuck2020Featurizer featurizer.\n",
      "2021-06-14 18:07:15,516 - modnet - INFO - Loaded DeBreuck2020Featurizer featurizer.\n",
      "2021-06-14 18:07:15,597 - modnet - INFO - Loaded DeBreuck2020Featurizer featurizer.\n",
      "2021-06-14 18:07:15,626 - modnet - INFO - Loaded DeBreuck2020Featurizer featurizer.\n",
      "2021-06-14 18:07:15,693 - modnet - INFO - Loaded DeBreuck2020Featurizer featurizer.\n",
      "2021-06-14 18:07:15,718 - modnet - INFO - Loaded DeBreuck2020Featurizer featurizer.\n",
      "2021-06-14 18:07:15,770 - modnet - INFO - Loaded DeBreuck2020Featurizer featurizer.\n",
      "2021-06-14 18:07:15,791 - modnet - INFO - Loaded DeBreuck2020Featurizer featurizer.\n",
      "2021-06-14 18:07:15,875 - modnet - INFO - Loaded DeBreuck2020Featurizer featurizer.\n",
      "2021-06-14 18:07:16,381 - modnet - INFO - Loaded <modnet.preprocessing.MODData object at 0x7f7d0a249e20> object, created with modnet version 0.1.9\n",
      "2021-06-14 18:07:16,383 - modnet - INFO - Generation number 0\n",
      "2021-06-14 18:07:20,528 - modnet - INFO - Multiprocessing on 10 cores. Total of 48 cores available.\n"
     ]
    },
    {
     "name": "stderr",
     "output_type": "stream",
     "text": [
      "100%|██████████| 100/100 [27:17<00:00, 16.37s/it]"
     ]
    },
    {
     "name": "stdout",
     "output_type": "stream",
     "text": [
      "2021-06-14 18:34:37,858 - modnet - INFO - Loss per individual: ind 0: 0.606 \tind 1: 0.633 \tind 2: 0.667 \tind 3: 0.655 \tind 4: 0.671 \tind 5: 0.666 \tind 6: 0.626 \tind 7: 0.668 \tind 8: 0.665 \tind 9: 0.693 \tind 10: 0.595 \tind 11: 0.657 \tind 12: 0.631 \tind 13: 0.650 \tind 14: 0.622 \tind 15: 0.594 \tind 16: 0.770 \tind 17: 0.718 \tind 18: 0.659 \tind 19: 0.672 \t\n"
     ]
    },
    {
     "name": "stderr",
     "output_type": "stream",
     "text": [
      "\n"
     ]
    },
    {
     "name": "stdout",
     "output_type": "stream",
     "text": [
      "2021-06-14 18:34:41,306 - modnet - INFO - Generation number 1\n",
      "2021-06-14 18:34:49,477 - modnet - INFO - Multiprocessing on 10 cores. Total of 48 cores available.\n"
     ]
    },
    {
     "name": "stderr",
     "output_type": "stream",
     "text": [
      "100%|██████████| 100/100 [27:31<00:00, 16.52s/it] "
     ]
    },
    {
     "name": "stdout",
     "output_type": "stream",
     "text": [
      "2021-06-14 19:02:21,421 - modnet - INFO - Loss per individual: ind 0: 0.666 \tind 1: 0.599 \tind 2: 0.611 \tind 3: 0.646 \tind 4: 0.699 \tind 5: 0.611 \tind 6: 0.654 \tind 7: 0.633 \tind 8: 0.591 \tind 9: 0.620 \tind 10: 0.603 \tind 11: 0.610 \tind 12: 0.658 \tind 13: 0.614 \tind 14: 0.697 \tind 15: 0.642 \tind 16: 0.684 \tind 17: 0.599 \tind 18: 0.598 \tind 19: 0.692 \t\n"
     ]
    },
    {
     "name": "stderr",
     "output_type": "stream",
     "text": [
      "\n"
     ]
    },
    {
     "name": "stdout",
     "output_type": "stream",
     "text": [
      "2021-06-14 19:02:24,899 - modnet - INFO - Generation number 2\n",
      "2021-06-14 19:02:33,043 - modnet - INFO - Multiprocessing on 10 cores. Total of 48 cores available.\n"
     ]
    },
    {
     "name": "stderr",
     "output_type": "stream",
     "text": [
      "100%|██████████| 100/100 [24:40<00:00, 14.80s/it] "
     ]
    },
    {
     "name": "stdout",
     "output_type": "stream",
     "text": [
      "2021-06-14 19:27:13,155 - modnet - INFO - Loss per individual: ind 0: 0.629 \tind 1: 0.617 \tind 2: 0.690 \tind 3: 0.664 \tind 4: 0.624 \tind 5: 0.614 \tind 6: 0.620 \tind 7: 0.625 \tind 8: 0.682 \tind 9: 0.594 \tind 10: 0.632 \tind 11: 0.724 \tind 12: 0.667 \tind 13: 0.679 \tind 14: 0.594 \tind 15: 0.620 \tind 16: 0.599 \tind 17: 0.623 \tind 18: 0.613 \tind 19: 0.607 \t\n"
     ]
    },
    {
     "name": "stderr",
     "output_type": "stream",
     "text": [
      "\n"
     ]
    },
    {
     "name": "stdout",
     "output_type": "stream",
     "text": [
      "2021-06-14 19:27:16,403 - modnet - INFO - Generation number 3\n",
      "2021-06-14 19:27:26,312 - modnet - INFO - Multiprocessing on 10 cores. Total of 48 cores available.\n"
     ]
    },
    {
     "name": "stderr",
     "output_type": "stream",
     "text": [
      "100%|██████████| 100/100 [23:28<00:00, 14.09s/it] "
     ]
    },
    {
     "name": "stdout",
     "output_type": "stream",
     "text": [
      "2021-06-14 19:50:55,267 - modnet - INFO - Loss per individual: ind 0: 0.637 \tind 1: 0.598 \tind 2: 0.669 \tind 3: 0.599 \tind 4: 0.612 \tind 5: 0.622 \tind 6: 0.711 \tind 7: 0.617 \tind 8: 0.667 \tind 9: 0.607 \tind 10: 0.684 \tind 11: 0.621 \tind 12: 0.665 \tind 13: 0.690 \tind 14: 0.598 \tind 15: 0.578 \tind 16: 0.623 \tind 17: 0.651 \tind 18: 0.673 \tind 19: 0.594 \t\n"
     ]
    },
    {
     "name": "stderr",
     "output_type": "stream",
     "text": [
      "\n"
     ]
    },
    {
     "name": "stdout",
     "output_type": "stream",
     "text": [
      "2021-06-14 19:50:59,088 - modnet - INFO - Generation number 4\n",
      "2021-06-14 19:51:11,735 - modnet - INFO - Multiprocessing on 10 cores. Total of 48 cores available.\n"
     ]
    },
    {
     "name": "stderr",
     "output_type": "stream",
     "text": [
      "100%|██████████| 100/100 [22:04<00:00, 13.24s/it] "
     ]
    },
    {
     "name": "stdout",
     "output_type": "stream",
     "text": [
      "2021-06-14 20:13:16,199 - modnet - INFO - Loss per individual: ind 0: 0.686 \tind 1: 0.750 \tind 2: 0.649 \tind 3: 0.664 \tind 4: 0.628 \tind 5: 0.649 \tind 6: 0.723 \tind 7: 0.671 \tind 8: 0.655 \tind 9: 0.637 \tind 10: 0.630 \tind 11: 0.613 \tind 12: 0.614 \tind 13: 0.674 \tind 14: 0.608 \tind 15: 0.638 \tind 16: 0.607 \tind 17: 0.611 \tind 18: 0.660 \tind 19: 0.603 \t\n"
     ]
    },
    {
     "name": "stderr",
     "output_type": "stream",
     "text": [
      "\n"
     ]
    },
    {
     "name": "stdout",
     "output_type": "stream",
     "text": [
      "2021-06-14 20:13:19,971 - modnet - INFO - Generation number 5\n",
      "2021-06-14 20:13:31,732 - modnet - INFO - Multiprocessing on 10 cores. Total of 48 cores available.\n"
     ]
    },
    {
     "name": "stderr",
     "output_type": "stream",
     "text": [
      "100%|██████████| 100/100 [23:24<00:00, 14.05s/it] "
     ]
    },
    {
     "name": "stdout",
     "output_type": "stream",
     "text": [
      "2021-06-14 20:36:56,929 - modnet - INFO - Loss per individual: ind 0: 0.599 \tind 1: 0.619 \tind 2: 0.616 \tind 3: 0.666 \tind 4: 0.678 \tind 5: 0.610 \tind 6: 0.621 \tind 7: 0.610 \tind 8: 0.623 \tind 9: 0.605 \tind 10: 0.622 \tind 11: 0.604 \tind 12: 0.673 \tind 13: 0.607 \tind 14: 0.641 \tind 15: 0.584 \tind 16: 0.651 \tind 17: 0.588 \tind 18: 0.610 \tind 19: 0.610 \t\n"
     ]
    },
    {
     "name": "stderr",
     "output_type": "stream",
     "text": [
      "\n"
     ]
    },
    {
     "name": "stdout",
     "output_type": "stream",
     "text": [
      "2021-06-14 20:36:59,462 - modnet - INFO - Generation number 6\n",
      "2021-06-14 20:37:08,312 - modnet - INFO - Multiprocessing on 10 cores. Total of 48 cores available.\n"
     ]
    },
    {
     "name": "stderr",
     "output_type": "stream",
     "text": [
      "100%|██████████| 100/100 [23:40<00:00, 14.21s/it] "
     ]
    },
    {
     "name": "stdout",
     "output_type": "stream",
     "text": [
      "2021-06-14 21:00:49,117 - modnet - INFO - Loss per individual: ind 0: 0.600 \tind 1: 0.620 \tind 2: 0.610 \tind 3: 0.679 \tind 4: 0.639 \tind 5: 0.660 \tind 6: 0.604 \tind 7: 0.619 \tind 8: 0.598 \tind 9: 0.713 \tind 10: 0.604 \tind 11: 0.655 \tind 12: 0.621 \tind 13: 0.608 \tind 14: 0.666 \tind 15: 0.611 \tind 16: 0.591 \tind 17: 0.675 \tind 18: 0.628 \tind 19: 0.640 \t\n"
     ]
    },
    {
     "name": "stderr",
     "output_type": "stream",
     "text": [
      "\n"
     ]
    },
    {
     "name": "stdout",
     "output_type": "stream",
     "text": [
      "2021-06-14 21:00:52,562 - modnet - INFO - Early stopping: same best model for 4 consecutive generations\n",
      "Loaded 3 models\n",
      "MAE =\n",
      "0.3765960612985413\n",
      "2021-06-14 21:01:52,988 - modnet - INFO - Loaded <modnet.preprocessing.MODData object at 0x7f7d02cb94f0> object, created with modnet version 0.1.9\n",
      "2021-06-14 21:01:53,067 - modnet - INFO - Generation number 0\n",
      "2021-06-14 21:01:59,915 - modnet - INFO - Multiprocessing on 10 cores. Total of 48 cores available.\n"
     ]
    },
    {
     "name": "stderr",
     "output_type": "stream",
     "text": [
      "100%|██████████| 100/100 [33:15<00:00, 19.96s/it] "
     ]
    },
    {
     "name": "stdout",
     "output_type": "stream",
     "text": [
      "2021-06-14 21:35:15,758 - modnet - INFO - Loss per individual: ind 0: 0.606 \tind 1: 0.611 \tind 2: 0.718 \tind 3: 0.656 \tind 4: 0.680 \tind 5: 0.605 \tind 6: 0.634 \tind 7: 0.701 \tind 8: 0.702 \tind 9: 0.648 \tind 10: 0.639 \tind 11: 0.633 \tind 12: 0.625 \tind 13: 0.692 \tind 14: 0.615 \tind 15: 0.619 \tind 16: 0.628 \tind 17: 0.693 \tind 18: 0.708 \tind 19: 0.630 \t\n"
     ]
    },
    {
     "name": "stderr",
     "output_type": "stream",
     "text": [
      "\n"
     ]
    },
    {
     "name": "stdout",
     "output_type": "stream",
     "text": [
      "2021-06-14 21:35:17,747 - modnet - INFO - Generation number 1\n",
      "2021-06-14 21:35:24,276 - modnet - INFO - Multiprocessing on 10 cores. Total of 48 cores available.\n"
     ]
    },
    {
     "name": "stderr",
     "output_type": "stream",
     "text": [
      "100%|██████████| 100/100 [44:11<00:00, 26.51s/it] "
     ]
    },
    {
     "name": "stdout",
     "output_type": "stream",
     "text": [
      "2021-06-14 22:19:35,926 - modnet - INFO - Loss per individual: ind 0: 0.645 \tind 1: 0.601 \tind 2: 0.726 \tind 3: 0.635 \tind 4: 0.655 \tind 5: 0.646 \tind 6: 0.612 \tind 7: 0.600 \tind 8: 0.614 \tind 9: 0.616 \tind 10: 0.588 \tind 11: 0.675 \tind 12: 0.657 \tind 13: 0.675 \tind 14: 0.596 \tind 15: 0.645 \tind 16: 0.615 \tind 17: 0.636 \tind 18: 0.671 \tind 19: 0.634 \t\n"
     ]
    },
    {
     "name": "stderr",
     "output_type": "stream",
     "text": [
      "\n"
     ]
    },
    {
     "name": "stdout",
     "output_type": "stream",
     "text": [
      "2021-06-14 22:19:38,647 - modnet - INFO - Generation number 2\n",
      "2021-06-14 22:19:48,387 - modnet - INFO - Multiprocessing on 10 cores. Total of 48 cores available.\n"
     ]
    },
    {
     "name": "stderr",
     "output_type": "stream",
     "text": [
      "100%|██████████| 100/100 [57:57<00:00, 34.77s/it]  "
     ]
    },
    {
     "name": "stdout",
     "output_type": "stream",
     "text": [
      "2021-06-14 23:17:45,898 - modnet - INFO - Loss per individual: ind 0: 0.617 \tind 1: 0.621 \tind 2: 0.627 \tind 3: 0.616 \tind 4: 0.695 \tind 5: 0.692 \tind 6: 0.653 \tind 7: 0.650 \tind 8: 0.645 \tind 9: 0.679 \tind 10: 0.660 \tind 11: 0.616 \tind 12: 0.610 \tind 13: 0.624 \tind 14: 0.631 \tind 15: 0.618 \tind 16: 0.662 \tind 17: 0.603 \tind 18: 0.654 \tind 19: 0.650 \t\n"
     ]
    },
    {
     "name": "stderr",
     "output_type": "stream",
     "text": [
      "\n"
     ]
    },
    {
     "name": "stdout",
     "output_type": "stream",
     "text": [
      "2021-06-14 23:17:47,678 - modnet - INFO - Generation number 3\n",
      "2021-06-14 23:17:54,802 - modnet - INFO - Multiprocessing on 10 cores. Total of 48 cores available.\n"
     ]
    },
    {
     "name": "stderr",
     "output_type": "stream",
     "text": [
      "100%|██████████| 100/100 [31:40<00:00, 19.01s/it] "
     ]
    },
    {
     "name": "stdout",
     "output_type": "stream",
     "text": [
      "2021-06-14 23:49:35,959 - modnet - INFO - Loss per individual: ind 0: 0.640 \tind 1: 0.652 \tind 2: 0.708 \tind 3: 0.604 \tind 4: 0.643 \tind 5: 0.622 \tind 6: 0.640 \tind 7: 0.669 \tind 8: 0.608 \tind 9: 0.615 \tind 10: 0.638 \tind 11: 0.649 \tind 12: 0.613 \tind 13: 0.618 \tind 14: 0.606 \tind 15: 0.593 \tind 16: 0.634 \tind 17: 0.657 \tind 18: 0.657 \tind 19: 0.629 \t\n"
     ]
    },
    {
     "name": "stderr",
     "output_type": "stream",
     "text": [
      "\n"
     ]
    },
    {
     "name": "stdout",
     "output_type": "stream",
     "text": [
      "2021-06-14 23:49:39,187 - modnet - INFO - Generation number 4\n",
      "2021-06-14 23:49:49,182 - modnet - INFO - Multiprocessing on 10 cores. Total of 48 cores available.\n"
     ]
    },
    {
     "name": "stderr",
     "output_type": "stream",
     "text": [
      "100%|██████████| 100/100 [29:03<00:00, 17.43s/it] "
     ]
    },
    {
     "name": "stdout",
     "output_type": "stream",
     "text": [
      "2021-06-15 00:18:52,714 - modnet - INFO - Loss per individual: ind 0: 0.659 \tind 1: 0.604 \tind 2: 0.646 \tind 3: 0.616 \tind 4: 0.640 \tind 5: 0.652 \tind 6: 0.611 \tind 7: 0.610 \tind 8: 0.601 \tind 9: 0.709 \tind 10: 0.598 \tind 11: 0.711 \tind 12: 0.625 \tind 13: 0.646 \tind 14: 0.611 \tind 15: 0.629 \tind 16: 0.610 \tind 17: 0.593 \tind 18: 0.650 \tind 19: 0.676 \t\n"
     ]
    },
    {
     "name": "stderr",
     "output_type": "stream",
     "text": [
      "\n"
     ]
    },
    {
     "name": "stdout",
     "output_type": "stream",
     "text": [
      "2021-06-15 00:18:56,287 - modnet - INFO - Early stopping: same best model for 4 consecutive generations\n",
      "Loaded 3 models\n",
      "MAE =\n",
      "0.360938648127865\n",
      "2021-06-15 00:19:57,852 - modnet - INFO - Loaded <modnet.preprocessing.MODData object at 0x7f7d09a83670> object, created with modnet version 0.1.9\n",
      "2021-06-15 00:19:58,049 - modnet - INFO - Generation number 0\n",
      "2021-06-15 00:20:07,777 - modnet - INFO - Multiprocessing on 10 cores. Total of 48 cores available.\n"
     ]
    },
    {
     "name": "stderr",
     "output_type": "stream",
     "text": [
      "100%|██████████| 100/100 [35:42<00:00, 21.43s/it] "
     ]
    },
    {
     "name": "stdout",
     "output_type": "stream",
     "text": [
      "2021-06-15 00:55:50,478 - modnet - INFO - Loss per individual: ind 0: 0.682 \tind 1: 0.665 \tind 2: 0.668 \tind 3: 0.643 \tind 4: 0.654 \tind 5: 0.648 \tind 6: 0.749 \tind 7: 0.651 \tind 8: 0.733 \tind 9: 0.731 \tind 10: 0.630 \tind 11: 0.745 \tind 12: 0.658 \tind 13: 0.658 \tind 14: 0.687 \tind 15: 0.679 \tind 16: 0.722 \tind 17: 0.726 \tind 18: 0.706 \tind 19: 0.655 \t\n"
     ]
    },
    {
     "name": "stderr",
     "output_type": "stream",
     "text": [
      "\n"
     ]
    },
    {
     "name": "stdout",
     "output_type": "stream",
     "text": [
      "2021-06-15 00:55:53,477 - modnet - INFO - Generation number 1\n",
      "2021-06-15 00:56:02,300 - modnet - INFO - Multiprocessing on 10 cores. Total of 48 cores available.\n"
     ]
    },
    {
     "name": "stderr",
     "output_type": "stream",
     "text": [
      "100%|██████████| 100/100 [39:01<00:00, 23.42s/it] "
     ]
    },
    {
     "name": "stdout",
     "output_type": "stream",
     "text": [
      "2021-06-15 01:35:04,114 - modnet - INFO - Loss per individual: ind 0: 0.671 \tind 1: 0.716 \tind 2: 0.692 \tind 3: 0.663 \tind 4: 0.720 \tind 5: 0.677 \tind 6: 0.686 \tind 7: 0.717 \tind 8: 0.660 \tind 9: 0.669 \tind 10: 0.662 \tind 11: 0.666 \tind 12: 0.641 \tind 13: 0.653 \tind 14: 0.686 \tind 15: 0.677 \tind 16: 0.702 \tind 17: 0.648 \tind 18: 0.637 \tind 19: 0.709 \t\n"
     ]
    },
    {
     "name": "stderr",
     "output_type": "stream",
     "text": [
      "\n"
     ]
    },
    {
     "name": "stdout",
     "output_type": "stream",
     "text": [
      "2021-06-15 01:35:07,356 - modnet - INFO - Generation number 2\n",
      "2021-06-15 01:35:18,839 - modnet - INFO - Multiprocessing on 10 cores. Total of 48 cores available.\n"
     ]
    },
    {
     "name": "stderr",
     "output_type": "stream",
     "text": [
      "100%|██████████| 100/100 [28:39<00:00, 17.19s/it] "
     ]
    },
    {
     "name": "stdout",
     "output_type": "stream",
     "text": [
      "2021-06-15 02:03:58,377 - modnet - INFO - Loss per individual: ind 0: 0.677 \tind 1: 0.727 \tind 2: 0.657 \tind 3: 0.666 \tind 4: 0.677 \tind 5: 0.695 \tind 6: 0.663 \tind 7: 0.665 \tind 8: 0.652 \tind 9: 0.745 \tind 10: 0.640 \tind 11: 0.670 \tind 12: 0.697 \tind 13: 0.639 \tind 14: 0.637 \tind 15: 0.661 \tind 16: 0.678 \tind 17: 0.707 \tind 18: 0.666 \tind 19: 0.629 \t\n"
     ]
    },
    {
     "name": "stderr",
     "output_type": "stream",
     "text": [
      "\n"
     ]
    },
    {
     "name": "stdout",
     "output_type": "stream",
     "text": [
      "2021-06-15 02:04:01,863 - modnet - INFO - Generation number 3\n",
      "2021-06-15 02:04:15,005 - modnet - INFO - Multiprocessing on 10 cores. Total of 48 cores available.\n"
     ]
    },
    {
     "name": "stderr",
     "output_type": "stream",
     "text": [
      "100%|██████████| 100/100 [27:34<00:00, 16.55s/it] "
     ]
    },
    {
     "name": "stdout",
     "output_type": "stream",
     "text": [
      "2021-06-15 02:31:49,684 - modnet - INFO - Loss per individual: ind 0: 0.689 \tind 1: 0.640 \tind 2: 0.709 \tind 3: 0.778 \tind 4: 0.695 \tind 5: 0.768 \tind 6: 0.775 \tind 7: 0.652 \tind 8: 0.650 \tind 9: 0.627 \tind 10: 0.666 \tind 11: 0.626 \tind 12: 0.678 \tind 13: 0.650 \tind 14: 0.637 \tind 15: 0.699 \tind 16: 0.697 \tind 17: 0.624 \tind 18: 0.673 \tind 19: 0.687 \t\n"
     ]
    },
    {
     "name": "stderr",
     "output_type": "stream",
     "text": [
      "\n"
     ]
    },
    {
     "name": "stdout",
     "output_type": "stream",
     "text": [
      "2021-06-15 02:31:51,425 - modnet - INFO - Generation number 4\n",
      "2021-06-15 02:31:59,328 - modnet - INFO - Multiprocessing on 10 cores. Total of 48 cores available.\n"
     ]
    },
    {
     "name": "stderr",
     "output_type": "stream",
     "text": [
      "100%|██████████| 100/100 [30:37<00:00, 18.38s/it] "
     ]
    },
    {
     "name": "stdout",
     "output_type": "stream",
     "text": [
      "2021-06-15 03:02:37,194 - modnet - INFO - Loss per individual: ind 0: 0.672 \tind 1: 0.661 \tind 2: 0.723 \tind 3: 0.712 \tind 4: 0.670 \tind 5: 0.635 \tind 6: 0.722 \tind 7: 0.710 \tind 8: 0.716 \tind 9: 0.636 \tind 10: 0.646 \tind 11: 0.632 \tind 12: 0.675 \tind 13: 0.705 \tind 14: 0.712 \tind 15: 0.660 \tind 16: 0.655 \tind 17: 0.699 \tind 18: 0.667 \tind 19: 0.833 \t\n"
     ]
    },
    {
     "name": "stderr",
     "output_type": "stream",
     "text": [
      "\n"
     ]
    },
    {
     "name": "stdout",
     "output_type": "stream",
     "text": [
      "2021-06-15 03:02:40,139 - modnet - INFO - Generation number 5\n",
      "2021-06-15 03:02:52,795 - modnet - INFO - Multiprocessing on 10 cores. Total of 48 cores available.\n"
     ]
    },
    {
     "name": "stderr",
     "output_type": "stream",
     "text": [
      "100%|██████████| 100/100 [36:23<00:00, 21.83s/it] "
     ]
    },
    {
     "name": "stdout",
     "output_type": "stream",
     "text": [
      "2021-06-15 03:39:15,872 - modnet - INFO - Loss per individual: ind 0: 0.704 \tind 1: 0.646 \tind 2: 0.689 \tind 3: 0.665 \tind 4: 0.636 \tind 5: 0.642 \tind 6: 0.943 \tind 7: 0.656 \tind 8: 0.664 \tind 9: 0.657 \tind 10: 0.717 \tind 11: 0.666 \tind 12: 0.638 \tind 13: 0.641 \tind 14: 0.633 \tind 15: 0.661 \tind 16: 0.678 \tind 17: 0.688 \tind 18: 0.682 \tind 19: 0.679 \t\n"
     ]
    },
    {
     "name": "stderr",
     "output_type": "stream",
     "text": [
      "\n"
     ]
    },
    {
     "name": "stdout",
     "output_type": "stream",
     "text": [
      "2021-06-15 03:39:18,982 - modnet - INFO - Generation number 6\n",
      "2021-06-15 03:39:31,718 - modnet - INFO - Multiprocessing on 10 cores. Total of 48 cores available.\n"
     ]
    },
    {
     "name": "stderr",
     "output_type": "stream",
     "text": [
      "100%|██████████| 100/100 [34:06<00:00, 20.47s/it] "
     ]
    },
    {
     "name": "stdout",
     "output_type": "stream",
     "text": [
      "2021-06-15 04:13:38,524 - modnet - INFO - Loss per individual: ind 0: 0.643 \tind 1: 0.633 \tind 2: 0.726 \tind 3: 0.697 \tind 4: 0.660 \tind 5: 0.657 \tind 6: 0.685 \tind 7: 0.633 \tind 8: 0.642 \tind 9: 0.755 \tind 10: 0.708 \tind 11: 0.683 \tind 12: 0.642 \tind 13: 0.698 \tind 14: 0.665 \tind 15: 0.700 \tind 16: 0.633 \tind 17: 0.649 \tind 18: 0.661 \tind 19: 0.794 \t\n"
     ]
    },
    {
     "name": "stderr",
     "output_type": "stream",
     "text": [
      "\n"
     ]
    },
    {
     "name": "stdout",
     "output_type": "stream",
     "text": [
      "2021-06-15 04:13:41,723 - modnet - INFO - Early stopping: same best model for 4 consecutive generations\n",
      "Loaded 3 models\n",
      "MAE =\n",
      "1.179935543101278\n",
      "2021-06-15 04:14:44,719 - modnet - INFO - Loaded <modnet.preprocessing.MODData object at 0x7f7bcc184730> object, created with modnet version 0.1.9\n",
      "2021-06-15 04:14:44,846 - modnet - INFO - Generation number 0\n",
      "2021-06-15 04:14:55,279 - modnet - INFO - Multiprocessing on 10 cores. Total of 48 cores available.\n"
     ]
    },
    {
     "name": "stderr",
     "output_type": "stream",
     "text": [
      "100%|██████████| 100/100 [31:59<00:00, 19.19s/it] "
     ]
    },
    {
     "name": "stdout",
     "output_type": "stream",
     "text": [
      "2021-06-15 04:46:54,346 - modnet - INFO - Loss per individual: ind 0: 0.620 \tind 1: 0.624 \tind 2: 0.600 \tind 3: 0.621 \tind 4: 0.682 \tind 5: 0.674 \tind 6: 0.663 \tind 7: 1.077 \tind 8: 0.658 \tind 9: 0.745 \tind 10: 0.673 \tind 11: 0.679 \tind 12: 0.637 \tind 13: 0.650 \tind 14: 0.621 \tind 15: 0.637 \tind 16: 0.779 \tind 17: 0.608 \tind 18: 1.216 \tind 19: 0.666 \t\n"
     ]
    },
    {
     "name": "stderr",
     "output_type": "stream",
     "text": [
      "\n"
     ]
    },
    {
     "name": "stdout",
     "output_type": "stream",
     "text": [
      "2021-06-15 04:46:57,404 - modnet - INFO - Generation number 1\n",
      "2021-06-15 04:47:06,571 - modnet - INFO - Multiprocessing on 10 cores. Total of 48 cores available.\n"
     ]
    },
    {
     "name": "stderr",
     "output_type": "stream",
     "text": [
      "100%|██████████| 100/100 [31:50<00:00, 19.10s/it] "
     ]
    },
    {
     "name": "stdout",
     "output_type": "stream",
     "text": [
      "2021-06-15 05:18:57,192 - modnet - INFO - Loss per individual: ind 0: 0.623 \tind 1: 0.618 \tind 2: 0.775 \tind 3: 0.639 \tind 4: 0.607 \tind 5: 0.611 \tind 6: 0.657 \tind 7: 0.628 \tind 8: 0.595 \tind 9: 0.667 \tind 10: 0.662 \tind 11: 0.616 \tind 12: 0.639 \tind 13: 0.680 \tind 14: 0.628 \tind 15: 0.648 \tind 16: 4.399 \tind 17: 0.667 \tind 18: 0.691 \tind 19: 0.677 \t\n"
     ]
    },
    {
     "name": "stderr",
     "output_type": "stream",
     "text": [
      "\n"
     ]
    },
    {
     "name": "stdout",
     "output_type": "stream",
     "text": [
      "2021-06-15 05:18:59,135 - modnet - INFO - Generation number 2\n",
      "2021-06-15 05:19:07,163 - modnet - INFO - Multiprocessing on 10 cores. Total of 48 cores available.\n"
     ]
    },
    {
     "name": "stderr",
     "output_type": "stream",
     "text": [
      "100%|██████████| 100/100 [29:27<00:00, 17.67s/it] "
     ]
    },
    {
     "name": "stdout",
     "output_type": "stream",
     "text": [
      "2021-06-15 05:48:34,896 - modnet - INFO - Loss per individual: ind 0: 0.935 \tind 1: 0.618 \tind 2: 0.612 \tind 3: 0.631 \tind 4: 0.600 \tind 5: 0.618 \tind 6: 0.602 \tind 7: 0.615 \tind 8: 0.652 \tind 9: 0.640 \tind 10: 0.647 \tind 11: 0.616 \tind 12: 0.652 \tind 13: 0.660 \tind 14: 0.702 \tind 15: 0.677 \tind 16: 0.626 \tind 17: 0.629 \tind 18: 0.604 \tind 19: 0.656 \t\n"
     ]
    },
    {
     "name": "stderr",
     "output_type": "stream",
     "text": [
      "\n"
     ]
    },
    {
     "name": "stdout",
     "output_type": "stream",
     "text": [
      "2021-06-15 05:48:36,783 - modnet - INFO - Generation number 3\n",
      "2021-06-15 05:48:45,169 - modnet - INFO - Multiprocessing on 10 cores. Total of 48 cores available.\n"
     ]
    },
    {
     "name": "stderr",
     "output_type": "stream",
     "text": [
      "100%|██████████| 100/100 [33:06<00:00, 19.87s/it]"
     ]
    },
    {
     "name": "stdout",
     "output_type": "stream",
     "text": [
      "2021-06-15 06:21:52,021 - modnet - INFO - Loss per individual: ind 0: 0.626 \tind 1: 0.661 \tind 2: 0.682 \tind 3: 0.641 \tind 4: 0.592 \tind 5: 0.625 \tind 6: 0.600 \tind 7: 0.596 \tind 8: 0.582 \tind 9: 0.602 \tind 10: 0.623 \tind 11: 0.639 \tind 12: 0.590 \tind 13: 0.640 \tind 14: 0.600 \tind 15: 0.632 \tind 16: 0.590 \tind 17: 0.612 \tind 18: 0.643 \tind 19: 0.661 \t\n"
     ]
    },
    {
     "name": "stderr",
     "output_type": "stream",
     "text": [
      "\n"
     ]
    },
    {
     "name": "stdout",
     "output_type": "stream",
     "text": [
      "2021-06-15 06:21:55,186 - modnet - INFO - Generation number 4\n",
      "2021-06-15 06:22:06,922 - modnet - INFO - Multiprocessing on 10 cores. Total of 48 cores available.\n"
     ]
    },
    {
     "name": "stderr",
     "output_type": "stream",
     "text": [
      "100%|██████████| 100/100 [33:48<00:00, 20.29s/it] "
     ]
    },
    {
     "name": "stdout",
     "output_type": "stream",
     "text": [
      "2021-06-15 06:55:55,973 - modnet - INFO - Loss per individual: ind 0: 0.665 \tind 1: 0.771 \tind 2: 0.652 \tind 3: 0.621 \tind 4: 0.683 \tind 5: 0.613 \tind 6: 0.614 \tind 7: 0.649 \tind 8: 0.610 \tind 9: 0.632 \tind 10: 0.658 \tind 11: 0.658 \tind 12: 0.587 \tind 13: 0.648 \tind 14: 0.826 \tind 15: 0.637 \tind 16: 0.620 \tind 17: 0.661 \tind 18: 0.647 \tind 19: 0.600 \t\n"
     ]
    },
    {
     "name": "stderr",
     "output_type": "stream",
     "text": [
      "\n"
     ]
    },
    {
     "name": "stdout",
     "output_type": "stream",
     "text": [
      "2021-06-15 06:55:57,877 - modnet - INFO - Generation number 5\n",
      "2021-06-15 06:56:07,594 - modnet - INFO - Multiprocessing on 10 cores. Total of 48 cores available.\n"
     ]
    },
    {
     "name": "stderr",
     "output_type": "stream",
     "text": [
      "100%|██████████| 100/100 [30:10<00:00, 18.11s/it] "
     ]
    },
    {
     "name": "stdout",
     "output_type": "stream",
     "text": [
      "2021-06-15 07:26:18,812 - modnet - INFO - Loss per individual: ind 0: 0.642 \tind 1: 0.627 \tind 2: 0.633 \tind 3: 0.629 \tind 4: 0.686 \tind 5: 0.665 \tind 6: 0.636 \tind 7: 0.653 \tind 8: 0.669 \tind 9: 6.268 \tind 10: 0.620 \tind 11: 0.643 \tind 12: 0.645 \tind 13: 0.639 \tind 14: 0.727 \tind 15: 0.611 \tind 16: 0.645 \tind 17: 0.697 \tind 18: 0.640 \tind 19: 0.617 \t\n"
     ]
    },
    {
     "name": "stderr",
     "output_type": "stream",
     "text": [
      "\n"
     ]
    },
    {
     "name": "stdout",
     "output_type": "stream",
     "text": [
      "2021-06-15 07:26:21,149 - modnet - INFO - Generation number 6\n",
      "2021-06-15 07:26:31,633 - modnet - INFO - Multiprocessing on 10 cores. Total of 48 cores available.\n"
     ]
    },
    {
     "name": "stderr",
     "output_type": "stream",
     "text": [
      "100%|██████████| 100/100 [35:29<00:00, 21.29s/it]  "
     ]
    },
    {
     "name": "stdout",
     "output_type": "stream",
     "text": [
      "2021-06-15 08:02:01,053 - modnet - INFO - Loss per individual: ind 0: 0.626 \tind 1: 0.622 \tind 2: 0.618 \tind 3: 1.076 \tind 4: 0.649 \tind 5: 0.634 \tind 6: 0.637 \tind 7: 0.630 \tind 8: 0.602 \tind 9: 0.638 \tind 10: 0.627 \tind 11: 0.631 \tind 12: 0.645 \tind 13: 0.667 \tind 14: 0.635 \tind 15: 0.667 \tind 16: 0.615 \tind 17: 0.622 \tind 18: 0.614 \tind 19: 0.618 \t\n"
     ]
    },
    {
     "name": "stderr",
     "output_type": "stream",
     "text": [
      "\n"
     ]
    },
    {
     "name": "stdout",
     "output_type": "stream",
     "text": [
      "2021-06-15 08:02:03,124 - modnet - INFO - Early stopping: same best model for 4 consecutive generations\n",
      "Loaded 3 models\n",
      "MAE =\n",
      "0.31894950704336017\n",
      "2021-06-15 08:02:56,967 - modnet - INFO - Loaded <modnet.preprocessing.MODData object at 0x7f7d0780c6a0> object, created with modnet version 0.1.9\n",
      "2021-06-15 08:02:57,014 - modnet - INFO - Generation number 0\n",
      "2021-06-15 08:03:05,745 - modnet - INFO - Multiprocessing on 10 cores. Total of 48 cores available.\n"
     ]
    },
    {
     "name": "stderr",
     "output_type": "stream",
     "text": [
      "100%|██████████| 100/100 [31:21<00:00, 18.81s/it] "
     ]
    },
    {
     "name": "stdout",
     "output_type": "stream",
     "text": [
      "2021-06-15 08:34:27,374 - modnet - INFO - Loss per individual: ind 0: 0.716 \tind 1: 0.601 \tind 2: 0.668 \tind 3: 0.616 \tind 4: 0.673 \tind 5: 0.637 \tind 6: 0.584 \tind 7: 0.617 \tind 8: 0.584 \tind 9: 0.660 \tind 10: 0.644 \tind 11: 0.665 \tind 12: 0.620 \tind 13: 0.664 \tind 14: 0.680 \tind 15: 0.808 \tind 16: 0.637 \tind 17: 0.624 \tind 18: 0.619 \tind 19: 0.655 \t\n"
     ]
    },
    {
     "name": "stderr",
     "output_type": "stream",
     "text": [
      "\n"
     ]
    },
    {
     "name": "stdout",
     "output_type": "stream",
     "text": [
      "2021-06-15 08:34:29,787 - modnet - INFO - Generation number 1\n",
      "2021-06-15 08:34:38,538 - modnet - INFO - Multiprocessing on 10 cores. Total of 48 cores available.\n"
     ]
    },
    {
     "name": "stderr",
     "output_type": "stream",
     "text": [
      "100%|██████████| 100/100 [51:02<00:00, 30.63s/it]  "
     ]
    },
    {
     "name": "stdout",
     "output_type": "stream",
     "text": [
      "2021-06-15 09:25:41,711 - modnet - INFO - Loss per individual: ind 0: 0.599 \tind 1: 0.610 \tind 2: 0.654 \tind 3: 0.603 \tind 4: 0.721 \tind 5: 0.700 \tind 6: 0.617 \tind 7: 0.643 \tind 8: 0.653 \tind 9: 0.664 \tind 10: 0.636 \tind 11: 0.673 \tind 12: 0.603 \tind 13: 0.674 \tind 14: 0.607 \tind 15: 0.582 \tind 16: 0.584 \tind 17: 0.614 \tind 18: 0.712 \tind 19: 0.618 \t\n"
     ]
    },
    {
     "name": "stderr",
     "output_type": "stream",
     "text": [
      "\n"
     ]
    },
    {
     "name": "stdout",
     "output_type": "stream",
     "text": [
      "2021-06-15 09:25:44,772 - modnet - INFO - Generation number 2\n",
      "2021-06-15 09:25:54,452 - modnet - INFO - Multiprocessing on 10 cores. Total of 48 cores available.\n"
     ]
    },
    {
     "name": "stderr",
     "output_type": "stream",
     "text": [
      "100%|██████████| 100/100 [48:41<00:00, 29.22s/it] "
     ]
    },
    {
     "name": "stdout",
     "output_type": "stream",
     "text": [
      "2021-06-15 10:14:36,262 - modnet - INFO - Loss per individual: ind 0: 0.592 \tind 1: 0.604 \tind 2: 0.608 \tind 3: 0.610 \tind 4: 0.674 \tind 5: 0.599 \tind 6: 0.657 \tind 7: 0.602 \tind 8: 0.610 \tind 9: 0.657 \tind 10: 0.661 \tind 11: 0.627 \tind 12: 0.660 \tind 13: 0.629 \tind 14: 0.669 \tind 15: 0.624 \tind 16: 0.611 \tind 17: 0.595 \tind 18: 0.662 \tind 19: 0.571 \t\n"
     ]
    },
    {
     "name": "stderr",
     "output_type": "stream",
     "text": [
      "\n"
     ]
    },
    {
     "name": "stdout",
     "output_type": "stream",
     "text": [
      "2021-06-15 10:14:39,094 - modnet - INFO - Generation number 3\n",
      "2021-06-15 10:14:49,663 - modnet - INFO - Multiprocessing on 10 cores. Total of 48 cores available.\n"
     ]
    },
    {
     "name": "stderr",
     "output_type": "stream",
     "text": [
      "100%|██████████| 100/100 [38:27<00:00, 23.08s/it] "
     ]
    },
    {
     "name": "stdout",
     "output_type": "stream",
     "text": [
      "2021-06-15 10:53:17,780 - modnet - INFO - Loss per individual: ind 0: 0.584 \tind 1: 0.644 \tind 2: 0.631 \tind 3: 0.603 \tind 4: 0.631 \tind 5: 0.650 \tind 6: 0.644 \tind 7: 0.605 \tind 8: 0.721 \tind 9: 0.632 \tind 10: 0.622 \tind 11: 0.569 \tind 12: 0.612 \tind 13: 0.673 \tind 14: 0.647 \tind 15: 0.657 \tind 16: 0.644 \tind 17: 0.682 \tind 18: 0.607 \tind 19: 0.693 \t\n"
     ]
    },
    {
     "name": "stderr",
     "output_type": "stream",
     "text": [
      "\n"
     ]
    },
    {
     "name": "stdout",
     "output_type": "stream",
     "text": [
      "2021-06-15 10:53:21,376 - modnet - INFO - Generation number 4\n",
      "2021-06-15 10:53:35,129 - modnet - INFO - Multiprocessing on 10 cores. Total of 48 cores available.\n"
     ]
    },
    {
     "name": "stderr",
     "output_type": "stream",
     "text": [
      "100%|██████████| 100/100 [32:42<00:00, 19.62s/it] "
     ]
    },
    {
     "name": "stdout",
     "output_type": "stream",
     "text": [
      "2021-06-15 11:26:17,681 - modnet - INFO - Loss per individual: ind 0: 0.598 \tind 1: 0.628 \tind 2: 0.578 \tind 3: 0.608 \tind 4: 0.658 \tind 5: 0.633 \tind 6: 0.661 \tind 7: 0.657 \tind 8: 0.590 \tind 9: 0.614 \tind 10: 0.681 \tind 11: 0.616 \tind 12: 0.634 \tind 13: 0.650 \tind 14: 0.695 \tind 15: 0.652 \tind 16: 0.642 \tind 17: 0.589 \tind 18: 0.639 \tind 19: 0.658 \t\n"
     ]
    },
    {
     "name": "stderr",
     "output_type": "stream",
     "text": [
      "\n"
     ]
    },
    {
     "name": "stdout",
     "output_type": "stream",
     "text": [
      "2021-06-15 11:26:21,175 - modnet - INFO - Generation number 5\n",
      "2021-06-15 11:26:33,527 - modnet - INFO - Multiprocessing on 10 cores. Total of 48 cores available.\n"
     ]
    },
    {
     "name": "stderr",
     "output_type": "stream",
     "text": [
      "100%|██████████| 100/100 [25:48<00:00, 15.49s/it] "
     ]
    },
    {
     "name": "stdout",
     "output_type": "stream",
     "text": [
      "2021-06-15 11:52:22,513 - modnet - INFO - Loss per individual: ind 0: 0.627 \tind 1: 0.642 \tind 2: 0.760 \tind 3: 0.639 \tind 4: 0.687 \tind 5: 0.642 \tind 6: 0.668 \tind 7: 0.596 \tind 8: 0.648 \tind 9: 0.660 \tind 10: 0.613 \tind 11: 0.643 \tind 12: 0.673 \tind 13: 0.639 \tind 14: 0.644 \tind 15: 0.665 \tind 16: 0.608 \tind 17: 0.624 \tind 18: 0.737 \tind 19: 0.655 \t\n"
     ]
    },
    {
     "name": "stderr",
     "output_type": "stream",
     "text": [
      "\n"
     ]
    },
    {
     "name": "stdout",
     "output_type": "stream",
     "text": [
      "2021-06-15 11:52:24,475 - modnet - INFO - Generation number 6\n",
      "2021-06-15 11:52:32,226 - modnet - INFO - Multiprocessing on 10 cores. Total of 48 cores available.\n"
     ]
    },
    {
     "name": "stderr",
     "output_type": "stream",
     "text": [
      "100%|██████████| 100/100 [33:55<00:00, 20.35s/it] "
     ]
    },
    {
     "name": "stdout",
     "output_type": "stream",
     "text": [
      "2021-06-15 12:26:27,637 - modnet - INFO - Loss per individual: ind 0: 0.578 \tind 1: 0.657 \tind 2: 0.602 \tind 3: 0.649 \tind 4: 0.605 \tind 5: 0.593 \tind 6: 0.591 \tind 7: 0.643 \tind 8: 0.693 \tind 9: 0.622 \tind 10: 0.617 \tind 11: 0.620 \tind 12: 0.594 \tind 13: 0.582 \tind 14: 0.696 \tind 15: 0.593 \tind 16: 0.677 \tind 17: 0.643 \tind 18: 0.645 \tind 19: 0.610 \t\n"
     ]
    },
    {
     "name": "stderr",
     "output_type": "stream",
     "text": [
      "\n"
     ]
    },
    {
     "name": "stdout",
     "output_type": "stream",
     "text": [
      "2021-06-15 12:26:30,556 - modnet - INFO - Early stopping: same best model for 4 consecutive generations\n",
      "Loaded 3 models\n",
      "MAE =\n",
      "0.3719301076520654\n"
     ]
    }
   ],
   "source": [
    "k = 5\n",
    "random_state = 202010\n",
    "folds = MDKsplit(md_joint,n_splits=k,random_state=random_state)\n",
    "maes = np.ones(5)\n",
    "for i,f in enumerate(folds):\n",
    "    train = f[0]\n",
    "    test = f[1]\n",
    "    #train.feature_selection(n=-1, use_precomputed_cross_nmi=True)\n",
    "    fpath = 'train_{}_{}'.format(random_state,i+1)\n",
    "    if os.path.exists(fpath):\n",
    "        train = MODData.load(fpath)\n",
    "    else:\n",
    "        train.feature_selection(n=-1, use_precomputed_cross_nmi=True)\n",
    "        train.save(fpath)\n",
    "    \n",
    "        \n",
    "    # assure no overlap\n",
    "    assert len(set(train.df_targets.index).intersection(set(test.df_targets.index))) == 0\n",
    "    \n",
    "    ga = FitGenetic(train)\n",
    "    model3 = ga.run(size_pop=20, num_generations=10, n_jobs=10)\n",
    "    \n",
    "    # load all models\n",
    "    members = [model1, model2, model3]\n",
    "    print('Loaded %d models' % len(members))\n",
    "    \n",
    "    # fit stacked model on test dataset\n",
    "    model = fit_stacked_model(members, inputX=train, inputy=train.df_targets['exp_gap'])\n",
    "\n",
    "    # evaluate model on test set\n",
    "    pred = stacked_prediction(members, model, test)\n",
    "    pred = pd.DataFrame(pred)\n",
    "    pred = pred.rename(columns={pred.columns[0]: 'exp_gap'})\n",
    "    true = test.df_targets\n",
    "    for j in range(len(pred)):\n",
    "        pred = pred.rename(index={pred.index[j]: true.index[j]})\n",
    "    error = pred-true\n",
    "    error = error['exp_gap'].drop(pred.index[((pred['exp_gap']).abs()>20)]) # drop unrealistic values: happens extremely rarely\n",
    "    mae = np.abs(error.values).mean()\n",
    "    print('MAE =')\n",
    "    print(mae)\n",
    "    maes[i] = mae"
   ]
  },
  {
   "cell_type": "code",
   "execution_count": 16,
   "metadata": {
    "ExecuteTime": {
     "end_time": "2021-06-15T10:27:29.821649Z",
     "start_time": "2021-06-15T10:27:29.809819Z"
    }
   },
   "outputs": [
    {
     "data": {
      "text/plain": [
       "array([0.37659606, 0.36093865, 1.17993554, 0.31894951, 0.37193011])"
      ]
     },
     "execution_count": 16,
     "metadata": {},
     "output_type": "execute_result"
    }
   ],
   "source": [
    "maes"
   ]
  },
  {
   "cell_type": "code",
   "execution_count": 17,
   "metadata": {
    "ExecuteTime": {
     "end_time": "2021-06-15T10:27:30.197503Z",
     "start_time": "2021-06-15T10:27:29.827044Z"
    }
   },
   "outputs": [
    {
     "data": {
      "text/plain": [
       "0.521669973444622"
      ]
     },
     "execution_count": 17,
     "metadata": {},
     "output_type": "execute_result"
    }
   ],
   "source": [
    "maes.mean()"
   ]
  },
  {
   "cell_type": "markdown",
   "metadata": {},
   "source": [
    "#### 2) Keras model with one hidden layer of 3 neurons"
   ]
  },
  {
   "cell_type": "code",
   "execution_count": 9,
   "metadata": {
    "ExecuteTime": {
     "end_time": "2021-06-17T22:54:43.373136Z",
     "start_time": "2021-06-17T22:54:43.369317Z"
    }
   },
   "outputs": [],
   "source": [
    "# create the meta-learner model\n",
    "import tensorflow as tf\n",
    "\n",
    "def get_compiled_model():\n",
    "    model = tf.keras.Sequential([\n",
    "        tf.keras.layers.Dense(3, activation='relu'),\n",
    "        tf.keras.layers.Dense(1)\n",
    "    ])\n",
    "\n",
    "    model.compile(optimizer='adam',\n",
    "                loss='mse',\n",
    "                metrics=['accuracy'])\n",
    "    return model"
   ]
  },
  {
   "cell_type": "code",
   "execution_count": 10,
   "metadata": {
    "ExecuteTime": {
     "end_time": "2021-06-17T22:54:43.399816Z",
     "start_time": "2021-06-17T22:54:43.375997Z"
    }
   },
   "outputs": [],
   "source": [
    "# fit a model based on the outputs from the ensemble members\n",
    "def fit_stacked_model(members, inputX, inputy):\n",
    "    # create dataset using ensemble\n",
    "    stackedX = stacked_dataset(members, inputX)\n",
    "    # fit standalone model\n",
    "    model = get_compiled_model()\n",
    "    model.fit(stackedX, inputy, epochs=500, verbose=0)\n",
    "    return model"
   ]
  },
  {
   "cell_type": "code",
   "execution_count": 11,
   "metadata": {
    "ExecuteTime": {
     "end_time": "2021-06-17T22:54:43.405277Z",
     "start_time": "2021-06-17T22:54:43.402101Z"
    }
   },
   "outputs": [],
   "source": [
    "# make a prediction with the stacked model\n",
    "def stacked_prediction(members, model, inputX):\n",
    "    # create dataset using ensemble\n",
    "    stackedX = stacked_dataset(members, inputX)\n",
    "    # make a prediction\n",
    "    yhat= model.predict(stackedX)\n",
    "    return yhat"
   ]
  },
  {
   "cell_type": "code",
   "execution_count": 16,
   "metadata": {
    "ExecuteTime": {
     "end_time": "2021-06-18T11:20:47.651845Z",
     "start_time": "2021-06-18T07:25:04.337150Z"
    }
   },
   "outputs": [
    {
     "name": "stdout",
     "output_type": "stream",
     "text": [
      "2021-06-18 09:25:04,411 - modnet - INFO - Loaded DeBreuck2020Featurizer featurizer.\n",
      "2021-06-18 09:25:04,435 - modnet - INFO - Loaded DeBreuck2020Featurizer featurizer.\n",
      "2021-06-18 09:25:04,447 - modnet - INFO - Loaded DeBreuck2020Featurizer featurizer.\n",
      "2021-06-18 09:25:04,464 - modnet - INFO - Loaded DeBreuck2020Featurizer featurizer.\n",
      "2021-06-18 09:25:04,475 - modnet - INFO - Loaded DeBreuck2020Featurizer featurizer.\n",
      "2021-06-18 09:25:04,490 - modnet - INFO - Loaded DeBreuck2020Featurizer featurizer.\n",
      "2021-06-18 09:25:04,499 - modnet - INFO - Loaded DeBreuck2020Featurizer featurizer.\n",
      "2021-06-18 09:25:04,513 - modnet - INFO - Loaded DeBreuck2020Featurizer featurizer.\n",
      "2021-06-18 09:25:04,523 - modnet - INFO - Loaded DeBreuck2020Featurizer featurizer.\n",
      "2021-06-18 09:25:04,538 - modnet - INFO - Loaded DeBreuck2020Featurizer featurizer.\n",
      "2021-06-18 09:25:04,800 - modnet - INFO - Loaded <modnet.preprocessing.MODData object at 0x7f5e9786e280> object, created with modnet version 0.1.9\n",
      "2021-06-18 09:25:04,802 - modnet - INFO - Generation number 0\n",
      "2021-06-18 09:25:09,979 - modnet - INFO - Multiprocessing on 32 cores. Total of 128 cores available.\n"
     ]
    },
    {
     "name": "stderr",
     "output_type": "stream",
     "text": [
      "100%|██████████| 100/100 [07:30<00:00,  4.51s/it]"
     ]
    },
    {
     "name": "stdout",
     "output_type": "stream",
     "text": [
      "2021-06-18 09:32:40,965 - modnet - INFO - Loss per individual: ind 0: 0.614 \tind 1: 0.660 \tind 2: 0.612 \tind 3: 0.683 \tind 4: 0.724 \tind 5: 0.692 \tind 6: 0.602 \tind 7: 0.626 \tind 8: 0.668 \tind 9: 0.698 \tind 10: 0.654 \tind 11: 0.615 \tind 12: 0.598 \tind 13: 0.685 \tind 14: 0.665 \tind 15: 0.579 \tind 16: 0.644 \tind 17: 0.638 \tind 18: 0.644 \tind 19: 0.714 \t\n"
     ]
    },
    {
     "name": "stderr",
     "output_type": "stream",
     "text": [
      "\n"
     ]
    },
    {
     "name": "stdout",
     "output_type": "stream",
     "text": [
      "2021-06-18 09:32:43,215 - modnet - INFO - Generation number 1\n",
      "2021-06-18 09:32:49,022 - modnet - INFO - Multiprocessing on 32 cores. Total of 128 cores available.\n"
     ]
    },
    {
     "name": "stderr",
     "output_type": "stream",
     "text": [
      "100%|██████████| 100/100 [06:29<00:00,  3.89s/it]"
     ]
    },
    {
     "name": "stdout",
     "output_type": "stream",
     "text": [
      "2021-06-18 09:39:18,238 - modnet - INFO - Loss per individual: ind 0: 0.631 \tind 1: 0.643 \tind 2: 0.657 \tind 3: 0.593 \tind 4: 0.619 \tind 5: 0.634 \tind 6: 0.617 \tind 7: 0.775 \tind 8: 0.613 \tind 9: 0.638 \tind 10: 0.609 \tind 11: 0.692 \tind 12: 0.618 \tind 13: 0.655 \tind 14: 0.690 \tind 15: 0.656 \tind 16: 0.626 \tind 17: 0.660 \tind 18: 0.634 \tind 19: 0.656 \t\n"
     ]
    },
    {
     "name": "stderr",
     "output_type": "stream",
     "text": [
      "\n"
     ]
    },
    {
     "name": "stdout",
     "output_type": "stream",
     "text": [
      "2021-06-18 09:39:20,486 - modnet - INFO - Generation number 2\n",
      "2021-06-18 09:39:26,096 - modnet - INFO - Multiprocessing on 32 cores. Total of 128 cores available.\n"
     ]
    },
    {
     "name": "stderr",
     "output_type": "stream",
     "text": [
      "100%|██████████| 100/100 [08:03<00:00,  4.84s/it]"
     ]
    },
    {
     "name": "stdout",
     "output_type": "stream",
     "text": [
      "2021-06-18 09:47:29,920 - modnet - INFO - Loss per individual: ind 0: 0.634 \tind 1: 0.600 \tind 2: 0.634 \tind 3: 0.645 \tind 4: 0.628 \tind 5: 0.609 \tind 6: 0.613 \tind 7: 0.715 \tind 8: 0.603 \tind 9: 0.625 \tind 10: 0.627 \tind 11: 0.645 \tind 12: 0.709 \tind 13: 0.636 \tind 14: 0.646 \tind 15: 0.615 \tind 16: 0.721 \tind 17: 0.586 \tind 18: 0.706 \tind 19: 0.609 \t\n"
     ]
    },
    {
     "name": "stderr",
     "output_type": "stream",
     "text": [
      "\n"
     ]
    },
    {
     "name": "stdout",
     "output_type": "stream",
     "text": [
      "2021-06-18 09:47:32,285 - modnet - INFO - Generation number 3\n",
      "2021-06-18 09:47:37,455 - modnet - INFO - Multiprocessing on 32 cores. Total of 128 cores available.\n"
     ]
    },
    {
     "name": "stderr",
     "output_type": "stream",
     "text": [
      "100%|██████████| 100/100 [08:40<00:00,  5.21s/it]"
     ]
    },
    {
     "name": "stdout",
     "output_type": "stream",
     "text": [
      "2021-06-18 09:56:18,506 - modnet - INFO - Loss per individual: ind 0: 0.594 \tind 1: 0.608 \tind 2: 0.631 \tind 3: 0.612 \tind 4: 0.639 \tind 5: 0.733 \tind 6: 0.721 \tind 7: 0.627 \tind 8: 0.646 \tind 9: 0.663 \tind 10: 0.695 \tind 11: 0.633 \tind 12: 0.627 \tind 13: 0.609 \tind 14: 0.596 \tind 15: 0.666 \tind 16: 0.608 \tind 17: 0.655 \tind 18: 0.621 \tind 19: 0.623 \t\n"
     ]
    },
    {
     "name": "stderr",
     "output_type": "stream",
     "text": [
      "\n"
     ]
    },
    {
     "name": "stdout",
     "output_type": "stream",
     "text": [
      "2021-06-18 09:56:20,839 - modnet - INFO - Early stopping: same best model for 4 consecutive generations\n",
      "Loaded 3 models\n",
      "MAE =\n",
      "0.4155244305605294\n",
      "2021-06-18 09:56:44,356 - modnet - INFO - Loaded <modnet.preprocessing.MODData object at 0x7f5c22dbfc10> object, created with modnet version 0.1.9\n",
      "2021-06-18 09:56:44,683 - modnet - INFO - Generation number 0\n",
      "2021-06-18 09:56:49,742 - modnet - INFO - Multiprocessing on 32 cores. Total of 128 cores available.\n"
     ]
    },
    {
     "name": "stderr",
     "output_type": "stream",
     "text": [
      "100%|██████████| 100/100 [06:36<00:00,  3.97s/it]"
     ]
    },
    {
     "name": "stdout",
     "output_type": "stream",
     "text": [
      "2021-06-18 10:03:26,726 - modnet - INFO - Loss per individual: ind 0: 0.598 \tind 1: 0.618 \tind 2: 0.698 \tind 3: 0.636 \tind 4: 0.654 \tind 5: 0.662 \tind 6: 0.624 \tind 7: 0.700 \tind 8: 0.638 \tind 9: 0.612 \tind 10: 0.775 \tind 11: 0.708 \tind 12: 0.647 \tind 13: 0.614 \tind 14: 0.610 \tind 15: 0.640 \tind 16: 0.671 \tind 17: 0.673 \tind 18: 0.758 \tind 19: 0.619 \t\n"
     ]
    },
    {
     "name": "stderr",
     "output_type": "stream",
     "text": [
      "\n"
     ]
    },
    {
     "name": "stdout",
     "output_type": "stream",
     "text": [
      "2021-06-18 10:03:28,892 - modnet - INFO - Generation number 1\n",
      "2021-06-18 10:03:33,943 - modnet - INFO - Multiprocessing on 32 cores. Total of 128 cores available.\n"
     ]
    },
    {
     "name": "stderr",
     "output_type": "stream",
     "text": [
      "100%|██████████| 100/100 [05:48<00:00,  3.49s/it]"
     ]
    },
    {
     "name": "stdout",
     "output_type": "stream",
     "text": [
      "2021-06-18 10:09:22,883 - modnet - INFO - Loss per individual: ind 0: 0.619 \tind 1: 0.655 \tind 2: 0.618 \tind 3: 0.645 \tind 4: 0.607 \tind 5: 0.680 \tind 6: 0.674 \tind 7: 0.742 \tind 8: 0.619 \tind 9: 0.690 \tind 10: 0.609 \tind 11: 0.685 \tind 12: 0.737 \tind 13: 0.686 \tind 14: 0.701 \tind 15: 0.669 \tind 16: 0.653 \tind 17: 0.694 \tind 18: 0.690 \tind 19: 0.620 \t\n"
     ]
    },
    {
     "name": "stderr",
     "output_type": "stream",
     "text": [
      "\n"
     ]
    },
    {
     "name": "stdout",
     "output_type": "stream",
     "text": [
      "2021-06-18 10:09:25,346 - modnet - INFO - Generation number 2\n",
      "2021-06-18 10:09:30,584 - modnet - INFO - Multiprocessing on 32 cores. Total of 128 cores available.\n"
     ]
    },
    {
     "name": "stderr",
     "output_type": "stream",
     "text": [
      "100%|██████████| 100/100 [06:54<00:00,  4.15s/it]"
     ]
    },
    {
     "name": "stdout",
     "output_type": "stream",
     "text": [
      "2021-06-18 10:16:25,328 - modnet - INFO - Loss per individual: ind 0: 0.677 \tind 1: 0.590 \tind 2: 0.626 \tind 3: 0.622 \tind 4: 0.679 \tind 5: 0.627 \tind 6: 0.629 \tind 7: 0.715 \tind 8: 0.710 \tind 9: 0.626 \tind 10: 0.608 \tind 11: 0.668 \tind 12: 0.624 \tind 13: 0.619 \tind 14: 0.648 \tind 15: 0.628 \tind 16: 0.612 \tind 17: 0.649 \tind 18: 0.779 \tind 19: 0.643 \t\n"
     ]
    },
    {
     "name": "stderr",
     "output_type": "stream",
     "text": [
      "\n"
     ]
    },
    {
     "name": "stdout",
     "output_type": "stream",
     "text": [
      "2021-06-18 10:16:27,623 - modnet - INFO - Generation number 3\n",
      "2021-06-18 10:16:33,597 - modnet - INFO - Multiprocessing on 32 cores. Total of 128 cores available.\n"
     ]
    },
    {
     "name": "stderr",
     "output_type": "stream",
     "text": [
      "100%|██████████| 100/100 [06:13<00:00,  3.74s/it]"
     ]
    },
    {
     "name": "stdout",
     "output_type": "stream",
     "text": [
      "2021-06-18 10:22:47,692 - modnet - INFO - Loss per individual: ind 0: 0.638 \tind 1: 0.611 \tind 2: 0.655 \tind 3: 0.586 \tind 4: 0.643 \tind 5: 0.691 \tind 6: 0.620 \tind 7: 0.644 \tind 8: 0.667 \tind 9: 0.655 \tind 10: 0.672 \tind 11: 0.633 \tind 12: 0.745 \tind 13: 0.715 \tind 14: 0.622 \tind 15: 0.630 \tind 16: 0.657 \tind 17: 0.602 \tind 18: 0.630 \tind 19: 0.682 \t\n"
     ]
    },
    {
     "name": "stderr",
     "output_type": "stream",
     "text": [
      "\n"
     ]
    },
    {
     "name": "stdout",
     "output_type": "stream",
     "text": [
      "2021-06-18 10:22:49,933 - modnet - INFO - Generation number 4\n",
      "2021-06-18 10:22:55,675 - modnet - INFO - Multiprocessing on 32 cores. Total of 128 cores available.\n"
     ]
    },
    {
     "name": "stderr",
     "output_type": "stream",
     "text": [
      "100%|██████████| 100/100 [06:08<00:00,  3.68s/it]"
     ]
    },
    {
     "name": "stdout",
     "output_type": "stream",
     "text": [
      "2021-06-18 10:29:03,858 - modnet - INFO - Loss per individual: ind 0: 0.593 \tind 1: 0.618 \tind 2: 0.640 \tind 3: 0.622 \tind 4: 0.636 \tind 5: 0.655 \tind 6: 0.613 \tind 7: 0.682 \tind 8: 0.650 \tind 9: 0.661 \tind 10: 0.655 \tind 11: 0.662 \tind 12: 0.614 \tind 13: 0.631 \tind 14: 0.681 \tind 15: 0.659 \tind 16: 0.626 \tind 17: 0.719 \tind 18: 0.757 \tind 19: 0.672 \t\n"
     ]
    },
    {
     "name": "stderr",
     "output_type": "stream",
     "text": [
      "\n"
     ]
    },
    {
     "name": "stdout",
     "output_type": "stream",
     "text": [
      "2021-06-18 10:29:06,245 - modnet - INFO - Generation number 5\n",
      "2021-06-18 10:29:12,803 - modnet - INFO - Multiprocessing on 32 cores. Total of 128 cores available.\n"
     ]
    },
    {
     "name": "stderr",
     "output_type": "stream",
     "text": [
      "100%|██████████| 100/100 [06:08<00:00,  3.68s/it]"
     ]
    },
    {
     "name": "stdout",
     "output_type": "stream",
     "text": [
      "2021-06-18 10:35:21,137 - modnet - INFO - Loss per individual: ind 0: 0.661 \tind 1: 0.640 \tind 2: 0.593 \tind 3: 0.640 \tind 4: 0.611 \tind 5: 0.692 \tind 6: 0.650 \tind 7: 0.622 \tind 8: 0.653 \tind 9: 0.652 \tind 10: 0.629 \tind 11: 0.621 \tind 12: 0.622 \tind 13: 0.681 \tind 14: 0.612 \tind 15: 0.758 \tind 16: 0.626 \tind 17: 0.655 \tind 18: 0.660 \tind 19: 0.640 \t\n"
     ]
    },
    {
     "name": "stderr",
     "output_type": "stream",
     "text": [
      "\n"
     ]
    },
    {
     "name": "stdout",
     "output_type": "stream",
     "text": [
      "2021-06-18 10:35:23,443 - modnet - INFO - Generation number 6\n",
      "2021-06-18 10:35:29,515 - modnet - INFO - Multiprocessing on 32 cores. Total of 128 cores available.\n"
     ]
    },
    {
     "name": "stderr",
     "output_type": "stream",
     "text": [
      "100%|██████████| 100/100 [05:51<00:00,  3.51s/it]"
     ]
    },
    {
     "name": "stdout",
     "output_type": "stream",
     "text": [
      "2021-06-18 10:41:20,622 - modnet - INFO - Loss per individual: ind 0: 0.628 \tind 1: 0.612 \tind 2: 0.621 \tind 3: 0.658 \tind 4: 0.601 \tind 5: 0.594 \tind 6: 0.666 \tind 7: 0.622 \tind 8: 0.682 \tind 9: 0.621 \tind 10: 0.637 \tind 11: 0.646 \tind 12: 0.630 \tind 13: 0.622 \tind 14: 0.651 \tind 15: 0.639 \tind 16: 0.668 \tind 17: 0.655 \tind 18: 0.802 \tind 19: 0.611 \t\n"
     ]
    },
    {
     "name": "stderr",
     "output_type": "stream",
     "text": [
      "\n"
     ]
    },
    {
     "name": "stdout",
     "output_type": "stream",
     "text": [
      "2021-06-18 10:41:22,841 - modnet - INFO - Early stopping: same best model for 4 consecutive generations\n",
      "Loaded 3 models\n",
      "MAE =\n",
      "0.3919095081384973\n",
      "2021-06-18 10:41:47,819 - modnet - INFO - Loaded <modnet.preprocessing.MODData object at 0x7f5db70074c0> object, created with modnet version 0.1.9\n",
      "2021-06-18 10:41:47,870 - modnet - INFO - Generation number 0\n",
      "2021-06-18 10:41:53,855 - modnet - INFO - Multiprocessing on 32 cores. Total of 128 cores available.\n"
     ]
    },
    {
     "name": "stderr",
     "output_type": "stream",
     "text": [
      "100%|██████████| 100/100 [06:36<00:00,  3.97s/it]"
     ]
    },
    {
     "name": "stdout",
     "output_type": "stream",
     "text": [
      "2021-06-18 10:48:30,740 - modnet - INFO - Loss per individual: ind 0: 0.666 \tind 1: 0.674 \tind 2: 0.688 \tind 3: 0.636 \tind 4: 0.695 \tind 5: 0.638 \tind 6: 0.679 \tind 7: 0.641 \tind 8: 0.742 \tind 9: 0.625 \tind 10: 0.707 \tind 11: 0.763 \tind 12: 0.680 \tind 13: 0.655 \tind 14: 0.689 \tind 15: 0.795 \tind 16: 0.635 \tind 17: 0.768 \tind 18: 0.631 \tind 19: 0.650 \t\n"
     ]
    },
    {
     "name": "stderr",
     "output_type": "stream",
     "text": [
      "\n"
     ]
    },
    {
     "name": "stdout",
     "output_type": "stream",
     "text": [
      "2021-06-18 10:48:32,989 - modnet - INFO - Generation number 1\n",
      "2021-06-18 10:48:38,865 - modnet - INFO - Multiprocessing on 32 cores. Total of 128 cores available.\n"
     ]
    },
    {
     "name": "stderr",
     "output_type": "stream",
     "text": [
      "100%|██████████| 100/100 [06:12<00:00,  3.73s/it]"
     ]
    },
    {
     "name": "stdout",
     "output_type": "stream",
     "text": [
      "2021-06-18 10:54:51,822 - modnet - INFO - Loss per individual: ind 0: 0.640 \tind 1: 0.650 \tind 2: 0.690 \tind 3: 0.653 \tind 4: 0.721 \tind 5: 0.645 \tind 6: 0.642 \tind 7: 0.634 \tind 8: 0.705 \tind 9: 0.680 \tind 10: 0.637 \tind 11: 0.657 \tind 12: 0.715 \tind 13: 0.638 \tind 14: 0.686 \tind 15: 0.636 \tind 16: 0.638 \tind 17: 0.770 \tind 18: 0.647 \tind 19: 0.637 \t\n"
     ]
    },
    {
     "name": "stderr",
     "output_type": "stream",
     "text": [
      "\n"
     ]
    },
    {
     "name": "stdout",
     "output_type": "stream",
     "text": [
      "2021-06-18 10:54:54,094 - modnet - INFO - Generation number 2\n",
      "2021-06-18 10:55:06,731 - modnet - INFO - Multiprocessing on 32 cores. Total of 128 cores available.\n"
     ]
    },
    {
     "name": "stderr",
     "output_type": "stream",
     "text": [
      "100%|██████████| 100/100 [07:25<00:00,  4.46s/it]"
     ]
    },
    {
     "name": "stdout",
     "output_type": "stream",
     "text": [
      "2021-06-18 11:02:32,408 - modnet - INFO - Loss per individual: ind 0: 0.661 \tind 1: 0.666 \tind 2: 0.676 \tind 3: 0.711 \tind 4: 0.646 \tind 5: 0.688 \tind 6: 0.647 \tind 7: 0.628 \tind 8: 0.623 \tind 9: 0.704 \tind 10: 0.696 \tind 11: 0.628 \tind 12: 0.634 \tind 13: 0.629 \tind 14: 0.693 \tind 15: 0.636 \tind 16: 0.656 \tind 17: 0.642 \tind 18: 0.659 \tind 19: 0.676 \t\n"
     ]
    },
    {
     "name": "stderr",
     "output_type": "stream",
     "text": [
      "\n"
     ]
    },
    {
     "name": "stdout",
     "output_type": "stream",
     "text": [
      "2021-06-18 11:02:34,867 - modnet - INFO - Generation number 3\n",
      "2021-06-18 11:02:41,338 - modnet - INFO - Multiprocessing on 32 cores. Total of 128 cores available.\n"
     ]
    },
    {
     "name": "stderr",
     "output_type": "stream",
     "text": [
      "100%|██████████| 100/100 [07:20<00:00,  4.41s/it]"
     ]
    },
    {
     "name": "stdout",
     "output_type": "stream",
     "text": [
      "2021-06-18 11:10:02,353 - modnet - INFO - Loss per individual: ind 0: 0.639 \tind 1: 0.649 \tind 2: 0.688 \tind 3: 0.701 \tind 4: 0.663 \tind 5: 0.685 \tind 6: 0.606 \tind 7: 0.642 \tind 8: 0.642 \tind 9: 1.632 \tind 10: 0.679 \tind 11: 0.654 \tind 12: 0.684 \tind 13: 0.657 \tind 14: 0.688 \tind 15: 0.702 \tind 16: 0.725 \tind 17: 0.648 \tind 18: 0.669 \tind 19: 0.650 \t\n"
     ]
    },
    {
     "name": "stderr",
     "output_type": "stream",
     "text": [
      "\n"
     ]
    },
    {
     "name": "stdout",
     "output_type": "stream",
     "text": [
      "2021-06-18 11:10:04,556 - modnet - INFO - Generation number 4\n",
      "2021-06-18 11:10:10,903 - modnet - INFO - Multiprocessing on 32 cores. Total of 128 cores available.\n"
     ]
    },
    {
     "name": "stderr",
     "output_type": "stream",
     "text": [
      "100%|██████████| 100/100 [07:52<00:00,  4.73s/it]"
     ]
    },
    {
     "name": "stdout",
     "output_type": "stream",
     "text": [
      "2021-06-18 11:18:03,849 - modnet - INFO - Loss per individual: ind 0: 0.617 \tind 1: 0.653 \tind 2: 0.713 \tind 3: 0.676 \tind 4: 0.633 \tind 5: 0.676 \tind 6: 0.644 \tind 7: 0.666 \tind 8: 0.666 \tind 9: 0.625 \tind 10: 0.715 \tind 11: 0.625 \tind 12: 0.660 \tind 13: 0.666 \tind 14: 0.678 \tind 15: 0.670 \tind 16: 0.674 \tind 17: 0.665 \tind 18: 0.646 \tind 19: 0.733 \t\n"
     ]
    },
    {
     "name": "stderr",
     "output_type": "stream",
     "text": [
      "\n"
     ]
    },
    {
     "name": "stdout",
     "output_type": "stream",
     "text": [
      "2021-06-18 11:18:06,201 - modnet - INFO - Generation number 5\n",
      "2021-06-18 11:18:11,923 - modnet - INFO - Multiprocessing on 32 cores. Total of 128 cores available.\n"
     ]
    },
    {
     "name": "stderr",
     "output_type": "stream",
     "text": [
      "100%|██████████| 100/100 [08:09<00:00,  4.90s/it]"
     ]
    },
    {
     "name": "stdout",
     "output_type": "stream",
     "text": [
      "2021-06-18 11:26:21,799 - modnet - INFO - Loss per individual: ind 0: 0.659 \tind 1: 0.630 \tind 2: 0.645 \tind 3: 0.618 \tind 4: 0.662 \tind 5: 0.674 \tind 6: 0.617 \tind 7: 0.705 \tind 8: 0.662 \tind 9: 0.710 \tind 10: 0.685 \tind 11: 0.635 \tind 12: 0.662 \tind 13: 0.619 \tind 14: 0.638 \tind 15: 0.708 \tind 16: 0.687 \tind 17: 0.640 \tind 18: 0.686 \tind 19: 0.653 \t\n"
     ]
    },
    {
     "name": "stderr",
     "output_type": "stream",
     "text": [
      "\n"
     ]
    },
    {
     "name": "stdout",
     "output_type": "stream",
     "text": [
      "2021-06-18 11:26:24,046 - modnet - INFO - Generation number 6\n",
      "2021-06-18 11:26:30,176 - modnet - INFO - Multiprocessing on 32 cores. Total of 128 cores available.\n"
     ]
    },
    {
     "name": "stderr",
     "output_type": "stream",
     "text": [
      "100%|██████████| 100/100 [06:34<00:00,  3.95s/it]"
     ]
    },
    {
     "name": "stdout",
     "output_type": "stream",
     "text": [
      "2021-06-18 11:33:04,872 - modnet - INFO - Loss per individual: ind 0: 0.678 \tind 1: 0.680 \tind 2: 0.648 \tind 3: 0.643 \tind 4: 0.706 \tind 5: 0.701 \tind 6: 0.733 \tind 7: 0.664 \tind 8: 0.715 \tind 9: 0.740 \tind 10: 0.653 \tind 11: 0.646 \tind 12: 0.635 \tind 13: 0.654 \tind 14: 0.656 \tind 15: 0.647 \tind 16: 0.643 \tind 17: 0.669 \tind 18: 0.670 \tind 19: 0.671 \t\n"
     ]
    },
    {
     "name": "stderr",
     "output_type": "stream",
     "text": [
      "\n"
     ]
    },
    {
     "name": "stdout",
     "output_type": "stream",
     "text": [
      "2021-06-18 11:33:07,356 - modnet - INFO - Early stopping: same best model for 4 consecutive generations\n",
      "Loaded 3 models\n",
      "MAE =\n",
      "0.32807522900234787\n",
      "2021-06-18 11:33:32,143 - modnet - INFO - Loaded <modnet.preprocessing.MODData object at 0x7f5e15f94b80> object, created with modnet version 0.1.9\n",
      "2021-06-18 11:33:32,176 - modnet - INFO - Generation number 0\n",
      "2021-06-18 11:33:37,643 - modnet - INFO - Multiprocessing on 32 cores. Total of 128 cores available.\n"
     ]
    },
    {
     "name": "stderr",
     "output_type": "stream",
     "text": [
      "100%|██████████| 100/100 [07:32<00:00,  4.52s/it]"
     ]
    },
    {
     "name": "stdout",
     "output_type": "stream",
     "text": [
      "2021-06-18 11:41:09,943 - modnet - INFO - Loss per individual: ind 0: 0.770 \tind 1: 1.386 \tind 2: 0.636 \tind 3: 0.674 \tind 4: 5.318 \tind 5: 0.696 \tind 6: 0.677 \tind 7: 0.644 \tind 8: 0.712 \tind 9: 0.608 \tind 10: 0.608 \tind 11: 0.633 \tind 12: 2.136 \tind 13: 0.662 \tind 14: 0.652 \tind 15: 0.613 \tind 16: 14.596 \tind 17: 6.316 \tind 18: 1.187 \tind 19: 0.643 \t\n"
     ]
    },
    {
     "name": "stderr",
     "output_type": "stream",
     "text": [
      "\n"
     ]
    },
    {
     "name": "stdout",
     "output_type": "stream",
     "text": [
      "2021-06-18 11:41:12,428 - modnet - INFO - Generation number 1\n",
      "2021-06-18 11:41:19,600 - modnet - INFO - Multiprocessing on 32 cores. Total of 128 cores available.\n"
     ]
    },
    {
     "name": "stderr",
     "output_type": "stream",
     "text": [
      "100%|██████████| 100/100 [05:38<00:00,  3.38s/it]"
     ]
    },
    {
     "name": "stdout",
     "output_type": "stream",
     "text": [
      "2021-06-18 11:46:57,793 - modnet - INFO - Loss per individual: ind 0: 3.660 \tind 1: 0.641 \tind 2: 0.605 \tind 3: 0.632 \tind 4: 0.653 \tind 5: 0.612 \tind 6: 0.621 \tind 7: 0.672 \tind 8: 0.656 \tind 9: 0.616 \tind 10: 0.656 \tind 11: 0.589 \tind 12: 0.602 \tind 13: 4.160 \tind 14: 1.019 \tind 15: 0.613 \tind 16: 2.984 \tind 17: 0.647 \tind 18: 0.619 \tind 19: 0.647 \t\n"
     ]
    },
    {
     "name": "stderr",
     "output_type": "stream",
     "text": [
      "\n"
     ]
    },
    {
     "name": "stdout",
     "output_type": "stream",
     "text": [
      "2021-06-18 11:47:00,398 - modnet - INFO - Generation number 2\n",
      "2021-06-18 11:47:05,908 - modnet - INFO - Multiprocessing on 32 cores. Total of 128 cores available.\n"
     ]
    },
    {
     "name": "stderr",
     "output_type": "stream",
     "text": [
      "100%|██████████| 100/100 [06:03<00:00,  3.63s/it]"
     ]
    },
    {
     "name": "stdout",
     "output_type": "stream",
     "text": [
      "2021-06-18 11:53:09,104 - modnet - INFO - Loss per individual: ind 0: 0.594 \tind 1: 0.617 \tind 2: 0.697 \tind 3: 0.599 \tind 4: 0.632 \tind 5: 0.659 \tind 6: 0.634 \tind 7: 0.664 \tind 8: 0.607 \tind 9: 0.618 \tind 10: 0.625 \tind 11: 0.627 \tind 12: 0.605 \tind 13: 0.626 \tind 14: 0.684 \tind 15: 0.648 \tind 16: 0.630 \tind 17: 0.640 \tind 18: 0.628 \tind 19: 0.603 \t\n"
     ]
    },
    {
     "name": "stderr",
     "output_type": "stream",
     "text": [
      "\n"
     ]
    },
    {
     "name": "stdout",
     "output_type": "stream",
     "text": [
      "2021-06-18 11:53:11,549 - modnet - INFO - Generation number 3\n",
      "2021-06-18 11:53:17,020 - modnet - INFO - Multiprocessing on 32 cores. Total of 128 cores available.\n"
     ]
    },
    {
     "name": "stderr",
     "output_type": "stream",
     "text": [
      "100%|██████████| 100/100 [05:34<00:00,  3.35s/it]"
     ]
    },
    {
     "name": "stdout",
     "output_type": "stream",
     "text": [
      "2021-06-18 11:58:52,020 - modnet - INFO - Loss per individual: ind 0: 0.625 \tind 1: 0.644 \tind 2: 0.627 \tind 3: 0.596 \tind 4: 0.618 \tind 5: 0.633 \tind 6: 0.616 \tind 7: 0.695 \tind 8: 0.588 \tind 9: 0.653 \tind 10: 0.636 \tind 11: 0.612 \tind 12: 0.598 \tind 13: 0.618 \tind 14: 0.641 \tind 15: 0.634 \tind 16: 0.611 \tind 17: 0.643 \tind 18: 0.631 \tind 19: 0.659 \t\n"
     ]
    },
    {
     "name": "stderr",
     "output_type": "stream",
     "text": [
      "\n"
     ]
    },
    {
     "name": "stdout",
     "output_type": "stream",
     "text": [
      "2021-06-18 11:58:54,685 - modnet - INFO - Generation number 4\n",
      "2021-06-18 11:59:01,925 - modnet - INFO - Multiprocessing on 32 cores. Total of 128 cores available.\n"
     ]
    },
    {
     "name": "stderr",
     "output_type": "stream",
     "text": [
      "100%|██████████| 100/100 [06:32<00:00,  3.93s/it]"
     ]
    },
    {
     "name": "stdout",
     "output_type": "stream",
     "text": [
      "2021-06-18 12:05:34,633 - modnet - INFO - Loss per individual: ind 0: 0.607 \tind 1: 3.384 \tind 2: 0.627 \tind 3: 0.610 \tind 4: 0.652 \tind 5: 0.679 \tind 6: 0.628 \tind 7: 0.612 \tind 8: 0.630 \tind 9: 0.643 \tind 10: 0.633 \tind 11: 0.659 \tind 12: 0.598 \tind 13: 0.602 \tind 14: 0.621 \tind 15: 0.665 \tind 16: 0.597 \tind 17: 0.661 \tind 18: 0.629 \tind 19: 0.603 \t\n"
     ]
    },
    {
     "name": "stderr",
     "output_type": "stream",
     "text": [
      "\n"
     ]
    },
    {
     "name": "stdout",
     "output_type": "stream",
     "text": [
      "2021-06-18 12:05:37,205 - modnet - INFO - Generation number 5\n",
      "2021-06-18 12:05:42,920 - modnet - INFO - Multiprocessing on 32 cores. Total of 128 cores available.\n"
     ]
    },
    {
     "name": "stderr",
     "output_type": "stream",
     "text": [
      "100%|██████████| 100/100 [06:15<00:00,  3.76s/it]"
     ]
    },
    {
     "name": "stdout",
     "output_type": "stream",
     "text": [
      "2021-06-18 12:11:59,018 - modnet - INFO - Loss per individual: ind 0: 0.654 \tind 1: 0.625 \tind 2: 0.633 \tind 3: 0.651 \tind 4: 0.601 \tind 5: 0.584 \tind 6: 0.677 \tind 7: 0.615 \tind 8: 0.669 \tind 9: 0.605 \tind 10: 0.641 \tind 11: 0.655 \tind 12: 0.647 \tind 13: 0.600 \tind 14: 0.625 \tind 15: 0.619 \tind 16: 0.614 \tind 17: 0.634 \tind 18: 0.594 \tind 19: 0.630 \t\n"
     ]
    },
    {
     "name": "stderr",
     "output_type": "stream",
     "text": [
      "\n"
     ]
    },
    {
     "name": "stdout",
     "output_type": "stream",
     "text": [
      "2021-06-18 12:12:01,313 - modnet - INFO - Generation number 6\n",
      "2021-06-18 12:12:07,195 - modnet - INFO - Multiprocessing on 32 cores. Total of 128 cores available.\n"
     ]
    },
    {
     "name": "stderr",
     "output_type": "stream",
     "text": [
      "100%|██████████| 100/100 [06:26<00:00,  3.86s/it]"
     ]
    },
    {
     "name": "stdout",
     "output_type": "stream",
     "text": [
      "2021-06-18 12:18:33,600 - modnet - INFO - Loss per individual: ind 0: 0.654 \tind 1: 0.646 \tind 2: 0.622 \tind 3: 0.616 \tind 4: 0.587 \tind 5: 0.598 \tind 6: 0.632 \tind 7: 0.615 \tind 8: 0.704 \tind 9: 0.603 \tind 10: 0.616 \tind 11: 0.638 \tind 12: 0.647 \tind 13: 0.616 \tind 14: 0.654 \tind 15: 0.617 \tind 16: 0.612 \tind 17: 0.637 \tind 18: 0.606 \tind 19: 0.648 \t\n"
     ]
    },
    {
     "name": "stderr",
     "output_type": "stream",
     "text": [
      "\n"
     ]
    },
    {
     "name": "stdout",
     "output_type": "stream",
     "text": [
      "2021-06-18 12:18:35,919 - modnet - INFO - Generation number 7\n",
      "2021-06-18 12:18:42,698 - modnet - INFO - Multiprocessing on 32 cores. Total of 128 cores available.\n"
     ]
    },
    {
     "name": "stderr",
     "output_type": "stream",
     "text": [
      "100%|██████████| 100/100 [06:11<00:00,  3.71s/it]"
     ]
    },
    {
     "name": "stdout",
     "output_type": "stream",
     "text": [
      "2021-06-18 12:24:54,345 - modnet - INFO - Loss per individual: ind 0: 0.630 \tind 1: 0.623 \tind 2: 0.669 \tind 3: 0.682 \tind 4: 0.630 \tind 5: 0.656 \tind 6: 0.665 \tind 7: 0.631 \tind 8: 0.628 \tind 9: 0.591 \tind 10: 0.607 \tind 11: 0.622 \tind 12: 0.652 \tind 13: 0.642 \tind 14: 0.668 \tind 15: 0.624 \tind 16: 0.649 \tind 17: 0.630 \tind 18: 0.636 \tind 19: 0.625 \t\n"
     ]
    },
    {
     "name": "stderr",
     "output_type": "stream",
     "text": [
      "\n"
     ]
    },
    {
     "name": "stdout",
     "output_type": "stream",
     "text": [
      "2021-06-18 12:24:56,836 - modnet - INFO - Generation number 8\n",
      "2021-06-18 12:25:04,265 - modnet - INFO - Multiprocessing on 32 cores. Total of 128 cores available.\n"
     ]
    },
    {
     "name": "stderr",
     "output_type": "stream",
     "text": [
      "100%|██████████| 100/100 [06:16<00:00,  3.77s/it]"
     ]
    },
    {
     "name": "stdout",
     "output_type": "stream",
     "text": [
      "2021-06-18 12:31:21,056 - modnet - INFO - Loss per individual: ind 0: 0.628 \tind 1: 0.619 \tind 2: 0.637 \tind 3: 0.630 \tind 4: 0.625 \tind 5: 0.622 \tind 6: 0.605 \tind 7: 0.630 \tind 8: 0.645 \tind 9: 0.631 \tind 10: 0.585 \tind 11: 0.656 \tind 12: 0.616 \tind 13: 0.639 \tind 14: 0.636 \tind 15: 0.628 \tind 16: 0.645 \tind 17: 0.667 \tind 18: 0.615 \tind 19: 0.623 \t\n"
     ]
    },
    {
     "name": "stderr",
     "output_type": "stream",
     "text": [
      "\n"
     ]
    },
    {
     "name": "stdout",
     "output_type": "stream",
     "text": [
      "2021-06-18 12:31:23,536 - modnet - INFO - Early stopping: same best model for 4 consecutive generations\n",
      "Loaded 3 models\n",
      "MAE =\n",
      "0.4076254666939242\n",
      "2021-06-18 12:31:44,586 - modnet - INFO - Loaded <modnet.preprocessing.MODData object at 0x7f5d7e518b50> object, created with modnet version 0.1.9\n",
      "2021-06-18 12:31:44,627 - modnet - INFO - Generation number 0\n",
      "2021-06-18 12:31:51,134 - modnet - INFO - Multiprocessing on 32 cores. Total of 128 cores available.\n"
     ]
    },
    {
     "name": "stderr",
     "output_type": "stream",
     "text": [
      "100%|██████████| 100/100 [08:02<00:00,  4.82s/it]"
     ]
    },
    {
     "name": "stdout",
     "output_type": "stream",
     "text": [
      "2021-06-18 12:39:53,649 - modnet - INFO - Loss per individual: ind 0: 0.630 \tind 1: 0.726 \tind 2: 0.609 \tind 3: 0.709 \tind 4: 3.365 \tind 5: 0.612 \tind 6: 0.619 \tind 7: 0.932 \tind 8: 0.715 \tind 9: 0.831 \tind 10: 0.619 \tind 11: 0.664 \tind 12: 0.622 \tind 13: 0.627 \tind 14: 0.636 \tind 15: 0.614 \tind 16: 0.654 \tind 17: 0.612 \tind 18: 0.615 \tind 19: 0.671 \t\n"
     ]
    },
    {
     "name": "stderr",
     "output_type": "stream",
     "text": [
      "\n"
     ]
    },
    {
     "name": "stdout",
     "output_type": "stream",
     "text": [
      "2021-06-18 12:39:55,965 - modnet - INFO - Generation number 1\n",
      "2021-06-18 12:40:02,426 - modnet - INFO - Multiprocessing on 32 cores. Total of 128 cores available.\n"
     ]
    },
    {
     "name": "stderr",
     "output_type": "stream",
     "text": [
      "100%|██████████| 100/100 [08:00<00:00,  4.81s/it]"
     ]
    },
    {
     "name": "stdout",
     "output_type": "stream",
     "text": [
      "2021-06-18 12:48:03,495 - modnet - INFO - Loss per individual: ind 0: 1.706 \tind 1: 0.899 \tind 2: 0.625 \tind 3: 3.461 \tind 4: 0.609 \tind 5: 0.592 \tind 6: 0.597 \tind 7: 0.671 \tind 8: 0.610 \tind 9: 0.659 \tind 10: 0.650 \tind 11: 0.660 \tind 12: 0.612 \tind 13: 0.592 \tind 14: 0.638 \tind 15: 0.704 \tind 16: 0.619 \tind 17: 0.892 \tind 18: 0.964 \tind 19: 0.596 \t\n"
     ]
    },
    {
     "name": "stderr",
     "output_type": "stream",
     "text": [
      "\n"
     ]
    },
    {
     "name": "stdout",
     "output_type": "stream",
     "text": [
      "2021-06-18 12:48:06,259 - modnet - INFO - Generation number 2\n",
      "2021-06-18 12:48:13,433 - modnet - INFO - Multiprocessing on 32 cores. Total of 128 cores available.\n"
     ]
    },
    {
     "name": "stderr",
     "output_type": "stream",
     "text": [
      "100%|██████████| 100/100 [07:41<00:00,  4.62s/it]"
     ]
    },
    {
     "name": "stdout",
     "output_type": "stream",
     "text": [
      "2021-06-18 12:55:55,297 - modnet - INFO - Loss per individual: ind 0: 0.604 \tind 1: 0.603 \tind 2: 0.649 \tind 3: 0.656 \tind 4: 0.622 \tind 5: 0.593 \tind 6: 1.275 \tind 7: 0.672 \tind 8: 0.589 \tind 9: 0.634 \tind 10: 0.629 \tind 11: 0.591 \tind 12: 0.617 \tind 13: 0.591 \tind 14: 0.631 \tind 15: 0.621 \tind 16: 0.654 \tind 17: 0.595 \tind 18: 0.597 \tind 19: 0.614 \t\n"
     ]
    },
    {
     "name": "stderr",
     "output_type": "stream",
     "text": [
      "\n"
     ]
    },
    {
     "name": "stdout",
     "output_type": "stream",
     "text": [
      "2021-06-18 12:55:57,614 - modnet - INFO - Generation number 3\n",
      "2021-06-18 12:56:04,149 - modnet - INFO - Multiprocessing on 32 cores. Total of 128 cores available.\n"
     ]
    },
    {
     "name": "stderr",
     "output_type": "stream",
     "text": [
      "100%|██████████| 100/100 [07:55<00:00,  4.76s/it]"
     ]
    },
    {
     "name": "stdout",
     "output_type": "stream",
     "text": [
      "2021-06-18 13:04:00,070 - modnet - INFO - Loss per individual: ind 0: 0.658 \tind 1: 0.613 \tind 2: 0.607 \tind 3: 0.643 \tind 4: 0.599 \tind 5: 0.649 \tind 6: 0.640 \tind 7: 0.609 \tind 8: 0.701 \tind 9: 0.616 \tind 10: 0.664 \tind 11: 0.616 \tind 12: 0.617 \tind 13: 0.679 \tind 14: 0.657 \tind 15: 0.615 \tind 16: 0.606 \tind 17: 0.591 \tind 18: 0.622 \tind 19: 0.594 \t\n"
     ]
    },
    {
     "name": "stderr",
     "output_type": "stream",
     "text": [
      "\n"
     ]
    },
    {
     "name": "stdout",
     "output_type": "stream",
     "text": [
      "2021-06-18 13:04:02,425 - modnet - INFO - Generation number 4\n",
      "2021-06-18 13:04:09,359 - modnet - INFO - Multiprocessing on 32 cores. Total of 128 cores available.\n"
     ]
    },
    {
     "name": "stderr",
     "output_type": "stream",
     "text": [
      "100%|██████████| 100/100 [06:35<00:00,  3.96s/it]"
     ]
    },
    {
     "name": "stdout",
     "output_type": "stream",
     "text": [
      "2021-06-18 13:10:44,990 - modnet - INFO - Loss per individual: ind 0: 0.617 \tind 1: 0.607 \tind 2: 0.596 \tind 3: 0.642 \tind 4: 0.617 \tind 5: 0.634 \tind 6: 0.649 \tind 7: 0.612 \tind 8: 0.591 \tind 9: 1.089 \tind 10: 1.013 \tind 11: 0.656 \tind 12: 0.629 \tind 13: 0.603 \tind 14: 0.607 \tind 15: 0.650 \tind 16: 0.635 \tind 17: 0.636 \tind 18: 0.611 \tind 19: 0.616 \t\n"
     ]
    },
    {
     "name": "stderr",
     "output_type": "stream",
     "text": [
      "\n"
     ]
    },
    {
     "name": "stdout",
     "output_type": "stream",
     "text": [
      "2021-06-18 13:10:47,444 - modnet - INFO - Generation number 5\n",
      "2021-06-18 13:10:55,251 - modnet - INFO - Multiprocessing on 32 cores. Total of 128 cores available.\n"
     ]
    },
    {
     "name": "stderr",
     "output_type": "stream",
     "text": [
      "100%|██████████| 100/100 [09:33<00:00,  5.74s/it]"
     ]
    },
    {
     "name": "stdout",
     "output_type": "stream",
     "text": [
      "2021-06-18 13:20:29,195 - modnet - INFO - Loss per individual: ind 0: 0.603 \tind 1: 0.646 \tind 2: 0.612 \tind 3: 0.594 \tind 4: 0.628 \tind 5: 0.633 \tind 6: 0.634 \tind 7: 0.608 \tind 8: 0.605 \tind 9: 0.601 \tind 10: 0.621 \tind 11: 0.615 \tind 12: 0.618 \tind 13: 0.630 \tind 14: 0.594 \tind 15: 0.604 \tind 16: 0.646 \tind 17: 0.622 \tind 18: 0.650 \tind 19: 0.621 \t\n"
     ]
    },
    {
     "name": "stderr",
     "output_type": "stream",
     "text": [
      "\n"
     ]
    },
    {
     "name": "stdout",
     "output_type": "stream",
     "text": [
      "2021-06-18 13:20:31,562 - modnet - INFO - Early stopping: same best model for 4 consecutive generations\n",
      "Loaded 3 models\n",
      "MAE =\n",
      "0.4065135907032914\n"
     ]
    }
   ],
   "source": [
    "k = 5\n",
    "random_state = 202010\n",
    "folds = MDKsplit(md_joint,n_splits=k,random_state=random_state)\n",
    "maes = np.ones(5)\n",
    "for i,f in enumerate(folds):\n",
    "    train = f[0]\n",
    "    test = f[1]\n",
    "    #train.feature_selection(n=-1, use_precomputed_cross_nmi=True)\n",
    "    fpath = 'train_{}_{}'.format(random_state,i+1)\n",
    "    if os.path.exists(fpath):\n",
    "        train = MODData.load(fpath)\n",
    "    else:\n",
    "        train.feature_selection(n=-1, use_precomputed_cross_nmi=True)\n",
    "        train.save(fpath)\n",
    "    \n",
    "    # assure no overlap\n",
    "    assert len(set(train.df_targets.index).intersection(set(test.df_targets.index))) == 0\n",
    "    \n",
    "    ga = FitGenetic(train)\n",
    "    model3 = ga.run(size_pop=20, num_generations=10, n_jobs=32)\n",
    "    \n",
    "    # load all models\n",
    "    members = [model1, model2, model3]\n",
    "    print('Loaded %d models' % len(members))\n",
    "    \n",
    "    # fit stacked model on test dataset\n",
    "    model = fit_stacked_model(members, inputX=train, inputy=train.df_targets.to_numpy())\n",
    "\n",
    "    # evaluate model on test set\n",
    "    pred= stacked_prediction(members, model, test)\n",
    "    pred = pd.DataFrame(pred)\n",
    "    pred = pred.rename(columns={pred.columns[0]: 'exp_gap'})\n",
    "    true = test.df_targets\n",
    "    for j in range(len(pred)):\n",
    "        pred = pred.rename(index={pred.index[j]: true.index[j]})\n",
    "    error = pred-true\n",
    "    error = error['exp_gap'].drop(pred.index[((pred['exp_gap']).abs()>20)]) # drop unrealistic values: happens extremely rarely\n",
    "    mae = np.abs(error.values).mean()\n",
    "    print('MAE =')\n",
    "    print(mae)\n",
    "    maes[i] = mae"
   ]
  },
  {
   "cell_type": "code",
   "execution_count": 17,
   "metadata": {
    "ExecuteTime": {
     "end_time": "2021-06-18T11:20:47.659434Z",
     "start_time": "2021-06-18T11:20:47.654123Z"
    }
   },
   "outputs": [
    {
     "data": {
      "text/plain": [
       "array([0.41552443, 0.39190951, 0.32807523, 0.40762547, 0.40651359])"
      ]
     },
     "execution_count": 17,
     "metadata": {},
     "output_type": "execute_result"
    }
   ],
   "source": [
    "maes"
   ]
  },
  {
   "cell_type": "code",
   "execution_count": 18,
   "metadata": {
    "ExecuteTime": {
     "end_time": "2021-06-18T11:20:47.849576Z",
     "start_time": "2021-06-18T11:20:47.662842Z"
    }
   },
   "outputs": [
    {
     "data": {
      "text/plain": [
       "0.38992964501971805"
      ]
     },
     "execution_count": 18,
     "metadata": {},
     "output_type": "execute_result"
    }
   ],
   "source": [
    "maes.mean()"
   ]
  },
  {
   "cell_type": "markdown",
   "metadata": {},
   "source": [
    "#### 3) Extra Trees Regressor scikit-learn method"
   ]
  },
  {
   "cell_type": "code",
   "execution_count": 19,
   "metadata": {
    "ExecuteTime": {
     "end_time": "2021-06-18T11:20:48.769430Z",
     "start_time": "2021-06-18T11:20:47.852914Z"
    }
   },
   "outputs": [],
   "source": [
    "from sklearn.ensemble import ExtraTreesRegressor\n",
    "\n",
    "# fit a model based on the outputs from the ensemble members\n",
    "def fit_stacked_model(members, inputX, inputy):\n",
    "    # create dataset using ensemble\n",
    "    stackedX = stacked_dataset(members, inputX)\n",
    "    # fit standalone model\n",
    "    model = ExtraTreesRegressor(n_estimators=500)\n",
    "    model.fit(stackedX, inputy)\n",
    "    return model"
   ]
  },
  {
   "cell_type": "code",
   "execution_count": 20,
   "metadata": {
    "ExecuteTime": {
     "end_time": "2021-06-18T11:20:48.776788Z",
     "start_time": "2021-06-18T11:20:48.772267Z"
    }
   },
   "outputs": [],
   "source": [
    "# make a prediction with the stacked model\n",
    "def stacked_prediction(members, model, inputX):\n",
    "    # create dataset using ensemble\n",
    "    stackedX = stacked_dataset(members, inputX)\n",
    "    # make a prediction\n",
    "    yhat = model.predict(stackedX)\n",
    "    return yhat"
   ]
  },
  {
   "cell_type": "code",
   "execution_count": 21,
   "metadata": {
    "ExecuteTime": {
     "end_time": "2021-06-18T15:49:16.273922Z",
     "start_time": "2021-06-18T11:20:48.779337Z"
    }
   },
   "outputs": [
    {
     "name": "stdout",
     "output_type": "stream",
     "text": [
      "2021-06-18 13:20:48,862 - modnet - INFO - Loaded DeBreuck2020Featurizer featurizer.\n",
      "2021-06-18 13:20:48,881 - modnet - INFO - Loaded DeBreuck2020Featurizer featurizer.\n",
      "2021-06-18 13:20:48,892 - modnet - INFO - Loaded DeBreuck2020Featurizer featurizer.\n",
      "2021-06-18 13:20:48,916 - modnet - INFO - Loaded DeBreuck2020Featurizer featurizer.\n",
      "2021-06-18 13:20:48,927 - modnet - INFO - Loaded DeBreuck2020Featurizer featurizer.\n",
      "2021-06-18 13:20:48,955 - modnet - INFO - Loaded DeBreuck2020Featurizer featurizer.\n",
      "2021-06-18 13:20:48,964 - modnet - INFO - Loaded DeBreuck2020Featurizer featurizer.\n",
      "2021-06-18 13:20:48,979 - modnet - INFO - Loaded DeBreuck2020Featurizer featurizer.\n",
      "2021-06-18 13:20:48,989 - modnet - INFO - Loaded DeBreuck2020Featurizer featurizer.\n",
      "2021-06-18 13:20:49,004 - modnet - INFO - Loaded DeBreuck2020Featurizer featurizer.\n",
      "2021-06-18 13:20:52,360 - modnet - INFO - Loaded <modnet.preprocessing.MODData object at 0x7f5e99403e80> object, created with modnet version 0.1.9\n",
      "2021-06-18 13:20:52,418 - modnet - INFO - Generation number 0\n",
      "2021-06-18 13:20:58,773 - modnet - INFO - Multiprocessing on 32 cores. Total of 128 cores available.\n"
     ]
    },
    {
     "name": "stderr",
     "output_type": "stream",
     "text": [
      "100%|██████████| 100/100 [06:31<00:00,  3.92s/it]"
     ]
    },
    {
     "name": "stdout",
     "output_type": "stream",
     "text": [
      "2021-06-18 13:27:30,771 - modnet - INFO - Loss per individual: ind 0: 0.634 \tind 1: 0.646 \tind 2: 0.682 \tind 3: 0.698 \tind 4: 0.649 \tind 5: 0.611 \tind 6: 0.699 \tind 7: 0.630 \tind 8: 0.648 \tind 9: 0.650 \tind 10: 0.655 \tind 11: 0.632 \tind 12: 0.626 \tind 13: 0.736 \tind 14: 0.722 \tind 15: 0.696 \tind 16: 0.637 \tind 17: 0.637 \tind 18: 0.655 \tind 19: 0.756 \t\n"
     ]
    },
    {
     "name": "stderr",
     "output_type": "stream",
     "text": [
      "\n"
     ]
    },
    {
     "name": "stdout",
     "output_type": "stream",
     "text": [
      "2021-06-18 13:27:33,104 - modnet - INFO - Generation number 1\n",
      "2021-06-18 13:27:39,475 - modnet - INFO - Multiprocessing on 32 cores. Total of 128 cores available.\n"
     ]
    },
    {
     "name": "stderr",
     "output_type": "stream",
     "text": [
      "100%|██████████| 100/100 [06:43<00:00,  4.04s/it]"
     ]
    },
    {
     "name": "stdout",
     "output_type": "stream",
     "text": [
      "2021-06-18 13:34:23,400 - modnet - INFO - Loss per individual: ind 0: 0.622 \tind 1: 0.684 \tind 2: 0.641 \tind 3: 0.641 \tind 4: 0.631 \tind 5: 0.638 \tind 6: 0.599 \tind 7: 0.642 \tind 8: 0.639 \tind 9: 0.678 \tind 10: 0.659 \tind 11: 0.697 \tind 12: 0.706 \tind 13: 0.667 \tind 14: 0.632 \tind 15: 1.568 \tind 16: 0.658 \tind 17: 0.686 \tind 18: 0.702 \tind 19: 0.635 \t\n"
     ]
    },
    {
     "name": "stderr",
     "output_type": "stream",
     "text": [
      "\n"
     ]
    },
    {
     "name": "stdout",
     "output_type": "stream",
     "text": [
      "2021-06-18 13:34:25,869 - modnet - INFO - Generation number 2\n",
      "2021-06-18 13:34:32,234 - modnet - INFO - Multiprocessing on 32 cores. Total of 128 cores available.\n"
     ]
    },
    {
     "name": "stderr",
     "output_type": "stream",
     "text": [
      "100%|██████████| 100/100 [06:54<00:00,  4.14s/it]"
     ]
    },
    {
     "name": "stdout",
     "output_type": "stream",
     "text": [
      "2021-06-18 13:41:26,523 - modnet - INFO - Loss per individual: ind 0: 0.628 \tind 1: 0.664 \tind 2: 0.621 \tind 3: 0.720 \tind 4: 0.624 \tind 5: 0.641 \tind 6: 0.634 \tind 7: 0.642 \tind 8: 0.646 \tind 9: 0.636 \tind 10: 0.626 \tind 11: 0.677 \tind 12: 0.622 \tind 13: 0.682 \tind 14: 0.729 \tind 15: 0.611 \tind 16: 0.627 \tind 17: 0.635 \tind 18: 0.685 \tind 19: 0.678 \t\n"
     ]
    },
    {
     "name": "stderr",
     "output_type": "stream",
     "text": [
      "\n"
     ]
    },
    {
     "name": "stdout",
     "output_type": "stream",
     "text": [
      "2021-06-18 13:41:28,957 - modnet - INFO - Generation number 3\n",
      "2021-06-18 13:41:35,633 - modnet - INFO - Multiprocessing on 32 cores. Total of 128 cores available.\n"
     ]
    },
    {
     "name": "stderr",
     "output_type": "stream",
     "text": [
      "100%|██████████| 100/100 [08:13<00:00,  4.93s/it]"
     ]
    },
    {
     "name": "stdout",
     "output_type": "stream",
     "text": [
      "2021-06-18 13:49:48,798 - modnet - INFO - Loss per individual: ind 0: 0.641 \tind 1: 0.656 \tind 2: 0.603 \tind 3: 0.650 \tind 4: 0.635 \tind 5: 0.650 \tind 6: 0.615 \tind 7: 0.610 \tind 8: 0.632 \tind 9: 0.661 \tind 10: 1.004 \tind 11: 0.646 \tind 12: 0.604 \tind 13: 0.658 \tind 14: 0.644 \tind 15: 0.618 \tind 16: 0.681 \tind 17: 0.639 \tind 18: 0.594 \tind 19: 0.713 \t\n"
     ]
    },
    {
     "name": "stderr",
     "output_type": "stream",
     "text": [
      "\n"
     ]
    },
    {
     "name": "stdout",
     "output_type": "stream",
     "text": [
      "2021-06-18 13:49:51,038 - modnet - INFO - Generation number 4\n",
      "2021-06-18 13:49:58,508 - modnet - INFO - Multiprocessing on 32 cores. Total of 128 cores available.\n"
     ]
    },
    {
     "name": "stderr",
     "output_type": "stream",
     "text": [
      "100%|██████████| 100/100 [07:50<00:00,  4.71s/it]"
     ]
    },
    {
     "name": "stdout",
     "output_type": "stream",
     "text": [
      "2021-06-18 13:57:49,037 - modnet - INFO - Loss per individual: ind 0: 0.624 \tind 1: 0.630 \tind 2: 0.588 \tind 3: 0.630 \tind 4: 0.631 \tind 5: 0.657 \tind 6: 0.656 \tind 7: 1.568 \tind 8: 0.594 \tind 9: 0.612 \tind 10: 0.670 \tind 11: 0.625 \tind 12: 0.642 \tind 13: 0.634 \tind 14: 0.642 \tind 15: 0.664 \tind 16: 0.657 \tind 17: 0.697 \tind 18: 0.618 \tind 19: 0.770 \t\n"
     ]
    },
    {
     "name": "stderr",
     "output_type": "stream",
     "text": [
      "\n"
     ]
    },
    {
     "name": "stdout",
     "output_type": "stream",
     "text": [
      "2021-06-18 13:57:51,279 - modnet - INFO - Generation number 5\n",
      "2021-06-18 13:57:58,879 - modnet - INFO - Multiprocessing on 32 cores. Total of 128 cores available.\n"
     ]
    },
    {
     "name": "stderr",
     "output_type": "stream",
     "text": [
      "100%|██████████| 100/100 [07:09<00:00,  4.30s/it]"
     ]
    },
    {
     "name": "stdout",
     "output_type": "stream",
     "text": [
      "2021-06-18 14:05:08,816 - modnet - INFO - Loss per individual: ind 0: 0.683 \tind 1: 0.617 \tind 2: 0.617 \tind 3: 0.667 \tind 4: 0.622 \tind 5: 0.665 \tind 6: 0.854 \tind 7: 0.602 \tind 8: 0.666 \tind 9: 0.677 \tind 10: 0.610 \tind 11: 0.695 \tind 12: 0.625 \tind 13: 0.671 \tind 14: 0.667 \tind 15: 0.679 \tind 16: 0.694 \tind 17: 0.647 \tind 18: 0.615 \tind 19: 0.675 \t\n"
     ]
    },
    {
     "name": "stderr",
     "output_type": "stream",
     "text": [
      "\n"
     ]
    },
    {
     "name": "stdout",
     "output_type": "stream",
     "text": [
      "2021-06-18 14:05:11,427 - modnet - INFO - Generation number 6\n",
      "2021-06-18 14:05:19,503 - modnet - INFO - Multiprocessing on 32 cores. Total of 128 cores available.\n"
     ]
    },
    {
     "name": "stderr",
     "output_type": "stream",
     "text": [
      "100%|██████████| 100/100 [07:12<00:00,  4.33s/it]"
     ]
    },
    {
     "name": "stdout",
     "output_type": "stream",
     "text": [
      "2021-06-18 14:12:32,404 - modnet - INFO - Loss per individual: ind 0: 0.691 \tind 1: 0.624 \tind 2: 0.615 \tind 3: 0.644 \tind 4: 0.602 \tind 5: 0.633 \tind 6: 0.635 \tind 7: 0.641 \tind 8: 0.651 \tind 9: 0.613 \tind 10: 0.610 \tind 11: 0.726 \tind 12: 0.625 \tind 13: 0.646 \tind 14: 0.656 \tind 15: 0.603 \tind 16: 0.620 \tind 17: 0.658 \tind 18: 0.661 \tind 19: 0.628 \t\n"
     ]
    },
    {
     "name": "stderr",
     "output_type": "stream",
     "text": [
      "\n"
     ]
    },
    {
     "name": "stdout",
     "output_type": "stream",
     "text": [
      "2021-06-18 14:12:34,691 - modnet - INFO - Generation number 7\n",
      "2021-06-18 14:12:43,216 - modnet - INFO - Multiprocessing on 32 cores. Total of 128 cores available.\n"
     ]
    },
    {
     "name": "stderr",
     "output_type": "stream",
     "text": [
      "100%|██████████| 100/100 [06:33<00:00,  3.93s/it]"
     ]
    },
    {
     "name": "stdout",
     "output_type": "stream",
     "text": [
      "2021-06-18 14:19:16,290 - modnet - INFO - Loss per individual: ind 0: 0.639 \tind 1: 0.628 \tind 2: 0.646 \tind 3: 0.591 \tind 4: 0.658 \tind 5: 0.638 \tind 6: 0.644 \tind 7: 0.618 \tind 8: 0.649 \tind 9: 0.620 \tind 10: 0.664 \tind 11: 0.620 \tind 12: 0.700 \tind 13: 0.611 \tind 14: 0.669 \tind 15: 0.617 \tind 16: 0.621 \tind 17: 0.674 \tind 18: 0.658 \tind 19: 0.672 \t\n"
     ]
    },
    {
     "name": "stderr",
     "output_type": "stream",
     "text": [
      "\n"
     ]
    },
    {
     "name": "stdout",
     "output_type": "stream",
     "text": [
      "2021-06-18 14:19:18,574 - modnet - INFO - Early stopping: same best model for 4 consecutive generations\n",
      "Loaded 3 models\n",
      "MAE =\n",
      "0.3754593634584345\n",
      "2021-06-18 14:19:27,466 - modnet - INFO - Loaded <modnet.preprocessing.MODData object at 0x7f5aaf3306a0> object, created with modnet version 0.1.9\n",
      "2021-06-18 14:19:27,493 - modnet - INFO - Generation number 0\n",
      "2021-06-18 14:19:34,141 - modnet - INFO - Multiprocessing on 32 cores. Total of 128 cores available.\n"
     ]
    },
    {
     "name": "stderr",
     "output_type": "stream",
     "text": [
      "100%|██████████| 100/100 [07:11<00:00,  4.32s/it]"
     ]
    },
    {
     "name": "stdout",
     "output_type": "stream",
     "text": [
      "2021-06-18 14:26:45,922 - modnet - INFO - Loss per individual: ind 0: 0.601 \tind 1: 0.669 \tind 2: 0.611 \tind 3: 0.683 \tind 4: 0.696 \tind 5: 0.638 \tind 6: 0.644 \tind 7: 0.625 \tind 8: 0.710 \tind 9: 0.611 \tind 10: 0.590 \tind 11: 0.805 \tind 12: 0.641 \tind 13: 0.707 \tind 14: 0.679 \tind 15: 0.664 \tind 16: 0.637 \tind 17: 0.616 \tind 18: 0.601 \tind 19: 0.596 \t\n"
     ]
    },
    {
     "name": "stderr",
     "output_type": "stream",
     "text": [
      "\n"
     ]
    },
    {
     "name": "stdout",
     "output_type": "stream",
     "text": [
      "2021-06-18 14:26:48,317 - modnet - INFO - Generation number 1\n",
      "2021-06-18 14:26:56,912 - modnet - INFO - Multiprocessing on 32 cores. Total of 128 cores available.\n"
     ]
    },
    {
     "name": "stderr",
     "output_type": "stream",
     "text": [
      "100%|██████████| 100/100 [07:06<00:00,  4.27s/it]"
     ]
    },
    {
     "name": "stdout",
     "output_type": "stream",
     "text": [
      "2021-06-18 14:34:03,583 - modnet - INFO - Loss per individual: ind 0: 0.684 \tind 1: 0.604 \tind 2: 0.619 \tind 3: 0.603 \tind 4: 0.721 \tind 5: 0.611 \tind 6: 0.602 \tind 7: 0.620 \tind 8: 0.583 \tind 9: 0.724 \tind 10: 0.662 \tind 11: 0.622 \tind 12: 0.592 \tind 13: 0.799 \tind 14: 0.638 \tind 15: 0.599 \tind 16: 0.631 \tind 17: 0.635 \tind 18: 0.615 \tind 19: 0.609 \t\n"
     ]
    },
    {
     "name": "stderr",
     "output_type": "stream",
     "text": [
      "\n"
     ]
    },
    {
     "name": "stdout",
     "output_type": "stream",
     "text": [
      "2021-06-18 14:34:05,929 - modnet - INFO - Generation number 2\n",
      "2021-06-18 14:34:13,114 - modnet - INFO - Multiprocessing on 32 cores. Total of 128 cores available.\n"
     ]
    },
    {
     "name": "stderr",
     "output_type": "stream",
     "text": [
      "100%|██████████| 100/100 [07:07<00:00,  4.27s/it]"
     ]
    },
    {
     "name": "stdout",
     "output_type": "stream",
     "text": [
      "2021-06-18 14:41:20,456 - modnet - INFO - Loss per individual: ind 0: 0.637 \tind 1: 0.608 \tind 2: 0.625 \tind 3: 0.606 \tind 4: 0.603 \tind 5: 0.602 \tind 6: 0.595 \tind 7: 0.592 \tind 8: 0.656 \tind 9: 0.585 \tind 10: 0.609 \tind 11: 0.588 \tind 12: 0.601 \tind 13: 0.624 \tind 14: 0.638 \tind 15: 0.638 \tind 16: 0.604 \tind 17: 0.603 \tind 18: 0.703 \tind 19: 0.651 \t\n"
     ]
    },
    {
     "name": "stderr",
     "output_type": "stream",
     "text": [
      "\n"
     ]
    },
    {
     "name": "stdout",
     "output_type": "stream",
     "text": [
      "2021-06-18 14:41:22,932 - modnet - INFO - Generation number 3\n",
      "2021-06-18 14:41:30,365 - modnet - INFO - Multiprocessing on 32 cores. Total of 128 cores available.\n"
     ]
    },
    {
     "name": "stderr",
     "output_type": "stream",
     "text": [
      "100%|██████████| 100/100 [06:53<00:00,  4.13s/it]"
     ]
    },
    {
     "name": "stdout",
     "output_type": "stream",
     "text": [
      "2021-06-18 14:48:23,701 - modnet - INFO - Loss per individual: ind 0: 0.728 \tind 1: 0.603 \tind 2: 0.628 \tind 3: 0.596 \tind 4: 0.713 \tind 5: 0.593 \tind 6: 0.657 \tind 7: 0.636 \tind 8: 0.604 \tind 9: 0.662 \tind 10: 0.668 \tind 11: 0.702 \tind 12: 0.613 \tind 13: 0.603 \tind 14: 0.595 \tind 15: 0.635 \tind 16: 0.607 \tind 17: 0.683 \tind 18: 0.603 \tind 19: 0.626 \t\n"
     ]
    },
    {
     "name": "stderr",
     "output_type": "stream",
     "text": [
      "\n"
     ]
    },
    {
     "name": "stdout",
     "output_type": "stream",
     "text": [
      "2021-06-18 14:48:26,149 - modnet - INFO - Generation number 4\n",
      "2021-06-18 14:48:34,001 - modnet - INFO - Multiprocessing on 32 cores. Total of 128 cores available.\n"
     ]
    },
    {
     "name": "stderr",
     "output_type": "stream",
     "text": [
      "100%|██████████| 100/100 [06:19<00:00,  3.79s/it]"
     ]
    },
    {
     "name": "stdout",
     "output_type": "stream",
     "text": [
      "2021-06-18 14:54:53,573 - modnet - INFO - Loss per individual: ind 0: 0.697 \tind 1: 0.614 \tind 2: 0.591 \tind 3: 0.607 \tind 4: 0.648 \tind 5: 0.601 \tind 6: 0.647 \tind 7: 0.602 \tind 8: 0.630 \tind 9: 0.610 \tind 10: 0.601 \tind 11: 0.607 \tind 12: 0.598 \tind 13: 0.671 \tind 14: 0.649 \tind 15: 0.605 \tind 16: 0.653 \tind 17: 0.623 \tind 18: 0.660 \tind 19: 0.644 \t\n"
     ]
    },
    {
     "name": "stderr",
     "output_type": "stream",
     "text": [
      "\n"
     ]
    },
    {
     "name": "stdout",
     "output_type": "stream",
     "text": [
      "2021-06-18 14:54:56,011 - modnet - INFO - Early stopping: same best model for 4 consecutive generations\n",
      "Loaded 3 models\n",
      "MAE =\n",
      "0.36791082375776296\n",
      "2021-06-18 14:55:02,354 - modnet - INFO - Loaded <modnet.preprocessing.MODData object at 0x7f5e9960c340> object, created with modnet version 0.1.9\n",
      "2021-06-18 14:55:02,386 - modnet - INFO - Generation number 0\n",
      "2021-06-18 14:55:09,430 - modnet - INFO - Multiprocessing on 32 cores. Total of 128 cores available.\n"
     ]
    },
    {
     "name": "stderr",
     "output_type": "stream",
     "text": [
      "100%|██████████| 100/100 [09:29<00:00,  5.70s/it]"
     ]
    },
    {
     "name": "stdout",
     "output_type": "stream",
     "text": [
      "2021-06-18 15:04:39,170 - modnet - INFO - Loss per individual: ind 0: 0.651 \tind 1: 0.803 \tind 2: 0.785 \tind 3: 0.711 \tind 4: 0.674 \tind 5: 0.735 \tind 6: 0.705 \tind 7: 0.696 \tind 8: 0.700 \tind 9: 0.718 \tind 10: 0.729 \tind 11: 0.688 \tind 12: 0.721 \tind 13: 0.739 \tind 14: 0.810 \tind 15: 0.638 \tind 16: 0.702 \tind 17: 0.682 \tind 18: 0.682 \tind 19: 0.683 \t\n"
     ]
    },
    {
     "name": "stderr",
     "output_type": "stream",
     "text": [
      "\n"
     ]
    },
    {
     "name": "stdout",
     "output_type": "stream",
     "text": [
      "2021-06-18 15:04:41,888 - modnet - INFO - Generation number 1\n",
      "2021-06-18 15:04:48,722 - modnet - INFO - Multiprocessing on 32 cores. Total of 128 cores available.\n"
     ]
    },
    {
     "name": "stderr",
     "output_type": "stream",
     "text": [
      "100%|██████████| 100/100 [07:41<00:00,  4.61s/it]"
     ]
    },
    {
     "name": "stdout",
     "output_type": "stream",
     "text": [
      "2021-06-18 15:12:30,094 - modnet - INFO - Loss per individual: ind 0: 0.669 \tind 1: 0.770 \tind 2: 0.684 \tind 3: 0.704 \tind 4: 0.805 \tind 5: 0.627 \tind 6: 0.681 \tind 7: 0.682 \tind 8: 0.674 \tind 9: 0.712 \tind 10: 0.777 \tind 11: 0.668 \tind 12: 0.702 \tind 13: 0.795 \tind 14: 0.725 \tind 15: 0.778 \tind 16: 0.664 \tind 17: 0.774 \tind 18: 0.640 \tind 19: 0.665 \t\n"
     ]
    },
    {
     "name": "stderr",
     "output_type": "stream",
     "text": [
      "\n"
     ]
    },
    {
     "name": "stdout",
     "output_type": "stream",
     "text": [
      "2021-06-18 15:12:32,398 - modnet - INFO - Generation number 2\n",
      "2021-06-18 15:12:39,713 - modnet - INFO - Multiprocessing on 32 cores. Total of 128 cores available.\n"
     ]
    },
    {
     "name": "stderr",
     "output_type": "stream",
     "text": [
      "100%|██████████| 100/100 [08:09<00:00,  4.89s/it]"
     ]
    },
    {
     "name": "stdout",
     "output_type": "stream",
     "text": [
      "2021-06-18 15:20:49,108 - modnet - INFO - Loss per individual: ind 0: 0.740 \tind 1: 0.664 \tind 2: 0.712 \tind 3: 0.746 \tind 4: 0.628 \tind 5: 0.694 \tind 6: 0.618 \tind 7: 0.641 \tind 8: 0.680 \tind 9: 0.613 \tind 10: 0.789 \tind 11: 0.710 \tind 12: 0.705 \tind 13: 0.737 \tind 14: 0.639 \tind 15: 0.657 \tind 16: 0.600 \tind 17: 0.672 \tind 18: 0.753 \tind 19: 0.760 \t\n"
     ]
    },
    {
     "name": "stderr",
     "output_type": "stream",
     "text": [
      "\n"
     ]
    },
    {
     "name": "stdout",
     "output_type": "stream",
     "text": [
      "2021-06-18 15:20:51,483 - modnet - INFO - Generation number 3\n",
      "2021-06-18 15:20:58,698 - modnet - INFO - Multiprocessing on 32 cores. Total of 128 cores available.\n"
     ]
    },
    {
     "name": "stderr",
     "output_type": "stream",
     "text": [
      "100%|██████████| 100/100 [07:20<00:00,  4.41s/it]"
     ]
    },
    {
     "name": "stdout",
     "output_type": "stream",
     "text": [
      "2021-06-18 15:28:19,630 - modnet - INFO - Loss per individual: ind 0: 0.694 \tind 1: 0.640 \tind 2: 0.682 \tind 3: 0.660 \tind 4: 0.706 \tind 5: 0.666 \tind 6: 0.664 \tind 7: 0.669 \tind 8: 0.679 \tind 9: 0.646 \tind 10: 0.714 \tind 11: 0.682 \tind 12: 0.647 \tind 13: 0.639 \tind 14: 0.680 \tind 15: 0.638 \tind 16: 0.685 \tind 17: 0.738 \tind 18: 0.658 \tind 19: 0.713 \t\n"
     ]
    },
    {
     "name": "stderr",
     "output_type": "stream",
     "text": [
      "\n"
     ]
    },
    {
     "name": "stdout",
     "output_type": "stream",
     "text": [
      "2021-06-18 15:28:22,174 - modnet - INFO - Generation number 4\n",
      "2021-06-18 15:28:29,857 - modnet - INFO - Multiprocessing on 32 cores. Total of 128 cores available.\n"
     ]
    },
    {
     "name": "stderr",
     "output_type": "stream",
     "text": [
      "100%|██████████| 100/100 [06:38<00:00,  3.98s/it]"
     ]
    },
    {
     "name": "stdout",
     "output_type": "stream",
     "text": [
      "2021-06-18 15:35:08,225 - modnet - INFO - Loss per individual: ind 0: 0.671 \tind 1: 0.747 \tind 2: 0.759 \tind 3: 0.656 \tind 4: 0.665 \tind 5: 0.648 \tind 6: 0.638 \tind 7: 0.803 \tind 8: 0.633 \tind 9: 0.745 \tind 10: 0.766 \tind 11: 0.725 \tind 12: 0.635 \tind 13: 0.730 \tind 14: 0.798 \tind 15: 0.644 \tind 16: 0.742 \tind 17: 0.693 \tind 18: 0.818 \tind 19: 0.735 \t\n"
     ]
    },
    {
     "name": "stderr",
     "output_type": "stream",
     "text": [
      "\n"
     ]
    },
    {
     "name": "stdout",
     "output_type": "stream",
     "text": [
      "2021-06-18 15:35:10,622 - modnet - INFO - Generation number 5\n",
      "2021-06-18 15:35:18,897 - modnet - INFO - Multiprocessing on 32 cores. Total of 128 cores available.\n"
     ]
    },
    {
     "name": "stderr",
     "output_type": "stream",
     "text": [
      "100%|██████████| 100/100 [09:44<00:00,  5.84s/it]"
     ]
    },
    {
     "name": "stdout",
     "output_type": "stream",
     "text": [
      "2021-06-18 15:45:03,033 - modnet - INFO - Loss per individual: ind 0: 0.773 \tind 1: 0.691 \tind 2: 0.663 \tind 3: 0.678 \tind 4: 0.738 \tind 5: 0.723 \tind 6: 0.633 \tind 7: 0.729 \tind 8: 0.643 \tind 9: 0.727 \tind 10: 0.635 \tind 11: 0.733 \tind 12: 0.691 \tind 13: 0.792 \tind 14: 0.824 \tind 15: 0.665 \tind 16: 0.694 \tind 17: 0.663 \tind 18: 0.699 \tind 19: 0.729 \t\n"
     ]
    },
    {
     "name": "stderr",
     "output_type": "stream",
     "text": [
      "\n"
     ]
    },
    {
     "name": "stdout",
     "output_type": "stream",
     "text": [
      "2021-06-18 15:45:05,499 - modnet - INFO - Early stopping: same best model for 4 consecutive generations\n",
      "Loaded 3 models\n",
      "MAE =\n",
      "0.37724455169883253\n",
      "2021-06-18 15:45:12,290 - modnet - INFO - Loaded <modnet.preprocessing.MODData object at 0x7f5e98b53850> object, created with modnet version 0.1.9\n",
      "2021-06-18 15:45:12,361 - modnet - INFO - Generation number 0\n",
      "2021-06-18 15:45:19,082 - modnet - INFO - Multiprocessing on 32 cores. Total of 128 cores available.\n"
     ]
    },
    {
     "name": "stderr",
     "output_type": "stream",
     "text": [
      "100%|██████████| 100/100 [06:36<00:00,  3.97s/it]"
     ]
    },
    {
     "name": "stdout",
     "output_type": "stream",
     "text": [
      "2021-06-18 15:51:56,161 - modnet - INFO - Loss per individual: ind 0: 0.635 \tind 1: 0.657 \tind 2: 0.689 \tind 3: 0.651 \tind 4: 0.650 \tind 5: 0.673 \tind 6: 0.609 \tind 7: 5.097 \tind 8: 0.656 \tind 9: 0.598 \tind 10: 0.640 \tind 11: 0.688 \tind 12: 0.629 \tind 13: 0.671 \tind 14: 8.137 \tind 15: 0.660 \tind 16: 0.598 \tind 17: 0.701 \tind 18: 6.033 \tind 19: 0.640 \t\n"
     ]
    },
    {
     "name": "stderr",
     "output_type": "stream",
     "text": [
      "\n"
     ]
    },
    {
     "name": "stdout",
     "output_type": "stream",
     "text": [
      "2021-06-18 15:51:58,777 - modnet - INFO - Generation number 1\n",
      "2021-06-18 15:52:05,529 - modnet - INFO - Multiprocessing on 32 cores. Total of 128 cores available.\n"
     ]
    },
    {
     "name": "stderr",
     "output_type": "stream",
     "text": [
      "100%|██████████| 100/100 [06:32<00:00,  3.93s/it]"
     ]
    },
    {
     "name": "stdout",
     "output_type": "stream",
     "text": [
      "2021-06-18 15:58:38,151 - modnet - INFO - Loss per individual: ind 0: 0.635 \tind 1: 0.617 \tind 2: 0.643 \tind 3: 0.600 \tind 4: 0.614 \tind 5: 0.655 \tind 6: 0.626 \tind 7: 0.635 \tind 8: 0.659 \tind 9: 1.603 \tind 10: 0.674 \tind 11: 0.693 \tind 12: 0.670 \tind 13: 0.648 \tind 14: 0.646 \tind 15: 0.673 \tind 16: 0.603 \tind 17: 2.119 \tind 18: 0.641 \tind 19: 0.651 \t\n"
     ]
    },
    {
     "name": "stderr",
     "output_type": "stream",
     "text": [
      "\n"
     ]
    },
    {
     "name": "stdout",
     "output_type": "stream",
     "text": [
      "2021-06-18 15:58:40,549 - modnet - INFO - Generation number 2\n",
      "2021-06-18 15:58:47,626 - modnet - INFO - Multiprocessing on 32 cores. Total of 128 cores available.\n"
     ]
    },
    {
     "name": "stderr",
     "output_type": "stream",
     "text": [
      "100%|██████████| 100/100 [06:26<00:00,  3.87s/it]"
     ]
    },
    {
     "name": "stdout",
     "output_type": "stream",
     "text": [
      "2021-06-18 16:05:14,328 - modnet - INFO - Loss per individual: ind 0: 0.633 \tind 1: 0.663 \tind 2: 0.607 \tind 3: 0.643 \tind 4: 0.629 \tind 5: 0.670 \tind 6: 0.693 \tind 7: 0.643 \tind 8: 0.632 \tind 9: 0.682 \tind 10: 0.640 \tind 11: 0.640 \tind 12: 0.623 \tind 13: 0.601 \tind 14: 0.634 \tind 15: 0.646 \tind 16: 0.642 \tind 17: 0.650 \tind 18: 0.653 \tind 19: 0.654 \t\n"
     ]
    },
    {
     "name": "stderr",
     "output_type": "stream",
     "text": [
      "\n"
     ]
    },
    {
     "name": "stdout",
     "output_type": "stream",
     "text": [
      "2021-06-18 16:05:16,686 - modnet - INFO - Generation number 3\n",
      "2021-06-18 16:05:31,015 - modnet - INFO - Multiprocessing on 32 cores. Total of 128 cores available.\n"
     ]
    },
    {
     "name": "stderr",
     "output_type": "stream",
     "text": [
      "100%|██████████| 100/100 [06:31<00:00,  3.92s/it]"
     ]
    },
    {
     "name": "stdout",
     "output_type": "stream",
     "text": [
      "2021-06-18 16:12:03,090 - modnet - INFO - Loss per individual: ind 0: 0.636 \tind 1: 0.687 \tind 2: 0.639 \tind 3: 0.646 \tind 4: 0.642 \tind 5: 0.617 \tind 6: 0.638 \tind 7: 0.635 \tind 8: 0.642 \tind 9: 0.635 \tind 10: 6.490 \tind 11: 0.651 \tind 12: 0.628 \tind 13: 0.628 \tind 14: 0.631 \tind 15: 0.633 \tind 16: 0.594 \tind 17: 0.630 \tind 18: 0.593 \tind 19: 0.656 \t\n"
     ]
    },
    {
     "name": "stderr",
     "output_type": "stream",
     "text": [
      "\n"
     ]
    },
    {
     "name": "stdout",
     "output_type": "stream",
     "text": [
      "2021-06-18 16:12:05,426 - modnet - INFO - Generation number 4\n",
      "2021-06-18 16:12:13,214 - modnet - INFO - Multiprocessing on 32 cores. Total of 128 cores available.\n"
     ]
    },
    {
     "name": "stderr",
     "output_type": "stream",
     "text": [
      "100%|██████████| 100/100 [07:03<00:00,  4.23s/it]"
     ]
    },
    {
     "name": "stdout",
     "output_type": "stream",
     "text": [
      "2021-06-18 16:19:16,498 - modnet - INFO - Loss per individual: ind 0: 0.669 \tind 1: 0.614 \tind 2: 0.610 \tind 3: 0.632 \tind 4: 0.679 \tind 5: 0.648 \tind 6: 0.626 \tind 7: 0.702 \tind 8: 0.644 \tind 9: 0.644 \tind 10: 0.605 \tind 11: 0.603 \tind 12: 0.604 \tind 13: 0.640 \tind 14: 0.669 \tind 15: 0.605 \tind 16: 0.614 \tind 17: 0.620 \tind 18: 0.610 \tind 19: 0.652 \t\n"
     ]
    },
    {
     "name": "stderr",
     "output_type": "stream",
     "text": [
      "\n"
     ]
    },
    {
     "name": "stdout",
     "output_type": "stream",
     "text": [
      "2021-06-18 16:19:18,977 - modnet - INFO - Generation number 5\n",
      "2021-06-18 16:19:27,087 - modnet - INFO - Multiprocessing on 32 cores. Total of 128 cores available.\n"
     ]
    },
    {
     "name": "stderr",
     "output_type": "stream",
     "text": [
      "100%|██████████| 100/100 [07:10<00:00,  4.30s/it]"
     ]
    },
    {
     "name": "stdout",
     "output_type": "stream",
     "text": [
      "2021-06-18 16:26:37,623 - modnet - INFO - Loss per individual: ind 0: 0.619 \tind 1: 0.641 \tind 2: 0.615 \tind 3: 0.631 \tind 4: 0.678 \tind 5: 0.641 \tind 6: 0.612 \tind 7: 0.663 \tind 8: 0.668 \tind 9: 0.668 \tind 10: 0.608 \tind 11: 0.656 \tind 12: 0.615 \tind 13: 0.666 \tind 14: 0.637 \tind 15: 0.616 \tind 16: 0.613 \tind 17: 0.677 \tind 18: 0.614 \tind 19: 0.672 \t\n"
     ]
    },
    {
     "name": "stderr",
     "output_type": "stream",
     "text": [
      "\n"
     ]
    },
    {
     "name": "stdout",
     "output_type": "stream",
     "text": [
      "2021-06-18 16:26:40,211 - modnet - INFO - Generation number 6\n",
      "2021-06-18 16:26:48,853 - modnet - INFO - Multiprocessing on 32 cores. Total of 128 cores available.\n"
     ]
    },
    {
     "name": "stderr",
     "output_type": "stream",
     "text": [
      "100%|██████████| 100/100 [07:33<00:00,  4.54s/it]"
     ]
    },
    {
     "name": "stdout",
     "output_type": "stream",
     "text": [
      "2021-06-18 16:34:22,668 - modnet - INFO - Loss per individual: ind 0: 0.619 \tind 1: 0.651 \tind 2: 0.615 \tind 3: 0.620 \tind 4: 0.641 \tind 5: 0.634 \tind 6: 0.638 \tind 7: 0.691 \tind 8: 0.645 \tind 9: 0.588 \tind 10: 0.665 \tind 11: 0.612 \tind 12: 0.613 \tind 13: 0.686 \tind 14: 0.639 \tind 15: 0.686 \tind 16: 0.617 \tind 17: 0.654 \tind 18: 0.636 \tind 19: 0.627 \t\n"
     ]
    },
    {
     "name": "stderr",
     "output_type": "stream",
     "text": [
      "\n"
     ]
    },
    {
     "name": "stdout",
     "output_type": "stream",
     "text": [
      "2021-06-18 16:34:25,055 - modnet - INFO - Generation number 7\n",
      "2021-06-18 16:34:49,617 - modnet - INFO - Multiprocessing on 32 cores. Total of 128 cores available.\n"
     ]
    },
    {
     "name": "stderr",
     "output_type": "stream",
     "text": [
      "100%|██████████| 100/100 [07:07<00:00,  4.28s/it]"
     ]
    },
    {
     "name": "stdout",
     "output_type": "stream",
     "text": [
      "2021-06-18 16:41:57,483 - modnet - INFO - Loss per individual: ind 0: 0.626 \tind 1: 0.635 \tind 2: 0.600 \tind 3: 0.664 \tind 4: 0.615 \tind 5: 0.643 \tind 6: 0.613 \tind 7: 0.616 \tind 8: 0.620 \tind 9: 0.694 \tind 10: 0.682 \tind 11: 0.619 \tind 12: 0.627 \tind 13: 0.607 \tind 14: 0.656 \tind 15: 0.686 \tind 16: 0.681 \tind 17: 0.632 \tind 18: 0.621 \tind 19: 0.645 \t\n"
     ]
    },
    {
     "name": "stderr",
     "output_type": "stream",
     "text": [
      "\n"
     ]
    },
    {
     "name": "stdout",
     "output_type": "stream",
     "text": [
      "2021-06-18 16:41:59,838 - modnet - INFO - Generation number 8\n",
      "2021-06-18 16:42:09,659 - modnet - INFO - Multiprocessing on 32 cores. Total of 128 cores available.\n"
     ]
    },
    {
     "name": "stderr",
     "output_type": "stream",
     "text": [
      "100%|██████████| 100/100 [06:53<00:00,  4.14s/it]"
     ]
    },
    {
     "name": "stdout",
     "output_type": "stream",
     "text": [
      "2021-06-18 16:49:03,459 - modnet - INFO - Loss per individual: ind 0: 0.641 \tind 1: 0.617 \tind 2: 0.653 \tind 3: 0.698 \tind 4: 0.636 \tind 5: 0.611 \tind 6: 0.647 \tind 7: 0.670 \tind 8: 0.625 \tind 9: 0.613 \tind 10: 0.595 \tind 11: 0.642 \tind 12: 0.621 \tind 13: 0.615 \tind 14: 0.649 \tind 15: 0.655 \tind 16: 0.621 \tind 17: 0.704 \tind 18: 0.662 \tind 19: 0.641 \t\n"
     ]
    },
    {
     "name": "stderr",
     "output_type": "stream",
     "text": [
      "\n"
     ]
    },
    {
     "name": "stdout",
     "output_type": "stream",
     "text": [
      "2021-06-18 16:49:05,761 - modnet - INFO - Generation number 9\n",
      "2021-06-18 16:49:16,717 - modnet - INFO - Multiprocessing on 32 cores. Total of 128 cores available.\n"
     ]
    },
    {
     "name": "stderr",
     "output_type": "stream",
     "text": [
      "100%|██████████| 100/100 [07:15<00:00,  4.36s/it]"
     ]
    },
    {
     "name": "stdout",
     "output_type": "stream",
     "text": [
      "2021-06-18 16:56:32,759 - modnet - INFO - Loss per individual: ind 0: 0.608 \tind 1: 0.673 \tind 2: 0.645 \tind 3: 0.602 \tind 4: 0.641 \tind 5: 0.655 \tind 6: 0.643 \tind 7: 0.632 \tind 8: 0.636 \tind 9: 0.633 \tind 10: 0.599 \tind 11: 0.602 \tind 12: 0.661 \tind 13: 0.654 \tind 14: 0.635 \tind 15: 0.650 \tind 16: 0.613 \tind 17: 0.630 \tind 18: 0.610 \tind 19: 0.613 \t\n"
     ]
    },
    {
     "name": "stderr",
     "output_type": "stream",
     "text": [
      "\n"
     ]
    },
    {
     "name": "stdout",
     "output_type": "stream",
     "text": [
      "2021-06-18 16:56:35,163 - modnet - INFO - Early stopping: same best model for 4 consecutive generations\n",
      "Loaded 3 models\n",
      "MAE =\n",
      "0.3505456121697407\n",
      "2021-06-18 16:56:46,438 - modnet - INFO - Loaded <modnet.preprocessing.MODData object at 0x7f5e9aba61f0> object, created with modnet version 0.1.9\n",
      "2021-06-18 16:56:46,467 - modnet - INFO - Generation number 0\n",
      "2021-06-18 16:56:54,009 - modnet - INFO - Multiprocessing on 32 cores. Total of 128 cores available.\n"
     ]
    },
    {
     "name": "stderr",
     "output_type": "stream",
     "text": [
      "100%|██████████| 100/100 [07:01<00:00,  4.21s/it]"
     ]
    },
    {
     "name": "stdout",
     "output_type": "stream",
     "text": [
      "2021-06-18 17:03:55,228 - modnet - INFO - Loss per individual: ind 0: 0.650 \tind 1: 3.433 \tind 2: 0.693 \tind 3: 0.647 \tind 4: 0.595 \tind 5: 0.622 \tind 6: 0.698 \tind 7: 0.603 \tind 8: 0.607 \tind 9: 0.661 \tind 10: 0.671 \tind 11: 0.597 \tind 12: 0.646 \tind 13: 0.673 \tind 14: 0.699 \tind 15: 0.673 \tind 16: 0.605 \tind 17: 0.639 \tind 18: 0.896 \tind 19: 0.695 \t\n"
     ]
    },
    {
     "name": "stderr",
     "output_type": "stream",
     "text": [
      "\n"
     ]
    },
    {
     "name": "stdout",
     "output_type": "stream",
     "text": [
      "2021-06-18 17:03:58,007 - modnet - INFO - Generation number 1\n",
      "2021-06-18 17:04:05,888 - modnet - INFO - Multiprocessing on 32 cores. Total of 128 cores available.\n"
     ]
    },
    {
     "name": "stderr",
     "output_type": "stream",
     "text": [
      "100%|██████████| 100/100 [07:26<00:00,  4.47s/it]"
     ]
    },
    {
     "name": "stdout",
     "output_type": "stream",
     "text": [
      "2021-06-18 17:11:32,994 - modnet - INFO - Loss per individual: ind 0: 0.617 \tind 1: 0.622 \tind 2: 0.724 \tind 3: 0.610 \tind 4: 0.642 \tind 5: 0.626 \tind 6: 9.049 \tind 7: 0.693 \tind 8: 0.649 \tind 9: 0.622 \tind 10: 0.624 \tind 11: 0.623 \tind 12: 0.648 \tind 13: 0.662 \tind 14: 0.644 \tind 15: 0.661 \tind 16: 0.599 \tind 17: 0.740 \tind 18: 0.597 \tind 19: 0.660 \t\n"
     ]
    },
    {
     "name": "stderr",
     "output_type": "stream",
     "text": [
      "\n"
     ]
    },
    {
     "name": "stdout",
     "output_type": "stream",
     "text": [
      "2021-06-18 17:11:35,500 - modnet - INFO - Generation number 2\n",
      "2021-06-18 17:11:43,701 - modnet - INFO - Multiprocessing on 32 cores. Total of 128 cores available.\n"
     ]
    },
    {
     "name": "stderr",
     "output_type": "stream",
     "text": [
      "100%|██████████| 100/100 [06:54<00:00,  4.15s/it]"
     ]
    },
    {
     "name": "stdout",
     "output_type": "stream",
     "text": [
      "2021-06-18 17:18:38,401 - modnet - INFO - Loss per individual: ind 0: 0.612 \tind 1: 0.597 \tind 2: 0.711 \tind 3: 0.619 \tind 4: 0.664 \tind 5: 0.646 \tind 6: 0.611 \tind 7: 0.644 \tind 8: 0.615 \tind 9: 0.664 \tind 10: 0.661 \tind 11: 0.624 \tind 12: 0.651 \tind 13: 0.599 \tind 14: 0.645 \tind 15: 0.661 \tind 16: 0.619 \tind 17: 0.686 \tind 18: 0.608 \tind 19: 0.597 \t\n"
     ]
    },
    {
     "name": "stderr",
     "output_type": "stream",
     "text": [
      "\n"
     ]
    },
    {
     "name": "stdout",
     "output_type": "stream",
     "text": [
      "2021-06-18 17:18:40,923 - modnet - INFO - Generation number 3\n",
      "2021-06-18 17:18:49,253 - modnet - INFO - Multiprocessing on 32 cores. Total of 128 cores available.\n"
     ]
    },
    {
     "name": "stderr",
     "output_type": "stream",
     "text": [
      "100%|██████████| 100/100 [07:20<00:00,  4.41s/it]"
     ]
    },
    {
     "name": "stdout",
     "output_type": "stream",
     "text": [
      "2021-06-18 17:26:10,294 - modnet - INFO - Loss per individual: ind 0: 0.659 \tind 1: 0.608 \tind 2: 0.580 \tind 3: 0.647 \tind 4: 0.596 \tind 5: 0.709 \tind 6: 0.593 \tind 7: 0.649 \tind 8: 0.615 \tind 9: 0.598 \tind 10: 0.616 \tind 11: 0.705 \tind 12: 0.682 \tind 13: 0.583 \tind 14: 0.656 \tind 15: 0.614 \tind 16: 0.662 \tind 17: 0.694 \tind 18: 0.599 \tind 19: 0.588 \t\n"
     ]
    },
    {
     "name": "stderr",
     "output_type": "stream",
     "text": [
      "\n"
     ]
    },
    {
     "name": "stdout",
     "output_type": "stream",
     "text": [
      "2021-06-18 17:26:12,741 - modnet - INFO - Generation number 4\n",
      "2021-06-18 17:26:21,675 - modnet - INFO - Multiprocessing on 32 cores. Total of 128 cores available.\n"
     ]
    },
    {
     "name": "stderr",
     "output_type": "stream",
     "text": [
      "100%|██████████| 100/100 [06:55<00:00,  4.15s/it]"
     ]
    },
    {
     "name": "stdout",
     "output_type": "stream",
     "text": [
      "2021-06-18 17:33:16,940 - modnet - INFO - Loss per individual: ind 0: 0.628 \tind 1: 0.609 \tind 2: 0.654 \tind 3: 0.629 \tind 4: 0.631 \tind 5: 0.611 \tind 6: 0.666 \tind 7: 0.616 \tind 8: 0.683 \tind 9: 0.622 \tind 10: 0.630 \tind 11: 0.703 \tind 12: 0.631 \tind 13: 0.591 \tind 14: 0.602 \tind 15: 0.624 \tind 16: 0.618 \tind 17: 0.590 \tind 18: 0.623 \tind 19: 0.664 \t\n"
     ]
    },
    {
     "name": "stderr",
     "output_type": "stream",
     "text": [
      "\n"
     ]
    },
    {
     "name": "stdout",
     "output_type": "stream",
     "text": [
      "2021-06-18 17:33:19,232 - modnet - INFO - Generation number 5\n",
      "2021-06-18 17:33:28,415 - modnet - INFO - Multiprocessing on 32 cores. Total of 128 cores available.\n"
     ]
    },
    {
     "name": "stderr",
     "output_type": "stream",
     "text": [
      "100%|██████████| 100/100 [06:44<00:00,  4.05s/it]"
     ]
    },
    {
     "name": "stdout",
     "output_type": "stream",
     "text": [
      "2021-06-18 17:40:13,122 - modnet - INFO - Loss per individual: ind 0: 0.636 \tind 1: 0.657 \tind 2: 0.612 \tind 3: 0.740 \tind 4: 0.692 \tind 5: 0.590 \tind 6: 0.659 \tind 7: 0.619 \tind 8: 0.669 \tind 9: 0.673 \tind 10: 0.597 \tind 11: 0.740 \tind 12: 0.666 \tind 13: 0.648 \tind 14: 0.633 \tind 15: 0.657 \tind 16: 0.601 \tind 17: 0.605 \tind 18: 0.580 \tind 19: 0.606 \t\n"
     ]
    },
    {
     "name": "stderr",
     "output_type": "stream",
     "text": [
      "\n"
     ]
    },
    {
     "name": "stdout",
     "output_type": "stream",
     "text": [
      "2021-06-18 17:40:15,468 - modnet - INFO - Generation number 6\n",
      "2021-06-18 17:40:25,419 - modnet - INFO - Multiprocessing on 32 cores. Total of 128 cores available.\n"
     ]
    },
    {
     "name": "stderr",
     "output_type": "stream",
     "text": [
      "100%|██████████| 100/100 [08:41<00:00,  5.21s/it]"
     ]
    },
    {
     "name": "stdout",
     "output_type": "stream",
     "text": [
      "2021-06-18 17:49:06,528 - modnet - INFO - Loss per individual: ind 0: 0.676 \tind 1: 0.643 \tind 2: 0.632 \tind 3: 0.616 \tind 4: 0.654 \tind 5: 0.597 \tind 6: 0.599 \tind 7: 0.677 \tind 8: 0.627 \tind 9: 0.616 \tind 10: 0.635 \tind 11: 0.684 \tind 12: 0.619 \tind 13: 0.628 \tind 14: 0.620 \tind 15: 0.620 \tind 16: 0.611 \tind 17: 0.617 \tind 18: 0.631 \tind 19: 0.648 \t\n"
     ]
    },
    {
     "name": "stderr",
     "output_type": "stream",
     "text": [
      "\n"
     ]
    },
    {
     "name": "stdout",
     "output_type": "stream",
     "text": [
      "2021-06-18 17:49:08,899 - modnet - INFO - Early stopping: same best model for 4 consecutive generations\n",
      "Loaded 3 models\n",
      "MAE =\n",
      "0.3765824556855847\n"
     ]
    }
   ],
   "source": [
    "k = 5\n",
    "random_state = 202010\n",
    "folds = MDKsplit(md_joint,n_splits=k,random_state=random_state)\n",
    "maes = np.ones(5)\n",
    "for i,f in enumerate(folds):\n",
    "    train = f[0]\n",
    "    test = f[1]\n",
    "    #train.feature_selection(n=-1, use_precomputed_cross_nmi=True)\n",
    "    fpath = 'train_{}_{}'.format(random_state,i+1)\n",
    "    if os.path.exists(fpath):\n",
    "        train = MODData.load(fpath)\n",
    "    else:\n",
    "        train.feature_selection(n=-1, use_precomputed_cross_nmi=True)\n",
    "        train.save(fpath)\n",
    "        \n",
    "    # assure no overlap\n",
    "    assert len(set(train.df_targets.index).intersection(set(test.df_targets.index))) == 0\n",
    "    \n",
    "    ga = FitGenetic(train)\n",
    "    model3 = ga.run(size_pop=20, num_generations=10, n_jobs=32)\n",
    "    \n",
    "    # load all models\n",
    "    members = [model1, model2, model3]\n",
    "    print('Loaded %d models' % len(members))\n",
    "    \n",
    "    # fit stacked model on test dataset\n",
    "    model = fit_stacked_model(members, inputX=train, inputy=train.df_targets.to_numpy())\n",
    "\n",
    "    # evaluate model on test set\n",
    "    pred= stacked_prediction(members, model, test)\n",
    "    pred = pd.DataFrame(pred)\n",
    "    pred = pred.rename(columns={pred.columns[0]: 'exp_gap'})\n",
    "    true = test.df_targets\n",
    "    for j in range(len(pred)):\n",
    "        pred = pred.rename(index={pred.index[j]: true.index[j]})\n",
    "    error = pred-true\n",
    "    error = error['exp_gap'].drop(pred.index[((pred['exp_gap']).abs()>20)]) # drop unrealistic values: happens extremely rarely\n",
    "    mae = np.abs(error.values).mean()\n",
    "    print('MAE =')\n",
    "    print(mae)\n",
    "    maes[i] = mae"
   ]
  },
  {
   "cell_type": "code",
   "execution_count": 22,
   "metadata": {
    "ExecuteTime": {
     "end_time": "2021-06-18T15:49:16.279155Z",
     "start_time": "2021-06-18T15:49:16.275475Z"
    }
   },
   "outputs": [
    {
     "data": {
      "text/plain": [
       "array([0.37545936, 0.36791082, 0.37724455, 0.35054561, 0.37658246])"
      ]
     },
     "execution_count": 22,
     "metadata": {},
     "output_type": "execute_result"
    }
   ],
   "source": [
    "maes"
   ]
  },
  {
   "cell_type": "code",
   "execution_count": 23,
   "metadata": {
    "ExecuteTime": {
     "end_time": "2021-06-18T15:49:16.471114Z",
     "start_time": "2021-06-18T15:49:16.280865Z"
    }
   },
   "outputs": [
    {
     "data": {
      "text/plain": [
       "0.3695485613540711"
      ]
     },
     "execution_count": 23,
     "metadata": {},
     "output_type": "execute_result"
    }
   ],
   "source": [
    "maes.mean()"
   ]
  },
  {
   "cell_type": "markdown",
   "metadata": {},
   "source": [
    "#### Conclusion"
   ]
  },
  {
   "cell_type": "markdown",
   "metadata": {},
   "source": [
    "Relative percentage change of the error compared to MODNet_exp_GA reference: -7%"
   ]
  }
 ],
 "metadata": {
  "kernelspec": {
   "display_name": "Python [conda env:modnet]",
   "language": "python",
   "name": "conda-env-modnet-py"
  },
  "language_info": {
   "codemirror_mode": {
    "name": "ipython",
    "version": 3
   },
   "file_extension": ".py",
   "mimetype": "text/x-python",
   "name": "python",
   "nbconvert_exporter": "python",
   "pygments_lexer": "ipython3",
   "version": "3.8.5"
  }
 },
 "nbformat": 4,
 "nbformat_minor": 4
}
