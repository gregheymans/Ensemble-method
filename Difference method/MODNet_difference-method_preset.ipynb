{
 "cells": [
  {
   "cell_type": "markdown",
   "metadata": {},
   "source": [
    "# Difference method + joint learning (fit_preset)"
   ]
  },
  {
   "cell_type": "markdown",
   "metadata": {},
   "source": [
    "In this model, we will use what we called the Difference method. We first calculate the difference between the experimental band gap and the PBE band gap, and we then evaluate the error on this difference. We have three targets in the dataframe: the experimental and PBE band gaps, and the difference between them. We will apply joint learning on these columns."
   ]
  },
  {
   "cell_type": "code",
   "execution_count": 1,
   "metadata": {
    "ExecuteTime": {
     "end_time": "2021-05-06T07:25:30.755365Z",
     "start_time": "2021-05-06T07:25:30.742656Z"
    }
   },
   "outputs": [],
   "source": [
    "def setup_threading():\n",
    "    import os\n",
    "    os.environ['OPENBLAS_NUM_THREADS'] = '1'\n",
    "    os.environ['MKL_NUM_THREADS'] = '1'\n",
    "    os.environ[\"OMP_NUM_THREADS\"] = \"1\"\n",
    "    os.environ[\"TF_NUM_INTRAOP_THREADS\"] = \"1\"\n",
    "    os.environ[\"TF_NUM_INTEROP_THREADS\"] = \"1\"\n",
    "    os.environ[\"CUDA_VISIBLE_DEVICES\"] = \"-1\""
   ]
  },
  {
   "cell_type": "code",
   "execution_count": 2,
   "metadata": {
    "ExecuteTime": {
     "end_time": "2021-05-06T07:25:31.105805Z",
     "start_time": "2021-05-06T07:25:31.102558Z"
    }
   },
   "outputs": [],
   "source": [
    "setup_threading()"
   ]
  },
  {
   "cell_type": "code",
   "execution_count": 3,
   "metadata": {
    "ExecuteTime": {
     "end_time": "2021-05-06T07:25:35.934279Z",
     "start_time": "2021-05-06T07:25:31.690034Z"
    }
   },
   "outputs": [],
   "source": [
    "from modnet.preprocessing import MODData\n",
    "from modnet.models.ensemble import EnsembleMODNetModel\n",
    "import numpy as np\n",
    "import os\n",
    "import copy\n",
    "from tensorflow.keras.callbacks import EarlyStopping, ReduceLROnPlateau"
   ]
  },
  {
   "cell_type": "code",
   "execution_count": 4,
   "metadata": {
    "ExecuteTime": {
     "end_time": "2021-05-06T07:25:35.941948Z",
     "start_time": "2021-05-06T07:25:35.935808Z"
    }
   },
   "outputs": [],
   "source": [
    "from sklearn.model_selection import KFold\n",
    "from modnet.preprocessing import MODData\n",
    "\n",
    "def shuffle_MD(data,random_state=10):\n",
    "    data = copy.deepcopy(data)\n",
    "    ids = data.df_targets.sample(frac=1,random_state=random_state).index\n",
    "    data.df_featurized = data.df_featurized.reindex([ids])\n",
    "    data.df_targets = data.df_targets.reindex([ids])\n",
    "    data.df_structure = data.df_structure.reindex([ids])\n",
    "    \n",
    "    return data\n",
    "\n",
    "def MDKsplit(data,n_splits=5,random_state=10):\n",
    "    #data = shuffle_MD(data,random_state=random_state)\n",
    "    ids = np.array(data.structure_ids)\n",
    "    kf = KFold(n_splits=n_splits,shuffle=True,random_state=random_state)\n",
    "    folds = []\n",
    "    for train_idx, val_idx in kf.split(ids):\n",
    "        data_train = MODData(data.df_structure.iloc[train_idx]['structure'].values,data.df_targets.iloc[train_idx].values,target_names=data.df_targets.columns,structure_ids=ids[train_idx])\n",
    "        data_train.df_featurized = data.df_featurized.iloc[train_idx]\n",
    "        #data_train.optimal_features = data.optimal_features\n",
    "        \n",
    "        data_val = MODData(data.df_structure.iloc[val_idx]['structure'].values,data.df_targets.iloc[val_idx].values,target_names=data.df_targets.columns,structure_ids=ids[val_idx])\n",
    "        data_val.df_featurized = data.df_featurized.iloc[val_idx]\n",
    "        #data_val.optimal_features = data.optimal_features\n",
    "\n",
    "        folds.append((data_train,data_val))\n",
    "        \n",
    "    return folds\n",
    "\n",
    "def MD_append(md,lmd):\n",
    "    md = copy.deepcopy(md)\n",
    "    for m in lmd:\n",
    "        md.df_structure.append(m.df_structure)\n",
    "        md.df_targets.append(m.df_targets)\n",
    "        md.df_featurized.append(m.df_featurized)\n",
    "    return md"
   ]
  },
  {
   "cell_type": "code",
   "execution_count": 3,
   "metadata": {
    "ExecuteTime": {
     "end_time": "2021-05-04T14:31:00.990585Z",
     "start_time": "2021-05-04T14:31:00.968276Z"
    }
   },
   "outputs": [],
   "source": [
    "#from random import randint\n",
    "#def train_val_split(data):\n",
    "\n",
    "#    \"\"\"Splits arrays or matrices into random train and validation subsets.\n",
    "#\n",
    "#   Parameter:\n",
    "#      data: 'MODData' data which need to be splitted.\n",
    "#    \"\"\"\n",
    "    #i = randint(0,9)\n",
    "    #md_train, md_val = MDKsplit(data, n_splits=5, random_state=1)[0]\n",
    "    #y_train = md_train.df_targets\n",
    "    #y_val = md_val.df_targets\n",
    "\n",
    "    #return md_train, md_val, y_train, y_val"
   ]
  },
  {
   "cell_type": "code",
   "execution_count": 4,
   "metadata": {
    "ExecuteTime": {
     "end_time": "2021-05-04T14:31:00.995071Z",
     "start_time": "2021-05-04T14:31:00.992606Z"
    }
   },
   "outputs": [],
   "source": [
    "#train_val_split(md_joint)"
   ]
  },
  {
   "cell_type": "code",
   "execution_count": 5,
   "metadata": {
    "ExecuteTime": {
     "end_time": "2021-05-05T09:51:31.053834Z",
     "start_time": "2021-05-05T09:51:22.299480Z"
    }
   },
   "outputs": [
    {
     "name": "stdout",
     "output_type": "stream",
     "text": [
      "\n",
      "If you use the ChemEnv tool for your research, please consider citing the following reference(s) :\n",
      "==================================================================================================\n",
      "David Waroquiers, Xavier Gonze, Gian-Marco Rignanese, Cathrin Welker-Nieuwoudt, Frank Rosowski,\n",
      "Michael Goebel, Stephan Schenk, Peter Degelmann, Rute Andre, Robert Glaum, and Geoffroy Hautier,\n",
      "\"Statistical analysis of coordination environments in oxides\",\n",
      "Chem. Mater., 2017, 29 (19), pp 8346-8360,\n",
      "DOI: 10.1021/acs.chemmater.7b02766\n",
      "\n",
      "2021-05-05 11:51:24,381 - modnet - INFO - Loaded <modnet.preprocessing.MODData object at 0x7f54f42e8700> object, created with modnet version <=0.1.7\n",
      "2021-05-05 11:51:31,026 - modnet - INFO - Loaded <modnet.preprocessing.MODData object at 0x7f54f42eeac0> object, created with modnet version <=0.1.7\n",
      "2021-05-05 11:51:31,050 - modnet - INFO - Loaded <modnet.preprocessing.MODData object at 0x7f54f42da760> object, created with modnet version <=0.1.7\n"
     ]
    }
   ],
   "source": [
    "md_exp = MODData.load('exp_gap_all_mpid')\n",
    "md_exp.df_targets.columns = ['exp_gap','mp_id']\n",
    "md_pbe = MODData.load('pbe_gap.zip')\n",
    "md_pbe.df_targets.columns = ['gap']\n",
    "md_joint = MODData.load('exp_pbe_joint')"
   ]
  },
  {
   "cell_type": "code",
   "execution_count": 6,
   "metadata": {
    "ExecuteTime": {
     "end_time": "2021-05-05T09:51:31.071788Z",
     "start_time": "2021-05-05T09:51:31.055826Z"
    }
   },
   "outputs": [
    {
     "data": {
      "text/html": [
       "<div>\n",
       "<style scoped>\n",
       "    .dataframe tbody tr th:only-of-type {\n",
       "        vertical-align: middle;\n",
       "    }\n",
       "\n",
       "    .dataframe tbody tr th {\n",
       "        vertical-align: top;\n",
       "    }\n",
       "\n",
       "    .dataframe thead th {\n",
       "        text-align: right;\n",
       "    }\n",
       "</style>\n",
       "<table border=\"1\" class=\"dataframe\">\n",
       "  <thead>\n",
       "    <tr style=\"text-align: right;\">\n",
       "      <th></th>\n",
       "      <th>exp_gap</th>\n",
       "      <th>pbe_gap</th>\n",
       "    </tr>\n",
       "  </thead>\n",
       "  <tbody>\n",
       "    <tr>\n",
       "      <th>mp-12699</th>\n",
       "      <td>0.00</td>\n",
       "      <td>0.0000</td>\n",
       "    </tr>\n",
       "    <tr>\n",
       "      <th>mp-559459</th>\n",
       "      <td>3.40</td>\n",
       "      <td>2.1704</td>\n",
       "    </tr>\n",
       "    <tr>\n",
       "      <th>mp-21162</th>\n",
       "      <td>0.00</td>\n",
       "      <td>0.0000</td>\n",
       "    </tr>\n",
       "    <tr>\n",
       "      <th>mp-1306</th>\n",
       "      <td>0.00</td>\n",
       "      <td>0.0000</td>\n",
       "    </tr>\n",
       "    <tr>\n",
       "      <th>mp-15252</th>\n",
       "      <td>0.53</td>\n",
       "      <td>0.1049</td>\n",
       "    </tr>\n",
       "    <tr>\n",
       "      <th>...</th>\n",
       "      <td>...</td>\n",
       "      <td>...</td>\n",
       "    </tr>\n",
       "    <tr>\n",
       "      <th>mp-556541</th>\n",
       "      <td>1.80</td>\n",
       "      <td>1.5135</td>\n",
       "    </tr>\n",
       "    <tr>\n",
       "      <th>mp-2602</th>\n",
       "      <td>1.04</td>\n",
       "      <td>0.0000</td>\n",
       "    </tr>\n",
       "    <tr>\n",
       "      <th>mp-30366</th>\n",
       "      <td>0.00</td>\n",
       "      <td>0.0000</td>\n",
       "    </tr>\n",
       "    <tr>\n",
       "      <th>mp-3718</th>\n",
       "      <td>1.45</td>\n",
       "      <td>0.2418</td>\n",
       "    </tr>\n",
       "    <tr>\n",
       "      <th>mp-3709</th>\n",
       "      <td>0.00</td>\n",
       "      <td>0.0000</td>\n",
       "    </tr>\n",
       "  </tbody>\n",
       "</table>\n",
       "<p>1703 rows × 2 columns</p>\n",
       "</div>"
      ],
      "text/plain": [
       "           exp_gap  pbe_gap\n",
       "mp-12699      0.00   0.0000\n",
       "mp-559459     3.40   2.1704\n",
       "mp-21162      0.00   0.0000\n",
       "mp-1306       0.00   0.0000\n",
       "mp-15252      0.53   0.1049\n",
       "...            ...      ...\n",
       "mp-556541     1.80   1.5135\n",
       "mp-2602       1.04   0.0000\n",
       "mp-30366      0.00   0.0000\n",
       "mp-3718       1.45   0.2418\n",
       "mp-3709       0.00   0.0000\n",
       "\n",
       "[1703 rows x 2 columns]"
      ]
     },
     "execution_count": 6,
     "metadata": {},
     "output_type": "execute_result"
    }
   ],
   "source": [
    "md_joint.df_targets"
   ]
  },
  {
   "cell_type": "code",
   "execution_count": 7,
   "metadata": {
    "ExecuteTime": {
     "end_time": "2021-05-05T09:51:31.077987Z",
     "start_time": "2021-05-05T09:51:31.073327Z"
    }
   },
   "outputs": [],
   "source": [
    "md_joint.df_targets['difference'] = md_joint.df_targets['exp_gap'] - md_joint.df_targets['pbe_gap']"
   ]
  },
  {
   "cell_type": "code",
   "execution_count": 8,
   "metadata": {
    "ExecuteTime": {
     "end_time": "2021-05-05T09:51:31.086663Z",
     "start_time": "2021-05-05T09:51:31.079289Z"
    }
   },
   "outputs": [
    {
     "data": {
      "text/html": [
       "<div>\n",
       "<style scoped>\n",
       "    .dataframe tbody tr th:only-of-type {\n",
       "        vertical-align: middle;\n",
       "    }\n",
       "\n",
       "    .dataframe tbody tr th {\n",
       "        vertical-align: top;\n",
       "    }\n",
       "\n",
       "    .dataframe thead th {\n",
       "        text-align: right;\n",
       "    }\n",
       "</style>\n",
       "<table border=\"1\" class=\"dataframe\">\n",
       "  <thead>\n",
       "    <tr style=\"text-align: right;\">\n",
       "      <th></th>\n",
       "      <th>exp_gap</th>\n",
       "      <th>pbe_gap</th>\n",
       "      <th>difference</th>\n",
       "    </tr>\n",
       "  </thead>\n",
       "  <tbody>\n",
       "    <tr>\n",
       "      <th>mp-12699</th>\n",
       "      <td>0.00</td>\n",
       "      <td>0.0000</td>\n",
       "      <td>0.0000</td>\n",
       "    </tr>\n",
       "    <tr>\n",
       "      <th>mp-559459</th>\n",
       "      <td>3.40</td>\n",
       "      <td>2.1704</td>\n",
       "      <td>1.2296</td>\n",
       "    </tr>\n",
       "    <tr>\n",
       "      <th>mp-21162</th>\n",
       "      <td>0.00</td>\n",
       "      <td>0.0000</td>\n",
       "      <td>0.0000</td>\n",
       "    </tr>\n",
       "    <tr>\n",
       "      <th>mp-1306</th>\n",
       "      <td>0.00</td>\n",
       "      <td>0.0000</td>\n",
       "      <td>0.0000</td>\n",
       "    </tr>\n",
       "    <tr>\n",
       "      <th>mp-15252</th>\n",
       "      <td>0.53</td>\n",
       "      <td>0.1049</td>\n",
       "      <td>0.4251</td>\n",
       "    </tr>\n",
       "    <tr>\n",
       "      <th>...</th>\n",
       "      <td>...</td>\n",
       "      <td>...</td>\n",
       "      <td>...</td>\n",
       "    </tr>\n",
       "    <tr>\n",
       "      <th>mp-556541</th>\n",
       "      <td>1.80</td>\n",
       "      <td>1.5135</td>\n",
       "      <td>0.2865</td>\n",
       "    </tr>\n",
       "    <tr>\n",
       "      <th>mp-2602</th>\n",
       "      <td>1.04</td>\n",
       "      <td>0.0000</td>\n",
       "      <td>1.0400</td>\n",
       "    </tr>\n",
       "    <tr>\n",
       "      <th>mp-30366</th>\n",
       "      <td>0.00</td>\n",
       "      <td>0.0000</td>\n",
       "      <td>0.0000</td>\n",
       "    </tr>\n",
       "    <tr>\n",
       "      <th>mp-3718</th>\n",
       "      <td>1.45</td>\n",
       "      <td>0.2418</td>\n",
       "      <td>1.2082</td>\n",
       "    </tr>\n",
       "    <tr>\n",
       "      <th>mp-3709</th>\n",
       "      <td>0.00</td>\n",
       "      <td>0.0000</td>\n",
       "      <td>0.0000</td>\n",
       "    </tr>\n",
       "  </tbody>\n",
       "</table>\n",
       "<p>1703 rows × 3 columns</p>\n",
       "</div>"
      ],
      "text/plain": [
       "           exp_gap  pbe_gap  difference\n",
       "mp-12699      0.00   0.0000      0.0000\n",
       "mp-559459     3.40   2.1704      1.2296\n",
       "mp-21162      0.00   0.0000      0.0000\n",
       "mp-1306       0.00   0.0000      0.0000\n",
       "mp-15252      0.53   0.1049      0.4251\n",
       "...            ...      ...         ...\n",
       "mp-556541     1.80   1.5135      0.2865\n",
       "mp-2602       1.04   0.0000      1.0400\n",
       "mp-30366      0.00   0.0000      0.0000\n",
       "mp-3718       1.45   0.2418      1.2082\n",
       "mp-3709       0.00   0.0000      0.0000\n",
       "\n",
       "[1703 rows x 3 columns]"
      ]
     },
     "execution_count": 8,
     "metadata": {},
     "output_type": "execute_result"
    }
   ],
   "source": [
    "md_joint.df_targets"
   ]
  },
  {
   "cell_type": "code",
   "execution_count": 9,
   "metadata": {
    "ExecuteTime": {
     "end_time": "2021-05-05T09:51:31.089540Z",
     "start_time": "2021-05-05T09:51:31.087756Z"
    }
   },
   "outputs": [],
   "source": [
    "import pymatgen.ext.matproj"
   ]
  },
  {
   "cell_type": "code",
   "execution_count": 10,
   "metadata": {
    "ExecuteTime": {
     "end_time": "2021-05-05T09:58:44.437078Z",
     "start_time": "2021-05-05T09:51:31.090528Z"
    }
   },
   "outputs": [],
   "source": [
    "from pymatgen.ext.matproj import MPRester\n",
    "import pandas as pd\n",
    "\n",
    "with MPRester(\"v454AlrxL5Zg0cLAXW0\") as mpr:\n",
    "    index = md_joint.df_structure.index\n",
    "    array = np.empty(shape=md_joint.df_structure.shape, dtype=pymatgen.core.structure.Structure)\n",
    "    array = np.ndarray.flatten(array)\n",
    "    for i in range(len(md_joint.df_structure)):\n",
    "        array[i] = mpr.get_structure_by_material_id(index[i])\n",
    "    md_joint.df_structure = pd.DataFrame(data=array, columns=[\"structure\"])\n",
    "    md_joint.df_structure = md_joint.df_structure.set_index(index)"
   ]
  },
  {
   "cell_type": "code",
   "execution_count": 11,
   "metadata": {
    "ExecuteTime": {
     "end_time": "2021-05-05T09:58:44.958041Z",
     "start_time": "2021-05-05T09:58:44.439404Z"
    }
   },
   "outputs": [
    {
     "name": "stdout",
     "output_type": "stream",
     "text": [
      "2021-05-05 11:58:44,955 - modnet - INFO - Data successfully saved as exp_pbe_joint!\n"
     ]
    }
   ],
   "source": [
    "#md_joint.save('exp_pbe_joint')"
   ]
  },
  {
   "cell_type": "code",
   "execution_count": 5,
   "metadata": {
    "ExecuteTime": {
     "end_time": "2021-05-06T07:25:42.117456Z",
     "start_time": "2021-05-06T07:25:41.226669Z"
    }
   },
   "outputs": [
    {
     "name": "stdout",
     "output_type": "stream",
     "text": [
      "\n",
      "If you use the ChemEnv tool for your research, please consider citing the following reference(s) :\n",
      "==================================================================================================\n",
      "David Waroquiers, Xavier Gonze, Gian-Marco Rignanese, Cathrin Welker-Nieuwoudt, Frank Rosowski,\n",
      "Michael Goebel, Stephan Schenk, Peter Degelmann, Rute Andre, Robert Glaum, and Geoffroy Hautier,\n",
      "\"Statistical analysis of coordination environments in oxides\",\n",
      "Chem. Mater., 2017, 29 (19), pp 8346-8360,\n",
      "DOI: 10.1021/acs.chemmater.7b02766\n",
      "\n",
      "2021-05-06 09:25:42,115 - modnet - INFO - Loaded <modnet.preprocessing.MODData object at 0x7f571fb624f0> object, created with modnet version <=0.1.7\n"
     ]
    }
   ],
   "source": [
    "md_joint = MODData.load('exp_pbe_joint')"
   ]
  },
  {
   "cell_type": "code",
   "execution_count": 6,
   "metadata": {
    "ExecuteTime": {
     "end_time": "2021-05-06T07:25:42.161242Z",
     "start_time": "2021-05-06T07:25:42.118732Z"
    }
   },
   "outputs": [
    {
     "data": {
      "text/html": [
       "<div>\n",
       "<style scoped>\n",
       "    .dataframe tbody tr th:only-of-type {\n",
       "        vertical-align: middle;\n",
       "    }\n",
       "\n",
       "    .dataframe tbody tr th {\n",
       "        vertical-align: top;\n",
       "    }\n",
       "\n",
       "    .dataframe thead th {\n",
       "        text-align: right;\n",
       "    }\n",
       "</style>\n",
       "<table border=\"1\" class=\"dataframe\">\n",
       "  <thead>\n",
       "    <tr style=\"text-align: right;\">\n",
       "      <th></th>\n",
       "      <th>structure</th>\n",
       "    </tr>\n",
       "    <tr>\n",
       "      <th>id</th>\n",
       "      <th></th>\n",
       "    </tr>\n",
       "  </thead>\n",
       "  <tbody>\n",
       "    <tr>\n",
       "      <th>mp-12699</th>\n",
       "      <td>[[ 0.13616363 -2.60631371  1.50340165] Ca, [-1...</td>\n",
       "    </tr>\n",
       "    <tr>\n",
       "      <th>mp-559459</th>\n",
       "      <td>[[2.14049282 6.43464803 1.76199846] Cs, [-0.70...</td>\n",
       "    </tr>\n",
       "    <tr>\n",
       "      <th>mp-21162</th>\n",
       "      <td>[[0. 0. 0.] Sr, [0.        2.5259875 2.5259875...</td>\n",
       "    </tr>\n",
       "    <tr>\n",
       "      <th>mp-1306</th>\n",
       "      <td>[[3.259129   1.88166243 1.15971025] Th, [ 3.25...</td>\n",
       "    </tr>\n",
       "    <tr>\n",
       "      <th>mp-15252</th>\n",
       "      <td>[[0.95531657 1.042239   0.86229681] Cu, [2.803...</td>\n",
       "    </tr>\n",
       "    <tr>\n",
       "      <th>...</th>\n",
       "      <td>...</td>\n",
       "    </tr>\n",
       "    <tr>\n",
       "      <th>mp-556541</th>\n",
       "      <td>[[0.         6.49363948 5.82657217] In, [ 0.  ...</td>\n",
       "    </tr>\n",
       "    <tr>\n",
       "      <th>mp-2602</th>\n",
       "      <td>[[3.023318 3.023318 3.023318] Nd, [0. 0. 0.] As]</td>\n",
       "    </tr>\n",
       "    <tr>\n",
       "      <th>mp-30366</th>\n",
       "      <td>[[4.51774558 1.37529211 4.32659015] Ca, [1.109...</td>\n",
       "    </tr>\n",
       "    <tr>\n",
       "      <th>mp-3718</th>\n",
       "      <td>[[2.0697935  0.         1.28932533] Th, [0.   ...</td>\n",
       "    </tr>\n",
       "    <tr>\n",
       "      <th>mp-3709</th>\n",
       "      <td>[[0. 0. 0.] Tb, [0.       1.983905 2.537711] C...</td>\n",
       "    </tr>\n",
       "  </tbody>\n",
       "</table>\n",
       "<p>1703 rows × 1 columns</p>\n",
       "</div>"
      ],
      "text/plain": [
       "                                                   structure\n",
       "id                                                          \n",
       "mp-12699   [[ 0.13616363 -2.60631371  1.50340165] Ca, [-1...\n",
       "mp-559459  [[2.14049282 6.43464803 1.76199846] Cs, [-0.70...\n",
       "mp-21162   [[0. 0. 0.] Sr, [0.        2.5259875 2.5259875...\n",
       "mp-1306    [[3.259129   1.88166243 1.15971025] Th, [ 3.25...\n",
       "mp-15252   [[0.95531657 1.042239   0.86229681] Cu, [2.803...\n",
       "...                                                      ...\n",
       "mp-556541  [[0.         6.49363948 5.82657217] In, [ 0.  ...\n",
       "mp-2602     [[3.023318 3.023318 3.023318] Nd, [0. 0. 0.] As]\n",
       "mp-30366   [[4.51774558 1.37529211 4.32659015] Ca, [1.109...\n",
       "mp-3718    [[2.0697935  0.         1.28932533] Th, [0.   ...\n",
       "mp-3709    [[0. 0. 0.] Tb, [0.       1.983905 2.537711] C...\n",
       "\n",
       "[1703 rows x 1 columns]"
      ]
     },
     "execution_count": 6,
     "metadata": {},
     "output_type": "execute_result"
    }
   ],
   "source": [
    "md_joint.df_structure"
   ]
  },
  {
   "cell_type": "code",
   "execution_count": 7,
   "metadata": {
    "ExecuteTime": {
     "end_time": "2021-05-06T07:25:42.403389Z",
     "start_time": "2021-05-06T07:25:42.398741Z"
    }
   },
   "outputs": [
    {
     "data": {
      "text/plain": [
       "0.429783975697596"
      ]
     },
     "execution_count": 7,
     "metadata": {},
     "output_type": "execute_result"
    }
   ],
   "source": [
    "from sklearn.metrics import mean_absolute_error\n",
    "mean_absolute_error(md_joint.df_targets['exp_gap'], md_joint.df_targets['pbe_gap'])"
   ]
  },
  {
   "cell_type": "code",
   "execution_count": 8,
   "metadata": {
    "ExecuteTime": {
     "end_time": "2021-05-06T07:25:43.747254Z",
     "start_time": "2021-05-06T07:25:43.740298Z"
    }
   },
   "outputs": [
    {
     "data": {
      "text/plain": [
       "0.5494667780829975"
      ]
     },
     "execution_count": 8,
     "metadata": {},
     "output_type": "execute_result"
    }
   ],
   "source": [
    "md_joint.df_targets['difference'].mad()"
   ]
  },
  {
   "cell_type": "code",
   "execution_count": null,
   "metadata": {},
   "outputs": [],
   "source": []
  },
  {
   "cell_type": "code",
   "execution_count": null,
   "metadata": {},
   "outputs": [],
   "source": []
  },
  {
   "cell_type": "code",
   "execution_count": 9,
   "metadata": {
    "ExecuteTime": {
     "end_time": "2021-05-06T14:51:55.007281Z",
     "start_time": "2021-05-06T07:25:45.756925Z"
    }
   },
   "outputs": [
    {
     "name": "stdout",
     "output_type": "stream",
     "text": [
      "2021-05-06 09:25:45,765 - modnet - INFO - Loaded DeBreuck2020Featurizer featurizer.\n",
      "2021-05-06 09:25:45,781 - modnet - INFO - Loaded DeBreuck2020Featurizer featurizer.\n",
      "2021-05-06 09:25:45,794 - modnet - INFO - Loaded DeBreuck2020Featurizer featurizer.\n",
      "2021-05-06 09:25:45,810 - modnet - INFO - Loaded DeBreuck2020Featurizer featurizer.\n",
      "2021-05-06 09:25:45,823 - modnet - INFO - Loaded DeBreuck2020Featurizer featurizer.\n",
      "2021-05-06 09:25:45,838 - modnet - INFO - Loaded DeBreuck2020Featurizer featurizer.\n",
      "2021-05-06 09:25:45,849 - modnet - INFO - Loaded DeBreuck2020Featurizer featurizer.\n",
      "2021-05-06 09:25:45,865 - modnet - INFO - Loaded DeBreuck2020Featurizer featurizer.\n",
      "2021-05-06 09:25:45,875 - modnet - INFO - Loaded DeBreuck2020Featurizer featurizer.\n",
      "2021-05-06 09:25:45,891 - modnet - INFO - Loaded DeBreuck2020Featurizer featurizer.\n",
      "2021-05-06 09:25:46,323 - modnet - INFO - Loaded <modnet.preprocessing.MODData object at 0x7f571a486c40> object, created with modnet version 0.1.9\n",
      "2021-05-06 09:25:49,668 - modnet - INFO - Proceeding with grid search: archs: [(64, [[128], [32], [8], [8]]), (64, [[64], [32], [8], [8]]), (64, [[32], [16], [8], [8]]), (128, [[256], [64], [16], [16]]), (128, [[128], [64], [16], [16]]), (128, [[64], [32], [16], [16]]), (256, [[512], [128], [32], [32]]), (256, [[256], [128], [32], [32]]), (256, [[128], [64], [32], [32]]), (512, [[1024], [256], [64], [64]]), (512, [[512], [256], [64], [64]]), (512, [[256], [128], [64], [64]])], batch sizes: [64], learning_rates: [0.001, 0.005, 0.01]\n",
      "2021-05-06 09:25:52,170 - modnet - INFO - Multiprocessing on 64 cores. Total of 128 cores available.\n"
     ]
    },
    {
     "name": "stderr",
     "output_type": "stream",
     "text": [
      "  0%|          | 0/360 [00:00<?, ?it/s]"
     ]
    },
    {
     "name": "stdout",
     "output_type": "stream",
     "text": [
      "2021-05-06 09:32:51,746 - modnet - INFO - Preset #4 fitting finished, loss: 0.3741348087787628\n"
     ]
    },
    {
     "name": "stderr",
     "output_type": "stream",
     "text": [
      "  0%|          | 1/360 [07:00<41:55:13, 420.37s/it]"
     ]
    },
    {
     "name": "stdout",
     "output_type": "stream",
     "text": [
      "2021-05-06 09:34:22,178 - modnet - INFO - Preset #2 fitting finished, loss: 0.3645854890346527\n"
     ]
    },
    {
     "name": "stderr",
     "output_type": "stream",
     "text": [
      "  1%|          | 2/360 [08:32<31:59:51, 321.76s/it]"
     ]
    },
    {
     "name": "stdout",
     "output_type": "stream",
     "text": [
      "2021-05-06 09:35:36,378 - modnet - INFO - Preset #10 fitting finished, loss: 0.38233176469802854\n"
     ]
    },
    {
     "name": "stderr",
     "output_type": "stream",
     "text": [
      "  1%|          | 3/360 [09:44<24:30:21, 247.12s/it]"
     ]
    },
    {
     "name": "stdout",
     "output_type": "stream",
     "text": [
      "2021-05-06 09:35:50,599 - modnet - INFO - Preset #4 fitting finished, loss: 0.2634065330028534\n"
     ]
    },
    {
     "name": "stderr",
     "output_type": "stream",
     "text": [
      "  1%|          | 4/360 [09:58<17:31:03, 177.15s/it]"
     ]
    },
    {
     "name": "stdout",
     "output_type": "stream",
     "text": [
      "2021-05-06 09:35:55,233 - modnet - INFO - Preset #11 fitting finished, loss: 0.37862253189086914\n"
     ]
    },
    {
     "name": "stderr",
     "output_type": "stream",
     "text": [
      "  1%|▏         | 5/360 [10:03<12:22:08, 125.43s/it]"
     ]
    },
    {
     "name": "stdout",
     "output_type": "stream",
     "text": [
      "2021-05-06 09:36:16,168 - modnet - INFO - Preset #5 fitting finished, loss: 0.30327563285827636\n"
     ]
    },
    {
     "name": "stderr",
     "output_type": "stream",
     "text": [
      "  2%|▏         | 6/360 [10:24<9:15:10, 94.10s/it]  "
     ]
    },
    {
     "name": "stdout",
     "output_type": "stream",
     "text": [
      "2021-05-06 09:36:16,888 - modnet - INFO - Preset #2 fitting finished, loss: 0.2618200987577438\n"
     ]
    },
    {
     "name": "stderr",
     "output_type": "stream",
     "text": [
      "  2%|▏         | 7/360 [10:25<6:28:51, 66.10s/it]"
     ]
    },
    {
     "name": "stdout",
     "output_type": "stream",
     "text": [
      "2021-05-06 09:36:17,628 - modnet - INFO - Preset #10 fitting finished, loss: 0.3086018800735474\n"
     ]
    },
    {
     "name": "stderr",
     "output_type": "stream",
     "text": [
      "  2%|▏         | 8/360 [10:26<4:32:53, 46.52s/it]"
     ]
    },
    {
     "name": "stdout",
     "output_type": "stream",
     "text": [
      "2021-05-06 09:36:24,740 - modnet - INFO - Preset #10 fitting finished, loss: 0.3691821813583374\n"
     ]
    },
    {
     "name": "stderr",
     "output_type": "stream",
     "text": [
      "  2%|▎         | 9/360 [10:33<3:22:29, 34.61s/it]"
     ]
    },
    {
     "name": "stdout",
     "output_type": "stream",
     "text": [
      "2021-05-06 09:36:30,401 - modnet - INFO - Preset #11 fitting finished, loss: 0.2546516865491867\n"
     ]
    },
    {
     "name": "stderr",
     "output_type": "stream",
     "text": [
      "  3%|▎         | 10/360 [10:38<2:31:26, 25.96s/it]"
     ]
    },
    {
     "name": "stdout",
     "output_type": "stream",
     "text": [
      "2021-05-06 09:36:31,744 - modnet - INFO - Preset #4 fitting finished, loss: 0.3102764070034027\n"
     ]
    },
    {
     "name": "stderr",
     "output_type": "stream",
     "text": [
      "  3%|▎         | 11/360 [10:40<1:47:55, 18.56s/it]"
     ]
    },
    {
     "name": "stdout",
     "output_type": "stream",
     "text": [
      "2021-05-06 09:36:32,918 - modnet - INFO - Preset #3 fitting finished, loss: 0.2728505790233612\n"
     ]
    },
    {
     "name": "stderr",
     "output_type": "stream",
     "text": [
      "  3%|▎         | 12/360 [10:41<1:17:39, 13.39s/it]"
     ]
    },
    {
     "name": "stdout",
     "output_type": "stream",
     "text": [
      "2021-05-06 09:37:03,689 - modnet - INFO - Preset #11 fitting finished, loss: 0.3074265539646149\n"
     ]
    },
    {
     "name": "stderr",
     "output_type": "stream",
     "text": [
      "  4%|▎         | 13/360 [11:12<1:47:31, 18.59s/it]"
     ]
    },
    {
     "name": "stdout",
     "output_type": "stream",
     "text": [
      "2021-05-06 09:37:11,828 - modnet - INFO - Preset #5 fitting finished, loss: 0.3054998219013214\n"
     ]
    },
    {
     "name": "stderr",
     "output_type": "stream",
     "text": [
      "  4%|▍         | 14/360 [11:20<1:28:59, 15.43s/it]"
     ]
    },
    {
     "name": "stdout",
     "output_type": "stream",
     "text": [
      "2021-05-06 09:37:15,343 - modnet - INFO - Preset #8 fitting finished, loss: 0.34330565929412843\n"
     ]
    },
    {
     "name": "stderr",
     "output_type": "stream",
     "text": [
      "  4%|▍         | 15/360 [11:23<1:08:26, 11.90s/it]"
     ]
    },
    {
     "name": "stdout",
     "output_type": "stream",
     "text": [
      "2021-05-06 09:37:19,839 - modnet - INFO - Preset #5 fitting finished, loss: 0.2697929680347443\n"
     ]
    },
    {
     "name": "stderr",
     "output_type": "stream",
     "text": [
      "  4%|▍         | 16/360 [11:28<55:12,  9.63s/it]  "
     ]
    },
    {
     "name": "stdout",
     "output_type": "stream",
     "text": [
      "2021-05-06 09:37:27,987 - modnet - INFO - Preset #11 fitting finished, loss: 0.3100785374641418\n"
     ]
    },
    {
     "name": "stderr",
     "output_type": "stream",
     "text": [
      "  5%|▍         | 17/360 [11:36<52:57,  9.26s/it]"
     ]
    },
    {
     "name": "stdout",
     "output_type": "stream",
     "text": [
      "2021-05-06 09:37:31,921 - modnet - INFO - Preset #10 fitting finished, loss: 0.2560575634241104\n"
     ]
    },
    {
     "name": "stderr",
     "output_type": "stream",
     "text": [
      "  5%|▌         | 18/360 [11:40<43:25,  7.62s/it]"
     ]
    },
    {
     "name": "stdout",
     "output_type": "stream",
     "text": [
      "2021-05-06 09:37:33,659 - modnet - INFO - Preset #3 fitting finished, loss: 0.3118884801864624\n"
     ]
    },
    {
     "name": "stderr",
     "output_type": "stream",
     "text": [
      "  5%|▌         | 19/360 [11:41<32:53,  5.79s/it]"
     ]
    },
    {
     "name": "stdout",
     "output_type": "stream",
     "text": [
      "2021-05-06 09:37:51,403 - modnet - INFO - Preset #11 fitting finished, loss: 0.34406856894493104\n"
     ]
    },
    {
     "name": "stderr",
     "output_type": "stream",
     "text": [
      "  6%|▌         | 20/360 [11:59<53:26,  9.43s/it]"
     ]
    },
    {
     "name": "stdout",
     "output_type": "stream",
     "text": [
      "2021-05-06 09:37:55,140 - modnet - INFO - Preset #8 fitting finished, loss: 0.2716171979904175\n"
     ]
    },
    {
     "name": "stderr",
     "output_type": "stream",
     "text": [
      "  6%|▌         | 21/360 [12:03<43:33,  7.71s/it]"
     ]
    },
    {
     "name": "stdout",
     "output_type": "stream",
     "text": [
      "2021-05-06 09:37:56,955 - modnet - INFO - Preset #9 fitting finished, loss: 0.26339706480503083\n"
     ]
    },
    {
     "name": "stderr",
     "output_type": "stream",
     "text": [
      "  6%|▌         | 22/360 [12:05<33:44,  5.99s/it]"
     ]
    },
    {
     "name": "stdout",
     "output_type": "stream",
     "text": [
      "2021-05-06 09:38:06,454 - modnet - INFO - Preset #9 fitting finished, loss: 0.36307218074798586\n"
     ]
    },
    {
     "name": "stderr",
     "output_type": "stream",
     "text": [
      "  6%|▋         | 23/360 [12:14<38:55,  6.93s/it]"
     ]
    },
    {
     "name": "stdout",
     "output_type": "stream",
     "text": [
      "2021-05-06 09:38:09,975 - modnet - INFO - Preset #4 fitting finished, loss: 0.33066951036453246\n"
     ]
    },
    {
     "name": "stderr",
     "output_type": "stream",
     "text": [
      "  7%|▋         | 24/360 [12:18<33:18,  5.95s/it]"
     ]
    },
    {
     "name": "stdout",
     "output_type": "stream",
     "text": [
      "2021-05-06 09:38:22,275 - modnet - INFO - Preset #8 fitting finished, loss: 0.30863778591156005\n"
     ]
    },
    {
     "name": "stderr",
     "output_type": "stream",
     "text": [
      "  7%|▋         | 25/360 [12:30<44:09,  7.91s/it]"
     ]
    },
    {
     "name": "stdout",
     "output_type": "stream",
     "text": [
      "2021-05-06 09:38:24,747 - modnet - INFO - Preset #5 fitting finished, loss: 0.3504349172115326\n"
     ]
    },
    {
     "name": "stderr",
     "output_type": "stream",
     "text": [
      "  7%|▋         | 26/360 [12:33<34:48,  6.25s/it]"
     ]
    },
    {
     "name": "stdout",
     "output_type": "stream",
     "text": [
      "2021-05-06 09:38:26,399 - modnet - INFO - Preset #10 fitting finished, loss: 0.30428058505058286\n"
     ]
    },
    {
     "name": "stderr",
     "output_type": "stream",
     "text": [
      "  8%|▊         | 27/360 [12:34<26:50,  4.84s/it]"
     ]
    },
    {
     "name": "stdout",
     "output_type": "stream",
     "text": [
      "2021-05-06 09:38:35,120 - modnet - INFO - Preset #2 fitting finished, loss: 0.30933683514595034\n"
     ]
    },
    {
     "name": "stderr",
     "output_type": "stream",
     "text": [
      "  8%|▊         | 28/360 [12:45<36:20,  6.57s/it]"
     ]
    },
    {
     "name": "stdout",
     "output_type": "stream",
     "text": [
      "2021-05-06 09:38:37,575 - modnet - INFO - Preset #3 fitting finished, loss: 0.3539529085159302\n"
     ]
    },
    {
     "name": "stderr",
     "output_type": "stream",
     "text": [
      "  8%|▊         | 29/360 [12:46<26:52,  4.87s/it]"
     ]
    },
    {
     "name": "stdout",
     "output_type": "stream",
     "text": [
      "2021-05-06 09:38:43,598 - modnet - INFO - Preset #5 fitting finished, loss: 0.3596945762634277\n"
     ]
    },
    {
     "name": "stderr",
     "output_type": "stream",
     "text": [
      "  8%|▊         | 30/360 [12:52<28:23,  5.16s/it]"
     ]
    },
    {
     "name": "stdout",
     "output_type": "stream",
     "text": [
      "2021-05-06 09:39:10,815 - modnet - INFO - Preset #8 fitting finished, loss: 0.3833748996257782\n"
     ]
    },
    {
     "name": "stderr",
     "output_type": "stream",
     "text": [
      "  9%|▊         | 31/360 [13:19<1:04:21, 11.74s/it]"
     ]
    },
    {
     "name": "stdout",
     "output_type": "stream",
     "text": [
      "2021-05-06 09:39:21,795 - modnet - INFO - Preset #3 fitting finished, loss: 0.3136176526546478\n"
     ]
    },
    {
     "name": "stderr",
     "output_type": "stream",
     "text": [
      "  9%|▉         | 32/360 [13:30<1:03:21, 11.59s/it]"
     ]
    },
    {
     "name": "stdout",
     "output_type": "stream",
     "text": [
      "2021-05-06 09:39:30,045 - modnet - INFO - Preset #8 fitting finished, loss: 0.3297686457633972\n"
     ]
    },
    {
     "name": "stderr",
     "output_type": "stream",
     "text": [
      "  9%|▉         | 33/360 [13:38<57:25, 10.54s/it]  "
     ]
    },
    {
     "name": "stdout",
     "output_type": "stream",
     "text": [
      "2021-05-06 09:39:37,746 - modnet - INFO - Preset #9 fitting finished, loss: 0.31334073543548585\n"
     ]
    },
    {
     "name": "stderr",
     "output_type": "stream",
     "text": [
      "  9%|▉         | 34/360 [13:46<52:33,  9.67s/it]"
     ]
    },
    {
     "name": "stdout",
     "output_type": "stream",
     "text": [
      "2021-05-06 09:39:43,243 - modnet - INFO - Preset #3 fitting finished, loss: 0.3498068809509277\n"
     ]
    },
    {
     "name": "stderr",
     "output_type": "stream",
     "text": [
      " 10%|▉         | 35/360 [13:51<45:25,  8.38s/it]"
     ]
    },
    {
     "name": "stdout",
     "output_type": "stream",
     "text": [
      "2021-05-06 09:39:56,101 - modnet - INFO - Preset #4 fitting finished, loss: 0.30046730637550356\n"
     ]
    },
    {
     "name": "stderr",
     "output_type": "stream",
     "text": [
      " 10%|█         | 36/360 [14:04<52:57,  9.81s/it]"
     ]
    },
    {
     "name": "stdout",
     "output_type": "stream",
     "text": [
      "2021-05-06 09:40:44,153 - modnet - INFO - Preset #2 fitting finished, loss: 0.3411033809185028\n"
     ]
    },
    {
     "name": "stderr",
     "output_type": "stream",
     "text": [
      " 10%|█         | 37/360 [14:52<1:54:26, 21.26s/it]"
     ]
    },
    {
     "name": "stdout",
     "output_type": "stream",
     "text": [
      "2021-05-06 09:40:45,949 - modnet - INFO - Preset #9 fitting finished, loss: 0.3666228115558624\n"
     ]
    },
    {
     "name": "stderr",
     "output_type": "stream",
     "text": [
      " 11%|█         | 38/360 [14:54<1:22:39, 15.40s/it]"
     ]
    },
    {
     "name": "stdout",
     "output_type": "stream",
     "text": [
      "2021-05-06 09:40:50,346 - modnet - INFO - Preset #0 fitting finished, loss: 0.3854473471641541\n"
     ]
    },
    {
     "name": "stderr",
     "output_type": "stream",
     "text": [
      " 11%|█         | 39/360 [14:58<1:04:51, 12.12s/it]"
     ]
    },
    {
     "name": "stdout",
     "output_type": "stream",
     "text": [
      "2021-05-06 09:41:06,201 - modnet - INFO - Preset #2 fitting finished, loss: 0.29538785815238955\n"
     ]
    },
    {
     "name": "stderr",
     "output_type": "stream",
     "text": [
      " 11%|█         | 40/360 [15:14<1:10:30, 13.22s/it]"
     ]
    },
    {
     "name": "stdout",
     "output_type": "stream",
     "text": [
      "2021-05-06 09:41:08,964 - modnet - INFO - Preset #0 fitting finished, loss: 0.352928501367569\n"
     ]
    },
    {
     "name": "stderr",
     "output_type": "stream",
     "text": [
      " 11%|█▏        | 41/360 [15:17<53:45, 10.11s/it]  "
     ]
    },
    {
     "name": "stdout",
     "output_type": "stream",
     "text": [
      "2021-05-06 09:41:42,318 - modnet - INFO - Preset #9 fitting finished, loss: 0.32115680575370786\n"
     ]
    },
    {
     "name": "stderr",
     "output_type": "stream",
     "text": [
      " 12%|█▏        | 42/360 [15:50<1:30:33, 17.09s/it]"
     ]
    },
    {
     "name": "stdout",
     "output_type": "stream",
     "text": [
      "2021-05-06 09:41:48,490 - modnet - INFO - Preset #1 fitting finished, loss: 0.3604151248931885\n"
     ]
    },
    {
     "name": "stderr",
     "output_type": "stream",
     "text": [
      " 12%|█▏        | 43/360 [15:56<1:12:41, 13.76s/it]"
     ]
    },
    {
     "name": "stdout",
     "output_type": "stream",
     "text": [
      "2021-05-06 09:41:49,527 - modnet - INFO - Preset #7 fitting finished, loss: 0.37580264210700987\n"
     ]
    },
    {
     "name": "stderr",
     "output_type": "stream",
     "text": [
      " 12%|█▏        | 44/360 [15:57<52:22,  9.94s/it]  "
     ]
    },
    {
     "name": "stdout",
     "output_type": "stream",
     "text": [
      "2021-05-06 09:41:53,514 - modnet - INFO - Preset #12 fitting finished, loss: 0.3389666736125946\n"
     ]
    },
    {
     "name": "stderr",
     "output_type": "stream",
     "text": [
      " 12%|█▎        | 45/360 [16:02<43:05,  8.21s/it]"
     ]
    },
    {
     "name": "stdout",
     "output_type": "stream",
     "text": [
      "2021-05-06 09:42:34,476 - modnet - INFO - Preset #1 fitting finished, loss: 0.34590328931808473\n"
     ]
    },
    {
     "name": "stderr",
     "output_type": "stream",
     "text": [
      " 13%|█▎        | 46/360 [16:42<1:34:01, 17.97s/it]"
     ]
    },
    {
     "name": "stdout",
     "output_type": "stream",
     "text": [
      "2021-05-06 09:42:38,611 - modnet - INFO - Preset #6 fitting finished, loss: 0.4011578321456909\n"
     ]
    },
    {
     "name": "stderr",
     "output_type": "stream",
     "text": [
      " 13%|█▎        | 47/360 [16:47<1:12:18, 13.86s/it]"
     ]
    },
    {
     "name": "stdout",
     "output_type": "stream",
     "text": [
      "2021-05-06 09:42:58,424 - modnet - INFO - Preset #1 fitting finished, loss: 0.36793156862258913\n"
     ]
    },
    {
     "name": "stderr",
     "output_type": "stream",
     "text": [
      " 13%|█▎        | 48/360 [17:06<1:21:11, 15.61s/it]"
     ]
    },
    {
     "name": "stdout",
     "output_type": "stream",
     "text": [
      "2021-05-06 09:43:17,858 - modnet - INFO - Preset #6 fitting finished, loss: 0.2925886929035187\n"
     ]
    },
    {
     "name": "stderr",
     "output_type": "stream",
     "text": [
      " 14%|█▎        | 49/360 [17:26<1:27:07, 16.81s/it]"
     ]
    },
    {
     "name": "stdout",
     "output_type": "stream",
     "text": [
      "2021-05-06 09:43:36,721 - modnet - INFO - Preset #1 fitting finished, loss: 0.38895769119262696\n"
     ]
    },
    {
     "name": "stderr",
     "output_type": "stream",
     "text": [
      " 14%|█▍        | 50/360 [17:45<1:29:58, 17.42s/it]"
     ]
    },
    {
     "name": "stdout",
     "output_type": "stream",
     "text": [
      "2021-05-06 09:43:45,234 - modnet - INFO - Preset #1 fitting finished, loss: 0.2837557554244995\n"
     ]
    },
    {
     "name": "stderr",
     "output_type": "stream",
     "text": [
      " 14%|█▍        | 51/360 [17:53<1:16:07, 14.78s/it]"
     ]
    },
    {
     "name": "stdout",
     "output_type": "stream",
     "text": [
      "2021-05-06 09:44:21,667 - modnet - INFO - Preset #7 fitting finished, loss: 0.4102607131004333\n"
     ]
    },
    {
     "name": "stderr",
     "output_type": "stream",
     "text": [
      " 14%|█▍        | 52/360 [18:30<1:49:08, 21.26s/it]"
     ]
    },
    {
     "name": "stdout",
     "output_type": "stream",
     "text": [
      "2021-05-06 09:44:26,618 - modnet - INFO - Preset #12 fitting finished, loss: 0.37700062394142153\n"
     ]
    },
    {
     "name": "stderr",
     "output_type": "stream",
     "text": [
      " 15%|█▍        | 53/360 [18:35<1:23:40, 16.35s/it]"
     ]
    },
    {
     "name": "stdout",
     "output_type": "stream",
     "text": [
      "2021-05-06 09:44:58,247 - modnet - INFO - Preset #7 fitting finished, loss: 0.2972669005393982\n"
     ]
    },
    {
     "name": "stderr",
     "output_type": "stream",
     "text": [
      " 15%|█▌        | 54/360 [19:06<1:46:44, 20.93s/it]"
     ]
    },
    {
     "name": "stdout",
     "output_type": "stream",
     "text": [
      "2021-05-06 09:45:00,971 - modnet - INFO - Preset #0 fitting finished, loss: 0.36651424765586854\n"
     ]
    },
    {
     "name": "stderr",
     "output_type": "stream",
     "text": [
      " 15%|█▌        | 55/360 [19:09<1:18:32, 15.45s/it]"
     ]
    },
    {
     "name": "stdout",
     "output_type": "stream",
     "text": [
      "2021-05-06 09:45:19,185 - modnet - INFO - Preset #22 fitting finished, loss: 0.3931159734725952\n"
     ]
    },
    {
     "name": "stderr",
     "output_type": "stream",
     "text": [
      " 16%|█▌        | 56/360 [19:27<1:22:22, 16.26s/it]"
     ]
    },
    {
     "name": "stdout",
     "output_type": "stream",
     "text": [
      "2021-05-06 09:45:21,363 - modnet - INFO - Preset #0 fitting finished, loss: 0.2945601880550385\n"
     ]
    },
    {
     "name": "stderr",
     "output_type": "stream",
     "text": [
      " 16%|█▌        | 57/360 [19:29<1:00:57, 12.07s/it]"
     ]
    },
    {
     "name": "stdout",
     "output_type": "stream",
     "text": [
      "2021-05-06 09:45:26,182 - modnet - INFO - Preset #6 fitting finished, loss: 0.3508663237094879\n"
     ]
    },
    {
     "name": "stderr",
     "output_type": "stream",
     "text": [
      " 16%|█▌        | 58/360 [19:34<49:54,  9.92s/it]  "
     ]
    },
    {
     "name": "stdout",
     "output_type": "stream",
     "text": [
      "2021-05-06 09:45:48,961 - modnet - INFO - Preset #6 fitting finished, loss: 0.3617073237895966\n"
     ]
    },
    {
     "name": "stderr",
     "output_type": "stream",
     "text": [
      " 16%|█▋        | 59/360 [19:59<1:12:18, 14.41s/it]"
     ]
    },
    {
     "name": "stdout",
     "output_type": "stream",
     "text": [
      "2021-05-06 09:45:52,124 - modnet - INFO - Preset #7 fitting finished, loss: 0.3345815598964691\n"
     ]
    },
    {
     "name": "stderr",
     "output_type": "stream",
     "text": [
      " 17%|█▋        | 60/360 [20:00<52:02, 10.41s/it]  "
     ]
    },
    {
     "name": "stdout",
     "output_type": "stream",
     "text": [
      "2021-05-06 09:45:58,547 - modnet - INFO - Preset #6 fitting finished, loss: 0.3791156649589539\n"
     ]
    },
    {
     "name": "stderr",
     "output_type": "stream",
     "text": [
      " 17%|█▋        | 61/360 [20:06<45:44,  9.18s/it]"
     ]
    },
    {
     "name": "stdout",
     "output_type": "stream",
     "text": [
      "2021-05-06 09:46:09,902 - modnet - INFO - Preset #15 fitting finished, loss: 0.36752042174339294\n"
     ]
    },
    {
     "name": "stderr",
     "output_type": "stream",
     "text": [
      " 17%|█▋        | 62/360 [20:18<48:47,  9.83s/it]"
     ]
    },
    {
     "name": "stdout",
     "output_type": "stream",
     "text": [
      "2021-05-06 09:46:18,986 - modnet - INFO - Preset #16 fitting finished, loss: 0.2562343209981918\n"
     ]
    },
    {
     "name": "stderr",
     "output_type": "stream",
     "text": [
      " 18%|█▊        | 63/360 [20:27<47:38,  9.62s/it]"
     ]
    },
    {
     "name": "stdout",
     "output_type": "stream",
     "text": [
      "2021-05-06 09:46:25,916 - modnet - INFO - Preset #0 fitting finished, loss: 0.3310788869857788\n"
     ]
    },
    {
     "name": "stderr",
     "output_type": "stream",
     "text": [
      " 18%|█▊        | 64/360 [20:34<43:27,  8.81s/it]"
     ]
    },
    {
     "name": "stdout",
     "output_type": "stream",
     "text": [
      "2021-05-06 09:46:28,268 - modnet - INFO - Preset #7 fitting finished, loss: 0.3481774091720581\n"
     ]
    },
    {
     "name": "stderr",
     "output_type": "stream",
     "text": [
      " 18%|█▊        | 65/360 [20:36<33:44,  6.86s/it]"
     ]
    },
    {
     "name": "stdout",
     "output_type": "stream",
     "text": [
      "2021-05-06 09:46:30,642 - modnet - INFO - Preset #12 fitting finished, loss: 0.4061377584934235\n"
     ]
    },
    {
     "name": "stderr",
     "output_type": "stream",
     "text": [
      " 18%|█▊        | 66/360 [20:39<27:06,  5.53s/it]"
     ]
    },
    {
     "name": "stdout",
     "output_type": "stream",
     "text": [
      "2021-05-06 09:46:41,861 - modnet - INFO - Preset #16 fitting finished, loss: 0.3494796812534332\n"
     ]
    },
    {
     "name": "stderr",
     "output_type": "stream",
     "text": [
      " 19%|█▊        | 67/360 [20:50<35:22,  7.24s/it]"
     ]
    },
    {
     "name": "stdout",
     "output_type": "stream",
     "text": [
      "2021-05-06 09:46:42,602 - modnet - INFO - Preset #14 fitting finished, loss: 0.3687304139137268\n"
     ]
    },
    {
     "name": "stderr",
     "output_type": "stream",
     "text": [
      " 19%|█▉        | 68/360 [20:51<25:45,  5.29s/it]"
     ]
    },
    {
     "name": "stdout",
     "output_type": "stream",
     "text": [
      "2021-05-06 09:46:54,137 - modnet - INFO - Preset #12 fitting finished, loss: 0.3433944582939148\n"
     ]
    },
    {
     "name": "stderr",
     "output_type": "stream",
     "text": [
      " 19%|█▉        | 69/360 [21:02<34:52,  7.19s/it]"
     ]
    },
    {
     "name": "stdout",
     "output_type": "stream",
     "text": [
      "2021-05-06 09:47:10,931 - modnet - INFO - Preset #13 fitting finished, loss: 0.400392484664917\n"
     ]
    },
    {
     "name": "stderr",
     "output_type": "stream",
     "text": [
      " 19%|█▉        | 70/360 [21:19<48:20, 10.00s/it]"
     ]
    },
    {
     "name": "stdout",
     "output_type": "stream",
     "text": [
      "2021-05-06 09:47:11,622 - modnet - INFO - Preset #16 fitting finished, loss: 0.3260227680206299\n"
     ]
    },
    {
     "name": "stderr",
     "output_type": "stream",
     "text": [
      " 20%|█▉        | 71/360 [21:20<35:03,  7.28s/it]"
     ]
    },
    {
     "name": "stdout",
     "output_type": "stream",
     "text": [
      "2021-05-06 09:47:20,930 - modnet - INFO - Preset #17 fitting finished, loss: 0.30982506275177\n"
     ]
    },
    {
     "name": "stderr",
     "output_type": "stream",
     "text": [
      " 20%|██        | 72/360 [21:29<37:32,  7.82s/it]"
     ]
    },
    {
     "name": "stdout",
     "output_type": "stream",
     "text": [
      "2021-05-06 09:47:24,547 - modnet - INFO - Preset #16 fitting finished, loss: 0.36124839782714846\n"
     ]
    },
    {
     "name": "stderr",
     "output_type": "stream",
     "text": [
      " 20%|██        | 73/360 [21:33<31:41,  6.63s/it]"
     ]
    },
    {
     "name": "stdout",
     "output_type": "stream",
     "text": [
      "2021-05-06 09:48:03,228 - modnet - INFO - Preset #21 fitting finished, loss: 0.3579110860824585\n"
     ]
    },
    {
     "name": "stderr",
     "output_type": "stream",
     "text": [
      " 21%|██        | 74/360 [22:11<1:17:13, 16.20s/it]"
     ]
    },
    {
     "name": "stdout",
     "output_type": "stream",
     "text": [
      "2021-05-06 09:48:09,176 - modnet - INFO - Preset #17 fitting finished, loss: 0.37668703198432923\n"
     ]
    },
    {
     "name": "stderr",
     "output_type": "stream",
     "text": [
      " 21%|██        | 75/360 [22:17<1:02:32, 13.17s/it]"
     ]
    },
    {
     "name": "stdout",
     "output_type": "stream",
     "text": [
      "2021-05-06 09:48:16,399 - modnet - INFO - Preset #18 fitting finished, loss: 0.37142970561981203\n"
     ]
    },
    {
     "name": "stderr",
     "output_type": "stream",
     "text": [
      " 21%|██        | 76/360 [22:24<53:34, 11.32s/it]  "
     ]
    },
    {
     "name": "stdout",
     "output_type": "stream",
     "text": [
      "2021-05-06 09:48:38,771 - modnet - INFO - Preset #22 fitting finished, loss: 0.2955443263053894\n"
     ]
    },
    {
     "name": "stderr",
     "output_type": "stream",
     "text": [
      " 21%|██▏       | 77/360 [22:47<1:09:02, 14.64s/it]"
     ]
    },
    {
     "name": "stdout",
     "output_type": "stream",
     "text": [
      "2021-05-06 09:48:49,224 - modnet - INFO - Preset #23 fitting finished, loss: 0.3870369553565979\n"
     ]
    },
    {
     "name": "stderr",
     "output_type": "stream",
     "text": [
      " 22%|██▏       | 78/360 [22:57<1:03:00, 13.41s/it]"
     ]
    },
    {
     "name": "stdout",
     "output_type": "stream",
     "text": [
      "2021-05-06 09:48:55,360 - modnet - INFO - Preset #15 fitting finished, loss: 0.31265769600868226\n"
     ]
    },
    {
     "name": "stderr",
     "output_type": "stream",
     "text": [
      " 22%|██▏       | 79/360 [23:03<52:34, 11.23s/it]  "
     ]
    },
    {
     "name": "stdout",
     "output_type": "stream",
     "text": [
      "2021-05-06 09:49:04,016 - modnet - INFO - Preset #15 fitting finished, loss: 0.2757409453392029\n"
     ]
    },
    {
     "name": "stderr",
     "output_type": "stream",
     "text": [
      " 22%|██▏       | 80/360 [23:12<48:37, 10.42s/it]"
     ]
    },
    {
     "name": "stdout",
     "output_type": "stream",
     "text": [
      "2021-05-06 09:49:13,315 - modnet - INFO - Preset #14 fitting finished, loss: 0.2712287962436676\n"
     ]
    },
    {
     "name": "stderr",
     "output_type": "stream",
     "text": [
      " 22%|██▎       | 81/360 [23:21<46:51, 10.08s/it]"
     ]
    },
    {
     "name": "stdout",
     "output_type": "stream",
     "text": [
      "2021-05-06 09:49:24,826 - modnet - INFO - Preset #17 fitting finished, loss: 0.3499153971672058\n"
     ]
    },
    {
     "name": "stderr",
     "output_type": "stream",
     "text": [
      " 23%|██▎       | 82/360 [23:33<48:58, 10.57s/it]"
     ]
    },
    {
     "name": "stdout",
     "output_type": "stream",
     "text": [
      "2021-05-06 09:49:25,602 - modnet - INFO - Preset #19 fitting finished, loss: 0.3616385817527771\n"
     ]
    },
    {
     "name": "stderr",
     "output_type": "stream",
     "text": [
      " 23%|██▎       | 83/360 [23:34<35:10,  7.62s/it]"
     ]
    },
    {
     "name": "stdout",
     "output_type": "stream",
     "text": [
      "2021-05-06 09:49:26,329 - modnet - INFO - Preset #13 fitting finished, loss: 0.3545450747013092\n"
     ]
    },
    {
     "name": "stderr",
     "output_type": "stream",
     "text": [
      " 23%|██▎       | 84/360 [23:34<25:37,  5.57s/it]"
     ]
    },
    {
     "name": "stdout",
     "output_type": "stream",
     "text": [
      "2021-05-06 09:49:37,828 - modnet - INFO - Preset #20 fitting finished, loss: 0.371565455198288\n"
     ]
    },
    {
     "name": "stderr",
     "output_type": "stream",
     "text": [
      " 24%|██▎       | 85/360 [23:46<33:21,  7.28s/it]"
     ]
    },
    {
     "name": "stdout",
     "output_type": "stream",
     "text": [
      "2021-05-06 09:49:48,684 - modnet - INFO - Preset #15 fitting finished, loss: 0.33951267004013064\n"
     ]
    },
    {
     "name": "stderr",
     "output_type": "stream",
     "text": [
      " 24%|██▍       | 86/360 [23:57<38:14,  8.37s/it]"
     ]
    },
    {
     "name": "stdout",
     "output_type": "stream",
     "text": [
      "2021-05-06 09:49:49,314 - modnet - INFO - Preset #21 fitting finished, loss: 0.30253974795341493\n"
     ]
    },
    {
     "name": "stderr",
     "output_type": "stream",
     "text": [
      " 24%|██▍       | 87/360 [23:57<27:39,  6.08s/it]"
     ]
    },
    {
     "name": "stdout",
     "output_type": "stream",
     "text": [
      "2021-05-06 09:49:58,742 - modnet - INFO - Preset #14 fitting finished, loss: 0.31980308294296267\n"
     ]
    },
    {
     "name": "stderr",
     "output_type": "stream",
     "text": [
      " 24%|██▍       | 88/360 [24:07<32:03,  7.07s/it]"
     ]
    },
    {
     "name": "stdout",
     "output_type": "stream",
     "text": [
      "2021-05-06 09:50:10,996 - modnet - INFO - Preset #19 fitting finished, loss: 0.3193459451198578\n"
     ]
    },
    {
     "name": "stderr",
     "output_type": "stream",
     "text": [
      " 25%|██▍       | 89/360 [24:19<38:59,  8.63s/it]"
     ]
    },
    {
     "name": "stdout",
     "output_type": "stream",
     "text": [
      "2021-05-06 09:50:14,022 - modnet - INFO - Preset #14 fitting finished, loss: 0.32205376625061033\n"
     ]
    },
    {
     "name": "stderr",
     "output_type": "stream",
     "text": [
      " 25%|██▌       | 90/360 [24:22<31:12,  6.93s/it]"
     ]
    },
    {
     "name": "stdout",
     "output_type": "stream",
     "text": [
      "2021-05-06 09:50:17,757 - modnet - INFO - Preset #20 fitting finished, loss: 0.39124733209609985\n"
     ]
    },
    {
     "name": "stderr",
     "output_type": "stream",
     "text": [
      " 25%|██▌       | 91/360 [24:26<26:40,  5.95s/it]"
     ]
    },
    {
     "name": "stdout",
     "output_type": "stream",
     "text": [
      "2021-05-06 09:50:19,763 - modnet - INFO - Preset #22 fitting finished, loss: 0.380459326505661\n"
     ]
    },
    {
     "name": "stderr",
     "output_type": "stream",
     "text": [
      " 26%|██▌       | 92/360 [24:28<21:21,  4.78s/it]"
     ]
    },
    {
     "name": "stdout",
     "output_type": "stream",
     "text": [
      "2021-05-06 09:50:31,038 - modnet - INFO - Preset #19 fitting finished, loss: 0.3621837913990021\n"
     ]
    },
    {
     "name": "stderr",
     "output_type": "stream",
     "text": [
      " 26%|██▌       | 93/360 [24:41<32:58,  7.41s/it]"
     ]
    },
    {
     "name": "stdout",
     "output_type": "stream",
     "text": [
      "2021-05-06 09:50:36,123 - modnet - INFO - Preset #15 fitting finished, loss: 0.3219314098358154\n"
     ]
    },
    {
     "name": "stderr",
     "output_type": "stream",
     "text": [
      " 26%|██▌       | 94/360 [24:44<26:43,  6.03s/it]"
     ]
    },
    {
     "name": "stdout",
     "output_type": "stream",
     "text": [
      "2021-05-06 09:50:37,060 - modnet - INFO - Preset #16 fitting finished, loss: 0.3169167399406433\n"
     ]
    },
    {
     "name": "stderr",
     "output_type": "stream",
     "text": [
      " 26%|██▋       | 95/360 [24:45<20:13,  4.58s/it]"
     ]
    },
    {
     "name": "stdout",
     "output_type": "stream",
     "text": [
      "2021-05-06 09:50:53,624 - modnet - INFO - Preset #20 fitting finished, loss: 0.3172984063625336\n"
     ]
    },
    {
     "name": "stderr",
     "output_type": "stream",
     "text": [
      " 27%|██▋       | 96/360 [25:02<35:59,  8.18s/it]"
     ]
    },
    {
     "name": "stdout",
     "output_type": "stream",
     "text": [
      "2021-05-06 09:51:17,863 - modnet - INFO - Preset #14 fitting finished, loss: 0.34924420714378357\n"
     ]
    },
    {
     "name": "stderr",
     "output_type": "stream",
     "text": [
      " 27%|██▋       | 97/360 [25:26<56:52, 12.98s/it]"
     ]
    },
    {
     "name": "stdout",
     "output_type": "stream",
     "text": [
      "2021-05-06 09:51:18,684 - modnet - INFO - Preset #23 fitting finished, loss: 0.42537550926208495\n"
     ]
    },
    {
     "name": "stderr",
     "output_type": "stream",
     "text": [
      " 27%|██▋       | 98/360 [25:27<40:46,  9.34s/it]"
     ]
    },
    {
     "name": "stdout",
     "output_type": "stream",
     "text": [
      "2021-05-06 09:51:19,521 - modnet - INFO - Preset #20 fitting finished, loss: 0.25331985056400297\n"
     ]
    },
    {
     "name": "stderr",
     "output_type": "stream",
     "text": [
      " 28%|██▊       | 99/360 [25:28<29:29,  6.78s/it]"
     ]
    },
    {
     "name": "stdout",
     "output_type": "stream",
     "text": [
      "2021-05-06 09:51:27,518 - modnet - INFO - Preset #18 fitting finished, loss: 0.35070264935493467\n"
     ]
    },
    {
     "name": "stderr",
     "output_type": "stream",
     "text": [
      " 28%|██▊       | 100/360 [25:35<30:31,  7.04s/it]"
     ]
    },
    {
     "name": "stdout",
     "output_type": "stream",
     "text": [
      "2021-05-06 09:51:45,521 - modnet - INFO - Preset #12 fitting finished, loss: 0.30157153606414794\n"
     ]
    },
    {
     "name": "stderr",
     "output_type": "stream",
     "text": [
      " 28%|██▊       | 101/360 [25:53<44:52, 10.39s/it]"
     ]
    },
    {
     "name": "stdout",
     "output_type": "stream",
     "text": [
      "2021-05-06 09:51:53,494 - modnet - INFO - Preset #18 fitting finished, loss: 0.3107140600681305\n"
     ]
    },
    {
     "name": "stderr",
     "output_type": "stream",
     "text": [
      " 28%|██▊       | 102/360 [26:02<41:45,  9.71s/it]"
     ]
    },
    {
     "name": "stdout",
     "output_type": "stream",
     "text": [
      "2021-05-06 09:51:56,947 - modnet - INFO - Preset #21 fitting finished, loss: 0.3063434183597565\n"
     ]
    },
    {
     "name": "stderr",
     "output_type": "stream",
     "text": [
      " 29%|██▊       | 103/360 [26:05<33:35,  7.84s/it]"
     ]
    },
    {
     "name": "stdout",
     "output_type": "stream",
     "text": [
      "2021-05-06 09:52:06,968 - modnet - INFO - Preset #13 fitting finished, loss: 0.31712164282798766\n"
     ]
    },
    {
     "name": "stderr",
     "output_type": "stream",
     "text": [
      " 29%|██▉       | 104/360 [26:15<36:13,  8.49s/it]"
     ]
    },
    {
     "name": "stdout",
     "output_type": "stream",
     "text": [
      "2021-05-06 09:52:07,819 - modnet - INFO - Preset #17 fitting finished, loss: 0.26469343304634096\n"
     ]
    },
    {
     "name": "stderr",
     "output_type": "stream",
     "text": [
      " 29%|██▉       | 105/360 [26:16<26:06,  6.14s/it]"
     ]
    },
    {
     "name": "stdout",
     "output_type": "stream",
     "text": [
      "2021-05-06 09:52:12,195 - modnet - INFO - Preset #18 fitting finished, loss: 0.3053583145141602\n"
     ]
    },
    {
     "name": "stderr",
     "output_type": "stream",
     "text": [
      " 29%|██▉       | 106/360 [26:20<24:01,  5.68s/it]"
     ]
    },
    {
     "name": "stdout",
     "output_type": "stream",
     "text": [
      "2021-05-06 09:52:33,155 - modnet - INFO - Preset #13 fitting finished, loss: 0.33416432738304136\n"
     ]
    },
    {
     "name": "stderr",
     "output_type": "stream",
     "text": [
      " 30%|██▉       | 107/360 [26:41<43:06, 10.23s/it]"
     ]
    },
    {
     "name": "stdout",
     "output_type": "stream",
     "text": [
      "2021-05-06 09:52:40,868 - modnet - INFO - Preset #21 fitting finished, loss: 0.3783804774284363\n"
     ]
    },
    {
     "name": "stderr",
     "output_type": "stream",
     "text": [
      " 30%|███       | 108/360 [26:49<39:42,  9.45s/it]"
     ]
    },
    {
     "name": "stdout",
     "output_type": "stream",
     "text": [
      "2021-05-06 09:52:56,349 - modnet - INFO - Preset #17 fitting finished, loss: 0.3259967088699341\n"
     ]
    },
    {
     "name": "stderr",
     "output_type": "stream",
     "text": [
      " 30%|███       | 109/360 [27:04<46:52, 11.20s/it]"
     ]
    },
    {
     "name": "stdout",
     "output_type": "stream",
     "text": [
      "2021-05-06 09:53:37,011 - modnet - INFO - Preset #26 fitting finished, loss: 0.3848692953586578\n"
     ]
    },
    {
     "name": "stderr",
     "output_type": "stream",
     "text": [
      " 31%|███       | 110/360 [27:45<1:23:43, 20.09s/it]"
     ]
    },
    {
     "name": "stdout",
     "output_type": "stream",
     "text": [
      "2021-05-06 09:53:45,442 - modnet - INFO - Preset #20 fitting finished, loss: 0.3063523888587952\n"
     ]
    },
    {
     "name": "stderr",
     "output_type": "stream",
     "text": [
      " 31%|███       | 111/360 [27:53<1:08:55, 16.61s/it]"
     ]
    },
    {
     "name": "stdout",
     "output_type": "stream",
     "text": [
      "2021-05-06 09:53:58,710 - modnet - INFO - Preset #21 fitting finished, loss: 0.24769223630428314\n"
     ]
    },
    {
     "name": "stderr",
     "output_type": "stream",
     "text": [
      " 31%|███       | 112/360 [28:07<1:04:38, 15.64s/it]"
     ]
    },
    {
     "name": "stdout",
     "output_type": "stream",
     "text": [
      "2021-05-06 09:54:05,595 - modnet - INFO - Preset #23 fitting finished, loss: 0.2847995400428772\n"
     ]
    },
    {
     "name": "stderr",
     "output_type": "stream",
     "text": [
      " 31%|███▏      | 113/360 [28:13<53:19, 12.95s/it]  "
     ]
    },
    {
     "name": "stdout",
     "output_type": "stream",
     "text": [
      "2021-05-06 09:54:18,248 - modnet - INFO - Preset #19 fitting finished, loss: 0.2612399756908417\n"
     ]
    },
    {
     "name": "stderr",
     "output_type": "stream",
     "text": [
      " 32%|███▏      | 114/360 [28:26<52:43, 12.86s/it]"
     ]
    },
    {
     "name": "stdout",
     "output_type": "stream",
     "text": [
      "2021-05-06 09:54:20,540 - modnet - INFO - Preset #19 fitting finished, loss: 0.31398736238479613\n"
     ]
    },
    {
     "name": "stderr",
     "output_type": "stream",
     "text": [
      " 32%|███▏      | 115/360 [28:28<39:34,  9.69s/it]"
     ]
    },
    {
     "name": "stdout",
     "output_type": "stream",
     "text": [
      "2021-05-06 09:54:27,530 - modnet - INFO - Preset #23 fitting finished, loss: 0.3308681547641754\n"
     ]
    },
    {
     "name": "stderr",
     "output_type": "stream",
     "text": [
      " 32%|███▏      | 116/360 [28:35<36:05,  8.87s/it]"
     ]
    },
    {
     "name": "stdout",
     "output_type": "stream",
     "text": [
      "2021-05-06 09:54:28,188 - modnet - INFO - Preset #29 fitting finished, loss: 0.40669949650764464\n"
     ]
    },
    {
     "name": "stderr",
     "output_type": "stream",
     "text": [
      " 32%|███▎      | 117/360 [28:36<26:08,  6.45s/it]"
     ]
    },
    {
     "name": "stdout",
     "output_type": "stream",
     "text": [
      "2021-05-06 09:54:35,661 - modnet - INFO - Preset #25 fitting finished, loss: 0.35999688506126404\n"
     ]
    },
    {
     "name": "stderr",
     "output_type": "stream",
     "text": [
      " 33%|███▎      | 118/360 [28:44<27:14,  6.75s/it]"
     ]
    },
    {
     "name": "stdout",
     "output_type": "stream",
     "text": [
      "2021-05-06 09:54:39,722 - modnet - INFO - Preset #13 fitting finished, loss: 0.3736482083797455\n"
     ]
    },
    {
     "name": "stderr",
     "output_type": "stream",
     "text": [
      " 33%|███▎      | 119/360 [28:48<23:44,  5.91s/it]"
     ]
    },
    {
     "name": "stdout",
     "output_type": "stream",
     "text": [
      "2021-05-06 09:55:35,443 - modnet - INFO - Preset #28 fitting finished, loss: 0.30425317883491515\n"
     ]
    },
    {
     "name": "stderr",
     "output_type": "stream",
     "text": [
      " 33%|███▎      | 120/360 [29:44<1:23:44, 20.93s/it]"
     ]
    },
    {
     "name": "stdout",
     "output_type": "stream",
     "text": [
      "2021-05-06 09:55:50,331 - modnet - INFO - Preset #27 fitting finished, loss: 0.3624196469783783\n"
     ]
    },
    {
     "name": "stderr",
     "output_type": "stream",
     "text": [
      " 34%|███▎      | 121/360 [29:58<1:16:01, 19.09s/it]"
     ]
    },
    {
     "name": "stdout",
     "output_type": "stream",
     "text": [
      "2021-05-06 09:55:54,691 - modnet - INFO - Preset #27 fitting finished, loss: 0.34805243015289306\n"
     ]
    },
    {
     "name": "stderr",
     "output_type": "stream",
     "text": [
      " 34%|███▍      | 122/360 [30:03<57:58, 14.62s/it]  "
     ]
    },
    {
     "name": "stdout",
     "output_type": "stream",
     "text": [
      "2021-05-06 09:55:59,255 - modnet - INFO - Preset #28 fitting finished, loss: 0.40474382042884827\n"
     ]
    },
    {
     "name": "stderr",
     "output_type": "stream",
     "text": [
      " 34%|███▍      | 123/360 [30:07<45:47, 11.59s/it]"
     ]
    },
    {
     "name": "stdout",
     "output_type": "stream",
     "text": [
      "2021-05-06 09:56:03,649 - modnet - INFO - Preset #26 fitting finished, loss: 0.2600108593702316\n"
     ]
    },
    {
     "name": "stderr",
     "output_type": "stream",
     "text": [
      " 34%|███▍      | 124/360 [30:12<37:15,  9.47s/it]"
     ]
    },
    {
     "name": "stdout",
     "output_type": "stream",
     "text": [
      "2021-05-06 09:56:04,352 - modnet - INFO - Preset #18 fitting finished, loss: 0.2621621251106262\n"
     ]
    },
    {
     "name": "stderr",
     "output_type": "stream",
     "text": [
      " 35%|███▍      | 125/360 [30:12<26:59,  6.89s/it]"
     ]
    },
    {
     "name": "stdout",
     "output_type": "stream",
     "text": [
      "2021-05-06 09:56:14,319 - modnet - INFO - Preset #26 fitting finished, loss: 0.33985862135887146\n"
     ]
    },
    {
     "name": "stderr",
     "output_type": "stream",
     "text": [
      " 35%|███▌      | 126/360 [30:22<30:12,  7.75s/it]"
     ]
    },
    {
     "name": "stdout",
     "output_type": "stream",
     "text": [
      "2021-05-06 09:56:25,909 - modnet - INFO - Preset #29 fitting finished, loss: 0.3711111009120941\n"
     ]
    },
    {
     "name": "stderr",
     "output_type": "stream",
     "text": [
      " 35%|███▌      | 127/360 [30:34<34:36,  8.91s/it]"
     ]
    },
    {
     "name": "stdout",
     "output_type": "stream",
     "text": [
      "2021-05-06 09:56:42,823 - modnet - INFO - Preset #26 fitting finished, loss: 0.30152263641357424\n"
     ]
    },
    {
     "name": "stderr",
     "output_type": "stream",
     "text": [
      " 36%|███▌      | 128/360 [30:51<43:59, 11.38s/it]"
     ]
    },
    {
     "name": "stdout",
     "output_type": "stream",
     "text": [
      "2021-05-06 09:56:59,157 - modnet - INFO - Preset #26 fitting finished, loss: 0.30375272035598755\n"
     ]
    },
    {
     "name": "stderr",
     "output_type": "stream",
     "text": [
      " 36%|███▌      | 129/360 [31:07<49:27, 12.85s/it]"
     ]
    },
    {
     "name": "stdout",
     "output_type": "stream",
     "text": [
      "2021-05-06 09:57:00,581 - modnet - INFO - Preset #23 fitting finished, loss: 0.30562986731529235\n"
     ]
    },
    {
     "name": "stderr",
     "output_type": "stream",
     "text": [
      " 36%|███▌      | 130/360 [31:09<36:17,  9.47s/it]"
     ]
    },
    {
     "name": "stdout",
     "output_type": "stream",
     "text": [
      "2021-05-06 09:57:08,819 - modnet - INFO - Preset #22 fitting finished, loss: 0.33821424245834353\n"
     ]
    },
    {
     "name": "stderr",
     "output_type": "stream",
     "text": [
      " 36%|███▋      | 131/360 [31:17<34:18,  8.99s/it]"
     ]
    },
    {
     "name": "stdout",
     "output_type": "stream",
     "text": [
      "2021-05-06 09:57:13,580 - modnet - INFO - Preset #28 fitting finished, loss: 0.25528148114681243\n"
     ]
    },
    {
     "name": "stderr",
     "output_type": "stream",
     "text": [
      " 37%|███▋      | 132/360 [31:24<31:59,  8.42s/it]"
     ]
    },
    {
     "name": "stdout",
     "output_type": "stream",
     "text": [
      "2021-05-06 09:57:16,526 - modnet - INFO - Preset #28 fitting finished, loss: 0.38424003720283506\n"
     ]
    },
    {
     "name": "stderr",
     "output_type": "stream",
     "text": [
      " 37%|███▋      | 133/360 [31:25<23:12,  6.13s/it]"
     ]
    },
    {
     "name": "stdout",
     "output_type": "stream",
     "text": [
      "2021-05-06 09:57:21,024 - modnet - INFO - Preset #27 fitting finished, loss: 0.29621036648750304\n"
     ]
    },
    {
     "name": "stderr",
     "output_type": "stream",
     "text": [
      " 37%|███▋      | 134/360 [31:29<20:50,  5.53s/it]"
     ]
    },
    {
     "name": "stdout",
     "output_type": "stream",
     "text": [
      "2021-05-06 09:57:54,629 - modnet - INFO - Preset #22 fitting finished, loss: 0.27263829708099363\n"
     ]
    },
    {
     "name": "stderr",
     "output_type": "stream",
     "text": [
      " 38%|███▊      | 135/360 [32:03<52:42, 14.05s/it]"
     ]
    },
    {
     "name": "stdout",
     "output_type": "stream",
     "text": [
      "2021-05-06 09:58:18,358 - modnet - INFO - Preset #29 fitting finished, loss: 0.29291239380836487\n"
     ]
    },
    {
     "name": "stderr",
     "output_type": "stream",
     "text": [
      " 38%|███▊      | 136/360 [32:26<1:03:16, 16.95s/it]"
     ]
    },
    {
     "name": "stdout",
     "output_type": "stream",
     "text": [
      "2021-05-06 09:58:26,181 - modnet - INFO - Preset #25 fitting finished, loss: 0.35047216415405275\n"
     ]
    },
    {
     "name": "stderr",
     "output_type": "stream",
     "text": [
      " 38%|███▊      | 137/360 [32:34<52:57, 14.25s/it]  "
     ]
    },
    {
     "name": "stdout",
     "output_type": "stream",
     "text": [
      "2021-05-06 09:58:49,726 - modnet - INFO - Preset #24 fitting finished, loss: 0.32010766863822937\n"
     ]
    },
    {
     "name": "stderr",
     "output_type": "stream",
     "text": [
      " 38%|███▊      | 138/360 [32:58<1:02:48, 16.98s/it]"
     ]
    },
    {
     "name": "stdout",
     "output_type": "stream",
     "text": [
      "2021-05-06 09:58:58,062 - modnet - INFO - Preset #28 fitting finished, loss: 0.3113780379295349\n"
     ]
    },
    {
     "name": "stderr",
     "output_type": "stream",
     "text": [
      " 39%|███▊      | 139/360 [33:06<53:04, 14.41s/it]  "
     ]
    },
    {
     "name": "stdout",
     "output_type": "stream",
     "text": [
      "2021-05-06 09:59:13,262 - modnet - INFO - Preset #35 fitting finished, loss: 0.38023228049278257\n"
     ]
    },
    {
     "name": "stderr",
     "output_type": "stream",
     "text": [
      " 39%|███▉      | 140/360 [33:21<53:20, 14.55s/it]"
     ]
    },
    {
     "name": "stdout",
     "output_type": "stream",
     "text": [
      "2021-05-06 09:59:52,537 - modnet - INFO - Preset #27 fitting finished, loss: 0.32154094576835635\n"
     ]
    },
    {
     "name": "stderr",
     "output_type": "stream",
     "text": [
      " 39%|███▉      | 141/360 [34:00<1:20:26, 22.04s/it]"
     ]
    },
    {
     "name": "stdout",
     "output_type": "stream",
     "text": [
      "2021-05-06 09:59:57,442 - modnet - INFO - Preset #24 fitting finished, loss: 0.3708443999290466\n"
     ]
    },
    {
     "name": "stderr",
     "output_type": "stream",
     "text": [
      " 39%|███▉      | 142/360 [34:05<1:01:22, 16.89s/it]"
     ]
    },
    {
     "name": "stdout",
     "output_type": "stream",
     "text": [
      "2021-05-06 10:00:09,188 - modnet - INFO - Preset #25 fitting finished, loss: 0.2788339197635651\n"
     ]
    },
    {
     "name": "stderr",
     "output_type": "stream",
     "text": [
      " 40%|███▉      | 143/360 [34:17<55:31, 15.35s/it]  "
     ]
    },
    {
     "name": "stdout",
     "output_type": "stream",
     "text": [
      "2021-05-06 10:00:15,306 - modnet - INFO - Preset #38 fitting finished, loss: 0.39521820545196534\n"
     ]
    },
    {
     "name": "stderr",
     "output_type": "stream",
     "text": [
      " 40%|████      | 144/360 [34:23<45:31, 12.65s/it]"
     ]
    },
    {
     "name": "stdout",
     "output_type": "stream",
     "text": [
      "2021-05-06 10:00:46,900 - modnet - INFO - Preset #29 fitting finished, loss: 0.3032952547073364\n"
     ]
    },
    {
     "name": "stderr",
     "output_type": "stream",
     "text": [
      " 40%|████      | 145/360 [34:55<1:05:26, 18.26s/it]"
     ]
    },
    {
     "name": "stdout",
     "output_type": "stream",
     "text": [
      "2021-05-06 10:00:50,079 - modnet - INFO - Preset #25 fitting finished, loss: 0.3074995160102844\n"
     ]
    },
    {
     "name": "stderr",
     "output_type": "stream",
     "text": [
      " 41%|████      | 146/360 [34:58<49:18, 13.83s/it]  "
     ]
    },
    {
     "name": "stdout",
     "output_type": "stream",
     "text": [
      "2021-05-06 10:00:55,357 - modnet - INFO - Preset #33 fitting finished, loss: 0.3363217532634735\n"
     ]
    },
    {
     "name": "stderr",
     "output_type": "stream",
     "text": [
      " 41%|████      | 147/360 [35:03<39:43, 11.19s/it]"
     ]
    },
    {
     "name": "stdout",
     "output_type": "stream",
     "text": [
      "2021-05-06 10:01:03,449 - modnet - INFO - Preset #24 fitting finished, loss: 0.3547629535198212\n"
     ]
    },
    {
     "name": "stderr",
     "output_type": "stream",
     "text": [
      " 41%|████      | 148/360 [35:11<36:17, 10.27s/it]"
     ]
    },
    {
     "name": "stdout",
     "output_type": "stream",
     "text": [
      "2021-05-06 10:01:12,131 - modnet - INFO - Preset #39 fitting finished, loss: 0.3964683473110199\n"
     ]
    },
    {
     "name": "stderr",
     "output_type": "stream",
     "text": [
      " 41%|████▏     | 149/360 [35:20<34:31,  9.82s/it]"
     ]
    },
    {
     "name": "stdout",
     "output_type": "stream",
     "text": [
      "2021-05-06 10:01:30,534 - modnet - INFO - Preset #32 fitting finished, loss: 0.31432262659072874\n"
     ]
    },
    {
     "name": "stderr",
     "output_type": "stream",
     "text": [
      " 42%|████▏     | 150/360 [35:39<43:19, 12.38s/it]"
     ]
    },
    {
     "name": "stdout",
     "output_type": "stream",
     "text": [
      "2021-05-06 10:01:44,088 - modnet - INFO - Preset #33 fitting finished, loss: 0.2971928834915161\n"
     ]
    },
    {
     "name": "stderr",
     "output_type": "stream",
     "text": [
      " 42%|████▏     | 151/360 [35:52<44:19, 12.73s/it]"
     ]
    },
    {
     "name": "stdout",
     "output_type": "stream",
     "text": [
      "2021-05-06 10:01:45,667 - modnet - INFO - Preset #24 fitting finished, loss: 0.3178475320339203\n"
     ]
    },
    {
     "name": "stderr",
     "output_type": "stream",
     "text": [
      " 42%|████▏     | 152/360 [35:54<32:24,  9.35s/it]"
     ]
    },
    {
     "name": "stdout",
     "output_type": "stream",
     "text": [
      "2021-05-06 10:01:49,449 - modnet - INFO - Preset #27 fitting finished, loss: 0.25706568658351897\n"
     ]
    },
    {
     "name": "stderr",
     "output_type": "stream",
     "text": [
      " 42%|████▎     | 153/360 [35:58<26:41,  7.74s/it]"
     ]
    },
    {
     "name": "stdout",
     "output_type": "stream",
     "text": [
      "2021-05-06 10:02:05,522 - modnet - INFO - Preset #29 fitting finished, loss: 0.2660905420780182\n"
     ]
    },
    {
     "name": "stderr",
     "output_type": "stream",
     "text": [
      " 43%|████▎     | 154/360 [36:14<35:03, 10.21s/it]"
     ]
    },
    {
     "name": "stdout",
     "output_type": "stream",
     "text": [
      "2021-05-06 10:02:21,216 - modnet - INFO - Preset #34 fitting finished, loss: 0.301191920042038\n"
     ]
    },
    {
     "name": "stderr",
     "output_type": "stream",
     "text": [
      " 43%|████▎     | 155/360 [36:29<40:29, 11.85s/it]"
     ]
    },
    {
     "name": "stdout",
     "output_type": "stream",
     "text": [
      "2021-05-06 10:02:29,300 - modnet - INFO - Preset #31 fitting finished, loss: 0.37378849983215334\n"
     ]
    },
    {
     "name": "stderr",
     "output_type": "stream",
     "text": [
      " 43%|████▎     | 156/360 [36:38<36:55, 10.86s/it]"
     ]
    },
    {
     "name": "stdout",
     "output_type": "stream",
     "text": [
      "2021-05-06 10:02:43,383 - modnet - INFO - Preset #34 fitting finished, loss: 0.3638229250907898\n"
     ]
    },
    {
     "name": "stderr",
     "output_type": "stream",
     "text": [
      " 44%|████▎     | 157/360 [36:52<40:23, 11.94s/it]"
     ]
    },
    {
     "name": "stdout",
     "output_type": "stream",
     "text": [
      "2021-05-06 10:02:46,005 - modnet - INFO - Preset #40 fitting finished, loss: 0.3930614233016968\n"
     ]
    },
    {
     "name": "stderr",
     "output_type": "stream",
     "text": [
      " 44%|████▍     | 158/360 [36:55<31:03,  9.22s/it]"
     ]
    },
    {
     "name": "stdout",
     "output_type": "stream",
     "text": [
      "2021-05-06 10:03:01,598 - modnet - INFO - Preset #30 fitting finished, loss: 0.37443575263023376\n"
     ]
    },
    {
     "name": "stderr",
     "output_type": "stream",
     "text": [
      " 44%|████▍     | 159/360 [37:11<37:25, 11.17s/it]"
     ]
    },
    {
     "name": "stdout",
     "output_type": "stream",
     "text": [
      "2021-05-06 10:03:06,309 - modnet - INFO - Preset #34 fitting finished, loss: 0.30206849575042727\n"
     ]
    },
    {
     "name": "stderr",
     "output_type": "stream",
     "text": [
      " 44%|████▍     | 160/360 [37:15<30:23,  9.12s/it]"
     ]
    },
    {
     "name": "stdout",
     "output_type": "stream",
     "text": [
      "2021-05-06 10:03:10,466 - modnet - INFO - Preset #34 fitting finished, loss: 0.3618975579738617\n"
     ]
    },
    {
     "name": "stderr",
     "output_type": "stream",
     "text": [
      " 45%|████▍     | 161/360 [37:20<25:32,  7.70s/it]"
     ]
    },
    {
     "name": "stdout",
     "output_type": "stream",
     "text": [
      "2021-05-06 10:03:31,487 - modnet - INFO - Preset #40 fitting finished, loss: 0.4468317151069641\n"
     ]
    },
    {
     "name": "stderr",
     "output_type": "stream",
     "text": [
      " 45%|████▌     | 162/360 [37:40<38:30, 11.67s/it]"
     ]
    },
    {
     "name": "stdout",
     "output_type": "stream",
     "text": [
      "2021-05-06 10:03:33,203 - modnet - INFO - Preset #32 fitting finished, loss: 0.3416796147823334\n"
     ]
    },
    {
     "name": "stderr",
     "output_type": "stream",
     "text": [
      " 45%|████▌     | 163/360 [37:41<27:39,  8.42s/it]"
     ]
    },
    {
     "name": "stdout",
     "output_type": "stream",
     "text": [
      "2021-05-06 10:03:38,235 - modnet - INFO - Preset #33 fitting finished, loss: 0.3931074380874634\n"
     ]
    },
    {
     "name": "stderr",
     "output_type": "stream",
     "text": [
      " 46%|████▌     | 164/360 [37:46<24:07,  7.38s/it]"
     ]
    },
    {
     "name": "stdout",
     "output_type": "stream",
     "text": [
      "2021-05-06 10:03:56,758 - modnet - INFO - Preset #31 fitting finished, loss: 0.33487101197242736\n"
     ]
    },
    {
     "name": "stderr",
     "output_type": "stream",
     "text": [
      " 46%|████▌     | 165/360 [38:05<34:48, 10.71s/it]"
     ]
    },
    {
     "name": "stdout",
     "output_type": "stream",
     "text": [
      "2021-05-06 10:04:01,751 - modnet - INFO - Preset #30 fitting finished, loss: 0.32357512712478637\n"
     ]
    },
    {
     "name": "stderr",
     "output_type": "stream",
     "text": [
      " 46%|████▌     | 166/360 [38:10<29:05,  9.00s/it]"
     ]
    },
    {
     "name": "stdout",
     "output_type": "stream",
     "text": [
      "2021-05-06 10:04:04,203 - modnet - INFO - Preset #31 fitting finished, loss: 0.2761696934700012\n"
     ]
    },
    {
     "name": "stderr",
     "output_type": "stream",
     "text": [
      " 46%|████▋     | 167/360 [38:12<22:40,  7.05s/it]"
     ]
    },
    {
     "name": "stdout",
     "output_type": "stream",
     "text": [
      "2021-05-06 10:04:12,429 - modnet - INFO - Preset #24 fitting finished, loss: 0.2837739884853363\n"
     ]
    },
    {
     "name": "stderr",
     "output_type": "stream",
     "text": [
      " 47%|████▋     | 168/360 [38:20<23:40,  7.40s/it]"
     ]
    },
    {
     "name": "stdout",
     "output_type": "stream",
     "text": [
      "2021-05-06 10:04:15,729 - modnet - INFO - Preset #32 fitting finished, loss: 0.2584435760974884\n"
     ]
    },
    {
     "name": "stderr",
     "output_type": "stream",
     "text": [
      " 47%|████▋     | 169/360 [38:24<19:34,  6.15s/it]"
     ]
    },
    {
     "name": "stdout",
     "output_type": "stream",
     "text": [
      "2021-05-06 10:04:18,073 - modnet - INFO - Preset #30 fitting finished, loss: 0.3706052899360657\n"
     ]
    },
    {
     "name": "stderr",
     "output_type": "stream",
     "text": [
      " 47%|████▋     | 170/360 [38:26<15:48,  4.99s/it]"
     ]
    },
    {
     "name": "stdout",
     "output_type": "stream",
     "text": [
      "2021-05-06 10:04:33,902 - modnet - INFO - Preset #34 fitting finished, loss: 0.26635817885398866\n"
     ]
    },
    {
     "name": "stderr",
     "output_type": "stream",
     "text": [
      " 48%|████▊     | 171/360 [38:42<25:49,  8.20s/it]"
     ]
    },
    {
     "name": "stdout",
     "output_type": "stream",
     "text": [
      "2021-05-06 10:04:42,321 - modnet - INFO - Preset #25 fitting finished, loss: 0.31396050453186036\n"
     ]
    },
    {
     "name": "stderr",
     "output_type": "stream",
     "text": [
      " 48%|████▊     | 172/360 [38:50<26:05,  8.33s/it]"
     ]
    },
    {
     "name": "stdout",
     "output_type": "stream",
     "text": [
      "2021-05-06 10:04:47,116 - modnet - INFO - Preset #41 fitting finished, loss: 0.4295639872550964\n"
     ]
    },
    {
     "name": "stderr",
     "output_type": "stream",
     "text": [
      " 48%|████▊     | 173/360 [38:55<22:38,  7.26s/it]"
     ]
    },
    {
     "name": "stdout",
     "output_type": "stream",
     "text": [
      "2021-05-06 10:05:01,395 - modnet - INFO - Preset #32 fitting finished, loss: 0.3753624796867371\n"
     ]
    },
    {
     "name": "stderr",
     "output_type": "stream",
     "text": [
      " 48%|████▊     | 174/360 [39:10<29:12,  9.42s/it]"
     ]
    },
    {
     "name": "stdout",
     "output_type": "stream",
     "text": [
      "2021-05-06 10:05:02,261 - modnet - INFO - Preset #33 fitting finished, loss: 0.2603040933609009\n"
     ]
    },
    {
     "name": "stderr",
     "output_type": "stream",
     "text": [
      " 49%|████▊     | 175/360 [39:14<24:14,  7.86s/it]"
     ]
    },
    {
     "name": "stdout",
     "output_type": "stream",
     "text": [
      "2021-05-06 10:05:06,490 - modnet - INFO - Preset #40 fitting finished, loss: 0.4309568703174591\n"
     ]
    },
    {
     "name": "stderr",
     "output_type": "stream",
     "text": [
      " 49%|████▉     | 176/360 [39:15<17:45,  5.79s/it]"
     ]
    },
    {
     "name": "stdout",
     "output_type": "stream",
     "text": [
      "2021-05-06 10:05:07,441 - modnet - INFO - Preset #31 fitting finished, loss: 0.3618911325931549\n"
     ]
    },
    {
     "name": "stderr",
     "output_type": "stream",
     "text": [
      " 49%|████▉     | 177/360 [39:16<13:06,  4.30s/it]"
     ]
    },
    {
     "name": "stdout",
     "output_type": "stream",
     "text": [
      "2021-05-06 10:05:16,727 - modnet - INFO - Preset #36 fitting finished, loss: 0.34682839512825014\n"
     ]
    },
    {
     "name": "stderr",
     "output_type": "stream",
     "text": [
      " 49%|████▉     | 178/360 [39:25<17:48,  5.87s/it]"
     ]
    },
    {
     "name": "stdout",
     "output_type": "stream",
     "text": [
      "2021-05-06 10:05:21,234 - modnet - INFO - Preset #35 fitting finished, loss: 0.2616621941328049\n"
     ]
    },
    {
     "name": "stderr",
     "output_type": "stream",
     "text": [
      " 50%|████▉     | 179/360 [39:29<16:05,  5.33s/it]"
     ]
    },
    {
     "name": "stdout",
     "output_type": "stream",
     "text": [
      "2021-05-06 10:05:37,268 - modnet - INFO - Preset #33 fitting finished, loss: 0.3170024275779724\n"
     ]
    },
    {
     "name": "stderr",
     "output_type": "stream",
     "text": [
      " 50%|█████     | 180/360 [39:45<25:44,  8.58s/it]"
     ]
    },
    {
     "name": "stdout",
     "output_type": "stream",
     "text": [
      "2021-05-06 10:05:44,186 - modnet - INFO - Preset #41 fitting finished, loss: 0.45001803040504457\n"
     ]
    },
    {
     "name": "stderr",
     "output_type": "stream",
     "text": [
      " 50%|█████     | 181/360 [39:52<24:17,  8.14s/it]"
     ]
    },
    {
     "name": "stdout",
     "output_type": "stream",
     "text": [
      "2021-05-06 10:06:00,561 - modnet - INFO - Preset #41 fitting finished, loss: 0.39373374581336973\n"
     ]
    },
    {
     "name": "stderr",
     "output_type": "stream",
     "text": [
      " 51%|█████     | 182/360 [40:09<31:19, 10.56s/it]"
     ]
    },
    {
     "name": "stdout",
     "output_type": "stream",
     "text": [
      "2021-05-06 10:06:08,958 - modnet - INFO - Preset #40 fitting finished, loss: 0.3318176567554474\n"
     ]
    },
    {
     "name": "stderr",
     "output_type": "stream",
     "text": [
      " 51%|█████     | 183/360 [40:17<29:01,  9.84s/it]"
     ]
    },
    {
     "name": "stdout",
     "output_type": "stream",
     "text": [
      "2021-05-06 10:06:18,394 - modnet - INFO - Preset #35 fitting finished, loss: 0.30148845314979555\n"
     ]
    },
    {
     "name": "stderr",
     "output_type": "stream",
     "text": [
      " 51%|█████     | 184/360 [40:26<28:43,  9.79s/it]"
     ]
    },
    {
     "name": "stdout",
     "output_type": "stream",
     "text": [
      "2021-05-06 10:06:21,671 - modnet - INFO - Preset #40 fitting finished, loss: 2092.5695510387422\n"
     ]
    },
    {
     "name": "stderr",
     "output_type": "stream",
     "text": [
      " 51%|█████▏    | 185/360 [40:30<22:56,  7.86s/it]"
     ]
    },
    {
     "name": "stdout",
     "output_type": "stream",
     "text": [
      "2021-05-06 10:06:22,563 - modnet - INFO - Preset #37 fitting finished, loss: 0.29647857546806333\n"
     ]
    },
    {
     "name": "stderr",
     "output_type": "stream",
     "text": [
      " 52%|█████▏    | 186/360 [40:31<16:38,  5.74s/it]"
     ]
    },
    {
     "name": "stdout",
     "output_type": "stream",
     "text": [
      "2021-05-06 10:06:23,441 - modnet - INFO - Preset #39 fitting finished, loss: 0.34571608901023865\n"
     ]
    },
    {
     "name": "stderr",
     "output_type": "stream",
     "text": [
      " 52%|█████▏    | 187/360 [40:32<12:22,  4.29s/it]"
     ]
    },
    {
     "name": "stdout",
     "output_type": "stream",
     "text": [
      "2021-05-06 10:06:46,501 - modnet - INFO - Preset #41 fitting finished, loss: 0.3333901047706604\n"
     ]
    },
    {
     "name": "stderr",
     "output_type": "stream",
     "text": [
      " 52%|█████▏    | 188/360 [40:55<28:24,  9.91s/it]"
     ]
    },
    {
     "name": "stdout",
     "output_type": "stream",
     "text": [
      "2021-05-06 10:06:50,588 - modnet - INFO - Preset #35 fitting finished, loss: 0.3492178499698639\n"
     ]
    },
    {
     "name": "stderr",
     "output_type": "stream",
     "text": [
      " 52%|█████▎    | 189/360 [40:59<23:12,  8.15s/it]"
     ]
    },
    {
     "name": "stdout",
     "output_type": "stream",
     "text": [
      "2021-05-06 10:06:59,390 - modnet - INFO - Preset #39 fitting finished, loss: 1004.9434265136719\n"
     ]
    },
    {
     "name": "stderr",
     "output_type": "stream",
     "text": [
      " 53%|█████▎    | 190/360 [41:07<23:37,  8.34s/it]"
     ]
    },
    {
     "name": "stdout",
     "output_type": "stream",
     "text": [
      "2021-05-06 10:07:01,920 - modnet - INFO - Preset #30 fitting finished, loss: 0.3284012496471405\n"
     ]
    },
    {
     "name": "stderr",
     "output_type": "stream",
     "text": [
      " 53%|█████▎    | 191/360 [41:10<18:33,  6.59s/it]"
     ]
    },
    {
     "name": "stdout",
     "output_type": "stream",
     "text": [
      "2021-05-06 10:07:05,055 - modnet - INFO - Preset #32 fitting finished, loss: 0.30365434288978577\n"
     ]
    },
    {
     "name": "stderr",
     "output_type": "stream",
     "text": [
      " 53%|█████▎    | 192/360 [41:13<15:25,  5.51s/it]"
     ]
    },
    {
     "name": "stdout",
     "output_type": "stream",
     "text": [
      "2021-05-06 10:07:05,686 - modnet - INFO - Preset #41 fitting finished, loss: 6.358005845546723\n"
     ]
    },
    {
     "name": "stderr",
     "output_type": "stream",
     "text": [
      " 54%|█████▎    | 193/360 [41:14<11:24,  4.10s/it]"
     ]
    },
    {
     "name": "stdout",
     "output_type": "stream",
     "text": [
      "2021-05-06 10:07:18,850 - modnet - INFO - Preset #46 fitting finished, loss: 0.39391101002693174\n"
     ]
    },
    {
     "name": "stderr",
     "output_type": "stream",
     "text": [
      " 54%|█████▍    | 194/360 [41:27<18:49,  6.81s/it]"
     ]
    },
    {
     "name": "stdout",
     "output_type": "stream",
     "text": [
      "2021-05-06 10:07:42,821 - modnet - INFO - Preset #30 fitting finished, loss: 0.28458229899406434\n"
     ]
    },
    {
     "name": "stderr",
     "output_type": "stream",
     "text": [
      " 54%|█████▍    | 195/360 [41:51<32:46, 11.92s/it]"
     ]
    },
    {
     "name": "stdout",
     "output_type": "stream",
     "text": [
      "2021-05-06 10:07:50,997 - modnet - INFO - Preset #35 fitting finished, loss: 0.2994742155075073\n"
     ]
    },
    {
     "name": "stderr",
     "output_type": "stream",
     "text": [
      " 54%|█████▍    | 196/360 [41:59<29:35, 10.83s/it]"
     ]
    },
    {
     "name": "stdout",
     "output_type": "stream",
     "text": [
      "2021-05-06 10:07:58,164 - modnet - INFO - Preset #38 fitting finished, loss: 0.3702381670475006\n"
     ]
    },
    {
     "name": "stderr",
     "output_type": "stream",
     "text": [
      " 55%|█████▍    | 197/360 [42:06<26:38,  9.81s/it]"
     ]
    },
    {
     "name": "stdout",
     "output_type": "stream",
     "text": [
      "2021-05-06 10:08:08,319 - modnet - INFO - Preset #39 fitting finished, loss: 0.34259967803955077\n"
     ]
    },
    {
     "name": "stderr",
     "output_type": "stream",
     "text": [
      " 55%|█████▌    | 198/360 [42:16<26:35,  9.85s/it]"
     ]
    },
    {
     "name": "stdout",
     "output_type": "stream",
     "text": [
      "2021-05-06 10:08:13,880 - modnet - INFO - Preset #44 fitting finished, loss: 0.4316951036453247\n"
     ]
    },
    {
     "name": "stderr",
     "output_type": "stream",
     "text": [
      " 55%|█████▌    | 199/360 [42:22<22:56,  8.55s/it]"
     ]
    },
    {
     "name": "stdout",
     "output_type": "stream",
     "text": [
      "2021-05-06 10:08:39,409 - modnet - INFO - Preset #47 fitting finished, loss: 0.40337401032447817\n"
     ]
    },
    {
     "name": "stderr",
     "output_type": "stream",
     "text": [
      " 56%|█████▌    | 200/360 [42:47<36:22, 13.64s/it]"
     ]
    },
    {
     "name": "stdout",
     "output_type": "stream",
     "text": [
      "2021-05-06 10:09:04,384 - modnet - INFO - Preset #39 fitting finished, loss: 0.2646314024925232\n"
     ]
    },
    {
     "name": "stderr",
     "output_type": "stream",
     "text": [
      " 56%|█████▌    | 201/360 [43:12<45:17, 17.09s/it]"
     ]
    },
    {
     "name": "stdout",
     "output_type": "stream",
     "text": [
      "2021-05-06 10:09:05,223 - modnet - INFO - Preset #38 fitting finished, loss: 0.29363768696784975\n"
     ]
    },
    {
     "name": "stderr",
     "output_type": "stream",
     "text": [
      " 56%|█████▌    | 202/360 [43:14<32:19, 12.28s/it]"
     ]
    },
    {
     "name": "stdout",
     "output_type": "stream",
     "text": [
      "2021-05-06 10:09:06,269 - modnet - INFO - Preset #38 fitting finished, loss: 0.30790998339653014\n"
     ]
    },
    {
     "name": "stderr",
     "output_type": "stream",
     "text": [
      " 56%|█████▋    | 203/360 [43:14<23:10,  8.86s/it]"
     ]
    },
    {
     "name": "stdout",
     "output_type": "stream",
     "text": [
      "2021-05-06 10:09:09,467 - modnet - INFO - Preset #36 fitting finished, loss: 342.6661071777344\n"
     ]
    },
    {
     "name": "stderr",
     "output_type": "stream",
     "text": [
      " 57%|█████▋    | 204/360 [43:18<18:36,  7.16s/it]"
     ]
    },
    {
     "name": "stdout",
     "output_type": "stream",
     "text": [
      "2021-05-06 10:09:13,900 - modnet - INFO - Preset #47 fitting finished, loss: 0.44318483471870423\n"
     ]
    },
    {
     "name": "stderr",
     "output_type": "stream",
     "text": [
      " 57%|█████▋    | 205/360 [43:22<16:23,  6.34s/it]"
     ]
    },
    {
     "name": "stdout",
     "output_type": "stream",
     "text": [
      "2021-05-06 10:09:17,018 - modnet - INFO - Preset #31 fitting finished, loss: 0.3329956352710724\n"
     ]
    },
    {
     "name": "stderr",
     "output_type": "stream",
     "text": [
      " 57%|█████▋    | 206/360 [43:25<13:19,  5.19s/it]"
     ]
    },
    {
     "name": "stdout",
     "output_type": "stream",
     "text": [
      "2021-05-06 10:09:21,627 - modnet - INFO - Preset #38 fitting finished, loss: 1342.3638402938843\n"
     ]
    },
    {
     "name": "stderr",
     "output_type": "stream",
     "text": [
      " 57%|█████▊    | 207/360 [43:30<13:07,  5.15s/it]"
     ]
    },
    {
     "name": "stdout",
     "output_type": "stream",
     "text": [
      "2021-05-06 10:09:52,607 - modnet - INFO - Preset #37 fitting finished, loss: 0.26021899580955504\n"
     ]
    },
    {
     "name": "stderr",
     "output_type": "stream",
     "text": [
      " 58%|█████▊    | 208/360 [44:01<32:45, 12.93s/it]"
     ]
    },
    {
     "name": "stdout",
     "output_type": "stream",
     "text": [
      "2021-05-06 10:10:05,561 - modnet - INFO - Preset #37 fitting finished, loss: 0.3381670951843262\n"
     ]
    },
    {
     "name": "stderr",
     "output_type": "stream",
     "text": [
      " 58%|█████▊    | 209/360 [44:14<32:49, 13.04s/it]"
     ]
    },
    {
     "name": "stdout",
     "output_type": "stream",
     "text": [
      "2021-05-06 10:10:17,531 - modnet - INFO - Preset #46 fitting finished, loss: 0.4285725772380829\n"
     ]
    },
    {
     "name": "stderr",
     "output_type": "stream",
     "text": [
      " 58%|█████▊    | 210/360 [44:26<31:38, 12.65s/it]"
     ]
    },
    {
     "name": "stdout",
     "output_type": "stream",
     "text": [
      "2021-05-06 10:10:39,536 - modnet - INFO - Preset #37 fitting finished, loss: 0.3445167303085327\n"
     ]
    },
    {
     "name": "stderr",
     "output_type": "stream",
     "text": [
      " 59%|█████▊    | 211/360 [44:47<38:08, 15.36s/it]"
     ]
    },
    {
     "name": "stdout",
     "output_type": "stream",
     "text": [
      "2021-05-06 10:10:52,097 - modnet - INFO - Preset #46 fitting finished, loss: 0.31745914816856385\n"
     ]
    },
    {
     "name": "stderr",
     "output_type": "stream",
     "text": [
      " 59%|█████▉    | 212/360 [45:00<35:53, 14.55s/it]"
     ]
    },
    {
     "name": "stdout",
     "output_type": "stream",
     "text": [
      "2021-05-06 10:11:10,516 - modnet - INFO - Preset #45 fitting finished, loss: 0.38787227869033813\n"
     ]
    },
    {
     "name": "stderr",
     "output_type": "stream",
     "text": [
      " 59%|█████▉    | 213/360 [45:19<38:41, 15.79s/it]"
     ]
    },
    {
     "name": "stdout",
     "output_type": "stream",
     "text": [
      "2021-05-06 10:11:12,090 - modnet - INFO - Preset #46 fitting finished, loss: 0.3979505240917206\n"
     ]
    },
    {
     "name": "stderr",
     "output_type": "stream",
     "text": [
      " 59%|█████▉    | 214/360 [45:20<27:53, 11.46s/it]"
     ]
    },
    {
     "name": "stdout",
     "output_type": "stream",
     "text": [
      "2021-05-06 10:11:36,617 - modnet - INFO - Preset #52 fitting finished, loss: 0.3844518423080444\n"
     ]
    },
    {
     "name": "stderr",
     "output_type": "stream",
     "text": [
      " 60%|█████▉    | 215/360 [45:45<37:15, 15.41s/it]"
     ]
    },
    {
     "name": "stdout",
     "output_type": "stream",
     "text": [
      "2021-05-06 10:11:40,644 - modnet - INFO - Preset #42 fitting finished, loss: 0.2903610587120056\n"
     ]
    },
    {
     "name": "stderr",
     "output_type": "stream",
     "text": [
      " 60%|██████    | 216/360 [45:49<28:46, 11.99s/it]"
     ]
    },
    {
     "name": "stdout",
     "output_type": "stream",
     "text": [
      "2021-05-06 10:12:20,100 - modnet - INFO - Preset #45 fitting finished, loss: 0.4004490911960602\n"
     ]
    },
    {
     "name": "stderr",
     "output_type": "stream",
     "text": [
      " 60%|██████    | 217/360 [46:28<48:15, 20.25s/it]"
     ]
    },
    {
     "name": "stdout",
     "output_type": "stream",
     "text": [
      "2021-05-06 10:12:30,739 - modnet - INFO - Preset #46 fitting finished, loss: 4219.851031684875\n"
     ]
    },
    {
     "name": "stderr",
     "output_type": "stream",
     "text": [
      " 61%|██████    | 218/360 [46:39<41:04, 17.35s/it]"
     ]
    },
    {
     "name": "stdout",
     "output_type": "stream",
     "text": [
      "2021-05-06 10:12:31,707 - modnet - INFO - Preset #43 fitting finished, loss: 0.29351662993431094\n"
     ]
    },
    {
     "name": "stderr",
     "output_type": "stream",
     "text": [
      " 61%|██████    | 219/360 [46:40<29:15, 12.45s/it]"
     ]
    },
    {
     "name": "stdout",
     "output_type": "stream",
     "text": [
      "2021-05-06 10:12:39,912 - modnet - INFO - Preset #52 fitting finished, loss: 0.4194252908229828\n"
     ]
    },
    {
     "name": "stderr",
     "output_type": "stream",
     "text": [
      " 61%|██████    | 220/360 [46:48<25:59, 11.14s/it]"
     ]
    },
    {
     "name": "stdout",
     "output_type": "stream",
     "text": [
      "2021-05-06 10:12:44,840 - modnet - INFO - Preset #44 fitting finished, loss: 0.2734693825244904\n"
     ]
    },
    {
     "name": "stderr",
     "output_type": "stream",
     "text": [
      " 61%|██████▏   | 221/360 [46:53<21:32,  9.30s/it]"
     ]
    },
    {
     "name": "stdout",
     "output_type": "stream",
     "text": [
      "2021-05-06 10:12:45,694 - modnet - INFO - Preset #42 fitting finished, loss: 0.26649470925331115\n"
     ]
    },
    {
     "name": "stderr",
     "output_type": "stream",
     "text": [
      " 62%|██████▏   | 222/360 [46:54<15:44,  6.85s/it]"
     ]
    },
    {
     "name": "stdout",
     "output_type": "stream",
     "text": [
      "2021-05-06 10:12:50,409 - modnet - INFO - Preset #42 fitting finished, loss: 147.96164093017578\n"
     ]
    },
    {
     "name": "stderr",
     "output_type": "stream",
     "text": [
      " 62%|██████▏   | 223/360 [46:59<14:01,  6.14s/it]"
     ]
    },
    {
     "name": "stdout",
     "output_type": "stream",
     "text": [
      "2021-05-06 10:12:51,320 - modnet - INFO - Preset #43 fitting finished, loss: 0.2538167148828506\n"
     ]
    },
    {
     "name": "stderr",
     "output_type": "stream",
     "text": [
      " 62%|██████▏   | 224/360 [46:59<10:21,  4.57s/it]"
     ]
    },
    {
     "name": "stdout",
     "output_type": "stream",
     "text": [
      "2021-05-06 10:13:02,567 - modnet - INFO - Preset #50 fitting finished, loss: 0.3593747019767761\n"
     ]
    },
    {
     "name": "stderr",
     "output_type": "stream",
     "text": [
      " 62%|██████▎   | 225/360 [47:11<14:46,  6.57s/it]"
     ]
    },
    {
     "name": "stdout",
     "output_type": "stream",
     "text": [
      "2021-05-06 10:13:05,400 - modnet - INFO - Preset #47 fitting finished, loss: 6064.139141106605\n"
     ]
    },
    {
     "name": "stderr",
     "output_type": "stream",
     "text": [
      " 63%|██████▎   | 226/360 [47:14<12:09,  5.44s/it]"
     ]
    },
    {
     "name": "stdout",
     "output_type": "stream",
     "text": [
      "2021-05-06 10:13:25,016 - modnet - INFO - Preset #44 fitting finished, loss: 0.2601448893547058\n"
     ]
    },
    {
     "name": "stderr",
     "output_type": "stream",
     "text": [
      " 63%|██████▎   | 227/360 [47:33<21:27,  9.68s/it]"
     ]
    },
    {
     "name": "stdout",
     "output_type": "stream",
     "text": [
      "2021-05-06 10:13:25,936 - modnet - INFO - Preset #47 fitting finished, loss: 0.3738033413887024\n"
     ]
    },
    {
     "name": "stderr",
     "output_type": "stream",
     "text": [
      " 63%|██████▎   | 228/360 [47:34<15:32,  7.06s/it]"
     ]
    },
    {
     "name": "stdout",
     "output_type": "stream",
     "text": [
      "2021-05-06 10:14:30,959 - modnet - INFO - Preset #36 fitting finished, loss: 0.2949393093585968\n"
     ]
    },
    {
     "name": "stderr",
     "output_type": "stream",
     "text": [
      " 64%|██████▎   | 229/360 [48:39<53:21, 24.44s/it]"
     ]
    },
    {
     "name": "stdout",
     "output_type": "stream",
     "text": [
      "2021-05-06 10:14:36,898 - modnet - INFO - Preset #45 fitting finished, loss: 0.258518773317337\n"
     ]
    },
    {
     "name": "stderr",
     "output_type": "stream",
     "text": [
      " 64%|██████▍   | 230/360 [48:45<41:00, 18.92s/it]"
     ]
    },
    {
     "name": "stdout",
     "output_type": "stream",
     "text": [
      "2021-05-06 10:14:39,289 - modnet - INFO - Preset #47 fitting finished, loss: 0.30184708833694457\n"
     ]
    },
    {
     "name": "stderr",
     "output_type": "stream",
     "text": [
      " 64%|██████▍   | 231/360 [48:47<30:00, 13.96s/it]"
     ]
    },
    {
     "name": "stdout",
     "output_type": "stream",
     "text": [
      "2021-05-06 10:14:57,416 - modnet - INFO - Preset #48 fitting finished, loss: 0.3610470056533813\n"
     ]
    },
    {
     "name": "stderr",
     "output_type": "stream",
     "text": [
      " 64%|██████▍   | 232/360 [49:05<32:23, 15.18s/it]"
     ]
    },
    {
     "name": "stdout",
     "output_type": "stream",
     "text": [
      "2021-05-06 10:15:01,132 - modnet - INFO - Preset #53 fitting finished, loss: 0.4235793173313141\n"
     ]
    },
    {
     "name": "stderr",
     "output_type": "stream",
     "text": [
      " 65%|██████▍   | 233/360 [49:09<24:46, 11.71s/it]"
     ]
    },
    {
     "name": "stdout",
     "output_type": "stream",
     "text": [
      "2021-05-06 10:15:03,841 - modnet - INFO - Preset #36 fitting finished, loss: 0.36460649967193604\n"
     ]
    },
    {
     "name": "stderr",
     "output_type": "stream",
     "text": [
      " 65%|██████▌   | 234/360 [49:12<18:53,  8.99s/it]"
     ]
    },
    {
     "name": "stdout",
     "output_type": "stream",
     "text": [
      "2021-05-06 10:15:29,978 - modnet - INFO - Preset #42 fitting finished, loss: 0.3805890381336212\n"
     ]
    },
    {
     "name": "stderr",
     "output_type": "stream",
     "text": [
      " 65%|██████▌   | 235/360 [49:38<29:32, 14.18s/it]"
     ]
    },
    {
     "name": "stdout",
     "output_type": "stream",
     "text": [
      "2021-05-06 10:15:36,001 - modnet - INFO - Preset #42 fitting finished, loss: 0.3376999258995056\n"
     ]
    },
    {
     "name": "stderr",
     "output_type": "stream",
     "text": [
      " 66%|██████▌   | 236/360 [49:44<24:17, 11.75s/it]"
     ]
    },
    {
     "name": "stdout",
     "output_type": "stream",
     "text": [
      "2021-05-06 10:15:47,259 - modnet - INFO - Preset #50 fitting finished, loss: 0.34649661779403684\n"
     ]
    },
    {
     "name": "stderr",
     "output_type": "stream",
     "text": [
      " 66%|██████▌   | 237/360 [49:55<23:41, 11.55s/it]"
     ]
    },
    {
     "name": "stdout",
     "output_type": "stream",
     "text": [
      "2021-05-06 10:15:47,948 - modnet - INFO - Preset #49 fitting finished, loss: 0.35680148005485535\n"
     ]
    },
    {
     "name": "stderr",
     "output_type": "stream",
     "text": [
      " 66%|██████▌   | 238/360 [49:56<16:51,  8.29s/it]"
     ]
    },
    {
     "name": "stdout",
     "output_type": "stream",
     "text": [
      "2021-05-06 10:15:52,429 - modnet - INFO - Preset #50 fitting finished, loss: 0.25060241520404813\n"
     ]
    },
    {
     "name": "stderr",
     "output_type": "stream",
     "text": [
      " 66%|██████▋   | 239/360 [50:01<14:32,  7.21s/it]"
     ]
    },
    {
     "name": "stdout",
     "output_type": "stream",
     "text": [
      "2021-05-06 10:16:02,608 - modnet - INFO - Preset #45 fitting finished, loss: 925.5246948242187\n"
     ]
    },
    {
     "name": "stderr",
     "output_type": "stream",
     "text": [
      " 67%|██████▋   | 240/360 [50:11<16:11,  8.10s/it]"
     ]
    },
    {
     "name": "stdout",
     "output_type": "stream",
     "text": [
      "2021-05-06 10:16:22,158 - modnet - INFO - Preset #50 fitting finished, loss: 722.3085777282715\n"
     ]
    },
    {
     "name": "stderr",
     "output_type": "stream",
     "text": [
      " 67%|██████▋   | 241/360 [50:30<22:51, 11.52s/it]"
     ]
    },
    {
     "name": "stdout",
     "output_type": "stream",
     "text": [
      "2021-05-06 10:16:29,015 - modnet - INFO - Preset #37 fitting finished, loss: 263.10524768829345\n"
     ]
    },
    {
     "name": "stderr",
     "output_type": "stream",
     "text": [
      " 67%|██████▋   | 242/360 [50:37<19:48, 10.08s/it]"
     ]
    },
    {
     "name": "stdout",
     "output_type": "stream",
     "text": [
      "2021-05-06 10:16:32,806 - modnet - INFO - Preset #53 fitting finished, loss: 0.2751854002475739\n"
     ]
    },
    {
     "name": "stderr",
     "output_type": "stream",
     "text": [
      " 68%|██████▊   | 243/360 [50:41<16:05,  8.25s/it]"
     ]
    },
    {
     "name": "stdout",
     "output_type": "stream",
     "text": [
      "2021-05-06 10:16:51,902 - modnet - INFO - Preset #36 fitting finished, loss: 0.2650324761867523\n"
     ]
    },
    {
     "name": "stderr",
     "output_type": "stream",
     "text": [
      " 68%|██████▊   | 244/360 [51:00<22:13, 11.49s/it]"
     ]
    },
    {
     "name": "stdout",
     "output_type": "stream",
     "text": [
      "2021-05-06 10:16:52,743 - modnet - INFO - Preset #43 fitting finished, loss: 0.3642458081245422\n"
     ]
    },
    {
     "name": "stderr",
     "output_type": "stream",
     "text": [
      " 68%|██████▊   | 245/360 [51:01<16:01,  8.36s/it]"
     ]
    },
    {
     "name": "stdout",
     "output_type": "stream",
     "text": [
      "2021-05-06 10:16:55,457 - modnet - INFO - Preset #43 fitting finished, loss: 0.3412326335906982\n"
     ]
    },
    {
     "name": "stderr",
     "output_type": "stream",
     "text": [
      " 68%|██████▊   | 246/360 [51:03<12:30,  6.58s/it]"
     ]
    },
    {
     "name": "stdout",
     "output_type": "stream",
     "text": [
      "2021-05-06 10:16:56,234 - modnet - INFO - Preset #49 fitting finished, loss: 0.2568756967782974\n"
     ]
    },
    {
     "name": "stderr",
     "output_type": "stream",
     "text": [
      " 69%|██████▊   | 247/360 [51:04<09:09,  4.86s/it]"
     ]
    },
    {
     "name": "stdout",
     "output_type": "stream",
     "text": [
      "2021-05-06 10:17:05,928 - modnet - INFO - Preset #52 fitting finished, loss: 0.28206273913383484\n"
     ]
    },
    {
     "name": "stderr",
     "output_type": "stream",
     "text": [
      " 69%|██████▉   | 248/360 [51:14<11:40,  6.25s/it]"
     ]
    },
    {
     "name": "stdout",
     "output_type": "stream",
     "text": [
      "2021-05-06 10:17:09,434 - modnet - INFO - Preset #51 fitting finished, loss: 0.2835606813430786\n"
     ]
    },
    {
     "name": "stderr",
     "output_type": "stream",
     "text": [
      " 69%|██████▉   | 249/360 [51:17<10:06,  5.46s/it]"
     ]
    },
    {
     "name": "stdout",
     "output_type": "stream",
     "text": [
      "2021-05-06 10:17:45,602 - modnet - INFO - Preset #44 fitting finished, loss: 0.35861953496932986\n"
     ]
    },
    {
     "name": "stderr",
     "output_type": "stream",
     "text": [
      " 69%|██████▉   | 250/360 [51:54<26:58, 14.71s/it]"
     ]
    },
    {
     "name": "stdout",
     "output_type": "stream",
     "text": [
      "2021-05-06 10:17:54,462 - modnet - INFO - Preset #53 fitting finished, loss: 1812.7664198875427\n"
     ]
    },
    {
     "name": "stderr",
     "output_type": "stream",
     "text": [
      " 70%|██████▉   | 251/360 [52:02<23:24, 12.89s/it]"
     ]
    },
    {
     "name": "stdout",
     "output_type": "stream",
     "text": [
      "2021-05-06 10:18:05,656 - modnet - INFO - Preset #44 fitting finished, loss: 2422.5522583007814\n"
     ]
    },
    {
     "name": "stderr",
     "output_type": "stream",
     "text": [
      " 70%|███████   | 252/360 [52:14<22:23, 12.44s/it]"
     ]
    },
    {
     "name": "stdout",
     "output_type": "stream",
     "text": [
      "2021-05-06 10:18:11,593 - modnet - INFO - Preset #51 fitting finished, loss: 0.3067022979259491\n"
     ]
    },
    {
     "name": "stderr",
     "output_type": "stream",
     "text": [
      " 70%|███████   | 253/360 [52:20<18:43, 10.50s/it]"
     ]
    },
    {
     "name": "stdout",
     "output_type": "stream",
     "text": [
      "2021-05-06 10:18:12,900 - modnet - INFO - Preset #48 fitting finished, loss: 0.3284548223018646\n"
     ]
    },
    {
     "name": "stderr",
     "output_type": "stream",
     "text": [
      " 71%|███████   | 254/360 [52:21<13:32,  7.67s/it]"
     ]
    },
    {
     "name": "stdout",
     "output_type": "stream",
     "text": [
      "2021-05-06 10:18:13,721 - modnet - INFO - Preset #49 fitting finished, loss: 76.01332960128784\n"
     ]
    },
    {
     "name": "stderr",
     "output_type": "stream",
     "text": [
      " 71%|███████   | 255/360 [52:22<09:55,  5.67s/it]"
     ]
    },
    {
     "name": "stdout",
     "output_type": "stream",
     "text": [
      "2021-05-06 10:18:18,395 - modnet - INFO - Preset #45 fitting finished, loss: 0.2837335169315338\n"
     ]
    },
    {
     "name": "stderr",
     "output_type": "stream",
     "text": [
      " 71%|███████   | 256/360 [52:26<09:12,  5.31s/it]"
     ]
    },
    {
     "name": "stdout",
     "output_type": "stream",
     "text": [
      "2021-05-06 10:18:53,265 - modnet - INFO - Preset #43 fitting finished, loss: 188.7555908203125\n"
     ]
    },
    {
     "name": "stderr",
     "output_type": "stream",
     "text": [
      " 71%|███████▏  | 257/360 [53:01<24:29, 14.26s/it]"
     ]
    },
    {
     "name": "stdout",
     "output_type": "stream",
     "text": [
      "2021-05-06 10:19:50,861 - modnet - INFO - Preset #50 fitting finished, loss: 0.28307044506073\n"
     ]
    },
    {
     "name": "stderr",
     "output_type": "stream",
     "text": [
      " 72%|███████▏  | 258/360 [53:59<46:17, 27.23s/it]"
     ]
    },
    {
     "name": "stdout",
     "output_type": "stream",
     "text": [
      "2021-05-06 10:19:57,950 - modnet - INFO - Preset #53 fitting finished, loss: 0.2576930820941925\n"
     ]
    },
    {
     "name": "stderr",
     "output_type": "stream",
     "text": [
      " 72%|███████▏  | 259/360 [54:06<35:40, 21.20s/it]"
     ]
    },
    {
     "name": "stdout",
     "output_type": "stream",
     "text": [
      "2021-05-06 10:20:35,185 - modnet - INFO - Preset #51 fitting finished, loss: 0.3541969895362854\n"
     ]
    },
    {
     "name": "stderr",
     "output_type": "stream",
     "text": [
      " 72%|███████▏  | 260/360 [54:43<43:18, 25.99s/it]"
     ]
    },
    {
     "name": "stdout",
     "output_type": "stream",
     "text": [
      "2021-05-06 10:20:57,907 - modnet - INFO - Preset #48 fitting finished, loss: 0.3037481129169464\n"
     ]
    },
    {
     "name": "stderr",
     "output_type": "stream",
     "text": [
      " 72%|███████▎  | 261/360 [55:06<41:10, 24.96s/it]"
     ]
    },
    {
     "name": "stdout",
     "output_type": "stream",
     "text": [
      "2021-05-06 10:21:29,402 - modnet - INFO - Preset #52 fitting finished, loss: 0.2887534499168396\n"
     ]
    },
    {
     "name": "stderr",
     "output_type": "stream",
     "text": [
      " 73%|███████▎  | 262/360 [55:38<44:09, 27.03s/it]"
     ]
    },
    {
     "name": "stdout",
     "output_type": "stream",
     "text": [
      "2021-05-06 10:21:58,426 - modnet - INFO - Preset #49 fitting finished, loss: 0.33048551082611083\n"
     ]
    },
    {
     "name": "stderr",
     "output_type": "stream",
     "text": [
      " 73%|███████▎  | 263/360 [56:06<44:34, 27.57s/it]"
     ]
    },
    {
     "name": "stdout",
     "output_type": "stream",
     "text": [
      "2021-05-06 10:22:15,442 - modnet - INFO - Preset #51 fitting finished, loss: 0.25177654027938845\n"
     ]
    },
    {
     "name": "stderr",
     "output_type": "stream",
     "text": [
      " 73%|███████▎  | 264/360 [56:23<39:01, 24.39s/it]"
     ]
    },
    {
     "name": "stdout",
     "output_type": "stream",
     "text": [
      "2021-05-06 10:22:21,921 - modnet - INFO - Preset #48 fitting finished, loss: 0.2549576640129089\n"
     ]
    },
    {
     "name": "stderr",
     "output_type": "stream",
     "text": [
      " 74%|███████▎  | 265/360 [56:30<30:05, 19.01s/it]"
     ]
    },
    {
     "name": "stdout",
     "output_type": "stream",
     "text": [
      "2021-05-06 10:22:22,932 - modnet - INFO - Preset #49 fitting finished, loss: 0.3024307429790497\n"
     ]
    },
    {
     "name": "stderr",
     "output_type": "stream",
     "text": [
      " 74%|███████▍  | 266/360 [56:31<21:19, 13.61s/it]"
     ]
    },
    {
     "name": "stdout",
     "output_type": "stream",
     "text": [
      "2021-05-06 10:22:34,123 - modnet - INFO - Preset #53 fitting finished, loss: 0.367794930934906\n"
     ]
    },
    {
     "name": "stderr",
     "output_type": "stream",
     "text": [
      " 74%|███████▍  | 267/360 [56:42<19:58, 12.89s/it]"
     ]
    },
    {
     "name": "stdout",
     "output_type": "stream",
     "text": [
      "2021-05-06 10:23:01,636 - modnet - INFO - Preset #48 fitting finished, loss: 70.76266403198242\n"
     ]
    },
    {
     "name": "stderr",
     "output_type": "stream",
     "text": [
      " 74%|███████▍  | 268/360 [57:10<26:26, 17.25s/it]"
     ]
    },
    {
     "name": "stdout",
     "output_type": "stream",
     "text": [
      "2021-05-06 10:23:25,121 - modnet - INFO - Preset #56 fitting finished, loss: 0.43127586245536803\n"
     ]
    },
    {
     "name": "stderr",
     "output_type": "stream",
     "text": [
      " 75%|███████▍  | 269/360 [57:33<29:03, 19.16s/it]"
     ]
    },
    {
     "name": "stdout",
     "output_type": "stream",
     "text": [
      "2021-05-06 10:23:29,288 - modnet - INFO - Preset #62 fitting finished, loss: 0.3991456270217896\n"
     ]
    },
    {
     "name": "stderr",
     "output_type": "stream",
     "text": [
      " 75%|███████▌  | 270/360 [57:37<21:59, 14.67s/it]"
     ]
    },
    {
     "name": "stdout",
     "output_type": "stream",
     "text": [
      "2021-05-06 10:23:38,168 - modnet - INFO - Preset #57 fitting finished, loss: 0.42951533794403074\n"
     ]
    },
    {
     "name": "stderr",
     "output_type": "stream",
     "text": [
      " 75%|███████▌  | 271/360 [57:46<19:15, 12.98s/it]"
     ]
    },
    {
     "name": "stdout",
     "output_type": "stream",
     "text": [
      "2021-05-06 10:23:41,611 - modnet - INFO - Preset #58 fitting finished, loss: 0.3981109619140625\n"
     ]
    },
    {
     "name": "stderr",
     "output_type": "stream",
     "text": [
      " 76%|███████▌  | 272/360 [57:50<14:49, 10.11s/it]"
     ]
    },
    {
     "name": "stdout",
     "output_type": "stream",
     "text": [
      "2021-05-06 10:23:44,182 - modnet - INFO - Preset #56 fitting finished, loss: 7.383409398794174\n"
     ]
    },
    {
     "name": "stderr",
     "output_type": "stream",
     "text": [
      " 76%|███████▌  | 273/360 [57:52<11:22,  7.85s/it]"
     ]
    },
    {
     "name": "stdout",
     "output_type": "stream",
     "text": [
      "2021-05-06 10:23:50,748 - modnet - INFO - Preset #52 fitting finished, loss: 1828.2881218910218\n"
     ]
    },
    {
     "name": "stderr",
     "output_type": "stream",
     "text": [
      " 76%|███████▌  | 274/360 [57:59<10:38,  7.42s/it]"
     ]
    },
    {
     "name": "stdout",
     "output_type": "stream",
     "text": [
      "2021-05-06 10:23:57,087 - modnet - INFO - Preset #62 fitting finished, loss: 0.42991411685943604\n"
     ]
    },
    {
     "name": "stderr",
     "output_type": "stream",
     "text": [
      " 76%|███████▋  | 275/360 [58:05<10:05,  7.13s/it]"
     ]
    },
    {
     "name": "stdout",
     "output_type": "stream",
     "text": [
      "2021-05-06 10:24:21,376 - modnet - INFO - Preset #57 fitting finished, loss: 0.39325844049453734\n"
     ]
    },
    {
     "name": "stderr",
     "output_type": "stream",
     "text": [
      " 77%|███████▋  | 276/360 [58:30<17:13, 12.30s/it]"
     ]
    },
    {
     "name": "stdout",
     "output_type": "stream",
     "text": [
      "2021-05-06 10:24:33,085 - modnet - INFO - Preset #58 fitting finished, loss: 6.597359251976013\n"
     ]
    },
    {
     "name": "stderr",
     "output_type": "stream",
     "text": [
      " 77%|███████▋  | 277/360 [58:42<16:51, 12.19s/it]"
     ]
    },
    {
     "name": "stdout",
     "output_type": "stream",
     "text": [
      "2021-05-06 10:24:34,272 - modnet - INFO - Preset #62 fitting finished, loss: 0.4451570689678192\n"
     ]
    },
    {
     "name": "stderr",
     "output_type": "stream",
     "text": [
      " 77%|███████▋  | 278/360 [58:43<12:11,  8.93s/it]"
     ]
    },
    {
     "name": "stdout",
     "output_type": "stream",
     "text": [
      "2021-05-06 10:24:37,899 - modnet - INFO - Preset #58 fitting finished, loss: 0.33138328790664673\n"
     ]
    },
    {
     "name": "stderr",
     "output_type": "stream",
     "text": [
      " 78%|███████▊  | 279/360 [58:46<09:47,  7.25s/it]"
     ]
    },
    {
     "name": "stdout",
     "output_type": "stream",
     "text": [
      "2021-05-06 10:24:51,182 - modnet - INFO - Preset #59 fitting finished, loss: 0.3952450931072235\n"
     ]
    },
    {
     "name": "stderr",
     "output_type": "stream",
     "text": [
      " 78%|███████▊  | 280/360 [58:59<12:04,  9.06s/it]"
     ]
    },
    {
     "name": "stdout",
     "output_type": "stream",
     "text": [
      "2021-05-06 10:24:58,276 - modnet - INFO - Preset #58 fitting finished, loss: 0.4307775437831879\n"
     ]
    },
    {
     "name": "stderr",
     "output_type": "stream",
     "text": [
      " 78%|███████▊  | 281/360 [59:06<11:04,  8.41s/it]"
     ]
    },
    {
     "name": "stdout",
     "output_type": "stream",
     "text": [
      "2021-05-06 10:25:00,454 - modnet - INFO - Preset #62 fitting finished, loss: 0.3315084934234619\n"
     ]
    },
    {
     "name": "stderr",
     "output_type": "stream",
     "text": [
      " 78%|███████▊  | 282/360 [59:09<08:37,  6.64s/it]"
     ]
    },
    {
     "name": "stdout",
     "output_type": "stream",
     "text": [
      "2021-05-06 10:25:10,398 - modnet - INFO - Preset #51 fitting finished, loss: 659.4328826904297\n"
     ]
    },
    {
     "name": "stderr",
     "output_type": "stream",
     "text": [
      " 79%|███████▊  | 283/360 [59:19<09:40,  7.54s/it]"
     ]
    },
    {
     "name": "stdout",
     "output_type": "stream",
     "text": [
      "2021-05-06 10:25:50,440 - modnet - INFO - Preset #57 fitting finished, loss: 0.3317128956317902\n"
     ]
    },
    {
     "name": "stderr",
     "output_type": "stream",
     "text": [
      " 79%|███████▉  | 284/360 [59:59<21:55, 17.31s/it]"
     ]
    },
    {
     "name": "stdout",
     "output_type": "stream",
     "text": [
      "2021-05-06 10:26:14,438 - modnet - INFO - Preset #58 fitting finished, loss: 0.44587208032608033\n"
     ]
    },
    {
     "name": "stderr",
     "output_type": "stream",
     "text": [
      " 79%|███████▉  | 285/360 [1:00:23<24:10, 19.34s/it]"
     ]
    },
    {
     "name": "stdout",
     "output_type": "stream",
     "text": [
      "2021-05-06 10:26:33,243 - modnet - INFO - Preset #63 fitting finished, loss: 2.7449877858161926\n"
     ]
    },
    {
     "name": "stderr",
     "output_type": "stream",
     "text": [
      " 79%|███████▉  | 286/360 [1:00:41<23:36, 19.14s/it]"
     ]
    },
    {
     "name": "stdout",
     "output_type": "stream",
     "text": [
      "2021-05-06 10:26:36,861 - modnet - INFO - Preset #63 fitting finished, loss: 0.44718446135520934\n"
     ]
    },
    {
     "name": "stderr",
     "output_type": "stream",
     "text": [
      " 80%|███████▉  | 287/360 [1:00:45<17:33, 14.43s/it]"
     ]
    },
    {
     "name": "stdout",
     "output_type": "stream",
     "text": [
      "2021-05-06 10:26:38,980 - modnet - INFO - Preset #64 fitting finished, loss: 0.3946877658367157\n"
     ]
    },
    {
     "name": "stderr",
     "output_type": "stream",
     "text": [
      " 80%|████████  | 288/360 [1:00:47<13:01, 10.86s/it]"
     ]
    },
    {
     "name": "stdout",
     "output_type": "stream",
     "text": [
      "2021-05-06 10:26:47,219 - modnet - INFO - Preset #56 fitting finished, loss: 0.3945271551609039\n"
     ]
    },
    {
     "name": "stderr",
     "output_type": "stream",
     "text": [
      " 80%|████████  | 289/360 [1:00:55<11:49,  9.99s/it]"
     ]
    },
    {
     "name": "stdout",
     "output_type": "stream",
     "text": [
      "2021-05-06 10:26:50,025 - modnet - INFO - Preset #63 fitting finished, loss: 0.3179794907569885\n"
     ]
    },
    {
     "name": "stderr",
     "output_type": "stream",
     "text": [
      " 81%|████████  | 290/360 [1:00:58<09:10,  7.87s/it]"
     ]
    },
    {
     "name": "stdout",
     "output_type": "stream",
     "text": [
      "2021-05-06 10:27:08,785 - modnet - INFO - Preset #62 fitting finished, loss: 1.405652689933777\n"
     ]
    },
    {
     "name": "stderr",
     "output_type": "stream",
     "text": [
      " 81%|████████  | 291/360 [1:01:17<12:49, 11.15s/it]"
     ]
    },
    {
     "name": "stdout",
     "output_type": "stream",
     "text": [
      "2021-05-06 10:27:23,278 - modnet - INFO - Preset #57 fitting finished, loss: 0.4447715640068054\n"
     ]
    },
    {
     "name": "stderr",
     "output_type": "stream",
     "text": [
      " 81%|████████  | 292/360 [1:01:32<13:47, 12.17s/it]"
     ]
    },
    {
     "name": "stdout",
     "output_type": "stream",
     "text": [
      "2021-05-06 10:27:34,221 - modnet - INFO - Preset #64 fitting finished, loss: 0.4495559811592102\n"
     ]
    },
    {
     "name": "stderr",
     "output_type": "stream",
     "text": [
      " 81%|████████▏ | 293/360 [1:01:42<13:09, 11.78s/it]"
     ]
    },
    {
     "name": "stdout",
     "output_type": "stream",
     "text": [
      "2021-05-06 10:27:56,067 - modnet - INFO - Preset #56 fitting finished, loss: 0.4450076580047607\n"
     ]
    },
    {
     "name": "stderr",
     "output_type": "stream",
     "text": [
      " 82%|████████▏ | 294/360 [1:02:04<16:15, 14.78s/it]"
     ]
    },
    {
     "name": "stdout",
     "output_type": "stream",
     "text": [
      "2021-05-06 10:28:08,344 - modnet - INFO - Preset #56 fitting finished, loss: 0.33087378144264223\n"
     ]
    },
    {
     "name": "stderr",
     "output_type": "stream",
     "text": [
      " 82%|████████▏ | 295/360 [1:02:16<15:09, 13.99s/it]"
     ]
    },
    {
     "name": "stdout",
     "output_type": "stream",
     "text": [
      "2021-05-06 10:28:21,250 - modnet - INFO - Preset #64 fitting finished, loss: 0.4296193838119507\n"
     ]
    },
    {
     "name": "stderr",
     "output_type": "stream",
     "text": [
      " 82%|████████▏ | 296/360 [1:02:29<14:37, 13.71s/it]"
     ]
    },
    {
     "name": "stdout",
     "output_type": "stream",
     "text": [
      "2021-05-06 10:28:32,479 - modnet - INFO - Preset #63 fitting finished, loss: 0.3936015486717224\n"
     ]
    },
    {
     "name": "stderr",
     "output_type": "stream",
     "text": [
      " 82%|████████▎ | 297/360 [1:02:41<13:35, 12.95s/it]"
     ]
    },
    {
     "name": "stdout",
     "output_type": "stream",
     "text": [
      "2021-05-06 10:28:57,247 - modnet - INFO - Preset #59 fitting finished, loss: 0.3314017355442047\n"
     ]
    },
    {
     "name": "stderr",
     "output_type": "stream",
     "text": [
      " 83%|████████▎ | 298/360 [1:03:05<17:02, 16.49s/it]"
     ]
    },
    {
     "name": "stdout",
     "output_type": "stream",
     "text": [
      "2021-05-06 10:29:16,670 - modnet - INFO - Preset #68 fitting finished, loss: 0.39685230851173403\n"
     ]
    },
    {
     "name": "stderr",
     "output_type": "stream",
     "text": [
      " 83%|████████▎ | 299/360 [1:03:24<17:33, 17.26s/it]"
     ]
    },
    {
     "name": "stdout",
     "output_type": "stream",
     "text": [
      "2021-05-06 10:29:21,352 - modnet - INFO - Preset #69 fitting finished, loss: 0.40368967056274413\n"
     ]
    },
    {
     "name": "stderr",
     "output_type": "stream",
     "text": [
      " 83%|████████▎ | 300/360 [1:03:29<13:36, 13.61s/it]"
     ]
    },
    {
     "name": "stdout",
     "output_type": "stream",
     "text": [
      "2021-05-06 10:29:35,216 - modnet - INFO - Preset #65 fitting finished, loss: 0.3980503499507904\n"
     ]
    },
    {
     "name": "stderr",
     "output_type": "stream",
     "text": [
      " 84%|████████▎ | 301/360 [1:03:43<13:23, 13.63s/it]"
     ]
    },
    {
     "name": "stdout",
     "output_type": "stream",
     "text": [
      "2021-05-06 10:29:42,036 - modnet - INFO - Preset #64 fitting finished, loss: 3.508242118358612\n"
     ]
    },
    {
     "name": "stderr",
     "output_type": "stream",
     "text": [
      " 84%|████████▍ | 302/360 [1:03:50<11:11, 11.57s/it]"
     ]
    },
    {
     "name": "stdout",
     "output_type": "stream",
     "text": [
      "2021-05-06 10:29:44,937 - modnet - INFO - Preset #59 fitting finished, loss: 0.43083296418190004\n"
     ]
    },
    {
     "name": "stderr",
     "output_type": "stream",
     "text": [
      " 84%|████████▍ | 303/360 [1:03:53<08:33,  9.01s/it]"
     ]
    },
    {
     "name": "stdout",
     "output_type": "stream",
     "text": [
      "2021-05-06 10:29:46,805 - modnet - INFO - Preset #65 fitting finished, loss: 0.4301388621330261\n"
     ]
    },
    {
     "name": "stderr",
     "output_type": "stream",
     "text": [
      " 84%|████████▍ | 304/360 [1:03:55<06:24,  6.86s/it]"
     ]
    },
    {
     "name": "stdout",
     "output_type": "stream",
     "text": [
      "2021-05-06 10:29:49,487 - modnet - INFO - Preset #64 fitting finished, loss: 0.33500972390174866\n"
     ]
    },
    {
     "name": "stderr",
     "output_type": "stream",
     "text": [
      " 85%|████████▍ | 305/360 [1:03:57<05:07,  5.59s/it]"
     ]
    },
    {
     "name": "stdout",
     "output_type": "stream",
     "text": [
      "2021-05-06 10:29:50,261 - modnet - INFO - Preset #68 fitting finished, loss: 0.4247731566429138\n"
     ]
    },
    {
     "name": "stderr",
     "output_type": "stream",
     "text": [
      " 85%|████████▌ | 306/360 [1:03:58<03:45,  4.17s/it]"
     ]
    },
    {
     "name": "stdout",
     "output_type": "stream",
     "text": [
      "2021-05-06 10:30:06,828 - modnet - INFO - Preset #59 fitting finished, loss: 10.792095410823823\n"
     ]
    },
    {
     "name": "stderr",
     "output_type": "stream",
     "text": [
      " 85%|████████▌ | 307/360 [1:04:15<06:58,  7.90s/it]"
     ]
    },
    {
     "name": "stdout",
     "output_type": "stream",
     "text": [
      "2021-05-06 10:30:10,300 - modnet - INFO - Preset #65 fitting finished, loss: 0.44867045283317564\n"
     ]
    },
    {
     "name": "stderr",
     "output_type": "stream",
     "text": [
      " 86%|████████▌ | 308/360 [1:04:18<05:40,  6.55s/it]"
     ]
    },
    {
     "name": "stdout",
     "output_type": "stream",
     "text": [
      "2021-05-06 10:30:15,456 - modnet - INFO - Preset #70 fitting finished, loss: 0.43186783194541933\n"
     ]
    },
    {
     "name": "stderr",
     "output_type": "stream",
     "text": [
      " 86%|████████▌ | 309/360 [1:04:23<05:09,  6.07s/it]"
     ]
    },
    {
     "name": "stdout",
     "output_type": "stream",
     "text": [
      "2021-05-06 10:30:24,908 - modnet - INFO - Preset #59 fitting finished, loss: 0.4466713786125183\n"
     ]
    },
    {
     "name": "stderr",
     "output_type": "stream",
     "text": [
      " 86%|████████▌ | 310/360 [1:04:33<06:02,  7.24s/it]"
     ]
    },
    {
     "name": "stdout",
     "output_type": "stream",
     "text": [
      "2021-05-06 10:30:28,568 - modnet - INFO - Preset #63 fitting finished, loss: 0.36903051733970643\n"
     ]
    },
    {
     "name": "stderr",
     "output_type": "stream",
     "text": [
      " 86%|████████▋ | 311/360 [1:04:37<04:57,  6.07s/it]"
     ]
    },
    {
     "name": "stdout",
     "output_type": "stream",
     "text": [
      "2021-05-06 10:30:38,376 - modnet - INFO - Preset #71 fitting finished, loss: 0.40497575998306273\n"
     ]
    },
    {
     "name": "stderr",
     "output_type": "stream",
     "text": [
      " 87%|████████▋ | 312/360 [1:04:46<05:45,  7.19s/it]"
     ]
    },
    {
     "name": "stdout",
     "output_type": "stream",
     "text": [
      "2021-05-06 10:30:41,404 - modnet - INFO - Preset #65 fitting finished, loss: 2.1706491351127624\n"
     ]
    },
    {
     "name": "stderr",
     "output_type": "stream",
     "text": [
      " 87%|████████▋ | 313/360 [1:04:49<04:37,  5.90s/it]"
     ]
    },
    {
     "name": "stdout",
     "output_type": "stream",
     "text": [
      "2021-05-06 10:31:04,374 - modnet - INFO - Preset #65 fitting finished, loss: 0.33286115527153015\n"
     ]
    },
    {
     "name": "stderr",
     "output_type": "stream",
     "text": [
      " 87%|████████▋ | 314/360 [1:05:12<08:28, 11.06s/it]"
     ]
    },
    {
     "name": "stdout",
     "output_type": "stream",
     "text": [
      "2021-05-06 10:31:12,413 - modnet - INFO - Preset #60 fitting finished, loss: 270.354736328125\n"
     ]
    },
    {
     "name": "stderr",
     "output_type": "stream",
     "text": [
      " 88%|████████▊ | 315/360 [1:05:20<07:32, 10.05s/it]"
     ]
    },
    {
     "name": "stdout",
     "output_type": "stream",
     "text": [
      "2021-05-06 10:32:33,131 - modnet - INFO - Preset #57 fitting finished, loss: 571.7743321418762\n"
     ]
    },
    {
     "name": "stderr",
     "output_type": "stream",
     "text": [
      " 88%|████████▊ | 316/360 [1:06:41<23:01, 31.41s/it]"
     ]
    },
    {
     "name": "stdout",
     "output_type": "stream",
     "text": [
      "2021-05-06 10:32:35,847 - modnet - INFO - Preset #70 fitting finished, loss: 0.4011108875274658\n"
     ]
    },
    {
     "name": "stderr",
     "output_type": "stream",
     "text": [
      " 88%|████████▊ | 317/360 [1:06:44<16:16, 22.71s/it]"
     ]
    },
    {
     "name": "stdout",
     "output_type": "stream",
     "text": [
      "2021-05-06 10:32:49,413 - modnet - INFO - Preset #70 fitting finished, loss: 0.4558037340641022\n"
     ]
    },
    {
     "name": "stderr",
     "output_type": "stream",
     "text": [
      " 88%|████████▊ | 318/360 [1:06:57<13:55, 19.89s/it]"
     ]
    },
    {
     "name": "stdout",
     "output_type": "stream",
     "text": [
      "2021-05-06 10:33:05,165 - modnet - INFO - Preset #71 fitting finished, loss: 0.430300772190094\n"
     ]
    },
    {
     "name": "stderr",
     "output_type": "stream",
     "text": [
      " 89%|████████▊ | 319/360 [1:07:13<12:46, 18.69s/it]"
     ]
    },
    {
     "name": "stdout",
     "output_type": "stream",
     "text": [
      "2021-05-06 10:33:06,241 - modnet - INFO - Preset #69 fitting finished, loss: 0.42369561791419985\n"
     ]
    },
    {
     "name": "stderr",
     "output_type": "stream",
     "text": [
      " 89%|████████▉ | 320/360 [1:07:14<08:56, 13.42s/it]"
     ]
    },
    {
     "name": "stdout",
     "output_type": "stream",
     "text": [
      "2021-05-06 10:33:11,146 - modnet - INFO - Preset #70 fitting finished, loss: 0.3337356746196747\n"
     ]
    },
    {
     "name": "stderr",
     "output_type": "stream",
     "text": [
      " 89%|████████▉ | 321/360 [1:07:19<07:01, 10.80s/it]"
     ]
    },
    {
     "name": "stdout",
     "output_type": "stream",
     "text": [
      "2021-05-06 10:33:14,491 - modnet - INFO - Preset #70 fitting finished, loss: 217.92201367616653\n"
     ]
    },
    {
     "name": "stderr",
     "output_type": "stream",
     "text": [
      " 89%|████████▉ | 322/360 [1:07:22<05:26,  8.60s/it]"
     ]
    },
    {
     "name": "stdout",
     "output_type": "stream",
     "text": [
      "2021-05-06 10:33:37,555 - modnet - INFO - Preset #54 fitting finished, loss: 0.4104966461658478\n"
     ]
    },
    {
     "name": "stderr",
     "output_type": "stream",
     "text": [
      " 90%|████████▉ | 323/360 [1:07:46<08:02, 13.05s/it]"
     ]
    },
    {
     "name": "stdout",
     "output_type": "stream",
     "text": [
      "2021-05-06 10:33:47,806 - modnet - INFO - Preset #71 fitting finished, loss: 0.4516680896282196\n"
     ]
    },
    {
     "name": "stderr",
     "output_type": "stream",
     "text": [
      " 90%|█████████ | 324/360 [1:07:56<07:16, 12.14s/it]"
     ]
    },
    {
     "name": "stdout",
     "output_type": "stream",
     "text": [
      "2021-05-06 10:34:04,346 - modnet - INFO - Preset #71 fitting finished, loss: 99.55208411216736\n"
     ]
    },
    {
     "name": "stderr",
     "output_type": "stream",
     "text": [
      " 90%|█████████ | 325/360 [1:08:12<07:49, 13.41s/it]"
     ]
    },
    {
     "name": "stdout",
     "output_type": "stream",
     "text": [
      "2021-05-06 10:34:26,558 - modnet - INFO - Preset #61 fitting finished, loss: 0.25558671057224275\n"
     ]
    },
    {
     "name": "stderr",
     "output_type": "stream",
     "text": [
      " 91%|█████████ | 326/360 [1:08:34<09:06, 16.07s/it]"
     ]
    },
    {
     "name": "stdout",
     "output_type": "stream",
     "text": [
      "2021-05-06 10:34:34,559 - modnet - INFO - Preset #67 fitting finished, loss: 0.3715204656124115\n"
     ]
    },
    {
     "name": "stderr",
     "output_type": "stream",
     "text": [
      " 91%|█████████ | 327/360 [1:08:42<07:30, 13.65s/it]"
     ]
    },
    {
     "name": "stdout",
     "output_type": "stream",
     "text": [
      "2021-05-06 10:34:41,496 - modnet - INFO - Preset #68 fitting finished, loss: 0.3096812963485718\n"
     ]
    },
    {
     "name": "stderr",
     "output_type": "stream",
     "text": [
      " 91%|█████████ | 328/360 [1:08:49<06:12, 11.65s/it]"
     ]
    },
    {
     "name": "stdout",
     "output_type": "stream",
     "text": [
      "2021-05-06 10:34:53,292 - modnet - INFO - Preset #61 fitting finished, loss: 0.34713585376739503\n"
     ]
    },
    {
     "name": "stderr",
     "output_type": "stream",
     "text": [
      " 91%|█████████▏| 329/360 [1:09:01<06:02, 11.69s/it]"
     ]
    },
    {
     "name": "stdout",
     "output_type": "stream",
     "text": [
      "2021-05-06 10:35:09,696 - modnet - INFO - Preset #55 fitting finished, loss: 0.26562764048576354\n"
     ]
    },
    {
     "name": "stderr",
     "output_type": "stream",
     "text": [
      " 92%|█████████▏| 330/360 [1:09:18<06:34, 13.15s/it]"
     ]
    },
    {
     "name": "stdout",
     "output_type": "stream",
     "text": [
      "2021-05-06 10:35:15,836 - modnet - INFO - Preset #60 fitting finished, loss: 0.33371245861053467\n"
     ]
    },
    {
     "name": "stderr",
     "output_type": "stream",
     "text": [
      " 92%|█████████▏| 331/360 [1:09:24<05:20, 11.03s/it]"
     ]
    },
    {
     "name": "stdout",
     "output_type": "stream",
     "text": [
      "2021-05-06 10:35:18,257 - modnet - INFO - Preset #60 fitting finished, loss: 0.28910828232765196\n"
     ]
    },
    {
     "name": "stderr",
     "output_type": "stream",
     "text": [
      " 92%|█████████▏| 332/360 [1:09:26<03:56,  8.44s/it]"
     ]
    },
    {
     "name": "stdout",
     "output_type": "stream",
     "text": [
      "2021-05-06 10:35:24,262 - modnet - INFO - Preset #61 fitting finished, loss: 0.36817554831504823\n"
     ]
    },
    {
     "name": "stderr",
     "output_type": "stream",
     "text": [
      " 92%|█████████▎| 333/360 [1:09:32<03:27,  7.68s/it]"
     ]
    },
    {
     "name": "stdout",
     "output_type": "stream",
     "text": [
      "2021-05-06 10:35:32,733 - modnet - INFO - Preset #60 fitting finished, loss: 0.37197776436805724\n"
     ]
    },
    {
     "name": "stderr",
     "output_type": "stream",
     "text": [
      " 93%|█████████▎| 334/360 [1:09:41<03:26,  7.93s/it]"
     ]
    },
    {
     "name": "stdout",
     "output_type": "stream",
     "text": [
      "2021-05-06 10:35:38,304 - modnet - INFO - Preset #66 fitting finished, loss: 0.2846988499164581\n"
     ]
    },
    {
     "name": "stderr",
     "output_type": "stream",
     "text": [
      " 93%|█████████▎| 335/360 [1:09:46<02:58,  7.16s/it]"
     ]
    },
    {
     "name": "stdout",
     "output_type": "stream",
     "text": [
      "2021-05-06 10:35:46,184 - modnet - INFO - Preset #68 fitting finished, loss: 0.2682011902332306\n"
     ]
    },
    {
     "name": "stderr",
     "output_type": "stream",
     "text": [
      " 93%|█████████▎| 336/360 [1:09:54<02:57,  7.41s/it]"
     ]
    },
    {
     "name": "stdout",
     "output_type": "stream",
     "text": [
      "2021-05-06 10:35:48,795 - modnet - INFO - Preset #66 fitting finished, loss: 0.24415903985500337\n"
     ]
    },
    {
     "name": "stderr",
     "output_type": "stream",
     "text": [
      " 94%|█████████▎| 337/360 [1:09:56<02:17,  5.98s/it]"
     ]
    },
    {
     "name": "stdout",
     "output_type": "stream",
     "text": [
      "2021-05-06 10:36:08,878 - modnet - INFO - Preset #54 fitting finished, loss: 0.3014858543872833\n"
     ]
    },
    {
     "name": "stderr",
     "output_type": "stream",
     "text": [
      " 94%|█████████▍| 338/360 [1:10:17<03:44, 10.21s/it]"
     ]
    },
    {
     "name": "stdout",
     "output_type": "stream",
     "text": [
      "2021-05-06 10:36:11,257 - modnet - INFO - Preset #67 fitting finished, loss: 0.24498727023601533\n"
     ]
    },
    {
     "name": "stderr",
     "output_type": "stream",
     "text": [
      " 94%|█████████▍| 339/360 [1:10:19<02:45,  7.86s/it]"
     ]
    },
    {
     "name": "stdout",
     "output_type": "stream",
     "text": [
      "2021-05-06 10:36:32,347 - modnet - INFO - Preset #61 fitting finished, loss: 0.3083268702030182\n"
     ]
    },
    {
     "name": "stderr",
     "output_type": "stream",
     "text": [
      " 94%|█████████▍| 340/360 [1:10:40<03:55, 11.80s/it]"
     ]
    },
    {
     "name": "stdout",
     "output_type": "stream",
     "text": [
      "2021-05-06 10:36:41,025 - modnet - INFO - Preset #69 fitting finished, loss: 0.2779176414012909\n"
     ]
    },
    {
     "name": "stderr",
     "output_type": "stream",
     "text": [
      " 95%|█████████▍| 341/360 [1:10:49<03:27, 10.93s/it]"
     ]
    },
    {
     "name": "stdout",
     "output_type": "stream",
     "text": [
      "2021-05-06 10:36:41,645 - modnet - INFO - Preset #67 fitting finished, loss: 0.32769412398338316\n"
     ]
    },
    {
     "name": "stderr",
     "output_type": "stream",
     "text": [
      " 95%|█████████▌| 342/360 [1:10:49<02:19,  7.77s/it]"
     ]
    },
    {
     "name": "stdout",
     "output_type": "stream",
     "text": [
      "2021-05-06 10:36:42,011 - modnet - INFO - Preset #69 fitting finished, loss: 616.8024616241455\n"
     ]
    },
    {
     "name": "stderr",
     "output_type": "stream",
     "text": [
      " 95%|█████████▌| 343/360 [1:10:50<01:34,  5.56s/it]"
     ]
    },
    {
     "name": "stdout",
     "output_type": "stream",
     "text": [
      "2021-05-06 10:36:59,112 - modnet - INFO - Preset #69 fitting finished, loss: 0.27273946404457095\n"
     ]
    },
    {
     "name": "stderr",
     "output_type": "stream",
     "text": [
      " 96%|█████████▌| 344/360 [1:11:07<02:24,  9.01s/it]"
     ]
    },
    {
     "name": "stdout",
     "output_type": "stream",
     "text": [
      "2021-05-06 10:37:21,019 - modnet - INFO - Preset #66 fitting finished, loss: 219.17278747558595\n"
     ]
    },
    {
     "name": "stderr",
     "output_type": "stream",
     "text": [
      " 96%|█████████▌| 345/360 [1:11:29<03:12, 12.86s/it]"
     ]
    },
    {
     "name": "stdout",
     "output_type": "stream",
     "text": [
      "2021-05-06 10:37:21,787 - modnet - INFO - Preset #71 fitting finished, loss: 0.3278998494148254\n"
     ]
    },
    {
     "name": "stderr",
     "output_type": "stream",
     "text": [
      " 96%|█████████▌| 346/360 [1:11:29<02:09,  9.23s/it]"
     ]
    },
    {
     "name": "stdout",
     "output_type": "stream",
     "text": [
      "2021-05-06 10:37:46,812 - modnet - INFO - Preset #66 fitting finished, loss: 0.3546476006507874\n"
     ]
    },
    {
     "name": "stderr",
     "output_type": "stream",
     "text": [
      " 96%|█████████▋| 347/360 [1:11:54<03:01, 13.96s/it]"
     ]
    },
    {
     "name": "stdout",
     "output_type": "stream",
     "text": [
      "2021-05-06 10:38:16,294 - modnet - INFO - Preset #68 fitting finished, loss: 446.1483184814453\n"
     ]
    },
    {
     "name": "stderr",
     "output_type": "stream",
     "text": [
      " 97%|█████████▋| 348/360 [1:12:24<03:43, 18.62s/it]"
     ]
    },
    {
     "name": "stdout",
     "output_type": "stream",
     "text": [
      "2021-05-06 10:38:17,644 - modnet - INFO - Preset #55 fitting finished, loss: 0.41805400252342223\n"
     ]
    },
    {
     "name": "stderr",
     "output_type": "stream",
     "text": [
      " 97%|█████████▋| 349/360 [1:12:25<02:28, 13.46s/it]"
     ]
    },
    {
     "name": "stdout",
     "output_type": "stream",
     "text": [
      "2021-05-06 10:38:29,320 - modnet - INFO - Preset #67 fitting finished, loss: 64.67679491043091\n"
     ]
    },
    {
     "name": "stderr",
     "output_type": "stream",
     "text": [
      " 97%|█████████▋| 350/360 [1:12:37<02:09, 12.92s/it]"
     ]
    },
    {
     "name": "stdout",
     "output_type": "stream",
     "text": [
      "2021-05-06 10:39:45,209 - modnet - INFO - Preset #61 fitting finished, loss: 515.3597030639648\n"
     ]
    },
    {
     "name": "stderr",
     "output_type": "stream",
     "text": [
      " 98%|█████████▊| 351/360 [1:13:53<04:46, 31.79s/it]"
     ]
    },
    {
     "name": "stdout",
     "output_type": "stream",
     "text": [
      "2021-05-06 10:39:53,811 - modnet - INFO - Preset #67 fitting finished, loss: 0.28780102729797363\n"
     ]
    },
    {
     "name": "stderr",
     "output_type": "stream",
     "text": [
      " 98%|█████████▊| 352/360 [1:14:01<03:18, 24.84s/it]"
     ]
    },
    {
     "name": "stdout",
     "output_type": "stream",
     "text": [
      "2021-05-06 10:40:20,102 - modnet - INFO - Preset #60 fitting finished, loss: 0.2671519458293915\n"
     ]
    },
    {
     "name": "stderr",
     "output_type": "stream",
     "text": [
      " 98%|█████████▊| 353/360 [1:14:28<02:56, 25.25s/it]"
     ]
    },
    {
     "name": "stdout",
     "output_type": "stream",
     "text": [
      "2021-05-06 10:40:29,115 - modnet - INFO - Preset #66 fitting finished, loss: 0.3273759722709656\n"
     ]
    },
    {
     "name": "stderr",
     "output_type": "stream",
     "text": [
      " 98%|█████████▊| 354/360 [1:14:37<02:02, 20.38s/it]"
     ]
    },
    {
     "name": "stdout",
     "output_type": "stream",
     "text": [
      "2021-05-06 10:40:49,587 - modnet - INFO - Preset #55 fitting finished, loss: 892.7095825195313\n"
     ]
    },
    {
     "name": "stderr",
     "output_type": "stream",
     "text": [
      " 99%|█████████▊| 355/360 [1:14:57<01:42, 20.43s/it]"
     ]
    },
    {
     "name": "stdout",
     "output_type": "stream",
     "text": [
      "2021-05-06 10:42:38,069 - modnet - INFO - Preset #55 fitting finished, loss: 0.3541495561599731\n"
     ]
    },
    {
     "name": "stderr",
     "output_type": "stream",
     "text": [
      " 99%|█████████▉| 356/360 [1:16:46<03:07, 46.85s/it]"
     ]
    },
    {
     "name": "stdout",
     "output_type": "stream",
     "text": [
      "2021-05-06 10:42:55,287 - modnet - INFO - Preset #55 fitting finished, loss: 0.28587315082550047\n"
     ]
    },
    {
     "name": "stderr",
     "output_type": "stream",
     "text": [
      " 99%|█████████▉| 357/360 [1:17:03<01:53, 37.97s/it]"
     ]
    },
    {
     "name": "stdout",
     "output_type": "stream",
     "text": [
      "2021-05-06 10:42:57,762 - modnet - INFO - Preset #54 fitting finished, loss: 0.37948383688926696\n"
     ]
    },
    {
     "name": "stderr",
     "output_type": "stream",
     "text": [
      " 99%|█████████▉| 358/360 [1:17:05<00:54, 27.30s/it]"
     ]
    },
    {
     "name": "stdout",
     "output_type": "stream",
     "text": [
      "2021-05-06 10:44:57,546 - modnet - INFO - Preset #54 fitting finished, loss: 833.8230949401856\n"
     ]
    },
    {
     "name": "stderr",
     "output_type": "stream",
     "text": [
      "100%|█████████▉| 359/360 [1:19:05<00:55, 55.06s/it]"
     ]
    },
    {
     "name": "stdout",
     "output_type": "stream",
     "text": [
      "2021-05-06 10:46:49,613 - modnet - INFO - Preset #54 fitting finished, loss: 0.27549479007720945\n"
     ]
    },
    {
     "name": "stderr",
     "output_type": "stream",
     "text": [
      "100%|██████████| 360/360 [1:20:57<00:00, 13.49s/it]\n"
     ]
    },
    {
     "name": "stdout",
     "output_type": "stream",
     "text": [
      "2021-05-06 10:46:54,156 - modnet - INFO - Preset #3 resulted in lowest validation loss with params {'train_data': <modnet.preprocessing.MODData object at 0x7f56fd2ba850>, 'targets': [[['difference']]], 'weights': {'difference': 1}, 'n_models': 5, 'num_classes': {'difference': 0}, 'n_feat': 64, 'num_neurons': [[128], [32], [8], [8]], 'lr': 0.005, 'batch_size': 64, 'epochs': 1000, 'loss': 'mae', 'act': 'elu', 'out_act': 'linear', 'callbacks': [<tensorflow.python.keras.callbacks.EarlyStopping object at 0x7f571a3dcd30>], 'preset_id': 2, 'fold_id': 4, 'verbose': 0, 'val_data': <modnet.preprocessing.MODData object at 0x7f56fd812f40>}\n",
      "mae\n",
      "0.3419107416419105\n",
      "uncertainty\n",
      "0.22420746\n",
      "2021-05-06 10:47:12,959 - modnet - INFO - Loaded <modnet.preprocessing.MODData object at 0x7f56c3035b80> object, created with modnet version 0.1.9\n",
      "2021-05-06 10:47:17,953 - modnet - INFO - Proceeding with grid search: archs: [(64, [[128], [32], [8], [8]]), (64, [[64], [32], [8], [8]]), (64, [[32], [16], [8], [8]]), (128, [[256], [64], [16], [16]]), (128, [[128], [64], [16], [16]]), (128, [[64], [32], [16], [16]]), (256, [[512], [128], [32], [32]]), (256, [[256], [128], [32], [32]]), (256, [[128], [64], [32], [32]]), (512, [[1024], [256], [64], [64]]), (512, [[512], [256], [64], [64]]), (512, [[256], [128], [64], [64]])], batch sizes: [64], learning_rates: [0.001, 0.005, 0.01]\n",
      "2021-05-06 10:47:23,650 - modnet - INFO - Multiprocessing on 64 cores. Total of 128 cores available.\n"
     ]
    },
    {
     "name": "stderr",
     "output_type": "stream",
     "text": [
      "  0%|          | 0/360 [00:00<?, ?it/s]"
     ]
    },
    {
     "name": "stdout",
     "output_type": "stream",
     "text": [
      "2021-05-06 10:53:54,810 - modnet - INFO - Preset #4 fitting finished, loss: 0.38873645663261414\n"
     ]
    },
    {
     "name": "stderr",
     "output_type": "stream",
     "text": [
      "  0%|          | 1/360 [06:31<39:02:33, 391.51s/it]"
     ]
    },
    {
     "name": "stdout",
     "output_type": "stream",
     "text": [
      "2021-05-06 10:54:52,907 - modnet - INFO - Preset #5 fitting finished, loss: 0.34034974575042726\n"
     ]
    },
    {
     "name": "stderr",
     "output_type": "stream",
     "text": [
      "  1%|          | 2/360 [07:29<28:59:13, 291.49s/it]"
     ]
    },
    {
     "name": "stdout",
     "output_type": "stream",
     "text": [
      "2021-05-06 10:55:07,542 - modnet - INFO - Preset #10 fitting finished, loss: 0.41490118503570556\n"
     ]
    },
    {
     "name": "stderr",
     "output_type": "stream",
     "text": [
      "  1%|          | 3/360 [07:44<20:40:17, 208.45s/it]"
     ]
    },
    {
     "name": "stdout",
     "output_type": "stream",
     "text": [
      "2021-05-06 10:55:19,903 - modnet - INFO - Preset #2 fitting finished, loss: 0.3079449772834778\n"
     ]
    },
    {
     "name": "stderr",
     "output_type": "stream",
     "text": [
      "  1%|          | 4/360 [07:56<14:47:52, 149.64s/it]"
     ]
    },
    {
     "name": "stdout",
     "output_type": "stream",
     "text": [
      "2021-05-06 10:55:38,337 - modnet - INFO - Preset #5 fitting finished, loss: 0.3449101269245148\n"
     ]
    },
    {
     "name": "stderr",
     "output_type": "stream",
     "text": [
      "  1%|▏         | 5/360 [08:15<10:52:42, 110.32s/it]"
     ]
    },
    {
     "name": "stdout",
     "output_type": "stream",
     "text": [
      "2021-05-06 10:55:44,352 - modnet - INFO - Preset #3 fitting finished, loss: 0.30531049370765684\n"
     ]
    },
    {
     "name": "stderr",
     "output_type": "stream",
     "text": [
      "  2%|▏         | 6/360 [08:21<7:45:43, 78.94s/it]  "
     ]
    },
    {
     "name": "stdout",
     "output_type": "stream",
     "text": [
      "2021-05-06 10:56:15,379 - modnet - INFO - Preset #4 fitting finished, loss: 0.32250049114227297\n"
     ]
    },
    {
     "name": "stderr",
     "output_type": "stream",
     "text": [
      "  2%|▏         | 7/360 [08:52<6:20:15, 64.63s/it]"
     ]
    },
    {
     "name": "stdout",
     "output_type": "stream",
     "text": [
      "2021-05-06 10:56:33,990 - modnet - INFO - Preset #5 fitting finished, loss: 0.41018115282058715\n"
     ]
    },
    {
     "name": "stderr",
     "output_type": "stream",
     "text": [
      "  2%|▏         | 8/360 [09:10<4:57:54, 50.78s/it]"
     ]
    },
    {
     "name": "stdout",
     "output_type": "stream",
     "text": [
      "2021-05-06 10:56:37,670 - modnet - INFO - Preset #3 fitting finished, loss: 0.36371734738349915\n"
     ]
    },
    {
     "name": "stderr",
     "output_type": "stream",
     "text": [
      "  2%|▎         | 9/360 [09:14<3:34:49, 36.72s/it]"
     ]
    },
    {
     "name": "stdout",
     "output_type": "stream",
     "text": [
      "2021-05-06 10:56:54,120 - modnet - INFO - Preset #10 fitting finished, loss: 0.32789222002029417\n"
     ]
    },
    {
     "name": "stderr",
     "output_type": "stream",
     "text": [
      "  3%|▎         | 10/360 [09:30<2:58:26, 30.59s/it]"
     ]
    },
    {
     "name": "stdout",
     "output_type": "stream",
     "text": [
      "2021-05-06 10:56:56,366 - modnet - INFO - Preset #3 fitting finished, loss: 0.37084118127822874\n"
     ]
    },
    {
     "name": "stderr",
     "output_type": "stream",
     "text": [
      "  3%|▎         | 11/360 [09:33<2:08:32, 22.10s/it]"
     ]
    },
    {
     "name": "stdout",
     "output_type": "stream",
     "text": [
      "2021-05-06 10:56:57,117 - modnet - INFO - Preset #2 fitting finished, loss: 0.3903871655464172\n"
     ]
    },
    {
     "name": "stderr",
     "output_type": "stream",
     "text": [
      "  3%|▎         | 12/360 [09:34<1:31:22, 15.76s/it]"
     ]
    },
    {
     "name": "stdout",
     "output_type": "stream",
     "text": [
      "2021-05-06 10:57:27,777 - modnet - INFO - Preset #11 fitting finished, loss: 0.37476861476898193\n"
     ]
    },
    {
     "name": "stderr",
     "output_type": "stream",
     "text": [
      "  4%|▎         | 13/360 [10:04<1:56:11, 20.09s/it]"
     ]
    },
    {
     "name": "stdout",
     "output_type": "stream",
     "text": [
      "2021-05-06 10:57:33,126 - modnet - INFO - Preset #9 fitting finished, loss: 0.35005338191986085\n"
     ]
    },
    {
     "name": "stderr",
     "output_type": "stream",
     "text": [
      "  4%|▍         | 14/360 [10:10<1:31:00, 15.78s/it]"
     ]
    },
    {
     "name": "stdout",
     "output_type": "stream",
     "text": [
      "2021-05-06 10:57:55,612 - modnet - INFO - Preset #3 fitting finished, loss: 0.38834208250045776\n"
     ]
    },
    {
     "name": "stderr",
     "output_type": "stream",
     "text": [
      "  4%|▍         | 15/360 [10:32<1:42:35, 17.84s/it]"
     ]
    },
    {
     "name": "stdout",
     "output_type": "stream",
     "text": [
      "2021-05-06 10:57:56,448 - modnet - INFO - Preset #5 fitting finished, loss: 0.36148881912231445\n"
     ]
    },
    {
     "name": "stderr",
     "output_type": "stream",
     "text": [
      "  4%|▍         | 16/360 [10:33<1:12:34, 12.66s/it]"
     ]
    },
    {
     "name": "stdout",
     "output_type": "stream",
     "text": [
      "2021-05-06 10:57:57,028 - modnet - INFO - Preset #8 fitting finished, loss: 0.3473435461521149\n"
     ]
    },
    {
     "name": "stderr",
     "output_type": "stream",
     "text": [
      "  5%|▍         | 17/360 [10:33<51:49,  9.07s/it]  "
     ]
    },
    {
     "name": "stdout",
     "output_type": "stream",
     "text": [
      "2021-05-06 10:58:17,062 - modnet - INFO - Preset #8 fitting finished, loss: 0.37996199131011965\n"
     ]
    },
    {
     "name": "stderr",
     "output_type": "stream",
     "text": [
      "  5%|▌         | 18/360 [10:53<1:09:49, 12.25s/it]"
     ]
    },
    {
     "name": "stdout",
     "output_type": "stream",
     "text": [
      "2021-05-06 10:58:27,819 - modnet - INFO - Preset #4 fitting finished, loss: 0.36725890040397646\n"
     ]
    },
    {
     "name": "stderr",
     "output_type": "stream",
     "text": [
      "  5%|▌         | 19/360 [11:04<1:07:29, 11.88s/it]"
     ]
    },
    {
     "name": "stdout",
     "output_type": "stream",
     "text": [
      "2021-05-06 10:58:30,004 - modnet - INFO - Preset #2 fitting finished, loss: 0.36025976538658144\n"
     ]
    },
    {
     "name": "stderr",
     "output_type": "stream",
     "text": [
      "  6%|▌         | 20/360 [11:06<50:18,  8.88s/it]  "
     ]
    },
    {
     "name": "stdout",
     "output_type": "stream",
     "text": [
      "2021-05-06 10:58:32,219 - modnet - INFO - Preset #9 fitting finished, loss: 0.34440072178840636\n"
     ]
    },
    {
     "name": "stderr",
     "output_type": "stream",
     "text": [
      "  6%|▌         | 21/360 [11:09<39:24,  6.98s/it]"
     ]
    },
    {
     "name": "stdout",
     "output_type": "stream",
     "text": [
      "2021-05-06 10:58:59,028 - modnet - INFO - Preset #4 fitting finished, loss: 0.3545735955238342\n"
     ]
    },
    {
     "name": "stderr",
     "output_type": "stream",
     "text": [
      "  6%|▌         | 22/360 [11:35<1:12:43, 12.91s/it]"
     ]
    },
    {
     "name": "stdout",
     "output_type": "stream",
     "text": [
      "2021-05-06 10:59:05,031 - modnet - INFO - Preset #10 fitting finished, loss: 0.35654534101486207\n"
     ]
    },
    {
     "name": "stderr",
     "output_type": "stream",
     "text": [
      "  6%|▋         | 23/360 [11:41<1:01:02, 10.87s/it]"
     ]
    },
    {
     "name": "stdout",
     "output_type": "stream",
     "text": [
      "2021-05-06 10:59:10,158 - modnet - INFO - Preset #11 fitting finished, loss: 0.2942683815956116\n"
     ]
    },
    {
     "name": "stderr",
     "output_type": "stream",
     "text": [
      "  7%|▋         | 24/360 [11:47<51:23,  9.18s/it]  "
     ]
    },
    {
     "name": "stdout",
     "output_type": "stream",
     "text": [
      "2021-05-06 10:59:28,934 - modnet - INFO - Preset #8 fitting finished, loss: 0.3491928935050964\n"
     ]
    },
    {
     "name": "stderr",
     "output_type": "stream",
     "text": [
      "  7%|▋         | 25/360 [12:06<1:07:23, 12.07s/it]"
     ]
    },
    {
     "name": "stdout",
     "output_type": "stream",
     "text": [
      "2021-05-06 10:59:44,413 - modnet - INFO - Preset #11 fitting finished, loss: 0.3510977625846863\n"
     ]
    },
    {
     "name": "stderr",
     "output_type": "stream",
     "text": [
      "  7%|▋         | 26/360 [12:21<1:12:42, 13.06s/it]"
     ]
    },
    {
     "name": "stdout",
     "output_type": "stream",
     "text": [
      "2021-05-06 10:59:45,758 - modnet - INFO - Preset #10 fitting finished, loss: 0.34470627307891843\n"
     ]
    },
    {
     "name": "stderr",
     "output_type": "stream",
     "text": [
      "  8%|▊         | 27/360 [12:22<52:40,  9.49s/it]  "
     ]
    },
    {
     "name": "stdout",
     "output_type": "stream",
     "text": [
      "2021-05-06 10:59:46,462 - modnet - INFO - Preset #9 fitting finished, loss: 0.30675567388534547\n"
     ]
    },
    {
     "name": "stderr",
     "output_type": "stream",
     "text": [
      "  8%|▊         | 28/360 [12:24<40:28,  7.32s/it]"
     ]
    },
    {
     "name": "stdout",
     "output_type": "stream",
     "text": [
      "2021-05-06 10:59:53,860 - modnet - INFO - Preset #2 fitting finished, loss: 0.338326621055603\n"
     ]
    },
    {
     "name": "stderr",
     "output_type": "stream",
     "text": [
      "  8%|▊         | 29/360 [12:30<37:49,  6.86s/it]"
     ]
    },
    {
     "name": "stdout",
     "output_type": "stream",
     "text": [
      "2021-05-06 11:00:02,309 - modnet - INFO - Preset #3 fitting finished, loss: 0.3352886736392975\n"
     ]
    },
    {
     "name": "stderr",
     "output_type": "stream",
     "text": [
      "  8%|▊         | 30/360 [12:39<40:47,  7.42s/it]"
     ]
    },
    {
     "name": "stdout",
     "output_type": "stream",
     "text": [
      "2021-05-06 11:00:03,536 - modnet - INFO - Preset #4 fitting finished, loss: 0.35219297409057615\n"
     ]
    },
    {
     "name": "stderr",
     "output_type": "stream",
     "text": [
      "  9%|▊         | 31/360 [12:40<30:17,  5.53s/it]"
     ]
    },
    {
     "name": "stdout",
     "output_type": "stream",
     "text": [
      "2021-05-06 11:00:06,523 - modnet - INFO - Preset #2 fitting finished, loss: 0.34343008399009706\n"
     ]
    },
    {
     "name": "stderr",
     "output_type": "stream",
     "text": [
      "  9%|▉         | 32/360 [12:43<26:15,  4.80s/it]"
     ]
    },
    {
     "name": "stdout",
     "output_type": "stream",
     "text": [
      "2021-05-06 11:00:37,931 - modnet - INFO - Preset #0 fitting finished, loss: 0.4165035545825958\n"
     ]
    },
    {
     "name": "stderr",
     "output_type": "stream",
     "text": [
      "  9%|▉         | 33/360 [13:14<1:09:39, 12.78s/it]"
     ]
    },
    {
     "name": "stdout",
     "output_type": "stream",
     "text": [
      "2021-05-06 11:00:39,508 - modnet - INFO - Preset #7 fitting finished, loss: 0.39217626452445986\n"
     ]
    },
    {
     "name": "stderr",
     "output_type": "stream",
     "text": [
      "  9%|▉         | 34/360 [13:16<51:17,  9.44s/it]  "
     ]
    },
    {
     "name": "stdout",
     "output_type": "stream",
     "text": [
      "2021-05-06 11:00:48,699 - modnet - INFO - Preset #10 fitting finished, loss: 0.34660943746566775\n"
     ]
    },
    {
     "name": "stderr",
     "output_type": "stream",
     "text": [
      " 10%|▉         | 35/360 [13:25<50:51,  9.39s/it]"
     ]
    },
    {
     "name": "stdout",
     "output_type": "stream",
     "text": [
      "2021-05-06 11:00:49,876 - modnet - INFO - Preset #9 fitting finished, loss: 0.3806085705757141\n"
     ]
    },
    {
     "name": "stderr",
     "output_type": "stream",
     "text": [
      " 10%|█         | 36/360 [13:26<37:04,  6.86s/it]"
     ]
    },
    {
     "name": "stdout",
     "output_type": "stream",
     "text": [
      "2021-05-06 11:00:52,728 - modnet - INFO - Preset #7 fitting finished, loss: 0.37781964540481566\n"
     ]
    },
    {
     "name": "stderr",
     "output_type": "stream",
     "text": [
      " 10%|█         | 37/360 [13:29<30:48,  5.72s/it]"
     ]
    },
    {
     "name": "stdout",
     "output_type": "stream",
     "text": [
      "2021-05-06 11:00:56,057 - modnet - INFO - Preset #1 fitting finished, loss: 0.39463367462158205\n"
     ]
    },
    {
     "name": "stderr",
     "output_type": "stream",
     "text": [
      " 11%|█         | 38/360 [13:32<26:28,  4.93s/it]"
     ]
    },
    {
     "name": "stdout",
     "output_type": "stream",
     "text": [
      "2021-05-06 11:01:03,151 - modnet - INFO - Preset #9 fitting finished, loss: 0.34641088247299195\n"
     ]
    },
    {
     "name": "stderr",
     "output_type": "stream",
     "text": [
      " 11%|█         | 39/360 [13:40<29:58,  5.60s/it]"
     ]
    },
    {
     "name": "stdout",
     "output_type": "stream",
     "text": [
      "2021-05-06 11:01:08,961 - modnet - INFO - Preset #8 fitting finished, loss: 0.3085323810577393\n"
     ]
    },
    {
     "name": "stderr",
     "output_type": "stream",
     "text": [
      " 11%|█         | 40/360 [13:45<30:08,  5.65s/it]"
     ]
    },
    {
     "name": "stdout",
     "output_type": "stream",
     "text": [
      "2021-05-06 11:01:21,952 - modnet - INFO - Preset #6 fitting finished, loss: 0.3494276762008667\n"
     ]
    },
    {
     "name": "stderr",
     "output_type": "stream",
     "text": [
      " 11%|█▏        | 41/360 [13:58<41:54,  7.88s/it]"
     ]
    },
    {
     "name": "stdout",
     "output_type": "stream",
     "text": [
      "2021-05-06 11:01:22,683 - modnet - INFO - Preset #8 fitting finished, loss: 0.3694332480430603\n"
     ]
    },
    {
     "name": "stderr",
     "output_type": "stream",
     "text": [
      " 12%|█▏        | 42/360 [13:59<30:08,  5.69s/it]"
     ]
    },
    {
     "name": "stdout",
     "output_type": "stream",
     "text": [
      "2021-05-06 11:01:36,648 - modnet - INFO - Preset #11 fitting finished, loss: 0.3438490033149719\n"
     ]
    },
    {
     "name": "stderr",
     "output_type": "stream",
     "text": [
      " 12%|█▏        | 43/360 [14:13<43:24,  8.21s/it]"
     ]
    },
    {
     "name": "stdout",
     "output_type": "stream",
     "text": [
      "2021-05-06 11:01:46,902 - modnet - INFO - Preset #1 fitting finished, loss: 0.3606452584266663\n"
     ]
    },
    {
     "name": "stderr",
     "output_type": "stream",
     "text": [
      " 12%|█▏        | 44/360 [14:23<46:15,  8.78s/it]"
     ]
    },
    {
     "name": "stdout",
     "output_type": "stream",
     "text": [
      "2021-05-06 11:01:49,002 - modnet - INFO - Preset #11 fitting finished, loss: 0.3568896412849426\n"
     ]
    },
    {
     "name": "stderr",
     "output_type": "stream",
     "text": [
      " 12%|█▎        | 45/360 [14:25<35:41,  6.80s/it]"
     ]
    },
    {
     "name": "stdout",
     "output_type": "stream",
     "text": [
      "2021-05-06 11:01:55,592 - modnet - INFO - Preset #0 fitting finished, loss: 0.3731458604335785\n"
     ]
    },
    {
     "name": "stderr",
     "output_type": "stream",
     "text": [
      " 13%|█▎        | 46/360 [14:32<35:18,  6.75s/it]"
     ]
    },
    {
     "name": "stdout",
     "output_type": "stream",
     "text": [
      "2021-05-06 11:02:07,223 - modnet - INFO - Preset #5 fitting finished, loss: 0.3586384952068329\n"
     ]
    },
    {
     "name": "stderr",
     "output_type": "stream",
     "text": [
      " 13%|█▎        | 47/360 [14:44<42:44,  8.19s/it]"
     ]
    },
    {
     "name": "stdout",
     "output_type": "stream",
     "text": [
      "2021-05-06 11:02:15,841 - modnet - INFO - Preset #0 fitting finished, loss: 0.36434956192970275\n"
     ]
    },
    {
     "name": "stderr",
     "output_type": "stream",
     "text": [
      " 13%|█▎        | 48/360 [14:52<43:06,  8.29s/it]"
     ]
    },
    {
     "name": "stdout",
     "output_type": "stream",
     "text": [
      "2021-05-06 11:02:25,336 - modnet - INFO - Preset #7 fitting finished, loss: 0.37326743006706237\n"
     ]
    },
    {
     "name": "stderr",
     "output_type": "stream",
     "text": [
      " 14%|█▎        | 49/360 [15:02<45:01,  8.69s/it]"
     ]
    },
    {
     "name": "stdout",
     "output_type": "stream",
     "text": [
      "2021-05-06 11:02:27,798 - modnet - INFO - Preset #6 fitting finished, loss: 0.3893779754638672\n"
     ]
    },
    {
     "name": "stderr",
     "output_type": "stream",
     "text": [
      " 14%|█▍        | 50/360 [15:04<35:15,  6.82s/it]"
     ]
    },
    {
     "name": "stdout",
     "output_type": "stream",
     "text": [
      "2021-05-06 11:02:35,833 - modnet - INFO - Preset #6 fitting finished, loss: 0.37093475461006165\n"
     ]
    },
    {
     "name": "stderr",
     "output_type": "stream",
     "text": [
      " 14%|█▍        | 51/360 [15:12<36:54,  7.17s/it]"
     ]
    },
    {
     "name": "stdout",
     "output_type": "stream",
     "text": [
      "2021-05-06 11:02:40,542 - modnet - INFO - Preset #0 fitting finished, loss: 0.3509034991264343\n"
     ]
    },
    {
     "name": "stderr",
     "output_type": "stream",
     "text": [
      " 14%|█▍        | 52/360 [15:17<32:59,  6.43s/it]"
     ]
    },
    {
     "name": "stdout",
     "output_type": "stream",
     "text": [
      "2021-05-06 11:03:02,649 - modnet - INFO - Preset #1 fitting finished, loss: 0.3473160147666931\n"
     ]
    },
    {
     "name": "stderr",
     "output_type": "stream",
     "text": [
      " 15%|█▍        | 53/360 [15:39<57:00, 11.14s/it]"
     ]
    },
    {
     "name": "stdout",
     "output_type": "stream",
     "text": [
      "2021-05-06 11:03:30,046 - modnet - INFO - Preset #1 fitting finished, loss: 0.3852785170078278\n"
     ]
    },
    {
     "name": "stderr",
     "output_type": "stream",
     "text": [
      " 15%|█▌        | 54/360 [16:06<1:21:43, 16.02s/it]"
     ]
    },
    {
     "name": "stdout",
     "output_type": "stream",
     "text": [
      "2021-05-06 11:03:51,009 - modnet - INFO - Preset #1 fitting finished, loss: 0.3825576603412628\n"
     ]
    },
    {
     "name": "stderr",
     "output_type": "stream",
     "text": [
      " 15%|█▌        | 55/360 [16:27<1:28:35, 17.43s/it]"
     ]
    },
    {
     "name": "stdout",
     "output_type": "stream",
     "text": [
      "2021-05-06 11:04:02,606 - modnet - INFO - Preset #6 fitting finished, loss: 0.3778649091720581\n"
     ]
    },
    {
     "name": "stderr",
     "output_type": "stream",
     "text": [
      " 16%|█▌        | 56/360 [16:39<1:19:37, 15.72s/it]"
     ]
    },
    {
     "name": "stdout",
     "output_type": "stream",
     "text": [
      "2021-05-06 11:05:04,503 - modnet - INFO - Preset #6 fitting finished, loss: 0.4026245713233948\n"
     ]
    },
    {
     "name": "stderr",
     "output_type": "stream",
     "text": [
      " 16%|█▌        | 57/360 [17:41<2:29:44, 29.65s/it]"
     ]
    },
    {
     "name": "stdout",
     "output_type": "stream",
     "text": [
      "2021-05-06 11:05:19,643 - modnet - INFO - Preset #12 fitting finished, loss: 0.3876002311706543\n"
     ]
    },
    {
     "name": "stderr",
     "output_type": "stream",
     "text": [
      " 16%|█▌        | 58/360 [17:57<2:09:16, 25.68s/it]"
     ]
    },
    {
     "name": "stdout",
     "output_type": "stream",
     "text": [
      "2021-05-06 11:05:21,680 - modnet - INFO - Preset #7 fitting finished, loss: 0.38008699417114256\n"
     ]
    },
    {
     "name": "stderr",
     "output_type": "stream",
     "text": [
      " 16%|█▋        | 59/360 [17:58<1:30:55, 18.12s/it]"
     ]
    },
    {
     "name": "stdout",
     "output_type": "stream",
     "text": [
      "2021-05-06 11:06:17,945 - modnet - INFO - Preset #22 fitting finished, loss: 0.3972183525562286\n"
     ]
    },
    {
     "name": "stderr",
     "output_type": "stream",
     "text": [
      " 17%|█▋        | 60/360 [18:54<2:28:01, 29.60s/it]"
     ]
    },
    {
     "name": "stdout",
     "output_type": "stream",
     "text": [
      "2021-05-06 11:06:29,036 - modnet - INFO - Preset #14 fitting finished, loss: 0.3419005572795868\n"
     ]
    },
    {
     "name": "stderr",
     "output_type": "stream",
     "text": [
      " 17%|█▋        | 61/360 [19:05<1:59:39, 24.01s/it]"
     ]
    },
    {
     "name": "stdout",
     "output_type": "stream",
     "text": [
      "2021-05-06 11:06:33,540 - modnet - INFO - Preset #0 fitting finished, loss: 0.37203028202056887\n"
     ]
    },
    {
     "name": "stderr",
     "output_type": "stream",
     "text": [
      " 17%|█▋        | 62/360 [19:10<1:30:21, 18.19s/it]"
     ]
    },
    {
     "name": "stdout",
     "output_type": "stream",
     "text": [
      "2021-05-06 11:06:37,425 - modnet - INFO - Preset #12 fitting finished, loss: 0.39124252200126647\n"
     ]
    },
    {
     "name": "stderr",
     "output_type": "stream",
     "text": [
      " 18%|█▊        | 63/360 [19:14<1:08:41, 13.88s/it]"
     ]
    },
    {
     "name": "stdout",
     "output_type": "stream",
     "text": [
      "2021-05-06 11:06:44,120 - modnet - INFO - Preset #7 fitting finished, loss: 0.3429215610027313\n"
     ]
    },
    {
     "name": "stderr",
     "output_type": "stream",
     "text": [
      " 18%|█▊        | 64/360 [19:21<58:02, 11.76s/it]  "
     ]
    },
    {
     "name": "stdout",
     "output_type": "stream",
     "text": [
      "2021-05-06 11:06:50,839 - modnet - INFO - Preset #22 fitting finished, loss: 0.4624112844467163\n"
     ]
    },
    {
     "name": "stderr",
     "output_type": "stream",
     "text": [
      " 18%|█▊        | 65/360 [19:27<50:34, 10.29s/it]"
     ]
    },
    {
     "name": "stdout",
     "output_type": "stream",
     "text": [
      "2021-05-06 11:07:27,093 - modnet - INFO - Preset #14 fitting finished, loss: 0.32072853446006777\n"
     ]
    },
    {
     "name": "stderr",
     "output_type": "stream",
     "text": [
      " 18%|█▊        | 66/360 [20:04<1:28:41, 18.10s/it]"
     ]
    },
    {
     "name": "stdout",
     "output_type": "stream",
     "text": [
      "2021-05-06 11:07:46,312 - modnet - INFO - Preset #23 fitting finished, loss: 0.4701894879341125\n"
     ]
    },
    {
     "name": "stderr",
     "output_type": "stream",
     "text": [
      " 19%|█▊        | 67/360 [20:23<1:30:05, 18.45s/it]"
     ]
    },
    {
     "name": "stdout",
     "output_type": "stream",
     "text": [
      "2021-05-06 11:07:49,339 - modnet - INFO - Preset #20 fitting finished, loss: 0.40202358961105344\n"
     ]
    },
    {
     "name": "stderr",
     "output_type": "stream",
     "text": [
      " 19%|█▉        | 68/360 [20:26<1:07:02, 13.77s/it]"
     ]
    },
    {
     "name": "stdout",
     "output_type": "stream",
     "text": [
      "2021-05-06 11:08:06,699 - modnet - INFO - Preset #20 fitting finished, loss: 0.3564349353313446\n"
     ]
    },
    {
     "name": "stderr",
     "output_type": "stream",
     "text": [
      " 19%|█▉        | 69/360 [20:43<1:11:56, 14.83s/it]"
     ]
    },
    {
     "name": "stdout",
     "output_type": "stream",
     "text": [
      "2021-05-06 11:08:11,611 - modnet - INFO - Preset #16 fitting finished, loss: 0.34212765097618103\n"
     ]
    },
    {
     "name": "stderr",
     "output_type": "stream",
     "text": [
      " 19%|█▉        | 70/360 [20:48<57:06, 11.81s/it]  "
     ]
    },
    {
     "name": "stdout",
     "output_type": "stream",
     "text": [
      "2021-05-06 11:08:18,246 - modnet - INFO - Preset #13 fitting finished, loss: 0.37361055612564087\n"
     ]
    },
    {
     "name": "stderr",
     "output_type": "stream",
     "text": [
      " 20%|█▉        | 71/360 [20:55<49:40, 10.31s/it]"
     ]
    },
    {
     "name": "stdout",
     "output_type": "stream",
     "text": [
      "2021-05-06 11:08:23,291 - modnet - INFO - Preset #12 fitting finished, loss: 0.3669207274913788\n"
     ]
    },
    {
     "name": "stderr",
     "output_type": "stream",
     "text": [
      " 20%|██        | 72/360 [21:00<41:43,  8.69s/it]"
     ]
    },
    {
     "name": "stdout",
     "output_type": "stream",
     "text": [
      "2021-05-06 11:08:29,396 - modnet - INFO - Preset #13 fitting finished, loss: 0.39039618372917173\n"
     ]
    },
    {
     "name": "stderr",
     "output_type": "stream",
     "text": [
      " 20%|██        | 73/360 [21:06<37:56,  7.93s/it]"
     ]
    },
    {
     "name": "stdout",
     "output_type": "stream",
     "text": [
      "2021-05-06 11:08:30,028 - modnet - INFO - Preset #13 fitting finished, loss: 0.384806489944458\n"
     ]
    },
    {
     "name": "stderr",
     "output_type": "stream",
     "text": [
      " 21%|██        | 74/360 [21:07<27:28,  5.76s/it]"
     ]
    },
    {
     "name": "stdout",
     "output_type": "stream",
     "text": [
      "2021-05-06 11:08:50,416 - modnet - INFO - Preset #20 fitting finished, loss: 0.2989312410354614\n"
     ]
    },
    {
     "name": "stderr",
     "output_type": "stream",
     "text": [
      " 21%|██        | 75/360 [21:27<48:02, 10.11s/it]"
     ]
    },
    {
     "name": "stdout",
     "output_type": "stream",
     "text": [
      "2021-05-06 11:09:04,464 - modnet - INFO - Preset #14 fitting finished, loss: 0.35789536833763125\n"
     ]
    },
    {
     "name": "stderr",
     "output_type": "stream",
     "text": [
      " 21%|██        | 76/360 [21:41<53:36, 11.33s/it]"
     ]
    },
    {
     "name": "stdout",
     "output_type": "stream",
     "text": [
      "2021-05-06 11:09:06,298 - modnet - INFO - Preset #16 fitting finished, loss: 0.40330191850662234\n"
     ]
    },
    {
     "name": "stderr",
     "output_type": "stream",
     "text": [
      " 21%|██▏       | 77/360 [21:43<40:12,  8.53s/it]"
     ]
    },
    {
     "name": "stdout",
     "output_type": "stream",
     "text": [
      "2021-05-06 11:09:11,354 - modnet - INFO - Preset #16 fitting finished, loss: 0.33134045600891116\n"
     ]
    },
    {
     "name": "stderr",
     "output_type": "stream",
     "text": [
      " 22%|██▏       | 78/360 [21:48<34:53,  7.42s/it]"
     ]
    },
    {
     "name": "stdout",
     "output_type": "stream",
     "text": [
      "2021-05-06 11:09:12,014 - modnet - INFO - Preset #12 fitting finished, loss: 0.33987016081809995\n"
     ]
    },
    {
     "name": "stderr",
     "output_type": "stream",
     "text": [
      " 22%|██▏       | 79/360 [21:49<25:28,  5.44s/it]"
     ]
    },
    {
     "name": "stdout",
     "output_type": "stream",
     "text": [
      "2021-05-06 11:09:19,218 - modnet - INFO - Preset #18 fitting finished, loss: 0.3671784818172455\n"
     ]
    },
    {
     "name": "stderr",
     "output_type": "stream",
     "text": [
      " 22%|██▏       | 80/360 [21:56<27:33,  5.91s/it]"
     ]
    },
    {
     "name": "stdout",
     "output_type": "stream",
     "text": [
      "2021-05-06 11:09:30,588 - modnet - INFO - Preset #15 fitting finished, loss: 0.3462535083293915\n"
     ]
    },
    {
     "name": "stderr",
     "output_type": "stream",
     "text": [
      " 22%|██▎       | 81/360 [22:07<35:25,  7.62s/it]"
     ]
    },
    {
     "name": "stdout",
     "output_type": "stream",
     "text": [
      "2021-05-06 11:09:36,404 - modnet - INFO - Preset #14 fitting finished, loss: 0.39322254061698914\n"
     ]
    },
    {
     "name": "stderr",
     "output_type": "stream",
     "text": [
      " 23%|██▎       | 82/360 [22:13<32:39,  7.05s/it]"
     ]
    },
    {
     "name": "stdout",
     "output_type": "stream",
     "text": [
      "2021-05-06 11:09:37,643 - modnet - INFO - Preset #21 fitting finished, loss: 0.3080745220184326\n"
     ]
    },
    {
     "name": "stderr",
     "output_type": "stream",
     "text": [
      " 23%|██▎       | 83/360 [22:14<24:25,  5.29s/it]"
     ]
    },
    {
     "name": "stdout",
     "output_type": "stream",
     "text": [
      "2021-05-06 11:09:39,527 - modnet - INFO - Preset #17 fitting finished, loss: 0.35883307456970215\n"
     ]
    },
    {
     "name": "stderr",
     "output_type": "stream",
     "text": [
      " 23%|██▎       | 84/360 [22:16<19:39,  4.27s/it]"
     ]
    },
    {
     "name": "stdout",
     "output_type": "stream",
     "text": [
      "2021-05-06 11:10:04,223 - modnet - INFO - Preset #17 fitting finished, loss: 0.3644936680793762\n"
     ]
    },
    {
     "name": "stderr",
     "output_type": "stream",
     "text": [
      " 24%|██▎       | 85/360 [22:41<47:30, 10.37s/it]"
     ]
    },
    {
     "name": "stdout",
     "output_type": "stream",
     "text": [
      "2021-05-06 11:10:04,817 - modnet - INFO - Preset #16 fitting finished, loss: 0.3562882959842682\n"
     ]
    },
    {
     "name": "stderr",
     "output_type": "stream",
     "text": [
      " 24%|██▍       | 86/360 [22:41<33:59,  7.44s/it]"
     ]
    },
    {
     "name": "stdout",
     "output_type": "stream",
     "text": [
      "2021-05-06 11:10:07,784 - modnet - INFO - Preset #17 fitting finished, loss: 0.3134066522121429\n"
     ]
    },
    {
     "name": "stderr",
     "output_type": "stream",
     "text": [
      " 24%|██▍       | 87/360 [22:44<27:47,  6.11s/it]"
     ]
    },
    {
     "name": "stdout",
     "output_type": "stream",
     "text": [
      "2021-05-06 11:10:36,085 - modnet - INFO - Preset #12 fitting finished, loss: 0.402535492181778\n"
     ]
    },
    {
     "name": "stderr",
     "output_type": "stream",
     "text": [
      " 24%|██▍       | 88/360 [23:13<57:54, 12.77s/it]"
     ]
    },
    {
     "name": "stdout",
     "output_type": "stream",
     "text": [
      "2021-05-06 11:10:42,329 - modnet - INFO - Preset #20 fitting finished, loss: 0.33682440519332885\n"
     ]
    },
    {
     "name": "stderr",
     "output_type": "stream",
     "text": [
      " 25%|██▍       | 89/360 [23:19<48:35, 10.76s/it]"
     ]
    },
    {
     "name": "stdout",
     "output_type": "stream",
     "text": [
      "2021-05-06 11:11:09,198 - modnet - INFO - Preset #21 fitting finished, loss: 0.3408228695392609\n"
     ]
    },
    {
     "name": "stderr",
     "output_type": "stream",
     "text": [
      " 25%|██▌       | 90/360 [23:46<1:10:33, 15.68s/it]"
     ]
    },
    {
     "name": "stdout",
     "output_type": "stream",
     "text": [
      "2021-05-06 11:11:40,526 - modnet - INFO - Preset #22 fitting finished, loss: 0.35068252086639407\n"
     ]
    },
    {
     "name": "stderr",
     "output_type": "stream",
     "text": [
      " 25%|██▌       | 91/360 [24:17<1:31:01, 20.30s/it]"
     ]
    },
    {
     "name": "stdout",
     "output_type": "stream",
     "text": [
      "2021-05-06 11:11:49,513 - modnet - INFO - Preset #23 fitting finished, loss: 0.36360247135162355\n"
     ]
    },
    {
     "name": "stderr",
     "output_type": "stream",
     "text": [
      " 26%|██▌       | 92/360 [24:26<1:15:31, 16.91s/it]"
     ]
    },
    {
     "name": "stdout",
     "output_type": "stream",
     "text": [
      "2021-05-06 11:11:53,665 - modnet - INFO - Preset #15 fitting finished, loss: 0.3281203150749207\n"
     ]
    },
    {
     "name": "stderr",
     "output_type": "stream",
     "text": [
      " 26%|██▌       | 93/360 [24:30<58:17, 13.10s/it]  "
     ]
    },
    {
     "name": "stdout",
     "output_type": "stream",
     "text": [
      "2021-05-06 11:12:06,252 - modnet - INFO - Preset #23 fitting finished, loss: 0.36901673674583435\n"
     ]
    },
    {
     "name": "stderr",
     "output_type": "stream",
     "text": [
      " 26%|██▌       | 94/360 [24:43<57:38, 13.00s/it]"
     ]
    },
    {
     "name": "stdout",
     "output_type": "stream",
     "text": [
      "2021-05-06 11:12:07,062 - modnet - INFO - Preset #19 fitting finished, loss: 0.33150096535682677\n"
     ]
    },
    {
     "name": "stderr",
     "output_type": "stream",
     "text": [
      " 26%|██▋       | 95/360 [24:43<40:55,  9.27s/it]"
     ]
    },
    {
     "name": "stdout",
     "output_type": "stream",
     "text": [
      "2021-05-06 11:12:09,266 - modnet - INFO - Preset #19 fitting finished, loss: 0.3147516906261444\n"
     ]
    },
    {
     "name": "stderr",
     "output_type": "stream",
     "text": [
      " 27%|██▋       | 96/360 [24:46<31:31,  7.16s/it]"
     ]
    },
    {
     "name": "stdout",
     "output_type": "stream",
     "text": [
      "2021-05-06 11:12:15,700 - modnet - INFO - Preset #15 fitting finished, loss: 0.35749449133872985\n"
     ]
    },
    {
     "name": "stderr",
     "output_type": "stream",
     "text": [
      " 27%|██▋       | 97/360 [24:52<30:37,  6.99s/it]"
     ]
    },
    {
     "name": "stdout",
     "output_type": "stream",
     "text": [
      "2021-05-06 11:12:16,982 - modnet - INFO - Preset #17 fitting finished, loss: 0.35369659662246705\n"
     ]
    },
    {
     "name": "stderr",
     "output_type": "stream",
     "text": [
      " 27%|██▋       | 98/360 [24:53<22:47,  5.22s/it]"
     ]
    },
    {
     "name": "stdout",
     "output_type": "stream",
     "text": [
      "2021-05-06 11:12:18,045 - modnet - INFO - Preset #15 fitting finished, loss: 0.41241735219955444\n"
     ]
    },
    {
     "name": "stderr",
     "output_type": "stream",
     "text": [
      " 28%|██▊       | 99/360 [24:55<17:28,  4.02s/it]"
     ]
    },
    {
     "name": "stdout",
     "output_type": "stream",
     "text": [
      "2021-05-06 11:12:25,781 - modnet - INFO - Preset #14 fitting finished, loss: 0.3582573115825653\n"
     ]
    },
    {
     "name": "stderr",
     "output_type": "stream",
     "text": [
      " 28%|██▊       | 100/360 [25:02<22:17,  5.14s/it]"
     ]
    },
    {
     "name": "stdout",
     "output_type": "stream",
     "text": [
      "2021-05-06 11:12:36,661 - modnet - INFO - Preset #22 fitting finished, loss: 0.33163511753082275\n"
     ]
    },
    {
     "name": "stderr",
     "output_type": "stream",
     "text": [
      " 28%|██▊       | 101/360 [25:13<29:36,  6.86s/it]"
     ]
    },
    {
     "name": "stdout",
     "output_type": "stream",
     "text": [
      "2021-05-06 11:12:46,603 - modnet - INFO - Preset #16 fitting finished, loss: 0.3600592315196991\n"
     ]
    },
    {
     "name": "stderr",
     "output_type": "stream",
     "text": [
      " 28%|██▊       | 102/360 [25:23<33:27,  7.78s/it]"
     ]
    },
    {
     "name": "stdout",
     "output_type": "stream",
     "text": [
      "2021-05-06 11:12:53,682 - modnet - INFO - Preset #21 fitting finished, loss: 0.3422326147556305\n"
     ]
    },
    {
     "name": "stderr",
     "output_type": "stream",
     "text": [
      " 29%|██▊       | 103/360 [25:30<32:32,  7.60s/it]"
     ]
    },
    {
     "name": "stdout",
     "output_type": "stream",
     "text": [
      "2021-05-06 11:13:15,770 - modnet - INFO - Preset #13 fitting finished, loss: 0.3368449568748474\n"
     ]
    },
    {
     "name": "stderr",
     "output_type": "stream",
     "text": [
      " 29%|██▉       | 104/360 [25:52<50:55, 11.93s/it]"
     ]
    },
    {
     "name": "stdout",
     "output_type": "stream",
     "text": [
      "2021-05-06 11:13:16,517 - modnet - INFO - Preset #19 fitting finished, loss: 0.37244904041290283\n"
     ]
    },
    {
     "name": "stderr",
     "output_type": "stream",
     "text": [
      " 29%|██▉       | 105/360 [25:53<36:14,  8.53s/it]"
     ]
    },
    {
     "name": "stdout",
     "output_type": "stream",
     "text": [
      "2021-05-06 11:13:19,987 - modnet - INFO - Preset #29 fitting finished, loss: 0.34512680768966675\n"
     ]
    },
    {
     "name": "stderr",
     "output_type": "stream",
     "text": [
      " 29%|██▉       | 106/360 [25:57<29:56,  7.07s/it]"
     ]
    },
    {
     "name": "stdout",
     "output_type": "stream",
     "text": [
      "2021-05-06 11:13:30,405 - modnet - INFO - Preset #21 fitting finished, loss: 0.37621275186538694\n"
     ]
    },
    {
     "name": "stderr",
     "output_type": "stream",
     "text": [
      " 30%|██▉       | 107/360 [26:07<33:41,  7.99s/it]"
     ]
    },
    {
     "name": "stdout",
     "output_type": "stream",
     "text": [
      "2021-05-06 11:13:32,040 - modnet - INFO - Preset #17 fitting finished, loss: 0.35828800201416017\n"
     ]
    },
    {
     "name": "stderr",
     "output_type": "stream",
     "text": [
      " 30%|███       | 108/360 [26:09<25:46,  6.14s/it]"
     ]
    },
    {
     "name": "stdout",
     "output_type": "stream",
     "text": [
      "2021-05-06 11:13:43,431 - modnet - INFO - Preset #18 fitting finished, loss: 0.36152798533439634\n"
     ]
    },
    {
     "name": "stderr",
     "output_type": "stream",
     "text": [
      " 30%|███       | 109/360 [26:20<32:00,  7.65s/it]"
     ]
    },
    {
     "name": "stdout",
     "output_type": "stream",
     "text": [
      "2021-05-06 11:13:53,443 - modnet - INFO - Preset #19 fitting finished, loss: 0.34011504650115965\n"
     ]
    },
    {
     "name": "stderr",
     "output_type": "stream",
     "text": [
      " 31%|███       | 110/360 [26:30<35:13,  8.46s/it]"
     ]
    },
    {
     "name": "stdout",
     "output_type": "stream",
     "text": [
      "2021-05-06 11:13:54,234 - modnet - INFO - Preset #18 fitting finished, loss: 0.32164803743362425\n"
     ]
    },
    {
     "name": "stderr",
     "output_type": "stream",
     "text": [
      " 31%|███       | 111/360 [26:31<25:26,  6.13s/it]"
     ]
    },
    {
     "name": "stdout",
     "output_type": "stream",
     "text": [
      "2021-05-06 11:14:05,640 - modnet - INFO - Preset #22 fitting finished, loss: 0.33134310841560366\n"
     ]
    },
    {
     "name": "stderr",
     "output_type": "stream",
     "text": [
      " 31%|███       | 112/360 [26:42<31:47,  7.69s/it]"
     ]
    },
    {
     "name": "stdout",
     "output_type": "stream",
     "text": [
      "2021-05-06 11:14:08,375 - modnet - INFO - Preset #13 fitting finished, loss: 0.4089593172073364\n"
     ]
    },
    {
     "name": "stderr",
     "output_type": "stream",
     "text": [
      " 31%|███▏      | 113/360 [26:45<25:39,  6.23s/it]"
     ]
    },
    {
     "name": "stdout",
     "output_type": "stream",
     "text": [
      "2021-05-06 11:14:14,483 - modnet - INFO - Preset #15 fitting finished, loss: 0.3487828135490417\n"
     ]
    },
    {
     "name": "stderr",
     "output_type": "stream",
     "text": [
      " 32%|███▏      | 114/360 [26:51<25:06,  6.13s/it]"
     ]
    },
    {
     "name": "stdout",
     "output_type": "stream",
     "text": [
      "2021-05-06 11:14:36,347 - modnet - INFO - Preset #28 fitting finished, loss: 0.4381220877170563\n"
     ]
    },
    {
     "name": "stderr",
     "output_type": "stream",
     "text": [
      " 32%|███▏      | 115/360 [27:13<44:37, 10.93s/it]"
     ]
    },
    {
     "name": "stdout",
     "output_type": "stream",
     "text": [
      "2021-05-06 11:14:43,873 - modnet - INFO - Preset #18 fitting finished, loss: 0.34250143766403196\n"
     ]
    },
    {
     "name": "stderr",
     "output_type": "stream",
     "text": [
      " 32%|███▏      | 116/360 [27:20<39:59,  9.83s/it]"
     ]
    },
    {
     "name": "stdout",
     "output_type": "stream",
     "text": [
      "2021-05-06 11:14:49,368 - modnet - INFO - Preset #28 fitting finished, loss: 0.3838165819644928\n"
     ]
    },
    {
     "name": "stderr",
     "output_type": "stream",
     "text": [
      " 32%|███▎      | 117/360 [27:26<34:38,  8.55s/it]"
     ]
    },
    {
     "name": "stdout",
     "output_type": "stream",
     "text": [
      "2021-05-06 11:14:50,917 - modnet - INFO - Preset #20 fitting finished, loss: 0.33785146474838257\n"
     ]
    },
    {
     "name": "stderr",
     "output_type": "stream",
     "text": [
      " 33%|███▎      | 118/360 [27:27<26:01,  6.45s/it]"
     ]
    },
    {
     "name": "stdout",
     "output_type": "stream",
     "text": [
      "2021-05-06 11:14:55,732 - modnet - INFO - Preset #23 fitting finished, loss: 0.3560845613479614\n"
     ]
    },
    {
     "name": "stderr",
     "output_type": "stream",
     "text": [
      " 33%|███▎      | 119/360 [27:32<23:58,  5.97s/it]"
     ]
    },
    {
     "name": "stdout",
     "output_type": "stream",
     "text": [
      "2021-05-06 11:15:51,242 - modnet - INFO - Preset #21 fitting finished, loss: 0.34448668360710144\n"
     ]
    },
    {
     "name": "stderr",
     "output_type": "stream",
     "text": [
      " 33%|███▎      | 120/360 [28:27<1:23:04, 20.77s/it]"
     ]
    },
    {
     "name": "stdout",
     "output_type": "stream",
     "text": [
      "2021-05-06 11:15:59,523 - modnet - INFO - Preset #19 fitting finished, loss: 0.3573835611343384\n"
     ]
    },
    {
     "name": "stderr",
     "output_type": "stream",
     "text": [
      " 34%|███▎      | 121/360 [28:36<1:08:04, 17.09s/it]"
     ]
    },
    {
     "name": "stdout",
     "output_type": "stream",
     "text": [
      "2021-05-06 11:16:22,454 - modnet - INFO - Preset #24 fitting finished, loss: 0.3668372809886932\n"
     ]
    },
    {
     "name": "stderr",
     "output_type": "stream",
     "text": [
      " 34%|███▍      | 122/360 [28:59<1:14:40, 18.83s/it]"
     ]
    },
    {
     "name": "stdout",
     "output_type": "stream",
     "text": [
      "2021-05-06 11:16:25,950 - modnet - INFO - Preset #28 fitting finished, loss: 0.34017413258552553\n"
     ]
    },
    {
     "name": "stderr",
     "output_type": "stream",
     "text": [
      " 34%|███▍      | 123/360 [29:02<56:17, 14.25s/it]  "
     ]
    },
    {
     "name": "stdout",
     "output_type": "stream",
     "text": [
      "2021-05-06 11:16:32,293 - modnet - INFO - Preset #26 fitting finished, loss: 0.34237948060035706\n"
     ]
    },
    {
     "name": "stderr",
     "output_type": "stream",
     "text": [
      " 34%|███▍      | 124/360 [29:09<46:45, 11.89s/it]"
     ]
    },
    {
     "name": "stdout",
     "output_type": "stream",
     "text": [
      "2021-05-06 11:16:34,279 - modnet - INFO - Preset #26 fitting finished, loss: 0.33941314816474916\n"
     ]
    },
    {
     "name": "stderr",
     "output_type": "stream",
     "text": [
      " 35%|███▍      | 125/360 [29:11<34:50,  8.89s/it]"
     ]
    },
    {
     "name": "stdout",
     "output_type": "stream",
     "text": [
      "2021-05-06 11:16:40,880 - modnet - INFO - Preset #24 fitting finished, loss: 0.3473321318626404\n"
     ]
    },
    {
     "name": "stderr",
     "output_type": "stream",
     "text": [
      " 35%|███▌      | 126/360 [29:17<31:47,  8.15s/it]"
     ]
    },
    {
     "name": "stdout",
     "output_type": "stream",
     "text": [
      "2021-05-06 11:16:42,054 - modnet - INFO - Preset #28 fitting finished, loss: 0.3363196074962616\n"
     ]
    },
    {
     "name": "stderr",
     "output_type": "stream",
     "text": [
      " 35%|███▌      | 127/360 [29:19<23:53,  6.15s/it]"
     ]
    },
    {
     "name": "stdout",
     "output_type": "stream",
     "text": [
      "2021-05-06 11:16:51,292 - modnet - INFO - Preset #18 fitting finished, loss: 0.33413211703300477\n"
     ]
    },
    {
     "name": "stderr",
     "output_type": "stream",
     "text": [
      " 36%|███▌      | 128/360 [29:28<27:18,  7.06s/it]"
     ]
    },
    {
     "name": "stdout",
     "output_type": "stream",
     "text": [
      "2021-05-06 11:16:54,840 - modnet - INFO - Preset #27 fitting finished, loss: 0.3375315546989441\n"
     ]
    },
    {
     "name": "stderr",
     "output_type": "stream",
     "text": [
      " 36%|███▌      | 129/360 [29:31<22:54,  5.95s/it]"
     ]
    },
    {
     "name": "stdout",
     "output_type": "stream",
     "text": [
      "2021-05-06 11:16:56,869 - modnet - INFO - Preset #29 fitting finished, loss: 0.4425162672996521\n"
     ]
    },
    {
     "name": "stderr",
     "output_type": "stream",
     "text": [
      " 36%|███▌      | 130/360 [29:33<18:21,  4.79s/it]"
     ]
    },
    {
     "name": "stdout",
     "output_type": "stream",
     "text": [
      "2021-05-06 11:16:59,683 - modnet - INFO - Preset #26 fitting finished, loss: 0.34060571789741517\n"
     ]
    },
    {
     "name": "stderr",
     "output_type": "stream",
     "text": [
      " 36%|███▋      | 131/360 [29:39<19:17,  5.05s/it]"
     ]
    },
    {
     "name": "stdout",
     "output_type": "stream",
     "text": [
      "2021-05-06 11:17:11,260 - modnet - INFO - Preset #23 fitting finished, loss: 0.3613184928894043\n"
     ]
    },
    {
     "name": "stderr",
     "output_type": "stream",
     "text": [
      " 37%|███▋      | 132/360 [29:48<23:29,  6.18s/it]"
     ]
    },
    {
     "name": "stdout",
     "output_type": "stream",
     "text": [
      "2021-05-06 11:17:33,864 - modnet - INFO - Preset #25 fitting finished, loss: 0.3578007400035858\n"
     ]
    },
    {
     "name": "stderr",
     "output_type": "stream",
     "text": [
      " 37%|███▋      | 133/360 [30:10<42:03, 11.12s/it]"
     ]
    },
    {
     "name": "stdout",
     "output_type": "stream",
     "text": [
      "2021-05-06 11:17:57,262 - modnet - INFO - Preset #27 fitting finished, loss: 0.324034982919693\n"
     ]
    },
    {
     "name": "stderr",
     "output_type": "stream",
     "text": [
      " 37%|███▋      | 134/360 [30:34<55:47, 14.81s/it]"
     ]
    },
    {
     "name": "stdout",
     "output_type": "stream",
     "text": [
      "2021-05-06 11:18:11,823 - modnet - INFO - Preset #29 fitting finished, loss: 0.3696770310401917\n"
     ]
    },
    {
     "name": "stderr",
     "output_type": "stream",
     "text": [
      " 38%|███▊      | 135/360 [30:48<55:18, 14.75s/it]"
     ]
    },
    {
     "name": "stdout",
     "output_type": "stream",
     "text": [
      "2021-05-06 11:18:22,670 - modnet - INFO - Preset #29 fitting finished, loss: 0.35157893896102904\n"
     ]
    },
    {
     "name": "stderr",
     "output_type": "stream",
     "text": [
      " 38%|███▊      | 136/360 [30:59<50:24, 13.50s/it]"
     ]
    },
    {
     "name": "stdout",
     "output_type": "stream",
     "text": [
      "2021-05-06 11:18:44,343 - modnet - INFO - Preset #25 fitting finished, loss: 0.32505999207496644\n"
     ]
    },
    {
     "name": "stderr",
     "output_type": "stream",
     "text": [
      " 38%|███▊      | 137/360 [31:21<59:30, 16.01s/it]"
     ]
    },
    {
     "name": "stdout",
     "output_type": "stream",
     "text": [
      "2021-05-06 11:18:50,658 - modnet - INFO - Preset #27 fitting finished, loss: 0.34119015336036684\n"
     ]
    },
    {
     "name": "stderr",
     "output_type": "stream",
     "text": [
      " 38%|███▊      | 138/360 [31:27<48:35, 13.13s/it]"
     ]
    },
    {
     "name": "stdout",
     "output_type": "stream",
     "text": [
      "2021-05-06 11:18:59,143 - modnet - INFO - Preset #27 fitting finished, loss: 0.341719377040863\n"
     ]
    },
    {
     "name": "stderr",
     "output_type": "stream",
     "text": [
      " 39%|███▊      | 139/360 [31:36<43:10, 11.72s/it]"
     ]
    },
    {
     "name": "stdout",
     "output_type": "stream",
     "text": [
      "2021-05-06 11:19:19,364 - modnet - INFO - Preset #29 fitting finished, loss: 0.33382455110549925\n"
     ]
    },
    {
     "name": "stderr",
     "output_type": "stream",
     "text": [
      " 39%|███▉      | 140/360 [31:56<52:27, 14.31s/it]"
     ]
    },
    {
     "name": "stdout",
     "output_type": "stream",
     "text": [
      "2021-05-06 11:19:21,814 - modnet - INFO - Preset #25 fitting finished, loss: 0.35394773483276365\n"
     ]
    },
    {
     "name": "stderr",
     "output_type": "stream",
     "text": [
      " 39%|███▉      | 141/360 [31:58<38:51, 10.65s/it]"
     ]
    },
    {
     "name": "stdout",
     "output_type": "stream",
     "text": [
      "2021-05-06 11:19:36,453 - modnet - INFO - Preset #27 fitting finished, loss: 0.34454628825187683\n"
     ]
    },
    {
     "name": "stderr",
     "output_type": "stream",
     "text": [
      " 39%|███▉      | 142/360 [32:13<43:10, 11.88s/it]"
     ]
    },
    {
     "name": "stdout",
     "output_type": "stream",
     "text": [
      "2021-05-06 11:20:01,183 - modnet - INFO - Preset #28 fitting finished, loss: 0.33810200691223147\n"
     ]
    },
    {
     "name": "stderr",
     "output_type": "stream",
     "text": [
      " 40%|███▉      | 143/360 [32:38<57:05, 15.78s/it]"
     ]
    },
    {
     "name": "stdout",
     "output_type": "stream",
     "text": [
      "2021-05-06 11:20:03,748 - modnet - INFO - Preset #26 fitting finished, loss: 0.3329183042049408\n"
     ]
    },
    {
     "name": "stderr",
     "output_type": "stream",
     "text": [
      " 40%|████      | 144/360 [32:40<42:26, 11.79s/it]"
     ]
    },
    {
     "name": "stdout",
     "output_type": "stream",
     "text": [
      "2021-05-06 11:20:17,772 - modnet - INFO - Preset #26 fitting finished, loss: 0.30012531876564025\n"
     ]
    },
    {
     "name": "stderr",
     "output_type": "stream",
     "text": [
      " 40%|████      | 145/360 [32:54<44:44, 12.48s/it]"
     ]
    },
    {
     "name": "stdout",
     "output_type": "stream",
     "text": [
      "2021-05-06 11:20:46,014 - modnet - INFO - Preset #24 fitting finished, loss: 0.31193724274635315\n"
     ]
    },
    {
     "name": "stderr",
     "output_type": "stream",
     "text": [
      " 41%|████      | 146/360 [33:23<1:01:24, 17.22s/it]"
     ]
    },
    {
     "name": "stdout",
     "output_type": "stream",
     "text": [
      "2021-05-06 11:21:15,416 - modnet - INFO - Preset #24 fitting finished, loss: 0.36659743785858157\n"
     ]
    },
    {
     "name": "stderr",
     "output_type": "stream",
     "text": [
      " 41%|████      | 147/360 [33:52<1:14:05, 20.87s/it]"
     ]
    },
    {
     "name": "stdout",
     "output_type": "stream",
     "text": [
      "2021-05-06 11:21:43,950 - modnet - INFO - Preset #30 fitting finished, loss: 0.3650310099124908\n"
     ]
    },
    {
     "name": "stderr",
     "output_type": "stream",
     "text": [
      " 41%|████      | 148/360 [34:20<1:21:44, 23.14s/it]"
     ]
    },
    {
     "name": "stdout",
     "output_type": "stream",
     "text": [
      "2021-05-06 11:21:56,243 - modnet - INFO - Preset #25 fitting finished, loss: 0.3415637195110321\n"
     ]
    },
    {
     "name": "stderr",
     "output_type": "stream",
     "text": [
      " 41%|████▏     | 149/360 [34:33<1:10:13, 19.97s/it]"
     ]
    },
    {
     "name": "stdout",
     "output_type": "stream",
     "text": [
      "2021-05-06 11:22:04,864 - modnet - INFO - Preset #40 fitting finished, loss: 0.40118147134780885\n"
     ]
    },
    {
     "name": "stderr",
     "output_type": "stream",
     "text": [
      " 42%|████▏     | 150/360 [34:41<57:35, 16.45s/it]  "
     ]
    },
    {
     "name": "stdout",
     "output_type": "stream",
     "text": [
      "2021-05-06 11:22:12,310 - modnet - INFO - Preset #40 fitting finished, loss: 0.47008479237556455\n"
     ]
    },
    {
     "name": "stderr",
     "output_type": "stream",
     "text": [
      " 42%|████▏     | 151/360 [34:49<48:10, 13.83s/it]"
     ]
    },
    {
     "name": "stdout",
     "output_type": "stream",
     "text": [
      "2021-05-06 11:22:21,420 - modnet - INFO - Preset #32 fitting finished, loss: 0.33896792531013487\n"
     ]
    },
    {
     "name": "stderr",
     "output_type": "stream",
     "text": [
      " 42%|████▏     | 152/360 [34:58<42:50, 12.36s/it]"
     ]
    },
    {
     "name": "stdout",
     "output_type": "stream",
     "text": [
      "2021-05-06 11:22:37,910 - modnet - INFO - Preset #33 fitting finished, loss: 0.3653975188732147\n"
     ]
    },
    {
     "name": "stderr",
     "output_type": "stream",
     "text": [
      " 42%|████▎     | 153/360 [35:14<47:00, 13.63s/it]"
     ]
    },
    {
     "name": "stdout",
     "output_type": "stream",
     "text": [
      "2021-05-06 11:22:51,205 - modnet - INFO - Preset #30 fitting finished, loss: 0.36220866441726685\n"
     ]
    },
    {
     "name": "stderr",
     "output_type": "stream",
     "text": [
      " 43%|████▎     | 154/360 [35:28<46:31, 13.55s/it]"
     ]
    },
    {
     "name": "stdout",
     "output_type": "stream",
     "text": [
      "2021-05-06 11:22:54,115 - modnet - INFO - Preset #40 fitting finished, loss: 4.4220681428909305\n"
     ]
    },
    {
     "name": "stderr",
     "output_type": "stream",
     "text": [
      " 43%|████▎     | 155/360 [35:31<35:31, 10.40s/it]"
     ]
    },
    {
     "name": "stdout",
     "output_type": "stream",
     "text": [
      "2021-05-06 11:22:59,105 - modnet - INFO - Preset #41 fitting finished, loss: 0.39713371992111207\n"
     ]
    },
    {
     "name": "stderr",
     "output_type": "stream",
     "text": [
      " 43%|████▎     | 156/360 [35:36<29:33,  8.69s/it]"
     ]
    },
    {
     "name": "stdout",
     "output_type": "stream",
     "text": [
      "2021-05-06 11:23:03,095 - modnet - INFO - Preset #33 fitting finished, loss: 0.3465924859046936\n"
     ]
    },
    {
     "name": "stderr",
     "output_type": "stream",
     "text": [
      " 44%|████▎     | 157/360 [35:40<24:39,  7.29s/it]"
     ]
    },
    {
     "name": "stdout",
     "output_type": "stream",
     "text": [
      "2021-05-06 11:23:10,016 - modnet - INFO - Preset #32 fitting finished, loss: 0.3442885637283325\n"
     ]
    },
    {
     "name": "stderr",
     "output_type": "stream",
     "text": [
      " 44%|████▍     | 158/360 [35:46<24:01,  7.13s/it]"
     ]
    },
    {
     "name": "stdout",
     "output_type": "stream",
     "text": [
      "2021-05-06 11:23:11,426 - modnet - INFO - Preset #25 fitting finished, loss: 0.37821802496910095\n"
     ]
    },
    {
     "name": "stderr",
     "output_type": "stream",
     "text": [
      " 44%|████▍     | 159/360 [35:48<18:23,  5.49s/it]"
     ]
    },
    {
     "name": "stdout",
     "output_type": "stream",
     "text": [
      "2021-05-06 11:23:20,530 - modnet - INFO - Preset #40 fitting finished, loss: 0.43430299758911134\n"
     ]
    },
    {
     "name": "stderr",
     "output_type": "stream",
     "text": [
      " 44%|████▍     | 160/360 [35:57<21:47,  6.54s/it]"
     ]
    },
    {
     "name": "stdout",
     "output_type": "stream",
     "text": [
      "2021-05-06 11:23:30,019 - modnet - INFO - Preset #35 fitting finished, loss: 0.34764493107795713\n"
     ]
    },
    {
     "name": "stderr",
     "output_type": "stream",
     "text": [
      " 45%|████▍     | 161/360 [36:07<24:42,  7.45s/it]"
     ]
    },
    {
     "name": "stdout",
     "output_type": "stream",
     "text": [
      "2021-05-06 11:23:32,757 - modnet - INFO - Preset #35 fitting finished, loss: 0.33600825667381284\n"
     ]
    },
    {
     "name": "stderr",
     "output_type": "stream",
     "text": [
      " 45%|████▌     | 162/360 [36:09<19:40,  5.96s/it]"
     ]
    },
    {
     "name": "stdout",
     "output_type": "stream",
     "text": [
      "2021-05-06 11:23:41,382 - modnet - INFO - Preset #35 fitting finished, loss: 0.3816051959991455\n"
     ]
    },
    {
     "name": "stderr",
     "output_type": "stream",
     "text": [
      " 45%|████▌     | 163/360 [36:18<22:19,  6.80s/it]"
     ]
    },
    {
     "name": "stdout",
     "output_type": "stream",
     "text": [
      "2021-05-06 11:23:47,603 - modnet - INFO - Preset #24 fitting finished, loss: 0.3424532234668732\n"
     ]
    },
    {
     "name": "stderr",
     "output_type": "stream",
     "text": [
      " 46%|████▌     | 164/360 [36:24<21:35,  6.61s/it]"
     ]
    },
    {
     "name": "stdout",
     "output_type": "stream",
     "text": [
      "2021-05-06 11:24:00,783 - modnet - INFO - Preset #38 fitting finished, loss: 0.3801177263259888\n"
     ]
    },
    {
     "name": "stderr",
     "output_type": "stream",
     "text": [
      " 46%|████▌     | 165/360 [36:37<27:58,  8.61s/it]"
     ]
    },
    {
     "name": "stdout",
     "output_type": "stream",
     "text": [
      "2021-05-06 11:24:02,466 - modnet - INFO - Preset #38 fitting finished, loss: 0.44903523921966554\n"
     ]
    },
    {
     "name": "stderr",
     "output_type": "stream",
     "text": [
      " 46%|████▌     | 166/360 [36:39<21:02,  6.51s/it]"
     ]
    },
    {
     "name": "stdout",
     "output_type": "stream",
     "text": [
      "2021-05-06 11:24:03,762 - modnet - INFO - Preset #33 fitting finished, loss: 0.3515672624111176\n"
     ]
    },
    {
     "name": "stderr",
     "output_type": "stream",
     "text": [
      " 46%|████▋     | 167/360 [36:40<16:01,  4.98s/it]"
     ]
    },
    {
     "name": "stdout",
     "output_type": "stream",
     "text": [
      "2021-05-06 11:24:18,224 - modnet - INFO - Preset #41 fitting finished, loss: 0.471233069896698\n"
     ]
    },
    {
     "name": "stderr",
     "output_type": "stream",
     "text": [
      " 47%|████▋     | 168/360 [36:55<25:04,  7.84s/it]"
     ]
    },
    {
     "name": "stdout",
     "output_type": "stream",
     "text": [
      "2021-05-06 11:24:29,409 - modnet - INFO - Preset #34 fitting finished, loss: 0.30358248949050903\n"
     ]
    },
    {
     "name": "stderr",
     "output_type": "stream",
     "text": [
      " 47%|████▋     | 169/360 [37:06<27:58,  8.79s/it]"
     ]
    },
    {
     "name": "stdout",
     "output_type": "stream",
     "text": [
      "2021-05-06 11:24:36,207 - modnet - INFO - Preset #40 fitting finished, loss: 0.4105571746826172\n"
     ]
    },
    {
     "name": "stderr",
     "output_type": "stream",
     "text": [
      " 47%|████▋     | 170/360 [37:13<25:59,  8.21s/it]"
     ]
    },
    {
     "name": "stdout",
     "output_type": "stream",
     "text": [
      "2021-05-06 11:24:56,928 - modnet - INFO - Preset #32 fitting finished, loss: 0.35135852694511416\n"
     ]
    },
    {
     "name": "stderr",
     "output_type": "stream",
     "text": [
      " 48%|████▊     | 171/360 [37:33<37:39, 11.95s/it]"
     ]
    },
    {
     "name": "stdout",
     "output_type": "stream",
     "text": [
      "2021-05-06 11:25:03,974 - modnet - INFO - Preset #41 fitting finished, loss: 1.8521082997322083\n"
     ]
    },
    {
     "name": "stderr",
     "output_type": "stream",
     "text": [
      " 48%|████▊     | 172/360 [37:41<33:04, 10.55s/it]"
     ]
    },
    {
     "name": "stdout",
     "output_type": "stream",
     "text": [
      "2021-05-06 11:25:40,841 - modnet - INFO - Preset #32 fitting finished, loss: 0.3389208972454071\n"
     ]
    },
    {
     "name": "stderr",
     "output_type": "stream",
     "text": [
      " 48%|████▊     | 173/360 [38:18<57:32, 18.46s/it]"
     ]
    },
    {
     "name": "stdout",
     "output_type": "stream",
     "text": [
      "2021-05-06 11:25:41,788 - modnet - INFO - Preset #33 fitting finished, loss: 0.31745548248291017\n"
     ]
    },
    {
     "name": "stderr",
     "output_type": "stream",
     "text": [
      " 48%|████▊     | 174/360 [38:22<43:49, 14.14s/it]"
     ]
    },
    {
     "name": "stdout",
     "output_type": "stream",
     "text": [
      "2021-05-06 11:25:45,825 - modnet - INFO - Preset #34 fitting finished, loss: 0.33550175428390505\n"
     ]
    },
    {
     "name": "stderr",
     "output_type": "stream",
     "text": [
      " 49%|████▊     | 175/360 [38:22<31:07, 10.10s/it]"
     ]
    },
    {
     "name": "stdout",
     "output_type": "stream",
     "text": [
      "2021-05-06 11:25:46,609 - modnet - INFO - Preset #34 fitting finished, loss: 0.3677946746349335\n"
     ]
    },
    {
     "name": "stderr",
     "output_type": "stream",
     "text": [
      " 49%|████▉     | 176/360 [38:23<22:25,  7.31s/it]"
     ]
    },
    {
     "name": "stdout",
     "output_type": "stream",
     "text": [
      "2021-05-06 11:26:14,626 - modnet - INFO - Preset #37 fitting finished, loss: 0.3520867586135864\n"
     ]
    },
    {
     "name": "stderr",
     "output_type": "stream",
     "text": [
      " 49%|████▉     | 177/360 [38:51<41:24, 13.57s/it]"
     ]
    },
    {
     "name": "stdout",
     "output_type": "stream",
     "text": [
      "2021-05-06 11:26:18,206 - modnet - INFO - Preset #35 fitting finished, loss: 0.32928925156593325\n"
     ]
    },
    {
     "name": "stderr",
     "output_type": "stream",
     "text": [
      " 49%|████▉     | 178/360 [38:55<32:04, 10.57s/it]"
     ]
    },
    {
     "name": "stdout",
     "output_type": "stream",
     "text": [
      "2021-05-06 11:26:29,451 - modnet - INFO - Preset #34 fitting finished, loss: 0.3610724568367004\n"
     ]
    },
    {
     "name": "stderr",
     "output_type": "stream",
     "text": [
      " 50%|████▉     | 179/360 [39:06<32:27, 10.76s/it]"
     ]
    },
    {
     "name": "stdout",
     "output_type": "stream",
     "text": [
      "2021-05-06 11:26:42,008 - modnet - INFO - Preset #39 fitting finished, loss: 0.41943652033805845\n"
     ]
    },
    {
     "name": "stderr",
     "output_type": "stream",
     "text": [
      " 50%|█████     | 180/360 [39:18<33:47, 11.27s/it]"
     ]
    },
    {
     "name": "stdout",
     "output_type": "stream",
     "text": [
      "2021-05-06 11:26:46,636 - modnet - INFO - Preset #37 fitting finished, loss: 0.35405596494674685\n"
     ]
    },
    {
     "name": "stderr",
     "output_type": "stream",
     "text": [
      " 50%|█████     | 181/360 [39:23<27:45,  9.31s/it]"
     ]
    },
    {
     "name": "stdout",
     "output_type": "stream",
     "text": [
      "2021-05-06 11:26:51,067 - modnet - INFO - Preset #46 fitting finished, loss: 0.3974557161331177\n"
     ]
    },
    {
     "name": "stderr",
     "output_type": "stream",
     "text": [
      " 51%|█████     | 182/360 [39:27<23:08,  7.80s/it]"
     ]
    },
    {
     "name": "stdout",
     "output_type": "stream",
     "text": [
      "2021-05-06 11:26:53,712 - modnet - INFO - Preset #38 fitting finished, loss: 0.35523453950881956\n"
     ]
    },
    {
     "name": "stderr",
     "output_type": "stream",
     "text": [
      " 51%|█████     | 183/360 [39:30<18:31,  6.28s/it]"
     ]
    },
    {
     "name": "stdout",
     "output_type": "stream",
     "text": [
      "2021-05-06 11:26:56,275 - modnet - INFO - Preset #39 fitting finished, loss: 0.3781629204750061\n"
     ]
    },
    {
     "name": "stderr",
     "output_type": "stream",
     "text": [
      " 51%|█████     | 184/360 [39:33<15:14,  5.19s/it]"
     ]
    },
    {
     "name": "stdout",
     "output_type": "stream",
     "text": [
      "2021-05-06 11:27:13,451 - modnet - INFO - Preset #30 fitting finished, loss: 0.373676723241806\n"
     ]
    },
    {
     "name": "stderr",
     "output_type": "stream",
     "text": [
      " 51%|█████▏    | 185/360 [39:50<25:27,  8.73s/it]"
     ]
    },
    {
     "name": "stdout",
     "output_type": "stream",
     "text": [
      "2021-05-06 11:27:29,992 - modnet - INFO - Preset #46 fitting finished, loss: 0.4711478650569916\n"
     ]
    },
    {
     "name": "stderr",
     "output_type": "stream",
     "text": [
      " 52%|█████▏    | 186/360 [40:07<32:14, 11.12s/it]"
     ]
    },
    {
     "name": "stdout",
     "output_type": "stream",
     "text": [
      "2021-05-06 11:27:32,202 - modnet - INFO - Preset #30 fitting finished, loss: 0.39117022752761843\n"
     ]
    },
    {
     "name": "stderr",
     "output_type": "stream",
     "text": [
      " 52%|█████▏    | 187/360 [40:09<24:19,  8.44s/it]"
     ]
    },
    {
     "name": "stdout",
     "output_type": "stream",
     "text": [
      "2021-05-06 11:27:36,183 - modnet - INFO - Preset #41 fitting finished, loss: 0.40931262373924254\n"
     ]
    },
    {
     "name": "stderr",
     "output_type": "stream",
     "text": [
      " 52%|█████▏    | 188/360 [40:13<20:22,  7.11s/it]"
     ]
    },
    {
     "name": "stdout",
     "output_type": "stream",
     "text": [
      "2021-05-06 11:27:46,901 - modnet - INFO - Preset #31 fitting finished, loss: 0.3375461161136627\n"
     ]
    },
    {
     "name": "stderr",
     "output_type": "stream",
     "text": [
      " 52%|█████▎    | 189/360 [40:23<23:16,  8.17s/it]"
     ]
    },
    {
     "name": "stdout",
     "output_type": "stream",
     "text": [
      "2021-05-06 11:27:59,326 - modnet - INFO - Preset #44 fitting finished, loss: 0.37441458106040953\n"
     ]
    },
    {
     "name": "stderr",
     "output_type": "stream",
     "text": [
      " 53%|█████▎    | 190/360 [40:36<26:55,  9.50s/it]"
     ]
    },
    {
     "name": "stdout",
     "output_type": "stream",
     "text": [
      "2021-05-06 11:28:00,459 - modnet - INFO - Preset #31 fitting finished, loss: 0.373303747177124\n"
     ]
    },
    {
     "name": "stderr",
     "output_type": "stream",
     "text": [
      " 53%|█████▎    | 191/360 [40:37<19:38,  6.98s/it]"
     ]
    },
    {
     "name": "stdout",
     "output_type": "stream",
     "text": [
      "2021-05-06 11:28:13,614 - modnet - INFO - Preset #45 fitting finished, loss: 0.3822225868701935\n"
     ]
    },
    {
     "name": "stderr",
     "output_type": "stream",
     "text": [
      " 53%|█████▎    | 192/360 [40:50<24:38,  8.80s/it]"
     ]
    },
    {
     "name": "stdout",
     "output_type": "stream",
     "text": [
      "2021-05-06 11:28:30,246 - modnet - INFO - Preset #34 fitting finished, loss: 0.34012511372566223\n"
     ]
    },
    {
     "name": "stderr",
     "output_type": "stream",
     "text": [
      " 54%|█████▎    | 193/360 [41:07<31:02, 11.15s/it]"
     ]
    },
    {
     "name": "stdout",
     "output_type": "stream",
     "text": [
      "2021-05-06 11:28:32,363 - modnet - INFO - Preset #32 fitting finished, loss: 0.3340116024017334\n"
     ]
    },
    {
     "name": "stderr",
     "output_type": "stream",
     "text": [
      " 54%|█████▍    | 194/360 [41:09<23:21,  8.44s/it]"
     ]
    },
    {
     "name": "stdout",
     "output_type": "stream",
     "text": [
      "2021-05-06 11:28:42,816 - modnet - INFO - Preset #31 fitting finished, loss: 0.36451918482780454\n"
     ]
    },
    {
     "name": "stderr",
     "output_type": "stream",
     "text": [
      " 54%|█████▍    | 195/360 [41:19<24:42,  8.98s/it]"
     ]
    },
    {
     "name": "stdout",
     "output_type": "stream",
     "text": [
      "2021-05-06 11:28:45,421 - modnet - INFO - Preset #36 fitting finished, loss: 0.31362152099609375\n"
     ]
    },
    {
     "name": "stderr",
     "output_type": "stream",
     "text": [
      " 54%|█████▍    | 196/360 [41:22<19:35,  7.17s/it]"
     ]
    },
    {
     "name": "stdout",
     "output_type": "stream",
     "text": [
      "2021-05-06 11:28:46,867 - modnet - INFO - Preset #37 fitting finished, loss: 0.3376354932785034\n"
     ]
    },
    {
     "name": "stderr",
     "output_type": "stream",
     "text": [
      " 55%|█████▍    | 197/360 [41:24<14:49,  5.46s/it]"
     ]
    },
    {
     "name": "stdout",
     "output_type": "stream",
     "text": [
      "2021-05-06 11:28:49,503 - modnet - INFO - Preset #30 fitting finished, loss: 0.35075666308403014\n"
     ]
    },
    {
     "name": "stderr",
     "output_type": "stream",
     "text": [
      " 55%|█████▌    | 198/360 [41:26<12:26,  4.61s/it]"
     ]
    },
    {
     "name": "stdout",
     "output_type": "stream",
     "text": [
      "2021-05-06 11:28:50,380 - modnet - INFO - Preset #35 fitting finished, loss: 0.34351383447647094\n"
     ]
    },
    {
     "name": "stderr",
     "output_type": "stream",
     "text": [
      " 55%|█████▌    | 199/360 [41:27<09:11,  3.43s/it]"
     ]
    },
    {
     "name": "stdout",
     "output_type": "stream",
     "text": [
      "2021-05-06 11:28:51,964 - modnet - INFO - Preset #38 fitting finished, loss: 0.32586705684661865\n"
     ]
    },
    {
     "name": "stderr",
     "output_type": "stream",
     "text": [
      " 56%|█████▌    | 200/360 [41:29<07:49,  2.94s/it]"
     ]
    },
    {
     "name": "stdout",
     "output_type": "stream",
     "text": [
      "2021-05-06 11:28:56,085 - modnet - INFO - Preset #39 fitting finished, loss: 0.36601688861846926\n"
     ]
    },
    {
     "name": "stderr",
     "output_type": "stream",
     "text": [
      " 56%|█████▌    | 201/360 [41:33<08:35,  3.24s/it]"
     ]
    },
    {
     "name": "stdout",
     "output_type": "stream",
     "text": [
      "2021-05-06 11:29:07,407 - modnet - INFO - Preset #37 fitting finished, loss: 0.32478336691856385\n"
     ]
    },
    {
     "name": "stderr",
     "output_type": "stream",
     "text": [
      " 56%|█████▌    | 202/360 [41:44<15:00,  5.70s/it]"
     ]
    },
    {
     "name": "stdout",
     "output_type": "stream",
     "text": [
      "2021-05-06 11:29:12,459 - modnet - INFO - Preset #44 fitting finished, loss: 0.39066333174705503\n"
     ]
    },
    {
     "name": "stderr",
     "output_type": "stream",
     "text": [
      " 56%|█████▋    | 203/360 [41:49<14:22,  5.50s/it]"
     ]
    },
    {
     "name": "stdout",
     "output_type": "stream",
     "text": [
      "2021-05-06 11:29:43,029 - modnet - INFO - Preset #47 fitting finished, loss: 0.4701580286026001\n"
     ]
    },
    {
     "name": "stderr",
     "output_type": "stream",
     "text": [
      " 57%|█████▋    | 204/360 [42:20<33:46, 12.99s/it]"
     ]
    },
    {
     "name": "stdout",
     "output_type": "stream",
     "text": [
      "2021-05-06 11:29:49,922 - modnet - INFO - Preset #46 fitting finished, loss: 0.39247389435768126\n"
     ]
    },
    {
     "name": "stderr",
     "output_type": "stream",
     "text": [
      " 57%|█████▋    | 205/360 [42:26<28:52, 11.17s/it]"
     ]
    },
    {
     "name": "stdout",
     "output_type": "stream",
     "text": [
      "2021-05-06 11:29:52,959 - modnet - INFO - Preset #43 fitting finished, loss: 0.298409104347229\n"
     ]
    },
    {
     "name": "stderr",
     "output_type": "stream",
     "text": [
      " 57%|█████▋    | 206/360 [42:30<22:26,  8.75s/it]"
     ]
    },
    {
     "name": "stdout",
     "output_type": "stream",
     "text": [
      "2021-05-06 11:29:55,115 - modnet - INFO - Preset #42 fitting finished, loss: 0.3266750454902649\n"
     ]
    },
    {
     "name": "stderr",
     "output_type": "stream",
     "text": [
      " 57%|█████▊    | 207/360 [42:32<17:15,  6.77s/it]"
     ]
    },
    {
     "name": "stdout",
     "output_type": "stream",
     "text": [
      "2021-05-06 11:29:57,922 - modnet - INFO - Preset #47 fitting finished, loss: 0.40296527147293093\n"
     ]
    },
    {
     "name": "stderr",
     "output_type": "stream",
     "text": [
      " 58%|█████▊    | 208/360 [42:35<14:11,  5.60s/it]"
     ]
    },
    {
     "name": "stdout",
     "output_type": "stream",
     "text": [
      "2021-05-06 11:30:08,660 - modnet - INFO - Preset #41 fitting finished, loss: 0.3995249330997467\n"
     ]
    },
    {
     "name": "stderr",
     "output_type": "stream",
     "text": [
      " 58%|█████▊    | 209/360 [42:45<18:00,  7.15s/it]"
     ]
    },
    {
     "name": "stdout",
     "output_type": "stream",
     "text": [
      "2021-05-06 11:30:20,694 - modnet - INFO - Preset #39 fitting finished, loss: 1479.258493041992\n"
     ]
    },
    {
     "name": "stderr",
     "output_type": "stream",
     "text": [
      " 58%|█████▊    | 210/360 [42:57<21:25,  8.57s/it]"
     ]
    },
    {
     "name": "stdout",
     "output_type": "stream",
     "text": [
      "2021-05-06 11:30:54,172 - modnet - INFO - Preset #36 fitting finished, loss: 0.35684136152267454\n"
     ]
    },
    {
     "name": "stderr",
     "output_type": "stream",
     "text": [
      " 59%|█████▊    | 211/360 [43:31<39:42, 15.99s/it]"
     ]
    },
    {
     "name": "stdout",
     "output_type": "stream",
     "text": [
      "2021-05-06 11:30:56,098 - modnet - INFO - Preset #31 fitting finished, loss: 0.3554994761943817\n"
     ]
    },
    {
     "name": "stderr",
     "output_type": "stream",
     "text": [
      " 59%|█████▉    | 212/360 [43:33<29:08, 11.81s/it]"
     ]
    },
    {
     "name": "stdout",
     "output_type": "stream",
     "text": [
      "2021-05-06 11:30:58,554 - modnet - INFO - Preset #37 fitting finished, loss: 496.65906982421876\n"
     ]
    },
    {
     "name": "stderr",
     "output_type": "stream",
     "text": [
      " 59%|█████▉    | 213/360 [43:35<22:12,  9.07s/it]"
     ]
    },
    {
     "name": "stdout",
     "output_type": "stream",
     "text": [
      "2021-05-06 11:31:05,963 - modnet - INFO - Preset #43 fitting finished, loss: 0.3335388541221619\n"
     ]
    },
    {
     "name": "stderr",
     "output_type": "stream",
     "text": [
      " 59%|█████▉    | 214/360 [43:43<20:46,  8.54s/it]"
     ]
    },
    {
     "name": "stdout",
     "output_type": "stream",
     "text": [
      "2021-05-06 11:31:14,912 - modnet - INFO - Preset #36 fitting finished, loss: 0.34386083483695984\n"
     ]
    },
    {
     "name": "stderr",
     "output_type": "stream",
     "text": [
      " 60%|█████▉    | 215/360 [43:51<20:48,  8.61s/it]"
     ]
    },
    {
     "name": "stdout",
     "output_type": "stream",
     "text": [
      "2021-05-06 11:31:18,045 - modnet - INFO - Preset #31 fitting finished, loss: 0.38216119408607485\n"
     ]
    },
    {
     "name": "stderr",
     "output_type": "stream",
     "text": [
      " 60%|██████    | 216/360 [43:54<16:42,  6.97s/it]"
     ]
    },
    {
     "name": "stdout",
     "output_type": "stream",
     "text": [
      "2021-05-06 11:31:39,904 - modnet - INFO - Preset #36 fitting finished, loss: 0.34284245371818545\n"
     ]
    },
    {
     "name": "stderr",
     "output_type": "stream",
     "text": [
      " 60%|██████    | 217/360 [44:16<27:22, 11.49s/it]"
     ]
    },
    {
     "name": "stdout",
     "output_type": "stream",
     "text": [
      "2021-05-06 11:32:06,346 - modnet - INFO - Preset #53 fitting finished, loss: 0.4701759159564972\n"
     ]
    },
    {
     "name": "stderr",
     "output_type": "stream",
     "text": [
      " 61%|██████    | 218/360 [44:43<37:47, 15.97s/it]"
     ]
    },
    {
     "name": "stdout",
     "output_type": "stream",
     "text": [
      "2021-05-06 11:32:18,566 - modnet - INFO - Preset #33 fitting finished, loss: 0.3294548451900482\n"
     ]
    },
    {
     "name": "stderr",
     "output_type": "stream",
     "text": [
      " 61%|██████    | 219/360 [44:55<34:59, 14.89s/it]"
     ]
    },
    {
     "name": "stdout",
     "output_type": "stream",
     "text": [
      "2021-05-06 11:32:23,198 - modnet - INFO - Preset #52 fitting finished, loss: 0.39702162742614744\n"
     ]
    },
    {
     "name": "stderr",
     "output_type": "stream",
     "text": [
      " 61%|██████    | 220/360 [45:00<27:29, 11.78s/it]"
     ]
    },
    {
     "name": "stdout",
     "output_type": "stream",
     "text": [
      "2021-05-06 11:32:34,243 - modnet - INFO - Preset #43 fitting finished, loss: 227.05176696777343\n"
     ]
    },
    {
     "name": "stderr",
     "output_type": "stream",
     "text": [
      " 61%|██████▏   | 221/360 [45:11<26:47, 11.56s/it]"
     ]
    },
    {
     "name": "stdout",
     "output_type": "stream",
     "text": [
      "2021-05-06 11:32:36,119 - modnet - INFO - Preset #42 fitting finished, loss: 0.3425892353057861\n"
     ]
    },
    {
     "name": "stderr",
     "output_type": "stream",
     "text": [
      " 62%|██████▏   | 222/360 [45:16<22:16,  9.68s/it]"
     ]
    },
    {
     "name": "stdout",
     "output_type": "stream",
     "text": [
      "2021-05-06 11:32:42,428 - modnet - INFO - Preset #53 fitting finished, loss: 0.38584778904914857\n"
     ]
    },
    {
     "name": "stderr",
     "output_type": "stream",
     "text": [
      " 62%|██████▏   | 223/360 [45:19<17:22,  7.61s/it]"
     ]
    },
    {
     "name": "stdout",
     "output_type": "stream",
     "text": [
      "2021-05-06 11:33:22,024 - modnet - INFO - Preset #43 fitting finished, loss: 0.3538277804851532\n"
     ]
    },
    {
     "name": "stderr",
     "output_type": "stream",
     "text": [
      " 62%|██████▏   | 224/360 [45:59<39:08, 17.27s/it]"
     ]
    },
    {
     "name": "stdout",
     "output_type": "stream",
     "text": [
      "2021-05-06 11:33:28,257 - modnet - INFO - Preset #42 fitting finished, loss: 0.35577322244644166\n"
     ]
    },
    {
     "name": "stderr",
     "output_type": "stream",
     "text": [
      " 62%|██████▎   | 225/360 [46:05<31:18, 13.92s/it]"
     ]
    },
    {
     "name": "stdout",
     "output_type": "stream",
     "text": [
      "2021-05-06 11:33:29,352 - modnet - INFO - Preset #36 fitting finished, loss: 625.8069213867187\n"
     ]
    },
    {
     "name": "stderr",
     "output_type": "stream",
     "text": [
      " 63%|██████▎   | 226/360 [46:06<22:36, 10.12s/it]"
     ]
    },
    {
     "name": "stdout",
     "output_type": "stream",
     "text": [
      "2021-05-06 11:33:37,008 - modnet - INFO - Preset #47 fitting finished, loss: 0.3852518260478973\n"
     ]
    },
    {
     "name": "stderr",
     "output_type": "stream",
     "text": [
      " 63%|██████▎   | 227/360 [46:13<20:37,  9.30s/it]"
     ]
    },
    {
     "name": "stdout",
     "output_type": "stream",
     "text": [
      "2021-05-06 11:33:41,500 - modnet - INFO - Preset #42 fitting finished, loss: 171.7321533203125\n"
     ]
    },
    {
     "name": "stderr",
     "output_type": "stream",
     "text": [
      " 63%|██████▎   | 228/360 [46:18<17:24,  7.92s/it]"
     ]
    },
    {
     "name": "stdout",
     "output_type": "stream",
     "text": [
      "2021-05-06 11:33:47,661 - modnet - INFO - Preset #47 fitting finished, loss: 0.3984124422073364\n"
     ]
    },
    {
     "name": "stderr",
     "output_type": "stream",
     "text": [
      " 64%|██████▎   | 229/360 [46:24<16:04,  7.36s/it]"
     ]
    },
    {
     "name": "stdout",
     "output_type": "stream",
     "text": [
      "2021-05-06 11:33:55,544 - modnet - INFO - Preset #45 fitting finished, loss: 0.3507448613643646\n"
     ]
    },
    {
     "name": "stderr",
     "output_type": "stream",
     "text": [
      " 64%|██████▍   | 230/360 [46:32<16:17,  7.52s/it]"
     ]
    },
    {
     "name": "stdout",
     "output_type": "stream",
     "text": [
      "2021-05-06 11:33:59,781 - modnet - INFO - Preset #45 fitting finished, loss: 0.3852066218852997\n"
     ]
    },
    {
     "name": "stderr",
     "output_type": "stream",
     "text": [
      " 64%|██████▍   | 231/360 [46:37<14:09,  6.59s/it]"
     ]
    },
    {
     "name": "stdout",
     "output_type": "stream",
     "text": [
      "2021-05-06 11:34:15,958 - modnet - INFO - Preset #43 fitting finished, loss: 0.3382654249668121\n"
     ]
    },
    {
     "name": "stderr",
     "output_type": "stream",
     "text": [
      " 64%|██████▍   | 232/360 [46:53<20:04,  9.41s/it]"
     ]
    },
    {
     "name": "stdout",
     "output_type": "stream",
     "text": [
      "2021-05-06 11:34:21,093 - modnet - INFO - Preset #46 fitting finished, loss: 0.3919886648654938\n"
     ]
    },
    {
     "name": "stderr",
     "output_type": "stream",
     "text": [
      " 65%|██████▍   | 233/360 [46:57<17:02,  8.05s/it]"
     ]
    },
    {
     "name": "stdout",
     "output_type": "stream",
     "text": [
      "2021-05-06 11:35:04,749 - modnet - INFO - Preset #50 fitting finished, loss: 0.3531758964061737\n"
     ]
    },
    {
     "name": "stderr",
     "output_type": "stream",
     "text": [
      " 65%|██████▌   | 234/360 [47:41<39:28, 18.79s/it]"
     ]
    },
    {
     "name": "stdout",
     "output_type": "stream",
     "text": [
      "2021-05-06 11:35:09,893 - modnet - INFO - Preset #44 fitting finished, loss: 2732.5519165039063\n"
     ]
    },
    {
     "name": "stderr",
     "output_type": "stream",
     "text": [
      " 65%|██████▌   | 235/360 [47:46<30:37, 14.70s/it]"
     ]
    },
    {
     "name": "stdout",
     "output_type": "stream",
     "text": [
      "2021-05-06 11:35:47,801 - modnet - INFO - Preset #45 fitting finished, loss: 5890.345629882812\n"
     ]
    },
    {
     "name": "stderr",
     "output_type": "stream",
     "text": [
      " 66%|██████▌   | 236/360 [48:24<44:48, 21.68s/it]"
     ]
    },
    {
     "name": "stdout",
     "output_type": "stream",
     "text": [
      "2021-05-06 11:35:52,914 - modnet - INFO - Preset #52 fitting finished, loss: 0.43860958218574525\n"
     ]
    },
    {
     "name": "stderr",
     "output_type": "stream",
     "text": [
      " 66%|██████▌   | 237/360 [48:29<34:08, 16.65s/it]"
     ]
    },
    {
     "name": "stdout",
     "output_type": "stream",
     "text": [
      "2021-05-06 11:36:05,095 - modnet - INFO - Preset #42 fitting finished, loss: 0.3095463514328003\n"
     ]
    },
    {
     "name": "stderr",
     "output_type": "stream",
     "text": [
      " 66%|██████▌   | 238/360 [48:41<31:06, 15.30s/it]"
     ]
    },
    {
     "name": "stdout",
     "output_type": "stream",
     "text": [
      "2021-05-06 11:36:17,149 - modnet - INFO - Preset #46 fitting finished, loss: 2646.2444003582\n"
     ]
    },
    {
     "name": "stderr",
     "output_type": "stream",
     "text": [
      " 66%|██████▋   | 239/360 [48:54<28:54, 14.34s/it]"
     ]
    },
    {
     "name": "stdout",
     "output_type": "stream",
     "text": [
      "2021-05-06 11:36:18,129 - modnet - INFO - Preset #39 fitting finished, loss: 0.3487858772277832\n"
     ]
    },
    {
     "name": "stderr",
     "output_type": "stream",
     "text": [
      " 67%|██████▋   | 240/360 [48:55<20:56, 10.47s/it]"
     ]
    },
    {
     "name": "stdout",
     "output_type": "stream",
     "text": [
      "2021-05-06 11:36:29,015 - modnet - INFO - Preset #48 fitting finished, loss: 0.3386533796787262\n"
     ]
    },
    {
     "name": "stderr",
     "output_type": "stream",
     "text": [
      " 67%|██████▋   | 241/360 [49:06<20:53, 10.53s/it]"
     ]
    },
    {
     "name": "stdout",
     "output_type": "stream",
     "text": [
      "2021-05-06 11:36:53,645 - modnet - INFO - Preset #52 fitting finished, loss: 0.36155344247817994\n"
     ]
    },
    {
     "name": "stderr",
     "output_type": "stream",
     "text": [
      " 67%|██████▋   | 242/360 [49:30<29:00, 14.75s/it]"
     ]
    },
    {
     "name": "stdout",
     "output_type": "stream",
     "text": [
      "2021-05-06 11:37:20,523 - modnet - INFO - Preset #44 fitting finished, loss: 0.31788316965103147\n"
     ]
    },
    {
     "name": "stderr",
     "output_type": "stream",
     "text": [
      " 68%|██████▊   | 243/360 [49:57<35:42, 18.32s/it]"
     ]
    },
    {
     "name": "stdout",
     "output_type": "stream",
     "text": [
      "2021-05-06 11:37:36,119 - modnet - INFO - Preset #52 fitting finished, loss: 1352.078302001953\n"
     ]
    },
    {
     "name": "stderr",
     "output_type": "stream",
     "text": [
      " 68%|██████▊   | 244/360 [50:13<33:57, 17.57s/it]"
     ]
    },
    {
     "name": "stdout",
     "output_type": "stream",
     "text": [
      "2021-05-06 11:37:36,941 - modnet - INFO - Preset #50 fitting finished, loss: 1205.8138549804687\n"
     ]
    },
    {
     "name": "stderr",
     "output_type": "stream",
     "text": [
      " 68%|██████▊   | 245/360 [50:14<24:04, 12.56s/it]"
     ]
    },
    {
     "name": "stdout",
     "output_type": "stream",
     "text": [
      "2021-05-06 11:37:38,539 - modnet - INFO - Preset #50 fitting finished, loss: 0.3091782212257385\n"
     ]
    },
    {
     "name": "stderr",
     "output_type": "stream",
     "text": [
      " 68%|██████▊   | 246/360 [50:15<17:45,  9.35s/it]"
     ]
    },
    {
     "name": "stdout",
     "output_type": "stream",
     "text": [
      "2021-05-06 11:37:46,282 - modnet - INFO - Preset #51 fitting finished, loss: 0.34305397868156434\n"
     ]
    },
    {
     "name": "stderr",
     "output_type": "stream",
     "text": [
      " 69%|██████▊   | 247/360 [50:23<16:36,  8.82s/it]"
     ]
    },
    {
     "name": "stdout",
     "output_type": "stream",
     "text": [
      "2021-05-06 11:37:47,253 - modnet - INFO - Preset #47 fitting finished, loss: 3814.4299731254578\n"
     ]
    },
    {
     "name": "stderr",
     "output_type": "stream",
     "text": [
      " 69%|██████▉   | 248/360 [50:24<12:06,  6.49s/it]"
     ]
    },
    {
     "name": "stdout",
     "output_type": "stream",
     "text": [
      "2021-05-06 11:38:07,053 - modnet - INFO - Preset #53 fitting finished, loss: 0.3389505803585052\n"
     ]
    },
    {
     "name": "stderr",
     "output_type": "stream",
     "text": [
      " 69%|██████▉   | 249/360 [50:44<19:11, 10.37s/it]"
     ]
    },
    {
     "name": "stdout",
     "output_type": "stream",
     "text": [
      "2021-05-06 11:38:22,924 - modnet - INFO - Preset #49 fitting finished, loss: 0.34249521493911744\n"
     ]
    },
    {
     "name": "stderr",
     "output_type": "stream",
     "text": [
      " 69%|██████▉   | 250/360 [50:59<22:04, 12.05s/it]"
     ]
    },
    {
     "name": "stdout",
     "output_type": "stream",
     "text": [
      "2021-05-06 11:38:23,683 - modnet - INFO - Preset #44 fitting finished, loss: 0.34295418858528137\n"
     ]
    },
    {
     "name": "stderr",
     "output_type": "stream",
     "text": [
      " 70%|██████▉   | 251/360 [51:00<15:44,  8.67s/it]"
     ]
    },
    {
     "name": "stdout",
     "output_type": "stream",
     "text": [
      "2021-05-06 11:38:45,699 - modnet - INFO - Preset #51 fitting finished, loss: 0.3578417241573334\n"
     ]
    },
    {
     "name": "stderr",
     "output_type": "stream",
     "text": [
      " 70%|███████   | 252/360 [51:22<22:45, 12.64s/it]"
     ]
    },
    {
     "name": "stdout",
     "output_type": "stream",
     "text": [
      "2021-05-06 11:38:52,853 - modnet - INFO - Preset #48 fitting finished, loss: 86.50512237548828\n"
     ]
    },
    {
     "name": "stderr",
     "output_type": "stream",
     "text": [
      " 70%|███████   | 253/360 [51:29<19:39, 11.02s/it]"
     ]
    },
    {
     "name": "stdout",
     "output_type": "stream",
     "text": [
      "2021-05-06 11:39:22,592 - modnet - INFO - Preset #48 fitting finished, loss: 0.310709148645401\n"
     ]
    },
    {
     "name": "stderr",
     "output_type": "stream",
     "text": [
      " 71%|███████   | 254/360 [51:59<29:21, 16.62s/it]"
     ]
    },
    {
     "name": "stdout",
     "output_type": "stream",
     "text": [
      "2021-05-06 11:39:24,182 - modnet - INFO - Preset #52 fitting finished, loss: 0.3616712212562561\n"
     ]
    },
    {
     "name": "stderr",
     "output_type": "stream",
     "text": [
      " 71%|███████   | 255/360 [52:01<21:09, 12.09s/it]"
     ]
    },
    {
     "name": "stdout",
     "output_type": "stream",
     "text": [
      "2021-05-06 11:39:38,530 - modnet - INFO - Preset #49 fitting finished, loss: 0.3544809877872467\n"
     ]
    },
    {
     "name": "stderr",
     "output_type": "stream",
     "text": [
      " 71%|███████   | 256/360 [52:15<22:06, 12.76s/it]"
     ]
    },
    {
     "name": "stdout",
     "output_type": "stream",
     "text": [
      "2021-05-06 11:39:41,170 - modnet - INFO - Preset #45 fitting finished, loss: 0.3168159246444702\n"
     ]
    },
    {
     "name": "stderr",
     "output_type": "stream",
     "text": [
      " 71%|███████▏  | 257/360 [52:18<16:42,  9.73s/it]"
     ]
    },
    {
     "name": "stdout",
     "output_type": "stream",
     "text": [
      "2021-05-06 11:39:48,786 - modnet - INFO - Preset #38 fitting finished, loss: 7764.559814453125\n"
     ]
    },
    {
     "name": "stderr",
     "output_type": "stream",
     "text": [
      " 72%|███████▏  | 258/360 [52:25<15:32,  9.14s/it]"
     ]
    },
    {
     "name": "stdout",
     "output_type": "stream",
     "text": [
      "2021-05-06 11:39:53,187 - modnet - INFO - Preset #49 fitting finished, loss: 90.69844837188721\n"
     ]
    },
    {
     "name": "stderr",
     "output_type": "stream",
     "text": [
      " 72%|███████▏  | 259/360 [52:30<13:01,  7.74s/it]"
     ]
    },
    {
     "name": "stdout",
     "output_type": "stream",
     "text": [
      "2021-05-06 11:40:01,933 - modnet - INFO - Preset #48 fitting finished, loss: 0.34734328389167785\n"
     ]
    },
    {
     "name": "stderr",
     "output_type": "stream",
     "text": [
      " 72%|███████▏  | 260/360 [52:39<13:23,  8.04s/it]"
     ]
    },
    {
     "name": "stdout",
     "output_type": "stream",
     "text": [
      "2021-05-06 11:40:08,957 - modnet - INFO - Preset #53 fitting finished, loss: 3114.325476074219\n"
     ]
    },
    {
     "name": "stderr",
     "output_type": "stream",
     "text": [
      " 72%|███████▎  | 261/360 [52:46<12:47,  7.76s/it]"
     ]
    },
    {
     "name": "stdout",
     "output_type": "stream",
     "text": [
      "2021-05-06 11:40:26,398 - modnet - INFO - Preset #50 fitting finished, loss: 0.3262697756290436\n"
     ]
    },
    {
     "name": "stderr",
     "output_type": "stream",
     "text": [
      " 73%|███████▎  | 262/360 [53:03<17:20, 10.62s/it]"
     ]
    },
    {
     "name": "stdout",
     "output_type": "stream",
     "text": [
      "2021-05-06 11:41:06,238 - modnet - INFO - Preset #49 fitting finished, loss: 0.30516788363456726\n"
     ]
    },
    {
     "name": "stderr",
     "output_type": "stream",
     "text": [
      " 73%|███████▎  | 263/360 [53:43<31:24, 19.43s/it]"
     ]
    },
    {
     "name": "stdout",
     "output_type": "stream",
     "text": [
      "2021-05-06 11:41:16,258 - modnet - INFO - Preset #56 fitting finished, loss: 0.470583039522171\n"
     ]
    },
    {
     "name": "stderr",
     "output_type": "stream",
     "text": [
      " 73%|███████▎  | 264/360 [53:53<26:36, 16.63s/it]"
     ]
    },
    {
     "name": "stdout",
     "output_type": "stream",
     "text": [
      "2021-05-06 11:41:32,726 - modnet - INFO - Preset #53 fitting finished, loss: 0.3437446177005768\n"
     ]
    },
    {
     "name": "stderr",
     "output_type": "stream",
     "text": [
      " 74%|███████▎  | 265/360 [54:09<26:09, 16.52s/it]"
     ]
    },
    {
     "name": "stdout",
     "output_type": "stream",
     "text": [
      "2021-05-06 11:41:35,183 - modnet - INFO - Preset #49 fitting finished, loss: 0.3343241035938263\n"
     ]
    },
    {
     "name": "stderr",
     "output_type": "stream",
     "text": [
      " 74%|███████▍  | 266/360 [54:12<19:20, 12.34s/it]"
     ]
    },
    {
     "name": "stdout",
     "output_type": "stream",
     "text": [
      "2021-05-06 11:42:04,006 - modnet - INFO - Preset #50 fitting finished, loss: 0.3266075313091278\n"
     ]
    },
    {
     "name": "stderr",
     "output_type": "stream",
     "text": [
      " 74%|███████▍  | 267/360 [54:41<26:46, 17.28s/it]"
     ]
    },
    {
     "name": "stdout",
     "output_type": "stream",
     "text": [
      "2021-05-06 11:42:18,239 - modnet - INFO - Preset #48 fitting finished, loss: 0.35931713581085206\n"
     ]
    },
    {
     "name": "stderr",
     "output_type": "stream",
     "text": [
      " 74%|███████▍  | 268/360 [54:55<25:02, 16.34s/it]"
     ]
    },
    {
     "name": "stdout",
     "output_type": "stream",
     "text": [
      "2021-05-06 11:42:20,074 - modnet - INFO - Preset #51 fitting finished, loss: 0.3504080355167389\n"
     ]
    },
    {
     "name": "stderr",
     "output_type": "stream",
     "text": [
      " 75%|███████▍  | 269/360 [54:57<18:14, 12.02s/it]"
     ]
    },
    {
     "name": "stdout",
     "output_type": "stream",
     "text": [
      "2021-05-06 11:42:21,421 - modnet - INFO - Preset #57 fitting finished, loss: 0.470856124162674\n"
     ]
    },
    {
     "name": "stderr",
     "output_type": "stream",
     "text": [
      " 75%|███████▌  | 270/360 [54:58<13:18,  8.87s/it]"
     ]
    },
    {
     "name": "stdout",
     "output_type": "stream",
     "text": [
      "2021-05-06 11:43:16,943 - modnet - INFO - Preset #51 fitting finished, loss: 0.31923058032989504\n"
     ]
    },
    {
     "name": "stderr",
     "output_type": "stream",
     "text": [
      " 75%|███████▌  | 271/360 [55:53<33:45, 22.76s/it]"
     ]
    },
    {
     "name": "stdout",
     "output_type": "stream",
     "text": [
      "2021-05-06 11:43:19,643 - modnet - INFO - Preset #57 fitting finished, loss: 0.39748767018318176\n"
     ]
    },
    {
     "name": "stderr",
     "output_type": "stream",
     "text": [
      " 76%|███████▌  | 272/360 [55:56<24:32, 16.74s/it]"
     ]
    },
    {
     "name": "stdout",
     "output_type": "stream",
     "text": [
      "2021-05-06 11:43:31,570 - modnet - INFO - Preset #59 fitting finished, loss: 0.39926973581314085\n"
     ]
    },
    {
     "name": "stderr",
     "output_type": "stream",
     "text": [
      " 76%|███████▌  | 273/360 [56:08<22:15, 15.35s/it]"
     ]
    },
    {
     "name": "stdout",
     "output_type": "stream",
     "text": [
      "2021-05-06 11:43:49,753 - modnet - INFO - Preset #58 fitting finished, loss: 0.47219366431236265\n"
     ]
    },
    {
     "name": "stderr",
     "output_type": "stream",
     "text": [
      " 76%|███████▌  | 274/360 [56:27<23:14, 16.21s/it]"
     ]
    },
    {
     "name": "stdout",
     "output_type": "stream",
     "text": [
      "2021-05-06 11:44:40,029 - modnet - INFO - Preset #63 fitting finished, loss: 0.47144144773483276\n"
     ]
    },
    {
     "name": "stderr",
     "output_type": "stream",
     "text": [
      " 76%|███████▋  | 275/360 [57:17<37:25, 26.42s/it]"
     ]
    },
    {
     "name": "stdout",
     "output_type": "stream",
     "text": [
      "2021-05-06 11:44:40,947 - modnet - INFO - Preset #64 fitting finished, loss: 0.39687769412994384\n"
     ]
    },
    {
     "name": "stderr",
     "output_type": "stream",
     "text": [
      " 77%|███████▋  | 276/360 [57:18<26:19, 18.80s/it]"
     ]
    },
    {
     "name": "stdout",
     "output_type": "stream",
     "text": [
      "2021-05-06 11:44:41,978 - modnet - INFO - Preset #59 fitting finished, loss: 0.43904305100440977\n"
     ]
    },
    {
     "name": "stderr",
     "output_type": "stream",
     "text": [
      " 77%|███████▋  | 277/360 [57:19<18:42, 13.52s/it]"
     ]
    },
    {
     "name": "stdout",
     "output_type": "stream",
     "text": [
      "2021-05-06 11:44:43,185 - modnet - INFO - Preset #51 fitting finished, loss: 720.4629333496093\n"
     ]
    },
    {
     "name": "stderr",
     "output_type": "stream",
     "text": [
      " 77%|███████▋  | 278/360 [57:38<20:51, 15.26s/it]"
     ]
    },
    {
     "name": "stdout",
     "output_type": "stream",
     "text": [
      "2021-05-06 11:45:02,501 - modnet - INFO - Preset #64 fitting finished, loss: 0.41206386089324953\n"
     ]
    },
    {
     "name": "stderr",
     "output_type": "stream",
     "text": [
      " 78%|███████▊  | 279/360 [57:39<14:49, 10.99s/it]"
     ]
    },
    {
     "name": "stdout",
     "output_type": "stream",
     "text": [
      "2021-05-06 11:45:07,110 - modnet - INFO - Preset #62 fitting finished, loss: 0.4008567869663239\n"
     ]
    },
    {
     "name": "stderr",
     "output_type": "stream",
     "text": [
      " 78%|███████▊  | 280/360 [57:44<12:12,  9.15s/it]"
     ]
    },
    {
     "name": "stdout",
     "output_type": "stream",
     "text": [
      "2021-05-06 11:45:10,543 - modnet - INFO - Preset #58 fitting finished, loss: 15.451864242553711\n"
     ]
    },
    {
     "name": "stderr",
     "output_type": "stream",
     "text": [
      " 78%|███████▊  | 281/360 [57:47<09:44,  7.40s/it]"
     ]
    },
    {
     "name": "stdout",
     "output_type": "stream",
     "text": [
      "2021-05-06 11:45:12,586 - modnet - INFO - Preset #59 fitting finished, loss: 0.4119751572608948\n"
     ]
    },
    {
     "name": "stderr",
     "output_type": "stream",
     "text": [
      " 78%|███████▊  | 282/360 [57:49<07:28,  5.75s/it]"
     ]
    },
    {
     "name": "stdout",
     "output_type": "stream",
     "text": [
      "2021-05-06 11:45:21,460 - modnet - INFO - Preset #57 fitting finished, loss: 1.4115041136741637\n"
     ]
    },
    {
     "name": "stderr",
     "output_type": "stream",
     "text": [
      " 79%|███████▊  | 283/360 [57:58<08:31,  6.64s/it]"
     ]
    },
    {
     "name": "stdout",
     "output_type": "stream",
     "text": [
      "2021-05-06 11:45:25,442 - modnet - INFO - Preset #64 fitting finished, loss: 0.43800116777420045\n"
     ]
    },
    {
     "name": "stderr",
     "output_type": "stream",
     "text": [
      " 79%|███████▉  | 284/360 [58:02<07:26,  5.87s/it]"
     ]
    },
    {
     "name": "stdout",
     "output_type": "stream",
     "text": [
      "2021-05-06 11:45:26,790 - modnet - INFO - Preset #63 fitting finished, loss: 0.39804630875587466\n"
     ]
    },
    {
     "name": "stderr",
     "output_type": "stream",
     "text": [
      " 79%|███████▉  | 285/360 [58:04<05:40,  4.55s/it]"
     ]
    },
    {
     "name": "stdout",
     "output_type": "stream",
     "text": [
      "2021-05-06 11:45:29,325 - modnet - INFO - Preset #56 fitting finished, loss: 0.43521660566329956\n"
     ]
    },
    {
     "name": "stderr",
     "output_type": "stream",
     "text": [
      " 79%|███████▉  | 286/360 [58:06<04:47,  3.88s/it]"
     ]
    },
    {
     "name": "stdout",
     "output_type": "stream",
     "text": [
      "2021-05-06 11:45:40,418 - modnet - INFO - Preset #62 fitting finished, loss: 0.43441208600997927\n"
     ]
    },
    {
     "name": "stderr",
     "output_type": "stream",
     "text": [
      " 80%|███████▉  | 287/360 [58:17<07:20,  6.03s/it]"
     ]
    },
    {
     "name": "stdout",
     "output_type": "stream",
     "text": [
      "2021-05-06 11:45:43,490 - modnet - INFO - Preset #62 fitting finished, loss: 0.39738953709602354\n"
     ]
    },
    {
     "name": "stderr",
     "output_type": "stream",
     "text": [
      " 80%|████████  | 288/360 [58:20<06:14,  5.20s/it]"
     ]
    },
    {
     "name": "stdout",
     "output_type": "stream",
     "text": [
      "2021-05-06 11:45:54,265 - modnet - INFO - Preset #58 fitting finished, loss: 0.43475964665412903\n"
     ]
    },
    {
     "name": "stderr",
     "output_type": "stream",
     "text": [
      " 80%|████████  | 289/360 [58:31<08:07,  6.86s/it]"
     ]
    },
    {
     "name": "stdout",
     "output_type": "stream",
     "text": [
      "2021-05-06 11:46:08,467 - modnet - INFO - Preset #63 fitting finished, loss: 0.4351987957954407\n"
     ]
    },
    {
     "name": "stderr",
     "output_type": "stream",
     "text": [
      " 81%|████████  | 290/360 [58:45<10:28,  8.98s/it]"
     ]
    },
    {
     "name": "stdout",
     "output_type": "stream",
     "text": [
      "2021-05-06 11:46:33,197 - modnet - INFO - Preset #62 fitting finished, loss: 102.94178295135498\n"
     ]
    },
    {
     "name": "stderr",
     "output_type": "stream",
     "text": [
      " 81%|████████  | 291/360 [59:10<15:45, 13.71s/it]"
     ]
    },
    {
     "name": "stdout",
     "output_type": "stream",
     "text": [
      "2021-05-06 11:46:38,084 - modnet - INFO - Preset #65 fitting finished, loss: 0.4731543123722076\n"
     ]
    },
    {
     "name": "stderr",
     "output_type": "stream",
     "text": [
      " 81%|████████  | 292/360 [59:15<12:35, 11.10s/it]"
     ]
    },
    {
     "name": "stdout",
     "output_type": "stream",
     "text": [
      "2021-05-06 11:47:02,395 - modnet - INFO - Preset #62 fitting finished, loss: 0.4697904229164124\n"
     ]
    },
    {
     "name": "stderr",
     "output_type": "stream",
     "text": [
      " 81%|████████▏ | 293/360 [59:39<16:49, 15.07s/it]"
     ]
    },
    {
     "name": "stdout",
     "output_type": "stream",
     "text": [
      "2021-05-06 11:47:18,661 - modnet - INFO - Preset #58 fitting finished, loss: 0.40986497402191163\n"
     ]
    },
    {
     "name": "stderr",
     "output_type": "stream",
     "text": [
      " 82%|████████▏ | 294/360 [59:55<16:57, 15.42s/it]"
     ]
    },
    {
     "name": "stdout",
     "output_type": "stream",
     "text": [
      "2021-05-06 11:47:19,485 - modnet - INFO - Preset #59 fitting finished, loss: 0.4701270222663879\n"
     ]
    },
    {
     "name": "stderr",
     "output_type": "stream",
     "text": [
      " 82%|████████▏ | 295/360 [59:56<12:01, 11.11s/it]"
     ]
    },
    {
     "name": "stdout",
     "output_type": "stream",
     "text": [
      "2021-05-06 11:47:50,937 - modnet - INFO - Preset #64 fitting finished, loss: 0.47340295910835267\n"
     ]
    },
    {
     "name": "stderr",
     "output_type": "stream",
     "text": [
      " 82%|████████▏ | 296/360 [1:00:27<18:14, 17.10s/it]"
     ]
    },
    {
     "name": "stdout",
     "output_type": "stream",
     "text": [
      "2021-05-06 11:48:00,735 - modnet - INFO - Preset #65 fitting finished, loss: 0.4025526225566864\n"
     ]
    },
    {
     "name": "stderr",
     "output_type": "stream",
     "text": [
      " 82%|████████▎ | 297/360 [1:00:37<15:40, 14.94s/it]"
     ]
    },
    {
     "name": "stdout",
     "output_type": "stream",
     "text": [
      "2021-05-06 11:48:14,027 - modnet - INFO - Preset #56 fitting finished, loss: 0.4089281439781189\n"
     ]
    },
    {
     "name": "stderr",
     "output_type": "stream",
     "text": [
      " 83%|████████▎ | 298/360 [1:00:51<14:56, 14.46s/it]"
     ]
    },
    {
     "name": "stdout",
     "output_type": "stream",
     "text": [
      "2021-05-06 11:48:23,758 - modnet - INFO - Preset #57 fitting finished, loss: 0.4341492414474487\n"
     ]
    },
    {
     "name": "stderr",
     "output_type": "stream",
     "text": [
      " 83%|████████▎ | 299/360 [1:01:00<13:17, 13.07s/it]"
     ]
    },
    {
     "name": "stdout",
     "output_type": "stream",
     "text": [
      "2021-05-06 11:48:29,241 - modnet - INFO - Preset #59 fitting finished, loss: 55.01794248819351\n"
     ]
    },
    {
     "name": "stderr",
     "output_type": "stream",
     "text": [
      " 83%|████████▎ | 300/360 [1:01:06<10:49, 10.82s/it]"
     ]
    },
    {
     "name": "stdout",
     "output_type": "stream",
     "text": [
      "2021-05-06 11:48:33,004 - modnet - INFO - Preset #65 fitting finished, loss: 0.40954617261886594\n"
     ]
    },
    {
     "name": "stderr",
     "output_type": "stream",
     "text": [
      " 84%|████████▎ | 301/360 [1:01:09<08:26,  8.59s/it]"
     ]
    },
    {
     "name": "stdout",
     "output_type": "stream",
     "text": [
      "2021-05-06 11:48:33,621 - modnet - INFO - Preset #64 fitting finished, loss: 14.942252731323242\n"
     ]
    },
    {
     "name": "stderr",
     "output_type": "stream",
     "text": [
      " 84%|████████▍ | 302/360 [1:01:10<06:03,  6.26s/it]"
     ]
    },
    {
     "name": "stdout",
     "output_type": "stream",
     "text": [
      "2021-05-06 11:48:37,406 - modnet - INFO - Preset #54 fitting finished, loss: 0.40685797333717344\n"
     ]
    },
    {
     "name": "stderr",
     "output_type": "stream",
     "text": [
      " 84%|████████▍ | 303/360 [1:01:14<05:13,  5.50s/it]"
     ]
    },
    {
     "name": "stdout",
     "output_type": "stream",
     "text": [
      "2021-05-06 11:48:40,451 - modnet - INFO - Preset #63 fitting finished, loss: 4.858787387609482\n"
     ]
    },
    {
     "name": "stderr",
     "output_type": "stream",
     "text": [
      " 84%|████████▍ | 304/360 [1:01:17<04:26,  4.75s/it]"
     ]
    },
    {
     "name": "stdout",
     "output_type": "stream",
     "text": [
      "2021-05-06 11:48:51,885 - modnet - INFO - Preset #70 fitting finished, loss: 0.471072781085968\n"
     ]
    },
    {
     "name": "stderr",
     "output_type": "stream",
     "text": [
      " 85%|████████▍ | 305/360 [1:01:28<06:12,  6.77s/it]"
     ]
    },
    {
     "name": "stdout",
     "output_type": "stream",
     "text": [
      "2021-05-06 11:48:52,671 - modnet - INFO - Preset #58 fitting finished, loss: 0.398206889629364\n"
     ]
    },
    {
     "name": "stderr",
     "output_type": "stream",
     "text": [
      " 85%|████████▌ | 306/360 [1:01:29<04:27,  4.96s/it]"
     ]
    },
    {
     "name": "stdout",
     "output_type": "stream",
     "text": [
      "2021-05-06 11:48:58,314 - modnet - INFO - Preset #69 fitting finished, loss: 0.3971161663532257\n"
     ]
    },
    {
     "name": "stderr",
     "output_type": "stream",
     "text": [
      " 85%|████████▌ | 307/360 [1:01:35<04:30,  5.11s/it]"
     ]
    },
    {
     "name": "stdout",
     "output_type": "stream",
     "text": [
      "2021-05-06 11:49:08,129 - modnet - INFO - Preset #65 fitting finished, loss: 0.43608719706535337\n"
     ]
    },
    {
     "name": "stderr",
     "output_type": "stream",
     "text": [
      " 86%|████████▌ | 308/360 [1:01:45<05:41,  6.57s/it]"
     ]
    },
    {
     "name": "stdout",
     "output_type": "stream",
     "text": [
      "2021-05-06 11:49:17,912 - modnet - INFO - Preset #63 fitting finished, loss: 0.3948782801628113\n"
     ]
    },
    {
     "name": "stderr",
     "output_type": "stream",
     "text": [
      " 86%|████████▌ | 309/360 [1:01:54<06:23,  7.52s/it]"
     ]
    },
    {
     "name": "stdout",
     "output_type": "stream",
     "text": [
      "2021-05-06 11:49:18,555 - modnet - INFO - Preset #56 fitting finished, loss: 0.39797701239585875\n"
     ]
    },
    {
     "name": "stderr",
     "output_type": "stream",
     "text": [
      " 86%|████████▌ | 310/360 [1:01:55<04:32,  5.46s/it]"
     ]
    },
    {
     "name": "stdout",
     "output_type": "stream",
     "text": [
      "2021-05-06 11:49:22,253 - modnet - INFO - Preset #68 fitting finished, loss: 0.3981171250343323\n"
     ]
    },
    {
     "name": "stderr",
     "output_type": "stream",
     "text": [
      " 86%|████████▋ | 311/360 [1:01:58<03:57,  4.85s/it]"
     ]
    },
    {
     "name": "stdout",
     "output_type": "stream",
     "text": [
      "2021-05-06 11:49:39,186 - modnet - INFO - Preset #70 fitting finished, loss: 0.417170912027359\n"
     ]
    },
    {
     "name": "stderr",
     "output_type": "stream",
     "text": [
      " 87%|████████▋ | 312/360 [1:02:16<06:52,  8.59s/it]"
     ]
    },
    {
     "name": "stdout",
     "output_type": "stream",
     "text": [
      "2021-05-06 11:50:11,953 - modnet - INFO - Preset #69 fitting finished, loss: 0.47061762809753416\n"
     ]
    },
    {
     "name": "stderr",
     "output_type": "stream",
     "text": [
      " 87%|████████▋ | 313/360 [1:02:48<12:22, 15.80s/it]"
     ]
    },
    {
     "name": "stdout",
     "output_type": "stream",
     "text": [
      "2021-05-06 11:50:43,855 - modnet - INFO - Preset #56 fitting finished, loss: 728.278216767311\n"
     ]
    },
    {
     "name": "stderr",
     "output_type": "stream",
     "text": [
      " 87%|████████▋ | 314/360 [1:03:20<15:50, 20.66s/it]"
     ]
    },
    {
     "name": "stdout",
     "output_type": "stream",
     "text": [
      "2021-05-06 11:50:50,086 - modnet - INFO - Preset #65 fitting finished, loss: 21.849527215957643\n"
     ]
    },
    {
     "name": "stderr",
     "output_type": "stream",
     "text": [
      " 88%|████████▊ | 315/360 [1:03:27<12:14, 16.32s/it]"
     ]
    },
    {
     "name": "stdout",
     "output_type": "stream",
     "text": [
      "2021-05-06 11:51:07,997 - modnet - INFO - Preset #70 fitting finished, loss: 0.3989414095878601\n"
     ]
    },
    {
     "name": "stderr",
     "output_type": "stream",
     "text": [
      " 88%|████████▊ | 316/360 [1:03:45<12:19, 16.81s/it]"
     ]
    },
    {
     "name": "stdout",
     "output_type": "stream",
     "text": [
      "2021-05-06 11:51:08,745 - modnet - INFO - Preset #60 fitting finished, loss: 0.3375275552272797\n"
     ]
    },
    {
     "name": "stderr",
     "output_type": "stream",
     "text": [
      " 88%|████████▊ | 317/360 [1:03:46<08:38, 12.07s/it]"
     ]
    },
    {
     "name": "stdout",
     "output_type": "stream",
     "text": [
      "2021-05-06 11:51:09,742 - modnet - INFO - Preset #57 fitting finished, loss: 0.3947036385536194\n"
     ]
    },
    {
     "name": "stderr",
     "output_type": "stream",
     "text": [
      " 88%|████████▊ | 318/360 [1:03:46<06:05,  8.71s/it]"
     ]
    },
    {
     "name": "stdout",
     "output_type": "stream",
     "text": [
      "2021-05-06 11:51:53,203 - modnet - INFO - Preset #68 fitting finished, loss: 0.44182747006416323\n"
     ]
    },
    {
     "name": "stderr",
     "output_type": "stream",
     "text": [
      " 89%|████████▊ | 319/360 [1:04:30<13:01, 19.07s/it]"
     ]
    },
    {
     "name": "stdout",
     "output_type": "stream",
     "text": [
      "2021-05-06 11:52:00,155 - modnet - INFO - Preset #70 fitting finished, loss: 0.394933021068573\n"
     ]
    },
    {
     "name": "stderr",
     "output_type": "stream",
     "text": [
      " 89%|████████▉ | 320/360 [1:04:36<10:15, 15.40s/it]"
     ]
    },
    {
     "name": "stdout",
     "output_type": "stream",
     "text": [
      "2021-05-06 11:52:33,745 - modnet - INFO - Preset #70 fitting finished, loss: 1414.4315376520158\n"
     ]
    },
    {
     "name": "stderr",
     "output_type": "stream",
     "text": [
      " 89%|████████▉ | 321/360 [1:05:10<13:34, 20.88s/it]"
     ]
    },
    {
     "name": "stdout",
     "output_type": "stream",
     "text": [
      "2021-05-06 11:53:17,518 - modnet - INFO - Preset #71 fitting finished, loss: 0.4043601453304291\n"
     ]
    },
    {
     "name": "stderr",
     "output_type": "stream",
     "text": [
      " 89%|████████▉ | 322/360 [1:05:54<17:35, 27.78s/it]"
     ]
    },
    {
     "name": "stdout",
     "output_type": "stream",
     "text": [
      "2021-05-06 11:53:33,139 - modnet - INFO - Preset #71 fitting finished, loss: 0.43156868815422056\n"
     ]
    },
    {
     "name": "stderr",
     "output_type": "stream",
     "text": [
      " 90%|████████▉ | 323/360 [1:06:10<14:51, 24.10s/it]"
     ]
    },
    {
     "name": "stdout",
     "output_type": "stream",
     "text": [
      "2021-05-06 11:55:10,197 - modnet - INFO - Preset #61 fitting finished, loss: 0.3614298403263092\n"
     ]
    },
    {
     "name": "stderr",
     "output_type": "stream",
     "text": [
      " 90%|█████████ | 324/360 [1:07:47<27:34, 45.97s/it]"
     ]
    },
    {
     "name": "stdout",
     "output_type": "stream",
     "text": [
      "2021-05-06 11:55:19,191 - modnet - INFO - Preset #71 fitting finished, loss: 0.40931931138038635\n"
     ]
    },
    {
     "name": "stderr",
     "output_type": "stream",
     "text": [
      " 90%|█████████ | 325/360 [1:07:56<20:20, 34.88s/it]"
     ]
    },
    {
     "name": "stdout",
     "output_type": "stream",
     "text": [
      "2021-05-06 11:56:06,638 - modnet - INFO - Preset #71 fitting finished, loss: 0.4226793169975281\n"
     ]
    },
    {
     "name": "stderr",
     "output_type": "stream",
     "text": [
      " 91%|█████████ | 326/360 [1:08:43<21:54, 38.65s/it]"
     ]
    },
    {
     "name": "stdout",
     "output_type": "stream",
     "text": [
      "2021-05-06 11:56:08,171 - modnet - INFO - Preset #71 fitting finished, loss: 1620.4853647947311\n"
     ]
    },
    {
     "name": "stderr",
     "output_type": "stream",
     "text": [
      " 91%|█████████ | 327/360 [1:08:45<15:09, 27.55s/it]"
     ]
    },
    {
     "name": "stdout",
     "output_type": "stream",
     "text": [
      "2021-05-06 11:56:35,479 - modnet - INFO - Preset #68 fitting finished, loss: 0.32102198600769044\n"
     ]
    },
    {
     "name": "stderr",
     "output_type": "stream",
     "text": [
      " 91%|█████████ | 328/360 [1:09:12<14:39, 27.47s/it]"
     ]
    },
    {
     "name": "stdout",
     "output_type": "stream",
     "text": [
      "2021-05-06 11:56:44,387 - modnet - INFO - Preset #67 fitting finished, loss: 0.33470316529273986\n"
     ]
    },
    {
     "name": "stderr",
     "output_type": "stream",
     "text": [
      " 91%|█████████▏| 329/360 [1:09:21<11:19, 21.92s/it]"
     ]
    },
    {
     "name": "stdout",
     "output_type": "stream",
     "text": [
      "2021-05-06 11:56:57,738 - modnet - INFO - Preset #68 fitting finished, loss: 0.3390977680683136\n"
     ]
    },
    {
     "name": "stderr",
     "output_type": "stream",
     "text": [
      " 92%|█████████▏| 330/360 [1:09:34<09:39, 19.33s/it]"
     ]
    },
    {
     "name": "stdout",
     "output_type": "stream",
     "text": [
      "2021-05-06 11:57:12,005 - modnet - INFO - Preset #69 fitting finished, loss: 0.3511390805244446\n"
     ]
    },
    {
     "name": "stderr",
     "output_type": "stream",
     "text": [
      " 92%|█████████▏| 331/360 [1:09:48<08:36, 17.82s/it]"
     ]
    },
    {
     "name": "stdout",
     "output_type": "stream",
     "text": [
      "2021-05-06 11:57:21,262 - modnet - INFO - Preset #67 fitting finished, loss: 0.3444130063056946\n"
     ]
    },
    {
     "name": "stderr",
     "output_type": "stream",
     "text": [
      " 92%|█████████▏| 332/360 [1:09:58<07:05, 15.21s/it]"
     ]
    },
    {
     "name": "stdout",
     "output_type": "stream",
     "text": [
      "2021-05-06 11:57:22,727 - modnet - INFO - Preset #68 fitting finished, loss: 1546.079507446289\n"
     ]
    },
    {
     "name": "stderr",
     "output_type": "stream",
     "text": [
      " 92%|█████████▎| 333/360 [1:09:59<05:00, 11.11s/it]"
     ]
    },
    {
     "name": "stdout",
     "output_type": "stream",
     "text": [
      "2021-05-06 11:57:34,424 - modnet - INFO - Preset #69 fitting finished, loss: 2335.4980895996096\n"
     ]
    },
    {
     "name": "stderr",
     "output_type": "stream",
     "text": [
      " 93%|█████████▎| 334/360 [1:10:11<04:52, 11.26s/it]"
     ]
    },
    {
     "name": "stdout",
     "output_type": "stream",
     "text": [
      "2021-05-06 11:57:46,075 - modnet - INFO - Preset #54 fitting finished, loss: 0.35190075635910034\n"
     ]
    },
    {
     "name": "stderr",
     "output_type": "stream",
     "text": [
      " 93%|█████████▎| 335/360 [1:10:23<04:45, 11.43s/it]"
     ]
    },
    {
     "name": "stdout",
     "output_type": "stream",
     "text": [
      "2021-05-06 11:58:00,201 - modnet - INFO - Preset #69 fitting finished, loss: 0.3381763339042664\n"
     ]
    },
    {
     "name": "stderr",
     "output_type": "stream",
     "text": [
      " 93%|█████████▎| 336/360 [1:10:37<04:54, 12.26s/it]"
     ]
    },
    {
     "name": "stdout",
     "output_type": "stream",
     "text": [
      "2021-05-06 11:58:05,887 - modnet - INFO - Preset #60 fitting finished, loss: 0.35338881611824036\n"
     ]
    },
    {
     "name": "stderr",
     "output_type": "stream",
     "text": [
      " 94%|█████████▎| 337/360 [1:10:42<03:55, 10.24s/it]"
     ]
    },
    {
     "name": "stdout",
     "output_type": "stream",
     "text": [
      "2021-05-06 11:58:11,509 - modnet - INFO - Preset #66 fitting finished, loss: 238.8935516357422\n"
     ]
    },
    {
     "name": "stderr",
     "output_type": "stream",
     "text": [
      " 94%|█████████▍| 338/360 [1:10:48<03:14,  8.83s/it]"
     ]
    },
    {
     "name": "stdout",
     "output_type": "stream",
     "text": [
      "2021-05-06 11:58:29,966 - modnet - INFO - Preset #67 fitting finished, loss: 190.5210403442383\n"
     ]
    },
    {
     "name": "stderr",
     "output_type": "stream",
     "text": [
      " 94%|█████████▍| 339/360 [1:11:06<04:05, 11.68s/it]"
     ]
    },
    {
     "name": "stdout",
     "output_type": "stream",
     "text": [
      "2021-05-06 11:58:46,213 - modnet - INFO - Preset #54 fitting finished, loss: 0.421011757850647\n"
     ]
    },
    {
     "name": "stderr",
     "output_type": "stream",
     "text": [
      " 94%|█████████▍| 340/360 [1:11:23<04:21, 13.08s/it]"
     ]
    },
    {
     "name": "stdout",
     "output_type": "stream",
     "text": [
      "2021-05-06 11:58:54,547 - modnet - INFO - Preset #67 fitting finished, loss: 0.361977219581604\n"
     ]
    },
    {
     "name": "stderr",
     "output_type": "stream",
     "text": [
      " 95%|█████████▍| 341/360 [1:11:31<03:41, 11.66s/it]"
     ]
    },
    {
     "name": "stdout",
     "output_type": "stream",
     "text": [
      "2021-05-06 11:59:10,264 - modnet - INFO - Preset #61 fitting finished, loss: 0.2904247522354126\n"
     ]
    },
    {
     "name": "stderr",
     "output_type": "stream",
     "text": [
      " 95%|█████████▌| 342/360 [1:11:47<03:52, 12.93s/it]"
     ]
    },
    {
     "name": "stdout",
     "output_type": "stream",
     "text": [
      "2021-05-06 11:59:13,578 - modnet - INFO - Preset #66 fitting finished, loss: 0.33511404395103456\n"
     ]
    },
    {
     "name": "stderr",
     "output_type": "stream",
     "text": [
      " 95%|█████████▌| 343/360 [1:11:50<02:49,  9.99s/it]"
     ]
    },
    {
     "name": "stdout",
     "output_type": "stream",
     "text": [
      "2021-05-06 11:59:19,798 - modnet - INFO - Preset #67 fitting finished, loss: 0.3050353109836578\n"
     ]
    },
    {
     "name": "stderr",
     "output_type": "stream",
     "text": [
      " 96%|█████████▌| 344/360 [1:11:56<02:21,  8.85s/it]"
     ]
    },
    {
     "name": "stdout",
     "output_type": "stream",
     "text": [
      "2021-05-06 11:59:58,212 - modnet - INFO - Preset #66 fitting finished, loss: 0.34972716569900514\n"
     ]
    },
    {
     "name": "stderr",
     "output_type": "stream",
     "text": [
      " 96%|█████████▌| 345/360 [1:12:34<04:25, 17.68s/it]"
     ]
    },
    {
     "name": "stdout",
     "output_type": "stream",
     "text": [
      "2021-05-06 12:00:16,238 - modnet - INFO - Preset #61 fitting finished, loss: 679.9309593200684\n"
     ]
    },
    {
     "name": "stderr",
     "output_type": "stream",
     "text": [
      " 96%|█████████▌| 346/360 [1:12:53<04:09, 17.84s/it]"
     ]
    },
    {
     "name": "stdout",
     "output_type": "stream",
     "text": [
      "2021-05-06 12:00:32,117 - modnet - INFO - Preset #66 fitting finished, loss: 0.35565929412841796\n"
     ]
    },
    {
     "name": "stderr",
     "output_type": "stream",
     "text": [
      " 96%|█████████▋| 347/360 [1:13:08<03:43, 17.22s/it]"
     ]
    },
    {
     "name": "stdout",
     "output_type": "stream",
     "text": [
      "2021-05-06 12:01:16,393 - modnet - INFO - Preset #66 fitting finished, loss: 0.2929671347141266\n"
     ]
    },
    {
     "name": "stderr",
     "output_type": "stream",
     "text": [
      " 97%|█████████▋| 348/360 [1:13:53<05:04, 25.36s/it]"
     ]
    },
    {
     "name": "stdout",
     "output_type": "stream",
     "text": [
      "2021-05-06 12:01:19,711 - modnet - INFO - Preset #55 fitting finished, loss: 0.33514550924301145\n"
     ]
    },
    {
     "name": "stderr",
     "output_type": "stream",
     "text": [
      " 97%|█████████▋| 349/360 [1:13:56<03:25, 18.69s/it]"
     ]
    },
    {
     "name": "stdout",
     "output_type": "stream",
     "text": [
      "2021-05-06 12:01:24,097 - modnet - INFO - Preset #55 fitting finished, loss: 0.4210513591766357\n"
     ]
    },
    {
     "name": "stderr",
     "output_type": "stream",
     "text": [
      " 97%|█████████▋| 350/360 [1:14:00<02:24, 14.46s/it]"
     ]
    },
    {
     "name": "stdout",
     "output_type": "stream",
     "text": [
      "2021-05-06 12:01:50,864 - modnet - INFO - Preset #60 fitting finished, loss: 496.11370849609375\n"
     ]
    },
    {
     "name": "stderr",
     "output_type": "stream",
     "text": [
      " 98%|█████████▊| 351/360 [1:14:27<02:43, 18.12s/it]"
     ]
    },
    {
     "name": "stdout",
     "output_type": "stream",
     "text": [
      "2021-05-06 12:02:09,176 - modnet - INFO - Preset #60 fitting finished, loss: 0.3869908034801483\n"
     ]
    },
    {
     "name": "stderr",
     "output_type": "stream",
     "text": [
      " 98%|█████████▊| 352/360 [1:14:45<02:25, 18.20s/it]"
     ]
    },
    {
     "name": "stdout",
     "output_type": "stream",
     "text": [
      "2021-05-06 12:03:55,166 - modnet - INFO - Preset #60 fitting finished, loss: 0.3415157735347748\n"
     ]
    },
    {
     "name": "stderr",
     "output_type": "stream",
     "text": [
      " 98%|█████████▊| 353/360 [1:16:31<05:11, 44.51s/it]"
     ]
    },
    {
     "name": "stdout",
     "output_type": "stream",
     "text": [
      "2021-05-06 12:04:41,777 - modnet - INFO - Preset #55 fitting finished, loss: 0.3685676336288452\n"
     ]
    },
    {
     "name": "stderr",
     "output_type": "stream",
     "text": [
      " 98%|█████████▊| 354/360 [1:17:18<04:31, 45.17s/it]"
     ]
    },
    {
     "name": "stdout",
     "output_type": "stream",
     "text": [
      "2021-05-06 12:04:51,154 - modnet - INFO - Preset #55 fitting finished, loss: 0.3602592945098877\n"
     ]
    },
    {
     "name": "stderr",
     "output_type": "stream",
     "text": [
      " 99%|█████████▊| 355/360 [1:17:27<02:52, 34.44s/it]"
     ]
    },
    {
     "name": "stdout",
     "output_type": "stream",
     "text": [
      "2021-05-06 12:05:03,898 - modnet - INFO - Preset #54 fitting finished, loss: 1067.3936462402344\n"
     ]
    },
    {
     "name": "stderr",
     "output_type": "stream",
     "text": [
      " 99%|█████████▉| 356/360 [1:17:40<01:51, 27.95s/it]"
     ]
    },
    {
     "name": "stdout",
     "output_type": "stream",
     "text": [
      "2021-05-06 12:05:13,809 - modnet - INFO - Preset #55 fitting finished, loss: 394.09876708984376\n"
     ]
    },
    {
     "name": "stderr",
     "output_type": "stream",
     "text": [
      " 99%|█████████▉| 357/360 [1:17:50<01:07, 22.49s/it]"
     ]
    },
    {
     "name": "stdout",
     "output_type": "stream",
     "text": [
      "2021-05-06 12:05:25,070 - modnet - INFO - Preset #61 fitting finished, loss: 0.3293340981006622\n"
     ]
    },
    {
     "name": "stderr",
     "output_type": "stream",
     "text": [
      " 99%|█████████▉| 358/360 [1:18:01<00:38, 19.10s/it]"
     ]
    },
    {
     "name": "stdout",
     "output_type": "stream",
     "text": [
      "2021-05-06 12:11:16,855 - modnet - INFO - Preset #61 fitting finished, loss: 0.35749517679214476\n"
     ]
    },
    {
     "name": "stderr",
     "output_type": "stream",
     "text": [
      "100%|█████████▉| 359/360 [1:23:53<01:58, 118.93s/it]"
     ]
    },
    {
     "name": "stdout",
     "output_type": "stream",
     "text": [
      "2021-05-06 12:12:36,842 - modnet - INFO - Preset #54 fitting finished, loss: 0.34736528992652893\n"
     ]
    },
    {
     "name": "stderr",
     "output_type": "stream",
     "text": [
      "100%|██████████| 360/360 [1:25:13<00:00, 14.20s/it] \n"
     ]
    },
    {
     "name": "stdout",
     "output_type": "stream",
     "text": [
      "2021-05-06 12:12:42,464 - modnet - INFO - Preset #27 resulted in lowest validation loss with params {'train_data': <modnet.preprocessing.MODData object at 0x7f56c3f4c610>, 'targets': [[['difference']]], 'weights': {'difference': 1}, 'n_models': 5, 'num_classes': {'difference': 0}, 'n_feat': 128, 'num_neurons': [[128], [64], [16], [16]], 'lr': 0.005, 'batch_size': 64, 'epochs': 1000, 'loss': 'mae', 'act': 'elu', 'out_act': 'linear', 'callbacks': [<tensorflow.python.keras.callbacks.EarlyStopping object at 0x7f56c2433220>], 'preset_id': 26, 'fold_id': 0, 'verbose': 0, 'val_data': <modnet.preprocessing.MODData object at 0x7f56c33b6820>}\n",
      "mae\n",
      "0.27340240537781035\n",
      "uncertainty\n",
      "0.20271552\n",
      "2021-05-06 12:13:07,603 - modnet - INFO - Loaded <modnet.preprocessing.MODData object at 0x7f571a44eeb0> object, created with modnet version 0.1.9\n",
      "2021-05-06 12:13:13,422 - modnet - INFO - Proceeding with grid search: archs: [(64, [[128], [32], [8], [8]]), (64, [[64], [32], [8], [8]]), (64, [[32], [16], [8], [8]]), (128, [[256], [64], [16], [16]]), (128, [[128], [64], [16], [16]]), (128, [[64], [32], [16], [16]]), (256, [[512], [128], [32], [32]]), (256, [[256], [128], [32], [32]]), (256, [[128], [64], [32], [32]]), (512, [[1024], [256], [64], [64]]), (512, [[512], [256], [64], [64]]), (512, [[256], [128], [64], [64]])], batch sizes: [64], learning_rates: [0.001, 0.005, 0.01]\n",
      "2021-05-06 12:13:21,583 - modnet - INFO - Multiprocessing on 64 cores. Total of 128 cores available.\n"
     ]
    },
    {
     "name": "stderr",
     "output_type": "stream",
     "text": [
      "  0%|          | 0/360 [00:00<?, ?it/s]"
     ]
    },
    {
     "name": "stdout",
     "output_type": "stream",
     "text": [
      "2021-05-06 12:21:40,409 - modnet - INFO - Preset #5 fitting finished, loss: 0.3375258445739746\n"
     ]
    },
    {
     "name": "stderr",
     "output_type": "stream",
     "text": [
      "  0%|          | 1/360 [08:21<49:59:58, 501.39s/it]"
     ]
    },
    {
     "name": "stdout",
     "output_type": "stream",
     "text": [
      "2021-05-06 12:22:02,049 - modnet - INFO - Preset #4 fitting finished, loss: 0.32123969197273256\n"
     ]
    },
    {
     "name": "stderr",
     "output_type": "stream",
     "text": [
      "  1%|          | 2/360 [08:41<35:29:31, 356.90s/it]"
     ]
    },
    {
     "name": "stdout",
     "output_type": "stream",
     "text": [
      "2021-05-06 12:22:20,938 - modnet - INFO - Preset #4 fitting finished, loss: 0.3915875911712646\n"
     ]
    },
    {
     "name": "stderr",
     "output_type": "stream",
     "text": [
      "  1%|          | 3/360 [09:00<25:20:13, 255.50s/it]"
     ]
    },
    {
     "name": "stdout",
     "output_type": "stream",
     "text": [
      "2021-05-06 12:22:57,796 - modnet - INFO - Preset #10 fitting finished, loss: 0.32011194825172423\n"
     ]
    },
    {
     "name": "stderr",
     "output_type": "stream",
     "text": [
      "  1%|          | 4/360 [09:36<18:46:45, 189.90s/it]"
     ]
    },
    {
     "name": "stdout",
     "output_type": "stream",
     "text": [
      "2021-05-06 12:23:29,450 - modnet - INFO - Preset #11 fitting finished, loss: 0.3083828330039978\n"
     ]
    },
    {
     "name": "stderr",
     "output_type": "stream",
     "text": [
      "  1%|▏         | 5/360 [10:08<14:02:30, 142.40s/it]"
     ]
    },
    {
     "name": "stdout",
     "output_type": "stream",
     "text": [
      "2021-05-06 12:23:45,810 - modnet - INFO - Preset #11 fitting finished, loss: 0.3907484531402588\n"
     ]
    },
    {
     "name": "stderr",
     "output_type": "stream",
     "text": [
      "  2%|▏         | 6/360 [10:25<10:17:31, 104.67s/it]"
     ]
    },
    {
     "name": "stdout",
     "output_type": "stream",
     "text": [
      "2021-05-06 12:23:55,424 - modnet - INFO - Preset #10 fitting finished, loss: 0.3434261977672577\n"
     ]
    },
    {
     "name": "stderr",
     "output_type": "stream",
     "text": [
      "  2%|▏         | 7/360 [10:34<7:27:08, 76.00s/it]  "
     ]
    },
    {
     "name": "stdout",
     "output_type": "stream",
     "text": [
      "2021-05-06 12:24:07,756 - modnet - INFO - Preset #5 fitting finished, loss: 0.3566968500614166\n"
     ]
    },
    {
     "name": "stderr",
     "output_type": "stream",
     "text": [
      "  2%|▏         | 8/360 [10:46<5:34:07, 56.95s/it]"
     ]
    },
    {
     "name": "stdout",
     "output_type": "stream",
     "text": [
      "2021-05-06 12:24:16,612 - modnet - INFO - Preset #11 fitting finished, loss: 0.3456537961959839\n"
     ]
    },
    {
     "name": "stderr",
     "output_type": "stream",
     "text": [
      "  2%|▎         | 9/360 [10:55<4:08:32, 42.48s/it]"
     ]
    },
    {
     "name": "stdout",
     "output_type": "stream",
     "text": [
      "2021-05-06 12:24:24,080 - modnet - INFO - Preset #5 fitting finished, loss: 0.3107936024665833\n"
     ]
    },
    {
     "name": "stderr",
     "output_type": "stream",
     "text": [
      "  3%|▎         | 10/360 [11:02<3:06:40, 32.00s/it]"
     ]
    },
    {
     "name": "stdout",
     "output_type": "stream",
     "text": [
      "2021-05-06 12:24:28,629 - modnet - INFO - Preset #3 fitting finished, loss: 0.3733062922954559\n"
     ]
    },
    {
     "name": "stderr",
     "output_type": "stream",
     "text": [
      "  3%|▎         | 11/360 [11:07<2:18:11, 23.76s/it]"
     ]
    },
    {
     "name": "stdout",
     "output_type": "stream",
     "text": [
      "2021-05-06 12:24:32,490 - modnet - INFO - Preset #5 fitting finished, loss: 0.3614532113075256\n"
     ]
    },
    {
     "name": "stderr",
     "output_type": "stream",
     "text": [
      "  3%|▎         | 12/360 [11:11<1:43:20, 17.82s/it]"
     ]
    },
    {
     "name": "stdout",
     "output_type": "stream",
     "text": [
      "2021-05-06 12:24:43,752 - modnet - INFO - Preset #2 fitting finished, loss: 0.32597856521606444\n"
     ]
    },
    {
     "name": "stderr",
     "output_type": "stream",
     "text": [
      "  4%|▎         | 13/360 [11:22<1:31:45, 15.87s/it]"
     ]
    },
    {
     "name": "stdout",
     "output_type": "stream",
     "text": [
      "2021-05-06 12:24:46,398 - modnet - INFO - Preset #9 fitting finished, loss: 0.3570545554161072\n"
     ]
    },
    {
     "name": "stderr",
     "output_type": "stream",
     "text": [
      "  4%|▍         | 14/360 [11:25<1:08:25, 11.86s/it]"
     ]
    },
    {
     "name": "stdout",
     "output_type": "stream",
     "text": [
      "2021-05-06 12:24:50,004 - modnet - INFO - Preset #2 fitting finished, loss: 0.3545708417892456\n"
     ]
    },
    {
     "name": "stderr",
     "output_type": "stream",
     "text": [
      "  4%|▍         | 15/360 [11:28<53:49,  9.36s/it]  "
     ]
    },
    {
     "name": "stdout",
     "output_type": "stream",
     "text": [
      "2021-05-06 12:24:50,731 - modnet - INFO - Preset #3 fitting finished, loss: 0.320774519443512\n"
     ]
    },
    {
     "name": "stderr",
     "output_type": "stream",
     "text": [
      "  4%|▍         | 16/360 [11:29<39:34,  6.90s/it]"
     ]
    },
    {
     "name": "stdout",
     "output_type": "stream",
     "text": [
      "2021-05-06 12:24:53,404 - modnet - INFO - Preset #3 fitting finished, loss: 0.30097646713256837\n"
     ]
    },
    {
     "name": "stderr",
     "output_type": "stream",
     "text": [
      "  5%|▍         | 17/360 [11:32<32:02,  5.61s/it]"
     ]
    },
    {
     "name": "stdout",
     "output_type": "stream",
     "text": [
      "2021-05-06 12:25:21,463 - modnet - INFO - Preset #8 fitting finished, loss: 0.3071339726448059\n"
     ]
    },
    {
     "name": "stderr",
     "output_type": "stream",
     "text": [
      "  5%|▌         | 18/360 [12:00<1:10:31, 12.37s/it]"
     ]
    },
    {
     "name": "stdout",
     "output_type": "stream",
     "text": [
      "2021-05-06 12:25:31,157 - modnet - INFO - Preset #5 fitting finished, loss: 0.35571226477622986\n"
     ]
    },
    {
     "name": "stderr",
     "output_type": "stream",
     "text": [
      "  5%|▌         | 19/360 [12:10<1:05:23, 11.51s/it]"
     ]
    },
    {
     "name": "stdout",
     "output_type": "stream",
     "text": [
      "2021-05-06 12:25:39,923 - modnet - INFO - Preset #4 fitting finished, loss: 0.3101979851722717\n"
     ]
    },
    {
     "name": "stderr",
     "output_type": "stream",
     "text": [
      "  6%|▌         | 20/360 [12:18<1:00:30, 10.68s/it]"
     ]
    },
    {
     "name": "stdout",
     "output_type": "stream",
     "text": [
      "2021-05-06 12:25:46,543 - modnet - INFO - Preset #4 fitting finished, loss: 0.3442250907421112\n"
     ]
    },
    {
     "name": "stderr",
     "output_type": "stream",
     "text": [
      "  6%|▌         | 21/360 [12:25<53:07,  9.40s/it]  "
     ]
    },
    {
     "name": "stdout",
     "output_type": "stream",
     "text": [
      "2021-05-06 12:25:48,789 - modnet - INFO - Preset #10 fitting finished, loss: 0.3827261209487915\n"
     ]
    },
    {
     "name": "stderr",
     "output_type": "stream",
     "text": [
      "  6%|▌         | 22/360 [12:27<41:09,  7.31s/it]"
     ]
    },
    {
     "name": "stdout",
     "output_type": "stream",
     "text": [
      "2021-05-06 12:25:49,408 - modnet - INFO - Preset #8 fitting finished, loss: 0.31865403056144714\n"
     ]
    },
    {
     "name": "stderr",
     "output_type": "stream",
     "text": [
      "  6%|▋         | 23/360 [12:28<29:45,  5.30s/it]"
     ]
    },
    {
     "name": "stdout",
     "output_type": "stream",
     "text": [
      "2021-05-06 12:25:51,442 - modnet - INFO - Preset #10 fitting finished, loss: 0.30662906765937803\n"
     ]
    },
    {
     "name": "stderr",
     "output_type": "stream",
     "text": [
      "  7%|▋         | 24/360 [12:30<24:00,  4.29s/it]"
     ]
    },
    {
     "name": "stdout",
     "output_type": "stream",
     "text": [
      "2021-05-06 12:25:55,415 - modnet - INFO - Preset #2 fitting finished, loss: 0.32108921408653257\n"
     ]
    },
    {
     "name": "stderr",
     "output_type": "stream",
     "text": [
      "  7%|▋         | 25/360 [12:34<23:23,  4.19s/it]"
     ]
    },
    {
     "name": "stdout",
     "output_type": "stream",
     "text": [
      "2021-05-06 12:25:57,536 - modnet - INFO - Preset #8 fitting finished, loss: 0.3476598381996155\n"
     ]
    },
    {
     "name": "stderr",
     "output_type": "stream",
     "text": [
      "  7%|▋         | 26/360 [12:36<19:56,  3.58s/it]"
     ]
    },
    {
     "name": "stdout",
     "output_type": "stream",
     "text": [
      "2021-05-06 12:26:02,309 - modnet - INFO - Preset #11 fitting finished, loss: 0.31881346106529235\n"
     ]
    },
    {
     "name": "stderr",
     "output_type": "stream",
     "text": [
      "  8%|▊         | 27/360 [12:41<21:45,  3.92s/it]"
     ]
    },
    {
     "name": "stdout",
     "output_type": "stream",
     "text": [
      "2021-05-06 12:26:03,553 - modnet - INFO - Preset #10 fitting finished, loss: 0.35365793108940125\n"
     ]
    },
    {
     "name": "stderr",
     "output_type": "stream",
     "text": [
      "  8%|▊         | 28/360 [12:42<17:18,  3.13s/it]"
     ]
    },
    {
     "name": "stdout",
     "output_type": "stream",
     "text": [
      "2021-05-06 12:26:12,139 - modnet - INFO - Preset #11 fitting finished, loss: 0.3598425090312958\n"
     ]
    },
    {
     "name": "stderr",
     "output_type": "stream",
     "text": [
      "  8%|▊         | 29/360 [12:50<25:57,  4.71s/it]"
     ]
    },
    {
     "name": "stdout",
     "output_type": "stream",
     "text": [
      "2021-05-06 12:26:18,238 - modnet - INFO - Preset #9 fitting finished, loss: 0.32466524839401245\n"
     ]
    },
    {
     "name": "stderr",
     "output_type": "stream",
     "text": [
      "  8%|▊         | 30/360 [12:58<30:33,  5.56s/it]"
     ]
    },
    {
     "name": "stdout",
     "output_type": "stream",
     "text": [
      "2021-05-06 12:26:44,691 - modnet - INFO - Preset #3 fitting finished, loss: 0.3736727833747864\n"
     ]
    },
    {
     "name": "stderr",
     "output_type": "stream",
     "text": [
      "  9%|▊         | 31/360 [13:23<1:03:19, 11.55s/it]"
     ]
    },
    {
     "name": "stdout",
     "output_type": "stream",
     "text": [
      "2021-05-06 12:26:56,441 - modnet - INFO - Preset #8 fitting finished, loss: 0.3488750338554382\n"
     ]
    },
    {
     "name": "stderr",
     "output_type": "stream",
     "text": [
      "  9%|▉         | 32/360 [13:35<1:03:06, 11.54s/it]"
     ]
    },
    {
     "name": "stdout",
     "output_type": "stream",
     "text": [
      "2021-05-06 12:27:02,976 - modnet - INFO - Preset #4 fitting finished, loss: 0.3552908658981323\n"
     ]
    },
    {
     "name": "stderr",
     "output_type": "stream",
     "text": [
      "  9%|▉         | 33/360 [13:42<55:05, 10.11s/it]  "
     ]
    },
    {
     "name": "stdout",
     "output_type": "stream",
     "text": [
      "2021-05-06 12:27:11,390 - modnet - INFO - Preset #9 fitting finished, loss: 0.3326647877693176\n"
     ]
    },
    {
     "name": "stderr",
     "output_type": "stream",
     "text": [
      "  9%|▉         | 34/360 [13:50<52:28,  9.66s/it]"
     ]
    },
    {
     "name": "stdout",
     "output_type": "stream",
     "text": [
      "2021-05-06 12:27:12,422 - modnet - INFO - Preset #9 fitting finished, loss: 0.3787346601486206\n"
     ]
    },
    {
     "name": "stderr",
     "output_type": "stream",
     "text": [
      " 10%|▉         | 35/360 [13:52<38:36,  7.13s/it]"
     ]
    },
    {
     "name": "stdout",
     "output_type": "stream",
     "text": [
      "2021-05-06 12:27:13,645 - modnet - INFO - Preset #2 fitting finished, loss: 0.37628470063209535\n"
     ]
    },
    {
     "name": "stderr",
     "output_type": "stream",
     "text": [
      " 10%|█         | 36/360 [13:53<29:09,  5.40s/it]"
     ]
    },
    {
     "name": "stdout",
     "output_type": "stream",
     "text": [
      "2021-05-06 12:27:17,713 - modnet - INFO - Preset #2 fitting finished, loss: 0.35254793167114257\n"
     ]
    },
    {
     "name": "stderr",
     "output_type": "stream",
     "text": [
      " 10%|█         | 37/360 [13:57<26:17,  4.88s/it]"
     ]
    },
    {
     "name": "stdout",
     "output_type": "stream",
     "text": [
      "2021-05-06 12:27:31,468 - modnet - INFO - Preset #8 fitting finished, loss: 0.3658763349056244\n"
     ]
    },
    {
     "name": "stderr",
     "output_type": "stream",
     "text": [
      " 11%|█         | 38/360 [14:10<40:32,  7.55s/it]"
     ]
    },
    {
     "name": "stdout",
     "output_type": "stream",
     "text": [
      "2021-05-06 12:27:38,468 - modnet - INFO - Preset #9 fitting finished, loss: 0.34108134508132937\n"
     ]
    },
    {
     "name": "stderr",
     "output_type": "stream",
     "text": [
      " 11%|█         | 39/360 [14:17<39:32,  7.39s/it]"
     ]
    },
    {
     "name": "stdout",
     "output_type": "stream",
     "text": [
      "2021-05-06 12:27:48,238 - modnet - INFO - Preset #3 fitting finished, loss: 0.3510531306266785\n"
     ]
    },
    {
     "name": "stderr",
     "output_type": "stream",
     "text": [
      " 11%|█         | 40/360 [14:27<43:31,  8.16s/it]"
     ]
    },
    {
     "name": "stdout",
     "output_type": "stream",
     "text": [
      "2021-05-06 12:28:09,365 - modnet - INFO - Preset #0 fitting finished, loss: 0.37941315174102785\n"
     ]
    },
    {
     "name": "stderr",
     "output_type": "stream",
     "text": [
      " 11%|█▏        | 41/360 [14:48<1:03:59, 12.04s/it]"
     ]
    },
    {
     "name": "stdout",
     "output_type": "stream",
     "text": [
      "2021-05-06 12:28:12,393 - modnet - INFO - Preset #6 fitting finished, loss: 0.3748471200466156\n"
     ]
    },
    {
     "name": "stderr",
     "output_type": "stream",
     "text": [
      " 12%|█▏        | 42/360 [14:51<49:00,  9.25s/it]  "
     ]
    },
    {
     "name": "stdout",
     "output_type": "stream",
     "text": [
      "2021-05-06 12:28:17,984 - modnet - INFO - Preset #0 fitting finished, loss: 0.3393723130226135\n"
     ]
    },
    {
     "name": "stderr",
     "output_type": "stream",
     "text": [
      " 12%|█▏        | 43/360 [14:57<43:14,  8.18s/it]"
     ]
    },
    {
     "name": "stdout",
     "output_type": "stream",
     "text": [
      "2021-05-06 12:28:37,475 - modnet - INFO - Preset #6 fitting finished, loss: 0.37356045842170715\n"
     ]
    },
    {
     "name": "stderr",
     "output_type": "stream",
     "text": [
      " 12%|█▏        | 44/360 [15:17<1:01:20, 11.65s/it]"
     ]
    },
    {
     "name": "stdout",
     "output_type": "stream",
     "text": [
      "2021-05-06 12:29:14,843 - modnet - INFO - Preset #7 fitting finished, loss: 0.35019674301147463\n"
     ]
    },
    {
     "name": "stderr",
     "output_type": "stream",
     "text": [
      " 12%|█▎        | 45/360 [15:54<1:40:58, 19.23s/it]"
     ]
    },
    {
     "name": "stdout",
     "output_type": "stream",
     "text": [
      "2021-05-06 12:29:26,640 - modnet - INFO - Preset #0 fitting finished, loss: 0.36712263226509095\n"
     ]
    },
    {
     "name": "stderr",
     "output_type": "stream",
     "text": [
      " 13%|█▎        | 46/360 [16:05<1:29:10, 17.04s/it]"
     ]
    },
    {
     "name": "stdout",
     "output_type": "stream",
     "text": [
      "2021-05-06 12:29:29,568 - modnet - INFO - Preset #7 fitting finished, loss: 0.35634498596191405\n"
     ]
    },
    {
     "name": "stderr",
     "output_type": "stream",
     "text": [
      " 13%|█▎        | 47/360 [16:08<1:07:01, 12.85s/it]"
     ]
    },
    {
     "name": "stdout",
     "output_type": "stream",
     "text": [
      "2021-05-06 12:29:30,632 - modnet - INFO - Preset #7 fitting finished, loss: 0.3827691197395325\n"
     ]
    },
    {
     "name": "stderr",
     "output_type": "stream",
     "text": [
      " 13%|█▎        | 48/360 [16:10<48:43,  9.37s/it]  "
     ]
    },
    {
     "name": "stdout",
     "output_type": "stream",
     "text": [
      "2021-05-06 12:29:42,315 - modnet - INFO - Preset #1 fitting finished, loss: 0.3387256383895874\n"
     ]
    },
    {
     "name": "stderr",
     "output_type": "stream",
     "text": [
      " 14%|█▎        | 49/360 [16:21<51:34,  9.95s/it]"
     ]
    },
    {
     "name": "stdout",
     "output_type": "stream",
     "text": [
      "2021-05-06 12:29:50,520 - modnet - INFO - Preset #12 fitting finished, loss: 0.40285062193870547\n"
     ]
    },
    {
     "name": "stderr",
     "output_type": "stream",
     "text": [
      " 14%|█▍        | 50/360 [16:29<48:41,  9.42s/it]"
     ]
    },
    {
     "name": "stdout",
     "output_type": "stream",
     "text": [
      "2021-05-06 12:29:53,646 - modnet - INFO - Preset #1 fitting finished, loss: 0.35622822046279906\n"
     ]
    },
    {
     "name": "stderr",
     "output_type": "stream",
     "text": [
      " 14%|█▍        | 51/360 [16:32<38:44,  7.52s/it]"
     ]
    },
    {
     "name": "stdout",
     "output_type": "stream",
     "text": [
      "2021-05-06 12:29:58,752 - modnet - INFO - Preset #12 fitting finished, loss: 0.3597540020942688\n"
     ]
    },
    {
     "name": "stderr",
     "output_type": "stream",
     "text": [
      " 14%|█▍        | 52/360 [16:37<34:57,  6.81s/it]"
     ]
    },
    {
     "name": "stdout",
     "output_type": "stream",
     "text": [
      "2021-05-06 12:29:59,688 - modnet - INFO - Preset #0 fitting finished, loss: 0.3960485816001892\n"
     ]
    },
    {
     "name": "stderr",
     "output_type": "stream",
     "text": [
      " 15%|█▍        | 53/360 [16:39<26:27,  5.17s/it]"
     ]
    },
    {
     "name": "stdout",
     "output_type": "stream",
     "text": [
      "2021-05-06 12:30:08,475 - modnet - INFO - Preset #0 fitting finished, loss: 0.3414209008216858\n"
     ]
    },
    {
     "name": "stderr",
     "output_type": "stream",
     "text": [
      " 15%|█▌        | 54/360 [16:47<31:07,  6.10s/it]"
     ]
    },
    {
     "name": "stdout",
     "output_type": "stream",
     "text": [
      "2021-05-06 12:30:12,305 - modnet - INFO - Preset #1 fitting finished, loss: 0.3722841739654541\n"
     ]
    },
    {
     "name": "stderr",
     "output_type": "stream",
     "text": [
      " 15%|█▌        | 55/360 [16:51<27:06,  5.33s/it]"
     ]
    },
    {
     "name": "stdout",
     "output_type": "stream",
     "text": [
      "2021-05-06 12:30:19,468 - modnet - INFO - Preset #6 fitting finished, loss: 0.3278882324695587\n"
     ]
    },
    {
     "name": "stderr",
     "output_type": "stream",
     "text": [
      " 16%|█▌        | 56/360 [16:58<30:11,  5.96s/it]"
     ]
    },
    {
     "name": "stdout",
     "output_type": "stream",
     "text": [
      "2021-05-06 12:30:25,893 - modnet - INFO - Preset #1 fitting finished, loss: 0.3853047251701355\n"
     ]
    },
    {
     "name": "stderr",
     "output_type": "stream",
     "text": [
      " 16%|█▌        | 57/360 [17:05<31:07,  6.16s/it]"
     ]
    },
    {
     "name": "stdout",
     "output_type": "stream",
     "text": [
      "2021-05-06 12:30:36,697 - modnet - INFO - Preset #12 fitting finished, loss: 0.36279178857803346\n"
     ]
    },
    {
     "name": "stderr",
     "output_type": "stream",
     "text": [
      " 16%|█▌        | 58/360 [17:15<37:50,  7.52s/it]"
     ]
    },
    {
     "name": "stdout",
     "output_type": "stream",
     "text": [
      "2021-05-06 12:30:37,505 - modnet - INFO - Preset #7 fitting finished, loss: 0.3787183046340942\n"
     ]
    },
    {
     "name": "stderr",
     "output_type": "stream",
     "text": [
      " 16%|█▋        | 59/360 [17:16<27:49,  5.55s/it]"
     ]
    },
    {
     "name": "stdout",
     "output_type": "stream",
     "text": [
      "2021-05-06 12:30:43,370 - modnet - INFO - Preset #6 fitting finished, loss: 0.39872361421585084\n"
     ]
    },
    {
     "name": "stderr",
     "output_type": "stream",
     "text": [
      " 17%|█▋        | 60/360 [17:28<37:31,  7.50s/it]"
     ]
    },
    {
     "name": "stdout",
     "output_type": "stream",
     "text": [
      "2021-05-06 12:30:50,522 - modnet - INFO - Preset #6 fitting finished, loss: 0.35411696434020995\n"
     ]
    },
    {
     "name": "stderr",
     "output_type": "stream",
     "text": [
      " 17%|█▋        | 61/360 [17:29<27:46,  5.57s/it]"
     ]
    },
    {
     "name": "stdout",
     "output_type": "stream",
     "text": [
      "2021-05-06 12:30:56,801 - modnet - INFO - Preset #12 fitting finished, loss: 0.37718735337257386\n"
     ]
    },
    {
     "name": "stderr",
     "output_type": "stream",
     "text": [
      " 17%|█▋        | 62/360 [17:36<29:03,  5.85s/it]"
     ]
    },
    {
     "name": "stdout",
     "output_type": "stream",
     "text": [
      "2021-05-06 12:31:04,363 - modnet - INFO - Preset #1 fitting finished, loss: 0.36892908811569214\n"
     ]
    },
    {
     "name": "stderr",
     "output_type": "stream",
     "text": [
      " 18%|█▊        | 63/360 [17:43<30:57,  6.25s/it]"
     ]
    },
    {
     "name": "stdout",
     "output_type": "stream",
     "text": [
      "2021-05-06 12:31:05,430 - modnet - INFO - Preset #14 fitting finished, loss: 0.32208311557769775\n"
     ]
    },
    {
     "name": "stderr",
     "output_type": "stream",
     "text": [
      " 18%|█▊        | 64/360 [17:44<23:26,  4.75s/it]"
     ]
    },
    {
     "name": "stdout",
     "output_type": "stream",
     "text": [
      "2021-05-06 12:31:46,289 - modnet - INFO - Preset #7 fitting finished, loss: 0.3719829678535461\n"
     ]
    },
    {
     "name": "stderr",
     "output_type": "stream",
     "text": [
      " 18%|█▊        | 65/360 [18:25<1:16:09, 15.49s/it]"
     ]
    },
    {
     "name": "stdout",
     "output_type": "stream",
     "text": [
      "2021-05-06 12:33:35,703 - modnet - INFO - Preset #16 fitting finished, loss: 0.3625158429145813\n"
     ]
    },
    {
     "name": "stderr",
     "output_type": "stream",
     "text": [
      " 18%|█▊        | 66/360 [20:14<3:33:46, 43.63s/it]"
     ]
    },
    {
     "name": "stdout",
     "output_type": "stream",
     "text": [
      "2021-05-06 12:33:48,592 - modnet - INFO - Preset #17 fitting finished, loss: 0.3706442713737488\n"
     ]
    },
    {
     "name": "stderr",
     "output_type": "stream",
     "text": [
      " 19%|█▊        | 67/360 [20:27<2:48:14, 34.45s/it]"
     ]
    },
    {
     "name": "stdout",
     "output_type": "stream",
     "text": [
      "2021-05-06 12:34:17,017 - modnet - INFO - Preset #22 fitting finished, loss: 0.4158825218677521\n"
     ]
    },
    {
     "name": "stderr",
     "output_type": "stream",
     "text": [
      " 19%|█▉        | 68/360 [20:56<2:39:12, 32.71s/it]"
     ]
    },
    {
     "name": "stdout",
     "output_type": "stream",
     "text": [
      "2021-05-06 12:34:50,563 - modnet - INFO - Preset #16 fitting finished, loss: 0.31253635287284853\n"
     ]
    },
    {
     "name": "stderr",
     "output_type": "stream",
     "text": [
      " 19%|█▉        | 69/360 [21:29<2:39:43, 32.93s/it]"
     ]
    },
    {
     "name": "stdout",
     "output_type": "stream",
     "text": [
      "2021-05-06 12:34:57,712 - modnet - INFO - Preset #15 fitting finished, loss: 0.3314465761184692\n"
     ]
    },
    {
     "name": "stderr",
     "output_type": "stream",
     "text": [
      " 19%|█▉        | 70/360 [21:36<2:01:09, 25.07s/it]"
     ]
    },
    {
     "name": "stdout",
     "output_type": "stream",
     "text": [
      "2021-05-06 12:34:58,322 - modnet - INFO - Preset #12 fitting finished, loss: 0.38231109380722045\n"
     ]
    },
    {
     "name": "stderr",
     "output_type": "stream",
     "text": [
      " 20%|█▉        | 71/360 [21:37<1:25:45, 17.81s/it]"
     ]
    },
    {
     "name": "stdout",
     "output_type": "stream",
     "text": [
      "2021-05-06 12:35:37,156 - modnet - INFO - Preset #17 fitting finished, loss: 0.31750440001487734\n"
     ]
    },
    {
     "name": "stderr",
     "output_type": "stream",
     "text": [
      " 20%|██        | 72/360 [22:16<1:55:47, 24.12s/it]"
     ]
    },
    {
     "name": "stdout",
     "output_type": "stream",
     "text": [
      "2021-05-06 12:35:43,483 - modnet - INFO - Preset #14 fitting finished, loss: 0.36487895250320435\n"
     ]
    },
    {
     "name": "stderr",
     "output_type": "stream",
     "text": [
      " 20%|██        | 73/360 [22:22<1:29:53, 18.79s/it]"
     ]
    },
    {
     "name": "stdout",
     "output_type": "stream",
     "text": [
      "2021-05-06 12:35:47,471 - modnet - INFO - Preset #14 fitting finished, loss: 0.35401931405067444\n"
     ]
    },
    {
     "name": "stderr",
     "output_type": "stream",
     "text": [
      " 21%|██        | 74/360 [22:26<1:08:43, 14.42s/it]"
     ]
    },
    {
     "name": "stdout",
     "output_type": "stream",
     "text": [
      "2021-05-06 12:35:48,497 - modnet - INFO - Preset #15 fitting finished, loss: 0.37053656578063965\n"
     ]
    },
    {
     "name": "stderr",
     "output_type": "stream",
     "text": [
      " 21%|██        | 75/360 [22:27<49:05, 10.34s/it]  "
     ]
    },
    {
     "name": "stdout",
     "output_type": "stream",
     "text": [
      "2021-05-06 12:35:59,180 - modnet - INFO - Preset #16 fitting finished, loss: 0.356209272146225\n"
     ]
    },
    {
     "name": "stderr",
     "output_type": "stream",
     "text": [
      " 21%|██        | 76/360 [22:38<49:22, 10.43s/it]"
     ]
    },
    {
     "name": "stdout",
     "output_type": "stream",
     "text": [
      "2021-05-06 12:36:14,304 - modnet - INFO - Preset #20 fitting finished, loss: 0.30649123787879945\n"
     ]
    },
    {
     "name": "stderr",
     "output_type": "stream",
     "text": [
      " 21%|██▏       | 77/360 [22:53<55:55, 11.86s/it]"
     ]
    },
    {
     "name": "stdout",
     "output_type": "stream",
     "text": [
      "2021-05-06 12:36:20,349 - modnet - INFO - Preset #23 fitting finished, loss: 0.41375733613967897\n"
     ]
    },
    {
     "name": "stderr",
     "output_type": "stream",
     "text": [
      " 22%|██▏       | 78/360 [22:59<47:29, 10.11s/it]"
     ]
    },
    {
     "name": "stdout",
     "output_type": "stream",
     "text": [
      "2021-05-06 12:36:35,723 - modnet - INFO - Preset #13 fitting finished, loss: 0.38114609122276305\n"
     ]
    },
    {
     "name": "stderr",
     "output_type": "stream",
     "text": [
      " 22%|██▏       | 79/360 [23:14<54:39, 11.67s/it]"
     ]
    },
    {
     "name": "stdout",
     "output_type": "stream",
     "text": [
      "2021-05-06 12:36:47,343 - modnet - INFO - Preset #17 fitting finished, loss: 0.3270952641963959\n"
     ]
    },
    {
     "name": "stderr",
     "output_type": "stream",
     "text": [
      " 22%|██▏       | 80/360 [23:26<54:28, 11.67s/it]"
     ]
    },
    {
     "name": "stdout",
     "output_type": "stream",
     "text": [
      "2021-05-06 12:36:49,127 - modnet - INFO - Preset #22 fitting finished, loss: 0.322526216506958\n"
     ]
    },
    {
     "name": "stderr",
     "output_type": "stream",
     "text": [
      " 22%|██▎       | 81/360 [23:28<40:41,  8.75s/it]"
     ]
    },
    {
     "name": "stdout",
     "output_type": "stream",
     "text": [
      "2021-05-06 12:36:50,681 - modnet - INFO - Preset #18 fitting finished, loss: 0.3057900071144104\n"
     ]
    },
    {
     "name": "stderr",
     "output_type": "stream",
     "text": [
      " 23%|██▎       | 82/360 [23:30<30:38,  6.61s/it]"
     ]
    },
    {
     "name": "stdout",
     "output_type": "stream",
     "text": [
      "2021-05-06 12:36:51,726 - modnet - INFO - Preset #21 fitting finished, loss: 0.3668772578239441\n"
     ]
    },
    {
     "name": "stderr",
     "output_type": "stream",
     "text": [
      " 23%|██▎       | 83/360 [23:31<22:42,  4.92s/it]"
     ]
    },
    {
     "name": "stdout",
     "output_type": "stream",
     "text": [
      "2021-05-06 12:36:56,559 - modnet - INFO - Preset #15 fitting finished, loss: 0.3255165159702301\n"
     ]
    },
    {
     "name": "stderr",
     "output_type": "stream",
     "text": [
      " 23%|██▎       | 84/360 [23:35<22:24,  4.87s/it]"
     ]
    },
    {
     "name": "stdout",
     "output_type": "stream",
     "text": [
      "2021-05-06 12:37:01,023 - modnet - INFO - Preset #14 fitting finished, loss: 0.3238320589065552\n"
     ]
    },
    {
     "name": "stderr",
     "output_type": "stream",
     "text": [
      " 24%|██▎       | 85/360 [23:40<21:22,  4.66s/it]"
     ]
    },
    {
     "name": "stdout",
     "output_type": "stream",
     "text": [
      "2021-05-06 12:37:18,356 - modnet - INFO - Preset #22 fitting finished, loss: 0.38022581338882444\n"
     ]
    },
    {
     "name": "stderr",
     "output_type": "stream",
     "text": [
      " 24%|██▍       | 86/360 [23:57<38:37,  8.46s/it]"
     ]
    },
    {
     "name": "stdout",
     "output_type": "stream",
     "text": [
      "2021-05-06 12:37:19,593 - modnet - INFO - Preset #16 fitting finished, loss: 0.3157910168170929\n"
     ]
    },
    {
     "name": "stderr",
     "output_type": "stream",
     "text": [
      " 24%|██▍       | 87/360 [23:59<29:18,  6.44s/it]"
     ]
    },
    {
     "name": "stdout",
     "output_type": "stream",
     "text": [
      "2021-05-06 12:37:27,715 - modnet - INFO - Preset #13 fitting finished, loss: 0.3522962272167206\n"
     ]
    },
    {
     "name": "stderr",
     "output_type": "stream",
     "text": [
      " 24%|██▍       | 88/360 [24:07<31:14,  6.89s/it]"
     ]
    },
    {
     "name": "stdout",
     "output_type": "stream",
     "text": [
      "2021-05-06 12:37:30,349 - modnet - INFO - Preset #18 fitting finished, loss: 0.3530480682849884\n"
     ]
    },
    {
     "name": "stderr",
     "output_type": "stream",
     "text": [
      " 25%|██▍       | 89/360 [24:09<25:05,  5.56s/it]"
     ]
    },
    {
     "name": "stdout",
     "output_type": "stream",
     "text": [
      "2021-05-06 12:37:43,327 - modnet - INFO - Preset #19 fitting finished, loss: 0.3086528301239014\n"
     ]
    },
    {
     "name": "stderr",
     "output_type": "stream",
     "text": [
      " 25%|██▌       | 90/360 [24:22<35:26,  7.87s/it]"
     ]
    },
    {
     "name": "stdout",
     "output_type": "stream",
     "text": [
      "2021-05-06 12:37:55,506 - modnet - INFO - Preset #23 fitting finished, loss: 0.3477197468280792\n"
     ]
    },
    {
     "name": "stderr",
     "output_type": "stream",
     "text": [
      " 25%|██▌       | 91/360 [24:34<41:04,  9.16s/it]"
     ]
    },
    {
     "name": "stdout",
     "output_type": "stream",
     "text": [
      "2021-05-06 12:38:18,889 - modnet - INFO - Preset #20 fitting finished, loss: 0.3663587749004364\n"
     ]
    },
    {
     "name": "stderr",
     "output_type": "stream",
     "text": [
      " 26%|██▌       | 92/360 [24:58<59:55, 13.42s/it]"
     ]
    },
    {
     "name": "stdout",
     "output_type": "stream",
     "text": [
      "2021-05-06 12:38:56,867 - modnet - INFO - Preset #13 fitting finished, loss: 0.35717291831970216\n"
     ]
    },
    {
     "name": "stderr",
     "output_type": "stream",
     "text": [
      " 26%|██▌       | 93/360 [25:36<1:32:12, 20.72s/it]"
     ]
    },
    {
     "name": "stdout",
     "output_type": "stream",
     "text": [
      "2021-05-06 12:39:08,111 - modnet - INFO - Preset #13 fitting finished, loss: 0.3998810350894928\n"
     ]
    },
    {
     "name": "stderr",
     "output_type": "stream",
     "text": [
      " 26%|██▌       | 94/360 [25:47<1:18:57, 17.81s/it]"
     ]
    },
    {
     "name": "stdout",
     "output_type": "stream",
     "text": [
      "2021-05-06 12:39:20,357 - modnet - INFO - Preset #16 fitting finished, loss: 0.35041325688362124\n"
     ]
    },
    {
     "name": "stderr",
     "output_type": "stream",
     "text": [
      " 26%|██▋       | 95/360 [25:59<1:11:34, 16.21s/it]"
     ]
    },
    {
     "name": "stdout",
     "output_type": "stream",
     "text": [
      "2021-05-06 12:39:33,754 - modnet - INFO - Preset #20 fitting finished, loss: 0.332551372051239\n"
     ]
    },
    {
     "name": "stderr",
     "output_type": "stream",
     "text": [
      " 27%|██▋       | 96/360 [26:17<1:13:20, 16.67s/it]"
     ]
    },
    {
     "name": "stdout",
     "output_type": "stream",
     "text": [
      "2021-05-06 12:39:38,850 - modnet - INFO - Preset #23 fitting finished, loss: 0.35275198221206666\n"
     ]
    },
    {
     "name": "stderr",
     "output_type": "stream",
     "text": [
      " 27%|██▋       | 97/360 [26:18<52:22, 11.95s/it]  "
     ]
    },
    {
     "name": "stdout",
     "output_type": "stream",
     "text": [
      "2021-05-06 12:40:04,688 - modnet - INFO - Preset #19 fitting finished, loss: 0.3510876953601837\n"
     ]
    },
    {
     "name": "stderr",
     "output_type": "stream",
     "text": [
      " 27%|██▋       | 98/360 [26:43<1:09:55, 16.01s/it]"
     ]
    },
    {
     "name": "stdout",
     "output_type": "stream",
     "text": [
      "2021-05-06 12:40:15,841 - modnet - INFO - Preset #15 fitting finished, loss: 0.3761189043521881\n"
     ]
    },
    {
     "name": "stderr",
     "output_type": "stream",
     "text": [
      " 28%|██▊       | 99/360 [26:55<1:03:36, 14.62s/it]"
     ]
    },
    {
     "name": "stdout",
     "output_type": "stream",
     "text": [
      "2021-05-06 12:40:16,828 - modnet - INFO - Preset #22 fitting finished, loss: 0.31074265837669374\n"
     ]
    },
    {
     "name": "stderr",
     "output_type": "stream",
     "text": [
      " 28%|██▊       | 100/360 [26:56<45:51, 10.58s/it] "
     ]
    },
    {
     "name": "stdout",
     "output_type": "stream",
     "text": [
      "2021-05-06 12:40:19,437 - modnet - INFO - Preset #29 fitting finished, loss: 0.3651017308235168\n"
     ]
    },
    {
     "name": "stderr",
     "output_type": "stream",
     "text": [
      " 28%|██▊       | 101/360 [26:58<34:55,  8.09s/it]"
     ]
    },
    {
     "name": "stdout",
     "output_type": "stream",
     "text": [
      "2021-05-06 12:40:30,055 - modnet - INFO - Preset #23 fitting finished, loss: 0.3066335618495941\n"
     ]
    },
    {
     "name": "stderr",
     "output_type": "stream",
     "text": [
      " 28%|██▊       | 102/360 [27:09<38:19,  8.91s/it]"
     ]
    },
    {
     "name": "stdout",
     "output_type": "stream",
     "text": [
      "2021-05-06 12:40:33,659 - modnet - INFO - Preset #18 fitting finished, loss: 0.3411015510559082\n"
     ]
    },
    {
     "name": "stderr",
     "output_type": "stream",
     "text": [
      " 29%|██▊       | 103/360 [27:12<31:00,  7.24s/it]"
     ]
    },
    {
     "name": "stdout",
     "output_type": "stream",
     "text": [
      "2021-05-06 12:40:47,943 - modnet - INFO - Preset #14 fitting finished, loss: 0.3593545436859131\n"
     ]
    },
    {
     "name": "stderr",
     "output_type": "stream",
     "text": [
      " 29%|██▉       | 104/360 [27:26<39:48,  9.33s/it]"
     ]
    },
    {
     "name": "stdout",
     "output_type": "stream",
     "text": [
      "2021-05-06 12:41:02,607 - modnet - INFO - Preset #17 fitting finished, loss: 0.3530657529830933\n"
     ]
    },
    {
     "name": "stderr",
     "output_type": "stream",
     "text": [
      " 29%|██▉       | 105/360 [27:41<46:36, 10.97s/it]"
     ]
    },
    {
     "name": "stdout",
     "output_type": "stream",
     "text": [
      "2021-05-06 12:41:07,123 - modnet - INFO - Preset #24 fitting finished, loss: 0.30802934169769286\n"
     ]
    },
    {
     "name": "stderr",
     "output_type": "stream",
     "text": [
      " 29%|██▉       | 106/360 [27:46<38:30,  9.10s/it]"
     ]
    },
    {
     "name": "stdout",
     "output_type": "stream",
     "text": [
      "2021-05-06 12:41:14,424 - modnet - INFO - Preset #18 fitting finished, loss: 0.3602753818035126\n"
     ]
    },
    {
     "name": "stderr",
     "output_type": "stream",
     "text": [
      " 30%|██▉       | 107/360 [27:53<35:47,  8.49s/it]"
     ]
    },
    {
     "name": "stdout",
     "output_type": "stream",
     "text": [
      "2021-05-06 12:41:17,583 - modnet - INFO - Preset #22 fitting finished, loss: 0.3459779262542725\n"
     ]
    },
    {
     "name": "stderr",
     "output_type": "stream",
     "text": [
      " 30%|███       | 108/360 [27:56<28:49,  6.86s/it]"
     ]
    },
    {
     "name": "stdout",
     "output_type": "stream",
     "text": [
      "2021-05-06 12:41:21,436 - modnet - INFO - Preset #13 fitting finished, loss: 0.3875550091266632\n"
     ]
    },
    {
     "name": "stderr",
     "output_type": "stream",
     "text": [
      " 30%|███       | 109/360 [28:00<25:22,  6.07s/it]"
     ]
    },
    {
     "name": "stdout",
     "output_type": "stream",
     "text": [
      "2021-05-06 12:41:25,044 - modnet - INFO - Preset #28 fitting finished, loss: 0.3992376923561096\n"
     ]
    },
    {
     "name": "stderr",
     "output_type": "stream",
     "text": [
      " 31%|███       | 110/360 [28:04<21:52,  5.25s/it]"
     ]
    },
    {
     "name": "stdout",
     "output_type": "stream",
     "text": [
      "2021-05-06 12:41:26,642 - modnet - INFO - Preset #17 fitting finished, loss: 0.36516969203948973\n"
     ]
    },
    {
     "name": "stderr",
     "output_type": "stream",
     "text": [
      " 31%|███       | 111/360 [28:05<17:30,  4.22s/it]"
     ]
    },
    {
     "name": "stdout",
     "output_type": "stream",
     "text": [
      "2021-05-06 12:41:31,071 - modnet - INFO - Preset #23 fitting finished, loss: 0.35328562259674073\n"
     ]
    },
    {
     "name": "stderr",
     "output_type": "stream",
     "text": [
      " 31%|███       | 112/360 [28:09<17:14,  4.17s/it]"
     ]
    },
    {
     "name": "stdout",
     "output_type": "stream",
     "text": [
      "2021-05-06 12:41:34,003 - modnet - INFO - Preset #21 fitting finished, loss: 0.3212330758571625\n"
     ]
    },
    {
     "name": "stderr",
     "output_type": "stream",
     "text": [
      " 31%|███▏      | 113/360 [28:13<16:08,  3.92s/it]"
     ]
    },
    {
     "name": "stdout",
     "output_type": "stream",
     "text": [
      "2021-05-06 12:41:34,896 - modnet - INFO - Preset #18 fitting finished, loss: 0.30892300605773926\n"
     ]
    },
    {
     "name": "stderr",
     "output_type": "stream",
     "text": [
      " 32%|███▏      | 114/360 [28:14<12:17,  3.00s/it]"
     ]
    },
    {
     "name": "stdout",
     "output_type": "stream",
     "text": [
      "2021-05-06 12:41:44,487 - modnet - INFO - Preset #20 fitting finished, loss: 0.29908818006515503\n"
     ]
    },
    {
     "name": "stderr",
     "output_type": "stream",
     "text": [
      " 32%|███▏      | 115/360 [28:23<20:18,  4.97s/it]"
     ]
    },
    {
     "name": "stdout",
     "output_type": "stream",
     "text": [
      "2021-05-06 12:41:54,639 - modnet - INFO - Preset #21 fitting finished, loss: 0.31117612719535825\n"
     ]
    },
    {
     "name": "stderr",
     "output_type": "stream",
     "text": [
      " 32%|███▏      | 116/360 [28:33<26:16,  6.46s/it]"
     ]
    },
    {
     "name": "stdout",
     "output_type": "stream",
     "text": [
      "2021-05-06 12:42:02,054 - modnet - INFO - Preset #20 fitting finished, loss: 0.32646474838256834\n"
     ]
    },
    {
     "name": "stderr",
     "output_type": "stream",
     "text": [
      " 32%|███▎      | 117/360 [28:41<27:31,  6.80s/it]"
     ]
    },
    {
     "name": "stdout",
     "output_type": "stream",
     "text": [
      "2021-05-06 12:42:02,842 - modnet - INFO - Preset #15 fitting finished, loss: 0.3577909290790558\n"
     ]
    },
    {
     "name": "stderr",
     "output_type": "stream",
     "text": [
      " 33%|███▎      | 118/360 [28:41<20:05,  4.98s/it]"
     ]
    },
    {
     "name": "stdout",
     "output_type": "stream",
     "text": [
      "2021-05-06 12:42:20,222 - modnet - INFO - Preset #21 fitting finished, loss: 0.28315666913986204\n"
     ]
    },
    {
     "name": "stderr",
     "output_type": "stream",
     "text": [
      " 33%|███▎      | 119/360 [28:59<34:44,  8.65s/it]"
     ]
    },
    {
     "name": "stdout",
     "output_type": "stream",
     "text": [
      "2021-05-06 12:42:32,647 - modnet - INFO - Preset #28 fitting finished, loss: 0.33097140192985536\n"
     ]
    },
    {
     "name": "stderr",
     "output_type": "stream",
     "text": [
      " 33%|███▎      | 120/360 [29:11<39:31,  9.88s/it]"
     ]
    },
    {
     "name": "stdout",
     "output_type": "stream",
     "text": [
      "2021-05-06 12:42:33,561 - modnet - INFO - Preset #19 fitting finished, loss: 0.3492247939109802\n"
     ]
    },
    {
     "name": "stderr",
     "output_type": "stream",
     "text": [
      " 34%|███▎      | 121/360 [29:13<28:51,  7.25s/it]"
     ]
    },
    {
     "name": "stdout",
     "output_type": "stream",
     "text": [
      "2021-05-06 12:42:48,016 - modnet - INFO - Preset #24 fitting finished, loss: 0.3657534658908844\n"
     ]
    },
    {
     "name": "stderr",
     "output_type": "stream",
     "text": [
      " 34%|███▍      | 122/360 [29:26<36:40,  9.25s/it]"
     ]
    },
    {
     "name": "stdout",
     "output_type": "stream",
     "text": [
      "2021-05-06 12:43:02,142 - modnet - INFO - Preset #19 fitting finished, loss: 0.35233570337295533\n"
     ]
    },
    {
     "name": "stderr",
     "output_type": "stream",
     "text": [
      " 34%|███▍      | 123/360 [29:41<42:58, 10.88s/it]"
     ]
    },
    {
     "name": "stdout",
     "output_type": "stream",
     "text": [
      "2021-05-06 12:44:00,087 - modnet - INFO - Preset #19 fitting finished, loss: 0.31680384278297424\n"
     ]
    },
    {
     "name": "stderr",
     "output_type": "stream",
     "text": [
      " 34%|███▍      | 124/360 [30:39<1:37:53, 24.89s/it]"
     ]
    },
    {
     "name": "stdout",
     "output_type": "stream",
     "text": [
      "2021-05-06 12:45:04,291 - modnet - INFO - Preset #28 fitting finished, loss: 0.31182758808135985\n"
     ]
    },
    {
     "name": "stderr",
     "output_type": "stream",
     "text": [
      " 35%|███▍      | 125/360 [31:43<2:23:45, 36.70s/it]"
     ]
    },
    {
     "name": "stdout",
     "output_type": "stream",
     "text": [
      "2021-05-06 12:45:06,407 - modnet - INFO - Preset #25 fitting finished, loss: 0.3642952263355255\n"
     ]
    },
    {
     "name": "stderr",
     "output_type": "stream",
     "text": [
      " 35%|███▌      | 126/360 [31:45<1:42:54, 26.39s/it]"
     ]
    },
    {
     "name": "stdout",
     "output_type": "stream",
     "text": [
      "2021-05-06 12:45:08,602 - modnet - INFO - Preset #21 fitting finished, loss: 0.34060235023498536\n"
     ]
    },
    {
     "name": "stderr",
     "output_type": "stream",
     "text": [
      " 35%|███▌      | 127/360 [31:47<1:14:13, 19.11s/it]"
     ]
    },
    {
     "name": "stdout",
     "output_type": "stream",
     "text": [
      "2021-05-06 12:45:25,374 - modnet - INFO - Preset #26 fitting finished, loss: 0.3592081546783447\n"
     ]
    },
    {
     "name": "stderr",
     "output_type": "stream",
     "text": [
      " 36%|███▌      | 128/360 [32:04<1:11:01, 18.37s/it]"
     ]
    },
    {
     "name": "stdout",
     "output_type": "stream",
     "text": [
      "2021-05-06 12:45:46,457 - modnet - INFO - Preset #27 fitting finished, loss: 0.32256757020950316\n"
     ]
    },
    {
     "name": "stderr",
     "output_type": "stream",
     "text": [
      " 36%|███▌      | 129/360 [32:25<1:13:47, 19.17s/it]"
     ]
    },
    {
     "name": "stdout",
     "output_type": "stream",
     "text": [
      "2021-05-06 12:46:02,229 - modnet - INFO - Preset #28 fitting finished, loss: 0.33807170391082764\n"
     ]
    },
    {
     "name": "stderr",
     "output_type": "stream",
     "text": [
      " 36%|███▌      | 130/360 [32:41<1:09:21, 18.09s/it]"
     ]
    },
    {
     "name": "stdout",
     "output_type": "stream",
     "text": [
      "2021-05-06 12:46:26,154 - modnet - INFO - Preset #29 fitting finished, loss: 0.3649944424629211\n"
     ]
    },
    {
     "name": "stderr",
     "output_type": "stream",
     "text": [
      " 36%|███▋      | 131/360 [33:05<1:16:00, 19.92s/it]"
     ]
    },
    {
     "name": "stdout",
     "output_type": "stream",
     "text": [
      "2021-05-06 12:46:38,558 - modnet - INFO - Preset #25 fitting finished, loss: 0.3277813732624054\n"
     ]
    },
    {
     "name": "stderr",
     "output_type": "stream",
     "text": [
      " 37%|███▋      | 132/360 [33:17<1:07:01, 17.64s/it]"
     ]
    },
    {
     "name": "stdout",
     "output_type": "stream",
     "text": [
      "2021-05-06 12:46:41,104 - modnet - INFO - Preset #25 fitting finished, loss: 0.35102695822715757\n"
     ]
    },
    {
     "name": "stderr",
     "output_type": "stream",
     "text": [
      " 37%|███▋      | 133/360 [33:20<49:32, 13.09s/it]  "
     ]
    },
    {
     "name": "stdout",
     "output_type": "stream",
     "text": [
      "2021-05-06 12:46:41,794 - modnet - INFO - Preset #27 fitting finished, loss: 0.3432009041309357\n"
     ]
    },
    {
     "name": "stderr",
     "output_type": "stream",
     "text": [
      " 37%|███▋      | 134/360 [33:21<35:28,  9.42s/it]"
     ]
    },
    {
     "name": "stdout",
     "output_type": "stream",
     "text": [
      "2021-05-06 12:46:43,737 - modnet - INFO - Preset #27 fitting finished, loss: 0.35853576064109804\n"
     ]
    },
    {
     "name": "stderr",
     "output_type": "stream",
     "text": [
      " 38%|███▊      | 135/360 [33:23<27:04,  7.22s/it]"
     ]
    },
    {
     "name": "stdout",
     "output_type": "stream",
     "text": [
      "2021-05-06 12:46:48,540 - modnet - INFO - Preset #26 fitting finished, loss: 0.3188645541667938\n"
     ]
    },
    {
     "name": "stderr",
     "output_type": "stream",
     "text": [
      " 38%|███▊      | 136/360 [33:27<24:03,  6.44s/it]"
     ]
    },
    {
     "name": "stdout",
     "output_type": "stream",
     "text": [
      "2021-05-06 12:47:01,485 - modnet - INFO - Preset #27 fitting finished, loss: 0.2888475477695465\n"
     ]
    },
    {
     "name": "stderr",
     "output_type": "stream",
     "text": [
      " 38%|███▊      | 137/360 [33:40<31:13,  8.40s/it]"
     ]
    },
    {
     "name": "stdout",
     "output_type": "stream",
     "text": [
      "2021-05-06 12:47:34,592 - modnet - INFO - Preset #27 fitting finished, loss: 0.33118141889572145\n"
     ]
    },
    {
     "name": "stderr",
     "output_type": "stream",
     "text": [
      " 38%|███▊      | 138/360 [34:14<58:55, 15.92s/it]"
     ]
    },
    {
     "name": "stdout",
     "output_type": "stream",
     "text": [
      "2021-05-06 12:47:55,773 - modnet - INFO - Preset #29 fitting finished, loss: 0.32629809975624086\n"
     ]
    },
    {
     "name": "stderr",
     "output_type": "stream",
     "text": [
      " 39%|███▊      | 139/360 [34:35<1:04:21, 17.47s/it]"
     ]
    },
    {
     "name": "stdout",
     "output_type": "stream",
     "text": [
      "2021-05-06 12:48:03,303 - modnet - INFO - Preset #28 fitting finished, loss: 0.3513163685798645\n"
     ]
    },
    {
     "name": "stderr",
     "output_type": "stream",
     "text": [
      " 39%|███▉      | 140/360 [34:42<53:07, 14.49s/it]  "
     ]
    },
    {
     "name": "stdout",
     "output_type": "stream",
     "text": [
      "2021-05-06 12:48:19,452 - modnet - INFO - Preset #26 fitting finished, loss: 0.3374324858188629\n"
     ]
    },
    {
     "name": "stderr",
     "output_type": "stream",
     "text": [
      " 39%|███▉      | 141/360 [34:58<54:35, 14.95s/it]"
     ]
    },
    {
     "name": "stdout",
     "output_type": "stream",
     "text": [
      "2021-05-06 12:48:25,041 - modnet - INFO - Preset #26 fitting finished, loss: 0.292614209651947\n"
     ]
    },
    {
     "name": "stderr",
     "output_type": "stream",
     "text": [
      " 39%|███▉      | 142/360 [35:04<43:49, 12.06s/it]"
     ]
    },
    {
     "name": "stdout",
     "output_type": "stream",
     "text": [
      "2021-05-06 12:48:47,919 - modnet - INFO - Preset #25 fitting finished, loss: 0.3180323839187622\n"
     ]
    },
    {
     "name": "stderr",
     "output_type": "stream",
     "text": [
      " 40%|███▉      | 143/360 [35:27<55:30, 15.35s/it]"
     ]
    },
    {
     "name": "stdout",
     "output_type": "stream",
     "text": [
      "2021-05-06 12:49:03,818 - modnet - INFO - Preset #24 fitting finished, loss: 0.358599978685379\n"
     ]
    },
    {
     "name": "stderr",
     "output_type": "stream",
     "text": [
      " 40%|████      | 144/360 [35:42<55:33, 15.43s/it]"
     ]
    },
    {
     "name": "stdout",
     "output_type": "stream",
     "text": [
      "2021-05-06 12:49:23,638 - modnet - INFO - Preset #29 fitting finished, loss: 0.30241742730140686\n"
     ]
    },
    {
     "name": "stderr",
     "output_type": "stream",
     "text": [
      " 40%|████      | 145/360 [36:02<1:00:07, 16.78s/it]"
     ]
    },
    {
     "name": "stdout",
     "output_type": "stream",
     "text": [
      "2021-05-06 12:49:33,970 - modnet - INFO - Preset #24 fitting finished, loss: 0.323154890537262\n"
     ]
    },
    {
     "name": "stderr",
     "output_type": "stream",
     "text": [
      " 41%|████      | 146/360 [36:13<53:01, 14.87s/it]  "
     ]
    },
    {
     "name": "stdout",
     "output_type": "stream",
     "text": [
      "2021-05-06 12:49:46,193 - modnet - INFO - Preset #24 fitting finished, loss: 0.3517627060413361\n"
     ]
    },
    {
     "name": "stderr",
     "output_type": "stream",
     "text": [
      " 41%|████      | 147/360 [36:25<49:45, 14.02s/it]"
     ]
    },
    {
     "name": "stdout",
     "output_type": "stream",
     "text": [
      "2021-05-06 12:49:48,035 - modnet - INFO - Preset #26 fitting finished, loss: 0.3431926190853119\n"
     ]
    },
    {
     "name": "stderr",
     "output_type": "stream",
     "text": [
      " 41%|████      | 148/360 [36:27<37:03, 10.49s/it]"
     ]
    },
    {
     "name": "stdout",
     "output_type": "stream",
     "text": [
      "2021-05-06 12:50:23,130 - modnet - INFO - Preset #25 fitting finished, loss: 0.3514285981655121\n"
     ]
    },
    {
     "name": "stderr",
     "output_type": "stream",
     "text": [
      " 41%|████▏     | 149/360 [37:02<1:02:53, 17.88s/it]"
     ]
    },
    {
     "name": "stdout",
     "output_type": "stream",
     "text": [
      "2021-05-06 12:50:47,204 - modnet - INFO - Preset #40 fitting finished, loss: 0.4255168676376343\n"
     ]
    },
    {
     "name": "stderr",
     "output_type": "stream",
     "text": [
      " 42%|████▏     | 150/360 [37:26<1:09:00, 19.72s/it]"
     ]
    },
    {
     "name": "stdout",
     "output_type": "stream",
     "text": [
      "2021-05-06 12:51:07,908 - modnet - INFO - Preset #29 fitting finished, loss: 0.32779321670532224\n"
     ]
    },
    {
     "name": "stderr",
     "output_type": "stream",
     "text": [
      " 42%|████▏     | 151/360 [37:47<1:09:40, 20.00s/it]"
     ]
    },
    {
     "name": "stdout",
     "output_type": "stream",
     "text": [
      "2021-05-06 12:51:08,896 - modnet - INFO - Preset #35 fitting finished, loss: 0.3069752275943756\n"
     ]
    },
    {
     "name": "stderr",
     "output_type": "stream",
     "text": [
      " 42%|████▏     | 152/360 [37:48<49:28, 14.27s/it]  "
     ]
    },
    {
     "name": "stdout",
     "output_type": "stream",
     "text": [
      "2021-05-06 12:51:10,718 - modnet - INFO - Preset #38 fitting finished, loss: 0.3694286584854126\n"
     ]
    },
    {
     "name": "stderr",
     "output_type": "stream",
     "text": [
      " 42%|████▎     | 153/360 [37:50<36:45, 10.66s/it]"
     ]
    },
    {
     "name": "stdout",
     "output_type": "stream",
     "text": [
      "2021-05-06 12:51:22,736 - modnet - INFO - Preset #40 fitting finished, loss: 0.3940922379493713\n"
     ]
    },
    {
     "name": "stderr",
     "output_type": "stream",
     "text": [
      " 43%|████▎     | 154/360 [38:02<37:49, 11.02s/it]"
     ]
    },
    {
     "name": "stdout",
     "output_type": "stream",
     "text": [
      "2021-05-06 12:51:25,709 - modnet - INFO - Preset #32 fitting finished, loss: 0.36881799101829527\n"
     ]
    },
    {
     "name": "stderr",
     "output_type": "stream",
     "text": [
      " 43%|████▎     | 155/360 [38:04<29:11,  8.55s/it]"
     ]
    },
    {
     "name": "stdout",
     "output_type": "stream",
     "text": [
      "2021-05-06 12:51:47,583 - modnet - INFO - Preset #34 fitting finished, loss: 0.34410048127174375\n"
     ]
    },
    {
     "name": "stderr",
     "output_type": "stream",
     "text": [
      " 43%|████▎     | 156/360 [38:26<42:34, 12.52s/it]"
     ]
    },
    {
     "name": "stdout",
     "output_type": "stream",
     "text": [
      "2021-05-06 12:52:14,739 - modnet - INFO - Preset #30 fitting finished, loss: 0.37108702063560484\n"
     ]
    },
    {
     "name": "stderr",
     "output_type": "stream",
     "text": [
      " 44%|████▎     | 157/360 [38:53<57:06, 16.88s/it]"
     ]
    },
    {
     "name": "stdout",
     "output_type": "stream",
     "text": [
      "2021-05-06 12:52:21,807 - modnet - INFO - Preset #33 fitting finished, loss: 0.33369171619415283\n"
     ]
    },
    {
     "name": "stderr",
     "output_type": "stream",
     "text": [
      " 44%|████▍     | 158/360 [39:01<47:04, 13.98s/it]"
     ]
    },
    {
     "name": "stdout",
     "output_type": "stream",
     "text": [
      "2021-05-06 12:52:22,701 - modnet - INFO - Preset #35 fitting finished, loss: 0.31937583684921267\n"
     ]
    },
    {
     "name": "stderr",
     "output_type": "stream",
     "text": [
      " 44%|████▍     | 159/360 [39:01<33:43, 10.07s/it]"
     ]
    },
    {
     "name": "stdout",
     "output_type": "stream",
     "text": [
      "2021-05-06 12:52:32,404 - modnet - INFO - Preset #41 fitting finished, loss: 0.4253543496131897\n"
     ]
    },
    {
     "name": "stderr",
     "output_type": "stream",
     "text": [
      " 44%|████▍     | 160/360 [39:11<33:09,  9.95s/it]"
     ]
    },
    {
     "name": "stdout",
     "output_type": "stream",
     "text": [
      "2021-05-06 12:52:41,258 - modnet - INFO - Preset #32 fitting finished, loss: 0.34488184452056886\n"
     ]
    },
    {
     "name": "stderr",
     "output_type": "stream",
     "text": [
      " 45%|████▍     | 161/360 [39:20<31:41,  9.55s/it]"
     ]
    },
    {
     "name": "stdout",
     "output_type": "stream",
     "text": [
      "2021-05-06 12:52:44,018 - modnet - INFO - Preset #39 fitting finished, loss: 0.40247796177864076\n"
     ]
    },
    {
     "name": "stderr",
     "output_type": "stream",
     "text": [
      " 45%|████▌     | 162/360 [39:23<24:54,  7.55s/it]"
     ]
    },
    {
     "name": "stdout",
     "output_type": "stream",
     "text": [
      "2021-05-06 12:52:54,422 - modnet - INFO - Preset #34 fitting finished, loss: 0.34758124947547914\n"
     ]
    },
    {
     "name": "stderr",
     "output_type": "stream",
     "text": [
      " 45%|████▌     | 163/360 [39:33<27:41,  8.44s/it]"
     ]
    },
    {
     "name": "stdout",
     "output_type": "stream",
     "text": [
      "2021-05-06 12:52:57,964 - modnet - INFO - Preset #40 fitting finished, loss: 0.42705395817756653\n"
     ]
    },
    {
     "name": "stderr",
     "output_type": "stream",
     "text": [
      " 46%|████▌     | 164/360 [39:37<22:46,  6.97s/it]"
     ]
    },
    {
     "name": "stdout",
     "output_type": "stream",
     "text": [
      "2021-05-06 12:53:01,082 - modnet - INFO - Preset #31 fitting finished, loss: 0.3808530032634735\n"
     ]
    },
    {
     "name": "stderr",
     "output_type": "stream",
     "text": [
      " 46%|████▌     | 165/360 [39:40<18:56,  5.83s/it]"
     ]
    },
    {
     "name": "stdout",
     "output_type": "stream",
     "text": [
      "2021-05-06 12:53:13,725 - modnet - INFO - Preset #30 fitting finished, loss: 0.32575491070747375\n"
     ]
    },
    {
     "name": "stderr",
     "output_type": "stream",
     "text": [
      " 46%|████▌     | 166/360 [39:52<25:18,  7.83s/it]"
     ]
    },
    {
     "name": "stdout",
     "output_type": "stream",
     "text": [
      "2021-05-06 12:53:23,362 - modnet - INFO - Preset #32 fitting finished, loss: 0.32051126956939696\n"
     ]
    },
    {
     "name": "stderr",
     "output_type": "stream",
     "text": [
      " 46%|████▋     | 167/360 [40:02<26:59,  8.39s/it]"
     ]
    },
    {
     "name": "stdout",
     "output_type": "stream",
     "text": [
      "2021-05-06 12:53:48,024 - modnet - INFO - Preset #41 fitting finished, loss: 0.3941986083984375\n"
     ]
    },
    {
     "name": "stderr",
     "output_type": "stream",
     "text": [
      " 47%|████▋     | 168/360 [40:27<42:40, 13.33s/it]"
     ]
    },
    {
     "name": "stdout",
     "output_type": "stream",
     "text": [
      "2021-05-06 12:54:01,580 - modnet - INFO - Preset #32 fitting finished, loss: 0.28727619647979735\n"
     ]
    },
    {
     "name": "stderr",
     "output_type": "stream",
     "text": [
      " 47%|████▋     | 169/360 [40:40<42:30, 13.36s/it]"
     ]
    },
    {
     "name": "stdout",
     "output_type": "stream",
     "text": [
      "2021-05-06 12:54:06,257 - modnet - INFO - Preset #34 fitting finished, loss: 0.324462890625\n"
     ]
    },
    {
     "name": "stderr",
     "output_type": "stream",
     "text": [
      " 47%|████▋     | 170/360 [40:45<33:44, 10.66s/it]"
     ]
    },
    {
     "name": "stdout",
     "output_type": "stream",
     "text": [
      "2021-05-06 12:54:09,249 - modnet - INFO - Preset #40 fitting finished, loss: 0.475047367811203\n"
     ]
    },
    {
     "name": "stderr",
     "output_type": "stream",
     "text": [
      " 48%|████▊     | 171/360 [40:48<26:32,  8.43s/it]"
     ]
    },
    {
     "name": "stdout",
     "output_type": "stream",
     "text": [
      "2021-05-06 12:54:10,046 - modnet - INFO - Preset #34 fitting finished, loss: 0.34715897440910337\n"
     ]
    },
    {
     "name": "stderr",
     "output_type": "stream",
     "text": [
      " 48%|████▊     | 172/360 [40:49<19:23,  6.19s/it]"
     ]
    },
    {
     "name": "stdout",
     "output_type": "stream",
     "text": [
      "2021-05-06 12:54:19,551 - modnet - INFO - Preset #33 fitting finished, loss: 0.3591375172138214\n"
     ]
    },
    {
     "name": "stderr",
     "output_type": "stream",
     "text": [
      " 48%|████▊     | 173/360 [40:58<22:18,  7.16s/it]"
     ]
    },
    {
     "name": "stdout",
     "output_type": "stream",
     "text": [
      "2021-05-06 12:54:25,522 - modnet - INFO - Preset #40 fitting finished, loss: 0.3536509037017822\n"
     ]
    },
    {
     "name": "stderr",
     "output_type": "stream",
     "text": [
      " 48%|████▊     | 174/360 [41:04<21:07,  6.82s/it]"
     ]
    },
    {
     "name": "stdout",
     "output_type": "stream",
     "text": [
      "2021-05-06 12:54:34,334 - modnet - INFO - Preset #35 fitting finished, loss: 0.33026703000068663\n"
     ]
    },
    {
     "name": "stderr",
     "output_type": "stream",
     "text": [
      " 49%|████▊     | 175/360 [41:13<22:49,  7.40s/it]"
     ]
    },
    {
     "name": "stdout",
     "output_type": "stream",
     "text": [
      "2021-05-06 12:54:45,634 - modnet - INFO - Preset #33 fitting finished, loss: 0.3002336323261261\n"
     ]
    },
    {
     "name": "stderr",
     "output_type": "stream",
     "text": [
      " 49%|████▉     | 176/360 [41:24<26:10,  8.53s/it]"
     ]
    },
    {
     "name": "stdout",
     "output_type": "stream",
     "text": [
      "2021-05-06 12:54:56,796 - modnet - INFO - Preset #35 fitting finished, loss: 0.3644088387489319\n"
     ]
    },
    {
     "name": "stderr",
     "output_type": "stream",
     "text": [
      " 49%|████▉     | 177/360 [41:36<28:32,  9.36s/it]"
     ]
    },
    {
     "name": "stdout",
     "output_type": "stream",
     "text": [
      "2021-05-06 12:54:57,714 - modnet - INFO - Preset #34 fitting finished, loss: 0.28469024896621703\n"
     ]
    },
    {
     "name": "stderr",
     "output_type": "stream",
     "text": [
      " 49%|████▉     | 178/360 [41:36<20:39,  6.81s/it]"
     ]
    },
    {
     "name": "stdout",
     "output_type": "stream",
     "text": [
      "2021-05-06 12:55:08,056 - modnet - INFO - Preset #38 fitting finished, loss: 0.3783800780773163\n"
     ]
    },
    {
     "name": "stderr",
     "output_type": "stream",
     "text": [
      " 50%|████▉     | 179/360 [41:47<24:01,  7.96s/it]"
     ]
    },
    {
     "name": "stdout",
     "output_type": "stream",
     "text": [
      "2021-05-06 12:55:26,739 - modnet - INFO - Preset #41 fitting finished, loss: 0.4753110229969025\n"
     ]
    },
    {
     "name": "stderr",
     "output_type": "stream",
     "text": [
      " 50%|█████     | 180/360 [42:05<33:11, 11.06s/it]"
     ]
    },
    {
     "name": "stdout",
     "output_type": "stream",
     "text": [
      "2021-05-06 12:55:30,790 - modnet - INFO - Preset #35 fitting finished, loss: 0.33469496965408324\n"
     ]
    },
    {
     "name": "stderr",
     "output_type": "stream",
     "text": [
      " 50%|█████     | 181/360 [42:15<31:29, 10.56s/it]"
     ]
    },
    {
     "name": "stdout",
     "output_type": "stream",
     "text": [
      "2021-05-06 12:55:52,667 - modnet - INFO - Preset #31 fitting finished, loss: 0.32249242067337036\n"
     ]
    },
    {
     "name": "stderr",
     "output_type": "stream",
     "text": [
      " 51%|█████     | 182/360 [42:31<36:39, 12.36s/it]"
     ]
    },
    {
     "name": "stdout",
     "output_type": "stream",
     "text": [
      "2021-05-06 12:56:48,383 - modnet - INFO - Preset #32 fitting finished, loss: 0.33345054388046264\n"
     ]
    },
    {
     "name": "stderr",
     "output_type": "stream",
     "text": [
      " 51%|█████     | 183/360 [43:27<1:14:48, 25.36s/it]"
     ]
    },
    {
     "name": "stdout",
     "output_type": "stream",
     "text": [
      "2021-05-06 12:57:05,624 - modnet - INFO - Preset #33 fitting finished, loss: 0.345221620798111\n"
     ]
    },
    {
     "name": "stderr",
     "output_type": "stream",
     "text": [
      " 51%|█████     | 184/360 [43:45<1:07:35, 23.04s/it]"
     ]
    },
    {
     "name": "stdout",
     "output_type": "stream",
     "text": [
      "2021-05-06 12:57:06,746 - modnet - INFO - Preset #39 fitting finished, loss: 0.38260912895202637\n"
     ]
    },
    {
     "name": "stderr",
     "output_type": "stream",
     "text": [
      " 51%|█████▏    | 185/360 [43:46<48:02, 16.47s/it]  "
     ]
    },
    {
     "name": "stdout",
     "output_type": "stream",
     "text": [
      "2021-05-06 12:57:21,131 - modnet - INFO - Preset #33 fitting finished, loss: 0.3105536997318268\n"
     ]
    },
    {
     "name": "stderr",
     "output_type": "stream",
     "text": [
      " 52%|█████▏    | 186/360 [44:00<45:31, 15.70s/it]"
     ]
    },
    {
     "name": "stdout",
     "output_type": "stream",
     "text": [
      "2021-05-06 12:57:21,785 - modnet - INFO - Preset #37 fitting finished, loss: 0.32725021839141843\n"
     ]
    },
    {
     "name": "stderr",
     "output_type": "stream",
     "text": [
      " 52%|█████▏    | 187/360 [44:01<32:37, 11.32s/it]"
     ]
    },
    {
     "name": "stdout",
     "output_type": "stream",
     "text": [
      "2021-05-06 12:57:35,392 - modnet - INFO - Preset #38 fitting finished, loss: 0.2981277942657471\n"
     ]
    },
    {
     "name": "stderr",
     "output_type": "stream",
     "text": [
      " 52%|█████▏    | 188/360 [44:14<34:23, 12.00s/it]"
     ]
    },
    {
     "name": "stdout",
     "output_type": "stream",
     "text": [
      "2021-05-06 12:57:36,476 - modnet - INFO - Preset #36 fitting finished, loss: 0.32546626329421996\n"
     ]
    },
    {
     "name": "stderr",
     "output_type": "stream",
     "text": [
      " 52%|█████▎    | 189/360 [44:15<24:46,  8.69s/it]"
     ]
    },
    {
     "name": "stdout",
     "output_type": "stream",
     "text": [
      "2021-05-06 12:57:37,445 - modnet - INFO - Preset #30 fitting finished, loss: 0.3580127239227295\n"
     ]
    },
    {
     "name": "stderr",
     "output_type": "stream",
     "text": [
      " 53%|█████▎    | 190/360 [44:16<18:10,  6.41s/it]"
     ]
    },
    {
     "name": "stdout",
     "output_type": "stream",
     "text": [
      "2021-05-06 12:57:40,021 - modnet - INFO - Preset #46 fitting finished, loss: 0.42770089507102965\n"
     ]
    },
    {
     "name": "stderr",
     "output_type": "stream",
     "text": [
      " 53%|█████▎    | 191/360 [44:19<14:40,  5.21s/it]"
     ]
    },
    {
     "name": "stdout",
     "output_type": "stream",
     "text": [
      "2021-05-06 12:57:52,761 - modnet - INFO - Preset #44 fitting finished, loss: 0.37155777812004087\n"
     ]
    },
    {
     "name": "stderr",
     "output_type": "stream",
     "text": [
      " 53%|█████▎    | 192/360 [44:32<21:01,  7.51s/it]"
     ]
    },
    {
     "name": "stdout",
     "output_type": "stream",
     "text": [
      "2021-05-06 12:58:00,477 - modnet - INFO - Preset #30 fitting finished, loss: 0.34862324595451355\n"
     ]
    },
    {
     "name": "stderr",
     "output_type": "stream",
     "text": [
      " 54%|█████▎    | 193/360 [44:39<20:43,  7.45s/it]"
     ]
    },
    {
     "name": "stdout",
     "output_type": "stream",
     "text": [
      "2021-05-06 12:58:09,322 - modnet - INFO - Preset #37 fitting finished, loss: 0.35014442205429075\n"
     ]
    },
    {
     "name": "stderr",
     "output_type": "stream",
     "text": [
      " 54%|█████▍    | 194/360 [44:48<21:41,  7.84s/it]"
     ]
    },
    {
     "name": "stdout",
     "output_type": "stream",
     "text": [
      "2021-05-06 12:58:21,364 - modnet - INFO - Preset #46 fitting finished, loss: 0.3940571665763855\n"
     ]
    },
    {
     "name": "stderr",
     "output_type": "stream",
     "text": [
      " 54%|█████▍    | 195/360 [45:00<25:30,  9.28s/it]"
     ]
    },
    {
     "name": "stdout",
     "output_type": "stream",
     "text": [
      "2021-05-06 12:58:33,565 - modnet - INFO - Preset #47 fitting finished, loss: 0.39660828113555907\n"
     ]
    },
    {
     "name": "stderr",
     "output_type": "stream",
     "text": [
      " 54%|█████▍    | 196/360 [45:12<27:37, 10.10s/it]"
     ]
    },
    {
     "name": "stdout",
     "output_type": "stream",
     "text": [
      "2021-05-06 12:58:54,342 - modnet - INFO - Preset #38 fitting finished, loss: 0.37560763359069826\n"
     ]
    },
    {
     "name": "stderr",
     "output_type": "stream",
     "text": [
      " 55%|█████▍    | 197/360 [45:33<36:14, 13.34s/it]"
     ]
    },
    {
     "name": "stdout",
     "output_type": "stream",
     "text": [
      "2021-05-06 12:59:17,089 - modnet - INFO - Preset #47 fitting finished, loss: 0.41327160596847534\n"
     ]
    },
    {
     "name": "stderr",
     "output_type": "stream",
     "text": [
      " 55%|█████▌    | 198/360 [45:56<43:22, 16.07s/it]"
     ]
    },
    {
     "name": "stdout",
     "output_type": "stream",
     "text": [
      "2021-05-06 12:59:29,469 - modnet - INFO - Preset #31 fitting finished, loss: 0.36296898126602173\n"
     ]
    },
    {
     "name": "stderr",
     "output_type": "stream",
     "text": [
      " 55%|█████▌    | 199/360 [46:08<40:03, 14.93s/it]"
     ]
    },
    {
     "name": "stdout",
     "output_type": "stream",
     "text": [
      "2021-05-06 12:59:33,450 - modnet - INFO - Preset #36 fitting finished, loss: 0.343213814496994\n"
     ]
    },
    {
     "name": "stderr",
     "output_type": "stream",
     "text": [
      " 56%|█████▌    | 200/360 [46:12<31:13, 11.71s/it]"
     ]
    },
    {
     "name": "stdout",
     "output_type": "stream",
     "text": [
      "2021-05-06 12:59:37,215 - modnet - INFO - Preset #45 fitting finished, loss: 0.39210228323936464\n"
     ]
    },
    {
     "name": "stderr",
     "output_type": "stream",
     "text": [
      " 56%|█████▌    | 201/360 [46:16<24:43,  9.33s/it]"
     ]
    },
    {
     "name": "stdout",
     "output_type": "stream",
     "text": [
      "2021-05-06 12:59:47,403 - modnet - INFO - Preset #30 fitting finished, loss: 0.376522034406662\n"
     ]
    },
    {
     "name": "stderr",
     "output_type": "stream",
     "text": [
      " 56%|█████▌    | 202/360 [46:26<25:21,  9.63s/it]"
     ]
    },
    {
     "name": "stdout",
     "output_type": "stream",
     "text": [
      "2021-05-06 12:59:52,484 - modnet - INFO - Preset #41 fitting finished, loss: 0.8732616662979126\n"
     ]
    },
    {
     "name": "stderr",
     "output_type": "stream",
     "text": [
      " 56%|█████▋    | 203/360 [46:31<21:29,  8.21s/it]"
     ]
    },
    {
     "name": "stdout",
     "output_type": "stream",
     "text": [
      "2021-05-06 12:59:53,988 - modnet - INFO - Preset #41 fitting finished, loss: 0.30521492958068847\n"
     ]
    },
    {
     "name": "stderr",
     "output_type": "stream",
     "text": [
      " 57%|█████▋    | 204/360 [46:33<16:09,  6.22s/it]"
     ]
    },
    {
     "name": "stdout",
     "output_type": "stream",
     "text": [
      "2021-05-06 12:59:56,060 - modnet - INFO - Preset #37 fitting finished, loss: 0.3258152663707733\n"
     ]
    },
    {
     "name": "stderr",
     "output_type": "stream",
     "text": [
      " 57%|█████▋    | 205/360 [46:35<12:46,  4.95s/it]"
     ]
    },
    {
     "name": "stdout",
     "output_type": "stream",
     "text": [
      "2021-05-06 12:59:57,292 - modnet - INFO - Preset #31 fitting finished, loss: 0.34858458042144774\n"
     ]
    },
    {
     "name": "stderr",
     "output_type": "stream",
     "text": [
      " 57%|█████▋    | 206/360 [46:36<09:58,  3.89s/it]"
     ]
    },
    {
     "name": "stdout",
     "output_type": "stream",
     "text": [
      "2021-05-06 13:00:13,918 - modnet - INFO - Preset #39 fitting finished, loss: 0.3036526322364807\n"
     ]
    },
    {
     "name": "stderr",
     "output_type": "stream",
     "text": [
      " 57%|█████▊    | 207/360 [46:53<19:37,  7.70s/it]"
     ]
    },
    {
     "name": "stdout",
     "output_type": "stream",
     "text": [
      "2021-05-06 13:00:14,878 - modnet - INFO - Preset #31 fitting finished, loss: 0.37972458600997927\n"
     ]
    },
    {
     "name": "stderr",
     "output_type": "stream",
     "text": [
      " 58%|█████▊    | 208/360 [46:54<14:27,  5.71s/it]"
     ]
    },
    {
     "name": "stdout",
     "output_type": "stream",
     "text": [
      "2021-05-06 13:00:25,685 - modnet - INFO - Preset #47 fitting finished, loss: 0.42322773933410646\n"
     ]
    },
    {
     "name": "stderr",
     "output_type": "stream",
     "text": [
      " 58%|█████▊    | 209/360 [47:04<17:59,  7.15s/it]"
     ]
    },
    {
     "name": "stdout",
     "output_type": "stream",
     "text": [
      "2021-05-06 13:00:55,038 - modnet - INFO - Preset #46 fitting finished, loss: 0.4443311095237732\n"
     ]
    },
    {
     "name": "stderr",
     "output_type": "stream",
     "text": [
      " 58%|█████▊    | 210/360 [47:34<34:26, 13.78s/it]"
     ]
    },
    {
     "name": "stdout",
     "output_type": "stream",
     "text": [
      "2021-05-06 13:01:10,970 - modnet - INFO - Preset #39 fitting finished, loss: 0.3263640642166138\n"
     ]
    },
    {
     "name": "stderr",
     "output_type": "stream",
     "text": [
      " 59%|█████▊    | 211/360 [47:50<36:04, 14.53s/it]"
     ]
    },
    {
     "name": "stdout",
     "output_type": "stream",
     "text": [
      "2021-05-06 13:01:30,976 - modnet - INFO - Preset #37 fitting finished, loss: 0.29189870953559877\n"
     ]
    },
    {
     "name": "stderr",
     "output_type": "stream",
     "text": [
      " 59%|█████▉    | 212/360 [48:10<39:48, 16.14s/it]"
     ]
    },
    {
     "name": "stdout",
     "output_type": "stream",
     "text": [
      "2021-05-06 13:01:36,981 - modnet - INFO - Preset #42 fitting finished, loss: 0.2844408690929413\n"
     ]
    },
    {
     "name": "stderr",
     "output_type": "stream",
     "text": [
      " 59%|█████▉    | 213/360 [48:16<32:13, 13.15s/it]"
     ]
    },
    {
     "name": "stdout",
     "output_type": "stream",
     "text": [
      "2021-05-06 13:01:41,001 - modnet - INFO - Preset #36 fitting finished, loss: 0.3185823142528534\n"
     ]
    },
    {
     "name": "stderr",
     "output_type": "stream",
     "text": [
      " 59%|█████▉    | 214/360 [48:20<25:02, 10.29s/it]"
     ]
    },
    {
     "name": "stdout",
     "output_type": "stream",
     "text": [
      "2021-05-06 13:01:47,463 - modnet - INFO - Preset #47 fitting finished, loss: 0.3730173707008362\n"
     ]
    },
    {
     "name": "stderr",
     "output_type": "stream",
     "text": [
      " 60%|█████▉    | 215/360 [48:26<22:24,  9.27s/it]"
     ]
    },
    {
     "name": "stdout",
     "output_type": "stream",
     "text": [
      "2021-05-06 13:02:09,703 - modnet - INFO - Preset #42 fitting finished, loss: 0.34772553443908694\n"
     ]
    },
    {
     "name": "stderr",
     "output_type": "stream",
     "text": [
      " 60%|██████    | 216/360 [48:49<31:29, 13.12s/it]"
     ]
    },
    {
     "name": "stdout",
     "output_type": "stream",
     "text": [
      "2021-05-06 13:02:16,628 - modnet - INFO - Preset #43 fitting finished, loss: 0.31350690722465513\n"
     ]
    },
    {
     "name": "stderr",
     "output_type": "stream",
     "text": [
      " 60%|██████    | 217/360 [48:55<26:39, 11.18s/it]"
     ]
    },
    {
     "name": "stdout",
     "output_type": "stream",
     "text": [
      "2021-05-06 13:02:24,526 - modnet - INFO - Preset #46 fitting finished, loss: 0.3548071801662445\n"
     ]
    },
    {
     "name": "stderr",
     "output_type": "stream",
     "text": [
      " 61%|██████    | 218/360 [49:03<24:13, 10.24s/it]"
     ]
    },
    {
     "name": "stdout",
     "output_type": "stream",
     "text": [
      "2021-05-06 13:02:39,446 - modnet - INFO - Preset #36 fitting finished, loss: 0.32207478284835817\n"
     ]
    },
    {
     "name": "stderr",
     "output_type": "stream",
     "text": [
      " 61%|██████    | 219/360 [49:18<27:17, 11.61s/it]"
     ]
    },
    {
     "name": "stdout",
     "output_type": "stream",
     "text": [
      "2021-05-06 13:02:54,491 - modnet - INFO - Preset #43 fitting finished, loss: 0.30375189185142515\n"
     ]
    },
    {
     "name": "stderr",
     "output_type": "stream",
     "text": [
      " 61%|██████    | 220/360 [49:33<29:32, 12.66s/it]"
     ]
    },
    {
     "name": "stdout",
     "output_type": "stream",
     "text": [
      "2021-05-06 13:03:28,359 - modnet - INFO - Preset #37 fitting finished, loss: 0.30629311203956605\n"
     ]
    },
    {
     "name": "stderr",
     "output_type": "stream",
     "text": [
      " 61%|██████▏   | 221/360 [50:07<44:12, 19.08s/it]"
     ]
    },
    {
     "name": "stdout",
     "output_type": "stream",
     "text": [
      "2021-05-06 13:03:57,658 - modnet - INFO - Preset #36 fitting finished, loss: 0.29466220140457156\n"
     ]
    },
    {
     "name": "stderr",
     "output_type": "stream",
     "text": [
      " 62%|██████▏   | 222/360 [50:36<50:48, 22.09s/it]"
     ]
    },
    {
     "name": "stdout",
     "output_type": "stream",
     "text": [
      "2021-05-06 13:03:58,563 - modnet - INFO - Preset #39 fitting finished, loss: 0.3093861281871796\n"
     ]
    },
    {
     "name": "stderr",
     "output_type": "stream",
     "text": [
      " 62%|██████▏   | 223/360 [50:38<36:06, 15.82s/it]"
     ]
    },
    {
     "name": "stdout",
     "output_type": "stream",
     "text": [
      "2021-05-06 13:04:12,224 - modnet - INFO - Preset #45 fitting finished, loss: 0.32190596461296084\n"
     ]
    },
    {
     "name": "stderr",
     "output_type": "stream",
     "text": [
      " 62%|██████▏   | 224/360 [50:51<34:21, 15.16s/it]"
     ]
    },
    {
     "name": "stdout",
     "output_type": "stream",
     "text": [
      "2021-05-06 13:04:23,237 - modnet - INFO - Preset #52 fitting finished, loss: 0.4035147726535797\n"
     ]
    },
    {
     "name": "stderr",
     "output_type": "stream",
     "text": [
      " 62%|██████▎   | 225/360 [51:02<31:14, 13.89s/it]"
     ]
    },
    {
     "name": "stdout",
     "output_type": "stream",
     "text": [
      "2021-05-06 13:04:34,175 - modnet - INFO - Preset #47 fitting finished, loss: 0.3542450964450836\n"
     ]
    },
    {
     "name": "stderr",
     "output_type": "stream",
     "text": [
      " 63%|██████▎   | 226/360 [51:13<29:03, 13.01s/it]"
     ]
    },
    {
     "name": "stdout",
     "output_type": "stream",
     "text": [
      "2021-05-06 13:05:06,871 - modnet - INFO - Preset #46 fitting finished, loss: 0.3806875765323639\n"
     ]
    },
    {
     "name": "stderr",
     "output_type": "stream",
     "text": [
      " 63%|██████▎   | 227/360 [51:46<41:52, 18.89s/it]"
     ]
    },
    {
     "name": "stdout",
     "output_type": "stream",
     "text": [
      "2021-05-06 13:05:09,193 - modnet - INFO - Preset #52 fitting finished, loss: 0.357513302564621\n"
     ]
    },
    {
     "name": "stderr",
     "output_type": "stream",
     "text": [
      " 63%|██████▎   | 228/360 [51:48<30:37, 13.92s/it]"
     ]
    },
    {
     "name": "stdout",
     "output_type": "stream",
     "text": [
      "2021-05-06 13:05:11,126 - modnet - INFO - Preset #42 fitting finished, loss: 0.32255358099937437\n"
     ]
    },
    {
     "name": "stderr",
     "output_type": "stream",
     "text": [
      " 64%|██████▎   | 229/360 [51:50<22:42, 10.40s/it]"
     ]
    },
    {
     "name": "stdout",
     "output_type": "stream",
     "text": [
      "2021-05-06 13:05:43,061 - modnet - INFO - Preset #53 fitting finished, loss: 0.3689420700073242\n"
     ]
    },
    {
     "name": "stderr",
     "output_type": "stream",
     "text": [
      " 64%|██████▍   | 230/360 [52:22<36:23, 16.80s/it]"
     ]
    },
    {
     "name": "stdout",
     "output_type": "stream",
     "text": [
      "2021-05-06 13:05:49,374 - modnet - INFO - Preset #44 fitting finished, loss: 0.35015846490859986\n"
     ]
    },
    {
     "name": "stderr",
     "output_type": "stream",
     "text": [
      " 64%|██████▍   | 231/360 [52:28<29:23, 13.67s/it]"
     ]
    },
    {
     "name": "stdout",
     "output_type": "stream",
     "text": [
      "2021-05-06 13:05:53,460 - modnet - INFO - Preset #38 fitting finished, loss: 0.3134799003601074\n"
     ]
    },
    {
     "name": "stderr",
     "output_type": "stream",
     "text": [
      " 64%|██████▍   | 232/360 [52:39<27:31, 12.91s/it]"
     ]
    },
    {
     "name": "stdout",
     "output_type": "stream",
     "text": [
      "2021-05-06 13:06:01,500 - modnet - INFO - Preset #53 fitting finished, loss: 0.41293816566467284\n"
     ]
    },
    {
     "name": "stderr",
     "output_type": "stream",
     "text": [
      " 65%|██████▍   | 233/360 [52:41<19:57,  9.43s/it]"
     ]
    },
    {
     "name": "stdout",
     "output_type": "stream",
     "text": [
      "2021-05-06 13:06:57,116 - modnet - INFO - Preset #43 fitting finished, loss: 0.34303202033042907\n"
     ]
    },
    {
     "name": "stderr",
     "output_type": "stream",
     "text": [
      " 65%|██████▌   | 234/360 [53:36<48:50, 23.26s/it]"
     ]
    },
    {
     "name": "stdout",
     "output_type": "stream",
     "text": [
      "2021-05-06 13:06:58,369 - modnet - INFO - Preset #44 fitting finished, loss: 0.3091586470603943\n"
     ]
    },
    {
     "name": "stderr",
     "output_type": "stream",
     "text": [
      " 65%|██████▌   | 235/360 [53:38<34:45, 16.69s/it]"
     ]
    },
    {
     "name": "stdout",
     "output_type": "stream",
     "text": [
      "2021-05-06 13:07:06,044 - modnet - INFO - Preset #44 fitting finished, loss: 0.31229146718978884\n"
     ]
    },
    {
     "name": "stderr",
     "output_type": "stream",
     "text": [
      " 66%|██████▌   | 236/360 [53:45<28:39, 13.87s/it]"
     ]
    },
    {
     "name": "stdout",
     "output_type": "stream",
     "text": [
      "2021-05-06 13:07:43,875 - modnet - INFO - Preset #50 fitting finished, loss: 0.28561604022979736\n"
     ]
    },
    {
     "name": "stderr",
     "output_type": "stream",
     "text": [
      " 66%|██████▌   | 237/360 [54:23<43:20, 21.14s/it]"
     ]
    },
    {
     "name": "stdout",
     "output_type": "stream",
     "text": [
      "2021-05-06 13:08:11,116 - modnet - INFO - Preset #48 fitting finished, loss: 0.31586294174194335\n"
     ]
    },
    {
     "name": "stderr",
     "output_type": "stream",
     "text": [
      " 66%|██████▌   | 238/360 [54:50<46:20, 22.79s/it]"
     ]
    },
    {
     "name": "stdout",
     "output_type": "stream",
     "text": [
      "2021-05-06 13:08:14,729 - modnet - INFO - Preset #45 fitting finished, loss: 0.3072973668575287\n"
     ]
    },
    {
     "name": "stderr",
     "output_type": "stream",
     "text": [
      " 66%|██████▋   | 239/360 [54:53<34:27, 17.09s/it]"
     ]
    },
    {
     "name": "stdout",
     "output_type": "stream",
     "text": [
      "2021-05-06 13:08:30,864 - modnet - INFO - Preset #43 fitting finished, loss: 0.3216062366962433\n"
     ]
    },
    {
     "name": "stderr",
     "output_type": "stream",
     "text": [
      " 67%|██████▋   | 240/360 [55:10<33:37, 16.81s/it]"
     ]
    },
    {
     "name": "stdout",
     "output_type": "stream",
     "text": [
      "2021-05-06 13:08:36,614 - modnet - INFO - Preset #50 fitting finished, loss: 0.3006507158279419\n"
     ]
    },
    {
     "name": "stderr",
     "output_type": "stream",
     "text": [
      " 67%|██████▋   | 241/360 [55:16<26:58, 13.60s/it]"
     ]
    },
    {
     "name": "stdout",
     "output_type": "stream",
     "text": [
      "2021-05-06 13:08:43,680 - modnet - INFO - Preset #50 fitting finished, loss: 0.33788750767707826\n"
     ]
    },
    {
     "name": "stderr",
     "output_type": "stream",
     "text": [
      " 67%|██████▋   | 242/360 [55:23<22:50, 11.61s/it]"
     ]
    },
    {
     "name": "stdout",
     "output_type": "stream",
     "text": [
      "2021-05-06 13:08:44,758 - modnet - INFO - Preset #44 fitting finished, loss: 0.29823305606842043\n"
     ]
    },
    {
     "name": "stderr",
     "output_type": "stream",
     "text": [
      " 68%|██████▊   | 243/360 [55:24<16:22,  8.39s/it]"
     ]
    },
    {
     "name": "stdout",
     "output_type": "stream",
     "text": [
      "2021-05-06 13:09:11,276 - modnet - INFO - Preset #53 fitting finished, loss: 0.3656212091445923\n"
     ]
    },
    {
     "name": "stderr",
     "output_type": "stream",
     "text": [
      " 68%|██████▊   | 244/360 [55:50<26:51, 13.89s/it]"
     ]
    },
    {
     "name": "stdout",
     "output_type": "stream",
     "text": [
      "2021-05-06 13:09:13,719 - modnet - INFO - Preset #43 fitting finished, loss: 0.31886149644851686\n"
     ]
    },
    {
     "name": "stderr",
     "output_type": "stream",
     "text": [
      " 68%|██████▊   | 245/360 [55:53<20:00, 10.44s/it]"
     ]
    },
    {
     "name": "stdout",
     "output_type": "stream",
     "text": [
      "2021-05-06 13:09:24,960 - modnet - INFO - Preset #42 fitting finished, loss: 0.32519243359565736\n"
     ]
    },
    {
     "name": "stderr",
     "output_type": "stream",
     "text": [
      " 68%|██████▊   | 246/360 [56:04<20:17, 10.68s/it]"
     ]
    },
    {
     "name": "stdout",
     "output_type": "stream",
     "text": [
      "2021-05-06 13:09:27,712 - modnet - INFO - Preset #45 fitting finished, loss: 0.2976671040058136\n"
     ]
    },
    {
     "name": "stderr",
     "output_type": "stream",
     "text": [
      " 69%|██████▊   | 247/360 [56:06<15:29,  8.23s/it]"
     ]
    },
    {
     "name": "stdout",
     "output_type": "stream",
     "text": [
      "2021-05-06 13:10:07,132 - modnet - INFO - Preset #52 fitting finished, loss: 0.3122454047203064\n"
     ]
    },
    {
     "name": "stderr",
     "output_type": "stream",
     "text": [
      " 69%|██████▉   | 248/360 [56:46<33:03, 17.71s/it]"
     ]
    },
    {
     "name": "stdout",
     "output_type": "stream",
     "text": [
      "2021-05-06 13:10:56,752 - modnet - INFO - Preset #42 fitting finished, loss: 0.3146982312202454\n"
     ]
    },
    {
     "name": "stderr",
     "output_type": "stream",
     "text": [
      " 69%|██████▉   | 249/360 [57:35<50:13, 27.15s/it]"
     ]
    },
    {
     "name": "stdout",
     "output_type": "stream",
     "text": [
      "2021-05-06 13:11:07,653 - modnet - INFO - Preset #51 fitting finished, loss: 0.2933613121509552\n"
     ]
    },
    {
     "name": "stderr",
     "output_type": "stream",
     "text": [
      " 69%|██████▉   | 250/360 [57:46<40:51, 22.28s/it]"
     ]
    },
    {
     "name": "stdout",
     "output_type": "stream",
     "text": [
      "2021-05-06 13:11:34,362 - modnet - INFO - Preset #48 fitting finished, loss: 0.3436396777629852\n"
     ]
    },
    {
     "name": "stderr",
     "output_type": "stream",
     "text": [
      " 70%|██████▉   | 251/360 [58:13<42:52, 23.60s/it]"
     ]
    },
    {
     "name": "stdout",
     "output_type": "stream",
     "text": [
      "2021-05-06 13:11:40,557 - modnet - INFO - Preset #50 fitting finished, loss: 0.3141892671585083\n"
     ]
    },
    {
     "name": "stderr",
     "output_type": "stream",
     "text": [
      " 70%|███████   | 252/360 [58:19<33:04, 18.38s/it]"
     ]
    },
    {
     "name": "stdout",
     "output_type": "stream",
     "text": [
      "2021-05-06 13:11:44,721 - modnet - INFO - Preset #49 fitting finished, loss: 0.32877410650253297\n"
     ]
    },
    {
     "name": "stderr",
     "output_type": "stream",
     "text": [
      " 70%|███████   | 253/360 [58:24<25:15, 14.16s/it]"
     ]
    },
    {
     "name": "stdout",
     "output_type": "stream",
     "text": [
      "2021-05-06 13:11:54,832 - modnet - INFO - Preset #52 fitting finished, loss: 0.5343316853046417\n"
     ]
    },
    {
     "name": "stderr",
     "output_type": "stream",
     "text": [
      " 71%|███████   | 254/360 [58:34<22:53, 12.95s/it]"
     ]
    },
    {
     "name": "stdout",
     "output_type": "stream",
     "text": [
      "2021-05-06 13:11:58,097 - modnet - INFO - Preset #51 fitting finished, loss: 0.3051800191402435\n"
     ]
    },
    {
     "name": "stderr",
     "output_type": "stream",
     "text": [
      " 71%|███████   | 255/360 [58:37<17:39, 10.09s/it]"
     ]
    },
    {
     "name": "stdout",
     "output_type": "stream",
     "text": [
      "2021-05-06 13:11:59,149 - modnet - INFO - Preset #49 fitting finished, loss: 0.3308125376701355\n"
     ]
    },
    {
     "name": "stderr",
     "output_type": "stream",
     "text": [
      " 71%|███████   | 256/360 [58:38<12:46,  7.37s/it]"
     ]
    },
    {
     "name": "stdout",
     "output_type": "stream",
     "text": [
      "2021-05-06 13:12:04,635 - modnet - INFO - Preset #52 fitting finished, loss: 0.31908775568008424\n"
     ]
    },
    {
     "name": "stderr",
     "output_type": "stream",
     "text": [
      " 71%|███████▏  | 257/360 [58:43<11:33,  6.74s/it]"
     ]
    },
    {
     "name": "stdout",
     "output_type": "stream",
     "text": [
      "2021-05-06 13:12:22,848 - modnet - INFO - Preset #48 fitting finished, loss: 0.32253025770187377\n"
     ]
    },
    {
     "name": "stderr",
     "output_type": "stream",
     "text": [
      " 72%|███████▏  | 258/360 [59:01<17:15, 10.16s/it]"
     ]
    },
    {
     "name": "stdout",
     "output_type": "stream",
     "text": [
      "2021-05-06 13:12:26,085 - modnet - INFO - Preset #49 fitting finished, loss: 0.303744375705719\n"
     ]
    },
    {
     "name": "stderr",
     "output_type": "stream",
     "text": [
      " 72%|███████▏  | 259/360 [59:05<13:41,  8.13s/it]"
     ]
    },
    {
     "name": "stdout",
     "output_type": "stream",
     "text": [
      "2021-05-06 13:12:30,031 - modnet - INFO - Preset #53 fitting finished, loss: 0.3172836720943451\n"
     ]
    },
    {
     "name": "stderr",
     "output_type": "stream",
     "text": [
      " 72%|███████▏  | 260/360 [59:09<11:20,  6.80s/it]"
     ]
    },
    {
     "name": "stdout",
     "output_type": "stream",
     "text": [
      "2021-05-06 13:12:40,818 - modnet - INFO - Preset #48 fitting finished, loss: 0.29515700936317446\n"
     ]
    },
    {
     "name": "stderr",
     "output_type": "stream",
     "text": [
      " 72%|███████▎  | 261/360 [59:19<13:15,  8.03s/it]"
     ]
    },
    {
     "name": "stdout",
     "output_type": "stream",
     "text": [
      "2021-05-06 13:13:19,649 - modnet - INFO - Preset #51 fitting finished, loss: 0.3326528072357178\n"
     ]
    },
    {
     "name": "stderr",
     "output_type": "stream",
     "text": [
      " 73%|███████▎  | 262/360 [59:58<28:12, 17.27s/it]"
     ]
    },
    {
     "name": "stdout",
     "output_type": "stream",
     "text": [
      "2021-05-06 13:13:26,828 - modnet - INFO - Preset #51 fitting finished, loss: 0.3107700526714325\n"
     ]
    },
    {
     "name": "stderr",
     "output_type": "stream",
     "text": [
      " 73%|███████▎  | 263/360 [1:00:06<23:06, 14.30s/it]"
     ]
    },
    {
     "name": "stdout",
     "output_type": "stream",
     "text": [
      "2021-05-06 13:14:00,962 - modnet - INFO - Preset #48 fitting finished, loss: 0.33179011940956116\n"
     ]
    },
    {
     "name": "stderr",
     "output_type": "stream",
     "text": [
      " 73%|███████▎  | 264/360 [1:00:39<32:15, 20.16s/it]"
     ]
    },
    {
     "name": "stdout",
     "output_type": "stream",
     "text": [
      "2021-05-06 13:14:30,661 - modnet - INFO - Preset #53 fitting finished, loss: 0.3100118815898895\n"
     ]
    },
    {
     "name": "stderr",
     "output_type": "stream",
     "text": [
      " 74%|███████▎  | 265/360 [1:01:09<36:32, 23.08s/it]"
     ]
    },
    {
     "name": "stdout",
     "output_type": "stream",
     "text": [
      "2021-05-06 13:14:37,824 - modnet - INFO - Preset #58 fitting finished, loss: 0.42701792120933535\n"
     ]
    },
    {
     "name": "stderr",
     "output_type": "stream",
     "text": [
      " 74%|███████▍  | 266/360 [1:01:17<28:43, 18.33s/it]"
     ]
    },
    {
     "name": "stdout",
     "output_type": "stream",
     "text": [
      "2021-05-06 13:14:41,810 - modnet - INFO - Preset #56 fitting finished, loss: 0.47455134987831116\n"
     ]
    },
    {
     "name": "stderr",
     "output_type": "stream",
     "text": [
      " 74%|███████▍  | 267/360 [1:01:21<21:45, 14.04s/it]"
     ]
    },
    {
     "name": "stdout",
     "output_type": "stream",
     "text": [
      "2021-05-06 13:15:06,659 - modnet - INFO - Preset #57 fitting finished, loss: 0.3940483212471008\n"
     ]
    },
    {
     "name": "stderr",
     "output_type": "stream",
     "text": [
      " 74%|███████▍  | 268/360 [1:01:46<26:32, 17.31s/it]"
     ]
    },
    {
     "name": "stdout",
     "output_type": "stream",
     "text": [
      "2021-05-06 13:16:00,596 - modnet - INFO - Preset #49 fitting finished, loss: 0.3319300293922424\n"
     ]
    },
    {
     "name": "stderr",
     "output_type": "stream",
     "text": [
      " 75%|███████▍  | 269/360 [1:02:39<42:45, 28.19s/it]"
     ]
    },
    {
     "name": "stdout",
     "output_type": "stream",
     "text": [
      "2021-05-06 13:16:08,109 - modnet - INFO - Preset #50 fitting finished, loss: 0.313544374704361\n"
     ]
    },
    {
     "name": "stderr",
     "output_type": "stream",
     "text": [
      " 75%|███████▌  | 270/360 [1:02:47<33:02, 22.03s/it]"
     ]
    },
    {
     "name": "stdout",
     "output_type": "stream",
     "text": [
      "2021-05-06 13:16:10,947 - modnet - INFO - Preset #58 fitting finished, loss: 0.37024996876716615\n"
     ]
    },
    {
     "name": "stderr",
     "output_type": "stream",
     "text": [
      " 75%|███████▌  | 271/360 [1:02:50<24:20, 16.41s/it]"
     ]
    },
    {
     "name": "stdout",
     "output_type": "stream",
     "text": [
      "2021-05-06 13:16:19,083 - modnet - INFO - Preset #62 fitting finished, loss: 0.3959556996822357\n"
     ]
    },
    {
     "name": "stderr",
     "output_type": "stream",
     "text": [
      " 76%|███████▌  | 272/360 [1:02:58<20:22, 13.89s/it]"
     ]
    },
    {
     "name": "stdout",
     "output_type": "stream",
     "text": [
      "2021-05-06 13:16:34,093 - modnet - INFO - Preset #56 fitting finished, loss: 0.42632682919502257\n"
     ]
    },
    {
     "name": "stderr",
     "output_type": "stream",
     "text": [
      " 76%|███████▌  | 273/360 [1:03:13<20:35, 14.20s/it]"
     ]
    },
    {
     "name": "stdout",
     "output_type": "stream",
     "text": [
      "2021-05-06 13:16:41,705 - modnet - INFO - Preset #56 fitting finished, loss: 0.3955990970134735\n"
     ]
    },
    {
     "name": "stderr",
     "output_type": "stream",
     "text": [
      " 76%|███████▌  | 274/360 [1:03:21<17:31, 12.22s/it]"
     ]
    },
    {
     "name": "stdout",
     "output_type": "stream",
     "text": [
      "2021-05-06 13:16:42,795 - modnet - INFO - Preset #51 fitting finished, loss: 0.32185837626457214\n"
     ]
    },
    {
     "name": "stderr",
     "output_type": "stream",
     "text": [
      " 76%|███████▋  | 275/360 [1:03:22<12:34,  8.88s/it]"
     ]
    },
    {
     "name": "stdout",
     "output_type": "stream",
     "text": [
      "2021-05-06 13:16:46,505 - modnet - INFO - Preset #45 fitting finished, loss: 0.31333576440811156\n"
     ]
    },
    {
     "name": "stderr",
     "output_type": "stream",
     "text": [
      " 77%|███████▋  | 276/360 [1:03:25<10:12,  7.30s/it]"
     ]
    },
    {
     "name": "stdout",
     "output_type": "stream",
     "text": [
      "2021-05-06 13:17:02,877 - modnet - INFO - Preset #49 fitting finished, loss: 0.32861860394477843\n"
     ]
    },
    {
     "name": "stderr",
     "output_type": "stream",
     "text": [
      " 77%|███████▋  | 277/360 [1:03:41<13:43,  9.92s/it]"
     ]
    },
    {
     "name": "stdout",
     "output_type": "stream",
     "text": [
      "2021-05-06 13:17:48,186 - modnet - INFO - Preset #64 fitting finished, loss: 0.39941924810409546\n"
     ]
    },
    {
     "name": "stderr",
     "output_type": "stream",
     "text": [
      " 77%|███████▋  | 278/360 [1:04:27<28:15, 20.68s/it]"
     ]
    },
    {
     "name": "stdout",
     "output_type": "stream",
     "text": [
      "2021-05-06 13:17:59,262 - modnet - INFO - Preset #64 fitting finished, loss: 0.37706533670425413\n"
     ]
    },
    {
     "name": "stderr",
     "output_type": "stream",
     "text": [
      " 78%|███████▊  | 279/360 [1:04:38<23:47, 17.62s/it]"
     ]
    },
    {
     "name": "stdout",
     "output_type": "stream",
     "text": [
      "2021-05-06 13:18:06,019 - modnet - INFO - Preset #59 fitting finished, loss: 0.4752683162689209\n"
     ]
    },
    {
     "name": "stderr",
     "output_type": "stream",
     "text": [
      " 78%|███████▊  | 280/360 [1:04:45<19:18, 14.48s/it]"
     ]
    },
    {
     "name": "stdout",
     "output_type": "stream",
     "text": [
      "2021-05-06 13:18:19,385 - modnet - INFO - Preset #57 fitting finished, loss: 0.4261348009109497\n"
     ]
    },
    {
     "name": "stderr",
     "output_type": "stream",
     "text": [
      " 78%|███████▊  | 281/360 [1:04:58<18:38, 14.16s/it]"
     ]
    },
    {
     "name": "stdout",
     "output_type": "stream",
     "text": [
      "2021-05-06 13:18:31,005 - modnet - INFO - Preset #63 fitting finished, loss: 0.3944037854671478\n"
     ]
    },
    {
     "name": "stderr",
     "output_type": "stream",
     "text": [
      " 78%|███████▊  | 282/360 [1:05:10<17:25, 13.40s/it]"
     ]
    },
    {
     "name": "stdout",
     "output_type": "stream",
     "text": [
      "2021-05-06 13:18:36,819 - modnet - INFO - Preset #64 fitting finished, loss: 0.42838303446769715\n"
     ]
    },
    {
     "name": "stderr",
     "output_type": "stream",
     "text": [
      " 79%|███████▊  | 283/360 [1:05:16<14:14, 11.10s/it]"
     ]
    },
    {
     "name": "stdout",
     "output_type": "stream",
     "text": [
      "2021-05-06 13:19:08,587 - modnet - INFO - Preset #62 fitting finished, loss: 0.42494699358940125\n"
     ]
    },
    {
     "name": "stderr",
     "output_type": "stream",
     "text": [
      " 79%|███████▉  | 284/360 [1:05:47<21:56, 17.32s/it]"
     ]
    },
    {
     "name": "stdout",
     "output_type": "stream",
     "text": [
      "2021-05-06 13:19:17,590 - modnet - INFO - Preset #64 fitting finished, loss: 0.42947413921356203\n"
     ]
    },
    {
     "name": "stderr",
     "output_type": "stream",
     "text": [
      " 79%|███████▉  | 285/360 [1:05:57<18:36, 14.88s/it]"
     ]
    },
    {
     "name": "stdout",
     "output_type": "stream",
     "text": [
      "2021-05-06 13:19:40,478 - modnet - INFO - Preset #65 fitting finished, loss: 0.42666680812835694\n"
     ]
    },
    {
     "name": "stderr",
     "output_type": "stream",
     "text": [
      " 79%|███████▉  | 286/360 [1:06:19<21:16, 17.26s/it]"
     ]
    },
    {
     "name": "stdout",
     "output_type": "stream",
     "text": [
      "2021-05-06 13:19:58,213 - modnet - INFO - Preset #58 fitting finished, loss: 0.4276368975639343\n"
     ]
    },
    {
     "name": "stderr",
     "output_type": "stream",
     "text": [
      " 80%|███████▉  | 287/360 [1:06:37<21:16, 17.49s/it]"
     ]
    },
    {
     "name": "stdout",
     "output_type": "stream",
     "text": [
      "2021-05-06 13:20:07,724 - modnet - INFO - Preset #62 fitting finished, loss: 0.36898310780525206\n"
     ]
    },
    {
     "name": "stderr",
     "output_type": "stream",
     "text": [
      " 80%|████████  | 288/360 [1:06:47<18:07, 15.11s/it]"
     ]
    },
    {
     "name": "stdout",
     "output_type": "stream",
     "text": [
      "2021-05-06 13:20:26,533 - modnet - INFO - Preset #64 fitting finished, loss: 0.4785557150840759\n"
     ]
    },
    {
     "name": "stderr",
     "output_type": "stream",
     "text": [
      " 80%|████████  | 289/360 [1:07:13<21:50, 18.46s/it]"
     ]
    },
    {
     "name": "stdout",
     "output_type": "stream",
     "text": [
      "2021-05-06 13:20:36,993 - modnet - INFO - Preset #65 fitting finished, loss: 0.4292071282863617\n"
     ]
    },
    {
     "name": "stderr",
     "output_type": "stream",
     "text": [
      " 81%|████████  | 290/360 [1:07:16<15:59, 13.71s/it]"
     ]
    },
    {
     "name": "stdout",
     "output_type": "stream",
     "text": [
      "2021-05-06 13:20:39,189 - modnet - INFO - Preset #59 fitting finished, loss: 0.42980589866638186\n"
     ]
    },
    {
     "name": "stderr",
     "output_type": "stream",
     "text": [
      " 81%|████████  | 291/360 [1:07:18<11:53, 10.34s/it]"
     ]
    },
    {
     "name": "stdout",
     "output_type": "stream",
     "text": [
      "2021-05-06 13:20:45,794 - modnet - INFO - Preset #59 fitting finished, loss: 0.39600948095321653\n"
     ]
    },
    {
     "name": "stderr",
     "output_type": "stream",
     "text": [
      " 81%|████████  | 292/360 [1:07:25<10:19,  9.11s/it]"
     ]
    },
    {
     "name": "stdout",
     "output_type": "stream",
     "text": [
      "2021-05-06 13:20:46,753 - modnet - INFO - Preset #58 fitting finished, loss: 0.3996706545352936\n"
     ]
    },
    {
     "name": "stderr",
     "output_type": "stream",
     "text": [
      " 81%|████████▏ | 293/360 [1:07:26<07:35,  6.80s/it]"
     ]
    },
    {
     "name": "stdout",
     "output_type": "stream",
     "text": [
      "2021-05-06 13:21:08,454 - modnet - INFO - Preset #58 fitting finished, loss: 0.4761823356151581\n"
     ]
    },
    {
     "name": "stderr",
     "output_type": "stream",
     "text": [
      " 82%|████████▏ | 294/360 [1:07:47<12:16, 11.16s/it]"
     ]
    },
    {
     "name": "stdout",
     "output_type": "stream",
     "text": [
      "2021-05-06 13:21:27,118 - modnet - INFO - Preset #59 fitting finished, loss: 0.42740488052368164\n"
     ]
    },
    {
     "name": "stderr",
     "output_type": "stream",
     "text": [
      " 82%|████████▏ | 295/360 [1:08:06<14:27, 13.35s/it]"
     ]
    },
    {
     "name": "stdout",
     "output_type": "stream",
     "text": [
      "2021-05-06 13:21:36,873 - modnet - INFO - Preset #65 fitting finished, loss: 0.39411611557006837\n"
     ]
    },
    {
     "name": "stderr",
     "output_type": "stream",
     "text": [
      " 82%|████████▏ | 296/360 [1:08:15<13:03, 12.24s/it]"
     ]
    },
    {
     "name": "stdout",
     "output_type": "stream",
     "text": [
      "2021-05-06 13:22:00,070 - modnet - INFO - Preset #56 fitting finished, loss: 0.3687782406806946\n"
     ]
    },
    {
     "name": "stderr",
     "output_type": "stream",
     "text": [
      " 82%|████████▎ | 297/360 [1:08:39<16:20, 15.56s/it]"
     ]
    },
    {
     "name": "stdout",
     "output_type": "stream",
     "text": [
      "2021-05-06 13:22:20,437 - modnet - INFO - Preset #62 fitting finished, loss: 0.47423580288887024\n"
     ]
    },
    {
     "name": "stderr",
     "output_type": "stream",
     "text": [
      " 83%|████████▎ | 298/360 [1:08:59<17:33, 16.99s/it]"
     ]
    },
    {
     "name": "stdout",
     "output_type": "stream",
     "text": [
      "2021-05-06 13:22:29,708 - modnet - INFO - Preset #63 fitting finished, loss: 0.42568601965904235\n"
     ]
    },
    {
     "name": "stderr",
     "output_type": "stream",
     "text": [
      " 83%|████████▎ | 299/360 [1:09:08<14:54, 14.66s/it]"
     ]
    },
    {
     "name": "stdout",
     "output_type": "stream",
     "text": [
      "2021-05-06 13:22:40,388 - modnet - INFO - Preset #57 fitting finished, loss: 0.47566199898719785\n"
     ]
    },
    {
     "name": "stderr",
     "output_type": "stream",
     "text": [
      " 83%|████████▎ | 300/360 [1:09:19<13:28, 13.48s/it]"
     ]
    },
    {
     "name": "stdout",
     "output_type": "stream",
     "text": [
      "2021-05-06 13:22:49,073 - modnet - INFO - Preset #57 fitting finished, loss: 0.42986421585083007\n"
     ]
    },
    {
     "name": "stderr",
     "output_type": "stream",
     "text": [
      " 84%|████████▎ | 301/360 [1:09:28<11:53, 12.09s/it]"
     ]
    },
    {
     "name": "stdout",
     "output_type": "stream",
     "text": [
      "2021-05-06 13:23:11,045 - modnet - INFO - Preset #69 fitting finished, loss: 0.42461764216423037\n"
     ]
    },
    {
     "name": "stderr",
     "output_type": "stream",
     "text": [
      " 84%|████████▍ | 302/360 [1:09:50<14:30, 15.01s/it]"
     ]
    },
    {
     "name": "stdout",
     "output_type": "stream",
     "text": [
      "2021-05-06 13:23:17,364 - modnet - INFO - Preset #65 fitting finished, loss: 0.36996867060661315\n"
     ]
    },
    {
     "name": "stderr",
     "output_type": "stream",
     "text": [
      " 84%|████████▍ | 303/360 [1:09:56<11:44, 12.36s/it]"
     ]
    },
    {
     "name": "stdout",
     "output_type": "stream",
     "text": [
      "2021-05-06 13:23:34,846 - modnet - INFO - Preset #70 fitting finished, loss: 0.4101171314716339\n"
     ]
    },
    {
     "name": "stderr",
     "output_type": "stream",
     "text": [
      " 84%|████████▍ | 304/360 [1:10:13<12:59, 13.92s/it]"
     ]
    },
    {
     "name": "stdout",
     "output_type": "stream",
     "text": [
      "2021-05-06 13:23:46,209 - modnet - INFO - Preset #63 fitting finished, loss: 0.4752335786819458\n"
     ]
    },
    {
     "name": "stderr",
     "output_type": "stream",
     "text": [
      " 85%|████████▍ | 305/360 [1:10:25<12:03, 13.16s/it]"
     ]
    },
    {
     "name": "stdout",
     "output_type": "stream",
     "text": [
      "2021-05-06 13:23:50,621 - modnet - INFO - Preset #65 fitting finished, loss: 0.47552815079689026\n"
     ]
    },
    {
     "name": "stderr",
     "output_type": "stream",
     "text": [
      " 85%|████████▌ | 306/360 [1:10:29<09:27, 10.51s/it]"
     ]
    },
    {
     "name": "stdout",
     "output_type": "stream",
     "text": [
      "2021-05-06 13:23:56,441 - modnet - INFO - Preset #70 fitting finished, loss: 0.47950292825698854\n"
     ]
    },
    {
     "name": "stderr",
     "output_type": "stream",
     "text": [
      " 85%|████████▌ | 307/360 [1:10:35<08:04,  9.15s/it]"
     ]
    },
    {
     "name": "stdout",
     "output_type": "stream",
     "text": [
      "2021-05-06 13:24:53,906 - modnet - INFO - Preset #69 fitting finished, loss: 0.3764230668544769\n"
     ]
    },
    {
     "name": "stderr",
     "output_type": "stream",
     "text": [
      " 86%|████████▌ | 308/360 [1:11:33<20:28, 23.63s/it]"
     ]
    },
    {
     "name": "stdout",
     "output_type": "stream",
     "text": [
      "2021-05-06 13:24:54,712 - modnet - INFO - Preset #63 fitting finished, loss: 0.3562052845954895\n"
     ]
    },
    {
     "name": "stderr",
     "output_type": "stream",
     "text": [
      " 86%|████████▌ | 309/360 [1:11:33<14:16, 16.80s/it]"
     ]
    },
    {
     "name": "stdout",
     "output_type": "stream",
     "text": [
      "2021-05-06 13:25:08,646 - modnet - INFO - Preset #68 fitting finished, loss: 0.41322599053382875\n"
     ]
    },
    {
     "name": "stderr",
     "output_type": "stream",
     "text": [
      " 86%|████████▌ | 310/360 [1:11:47<13:15, 15.91s/it]"
     ]
    },
    {
     "name": "stdout",
     "output_type": "stream",
     "text": [
      "2021-05-06 13:25:09,383 - modnet - INFO - Preset #59 fitting finished, loss: 0.37073361277580263\n"
     ]
    },
    {
     "name": "stderr",
     "output_type": "stream",
     "text": [
      " 86%|████████▋ | 311/360 [1:11:48<09:16, 11.35s/it]"
     ]
    },
    {
     "name": "stdout",
     "output_type": "stream",
     "text": [
      "2021-05-06 13:25:13,315 - modnet - INFO - Preset #71 fitting finished, loss: 0.4806771814823151\n"
     ]
    },
    {
     "name": "stderr",
     "output_type": "stream",
     "text": [
      " 87%|████████▋ | 312/360 [1:11:52<07:18,  9.14s/it]"
     ]
    },
    {
     "name": "stdout",
     "output_type": "stream",
     "text": [
      "2021-05-06 13:25:22,352 - modnet - INFO - Preset #68 fitting finished, loss: 0.2995695471763611\n"
     ]
    },
    {
     "name": "stderr",
     "output_type": "stream",
     "text": [
      " 87%|████████▋ | 313/360 [1:12:01<07:04,  9.03s/it]"
     ]
    },
    {
     "name": "stdout",
     "output_type": "stream",
     "text": [
      "2021-05-06 13:25:32,386 - modnet - INFO - Preset #57 fitting finished, loss: 0.35471723079681394\n"
     ]
    },
    {
     "name": "stderr",
     "output_type": "stream",
     "text": [
      " 87%|████████▋ | 314/360 [1:12:11<07:16,  9.48s/it]"
     ]
    },
    {
     "name": "stdout",
     "output_type": "stream",
     "text": [
      "2021-05-06 13:26:05,333 - modnet - INFO - Preset #71 fitting finished, loss: 0.39715742468833926\n"
     ]
    },
    {
     "name": "stderr",
     "output_type": "stream",
     "text": [
      " 88%|████████▊ | 315/360 [1:12:44<12:24, 16.55s/it]"
     ]
    },
    {
     "name": "stdout",
     "output_type": "stream",
     "text": [
      "2021-05-06 13:27:32,067 - modnet - INFO - Preset #60 fitting finished, loss: 0.3197934627532959\n"
     ]
    },
    {
     "name": "stderr",
     "output_type": "stream",
     "text": [
      " 88%|████████▊ | 316/360 [1:14:11<27:28, 37.47s/it]"
     ]
    },
    {
     "name": "stdout",
     "output_type": "stream",
     "text": [
      "2021-05-06 13:28:00,956 - modnet - INFO - Preset #70 fitting finished, loss: 0.4267876625061035\n"
     ]
    },
    {
     "name": "stderr",
     "output_type": "stream",
     "text": [
      " 88%|████████▊ | 317/360 [1:14:40<25:01, 34.93s/it]"
     ]
    },
    {
     "name": "stdout",
     "output_type": "stream",
     "text": [
      "2021-05-06 13:28:01,732 - modnet - INFO - Preset #66 fitting finished, loss: 0.3305804967880249\n"
     ]
    },
    {
     "name": "stderr",
     "output_type": "stream",
     "text": [
      " 88%|████████▊ | 318/360 [1:14:40<17:15, 24.66s/it]"
     ]
    },
    {
     "name": "stdout",
     "output_type": "stream",
     "text": [
      "2021-05-06 13:28:02,443 - modnet - INFO - Preset #71 fitting finished, loss: 0.4291745960712433\n"
     ]
    },
    {
     "name": "stderr",
     "output_type": "stream",
     "text": [
      " 89%|████████▊ | 319/360 [1:14:41<11:57, 17.49s/it]"
     ]
    },
    {
     "name": "stdout",
     "output_type": "stream",
     "text": [
      "2021-05-06 13:28:03,796 - modnet - INFO - Preset #69 fitting finished, loss: 0.3571114897727966\n"
     ]
    },
    {
     "name": "stderr",
     "output_type": "stream",
     "text": [
      " 89%|████████▉ | 320/360 [1:14:42<08:23, 12.59s/it]"
     ]
    },
    {
     "name": "stdout",
     "output_type": "stream",
     "text": [
      "2021-05-06 13:28:54,952 - modnet - INFO - Preset #70 fitting finished, loss: 0.3546814501285553\n"
     ]
    },
    {
     "name": "stderr",
     "output_type": "stream",
     "text": [
      " 89%|████████▉ | 321/360 [1:15:34<15:43, 24.20s/it]"
     ]
    },
    {
     "name": "stdout",
     "output_type": "stream",
     "text": [
      "2021-05-06 13:28:58,828 - modnet - INFO - Preset #68 fitting finished, loss: 0.3472518682479858\n"
     ]
    },
    {
     "name": "stderr",
     "output_type": "stream",
     "text": [
      " 89%|████████▉ | 322/360 [1:15:37<11:25, 18.05s/it]"
     ]
    },
    {
     "name": "stdout",
     "output_type": "stream",
     "text": [
      "2021-05-06 13:29:11,995 - modnet - INFO - Preset #67 fitting finished, loss: 0.3009899199008942\n"
     ]
    },
    {
     "name": "stderr",
     "output_type": "stream",
     "text": [
      " 90%|████████▉ | 323/360 [1:15:51<10:14, 16.62s/it]"
     ]
    },
    {
     "name": "stdout",
     "output_type": "stream",
     "text": [
      "2021-05-06 13:29:25,098 - modnet - INFO - Preset #66 fitting finished, loss: 0.2944483458995819\n"
     ]
    },
    {
     "name": "stderr",
     "output_type": "stream",
     "text": [
      " 90%|█████████ | 324/360 [1:16:03<09:19, 15.53s/it]"
     ]
    },
    {
     "name": "stdout",
     "output_type": "stream",
     "text": [
      "2021-05-06 13:29:43,797 - modnet - INFO - Preset #70 fitting finished, loss: 0.3891246676445007\n"
     ]
    },
    {
     "name": "stderr",
     "output_type": "stream",
     "text": [
      " 90%|█████████ | 325/360 [1:16:22<09:36, 16.46s/it]"
     ]
    },
    {
     "name": "stdout",
     "output_type": "stream",
     "text": [
      "2021-05-06 13:29:56,941 - modnet - INFO - Preset #71 fitting finished, loss: 0.4168501913547516\n"
     ]
    },
    {
     "name": "stderr",
     "output_type": "stream",
     "text": [
      " 91%|█████████ | 326/360 [1:16:35<08:47, 15.51s/it]"
     ]
    },
    {
     "name": "stdout",
     "output_type": "stream",
     "text": [
      "2021-05-06 13:30:29,937 - modnet - INFO - Preset #61 fitting finished, loss: 0.30989623069763184\n"
     ]
    },
    {
     "name": "stderr",
     "output_type": "stream",
     "text": [
      " 91%|█████████ | 327/360 [1:17:08<11:24, 20.73s/it]"
     ]
    },
    {
     "name": "stdout",
     "output_type": "stream",
     "text": [
      "2021-05-06 13:30:31,316 - modnet - INFO - Preset #67 fitting finished, loss: 0.35196020603179934\n"
     ]
    },
    {
     "name": "stderr",
     "output_type": "stream",
     "text": [
      " 91%|█████████ | 328/360 [1:17:10<07:57, 14.92s/it]"
     ]
    },
    {
     "name": "stdout",
     "output_type": "stream",
     "text": [
      "2021-05-06 13:30:37,512 - modnet - INFO - Preset #63 fitting finished, loss: 0.37745173573493956\n"
     ]
    },
    {
     "name": "stderr",
     "output_type": "stream",
     "text": [
      " 91%|█████████▏| 329/360 [1:17:16<06:23, 12.37s/it]"
     ]
    },
    {
     "name": "stdout",
     "output_type": "stream",
     "text": [
      "2021-05-06 13:31:00,978 - modnet - INFO - Preset #68 fitting finished, loss: 0.344857794046402\n"
     ]
    },
    {
     "name": "stderr",
     "output_type": "stream",
     "text": [
      " 92%|█████████▏| 330/360 [1:17:39<07:48, 15.61s/it]"
     ]
    },
    {
     "name": "stdout",
     "output_type": "stream",
     "text": [
      "2021-05-06 13:31:23,136 - modnet - INFO - Preset #60 fitting finished, loss: 0.32385494709014895\n"
     ]
    },
    {
     "name": "stderr",
     "output_type": "stream",
     "text": [
      " 92%|█████████▏| 331/360 [1:18:02<08:32, 17.66s/it]"
     ]
    },
    {
     "name": "stdout",
     "output_type": "stream",
     "text": [
      "2021-05-06 13:31:31,874 - modnet - INFO - Preset #69 fitting finished, loss: 0.32156195640563967\n"
     ]
    },
    {
     "name": "stderr",
     "output_type": "stream",
     "text": [
      " 92%|█████████▏| 332/360 [1:18:10<06:58, 14.95s/it]"
     ]
    },
    {
     "name": "stdout",
     "output_type": "stream",
     "text": [
      "2021-05-06 13:31:38,467 - modnet - INFO - Preset #60 fitting finished, loss: 0.3375749886035919\n"
     ]
    },
    {
     "name": "stderr",
     "output_type": "stream",
     "text": [
      " 92%|█████████▎| 333/360 [1:18:17<05:38, 12.54s/it]"
     ]
    },
    {
     "name": "stdout",
     "output_type": "stream",
     "text": [
      "2021-05-06 13:31:40,765 - modnet - INFO - Preset #54 fitting finished, loss: 0.3139875292778015\n"
     ]
    },
    {
     "name": "stderr",
     "output_type": "stream",
     "text": [
      " 93%|█████████▎| 334/360 [1:18:20<04:05,  9.45s/it]"
     ]
    },
    {
     "name": "stdout",
     "output_type": "stream",
     "text": [
      "2021-05-06 13:31:58,804 - modnet - INFO - Preset #66 fitting finished, loss: 0.30355024337768555\n"
     ]
    },
    {
     "name": "stderr",
     "output_type": "stream",
     "text": [
      " 93%|█████████▎| 335/360 [1:18:37<04:59, 12.00s/it]"
     ]
    },
    {
     "name": "stdout",
     "output_type": "stream",
     "text": [
      "2021-05-06 13:32:08,894 - modnet - INFO - Preset #62 fitting finished, loss: 0.3814436554908752\n"
     ]
    },
    {
     "name": "stderr",
     "output_type": "stream",
     "text": [
      " 93%|█████████▎| 336/360 [1:18:47<04:32, 11.34s/it]"
     ]
    },
    {
     "name": "stdout",
     "output_type": "stream",
     "text": [
      "2021-05-06 13:32:11,195 - modnet - INFO - Preset #67 fitting finished, loss: 0.309840190410614\n"
     ]
    },
    {
     "name": "stderr",
     "output_type": "stream",
     "text": [
      " 94%|█████████▎| 337/360 [1:18:50<03:19,  8.68s/it]"
     ]
    },
    {
     "name": "stdout",
     "output_type": "stream",
     "text": [
      "2021-05-06 13:32:26,264 - modnet - INFO - Preset #56 fitting finished, loss: 0.381012374162674\n"
     ]
    },
    {
     "name": "stderr",
     "output_type": "stream",
     "text": [
      " 94%|█████████▍| 338/360 [1:19:05<03:53, 10.63s/it]"
     ]
    },
    {
     "name": "stdout",
     "output_type": "stream",
     "text": [
      "2021-05-06 13:32:27,901 - modnet - INFO - Preset #54 fitting finished, loss: 0.34662469625473025\n"
     ]
    },
    {
     "name": "stderr",
     "output_type": "stream",
     "text": [
      " 94%|█████████▍| 339/360 [1:19:06<02:45,  7.90s/it]"
     ]
    },
    {
     "name": "stdout",
     "output_type": "stream",
     "text": [
      "2021-05-06 13:33:26,315 - modnet - INFO - Preset #68 fitting finished, loss: 0.3008134126663208\n"
     ]
    },
    {
     "name": "stderr",
     "output_type": "stream",
     "text": [
      " 94%|█████████▍| 340/360 [1:20:05<07:40, 23.03s/it]"
     ]
    },
    {
     "name": "stdout",
     "output_type": "stream",
     "text": [
      "2021-05-06 13:33:26,878 - modnet - INFO - Preset #61 fitting finished, loss: 0.3355302095413208\n"
     ]
    },
    {
     "name": "stderr",
     "output_type": "stream",
     "text": [
      " 95%|█████████▍| 341/360 [1:20:05<05:08, 16.26s/it]"
     ]
    },
    {
     "name": "stdout",
     "output_type": "stream",
     "text": [
      "2021-05-06 13:33:54,325 - modnet - INFO - Preset #60 fitting finished, loss: 0.29185314774513244\n"
     ]
    },
    {
     "name": "stderr",
     "output_type": "stream",
     "text": [
      " 95%|█████████▌| 342/360 [1:20:33<05:53, 19.64s/it]"
     ]
    },
    {
     "name": "stdout",
     "output_type": "stream",
     "text": [
      "2021-05-06 13:34:03,463 - modnet - INFO - Preset #61 fitting finished, loss: 0.31361606121063235\n"
     ]
    },
    {
     "name": "stderr",
     "output_type": "stream",
     "text": [
      " 95%|█████████▌| 343/360 [1:20:42<04:41, 16.56s/it]"
     ]
    },
    {
     "name": "stdout",
     "output_type": "stream",
     "text": [
      "2021-05-06 13:34:21,463 - modnet - INFO - Preset #66 fitting finished, loss: 0.3232627332210541\n"
     ]
    },
    {
     "name": "stderr",
     "output_type": "stream",
     "text": [
      " 96%|█████████▌| 344/360 [1:21:00<04:30, 16.93s/it]"
     ]
    },
    {
     "name": "stdout",
     "output_type": "stream",
     "text": [
      "2021-05-06 13:34:41,548 - modnet - INFO - Preset #69 fitting finished, loss: 0.31219911575317383\n"
     ]
    },
    {
     "name": "stderr",
     "output_type": "stream",
     "text": [
      " 96%|█████████▌| 345/360 [1:21:20<04:27, 17.85s/it]"
     ]
    },
    {
     "name": "stdout",
     "output_type": "stream",
     "text": [
      "2021-05-06 13:35:09,903 - modnet - INFO - Preset #71 fitting finished, loss: 0.3677565217018127\n"
     ]
    },
    {
     "name": "stderr",
     "output_type": "stream",
     "text": [
      " 96%|█████████▌| 346/360 [1:21:49<04:55, 21.10s/it]"
     ]
    },
    {
     "name": "stdout",
     "output_type": "stream",
     "text": [
      "2021-05-06 13:35:20,051 - modnet - INFO - Preset #66 fitting finished, loss: 0.30890034437179564\n"
     ]
    },
    {
     "name": "stderr",
     "output_type": "stream",
     "text": [
      " 96%|█████████▋| 347/360 [1:21:59<03:51, 17.78s/it]"
     ]
    },
    {
     "name": "stdout",
     "output_type": "stream",
     "text": [
      "2021-05-06 13:35:37,049 - modnet - INFO - Preset #55 fitting finished, loss: 0.3288315117359161\n"
     ]
    },
    {
     "name": "stderr",
     "output_type": "stream",
     "text": [
      " 97%|█████████▋| 348/360 [1:22:15<03:29, 17.50s/it]"
     ]
    },
    {
     "name": "stdout",
     "output_type": "stream",
     "text": [
      "2021-05-06 13:36:20,263 - modnet - INFO - Preset #54 fitting finished, loss: 0.31751841902732847\n"
     ]
    },
    {
     "name": "stderr",
     "output_type": "stream",
     "text": [
      " 97%|█████████▋| 349/360 [1:22:59<04:37, 25.24s/it]"
     ]
    },
    {
     "name": "stdout",
     "output_type": "stream",
     "text": [
      "2021-05-06 13:38:33,254 - modnet - INFO - Preset #67 fitting finished, loss: 0.3122129261493683\n"
     ]
    },
    {
     "name": "stderr",
     "output_type": "stream",
     "text": [
      " 97%|█████████▋| 350/360 [1:25:12<09:35, 57.52s/it]"
     ]
    },
    {
     "name": "stdout",
     "output_type": "stream",
     "text": [
      "2021-05-06 13:38:39,265 - modnet - INFO - Preset #60 fitting finished, loss: 0.3222339808940887\n"
     ]
    },
    {
     "name": "stderr",
     "output_type": "stream",
     "text": [
      " 98%|█████████▊| 351/360 [1:25:18<06:18, 42.11s/it]"
     ]
    },
    {
     "name": "stdout",
     "output_type": "stream",
     "text": [
      "2021-05-06 13:39:04,634 - modnet - INFO - Preset #61 fitting finished, loss: 0.32838656902313235\n"
     ]
    },
    {
     "name": "stderr",
     "output_type": "stream",
     "text": [
      " 98%|█████████▊| 352/360 [1:25:43<04:56, 37.01s/it]"
     ]
    },
    {
     "name": "stdout",
     "output_type": "stream",
     "text": [
      "2021-05-06 13:41:40,315 - modnet - INFO - Preset #67 fitting finished, loss: 0.31817956566810607\n"
     ]
    },
    {
     "name": "stderr",
     "output_type": "stream",
     "text": [
      " 98%|█████████▊| 353/360 [1:28:19<08:28, 72.64s/it]"
     ]
    },
    {
     "name": "stdout",
     "output_type": "stream",
     "text": [
      "2021-05-06 13:42:05,814 - modnet - INFO - Preset #54 fitting finished, loss: 0.33046695590019226\n"
     ]
    },
    {
     "name": "stderr",
     "output_type": "stream",
     "text": [
      " 98%|█████████▊| 354/360 [1:28:44<05:51, 58.52s/it]"
     ]
    },
    {
     "name": "stdout",
     "output_type": "stream",
     "text": [
      "2021-05-06 13:43:12,332 - modnet - INFO - Preset #55 fitting finished, loss: 0.32694836854934695\n"
     ]
    },
    {
     "name": "stderr",
     "output_type": "stream",
     "text": [
      " 99%|█████████▊| 355/360 [1:29:51<05:04, 60.96s/it]"
     ]
    },
    {
     "name": "stdout",
     "output_type": "stream",
     "text": [
      "2021-05-06 13:43:28,790 - modnet - INFO - Preset #61 fitting finished, loss: 0.31803677082061765\n"
     ]
    },
    {
     "name": "stderr",
     "output_type": "stream",
     "text": [
      " 99%|█████████▉| 356/360 [1:30:07<03:10, 47.52s/it]"
     ]
    },
    {
     "name": "stdout",
     "output_type": "stream",
     "text": [
      "2021-05-06 13:43:29,170 - modnet - INFO - Preset #54 fitting finished, loss: 0.3258848488330841\n"
     ]
    },
    {
     "name": "stderr",
     "output_type": "stream",
     "text": [
      " 99%|█████████▉| 357/360 [1:30:07<01:40, 33.39s/it]"
     ]
    },
    {
     "name": "stdout",
     "output_type": "stream",
     "text": [
      "2021-05-06 13:47:14,373 - modnet - INFO - Preset #55 fitting finished, loss: 0.35831303596496583\n"
     ]
    },
    {
     "name": "stderr",
     "output_type": "stream",
     "text": [
      " 99%|█████████▉| 358/360 [1:33:53<03:01, 90.92s/it]"
     ]
    },
    {
     "name": "stdout",
     "output_type": "stream",
     "text": [
      "2021-05-06 13:47:30,580 - modnet - INFO - Preset #55 fitting finished, loss: 0.30085729956626894\n"
     ]
    },
    {
     "name": "stderr",
     "output_type": "stream",
     "text": [
      "100%|█████████▉| 359/360 [1:34:09<01:08, 68.55s/it]"
     ]
    },
    {
     "name": "stdout",
     "output_type": "stream",
     "text": [
      "2021-05-06 13:48:21,634 - modnet - INFO - Preset #55 fitting finished, loss: 0.30660022497177125\n"
     ]
    },
    {
     "name": "stderr",
     "output_type": "stream",
     "text": [
      "100%|██████████| 360/360 [1:35:00<00:00, 15.84s/it]\n"
     ]
    },
    {
     "name": "stdout",
     "output_type": "stream",
     "text": [
      "2021-05-06 13:48:27,707 - modnet - INFO - Preset #51 resulted in lowest validation loss with params {'train_data': <modnet.preprocessing.MODData object at 0x7f56cc8578e0>, 'targets': [[['difference']]], 'weights': {'difference': 1}, 'n_models': 5, 'num_classes': {'difference': 0}, 'n_feat': 256, 'num_neurons': [[128], [64], [32], [32]], 'lr': 0.005, 'batch_size': 64, 'epochs': 1000, 'loss': 'mae', 'act': 'elu', 'out_act': 'linear', 'callbacks': [<tensorflow.python.keras.callbacks.EarlyStopping object at 0x7f56ce4a7d30>], 'preset_id': 50, 'fold_id': 1, 'verbose': 0, 'val_data': <modnet.preprocessing.MODData object at 0x7f56cf001ca0>}\n",
      "mae\n",
      "0.3238936006044742\n",
      "uncertainty\n",
      "0.22603963\n",
      "2021-05-06 13:49:04,883 - modnet - INFO - Loaded <modnet.preprocessing.MODData object at 0x7f56c0e710d0> object, created with modnet version 0.1.9\n",
      "2021-05-06 13:49:10,387 - modnet - INFO - Proceeding with grid search: archs: [(64, [[128], [32], [8], [8]]), (64, [[64], [32], [8], [8]]), (64, [[32], [16], [8], [8]]), (128, [[256], [64], [16], [16]]), (128, [[128], [64], [16], [16]]), (128, [[64], [32], [16], [16]]), (256, [[512], [128], [32], [32]]), (256, [[256], [128], [32], [32]]), (256, [[128], [64], [32], [32]]), (512, [[1024], [256], [64], [64]]), (512, [[512], [256], [64], [64]]), (512, [[256], [128], [64], [64]])], batch sizes: [64], learning_rates: [0.001, 0.005, 0.01]\n",
      "2021-05-06 13:49:20,733 - modnet - INFO - Multiprocessing on 64 cores. Total of 128 cores available.\n"
     ]
    },
    {
     "name": "stderr",
     "output_type": "stream",
     "text": [
      "  0%|          | 0/360 [00:00<?, ?it/s]"
     ]
    },
    {
     "name": "stdout",
     "output_type": "stream",
     "text": [
      "2021-05-06 14:00:31,644 - modnet - INFO - Preset #10 fitting finished, loss: 0.370359206199646\n"
     ]
    },
    {
     "name": "stderr",
     "output_type": "stream",
     "text": [
      "  0%|          | 1/360 [11:11<66:58:32, 671.62s/it]"
     ]
    },
    {
     "name": "stdout",
     "output_type": "stream",
     "text": [
      "2021-05-06 14:00:39,605 - modnet - INFO - Preset #10 fitting finished, loss: 0.3219422698020935\n"
     ]
    },
    {
     "name": "stderr",
     "output_type": "stream",
     "text": [
      "  1%|          | 2/360 [11:19<46:59:37, 472.56s/it]"
     ]
    },
    {
     "name": "stdout",
     "output_type": "stream",
     "text": [
      "2021-05-06 14:00:46,797 - modnet - INFO - Preset #5 fitting finished, loss: 0.33488222360610964\n"
     ]
    },
    {
     "name": "stderr",
     "output_type": "stream",
     "text": [
      "  1%|          | 3/360 [11:26<33:00:31, 332.86s/it]"
     ]
    },
    {
     "name": "stdout",
     "output_type": "stream",
     "text": [
      "2021-05-06 14:01:04,335 - modnet - INFO - Preset #4 fitting finished, loss: 0.32302783727645873\n"
     ]
    },
    {
     "name": "stderr",
     "output_type": "stream",
     "text": [
      "  1%|          | 4/360 [11:43<23:33:14, 238.19s/it]"
     ]
    },
    {
     "name": "stdout",
     "output_type": "stream",
     "text": [
      "2021-05-06 14:01:04,659 - modnet - INFO - Preset #2 fitting finished, loss: 0.3690279066562653\n"
     ]
    },
    {
     "name": "stderr",
     "output_type": "stream",
     "text": [
      "  1%|▏         | 5/360 [11:44<16:28:05, 167.00s/it]"
     ]
    },
    {
     "name": "stdout",
     "output_type": "stream",
     "text": [
      "2021-05-06 14:01:06,417 - modnet - INFO - Preset #3 fitting finished, loss: 0.28486862778663635\n"
     ]
    },
    {
     "name": "stderr",
     "output_type": "stream",
     "text": [
      "  2%|▏         | 6/360 [11:45<11:31:46, 117.25s/it]"
     ]
    },
    {
     "name": "stdout",
     "output_type": "stream",
     "text": [
      "2021-05-06 14:01:09,320 - modnet - INFO - Preset #5 fitting finished, loss: 0.40100821256637575\n"
     ]
    },
    {
     "name": "stderr",
     "output_type": "stream",
     "text": [
      "  2%|▏         | 7/360 [11:49<8:09:57, 83.28s/it]  "
     ]
    },
    {
     "name": "stdout",
     "output_type": "stream",
     "text": [
      "2021-05-06 14:01:11,371 - modnet - INFO - Preset #8 fitting finished, loss: 0.3954978048801422\n"
     ]
    },
    {
     "name": "stderr",
     "output_type": "stream",
     "text": [
      "  2%|▏         | 8/360 [11:51<5:44:01, 58.64s/it]"
     ]
    },
    {
     "name": "stdout",
     "output_type": "stream",
     "text": [
      "2021-05-06 14:01:15,718 - modnet - INFO - Preset #4 fitting finished, loss: 0.2762656331062317\n"
     ]
    },
    {
     "name": "stderr",
     "output_type": "stream",
     "text": [
      "  2%|▎         | 9/360 [11:55<4:07:55, 42.38s/it]"
     ]
    },
    {
     "name": "stdout",
     "output_type": "stream",
     "text": [
      "2021-05-06 14:01:16,322 - modnet - INFO - Preset #11 fitting finished, loss: 0.39794561862945554\n"
     ]
    },
    {
     "name": "stderr",
     "output_type": "stream",
     "text": [
      "  3%|▎         | 10/360 [11:56<2:54:13, 29.87s/it]"
     ]
    },
    {
     "name": "stdout",
     "output_type": "stream",
     "text": [
      "2021-05-06 14:01:17,173 - modnet - INFO - Preset #5 fitting finished, loss: 0.35015036463737487\n"
     ]
    },
    {
     "name": "stderr",
     "output_type": "stream",
     "text": [
      "  3%|▎         | 11/360 [11:57<2:03:07, 21.17s/it]"
     ]
    },
    {
     "name": "stdout",
     "output_type": "stream",
     "text": [
      "2021-05-06 14:01:23,557 - modnet - INFO - Preset #11 fitting finished, loss: 0.3327739298343658\n"
     ]
    },
    {
     "name": "stderr",
     "output_type": "stream",
     "text": [
      "  3%|▎         | 12/360 [12:03<1:36:18, 16.61s/it]"
     ]
    },
    {
     "name": "stdout",
     "output_type": "stream",
     "text": [
      "2021-05-06 14:01:25,703 - modnet - INFO - Preset #3 fitting finished, loss: 0.39428080916404723\n"
     ]
    },
    {
     "name": "stderr",
     "output_type": "stream",
     "text": [
      "  4%|▎         | 13/360 [12:05<1:11:28, 12.36s/it]"
     ]
    },
    {
     "name": "stdout",
     "output_type": "stream",
     "text": [
      "2021-05-06 14:01:26,353 - modnet - INFO - Preset #2 fitting finished, loss: 0.40071969032287597\n"
     ]
    },
    {
     "name": "stderr",
     "output_type": "stream",
     "text": [
      "  4%|▍         | 14/360 [12:06<51:11,  8.88s/it]  "
     ]
    },
    {
     "name": "stdout",
     "output_type": "stream",
     "text": [
      "2021-05-06 14:01:28,084 - modnet - INFO - Preset #11 fitting finished, loss: 0.3334061622619629\n"
     ]
    },
    {
     "name": "stderr",
     "output_type": "stream",
     "text": [
      "  4%|▍         | 15/360 [12:07<38:31,  6.70s/it]"
     ]
    },
    {
     "name": "stdout",
     "output_type": "stream",
     "text": [
      "2021-05-06 14:01:31,063 - modnet - INFO - Preset #10 fitting finished, loss: 0.3911419749259949\n"
     ]
    },
    {
     "name": "stderr",
     "output_type": "stream",
     "text": [
      "  4%|▍         | 16/360 [12:10<31:52,  5.56s/it]"
     ]
    },
    {
     "name": "stdout",
     "output_type": "stream",
     "text": [
      "2021-05-06 14:01:31,553 - modnet - INFO - Preset #4 fitting finished, loss: 0.3239051103591919\n"
     ]
    },
    {
     "name": "stderr",
     "output_type": "stream",
     "text": [
      "  5%|▍         | 17/360 [12:11<23:29,  4.11s/it]"
     ]
    },
    {
     "name": "stdout",
     "output_type": "stream",
     "text": [
      "2021-05-06 14:01:34,526 - modnet - INFO - Preset #4 fitting finished, loss: 0.3664381384849548\n"
     ]
    },
    {
     "name": "stderr",
     "output_type": "stream",
     "text": [
      "  5%|▌         | 18/360 [12:14<21:14,  3.73s/it]"
     ]
    },
    {
     "name": "stdout",
     "output_type": "stream",
     "text": [
      "2021-05-06 14:01:39,438 - modnet - INFO - Preset #3 fitting finished, loss: 0.4039079248905182\n"
     ]
    },
    {
     "name": "stderr",
     "output_type": "stream",
     "text": [
      "  5%|▌         | 19/360 [12:19<22:49,  4.02s/it]"
     ]
    },
    {
     "name": "stdout",
     "output_type": "stream",
     "text": [
      "2021-05-06 14:01:44,229 - modnet - INFO - Preset #4 fitting finished, loss: 0.3951278209686279\n"
     ]
    },
    {
     "name": "stderr",
     "output_type": "stream",
     "text": [
      "  6%|▌         | 20/360 [12:24<24:34,  4.34s/it]"
     ]
    },
    {
     "name": "stdout",
     "output_type": "stream",
     "text": [
      "2021-05-06 14:01:44,889 - modnet - INFO - Preset #2 fitting finished, loss: 0.3261027693748474\n"
     ]
    },
    {
     "name": "stderr",
     "output_type": "stream",
     "text": [
      "  6%|▌         | 21/360 [12:24<18:31,  3.28s/it]"
     ]
    },
    {
     "name": "stdout",
     "output_type": "stream",
     "text": [
      "2021-05-06 14:01:52,189 - modnet - INFO - Preset #11 fitting finished, loss: 0.29026073813438413\n"
     ]
    },
    {
     "name": "stderr",
     "output_type": "stream",
     "text": [
      "  6%|▌         | 22/360 [12:32<25:11,  4.47s/it]"
     ]
    },
    {
     "name": "stdout",
     "output_type": "stream",
     "text": [
      "2021-05-06 14:01:55,923 - modnet - INFO - Preset #5 fitting finished, loss: 0.33315088748931887\n"
     ]
    },
    {
     "name": "stderr",
     "output_type": "stream",
     "text": [
      "  6%|▋         | 23/360 [12:35<23:49,  4.24s/it]"
     ]
    },
    {
     "name": "stdout",
     "output_type": "stream",
     "text": [
      "2021-05-06 14:02:06,761 - modnet - INFO - Preset #5 fitting finished, loss: 0.2764085829257965\n"
     ]
    },
    {
     "name": "stderr",
     "output_type": "stream",
     "text": [
      "  7%|▋         | 24/360 [12:46<34:51,  6.23s/it]"
     ]
    },
    {
     "name": "stdout",
     "output_type": "stream",
     "text": [
      "2021-05-06 14:02:12,457 - modnet - INFO - Preset #10 fitting finished, loss: 0.35117138624191285\n"
     ]
    },
    {
     "name": "stderr",
     "output_type": "stream",
     "text": [
      "  7%|▋         | 25/360 [12:52<33:47,  6.05s/it]"
     ]
    },
    {
     "name": "stdout",
     "output_type": "stream",
     "text": [
      "2021-05-06 14:02:13,280 - modnet - INFO - Preset #3 fitting finished, loss: 0.3284640073776245\n"
     ]
    },
    {
     "name": "stderr",
     "output_type": "stream",
     "text": [
      "  7%|▋         | 26/360 [12:53<24:59,  4.49s/it]"
     ]
    },
    {
     "name": "stdout",
     "output_type": "stream",
     "text": [
      "2021-05-06 14:02:16,130 - modnet - INFO - Preset #10 fitting finished, loss: 0.27928171753883363\n"
     ]
    },
    {
     "name": "stderr",
     "output_type": "stream",
     "text": [
      "  8%|▊         | 27/360 [12:55<21:49,  3.93s/it]"
     ]
    },
    {
     "name": "stdout",
     "output_type": "stream",
     "text": [
      "2021-05-06 14:02:16,636 - modnet - INFO - Preset #11 fitting finished, loss: 0.3647412359714508\n"
     ]
    },
    {
     "name": "stderr",
     "output_type": "stream",
     "text": [
      "  8%|▊         | 28/360 [12:56<16:44,  3.03s/it]"
     ]
    },
    {
     "name": "stdout",
     "output_type": "stream",
     "text": [
      "2021-05-06 14:02:17,883 - modnet - INFO - Preset #9 fitting finished, loss: 0.3711084187030792\n"
     ]
    },
    {
     "name": "stderr",
     "output_type": "stream",
     "text": [
      "  8%|▊         | 29/360 [12:57<13:30,  2.45s/it]"
     ]
    },
    {
     "name": "stdout",
     "output_type": "stream",
     "text": [
      "2021-05-06 14:02:21,299 - modnet - INFO - Preset #8 fitting finished, loss: 0.35759381055831907\n"
     ]
    },
    {
     "name": "stderr",
     "output_type": "stream",
     "text": [
      "  8%|▊         | 30/360 [13:00<14:06,  2.56s/it]"
     ]
    },
    {
     "name": "stdout",
     "output_type": "stream",
     "text": [
      "2021-05-06 14:02:21,825 - modnet - INFO - Preset #9 fitting finished, loss: 0.28359609842300415\n"
     ]
    },
    {
     "name": "stderr",
     "output_type": "stream",
     "text": [
      "  9%|▊         | 31/360 [13:01<11:45,  2.14s/it]"
     ]
    },
    {
     "name": "stdout",
     "output_type": "stream",
     "text": [
      "2021-05-06 14:02:24,852 - modnet - INFO - Preset #8 fitting finished, loss: 0.3626273274421692\n"
     ]
    },
    {
     "name": "stderr",
     "output_type": "stream",
     "text": [
      "  9%|▉         | 32/360 [13:04<12:54,  2.36s/it]"
     ]
    },
    {
     "name": "stdout",
     "output_type": "stream",
     "text": [
      "2021-05-06 14:02:39,097 - modnet - INFO - Preset #0 fitting finished, loss: 0.42187145352363586\n"
     ]
    },
    {
     "name": "stderr",
     "output_type": "stream",
     "text": [
      "  9%|▉         | 33/360 [13:19<33:54,  6.22s/it]"
     ]
    },
    {
     "name": "stdout",
     "output_type": "stream",
     "text": [
      "2021-05-06 14:02:40,735 - modnet - INFO - Preset #2 fitting finished, loss: 0.28331400752067565\n"
     ]
    },
    {
     "name": "stderr",
     "output_type": "stream",
     "text": [
      "  9%|▉         | 34/360 [13:21<25:56,  4.77s/it]"
     ]
    },
    {
     "name": "stdout",
     "output_type": "stream",
     "text": [
      "2021-05-06 14:02:42,137 - modnet - INFO - Preset #9 fitting finished, loss: 0.3651317298412323\n"
     ]
    },
    {
     "name": "stderr",
     "output_type": "stream",
     "text": [
      " 10%|▉         | 35/360 [13:21<18:31,  3.42s/it]"
     ]
    },
    {
     "name": "stdout",
     "output_type": "stream",
     "text": [
      "2021-05-06 14:02:51,412 - modnet - INFO - Preset #9 fitting finished, loss: 0.3532568395137787\n"
     ]
    },
    {
     "name": "stderr",
     "output_type": "stream",
     "text": [
      " 10%|█         | 36/360 [13:31<28:27,  5.27s/it]"
     ]
    },
    {
     "name": "stdout",
     "output_type": "stream",
     "text": [
      "2021-05-06 14:02:55,945 - modnet - INFO - Preset #8 fitting finished, loss: 0.33663893342018125\n"
     ]
    },
    {
     "name": "stderr",
     "output_type": "stream",
     "text": [
      " 10%|█         | 37/360 [13:35<26:53,  4.99s/it]"
     ]
    },
    {
     "name": "stdout",
     "output_type": "stream",
     "text": [
      "2021-05-06 14:02:58,087 - modnet - INFO - Preset #0 fitting finished, loss: 0.3588249206542969\n"
     ]
    },
    {
     "name": "stderr",
     "output_type": "stream",
     "text": [
      " 11%|█         | 38/360 [13:37<22:17,  4.15s/it]"
     ]
    },
    {
     "name": "stdout",
     "output_type": "stream",
     "text": [
      "2021-05-06 14:03:03,178 - modnet - INFO - Preset #2 fitting finished, loss: 0.3653754711151123\n"
     ]
    },
    {
     "name": "stderr",
     "output_type": "stream",
     "text": [
      " 11%|█         | 39/360 [13:42<23:17,  4.35s/it]"
     ]
    },
    {
     "name": "stdout",
     "output_type": "stream",
     "text": [
      "2021-05-06 14:03:07,861 - modnet - INFO - Preset #1 fitting finished, loss: 0.4090220332145691\n"
     ]
    },
    {
     "name": "stderr",
     "output_type": "stream",
     "text": [
      " 11%|█         | 40/360 [13:47<24:38,  4.62s/it]"
     ]
    },
    {
     "name": "stdout",
     "output_type": "stream",
     "text": [
      "2021-05-06 14:03:16,613 - modnet - INFO - Preset #6 fitting finished, loss: 0.4223088562488556\n"
     ]
    },
    {
     "name": "stderr",
     "output_type": "stream",
     "text": [
      " 11%|█▏        | 41/360 [13:56<31:09,  5.86s/it]"
     ]
    },
    {
     "name": "stdout",
     "output_type": "stream",
     "text": [
      "2021-05-06 14:03:17,345 - modnet - INFO - Preset #9 fitting finished, loss: 0.40008373856544494\n"
     ]
    },
    {
     "name": "stderr",
     "output_type": "stream",
     "text": [
      " 12%|█▏        | 42/360 [13:57<23:04,  4.35s/it]"
     ]
    },
    {
     "name": "stdout",
     "output_type": "stream",
     "text": [
      "2021-05-06 14:03:18,182 - modnet - INFO - Preset #3 fitting finished, loss: 0.3599434971809387\n"
     ]
    },
    {
     "name": "stderr",
     "output_type": "stream",
     "text": [
      " 12%|█▏        | 43/360 [13:58<17:07,  3.24s/it]"
     ]
    },
    {
     "name": "stdout",
     "output_type": "stream",
     "text": [
      "2021-05-06 14:03:30,942 - modnet - INFO - Preset #1 fitting finished, loss: 0.4445589303970337\n"
     ]
    },
    {
     "name": "stderr",
     "output_type": "stream",
     "text": [
      " 12%|█▏        | 44/360 [14:10<31:51,  6.05s/it]"
     ]
    },
    {
     "name": "stdout",
     "output_type": "stream",
     "text": [
      "2021-05-06 14:03:31,585 - modnet - INFO - Preset #12 fitting finished, loss: 0.32712206840515134\n"
     ]
    },
    {
     "name": "stderr",
     "output_type": "stream",
     "text": [
      " 12%|█▎        | 45/360 [14:11<24:08,  4.60s/it]"
     ]
    },
    {
     "name": "stdout",
     "output_type": "stream",
     "text": [
      "2021-05-06 14:03:32,644 - modnet - INFO - Preset #6 fitting finished, loss: 0.39116269946098325\n"
     ]
    },
    {
     "name": "stderr",
     "output_type": "stream",
     "text": [
      " 13%|█▎        | 46/360 [14:12<18:11,  3.48s/it]"
     ]
    },
    {
     "name": "stdout",
     "output_type": "stream",
     "text": [
      "2021-05-06 14:03:35,440 - modnet - INFO - Preset #8 fitting finished, loss: 0.28726622462272644\n"
     ]
    },
    {
     "name": "stderr",
     "output_type": "stream",
     "text": [
      " 13%|█▎        | 47/360 [14:15<16:38,  3.19s/it]"
     ]
    },
    {
     "name": "stdout",
     "output_type": "stream",
     "text": [
      "2021-05-06 14:03:36,951 - modnet - INFO - Preset #12 fitting finished, loss: 0.43264920115470884\n"
     ]
    },
    {
     "name": "stderr",
     "output_type": "stream",
     "text": [
      " 13%|█▎        | 48/360 [14:16<14:01,  2.70s/it]"
     ]
    },
    {
     "name": "stdout",
     "output_type": "stream",
     "text": [
      "2021-05-06 14:03:45,683 - modnet - INFO - Preset #0 fitting finished, loss: 0.3939497709274292\n"
     ]
    },
    {
     "name": "stderr",
     "output_type": "stream",
     "text": [
      " 14%|█▎        | 49/360 [14:25<23:26,  4.52s/it]"
     ]
    },
    {
     "name": "stdout",
     "output_type": "stream",
     "text": [
      "2021-05-06 14:03:47,332 - modnet - INFO - Preset #7 fitting finished, loss: 0.31492097973823546\n"
     ]
    },
    {
     "name": "stderr",
     "output_type": "stream",
     "text": [
      " 14%|█▍        | 50/360 [14:27<19:03,  3.69s/it]"
     ]
    },
    {
     "name": "stdout",
     "output_type": "stream",
     "text": [
      "2021-05-06 14:03:50,355 - modnet - INFO - Preset #1 fitting finished, loss: 0.4017065167427063\n"
     ]
    },
    {
     "name": "stderr",
     "output_type": "stream",
     "text": [
      " 14%|█▍        | 51/360 [14:30<17:52,  3.47s/it]"
     ]
    },
    {
     "name": "stdout",
     "output_type": "stream",
     "text": [
      "2021-05-06 14:03:52,127 - modnet - INFO - Preset #1 fitting finished, loss: 0.36505975723266604\n"
     ]
    },
    {
     "name": "stderr",
     "output_type": "stream",
     "text": [
      " 14%|█▍        | 52/360 [14:32<15:11,  2.96s/it]"
     ]
    },
    {
     "name": "stdout",
     "output_type": "stream",
     "text": [
      "2021-05-06 14:04:04,708 - modnet - INFO - Preset #0 fitting finished, loss: 0.4244333148002625\n"
     ]
    },
    {
     "name": "stderr",
     "output_type": "stream",
     "text": [
      " 15%|█▍        | 53/360 [14:44<30:01,  5.87s/it]"
     ]
    },
    {
     "name": "stdout",
     "output_type": "stream",
     "text": [
      "2021-05-06 14:04:06,264 - modnet - INFO - Preset #0 fitting finished, loss: 0.3043255388736725\n"
     ]
    },
    {
     "name": "stderr",
     "output_type": "stream",
     "text": [
      " 15%|█▌        | 54/360 [14:46<23:26,  4.60s/it]"
     ]
    },
    {
     "name": "stdout",
     "output_type": "stream",
     "text": [
      "2021-05-06 14:04:11,344 - modnet - INFO - Preset #7 fitting finished, loss: 0.3854396343231201\n"
     ]
    },
    {
     "name": "stderr",
     "output_type": "stream",
     "text": [
      " 15%|█▌        | 55/360 [14:51<24:11,  4.76s/it]"
     ]
    },
    {
     "name": "stdout",
     "output_type": "stream",
     "text": [
      "2021-05-06 14:04:16,088 - modnet - INFO - Preset #6 fitting finished, loss: 0.3140463292598724\n"
     ]
    },
    {
     "name": "stderr",
     "output_type": "stream",
     "text": [
      " 16%|█▌        | 56/360 [14:55<23:43,  4.68s/it]"
     ]
    },
    {
     "name": "stdout",
     "output_type": "stream",
     "text": [
      "2021-05-06 14:04:20,110 - modnet - INFO - Preset #6 fitting finished, loss: 0.41142540574073794\n"
     ]
    },
    {
     "name": "stderr",
     "output_type": "stream",
     "text": [
      " 16%|█▌        | 57/360 [15:00<22:47,  4.51s/it]"
     ]
    },
    {
     "name": "stdout",
     "output_type": "stream",
     "text": [
      "2021-05-06 14:04:30,266 - modnet - INFO - Preset #7 fitting finished, loss: 0.4381532549858093\n"
     ]
    },
    {
     "name": "stderr",
     "output_type": "stream",
     "text": [
      " 16%|█▌        | 58/360 [15:10<31:13,  6.20s/it]"
     ]
    },
    {
     "name": "stdout",
     "output_type": "stream",
     "text": [
      "2021-05-06 14:04:37,348 - modnet - INFO - Preset #7 fitting finished, loss: 0.43927512168884275\n"
     ]
    },
    {
     "name": "stderr",
     "output_type": "stream",
     "text": [
      " 16%|█▋        | 59/360 [15:17<32:24,  6.46s/it]"
     ]
    },
    {
     "name": "stdout",
     "output_type": "stream",
     "text": [
      "2021-05-06 14:04:39,899 - modnet - INFO - Preset #7 fitting finished, loss: 0.4101286232471466\n"
     ]
    },
    {
     "name": "stderr",
     "output_type": "stream",
     "text": [
      " 17%|█▋        | 60/360 [15:19<26:17,  5.26s/it]"
     ]
    },
    {
     "name": "stdout",
     "output_type": "stream",
     "text": [
      "2021-05-06 14:04:43,187 - modnet - INFO - Preset #12 fitting finished, loss: 0.40072070956230166\n"
     ]
    },
    {
     "name": "stderr",
     "output_type": "stream",
     "text": [
      " 17%|█▋        | 61/360 [15:23<24:32,  4.93s/it]"
     ]
    },
    {
     "name": "stdout",
     "output_type": "stream",
     "text": [
      "2021-05-06 14:04:46,450 - modnet - INFO - Preset #6 fitting finished, loss: 0.4171957790851593\n"
     ]
    },
    {
     "name": "stderr",
     "output_type": "stream",
     "text": [
      " 17%|█▋        | 62/360 [15:26<21:08,  4.26s/it]"
     ]
    },
    {
     "name": "stdout",
     "output_type": "stream",
     "text": [
      "2021-05-06 14:04:50,077 - modnet - INFO - Preset #12 fitting finished, loss: 0.44580830335617067\n"
     ]
    },
    {
     "name": "stderr",
     "output_type": "stream",
     "text": [
      " 18%|█▊        | 63/360 [15:30<20:05,  4.06s/it]"
     ]
    },
    {
     "name": "stdout",
     "output_type": "stream",
     "text": [
      "2021-05-06 14:04:56,526 - modnet - INFO - Preset #1 fitting finished, loss: 0.3067361354827881\n"
     ]
    },
    {
     "name": "stderr",
     "output_type": "stream",
     "text": [
      " 18%|█▊        | 64/360 [15:36<23:28,  4.76s/it]"
     ]
    },
    {
     "name": "stdout",
     "output_type": "stream",
     "text": [
      "2021-05-06 14:06:29,973 - modnet - INFO - Preset #14 fitting finished, loss: 0.3576988458633423\n"
     ]
    },
    {
     "name": "stderr",
     "output_type": "stream",
     "text": [
      " 18%|█▊        | 65/360 [17:09<2:34:00, 31.32s/it]"
     ]
    },
    {
     "name": "stdout",
     "output_type": "stream",
     "text": [
      "2021-05-06 14:06:45,706 - modnet - INFO - Preset #16 fitting finished, loss: 0.35631958246231077\n"
     ]
    },
    {
     "name": "stderr",
     "output_type": "stream",
     "text": [
      " 18%|█▊        | 66/360 [17:25<2:10:15, 26.58s/it]"
     ]
    },
    {
     "name": "stdout",
     "output_type": "stream",
     "text": [
      "2021-05-06 14:06:53,975 - modnet - INFO - Preset #16 fitting finished, loss: 0.39488701820373534\n"
     ]
    },
    {
     "name": "stderr",
     "output_type": "stream",
     "text": [
      " 19%|█▊        | 67/360 [17:33<1:43:15, 21.14s/it]"
     ]
    },
    {
     "name": "stdout",
     "output_type": "stream",
     "text": [
      "2021-05-06 14:07:00,143 - modnet - INFO - Preset #17 fitting finished, loss: 0.3635590970516205\n"
     ]
    },
    {
     "name": "stderr",
     "output_type": "stream",
     "text": [
      " 19%|█▉        | 68/360 [17:39<1:20:32, 16.55s/it]"
     ]
    },
    {
     "name": "stdout",
     "output_type": "stream",
     "text": [
      "2021-05-06 14:07:00,506 - modnet - INFO - Preset #22 fitting finished, loss: 0.35552515387535094\n"
     ]
    },
    {
     "name": "stderr",
     "output_type": "stream",
     "text": [
      " 19%|█▉        | 69/360 [17:40<57:40, 11.89s/it]  "
     ]
    },
    {
     "name": "stdout",
     "output_type": "stream",
     "text": [
      "2021-05-06 14:07:02,446 - modnet - INFO - Preset #17 fitting finished, loss: 0.3770937740802765\n"
     ]
    },
    {
     "name": "stderr",
     "output_type": "stream",
     "text": [
      " 19%|█▉        | 70/360 [17:42<42:39,  8.82s/it]"
     ]
    },
    {
     "name": "stdout",
     "output_type": "stream",
     "text": [
      "2021-05-06 14:07:05,203 - modnet - INFO - Preset #14 fitting finished, loss: 0.29017074704170226\n"
     ]
    },
    {
     "name": "stderr",
     "output_type": "stream",
     "text": [
      " 20%|█▉        | 71/360 [17:44<33:20,  6.92s/it]"
     ]
    },
    {
     "name": "stdout",
     "output_type": "stream",
     "text": [
      "2021-05-06 14:07:05,997 - modnet - INFO - Preset #16 fitting finished, loss: 0.34480213522911074\n"
     ]
    },
    {
     "name": "stderr",
     "output_type": "stream",
     "text": [
      " 20%|██        | 72/360 [17:45<24:42,  5.15s/it]"
     ]
    },
    {
     "name": "stdout",
     "output_type": "stream",
     "text": [
      "2021-05-06 14:07:14,493 - modnet - INFO - Preset #15 fitting finished, loss: 0.39611517190933226\n"
     ]
    },
    {
     "name": "stderr",
     "output_type": "stream",
     "text": [
      " 20%|██        | 73/360 [17:54<29:28,  6.16s/it]"
     ]
    },
    {
     "name": "stdout",
     "output_type": "stream",
     "text": [
      "2021-05-06 14:07:21,759 - modnet - INFO - Preset #15 fitting finished, loss: 0.3763297080993652\n"
     ]
    },
    {
     "name": "stderr",
     "output_type": "stream",
     "text": [
      " 21%|██        | 74/360 [18:01<31:11,  6.55s/it]"
     ]
    },
    {
     "name": "stdout",
     "output_type": "stream",
     "text": [
      "2021-05-06 14:07:23,541 - modnet - INFO - Preset #14 fitting finished, loss: 0.37692803144454956\n"
     ]
    },
    {
     "name": "stderr",
     "output_type": "stream",
     "text": [
      " 21%|██        | 75/360 [18:03<24:02,  5.06s/it]"
     ]
    },
    {
     "name": "stdout",
     "output_type": "stream",
     "text": [
      "2021-05-06 14:07:28,595 - modnet - INFO - Preset #17 fitting finished, loss: 0.39666426181793213\n"
     ]
    },
    {
     "name": "stderr",
     "output_type": "stream",
     "text": [
      " 21%|██        | 76/360 [18:08<23:43,  5.01s/it]"
     ]
    },
    {
     "name": "stdout",
     "output_type": "stream",
     "text": [
      "2021-05-06 14:07:31,236 - modnet - INFO - Preset #23 fitting finished, loss: 0.34278819561004636\n"
     ]
    },
    {
     "name": "stderr",
     "output_type": "stream",
     "text": [
      " 21%|██▏       | 77/360 [18:11<20:30,  4.35s/it]"
     ]
    },
    {
     "name": "stdout",
     "output_type": "stream",
     "text": [
      "2021-05-06 14:07:40,102 - modnet - INFO - Preset #15 fitting finished, loss: 0.2944772899150848\n"
     ]
    },
    {
     "name": "stderr",
     "output_type": "stream",
     "text": [
      " 22%|██▏       | 78/360 [18:19<26:45,  5.69s/it]"
     ]
    },
    {
     "name": "stdout",
     "output_type": "stream",
     "text": [
      "2021-05-06 14:07:51,647 - modnet - INFO - Preset #22 fitting finished, loss: 0.3330717921257019\n"
     ]
    },
    {
     "name": "stderr",
     "output_type": "stream",
     "text": [
      " 22%|██▏       | 79/360 [18:31<34:20,  7.33s/it]"
     ]
    },
    {
     "name": "stdout",
     "output_type": "stream",
     "text": [
      "2021-05-06 14:07:52,435 - modnet - INFO - Preset #14 fitting finished, loss: 0.4007530689239502\n"
     ]
    },
    {
     "name": "stderr",
     "output_type": "stream",
     "text": [
      " 22%|██▏       | 80/360 [18:32<25:37,  5.49s/it]"
     ]
    },
    {
     "name": "stdout",
     "output_type": "stream",
     "text": [
      "2021-05-06 14:07:53,101 - modnet - INFO - Preset #12 fitting finished, loss: 0.42795284390449523\n"
     ]
    },
    {
     "name": "stderr",
     "output_type": "stream",
     "text": [
      " 22%|██▎       | 81/360 [18:32<18:41,  4.02s/it]"
     ]
    },
    {
     "name": "stdout",
     "output_type": "stream",
     "text": [
      "2021-05-06 14:07:55,412 - modnet - INFO - Preset #18 fitting finished, loss: 0.41522226929664613\n"
     ]
    },
    {
     "name": "stderr",
     "output_type": "stream",
     "text": [
      " 23%|██▎       | 82/360 [18:35<16:03,  3.46s/it]"
     ]
    },
    {
     "name": "stdout",
     "output_type": "stream",
     "text": [
      "2021-05-06 14:07:57,113 - modnet - INFO - Preset #21 fitting finished, loss: 0.3260372281074524\n"
     ]
    },
    {
     "name": "stderr",
     "output_type": "stream",
     "text": [
      " 23%|██▎       | 83/360 [18:37<13:58,  3.03s/it]"
     ]
    },
    {
     "name": "stdout",
     "output_type": "stream",
     "text": [
      "2021-05-06 14:07:58,152 - modnet - INFO - Preset #15 fitting finished, loss: 0.34694610834121703\n"
     ]
    },
    {
     "name": "stderr",
     "output_type": "stream",
     "text": [
      " 23%|██▎       | 84/360 [18:37<10:48,  2.35s/it]"
     ]
    },
    {
     "name": "stdout",
     "output_type": "stream",
     "text": [
      "2021-05-06 14:08:00,970 - modnet - INFO - Preset #17 fitting finished, loss: 0.2826056659221649\n"
     ]
    },
    {
     "name": "stderr",
     "output_type": "stream",
     "text": [
      " 24%|██▎       | 85/360 [18:40<11:44,  2.56s/it]"
     ]
    },
    {
     "name": "stdout",
     "output_type": "stream",
     "text": [
      "2021-05-06 14:08:02,090 - modnet - INFO - Preset #19 fitting finished, loss: 0.34192838668823244\n"
     ]
    },
    {
     "name": "stderr",
     "output_type": "stream",
     "text": [
      " 24%|██▍       | 86/360 [18:41<09:39,  2.12s/it]"
     ]
    },
    {
     "name": "stdout",
     "output_type": "stream",
     "text": [
      "2021-05-06 14:08:04,927 - modnet - INFO - Preset #20 fitting finished, loss: 0.4081911027431488\n"
     ]
    },
    {
     "name": "stderr",
     "output_type": "stream",
     "text": [
      " 24%|██▍       | 87/360 [18:44<10:42,  2.35s/it]"
     ]
    },
    {
     "name": "stdout",
     "output_type": "stream",
     "text": [
      "2021-05-06 14:08:05,665 - modnet - INFO - Preset #14 fitting finished, loss: 0.372685980796814\n"
     ]
    },
    {
     "name": "stderr",
     "output_type": "stream",
     "text": [
      " 24%|██▍       | 88/360 [18:45<08:28,  1.87s/it]"
     ]
    },
    {
     "name": "stdout",
     "output_type": "stream",
     "text": [
      "2021-05-06 14:08:06,409 - modnet - INFO - Preset #19 fitting finished, loss: 0.2846502482891083\n"
     ]
    },
    {
     "name": "stderr",
     "output_type": "stream",
     "text": [
      " 25%|██▍       | 89/360 [18:46<07:22,  1.63s/it]"
     ]
    },
    {
     "name": "stdout",
     "output_type": "stream",
     "text": [
      "2021-05-06 14:08:07,487 - modnet - INFO - Preset #13 fitting finished, loss: 0.4577020287513733\n"
     ]
    },
    {
     "name": "stderr",
     "output_type": "stream",
     "text": [
      " 25%|██▌       | 90/360 [18:47<06:01,  1.34s/it]"
     ]
    },
    {
     "name": "stdout",
     "output_type": "stream",
     "text": [
      "2021-05-06 14:08:08,146 - modnet - INFO - Preset #23 fitting finished, loss: 0.33832592964172364\n"
     ]
    },
    {
     "name": "stderr",
     "output_type": "stream",
     "text": [
      " 25%|██▌       | 91/360 [18:47<05:01,  1.12s/it]"
     ]
    },
    {
     "name": "stdout",
     "output_type": "stream",
     "text": [
      "2021-05-06 14:08:08,754 - modnet - INFO - Preset #13 fitting finished, loss: 0.31354445219039917\n"
     ]
    },
    {
     "name": "stderr",
     "output_type": "stream",
     "text": [
      " 26%|██▌       | 92/360 [18:48<03:46,  1.18it/s]"
     ]
    },
    {
     "name": "stdout",
     "output_type": "stream",
     "text": [
      "2021-05-06 14:08:15,783 - modnet - INFO - Preset #16 fitting finished, loss: 0.3928150534629822\n"
     ]
    },
    {
     "name": "stderr",
     "output_type": "stream",
     "text": [
      " 26%|██▌       | 93/360 [18:56<13:47,  3.10s/it]"
     ]
    },
    {
     "name": "stdout",
     "output_type": "stream",
     "text": [
      "2021-05-06 14:08:17,340 - modnet - INFO - Preset #13 fitting finished, loss: 0.42140042781829834\n"
     ]
    },
    {
     "name": "stderr",
     "output_type": "stream",
     "text": [
      " 26%|██▌       | 94/360 [18:57<10:38,  2.40s/it]"
     ]
    },
    {
     "name": "stdout",
     "output_type": "stream",
     "text": [
      "2021-05-06 14:08:20,299 - modnet - INFO - Preset #19 fitting finished, loss: 0.32015361189842223\n"
     ]
    },
    {
     "name": "stderr",
     "output_type": "stream",
     "text": [
      " 26%|██▋       | 95/360 [19:00<11:19,  2.56s/it]"
     ]
    },
    {
     "name": "stdout",
     "output_type": "stream",
     "text": [
      "2021-05-06 14:08:31,253 - modnet - INFO - Preset #13 fitting finished, loss: 0.39661086797714235\n"
     ]
    },
    {
     "name": "stderr",
     "output_type": "stream",
     "text": [
      " 27%|██▋       | 96/360 [19:11<22:18,  5.07s/it]"
     ]
    },
    {
     "name": "stdout",
     "output_type": "stream",
     "text": [
      "2021-05-06 14:08:33,583 - modnet - INFO - Preset #20 fitting finished, loss: 0.3346494436264038\n"
     ]
    },
    {
     "name": "stderr",
     "output_type": "stream",
     "text": [
      " 27%|██▋       | 97/360 [19:13<18:44,  4.28s/it]"
     ]
    },
    {
     "name": "stdout",
     "output_type": "stream",
     "text": [
      "2021-05-06 14:08:35,060 - modnet - INFO - Preset #18 fitting finished, loss: 0.3531647861003876\n"
     ]
    },
    {
     "name": "stderr",
     "output_type": "stream",
     "text": [
      " 27%|██▋       | 98/360 [19:15<15:10,  3.48s/it]"
     ]
    },
    {
     "name": "stdout",
     "output_type": "stream",
     "text": [
      "2021-05-06 14:08:37,472 - modnet - INFO - Preset #18 fitting finished, loss: 0.288934326171875\n"
     ]
    },
    {
     "name": "stderr",
     "output_type": "stream",
     "text": [
      " 28%|██▊       | 99/360 [19:17<13:13,  3.04s/it]"
     ]
    },
    {
     "name": "stdout",
     "output_type": "stream",
     "text": [
      "2021-05-06 14:08:40,722 - modnet - INFO - Preset #16 fitting finished, loss: 0.27974202632904055\n"
     ]
    },
    {
     "name": "stderr",
     "output_type": "stream",
     "text": [
      " 28%|██▊       | 100/360 [19:20<13:49,  3.19s/it]"
     ]
    },
    {
     "name": "stdout",
     "output_type": "stream",
     "text": [
      "2021-05-06 14:08:42,295 - modnet - INFO - Preset #22 fitting finished, loss: 0.3132905960083008\n"
     ]
    },
    {
     "name": "stderr",
     "output_type": "stream",
     "text": [
      " 28%|██▊       | 101/360 [19:22<11:38,  2.70s/it]"
     ]
    },
    {
     "name": "stdout",
     "output_type": "stream",
     "text": [
      "2021-05-06 14:08:47,606 - modnet - INFO - Preset #20 fitting finished, loss: 0.33424139618873594\n"
     ]
    },
    {
     "name": "stderr",
     "output_type": "stream",
     "text": [
      " 28%|██▊       | 102/360 [19:27<15:06,  3.51s/it]"
     ]
    },
    {
     "name": "stdout",
     "output_type": "stream",
     "text": [
      "2021-05-06 14:08:53,653 - modnet - INFO - Preset #15 fitting finished, loss: 0.4103692054748535\n"
     ]
    },
    {
     "name": "stderr",
     "output_type": "stream",
     "text": [
      " 29%|██▊       | 103/360 [19:33<18:19,  4.28s/it]"
     ]
    },
    {
     "name": "stdout",
     "output_type": "stream",
     "text": [
      "2021-05-06 14:09:01,168 - modnet - INFO - Preset #22 fitting finished, loss: 0.33856393694877623\n"
     ]
    },
    {
     "name": "stderr",
     "output_type": "stream",
     "text": [
      " 29%|██▉       | 104/360 [19:41<22:39,  5.31s/it]"
     ]
    },
    {
     "name": "stdout",
     "output_type": "stream",
     "text": [
      "2021-05-06 14:09:02,314 - modnet - INFO - Preset #17 fitting finished, loss: 0.3295415699481964\n"
     ]
    },
    {
     "name": "stderr",
     "output_type": "stream",
     "text": [
      " 29%|██▉       | 105/360 [19:42<17:13,  4.05s/it]"
     ]
    },
    {
     "name": "stdout",
     "output_type": "stream",
     "text": [
      "2021-05-06 14:09:03,425 - modnet - INFO - Preset #22 fitting finished, loss: 0.3809845268726349\n"
     ]
    },
    {
     "name": "stderr",
     "output_type": "stream",
     "text": [
      " 29%|██▉       | 106/360 [19:43<13:29,  3.19s/it]"
     ]
    },
    {
     "name": "stdout",
     "output_type": "stream",
     "text": [
      "2021-05-06 14:09:06,400 - modnet - INFO - Preset #21 fitting finished, loss: 0.2835581421852112\n"
     ]
    },
    {
     "name": "stderr",
     "output_type": "stream",
     "text": [
      " 30%|██▉       | 107/360 [19:46<12:52,  3.05s/it]"
     ]
    },
    {
     "name": "stdout",
     "output_type": "stream",
     "text": [
      "2021-05-06 14:09:08,722 - modnet - INFO - Preset #20 fitting finished, loss: 0.27761557698249817\n"
     ]
    },
    {
     "name": "stderr",
     "output_type": "stream",
     "text": [
      " 30%|███       | 108/360 [19:48<11:57,  2.85s/it]"
     ]
    },
    {
     "name": "stdout",
     "output_type": "stream",
     "text": [
      "2021-05-06 14:09:09,690 - modnet - INFO - Preset #20 fitting finished, loss: 0.30896287560462954\n"
     ]
    },
    {
     "name": "stderr",
     "output_type": "stream",
     "text": [
      " 30%|███       | 109/360 [19:50<09:49,  2.35s/it]"
     ]
    },
    {
     "name": "stdout",
     "output_type": "stream",
     "text": [
      "2021-05-06 14:09:17,100 - modnet - INFO - Preset #21 fitting finished, loss: 0.3129136323928833\n"
     ]
    },
    {
     "name": "stderr",
     "output_type": "stream",
     "text": [
      " 31%|███       | 110/360 [19:57<15:37,  3.75s/it]"
     ]
    },
    {
     "name": "stdout",
     "output_type": "stream",
     "text": [
      "2021-05-06 14:09:19,361 - modnet - INFO - Preset #23 fitting finished, loss: 0.35276455283164976\n"
     ]
    },
    {
     "name": "stderr",
     "output_type": "stream",
     "text": [
      " 31%|███       | 111/360 [19:59<13:45,  3.31s/it]"
     ]
    },
    {
     "name": "stdout",
     "output_type": "stream",
     "text": [
      "2021-05-06 14:09:46,922 - modnet - INFO - Preset #18 fitting finished, loss: 0.3238386034965515\n"
     ]
    },
    {
     "name": "stderr",
     "output_type": "stream",
     "text": [
      " 31%|███       | 112/360 [20:27<43:48, 10.60s/it]"
     ]
    },
    {
     "name": "stdout",
     "output_type": "stream",
     "text": [
      "2021-05-06 14:09:49,650 - modnet - INFO - Preset #18 fitting finished, loss: 0.33370680809020997\n"
     ]
    },
    {
     "name": "stderr",
     "output_type": "stream",
     "text": [
      " 31%|███▏      | 113/360 [20:29<33:44,  8.20s/it]"
     ]
    },
    {
     "name": "stdout",
     "output_type": "stream",
     "text": [
      "2021-05-06 14:09:55,571 - modnet - INFO - Preset #23 fitting finished, loss: 0.29842027425765993\n"
     ]
    },
    {
     "name": "stderr",
     "output_type": "stream",
     "text": [
      " 32%|███▏      | 114/360 [20:35<30:43,  7.49s/it]"
     ]
    },
    {
     "name": "stdout",
     "output_type": "stream",
     "text": [
      "2021-05-06 14:10:00,300 - modnet - INFO - Preset #13 fitting finished, loss: 0.40785064697265627\n"
     ]
    },
    {
     "name": "stderr",
     "output_type": "stream",
     "text": [
      " 32%|███▏      | 115/360 [20:40<27:34,  6.75s/it]"
     ]
    },
    {
     "name": "stdout",
     "output_type": "stream",
     "text": [
      "2021-05-06 14:10:17,826 - modnet - INFO - Preset #21 fitting finished, loss: 0.4075267493724823\n"
     ]
    },
    {
     "name": "stderr",
     "output_type": "stream",
     "text": [
      " 32%|███▏      | 116/360 [20:57<40:18,  9.91s/it]"
     ]
    },
    {
     "name": "stdout",
     "output_type": "stream",
     "text": [
      "2021-05-06 14:10:23,538 - modnet - INFO - Preset #19 fitting finished, loss: 0.3970105409622192\n"
     ]
    },
    {
     "name": "stderr",
     "output_type": "stream",
     "text": [
      " 32%|███▎      | 117/360 [21:03<35:10,  8.68s/it]"
     ]
    },
    {
     "name": "stdout",
     "output_type": "stream",
     "text": [
      "2021-05-06 14:10:31,460 - modnet - INFO - Preset #23 fitting finished, loss: 0.4014263331890106\n"
     ]
    },
    {
     "name": "stderr",
     "output_type": "stream",
     "text": [
      " 33%|███▎      | 118/360 [21:11<33:57,  8.42s/it]"
     ]
    },
    {
     "name": "stdout",
     "output_type": "stream",
     "text": [
      "2021-05-06 14:10:39,860 - modnet - INFO - Preset #21 fitting finished, loss: 0.33357819318771365\n"
     ]
    },
    {
     "name": "stderr",
     "output_type": "stream",
     "text": [
      " 33%|███▎      | 119/360 [21:20<34:08,  8.50s/it]"
     ]
    },
    {
     "name": "stdout",
     "output_type": "stream",
     "text": [
      "2021-05-06 14:11:07,471 - modnet - INFO - Preset #19 fitting finished, loss: 0.355990469455719\n"
     ]
    },
    {
     "name": "stderr",
     "output_type": "stream",
     "text": [
      " 33%|███▎      | 120/360 [21:47<56:36, 14.15s/it]"
     ]
    },
    {
     "name": "stdout",
     "output_type": "stream",
     "text": [
      "2021-05-06 14:13:05,143 - modnet - INFO - Preset #24 fitting finished, loss: 0.4262513816356659\n"
     ]
    },
    {
     "name": "stderr",
     "output_type": "stream",
     "text": [
      " 34%|███▎      | 121/360 [23:44<2:59:57, 45.18s/it]"
     ]
    },
    {
     "name": "stdout",
     "output_type": "stream",
     "text": [
      "2021-05-06 14:13:55,201 - modnet - INFO - Preset #24 fitting finished, loss: 0.38247873187065123\n"
     ]
    },
    {
     "name": "stderr",
     "output_type": "stream",
     "text": [
      " 34%|███▍      | 122/360 [24:35<3:05:10, 46.68s/it]"
     ]
    },
    {
     "name": "stdout",
     "output_type": "stream",
     "text": [
      "2021-05-06 14:14:35,618 - modnet - INFO - Preset #28 fitting finished, loss: 0.32915616035461426\n"
     ]
    },
    {
     "name": "stderr",
     "output_type": "stream",
     "text": [
      " 34%|███▍      | 123/360 [25:15<2:57:11, 44.86s/it]"
     ]
    },
    {
     "name": "stdout",
     "output_type": "stream",
     "text": [
      "2021-05-06 14:14:57,458 - modnet - INFO - Preset #26 fitting finished, loss: 0.31193421483039857\n"
     ]
    },
    {
     "name": "stderr",
     "output_type": "stream",
     "text": [
      " 34%|███▍      | 124/360 [25:37<2:29:01, 37.89s/it]"
     ]
    },
    {
     "name": "stdout",
     "output_type": "stream",
     "text": [
      "2021-05-06 14:14:58,175 - modnet - INFO - Preset #24 fitting finished, loss: 0.3173056900501251\n"
     ]
    },
    {
     "name": "stderr",
     "output_type": "stream",
     "text": [
      " 35%|███▍      | 125/360 [25:38<1:44:58, 26.80s/it]"
     ]
    },
    {
     "name": "stdout",
     "output_type": "stream",
     "text": [
      "2021-05-06 14:15:54,448 - modnet - INFO - Preset #25 fitting finished, loss: 0.3099947512149811\n"
     ]
    },
    {
     "name": "stderr",
     "output_type": "stream",
     "text": [
      " 35%|███▌      | 126/360 [26:34<2:18:40, 35.56s/it]"
     ]
    },
    {
     "name": "stdout",
     "output_type": "stream",
     "text": [
      "2021-05-06 14:16:00,087 - modnet - INFO - Preset #26 fitting finished, loss: 0.2792915403842926\n"
     ]
    },
    {
     "name": "stderr",
     "output_type": "stream",
     "text": [
      " 35%|███▌      | 127/360 [26:39<1:43:04, 26.54s/it]"
     ]
    },
    {
     "name": "stdout",
     "output_type": "stream",
     "text": [
      "2021-05-06 14:16:29,551 - modnet - INFO - Preset #27 fitting finished, loss: 0.34364271759986875\n"
     ]
    },
    {
     "name": "stderr",
     "output_type": "stream",
     "text": [
      " 36%|███▌      | 128/360 [27:09<1:46:15, 27.48s/it]"
     ]
    },
    {
     "name": "stdout",
     "output_type": "stream",
     "text": [
      "2021-05-06 14:16:38,957 - modnet - INFO - Preset #25 fitting finished, loss: 0.34380927085876467\n"
     ]
    },
    {
     "name": "stderr",
     "output_type": "stream",
     "text": [
      " 36%|███▌      | 129/360 [27:19<1:25:05, 22.10s/it]"
     ]
    },
    {
     "name": "stdout",
     "output_type": "stream",
     "text": [
      "2021-05-06 14:16:48,252 - modnet - INFO - Preset #28 fitting finished, loss: 0.33376793265342714\n"
     ]
    },
    {
     "name": "stderr",
     "output_type": "stream",
     "text": [
      " 36%|███▌      | 130/360 [27:28<1:10:01, 18.27s/it]"
     ]
    },
    {
     "name": "stdout",
     "output_type": "stream",
     "text": [
      "2021-05-06 14:16:55,115 - modnet - INFO - Preset #26 fitting finished, loss: 0.38191562294960024\n"
     ]
    },
    {
     "name": "stderr",
     "output_type": "stream",
     "text": [
      " 36%|███▋      | 131/360 [27:35<56:43, 14.86s/it]  "
     ]
    },
    {
     "name": "stdout",
     "output_type": "stream",
     "text": [
      "2021-05-06 14:16:56,514 - modnet - INFO - Preset #25 fitting finished, loss: 0.29951985478401183\n"
     ]
    },
    {
     "name": "stderr",
     "output_type": "stream",
     "text": [
      " 37%|███▋      | 132/360 [27:43<48:58, 12.89s/it]"
     ]
    },
    {
     "name": "stdout",
     "output_type": "stream",
     "text": [
      "2021-05-06 14:17:04,354 - modnet - INFO - Preset #24 fitting finished, loss: 0.3509716749191284\n"
     ]
    },
    {
     "name": "stderr",
     "output_type": "stream",
     "text": [
      " 37%|███▋      | 133/360 [27:44<35:09,  9.29s/it]"
     ]
    },
    {
     "name": "stdout",
     "output_type": "stream",
     "text": [
      "2021-05-06 14:17:07,193 - modnet - INFO - Preset #26 fitting finished, loss: 0.32478466629981995\n"
     ]
    },
    {
     "name": "stderr",
     "output_type": "stream",
     "text": [
      " 37%|███▋      | 134/360 [27:47<27:51,  7.40s/it]"
     ]
    },
    {
     "name": "stdout",
     "output_type": "stream",
     "text": [
      "2021-05-06 14:17:13,558 - modnet - INFO - Preset #29 fitting finished, loss: 0.3430756449699402\n"
     ]
    },
    {
     "name": "stderr",
     "output_type": "stream",
     "text": [
      " 38%|███▊      | 135/360 [27:53<26:14,  7.00s/it]"
     ]
    },
    {
     "name": "stdout",
     "output_type": "stream",
     "text": [
      "2021-05-06 14:17:15,441 - modnet - INFO - Preset #24 fitting finished, loss: 0.2825463771820068\n"
     ]
    },
    {
     "name": "stderr",
     "output_type": "stream",
     "text": [
      " 38%|███▊      | 136/360 [27:55<20:43,  5.55s/it]"
     ]
    },
    {
     "name": "stdout",
     "output_type": "stream",
     "text": [
      "2021-05-06 14:17:19,683 - modnet - INFO - Preset #27 fitting finished, loss: 0.39639946818351746\n"
     ]
    },
    {
     "name": "stderr",
     "output_type": "stream",
     "text": [
      " 38%|███▊      | 137/360 [27:59<18:51,  5.07s/it]"
     ]
    },
    {
     "name": "stdout",
     "output_type": "stream",
     "text": [
      "2021-05-06 14:17:47,123 - modnet - INFO - Preset #33 fitting finished, loss: 0.3152422964572906\n"
     ]
    },
    {
     "name": "stderr",
     "output_type": "stream",
     "text": [
      " 38%|███▊      | 138/360 [28:27<43:56, 11.88s/it]"
     ]
    },
    {
     "name": "stdout",
     "output_type": "stream",
     "text": [
      "2021-05-06 14:17:51,631 - modnet - INFO - Preset #29 fitting finished, loss: 0.34366949200630187\n"
     ]
    },
    {
     "name": "stderr",
     "output_type": "stream",
     "text": [
      " 39%|███▊      | 139/360 [28:31<35:21,  9.60s/it]"
     ]
    },
    {
     "name": "stdout",
     "output_type": "stream",
     "text": [
      "2021-05-06 14:17:55,663 - modnet - INFO - Preset #27 fitting finished, loss: 0.2859451711177826\n"
     ]
    },
    {
     "name": "stderr",
     "output_type": "stream",
     "text": [
      " 39%|███▉      | 140/360 [28:35<29:02,  7.92s/it]"
     ]
    },
    {
     "name": "stdout",
     "output_type": "stream",
     "text": [
      "2021-05-06 14:18:01,522 - modnet - INFO - Preset #29 fitting finished, loss: 0.40405466556549074\n"
     ]
    },
    {
     "name": "stderr",
     "output_type": "stream",
     "text": [
      " 39%|███▉      | 141/360 [28:41<26:34,  7.28s/it]"
     ]
    },
    {
     "name": "stdout",
     "output_type": "stream",
     "text": [
      "2021-05-06 14:18:25,309 - modnet - INFO - Preset #35 fitting finished, loss: 0.3203453838825226\n"
     ]
    },
    {
     "name": "stderr",
     "output_type": "stream",
     "text": [
      " 39%|███▉      | 142/360 [29:05<44:31, 12.26s/it]"
     ]
    },
    {
     "name": "stdout",
     "output_type": "stream",
     "text": [
      "2021-05-06 14:18:53,454 - modnet - INFO - Preset #35 fitting finished, loss: 0.3378957986831665\n"
     ]
    },
    {
     "name": "stderr",
     "output_type": "stream",
     "text": [
      " 40%|███▉      | 143/360 [29:33<1:01:35, 17.03s/it]"
     ]
    },
    {
     "name": "stdout",
     "output_type": "stream",
     "text": [
      "2021-05-06 14:18:54,290 - modnet - INFO - Preset #30 fitting finished, loss: 0.392937171459198\n"
     ]
    },
    {
     "name": "stderr",
     "output_type": "stream",
     "text": [
      " 40%|████      | 144/360 [29:34<43:52, 12.19s/it]  "
     ]
    },
    {
     "name": "stdout",
     "output_type": "stream",
     "text": [
      "2021-05-06 14:18:59,498 - modnet - INFO - Preset #26 fitting finished, loss: 0.3292336404323578\n"
     ]
    },
    {
     "name": "stderr",
     "output_type": "stream",
     "text": [
      " 40%|████      | 145/360 [29:39<35:59, 10.05s/it]"
     ]
    },
    {
     "name": "stdout",
     "output_type": "stream",
     "text": [
      "2021-05-06 14:19:11,834 - modnet - INFO - Preset #27 fitting finished, loss: 0.34000647664070127\n"
     ]
    },
    {
     "name": "stderr",
     "output_type": "stream",
     "text": [
      " 41%|████      | 146/360 [29:51<38:20, 10.75s/it]"
     ]
    },
    {
     "name": "stdout",
     "output_type": "stream",
     "text": [
      "2021-05-06 14:19:14,474 - modnet - INFO - Preset #34 fitting finished, loss: 0.31377377510070803\n"
     ]
    },
    {
     "name": "stderr",
     "output_type": "stream",
     "text": [
      " 41%|████      | 147/360 [29:54<29:28,  8.30s/it]"
     ]
    },
    {
     "name": "stdout",
     "output_type": "stream",
     "text": [
      "2021-05-06 14:19:37,301 - modnet - INFO - Preset #28 fitting finished, loss: 0.29393808245658876\n"
     ]
    },
    {
     "name": "stderr",
     "output_type": "stream",
     "text": [
      " 41%|████      | 148/360 [30:17<44:43, 12.66s/it]"
     ]
    },
    {
     "name": "stdout",
     "output_type": "stream",
     "text": [
      "2021-05-06 14:19:48,431 - modnet - INFO - Preset #28 fitting finished, loss: 0.3236674010753632\n"
     ]
    },
    {
     "name": "stderr",
     "output_type": "stream",
     "text": [
      " 41%|████▏     | 149/360 [30:28<42:55, 12.21s/it]"
     ]
    },
    {
     "name": "stdout",
     "output_type": "stream",
     "text": [
      "2021-05-06 14:19:53,820 - modnet - INFO - Preset #34 fitting finished, loss: 0.34373396039009096\n"
     ]
    },
    {
     "name": "stderr",
     "output_type": "stream",
     "text": [
      " 42%|████▏     | 150/360 [30:33<35:44, 10.21s/it]"
     ]
    },
    {
     "name": "stdout",
     "output_type": "stream",
     "text": [
      "2021-05-06 14:19:54,756 - modnet - INFO - Preset #35 fitting finished, loss: 0.28075550198554994\n"
     ]
    },
    {
     "name": "stderr",
     "output_type": "stream",
     "text": [
      " 42%|████▏     | 151/360 [30:34<25:48,  7.41s/it]"
     ]
    },
    {
     "name": "stdout",
     "output_type": "stream",
     "text": [
      "2021-05-06 14:20:01,038 - modnet - INFO - Preset #29 fitting finished, loss: 0.3227494120597839\n"
     ]
    },
    {
     "name": "stderr",
     "output_type": "stream",
     "text": [
      " 42%|████▏     | 152/360 [30:41<24:30,  7.07s/it]"
     ]
    },
    {
     "name": "stdout",
     "output_type": "stream",
     "text": [
      "2021-05-06 14:20:01,909 - modnet - INFO - Preset #27 fitting finished, loss: 0.2989687979221344\n"
     ]
    },
    {
     "name": "stderr",
     "output_type": "stream",
     "text": [
      " 42%|████▎     | 153/360 [30:42<18:05,  5.24s/it]"
     ]
    },
    {
     "name": "stdout",
     "output_type": "stream",
     "text": [
      "2021-05-06 14:20:50,231 - modnet - INFO - Preset #31 fitting finished, loss: 0.42297781705856324\n"
     ]
    },
    {
     "name": "stderr",
     "output_type": "stream",
     "text": [
      " 43%|████▎     | 154/360 [31:30<1:02:11, 18.11s/it]"
     ]
    },
    {
     "name": "stdout",
     "output_type": "stream",
     "text": [
      "2021-05-06 14:21:05,546 - modnet - INFO - Preset #29 fitting finished, loss: 0.29431946873664855\n"
     ]
    },
    {
     "name": "stderr",
     "output_type": "stream",
     "text": [
      " 43%|████▎     | 155/360 [31:45<59:13, 17.33s/it]  "
     ]
    },
    {
     "name": "stdout",
     "output_type": "stream",
     "text": [
      "2021-05-06 14:21:23,374 - modnet - INFO - Preset #34 fitting finished, loss: 0.2795897603034973\n"
     ]
    },
    {
     "name": "stderr",
     "output_type": "stream",
     "text": [
      " 43%|████▎     | 156/360 [32:03<59:26, 17.48s/it]"
     ]
    },
    {
     "name": "stdout",
     "output_type": "stream",
     "text": [
      "2021-05-06 14:21:25,553 - modnet - INFO - Preset #25 fitting finished, loss: 0.43037651777267455\n"
     ]
    },
    {
     "name": "stderr",
     "output_type": "stream",
     "text": [
      " 44%|████▎     | 157/360 [32:05<43:43, 12.92s/it]"
     ]
    },
    {
     "name": "stdout",
     "output_type": "stream",
     "text": [
      "2021-05-06 14:21:30,033 - modnet - INFO - Preset #28 fitting finished, loss: 0.398621541261673\n"
     ]
    },
    {
     "name": "stderr",
     "output_type": "stream",
     "text": [
      " 44%|████▍     | 158/360 [32:09<34:21, 10.21s/it]"
     ]
    },
    {
     "name": "stdout",
     "output_type": "stream",
     "text": [
      "2021-05-06 14:21:30,705 - modnet - INFO - Preset #33 fitting finished, loss: 0.351526552438736\n"
     ]
    },
    {
     "name": "stderr",
     "output_type": "stream",
     "text": [
      " 44%|████▍     | 159/360 [32:10<24:58,  7.45s/it]"
     ]
    },
    {
     "name": "stdout",
     "output_type": "stream",
     "text": [
      "2021-05-06 14:21:35,888 - modnet - INFO - Preset #30 fitting finished, loss: 0.4352645516395569\n"
     ]
    },
    {
     "name": "stderr",
     "output_type": "stream",
     "text": [
      " 44%|████▍     | 160/360 [32:16<22:43,  6.82s/it]"
     ]
    },
    {
     "name": "stdout",
     "output_type": "stream",
     "text": [
      "2021-05-06 14:21:41,441 - modnet - INFO - Preset #31 fitting finished, loss: 0.39771674275398256\n"
     ]
    },
    {
     "name": "stderr",
     "output_type": "stream",
     "text": [
      " 45%|████▍     | 161/360 [32:21<21:14,  6.41s/it]"
     ]
    },
    {
     "name": "stdout",
     "output_type": "stream",
     "text": [
      "2021-05-06 14:21:43,134 - modnet - INFO - Preset #40 fitting finished, loss: 0.45150851011276244\n"
     ]
    },
    {
     "name": "stderr",
     "output_type": "stream",
     "text": [
      " 45%|████▌     | 162/360 [32:23<16:30,  5.00s/it]"
     ]
    },
    {
     "name": "stdout",
     "output_type": "stream",
     "text": [
      "2021-05-06 14:21:50,628 - modnet - INFO - Preset #36 fitting finished, loss: 41.749749755859376\n"
     ]
    },
    {
     "name": "stderr",
     "output_type": "stream",
     "text": [
      " 45%|████▌     | 163/360 [32:30<19:00,  5.79s/it]"
     ]
    },
    {
     "name": "stdout",
     "output_type": "stream",
     "text": [
      "2021-05-06 14:21:52,343 - modnet - INFO - Preset #35 fitting finished, loss: 0.3216317415237427\n"
     ]
    },
    {
     "name": "stderr",
     "output_type": "stream",
     "text": [
      " 46%|████▌     | 164/360 [32:32<15:02,  4.61s/it]"
     ]
    },
    {
     "name": "stdout",
     "output_type": "stream",
     "text": [
      "2021-05-06 14:22:01,143 - modnet - INFO - Preset #34 fitting finished, loss: 0.39295727014541626\n"
     ]
    },
    {
     "name": "stderr",
     "output_type": "stream",
     "text": [
      " 46%|████▌     | 165/360 [32:41<18:46,  5.78s/it]"
     ]
    },
    {
     "name": "stdout",
     "output_type": "stream",
     "text": [
      "2021-05-06 14:22:06,055 - modnet - INFO - Preset #32 fitting finished, loss: 0.39535695910453794\n"
     ]
    },
    {
     "name": "stderr",
     "output_type": "stream",
     "text": [
      " 46%|████▌     | 166/360 [32:46<17:49,  5.51s/it]"
     ]
    },
    {
     "name": "stdout",
     "output_type": "stream",
     "text": [
      "2021-05-06 14:22:11,553 - modnet - INFO - Preset #32 fitting finished, loss: 0.330229377746582\n"
     ]
    },
    {
     "name": "stderr",
     "output_type": "stream",
     "text": [
      " 46%|████▋     | 167/360 [32:51<17:36,  5.47s/it]"
     ]
    },
    {
     "name": "stdout",
     "output_type": "stream",
     "text": [
      "2021-05-06 14:22:13,948 - modnet - INFO - Preset #32 fitting finished, loss: 0.3146237671375275\n"
     ]
    },
    {
     "name": "stderr",
     "output_type": "stream",
     "text": [
      " 47%|████▋     | 168/360 [32:54<14:46,  4.62s/it]"
     ]
    },
    {
     "name": "stdout",
     "output_type": "stream",
     "text": [
      "2021-05-06 14:22:16,445 - modnet - INFO - Preset #30 fitting finished, loss: 0.3016066014766693\n"
     ]
    },
    {
     "name": "stderr",
     "output_type": "stream",
     "text": [
      " 47%|████▋     | 169/360 [32:56<12:28,  3.92s/it]"
     ]
    },
    {
     "name": "stdout",
     "output_type": "stream",
     "text": [
      "2021-05-06 14:22:22,778 - modnet - INFO - Preset #32 fitting finished, loss: 0.33893367648124695\n"
     ]
    },
    {
     "name": "stderr",
     "output_type": "stream",
     "text": [
      " 47%|████▋     | 170/360 [33:02<14:52,  4.70s/it]"
     ]
    },
    {
     "name": "stdout",
     "output_type": "stream",
     "text": [
      "2021-05-06 14:22:33,403 - modnet - INFO - Preset #25 fitting finished, loss: 0.3786920189857483\n"
     ]
    },
    {
     "name": "stderr",
     "output_type": "stream",
     "text": [
      " 48%|████▊     | 171/360 [33:13<20:09,  6.40s/it]"
     ]
    },
    {
     "name": "stdout",
     "output_type": "stream",
     "text": [
      "2021-05-06 14:22:48,115 - modnet - INFO - Preset #35 fitting finished, loss: 0.3880102872848511\n"
     ]
    },
    {
     "name": "stderr",
     "output_type": "stream",
     "text": [
      " 48%|████▊     | 172/360 [33:28<27:57,  8.92s/it]"
     ]
    },
    {
     "name": "stdout",
     "output_type": "stream",
     "text": [
      "2021-05-06 14:22:49,556 - modnet - INFO - Preset #41 fitting finished, loss: 0.45199958682060243\n"
     ]
    },
    {
     "name": "stderr",
     "output_type": "stream",
     "text": [
      " 48%|████▊     | 173/360 [33:29<20:58,  6.73s/it]"
     ]
    },
    {
     "name": "stdout",
     "output_type": "stream",
     "text": [
      "2021-05-06 14:22:59,527 - modnet - INFO - Preset #30 fitting finished, loss: 0.3392771005630493\n"
     ]
    },
    {
     "name": "stderr",
     "output_type": "stream",
     "text": [
      " 48%|████▊     | 174/360 [33:39<23:43,  7.65s/it]"
     ]
    },
    {
     "name": "stdout",
     "output_type": "stream",
     "text": [
      "2021-05-06 14:23:09,806 - modnet - INFO - Preset #34 fitting finished, loss: 0.3307457208633423\n"
     ]
    },
    {
     "name": "stderr",
     "output_type": "stream",
     "text": [
      " 49%|████▊     | 175/360 [33:50<26:10,  8.49s/it]"
     ]
    },
    {
     "name": "stdout",
     "output_type": "stream",
     "text": [
      "2021-05-06 14:23:43,753 - modnet - INFO - Preset #31 fitting finished, loss: 0.34295713901519775\n"
     ]
    },
    {
     "name": "stderr",
     "output_type": "stream",
     "text": [
      " 49%|████▉     | 176/360 [34:23<49:17, 16.07s/it]"
     ]
    },
    {
     "name": "stdout",
     "output_type": "stream",
     "text": [
      "2021-05-06 14:23:53,155 - modnet - INFO - Preset #40 fitting finished, loss: 0.34523156881332395\n"
     ]
    },
    {
     "name": "stderr",
     "output_type": "stream",
     "text": [
      " 49%|████▉     | 177/360 [34:33<43:33, 14.28s/it]"
     ]
    },
    {
     "name": "stdout",
     "output_type": "stream",
     "text": [
      "2021-05-06 14:23:54,642 - modnet - INFO - Preset #32 fitting finished, loss: 0.28418755531311035\n"
     ]
    },
    {
     "name": "stderr",
     "output_type": "stream",
     "text": [
      " 49%|████▉     | 178/360 [34:34<30:57, 10.20s/it]"
     ]
    },
    {
     "name": "stdout",
     "output_type": "stream",
     "text": [
      "2021-05-06 14:23:55,340 - modnet - INFO - Preset #41 fitting finished, loss: 1.1464481472969055\n"
     ]
    },
    {
     "name": "stderr",
     "output_type": "stream",
     "text": [
      " 50%|████▉     | 179/360 [34:35<22:30,  7.46s/it]"
     ]
    },
    {
     "name": "stdout",
     "output_type": "stream",
     "text": [
      "2021-05-06 14:23:56,400 - modnet - INFO - Preset #33 fitting finished, loss: 0.2817458987236023\n"
     ]
    },
    {
     "name": "stderr",
     "output_type": "stream",
     "text": [
      " 50%|█████     | 180/360 [34:36<16:31,  5.51s/it]"
     ]
    },
    {
     "name": "stdout",
     "output_type": "stream",
     "text": [
      "2021-05-06 14:23:57,354 - modnet - INFO - Preset #40 fitting finished, loss: 15716.009272420406\n"
     ]
    },
    {
     "name": "stderr",
     "output_type": "stream",
     "text": [
      " 50%|█████     | 181/360 [34:37<12:21,  4.14s/it]"
     ]
    },
    {
     "name": "stdout",
     "output_type": "stream",
     "text": [
      "2021-05-06 14:25:06,280 - modnet - INFO - Preset #36 fitting finished, loss: 0.28023703694343566\n"
     ]
    },
    {
     "name": "stderr",
     "output_type": "stream",
     "text": [
      " 51%|█████     | 182/360 [35:46<1:09:48, 23.53s/it]"
     ]
    },
    {
     "name": "stdout",
     "output_type": "stream",
     "text": [
      "2021-05-06 14:25:11,670 - modnet - INFO - Preset #33 fitting finished, loss: 0.3222021758556366\n"
     ]
    },
    {
     "name": "stderr",
     "output_type": "stream",
     "text": [
      " 51%|█████     | 183/360 [35:51<53:20, 18.08s/it]  "
     ]
    },
    {
     "name": "stdout",
     "output_type": "stream",
     "text": [
      "2021-05-06 14:25:17,003 - modnet - INFO - Preset #33 fitting finished, loss: 0.39862985014915464\n"
     ]
    },
    {
     "name": "stderr",
     "output_type": "stream",
     "text": [
      " 51%|█████     | 184/360 [35:57<41:54, 14.29s/it]"
     ]
    },
    {
     "name": "stdout",
     "output_type": "stream",
     "text": [
      "2021-05-06 14:25:25,244 - modnet - INFO - Preset #46 fitting finished, loss: 42.01261569261551\n"
     ]
    },
    {
     "name": "stderr",
     "output_type": "stream",
     "text": [
      " 51%|█████▏    | 185/360 [36:05<36:33, 12.54s/it]"
     ]
    },
    {
     "name": "stdout",
     "output_type": "stream",
     "text": [
      "2021-05-06 14:25:32,357 - modnet - INFO - Preset #36 fitting finished, loss: 0.295551198720932\n"
     ]
    },
    {
     "name": "stderr",
     "output_type": "stream",
     "text": [
      " 52%|█████▏    | 186/360 [36:12<31:31, 10.87s/it]"
     ]
    },
    {
     "name": "stdout",
     "output_type": "stream",
     "text": [
      "2021-05-06 14:25:48,062 - modnet - INFO - Preset #40 fitting finished, loss: 0.4588526666164398\n"
     ]
    },
    {
     "name": "stderr",
     "output_type": "stream",
     "text": [
      " 52%|█████▏    | 187/360 [36:28<35:28, 12.30s/it]"
     ]
    },
    {
     "name": "stdout",
     "output_type": "stream",
     "text": [
      "2021-05-06 14:25:52,131 - modnet - INFO - Preset #40 fitting finished, loss: 0.4002885758876801\n"
     ]
    },
    {
     "name": "stderr",
     "output_type": "stream",
     "text": [
      " 52%|█████▏    | 188/360 [36:32<28:05,  9.80s/it]"
     ]
    },
    {
     "name": "stdout",
     "output_type": "stream",
     "text": [
      "2021-05-06 14:26:08,744 - modnet - INFO - Preset #41 fitting finished, loss: 0.4195070147514343\n"
     ]
    },
    {
     "name": "stderr",
     "output_type": "stream",
     "text": [
      " 52%|█████▎    | 189/360 [36:48<33:54, 11.90s/it]"
     ]
    },
    {
     "name": "stdout",
     "output_type": "stream",
     "text": [
      "2021-05-06 14:26:59,662 - modnet - INFO - Preset #41 fitting finished, loss: 0.325007164478302\n"
     ]
    },
    {
     "name": "stderr",
     "output_type": "stream",
     "text": [
      " 53%|█████▎    | 190/360 [37:39<1:06:27, 23.45s/it]"
     ]
    },
    {
     "name": "stdout",
     "output_type": "stream",
     "text": [
      "2021-05-06 14:27:10,547 - modnet - INFO - Preset #46 fitting finished, loss: 0.38056802153587344\n"
     ]
    },
    {
     "name": "stderr",
     "output_type": "stream",
     "text": [
      " 53%|█████▎    | 191/360 [37:50<55:41, 19.77s/it]  "
     ]
    },
    {
     "name": "stdout",
     "output_type": "stream",
     "text": [
      "2021-05-06 14:27:15,456 - modnet - INFO - Preset #47 fitting finished, loss: 324.69115617275236\n"
     ]
    },
    {
     "name": "stderr",
     "output_type": "stream",
     "text": [
      " 53%|█████▎    | 192/360 [37:55<42:57, 15.34s/it]"
     ]
    },
    {
     "name": "stdout",
     "output_type": "stream",
     "text": [
      "2021-05-06 14:27:32,210 - modnet - INFO - Preset #31 fitting finished, loss: 0.35487493872642517\n"
     ]
    },
    {
     "name": "stderr",
     "output_type": "stream",
     "text": [
      " 54%|█████▎    | 193/360 [38:12<43:47, 15.73s/it]"
     ]
    },
    {
     "name": "stdout",
     "output_type": "stream",
     "text": [
      "2021-05-06 14:27:36,946 - modnet - INFO - Preset #36 fitting finished, loss: 0.4009379863739014\n"
     ]
    },
    {
     "name": "stderr",
     "output_type": "stream",
     "text": [
      " 54%|█████▍    | 194/360 [38:17<34:32, 12.48s/it]"
     ]
    },
    {
     "name": "stdout",
     "output_type": "stream",
     "text": [
      "2021-05-06 14:28:04,191 - modnet - INFO - Preset #30 fitting finished, loss: 0.35577571392059326\n"
     ]
    },
    {
     "name": "stderr",
     "output_type": "stream",
     "text": [
      " 54%|█████▍    | 195/360 [38:44<46:21, 16.86s/it]"
     ]
    },
    {
     "name": "stdout",
     "output_type": "stream",
     "text": [
      "2021-05-06 14:29:04,551 - modnet - INFO - Preset #47 fitting finished, loss: 0.4181058704853058\n"
     ]
    },
    {
     "name": "stderr",
     "output_type": "stream",
     "text": [
      " 54%|█████▍    | 196/360 [39:44<1:21:47, 29.92s/it]"
     ]
    },
    {
     "name": "stdout",
     "output_type": "stream",
     "text": [
      "2021-05-06 14:29:13,624 - modnet - INFO - Preset #38 fitting finished, loss: 0.3052163004875183\n"
     ]
    },
    {
     "name": "stderr",
     "output_type": "stream",
     "text": [
      " 55%|█████▍    | 197/360 [39:53<1:04:30, 23.74s/it]"
     ]
    },
    {
     "name": "stdout",
     "output_type": "stream",
     "text": [
      "2021-05-06 14:29:14,663 - modnet - INFO - Preset #36 fitting finished, loss: 0.3516074478626251\n"
     ]
    },
    {
     "name": "stderr",
     "output_type": "stream",
     "text": [
      " 55%|█████▌    | 198/360 [39:55<45:49, 16.97s/it]  "
     ]
    },
    {
     "name": "stdout",
     "output_type": "stream",
     "text": [
      "2021-05-06 14:29:35,522 - modnet - INFO - Preset #37 fitting finished, loss: 45.564816093444826\n"
     ]
    },
    {
     "name": "stderr",
     "output_type": "stream",
     "text": [
      " 55%|█████▌    | 199/360 [40:15<48:16, 17.99s/it]"
     ]
    },
    {
     "name": "stdout",
     "output_type": "stream",
     "text": [
      "2021-05-06 14:29:40,110 - modnet - INFO - Preset #31 fitting finished, loss: 0.3170840859413147\n"
     ]
    },
    {
     "name": "stderr",
     "output_type": "stream",
     "text": [
      " 56%|█████▌    | 200/360 [40:20<37:20, 14.01s/it]"
     ]
    },
    {
     "name": "stdout",
     "output_type": "stream",
     "text": [
      "2021-05-06 14:29:41,465 - modnet - INFO - Preset #46 fitting finished, loss: 0.4862061679363251\n"
     ]
    },
    {
     "name": "stderr",
     "output_type": "stream",
     "text": [
      " 56%|█████▌    | 201/360 [40:21<27:20, 10.32s/it]"
     ]
    },
    {
     "name": "stdout",
     "output_type": "stream",
     "text": [
      "2021-05-06 14:29:51,970 - modnet - INFO - Preset #47 fitting finished, loss: 0.3385602295398712\n"
     ]
    },
    {
     "name": "stderr",
     "output_type": "stream",
     "text": [
      " 56%|█████▌    | 202/360 [40:31<26:50, 10.19s/it]"
     ]
    },
    {
     "name": "stdout",
     "output_type": "stream",
     "text": [
      "2021-05-06 14:30:33,591 - modnet - INFO - Preset #41 fitting finished, loss: 0.45776568055152894\n"
     ]
    },
    {
     "name": "stderr",
     "output_type": "stream",
     "text": [
      " 56%|█████▋    | 203/360 [41:13<51:23, 19.64s/it]"
     ]
    },
    {
     "name": "stdout",
     "output_type": "stream",
     "text": [
      "2021-05-06 14:30:38,778 - modnet - INFO - Preset #38 fitting finished, loss: 547.9890388011933\n"
     ]
    },
    {
     "name": "stderr",
     "output_type": "stream",
     "text": [
      " 57%|█████▋    | 204/360 [41:19<40:06, 15.42s/it]"
     ]
    },
    {
     "name": "stdout",
     "output_type": "stream",
     "text": [
      "2021-05-06 14:30:39,774 - modnet - INFO - Preset #37 fitting finished, loss: 0.36219730973243713\n"
     ]
    },
    {
     "name": "stderr",
     "output_type": "stream",
     "text": [
      " 57%|█████▋    | 205/360 [41:19<28:38, 11.09s/it]"
     ]
    },
    {
     "name": "stdout",
     "output_type": "stream",
     "text": [
      "2021-05-06 14:30:41,328 - modnet - INFO - Preset #46 fitting finished, loss: 0.40217033624649046\n"
     ]
    },
    {
     "name": "stderr",
     "output_type": "stream",
     "text": [
      " 57%|█████▋    | 206/360 [41:21<21:00,  8.18s/it]"
     ]
    },
    {
     "name": "stdout",
     "output_type": "stream",
     "text": [
      "2021-05-06 14:30:44,141 - modnet - INFO - Preset #37 fitting finished, loss: 0.3966421604156494\n"
     ]
    },
    {
     "name": "stderr",
     "output_type": "stream",
     "text": [
      " 57%|█████▊    | 207/360 [41:24<16:52,  6.62s/it]"
     ]
    },
    {
     "name": "stdout",
     "output_type": "stream",
     "text": [
      "2021-05-06 14:30:51,818 - modnet - INFO - Preset #44 fitting finished, loss: 0.3573528826236725\n"
     ]
    },
    {
     "name": "stderr",
     "output_type": "stream",
     "text": [
      " 58%|█████▊    | 208/360 [41:32<17:34,  6.94s/it]"
     ]
    },
    {
     "name": "stdout",
     "output_type": "stream",
     "text": [
      "2021-05-06 14:31:02,559 - modnet - INFO - Preset #39 fitting finished, loss: 0.38871194124221803\n"
     ]
    },
    {
     "name": "stderr",
     "output_type": "stream",
     "text": [
      " 58%|█████▊    | 209/360 [41:42<20:10,  8.02s/it]"
     ]
    },
    {
     "name": "stdout",
     "output_type": "stream",
     "text": [
      "2021-05-06 14:31:34,952 - modnet - INFO - Preset #39 fitting finished, loss: 811.3770874023437\n"
     ]
    },
    {
     "name": "stderr",
     "output_type": "stream",
     "text": [
      " 58%|█████▊    | 210/360 [42:15<38:23, 15.36s/it]"
     ]
    },
    {
     "name": "stdout",
     "output_type": "stream",
     "text": [
      "2021-05-06 14:31:35,821 - modnet - INFO - Preset #42 fitting finished, loss: 0.3487184405326843\n"
     ]
    },
    {
     "name": "stderr",
     "output_type": "stream",
     "text": [
      " 59%|█████▊    | 211/360 [42:15<27:23, 11.03s/it]"
     ]
    },
    {
     "name": "stdout",
     "output_type": "stream",
     "text": [
      "2021-05-06 14:31:45,532 - modnet - INFO - Preset #42 fitting finished, loss: 0.2575058788061142\n"
     ]
    },
    {
     "name": "stderr",
     "output_type": "stream",
     "text": [
      " 59%|█████▉    | 212/360 [42:25<26:03, 10.57s/it]"
     ]
    },
    {
     "name": "stdout",
     "output_type": "stream",
     "text": [
      "2021-05-06 14:31:56,729 - modnet - INFO - Preset #45 fitting finished, loss: 0.31628844141960144\n"
     ]
    },
    {
     "name": "stderr",
     "output_type": "stream",
     "text": [
      " 59%|█████▉    | 213/360 [42:36<26:24, 10.78s/it]"
     ]
    },
    {
     "name": "stdout",
     "output_type": "stream",
     "text": [
      "2021-05-06 14:32:18,483 - modnet - INFO - Preset #44 fitting finished, loss: 1991.1037925720216\n"
     ]
    },
    {
     "name": "stderr",
     "output_type": "stream",
     "text": [
      " 59%|█████▉    | 214/360 [42:58<34:16, 14.08s/it]"
     ]
    },
    {
     "name": "stdout",
     "output_type": "stream",
     "text": [
      "2021-05-06 14:32:32,176 - modnet - INFO - Preset #44 fitting finished, loss: 0.25770575404167173\n"
     ]
    },
    {
     "name": "stderr",
     "output_type": "stream",
     "text": [
      " 60%|█████▉    | 215/360 [43:12<33:55, 14.03s/it]"
     ]
    },
    {
     "name": "stdout",
     "output_type": "stream",
     "text": [
      "2021-05-06 14:32:48,186 - modnet - INFO - Preset #37 fitting finished, loss: 0.27688526511192324\n"
     ]
    },
    {
     "name": "stderr",
     "output_type": "stream",
     "text": [
      " 60%|██████    | 216/360 [43:28<34:59, 14.58s/it]"
     ]
    },
    {
     "name": "stdout",
     "output_type": "stream",
     "text": [
      "2021-05-06 14:32:49,834 - modnet - INFO - Preset #42 fitting finished, loss: 0.4025765359401703\n"
     ]
    },
    {
     "name": "stderr",
     "output_type": "stream",
     "text": [
      " 60%|██████    | 217/360 [43:29<25:32, 10.71s/it]"
     ]
    },
    {
     "name": "stdout",
     "output_type": "stream",
     "text": [
      "2021-05-06 14:32:50,788 - modnet - INFO - Preset #46 fitting finished, loss: 0.4313147604465485\n"
     ]
    },
    {
     "name": "stderr",
     "output_type": "stream",
     "text": [
      " 61%|██████    | 218/360 [43:30<18:24,  7.78s/it]"
     ]
    },
    {
     "name": "stdout",
     "output_type": "stream",
     "text": [
      "2021-05-06 14:33:25,064 - modnet - INFO - Preset #45 fitting finished, loss: 649.2772277832031\n"
     ]
    },
    {
     "name": "stderr",
     "output_type": "stream",
     "text": [
      " 61%|██████    | 219/360 [44:05<36:58, 15.74s/it]"
     ]
    },
    {
     "name": "stdout",
     "output_type": "stream",
     "text": [
      "2021-05-06 14:33:58,792 - modnet - INFO - Preset #42 fitting finished, loss: 25.476279067993165\n"
     ]
    },
    {
     "name": "stderr",
     "output_type": "stream",
     "text": [
      " 61%|██████    | 220/360 [44:39<49:27, 21.20s/it]"
     ]
    },
    {
     "name": "stdout",
     "output_type": "stream",
     "text": [
      "2021-05-06 14:34:07,604 - modnet - INFO - Preset #43 fitting finished, loss: 0.2900892853736877\n"
     ]
    },
    {
     "name": "stderr",
     "output_type": "stream",
     "text": [
      " 61%|██████▏   | 221/360 [44:47<40:16, 17.38s/it]"
     ]
    },
    {
     "name": "stdout",
     "output_type": "stream",
     "text": [
      "2021-05-06 14:34:10,775 - modnet - INFO - Preset #38 fitting finished, loss: 0.27716230750083926\n"
     ]
    },
    {
     "name": "stderr",
     "output_type": "stream",
     "text": [
      " 62%|██████▏   | 222/360 [44:50<30:11, 13.13s/it]"
     ]
    },
    {
     "name": "stdout",
     "output_type": "stream",
     "text": [
      "2021-05-06 14:34:24,778 - modnet - INFO - Preset #38 fitting finished, loss: 0.35815487504005433\n"
     ]
    },
    {
     "name": "stderr",
     "output_type": "stream",
     "text": [
      " 62%|██████▏   | 223/360 [45:04<30:30, 13.36s/it]"
     ]
    },
    {
     "name": "stdout",
     "output_type": "stream",
     "text": [
      "2021-05-06 14:34:31,055 - modnet - INFO - Preset #38 fitting finished, loss: 0.3872474908828735\n"
     ]
    },
    {
     "name": "stderr",
     "output_type": "stream",
     "text": [
      " 62%|██████▏   | 224/360 [45:11<25:36, 11.30s/it]"
     ]
    },
    {
     "name": "stdout",
     "output_type": "stream",
     "text": [
      "2021-05-06 14:34:34,097 - modnet - INFO - Preset #45 fitting finished, loss: 0.34376166462898256\n"
     ]
    },
    {
     "name": "stderr",
     "output_type": "stream",
     "text": [
      " 62%|██████▎   | 225/360 [45:13<19:36,  8.72s/it]"
     ]
    },
    {
     "name": "stdout",
     "output_type": "stream",
     "text": [
      "2021-05-06 14:34:51,620 - modnet - INFO - Preset #49 fitting finished, loss: 0.28080580830574037\n"
     ]
    },
    {
     "name": "stderr",
     "output_type": "stream",
     "text": [
      " 63%|██████▎   | 226/360 [45:38<29:58, 13.42s/it]"
     ]
    },
    {
     "name": "stdout",
     "output_type": "stream",
     "text": [
      "2021-05-06 14:34:59,121 - modnet - INFO - Preset #42 fitting finished, loss: 0.2954483449459076\n"
     ]
    },
    {
     "name": "stderr",
     "output_type": "stream",
     "text": [
      " 63%|██████▎   | 227/360 [45:39<21:39,  9.77s/it]"
     ]
    },
    {
     "name": "stdout",
     "output_type": "stream",
     "text": [
      "2021-05-06 14:35:00,377 - modnet - INFO - Preset #39 fitting finished, loss: 0.3465943098068237\n"
     ]
    },
    {
     "name": "stderr",
     "output_type": "stream",
     "text": [
      " 63%|██████▎   | 228/360 [45:40<15:46,  7.17s/it]"
     ]
    },
    {
     "name": "stdout",
     "output_type": "stream",
     "text": [
      "2021-05-06 14:35:02,434 - modnet - INFO - Preset #47 fitting finished, loss: 0.3788702547550201\n"
     ]
    },
    {
     "name": "stderr",
     "output_type": "stream",
     "text": [
      " 64%|██████▎   | 229/360 [45:43<12:29,  5.72s/it]"
     ]
    },
    {
     "name": "stdout",
     "output_type": "stream",
     "text": [
      "2021-05-06 14:35:10,078 - modnet - INFO - Preset #43 fitting finished, loss: 27.232127094268797\n"
     ]
    },
    {
     "name": "stderr",
     "output_type": "stream",
     "text": [
      " 64%|██████▍   | 230/360 [45:50<13:19,  6.15s/it]"
     ]
    },
    {
     "name": "stdout",
     "output_type": "stream",
     "text": [
      "2021-05-06 14:35:16,404 - modnet - INFO - Preset #37 fitting finished, loss: 0.3012815654277802\n"
     ]
    },
    {
     "name": "stderr",
     "output_type": "stream",
     "text": [
      " 64%|██████▍   | 231/360 [45:56<13:17,  6.18s/it]"
     ]
    },
    {
     "name": "stdout",
     "output_type": "stream",
     "text": [
      "2021-05-06 14:35:17,542 - modnet - INFO - Preset #44 fitting finished, loss: 0.2928233206272125\n"
     ]
    },
    {
     "name": "stderr",
     "output_type": "stream",
     "text": [
      " 64%|██████▍   | 232/360 [45:58<10:16,  4.82s/it]"
     ]
    },
    {
     "name": "stdout",
     "output_type": "stream",
     "text": [
      "2021-05-06 14:35:18,855 - modnet - INFO - Preset #43 fitting finished, loss: 0.27124025821685793\n"
     ]
    },
    {
     "name": "stderr",
     "output_type": "stream",
     "text": [
      " 65%|██████▍   | 233/360 [45:58<07:40,  3.63s/it]"
     ]
    },
    {
     "name": "stdout",
     "output_type": "stream",
     "text": [
      "2021-05-06 14:35:30,539 - modnet - INFO - Preset #43 fitting finished, loss: 0.35719757080078124\n"
     ]
    },
    {
     "name": "stderr",
     "output_type": "stream",
     "text": [
      " 65%|██████▌   | 234/360 [46:10<12:43,  6.06s/it]"
     ]
    },
    {
     "name": "stdout",
     "output_type": "stream",
     "text": [
      "2021-05-06 14:35:31,457 - modnet - INFO - Preset #48 fitting finished, loss: 0.2774903655052185\n"
     ]
    },
    {
     "name": "stderr",
     "output_type": "stream",
     "text": [
      " 65%|██████▌   | 235/360 [46:11<09:30,  4.57s/it]"
     ]
    },
    {
     "name": "stdout",
     "output_type": "stream",
     "text": [
      "2021-05-06 14:35:52,090 - modnet - INFO - Preset #52 fitting finished, loss: 477.2274203658104\n"
     ]
    },
    {
     "name": "stderr",
     "output_type": "stream",
     "text": [
      " 66%|██████▌   | 236/360 [46:32<19:21,  9.37s/it]"
     ]
    },
    {
     "name": "stdout",
     "output_type": "stream",
     "text": [
      "2021-05-06 14:36:03,806 - modnet - INFO - Preset #45 fitting finished, loss: 0.3832304239273071\n"
     ]
    },
    {
     "name": "stderr",
     "output_type": "stream",
     "text": [
      " 66%|██████▌   | 237/360 [46:44<20:38, 10.07s/it]"
     ]
    },
    {
     "name": "stdout",
     "output_type": "stream",
     "text": [
      "2021-05-06 14:36:17,444 - modnet - INFO - Preset #50 fitting finished, loss: 0.27852599024772645\n"
     ]
    },
    {
     "name": "stderr",
     "output_type": "stream",
     "text": [
      " 66%|██████▌   | 238/360 [46:57<22:33, 11.10s/it]"
     ]
    },
    {
     "name": "stdout",
     "output_type": "stream",
     "text": [
      "2021-05-06 14:36:21,924 - modnet - INFO - Preset #47 fitting finished, loss: 0.41780362129211424\n"
     ]
    },
    {
     "name": "stderr",
     "output_type": "stream",
     "text": [
      " 66%|██████▋   | 239/360 [47:01<18:20,  9.09s/it]"
     ]
    },
    {
     "name": "stdout",
     "output_type": "stream",
     "text": [
      "2021-05-06 14:36:34,872 - modnet - INFO - Preset #44 fitting finished, loss: 0.3725610852241516\n"
     ]
    },
    {
     "name": "stderr",
     "output_type": "stream",
     "text": [
      " 67%|██████▋   | 240/360 [47:15<20:37, 10.32s/it]"
     ]
    },
    {
     "name": "stdout",
     "output_type": "stream",
     "text": [
      "2021-05-06 14:36:44,124 - modnet - INFO - Preset #52 fitting finished, loss: 0.31453185677528384\n"
     ]
    },
    {
     "name": "stderr",
     "output_type": "stream",
     "text": [
      " 67%|██████▋   | 241/360 [47:24<19:48,  9.99s/it]"
     ]
    },
    {
     "name": "stdout",
     "output_type": "stream",
     "text": [
      "2021-05-06 14:36:45,454 - modnet - INFO - Preset #39 fitting finished, loss: 0.28312456607818604\n"
     ]
    },
    {
     "name": "stderr",
     "output_type": "stream",
     "text": [
      " 67%|██████▋   | 242/360 [47:25<14:29,  7.37s/it]"
     ]
    },
    {
     "name": "stdout",
     "output_type": "stream",
     "text": [
      "2021-05-06 14:36:51,511 - modnet - INFO - Preset #50 fitting finished, loss: 71.60543079376221\n"
     ]
    },
    {
     "name": "stderr",
     "output_type": "stream",
     "text": [
      " 68%|██████▊   | 243/360 [47:31<13:26,  6.89s/it]"
     ]
    },
    {
     "name": "stdout",
     "output_type": "stream",
     "text": [
      "2021-05-06 14:37:00,300 - modnet - INFO - Preset #49 fitting finished, loss: 0.4109573245048523\n"
     ]
    },
    {
     "name": "stderr",
     "output_type": "stream",
     "text": [
      " 68%|██████▊   | 244/360 [47:40<14:41,  7.60s/it]"
     ]
    },
    {
     "name": "stdout",
     "output_type": "stream",
     "text": [
      "2021-05-06 14:37:02,855 - modnet - INFO - Preset #48 fitting finished, loss: 15.598833560943604\n"
     ]
    },
    {
     "name": "stderr",
     "output_type": "stream",
     "text": [
      " 68%|██████▊   | 245/360 [47:42<11:31,  6.01s/it]"
     ]
    },
    {
     "name": "stdout",
     "output_type": "stream",
     "text": [
      "2021-05-06 14:37:08,532 - modnet - INFO - Preset #52 fitting finished, loss: 0.3684397578239441\n"
     ]
    },
    {
     "name": "stderr",
     "output_type": "stream",
     "text": [
      " 68%|██████▊   | 246/360 [47:48<11:14,  5.91s/it]"
     ]
    },
    {
     "name": "stdout",
     "output_type": "stream",
     "text": [
      "2021-05-06 14:37:50,382 - modnet - INFO - Preset #51 fitting finished, loss: 196.49146575927733\n"
     ]
    },
    {
     "name": "stderr",
     "output_type": "stream",
     "text": [
      " 69%|██████▊   | 247/360 [48:30<31:26, 16.70s/it]"
     ]
    },
    {
     "name": "stdout",
     "output_type": "stream",
     "text": [
      "2021-05-06 14:38:17,989 - modnet - INFO - Preset #52 fitting finished, loss: 0.31149630546569823\n"
     ]
    },
    {
     "name": "stderr",
     "output_type": "stream",
     "text": [
      " 69%|██████▉   | 248/360 [48:58<37:19, 20.00s/it]"
     ]
    },
    {
     "name": "stdout",
     "output_type": "stream",
     "text": [
      "2021-05-06 14:38:56,735 - modnet - INFO - Preset #50 fitting finished, loss: 0.2929888963699341\n"
     ]
    },
    {
     "name": "stderr",
     "output_type": "stream",
     "text": [
      " 69%|██████▉   | 249/360 [49:37<47:28, 25.66s/it]"
     ]
    },
    {
     "name": "stdout",
     "output_type": "stream",
     "text": [
      "2021-05-06 14:39:03,831 - modnet - INFO - Preset #48 fitting finished, loss: 0.29178011417388916\n"
     ]
    },
    {
     "name": "stderr",
     "output_type": "stream",
     "text": [
      " 69%|██████▉   | 250/360 [49:43<36:44, 20.04s/it]"
     ]
    },
    {
     "name": "stdout",
     "output_type": "stream",
     "text": [
      "2021-05-06 14:39:04,753 - modnet - INFO - Preset #45 fitting finished, loss: 0.30341857075691225\n"
     ]
    },
    {
     "name": "stderr",
     "output_type": "stream",
     "text": [
      " 70%|██████▉   | 251/360 [49:45<26:04, 14.36s/it]"
     ]
    },
    {
     "name": "stdout",
     "output_type": "stream",
     "text": [
      "2021-05-06 14:39:24,116 - modnet - INFO - Preset #43 fitting finished, loss: 0.3933256447315216\n"
     ]
    },
    {
     "name": "stderr",
     "output_type": "stream",
     "text": [
      " 70%|███████   | 252/360 [50:04<28:21, 15.76s/it]"
     ]
    },
    {
     "name": "stdout",
     "output_type": "stream",
     "text": [
      "2021-05-06 14:39:27,204 - modnet - INFO - Preset #49 fitting finished, loss: 0.3009910821914673\n"
     ]
    },
    {
     "name": "stderr",
     "output_type": "stream",
     "text": [
      " 70%|███████   | 253/360 [50:07<21:18, 11.95s/it]"
     ]
    },
    {
     "name": "stdout",
     "output_type": "stream",
     "text": [
      "2021-05-06 14:39:29,185 - modnet - INFO - Preset #49 fitting finished, loss: 54.22558250427246\n"
     ]
    },
    {
     "name": "stderr",
     "output_type": "stream",
     "text": [
      " 71%|███████   | 254/360 [50:09<15:58,  9.04s/it]"
     ]
    },
    {
     "name": "stdout",
     "output_type": "stream",
     "text": [
      "2021-05-06 14:40:28,345 - modnet - INFO - Preset #53 fitting finished, loss: 0.32043626308441164\n"
     ]
    },
    {
     "name": "stderr",
     "output_type": "stream",
     "text": [
      " 71%|███████   | 255/360 [51:08<42:08, 24.08s/it]"
     ]
    },
    {
     "name": "stdout",
     "output_type": "stream",
     "text": [
      "2021-05-06 14:40:38,879 - modnet - INFO - Preset #53 fitting finished, loss: 0.30208579897880555\n"
     ]
    },
    {
     "name": "stderr",
     "output_type": "stream",
     "text": [
      " 71%|███████   | 256/360 [51:18<34:25, 19.86s/it]"
     ]
    },
    {
     "name": "stdout",
     "output_type": "stream",
     "text": [
      "2021-05-06 14:41:03,841 - modnet - INFO - Preset #48 fitting finished, loss: 0.3542300820350647\n"
     ]
    },
    {
     "name": "stderr",
     "output_type": "stream",
     "text": [
      " 71%|███████▏  | 257/360 [51:44<36:57, 21.53s/it]"
     ]
    },
    {
     "name": "stdout",
     "output_type": "stream",
     "text": [
      "2021-05-06 14:41:08,947 - modnet - INFO - Preset #49 fitting finished, loss: 0.35866284370422363\n"
     ]
    },
    {
     "name": "stderr",
     "output_type": "stream",
     "text": [
      " 72%|███████▏  | 258/360 [51:48<28:08, 16.55s/it]"
     ]
    },
    {
     "name": "stdout",
     "output_type": "stream",
     "text": [
      "2021-05-06 14:41:12,419 - modnet - INFO - Preset #39 fitting finished, loss: 0.28670778274536135\n"
     ]
    },
    {
     "name": "stderr",
     "output_type": "stream",
     "text": [
      " 72%|███████▏  | 259/360 [51:52<21:17, 12.65s/it]"
     ]
    },
    {
     "name": "stdout",
     "output_type": "stream",
     "text": [
      "2021-05-06 14:41:45,385 - modnet - INFO - Preset #50 fitting finished, loss: 0.35552393198013305\n"
     ]
    },
    {
     "name": "stderr",
     "output_type": "stream",
     "text": [
      " 72%|███████▏  | 260/360 [52:25<31:11, 18.72s/it]"
     ]
    },
    {
     "name": "stdout",
     "output_type": "stream",
     "text": [
      "2021-05-06 14:42:18,050 - modnet - INFO - Preset #51 fitting finished, loss: 0.2851458489894867\n"
     ]
    },
    {
     "name": "stderr",
     "output_type": "stream",
     "text": [
      " 72%|███████▎  | 261/360 [52:58<37:50, 22.94s/it]"
     ]
    },
    {
     "name": "stdout",
     "output_type": "stream",
     "text": [
      "2021-05-06 14:42:27,485 - modnet - INFO - Preset #51 fitting finished, loss: 0.27982230186462403\n"
     ]
    },
    {
     "name": "stderr",
     "output_type": "stream",
     "text": [
      " 73%|███████▎  | 262/360 [53:07<30:39, 18.77s/it]"
     ]
    },
    {
     "name": "stdout",
     "output_type": "stream",
     "text": [
      "2021-05-06 14:42:36,801 - modnet - INFO - Preset #51 fitting finished, loss: 0.38488678336143495\n"
     ]
    },
    {
     "name": "stderr",
     "output_type": "stream",
     "text": [
      " 73%|███████▎  | 263/360 [53:16<25:57, 16.05s/it]"
     ]
    },
    {
     "name": "stdout",
     "output_type": "stream",
     "text": [
      "2021-05-06 14:42:52,367 - modnet - INFO - Preset #51 fitting finished, loss: 0.36676899194717405\n"
     ]
    },
    {
     "name": "stderr",
     "output_type": "stream",
     "text": [
      " 73%|███████▎  | 264/360 [53:32<25:23, 15.87s/it]"
     ]
    },
    {
     "name": "stdout",
     "output_type": "stream",
     "text": [
      "2021-05-06 14:43:11,179 - modnet - INFO - Preset #50 fitting finished, loss: 0.3947728335857391\n"
     ]
    },
    {
     "name": "stderr",
     "output_type": "stream",
     "text": [
      " 74%|███████▎  | 265/360 [53:51<26:31, 16.76s/it]"
     ]
    },
    {
     "name": "stdout",
     "output_type": "stream",
     "text": [
      "2021-05-06 14:43:55,904 - modnet - INFO - Preset #53 fitting finished, loss: 842.0607177734375\n"
     ]
    },
    {
     "name": "stderr",
     "output_type": "stream",
     "text": [
      " 74%|███████▍  | 266/360 [54:36<39:28, 25.19s/it]"
     ]
    },
    {
     "name": "stdout",
     "output_type": "stream",
     "text": [
      "2021-05-06 14:44:08,177 - modnet - INFO - Preset #62 fitting finished, loss: 3.038159704208374\n"
     ]
    },
    {
     "name": "stderr",
     "output_type": "stream",
     "text": [
      " 74%|███████▍  | 267/360 [54:48<32:58, 21.27s/it]"
     ]
    },
    {
     "name": "stdout",
     "output_type": "stream",
     "text": [
      "2021-05-06 14:44:13,043 - modnet - INFO - Preset #56 fitting finished, loss: 0.45104914903640747\n"
     ]
    },
    {
     "name": "stderr",
     "output_type": "stream",
     "text": [
      " 74%|███████▍  | 268/360 [54:53<25:05, 16.37s/it]"
     ]
    },
    {
     "name": "stdout",
     "output_type": "stream",
     "text": [
      "2021-05-06 14:44:40,896 - modnet - INFO - Preset #52 fitting finished, loss: 0.4102562963962555\n"
     ]
    },
    {
     "name": "stderr",
     "output_type": "stream",
     "text": [
      " 75%|███████▍  | 269/360 [55:21<30:04, 19.83s/it]"
     ]
    },
    {
     "name": "stdout",
     "output_type": "stream",
     "text": [
      "2021-05-06 14:44:41,944 - modnet - INFO - Preset #48 fitting finished, loss: 0.41416006088256835\n"
     ]
    },
    {
     "name": "stderr",
     "output_type": "stream",
     "text": [
      " 75%|███████▌  | 270/360 [55:21<21:12, 14.14s/it]"
     ]
    },
    {
     "name": "stdout",
     "output_type": "stream",
     "text": [
      "2021-05-06 14:44:48,521 - modnet - INFO - Preset #53 fitting finished, loss: 0.39837185144424436\n"
     ]
    },
    {
     "name": "stderr",
     "output_type": "stream",
     "text": [
      " 75%|███████▌  | 271/360 [55:28<17:36, 11.87s/it]"
     ]
    },
    {
     "name": "stdout",
     "output_type": "stream",
     "text": [
      "2021-05-06 14:45:00,055 - modnet - INFO - Preset #59 fitting finished, loss: 0.505171537399292\n"
     ]
    },
    {
     "name": "stderr",
     "output_type": "stream",
     "text": [
      " 76%|███████▌  | 272/360 [55:40<17:31, 11.95s/it]"
     ]
    },
    {
     "name": "stdout",
     "output_type": "stream",
     "text": [
      "2021-05-06 14:45:42,174 - modnet - INFO - Preset #53 fitting finished, loss: 0.3592745840549469\n"
     ]
    },
    {
     "name": "stderr",
     "output_type": "stream",
     "text": [
      " 76%|███████▌  | 273/360 [56:22<30:17, 20.89s/it]"
     ]
    },
    {
     "name": "stdout",
     "output_type": "stream",
     "text": [
      "2021-05-06 14:47:43,617 - modnet - INFO - Preset #58 fitting finished, loss: 0.34523738622665406\n"
     ]
    },
    {
     "name": "stderr",
     "output_type": "stream",
     "text": [
      " 76%|███████▌  | 274/360 [58:23<1:13:09, 51.04s/it]"
     ]
    },
    {
     "name": "stdout",
     "output_type": "stream",
     "text": [
      "2021-05-06 14:48:21,646 - modnet - INFO - Preset #65 fitting finished, loss: 0.4523506224155426\n"
     ]
    },
    {
     "name": "stderr",
     "output_type": "stream",
     "text": [
      " 76%|███████▋  | 275/360 [59:01<1:06:46, 47.14s/it]"
     ]
    },
    {
     "name": "stdout",
     "output_type": "stream",
     "text": [
      "2021-05-06 14:48:54,870 - modnet - INFO - Preset #58 fitting finished, loss: 0.4557006239891052\n"
     ]
    },
    {
     "name": "stderr",
     "output_type": "stream",
     "text": [
      " 77%|███████▋  | 276/360 [59:35<1:00:18, 43.07s/it]"
     ]
    },
    {
     "name": "stdout",
     "output_type": "stream",
     "text": [
      "2021-05-06 14:48:57,187 - modnet - INFO - Preset #57 fitting finished, loss: 10.237055671215057\n"
     ]
    },
    {
     "name": "stderr",
     "output_type": "stream",
     "text": [
      " 77%|███████▋  | 277/360 [59:37<42:42, 30.87s/it]  "
     ]
    },
    {
     "name": "stdout",
     "output_type": "stream",
     "text": [
      "2021-05-06 14:48:58,508 - modnet - INFO - Preset #64 fitting finished, loss: 3.6973957061767577\n"
     ]
    },
    {
     "name": "stderr",
     "output_type": "stream",
     "text": [
      " 77%|███████▋  | 278/360 [59:38<29:54, 21.89s/it]"
     ]
    },
    {
     "name": "stdout",
     "output_type": "stream",
     "text": [
      "2021-05-06 14:49:02,732 - modnet - INFO - Preset #56 fitting finished, loss: 1.751979947090149\n"
     ]
    },
    {
     "name": "stderr",
     "output_type": "stream",
     "text": [
      " 78%|███████▊  | 279/360 [59:42<22:25, 16.61s/it]"
     ]
    },
    {
     "name": "stdout",
     "output_type": "stream",
     "text": [
      "2021-05-06 14:49:38,125 - modnet - INFO - Preset #64 fitting finished, loss: 0.3478668391704559\n"
     ]
    },
    {
     "name": "stderr",
     "output_type": "stream",
     "text": [
      " 78%|███████▊  | 280/360 [1:00:18<29:37, 22.22s/it]"
     ]
    },
    {
     "name": "stdout",
     "output_type": "stream",
     "text": [
      "2021-05-06 14:49:39,064 - modnet - INFO - Preset #58 fitting finished, loss: 0.5043595671653748\n"
     ]
    },
    {
     "name": "stderr",
     "output_type": "stream",
     "text": [
      " 78%|███████▊  | 281/360 [1:00:19<20:57, 15.92s/it]"
     ]
    },
    {
     "name": "stdout",
     "output_type": "stream",
     "text": [
      "2021-05-06 14:49:40,302 - modnet - INFO - Preset #58 fitting finished, loss: 8.05449423789978\n"
     ]
    },
    {
     "name": "stderr",
     "output_type": "stream",
     "text": [
      " 78%|███████▊  | 282/360 [1:00:28<18:01, 13.86s/it]"
     ]
    },
    {
     "name": "stdout",
     "output_type": "stream",
     "text": [
      "2021-05-06 14:49:49,323 - modnet - INFO - Preset #59 fitting finished, loss: 8.19514274597168\n"
     ]
    },
    {
     "name": "stderr",
     "output_type": "stream",
     "text": [
      " 79%|███████▊  | 283/360 [1:00:30<13:00, 10.14s/it]"
     ]
    },
    {
     "name": "stdout",
     "output_type": "stream",
     "text": [
      "2021-05-06 14:50:14,287 - modnet - INFO - Preset #57 fitting finished, loss: 0.33172468543052674\n"
     ]
    },
    {
     "name": "stderr",
     "output_type": "stream",
     "text": [
      " 79%|███████▉  | 284/360 [1:00:54<18:26, 14.55s/it]"
     ]
    },
    {
     "name": "stdout",
     "output_type": "stream",
     "text": [
      "2021-05-06 14:50:16,700 - modnet - INFO - Preset #65 fitting finished, loss: 1.3688006281852723\n"
     ]
    },
    {
     "name": "stderr",
     "output_type": "stream",
     "text": [
      " 79%|███████▉  | 285/360 [1:00:57<13:36, 10.89s/it]"
     ]
    },
    {
     "name": "stdout",
     "output_type": "stream",
     "text": [
      "2021-05-06 14:50:36,799 - modnet - INFO - Preset #64 fitting finished, loss: 0.5039737939834594\n"
     ]
    },
    {
     "name": "stderr",
     "output_type": "stream",
     "text": [
      " 79%|███████▉  | 286/360 [1:01:17<16:52, 13.69s/it]"
     ]
    },
    {
     "name": "stdout",
     "output_type": "stream",
     "text": [
      "2021-05-06 14:50:38,193 - modnet - INFO - Preset #64 fitting finished, loss: 0.4349739015102386\n"
     ]
    },
    {
     "name": "stderr",
     "output_type": "stream",
     "text": [
      " 80%|███████▉  | 287/360 [1:01:18<12:13, 10.05s/it]"
     ]
    },
    {
     "name": "stdout",
     "output_type": "stream",
     "text": [
      "2021-05-06 14:51:01,438 - modnet - INFO - Preset #65 fitting finished, loss: 0.34632370471954343\n"
     ]
    },
    {
     "name": "stderr",
     "output_type": "stream",
     "text": [
      " 80%|████████  | 288/360 [1:01:41<16:42, 13.92s/it]"
     ]
    },
    {
     "name": "stdout",
     "output_type": "stream",
     "text": [
      "2021-05-06 14:51:02,701 - modnet - INFO - Preset #62 fitting finished, loss: 0.45153842568397523\n"
     ]
    },
    {
     "name": "stderr",
     "output_type": "stream",
     "text": [
      " 80%|████████  | 289/360 [1:01:43<11:57, 10.11s/it]"
     ]
    },
    {
     "name": "stdout",
     "output_type": "stream",
     "text": [
      "2021-05-06 14:51:04,036 - modnet - INFO - Preset #62 fitting finished, loss: 0.42949606776237487\n"
     ]
    },
    {
     "name": "stderr",
     "output_type": "stream",
     "text": [
      " 81%|████████  | 290/360 [1:01:44<08:40,  7.43s/it]"
     ]
    },
    {
     "name": "stdout",
     "output_type": "stream",
     "text": [
      "2021-05-06 14:51:13,086 - modnet - INFO - Preset #59 fitting finished, loss: 0.4507825613021851\n"
     ]
    },
    {
     "name": "stderr",
     "output_type": "stream",
     "text": [
      " 81%|████████  | 291/360 [1:01:53<09:07,  7.94s/it]"
     ]
    },
    {
     "name": "stdout",
     "output_type": "stream",
     "text": [
      "2021-05-06 14:51:15,687 - modnet - INFO - Preset #59 fitting finished, loss: 0.34963674545288087\n"
     ]
    },
    {
     "name": "stderr",
     "output_type": "stream",
     "text": [
      " 81%|████████  | 292/360 [1:01:56<07:17,  6.43s/it]"
     ]
    },
    {
     "name": "stdout",
     "output_type": "stream",
     "text": [
      "2021-05-06 14:51:17,133 - modnet - INFO - Preset #59 fitting finished, loss: 0.43341904878616333\n"
     ]
    },
    {
     "name": "stderr",
     "output_type": "stream",
     "text": [
      " 81%|████████▏ | 293/360 [1:01:57<05:30,  4.94s/it]"
     ]
    },
    {
     "name": "stdout",
     "output_type": "stream",
     "text": [
      "2021-05-06 14:51:18,656 - modnet - INFO - Preset #57 fitting finished, loss: 0.45122804641723635\n"
     ]
    },
    {
     "name": "stderr",
     "output_type": "stream",
     "text": [
      " 82%|████████▏ | 294/360 [1:01:59<04:16,  3.89s/it]"
     ]
    },
    {
     "name": "stdout",
     "output_type": "stream",
     "text": [
      "2021-05-06 14:51:35,513 - modnet - INFO - Preset #57 fitting finished, loss: 0.5040662050247192\n"
     ]
    },
    {
     "name": "stderr",
     "output_type": "stream",
     "text": [
      " 82%|████████▏ | 295/360 [1:02:15<08:13,  7.59s/it]"
     ]
    },
    {
     "name": "stdout",
     "output_type": "stream",
     "text": [
      "2021-05-06 14:51:51,213 - modnet - INFO - Preset #56 fitting finished, loss: 0.3446038007736206\n"
     ]
    },
    {
     "name": "stderr",
     "output_type": "stream",
     "text": [
      " 82%|████████▏ | 296/360 [1:02:31<10:42, 10.04s/it]"
     ]
    },
    {
     "name": "stdout",
     "output_type": "stream",
     "text": [
      "2021-05-06 14:51:55,103 - modnet - INFO - Preset #63 fitting finished, loss: 100.71893951892852\n"
     ]
    },
    {
     "name": "stderr",
     "output_type": "stream",
     "text": [
      " 82%|████████▎ | 297/360 [1:02:35<08:36,  8.19s/it]"
     ]
    },
    {
     "name": "stdout",
     "output_type": "stream",
     "text": [
      "2021-05-06 14:52:27,256 - modnet - INFO - Preset #65 fitting finished, loss: 0.4374056041240692\n"
     ]
    },
    {
     "name": "stderr",
     "output_type": "stream",
     "text": [
      " 83%|████████▎ | 298/360 [1:03:07<15:52, 15.36s/it]"
     ]
    },
    {
     "name": "stdout",
     "output_type": "stream",
     "text": [
      "2021-05-06 14:52:42,776 - modnet - INFO - Preset #65 fitting finished, loss: 0.49853785037994386\n"
     ]
    },
    {
     "name": "stderr",
     "output_type": "stream",
     "text": [
      " 83%|████████▎ | 299/360 [1:03:22<15:40, 15.43s/it]"
     ]
    },
    {
     "name": "stdout",
     "output_type": "stream",
     "text": [
      "2021-05-06 14:52:55,199 - modnet - INFO - Preset #57 fitting finished, loss: 0.43215491771698\n"
     ]
    },
    {
     "name": "stderr",
     "output_type": "stream",
     "text": [
      " 83%|████████▎ | 300/360 [1:03:35<14:34, 14.58s/it]"
     ]
    },
    {
     "name": "stdout",
     "output_type": "stream",
     "text": [
      "2021-05-06 14:53:11,049 - modnet - INFO - Preset #62 fitting finished, loss: 0.32051377296447753\n"
     ]
    },
    {
     "name": "stderr",
     "output_type": "stream",
     "text": [
      " 84%|████████▎ | 301/360 [1:03:50<14:36, 14.85s/it]"
     ]
    },
    {
     "name": "stdout",
     "output_type": "stream",
     "text": [
      "2021-05-06 14:53:24,510 - modnet - INFO - Preset #63 fitting finished, loss: 0.3344408214092255\n"
     ]
    },
    {
     "name": "stderr",
     "output_type": "stream",
     "text": [
      " 84%|████████▍ | 302/360 [1:04:04<13:59, 14.48s/it]"
     ]
    },
    {
     "name": "stdout",
     "output_type": "stream",
     "text": [
      "2021-05-06 14:54:03,060 - modnet - INFO - Preset #60 fitting finished, loss: 0.3645280361175537\n"
     ]
    },
    {
     "name": "stderr",
     "output_type": "stream",
     "text": [
      " 84%|████████▍ | 303/360 [1:04:43<20:37, 21.71s/it]"
     ]
    },
    {
     "name": "stdout",
     "output_type": "stream",
     "text": [
      "2021-05-06 14:54:42,936 - modnet - INFO - Preset #56 fitting finished, loss: 0.3907451152801514\n"
     ]
    },
    {
     "name": "stderr",
     "output_type": "stream",
     "text": [
      " 84%|████████▍ | 304/360 [1:05:23<25:22, 27.19s/it]"
     ]
    },
    {
     "name": "stdout",
     "output_type": "stream",
     "text": [
      "2021-05-06 14:55:16,065 - modnet - INFO - Preset #70 fitting finished, loss: 4.055532455444336\n"
     ]
    },
    {
     "name": "stderr",
     "output_type": "stream",
     "text": [
      " 85%|████████▍ | 305/360 [1:05:55<26:30, 28.91s/it]"
     ]
    },
    {
     "name": "stdout",
     "output_type": "stream",
     "text": [
      "2021-05-06 14:55:32,429 - modnet - INFO - Preset #61 fitting finished, loss: 0.3616564035415649\n"
     ]
    },
    {
     "name": "stderr",
     "output_type": "stream",
     "text": [
      " 85%|████████▌ | 306/360 [1:06:12<22:34, 25.08s/it]"
     ]
    },
    {
     "name": "stdout",
     "output_type": "stream",
     "text": [
      "2021-05-06 14:55:42,937 - modnet - INFO - Preset #63 fitting finished, loss: 0.38824973106384275\n"
     ]
    },
    {
     "name": "stderr",
     "output_type": "stream",
     "text": [
      " 85%|████████▌ | 307/360 [1:06:22<18:21, 20.79s/it]"
     ]
    },
    {
     "name": "stdout",
     "output_type": "stream",
     "text": [
      "2021-05-06 14:56:07,884 - modnet - INFO - Preset #63 fitting finished, loss: 0.38156495690345765\n"
     ]
    },
    {
     "name": "stderr",
     "output_type": "stream",
     "text": [
      " 86%|████████▌ | 308/360 [1:06:47<19:03, 21.98s/it]"
     ]
    },
    {
     "name": "stdout",
     "output_type": "stream",
     "text": [
      "2021-05-06 14:56:39,290 - modnet - INFO - Preset #71 fitting finished, loss: 11.694857239723206\n"
     ]
    },
    {
     "name": "stderr",
     "output_type": "stream",
     "text": [
      " 86%|████████▌ | 309/360 [1:07:19<21:04, 24.80s/it]"
     ]
    },
    {
     "name": "stdout",
     "output_type": "stream",
     "text": [
      "2021-05-06 14:56:58,820 - modnet - INFO - Preset #60 fitting finished, loss: 96.36907958984375\n"
     ]
    },
    {
     "name": "stderr",
     "output_type": "stream",
     "text": [
      " 86%|████████▌ | 310/360 [1:07:38<19:21, 23.22s/it]"
     ]
    },
    {
     "name": "stdout",
     "output_type": "stream",
     "text": [
      "2021-05-06 14:57:14,071 - modnet - INFO - Preset #58 fitting finished, loss: 0.42240904569625853\n"
     ]
    },
    {
     "name": "stderr",
     "output_type": "stream",
     "text": [
      " 86%|████████▋ | 311/360 [1:07:53<17:02, 20.86s/it]"
     ]
    },
    {
     "name": "stdout",
     "output_type": "stream",
     "text": [
      "2021-05-06 14:57:21,427 - modnet - INFO - Preset #70 fitting finished, loss: 0.34987565875053406\n"
     ]
    },
    {
     "name": "stderr",
     "output_type": "stream",
     "text": [
      " 87%|████████▋ | 312/360 [1:08:01<13:26, 16.80s/it]"
     ]
    },
    {
     "name": "stdout",
     "output_type": "stream",
     "text": [
      "2021-05-06 14:57:45,302 - modnet - INFO - Preset #64 fitting finished, loss: 0.4301831662654877\n"
     ]
    },
    {
     "name": "stderr",
     "output_type": "stream",
     "text": [
      " 87%|████████▋ | 313/360 [1:08:25<14:48, 18.91s/it]"
     ]
    },
    {
     "name": "stdout",
     "output_type": "stream",
     "text": [
      "2021-05-06 14:58:40,895 - modnet - INFO - Preset #61 fitting finished, loss: 57.58862466812134\n"
     ]
    },
    {
     "name": "stderr",
     "output_type": "stream",
     "text": [
      " 87%|████████▋ | 314/360 [1:09:20<22:54, 29.89s/it]"
     ]
    },
    {
     "name": "stdout",
     "output_type": "stream",
     "text": [
      "2021-05-06 14:59:33,076 - modnet - INFO - Preset #71 fitting finished, loss: 0.3490328252315521\n"
     ]
    },
    {
     "name": "stderr",
     "output_type": "stream",
     "text": [
      " 88%|████████▊ | 315/360 [1:10:12<27:28, 36.63s/it]"
     ]
    },
    {
     "name": "stdout",
     "output_type": "stream",
     "text": [
      "2021-05-06 14:59:47,884 - modnet - INFO - Preset #70 fitting finished, loss: 0.41344202756881715\n"
     ]
    },
    {
     "name": "stderr",
     "output_type": "stream",
     "text": [
      " 88%|████████▊ | 316/360 [1:10:27<22:05, 30.13s/it]"
     ]
    },
    {
     "name": "stdout",
     "output_type": "stream",
     "text": [
      "2021-05-06 15:00:20,983 - modnet - INFO - Preset #67 fitting finished, loss: 0.27475200295448304\n"
     ]
    },
    {
     "name": "stderr",
     "output_type": "stream",
     "text": [
      " 88%|████████▊ | 317/360 [1:11:00<22:12, 31.00s/it]"
     ]
    },
    {
     "name": "stdout",
     "output_type": "stream",
     "text": [
      "2021-05-06 15:00:40,314 - modnet - INFO - Preset #55 fitting finished, loss: 83.51862945556641\n"
     ]
    },
    {
     "name": "stderr",
     "output_type": "stream",
     "text": [
      " 88%|████████▊ | 318/360 [1:11:20<19:14, 27.48s/it]"
     ]
    },
    {
     "name": "stdout",
     "output_type": "stream",
     "text": [
      "2021-05-06 15:00:54,176 - modnet - INFO - Preset #66 fitting finished, loss: 0.2874619722366333\n"
     ]
    },
    {
     "name": "stderr",
     "output_type": "stream",
     "text": [
      " 89%|████████▊ | 319/360 [1:11:33<15:57, 23.37s/it]"
     ]
    },
    {
     "name": "stdout",
     "output_type": "stream",
     "text": [
      "2021-05-06 15:00:58,057 - modnet - INFO - Preset #71 fitting finished, loss: 0.42189315557479856\n"
     ]
    },
    {
     "name": "stderr",
     "output_type": "stream",
     "text": [
      " 89%|████████▉ | 320/360 [1:11:37<11:41, 17.53s/it]"
     ]
    },
    {
     "name": "stdout",
     "output_type": "stream",
     "text": [
      "2021-05-06 15:01:00,217 - modnet - INFO - Preset #60 fitting finished, loss: 0.30272834897041323\n"
     ]
    },
    {
     "name": "stderr",
     "output_type": "stream",
     "text": [
      " 89%|████████▉ | 321/360 [1:11:40<08:23, 12.92s/it]"
     ]
    },
    {
     "name": "stdout",
     "output_type": "stream",
     "text": [
      "2021-05-06 15:01:19,274 - modnet - INFO - Preset #66 fitting finished, loss: 0.3489227592945099\n"
     ]
    },
    {
     "name": "stderr",
     "output_type": "stream",
     "text": [
      " 89%|████████▉ | 322/360 [1:11:58<09:19, 14.71s/it]"
     ]
    },
    {
     "name": "stdout",
     "output_type": "stream",
     "text": [
      "2021-05-06 15:01:29,015 - modnet - INFO - Preset #60 fitting finished, loss: 0.3040260374546051\n"
     ]
    },
    {
     "name": "stderr",
     "output_type": "stream",
     "text": [
      " 90%|████████▉ | 323/360 [1:12:09<08:13, 13.33s/it]"
     ]
    },
    {
     "name": "stdout",
     "output_type": "stream",
     "text": [
      "2021-05-06 15:01:29,814 - modnet - INFO - Preset #54 fitting finished, loss: 0.3679739058017731\n"
     ]
    },
    {
     "name": "stderr",
     "output_type": "stream",
     "text": [
      " 90%|█████████ | 324/360 [1:12:09<05:42,  9.51s/it]"
     ]
    },
    {
     "name": "stdout",
     "output_type": "stream",
     "text": [
      "2021-05-06 15:01:42,306 - modnet - INFO - Preset #55 fitting finished, loss: 0.33135289549827573\n"
     ]
    },
    {
     "name": "stderr",
     "output_type": "stream",
     "text": [
      " 90%|█████████ | 325/360 [1:12:22<06:06, 10.47s/it]"
     ]
    },
    {
     "name": "stdout",
     "output_type": "stream",
     "text": [
      "2021-05-06 15:02:25,710 - modnet - INFO - Preset #69 fitting finished, loss: 0.32257946729660036\n"
     ]
    },
    {
     "name": "stderr",
     "output_type": "stream",
     "text": [
      " 91%|█████████ | 326/360 [1:13:05<11:29, 20.28s/it]"
     ]
    },
    {
     "name": "stdout",
     "output_type": "stream",
     "text": [
      "2021-05-06 15:02:46,972 - modnet - INFO - Preset #71 fitting finished, loss: 0.3610232055187225\n"
     ]
    },
    {
     "name": "stderr",
     "output_type": "stream",
     "text": [
      " 91%|█████████ | 327/360 [1:13:26<11:19, 20.59s/it]"
     ]
    },
    {
     "name": "stdout",
     "output_type": "stream",
     "text": [
      "2021-05-06 15:02:54,737 - modnet - INFO - Preset #62 fitting finished, loss: 0.4013764262199402\n"
     ]
    },
    {
     "name": "stderr",
     "output_type": "stream",
     "text": [
      " 91%|█████████ | 328/360 [1:13:34<08:55, 16.73s/it]"
     ]
    },
    {
     "name": "stdout",
     "output_type": "stream",
     "text": [
      "2021-05-06 15:03:24,188 - modnet - INFO - Preset #67 fitting finished, loss: 20.68507776260376\n"
     ]
    },
    {
     "name": "stderr",
     "output_type": "stream",
     "text": [
      " 91%|█████████▏| 329/360 [1:14:03<10:35, 20.50s/it]"
     ]
    },
    {
     "name": "stdout",
     "output_type": "stream",
     "text": [
      "2021-05-06 15:03:26,183 - modnet - INFO - Preset #54 fitting finished, loss: 0.3051431834697723\n"
     ]
    },
    {
     "name": "stderr",
     "output_type": "stream",
     "text": [
      " 92%|█████████▏| 330/360 [1:14:06<07:30, 15.00s/it]"
     ]
    },
    {
     "name": "stdout",
     "output_type": "stream",
     "text": [
      "2021-05-06 15:03:33,632 - modnet - INFO - Preset #69 fitting finished, loss: 0.3498063623905182\n"
     ]
    },
    {
     "name": "stderr",
     "output_type": "stream",
     "text": [
      " 92%|█████████▏| 331/360 [1:14:13<06:10, 12.77s/it]"
     ]
    },
    {
     "name": "stdout",
     "output_type": "stream",
     "text": [
      "2021-05-06 15:03:53,088 - modnet - INFO - Preset #54 fitting finished, loss: 0.41212157607078553\n"
     ]
    },
    {
     "name": "stderr",
     "output_type": "stream",
     "text": [
      " 92%|█████████▏| 332/360 [1:14:32<06:52, 14.73s/it]"
     ]
    },
    {
     "name": "stdout",
     "output_type": "stream",
     "text": [
      "2021-05-06 15:04:05,319 - modnet - INFO - Preset #67 fitting finished, loss: 0.39223732352256774\n"
     ]
    },
    {
     "name": "stderr",
     "output_type": "stream",
     "text": [
      " 92%|█████████▎| 333/360 [1:14:45<06:19, 14.07s/it]"
     ]
    },
    {
     "name": "stdout",
     "output_type": "stream",
     "text": [
      "2021-05-06 15:04:07,812 - modnet - INFO - Preset #70 fitting finished, loss: 0.4322250008583069\n"
     ]
    },
    {
     "name": "stderr",
     "output_type": "stream",
     "text": [
      " 93%|█████████▎| 334/360 [1:14:47<04:33, 10.53s/it]"
     ]
    },
    {
     "name": "stdout",
     "output_type": "stream",
     "text": [
      "2021-05-06 15:04:22,052 - modnet - INFO - Preset #55 fitting finished, loss: 0.40308173298835753\n"
     ]
    },
    {
     "name": "stderr",
     "output_type": "stream",
     "text": [
      " 93%|█████████▎| 335/360 [1:15:01<04:50, 11.62s/it]"
     ]
    },
    {
     "name": "stdout",
     "output_type": "stream",
     "text": [
      "2021-05-06 15:04:26,678 - modnet - INFO - Preset #68 fitting finished, loss: 0.3501694738864899\n"
     ]
    },
    {
     "name": "stderr",
     "output_type": "stream",
     "text": [
      " 93%|█████████▎| 336/360 [1:15:06<03:48,  9.54s/it]"
     ]
    },
    {
     "name": "stdout",
     "output_type": "stream",
     "text": [
      "2021-05-06 15:04:58,557 - modnet - INFO - Preset #66 fitting finished, loss: 18.652712631225587\n"
     ]
    },
    {
     "name": "stderr",
     "output_type": "stream",
     "text": [
      " 94%|█████████▎| 337/360 [1:15:38<06:12, 16.18s/it]"
     ]
    },
    {
     "name": "stdout",
     "output_type": "stream",
     "text": [
      "2021-05-06 15:05:13,894 - modnet - INFO - Preset #69 fitting finished, loss: 0.3538299143314362\n"
     ]
    },
    {
     "name": "stderr",
     "output_type": "stream",
     "text": [
      " 94%|█████████▍| 338/360 [1:15:53<05:52, 16.02s/it]"
     ]
    },
    {
     "name": "stdout",
     "output_type": "stream",
     "text": [
      "2021-05-06 15:05:25,810 - modnet - INFO - Preset #66 fitting finished, loss: 0.313199508190155\n"
     ]
    },
    {
     "name": "stderr",
     "output_type": "stream",
     "text": [
      " 94%|█████████▍| 339/360 [1:16:05<05:08, 14.71s/it]"
     ]
    },
    {
     "name": "stdout",
     "output_type": "stream",
     "text": [
      "2021-05-06 15:05:26,433 - modnet - INFO - Preset #61 fitting finished, loss: 0.3969955325126648\n"
     ]
    },
    {
     "name": "stderr",
     "output_type": "stream",
     "text": [
      " 94%|█████████▍| 340/360 [1:16:06<03:29, 10.49s/it]"
     ]
    },
    {
     "name": "stdout",
     "output_type": "stream",
     "text": [
      "2021-05-06 15:05:37,976 - modnet - INFO - Preset #71 fitting finished, loss: 0.42134952545166016\n"
     ]
    },
    {
     "name": "stderr",
     "output_type": "stream",
     "text": [
      " 95%|█████████▍| 341/360 [1:16:17<03:25, 10.83s/it]"
     ]
    },
    {
     "name": "stdout",
     "output_type": "stream",
     "text": [
      "2021-05-06 15:05:46,817 - modnet - INFO - Preset #69 fitting finished, loss: 0.4076852560043335\n"
     ]
    },
    {
     "name": "stderr",
     "output_type": "stream",
     "text": [
      " 95%|█████████▌| 342/360 [1:16:26<03:03, 10.20s/it]"
     ]
    },
    {
     "name": "stdout",
     "output_type": "stream",
     "text": [
      "2021-05-06 15:05:54,353 - modnet - INFO - Preset #67 fitting finished, loss: 0.3098918855190277\n"
     ]
    },
    {
     "name": "stderr",
     "output_type": "stream",
     "text": [
      " 95%|█████████▌| 343/360 [1:16:34<02:40,  9.42s/it]"
     ]
    },
    {
     "name": "stdout",
     "output_type": "stream",
     "text": [
      "2021-05-06 15:06:03,349 - modnet - INFO - Preset #68 fitting finished, loss: 0.41262394189834595\n"
     ]
    },
    {
     "name": "stderr",
     "output_type": "stream",
     "text": [
      " 96%|█████████▌| 344/360 [1:16:43<02:28,  9.29s/it]"
     ]
    },
    {
     "name": "stdout",
     "output_type": "stream",
     "text": [
      "2021-05-06 15:06:12,693 - modnet - INFO - Preset #68 fitting finished, loss: 733.2074031829834\n"
     ]
    },
    {
     "name": "stderr",
     "output_type": "stream",
     "text": [
      " 96%|█████████▌| 345/360 [1:16:52<02:19,  9.32s/it]"
     ]
    },
    {
     "name": "stdout",
     "output_type": "stream",
     "text": [
      "2021-05-06 15:06:30,756 - modnet - INFO - Preset #68 fitting finished, loss: 0.3270390510559082\n"
     ]
    },
    {
     "name": "stderr",
     "output_type": "stream",
     "text": [
      " 96%|█████████▌| 346/360 [1:17:10<02:46, 11.88s/it]"
     ]
    },
    {
     "name": "stdout",
     "output_type": "stream",
     "text": [
      "2021-05-06 15:06:37,325 - modnet - INFO - Preset #61 fitting finished, loss: 0.315165764093399\n"
     ]
    },
    {
     "name": "stderr",
     "output_type": "stream",
     "text": [
      " 96%|█████████▋| 347/360 [1:17:16<02:14, 10.31s/it]"
     ]
    },
    {
     "name": "stdout",
     "output_type": "stream",
     "text": [
      "2021-05-06 15:06:42,154 - modnet - INFO - Preset #61 fitting finished, loss: 0.3144599676132202\n"
     ]
    },
    {
     "name": "stderr",
     "output_type": "stream",
     "text": [
      " 97%|█████████▋| 348/360 [1:17:21<01:44,  8.70s/it]"
     ]
    },
    {
     "name": "stdout",
     "output_type": "stream",
     "text": [
      "2021-05-06 15:06:43,442 - modnet - INFO - Preset #70 fitting finished, loss: 0.3783931851387024\n"
     ]
    },
    {
     "name": "stderr",
     "output_type": "stream",
     "text": [
      " 97%|█████████▋| 349/360 [1:17:23<01:11,  6.51s/it]"
     ]
    },
    {
     "name": "stdout",
     "output_type": "stream",
     "text": [
      "2021-05-06 15:06:52,678 - modnet - INFO - Preset #66 fitting finished, loss: 0.4084081411361694\n"
     ]
    },
    {
     "name": "stderr",
     "output_type": "stream",
     "text": [
      " 97%|█████████▋| 350/360 [1:17:32<01:12,  7.30s/it]"
     ]
    },
    {
     "name": "stdout",
     "output_type": "stream",
     "text": [
      "2021-05-06 15:07:09,331 - modnet - INFO - Preset #68 fitting finished, loss: 0.3824043035507202\n"
     ]
    },
    {
     "name": "stderr",
     "output_type": "stream",
     "text": [
      " 98%|█████████▊| 351/360 [1:17:48<01:30, 10.05s/it]"
     ]
    },
    {
     "name": "stdout",
     "output_type": "stream",
     "text": [
      "2021-05-06 15:07:17,466 - modnet - INFO - Preset #63 fitting finished, loss: 0.44203939437866213\n"
     ]
    },
    {
     "name": "stderr",
     "output_type": "stream",
     "text": [
      " 98%|█████████▊| 352/360 [1:17:57<01:16,  9.51s/it]"
     ]
    },
    {
     "name": "stdout",
     "output_type": "stream",
     "text": [
      "2021-05-06 15:07:23,360 - modnet - INFO - Preset #67 fitting finished, loss: 0.34716790318489077\n"
     ]
    },
    {
     "name": "stderr",
     "output_type": "stream",
     "text": [
      " 98%|█████████▊| 353/360 [1:18:03<00:58,  8.40s/it]"
     ]
    },
    {
     "name": "stdout",
     "output_type": "stream",
     "text": [
      "2021-05-06 15:07:31,840 - modnet - INFO - Preset #54 fitting finished, loss: 113.71284065246581\n"
     ]
    },
    {
     "name": "stderr",
     "output_type": "stream",
     "text": [
      " 98%|█████████▊| 354/360 [1:18:11<00:50,  8.44s/it]"
     ]
    },
    {
     "name": "stdout",
     "output_type": "stream",
     "text": [
      "2021-05-06 15:08:37,472 - modnet - INFO - Preset #60 fitting finished, loss: 0.41043641567230227\n"
     ]
    },
    {
     "name": "stderr",
     "output_type": "stream",
     "text": [
      " 99%|█████████▊| 355/360 [1:19:17<02:07, 25.57s/it]"
     ]
    },
    {
     "name": "stdout",
     "output_type": "stream",
     "text": [
      "2021-05-06 15:08:51,184 - modnet - INFO - Preset #69 fitting finished, loss: 1080.0256097733975\n"
     ]
    },
    {
     "name": "stderr",
     "output_type": "stream",
     "text": [
      " 99%|█████████▉| 356/360 [1:19:30<01:28, 22.05s/it]"
     ]
    },
    {
     "name": "stdout",
     "output_type": "stream",
     "text": [
      "2021-05-06 15:09:01,020 - modnet - INFO - Preset #56 fitting finished, loss: 0.47578250169754027\n"
     ]
    },
    {
     "name": "stderr",
     "output_type": "stream",
     "text": [
      " 99%|█████████▉| 357/360 [1:19:40<00:55, 18.37s/it]"
     ]
    },
    {
     "name": "stdout",
     "output_type": "stream",
     "text": [
      "2021-05-06 15:11:55,471 - modnet - INFO - Preset #54 fitting finished, loss: 0.3167069971561432\n"
     ]
    },
    {
     "name": "stderr",
     "output_type": "stream",
     "text": [
      " 99%|█████████▉| 358/360 [1:22:35<02:10, 65.20s/it]"
     ]
    },
    {
     "name": "stdout",
     "output_type": "stream",
     "text": [
      "2021-05-06 15:20:18,087 - modnet - INFO - Preset #55 fitting finished, loss: 0.30649072527885435\n"
     ]
    },
    {
     "name": "stderr",
     "output_type": "stream",
     "text": [
      "100%|█████████▉| 359/360 [1:30:57<03:16, 196.44s/it]"
     ]
    },
    {
     "name": "stdout",
     "output_type": "stream",
     "text": [
      "2021-05-06 15:21:37,539 - modnet - INFO - Preset #55 fitting finished, loss: 0.36258129477500917\n"
     ]
    },
    {
     "name": "stderr",
     "output_type": "stream",
     "text": [
      "100%|██████████| 360/360 [1:32:17<00:00, 15.38s/it] \n"
     ]
    },
    {
     "name": "stdout",
     "output_type": "stream",
     "text": [
      "2021-05-06 15:21:47,229 - modnet - INFO - Preset #27 resulted in lowest validation loss with params {'train_data': <modnet.preprocessing.MODData object at 0x7f56cee843d0>, 'targets': [[['difference']]], 'weights': {'difference': 1}, 'n_models': 5, 'num_classes': {'difference': 0}, 'n_feat': 128, 'num_neurons': [[128], [64], [16], [16]], 'lr': 0.005, 'batch_size': 64, 'epochs': 1000, 'loss': 'mae', 'act': 'elu', 'out_act': 'linear', 'callbacks': [<tensorflow.python.keras.callbacks.EarlyStopping object at 0x7f56bd8164c0>], 'preset_id': 26, 'fold_id': 2, 'verbose': 0, 'val_data': <modnet.preprocessing.MODData object at 0x7f56c1398910>}\n",
      "mae\n",
      "0.27511023066016727\n",
      "uncertainty\n",
      "0.2025571\n",
      "2021-05-06 15:22:29,269 - modnet - INFO - Loaded <modnet.preprocessing.MODData object at 0x7f56c3c0f520> object, created with modnet version 0.1.9\n",
      "2021-05-06 15:22:39,043 - modnet - INFO - Proceeding with grid search: archs: [(64, [[128], [32], [8], [8]]), (64, [[64], [32], [8], [8]]), (64, [[32], [16], [8], [8]]), (128, [[256], [64], [16], [16]]), (128, [[128], [64], [16], [16]]), (128, [[64], [32], [16], [16]]), (256, [[512], [128], [32], [32]]), (256, [[256], [128], [32], [32]]), (256, [[128], [64], [32], [32]]), (512, [[1024], [256], [64], [64]]), (512, [[512], [256], [64], [64]]), (512, [[256], [128], [64], [64]])], batch sizes: [64], learning_rates: [0.001, 0.005, 0.01]\n",
      "2021-05-06 15:22:55,126 - modnet - INFO - Multiprocessing on 64 cores. Total of 128 cores available.\n"
     ]
    },
    {
     "name": "stderr",
     "output_type": "stream",
     "text": [
      "  0%|          | 0/360 [00:00<?, ?it/s]"
     ]
    },
    {
     "name": "stdout",
     "output_type": "stream",
     "text": [
      "2021-05-06 15:36:33,985 - modnet - INFO - Preset #10 fitting finished, loss: 0.30067241191864014\n"
     ]
    },
    {
     "name": "stderr",
     "output_type": "stream",
     "text": [
      "  0%|          | 1/360 [13:40<81:50:24, 820.68s/it]"
     ]
    },
    {
     "name": "stdout",
     "output_type": "stream",
     "text": [
      "2021-05-06 15:39:09,555 - modnet - INFO - Preset #4 fitting finished, loss: 0.3236015796661377\n"
     ]
    },
    {
     "name": "stderr",
     "output_type": "stream",
     "text": [
      "  1%|          | 2/360 [16:16<61:46:17, 621.17s/it]"
     ]
    },
    {
     "name": "stdout",
     "output_type": "stream",
     "text": [
      "2021-05-06 15:39:51,617 - modnet - INFO - Preset #8 fitting finished, loss: 0.38005170226097107\n"
     ]
    },
    {
     "name": "stderr",
     "output_type": "stream",
     "text": [
      "  1%|          | 3/360 [16:58<44:21:39, 447.34s/it]"
     ]
    },
    {
     "name": "stdout",
     "output_type": "stream",
     "text": [
      "2021-05-06 15:40:11,139 - modnet - INFO - Preset #3 fitting finished, loss: 0.33941270112991334\n"
     ]
    },
    {
     "name": "stderr",
     "output_type": "stream",
     "text": [
      "  1%|          | 4/360 [17:17<31:33:00, 319.05s/it]"
     ]
    },
    {
     "name": "stdout",
     "output_type": "stream",
     "text": [
      "2021-05-06 15:40:19,283 - modnet - INFO - Preset #5 fitting finished, loss: 0.3264327526092529\n"
     ]
    },
    {
     "name": "stderr",
     "output_type": "stream",
     "text": [
      "  1%|▏         | 5/360 [17:25<22:15:52, 225.78s/it]"
     ]
    },
    {
     "name": "stdout",
     "output_type": "stream",
     "text": [
      "2021-05-06 15:40:21,112 - modnet - INFO - Preset #4 fitting finished, loss: 0.43752768635749817\n"
     ]
    },
    {
     "name": "stderr",
     "output_type": "stream",
     "text": [
      "  2%|▏         | 6/360 [17:27<15:35:45, 158.60s/it]"
     ]
    },
    {
     "name": "stdout",
     "output_type": "stream",
     "text": [
      "2021-05-06 15:40:45,376 - modnet - INFO - Preset #11 fitting finished, loss: 0.42531631588935853\n"
     ]
    },
    {
     "name": "stderr",
     "output_type": "stream",
     "text": [
      "  2%|▏         | 7/360 [17:54<11:39:29, 118.89s/it]"
     ]
    },
    {
     "name": "stdout",
     "output_type": "stream",
     "text": [
      "2021-05-06 15:40:51,180 - modnet - INFO - Preset #11 fitting finished, loss: 0.3228204667568207\n"
     ]
    },
    {
     "name": "stderr",
     "output_type": "stream",
     "text": [
      "  2%|▏         | 8/360 [17:57<8:14:41, 84.32s/it]  "
     ]
    },
    {
     "name": "stdout",
     "output_type": "stream",
     "text": [
      "2021-05-06 15:40:54,636 - modnet - INFO - Preset #10 fitting finished, loss: 0.31635700464248656\n"
     ]
    },
    {
     "name": "stderr",
     "output_type": "stream",
     "text": [
      "  2%|▎         | 9/360 [18:00<5:51:05, 60.02s/it]"
     ]
    },
    {
     "name": "stdout",
     "output_type": "stream",
     "text": [
      "2021-05-06 15:41:06,963 - modnet - INFO - Preset #11 fitting finished, loss: 0.31801444888114927\n"
     ]
    },
    {
     "name": "stderr",
     "output_type": "stream",
     "text": [
      "  3%|▎         | 10/360 [18:12<4:26:02, 45.61s/it]"
     ]
    },
    {
     "name": "stdout",
     "output_type": "stream",
     "text": [
      "2021-05-06 15:41:25,482 - modnet - INFO - Preset #5 fitting finished, loss: 0.33344419598579406\n"
     ]
    },
    {
     "name": "stderr",
     "output_type": "stream",
     "text": [
      "  3%|▎         | 11/360 [18:31<3:38:32, 37.57s/it]"
     ]
    },
    {
     "name": "stdout",
     "output_type": "stream",
     "text": [
      "2021-05-06 15:41:33,252 - modnet - INFO - Preset #10 fitting finished, loss: 0.3810091972351074\n"
     ]
    },
    {
     "name": "stderr",
     "output_type": "stream",
     "text": [
      "  3%|▎         | 12/360 [18:39<2:46:02, 28.63s/it]"
     ]
    },
    {
     "name": "stdout",
     "output_type": "stream",
     "text": [
      "2021-05-06 15:41:53,908 - modnet - INFO - Preset #4 fitting finished, loss: 0.3724012076854706\n"
     ]
    },
    {
     "name": "stderr",
     "output_type": "stream",
     "text": [
      "  4%|▎         | 13/360 [19:00<2:31:34, 26.21s/it]"
     ]
    },
    {
     "name": "stdout",
     "output_type": "stream",
     "text": [
      "2021-05-06 15:41:55,289 - modnet - INFO - Preset #3 fitting finished, loss: 0.3870870769023895\n"
     ]
    },
    {
     "name": "stderr",
     "output_type": "stream",
     "text": [
      "  4%|▍         | 14/360 [19:01<1:47:45, 18.69s/it]"
     ]
    },
    {
     "name": "stdout",
     "output_type": "stream",
     "text": [
      "2021-05-06 15:42:00,551 - modnet - INFO - Preset #3 fitting finished, loss: 0.33755101561546325\n"
     ]
    },
    {
     "name": "stderr",
     "output_type": "stream",
     "text": [
      "  4%|▍         | 15/360 [19:06<1:24:43, 14.73s/it]"
     ]
    },
    {
     "name": "stdout",
     "output_type": "stream",
     "text": [
      "2021-05-06 15:42:12,133 - modnet - INFO - Preset #5 fitting finished, loss: 0.42060641050338743\n"
     ]
    },
    {
     "name": "stderr",
     "output_type": "stream",
     "text": [
      "  4%|▍         | 16/360 [19:18<1:19:15, 13.82s/it]"
     ]
    },
    {
     "name": "stdout",
     "output_type": "stream",
     "text": [
      "2021-05-06 15:42:16,500 - modnet - INFO - Preset #11 fitting finished, loss: 0.3703689813613892\n"
     ]
    },
    {
     "name": "stderr",
     "output_type": "stream",
     "text": [
      "  5%|▍         | 17/360 [19:22<1:02:25, 10.92s/it]"
     ]
    },
    {
     "name": "stdout",
     "output_type": "stream",
     "text": [
      "2021-05-06 15:42:23,144 - modnet - INFO - Preset #8 fitting finished, loss: 0.3780972361564636\n"
     ]
    },
    {
     "name": "stderr",
     "output_type": "stream",
     "text": [
      "  5%|▌         | 18/360 [19:29<55:02,  9.66s/it]  "
     ]
    },
    {
     "name": "stdout",
     "output_type": "stream",
     "text": [
      "2021-05-06 15:42:24,482 - modnet - INFO - Preset #9 fitting finished, loss: 0.3493371903896332\n"
     ]
    },
    {
     "name": "stderr",
     "output_type": "stream",
     "text": [
      "  5%|▌         | 19/360 [19:30<41:01,  7.22s/it]"
     ]
    },
    {
     "name": "stdout",
     "output_type": "stream",
     "text": [
      "2021-05-06 15:43:08,095 - modnet - INFO - Preset #3 fitting finished, loss: 0.3673373818397522\n"
     ]
    },
    {
     "name": "stderr",
     "output_type": "stream",
     "text": [
      "  6%|▌         | 20/360 [20:13<1:41:39, 17.94s/it]"
     ]
    },
    {
     "name": "stdout",
     "output_type": "stream",
     "text": [
      "2021-05-06 15:43:08,971 - modnet - INFO - Preset #9 fitting finished, loss: 0.3898055613040924\n"
     ]
    },
    {
     "name": "stderr",
     "output_type": "stream",
     "text": [
      "  6%|▌         | 21/360 [20:14<1:12:54, 12.90s/it]"
     ]
    },
    {
     "name": "stdout",
     "output_type": "stream",
     "text": [
      "2021-05-06 15:43:15,428 - modnet - INFO - Preset #2 fitting finished, loss: 0.3834984004497528\n"
     ]
    },
    {
     "name": "stderr",
     "output_type": "stream",
     "text": [
      "  6%|▌         | 22/360 [20:21<1:02:12, 11.04s/it]"
     ]
    },
    {
     "name": "stdout",
     "output_type": "stream",
     "text": [
      "2021-05-06 15:43:27,538 - modnet - INFO - Preset #9 fitting finished, loss: 0.37005361914634705\n"
     ]
    },
    {
     "name": "stderr",
     "output_type": "stream",
     "text": [
      "  6%|▋         | 23/360 [20:33<1:02:54, 11.20s/it]"
     ]
    },
    {
     "name": "stdout",
     "output_type": "stream",
     "text": [
      "2021-05-06 15:43:33,574 - modnet - INFO - Preset #3 fitting finished, loss: 0.4378797709941864\n"
     ]
    },
    {
     "name": "stderr",
     "output_type": "stream",
     "text": [
      "  7%|▋         | 24/360 [20:39<54:48,  9.79s/it]  "
     ]
    },
    {
     "name": "stdout",
     "output_type": "stream",
     "text": [
      "2021-05-06 15:43:34,886 - modnet - INFO - Preset #4 fitting finished, loss: 0.32336491346359253\n"
     ]
    },
    {
     "name": "stderr",
     "output_type": "stream",
     "text": [
      "  7%|▋         | 25/360 [20:40<40:04,  7.18s/it]"
     ]
    },
    {
     "name": "stdout",
     "output_type": "stream",
     "text": [
      "2021-05-06 15:43:52,892 - modnet - INFO - Preset #4 fitting finished, loss: 0.359358811378479\n"
     ]
    },
    {
     "name": "stderr",
     "output_type": "stream",
     "text": [
      "  7%|▋         | 26/360 [20:58<58:00, 10.42s/it]"
     ]
    },
    {
     "name": "stdout",
     "output_type": "stream",
     "text": [
      "2021-05-06 15:44:02,283 - modnet - INFO - Preset #7 fitting finished, loss: 0.37007089257240294\n"
     ]
    },
    {
     "name": "stderr",
     "output_type": "stream",
     "text": [
      "  8%|▊         | 27/360 [21:07<55:49, 10.06s/it]"
     ]
    },
    {
     "name": "stdout",
     "output_type": "stream",
     "text": [
      "2021-05-06 15:44:18,908 - modnet - INFO - Preset #2 fitting finished, loss: 0.34977694153785704\n"
     ]
    },
    {
     "name": "stderr",
     "output_type": "stream",
     "text": [
      "  8%|▊         | 28/360 [21:24<1:06:36, 12.04s/it]"
     ]
    },
    {
     "name": "stdout",
     "output_type": "stream",
     "text": [
      "2021-05-06 15:44:23,402 - modnet - INFO - Preset #11 fitting finished, loss: 0.4063329637050629\n"
     ]
    },
    {
     "name": "stderr",
     "output_type": "stream",
     "text": [
      "  8%|▊         | 29/360 [21:28<53:34,  9.71s/it]  "
     ]
    },
    {
     "name": "stdout",
     "output_type": "stream",
     "text": [
      "2021-05-06 15:44:27,517 - modnet - INFO - Preset #5 fitting finished, loss: 0.372746080160141\n"
     ]
    },
    {
     "name": "stderr",
     "output_type": "stream",
     "text": [
      "  8%|▊         | 30/360 [21:33<44:38,  8.12s/it]"
     ]
    },
    {
     "name": "stdout",
     "output_type": "stream",
     "text": [
      "2021-05-06 15:44:30,038 - modnet - INFO - Preset #10 fitting finished, loss: 0.3595773756504059\n"
     ]
    },
    {
     "name": "stderr",
     "output_type": "stream",
     "text": [
      "  9%|▊         | 31/360 [21:36<35:41,  6.51s/it]"
     ]
    },
    {
     "name": "stdout",
     "output_type": "stream",
     "text": [
      "2021-05-06 15:44:44,134 - modnet - INFO - Preset #0 fitting finished, loss: 0.38444260954856874\n"
     ]
    },
    {
     "name": "stderr",
     "output_type": "stream",
     "text": [
      "  9%|▉         | 32/360 [21:50<48:05,  8.80s/it]"
     ]
    },
    {
     "name": "stdout",
     "output_type": "stream",
     "text": [
      "2021-05-06 15:44:46,011 - modnet - INFO - Preset #9 fitting finished, loss: 0.4288161098957062\n"
     ]
    },
    {
     "name": "stderr",
     "output_type": "stream",
     "text": [
      "  9%|▉         | 33/360 [21:53<38:07,  7.00s/it]"
     ]
    },
    {
     "name": "stdout",
     "output_type": "stream",
     "text": [
      "2021-05-06 15:44:48,546 - modnet - INFO - Preset #12 fitting finished, loss: 0.43425680994987487\n"
     ]
    },
    {
     "name": "stderr",
     "output_type": "stream",
     "text": [
      "  9%|▉         | 34/360 [21:54<28:45,  5.29s/it]"
     ]
    },
    {
     "name": "stdout",
     "output_type": "stream",
     "text": [
      "2021-05-06 15:44:51,924 - modnet - INFO - Preset #0 fitting finished, loss: 0.37591442465782166\n"
     ]
    },
    {
     "name": "stderr",
     "output_type": "stream",
     "text": [
      " 10%|▉         | 35/360 [21:57<25:18,  4.67s/it]"
     ]
    },
    {
     "name": "stdout",
     "output_type": "stream",
     "text": [
      "2021-05-06 15:44:53,234 - modnet - INFO - Preset #8 fitting finished, loss: 0.32860706448554994\n"
     ]
    },
    {
     "name": "stderr",
     "output_type": "stream",
     "text": [
      " 10%|█         | 36/360 [21:58<19:27,  3.60s/it]"
     ]
    },
    {
     "name": "stdout",
     "output_type": "stream",
     "text": [
      "2021-05-06 15:44:58,041 - modnet - INFO - Preset #8 fitting finished, loss: 0.43470445871353147\n"
     ]
    },
    {
     "name": "stderr",
     "output_type": "stream",
     "text": [
      " 10%|█         | 37/360 [22:03<21:39,  4.02s/it]"
     ]
    },
    {
     "name": "stdout",
     "output_type": "stream",
     "text": [
      "2021-05-06 15:45:02,766 - modnet - INFO - Preset #12 fitting finished, loss: 0.3662381827831268\n"
     ]
    },
    {
     "name": "stderr",
     "output_type": "stream",
     "text": [
      " 11%|█         | 38/360 [22:08<23:08,  4.31s/it]"
     ]
    },
    {
     "name": "stdout",
     "output_type": "stream",
     "text": [
      "2021-05-06 15:45:03,843 - modnet - INFO - Preset #6 fitting finished, loss: 0.4027459681034088\n"
     ]
    },
    {
     "name": "stderr",
     "output_type": "stream",
     "text": [
      " 11%|█         | 39/360 [22:09<17:53,  3.34s/it]"
     ]
    },
    {
     "name": "stdout",
     "output_type": "stream",
     "text": [
      "2021-05-06 15:45:11,952 - modnet - INFO - Preset #7 fitting finished, loss: 0.46382654905319215\n"
     ]
    },
    {
     "name": "stderr",
     "output_type": "stream",
     "text": [
      " 11%|█         | 40/360 [22:17<25:26,  4.77s/it]"
     ]
    },
    {
     "name": "stdout",
     "output_type": "stream",
     "text": [
      "2021-05-06 15:45:28,443 - modnet - INFO - Preset #10 fitting finished, loss: 0.4356146275997162\n"
     ]
    },
    {
     "name": "stderr",
     "output_type": "stream",
     "text": [
      " 11%|█▏        | 41/360 [22:34<43:49,  8.24s/it]"
     ]
    },
    {
     "name": "stdout",
     "output_type": "stream",
     "text": [
      "2021-05-06 15:45:32,111 - modnet - INFO - Preset #2 fitting finished, loss: 0.4426386296749115\n"
     ]
    },
    {
     "name": "stderr",
     "output_type": "stream",
     "text": [
      " 12%|█▏        | 42/360 [22:37<35:55,  6.78s/it]"
     ]
    },
    {
     "name": "stdout",
     "output_type": "stream",
     "text": [
      "2021-05-06 15:45:33,625 - modnet - INFO - Preset #5 fitting finished, loss: 0.36632477045059203\n"
     ]
    },
    {
     "name": "stderr",
     "output_type": "stream",
     "text": [
      " 12%|█▏        | 43/360 [22:39<27:28,  5.20s/it]"
     ]
    },
    {
     "name": "stdout",
     "output_type": "stream",
     "text": [
      "2021-05-06 15:45:38,543 - modnet - INFO - Preset #2 fitting finished, loss: 0.33183484673500063\n"
     ]
    },
    {
     "name": "stderr",
     "output_type": "stream",
     "text": [
      " 12%|█▏        | 44/360 [22:44<27:11,  5.16s/it]"
     ]
    },
    {
     "name": "stdout",
     "output_type": "stream",
     "text": [
      "2021-05-06 15:45:52,516 - modnet - INFO - Preset #9 fitting finished, loss: 0.33321818709373474\n"
     ]
    },
    {
     "name": "stderr",
     "output_type": "stream",
     "text": [
      " 12%|█▎        | 45/360 [22:57<40:25,  7.70s/it]"
     ]
    },
    {
     "name": "stdout",
     "output_type": "stream",
     "text": [
      "2021-05-06 15:45:53,904 - modnet - INFO - Preset #2 fitting finished, loss: 0.37703750729560853\n"
     ]
    },
    {
     "name": "stderr",
     "output_type": "stream",
     "text": [
      " 13%|█▎        | 46/360 [22:59<30:38,  5.86s/it]"
     ]
    },
    {
     "name": "stdout",
     "output_type": "stream",
     "text": [
      "2021-05-06 15:46:11,462 - modnet - INFO - Preset #8 fitting finished, loss: 0.33827425837516784\n"
     ]
    },
    {
     "name": "stderr",
     "output_type": "stream",
     "text": [
      " 13%|█▎        | 47/360 [23:17<49:06,  9.41s/it]"
     ]
    },
    {
     "name": "stdout",
     "output_type": "stream",
     "text": [
      "2021-05-06 15:46:23,030 - modnet - INFO - Preset #6 fitting finished, loss: 0.45758147835731505\n"
     ]
    },
    {
     "name": "stderr",
     "output_type": "stream",
     "text": [
      " 13%|█▎        | 48/360 [23:28<52:24, 10.08s/it]"
     ]
    },
    {
     "name": "stdout",
     "output_type": "stream",
     "text": [
      "2021-05-06 15:46:25,902 - modnet - INFO - Preset #1 fitting finished, loss: 0.4280451774597168\n"
     ]
    },
    {
     "name": "stderr",
     "output_type": "stream",
     "text": [
      " 14%|█▎        | 49/360 [23:31<40:29,  7.81s/it]"
     ]
    },
    {
     "name": "stdout",
     "output_type": "stream",
     "text": [
      "2021-05-06 15:46:30,406 - modnet - INFO - Preset #0 fitting finished, loss: 0.4222407042980194\n"
     ]
    },
    {
     "name": "stderr",
     "output_type": "stream",
     "text": [
      " 14%|█▍        | 50/360 [23:35<35:14,  6.82s/it]"
     ]
    },
    {
     "name": "stdout",
     "output_type": "stream",
     "text": [
      "2021-05-06 15:46:42,743 - modnet - INFO - Preset #1 fitting finished, loss: 0.3800043284893036\n"
     ]
    },
    {
     "name": "stderr",
     "output_type": "stream",
     "text": [
      " 14%|█▍        | 51/360 [23:48<43:40,  8.48s/it]"
     ]
    },
    {
     "name": "stdout",
     "output_type": "stream",
     "text": [
      "2021-05-06 15:46:58,175 - modnet - INFO - Preset #0 fitting finished, loss: 0.48354007601737975\n"
     ]
    },
    {
     "name": "stderr",
     "output_type": "stream",
     "text": [
      " 14%|█▍        | 52/360 [24:03<54:48, 10.68s/it]"
     ]
    },
    {
     "name": "stdout",
     "output_type": "stream",
     "text": [
      "2021-05-06 15:47:09,497 - modnet - INFO - Preset #7 fitting finished, loss: 0.3797051846981049\n"
     ]
    },
    {
     "name": "stderr",
     "output_type": "stream",
     "text": [
      " 15%|█▍        | 53/360 [24:15<55:38, 10.87s/it]"
     ]
    },
    {
     "name": "stdout",
     "output_type": "stream",
     "text": [
      "2021-05-06 15:47:20,357 - modnet - INFO - Preset #1 fitting finished, loss: 0.4795630156993866\n"
     ]
    },
    {
     "name": "stderr",
     "output_type": "stream",
     "text": [
      " 15%|█▌        | 54/360 [24:25<55:19, 10.85s/it]"
     ]
    },
    {
     "name": "stdout",
     "output_type": "stream",
     "text": [
      "2021-05-06 15:47:30,609 - modnet - INFO - Preset #6 fitting finished, loss: 0.3789039671421051\n"
     ]
    },
    {
     "name": "stderr",
     "output_type": "stream",
     "text": [
      " 15%|█▌        | 55/360 [24:35<53:40, 10.56s/it]"
     ]
    },
    {
     "name": "stdout",
     "output_type": "stream",
     "text": [
      "2021-05-06 15:47:35,319 - modnet - INFO - Preset #0 fitting finished, loss: 0.3758090853691101\n"
     ]
    },
    {
     "name": "stderr",
     "output_type": "stream",
     "text": [
      " 16%|█▌        | 56/360 [24:40<45:01,  8.89s/it]"
     ]
    },
    {
     "name": "stdout",
     "output_type": "stream",
     "text": [
      "2021-05-06 15:47:38,581 - modnet - INFO - Preset #12 fitting finished, loss: 0.4508825123310089\n"
     ]
    },
    {
     "name": "stderr",
     "output_type": "stream",
     "text": [
      " 16%|█▌        | 57/360 [24:43<35:48,  7.09s/it]"
     ]
    },
    {
     "name": "stdout",
     "output_type": "stream",
     "text": [
      "2021-05-06 15:47:39,014 - modnet - INFO - Preset #1 fitting finished, loss: 0.3595190763473511\n"
     ]
    },
    {
     "name": "stderr",
     "output_type": "stream",
     "text": [
      " 16%|█▌        | 58/360 [24:44<26:18,  5.23s/it]"
     ]
    },
    {
     "name": "stdout",
     "output_type": "stream",
     "text": [
      "2021-05-06 15:47:45,822 - modnet - INFO - Preset #6 fitting finished, loss: 0.4267097234725952\n"
     ]
    },
    {
     "name": "stderr",
     "output_type": "stream",
     "text": [
      " 16%|█▋        | 59/360 [24:51<28:11,  5.62s/it]"
     ]
    },
    {
     "name": "stdout",
     "output_type": "stream",
     "text": [
      "2021-05-06 15:47:55,605 - modnet - INFO - Preset #7 fitting finished, loss: 0.41813684105873106\n"
     ]
    },
    {
     "name": "stderr",
     "output_type": "stream",
     "text": [
      " 17%|█▋        | 60/360 [25:01<34:42,  6.94s/it]"
     ]
    },
    {
     "name": "stdout",
     "output_type": "stream",
     "text": [
      "2021-05-06 15:47:56,356 - modnet - INFO - Preset #12 fitting finished, loss: 0.393164849281311\n"
     ]
    },
    {
     "name": "stderr",
     "output_type": "stream",
     "text": [
      " 17%|█▋        | 61/360 [25:02<26:01,  5.22s/it]"
     ]
    },
    {
     "name": "stdout",
     "output_type": "stream",
     "text": [
      "2021-05-06 15:47:57,567 - modnet - INFO - Preset #7 fitting finished, loss: 0.3978140830993652\n"
     ]
    },
    {
     "name": "stderr",
     "output_type": "stream",
     "text": [
      " 17%|█▋        | 62/360 [25:02<18:30,  3.73s/it]"
     ]
    },
    {
     "name": "stdout",
     "output_type": "stream",
     "text": [
      "2021-05-06 15:48:06,161 - modnet - INFO - Preset #1 fitting finished, loss: 0.3944081008434296\n"
     ]
    },
    {
     "name": "stderr",
     "output_type": "stream",
     "text": [
      " 18%|█▊        | 63/360 [25:12<27:44,  5.60s/it]"
     ]
    },
    {
     "name": "stdout",
     "output_type": "stream",
     "text": [
      "2021-05-06 15:48:13,774 - modnet - INFO - Preset #6 fitting finished, loss: 0.3931761384010315\n"
     ]
    },
    {
     "name": "stderr",
     "output_type": "stream",
     "text": [
      " 18%|█▊        | 64/360 [25:19<29:02,  5.89s/it]"
     ]
    },
    {
     "name": "stdout",
     "output_type": "stream",
     "text": [
      "2021-05-06 15:48:42,828 - modnet - INFO - Preset #12 fitting finished, loss: 0.4220551371574402\n"
     ]
    },
    {
     "name": "stderr",
     "output_type": "stream",
     "text": [
      " 18%|█▊        | 65/360 [25:48<1:03:26, 12.90s/it]"
     ]
    },
    {
     "name": "stdout",
     "output_type": "stream",
     "text": [
      "2021-05-06 15:49:12,626 - modnet - INFO - Preset #14 fitting finished, loss: 0.35948925614356997\n"
     ]
    },
    {
     "name": "stderr",
     "output_type": "stream",
     "text": [
      " 18%|█▊        | 66/360 [26:18<1:28:09, 17.99s/it]"
     ]
    },
    {
     "name": "stdout",
     "output_type": "stream",
     "text": [
      "2021-05-06 15:49:15,954 - modnet - INFO - Preset #16 fitting finished, loss: 0.3481918811798096\n"
     ]
    },
    {
     "name": "stderr",
     "output_type": "stream",
     "text": [
      " 19%|█▊        | 67/360 [26:21<1:06:01, 13.52s/it]"
     ]
    },
    {
     "name": "stdout",
     "output_type": "stream",
     "text": [
      "2021-05-06 15:49:27,715 - modnet - INFO - Preset #17 fitting finished, loss: 0.42812243700027464\n"
     ]
    },
    {
     "name": "stderr",
     "output_type": "stream",
     "text": [
      " 19%|█▉        | 68/360 [26:33<1:03:39, 13.08s/it]"
     ]
    },
    {
     "name": "stdout",
     "output_type": "stream",
     "text": [
      "2021-05-06 15:49:36,080 - modnet - INFO - Preset #18 fitting finished, loss: 0.38752655386924745\n"
     ]
    },
    {
     "name": "stderr",
     "output_type": "stream",
     "text": [
      " 19%|█▉        | 69/360 [26:41<56:25, 11.63s/it]  "
     ]
    },
    {
     "name": "stdout",
     "output_type": "stream",
     "text": [
      "2021-05-06 15:49:44,993 - modnet - INFO - Preset #14 fitting finished, loss: 0.46776307821273805\n"
     ]
    },
    {
     "name": "stderr",
     "output_type": "stream",
     "text": [
      " 19%|█▉        | 70/360 [26:50<52:20, 10.83s/it]"
     ]
    },
    {
     "name": "stdout",
     "output_type": "stream",
     "text": [
      "2021-05-06 15:49:48,318 - modnet - INFO - Preset #15 fitting finished, loss: 0.37421463131904603\n"
     ]
    },
    {
     "name": "stderr",
     "output_type": "stream",
     "text": [
      " 20%|█▉        | 71/360 [26:53<41:21,  8.59s/it]"
     ]
    },
    {
     "name": "stdout",
     "output_type": "stream",
     "text": [
      "2021-05-06 15:49:49,176 - modnet - INFO - Preset #14 fitting finished, loss: 0.3456734836101532\n"
     ]
    },
    {
     "name": "stderr",
     "output_type": "stream",
     "text": [
      " 20%|██        | 72/360 [26:54<29:59,  6.25s/it]"
     ]
    },
    {
     "name": "stdout",
     "output_type": "stream",
     "text": [
      "2021-05-06 15:49:49,967 - modnet - INFO - Preset #16 fitting finished, loss: 0.3736767828464508\n"
     ]
    },
    {
     "name": "stderr",
     "output_type": "stream",
     "text": [
      " 20%|██        | 73/360 [26:55<22:05,  4.62s/it]"
     ]
    },
    {
     "name": "stdout",
     "output_type": "stream",
     "text": [
      "2021-05-06 15:50:13,067 - modnet - INFO - Preset #16 fitting finished, loss: 0.44232302308082583\n"
     ]
    },
    {
     "name": "stderr",
     "output_type": "stream",
     "text": [
      " 21%|██        | 74/360 [27:18<48:22, 10.15s/it]"
     ]
    },
    {
     "name": "stdout",
     "output_type": "stream",
     "text": [
      "2021-05-06 15:50:19,406 - modnet - INFO - Preset #13 fitting finished, loss: 0.3967954874038696\n"
     ]
    },
    {
     "name": "stderr",
     "output_type": "stream",
     "text": [
      " 21%|██        | 75/360 [27:25<43:03,  9.06s/it]"
     ]
    },
    {
     "name": "stdout",
     "output_type": "stream",
     "text": [
      "2021-05-06 15:50:25,417 - modnet - INFO - Preset #13 fitting finished, loss: 0.3687716007232666\n"
     ]
    },
    {
     "name": "stderr",
     "output_type": "stream",
     "text": [
      " 21%|██        | 76/360 [27:30<38:13,  8.07s/it]"
     ]
    },
    {
     "name": "stdout",
     "output_type": "stream",
     "text": [
      "2021-05-06 15:50:26,138 - modnet - INFO - Preset #13 fitting finished, loss: 0.3865939795970917\n"
     ]
    },
    {
     "name": "stderr",
     "output_type": "stream",
     "text": [
      " 21%|██▏       | 77/360 [27:31<27:52,  5.91s/it]"
     ]
    },
    {
     "name": "stdout",
     "output_type": "stream",
     "text": [
      "2021-05-06 15:50:28,090 - modnet - INFO - Preset #15 fitting finished, loss: 0.4466585457324982\n"
     ]
    },
    {
     "name": "stderr",
     "output_type": "stream",
     "text": [
      " 22%|██▏       | 78/360 [27:33<21:34,  4.59s/it]"
     ]
    },
    {
     "name": "stdout",
     "output_type": "stream",
     "text": [
      "2021-05-06 15:50:34,189 - modnet - INFO - Preset #14 fitting finished, loss: 0.371603912115097\n"
     ]
    },
    {
     "name": "stderr",
     "output_type": "stream",
     "text": [
      " 22%|██▏       | 79/360 [27:39<24:01,  5.13s/it]"
     ]
    },
    {
     "name": "stdout",
     "output_type": "stream",
     "text": [
      "2021-05-06 15:50:35,665 - modnet - INFO - Preset #13 fitting finished, loss: 0.4463646948337555\n"
     ]
    },
    {
     "name": "stderr",
     "output_type": "stream",
     "text": [
      " 22%|██▏       | 80/360 [27:40<18:23,  3.94s/it]"
     ]
    },
    {
     "name": "stdout",
     "output_type": "stream",
     "text": [
      "2021-05-06 15:50:36,863 - modnet - INFO - Preset #14 fitting finished, loss: 0.3718611538410187\n"
     ]
    },
    {
     "name": "stderr",
     "output_type": "stream",
     "text": [
      " 22%|██▎       | 81/360 [27:42<15:01,  3.23s/it]"
     ]
    },
    {
     "name": "stdout",
     "output_type": "stream",
     "text": [
      "2021-05-06 15:50:45,256 - modnet - INFO - Preset #17 fitting finished, loss: 0.3663677334785461\n"
     ]
    },
    {
     "name": "stderr",
     "output_type": "stream",
     "text": [
      " 23%|██▎       | 82/360 [27:50<22:04,  4.76s/it]"
     ]
    },
    {
     "name": "stdout",
     "output_type": "stream",
     "text": [
      "2021-05-06 15:50:46,476 - modnet - INFO - Preset #22 fitting finished, loss: 0.3547979772090912\n"
     ]
    },
    {
     "name": "stderr",
     "output_type": "stream",
     "text": [
      " 23%|██▎       | 83/360 [27:52<17:09,  3.72s/it]"
     ]
    },
    {
     "name": "stdout",
     "output_type": "stream",
     "text": [
      "2021-05-06 15:50:47,844 - modnet - INFO - Preset #16 fitting finished, loss: 0.3894107103347778\n"
     ]
    },
    {
     "name": "stderr",
     "output_type": "stream",
     "text": [
      " 23%|██▎       | 84/360 [27:53<14:02,  3.05s/it]"
     ]
    },
    {
     "name": "stdout",
     "output_type": "stream",
     "text": [
      "2021-05-06 15:50:57,847 - modnet - INFO - Preset #17 fitting finished, loss: 0.33740012645721434\n"
     ]
    },
    {
     "name": "stderr",
     "output_type": "stream",
     "text": [
      " 24%|██▎       | 85/360 [28:03<23:23,  5.10s/it]"
     ]
    },
    {
     "name": "stdout",
     "output_type": "stream",
     "text": [
      "2021-05-06 15:50:58,905 - modnet - INFO - Preset #16 fitting finished, loss: 0.3600334286689758\n"
     ]
    },
    {
     "name": "stderr",
     "output_type": "stream",
     "text": [
      " 24%|██▍       | 86/360 [28:04<17:21,  3.80s/it]"
     ]
    },
    {
     "name": "stdout",
     "output_type": "stream",
     "text": [
      "2021-05-06 15:50:59,407 - modnet - INFO - Preset #17 fitting finished, loss: 0.38776024580001833\n"
     ]
    },
    {
     "name": "stderr",
     "output_type": "stream",
     "text": [
      " 24%|██▍       | 87/360 [28:05<13:34,  2.98s/it]"
     ]
    },
    {
     "name": "stdout",
     "output_type": "stream",
     "text": [
      "2021-05-06 15:51:01,597 - modnet - INFO - Preset #22 fitting finished, loss: 0.4173309326171875\n"
     ]
    },
    {
     "name": "stderr",
     "output_type": "stream",
     "text": [
      " 24%|██▍       | 88/360 [28:07<12:09,  2.68s/it]"
     ]
    },
    {
     "name": "stdout",
     "output_type": "stream",
     "text": [
      "2021-05-06 15:51:04,336 - modnet - INFO - Preset #22 fitting finished, loss: 0.38542115688323975\n"
     ]
    },
    {
     "name": "stderr",
     "output_type": "stream",
     "text": [
      " 25%|██▍       | 89/360 [28:10<12:11,  2.70s/it]"
     ]
    },
    {
     "name": "stdout",
     "output_type": "stream",
     "text": [
      "2021-05-06 15:51:09,335 - modnet - INFO - Preset #15 fitting finished, loss: 0.36325793266296386\n"
     ]
    },
    {
     "name": "stderr",
     "output_type": "stream",
     "text": [
      " 25%|██▌       | 90/360 [28:15<15:15,  3.39s/it]"
     ]
    },
    {
     "name": "stdout",
     "output_type": "stream",
     "text": [
      "2021-05-06 15:51:13,462 - modnet - INFO - Preset #23 fitting finished, loss: 0.3319755017757416\n"
     ]
    },
    {
     "name": "stderr",
     "output_type": "stream",
     "text": [
      " 25%|██▌       | 91/360 [28:19<16:09,  3.60s/it]"
     ]
    },
    {
     "name": "stdout",
     "output_type": "stream",
     "text": [
      "2021-05-06 15:51:17,401 - modnet - INFO - Preset #19 fitting finished, loss: 0.33821465969085696\n"
     ]
    },
    {
     "name": "stderr",
     "output_type": "stream",
     "text": [
      " 26%|██▌       | 92/360 [28:23<16:41,  3.74s/it]"
     ]
    },
    {
     "name": "stdout",
     "output_type": "stream",
     "text": [
      "2021-05-06 15:51:18,365 - modnet - INFO - Preset #20 fitting finished, loss: 0.34288809895515443\n"
     ]
    },
    {
     "name": "stderr",
     "output_type": "stream",
     "text": [
      " 26%|██▌       | 93/360 [28:23<12:32,  2.82s/it]"
     ]
    },
    {
     "name": "stdout",
     "output_type": "stream",
     "text": [
      "2021-05-06 15:51:20,568 - modnet - INFO - Preset #20 fitting finished, loss: 0.29582080245018005\n"
     ]
    },
    {
     "name": "stderr",
     "output_type": "stream",
     "text": [
      " 26%|██▌       | 94/360 [28:27<13:18,  3.00s/it]"
     ]
    },
    {
     "name": "stdout",
     "output_type": "stream",
     "text": [
      "2021-05-06 15:51:22,462 - modnet - INFO - Preset #13 fitting finished, loss: 0.4785648763179779\n"
     ]
    },
    {
     "name": "stderr",
     "output_type": "stream",
     "text": [
      " 26%|██▋       | 95/360 [28:28<10:41,  2.42s/it]"
     ]
    },
    {
     "name": "stdout",
     "output_type": "stream",
     "text": [
      "2021-05-06 15:51:24,351 - modnet - INFO - Preset #21 fitting finished, loss: 0.3387896418571472\n"
     ]
    },
    {
     "name": "stderr",
     "output_type": "stream",
     "text": [
      " 27%|██▋       | 96/360 [28:29<09:15,  2.11s/it]"
     ]
    },
    {
     "name": "stdout",
     "output_type": "stream",
     "text": [
      "2021-05-06 15:51:30,021 - modnet - INFO - Preset #20 fitting finished, loss: 0.35816697478294374\n"
     ]
    },
    {
     "name": "stderr",
     "output_type": "stream",
     "text": [
      " 27%|██▋       | 97/360 [28:35<14:05,  3.21s/it]"
     ]
    },
    {
     "name": "stdout",
     "output_type": "stream",
     "text": [
      "2021-05-06 15:51:33,426 - modnet - INFO - Preset #23 fitting finished, loss: 0.40725892782211304\n"
     ]
    },
    {
     "name": "stderr",
     "output_type": "stream",
     "text": [
      " 27%|██▋       | 98/360 [28:39<14:30,  3.32s/it]"
     ]
    },
    {
     "name": "stdout",
     "output_type": "stream",
     "text": [
      "2021-05-06 15:51:38,714 - modnet - INFO - Preset #19 fitting finished, loss: 0.3828815817832947\n"
     ]
    },
    {
     "name": "stderr",
     "output_type": "stream",
     "text": [
      " 28%|██▊       | 99/360 [28:44<17:07,  3.93s/it]"
     ]
    },
    {
     "name": "stdout",
     "output_type": "stream",
     "text": [
      "2021-05-06 15:51:41,667 - modnet - INFO - Preset #22 fitting finished, loss: 0.29652081727981566\n"
     ]
    },
    {
     "name": "stderr",
     "output_type": "stream",
     "text": [
      " 28%|██▊       | 100/360 [28:47<15:41,  3.62s/it]"
     ]
    },
    {
     "name": "stdout",
     "output_type": "stream",
     "text": [
      "2021-05-06 15:51:42,626 - modnet - INFO - Preset #15 fitting finished, loss: 0.3729820251464844\n"
     ]
    },
    {
     "name": "stderr",
     "output_type": "stream",
     "text": [
      " 28%|██▊       | 101/360 [28:48<12:10,  2.82s/it]"
     ]
    },
    {
     "name": "stdout",
     "output_type": "stream",
     "text": [
      "2021-05-06 15:51:46,178 - modnet - INFO - Preset #17 fitting finished, loss: 0.3278947830200195\n"
     ]
    },
    {
     "name": "stderr",
     "output_type": "stream",
     "text": [
      " 28%|██▊       | 102/360 [28:51<13:02,  3.03s/it]"
     ]
    },
    {
     "name": "stdout",
     "output_type": "stream",
     "text": [
      "2021-05-06 15:51:47,007 - modnet - INFO - Preset #20 fitting finished, loss: 0.3805325269699097\n"
     ]
    },
    {
     "name": "stderr",
     "output_type": "stream",
     "text": [
      " 29%|██▊       | 103/360 [28:52<10:33,  2.47s/it]"
     ]
    },
    {
     "name": "stdout",
     "output_type": "stream",
     "text": [
      "2021-05-06 15:51:52,871 - modnet - INFO - Preset #21 fitting finished, loss: 0.3765368163585663\n"
     ]
    },
    {
     "name": "stderr",
     "output_type": "stream",
     "text": [
      " 29%|██▉       | 104/360 [28:58<14:29,  3.40s/it]"
     ]
    },
    {
     "name": "stdout",
     "output_type": "stream",
     "text": [
      "2021-05-06 15:51:54,806 - modnet - INFO - Preset #18 fitting finished, loss: 0.3538048446178436\n"
     ]
    },
    {
     "name": "stderr",
     "output_type": "stream",
     "text": [
      " 29%|██▉       | 105/360 [29:00<12:05,  2.85s/it]"
     ]
    },
    {
     "name": "stdout",
     "output_type": "stream",
     "text": [
      "2021-05-06 15:52:07,307 - modnet - INFO - Preset #19 fitting finished, loss: 0.3977032840251923\n"
     ]
    },
    {
     "name": "stderr",
     "output_type": "stream",
     "text": [
      " 29%|██▉       | 106/360 [29:12<24:45,  5.85s/it]"
     ]
    },
    {
     "name": "stdout",
     "output_type": "stream",
     "text": [
      "2021-05-06 15:52:16,994 - modnet - INFO - Preset #21 fitting finished, loss: 0.3408146142959595\n"
     ]
    },
    {
     "name": "stderr",
     "output_type": "stream",
     "text": [
      " 30%|██▉       | 107/360 [29:22<29:39,  7.03s/it]"
     ]
    },
    {
     "name": "stdout",
     "output_type": "stream",
     "text": [
      "2021-05-06 15:52:17,922 - modnet - INFO - Preset #22 fitting finished, loss: 0.3635288834571838\n"
     ]
    },
    {
     "name": "stderr",
     "output_type": "stream",
     "text": [
      " 30%|███       | 108/360 [29:24<22:22,  5.33s/it]"
     ]
    },
    {
     "name": "stdout",
     "output_type": "stream",
     "text": [
      "2021-05-06 15:52:19,269 - modnet - INFO - Preset #18 fitting finished, loss: 0.401927250623703\n"
     ]
    },
    {
     "name": "stderr",
     "output_type": "stream",
     "text": [
      " 30%|███       | 109/360 [29:24<15:54,  3.80s/it]"
     ]
    },
    {
     "name": "stdout",
     "output_type": "stream",
     "text": [
      "2021-05-06 15:52:22,469 - modnet - INFO - Preset #15 fitting finished, loss: 0.3485057830810547\n"
     ]
    },
    {
     "name": "stderr",
     "output_type": "stream",
     "text": [
      " 31%|███       | 110/360 [29:28<15:44,  3.78s/it]"
     ]
    },
    {
     "name": "stdout",
     "output_type": "stream",
     "text": [
      "2021-05-06 15:52:24,346 - modnet - INFO - Preset #21 fitting finished, loss: 0.4087118625640869\n"
     ]
    },
    {
     "name": "stderr",
     "output_type": "stream",
     "text": [
      " 31%|███       | 111/360 [29:30<13:27,  3.24s/it]"
     ]
    },
    {
     "name": "stdout",
     "output_type": "stream",
     "text": [
      "2021-05-06 15:52:25,229 - modnet - INFO - Preset #19 fitting finished, loss: 0.38343350887298583\n"
     ]
    },
    {
     "name": "stderr",
     "output_type": "stream",
     "text": [
      " 31%|███       | 112/360 [29:30<10:19,  2.50s/it]"
     ]
    },
    {
     "name": "stdout",
     "output_type": "stream",
     "text": [
      "2021-05-06 15:52:26,168 - modnet - INFO - Preset #23 fitting finished, loss: 0.38739985823631284\n"
     ]
    },
    {
     "name": "stderr",
     "output_type": "stream",
     "text": [
      " 31%|███▏      | 113/360 [29:31<08:22,  2.03s/it]"
     ]
    },
    {
     "name": "stdout",
     "output_type": "stream",
     "text": [
      "2021-05-06 15:52:26,935 - modnet - INFO - Preset #23 fitting finished, loss: 0.3542643070220947\n"
     ]
    },
    {
     "name": "stderr",
     "output_type": "stream",
     "text": [
      " 32%|███▏      | 114/360 [29:32<06:40,  1.63s/it]"
     ]
    },
    {
     "name": "stdout",
     "output_type": "stream",
     "text": [
      "2021-05-06 15:52:34,144 - modnet - INFO - Preset #20 fitting finished, loss: 0.4163244068622589\n"
     ]
    },
    {
     "name": "stderr",
     "output_type": "stream",
     "text": [
      " 32%|███▏      | 115/360 [29:39<13:16,  3.25s/it]"
     ]
    },
    {
     "name": "stdout",
     "output_type": "stream",
     "text": [
      "2021-05-06 15:52:35,806 - modnet - INFO - Preset #21 fitting finished, loss: 0.30251320600509646\n"
     ]
    },
    {
     "name": "stderr",
     "output_type": "stream",
     "text": [
      " 32%|███▏      | 116/360 [29:41<11:33,  2.84s/it]"
     ]
    },
    {
     "name": "stdout",
     "output_type": "stream",
     "text": [
      "2021-05-06 15:52:42,153 - modnet - INFO - Preset #23 fitting finished, loss: 0.3068124711513519\n"
     ]
    },
    {
     "name": "stderr",
     "output_type": "stream",
     "text": [
      " 32%|███▎      | 117/360 [29:47<15:56,  3.94s/it]"
     ]
    },
    {
     "name": "stdout",
     "output_type": "stream",
     "text": [
      "2021-05-06 15:52:50,037 - modnet - INFO - Preset #18 fitting finished, loss: 0.3413504660129547\n"
     ]
    },
    {
     "name": "stderr",
     "output_type": "stream",
     "text": [
      " 33%|███▎      | 118/360 [29:55<20:08,  4.99s/it]"
     ]
    },
    {
     "name": "stdout",
     "output_type": "stream",
     "text": [
      "2021-05-06 15:53:03,712 - modnet - INFO - Preset #18 fitting finished, loss: 0.37664433717727663\n"
     ]
    },
    {
     "name": "stderr",
     "output_type": "stream",
     "text": [
      " 33%|███▎      | 119/360 [30:09<30:51,  7.68s/it]"
     ]
    },
    {
     "name": "stdout",
     "output_type": "stream",
     "text": [
      "2021-05-06 15:53:35,345 - modnet - INFO - Preset #19 fitting finished, loss: 0.3541682600975037\n"
     ]
    },
    {
     "name": "stderr",
     "output_type": "stream",
     "text": [
      " 33%|███▎      | 120/360 [30:40<59:14, 14.81s/it]"
     ]
    },
    {
     "name": "stdout",
     "output_type": "stream",
     "text": [
      "2021-05-06 15:54:14,624 - modnet - INFO - Preset #26 fitting finished, loss: 0.33236191272735593\n"
     ]
    },
    {
     "name": "stderr",
     "output_type": "stream",
     "text": [
      " 34%|███▎      | 121/360 [31:20<1:28:32, 22.23s/it]"
     ]
    },
    {
     "name": "stdout",
     "output_type": "stream",
     "text": [
      "2021-05-06 15:54:33,051 - modnet - INFO - Preset #24 fitting finished, loss: 0.4113929808139801\n"
     ]
    },
    {
     "name": "stderr",
     "output_type": "stream",
     "text": [
      " 34%|███▍      | 122/360 [31:38<1:23:20, 21.01s/it]"
     ]
    },
    {
     "name": "stdout",
     "output_type": "stream",
     "text": [
      "2021-05-06 15:54:46,019 - modnet - INFO - Preset #26 fitting finished, loss: 0.36632768511772157\n"
     ]
    },
    {
     "name": "stderr",
     "output_type": "stream",
     "text": [
      " 34%|███▍      | 123/360 [31:51<1:13:37, 18.64s/it]"
     ]
    },
    {
     "name": "stdout",
     "output_type": "stream",
     "text": [
      "2021-05-06 15:54:48,602 - modnet - INFO - Preset #26 fitting finished, loss: 0.39077794551849365\n"
     ]
    },
    {
     "name": "stderr",
     "output_type": "stream",
     "text": [
      " 34%|███▍      | 124/360 [31:54<54:25, 13.84s/it]  "
     ]
    },
    {
     "name": "stdout",
     "output_type": "stream",
     "text": [
      "2021-05-06 15:55:19,020 - modnet - INFO - Preset #26 fitting finished, loss: 0.3540372848510742\n"
     ]
    },
    {
     "name": "stderr",
     "output_type": "stream",
     "text": [
      " 35%|███▍      | 125/360 [32:24<1:13:23, 18.74s/it]"
     ]
    },
    {
     "name": "stdout",
     "output_type": "stream",
     "text": [
      "2021-05-06 15:55:31,328 - modnet - INFO - Preset #27 fitting finished, loss: 0.39296247959136965\n"
     ]
    },
    {
     "name": "stderr",
     "output_type": "stream",
     "text": [
      " 35%|███▌      | 126/360 [32:37<1:05:59, 16.92s/it]"
     ]
    },
    {
     "name": "stdout",
     "output_type": "stream",
     "text": [
      "2021-05-06 15:55:49,709 - modnet - INFO - Preset #27 fitting finished, loss: 0.3366021871566772\n"
     ]
    },
    {
     "name": "stderr",
     "output_type": "stream",
     "text": [
      " 35%|███▌      | 127/360 [32:55<1:07:25, 17.36s/it]"
     ]
    },
    {
     "name": "stdout",
     "output_type": "stream",
     "text": [
      "2021-05-06 15:55:50,593 - modnet - INFO - Preset #25 fitting finished, loss: 0.4117483913898468\n"
     ]
    },
    {
     "name": "stderr",
     "output_type": "stream",
     "text": [
      " 36%|███▌      | 128/360 [32:56<47:58, 12.41s/it]  "
     ]
    },
    {
     "name": "stdout",
     "output_type": "stream",
     "text": [
      "2021-05-06 15:56:06,345 - modnet - INFO - Preset #24 fitting finished, loss: 0.34006413221359255\n"
     ]
    },
    {
     "name": "stderr",
     "output_type": "stream",
     "text": [
      " 36%|███▌      | 129/360 [33:11<51:28, 13.37s/it]"
     ]
    },
    {
     "name": "stdout",
     "output_type": "stream",
     "text": [
      "2021-05-06 15:56:10,516 - modnet - INFO - Preset #28 fitting finished, loss: 0.31770493388175963\n"
     ]
    },
    {
     "name": "stderr",
     "output_type": "stream",
     "text": [
      " 36%|███▌      | 130/360 [33:16<40:56, 10.68s/it]"
     ]
    },
    {
     "name": "stdout",
     "output_type": "stream",
     "text": [
      "2021-05-06 15:56:31,683 - modnet - INFO - Preset #28 fitting finished, loss: 0.3948812484741211\n"
     ]
    },
    {
     "name": "stderr",
     "output_type": "stream",
     "text": [
      " 36%|███▋      | 131/360 [33:37<52:48, 13.84s/it]"
     ]
    },
    {
     "name": "stdout",
     "output_type": "stream",
     "text": [
      "2021-05-06 15:56:45,113 - modnet - INFO - Preset #26 fitting finished, loss: 0.32833153009414673\n"
     ]
    },
    {
     "name": "stderr",
     "output_type": "stream",
     "text": [
      " 37%|███▋      | 132/360 [33:50<51:50, 13.64s/it]"
     ]
    },
    {
     "name": "stdout",
     "output_type": "stream",
     "text": [
      "2021-05-06 15:56:45,851 - modnet - INFO - Preset #24 fitting finished, loss: 0.37864112854003906\n"
     ]
    },
    {
     "name": "stderr",
     "output_type": "stream",
     "text": [
      " 37%|███▋      | 133/360 [33:51<37:04,  9.80s/it]"
     ]
    },
    {
     "name": "stdout",
     "output_type": "stream",
     "text": [
      "2021-05-06 15:56:54,132 - modnet - INFO - Preset #24 fitting finished, loss: 0.385018926858902\n"
     ]
    },
    {
     "name": "stderr",
     "output_type": "stream",
     "text": [
      " 37%|███▋      | 134/360 [33:59<35:25,  9.41s/it]"
     ]
    },
    {
     "name": "stdout",
     "output_type": "stream",
     "text": [
      "2021-05-06 15:56:58,096 - modnet - INFO - Preset #28 fitting finished, loss: 0.3941372275352478\n"
     ]
    },
    {
     "name": "stderr",
     "output_type": "stream",
     "text": [
      " 38%|███▊      | 135/360 [34:03<28:57,  7.72s/it]"
     ]
    },
    {
     "name": "stdout",
     "output_type": "stream",
     "text": [
      "2021-05-06 15:57:23,174 - modnet - INFO - Preset #25 fitting finished, loss: 0.36097742319107057\n"
     ]
    },
    {
     "name": "stderr",
     "output_type": "stream",
     "text": [
      " 38%|███▊      | 136/360 [34:28<48:10, 12.90s/it]"
     ]
    },
    {
     "name": "stdout",
     "output_type": "stream",
     "text": [
      "2021-05-06 15:57:24,983 - modnet - INFO - Preset #25 fitting finished, loss: 0.38798109292984007\n"
     ]
    },
    {
     "name": "stderr",
     "output_type": "stream",
     "text": [
      " 38%|███▊      | 137/360 [34:30<35:18,  9.50s/it]"
     ]
    },
    {
     "name": "stdout",
     "output_type": "stream",
     "text": [
      "2021-05-06 15:57:28,508 - modnet - INFO - Preset #27 fitting finished, loss: 0.3770178496837616\n"
     ]
    },
    {
     "name": "stderr",
     "output_type": "stream",
     "text": [
      " 38%|███▊      | 138/360 [34:34<28:47,  7.78s/it]"
     ]
    },
    {
     "name": "stdout",
     "output_type": "stream",
     "text": [
      "2021-05-06 15:57:38,166 - modnet - INFO - Preset #29 fitting finished, loss: 0.3360812127590179\n"
     ]
    },
    {
     "name": "stderr",
     "output_type": "stream",
     "text": [
      " 39%|███▊      | 139/360 [34:43<30:33,  8.30s/it]"
     ]
    },
    {
     "name": "stdout",
     "output_type": "stream",
     "text": [
      "2021-05-06 15:57:41,956 - modnet - INFO - Preset #24 fitting finished, loss: 0.3635830760002136\n"
     ]
    },
    {
     "name": "stderr",
     "output_type": "stream",
     "text": [
      " 39%|███▉      | 140/360 [34:47<25:49,  7.04s/it]"
     ]
    },
    {
     "name": "stdout",
     "output_type": "stream",
     "text": [
      "2021-05-06 15:58:07,296 - modnet - INFO - Preset #27 fitting finished, loss: 0.35852603912353515\n"
     ]
    },
    {
     "name": "stderr",
     "output_type": "stream",
     "text": [
      " 39%|███▉      | 141/360 [35:12<45:39, 12.51s/it]"
     ]
    },
    {
     "name": "stdout",
     "output_type": "stream",
     "text": [
      "2021-05-06 15:58:22,672 - modnet - INFO - Preset #25 fitting finished, loss: 0.38966724276542664\n"
     ]
    },
    {
     "name": "stderr",
     "output_type": "stream",
     "text": [
      " 39%|███▉      | 142/360 [35:28<48:28, 13.34s/it]"
     ]
    },
    {
     "name": "stdout",
     "output_type": "stream",
     "text": [
      "2021-05-06 15:58:24,225 - modnet - INFO - Preset #29 fitting finished, loss: 0.34558743238449097\n"
     ]
    },
    {
     "name": "stderr",
     "output_type": "stream",
     "text": [
      " 40%|███▉      | 143/360 [35:29<35:37,  9.85s/it]"
     ]
    },
    {
     "name": "stdout",
     "output_type": "stream",
     "text": [
      "2021-05-06 15:59:23,591 - modnet - INFO - Preset #29 fitting finished, loss: 0.3894507586956024\n"
     ]
    },
    {
     "name": "stderr",
     "output_type": "stream",
     "text": [
      " 40%|████      | 144/360 [36:29<1:28:45, 24.66s/it]"
     ]
    },
    {
     "name": "stdout",
     "output_type": "stream",
     "text": [
      "2021-05-06 15:59:34,423 - modnet - INFO - Preset #28 fitting finished, loss: 0.35285248756408694\n"
     ]
    },
    {
     "name": "stderr",
     "output_type": "stream",
     "text": [
      " 40%|████      | 145/360 [36:40<1:13:33, 20.53s/it]"
     ]
    },
    {
     "name": "stdout",
     "output_type": "stream",
     "text": [
      "2021-05-06 15:59:45,263 - modnet - INFO - Preset #25 fitting finished, loss: 0.34485681653022765\n"
     ]
    },
    {
     "name": "stderr",
     "output_type": "stream",
     "text": [
      " 41%|████      | 146/360 [36:50<1:02:42, 17.58s/it]"
     ]
    },
    {
     "name": "stdout",
     "output_type": "stream",
     "text": [
      "2021-05-06 15:59:48,824 - modnet - INFO - Preset #32 fitting finished, loss: 0.3913664579391479\n"
     ]
    },
    {
     "name": "stderr",
     "output_type": "stream",
     "text": [
      " 41%|████      | 147/360 [36:54<47:41, 13.43s/it]  "
     ]
    },
    {
     "name": "stdout",
     "output_type": "stream",
     "text": [
      "2021-05-06 16:00:09,668 - modnet - INFO - Preset #27 fitting finished, loss: 0.34261530041694643\n"
     ]
    },
    {
     "name": "stderr",
     "output_type": "stream",
     "text": [
      " 41%|████      | 148/360 [37:15<54:56, 15.55s/it]"
     ]
    },
    {
     "name": "stdout",
     "output_type": "stream",
     "text": [
      "2021-05-06 16:00:10,214 - modnet - INFO - Preset #29 fitting finished, loss: 0.30087184309959414\n"
     ]
    },
    {
     "name": "stderr",
     "output_type": "stream",
     "text": [
      " 41%|████▏     | 149/360 [37:15<39:08, 11.13s/it]"
     ]
    },
    {
     "name": "stdout",
     "output_type": "stream",
     "text": [
      "2021-05-06 16:00:19,206 - modnet - INFO - Preset #28 fitting finished, loss: 0.34448095560073855\n"
     ]
    },
    {
     "name": "stderr",
     "output_type": "stream",
     "text": [
      " 42%|████▏     | 150/360 [37:24<36:45, 10.50s/it]"
     ]
    },
    {
     "name": "stdout",
     "output_type": "stream",
     "text": [
      "2021-05-06 16:01:00,026 - modnet - INFO - Preset #35 fitting finished, loss: 0.4013667404651642\n"
     ]
    },
    {
     "name": "stderr",
     "output_type": "stream",
     "text": [
      " 42%|████▏     | 151/360 [38:05<1:08:11, 19.58s/it]"
     ]
    },
    {
     "name": "stdout",
     "output_type": "stream",
     "text": [
      "2021-05-06 16:01:11,941 - modnet - INFO - Preset #34 fitting finished, loss: 0.4036365032196045\n"
     ]
    },
    {
     "name": "stderr",
     "output_type": "stream",
     "text": [
      " 42%|████▏     | 152/360 [38:17<59:50, 17.26s/it]  "
     ]
    },
    {
     "name": "stdout",
     "output_type": "stream",
     "text": [
      "2021-05-06 16:01:12,667 - modnet - INFO - Preset #35 fitting finished, loss: 0.3581805169582367\n"
     ]
    },
    {
     "name": "stderr",
     "output_type": "stream",
     "text": [
      " 42%|████▎     | 153/360 [38:18<42:22, 12.28s/it]"
     ]
    },
    {
     "name": "stdout",
     "output_type": "stream",
     "text": [
      "2021-05-06 16:01:24,674 - modnet - INFO - Preset #29 fitting finished, loss: 0.3887687087059021\n"
     ]
    },
    {
     "name": "stderr",
     "output_type": "stream",
     "text": [
      " 43%|████▎     | 154/360 [38:30<41:44, 12.16s/it]"
     ]
    },
    {
     "name": "stdout",
     "output_type": "stream",
     "text": [
      "2021-05-06 16:01:26,860 - modnet - INFO - Preset #35 fitting finished, loss: 0.372872120141983\n"
     ]
    },
    {
     "name": "stderr",
     "output_type": "stream",
     "text": [
      " 43%|████▎     | 155/360 [38:32<31:38,  9.26s/it]"
     ]
    },
    {
     "name": "stdout",
     "output_type": "stream",
     "text": [
      "2021-05-06 16:01:29,539 - modnet - INFO - Preset #32 fitting finished, loss: 0.37596864700317384\n"
     ]
    },
    {
     "name": "stderr",
     "output_type": "stream",
     "text": [
      " 43%|████▎     | 156/360 [38:35<24:41,  7.26s/it]"
     ]
    },
    {
     "name": "stdout",
     "output_type": "stream",
     "text": [
      "2021-05-06 16:01:31,292 - modnet - INFO - Preset #32 fitting finished, loss: 0.34795960783958435\n"
     ]
    },
    {
     "name": "stderr",
     "output_type": "stream",
     "text": [
      " 44%|████▎     | 157/360 [38:36<19:06,  5.65s/it]"
     ]
    },
    {
     "name": "stdout",
     "output_type": "stream",
     "text": [
      "2021-05-06 16:01:57,461 - modnet - INFO - Preset #41 fitting finished, loss: 0.4518155097961426\n"
     ]
    },
    {
     "name": "stderr",
     "output_type": "stream",
     "text": [
      " 44%|████▍     | 158/360 [39:03<39:42, 11.79s/it]"
     ]
    },
    {
     "name": "stdout",
     "output_type": "stream",
     "text": [
      "2021-05-06 16:02:09,971 - modnet - INFO - Preset #33 fitting finished, loss: 0.3909421324729919\n"
     ]
    },
    {
     "name": "stderr",
     "output_type": "stream",
     "text": [
      " 44%|████▍     | 159/360 [39:15<40:23, 12.06s/it]"
     ]
    },
    {
     "name": "stdout",
     "output_type": "stream",
     "text": [
      "2021-05-06 16:02:18,466 - modnet - INFO - Preset #33 fitting finished, loss: 0.3623019218444824\n"
     ]
    },
    {
     "name": "stderr",
     "output_type": "stream",
     "text": [
      " 44%|████▍     | 160/360 [39:24<36:32, 10.96s/it]"
     ]
    },
    {
     "name": "stdout",
     "output_type": "stream",
     "text": [
      "2021-05-06 16:02:21,454 - modnet - INFO - Preset #35 fitting finished, loss: 0.30632918477058413\n"
     ]
    },
    {
     "name": "stderr",
     "output_type": "stream",
     "text": [
      " 45%|████▍     | 161/360 [39:27<28:23,  8.56s/it]"
     ]
    },
    {
     "name": "stdout",
     "output_type": "stream",
     "text": [
      "2021-05-06 16:02:22,353 - modnet - INFO - Preset #41 fitting finished, loss: 0.5069178462028503\n"
     ]
    },
    {
     "name": "stderr",
     "output_type": "stream",
     "text": [
      " 45%|████▌     | 162/360 [39:28<20:44,  6.28s/it]"
     ]
    },
    {
     "name": "stdout",
     "output_type": "stream",
     "text": [
      "2021-05-06 16:02:48,008 - modnet - INFO - Preset #34 fitting finished, loss: 0.3371129870414734\n"
     ]
    },
    {
     "name": "stderr",
     "output_type": "stream",
     "text": [
      " 45%|████▌     | 163/360 [39:53<39:27, 12.02s/it]"
     ]
    },
    {
     "name": "stdout",
     "output_type": "stream",
     "text": [
      "2021-05-06 16:03:03,484 - modnet - INFO - Preset #31 fitting finished, loss: 0.38074734807014465\n"
     ]
    },
    {
     "name": "stderr",
     "output_type": "stream",
     "text": [
      " 46%|████▌     | 164/360 [40:09<42:50, 13.12s/it]"
     ]
    },
    {
     "name": "stdout",
     "output_type": "stream",
     "text": [
      "2021-05-06 16:03:07,506 - modnet - INFO - Preset #35 fitting finished, loss: 0.3562437117099762\n"
     ]
    },
    {
     "name": "stderr",
     "output_type": "stream",
     "text": [
      " 46%|████▌     | 165/360 [40:13<33:39, 10.36s/it]"
     ]
    },
    {
     "name": "stdout",
     "output_type": "stream",
     "text": [
      "2021-05-06 16:03:08,326 - modnet - INFO - Preset #33 fitting finished, loss: 0.35289348363876344\n"
     ]
    },
    {
     "name": "stderr",
     "output_type": "stream",
     "text": [
      " 46%|████▌     | 166/360 [40:13<24:10,  7.48s/it]"
     ]
    },
    {
     "name": "stdout",
     "output_type": "stream",
     "text": [
      "2021-05-06 16:03:10,091 - modnet - INFO - Preset #32 fitting finished, loss: 0.33455193042755127\n"
     ]
    },
    {
     "name": "stderr",
     "output_type": "stream",
     "text": [
      " 46%|████▋     | 167/360 [40:15<18:37,  5.79s/it]"
     ]
    },
    {
     "name": "stdout",
     "output_type": "stream",
     "text": [
      "2021-05-06 16:03:11,899 - modnet - INFO - Preset #31 fitting finished, loss: 0.40250796675682066\n"
     ]
    },
    {
     "name": "stderr",
     "output_type": "stream",
     "text": [
      " 47%|████▋     | 168/360 [40:17<14:39,  4.58s/it]"
     ]
    },
    {
     "name": "stdout",
     "output_type": "stream",
     "text": [
      "2021-05-06 16:03:30,312 - modnet - INFO - Preset #41 fitting finished, loss: 0.4673425853252411\n"
     ]
    },
    {
     "name": "stderr",
     "output_type": "stream",
     "text": [
      " 47%|████▋     | 169/360 [40:35<27:50,  8.74s/it]"
     ]
    },
    {
     "name": "stdout",
     "output_type": "stream",
     "text": [
      "2021-05-06 16:03:46,402 - modnet - INFO - Preset #32 fitting finished, loss: 0.3630814075469971\n"
     ]
    },
    {
     "name": "stderr",
     "output_type": "stream",
     "text": [
      " 47%|████▋     | 170/360 [40:52<34:39, 10.95s/it]"
     ]
    },
    {
     "name": "stdout",
     "output_type": "stream",
     "text": [
      "2021-05-06 16:04:06,566 - modnet - INFO - Preset #34 fitting finished, loss: 0.3496017396450043\n"
     ]
    },
    {
     "name": "stderr",
     "output_type": "stream",
     "text": [
      " 48%|████▊     | 171/360 [41:11<42:58, 13.64s/it]"
     ]
    },
    {
     "name": "stdout",
     "output_type": "stream",
     "text": [
      "2021-05-06 16:04:17,734 - modnet - INFO - Preset #34 fitting finished, loss: 0.36784727573394777\n"
     ]
    },
    {
     "name": "stderr",
     "output_type": "stream",
     "text": [
      " 48%|████▊     | 172/360 [41:23<40:37, 12.97s/it]"
     ]
    },
    {
     "name": "stdout",
     "output_type": "stream",
     "text": [
      "2021-05-06 16:04:24,791 - modnet - INFO - Preset #30 fitting finished, loss: 0.3760688304901123\n"
     ]
    },
    {
     "name": "stderr",
     "output_type": "stream",
     "text": [
      " 48%|████▊     | 173/360 [41:30<34:53, 11.19s/it]"
     ]
    },
    {
     "name": "stdout",
     "output_type": "stream",
     "text": [
      "2021-05-06 16:04:27,033 - modnet - INFO - Preset #40 fitting finished, loss: 0.41028172969818116\n"
     ]
    },
    {
     "name": "stderr",
     "output_type": "stream",
     "text": [
      " 48%|████▊     | 174/360 [41:32<26:25,  8.52s/it]"
     ]
    },
    {
     "name": "stdout",
     "output_type": "stream",
     "text": [
      "2021-05-06 16:04:51,083 - modnet - INFO - Preset #40 fitting finished, loss: 0.429265296459198\n"
     ]
    },
    {
     "name": "stderr",
     "output_type": "stream",
     "text": [
      " 49%|████▊     | 175/360 [41:56<40:11, 13.04s/it]"
     ]
    },
    {
     "name": "stdout",
     "output_type": "stream",
     "text": [
      "2021-05-06 16:04:53,613 - modnet - INFO - Preset #33 fitting finished, loss: 0.3289214909076691\n"
     ]
    },
    {
     "name": "stderr",
     "output_type": "stream",
     "text": [
      " 49%|████▉     | 176/360 [41:58<30:26,  9.93s/it]"
     ]
    },
    {
     "name": "stdout",
     "output_type": "stream",
     "text": [
      "2021-05-06 16:05:47,361 - modnet - INFO - Preset #40 fitting finished, loss: 0.43787423372268675\n"
     ]
    },
    {
     "name": "stderr",
     "output_type": "stream",
     "text": [
      " 49%|████▉     | 177/360 [42:52<1:10:25, 23.09s/it]"
     ]
    },
    {
     "name": "stdout",
     "output_type": "stream",
     "text": [
      "2021-05-06 16:05:53,358 - modnet - INFO - Preset #33 fitting finished, loss: 0.38636308908462524\n"
     ]
    },
    {
     "name": "stderr",
     "output_type": "stream",
     "text": [
      " 49%|████▉     | 178/360 [42:59<54:51, 18.09s/it]  "
     ]
    },
    {
     "name": "stdout",
     "output_type": "stream",
     "text": [
      "2021-05-06 16:05:54,354 - modnet - INFO - Preset #31 fitting finished, loss: 0.4077234983444214\n"
     ]
    },
    {
     "name": "stderr",
     "output_type": "stream",
     "text": [
      " 50%|████▉     | 179/360 [42:59<38:51, 12.88s/it]"
     ]
    },
    {
     "name": "stdout",
     "output_type": "stream",
     "text": [
      "2021-05-06 16:05:56,895 - modnet - INFO - Preset #40 fitting finished, loss: 0.47769750356674195\n"
     ]
    },
    {
     "name": "stderr",
     "output_type": "stream",
     "text": [
      " 50%|█████     | 180/360 [43:02<29:35,  9.86s/it]"
     ]
    },
    {
     "name": "stdout",
     "output_type": "stream",
     "text": [
      "2021-05-06 16:06:03,987 - modnet - INFO - Preset #36 fitting finished, loss: 0.34861689805984497\n"
     ]
    },
    {
     "name": "stderr",
     "output_type": "stream",
     "text": [
      " 50%|█████     | 181/360 [43:09<26:58,  9.04s/it]"
     ]
    },
    {
     "name": "stdout",
     "output_type": "stream",
     "text": [
      "2021-05-06 16:06:07,774 - modnet - INFO - Preset #30 fitting finished, loss: 0.4134673297405243\n"
     ]
    },
    {
     "name": "stderr",
     "output_type": "stream",
     "text": [
      " 51%|█████     | 182/360 [43:13<21:59,  7.41s/it]"
     ]
    },
    {
     "name": "stdout",
     "output_type": "stream",
     "text": [
      "2021-05-06 16:06:12,842 - modnet - INFO - Preset #36 fitting finished, loss: 0.36961671710014343\n"
     ]
    },
    {
     "name": "stderr",
     "output_type": "stream",
     "text": [
      " 51%|█████     | 183/360 [43:18<19:36,  6.65s/it]"
     ]
    },
    {
     "name": "stdout",
     "output_type": "stream",
     "text": [
      "2021-05-06 16:06:18,038 - modnet - INFO - Preset #30 fitting finished, loss: 0.4218223989009857\n"
     ]
    },
    {
     "name": "stderr",
     "output_type": "stream",
     "text": [
      " 51%|█████     | 184/360 [43:23<18:20,  6.25s/it]"
     ]
    },
    {
     "name": "stdout",
     "output_type": "stream",
     "text": [
      "2021-05-06 16:06:22,464 - modnet - INFO - Preset #34 fitting finished, loss: 0.3856810450553894\n"
     ]
    },
    {
     "name": "stderr",
     "output_type": "stream",
     "text": [
      " 51%|█████▏    | 185/360 [43:27<16:26,  5.64s/it]"
     ]
    },
    {
     "name": "stdout",
     "output_type": "stream",
     "text": [
      "2021-05-06 16:06:30,055 - modnet - INFO - Preset #30 fitting finished, loss: 0.3725257396697998\n"
     ]
    },
    {
     "name": "stderr",
     "output_type": "stream",
     "text": [
      " 52%|█████▏    | 186/360 [43:35<18:21,  6.33s/it]"
     ]
    },
    {
     "name": "stdout",
     "output_type": "stream",
     "text": [
      "2021-05-06 16:06:31,906 - modnet - INFO - Preset #30 fitting finished, loss: 0.38051454424858094\n"
     ]
    },
    {
     "name": "stderr",
     "output_type": "stream",
     "text": [
      " 52%|█████▏    | 187/360 [43:37<14:21,  4.98s/it]"
     ]
    },
    {
     "name": "stdout",
     "output_type": "stream",
     "text": [
      "2021-05-06 16:06:50,632 - modnet - INFO - Preset #37 fitting finished, loss: 0.34947553277015686\n"
     ]
    },
    {
     "name": "stderr",
     "output_type": "stream",
     "text": [
      " 52%|█████▏    | 188/360 [43:56<26:07,  9.11s/it]"
     ]
    },
    {
     "name": "stdout",
     "output_type": "stream",
     "text": [
      "2021-05-06 16:06:58,782 - modnet - INFO - Preset #37 fitting finished, loss: 0.38112389445304873\n"
     ]
    },
    {
     "name": "stderr",
     "output_type": "stream",
     "text": [
      " 52%|█████▎    | 189/360 [44:04<25:03,  8.79s/it]"
     ]
    },
    {
     "name": "stdout",
     "output_type": "stream",
     "text": [
      "2021-05-06 16:06:59,666 - modnet - INFO - Preset #36 fitting finished, loss: 0.36865379810333254\n"
     ]
    },
    {
     "name": "stderr",
     "output_type": "stream",
     "text": [
      " 53%|█████▎    | 190/360 [44:05<18:14,  6.44s/it]"
     ]
    },
    {
     "name": "stdout",
     "output_type": "stream",
     "text": [
      "2021-05-06 16:07:01,637 - modnet - INFO - Preset #31 fitting finished, loss: 0.3855264067649841\n"
     ]
    },
    {
     "name": "stderr",
     "output_type": "stream",
     "text": [
      " 53%|█████▎    | 191/360 [44:07<14:07,  5.01s/it]"
     ]
    },
    {
     "name": "stdout",
     "output_type": "stream",
     "text": [
      "2021-05-06 16:07:14,171 - modnet - INFO - Preset #40 fitting finished, loss: 0.4261528491973877\n"
     ]
    },
    {
     "name": "stderr",
     "output_type": "stream",
     "text": [
      " 53%|█████▎    | 192/360 [44:19<20:34,  7.35s/it]"
     ]
    },
    {
     "name": "stdout",
     "output_type": "stream",
     "text": [
      "2021-05-06 16:08:11,743 - modnet - INFO - Preset #31 fitting finished, loss: 0.36913418769836426\n"
     ]
    },
    {
     "name": "stderr",
     "output_type": "stream",
     "text": [
      " 54%|█████▎    | 193/360 [45:17<1:02:22, 22.41s/it]"
     ]
    },
    {
     "name": "stdout",
     "output_type": "stream",
     "text": [
      "2021-05-06 16:08:25,488 - modnet - INFO - Preset #37 fitting finished, loss: 0.32945905327796937\n"
     ]
    },
    {
     "name": "stderr",
     "output_type": "stream",
     "text": [
      " 54%|█████▍    | 194/360 [45:31<54:47, 19.81s/it]  "
     ]
    },
    {
     "name": "stdout",
     "output_type": "stream",
     "text": [
      "2021-05-06 16:08:39,639 - modnet - INFO - Preset #38 fitting finished, loss: 0.3276925325393677\n"
     ]
    },
    {
     "name": "stderr",
     "output_type": "stream",
     "text": [
      " 54%|█████▍    | 195/360 [45:45<49:53, 18.14s/it]"
     ]
    },
    {
     "name": "stdout",
     "output_type": "stream",
     "text": [
      "2021-05-06 16:09:07,288 - modnet - INFO - Preset #39 fitting finished, loss: 0.3995902121067047\n"
     ]
    },
    {
     "name": "stderr",
     "output_type": "stream",
     "text": [
      " 54%|█████▍    | 196/360 [46:13<57:21, 20.99s/it]"
     ]
    },
    {
     "name": "stdout",
     "output_type": "stream",
     "text": [
      "2021-05-06 16:09:20,907 - modnet - INFO - Preset #41 fitting finished, loss: 0.41832324862480164\n"
     ]
    },
    {
     "name": "stderr",
     "output_type": "stream",
     "text": [
      " 55%|█████▍    | 197/360 [46:26<50:58, 18.76s/it]"
     ]
    },
    {
     "name": "stdout",
     "output_type": "stream",
     "text": [
      "2021-05-06 16:09:29,763 - modnet - INFO - Preset #36 fitting finished, loss: 0.3368631422519684\n"
     ]
    },
    {
     "name": "stderr",
     "output_type": "stream",
     "text": [
      " 55%|█████▌    | 198/360 [46:35<42:37, 15.79s/it]"
     ]
    },
    {
     "name": "stdout",
     "output_type": "stream",
     "text": [
      "2021-05-06 16:09:41,082 - modnet - INFO - Preset #37 fitting finished, loss: 0.3134811282157898\n"
     ]
    },
    {
     "name": "stderr",
     "output_type": "stream",
     "text": [
      " 55%|█████▌    | 199/360 [46:46<38:48, 14.46s/it]"
     ]
    },
    {
     "name": "stdout",
     "output_type": "stream",
     "text": [
      "2021-05-06 16:10:20,762 - modnet - INFO - Preset #44 fitting finished, loss: 0.3115602612495422\n"
     ]
    },
    {
     "name": "stderr",
     "output_type": "stream",
     "text": [
      " 56%|█████▌    | 200/360 [47:26<58:36, 21.98s/it]"
     ]
    },
    {
     "name": "stdout",
     "output_type": "stream",
     "text": [
      "2021-05-06 16:10:49,787 - modnet - INFO - Preset #43 fitting finished, loss: 0.33693369626998904\n"
     ]
    },
    {
     "name": "stderr",
     "output_type": "stream",
     "text": [
      " 56%|█████▌    | 201/360 [47:55<1:03:49, 24.09s/it]"
     ]
    },
    {
     "name": "stdout",
     "output_type": "stream",
     "text": [
      "2021-05-06 16:10:51,121 - modnet - INFO - Preset #41 fitting finished, loss: 0.34922037124633787\n"
     ]
    },
    {
     "name": "stderr",
     "output_type": "stream",
     "text": [
      " 56%|█████▌    | 202/360 [47:56<45:33, 17.30s/it]  "
     ]
    },
    {
     "name": "stdout",
     "output_type": "stream",
     "text": [
      "2021-05-06 16:11:08,445 - modnet - INFO - Preset #38 fitting finished, loss: 0.34349189400672914\n"
     ]
    },
    {
     "name": "stderr",
     "output_type": "stream",
     "text": [
      " 56%|█████▋    | 203/360 [48:14<45:19, 17.32s/it]"
     ]
    },
    {
     "name": "stdout",
     "output_type": "stream",
     "text": [
      "2021-05-06 16:11:26,175 - modnet - INFO - Preset #42 fitting finished, loss: 0.33835321068763735\n"
     ]
    },
    {
     "name": "stderr",
     "output_type": "stream",
     "text": [
      " 57%|█████▋    | 204/360 [48:32<45:26, 17.47s/it]"
     ]
    },
    {
     "name": "stdout",
     "output_type": "stream",
     "text": [
      "2021-05-06 16:11:33,565 - modnet - INFO - Preset #38 fitting finished, loss: 0.36667440533638\n"
     ]
    },
    {
     "name": "stderr",
     "output_type": "stream",
     "text": [
      " 57%|█████▋    | 205/360 [48:39<37:02, 14.34s/it]"
     ]
    },
    {
     "name": "stdout",
     "output_type": "stream",
     "text": [
      "2021-05-06 16:11:48,182 - modnet - INFO - Preset #47 fitting finished, loss: 0.3897068381309509\n"
     ]
    },
    {
     "name": "stderr",
     "output_type": "stream",
     "text": [
      " 57%|█████▋    | 206/360 [48:53<37:08, 14.47s/it]"
     ]
    },
    {
     "name": "stdout",
     "output_type": "stream",
     "text": [
      "2021-05-06 16:11:56,178 - modnet - INFO - Preset #47 fitting finished, loss: 0.35541328191757204\n"
     ]
    },
    {
     "name": "stderr",
     "output_type": "stream",
     "text": [
      " 57%|█████▊    | 207/360 [49:01<32:00, 12.55s/it]"
     ]
    },
    {
     "name": "stdout",
     "output_type": "stream",
     "text": [
      "2021-05-06 16:12:11,217 - modnet - INFO - Preset #46 fitting finished, loss: 0.37382171750068666\n"
     ]
    },
    {
     "name": "stderr",
     "output_type": "stream",
     "text": [
      " 58%|█████▊    | 208/360 [49:17<33:48, 13.35s/it]"
     ]
    },
    {
     "name": "stdout",
     "output_type": "stream",
     "text": [
      "2021-05-06 16:12:13,304 - modnet - INFO - Preset #42 fitting finished, loss: 0.37210810780525205\n"
     ]
    },
    {
     "name": "stderr",
     "output_type": "stream",
     "text": [
      " 58%|█████▊    | 209/360 [49:19<25:09, 10.00s/it]"
     ]
    },
    {
     "name": "stdout",
     "output_type": "stream",
     "text": [
      "2021-05-06 16:12:39,038 - modnet - INFO - Preset #44 fitting finished, loss: 0.37118021249771116\n"
     ]
    },
    {
     "name": "stderr",
     "output_type": "stream",
     "text": [
      " 58%|█████▊    | 210/360 [49:44<36:35, 14.64s/it]"
     ]
    },
    {
     "name": "stdout",
     "output_type": "stream",
     "text": [
      "2021-05-06 16:13:12,166 - modnet - INFO - Preset #45 fitting finished, loss: 0.3617966532707214\n"
     ]
    },
    {
     "name": "stderr",
     "output_type": "stream",
     "text": [
      " 59%|█████▊    | 211/360 [50:17<50:11, 20.21s/it]"
     ]
    },
    {
     "name": "stdout",
     "output_type": "stream",
     "text": [
      "2021-05-06 16:13:13,156 - modnet - INFO - Preset #46 fitting finished, loss: 0.4624435007572174\n"
     ]
    },
    {
     "name": "stderr",
     "output_type": "stream",
     "text": [
      " 59%|█████▉    | 212/360 [50:18<35:38, 14.45s/it]"
     ]
    },
    {
     "name": "stdout",
     "output_type": "stream",
     "text": [
      "2021-05-06 16:13:22,492 - modnet - INFO - Preset #43 fitting finished, loss: 0.36975783109664917\n"
     ]
    },
    {
     "name": "stderr",
     "output_type": "stream",
     "text": [
      " 59%|█████▉    | 213/360 [50:28<31:29, 12.86s/it]"
     ]
    },
    {
     "name": "stdout",
     "output_type": "stream",
     "text": [
      "2021-05-06 16:13:35,012 - modnet - INFO - Preset #39 fitting finished, loss: 0.3402037501335144\n"
     ]
    },
    {
     "name": "stderr",
     "output_type": "stream",
     "text": [
      " 59%|█████▉    | 214/360 [50:40<31:05, 12.78s/it]"
     ]
    },
    {
     "name": "stdout",
     "output_type": "stream",
     "text": [
      "2021-05-06 16:13:37,740 - modnet - INFO - Preset #44 fitting finished, loss: 0.3482635974884033\n"
     ]
    },
    {
     "name": "stderr",
     "output_type": "stream",
     "text": [
      " 60%|█████▉    | 215/360 [50:43<23:28,  9.71s/it]"
     ]
    },
    {
     "name": "stdout",
     "output_type": "stream",
     "text": [
      "2021-05-06 16:13:38,436 - modnet - INFO - Preset #47 fitting finished, loss: 0.3933804273605347\n"
     ]
    },
    {
     "name": "stderr",
     "output_type": "stream",
     "text": [
      " 60%|██████    | 216/360 [50:44<17:05,  7.12s/it]"
     ]
    },
    {
     "name": "stdout",
     "output_type": "stream",
     "text": [
      "2021-05-06 16:13:56,045 - modnet - INFO - Preset #46 fitting finished, loss: 0.4398998498916626\n"
     ]
    },
    {
     "name": "stderr",
     "output_type": "stream",
     "text": [
      " 60%|██████    | 217/360 [51:01<24:15, 10.18s/it]"
     ]
    },
    {
     "name": "stdout",
     "output_type": "stream",
     "text": [
      "2021-05-06 16:14:02,626 - modnet - INFO - Preset #36 fitting finished, loss: 0.3310208857059479\n"
     ]
    },
    {
     "name": "stderr",
     "output_type": "stream",
     "text": [
      " 61%|██████    | 218/360 [51:11<23:37,  9.98s/it]"
     ]
    },
    {
     "name": "stdout",
     "output_type": "stream",
     "text": [
      "2021-05-06 16:14:32,898 - modnet - INFO - Preset #38 fitting finished, loss: 0.3557939291000366\n"
     ]
    },
    {
     "name": "stderr",
     "output_type": "stream",
     "text": [
      " 61%|██████    | 219/360 [51:38<35:37, 15.16s/it]"
     ]
    },
    {
     "name": "stdout",
     "output_type": "stream",
     "text": [
      "2021-05-06 16:14:35,244 - modnet - INFO - Preset #46 fitting finished, loss: 0.37760724425315856\n"
     ]
    },
    {
     "name": "stderr",
     "output_type": "stream",
     "text": [
      " 61%|██████    | 220/360 [51:40<26:31, 11.37s/it]"
     ]
    },
    {
     "name": "stdout",
     "output_type": "stream",
     "text": [
      "2021-05-06 16:14:37,979 - modnet - INFO - Preset #47 fitting finished, loss: 0.39950528740882874\n"
     ]
    },
    {
     "name": "stderr",
     "output_type": "stream",
     "text": [
      " 61%|██████▏   | 221/360 [51:43<20:13,  8.73s/it]"
     ]
    },
    {
     "name": "stdout",
     "output_type": "stream",
     "text": [
      "2021-05-06 16:14:57,710 - modnet - INFO - Preset #45 fitting finished, loss: 0.31316795349121096\n"
     ]
    },
    {
     "name": "stderr",
     "output_type": "stream",
     "text": [
      " 62%|██████▏   | 222/360 [52:03<27:55, 12.14s/it]"
     ]
    },
    {
     "name": "stdout",
     "output_type": "stream",
     "text": [
      "2021-05-06 16:15:17,458 - modnet - INFO - Preset #39 fitting finished, loss: 0.3282894015312195\n"
     ]
    },
    {
     "name": "stderr",
     "output_type": "stream",
     "text": [
      " 62%|██████▏   | 223/360 [52:23<32:46, 14.36s/it]"
     ]
    },
    {
     "name": "stdout",
     "output_type": "stream",
     "text": [
      "2021-05-06 16:15:25,385 - modnet - INFO - Preset #50 fitting finished, loss: 0.3444617450237274\n"
     ]
    },
    {
     "name": "stderr",
     "output_type": "stream",
     "text": [
      " 62%|██████▏   | 224/360 [52:30<28:07, 12.41s/it]"
     ]
    },
    {
     "name": "stdout",
     "output_type": "stream",
     "text": [
      "2021-05-06 16:15:30,142 - modnet - INFO - Preset #50 fitting finished, loss: 0.367366361618042\n"
     ]
    },
    {
     "name": "stderr",
     "output_type": "stream",
     "text": [
      " 62%|██████▎   | 225/360 [52:35<22:46, 10.12s/it]"
     ]
    },
    {
     "name": "stdout",
     "output_type": "stream",
     "text": [
      "2021-05-06 16:15:52,398 - modnet - INFO - Preset #51 fitting finished, loss: 0.36416561603546144\n"
     ]
    },
    {
     "name": "stderr",
     "output_type": "stream",
     "text": [
      " 63%|██████▎   | 226/360 [52:57<30:42, 13.75s/it]"
     ]
    },
    {
     "name": "stdout",
     "output_type": "stream",
     "text": [
      "2021-05-06 16:16:04,644 - modnet - INFO - Preset #37 fitting finished, loss: 0.32838782072067263\n"
     ]
    },
    {
     "name": "stderr",
     "output_type": "stream",
     "text": [
      " 63%|██████▎   | 227/360 [53:10<29:24, 13.27s/it]"
     ]
    },
    {
     "name": "stdout",
     "output_type": "stream",
     "text": [
      "2021-05-06 16:16:06,221 - modnet - INFO - Preset #45 fitting finished, loss: 0.3656413435935974\n"
     ]
    },
    {
     "name": "stderr",
     "output_type": "stream",
     "text": [
      " 63%|██████▎   | 228/360 [53:11<21:30,  9.78s/it]"
     ]
    },
    {
     "name": "stdout",
     "output_type": "stream",
     "text": [
      "2021-05-06 16:16:07,443 - modnet - INFO - Preset #42 fitting finished, loss: 0.34778018593788146\n"
     ]
    },
    {
     "name": "stderr",
     "output_type": "stream",
     "text": [
      " 64%|██████▎   | 229/360 [53:13<15:45,  7.22s/it]"
     ]
    },
    {
     "name": "stdout",
     "output_type": "stream",
     "text": [
      "2021-05-06 16:16:09,417 - modnet - INFO - Preset #39 fitting finished, loss: 0.2899676561355591\n"
     ]
    },
    {
     "name": "stderr",
     "output_type": "stream",
     "text": [
      " 64%|██████▍   | 230/360 [53:14<12:08,  5.60s/it]"
     ]
    },
    {
     "name": "stdout",
     "output_type": "stream",
     "text": [
      "2021-05-06 16:16:38,678 - modnet - INFO - Preset #42 fitting finished, loss: 0.31990242600440977\n"
     ]
    },
    {
     "name": "stderr",
     "output_type": "stream",
     "text": [
      " 64%|██████▍   | 231/360 [53:44<27:21, 12.72s/it]"
     ]
    },
    {
     "name": "stdout",
     "output_type": "stream",
     "text": [
      "2021-05-06 16:16:43,772 - modnet - INFO - Preset #46 fitting finished, loss: 0.3295696198940277\n"
     ]
    },
    {
     "name": "stderr",
     "output_type": "stream",
     "text": [
      " 64%|██████▍   | 232/360 [53:49<22:21, 10.48s/it]"
     ]
    },
    {
     "name": "stdout",
     "output_type": "stream",
     "text": [
      "2021-05-06 16:16:52,831 - modnet - INFO - Preset #45 fitting finished, loss: 0.31286601424217225\n"
     ]
    },
    {
     "name": "stderr",
     "output_type": "stream",
     "text": [
      " 65%|██████▍   | 233/360 [53:58<21:15, 10.05s/it]"
     ]
    },
    {
     "name": "stdout",
     "output_type": "stream",
     "text": [
      "2021-05-06 16:16:54,410 - modnet - INFO - Preset #49 fitting finished, loss: 0.37842273712158203\n"
     ]
    },
    {
     "name": "stderr",
     "output_type": "stream",
     "text": [
      " 65%|██████▌   | 234/360 [54:00<15:48,  7.53s/it]"
     ]
    },
    {
     "name": "stdout",
     "output_type": "stream",
     "text": [
      "2021-05-06 16:17:02,525 - modnet - INFO - Preset #48 fitting finished, loss: 0.3569203674793243\n"
     ]
    },
    {
     "name": "stderr",
     "output_type": "stream",
     "text": [
      " 65%|██████▌   | 235/360 [54:08<15:58,  7.67s/it]"
     ]
    },
    {
     "name": "stdout",
     "output_type": "stream",
     "text": [
      "2021-05-06 16:17:07,273 - modnet - INFO - Preset #43 fitting finished, loss: 0.3730827271938324\n"
     ]
    },
    {
     "name": "stderr",
     "output_type": "stream",
     "text": [
      " 66%|██████▌   | 236/360 [54:13<14:07,  6.84s/it]"
     ]
    },
    {
     "name": "stdout",
     "output_type": "stream",
     "text": [
      "2021-05-06 16:17:12,364 - modnet - INFO - Preset #48 fitting finished, loss: 0.3458063960075378\n"
     ]
    },
    {
     "name": "stderr",
     "output_type": "stream",
     "text": [
      " 66%|██████▌   | 237/360 [54:18<12:54,  6.30s/it]"
     ]
    },
    {
     "name": "stdout",
     "output_type": "stream",
     "text": [
      "2021-05-06 16:17:17,028 - modnet - INFO - Preset #45 fitting finished, loss: 0.34367584586143496\n"
     ]
    },
    {
     "name": "stderr",
     "output_type": "stream",
     "text": [
      " 66%|██████▌   | 238/360 [54:22<11:48,  5.81s/it]"
     ]
    },
    {
     "name": "stdout",
     "output_type": "stream",
     "text": [
      "2021-05-06 16:17:19,730 - modnet - INFO - Preset #42 fitting finished, loss: 0.38339291214942933\n"
     ]
    },
    {
     "name": "stderr",
     "output_type": "stream",
     "text": [
      " 66%|██████▋   | 239/360 [54:25<09:42,  4.82s/it]"
     ]
    },
    {
     "name": "stdout",
     "output_type": "stream",
     "text": [
      "2021-05-06 16:17:26,607 - modnet - INFO - Preset #44 fitting finished, loss: 0.3391319751739502\n"
     ]
    },
    {
     "name": "stderr",
     "output_type": "stream",
     "text": [
      " 67%|██████▋   | 240/360 [54:32<11:01,  5.52s/it]"
     ]
    },
    {
     "name": "stdout",
     "output_type": "stream",
     "text": [
      "2021-05-06 16:17:38,384 - modnet - INFO - Preset #44 fitting finished, loss: 0.33159303665161133\n"
     ]
    },
    {
     "name": "stderr",
     "output_type": "stream",
     "text": [
      " 67%|██████▋   | 241/360 [54:44<14:37,  7.38s/it]"
     ]
    },
    {
     "name": "stdout",
     "output_type": "stream",
     "text": [
      "2021-05-06 16:17:45,703 - modnet - INFO - Preset #50 fitting finished, loss: 0.3145532727241516\n"
     ]
    },
    {
     "name": "stderr",
     "output_type": "stream",
     "text": [
      " 67%|██████▋   | 242/360 [54:51<14:27,  7.35s/it]"
     ]
    },
    {
     "name": "stdout",
     "output_type": "stream",
     "text": [
      "2021-05-06 16:17:49,954 - modnet - INFO - Preset #49 fitting finished, loss: 0.3635364890098572\n"
     ]
    },
    {
     "name": "stderr",
     "output_type": "stream",
     "text": [
      " 68%|██████▊   | 243/360 [54:55<12:31,  6.42s/it]"
     ]
    },
    {
     "name": "stdout",
     "output_type": "stream",
     "text": [
      "2021-05-06 16:17:54,785 - modnet - INFO - Preset #43 fitting finished, loss: 0.3349126994609833\n"
     ]
    },
    {
     "name": "stderr",
     "output_type": "stream",
     "text": [
      " 68%|██████▊   | 244/360 [55:00<11:24,  5.90s/it]"
     ]
    },
    {
     "name": "stdout",
     "output_type": "stream",
     "text": [
      "2021-05-06 16:17:57,257 - modnet - INFO - Preset #39 fitting finished, loss: 0.3484523117542267\n"
     ]
    },
    {
     "name": "stderr",
     "output_type": "stream",
     "text": [
      " 68%|██████▊   | 245/360 [55:02<09:17,  4.85s/it]"
     ]
    },
    {
     "name": "stdout",
     "output_type": "stream",
     "text": [
      "2021-05-06 16:18:13,798 - modnet - INFO - Preset #52 fitting finished, loss: 0.3441470801830292\n"
     ]
    },
    {
     "name": "stderr",
     "output_type": "stream",
     "text": [
      " 68%|██████▊   | 246/360 [55:19<15:52,  8.36s/it]"
     ]
    },
    {
     "name": "stdout",
     "output_type": "stream",
     "text": [
      "2021-05-06 16:18:26,801 - modnet - INFO - Preset #43 fitting finished, loss: 0.34763526916503906\n"
     ]
    },
    {
     "name": "stderr",
     "output_type": "stream",
     "text": [
      " 69%|██████▊   | 247/360 [55:32<18:29,  9.82s/it]"
     ]
    },
    {
     "name": "stdout",
     "output_type": "stream",
     "text": [
      "2021-05-06 16:18:46,433 - modnet - INFO - Preset #53 fitting finished, loss: 0.35585619807243346\n"
     ]
    },
    {
     "name": "stderr",
     "output_type": "stream",
     "text": [
      " 69%|██████▉   | 248/360 [55:52<23:49, 12.77s/it]"
     ]
    },
    {
     "name": "stdout",
     "output_type": "stream",
     "text": [
      "2021-05-06 16:18:53,949 - modnet - INFO - Preset #53 fitting finished, loss: 0.3918378591537476\n"
     ]
    },
    {
     "name": "stderr",
     "output_type": "stream",
     "text": [
      " 69%|██████▉   | 249/360 [55:59<20:38, 11.15s/it]"
     ]
    },
    {
     "name": "stdout",
     "output_type": "stream",
     "text": [
      "2021-05-06 16:18:55,696 - modnet - INFO - Preset #50 fitting finished, loss: 0.3530682444572449\n"
     ]
    },
    {
     "name": "stderr",
     "output_type": "stream",
     "text": [
      " 69%|██████▉   | 250/360 [56:01<15:15,  8.32s/it]"
     ]
    },
    {
     "name": "stdout",
     "output_type": "stream",
     "text": [
      "2021-05-06 16:19:23,503 - modnet - INFO - Preset #53 fitting finished, loss: 0.3326576292514801\n"
     ]
    },
    {
     "name": "stderr",
     "output_type": "stream",
     "text": [
      " 70%|██████▉   | 251/360 [56:29<25:45, 14.18s/it]"
     ]
    },
    {
     "name": "stdout",
     "output_type": "stream",
     "text": [
      "2021-05-06 16:19:24,276 - modnet - INFO - Preset #52 fitting finished, loss: 0.3114257276058197\n"
     ]
    },
    {
     "name": "stderr",
     "output_type": "stream",
     "text": [
      " 70%|███████   | 252/360 [56:29<18:19, 10.18s/it]"
     ]
    },
    {
     "name": "stdout",
     "output_type": "stream",
     "text": [
      "2021-05-06 16:19:26,607 - modnet - INFO - Preset #38 fitting finished, loss: 0.3066799759864807\n"
     ]
    },
    {
     "name": "stderr",
     "output_type": "stream",
     "text": [
      " 70%|███████   | 253/360 [56:32<13:58,  7.84s/it]"
     ]
    },
    {
     "name": "stdout",
     "output_type": "stream",
     "text": [
      "2021-05-06 16:19:30,832 - modnet - INFO - Preset #51 fitting finished, loss: 0.32635465264320374\n"
     ]
    },
    {
     "name": "stderr",
     "output_type": "stream",
     "text": [
      " 71%|███████   | 254/360 [56:36<11:58,  6.78s/it]"
     ]
    },
    {
     "name": "stdout",
     "output_type": "stream",
     "text": [
      "2021-05-06 16:19:33,721 - modnet - INFO - Preset #47 fitting finished, loss: 0.3106775045394897\n"
     ]
    },
    {
     "name": "stderr",
     "output_type": "stream",
     "text": [
      " 71%|███████   | 255/360 [56:39<09:41,  5.54s/it]"
     ]
    },
    {
     "name": "stdout",
     "output_type": "stream",
     "text": [
      "2021-05-06 16:20:38,080 - modnet - INFO - Preset #49 fitting finished, loss: 0.3525721192359924\n"
     ]
    },
    {
     "name": "stderr",
     "output_type": "stream",
     "text": [
      " 71%|███████   | 256/360 [57:43<40:12, 23.20s/it]"
     ]
    },
    {
     "name": "stdout",
     "output_type": "stream",
     "text": [
      "2021-05-06 16:20:38,828 - modnet - INFO - Preset #52 fitting finished, loss: 0.3670917272567749\n"
     ]
    },
    {
     "name": "stderr",
     "output_type": "stream",
     "text": [
      " 71%|███████▏  | 257/360 [57:44<28:14, 16.45s/it]"
     ]
    },
    {
     "name": "stdout",
     "output_type": "stream",
     "text": [
      "2021-05-06 16:20:41,377 - modnet - INFO - Preset #53 fitting finished, loss: 0.35589858889579773\n"
     ]
    },
    {
     "name": "stderr",
     "output_type": "stream",
     "text": [
      " 72%|███████▏  | 258/360 [57:46<20:52, 12.28s/it]"
     ]
    },
    {
     "name": "stdout",
     "output_type": "stream",
     "text": [
      "2021-05-06 16:20:49,499 - modnet - INFO - Preset #52 fitting finished, loss: 0.3671905040740967\n"
     ]
    },
    {
     "name": "stderr",
     "output_type": "stream",
     "text": [
      " 72%|███████▏  | 259/360 [57:55<18:34, 11.04s/it]"
     ]
    },
    {
     "name": "stdout",
     "output_type": "stream",
     "text": [
      "2021-05-06 16:21:26,967 - modnet - INFO - Preset #48 fitting finished, loss: 0.3851356267929077\n"
     ]
    },
    {
     "name": "stderr",
     "output_type": "stream",
     "text": [
      " 72%|███████▏  | 260/360 [58:32<31:35, 18.95s/it]"
     ]
    },
    {
     "name": "stdout",
     "output_type": "stream",
     "text": [
      "2021-05-06 16:21:58,860 - modnet - INFO - Preset #51 fitting finished, loss: 0.3676882565021515\n"
     ]
    },
    {
     "name": "stderr",
     "output_type": "stream",
     "text": [
      " 72%|███████▎  | 261/360 [59:04<37:46, 22.90s/it]"
     ]
    },
    {
     "name": "stdout",
     "output_type": "stream",
     "text": [
      "2021-05-06 16:21:59,805 - modnet - INFO - Preset #50 fitting finished, loss: 0.32541259527206423\n"
     ]
    },
    {
     "name": "stderr",
     "output_type": "stream",
     "text": [
      " 73%|███████▎  | 262/360 [59:05<26:37, 16.31s/it]"
     ]
    },
    {
     "name": "stdout",
     "output_type": "stream",
     "text": [
      "2021-05-06 16:22:00,688 - modnet - INFO - Preset #51 fitting finished, loss: 0.3643005430698395\n"
     ]
    },
    {
     "name": "stderr",
     "output_type": "stream",
     "text": [
      " 73%|███████▎  | 263/360 [59:06<18:54, 11.70s/it]"
     ]
    },
    {
     "name": "stdout",
     "output_type": "stream",
     "text": [
      "2021-05-06 16:22:42,905 - modnet - INFO - Preset #48 fitting finished, loss: 0.37177173495292665\n"
     ]
    },
    {
     "name": "stderr",
     "output_type": "stream",
     "text": [
      " 73%|███████▎  | 264/360 [59:48<33:23, 20.87s/it]"
     ]
    },
    {
     "name": "stdout",
     "output_type": "stream",
     "text": [
      "2021-05-06 16:22:48,481 - modnet - INFO - Preset #52 fitting finished, loss: 0.32551265954971315\n"
     ]
    },
    {
     "name": "stderr",
     "output_type": "stream",
     "text": [
      " 74%|███████▎  | 265/360 [59:54<25:42, 16.24s/it]"
     ]
    },
    {
     "name": "stdout",
     "output_type": "stream",
     "text": [
      "2021-05-06 16:23:04,169 - modnet - INFO - Preset #48 fitting finished, loss: 0.3496039867401123\n"
     ]
    },
    {
     "name": "stderr",
     "output_type": "stream",
     "text": [
      " 74%|███████▍  | 266/360 [1:00:09<25:12, 16.09s/it]"
     ]
    },
    {
     "name": "stdout",
     "output_type": "stream",
     "text": [
      "2021-05-06 16:23:47,408 - modnet - INFO - Preset #56 fitting finished, loss: 0.4513248801231384\n"
     ]
    },
    {
     "name": "stderr",
     "output_type": "stream",
     "text": [
      " 74%|███████▍  | 267/360 [1:00:53<37:38, 24.28s/it]"
     ]
    },
    {
     "name": "stdout",
     "output_type": "stream",
     "text": [
      "2021-05-06 16:24:06,933 - modnet - INFO - Preset #49 fitting finished, loss: 0.34403617978096007\n"
     ]
    },
    {
     "name": "stderr",
     "output_type": "stream",
     "text": [
      " 74%|███████▍  | 268/360 [1:01:12<34:54, 22.77s/it]"
     ]
    },
    {
     "name": "stdout",
     "output_type": "stream",
     "text": [
      "2021-05-06 16:24:27,091 - modnet - INFO - Preset #53 fitting finished, loss: 0.31324748396873475\n"
     ]
    },
    {
     "name": "stderr",
     "output_type": "stream",
     "text": [
      " 75%|███████▍  | 269/360 [1:01:32<33:18, 21.96s/it]"
     ]
    },
    {
     "name": "stdout",
     "output_type": "stream",
     "text": [
      "2021-05-06 16:25:35,118 - modnet - INFO - Preset #58 fitting finished, loss: 0.45381090641021726\n"
     ]
    },
    {
     "name": "stderr",
     "output_type": "stream",
     "text": [
      " 75%|███████▌  | 270/360 [1:02:40<53:47, 35.86s/it]"
     ]
    },
    {
     "name": "stdout",
     "output_type": "stream",
     "text": [
      "2021-05-06 16:25:46,541 - modnet - INFO - Preset #51 fitting finished, loss: 0.3130320370197296\n"
     ]
    },
    {
     "name": "stderr",
     "output_type": "stream",
     "text": [
      " 75%|███████▌  | 271/360 [1:02:52<42:16, 28.50s/it]"
     ]
    },
    {
     "name": "stdout",
     "output_type": "stream",
     "text": [
      "2021-05-06 16:26:11,108 - modnet - INFO - Preset #64 fitting finished, loss: 0.4532206118106842\n"
     ]
    },
    {
     "name": "stderr",
     "output_type": "stream",
     "text": [
      " 76%|███████▌  | 272/360 [1:03:16<40:06, 27.35s/it]"
     ]
    },
    {
     "name": "stdout",
     "output_type": "stream",
     "text": [
      "2021-05-06 16:26:12,075 - modnet - INFO - Preset #59 fitting finished, loss: 0.45019100308418275\n"
     ]
    },
    {
     "name": "stderr",
     "output_type": "stream",
     "text": [
      " 76%|███████▌  | 273/360 [1:03:17<28:09, 19.41s/it]"
     ]
    },
    {
     "name": "stdout",
     "output_type": "stream",
     "text": [
      "2021-05-06 16:26:56,449 - modnet - INFO - Preset #59 fitting finished, loss: 0.46866547465324404\n"
     ]
    },
    {
     "name": "stderr",
     "output_type": "stream",
     "text": [
      " 76%|███████▌  | 274/360 [1:04:02<38:38, 26.96s/it]"
     ]
    },
    {
     "name": "stdout",
     "output_type": "stream",
     "text": [
      "2021-05-06 16:27:00,903 - modnet - INFO - Preset #49 fitting finished, loss: 0.3324089050292969\n"
     ]
    },
    {
     "name": "stderr",
     "output_type": "stream",
     "text": [
      " 76%|███████▋  | 275/360 [1:04:06<28:24, 20.05s/it]"
     ]
    },
    {
     "name": "stdout",
     "output_type": "stream",
     "text": [
      "2021-05-06 16:27:31,839 - modnet - INFO - Preset #64 fitting finished, loss: 0.47225961089134216\n"
     ]
    },
    {
     "name": "stderr",
     "output_type": "stream",
     "text": [
      " 77%|███████▋  | 276/360 [1:04:37<32:46, 23.41s/it]"
     ]
    },
    {
     "name": "stdout",
     "output_type": "stream",
     "text": [
      "2021-05-06 16:28:44,886 - modnet - INFO - Preset #63 fitting finished, loss: 0.45882986187934877\n"
     ]
    },
    {
     "name": "stderr",
     "output_type": "stream",
     "text": [
      " 77%|███████▋  | 277/360 [1:05:50<52:59, 38.31s/it]"
     ]
    },
    {
     "name": "stdout",
     "output_type": "stream",
     "text": [
      "2021-05-06 16:29:02,241 - modnet - INFO - Preset #59 fitting finished, loss: 0.46019560694694517\n"
     ]
    },
    {
     "name": "stderr",
     "output_type": "stream",
     "text": [
      " 77%|███████▋  | 278/360 [1:06:07<43:45, 32.02s/it]"
     ]
    },
    {
     "name": "stdout",
     "output_type": "stream",
     "text": [
      "2021-05-06 16:29:08,464 - modnet - INFO - Preset #58 fitting finished, loss: 0.5011811971664428\n"
     ]
    },
    {
     "name": "stderr",
     "output_type": "stream",
     "text": [
      " 78%|███████▊  | 279/360 [1:06:14<32:49, 24.31s/it]"
     ]
    },
    {
     "name": "stdout",
     "output_type": "stream",
     "text": [
      "2021-05-06 16:29:09,874 - modnet - INFO - Preset #64 fitting finished, loss: 0.4596340715885162\n"
     ]
    },
    {
     "name": "stderr",
     "output_type": "stream",
     "text": [
      " 78%|███████▊  | 280/360 [1:06:15<23:15, 17.44s/it]"
     ]
    },
    {
     "name": "stdout",
     "output_type": "stream",
     "text": [
      "2021-05-06 16:29:17,735 - modnet - INFO - Preset #64 fitting finished, loss: 0.5093692660331726\n"
     ]
    },
    {
     "name": "stderr",
     "output_type": "stream",
     "text": [
      " 78%|███████▊  | 281/360 [1:06:23<19:09, 14.55s/it]"
     ]
    },
    {
     "name": "stdout",
     "output_type": "stream",
     "text": [
      "2021-05-06 16:30:06,728 - modnet - INFO - Preset #63 fitting finished, loss: 0.43156914710998534\n"
     ]
    },
    {
     "name": "stderr",
     "output_type": "stream",
     "text": [
      " 78%|███████▊  | 282/360 [1:07:12<32:20, 24.88s/it]"
     ]
    },
    {
     "name": "stdout",
     "output_type": "stream",
     "text": [
      "2021-05-06 16:30:07,820 - modnet - INFO - Preset #57 fitting finished, loss: 0.4440435469150543\n"
     ]
    },
    {
     "name": "stderr",
     "output_type": "stream",
     "text": [
      " 79%|███████▊  | 283/360 [1:07:13<22:50, 17.79s/it]"
     ]
    },
    {
     "name": "stdout",
     "output_type": "stream",
     "text": [
      "2021-05-06 16:30:25,917 - modnet - INFO - Preset #62 fitting finished, loss: 0.40126230716705324\n"
     ]
    },
    {
     "name": "stderr",
     "output_type": "stream",
     "text": [
      " 79%|███████▉  | 284/360 [1:07:31<22:40, 17.90s/it]"
     ]
    },
    {
     "name": "stdout",
     "output_type": "stream",
     "text": [
      "2021-05-06 16:30:27,051 - modnet - INFO - Preset #65 fitting finished, loss: 0.4535125970840454\n"
     ]
    },
    {
     "name": "stderr",
     "output_type": "stream",
     "text": [
      " 79%|███████▉  | 285/360 [1:07:32<15:58, 12.78s/it]"
     ]
    },
    {
     "name": "stdout",
     "output_type": "stream",
     "text": [
      "2021-05-06 16:30:57,753 - modnet - INFO - Preset #59 fitting finished, loss: 0.44342007040977477\n"
     ]
    },
    {
     "name": "stderr",
     "output_type": "stream",
     "text": [
      " 79%|███████▉  | 286/360 [1:08:03<22:23, 18.16s/it]"
     ]
    },
    {
     "name": "stdout",
     "output_type": "stream",
     "text": [
      "2021-05-06 16:31:00,837 - modnet - INFO - Preset #65 fitting finished, loss: 0.4725222110748291\n"
     ]
    },
    {
     "name": "stderr",
     "output_type": "stream",
     "text": [
      " 80%|███████▉  | 287/360 [1:08:06<16:36, 13.66s/it]"
     ]
    },
    {
     "name": "stdout",
     "output_type": "stream",
     "text": [
      "2021-05-06 16:31:05,514 - modnet - INFO - Preset #65 fitting finished, loss: 0.4454189479351044\n"
     ]
    },
    {
     "name": "stderr",
     "output_type": "stream",
     "text": [
      " 80%|████████  | 288/360 [1:08:11<13:07, 10.94s/it]"
     ]
    },
    {
     "name": "stdout",
     "output_type": "stream",
     "text": [
      "2021-05-06 16:31:06,339 - modnet - INFO - Preset #56 fitting finished, loss: 0.502524733543396\n"
     ]
    },
    {
     "name": "stderr",
     "output_type": "stream",
     "text": [
      " 80%|████████  | 289/360 [1:08:12<09:26,  7.98s/it]"
     ]
    },
    {
     "name": "stdout",
     "output_type": "stream",
     "text": [
      "2021-05-06 16:31:07,428 - modnet - INFO - Preset #57 fitting finished, loss: 0.478700989484787\n"
     ]
    },
    {
     "name": "stderr",
     "output_type": "stream",
     "text": [
      " 81%|████████  | 290/360 [1:08:13<06:50,  5.86s/it]"
     ]
    },
    {
     "name": "stdout",
     "output_type": "stream",
     "text": [
      "2021-05-06 16:31:10,607 - modnet - INFO - Preset #58 fitting finished, loss: 0.4499784231185913\n"
     ]
    },
    {
     "name": "stderr",
     "output_type": "stream",
     "text": [
      " 81%|████████  | 291/360 [1:08:16<05:49,  5.07s/it]"
     ]
    },
    {
     "name": "stdout",
     "output_type": "stream",
     "text": [
      "2021-05-06 16:31:21,085 - modnet - INFO - Preset #58 fitting finished, loss: 0.46166363954544065\n"
     ]
    },
    {
     "name": "stderr",
     "output_type": "stream",
     "text": [
      " 81%|████████  | 292/360 [1:08:26<07:33,  6.66s/it]"
     ]
    },
    {
     "name": "stdout",
     "output_type": "stream",
     "text": [
      "2021-05-06 16:32:08,095 - modnet - INFO - Preset #65 fitting finished, loss: 0.5036965847015381\n"
     ]
    },
    {
     "name": "stderr",
     "output_type": "stream",
     "text": [
      " 81%|████████▏ | 293/360 [1:09:13<20:59, 18.80s/it]"
     ]
    },
    {
     "name": "stdout",
     "output_type": "stream",
     "text": [
      "2021-05-06 16:32:22,341 - modnet - INFO - Preset #65 fitting finished, loss: 0.4440877914428711\n"
     ]
    },
    {
     "name": "stderr",
     "output_type": "stream",
     "text": [
      " 82%|████████▏ | 294/360 [1:09:27<19:06, 17.36s/it]"
     ]
    },
    {
     "name": "stdout",
     "output_type": "stream",
     "text": [
      "2021-05-06 16:32:26,448 - modnet - INFO - Preset #57 fitting finished, loss: 0.462827467918396\n"
     ]
    },
    {
     "name": "stderr",
     "output_type": "stream",
     "text": [
      " 82%|████████▏ | 295/360 [1:09:32<14:39, 13.53s/it]"
     ]
    },
    {
     "name": "stdout",
     "output_type": "stream",
     "text": [
      "2021-05-06 16:32:27,653 - modnet - INFO - Preset #64 fitting finished, loss: 0.423622864484787\n"
     ]
    },
    {
     "name": "stderr",
     "output_type": "stream",
     "text": [
      " 82%|████████▏ | 296/360 [1:09:33<10:24,  9.76s/it]"
     ]
    },
    {
     "name": "stdout",
     "output_type": "stream",
     "text": [
      "2021-05-06 16:33:25,562 - modnet - INFO - Preset #59 fitting finished, loss: 0.5028656601905823\n"
     ]
    },
    {
     "name": "stderr",
     "output_type": "stream",
     "text": [
      " 82%|████████▎ | 297/360 [1:10:31<25:23, 24.18s/it]"
     ]
    },
    {
     "name": "stdout",
     "output_type": "stream",
     "text": [
      "2021-05-06 16:33:32,863 - modnet - INFO - Preset #58 fitting finished, loss: 0.44400333762168886\n"
     ]
    },
    {
     "name": "stderr",
     "output_type": "stream",
     "text": [
      " 83%|████████▎ | 298/360 [1:10:38<19:42, 19.08s/it]"
     ]
    },
    {
     "name": "stdout",
     "output_type": "stream",
     "text": [
      "2021-05-06 16:34:36,930 - modnet - INFO - Preset #57 fitting finished, loss: 0.42294268012046815\n"
     ]
    },
    {
     "name": "stderr",
     "output_type": "stream",
     "text": [
      " 83%|████████▎ | 299/360 [1:11:42<33:06, 32.57s/it]"
     ]
    },
    {
     "name": "stdout",
     "output_type": "stream",
     "text": [
      "2021-05-06 16:34:45,749 - modnet - INFO - Preset #62 fitting finished, loss: 0.3501091837882996\n"
     ]
    },
    {
     "name": "stderr",
     "output_type": "stream",
     "text": [
      " 83%|████████▎ | 300/360 [1:11:51<25:23, 25.39s/it]"
     ]
    },
    {
     "name": "stdout",
     "output_type": "stream",
     "text": [
      "2021-05-06 16:34:52,321 - modnet - INFO - Preset #62 fitting finished, loss: 0.44889795780181885\n"
     ]
    },
    {
     "name": "stderr",
     "output_type": "stream",
     "text": [
      " 84%|████████▎ | 301/360 [1:11:57<19:23, 19.72s/it]"
     ]
    },
    {
     "name": "stdout",
     "output_type": "stream",
     "text": [
      "2021-05-06 16:34:53,108 - modnet - INFO - Preset #56 fitting finished, loss: 0.44882848858833313\n"
     ]
    },
    {
     "name": "stderr",
     "output_type": "stream",
     "text": [
      " 84%|████████▍ | 302/360 [1:11:58<13:38, 14.11s/it]"
     ]
    },
    {
     "name": "stdout",
     "output_type": "stream",
     "text": [
      "2021-05-06 16:35:06,004 - modnet - INFO - Preset #63 fitting finished, loss: 0.368935626745224\n"
     ]
    },
    {
     "name": "stderr",
     "output_type": "stream",
     "text": [
      " 84%|████████▍ | 303/360 [1:12:11<13:06, 13.81s/it]"
     ]
    },
    {
     "name": "stdout",
     "output_type": "stream",
     "text": [
      "2021-05-06 16:35:06,903 - modnet - INFO - Preset #62 fitting finished, loss: 0.39197987914085386\n"
     ]
    },
    {
     "name": "stderr",
     "output_type": "stream",
     "text": [
      " 84%|████████▍ | 304/360 [1:12:12<09:11,  9.86s/it]"
     ]
    },
    {
     "name": "stdout",
     "output_type": "stream",
     "text": [
      "2021-05-06 16:35:59,880 - modnet - INFO - Preset #56 fitting finished, loss: 0.42664691209793093\n"
     ]
    },
    {
     "name": "stderr",
     "output_type": "stream",
     "text": [
      " 85%|████████▍ | 305/360 [1:13:05<20:52, 22.77s/it]"
     ]
    },
    {
     "name": "stdout",
     "output_type": "stream",
     "text": [
      "2021-05-06 16:36:16,035 - modnet - INFO - Preset #62 fitting finished, loss: 0.39245784282684326\n"
     ]
    },
    {
     "name": "stderr",
     "output_type": "stream",
     "text": [
      " 85%|████████▌ | 306/360 [1:13:21<18:45, 20.85s/it]"
     ]
    },
    {
     "name": "stdout",
     "output_type": "stream",
     "text": [
      "2021-05-06 16:37:35,046 - modnet - INFO - Preset #66 fitting finished, loss: 0.3767155945301056\n"
     ]
    },
    {
     "name": "stderr",
     "output_type": "stream",
     "text": [
      " 85%|████████▌ | 307/360 [1:14:40<33:47, 38.25s/it]"
     ]
    },
    {
     "name": "stdout",
     "output_type": "stream",
     "text": [
      "2021-05-06 16:38:11,075 - modnet - INFO - Preset #63 fitting finished, loss: 0.3877921402454376\n"
     ]
    },
    {
     "name": "stderr",
     "output_type": "stream",
     "text": [
      " 86%|████████▌ | 308/360 [1:15:16<32:36, 37.62s/it]"
     ]
    },
    {
     "name": "stdout",
     "output_type": "stream",
     "text": [
      "2021-05-06 16:38:25,861 - modnet - INFO - Preset #57 fitting finished, loss: 0.4460317373275757\n"
     ]
    },
    {
     "name": "stderr",
     "output_type": "stream",
     "text": [
      " 86%|████████▌ | 309/360 [1:15:31<26:11, 30.81s/it]"
     ]
    },
    {
     "name": "stdout",
     "output_type": "stream",
     "text": [
      "2021-05-06 16:38:49,423 - modnet - INFO - Preset #71 fitting finished, loss: 0.4501078903675079\n"
     ]
    },
    {
     "name": "stderr",
     "output_type": "stream",
     "text": [
      " 86%|████████▌ | 310/360 [1:15:54<23:47, 28.56s/it]"
     ]
    },
    {
     "name": "stdout",
     "output_type": "stream",
     "text": [
      "2021-05-06 16:39:05,261 - modnet - INFO - Preset #71 fitting finished, loss: 0.4808048248291016\n"
     ]
    },
    {
     "name": "stderr",
     "output_type": "stream",
     "text": [
      " 86%|████████▋ | 311/360 [1:16:10<20:12, 24.75s/it]"
     ]
    },
    {
     "name": "stdout",
     "output_type": "stream",
     "text": [
      "2021-05-06 16:39:40,803 - modnet - INFO - Preset #67 fitting finished, loss: 0.36599951386451723\n"
     ]
    },
    {
     "name": "stderr",
     "output_type": "stream",
     "text": [
      " 87%|████████▋ | 312/360 [1:16:46<22:24, 28.02s/it]"
     ]
    },
    {
     "name": "stdout",
     "output_type": "stream",
     "text": [
      "2021-05-06 16:39:42,748 - modnet - INFO - Preset #70 fitting finished, loss: 0.4658683180809021\n"
     ]
    },
    {
     "name": "stderr",
     "output_type": "stream",
     "text": [
      " 87%|████████▋ | 313/360 [1:16:48<15:46, 20.15s/it]"
     ]
    },
    {
     "name": "stdout",
     "output_type": "stream",
     "text": [
      "2021-05-06 16:39:44,661 - modnet - INFO - Preset #66 fitting finished, loss: 0.32419381737709047\n"
     ]
    },
    {
     "name": "stderr",
     "output_type": "stream",
     "text": [
      " 87%|████████▋ | 314/360 [1:16:50<11:17, 14.72s/it]"
     ]
    },
    {
     "name": "stdout",
     "output_type": "stream",
     "text": [
      "2021-05-06 16:40:00,879 - modnet - INFO - Preset #70 fitting finished, loss: 0.4286610186100006\n"
     ]
    },
    {
     "name": "stderr",
     "output_type": "stream",
     "text": [
      " 88%|████████▊ | 315/360 [1:17:06<11:22, 15.17s/it]"
     ]
    },
    {
     "name": "stdout",
     "output_type": "stream",
     "text": [
      "2021-05-06 16:40:04,674 - modnet - INFO - Preset #54 fitting finished, loss: 0.38632717728614807\n"
     ]
    },
    {
     "name": "stderr",
     "output_type": "stream",
     "text": [
      " 88%|████████▊ | 316/360 [1:17:10<08:37, 11.75s/it]"
     ]
    },
    {
     "name": "stdout",
     "output_type": "stream",
     "text": [
      "2021-05-06 16:40:11,074 - modnet - INFO - Preset #61 fitting finished, loss: 0.37760228514671323\n"
     ]
    },
    {
     "name": "stderr",
     "output_type": "stream",
     "text": [
      " 88%|████████▊ | 317/360 [1:17:16<07:14, 10.11s/it]"
     ]
    },
    {
     "name": "stdout",
     "output_type": "stream",
     "text": [
      "2021-05-06 16:40:16,203 - modnet - INFO - Preset #71 fitting finished, loss: 0.35819807052612307\n"
     ]
    },
    {
     "name": "stderr",
     "output_type": "stream",
     "text": [
      " 88%|████████▊ | 318/360 [1:17:21<06:02,  8.62s/it]"
     ]
    },
    {
     "name": "stdout",
     "output_type": "stream",
     "text": [
      "2021-05-06 16:40:18,449 - modnet - INFO - Preset #60 fitting finished, loss: 0.37111005187034607\n"
     ]
    },
    {
     "name": "stderr",
     "output_type": "stream",
     "text": [
      " 89%|████████▊ | 319/360 [1:17:23<04:34,  6.71s/it]"
     ]
    },
    {
     "name": "stdout",
     "output_type": "stream",
     "text": [
      "2021-05-06 16:40:30,254 - modnet - INFO - Preset #69 fitting finished, loss: 0.35797213315963744\n"
     ]
    },
    {
     "name": "stderr",
     "output_type": "stream",
     "text": [
      " 89%|████████▉ | 320/360 [1:17:35<05:30,  8.27s/it]"
     ]
    },
    {
     "name": "stdout",
     "output_type": "stream",
     "text": [
      "2021-05-06 16:40:35,003 - modnet - INFO - Preset #66 fitting finished, loss: 0.3379942953586578\n"
     ]
    },
    {
     "name": "stderr",
     "output_type": "stream",
     "text": [
      " 89%|████████▉ | 321/360 [1:17:40<04:43,  7.26s/it]"
     ]
    },
    {
     "name": "stdout",
     "output_type": "stream",
     "text": [
      "2021-05-06 16:40:37,812 - modnet - INFO - Preset #71 fitting finished, loss: 0.40669357776641846\n"
     ]
    },
    {
     "name": "stderr",
     "output_type": "stream",
     "text": [
      " 89%|████████▉ | 322/360 [1:17:44<03:52,  6.12s/it]"
     ]
    },
    {
     "name": "stdout",
     "output_type": "stream",
     "text": [
      "2021-05-06 16:40:45,711 - modnet - INFO - Preset #68 fitting finished, loss: 0.33600587844848634\n"
     ]
    },
    {
     "name": "stderr",
     "output_type": "stream",
     "text": [
      " 90%|████████▉ | 323/360 [1:17:51<04:04,  6.61s/it]"
     ]
    },
    {
     "name": "stdout",
     "output_type": "stream",
     "text": [
      "2021-05-06 16:40:47,084 - modnet - INFO - Preset #67 fitting finished, loss: 0.3680746018886566\n"
     ]
    },
    {
     "name": "stderr",
     "output_type": "stream",
     "text": [
      " 90%|█████████ | 324/360 [1:17:53<03:00,  5.01s/it]"
     ]
    },
    {
     "name": "stdout",
     "output_type": "stream",
     "text": [
      "2021-05-06 16:41:00,241 - modnet - INFO - Preset #70 fitting finished, loss: 0.37033501267433167\n"
     ]
    },
    {
     "name": "stderr",
     "output_type": "stream",
     "text": [
      " 90%|█████████ | 325/360 [1:18:06<04:19,  7.41s/it]"
     ]
    },
    {
     "name": "stdout",
     "output_type": "stream",
     "text": [
      "2021-05-06 16:41:14,488 - modnet - INFO - Preset #70 fitting finished, loss: 0.388302081823349\n"
     ]
    },
    {
     "name": "stderr",
     "output_type": "stream",
     "text": [
      " 91%|█████████ | 326/360 [1:18:20<05:17,  9.34s/it]"
     ]
    },
    {
     "name": "stdout",
     "output_type": "stream",
     "text": [
      "2021-05-06 16:41:42,019 - modnet - INFO - Preset #63 fitting finished, loss: 0.3749456226825714\n"
     ]
    },
    {
     "name": "stderr",
     "output_type": "stream",
     "text": [
      " 91%|█████████ | 327/360 [1:18:47<08:11, 14.91s/it]"
     ]
    },
    {
     "name": "stdout",
     "output_type": "stream",
     "text": [
      "2021-05-06 16:41:52,893 - modnet - INFO - Preset #69 fitting finished, loss: 0.32152763605117796\n"
     ]
    },
    {
     "name": "stderr",
     "output_type": "stream",
     "text": [
      " 91%|█████████ | 328/360 [1:18:59<07:21, 13.80s/it]"
     ]
    },
    {
     "name": "stdout",
     "output_type": "stream",
     "text": [
      "2021-05-06 16:42:13,806 - modnet - INFO - Preset #68 fitting finished, loss: 0.39375718832015993\n"
     ]
    },
    {
     "name": "stderr",
     "output_type": "stream",
     "text": [
      " 91%|█████████▏| 329/360 [1:19:19<08:10, 15.83s/it]"
     ]
    },
    {
     "name": "stdout",
     "output_type": "stream",
     "text": [
      "2021-05-06 16:42:16,034 - modnet - INFO - Preset #54 fitting finished, loss: 0.3801527261734009\n"
     ]
    },
    {
     "name": "stderr",
     "output_type": "stream",
     "text": [
      " 92%|█████████▏| 330/360 [1:19:21<05:47, 11.57s/it]"
     ]
    },
    {
     "name": "stdout",
     "output_type": "stream",
     "text": [
      "2021-05-06 16:42:25,239 - modnet - INFO - Preset #60 fitting finished, loss: 0.3433737576007843\n"
     ]
    },
    {
     "name": "stderr",
     "output_type": "stream",
     "text": [
      " 92%|█████████▏| 331/360 [1:19:30<05:16, 10.91s/it]"
     ]
    },
    {
     "name": "stdout",
     "output_type": "stream",
     "text": [
      "2021-05-06 16:42:28,508 - modnet - INFO - Preset #56 fitting finished, loss: 0.42309979200363157\n"
     ]
    },
    {
     "name": "stderr",
     "output_type": "stream",
     "text": [
      " 92%|█████████▏| 332/360 [1:19:33<04:00,  8.58s/it]"
     ]
    },
    {
     "name": "stdout",
     "output_type": "stream",
     "text": [
      "2021-05-06 16:43:01,305 - modnet - INFO - Preset #71 fitting finished, loss: 0.3906620740890503\n"
     ]
    },
    {
     "name": "stderr",
     "output_type": "stream",
     "text": [
      " 92%|█████████▎| 333/360 [1:20:06<07:06, 15.81s/it]"
     ]
    },
    {
     "name": "stdout",
     "output_type": "stream",
     "text": [
      "2021-05-06 16:43:06,980 - modnet - INFO - Preset #70 fitting finished, loss: 0.3876180827617645\n"
     ]
    },
    {
     "name": "stderr",
     "output_type": "stream",
     "text": [
      " 93%|█████████▎| 334/360 [1:20:12<05:31, 12.74s/it]"
     ]
    },
    {
     "name": "stdout",
     "output_type": "stream",
     "text": [
      "2021-05-06 16:43:20,608 - modnet - INFO - Preset #60 fitting finished, loss: 0.3389534831047058\n"
     ]
    },
    {
     "name": "stderr",
     "output_type": "stream",
     "text": [
      " 93%|█████████▎| 335/360 [1:20:25<05:26, 13.07s/it]"
     ]
    },
    {
     "name": "stdout",
     "output_type": "stream",
     "text": [
      "2021-05-06 16:43:24,323 - modnet - INFO - Preset #69 fitting finished, loss: 0.34049858450889586\n"
     ]
    },
    {
     "name": "stderr",
     "output_type": "stream",
     "text": [
      " 93%|█████████▎| 336/360 [1:20:29<04:06, 10.28s/it]"
     ]
    },
    {
     "name": "stdout",
     "output_type": "stream",
     "text": [
      "2021-05-06 16:43:28,381 - modnet - INFO - Preset #60 fitting finished, loss: 0.37051140069961547\n"
     ]
    },
    {
     "name": "stderr",
     "output_type": "stream",
     "text": [
      " 94%|█████████▎| 337/360 [1:20:33<03:14,  8.44s/it]"
     ]
    },
    {
     "name": "stdout",
     "output_type": "stream",
     "text": [
      "2021-05-06 16:43:37,262 - modnet - INFO - Preset #68 fitting finished, loss: 0.3454061269760132\n"
     ]
    },
    {
     "name": "stderr",
     "output_type": "stream",
     "text": [
      " 94%|█████████▍| 338/360 [1:20:42<03:06,  8.47s/it]"
     ]
    },
    {
     "name": "stdout",
     "output_type": "stream",
     "text": [
      "2021-05-06 16:43:39,232 - modnet - INFO - Preset #66 fitting finished, loss: 0.3029967725276947\n"
     ]
    },
    {
     "name": "stderr",
     "output_type": "stream",
     "text": [
      " 94%|█████████▍| 339/360 [1:20:44<02:18,  6.60s/it]"
     ]
    },
    {
     "name": "stdout",
     "output_type": "stream",
     "text": [
      "2021-05-06 16:43:52,840 - modnet - INFO - Preset #67 fitting finished, loss: 0.32111448645591734\n"
     ]
    },
    {
     "name": "stderr",
     "output_type": "stream",
     "text": [
      " 94%|█████████▍| 340/360 [1:20:58<02:53,  8.68s/it]"
     ]
    },
    {
     "name": "stdout",
     "output_type": "stream",
     "text": [
      "2021-05-06 16:43:53,542 - modnet - INFO - Preset #67 fitting finished, loss: 0.34030340909957885\n"
     ]
    },
    {
     "name": "stderr",
     "output_type": "stream",
     "text": [
      " 95%|█████████▍| 341/360 [1:20:58<01:58,  6.26s/it]"
     ]
    },
    {
     "name": "stdout",
     "output_type": "stream",
     "text": [
      "2021-05-06 16:44:02,292 - modnet - INFO - Preset #54 fitting finished, loss: 0.33053151369094846\n"
     ]
    },
    {
     "name": "stderr",
     "output_type": "stream",
     "text": [
      " 95%|█████████▌| 342/360 [1:21:07<02:08,  7.13s/it]"
     ]
    },
    {
     "name": "stdout",
     "output_type": "stream",
     "text": [
      "2021-05-06 16:44:03,138 - modnet - INFO - Preset #61 fitting finished, loss: 0.33626909255981446\n"
     ]
    },
    {
     "name": "stderr",
     "output_type": "stream",
     "text": [
      " 95%|█████████▌| 343/360 [1:21:08<01:26,  5.11s/it]"
     ]
    },
    {
     "name": "stdout",
     "output_type": "stream",
     "text": [
      "2021-05-06 16:44:39,083 - modnet - INFO - Preset #66 fitting finished, loss: 0.3819198668003082\n"
     ]
    },
    {
     "name": "stderr",
     "output_type": "stream",
     "text": [
      " 96%|█████████▌| 344/360 [1:21:44<03:50, 14.38s/it]"
     ]
    },
    {
     "name": "stdout",
     "output_type": "stream",
     "text": [
      "2021-05-06 16:44:40,532 - modnet - INFO - Preset #61 fitting finished, loss: 0.37467464804649353\n"
     ]
    },
    {
     "name": "stderr",
     "output_type": "stream",
     "text": [
      " 96%|█████████▌| 345/360 [1:21:45<02:37, 10.52s/it]"
     ]
    },
    {
     "name": "stdout",
     "output_type": "stream",
     "text": [
      "2021-05-06 16:44:48,916 - modnet - INFO - Preset #54 fitting finished, loss: 0.34115355014801024\n"
     ]
    },
    {
     "name": "stderr",
     "output_type": "stream",
     "text": [
      " 96%|█████████▌| 346/360 [1:21:54<02:18,  9.86s/it]"
     ]
    },
    {
     "name": "stdout",
     "output_type": "stream",
     "text": [
      "2021-05-06 16:44:59,976 - modnet - INFO - Preset #60 fitting finished, loss: 0.3277468740940094\n"
     ]
    },
    {
     "name": "stderr",
     "output_type": "stream",
     "text": [
      " 96%|█████████▋| 347/360 [1:22:05<02:13, 10.28s/it]"
     ]
    },
    {
     "name": "stdout",
     "output_type": "stream",
     "text": [
      "2021-05-06 16:45:13,297 - modnet - INFO - Preset #67 fitting finished, loss: 0.3325764358043671\n"
     ]
    },
    {
     "name": "stderr",
     "output_type": "stream",
     "text": [
      " 97%|█████████▋| 348/360 [1:22:18<02:13, 11.13s/it]"
     ]
    },
    {
     "name": "stdout",
     "output_type": "stream",
     "text": [
      "2021-05-06 16:45:26,818 - modnet - INFO - Preset #68 fitting finished, loss: 0.3625114023685455\n"
     ]
    },
    {
     "name": "stderr",
     "output_type": "stream",
     "text": [
      " 97%|█████████▋| 349/360 [1:22:32<02:10, 11.85s/it]"
     ]
    },
    {
     "name": "stdout",
     "output_type": "stream",
     "text": [
      "2021-05-06 16:45:32,591 - modnet - INFO - Preset #61 fitting finished, loss: 0.32121106386184695\n"
     ]
    },
    {
     "name": "stderr",
     "output_type": "stream",
     "text": [
      " 97%|█████████▋| 350/360 [1:22:37<01:40, 10.03s/it]"
     ]
    },
    {
     "name": "stdout",
     "output_type": "stream",
     "text": [
      "2021-05-06 16:45:40,937 - modnet - INFO - Preset #55 fitting finished, loss: 0.3850440144538879\n"
     ]
    },
    {
     "name": "stderr",
     "output_type": "stream",
     "text": [
      " 98%|█████████▊| 351/360 [1:22:46<01:26,  9.57s/it]"
     ]
    },
    {
     "name": "stdout",
     "output_type": "stream",
     "text": [
      "2021-05-06 16:46:00,355 - modnet - INFO - Preset #61 fitting finished, loss: 0.3445806324481964\n"
     ]
    },
    {
     "name": "stderr",
     "output_type": "stream",
     "text": [
      " 98%|█████████▊| 352/360 [1:23:05<01:39, 12.50s/it]"
     ]
    },
    {
     "name": "stdout",
     "output_type": "stream",
     "text": [
      "2021-05-06 16:46:10,110 - modnet - INFO - Preset #69 fitting finished, loss: 0.3399306178092957\n"
     ]
    },
    {
     "name": "stderr",
     "output_type": "stream",
     "text": [
      " 98%|█████████▊| 353/360 [1:23:15<01:21, 11.71s/it]"
     ]
    },
    {
     "name": "stdout",
     "output_type": "stream",
     "text": [
      "2021-05-06 16:46:13,649 - modnet - INFO - Preset #68 fitting finished, loss: 0.3088791906833649\n"
     ]
    },
    {
     "name": "stderr",
     "output_type": "stream",
     "text": [
      " 98%|█████████▊| 354/360 [1:23:19<00:55,  9.23s/it]"
     ]
    },
    {
     "name": "stdout",
     "output_type": "stream",
     "text": [
      "2021-05-06 16:46:46,496 - modnet - INFO - Preset #55 fitting finished, loss: 0.3122741341590881\n"
     ]
    },
    {
     "name": "stderr",
     "output_type": "stream",
     "text": [
      " 99%|█████████▊| 355/360 [1:23:51<01:21, 16.34s/it]"
     ]
    },
    {
     "name": "stdout",
     "output_type": "stream",
     "text": [
      "2021-05-06 16:47:07,651 - modnet - INFO - Preset #69 fitting finished, loss: 0.3980801463127136\n"
     ]
    },
    {
     "name": "stderr",
     "output_type": "stream",
     "text": [
      " 99%|█████████▉| 356/360 [1:24:12<01:10, 17.69s/it]"
     ]
    },
    {
     "name": "stdout",
     "output_type": "stream",
     "text": [
      "2021-05-06 16:47:08,949 - modnet - INFO - Preset #54 fitting finished, loss: 0.33710063695907594\n"
     ]
    },
    {
     "name": "stderr",
     "output_type": "stream",
     "text": [
      " 99%|█████████▉| 357/360 [1:24:14<00:38, 12.79s/it]"
     ]
    },
    {
     "name": "stdout",
     "output_type": "stream",
     "text": [
      "2021-05-06 16:49:57,269 - modnet - INFO - Preset #55 fitting finished, loss: 0.3258296549320221\n"
     ]
    },
    {
     "name": "stderr",
     "output_type": "stream",
     "text": [
      " 99%|█████████▉| 358/360 [1:27:02<01:58, 59.49s/it]"
     ]
    },
    {
     "name": "stdout",
     "output_type": "stream",
     "text": [
      "2021-05-06 16:50:00,126 - modnet - INFO - Preset #55 fitting finished, loss: 0.3832109093666077\n"
     ]
    },
    {
     "name": "stderr",
     "output_type": "stream",
     "text": [
      "100%|█████████▉| 359/360 [1:27:05<00:42, 42.41s/it]"
     ]
    },
    {
     "name": "stdout",
     "output_type": "stream",
     "text": [
      "2021-05-06 16:51:13,534 - modnet - INFO - Preset #55 fitting finished, loss: 0.36173055768013\n"
     ]
    },
    {
     "name": "stderr",
     "output_type": "stream",
     "text": [
      "100%|██████████| 360/360 [1:28:18<00:00, 14.72s/it]\n"
     ]
    },
    {
     "name": "stdout",
     "output_type": "stream",
     "text": [
      "2021-05-06 16:51:21,978 - modnet - INFO - Preset #46 resulted in lowest validation loss with params {'train_data': <modnet.preprocessing.MODData object at 0x7f56c3060850>, 'targets': [[['difference']]], 'weights': {'difference': 1}, 'n_models': 5, 'num_classes': {'difference': 0}, 'n_feat': 256, 'num_neurons': [[256], [128], [32], [32]], 'lr': 0.005, 'batch_size': 64, 'epochs': 1000, 'loss': 'mae', 'act': 'elu', 'out_act': 'linear', 'callbacks': [<tensorflow.python.keras.callbacks.EarlyStopping object at 0x7f56fe117af0>], 'preset_id': 45, 'fold_id': 4, 'verbose': 0, 'val_data': <modnet.preprocessing.MODData object at 0x7f56c74d0f70>}\n",
      "mae\n",
      "0.18469601971686753\n",
      "uncertainty\n",
      "0.17916583\n"
     ]
    }
   ],
   "source": [
    "k = 5\n",
    "random_state = 202010\n",
    "folds = MDKsplit(md_joint,n_splits=k,random_state=random_state)\n",
    "errors = np.ones((int(len(md_joint.df_targets)/k),5))\n",
    "maes = np.ones(5)\n",
    "uncertainties = np.ones(5)\n",
    "for i,f in enumerate(folds):\n",
    "    train = f[0]\n",
    "    test = f[1]\n",
    "    #train.feature_selection(n=-1, use_precomputed_cross_nmi=True)\n",
    "    fpath = 'train_joint_exp-pbe_{}_{}'.format(random_state,i+1)\n",
    "    if os.path.exists(fpath):\n",
    "        train = MODData.load(fpath)\n",
    "    else:\n",
    "        train.feature_selection(n=-1, use_precomputed_cross_nmi=True)\n",
    "        train.save(fpath)\n",
    "       \n",
    "    # assure no overlap\n",
    "    assert len(set(train.df_targets.index).intersection(set(test.df_targets.index))) == 0\n",
    "    \n",
    "    # difference prediction\n",
    "    model = EnsembleMODNetModel([[['difference']]],{'difference':1})\n",
    "    model.fit_preset(train, verbose=0, n_jobs=20)\n",
    "    \n",
    "    pred, std = model.predict(test, return_unc=True)\n",
    "    true = test.df_targets\n",
    "    true = true.drop(columns=['exp_gap','pbe_gap'])\n",
    "    error = pred-true\n",
    "    error = error['difference'].drop(pred.index[((pred['difference']).abs()>20)]) # drop unrealistic values: happens extremely rarely\n",
    "    std = std['difference'].drop(std.index[((std['difference']).abs()>20)]) # drop unrealistic values: happens extremely rarely\n",
    "    mae = np.abs(error).mean()\n",
    "    uncertainty = np.abs(std).mean()\n",
    "    print('mae')\n",
    "    print(mae)\n",
    "    print('uncertainty')\n",
    "    print(uncertainty)\n",
    "    maes[i] = mae\n",
    "    uncertainties[i] = uncertainty\n",
    "    "
   ]
  },
  {
   "cell_type": "code",
   "execution_count": 10,
   "metadata": {
    "ExecuteTime": {
     "end_time": "2021-05-06T14:51:55.015843Z",
     "start_time": "2021-05-06T14:51:55.010284Z"
    }
   },
   "outputs": [
    {
     "data": {
      "text/plain": [
       "array([0.34191074, 0.27340241, 0.3238936 , 0.27511023, 0.18469602])"
      ]
     },
     "execution_count": 10,
     "metadata": {},
     "output_type": "execute_result"
    }
   ],
   "source": [
    "maes"
   ]
  },
  {
   "cell_type": "code",
   "execution_count": 11,
   "metadata": {
    "ExecuteTime": {
     "end_time": "2021-05-06T14:51:55.211057Z",
     "start_time": "2021-05-06T14:51:55.018404Z"
    }
   },
   "outputs": [
    {
     "data": {
      "text/plain": [
       "0.2798025996002459"
      ]
     },
     "execution_count": 11,
     "metadata": {},
     "output_type": "execute_result"
    }
   ],
   "source": [
    "maes.mean()"
   ]
  },
  {
   "cell_type": "code",
   "execution_count": 12,
   "metadata": {
    "ExecuteTime": {
     "end_time": "2021-05-06T14:51:55.230049Z",
     "start_time": "2021-05-06T14:51:55.218952Z"
    }
   },
   "outputs": [
    {
     "data": {
      "text/plain": [
       "array([0.22420746, 0.20271552, 0.22603963, 0.2025571 , 0.17916583])"
      ]
     },
     "execution_count": 12,
     "metadata": {},
     "output_type": "execute_result"
    }
   ],
   "source": [
    "uncertainties"
   ]
  },
  {
   "cell_type": "code",
   "execution_count": 13,
   "metadata": {
    "ExecuteTime": {
     "end_time": "2021-05-06T14:51:55.273868Z",
     "start_time": "2021-05-06T14:51:55.233990Z"
    }
   },
   "outputs": [
    {
     "data": {
      "text/plain": [
       "0.2069371074438095"
      ]
     },
     "execution_count": 13,
     "metadata": {},
     "output_type": "execute_result"
    }
   ],
   "source": [
    "uncertainties.mean()"
   ]
  },
  {
   "cell_type": "markdown",
   "metadata": {},
   "source": [
    "#### Conclusion"
   ]
  },
  {
   "cell_type": "markdown",
   "metadata": {},
   "source": [
    "Relative percentage change of the error compared to MODNet_exp_GA reference: 19%"
   ]
  }
 ],
 "metadata": {
  "kernelspec": {
   "display_name": "Python [conda env:modnet]",
   "language": "python",
   "name": "conda-env-modnet-py"
  },
  "language_info": {
   "codemirror_mode": {
    "name": "ipython",
    "version": 3
   },
   "file_extension": ".py",
   "mimetype": "text/x-python",
   "name": "python",
   "nbconvert_exporter": "python",
   "pygments_lexer": "ipython3",
   "version": "3.8.5"
  }
 },
 "nbformat": 4,
 "nbformat_minor": 4
}
