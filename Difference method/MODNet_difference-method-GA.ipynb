{
 "cells": [
  {
   "cell_type": "markdown",
   "metadata": {},
   "source": [
    "# Difference method"
   ]
  },
  {
   "cell_type": "markdown",
   "metadata": {},
   "source": [
    "In this model, we will use what we called the Difference method. We first calculate the difference between the experimental band gap and the PBE band gap, and we then evaluate the error on this difference."
   ]
  },
  {
   "cell_type": "code",
   "execution_count": 1,
   "metadata": {
    "ExecuteTime": {
     "end_time": "2021-06-14T15:44:20.119327Z",
     "start_time": "2021-06-14T15:44:20.111492Z"
    }
   },
   "outputs": [],
   "source": [
    "def setup_threading():\n",
    "    import os\n",
    "    os.environ['OPENBLAS_NUM_THREADS'] = '1'\n",
    "    os.environ['MKL_NUM_THREADS'] = '1'\n",
    "    os.environ[\"OMP_NUM_THREADS\"] = \"1\"\n",
    "    os.environ[\"TF_NUM_INTRAOP_THREADS\"] = \"1\"\n",
    "    os.environ[\"TF_NUM_INTEROP_THREADS\"] = \"1\"\n",
    "    os.environ[\"CUDA_VISIBLE_DEVICES\"] = \"-1\""
   ]
  },
  {
   "cell_type": "code",
   "execution_count": 2,
   "metadata": {
    "ExecuteTime": {
     "end_time": "2021-06-14T15:44:20.318628Z",
     "start_time": "2021-06-14T15:44:20.315389Z"
    }
   },
   "outputs": [],
   "source": [
    "setup_threading()"
   ]
  },
  {
   "cell_type": "code",
   "execution_count": 3,
   "metadata": {
    "ExecuteTime": {
     "end_time": "2021-06-14T15:44:26.442119Z",
     "start_time": "2021-06-14T15:44:20.546018Z"
    }
   },
   "outputs": [],
   "source": [
    "from modnet.preprocessing import MODData\n",
    "from modnet.models.vanilla import MODNetModel\n",
    "from modnet.hyper_opt.fit_genetic import FitGenetic\n",
    "import numpy as np\n",
    "import os\n",
    "import copy\n",
    "from tensorflow.keras.callbacks import EarlyStopping, ReduceLROnPlateau"
   ]
  },
  {
   "cell_type": "code",
   "execution_count": 4,
   "metadata": {
    "ExecuteTime": {
     "end_time": "2021-06-14T15:44:26.456331Z",
     "start_time": "2021-06-14T15:44:26.444424Z"
    }
   },
   "outputs": [],
   "source": [
    "from sklearn.model_selection import KFold\n",
    "from modnet.preprocessing import MODData\n",
    "\n",
    "def shuffle_MD(data,random_state=10):\n",
    "    data = copy.deepcopy(data)\n",
    "    ids = data.df_targets.sample(frac=1,random_state=random_state).index\n",
    "    data.df_featurized = data.df_featurized.reindex([ids])\n",
    "    data.df_targets = data.df_targets.reindex([ids])\n",
    "    data.df_structure = data.df_structure.reindex([ids])\n",
    "    \n",
    "    return data\n",
    "\n",
    "def MDKsplit(data,n_splits=5,random_state=10):\n",
    "    #data = shuffle_MD(data,random_state=random_state)\n",
    "    ids = np.array(data.structure_ids)\n",
    "    kf = KFold(n_splits=n_splits,shuffle=True,random_state=random_state)\n",
    "    folds = []\n",
    "    for train_idx, val_idx in kf.split(ids):\n",
    "        data_train = MODData(data.df_structure.iloc[train_idx]['structure'].values,data.df_targets.iloc[train_idx].values,target_names=data.df_targets.columns,structure_ids=ids[train_idx])\n",
    "        data_train.df_featurized = data.df_featurized.iloc[train_idx]\n",
    "        #data_train.optimal_features = data.optimal_features\n",
    "        \n",
    "        data_val = MODData(data.df_structure.iloc[val_idx]['structure'].values,data.df_targets.iloc[val_idx].values,target_names=data.df_targets.columns,structure_ids=ids[val_idx])\n",
    "        data_val.df_featurized = data.df_featurized.iloc[val_idx]\n",
    "        #data_val.optimal_features = data.optimal_features\n",
    "\n",
    "        folds.append((data_train,data_val))\n",
    "        \n",
    "    return folds\n",
    "\n",
    "def MD_append(md,lmd):\n",
    "    md = copy.deepcopy(md)\n",
    "    for m in lmd:\n",
    "        md.df_structure.append(m.df_structure)\n",
    "        md.df_targets.append(m.df_targets)\n",
    "        md.df_featurized.append(m.df_featurized)\n",
    "    return md"
   ]
  },
  {
   "cell_type": "code",
   "execution_count": 5,
   "metadata": {
    "ExecuteTime": {
     "end_time": "2021-06-14T15:44:38.914672Z",
     "start_time": "2021-06-14T15:44:26.459030Z"
    }
   },
   "outputs": [
    {
     "name": "stdout",
     "output_type": "stream",
     "text": [
      "\n",
      "If you use the ChemEnv tool for your research, please consider citing the following reference(s) :\n",
      "==================================================================================================\n",
      "David Waroquiers, Xavier Gonze, Gian-Marco Rignanese, Cathrin Welker-Nieuwoudt, Frank Rosowski,\n",
      "Michael Goebel, Stephan Schenk, Peter Degelmann, Rute Andre, Robert Glaum, and Geoffroy Hautier,\n",
      "\"Statistical analysis of coordination environments in oxides\",\n",
      "Chem. Mater., 2017, 29 (19), pp 8346-8360,\n",
      "DOI: 10.1021/acs.chemmater.7b02766\n",
      "\n",
      "2021-06-14 17:44:29,521 - modnet - INFO - Loaded <modnet.preprocessing.MODData object at 0x7f3f28068970> object, created with modnet version <=0.1.7\n",
      "2021-06-14 17:44:37,814 - modnet - INFO - Loaded <modnet.preprocessing.MODData object at 0x7f3eb95a29d0> object, created with modnet version <=0.1.7\n",
      "2021-06-14 17:44:38,912 - modnet - INFO - Loaded <modnet.preprocessing.MODData object at 0x7f3f280680d0> object, created with modnet version <=0.1.7\n"
     ]
    }
   ],
   "source": [
    "md_exp = MODData.load('exp_gap_all_mpid')\n",
    "md_exp.df_targets.columns = ['exp_gap','mp_id']\n",
    "md_pbe = MODData.load('pbe_gap.zip')\n",
    "md_pbe.df_targets.columns = ['gap']\n",
    "md_joint = MODData.load('exp_pbe_joint')"
   ]
  },
  {
   "cell_type": "code",
   "execution_count": 6,
   "metadata": {
    "ExecuteTime": {
     "end_time": "2021-06-14T15:44:38.939486Z",
     "start_time": "2021-06-14T15:44:38.916615Z"
    }
   },
   "outputs": [
    {
     "data": {
      "text/html": [
       "<div>\n",
       "<style scoped>\n",
       "    .dataframe tbody tr th:only-of-type {\n",
       "        vertical-align: middle;\n",
       "    }\n",
       "\n",
       "    .dataframe tbody tr th {\n",
       "        vertical-align: top;\n",
       "    }\n",
       "\n",
       "    .dataframe thead th {\n",
       "        text-align: right;\n",
       "    }\n",
       "</style>\n",
       "<table border=\"1\" class=\"dataframe\">\n",
       "  <thead>\n",
       "    <tr style=\"text-align: right;\">\n",
       "      <th></th>\n",
       "      <th>exp_gap</th>\n",
       "      <th>pbe_gap</th>\n",
       "      <th>difference</th>\n",
       "    </tr>\n",
       "  </thead>\n",
       "  <tbody>\n",
       "    <tr>\n",
       "      <th>mp-12699</th>\n",
       "      <td>0.00</td>\n",
       "      <td>0.0000</td>\n",
       "      <td>0.0000</td>\n",
       "    </tr>\n",
       "    <tr>\n",
       "      <th>mp-559459</th>\n",
       "      <td>3.40</td>\n",
       "      <td>2.1704</td>\n",
       "      <td>1.2296</td>\n",
       "    </tr>\n",
       "    <tr>\n",
       "      <th>mp-21162</th>\n",
       "      <td>0.00</td>\n",
       "      <td>0.0000</td>\n",
       "      <td>0.0000</td>\n",
       "    </tr>\n",
       "    <tr>\n",
       "      <th>mp-1306</th>\n",
       "      <td>0.00</td>\n",
       "      <td>0.0000</td>\n",
       "      <td>0.0000</td>\n",
       "    </tr>\n",
       "    <tr>\n",
       "      <th>mp-15252</th>\n",
       "      <td>0.53</td>\n",
       "      <td>0.1049</td>\n",
       "      <td>0.4251</td>\n",
       "    </tr>\n",
       "    <tr>\n",
       "      <th>...</th>\n",
       "      <td>...</td>\n",
       "      <td>...</td>\n",
       "      <td>...</td>\n",
       "    </tr>\n",
       "    <tr>\n",
       "      <th>mp-556541</th>\n",
       "      <td>1.80</td>\n",
       "      <td>1.5135</td>\n",
       "      <td>0.2865</td>\n",
       "    </tr>\n",
       "    <tr>\n",
       "      <th>mp-2602</th>\n",
       "      <td>1.04</td>\n",
       "      <td>0.0000</td>\n",
       "      <td>1.0400</td>\n",
       "    </tr>\n",
       "    <tr>\n",
       "      <th>mp-30366</th>\n",
       "      <td>0.00</td>\n",
       "      <td>0.0000</td>\n",
       "      <td>0.0000</td>\n",
       "    </tr>\n",
       "    <tr>\n",
       "      <th>mp-3718</th>\n",
       "      <td>1.45</td>\n",
       "      <td>0.2418</td>\n",
       "      <td>1.2082</td>\n",
       "    </tr>\n",
       "    <tr>\n",
       "      <th>mp-3709</th>\n",
       "      <td>0.00</td>\n",
       "      <td>0.0000</td>\n",
       "      <td>0.0000</td>\n",
       "    </tr>\n",
       "  </tbody>\n",
       "</table>\n",
       "<p>1703 rows × 3 columns</p>\n",
       "</div>"
      ],
      "text/plain": [
       "           exp_gap  pbe_gap  difference\n",
       "mp-12699      0.00   0.0000      0.0000\n",
       "mp-559459     3.40   2.1704      1.2296\n",
       "mp-21162      0.00   0.0000      0.0000\n",
       "mp-1306       0.00   0.0000      0.0000\n",
       "mp-15252      0.53   0.1049      0.4251\n",
       "...            ...      ...         ...\n",
       "mp-556541     1.80   1.5135      0.2865\n",
       "mp-2602       1.04   0.0000      1.0400\n",
       "mp-30366      0.00   0.0000      0.0000\n",
       "mp-3718       1.45   0.2418      1.2082\n",
       "mp-3709       0.00   0.0000      0.0000\n",
       "\n",
       "[1703 rows x 3 columns]"
      ]
     },
     "execution_count": 6,
     "metadata": {},
     "output_type": "execute_result"
    }
   ],
   "source": [
    "md_joint.df_targets"
   ]
  },
  {
   "cell_type": "code",
   "execution_count": 7,
   "metadata": {
    "ExecuteTime": {
     "end_time": "2021-06-14T15:44:38.950017Z",
     "start_time": "2021-06-14T15:44:38.941766Z"
    }
   },
   "outputs": [],
   "source": [
    "md_joint.df_targets['difference'] = md_joint.df_targets['exp_gap'] - md_joint.df_targets['pbe_gap']"
   ]
  },
  {
   "cell_type": "code",
   "execution_count": 8,
   "metadata": {
    "ExecuteTime": {
     "end_time": "2021-06-14T15:44:38.967605Z",
     "start_time": "2021-06-14T15:44:38.954281Z"
    }
   },
   "outputs": [
    {
     "data": {
      "text/html": [
       "<div>\n",
       "<style scoped>\n",
       "    .dataframe tbody tr th:only-of-type {\n",
       "        vertical-align: middle;\n",
       "    }\n",
       "\n",
       "    .dataframe tbody tr th {\n",
       "        vertical-align: top;\n",
       "    }\n",
       "\n",
       "    .dataframe thead th {\n",
       "        text-align: right;\n",
       "    }\n",
       "</style>\n",
       "<table border=\"1\" class=\"dataframe\">\n",
       "  <thead>\n",
       "    <tr style=\"text-align: right;\">\n",
       "      <th></th>\n",
       "      <th>exp_gap</th>\n",
       "      <th>pbe_gap</th>\n",
       "      <th>difference</th>\n",
       "    </tr>\n",
       "  </thead>\n",
       "  <tbody>\n",
       "    <tr>\n",
       "      <th>mp-12699</th>\n",
       "      <td>0.00</td>\n",
       "      <td>0.0000</td>\n",
       "      <td>0.0000</td>\n",
       "    </tr>\n",
       "    <tr>\n",
       "      <th>mp-559459</th>\n",
       "      <td>3.40</td>\n",
       "      <td>2.1704</td>\n",
       "      <td>1.2296</td>\n",
       "    </tr>\n",
       "    <tr>\n",
       "      <th>mp-21162</th>\n",
       "      <td>0.00</td>\n",
       "      <td>0.0000</td>\n",
       "      <td>0.0000</td>\n",
       "    </tr>\n",
       "    <tr>\n",
       "      <th>mp-1306</th>\n",
       "      <td>0.00</td>\n",
       "      <td>0.0000</td>\n",
       "      <td>0.0000</td>\n",
       "    </tr>\n",
       "    <tr>\n",
       "      <th>mp-15252</th>\n",
       "      <td>0.53</td>\n",
       "      <td>0.1049</td>\n",
       "      <td>0.4251</td>\n",
       "    </tr>\n",
       "    <tr>\n",
       "      <th>...</th>\n",
       "      <td>...</td>\n",
       "      <td>...</td>\n",
       "      <td>...</td>\n",
       "    </tr>\n",
       "    <tr>\n",
       "      <th>mp-556541</th>\n",
       "      <td>1.80</td>\n",
       "      <td>1.5135</td>\n",
       "      <td>0.2865</td>\n",
       "    </tr>\n",
       "    <tr>\n",
       "      <th>mp-2602</th>\n",
       "      <td>1.04</td>\n",
       "      <td>0.0000</td>\n",
       "      <td>1.0400</td>\n",
       "    </tr>\n",
       "    <tr>\n",
       "      <th>mp-30366</th>\n",
       "      <td>0.00</td>\n",
       "      <td>0.0000</td>\n",
       "      <td>0.0000</td>\n",
       "    </tr>\n",
       "    <tr>\n",
       "      <th>mp-3718</th>\n",
       "      <td>1.45</td>\n",
       "      <td>0.2418</td>\n",
       "      <td>1.2082</td>\n",
       "    </tr>\n",
       "    <tr>\n",
       "      <th>mp-3709</th>\n",
       "      <td>0.00</td>\n",
       "      <td>0.0000</td>\n",
       "      <td>0.0000</td>\n",
       "    </tr>\n",
       "  </tbody>\n",
       "</table>\n",
       "<p>1703 rows × 3 columns</p>\n",
       "</div>"
      ],
      "text/plain": [
       "           exp_gap  pbe_gap  difference\n",
       "mp-12699      0.00   0.0000      0.0000\n",
       "mp-559459     3.40   2.1704      1.2296\n",
       "mp-21162      0.00   0.0000      0.0000\n",
       "mp-1306       0.00   0.0000      0.0000\n",
       "mp-15252      0.53   0.1049      0.4251\n",
       "...            ...      ...         ...\n",
       "mp-556541     1.80   1.5135      0.2865\n",
       "mp-2602       1.04   0.0000      1.0400\n",
       "mp-30366      0.00   0.0000      0.0000\n",
       "mp-3718       1.45   0.2418      1.2082\n",
       "mp-3709       0.00   0.0000      0.0000\n",
       "\n",
       "[1703 rows x 3 columns]"
      ]
     },
     "execution_count": 8,
     "metadata": {},
     "output_type": "execute_result"
    }
   ],
   "source": [
    "md_joint.df_targets"
   ]
  },
  {
   "cell_type": "code",
   "execution_count": 9,
   "metadata": {
    "ExecuteTime": {
     "end_time": "2021-06-14T15:44:39.020590Z",
     "start_time": "2021-06-14T15:44:38.969189Z"
    }
   },
   "outputs": [
    {
     "data": {
      "text/html": [
       "<div>\n",
       "<style scoped>\n",
       "    .dataframe tbody tr th:only-of-type {\n",
       "        vertical-align: middle;\n",
       "    }\n",
       "\n",
       "    .dataframe tbody tr th {\n",
       "        vertical-align: top;\n",
       "    }\n",
       "\n",
       "    .dataframe thead th {\n",
       "        text-align: right;\n",
       "    }\n",
       "</style>\n",
       "<table border=\"1\" class=\"dataframe\">\n",
       "  <thead>\n",
       "    <tr style=\"text-align: right;\">\n",
       "      <th></th>\n",
       "      <th>structure</th>\n",
       "    </tr>\n",
       "    <tr>\n",
       "      <th>id</th>\n",
       "      <th></th>\n",
       "    </tr>\n",
       "  </thead>\n",
       "  <tbody>\n",
       "    <tr>\n",
       "      <th>mp-12699</th>\n",
       "      <td>[[ 0.13616363 -2.60631371  1.50340165] Ca, [-1...</td>\n",
       "    </tr>\n",
       "    <tr>\n",
       "      <th>mp-559459</th>\n",
       "      <td>[[2.14049282 6.43464803 1.76199846] Cs, [-0.70...</td>\n",
       "    </tr>\n",
       "    <tr>\n",
       "      <th>mp-21162</th>\n",
       "      <td>[[0. 0. 0.] Sr, [0.        2.5259875 2.5259875...</td>\n",
       "    </tr>\n",
       "    <tr>\n",
       "      <th>mp-1306</th>\n",
       "      <td>[[3.259129   1.88166243 1.15971025] Th, [ 3.25...</td>\n",
       "    </tr>\n",
       "    <tr>\n",
       "      <th>mp-15252</th>\n",
       "      <td>[[0.95531657 1.042239   0.86229681] Cu, [2.803...</td>\n",
       "    </tr>\n",
       "    <tr>\n",
       "      <th>...</th>\n",
       "      <td>...</td>\n",
       "    </tr>\n",
       "    <tr>\n",
       "      <th>mp-556541</th>\n",
       "      <td>[[0.         6.49363948 5.82657217] In, [ 0.  ...</td>\n",
       "    </tr>\n",
       "    <tr>\n",
       "      <th>mp-2602</th>\n",
       "      <td>[[3.023318 3.023318 3.023318] Nd, [0. 0. 0.] As]</td>\n",
       "    </tr>\n",
       "    <tr>\n",
       "      <th>mp-30366</th>\n",
       "      <td>[[4.51774558 1.37529211 4.32659015] Ca, [1.109...</td>\n",
       "    </tr>\n",
       "    <tr>\n",
       "      <th>mp-3718</th>\n",
       "      <td>[[2.0697935  0.         1.28932533] Th, [0.   ...</td>\n",
       "    </tr>\n",
       "    <tr>\n",
       "      <th>mp-3709</th>\n",
       "      <td>[[0. 0. 0.] Tb, [0.       1.983905 2.537711] C...</td>\n",
       "    </tr>\n",
       "  </tbody>\n",
       "</table>\n",
       "<p>1703 rows × 1 columns</p>\n",
       "</div>"
      ],
      "text/plain": [
       "                                                   structure\n",
       "id                                                          \n",
       "mp-12699   [[ 0.13616363 -2.60631371  1.50340165] Ca, [-1...\n",
       "mp-559459  [[2.14049282 6.43464803 1.76199846] Cs, [-0.70...\n",
       "mp-21162   [[0. 0. 0.] Sr, [0.        2.5259875 2.5259875...\n",
       "mp-1306    [[3.259129   1.88166243 1.15971025] Th, [ 3.25...\n",
       "mp-15252   [[0.95531657 1.042239   0.86229681] Cu, [2.803...\n",
       "...                                                      ...\n",
       "mp-556541  [[0.         6.49363948 5.82657217] In, [ 0.  ...\n",
       "mp-2602     [[3.023318 3.023318 3.023318] Nd, [0. 0. 0.] As]\n",
       "mp-30366   [[4.51774558 1.37529211 4.32659015] Ca, [1.109...\n",
       "mp-3718    [[2.0697935  0.         1.28932533] Th, [0.   ...\n",
       "mp-3709    [[0. 0. 0.] Tb, [0.       1.983905 2.537711] C...\n",
       "\n",
       "[1703 rows x 1 columns]"
      ]
     },
     "execution_count": 9,
     "metadata": {},
     "output_type": "execute_result"
    }
   ],
   "source": [
    "md_joint.df_structure"
   ]
  },
  {
   "cell_type": "code",
   "execution_count": 10,
   "metadata": {
    "ExecuteTime": {
     "end_time": "2021-06-14T15:44:39.028950Z",
     "start_time": "2021-06-14T15:44:39.022698Z"
    }
   },
   "outputs": [
    {
     "data": {
      "text/plain": [
       "0.429783975697596"
      ]
     },
     "execution_count": 10,
     "metadata": {},
     "output_type": "execute_result"
    }
   ],
   "source": [
    "from sklearn.metrics import mean_absolute_error\n",
    "mean_absolute_error(md_joint.df_targets['exp_gap'], md_joint.df_targets['pbe_gap'])"
   ]
  },
  {
   "cell_type": "code",
   "execution_count": 11,
   "metadata": {
    "ExecuteTime": {
     "end_time": "2021-06-14T15:44:39.036363Z",
     "start_time": "2021-06-14T15:44:39.030762Z"
    }
   },
   "outputs": [
    {
     "data": {
      "text/plain": [
       "0.5494667780829975"
      ]
     },
     "execution_count": 11,
     "metadata": {},
     "output_type": "execute_result"
    }
   ],
   "source": [
    "md_joint.df_targets['difference'].mad()"
   ]
  },
  {
   "cell_type": "code",
   "execution_count": 12,
   "metadata": {
    "ExecuteTime": {
     "end_time": "2021-06-14T15:44:39.041034Z",
     "start_time": "2021-06-14T15:44:39.037892Z"
    }
   },
   "outputs": [],
   "source": [
    "md_joint.df_targets = md_joint.df_targets.drop(columns=['exp_gap', 'pbe_gap'])"
   ]
  },
  {
   "cell_type": "code",
   "execution_count": null,
   "metadata": {},
   "outputs": [],
   "source": []
  },
  {
   "cell_type": "code",
   "execution_count": 14,
   "metadata": {
    "ExecuteTime": {
     "end_time": "2021-06-15T02:05:00.875880Z",
     "start_time": "2021-06-14T22:06:47.015800Z"
    },
    "scrolled": true
   },
   "outputs": [
    {
     "name": "stdout",
     "output_type": "stream",
     "text": [
      "2021-06-15 00:06:47,030 - modnet - INFO - Loaded DeBreuck2020Featurizer featurizer.\n",
      "2021-06-15 00:06:47,059 - modnet - INFO - Loaded DeBreuck2020Featurizer featurizer.\n",
      "2021-06-15 00:06:47,073 - modnet - INFO - Loaded DeBreuck2020Featurizer featurizer.\n",
      "2021-06-15 00:06:47,095 - modnet - INFO - Loaded DeBreuck2020Featurizer featurizer.\n",
      "2021-06-15 00:06:47,112 - modnet - INFO - Loaded DeBreuck2020Featurizer featurizer.\n",
      "2021-06-15 00:06:47,151 - modnet - INFO - Loaded DeBreuck2020Featurizer featurizer.\n",
      "2021-06-15 00:06:47,168 - modnet - INFO - Loaded DeBreuck2020Featurizer featurizer.\n",
      "2021-06-15 00:06:47,219 - modnet - INFO - Loaded DeBreuck2020Featurizer featurizer.\n",
      "2021-06-15 00:06:47,235 - modnet - INFO - Loaded DeBreuck2020Featurizer featurizer.\n",
      "2021-06-15 00:06:47,281 - modnet - INFO - Loaded DeBreuck2020Featurizer featurizer.\n",
      "2021-06-15 00:06:47,858 - modnet - INFO - Loaded <modnet.preprocessing.MODData object at 0x7f3ea6d8e970> object, created with modnet version 0.1.9\n",
      "2021-06-15 00:06:47,906 - modnet - INFO - Generation number 0\n",
      "2021-06-15 00:06:51,442 - modnet - INFO - Multiprocessing on 10 cores. Total of 128 cores available.\n"
     ]
    },
    {
     "name": "stderr",
     "output_type": "stream",
     "text": [
      "100%|██████████| 100/100 [17:12<00:00, 10.32s/it]"
     ]
    },
    {
     "name": "stdout",
     "output_type": "stream",
     "text": [
      "2021-06-15 00:24:03,746 - modnet - INFO - Loss per individual: ind 0: 0.939 \tind 1: 0.931 \tind 2: 0.888 \tind 3: 0.818 \tind 4: 0.872 \tind 5: 1.012 \tind 6: 0.927 \tind 7: 0.939 \tind 8: 1.204 \tind 9: 0.957 \tind 10: 0.921 \tind 11: 1.052 \tind 12: 0.936 \tind 13: 0.957 \tind 14: 0.988 \tind 15: 1.060 \tind 16: 1.088 \tind 17: 0.894 \tind 18: 0.881 \tind 19: 0.999 \t\n"
     ]
    },
    {
     "name": "stderr",
     "output_type": "stream",
     "text": [
      "\n"
     ]
    },
    {
     "name": "stdout",
     "output_type": "stream",
     "text": [
      "2021-06-15 00:24:05,297 - modnet - INFO - Generation number 1\n",
      "2021-06-15 00:24:08,483 - modnet - INFO - Multiprocessing on 10 cores. Total of 128 cores available.\n"
     ]
    },
    {
     "name": "stderr",
     "output_type": "stream",
     "text": [
      "100%|██████████| 100/100 [16:32<00:00,  9.93s/it]"
     ]
    },
    {
     "name": "stdout",
     "output_type": "stream",
     "text": [
      "2021-06-15 00:40:41,237 - modnet - INFO - Loss per individual: ind 0: 0.874 \tind 1: 1.052 \tind 2: 0.937 \tind 3: 0.864 \tind 4: 1.098 \tind 5: 0.880 \tind 6: 1.240 \tind 7: 0.983 \tind 8: 0.989 \tind 9: 0.960 \tind 10: 0.943 \tind 11: 0.858 \tind 12: 1.021 \tind 13: 0.904 \tind 14: 0.874 \tind 15: 0.929 \tind 16: 0.894 \tind 17: 1.051 \tind 18: 0.894 \tind 19: 0.865 \t\n"
     ]
    },
    {
     "name": "stderr",
     "output_type": "stream",
     "text": [
      "\n"
     ]
    },
    {
     "name": "stdout",
     "output_type": "stream",
     "text": [
      "2021-06-15 00:40:43,086 - modnet - INFO - Generation number 2\n",
      "2021-06-15 00:40:46,976 - modnet - INFO - Multiprocessing on 10 cores. Total of 128 cores available.\n"
     ]
    },
    {
     "name": "stderr",
     "output_type": "stream",
     "text": [
      "100%|██████████| 100/100 [17:09<00:00, 10.29s/it]"
     ]
    },
    {
     "name": "stdout",
     "output_type": "stream",
     "text": [
      "2021-06-15 00:57:56,341 - modnet - INFO - Loss per individual: ind 0: 0.941 \tind 1: 0.955 \tind 2: 0.910 \tind 3: 0.995 \tind 4: 0.957 \tind 5: 1.206 \tind 6: 0.840 \tind 7: 0.863 \tind 8: 0.877 \tind 9: 0.893 \tind 10: 1.008 \tind 11: 0.938 \tind 12: 0.841 \tind 13: 0.957 \tind 14: 0.924 \tind 15: 0.928 \tind 16: 0.886 \tind 17: 0.979 \tind 18: 0.924 \tind 19: 0.882 \t\n"
     ]
    },
    {
     "name": "stderr",
     "output_type": "stream",
     "text": [
      "\n"
     ]
    },
    {
     "name": "stdout",
     "output_type": "stream",
     "text": [
      "2021-06-15 00:57:58,146 - modnet - INFO - Generation number 3\n",
      "2021-06-15 00:58:02,153 - modnet - INFO - Multiprocessing on 10 cores. Total of 128 cores available.\n"
     ]
    },
    {
     "name": "stderr",
     "output_type": "stream",
     "text": [
      "100%|██████████| 100/100 [10:01<00:00,  6.01s/it]"
     ]
    },
    {
     "name": "stdout",
     "output_type": "stream",
     "text": [
      "2021-06-15 01:08:03,354 - modnet - INFO - Loss per individual: ind 0: 0.978 \tind 1: 0.886 \tind 2: 0.888 \tind 3: 0.919 \tind 4: 0.918 \tind 5: 0.921 \tind 6: 0.858 \tind 7: 1.100 \tind 8: 0.870 \tind 9: 0.968 \tind 10: 0.982 \tind 11: 0.871 \tind 12: 0.865 \tind 13: 0.872 \tind 14: 0.960 \tind 15: 0.887 \tind 16: 1.081 \tind 17: 0.932 \tind 18: 0.882 \tind 19: 1.132 \t\n"
     ]
    },
    {
     "name": "stderr",
     "output_type": "stream",
     "text": [
      "\n"
     ]
    },
    {
     "name": "stdout",
     "output_type": "stream",
     "text": [
      "2021-06-15 01:08:04,454 - modnet - INFO - Early stopping: same best model for 4 consecutive generations\n",
      " (1/n) Calculating accuracy metrics\n",
      " (2/n) Calculating average calibration metrics\n"
     ]
    },
    {
     "name": "stderr",
     "output_type": "stream",
     "text": [
      " 20%|██        | 2/10 [00:00<00:00, 10.26it/s]"
     ]
    },
    {
     "name": "stdout",
     "output_type": "stream",
     "text": [
      " (3/n) Calculating adversarial group calibration metrics\n",
      "  [1/2] for mean absolute calibration error\n",
      "Measuring adversarial group calibration by spanning group size between 0.0 and 1.0, in 10 intervals\n"
     ]
    },
    {
     "name": "stderr",
     "output_type": "stream",
     "text": [
      "100%|██████████| 10/10 [00:01<00:00,  9.01it/s]\n",
      " 20%|██        | 2/10 [00:00<00:00, 10.47it/s]"
     ]
    },
    {
     "name": "stdout",
     "output_type": "stream",
     "text": [
      "  [2/2] for root mean squared calibration error\n",
      "Measuring adversarial group calibration by spanning group size between 0.0 and 1.0, in 10 intervals\n"
     ]
    },
    {
     "name": "stderr",
     "output_type": "stream",
     "text": [
      "100%|██████████| 10/10 [00:01<00:00,  9.92it/s]\n"
     ]
    },
    {
     "name": "stdout",
     "output_type": "stream",
     "text": [
      " (4/n) Calculating sharpness metrics\n",
      " (n/n) Calculating proper scoring rule metrics\n",
      "**Finished Calculating All Metrics**\n",
      "\n",
      "\n",
      "===================== Accuracy Metrics =====================\n",
      "  MAE           0.339\n",
      "  RMSE          0.686\n",
      "  MDAE          0.063\n",
      "  MARPD         148.135\n",
      "  R2            0.384\n",
      "  Correlation   0.638\n",
      "=============== Average Calibration Metrics ================\n",
      "  Root-mean-squared Calibration Error   0.101\n",
      "  Mean-absolute Calibration Error       0.084\n",
      "  Miscalibration Area                   0.085\n",
      "========== Adversarial Group Calibration Metrics ===========\n",
      "  Mean-absolute Adversarial Group Calibration Error\n",
      "     Group Size: 0.11 -- Calibration Error: 0.135\n",
      "     Group Size: 0.56 -- Calibration Error: 0.098\n",
      "     Group Size: 1.00 -- Calibration Error: 0.084\n",
      "  Root-mean-squared Adversarial Group Calibration Error\n",
      "     Group Size: 0.11 -- Calibration Error: 0.165\n",
      "     Group Size: 0.56 -- Calibration Error: 0.117\n",
      "     Group Size: 1.00 -- Calibration Error: 0.101\n",
      "==================== Sharpness Metrics =====================\n",
      "  Sharpness   0.197\n",
      "=================== Scoring Rule Metrics ===================\n",
      "  Negative-log-likelihood   13.693\n",
      "  CRPS                      0.287\n",
      "  Check Score               0.145\n",
      "  Interval Score            2.207\n",
      "MAE =\n",
      "0.33880383734038305\n",
      "uncertainty =\n",
      "0.13591428\n",
      "2021-06-15 01:08:12,855 - modnet - INFO - Loaded <modnet.preprocessing.MODData object at 0x7f3eab615640> object, created with modnet version 0.1.9\n",
      "2021-06-15 01:08:12,892 - modnet - INFO - Generation number 0\n",
      "2021-06-15 01:08:15,122 - modnet - INFO - Multiprocessing on 10 cores. Total of 128 cores available.\n"
     ]
    },
    {
     "name": "stderr",
     "output_type": "stream",
     "text": [
      "100%|██████████| 100/100 [07:55<00:00,  4.76s/it]"
     ]
    },
    {
     "name": "stdout",
     "output_type": "stream",
     "text": [
      "2021-06-15 01:16:11,187 - modnet - INFO - Loss per individual: ind 0: 0.964 \tind 1: 104.485 \tind 2: 1.088 \tind 3: 1.044 \tind 4: 7.740 \tind 5: 0.924 \tind 6: 2.111 \tind 7: 25.589 \tind 8: 3.396 \tind 9: 89.341 \tind 10: 12.746 \tind 11: 5.877 \tind 12: 5.079 \tind 13: 36.875 \tind 14: 10.228 \tind 15: 0.969 \tind 16: 3.560 \tind 17: 2.058 \tind 18: 2.136 \tind 19: 10.810 \t\n"
     ]
    },
    {
     "name": "stderr",
     "output_type": "stream",
     "text": [
      "\n"
     ]
    },
    {
     "name": "stdout",
     "output_type": "stream",
     "text": [
      "2021-06-15 01:16:12,213 - modnet - INFO - Generation number 1\n",
      "2021-06-15 01:16:14,557 - modnet - INFO - Multiprocessing on 10 cores. Total of 128 cores available.\n"
     ]
    },
    {
     "name": "stderr",
     "output_type": "stream",
     "text": [
      "100%|██████████| 100/100 [05:22<00:00,  3.23s/it]"
     ]
    },
    {
     "name": "stdout",
     "output_type": "stream",
     "text": [
      "2021-06-15 01:21:37,480 - modnet - INFO - Loss per individual: ind 0: 0.925 \tind 1: 0.924 \tind 2: 1.155 \tind 3: 0.991 \tind 4: 38.751 \tind 5: 0.957 \tind 6: 0.977 \tind 7: 11.178 \tind 8: 1.106 \tind 9: 0.948 \tind 10: 0.955 \tind 11: 1.047 \tind 12: 1.028 \tind 13: 0.958 \tind 14: 1.099 \tind 15: 5.357 \tind 16: 0.993 \tind 17: 0.961 \tind 18: 1.049 \tind 19: 0.941 \t\n"
     ]
    },
    {
     "name": "stderr",
     "output_type": "stream",
     "text": [
      "\n"
     ]
    },
    {
     "name": "stdout",
     "output_type": "stream",
     "text": [
      "2021-06-15 01:21:38,349 - modnet - INFO - Generation number 2\n",
      "2021-06-15 01:21:40,675 - modnet - INFO - Multiprocessing on 10 cores. Total of 128 cores available.\n"
     ]
    },
    {
     "name": "stderr",
     "output_type": "stream",
     "text": [
      "100%|██████████| 100/100 [05:04<00:00,  3.04s/it]"
     ]
    },
    {
     "name": "stdout",
     "output_type": "stream",
     "text": [
      "2021-06-15 01:26:44,873 - modnet - INFO - Loss per individual: ind 0: 1.136 \tind 1: 1.164 \tind 2: 0.932 \tind 3: 0.944 \tind 4: 0.968 \tind 5: 1.001 \tind 6: 0.933 \tind 7: 1.005 \tind 8: 0.989 \tind 9: 1.048 \tind 10: 0.977 \tind 11: 0.936 \tind 12: 0.966 \tind 13: 1.014 \tind 14: 0.947 \tind 15: 1.040 \tind 16: 0.925 \tind 17: 0.975 \tind 18: 0.967 \tind 19: 1.030 \t\n"
     ]
    },
    {
     "name": "stderr",
     "output_type": "stream",
     "text": [
      "\n"
     ]
    },
    {
     "name": "stdout",
     "output_type": "stream",
     "text": [
      "2021-06-15 01:26:45,684 - modnet - INFO - Generation number 3\n",
      "2021-06-15 01:26:48,154 - modnet - INFO - Multiprocessing on 10 cores. Total of 128 cores available.\n"
     ]
    },
    {
     "name": "stderr",
     "output_type": "stream",
     "text": [
      "100%|██████████| 100/100 [05:07<00:00,  3.07s/it]"
     ]
    },
    {
     "name": "stdout",
     "output_type": "stream",
     "text": [
      "2021-06-15 01:31:55,622 - modnet - INFO - Loss per individual: ind 0: 0.964 \tind 1: 1.025 \tind 2: 1.008 \tind 3: 1.027 \tind 4: 0.979 \tind 5: 1.011 \tind 6: 0.952 \tind 7: 0.962 \tind 8: 0.940 \tind 9: 0.994 \tind 10: 0.976 \tind 11: 0.988 \tind 12: 0.940 \tind 13: 0.965 \tind 14: 0.987 \tind 15: 0.973 \tind 16: 6.344 \tind 17: 0.982 \tind 18: 0.937 \tind 19: 1.025 \t\n"
     ]
    },
    {
     "name": "stderr",
     "output_type": "stream",
     "text": [
      "\n"
     ]
    },
    {
     "name": "stdout",
     "output_type": "stream",
     "text": [
      "2021-06-15 01:31:56,433 - modnet - INFO - Generation number 4\n",
      "2021-06-15 01:32:07,527 - modnet - INFO - Multiprocessing on 10 cores. Total of 128 cores available.\n"
     ]
    },
    {
     "name": "stderr",
     "output_type": "stream",
     "text": [
      "100%|██████████| 100/100 [05:54<00:00,  3.55s/it]"
     ]
    },
    {
     "name": "stdout",
     "output_type": "stream",
     "text": [
      "2021-06-15 01:38:02,528 - modnet - INFO - Loss per individual: ind 0: 0.996 \tind 1: 1.053 \tind 2: 0.966 \tind 3: 1.054 \tind 4: 0.939 \tind 5: 1.052 \tind 6: 1.002 \tind 7: 1.037 \tind 8: 0.932 \tind 9: 0.922 \tind 10: 1.023 \tind 11: 0.994 \tind 12: 0.986 \tind 13: 0.919 \tind 14: 14.004 \tind 15: 0.965 \tind 16: 0.964 \tind 17: 1.017 \tind 18: 0.932 \tind 19: 0.934 \t\n"
     ]
    },
    {
     "name": "stderr",
     "output_type": "stream",
     "text": [
      "\n"
     ]
    },
    {
     "name": "stdout",
     "output_type": "stream",
     "text": [
      "2021-06-15 01:38:03,357 - modnet - INFO - Generation number 5\n",
      "2021-06-15 01:38:06,355 - modnet - INFO - Multiprocessing on 10 cores. Total of 128 cores available.\n"
     ]
    },
    {
     "name": "stderr",
     "output_type": "stream",
     "text": [
      "100%|██████████| 100/100 [05:38<00:00,  3.38s/it]"
     ]
    },
    {
     "name": "stdout",
     "output_type": "stream",
     "text": [
      "2021-06-15 01:43:44,801 - modnet - INFO - Loss per individual: ind 0: 0.990 \tind 1: 0.973 \tind 2: 1.045 \tind 3: 0.920 \tind 4: 0.962 \tind 5: 0.928 \tind 6: 0.947 \tind 7: 1.021 \tind 8: 1.001 \tind 9: 0.943 \tind 10: 0.992 \tind 11: 20.777 \tind 12: 1.015 \tind 13: 0.940 \tind 14: 1.007 \tind 15: 3.987 \tind 16: 0.965 \tind 17: 0.978 \tind 18: 1.012 \tind 19: 0.972 \t\n"
     ]
    },
    {
     "name": "stderr",
     "output_type": "stream",
     "text": [
      "\n"
     ]
    },
    {
     "name": "stdout",
     "output_type": "stream",
     "text": [
      "2021-06-15 01:43:45,621 - modnet - INFO - Generation number 6\n",
      "2021-06-15 01:43:48,919 - modnet - INFO - Multiprocessing on 10 cores. Total of 128 cores available.\n"
     ]
    },
    {
     "name": "stderr",
     "output_type": "stream",
     "text": [
      "100%|██████████| 100/100 [06:01<00:00,  3.61s/it]"
     ]
    },
    {
     "name": "stdout",
     "output_type": "stream",
     "text": [
      "2021-06-15 01:49:50,063 - modnet - INFO - Loss per individual: ind 0: 1.016 \tind 1: 0.932 \tind 2: 0.938 \tind 3: 0.931 \tind 4: 0.959 \tind 5: 1.006 \tind 6: 0.972 \tind 7: 3.933 \tind 8: 0.951 \tind 9: 0.926 \tind 10: 1.000 \tind 11: 1.039 \tind 12: 0.950 \tind 13: 1.029 \tind 14: 0.940 \tind 15: 0.984 \tind 16: 0.974 \tind 17: 0.933 \tind 18: 0.954 \tind 19: 0.965 \t\n"
     ]
    },
    {
     "name": "stderr",
     "output_type": "stream",
     "text": [
      "\n"
     ]
    },
    {
     "name": "stdout",
     "output_type": "stream",
     "text": [
      "2021-06-15 01:49:50,902 - modnet - INFO - Generation number 7\n",
      "2021-06-15 01:49:54,517 - modnet - INFO - Multiprocessing on 10 cores. Total of 128 cores available.\n"
     ]
    },
    {
     "name": "stderr",
     "output_type": "stream",
     "text": [
      "100%|██████████| 100/100 [05:48<00:00,  3.49s/it]"
     ]
    },
    {
     "name": "stdout",
     "output_type": "stream",
     "text": [
      "2021-06-15 01:55:43,455 - modnet - INFO - Loss per individual: ind 0: 0.934 \tind 1: 1.022 \tind 2: 0.943 \tind 3: 0.947 \tind 4: 1.081 \tind 5: 0.960 \tind 6: 1.033 \tind 7: 1.044 \tind 8: 0.947 \tind 9: 0.950 \tind 10: 0.943 \tind 11: 0.991 \tind 12: 0.935 \tind 13: 0.968 \tind 14: 0.994 \tind 15: 0.936 \tind 16: 0.978 \tind 17: 0.967 \tind 18: 1.066 \tind 19: 0.993 \t\n"
     ]
    },
    {
     "name": "stderr",
     "output_type": "stream",
     "text": [
      "\n"
     ]
    },
    {
     "name": "stdout",
     "output_type": "stream",
     "text": [
      "2021-06-15 01:55:44,273 - modnet - INFO - Early stopping: same best model for 4 consecutive generations\n",
      " (1/n) Calculating accuracy metrics\n",
      " (2/n) Calculating average calibration metrics\n"
     ]
    },
    {
     "name": "stderr",
     "output_type": "stream",
     "text": [
      " 20%|██        | 2/10 [00:00<00:00, 11.35it/s]"
     ]
    },
    {
     "name": "stdout",
     "output_type": "stream",
     "text": [
      " (3/n) Calculating adversarial group calibration metrics\n",
      "  [1/2] for mean absolute calibration error\n",
      "Measuring adversarial group calibration by spanning group size between 0.0 and 1.0, in 10 intervals\n"
     ]
    },
    {
     "name": "stderr",
     "output_type": "stream",
     "text": [
      "100%|██████████| 10/10 [00:00<00:00, 10.88it/s]\n",
      " 20%|██        | 2/10 [00:00<00:00, 11.14it/s]"
     ]
    },
    {
     "name": "stdout",
     "output_type": "stream",
     "text": [
      "  [2/2] for root mean squared calibration error\n",
      "Measuring adversarial group calibration by spanning group size between 0.0 and 1.0, in 10 intervals\n"
     ]
    },
    {
     "name": "stderr",
     "output_type": "stream",
     "text": [
      "100%|██████████| 10/10 [00:00<00:00, 10.85it/s]\n"
     ]
    },
    {
     "name": "stdout",
     "output_type": "stream",
     "text": [
      " (4/n) Calculating sharpness metrics\n",
      " (n/n) Calculating proper scoring rule metrics\n",
      "**Finished Calculating All Metrics**\n",
      "\n",
      "\n",
      "===================== Accuracy Metrics =====================\n",
      "  MAE           0.292\n",
      "  RMSE          0.648\n",
      "  MDAE          0.050\n",
      "  MARPD         146.950\n",
      "  R2            0.358\n",
      "  Correlation   0.620\n",
      "=============== Average Calibration Metrics ================\n",
      "  Root-mean-squared Calibration Error   0.043\n",
      "  Mean-absolute Calibration Error       0.033\n",
      "  Miscalibration Area                   0.033\n",
      "========== Adversarial Group Calibration Metrics ===========\n",
      "  Mean-absolute Adversarial Group Calibration Error\n",
      "     Group Size: 0.11 -- Calibration Error: 0.103\n",
      "     Group Size: 0.56 -- Calibration Error: 0.052\n",
      "     Group Size: 1.00 -- Calibration Error: 0.033\n",
      "  Root-mean-squared Adversarial Group Calibration Error\n",
      "     Group Size: 0.11 -- Calibration Error: 0.118\n",
      "     Group Size: 0.56 -- Calibration Error: 0.056\n",
      "     Group Size: 1.00 -- Calibration Error: 0.043\n",
      "==================== Sharpness Metrics =====================\n",
      "  Sharpness   0.270\n",
      "=================== Scoring Rule Metrics ===================\n",
      "  Negative-log-likelihood   3.844\n",
      "  CRPS                      0.233\n",
      "  Check Score               0.117\n",
      "  Interval Score            1.606\n",
      "MAE =\n",
      "0.2919106972956085\n",
      "uncertainty =\n",
      "0.17899893\n",
      "2021-06-15 01:55:52,419 - modnet - INFO - Loaded <modnet.preprocessing.MODData object at 0x7f3eac18a640> object, created with modnet version 0.1.9\n",
      "2021-06-15 01:55:52,440 - modnet - INFO - Generation number 0\n",
      "2021-06-15 01:55:54,843 - modnet - INFO - Multiprocessing on 10 cores. Total of 128 cores available.\n"
     ]
    },
    {
     "name": "stderr",
     "output_type": "stream",
     "text": [
      "100%|██████████| 100/100 [05:07<00:00,  3.08s/it]"
     ]
    },
    {
     "name": "stdout",
     "output_type": "stream",
     "text": [
      "2021-06-15 02:01:02,756 - modnet - INFO - Loss per individual: ind 0: 0.934 \tind 1: 1.151 \tind 2: 2.004 \tind 3: 0.915 \tind 4: 1.034 \tind 5: 6.484 \tind 6: 0.876 \tind 7: 1.230 \tind 8: 0.892 \tind 9: 0.932 \tind 10: 1.831 \tind 11: 1.075 \tind 12: 0.930 \tind 13: 0.931 \tind 14: 1.148 \tind 15: 11.415 \tind 16: 1.531 \tind 17: 4.205 \tind 18: 13.940 \tind 19: 0.944 \t\n"
     ]
    },
    {
     "name": "stderr",
     "output_type": "stream",
     "text": [
      "\n"
     ]
    },
    {
     "name": "stdout",
     "output_type": "stream",
     "text": [
      "2021-06-15 02:01:03,542 - modnet - INFO - Generation number 1\n",
      "2021-06-15 02:01:06,171 - modnet - INFO - Multiprocessing on 10 cores. Total of 128 cores available.\n"
     ]
    },
    {
     "name": "stderr",
     "output_type": "stream",
     "text": [
      "100%|██████████| 100/100 [04:53<00:00,  2.93s/it]"
     ]
    },
    {
     "name": "stdout",
     "output_type": "stream",
     "text": [
      "2021-06-15 02:05:59,595 - modnet - INFO - Loss per individual: ind 0: 1.199 \tind 1: 0.902 \tind 2: 0.859 \tind 3: 0.961 \tind 4: 0.876 \tind 5: 0.910 \tind 6: 4.737 \tind 7: 0.892 \tind 8: 0.931 \tind 9: 0.909 \tind 10: 0.912 \tind 11: 0.889 \tind 12: 0.927 \tind 13: 0.879 \tind 14: 0.857 \tind 15: 0.880 \tind 16: 0.908 \tind 17: 1.050 \tind 18: 1.003 \tind 19: 0.961 \t\n"
     ]
    },
    {
     "name": "stderr",
     "output_type": "stream",
     "text": [
      "\n"
     ]
    },
    {
     "name": "stdout",
     "output_type": "stream",
     "text": [
      "2021-06-15 02:06:00,388 - modnet - INFO - Generation number 2\n",
      "2021-06-15 02:06:03,231 - modnet - INFO - Multiprocessing on 10 cores. Total of 128 cores available.\n"
     ]
    },
    {
     "name": "stderr",
     "output_type": "stream",
     "text": [
      "100%|██████████| 100/100 [05:40<00:00,  3.41s/it]"
     ]
    },
    {
     "name": "stdout",
     "output_type": "stream",
     "text": [
      "2021-06-15 02:11:44,109 - modnet - INFO - Loss per individual: ind 0: 0.861 \tind 1: 0.933 \tind 2: 0.945 \tind 3: 1.071 \tind 4: 0.875 \tind 5: 0.891 \tind 6: 0.948 \tind 7: 1.045 \tind 8: 0.908 \tind 9: 1.028 \tind 10: 0.921 \tind 11: 0.902 \tind 12: 0.896 \tind 13: 0.949 \tind 14: 0.911 \tind 15: 1.009 \tind 16: 0.903 \tind 17: 0.924 \tind 18: 0.935 \tind 19: 10.139 \t\n"
     ]
    },
    {
     "name": "stderr",
     "output_type": "stream",
     "text": [
      "\n"
     ]
    },
    {
     "name": "stdout",
     "output_type": "stream",
     "text": [
      "2021-06-15 02:11:44,915 - modnet - INFO - Generation number 3\n",
      "2021-06-15 02:11:47,820 - modnet - INFO - Multiprocessing on 10 cores. Total of 128 cores available.\n"
     ]
    },
    {
     "name": "stderr",
     "output_type": "stream",
     "text": [
      "100%|██████████| 100/100 [04:45<00:00,  2.85s/it]"
     ]
    },
    {
     "name": "stdout",
     "output_type": "stream",
     "text": [
      "2021-06-15 02:16:33,190 - modnet - INFO - Loss per individual: ind 0: 0.919 \tind 1: 0.924 \tind 2: 0.933 \tind 3: 0.896 \tind 4: 0.863 \tind 5: 0.920 \tind 6: 0.882 \tind 7: 0.924 \tind 8: 0.905 \tind 9: 0.916 \tind 10: 0.915 \tind 11: 0.879 \tind 12: 0.933 \tind 13: 0.885 \tind 14: 0.956 \tind 15: 0.881 \tind 16: 0.870 \tind 17: 0.904 \tind 18: 0.894 \tind 19: 0.949 \t\n"
     ]
    },
    {
     "name": "stderr",
     "output_type": "stream",
     "text": [
      "\n"
     ]
    },
    {
     "name": "stdout",
     "output_type": "stream",
     "text": [
      "2021-06-15 02:16:34,029 - modnet - INFO - Generation number 4\n",
      "2021-06-15 02:16:37,099 - modnet - INFO - Multiprocessing on 10 cores. Total of 128 cores available.\n"
     ]
    },
    {
     "name": "stderr",
     "output_type": "stream",
     "text": [
      "100%|██████████| 100/100 [04:31<00:00,  2.72s/it]"
     ]
    },
    {
     "name": "stdout",
     "output_type": "stream",
     "text": [
      "2021-06-15 02:21:08,671 - modnet - INFO - Loss per individual: ind 0: 0.911 \tind 1: 0.909 \tind 2: 0.901 \tind 3: 0.852 \tind 4: 0.912 \tind 5: 0.879 \tind 6: 0.952 \tind 7: 0.885 \tind 8: 0.875 \tind 9: 0.931 \tind 10: 0.886 \tind 11: 1.074 \tind 12: 0.864 \tind 13: 0.901 \tind 14: 0.882 \tind 15: 1.299 \tind 16: 0.905 \tind 17: 3.390 \tind 18: 0.900 \tind 19: 0.926 \t\n"
     ]
    },
    {
     "name": "stderr",
     "output_type": "stream",
     "text": [
      "\n"
     ]
    },
    {
     "name": "stdout",
     "output_type": "stream",
     "text": [
      "2021-06-15 02:21:09,488 - modnet - INFO - Generation number 5\n",
      "2021-06-15 02:21:12,757 - modnet - INFO - Multiprocessing on 10 cores. Total of 128 cores available.\n"
     ]
    },
    {
     "name": "stderr",
     "output_type": "stream",
     "text": [
      "100%|██████████| 100/100 [04:17<00:00,  2.58s/it]"
     ]
    },
    {
     "name": "stdout",
     "output_type": "stream",
     "text": [
      "2021-06-15 02:25:30,765 - modnet - INFO - Loss per individual: ind 0: 0.877 \tind 1: 0.892 \tind 2: 0.923 \tind 3: 1.022 \tind 4: 0.952 \tind 5: 0.934 \tind 6: 0.934 \tind 7: 0.900 \tind 8: 0.869 \tind 9: 0.929 \tind 10: 0.994 \tind 11: 0.915 \tind 12: 0.878 \tind 13: 0.957 \tind 14: 0.902 \tind 15: 0.888 \tind 16: 0.883 \tind 17: 0.902 \tind 18: 0.899 \tind 19: 0.920 \t\n"
     ]
    },
    {
     "name": "stderr",
     "output_type": "stream",
     "text": [
      "\n"
     ]
    },
    {
     "name": "stdout",
     "output_type": "stream",
     "text": [
      "2021-06-15 02:25:31,562 - modnet - INFO - Generation number 6\n",
      "2021-06-15 02:25:35,132 - modnet - INFO - Multiprocessing on 10 cores. Total of 128 cores available.\n"
     ]
    },
    {
     "name": "stderr",
     "output_type": "stream",
     "text": [
      "100%|██████████| 100/100 [04:53<00:00,  2.94s/it]"
     ]
    },
    {
     "name": "stdout",
     "output_type": "stream",
     "text": [
      "2021-06-15 02:30:29,055 - modnet - INFO - Loss per individual: ind 0: 0.884 \tind 1: 0.890 \tind 2: 0.912 \tind 3: 30.507 \tind 4: 0.860 \tind 5: 0.848 \tind 6: 0.845 \tind 7: 0.863 \tind 8: 0.863 \tind 9: 0.980 \tind 10: 0.916 \tind 11: 0.919 \tind 12: 1.006 \tind 13: 0.867 \tind 14: 0.900 \tind 15: 0.869 \tind 16: 0.878 \tind 17: 0.898 \tind 18: 0.893 \tind 19: 0.912 \t\n"
     ]
    },
    {
     "name": "stderr",
     "output_type": "stream",
     "text": [
      "\n"
     ]
    },
    {
     "name": "stdout",
     "output_type": "stream",
     "text": [
      "2021-06-15 02:30:29,853 - modnet - INFO - Generation number 7\n",
      "2021-06-15 02:30:33,581 - modnet - INFO - Multiprocessing on 10 cores. Total of 128 cores available.\n"
     ]
    },
    {
     "name": "stderr",
     "output_type": "stream",
     "text": [
      "100%|██████████| 100/100 [05:12<00:00,  3.13s/it]"
     ]
    },
    {
     "name": "stdout",
     "output_type": "stream",
     "text": [
      "2021-06-15 02:35:46,145 - modnet - INFO - Loss per individual: ind 0: 0.884 \tind 1: 0.917 \tind 2: 1.071 \tind 3: 0.888 \tind 4: 0.861 \tind 5: 0.875 \tind 6: 0.992 \tind 7: 0.890 \tind 8: 1.029 \tind 9: 0.884 \tind 10: 0.938 \tind 11: 0.915 \tind 12: 0.973 \tind 13: 0.851 \tind 14: 0.889 \tind 15: 0.927 \tind 16: 0.925 \tind 17: 0.932 \tind 18: 0.877 \tind 19: 0.904 \t\n"
     ]
    },
    {
     "name": "stderr",
     "output_type": "stream",
     "text": [
      "\n"
     ]
    },
    {
     "name": "stdout",
     "output_type": "stream",
     "text": [
      "2021-06-15 02:35:46,966 - modnet - INFO - Generation number 8\n",
      "2021-06-15 02:35:50,954 - modnet - INFO - Multiprocessing on 10 cores. Total of 128 cores available.\n"
     ]
    },
    {
     "name": "stderr",
     "output_type": "stream",
     "text": [
      "100%|██████████| 100/100 [05:02<00:00,  3.03s/it]"
     ]
    },
    {
     "name": "stdout",
     "output_type": "stream",
     "text": [
      "2021-06-15 02:40:53,601 - modnet - INFO - Loss per individual: ind 0: 0.902 \tind 1: 0.899 \tind 2: 0.864 \tind 3: 0.963 \tind 4: 0.900 \tind 5: 0.930 \tind 6: 0.862 \tind 7: 0.936 \tind 8: 0.870 \tind 9: 0.942 \tind 10: 0.916 \tind 11: 0.911 \tind 12: 0.920 \tind 13: 0.986 \tind 14: 0.880 \tind 15: 0.924 \tind 16: 0.915 \tind 17: 0.921 \tind 18: 0.879 \tind 19: 0.874 \t\n"
     ]
    },
    {
     "name": "stderr",
     "output_type": "stream",
     "text": [
      "\n"
     ]
    },
    {
     "name": "stdout",
     "output_type": "stream",
     "text": [
      "2021-06-15 02:40:54,412 - modnet - INFO - Generation number 9\n",
      "2021-06-15 02:40:58,645 - modnet - INFO - Multiprocessing on 10 cores. Total of 128 cores available.\n"
     ]
    },
    {
     "name": "stderr",
     "output_type": "stream",
     "text": [
      "100%|██████████| 100/100 [05:23<00:00,  3.23s/it]"
     ]
    },
    {
     "name": "stdout",
     "output_type": "stream",
     "text": [
      "2021-06-15 02:46:21,997 - modnet - INFO - Loss per individual: ind 0: 0.876 \tind 1: 0.897 \tind 2: 0.899 \tind 3: 0.857 \tind 4: 0.873 \tind 5: 0.949 \tind 6: 0.878 \tind 7: 1.000 \tind 8: 0.866 \tind 9: 0.910 \tind 10: 0.884 \tind 11: 0.896 \tind 12: 0.936 \tind 13: 0.881 \tind 14: 0.846 \tind 15: 0.900 \tind 16: 0.903 \tind 17: 0.947 \tind 18: 0.934 \tind 19: 0.900 \t\n"
     ]
    },
    {
     "name": "stderr",
     "output_type": "stream",
     "text": [
      "\n"
     ]
    },
    {
     "name": "stdout",
     "output_type": "stream",
     "text": [
      "2021-06-15 02:46:22,787 - modnet - INFO - Early stopping: same best model for 4 consecutive generations\n",
      " (1/n) Calculating accuracy metrics\n",
      " (2/n) Calculating average calibration metrics\n"
     ]
    },
    {
     "name": "stderr",
     "output_type": "stream",
     "text": [
      " 20%|██        | 2/10 [00:00<00:00, 11.33it/s]"
     ]
    },
    {
     "name": "stdout",
     "output_type": "stream",
     "text": [
      " (3/n) Calculating adversarial group calibration metrics\n",
      "  [1/2] for mean absolute calibration error\n",
      "Measuring adversarial group calibration by spanning group size between 0.0 and 1.0, in 10 intervals\n"
     ]
    },
    {
     "name": "stderr",
     "output_type": "stream",
     "text": [
      "100%|██████████| 10/10 [00:00<00:00, 10.87it/s]\n",
      " 20%|██        | 2/10 [00:00<00:00, 11.34it/s]"
     ]
    },
    {
     "name": "stdout",
     "output_type": "stream",
     "text": [
      "  [2/2] for root mean squared calibration error\n",
      "Measuring adversarial group calibration by spanning group size between 0.0 and 1.0, in 10 intervals\n"
     ]
    },
    {
     "name": "stderr",
     "output_type": "stream",
     "text": [
      "100%|██████████| 10/10 [00:00<00:00, 10.86it/s]\n"
     ]
    },
    {
     "name": "stdout",
     "output_type": "stream",
     "text": [
      " (4/n) Calculating sharpness metrics\n",
      " (n/n) Calculating proper scoring rule metrics\n",
      "**Finished Calculating All Metrics**\n",
      "\n",
      "\n",
      "===================== Accuracy Metrics =====================\n",
      "  MAE           0.326\n",
      "  RMSE          0.693\n",
      "  MDAE          0.048\n",
      "  MARPD         148.366\n",
      "  R2            0.457\n",
      "  Correlation   0.681\n",
      "=============== Average Calibration Metrics ================\n",
      "  Root-mean-squared Calibration Error   0.186\n",
      "  Mean-absolute Calibration Error       0.174\n",
      "  Miscalibration Area                   0.176\n",
      "========== Adversarial Group Calibration Metrics ===========\n",
      "  Mean-absolute Adversarial Group Calibration Error\n",
      "     Group Size: 0.11 -- Calibration Error: 0.237\n",
      "     Group Size: 0.56 -- Calibration Error: 0.193\n",
      "     Group Size: 1.00 -- Calibration Error: 0.174\n",
      "  Root-mean-squared Adversarial Group Calibration Error\n",
      "     Group Size: 0.11 -- Calibration Error: 0.259\n",
      "     Group Size: 0.56 -- Calibration Error: 0.213\n",
      "     Group Size: 1.00 -- Calibration Error: 0.186\n",
      "==================== Sharpness Metrics =====================\n",
      "  Sharpness   0.242\n",
      "=================== Scoring Rule Metrics ===================\n",
      "  Negative-log-likelihood   85.705\n",
      "  CRPS                      0.271\n",
      "  Check Score               0.136\n",
      "  Interval Score            2.013\n",
      "MAE =\n",
      "0.3258396769029299\n",
      "uncertainty =\n",
      "0.14358331\n",
      "2021-06-15 02:46:32,353 - modnet - INFO - Loaded <modnet.preprocessing.MODData object at 0x7f39b482ba60> object, created with modnet version 0.1.9\n",
      "2021-06-15 02:46:32,373 - modnet - INFO - Generation number 0\n",
      "2021-06-15 02:46:35,328 - modnet - INFO - Multiprocessing on 10 cores. Total of 128 cores available.\n"
     ]
    },
    {
     "name": "stderr",
     "output_type": "stream",
     "text": [
      "100%|██████████| 100/100 [06:45<00:00,  4.06s/it]"
     ]
    },
    {
     "name": "stdout",
     "output_type": "stream",
     "text": [
      "2021-06-15 02:53:21,192 - modnet - INFO - Loss per individual: ind 0: 1.040 \tind 1: 0.965 \tind 2: 0.957 \tind 3: 1.007 \tind 4: 0.957 \tind 5: 1.071 \tind 6: 0.903 \tind 7: 1.030 \tind 8: 0.939 \tind 9: 1.039 \tind 10: 0.962 \tind 11: 1.010 \tind 12: 1.065 \tind 13: 1.130 \tind 14: 1.171 \tind 15: 1.151 \tind 16: 1.024 \tind 17: 0.940 \tind 18: 1.083 \tind 19: 1.100 \t\n"
     ]
    },
    {
     "name": "stderr",
     "output_type": "stream",
     "text": [
      "\n"
     ]
    },
    {
     "name": "stdout",
     "output_type": "stream",
     "text": [
      "2021-06-15 02:53:21,987 - modnet - INFO - Generation number 1\n",
      "2021-06-15 02:53:25,132 - modnet - INFO - Multiprocessing on 10 cores. Total of 128 cores available.\n"
     ]
    },
    {
     "name": "stderr",
     "output_type": "stream",
     "text": [
      "100%|██████████| 100/100 [05:51<00:00,  3.51s/it]"
     ]
    },
    {
     "name": "stdout",
     "output_type": "stream",
     "text": [
      "2021-06-15 02:59:16,473 - modnet - INFO - Loss per individual: ind 0: 1.029 \tind 1: 0.979 \tind 2: 0.942 \tind 3: 0.906 \tind 4: 0.964 \tind 5: 0.973 \tind 6: 0.977 \tind 7: 0.959 \tind 8: 1.093 \tind 9: 0.991 \tind 10: 0.952 \tind 11: 1.178 \tind 12: 1.051 \tind 13: 1.009 \tind 14: 0.976 \tind 15: 1.044 \tind 16: 1.148 \tind 17: 0.990 \tind 18: 0.947 \tind 19: 1.023 \t\n"
     ]
    },
    {
     "name": "stderr",
     "output_type": "stream",
     "text": [
      "\n"
     ]
    },
    {
     "name": "stdout",
     "output_type": "stream",
     "text": [
      "2021-06-15 02:59:17,272 - modnet - INFO - Generation number 2\n",
      "2021-06-15 02:59:20,629 - modnet - INFO - Multiprocessing on 10 cores. Total of 128 cores available.\n"
     ]
    },
    {
     "name": "stderr",
     "output_type": "stream",
     "text": [
      "100%|██████████| 100/100 [06:48<00:00,  4.09s/it]"
     ]
    },
    {
     "name": "stdout",
     "output_type": "stream",
     "text": [
      "2021-06-15 03:06:09,196 - modnet - INFO - Loss per individual: ind 0: 0.964 \tind 1: 0.947 \tind 2: 1.010 \tind 3: 0.967 \tind 4: 1.152 \tind 5: 0.911 \tind 6: 0.968 \tind 7: 1.137 \tind 8: 0.927 \tind 9: 0.971 \tind 10: 1.000 \tind 11: 0.942 \tind 12: 0.920 \tind 13: 0.982 \tind 14: 0.974 \tind 15: 0.979 \tind 16: 1.047 \tind 17: 1.010 \tind 18: 0.998 \tind 19: 0.897 \t\n"
     ]
    },
    {
     "name": "stderr",
     "output_type": "stream",
     "text": [
      "\n"
     ]
    },
    {
     "name": "stdout",
     "output_type": "stream",
     "text": [
      "2021-06-15 03:06:10,018 - modnet - INFO - Generation number 3\n",
      "2021-06-15 03:06:13,557 - modnet - INFO - Multiprocessing on 10 cores. Total of 128 cores available.\n"
     ]
    },
    {
     "name": "stderr",
     "output_type": "stream",
     "text": [
      "100%|██████████| 100/100 [06:23<00:00,  3.83s/it]"
     ]
    },
    {
     "name": "stdout",
     "output_type": "stream",
     "text": [
      "2021-06-15 03:12:36,968 - modnet - INFO - Loss per individual: ind 0: 1.087 \tind 1: 0.967 \tind 2: 1.040 \tind 3: 1.043 \tind 4: 1.020 \tind 5: 1.039 \tind 6: 0.967 \tind 7: 0.963 \tind 8: 1.018 \tind 9: 1.091 \tind 10: 0.925 \tind 11: 0.972 \tind 12: 0.947 \tind 13: 0.968 \tind 14: 1.025 \tind 15: 0.991 \tind 16: 0.955 \tind 17: 0.978 \tind 18: 1.099 \tind 19: 0.946 \t\n"
     ]
    },
    {
     "name": "stderr",
     "output_type": "stream",
     "text": [
      "\n"
     ]
    },
    {
     "name": "stdout",
     "output_type": "stream",
     "text": [
      "2021-06-15 03:12:37,826 - modnet - INFO - Generation number 4\n",
      "2021-06-15 03:12:41,424 - modnet - INFO - Multiprocessing on 10 cores. Total of 128 cores available.\n"
     ]
    },
    {
     "name": "stderr",
     "output_type": "stream",
     "text": [
      "100%|██████████| 100/100 [06:44<00:00,  4.04s/it]"
     ]
    },
    {
     "name": "stdout",
     "output_type": "stream",
     "text": [
      "2021-06-15 03:19:25,556 - modnet - INFO - Loss per individual: ind 0: 0.952 \tind 1: 1.071 \tind 2: 0.996 \tind 3: 0.884 \tind 4: 1.040 \tind 5: 0.942 \tind 6: 0.965 \tind 7: 0.983 \tind 8: 0.946 \tind 9: 1.059 \tind 10: 0.967 \tind 11: 1.067 \tind 12: 0.957 \tind 13: 1.010 \tind 14: 0.949 \tind 15: 0.961 \tind 16: 1.000 \tind 17: 0.970 \tind 18: 0.924 \tind 19: 0.905 \t\n"
     ]
    },
    {
     "name": "stderr",
     "output_type": "stream",
     "text": [
      "\n"
     ]
    },
    {
     "name": "stdout",
     "output_type": "stream",
     "text": [
      "2021-06-15 03:19:26,390 - modnet - INFO - Generation number 5\n",
      "2021-06-15 03:19:30,219 - modnet - INFO - Multiprocessing on 10 cores. Total of 128 cores available.\n"
     ]
    },
    {
     "name": "stderr",
     "output_type": "stream",
     "text": [
      "100%|██████████| 100/100 [06:19<00:00,  3.80s/it]"
     ]
    },
    {
     "name": "stdout",
     "output_type": "stream",
     "text": [
      "2021-06-15 03:25:50,164 - modnet - INFO - Loss per individual: ind 0: 0.921 \tind 1: 1.130 \tind 2: 1.004 \tind 3: 1.027 \tind 4: 1.050 \tind 5: 0.990 \tind 6: 0.973 \tind 7: 0.997 \tind 8: 0.968 \tind 9: 1.004 \tind 10: 1.094 \tind 11: 1.071 \tind 12: 1.024 \tind 13: 1.061 \tind 14: 1.047 \tind 15: 0.956 \tind 16: 0.997 \tind 17: 0.971 \tind 18: 0.915 \tind 19: 0.992 \t\n"
     ]
    },
    {
     "name": "stderr",
     "output_type": "stream",
     "text": [
      "\n"
     ]
    },
    {
     "name": "stdout",
     "output_type": "stream",
     "text": [
      "2021-06-15 03:25:50,999 - modnet - INFO - Generation number 6\n",
      "2021-06-15 03:25:55,010 - modnet - INFO - Multiprocessing on 10 cores. Total of 128 cores available.\n"
     ]
    },
    {
     "name": "stderr",
     "output_type": "stream",
     "text": [
      "100%|██████████| 100/100 [06:58<00:00,  4.19s/it]"
     ]
    },
    {
     "name": "stdout",
     "output_type": "stream",
     "text": [
      "2021-06-15 03:32:53,884 - modnet - INFO - Loss per individual: ind 0: 0.908 \tind 1: 0.975 \tind 2: 1.015 \tind 3: 1.049 \tind 4: 1.071 \tind 5: 0.986 \tind 6: 1.111 \tind 7: 0.928 \tind 8: 0.961 \tind 9: 0.892 \tind 10: 0.992 \tind 11: 0.950 \tind 12: 0.965 \tind 13: 1.050 \tind 14: 0.950 \tind 15: 0.905 \tind 16: 0.983 \tind 17: 1.006 \tind 18: 0.951 \tind 19: 0.897 \t\n"
     ]
    },
    {
     "name": "stderr",
     "output_type": "stream",
     "text": [
      "\n"
     ]
    },
    {
     "name": "stdout",
     "output_type": "stream",
     "text": [
      "2021-06-15 03:32:54,679 - modnet - INFO - Generation number 7\n",
      "2021-06-15 03:32:58,856 - modnet - INFO - Multiprocessing on 10 cores. Total of 128 cores available.\n"
     ]
    },
    {
     "name": "stderr",
     "output_type": "stream",
     "text": [
      "100%|██████████| 100/100 [06:43<00:00,  4.04s/it]"
     ]
    },
    {
     "name": "stdout",
     "output_type": "stream",
     "text": [
      "2021-06-15 03:39:42,632 - modnet - INFO - Loss per individual: ind 0: 1.109 \tind 1: 0.899 \tind 2: 0.962 \tind 3: 1.003 \tind 4: 1.015 \tind 5: 1.001 \tind 6: 0.918 \tind 7: 0.934 \tind 8: 1.059 \tind 9: 0.951 \tind 10: 1.095 \tind 11: 1.056 \tind 12: 1.013 \tind 13: 0.940 \tind 14: 0.960 \tind 15: 0.947 \tind 16: 0.951 \tind 17: 1.010 \tind 18: 0.891 \tind 19: 0.888 \t\n"
     ]
    },
    {
     "name": "stderr",
     "output_type": "stream",
     "text": [
      "\n"
     ]
    },
    {
     "name": "stdout",
     "output_type": "stream",
     "text": [
      "2021-06-15 03:39:43,465 - modnet - INFO - Early stopping: same best model for 4 consecutive generations\n",
      " (1/n) Calculating accuracy metrics\n",
      " (2/n) Calculating average calibration metrics\n"
     ]
    },
    {
     "name": "stderr",
     "output_type": "stream",
     "text": [
      " 20%|██        | 2/10 [00:00<00:00, 11.31it/s]"
     ]
    },
    {
     "name": "stdout",
     "output_type": "stream",
     "text": [
      " (3/n) Calculating adversarial group calibration metrics\n",
      "  [1/2] for mean absolute calibration error\n",
      "Measuring adversarial group calibration by spanning group size between 0.0 and 1.0, in 10 intervals\n"
     ]
    },
    {
     "name": "stderr",
     "output_type": "stream",
     "text": [
      "100%|██████████| 10/10 [00:00<00:00, 10.80it/s]\n",
      " 20%|██        | 2/10 [00:00<00:00, 11.24it/s]"
     ]
    },
    {
     "name": "stdout",
     "output_type": "stream",
     "text": [
      "  [2/2] for root mean squared calibration error\n",
      "Measuring adversarial group calibration by spanning group size between 0.0 and 1.0, in 10 intervals\n"
     ]
    },
    {
     "name": "stderr",
     "output_type": "stream",
     "text": [
      "100%|██████████| 10/10 [00:00<00:00, 10.77it/s]\n"
     ]
    },
    {
     "name": "stdout",
     "output_type": "stream",
     "text": [
      " (4/n) Calculating sharpness metrics\n",
      " (n/n) Calculating proper scoring rule metrics\n",
      "**Finished Calculating All Metrics**\n",
      "\n",
      "\n",
      "===================== Accuracy Metrics =====================\n",
      "  MAE           0.274\n",
      "  RMSE          0.673\n",
      "  MDAE          0.027\n",
      "  MARPD         151.961\n",
      "  R2            0.306\n",
      "  Correlation   0.586\n",
      "=============== Average Calibration Metrics ================\n",
      "  Root-mean-squared Calibration Error   0.118\n",
      "  Mean-absolute Calibration Error       0.099\n",
      "  Miscalibration Area                   0.100\n",
      "========== Adversarial Group Calibration Metrics ===========\n",
      "  Mean-absolute Adversarial Group Calibration Error\n",
      "     Group Size: 0.11 -- Calibration Error: 0.160\n",
      "     Group Size: 0.56 -- Calibration Error: 0.115\n",
      "     Group Size: 1.00 -- Calibration Error: 0.099\n",
      "  Root-mean-squared Adversarial Group Calibration Error\n",
      "     Group Size: 0.11 -- Calibration Error: 0.179\n",
      "     Group Size: 0.56 -- Calibration Error: 0.137\n",
      "     Group Size: 1.00 -- Calibration Error: 0.118\n",
      "==================== Sharpness Metrics =====================\n",
      "  Sharpness   0.228\n",
      "=================== Scoring Rule Metrics ===================\n",
      "  Negative-log-likelihood   705.032\n",
      "  CRPS                      0.221\n",
      "  Check Score               0.111\n",
      "  Interval Score            1.573\n",
      "MAE =\n",
      "0.27448574021336836\n",
      "uncertainty =\n",
      "0.13451155\n",
      "2021-06-15 03:39:52,021 - modnet - INFO - Loaded <modnet.preprocessing.MODData object at 0x7f3bf3df6ee0> object, created with modnet version 0.1.9\n",
      "2021-06-15 03:39:52,046 - modnet - INFO - Generation number 0\n",
      "2021-06-15 03:39:55,216 - modnet - INFO - Multiprocessing on 10 cores. Total of 128 cores available.\n"
     ]
    },
    {
     "name": "stderr",
     "output_type": "stream",
     "text": [
      "100%|██████████| 100/100 [04:55<00:00,  2.95s/it]"
     ]
    },
    {
     "name": "stdout",
     "output_type": "stream",
     "text": [
      "2021-06-15 03:44:50,772 - modnet - INFO - Loss per individual: ind 0: 1.278 \tind 1: 1.069 \tind 2: 1.001 \tind 3: 1.021 \tind 4: 0.976 \tind 5: 1.035 \tind 6: 1.037 \tind 7: 1.197 \tind 8: 0.974 \tind 9: 1.050 \tind 10: 1.018 \tind 11: 1.056 \tind 12: 1.049 \tind 13: 1.002 \tind 14: 1.133 \tind 15: 1.330 \tind 16: 1.218 \tind 17: 2.142 \tind 18: 0.960 \tind 19: 0.958 \t\n"
     ]
    },
    {
     "name": "stderr",
     "output_type": "stream",
     "text": [
      "\n"
     ]
    },
    {
     "name": "stdout",
     "output_type": "stream",
     "text": [
      "2021-06-15 03:44:51,587 - modnet - INFO - Generation number 1\n",
      "2021-06-15 03:44:54,693 - modnet - INFO - Multiprocessing on 10 cores. Total of 128 cores available.\n"
     ]
    },
    {
     "name": "stderr",
     "output_type": "stream",
     "text": [
      "100%|██████████| 100/100 [04:50<00:00,  2.90s/it]"
     ]
    },
    {
     "name": "stdout",
     "output_type": "stream",
     "text": [
      "2021-06-15 03:49:45,114 - modnet - INFO - Loss per individual: ind 0: 0.944 \tind 1: 0.990 \tind 2: 1.380 \tind 3: 0.988 \tind 4: 0.989 \tind 5: 1.139 \tind 6: 1.029 \tind 7: 0.989 \tind 8: 1.056 \tind 9: 1.318 \tind 10: 0.971 \tind 11: 1.051 \tind 12: 1.016 \tind 13: 1.001 \tind 14: 0.952 \tind 15: 1.013 \tind 16: 1.027 \tind 17: 0.927 \tind 18: 1.049 \tind 19: 0.998 \t\n"
     ]
    },
    {
     "name": "stderr",
     "output_type": "stream",
     "text": [
      "\n"
     ]
    },
    {
     "name": "stdout",
     "output_type": "stream",
     "text": [
      "2021-06-15 03:49:45,946 - modnet - INFO - Generation number 2\n",
      "2021-06-15 03:49:49,129 - modnet - INFO - Multiprocessing on 10 cores. Total of 128 cores available.\n"
     ]
    },
    {
     "name": "stderr",
     "output_type": "stream",
     "text": [
      "100%|██████████| 100/100 [04:34<00:00,  2.74s/it]"
     ]
    },
    {
     "name": "stdout",
     "output_type": "stream",
     "text": [
      "2021-06-15 03:54:23,288 - modnet - INFO - Loss per individual: ind 0: 1.051 \tind 1: 0.972 \tind 2: 0.947 \tind 3: 1.016 \tind 4: 1.035 \tind 5: 0.935 \tind 6: 0.987 \tind 7: 0.959 \tind 8: 0.978 \tind 9: 0.956 \tind 10: 1.088 \tind 11: 1.062 \tind 12: 1.009 \tind 13: 0.992 \tind 14: 1.023 \tind 15: 1.024 \tind 16: 1.011 \tind 17: 0.946 \tind 18: 0.949 \tind 19: 1.009 \t\n"
     ]
    },
    {
     "name": "stderr",
     "output_type": "stream",
     "text": [
      "\n"
     ]
    },
    {
     "name": "stdout",
     "output_type": "stream",
     "text": [
      "2021-06-15 03:54:24,125 - modnet - INFO - Generation number 3\n",
      "2021-06-15 03:54:27,590 - modnet - INFO - Multiprocessing on 10 cores. Total of 128 cores available.\n"
     ]
    },
    {
     "name": "stderr",
     "output_type": "stream",
     "text": [
      "100%|██████████| 100/100 [05:36<00:00,  3.37s/it]"
     ]
    },
    {
     "name": "stdout",
     "output_type": "stream",
     "text": [
      "2021-06-15 04:00:04,577 - modnet - INFO - Loss per individual: ind 0: 0.984 \tind 1: 1.077 \tind 2: 0.957 \tind 3: 1.025 \tind 4: 0.999 \tind 5: 0.987 \tind 6: 0.971 \tind 7: 1.001 \tind 8: 1.030 \tind 9: 1.004 \tind 10: 1.002 \tind 11: 0.973 \tind 12: 0.984 \tind 13: 0.996 \tind 14: 1.029 \tind 15: 0.980 \tind 16: 0.987 \tind 17: 1.057 \tind 18: 0.986 \tind 19: 1.055 \t\n"
     ]
    },
    {
     "name": "stderr",
     "output_type": "stream",
     "text": [
      "\n"
     ]
    },
    {
     "name": "stdout",
     "output_type": "stream",
     "text": [
      "2021-06-15 04:00:05,420 - modnet - INFO - Generation number 4\n",
      "2021-06-15 04:00:09,018 - modnet - INFO - Multiprocessing on 10 cores. Total of 128 cores available.\n"
     ]
    },
    {
     "name": "stderr",
     "output_type": "stream",
     "text": [
      "100%|██████████| 100/100 [04:45<00:00,  2.85s/it]"
     ]
    },
    {
     "name": "stdout",
     "output_type": "stream",
     "text": [
      "2021-06-15 04:04:54,219 - modnet - INFO - Loss per individual: ind 0: 0.977 \tind 1: 1.004 \tind 2: 1.000 \tind 3: 0.960 \tind 4: 0.965 \tind 5: 0.955 \tind 6: 1.038 \tind 7: 0.988 \tind 8: 1.104 \tind 9: 1.008 \tind 10: 0.965 \tind 11: 0.949 \tind 12: 0.930 \tind 13: 1.031 \tind 14: 0.947 \tind 15: 1.002 \tind 16: 1.017 \tind 17: 0.975 \tind 18: 1.129 \tind 19: 1.102 \t\n"
     ]
    },
    {
     "name": "stderr",
     "output_type": "stream",
     "text": [
      "\n"
     ]
    },
    {
     "name": "stdout",
     "output_type": "stream",
     "text": [
      "2021-06-15 04:04:55,033 - modnet - INFO - Early stopping: same best model for 4 consecutive generations\n",
      " (1/n) Calculating accuracy metrics\n",
      " (2/n) Calculating average calibration metrics\n"
     ]
    },
    {
     "name": "stderr",
     "output_type": "stream",
     "text": [
      " 20%|██        | 2/10 [00:00<00:00, 11.01it/s]"
     ]
    },
    {
     "name": "stdout",
     "output_type": "stream",
     "text": [
      " (3/n) Calculating adversarial group calibration metrics\n",
      "  [1/2] for mean absolute calibration error\n",
      "Measuring adversarial group calibration by spanning group size between 0.0 and 1.0, in 10 intervals\n"
     ]
    },
    {
     "name": "stderr",
     "output_type": "stream",
     "text": [
      "100%|██████████| 10/10 [00:00<00:00, 10.54it/s]\n",
      " 20%|██        | 2/10 [00:00<00:00, 11.03it/s]"
     ]
    },
    {
     "name": "stdout",
     "output_type": "stream",
     "text": [
      "  [2/2] for root mean squared calibration error\n",
      "Measuring adversarial group calibration by spanning group size between 0.0 and 1.0, in 10 intervals\n"
     ]
    },
    {
     "name": "stderr",
     "output_type": "stream",
     "text": [
      "100%|██████████| 10/10 [00:00<00:00, 10.53it/s]\n"
     ]
    },
    {
     "name": "stdout",
     "output_type": "stream",
     "text": [
      " (4/n) Calculating sharpness metrics\n",
      " (n/n) Calculating proper scoring rule metrics\n",
      "**Finished Calculating All Metrics**\n",
      "\n",
      "\n",
      "===================== Accuracy Metrics =====================\n",
      "  MAE           0.198\n",
      "  RMSE          0.421\n",
      "  MDAE          0.008\n",
      "  MARPD         156.454\n",
      "  R2            0.471\n",
      "  Correlation   0.724\n",
      "=============== Average Calibration Metrics ================\n",
      "  Root-mean-squared Calibration Error   0.113\n",
      "  Mean-absolute Calibration Error       0.098\n",
      "  Miscalibration Area                   0.099\n",
      "========== Adversarial Group Calibration Metrics ===========\n",
      "  Mean-absolute Adversarial Group Calibration Error\n",
      "     Group Size: 0.11 -- Calibration Error: 0.170\n",
      "     Group Size: 0.56 -- Calibration Error: 0.116\n",
      "     Group Size: 1.00 -- Calibration Error: 0.098\n",
      "  Root-mean-squared Adversarial Group Calibration Error\n",
      "     Group Size: 0.11 -- Calibration Error: 0.182\n",
      "     Group Size: 0.56 -- Calibration Error: 0.134\n",
      "     Group Size: 1.00 -- Calibration Error: 0.113\n",
      "==================== Sharpness Metrics =====================\n",
      "  Sharpness   0.217\n",
      "=================== Scoring Rule Metrics ===================\n",
      "  Negative-log-likelihood   75.574\n",
      "  CRPS                      0.156\n",
      "  Check Score               0.078\n",
      "  Interval Score            1.037\n",
      "MAE =\n",
      "0.19796235404598825\n",
      "uncertainty =\n",
      "0.13358939\n"
     ]
    }
   ],
   "source": [
    "import uncertainty_toolbox as uct\n",
    "\n",
    "k = 5\n",
    "random_state = 202010\n",
    "folds = MDKsplit(md_joint,n_splits=k,random_state=random_state)\n",
    "errors = np.ones((int(len(md_joint.df_targets)/k),5))\n",
    "maes = np.ones(5)\n",
    "uncertainties = np.ones(5)\n",
    "metricss = []\n",
    "for i,f in enumerate(folds):\n",
    "    train = f[0]\n",
    "    test = f[1]\n",
    "    #train.feature_selection(n=-1, use_precomputed_cross_nmi=True)\n",
    "    fpath = 'train_joint_exp-pbe_{}_{}'.format(random_state,i+1)\n",
    "    if os.path.exists(fpath):\n",
    "        train = MODData.load(fpath)\n",
    "    else:\n",
    "        train.feature_selection(n=-1, use_precomputed_cross_nmi=True)\n",
    "        train.save(fpath)\n",
    "       \n",
    "    # assure no overlap\n",
    "    assert len(set(train.df_targets.index).intersection(set(test.df_targets.index))) == 0\n",
    "    \n",
    "    # difference prediction\n",
    "    ga = FitGenetic(train)\n",
    "    model = ga.run(size_pop=20, num_generations=10, n_jobs=10)\n",
    "    \n",
    "    pred, std = model.predict(test, return_unc=True)\n",
    "    true = test.df_targets\n",
    "    metrics = uct.metrics.get_all_metrics(pred['difference'].values, std['difference'].values, true['difference'].values)\n",
    "    error = pred-true\n",
    "    error = error['difference'].drop(pred.index[((pred['difference']).abs()>20)]) # drop unrealistic values: happens extremely rarely\n",
    "    std = std['difference'].drop(std.index[((std['difference']).abs()>20)]) # drop unrealistic values: happens extremely rarely\n",
    "    mae = np.abs(error.values).mean()\n",
    "    uncertainty = np.abs(std).mean()\n",
    "    print('MAE =')\n",
    "    print(mae)\n",
    "    print('uncertainty =')\n",
    "    print(uncertainty)\n",
    "    maes[i] = mae\n",
    "    uncertainties[i] = uncertainty\n",
    "    metricss.append(metrics)"
   ]
  },
  {
   "cell_type": "code",
   "execution_count": 15,
   "metadata": {
    "ExecuteTime": {
     "end_time": "2021-06-15T02:05:00.879605Z",
     "start_time": "2021-06-15T02:05:00.876941Z"
    }
   },
   "outputs": [
    {
     "data": {
      "text/plain": [
       "array([0.33880384, 0.2919107 , 0.32583968, 0.27448574, 0.19796235])"
      ]
     },
     "execution_count": 15,
     "metadata": {},
     "output_type": "execute_result"
    }
   ],
   "source": [
    "maes"
   ]
  },
  {
   "cell_type": "code",
   "execution_count": 16,
   "metadata": {
    "ExecuteTime": {
     "end_time": "2021-06-15T02:05:00.921811Z",
     "start_time": "2021-06-15T02:05:00.880623Z"
    }
   },
   "outputs": [
    {
     "data": {
      "text/plain": [
       "0.2858004611596556"
      ]
     },
     "execution_count": 16,
     "metadata": {},
     "output_type": "execute_result"
    }
   ],
   "source": [
    "maes.mean()"
   ]
  },
  {
   "cell_type": "code",
   "execution_count": 17,
   "metadata": {
    "ExecuteTime": {
     "end_time": "2021-06-15T02:05:00.925524Z",
     "start_time": "2021-06-15T02:05:00.922633Z"
    }
   },
   "outputs": [
    {
     "data": {
      "text/plain": [
       "array([0.13591428, 0.17899893, 0.14358331, 0.13451155, 0.13358939])"
      ]
     },
     "execution_count": 17,
     "metadata": {},
     "output_type": "execute_result"
    }
   ],
   "source": [
    "uncertainties"
   ]
  },
  {
   "cell_type": "code",
   "execution_count": 18,
   "metadata": {
    "ExecuteTime": {
     "end_time": "2021-06-15T02:05:01.060688Z",
     "start_time": "2021-06-15T02:05:00.926260Z"
    }
   },
   "outputs": [
    {
     "data": {
      "text/plain": [
       "0.14531949162483215"
      ]
     },
     "execution_count": 18,
     "metadata": {},
     "output_type": "execute_result"
    }
   ],
   "source": [
    "uncertainties.mean()"
   ]
  },
  {
   "cell_type": "code",
   "execution_count": 19,
   "metadata": {
    "ExecuteTime": {
     "end_time": "2021-06-15T02:05:01.072421Z",
     "start_time": "2021-06-15T02:05:01.061465Z"
    }
   },
   "outputs": [
    {
     "data": {
      "text/plain": [
       "[{'accuracy': {'mae': 0.33880383734038305,\n",
       "   'rmse': 0.6863446648592074,\n",
       "   'mdae': 0.06272993981838226,\n",
       "   'marpd': 148.13482658132244,\n",
       "   'r2': 0.38366277611131727,\n",
       "   'corr': 0.6381710485850238},\n",
       "  'avg_calibration': {'rms_cal': 0.10135241924598293,\n",
       "   'ma_cal': 0.08396220267188012,\n",
       "   'miscal_area': 0.08480017864182088},\n",
       "  'adv_group_calibration': {'ma_adv_group_cal': {'group_sizes': array([0.        , 0.11111111, 0.22222222, 0.33333333, 0.44444444,\n",
       "           0.55555556, 0.66666667, 0.77777778, 0.88888889, 1.        ]),\n",
       "    'adv_group_cali_mean': array([0.43801515, 0.13527645, 0.11223977, 0.10264779, 0.10101123,\n",
       "           0.09757431, 0.0934084 , 0.0892574 , 0.08845365, 0.0839622 ]),\n",
       "    'adv_group_cali_stderr': array([0.04633965, 0.02141775, 0.01206075, 0.0045981 , 0.00586519,\n",
       "           0.00445835, 0.0036416 , 0.00254372, 0.00143897, 0.        ])},\n",
       "   'rms_adv_group_cal': {'group_sizes': array([0.        , 0.11111111, 0.22222222, 0.33333333, 0.44444444,\n",
       "           0.55555556, 0.66666667, 0.77777778, 0.88888889, 1.        ]),\n",
       "    'adv_group_cali_mean': array([0.50956667, 0.16461303, 0.13491324, 0.12654941, 0.12226325,\n",
       "           0.11729609, 0.11307777, 0.11274015, 0.10559823, 0.10135242]),\n",
       "    'adv_group_cali_stderr': array([0.05660677, 0.01836875, 0.01095689, 0.01011505, 0.00629984,\n",
       "           0.00272036, 0.00600102, 0.00246138, 0.00144683, 0.        ])}},\n",
       "  'sharpness': {'sharp': 0.19710912},\n",
       "  'scoring_rule': {'nll': 13.692935221075077,\n",
       "   'crps': 0.2874438075197866,\n",
       "   'check': 0.14452992605344844,\n",
       "   'interval': 2.206817861317664}},\n",
       " {'accuracy': {'mae': 0.2919106972956085,\n",
       "   'rmse': 0.648433120704427,\n",
       "   'mdae': 0.050059277564287186,\n",
       "   'marpd': 146.95019017651623,\n",
       "   'r2': 0.358325856935111,\n",
       "   'corr': 0.6198632391665471},\n",
       "  'avg_calibration': {'rms_cal': 0.042986011427192126,\n",
       "   'ma_cal': 0.03298142717497556,\n",
       "   'miscal_area': 0.03328767210898643},\n",
       "  'adv_group_calibration': {'ma_adv_group_cal': {'group_sizes': array([0.        , 0.11111111, 0.22222222, 0.33333333, 0.44444444,\n",
       "           0.55555556, 0.66666667, 0.77777778, 0.88888889, 1.        ]),\n",
       "    'adv_group_cali_mean': array([0.40117172, 0.10301914, 0.06945149, 0.06126475, 0.05572448,\n",
       "           0.05234921, 0.04211801, 0.04295136, 0.03741164, 0.03298143]),\n",
       "    'adv_group_cali_stderr': array([7.19548464e-02, 1.93207778e-02, 1.44544264e-02, 8.69022461e-03,\n",
       "           8.70326821e-03, 5.46634760e-03, 3.32685000e-03, 3.11503544e-03,\n",
       "           1.89018305e-03, 7.31423639e-18])},\n",
       "   'rms_adv_group_cal': {'group_sizes': array([0.        , 0.11111111, 0.22222222, 0.33333333, 0.44444444,\n",
       "           0.55555556, 0.66666667, 0.77777778, 0.88888889, 1.        ]),\n",
       "    'adv_group_cali_mean': array([0.46682921, 0.11750784, 0.09255573, 0.0705339 , 0.06114444,\n",
       "           0.05620054, 0.05368999, 0.04882582, 0.04736886, 0.04298601]),\n",
       "    'adv_group_cali_stderr': array([7.88806955e-02, 2.34929397e-02, 2.38631982e-02, 6.87066689e-03,\n",
       "           4.69037628e-03, 4.48836719e-03, 2.43202600e-03, 2.60872271e-03,\n",
       "           1.19581314e-03, 7.31423639e-18])}},\n",
       "  'sharpness': {'sharp': 0.27003023},\n",
       "  'scoring_rule': {'nll': 3.8436619352769,\n",
       "   'crps': 0.2333122569921356,\n",
       "   'check': 0.1174605379851714,\n",
       "   'interval': 1.6061239467453}},\n",
       " {'accuracy': {'mae': 0.3258396769029299,\n",
       "   'rmse': 0.6930178536327312,\n",
       "   'mdae': 0.04762646303176865,\n",
       "   'marpd': 148.36591529445244,\n",
       "   'r2': 0.45703430309238824,\n",
       "   'corr': 0.68094706358489},\n",
       "  'avg_calibration': {'rms_cal': 0.18605528478004685,\n",
       "   'ma_cal': 0.17381231671554256,\n",
       "   'miscal_area': 0.1755679966823662},\n",
       "  'adv_group_calibration': {'ma_adv_group_cal': {'group_sizes': array([0.        , 0.11111111, 0.22222222, 0.33333333, 0.44444444,\n",
       "           0.55555556, 0.66666667, 0.77777778, 0.88888889, 1.        ]),\n",
       "    'adv_group_cali_mean': array([0.44770202, 0.23723684, 0.21252632, 0.20479825, 0.201375  ,\n",
       "           0.19298942, 0.19102203, 0.18735094, 0.18076898, 0.17381232]),\n",
       "    'adv_group_cali_stderr': array([0.05637279, 0.02041025, 0.02170231, 0.01107713, 0.00950862,\n",
       "           0.00559565, 0.0065871 , 0.00479388, 0.00190253, 0.        ])},\n",
       "   'rms_adv_group_cal': {'group_sizes': array([0.        , 0.11111111, 0.22222222, 0.33333333, 0.44444444,\n",
       "           0.55555556, 0.66666667, 0.77777778, 0.88888889, 1.        ]),\n",
       "    'adv_group_cali_mean': array([0.50737822, 0.25885142, 0.23377714, 0.22790762, 0.21709127,\n",
       "           0.21338385, 0.20102878, 0.19872359, 0.19668865, 0.18605528]),\n",
       "    'adv_group_cali_stderr': array([5.50822076e-02, 1.50073342e-02, 1.47397459e-02, 1.30263634e-02,\n",
       "           9.56030097e-03, 8.22739743e-03, 8.68481311e-03, 3.45240214e-03,\n",
       "           4.39225492e-03, 2.92569456e-17])}},\n",
       "  'sharpness': {'sharp': 0.241773},\n",
       "  'scoring_rule': {'nll': 85.70538210982407,\n",
       "   'crps': 0.27084357379806473,\n",
       "   'check': 0.13626825199462414,\n",
       "   'interval': 2.013295286395315}},\n",
       " {'accuracy': {'mae': 0.27448574021336836,\n",
       "   'rmse': 0.6728863080988389,\n",
       "   'mdae': 0.026670139019191463,\n",
       "   'marpd': 151.96071364458658,\n",
       "   'r2': 0.30639493200655776,\n",
       "   'corr': 0.5864300292150868},\n",
       "  'avg_calibration': {'rms_cal': 0.117946272305527,\n",
       "   'ma_cal': 0.09868686868686873,\n",
       "   'miscal_area': 0.09963326346107987},\n",
       "  'adv_group_calibration': {'ma_adv_group_cal': {'group_sizes': array([0.        , 0.11111111, 0.22222222, 0.33333333, 0.44444444,\n",
       "           0.55555556, 0.66666667, 0.77777778, 0.88888889, 1.        ]),\n",
       "    'adv_group_cali_mean': array([0.37304545, 0.16041919, 0.13420999, 0.12713981, 0.1214106 ,\n",
       "           0.11544156, 0.11310132, 0.10974621, 0.10510389, 0.09868687]),\n",
       "    'adv_group_cali_stderr': array([0.09875328, 0.02460227, 0.01472582, 0.0115075 , 0.00435221,\n",
       "           0.00742662, 0.00673585, 0.00378813, 0.00292968, 0.        ])},\n",
       "   'rms_adv_group_cal': {'group_sizes': array([0.        , 0.11111111, 0.22222222, 0.33333333, 0.44444444,\n",
       "           0.55555556, 0.66666667, 0.77777778, 0.88888889, 1.        ]),\n",
       "    'adv_group_cali_mean': array([0.44911123, 0.17879935, 0.15841363, 0.1407639 , 0.13580468,\n",
       "           0.13732718, 0.12918216, 0.12838849, 0.12530131, 0.11794627]),\n",
       "    'adv_group_cali_stderr': array([1.26354747e-01, 2.43338627e-02, 1.73814720e-02, 5.33253937e-03,\n",
       "           7.71210291e-03, 6.91726654e-03, 3.59453262e-03, 3.23482041e-03,\n",
       "           3.94091156e-03, 1.46284728e-17])}},\n",
       "  'sharpness': {'sharp': 0.22750443},\n",
       "  'scoring_rule': {'nll': 705.0320494553188,\n",
       "   'crps': 0.22128565535501984,\n",
       "   'check': 0.11136222550297996,\n",
       "   'interval': 1.5726684245648626}},\n",
       " {'accuracy': {'mae': 0.19796235404598825,\n",
       "   'rmse': 0.4208251743435871,\n",
       "   'mdae': 0.008499376475811005,\n",
       "   'marpd': 156.45380959313232,\n",
       "   'r2': 0.47055616334103356,\n",
       "   'corr': 0.723674695160738},\n",
       "  'avg_calibration': {'rms_cal': 0.1125150200912524,\n",
       "   'ma_cal': 0.09761616161616163,\n",
       "   'miscal_area': 0.09858753510205794},\n",
       "  'adv_group_calibration': {'ma_adv_group_cal': {'group_sizes': array([0.        , 0.11111111, 0.22222222, 0.33333333, 0.44444444,\n",
       "           0.55555556, 0.66666667, 0.77777778, 0.88888889, 1.        ]),\n",
       "    'adv_group_cali_mean': array([0.42044444, 0.16993461, 0.13843674, 0.12533262, 0.12433735,\n",
       "           0.11645214, 0.11235024, 0.11021717, 0.1045007 , 0.09761616]),\n",
       "    'adv_group_cali_stderr': array([0.04961297, 0.01802877, 0.01836522, 0.01127457, 0.00849983,\n",
       "           0.00670253, 0.00578808, 0.00303569, 0.00267823, 0.        ])},\n",
       "   'rms_adv_group_cal': {'group_sizes': array([0.        , 0.11111111, 0.22222222, 0.33333333, 0.44444444,\n",
       "           0.55555556, 0.66666667, 0.77777778, 0.88888889, 1.        ]),\n",
       "    'adv_group_cali_mean': array([0.47966474, 0.1822641 , 0.15609377, 0.14339196, 0.14436108,\n",
       "           0.13401076, 0.12982479, 0.1248333 , 0.12147111, 0.11251502]),\n",
       "    'adv_group_cali_stderr': array([0.04719021, 0.02567741, 0.01475992, 0.01035645, 0.00966882,\n",
       "           0.0066036 , 0.0067528 , 0.00652297, 0.00332115, 0.        ])}},\n",
       "  'sharpness': {'sharp': 0.21701263},\n",
       "  'scoring_rule': {'nll': 75.57387652829262,\n",
       "   'crps': 0.15580451668451514,\n",
       "   'check': 0.07847656767188457,\n",
       "   'interval': 1.0366767168503714}}]"
      ]
     },
     "execution_count": 19,
     "metadata": {},
     "output_type": "execute_result"
    }
   ],
   "source": [
    "metricss"
   ]
  },
  {
   "cell_type": "markdown",
   "metadata": {},
   "source": [
    "#### Conclusion"
   ]
  },
  {
   "cell_type": "markdown",
   "metadata": {},
   "source": [
    "Relative percentage change of the error compared to MODNet_exp_GA reference: 18%"
   ]
  }
 ],
 "metadata": {
  "kernelspec": {
   "display_name": "Python [conda env:modnet]",
   "language": "python",
   "name": "conda-env-modnet-py"
  },
  "language_info": {
   "codemirror_mode": {
    "name": "ipython",
    "version": 3
   },
   "file_extension": ".py",
   "mimetype": "text/x-python",
   "name": "python",
   "nbconvert_exporter": "python",
   "pygments_lexer": "ipython3",
   "version": "3.8.5"
  }
 },
 "nbformat": 4,
 "nbformat_minor": 4
}
