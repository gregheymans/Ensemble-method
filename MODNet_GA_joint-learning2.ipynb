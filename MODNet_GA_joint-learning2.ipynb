{
 "cells": [
  {
   "cell_type": "markdown",
   "metadata": {
    "ExecuteTime": {
     "end_time": "2021-02-03T11:45:15.346116Z",
     "start_time": "2021-02-03T11:45:15.273111Z"
    }
   },
   "source": [
    "# MODNet on experimental dataset "
   ]
  },
  {
   "cell_type": "markdown",
   "metadata": {},
   "source": [
    "MODNet model with the GA, and doing joint learning on the experimental and PBE band gaps, and their difference."
   ]
  },
  {
   "cell_type": "code",
   "execution_count": 1,
   "metadata": {
    "ExecuteTime": {
     "end_time": "2021-06-14T15:43:59.955494Z",
     "start_time": "2021-06-14T15:43:59.943814Z"
    }
   },
   "outputs": [],
   "source": [
    "def setup_threading():\n",
    "    import os\n",
    "    os.environ['OPENBLAS_NUM_THREADS'] = '1'\n",
    "    os.environ['MKL_NUM_THREADS'] = '1'\n",
    "    os.environ[\"OMP_NUM_THREADS\"] = \"1\"\n",
    "    os.environ[\"TF_NUM_INTRAOP_THREADS\"] = \"1\"\n",
    "    os.environ[\"TF_NUM_INTEROP_THREADS\"] = \"1\"\n",
    "    os.environ[\"CUDA_VISIBLE_DEVICES\"] = \"-1\""
   ]
  },
  {
   "cell_type": "code",
   "execution_count": 2,
   "metadata": {
    "ExecuteTime": {
     "end_time": "2021-06-14T15:44:00.086556Z",
     "start_time": "2021-06-14T15:44:00.083535Z"
    }
   },
   "outputs": [],
   "source": [
    "setup_threading()"
   ]
  },
  {
   "cell_type": "code",
   "execution_count": 3,
   "metadata": {
    "ExecuteTime": {
     "end_time": "2021-06-14T15:44:05.365376Z",
     "start_time": "2021-06-14T15:44:00.286839Z"
    }
   },
   "outputs": [
    {
     "name": "stdout",
     "output_type": "stream",
     "text": [
      "\n",
      "If you use the ChemEnv tool for your research, please consider citing the following reference(s) :\n",
      "==================================================================================================\n",
      "David Waroquiers, Xavier Gonze, Gian-Marco Rignanese, Cathrin Welker-Nieuwoudt, Frank Rosowski,\n",
      "Michael Goebel, Stephan Schenk, Peter Degelmann, Rute Andre, Robert Glaum, and Geoffroy Hautier,\n",
      "\"Statistical analysis of coordination environments in oxides\",\n",
      "Chem. Mater., 2017, 29 (19), pp 8346-8360,\n",
      "DOI: 10.1021/acs.chemmater.7b02766\n",
      "\n"
     ]
    }
   ],
   "source": [
    "from modnet.preprocessing import MODData\n",
    "from modnet.models.vanilla import MODNetModel\n",
    "from modnet.hyper_opt.fit_genetic import FitGenetic\n",
    "import numpy as np\n",
    "import os\n",
    "import copy\n",
    "\n",
    "from collections import defaultdict\n",
    "import itertools\n",
    "import os\n",
    "import pandas as pd\n",
    "import matplotlib.pyplot as plt \n",
    "from IPython.display import Markdown\n",
    "from matminer.datasets import load_dataset, get_all_dataset_info\n",
    "from pymatgen.core import Composition\n",
    "\n",
    "from modnet.featurizers import MODFeaturizer\n",
    "from modnet.featurizers.presets import DeBreuck2020Featurizer\n",
    "\n",
    "os.environ[\"CUDA_VISIBLE_DEVICES\"] = \"1\""
   ]
  },
  {
   "cell_type": "code",
   "execution_count": 4,
   "metadata": {
    "ExecuteTime": {
     "end_time": "2021-06-14T15:44:05.372129Z",
     "start_time": "2021-06-14T15:44:05.366653Z"
    }
   },
   "outputs": [],
   "source": [
    "from sklearn.model_selection import KFold\n",
    "from modnet.preprocessing import MODData\n",
    "\n",
    "def shuffle_MD(data,random_state=10):\n",
    "    data = copy.deepcopy(data)\n",
    "    ids = data.df_targets.sample(frac=1,random_state=random_state).index\n",
    "    data.df_featurized = data.df_featurized.loc[ids]\n",
    "    data.df_targets = data.df_targets.loc[ids]\n",
    "    data.df_structure = data.df_structure.loc[ids]\n",
    "    \n",
    "    return data\n",
    "\n",
    "def MDKsplit(data,n_splits=5,random_state=10):\n",
    "    data = shuffle_MD(data,random_state=random_state)\n",
    "    ids = np.array(data.structure_ids)\n",
    "    kf = KFold(n_splits=n_splits,shuffle=True,random_state=random_state)\n",
    "    folds = []\n",
    "    for train_idx, val_idx in kf.split(ids):\n",
    "        data_train = MODData(data.df_structure.iloc[train_idx]['structure'].values,data.df_targets.iloc[train_idx].values,target_names=data.df_targets.columns,structure_ids=ids[train_idx])\n",
    "        data_train.df_featurized = data.df_featurized.iloc[train_idx]\n",
    "        #data_train.optimal_features = data.optimal_features\n",
    "        \n",
    "        data_val = MODData(data.df_structure.iloc[val_idx]['structure'].values,data.df_targets.iloc[val_idx].values,target_names=data.df_targets.columns,structure_ids=ids[val_idx])\n",
    "        data_val.df_featurized = data.df_featurized.iloc[val_idx]\n",
    "        #data_val.optimal_features = data.optimal_features\n",
    "\n",
    "        folds.append((data_train,data_val))\n",
    "        \n",
    "    return folds"
   ]
  },
  {
   "cell_type": "code",
   "execution_count": 5,
   "metadata": {
    "ExecuteTime": {
     "end_time": "2021-06-14T15:44:07.868444Z",
     "start_time": "2021-06-14T15:44:05.373359Z"
    }
   },
   "outputs": [
    {
     "name": "stdout",
     "output_type": "stream",
     "text": [
      "2021-06-14 17:44:07,236 - modnet - INFO - Loaded <modnet.preprocessing.MODData object at 0x7f3e1ffb6d30> object, created with modnet version <=0.1.7\n",
      "2021-06-14 17:44:07,865 - modnet - INFO - Loaded <modnet.preprocessing.MODData object at 0x7f3e94e40430> object, created with modnet version <=0.1.7\n"
     ]
    }
   ],
   "source": [
    "md = MODData.load('exp_gap_all')\n",
    "df = pd.read_pickle('df_exp_cleaned.pkl')\n",
    "md_joint = MODData.load('exp_pbe_joint')"
   ]
  },
  {
   "cell_type": "code",
   "execution_count": 6,
   "metadata": {
    "ExecuteTime": {
     "end_time": "2021-06-14T15:44:07.881160Z",
     "start_time": "2021-06-14T15:44:07.869862Z"
    }
   },
   "outputs": [
    {
     "data": {
      "text/html": [
       "<div>\n",
       "<style scoped>\n",
       "    .dataframe tbody tr th:only-of-type {\n",
       "        vertical-align: middle;\n",
       "    }\n",
       "\n",
       "    .dataframe tbody tr th {\n",
       "        vertical-align: top;\n",
       "    }\n",
       "\n",
       "    .dataframe thead th {\n",
       "        text-align: right;\n",
       "    }\n",
       "</style>\n",
       "<table border=\"1\" class=\"dataframe\">\n",
       "  <thead>\n",
       "    <tr style=\"text-align: right;\">\n",
       "      <th></th>\n",
       "      <th>exp_gap</th>\n",
       "      <th>pbe_gap</th>\n",
       "      <th>difference</th>\n",
       "    </tr>\n",
       "  </thead>\n",
       "  <tbody>\n",
       "    <tr>\n",
       "      <th>mp-12699</th>\n",
       "      <td>0.00</td>\n",
       "      <td>0.0000</td>\n",
       "      <td>0.0000</td>\n",
       "    </tr>\n",
       "    <tr>\n",
       "      <th>mp-559459</th>\n",
       "      <td>3.40</td>\n",
       "      <td>2.1704</td>\n",
       "      <td>1.2296</td>\n",
       "    </tr>\n",
       "    <tr>\n",
       "      <th>mp-21162</th>\n",
       "      <td>0.00</td>\n",
       "      <td>0.0000</td>\n",
       "      <td>0.0000</td>\n",
       "    </tr>\n",
       "    <tr>\n",
       "      <th>mp-1306</th>\n",
       "      <td>0.00</td>\n",
       "      <td>0.0000</td>\n",
       "      <td>0.0000</td>\n",
       "    </tr>\n",
       "    <tr>\n",
       "      <th>mp-15252</th>\n",
       "      <td>0.53</td>\n",
       "      <td>0.1049</td>\n",
       "      <td>0.4251</td>\n",
       "    </tr>\n",
       "    <tr>\n",
       "      <th>...</th>\n",
       "      <td>...</td>\n",
       "      <td>...</td>\n",
       "      <td>...</td>\n",
       "    </tr>\n",
       "    <tr>\n",
       "      <th>mp-556541</th>\n",
       "      <td>1.80</td>\n",
       "      <td>1.5135</td>\n",
       "      <td>0.2865</td>\n",
       "    </tr>\n",
       "    <tr>\n",
       "      <th>mp-2602</th>\n",
       "      <td>1.04</td>\n",
       "      <td>0.0000</td>\n",
       "      <td>1.0400</td>\n",
       "    </tr>\n",
       "    <tr>\n",
       "      <th>mp-30366</th>\n",
       "      <td>0.00</td>\n",
       "      <td>0.0000</td>\n",
       "      <td>0.0000</td>\n",
       "    </tr>\n",
       "    <tr>\n",
       "      <th>mp-3718</th>\n",
       "      <td>1.45</td>\n",
       "      <td>0.2418</td>\n",
       "      <td>1.2082</td>\n",
       "    </tr>\n",
       "    <tr>\n",
       "      <th>mp-3709</th>\n",
       "      <td>0.00</td>\n",
       "      <td>0.0000</td>\n",
       "      <td>0.0000</td>\n",
       "    </tr>\n",
       "  </tbody>\n",
       "</table>\n",
       "<p>1703 rows × 3 columns</p>\n",
       "</div>"
      ],
      "text/plain": [
       "           exp_gap  pbe_gap  difference\n",
       "mp-12699      0.00   0.0000      0.0000\n",
       "mp-559459     3.40   2.1704      1.2296\n",
       "mp-21162      0.00   0.0000      0.0000\n",
       "mp-1306       0.00   0.0000      0.0000\n",
       "mp-15252      0.53   0.1049      0.4251\n",
       "...            ...      ...         ...\n",
       "mp-556541     1.80   1.5135      0.2865\n",
       "mp-2602       1.04   0.0000      1.0400\n",
       "mp-30366      0.00   0.0000      0.0000\n",
       "mp-3718       1.45   0.2418      1.2082\n",
       "mp-3709       0.00   0.0000      0.0000\n",
       "\n",
       "[1703 rows x 3 columns]"
      ]
     },
     "execution_count": 6,
     "metadata": {},
     "output_type": "execute_result"
    }
   ],
   "source": [
    "md_joint.df_targets"
   ]
  },
  {
   "cell_type": "code",
   "execution_count": 7,
   "metadata": {
    "ExecuteTime": {
     "end_time": "2021-06-14T15:44:07.916847Z",
     "start_time": "2021-06-14T15:44:07.882153Z"
    }
   },
   "outputs": [
    {
     "data": {
      "text/html": [
       "<div>\n",
       "<style scoped>\n",
       "    .dataframe tbody tr th:only-of-type {\n",
       "        vertical-align: middle;\n",
       "    }\n",
       "\n",
       "    .dataframe tbody tr th {\n",
       "        vertical-align: top;\n",
       "    }\n",
       "\n",
       "    .dataframe thead th {\n",
       "        text-align: right;\n",
       "    }\n",
       "</style>\n",
       "<table border=\"1\" class=\"dataframe\">\n",
       "  <thead>\n",
       "    <tr style=\"text-align: right;\">\n",
       "      <th></th>\n",
       "      <th>structure</th>\n",
       "    </tr>\n",
       "    <tr>\n",
       "      <th>id</th>\n",
       "      <th></th>\n",
       "    </tr>\n",
       "  </thead>\n",
       "  <tbody>\n",
       "    <tr>\n",
       "      <th>mp-12699</th>\n",
       "      <td>[[ 0.13616363 -2.60631371  1.50340165] Ca, [-1...</td>\n",
       "    </tr>\n",
       "    <tr>\n",
       "      <th>mp-559459</th>\n",
       "      <td>[[2.14049282 6.43464803 1.76199846] Cs, [-0.70...</td>\n",
       "    </tr>\n",
       "    <tr>\n",
       "      <th>mp-21162</th>\n",
       "      <td>[[0. 0. 0.] Sr, [0.        2.5259875 2.5259875...</td>\n",
       "    </tr>\n",
       "    <tr>\n",
       "      <th>mp-1306</th>\n",
       "      <td>[[3.259129   1.88166243 1.15971025] Th, [ 3.25...</td>\n",
       "    </tr>\n",
       "    <tr>\n",
       "      <th>mp-15252</th>\n",
       "      <td>[[0.95531657 1.042239   0.86229681] Cu, [2.803...</td>\n",
       "    </tr>\n",
       "    <tr>\n",
       "      <th>...</th>\n",
       "      <td>...</td>\n",
       "    </tr>\n",
       "    <tr>\n",
       "      <th>mp-556541</th>\n",
       "      <td>[[0.         6.49363948 5.82657217] In, [ 0.  ...</td>\n",
       "    </tr>\n",
       "    <tr>\n",
       "      <th>mp-2602</th>\n",
       "      <td>[[3.023318 3.023318 3.023318] Nd, [0. 0. 0.] As]</td>\n",
       "    </tr>\n",
       "    <tr>\n",
       "      <th>mp-30366</th>\n",
       "      <td>[[4.51774558 1.37529211 4.32659015] Ca, [1.109...</td>\n",
       "    </tr>\n",
       "    <tr>\n",
       "      <th>mp-3718</th>\n",
       "      <td>[[2.0697935  0.         1.28932533] Th, [0.   ...</td>\n",
       "    </tr>\n",
       "    <tr>\n",
       "      <th>mp-3709</th>\n",
       "      <td>[[0. 0. 0.] Tb, [0.       1.983905 2.537711] C...</td>\n",
       "    </tr>\n",
       "  </tbody>\n",
       "</table>\n",
       "<p>1703 rows × 1 columns</p>\n",
       "</div>"
      ],
      "text/plain": [
       "                                                   structure\n",
       "id                                                          \n",
       "mp-12699   [[ 0.13616363 -2.60631371  1.50340165] Ca, [-1...\n",
       "mp-559459  [[2.14049282 6.43464803 1.76199846] Cs, [-0.70...\n",
       "mp-21162   [[0. 0. 0.] Sr, [0.        2.5259875 2.5259875...\n",
       "mp-1306    [[3.259129   1.88166243 1.15971025] Th, [ 3.25...\n",
       "mp-15252   [[0.95531657 1.042239   0.86229681] Cu, [2.803...\n",
       "...                                                      ...\n",
       "mp-556541  [[0.         6.49363948 5.82657217] In, [ 0.  ...\n",
       "mp-2602     [[3.023318 3.023318 3.023318] Nd, [0. 0. 0.] As]\n",
       "mp-30366   [[4.51774558 1.37529211 4.32659015] Ca, [1.109...\n",
       "mp-3718    [[2.0697935  0.         1.28932533] Th, [0.   ...\n",
       "mp-3709    [[0. 0. 0.] Tb, [0.       1.983905 2.537711] C...\n",
       "\n",
       "[1703 rows x 1 columns]"
      ]
     },
     "execution_count": 7,
     "metadata": {},
     "output_type": "execute_result"
    }
   ],
   "source": [
    "md_joint.df_structure"
   ]
  },
  {
   "cell_type": "code",
   "execution_count": 8,
   "metadata": {
    "ExecuteTime": {
     "end_time": "2021-06-14T23:19:22.255042Z",
     "start_time": "2021-06-14T15:44:07.917875Z"
    },
    "scrolled": true
   },
   "outputs": [
    {
     "name": "stdout",
     "output_type": "stream",
     "text": [
      "2021-06-14 17:44:08,036 - modnet - INFO - Loaded DeBreuck2020Featurizer featurizer.\n",
      "2021-06-14 17:44:08,059 - modnet - INFO - Loaded DeBreuck2020Featurizer featurizer.\n",
      "2021-06-14 17:44:08,069 - modnet - INFO - Loaded DeBreuck2020Featurizer featurizer.\n",
      "2021-06-14 17:44:08,085 - modnet - INFO - Loaded DeBreuck2020Featurizer featurizer.\n",
      "2021-06-14 17:44:08,095 - modnet - INFO - Loaded DeBreuck2020Featurizer featurizer.\n",
      "2021-06-14 17:44:08,111 - modnet - INFO - Loaded DeBreuck2020Featurizer featurizer.\n",
      "2021-06-14 17:44:08,121 - modnet - INFO - Loaded DeBreuck2020Featurizer featurizer.\n",
      "2021-06-14 17:44:08,147 - modnet - INFO - Loaded DeBreuck2020Featurizer featurizer.\n",
      "2021-06-14 17:44:08,160 - modnet - INFO - Loaded DeBreuck2020Featurizer featurizer.\n",
      "2021-06-14 17:44:08,179 - modnet - INFO - Loaded DeBreuck2020Featurizer featurizer.\n",
      "2021-06-14 17:44:09,053 - modnet - INFO - Loaded <modnet.preprocessing.MODData object at 0x7f3e0db3edc0> object, created with modnet version 0.1.9\n",
      "2021-06-14 17:44:09,054 - modnet - INFO - Generation number 0\n",
      "2021-06-14 17:44:10,551 - modnet - INFO - Multiprocessing on 10 cores. Total of 128 cores available.\n"
     ]
    },
    {
     "name": "stderr",
     "output_type": "stream",
     "text": [
      "100%|██████████| 100/100 [14:08<00:00,  8.49s/it]"
     ]
    },
    {
     "name": "stdout",
     "output_type": "stream",
     "text": [
      "2021-06-14 17:58:19,170 - modnet - INFO - Loss per individual: ind 0: 0.600 \tind 1: 0.634 \tind 2: 0.619 \tind 3: 0.687 \tind 4: 0.655 \tind 5: 0.721 \tind 6: 0.597 \tind 7: 0.598 \tind 8: 0.668 \tind 9: 0.647 \tind 10: 0.651 \tind 11: 0.592 \tind 12: 0.635 \tind 13: 0.632 \tind 14: 0.758 \tind 15: 0.668 \tind 16: 0.623 \tind 17: 0.670 \tind 18: 0.639 \tind 19: 0.658 \t\n"
     ]
    },
    {
     "name": "stderr",
     "output_type": "stream",
     "text": [
      "\n"
     ]
    },
    {
     "name": "stdout",
     "output_type": "stream",
     "text": [
      "2021-06-14 17:58:20,876 - modnet - INFO - Generation number 1\n",
      "2021-06-14 17:58:23,789 - modnet - INFO - Multiprocessing on 10 cores. Total of 128 cores available.\n"
     ]
    },
    {
     "name": "stderr",
     "output_type": "stream",
     "text": [
      "100%|██████████| 100/100 [12:48<00:00,  7.68s/it]"
     ]
    },
    {
     "name": "stdout",
     "output_type": "stream",
     "text": [
      "2021-06-14 18:11:11,981 - modnet - INFO - Loss per individual: ind 0: 0.655 \tind 1: 0.590 \tind 2: 0.681 \tind 3: 0.612 \tind 4: 0.637 \tind 5: 0.690 \tind 6: 0.704 \tind 7: 0.614 \tind 8: 0.676 \tind 9: 0.601 \tind 10: 0.600 \tind 11: 0.609 \tind 12: 0.613 \tind 13: 0.650 \tind 14: 0.631 \tind 15: 0.578 \tind 16: 0.643 \tind 17: 0.584 \tind 18: 0.708 \tind 19: 0.628 \t\n"
     ]
    },
    {
     "name": "stderr",
     "output_type": "stream",
     "text": [
      "\n"
     ]
    },
    {
     "name": "stdout",
     "output_type": "stream",
     "text": [
      "2021-06-14 18:11:13,804 - modnet - INFO - Generation number 2\n",
      "2021-06-14 18:11:16,857 - modnet - INFO - Multiprocessing on 10 cores. Total of 128 cores available.\n"
     ]
    },
    {
     "name": "stderr",
     "output_type": "stream",
     "text": [
      "100%|██████████| 100/100 [13:21<00:00,  8.01s/it]"
     ]
    },
    {
     "name": "stdout",
     "output_type": "stream",
     "text": [
      "2021-06-14 18:24:38,117 - modnet - INFO - Loss per individual: ind 0: 0.711 \tind 1: 0.580 \tind 2: 0.619 \tind 3: 0.615 \tind 4: 0.613 \tind 5: 0.665 \tind 6: 0.653 \tind 7: 0.668 \tind 8: 0.617 \tind 9: 0.683 \tind 10: 0.626 \tind 11: 0.598 \tind 12: 0.596 \tind 13: 0.628 \tind 14: 0.638 \tind 15: 0.595 \tind 16: 0.631 \tind 17: 0.657 \tind 18: 0.615 \tind 19: 0.628 \t\n"
     ]
    },
    {
     "name": "stderr",
     "output_type": "stream",
     "text": [
      "\n"
     ]
    },
    {
     "name": "stdout",
     "output_type": "stream",
     "text": [
      "2021-06-14 18:24:39,826 - modnet - INFO - Generation number 3\n",
      "2021-06-14 18:24:42,895 - modnet - INFO - Multiprocessing on 10 cores. Total of 128 cores available.\n"
     ]
    },
    {
     "name": "stderr",
     "output_type": "stream",
     "text": [
      "100%|██████████| 100/100 [15:21<00:00,  9.22s/it]"
     ]
    },
    {
     "name": "stdout",
     "output_type": "stream",
     "text": [
      "2021-06-14 18:40:04,597 - modnet - INFO - Loss per individual: ind 0: 0.604 \tind 1: 0.641 \tind 2: 0.615 \tind 3: 0.575 \tind 4: 0.627 \tind 5: 0.673 \tind 6: 0.621 \tind 7: 0.645 \tind 8: 0.635 \tind 9: 0.619 \tind 10: 0.651 \tind 11: 0.626 \tind 12: 0.630 \tind 13: 0.608 \tind 14: 0.600 \tind 15: 0.615 \tind 16: 0.632 \tind 17: 0.615 \tind 18: 0.609 \tind 19: 0.617 \t\n"
     ]
    },
    {
     "name": "stderr",
     "output_type": "stream",
     "text": [
      "\n"
     ]
    },
    {
     "name": "stdout",
     "output_type": "stream",
     "text": [
      "2021-06-14 18:40:05,980 - modnet - INFO - Generation number 4\n",
      "2021-06-14 18:40:08,577 - modnet - INFO - Multiprocessing on 10 cores. Total of 128 cores available.\n"
     ]
    },
    {
     "name": "stderr",
     "output_type": "stream",
     "text": [
      "100%|██████████| 100/100 [11:52<00:00,  7.12s/it]"
     ]
    },
    {
     "name": "stdout",
     "output_type": "stream",
     "text": [
      "2021-06-14 18:52:00,884 - modnet - INFO - Loss per individual: ind 0: 0.605 \tind 1: 0.622 \tind 2: 0.669 \tind 3: 0.618 \tind 4: 0.655 \tind 5: 0.632 \tind 6: 0.625 \tind 7: 0.629 \tind 8: 0.648 \tind 9: 0.629 \tind 10: 0.610 \tind 11: 0.613 \tind 12: 0.660 \tind 13: 0.587 \tind 14: 0.665 \tind 15: 0.591 \tind 16: 0.697 \tind 17: 0.610 \tind 18: 0.703 \tind 19: 0.606 \t\n"
     ]
    },
    {
     "name": "stderr",
     "output_type": "stream",
     "text": [
      "\n"
     ]
    },
    {
     "name": "stdout",
     "output_type": "stream",
     "text": [
      "2021-06-14 18:52:02,767 - modnet - INFO - Generation number 5\n",
      "2021-06-14 18:52:06,260 - modnet - INFO - Multiprocessing on 10 cores. Total of 128 cores available.\n"
     ]
    },
    {
     "name": "stderr",
     "output_type": "stream",
     "text": [
      "100%|██████████| 100/100 [18:28<00:00, 11.08s/it]"
     ]
    },
    {
     "name": "stdout",
     "output_type": "stream",
     "text": [
      "2021-06-14 19:10:34,591 - modnet - INFO - Loss per individual: ind 0: 0.689 \tind 1: 0.575 \tind 2: 0.608 \tind 3: 0.632 \tind 4: 0.625 \tind 5: 0.738 \tind 6: 0.609 \tind 7: 0.647 \tind 8: 0.595 \tind 9: 0.633 \tind 10: 0.613 \tind 11: 0.606 \tind 12: 0.670 \tind 13: 0.796 \tind 14: 0.605 \tind 15: 0.609 \tind 16: 0.604 \tind 17: 0.683 \tind 18: 0.625 \tind 19: 0.577 \t\n"
     ]
    },
    {
     "name": "stderr",
     "output_type": "stream",
     "text": [
      "\n"
     ]
    },
    {
     "name": "stdout",
     "output_type": "stream",
     "text": [
      "2021-06-14 19:10:36,249 - modnet - INFO - Generation number 6\n",
      "2021-06-14 19:10:39,425 - modnet - INFO - Multiprocessing on 10 cores. Total of 128 cores available.\n"
     ]
    },
    {
     "name": "stderr",
     "output_type": "stream",
     "text": [
      "100%|██████████| 100/100 [17:31<00:00, 10.52s/it]"
     ]
    },
    {
     "name": "stdout",
     "output_type": "stream",
     "text": [
      "2021-06-14 19:28:11,036 - modnet - INFO - Loss per individual: ind 0: 0.632 \tind 1: 0.627 \tind 2: 0.640 \tind 3: 0.588 \tind 4: 0.594 \tind 5: 0.675 \tind 6: 0.599 \tind 7: 0.631 \tind 8: 0.625 \tind 9: 0.624 \tind 10: 0.647 \tind 11: 0.660 \tind 12: 0.621 \tind 13: 0.694 \tind 14: 0.636 \tind 15: 0.605 \tind 16: 0.667 \tind 17: 0.649 \tind 18: 0.765 \tind 19: 0.649 \t\n"
     ]
    },
    {
     "name": "stderr",
     "output_type": "stream",
     "text": [
      "\n"
     ]
    },
    {
     "name": "stdout",
     "output_type": "stream",
     "text": [
      "2021-06-14 19:28:12,763 - modnet - INFO - Generation number 7\n",
      "2021-06-14 19:28:16,212 - modnet - INFO - Multiprocessing on 10 cores. Total of 128 cores available.\n"
     ]
    },
    {
     "name": "stderr",
     "output_type": "stream",
     "text": [
      "100%|██████████| 100/100 [13:34<00:00,  8.14s/it]"
     ]
    },
    {
     "name": "stdout",
     "output_type": "stream",
     "text": [
      "2021-06-14 19:41:50,528 - modnet - INFO - Loss per individual: ind 0: 0.604 \tind 1: 0.619 \tind 2: 0.605 \tind 3: 0.691 \tind 4: 0.640 \tind 5: 0.656 \tind 6: 0.601 \tind 7: 0.616 \tind 8: 0.618 \tind 9: 0.651 \tind 10: 0.637 \tind 11: 0.647 \tind 12: 0.649 \tind 13: 0.618 \tind 14: 0.645 \tind 15: 0.635 \tind 16: 0.607 \tind 17: 0.688 \tind 18: 0.625 \tind 19: 0.605 \t\n"
     ]
    },
    {
     "name": "stderr",
     "output_type": "stream",
     "text": [
      "\n"
     ]
    },
    {
     "name": "stdout",
     "output_type": "stream",
     "text": [
      "2021-06-14 19:41:52,111 - modnet - INFO - Generation number 8\n",
      "2021-06-14 19:41:55,341 - modnet - INFO - Multiprocessing on 10 cores. Total of 128 cores available.\n"
     ]
    },
    {
     "name": "stderr",
     "output_type": "stream",
     "text": [
      "100%|██████████| 100/100 [12:26<00:00,  7.46s/it]"
     ]
    },
    {
     "name": "stdout",
     "output_type": "stream",
     "text": [
      "2021-06-14 19:54:21,419 - modnet - INFO - Loss per individual: ind 0: 0.621 \tind 1: 0.638 \tind 2: 0.595 \tind 3: 0.675 \tind 4: 0.693 \tind 5: 0.739 \tind 6: 0.630 \tind 7: 0.687 \tind 8: 0.755 \tind 9: 0.715 \tind 10: 0.580 \tind 11: 0.610 \tind 12: 0.661 \tind 13: 0.599 \tind 14: 0.635 \tind 15: 0.630 \tind 16: 0.573 \tind 17: 0.595 \tind 18: 0.659 \tind 19: 0.574 \t\n"
     ]
    },
    {
     "name": "stderr",
     "output_type": "stream",
     "text": [
      "\n"
     ]
    },
    {
     "name": "stdout",
     "output_type": "stream",
     "text": [
      "2021-06-14 19:54:23,069 - modnet - INFO - Generation number 9\n",
      "2021-06-14 19:54:26,702 - modnet - INFO - Multiprocessing on 10 cores. Total of 128 cores available.\n"
     ]
    },
    {
     "name": "stderr",
     "output_type": "stream",
     "text": [
      "100%|██████████| 100/100 [14:07<00:00,  8.48s/it]"
     ]
    },
    {
     "name": "stdout",
     "output_type": "stream",
     "text": [
      "2021-06-14 20:08:34,276 - modnet - INFO - Loss per individual: ind 0: 0.638 \tind 1: 0.628 \tind 2: 0.629 \tind 3: 0.639 \tind 4: 0.646 \tind 5: 0.582 \tind 6: 0.652 \tind 7: 0.622 \tind 8: 0.613 \tind 9: 0.614 \tind 10: 0.642 \tind 11: 0.651 \tind 12: 0.634 \tind 13: 0.674 \tind 14: 0.645 \tind 15: 0.632 \tind 16: 0.719 \tind 17: 0.698 \tind 18: 0.643 \tind 19: 0.632 \t\n"
     ]
    },
    {
     "name": "stderr",
     "output_type": "stream",
     "text": [
      "\n"
     ]
    },
    {
     "name": "stdout",
     "output_type": "stream",
     "text": [
      " (1/n) Calculating accuracy metrics\n",
      " (2/n) Calculating average calibration metrics\n"
     ]
    },
    {
     "name": "stderr",
     "output_type": "stream",
     "text": [
      " 10%|█         | 1/10 [00:00<00:01,  6.23it/s]"
     ]
    },
    {
     "name": "stdout",
     "output_type": "stream",
     "text": [
      " (3/n) Calculating adversarial group calibration metrics\n",
      "  [1/2] for mean absolute calibration error\n",
      "Measuring adversarial group calibration by spanning group size between 0.0 and 1.0, in 10 intervals\n"
     ]
    },
    {
     "name": "stderr",
     "output_type": "stream",
     "text": [
      "100%|██████████| 10/10 [00:01<00:00,  5.54it/s]\n",
      " 10%|█         | 1/10 [00:00<00:01,  6.02it/s]"
     ]
    },
    {
     "name": "stdout",
     "output_type": "stream",
     "text": [
      "  [2/2] for root mean squared calibration error\n",
      "Measuring adversarial group calibration by spanning group size between 0.0 and 1.0, in 10 intervals\n"
     ]
    },
    {
     "name": "stderr",
     "output_type": "stream",
     "text": [
      "100%|██████████| 10/10 [00:01<00:00,  5.39it/s]\n"
     ]
    },
    {
     "name": "stdout",
     "output_type": "stream",
     "text": [
      " (4/n) Calculating sharpness metrics\n",
      " (n/n) Calculating proper scoring rule metrics\n",
      "**Finished Calculating All Metrics**\n",
      "\n",
      "\n",
      "===================== Accuracy Metrics =====================\n",
      "  MAE           0.367\n",
      "  RMSE          0.770\n",
      "  MDAE          0.065\n",
      "  MARPD         133.590\n",
      "  R2            0.770\n",
      "  Correlation   0.884\n",
      "=============== Average Calibration Metrics ================\n",
      "  Root-mean-squared Calibration Error   0.121\n",
      "  Mean-absolute Calibration Error       0.106\n",
      "  Miscalibration Area                   0.107\n",
      "========== Adversarial Group Calibration Metrics ===========\n",
      "  Mean-absolute Adversarial Group Calibration Error\n",
      "     Group Size: 0.11 -- Calibration Error: 0.169\n",
      "     Group Size: 0.56 -- Calibration Error: 0.125\n",
      "     Group Size: 1.00 -- Calibration Error: 0.106\n",
      "  Root-mean-squared Adversarial Group Calibration Error\n",
      "     Group Size: 0.11 -- Calibration Error: 0.195\n",
      "     Group Size: 0.56 -- Calibration Error: 0.143\n",
      "     Group Size: 1.00 -- Calibration Error: 0.121\n",
      "==================== Sharpness Metrics =====================\n",
      "  Sharpness   0.396\n",
      "=================== Scoring Rule Metrics ===================\n",
      "  Negative-log-likelihood   1.320\n",
      "  CRPS                      0.290\n",
      "  Check Score               0.146\n",
      "  Interval Score            1.900\n",
      "MAE =\n",
      "0.3667530573177938\n",
      "uncertainty =\n",
      "0.24604288\n",
      "2021-06-14 20:08:53,054 - modnet - INFO - Loaded <modnet.preprocessing.MODData object at 0x7f3e0ecf31f0> object, created with modnet version 0.1.9\n",
      "2021-06-14 20:08:53,100 - modnet - INFO - Generation number 0\n",
      "2021-06-14 20:08:56,744 - modnet - INFO - Multiprocessing on 10 cores. Total of 128 cores available.\n"
     ]
    },
    {
     "name": "stderr",
     "output_type": "stream",
     "text": [
      "100%|██████████| 100/100 [11:18<00:00,  6.78s/it]"
     ]
    },
    {
     "name": "stdout",
     "output_type": "stream",
     "text": [
      "2021-06-14 20:20:15,077 - modnet - INFO - Loss per individual: ind 0: 0.758 \tind 1: 0.598 \tind 2: 0.621 \tind 3: 0.768 \tind 4: 0.723 \tind 5: 0.643 \tind 6: 0.644 \tind 7: 0.606 \tind 8: 0.597 \tind 9: 0.620 \tind 10: 0.619 \tind 11: 0.608 \tind 12: 0.656 \tind 13: 0.678 \tind 14: 0.640 \tind 15: 0.705 \tind 16: 0.620 \tind 17: 0.617 \tind 18: 0.644 \tind 19: 0.749 \t\n"
     ]
    },
    {
     "name": "stderr",
     "output_type": "stream",
     "text": [
      "\n"
     ]
    },
    {
     "name": "stdout",
     "output_type": "stream",
     "text": [
      "2021-06-14 20:20:16,652 - modnet - INFO - Generation number 1\n",
      "2021-06-14 20:20:19,988 - modnet - INFO - Multiprocessing on 10 cores. Total of 128 cores available.\n"
     ]
    },
    {
     "name": "stderr",
     "output_type": "stream",
     "text": [
      "100%|██████████| 100/100 [11:02<00:00,  6.62s/it]"
     ]
    },
    {
     "name": "stdout",
     "output_type": "stream",
     "text": [
      "2021-06-14 20:31:22,364 - modnet - INFO - Loss per individual: ind 0: 0.615 \tind 1: 0.650 \tind 2: 0.618 \tind 3: 0.606 \tind 4: 0.600 \tind 5: 0.651 \tind 6: 0.664 \tind 7: 0.604 \tind 8: 0.591 \tind 9: 0.648 \tind 10: 0.647 \tind 11: 0.663 \tind 12: 0.750 \tind 13: 0.666 \tind 14: 0.611 \tind 15: 0.609 \tind 16: 0.769 \tind 17: 0.670 \tind 18: 0.618 \tind 19: 0.597 \t\n"
     ]
    },
    {
     "name": "stderr",
     "output_type": "stream",
     "text": [
      "\n"
     ]
    },
    {
     "name": "stdout",
     "output_type": "stream",
     "text": [
      "2021-06-14 20:31:23,854 - modnet - INFO - Generation number 2\n",
      "2021-06-14 20:31:27,126 - modnet - INFO - Multiprocessing on 10 cores. Total of 128 cores available.\n"
     ]
    },
    {
     "name": "stderr",
     "output_type": "stream",
     "text": [
      "100%|██████████| 100/100 [10:20<00:00,  6.20s/it]"
     ]
    },
    {
     "name": "stdout",
     "output_type": "stream",
     "text": [
      "2021-06-14 20:41:47,644 - modnet - INFO - Loss per individual: ind 0: 0.612 \tind 1: 0.602 \tind 2: 0.598 \tind 3: 0.586 \tind 4: 0.674 \tind 5: 0.617 \tind 6: 0.641 \tind 7: 0.697 \tind 8: 0.597 \tind 9: 0.608 \tind 10: 0.610 \tind 11: 0.649 \tind 12: 0.623 \tind 13: 0.815 \tind 14: 0.616 \tind 15: 0.612 \tind 16: 0.808 \tind 17: 0.624 \tind 18: 0.619 \tind 19: 0.618 \t\n"
     ]
    },
    {
     "name": "stderr",
     "output_type": "stream",
     "text": [
      "\n"
     ]
    },
    {
     "name": "stdout",
     "output_type": "stream",
     "text": [
      "2021-06-14 20:41:48,984 - modnet - INFO - Generation number 3\n",
      "2021-06-14 20:41:52,013 - modnet - INFO - Multiprocessing on 10 cores. Total of 128 cores available.\n"
     ]
    },
    {
     "name": "stderr",
     "output_type": "stream",
     "text": [
      "100%|██████████| 100/100 [11:47<00:00,  7.08s/it]"
     ]
    },
    {
     "name": "stdout",
     "output_type": "stream",
     "text": [
      "2021-06-14 20:53:39,815 - modnet - INFO - Loss per individual: ind 0: 0.717 \tind 1: 0.587 \tind 2: 0.621 \tind 3: 0.579 \tind 4: 0.654 \tind 5: 0.622 \tind 6: 0.609 \tind 7: 0.602 \tind 8: 0.641 \tind 9: 0.628 \tind 10: 0.614 \tind 11: 0.620 \tind 12: 0.736 \tind 13: 0.625 \tind 14: 0.599 \tind 15: 0.594 \tind 16: 0.623 \tind 17: 0.622 \tind 18: 0.639 \tind 19: 0.611 \t\n"
     ]
    },
    {
     "name": "stderr",
     "output_type": "stream",
     "text": [
      "\n"
     ]
    },
    {
     "name": "stdout",
     "output_type": "stream",
     "text": [
      "2021-06-14 20:53:41,331 - modnet - INFO - Generation number 4\n",
      "2021-06-14 20:53:44,861 - modnet - INFO - Multiprocessing on 10 cores. Total of 128 cores available.\n"
     ]
    },
    {
     "name": "stderr",
     "output_type": "stream",
     "text": [
      "100%|██████████| 100/100 [10:58<00:00,  6.59s/it]"
     ]
    },
    {
     "name": "stdout",
     "output_type": "stream",
     "text": [
      "2021-06-14 21:04:43,590 - modnet - INFO - Loss per individual: ind 0: 0.690 \tind 1: 0.602 \tind 2: 0.655 \tind 3: 0.617 \tind 4: 0.642 \tind 5: 0.618 \tind 6: 0.682 \tind 7: 0.603 \tind 8: 0.594 \tind 9: 0.635 \tind 10: 0.626 \tind 11: 0.601 \tind 12: 0.600 \tind 13: 0.612 \tind 14: 0.602 \tind 15: 0.587 \tind 16: 0.644 \tind 17: 0.609 \tind 18: 0.647 \tind 19: 0.643 \t\n"
     ]
    },
    {
     "name": "stderr",
     "output_type": "stream",
     "text": [
      "\n"
     ]
    },
    {
     "name": "stdout",
     "output_type": "stream",
     "text": [
      "2021-06-14 21:04:44,981 - modnet - INFO - Generation number 5\n",
      "2021-06-14 21:04:48,112 - modnet - INFO - Multiprocessing on 10 cores. Total of 128 cores available.\n"
     ]
    },
    {
     "name": "stderr",
     "output_type": "stream",
     "text": [
      "100%|██████████| 100/100 [10:27<00:00,  6.28s/it]"
     ]
    },
    {
     "name": "stdout",
     "output_type": "stream",
     "text": [
      "2021-06-14 21:15:16,102 - modnet - INFO - Loss per individual: ind 0: 0.607 \tind 1: 0.631 \tind 2: 0.657 \tind 3: 0.603 \tind 4: 0.613 \tind 5: 0.638 \tind 6: 0.617 \tind 7: 0.608 \tind 8: 0.660 \tind 9: 0.608 \tind 10: 0.593 \tind 11: 0.622 \tind 12: 0.613 \tind 13: 0.644 \tind 14: 0.605 \tind 15: 0.642 \tind 16: 0.637 \tind 17: 0.615 \tind 18: 0.625 \tind 19: 0.615 \t\n"
     ]
    },
    {
     "name": "stderr",
     "output_type": "stream",
     "text": [
      "\n"
     ]
    },
    {
     "name": "stdout",
     "output_type": "stream",
     "text": [
      "2021-06-14 21:15:17,564 - modnet - INFO - Generation number 6\n",
      "2021-06-14 21:15:21,135 - modnet - INFO - Multiprocessing on 10 cores. Total of 128 cores available.\n"
     ]
    },
    {
     "name": "stderr",
     "output_type": "stream",
     "text": [
      "100%|██████████| 100/100 [11:37<00:00,  6.98s/it]"
     ]
    },
    {
     "name": "stdout",
     "output_type": "stream",
     "text": [
      "2021-06-14 21:26:58,920 - modnet - INFO - Loss per individual: ind 0: 0.584 \tind 1: 0.592 \tind 2: 0.635 \tind 3: 0.633 \tind 4: 0.638 \tind 5: 0.637 \tind 6: 0.643 \tind 7: 0.725 \tind 8: 0.619 \tind 9: 0.653 \tind 10: 0.639 \tind 11: 0.640 \tind 12: 0.593 \tind 13: 0.586 \tind 14: 0.585 \tind 15: 0.597 \tind 16: 0.619 \tind 17: 0.747 \tind 18: 0.651 \tind 19: 0.620 \t\n"
     ]
    },
    {
     "name": "stderr",
     "output_type": "stream",
     "text": [
      "\n"
     ]
    },
    {
     "name": "stdout",
     "output_type": "stream",
     "text": [
      "2021-06-14 21:27:00,433 - modnet - INFO - Early stopping: same best model for 4 consecutive generations\n",
      " (1/n) Calculating accuracy metrics\n",
      " (2/n) Calculating average calibration metrics\n"
     ]
    },
    {
     "name": "stderr",
     "output_type": "stream",
     "text": [
      " 10%|█         | 1/10 [00:00<00:01,  6.23it/s]"
     ]
    },
    {
     "name": "stdout",
     "output_type": "stream",
     "text": [
      " (3/n) Calculating adversarial group calibration metrics\n",
      "  [1/2] for mean absolute calibration error\n",
      "Measuring adversarial group calibration by spanning group size between 0.0 and 1.0, in 10 intervals\n"
     ]
    },
    {
     "name": "stderr",
     "output_type": "stream",
     "text": [
      "100%|██████████| 10/10 [00:01<00:00,  6.68it/s]\n",
      " 10%|█         | 1/10 [00:00<00:01,  6.84it/s]"
     ]
    },
    {
     "name": "stdout",
     "output_type": "stream",
     "text": [
      "  [2/2] for root mean squared calibration error\n",
      "Measuring adversarial group calibration by spanning group size between 0.0 and 1.0, in 10 intervals\n"
     ]
    },
    {
     "name": "stderr",
     "output_type": "stream",
     "text": [
      "100%|██████████| 10/10 [00:01<00:00,  6.62it/s]\n"
     ]
    },
    {
     "name": "stdout",
     "output_type": "stream",
     "text": [
      " (4/n) Calculating sharpness metrics\n",
      " (n/n) Calculating proper scoring rule metrics\n",
      "**Finished Calculating All Metrics**\n",
      "\n",
      "\n",
      "===================== Accuracy Metrics =====================\n",
      "  MAE           0.366\n",
      "  RMSE          0.741\n",
      "  MDAE          0.055\n",
      "  MARPD         134.150\n",
      "  R2            0.782\n",
      "  Correlation   0.885\n",
      "=============== Average Calibration Metrics ================\n",
      "  Root-mean-squared Calibration Error   0.064\n",
      "  Mean-absolute Calibration Error       0.055\n",
      "  Miscalibration Area                   0.056\n",
      "========== Adversarial Group Calibration Metrics ===========\n",
      "  Mean-absolute Adversarial Group Calibration Error\n",
      "     Group Size: 0.11 -- Calibration Error: 0.100\n",
      "     Group Size: 0.56 -- Calibration Error: 0.067\n",
      "     Group Size: 1.00 -- Calibration Error: 0.055\n",
      "  Root-mean-squared Adversarial Group Calibration Error\n",
      "     Group Size: 0.11 -- Calibration Error: 0.142\n",
      "     Group Size: 0.56 -- Calibration Error: 0.077\n",
      "     Group Size: 1.00 -- Calibration Error: 0.064\n",
      "==================== Sharpness Metrics =====================\n",
      "  Sharpness   0.384\n",
      "=================== Scoring Rule Metrics ===================\n",
      "  Negative-log-likelihood   9.129\n",
      "  CRPS                      0.282\n",
      "  Check Score               0.142\n",
      "  Interval Score            1.757\n",
      "MAE =\n",
      "0.3663988329019684\n",
      "uncertainty =\n",
      "0.23338228\n",
      "2021-06-14 21:27:11,882 - modnet - INFO - Loaded <modnet.preprocessing.MODData object at 0x7f3e0f6245e0> object, created with modnet version 0.1.9\n",
      "2021-06-14 21:27:11,925 - modnet - INFO - Generation number 0\n",
      "2021-06-14 21:27:15,148 - modnet - INFO - Multiprocessing on 10 cores. Total of 128 cores available.\n"
     ]
    },
    {
     "name": "stderr",
     "output_type": "stream",
     "text": [
      "100%|██████████| 100/100 [11:53<00:00,  7.13s/it]"
     ]
    },
    {
     "name": "stdout",
     "output_type": "stream",
     "text": [
      "2021-06-14 21:39:08,382 - modnet - INFO - Loss per individual: ind 0: 0.788 \tind 1: 0.637 \tind 2: 0.655 \tind 3: 0.684 \tind 4: 0.642 \tind 5: 0.638 \tind 6: 0.660 \tind 7: 0.608 \tind 8: 0.735 \tind 9: 0.682 \tind 10: 0.705 \tind 11: 0.688 \tind 12: 0.668 \tind 13: 0.706 \tind 14: 0.738 \tind 15: 0.688 \tind 16: 0.763 \tind 17: 0.671 \tind 18: 0.687 \tind 19: 0.619 \t\n"
     ]
    },
    {
     "name": "stderr",
     "output_type": "stream",
     "text": [
      "\n"
     ]
    },
    {
     "name": "stdout",
     "output_type": "stream",
     "text": [
      "2021-06-14 21:39:10,205 - modnet - INFO - Generation number 1\n",
      "2021-06-14 21:39:14,077 - modnet - INFO - Multiprocessing on 10 cores. Total of 128 cores available.\n"
     ]
    },
    {
     "name": "stderr",
     "output_type": "stream",
     "text": [
      "100%|██████████| 100/100 [17:45<00:00, 10.66s/it] "
     ]
    },
    {
     "name": "stdout",
     "output_type": "stream",
     "text": [
      "2021-06-14 21:56:59,837 - modnet - INFO - Loss per individual: ind 0: 0.802 \tind 1: 0.630 \tind 2: 0.723 \tind 3: 0.705 \tind 4: 0.685 \tind 5: 0.723 \tind 6: 0.666 \tind 7: 0.639 \tind 8: 0.687 \tind 9: 0.643 \tind 10: 0.637 \tind 11: 0.628 \tind 12: 0.643 \tind 13: 0.611 \tind 14: 0.676 \tind 15: 0.667 \tind 16: 0.721 \tind 17: 0.792 \tind 18: 0.703 \tind 19: 0.864 \t\n"
     ]
    },
    {
     "name": "stderr",
     "output_type": "stream",
     "text": [
      "\n"
     ]
    },
    {
     "name": "stdout",
     "output_type": "stream",
     "text": [
      "2021-06-14 21:57:01,602 - modnet - INFO - Generation number 2\n",
      "2021-06-14 21:57:05,482 - modnet - INFO - Multiprocessing on 10 cores. Total of 128 cores available.\n"
     ]
    },
    {
     "name": "stderr",
     "output_type": "stream",
     "text": [
      "100%|██████████| 100/100 [24:07<00:00, 14.47s/it]  "
     ]
    },
    {
     "name": "stdout",
     "output_type": "stream",
     "text": [
      "2021-06-14 22:21:12,927 - modnet - INFO - Loss per individual: ind 0: 0.657 \tind 1: 0.728 \tind 2: 0.640 \tind 3: 0.683 \tind 4: 0.722 \tind 5: 0.599 \tind 6: 0.703 \tind 7: 0.667 \tind 8: 0.644 \tind 9: 0.640 \tind 10: 0.674 \tind 11: 0.672 \tind 12: 0.676 \tind 13: 0.731 \tind 14: 0.650 \tind 15: 0.652 \tind 16: 0.648 \tind 17: 0.692 \tind 18: 0.641 \tind 19: 0.737 \t\n"
     ]
    },
    {
     "name": "stderr",
     "output_type": "stream",
     "text": [
      "\n"
     ]
    },
    {
     "name": "stdout",
     "output_type": "stream",
     "text": [
      "2021-06-14 22:21:14,539 - modnet - INFO - Generation number 3\n",
      "2021-06-14 22:21:18,417 - modnet - INFO - Multiprocessing on 10 cores. Total of 128 cores available.\n"
     ]
    },
    {
     "name": "stderr",
     "output_type": "stream",
     "text": [
      "100%|██████████| 100/100 [39:05<00:00, 23.45s/it]  "
     ]
    },
    {
     "name": "stdout",
     "output_type": "stream",
     "text": [
      "2021-06-14 23:00:23,939 - modnet - INFO - Loss per individual: ind 0: 0.626 \tind 1: 0.603 \tind 2: 0.643 \tind 3: 0.713 \tind 4: 0.696 \tind 5: 0.663 \tind 6: 0.652 \tind 7: 0.669 \tind 8: 0.720 \tind 9: 0.745 \tind 10: 0.774 \tind 11: 0.711 \tind 12: 0.700 \tind 13: 0.796 \tind 14: 0.617 \tind 15: 0.628 \tind 16: 0.699 \tind 17: 0.681 \tind 18: 0.666 \tind 19: 0.655 \t\n"
     ]
    },
    {
     "name": "stderr",
     "output_type": "stream",
     "text": [
      "\n"
     ]
    },
    {
     "name": "stdout",
     "output_type": "stream",
     "text": [
      "2021-06-14 23:00:25,596 - modnet - INFO - Generation number 4\n",
      "2021-06-14 23:00:29,951 - modnet - INFO - Multiprocessing on 10 cores. Total of 128 cores available.\n"
     ]
    },
    {
     "name": "stderr",
     "output_type": "stream",
     "text": [
      "100%|██████████| 100/100 [11:08<00:00,  6.69s/it]"
     ]
    },
    {
     "name": "stdout",
     "output_type": "stream",
     "text": [
      "2021-06-14 23:11:38,765 - modnet - INFO - Loss per individual: ind 0: 0.702 \tind 1: 0.758 \tind 2: 0.645 \tind 3: 0.675 \tind 4: 0.773 \tind 5: 0.633 \tind 6: 0.631 \tind 7: 0.652 \tind 8: 0.618 \tind 9: 0.626 \tind 10: 0.638 \tind 11: 0.644 \tind 12: 0.696 \tind 13: 0.679 \tind 14: 0.716 \tind 15: 0.620 \tind 16: 0.721 \tind 17: 0.702 \tind 18: 0.723 \tind 19: 0.701 \t\n"
     ]
    },
    {
     "name": "stderr",
     "output_type": "stream",
     "text": [
      "\n"
     ]
    },
    {
     "name": "stdout",
     "output_type": "stream",
     "text": [
      "2021-06-14 23:11:40,417 - modnet - INFO - Generation number 5\n",
      "2021-06-14 23:11:45,030 - modnet - INFO - Multiprocessing on 10 cores. Total of 128 cores available.\n"
     ]
    },
    {
     "name": "stderr",
     "output_type": "stream",
     "text": [
      "100%|██████████| 100/100 [11:24<00:00,  6.84s/it]"
     ]
    },
    {
     "name": "stdout",
     "output_type": "stream",
     "text": [
      "2021-06-14 23:23:09,348 - modnet - INFO - Loss per individual: ind 0: 0.637 \tind 1: 0.619 \tind 2: 0.662 \tind 3: 0.639 \tind 4: 0.648 \tind 5: 0.654 \tind 6: 0.715 \tind 7: 0.696 \tind 8: 0.640 \tind 9: 0.710 \tind 10: 0.659 \tind 11: 0.642 \tind 12: 0.660 \tind 13: 0.673 \tind 14: 0.685 \tind 15: 0.623 \tind 16: 0.669 \tind 17: 0.719 \tind 18: 0.665 \tind 19: 0.694 \t\n"
     ]
    },
    {
     "name": "stderr",
     "output_type": "stream",
     "text": [
      "\n"
     ]
    },
    {
     "name": "stdout",
     "output_type": "stream",
     "text": [
      "2021-06-14 23:23:10,980 - modnet - INFO - Early stopping: same best model for 4 consecutive generations\n",
      " (1/n) Calculating accuracy metrics\n",
      " (2/n) Calculating average calibration metrics\n"
     ]
    },
    {
     "name": "stderr",
     "output_type": "stream",
     "text": [
      " 10%|█         | 1/10 [00:00<00:01,  5.48it/s]"
     ]
    },
    {
     "name": "stdout",
     "output_type": "stream",
     "text": [
      " (3/n) Calculating adversarial group calibration metrics\n",
      "  [1/2] for mean absolute calibration error\n",
      "Measuring adversarial group calibration by spanning group size between 0.0 and 1.0, in 10 intervals\n"
     ]
    },
    {
     "name": "stderr",
     "output_type": "stream",
     "text": [
      "100%|██████████| 10/10 [00:01<00:00,  5.38it/s]\n",
      " 10%|█         | 1/10 [00:00<00:01,  5.69it/s]"
     ]
    },
    {
     "name": "stdout",
     "output_type": "stream",
     "text": [
      "  [2/2] for root mean squared calibration error\n",
      "Measuring adversarial group calibration by spanning group size between 0.0 and 1.0, in 10 intervals\n"
     ]
    },
    {
     "name": "stderr",
     "output_type": "stream",
     "text": [
      "100%|██████████| 10/10 [00:01<00:00,  5.46it/s]\n"
     ]
    },
    {
     "name": "stdout",
     "output_type": "stream",
     "text": [
      " (4/n) Calculating sharpness metrics\n",
      " (n/n) Calculating proper scoring rule metrics\n",
      "**Finished Calculating All Metrics**\n",
      "\n",
      "\n",
      "===================== Accuracy Metrics =====================\n",
      "  MAE           522.307\n",
      "  RMSE          5667.701\n",
      "  MDAE          0.026\n",
      "  MARPD         136.838\n",
      "  R2            -14775807.189\n",
      "  Correlation   -0.020\n",
      "=============== Average Calibration Metrics ================\n",
      "  Root-mean-squared Calibration Error   0.048\n",
      "  Mean-absolute Calibration Error       0.040\n",
      "  Miscalibration Area                   0.041\n",
      "========== Adversarial Group Calibration Metrics ===========\n",
      "  Mean-absolute Adversarial Group Calibration Error\n",
      "     Group Size: 0.11 -- Calibration Error: 0.107\n",
      "     Group Size: 0.56 -- Calibration Error: 0.052\n",
      "     Group Size: 1.00 -- Calibration Error: 0.040\n",
      "  Root-mean-squared Adversarial Group Calibration Error\n",
      "     Group Size: 0.11 -- Calibration Error: 0.105\n",
      "     Group Size: 0.56 -- Calibration Error: 0.065\n",
      "     Group Size: 1.00 -- Calibration Error: 0.048\n",
      "==================== Sharpness Metrics =====================\n",
      "  Sharpness   3148.170\n",
      "=================== Scoring Rule Metrics ===================\n",
      "  Negative-log-likelihood   2.308\n",
      "  CRPS                      366.922\n",
      "  Check Score               185.313\n",
      "  Interval Score            1620.195\n",
      "MAE =\n",
      "0.28284831239752856\n",
      "uncertainty =\n",
      "0.18500507\n",
      "2021-06-14 23:23:24,276 - modnet - INFO - Loaded <modnet.preprocessing.MODData object at 0x7f39fd113e80> object, created with modnet version 0.1.9\n",
      "2021-06-14 23:23:24,329 - modnet - INFO - Generation number 0\n",
      "2021-06-14 23:23:28,216 - modnet - INFO - Multiprocessing on 10 cores. Total of 128 cores available.\n"
     ]
    },
    {
     "name": "stderr",
     "output_type": "stream",
     "text": [
      "100%|██████████| 100/100 [11:43<00:00,  7.04s/it]"
     ]
    },
    {
     "name": "stdout",
     "output_type": "stream",
     "text": [
      "2021-06-14 23:35:12,036 - modnet - INFO - Loss per individual: ind 0: 0.600 \tind 1: 0.615 \tind 2: 0.676 \tind 3: 0.643 \tind 4: 11.750 \tind 5: 4.952 \tind 6: 2.828 \tind 7: 0.714 \tind 8: 0.608 \tind 9: 1.389 \tind 10: 23.301 \tind 11: 0.656 \tind 12: 3.014 \tind 13: 0.650 \tind 14: 0.658 \tind 15: 1.122 \tind 16: 1.499 \tind 17: 2.946 \tind 18: 0.643 \tind 19: 2.947 \t\n"
     ]
    },
    {
     "name": "stderr",
     "output_type": "stream",
     "text": [
      "\n"
     ]
    },
    {
     "name": "stdout",
     "output_type": "stream",
     "text": [
      "2021-06-14 23:35:13,742 - modnet - INFO - Generation number 1\n",
      "2021-06-14 23:35:17,698 - modnet - INFO - Multiprocessing on 10 cores. Total of 128 cores available.\n"
     ]
    },
    {
     "name": "stderr",
     "output_type": "stream",
     "text": [
      "100%|██████████| 100/100 [10:19<00:00,  6.20s/it]"
     ]
    },
    {
     "name": "stdout",
     "output_type": "stream",
     "text": [
      "2021-06-14 23:45:37,688 - modnet - INFO - Loss per individual: ind 0: 0.648 \tind 1: 0.607 \tind 2: 0.652 \tind 3: 0.650 \tind 4: 0.630 \tind 5: 0.600 \tind 6: 0.601 \tind 7: 0.607 \tind 8: 0.651 \tind 9: 0.613 \tind 10: 0.633 \tind 11: 0.623 \tind 12: 0.612 \tind 13: 0.650 \tind 14: 0.632 \tind 15: 0.600 \tind 16: 0.619 \tind 17: 0.642 \tind 18: 0.623 \tind 19: 0.638 \t\n"
     ]
    },
    {
     "name": "stderr",
     "output_type": "stream",
     "text": [
      "\n"
     ]
    },
    {
     "name": "stdout",
     "output_type": "stream",
     "text": [
      "2021-06-14 23:45:39,339 - modnet - INFO - Generation number 2\n",
      "2021-06-14 23:45:43,323 - modnet - INFO - Multiprocessing on 10 cores. Total of 128 cores available.\n"
     ]
    },
    {
     "name": "stderr",
     "output_type": "stream",
     "text": [
      "100%|██████████| 100/100 [10:21<00:00,  6.21s/it]"
     ]
    },
    {
     "name": "stdout",
     "output_type": "stream",
     "text": [
      "2021-06-14 23:56:04,709 - modnet - INFO - Loss per individual: ind 0: 0.616 \tind 1: 0.719 \tind 2: 0.625 \tind 3: 0.603 \tind 4: 0.590 \tind 5: 0.670 \tind 6: 0.608 \tind 7: 0.633 \tind 8: 2.230 \tind 9: 0.664 \tind 10: 0.604 \tind 11: 0.623 \tind 12: 0.621 \tind 13: 0.579 \tind 14: 0.600 \tind 15: 0.621 \tind 16: 0.663 \tind 17: 0.634 \tind 18: 0.608 \tind 19: 0.626 \t\n"
     ]
    },
    {
     "name": "stderr",
     "output_type": "stream",
     "text": [
      "\n"
     ]
    },
    {
     "name": "stdout",
     "output_type": "stream",
     "text": [
      "2021-06-14 23:56:06,449 - modnet - INFO - Generation number 3\n",
      "2021-06-14 23:56:10,980 - modnet - INFO - Multiprocessing on 10 cores. Total of 128 cores available.\n"
     ]
    },
    {
     "name": "stderr",
     "output_type": "stream",
     "text": [
      "100%|██████████| 100/100 [09:43<00:00,  5.83s/it]"
     ]
    },
    {
     "name": "stdout",
     "output_type": "stream",
     "text": [
      "2021-06-15 00:05:54,527 - modnet - INFO - Loss per individual: ind 0: 0.665 \tind 1: 0.661 \tind 2: 0.607 \tind 3: 0.616 \tind 4: 0.665 \tind 5: 0.735 \tind 6: 0.597 \tind 7: 0.609 \tind 8: 0.604 \tind 9: 0.651 \tind 10: 0.619 \tind 11: 0.627 \tind 12: 0.628 \tind 13: 0.659 \tind 14: 0.608 \tind 15: 0.633 \tind 16: 0.659 \tind 17: 0.656 \tind 18: 0.636 \tind 19: 0.659 \t\n"
     ]
    },
    {
     "name": "stderr",
     "output_type": "stream",
     "text": [
      "\n"
     ]
    },
    {
     "name": "stdout",
     "output_type": "stream",
     "text": [
      "2021-06-15 00:05:56,101 - modnet - INFO - Generation number 4\n",
      "2021-06-15 00:06:00,625 - modnet - INFO - Multiprocessing on 10 cores. Total of 128 cores available.\n"
     ]
    },
    {
     "name": "stderr",
     "output_type": "stream",
     "text": [
      "100%|██████████| 100/100 [11:13<00:00,  6.74s/it]"
     ]
    },
    {
     "name": "stdout",
     "output_type": "stream",
     "text": [
      "2021-06-15 00:17:14,284 - modnet - INFO - Loss per individual: ind 0: 0.629 \tind 1: 0.607 \tind 2: 0.609 \tind 3: 0.596 \tind 4: 0.640 \tind 5: 5.276 \tind 6: 0.633 \tind 7: 0.675 \tind 8: 0.628 \tind 9: 0.636 \tind 10: 0.645 \tind 11: 0.609 \tind 12: 0.653 \tind 13: 0.608 \tind 14: 0.666 \tind 15: 0.626 \tind 16: 0.601 \tind 17: 0.619 \tind 18: 0.630 \tind 19: 0.599 \t\n"
     ]
    },
    {
     "name": "stderr",
     "output_type": "stream",
     "text": [
      "\n"
     ]
    },
    {
     "name": "stdout",
     "output_type": "stream",
     "text": [
      "2021-06-15 00:17:16,106 - modnet - INFO - Generation number 5\n",
      "2021-06-15 00:17:21,566 - modnet - INFO - Multiprocessing on 10 cores. Total of 128 cores available.\n"
     ]
    },
    {
     "name": "stderr",
     "output_type": "stream",
     "text": [
      "100%|██████████| 100/100 [10:31<00:00,  6.31s/it]"
     ]
    },
    {
     "name": "stdout",
     "output_type": "stream",
     "text": [
      "2021-06-15 00:27:53,094 - modnet - INFO - Loss per individual: ind 0: 0.629 \tind 1: 0.638 \tind 2: 0.621 \tind 3: 0.609 \tind 4: 0.621 \tind 5: 0.593 \tind 6: 0.608 \tind 7: 0.642 \tind 8: 0.612 \tind 9: 0.617 \tind 10: 0.615 \tind 11: 0.620 \tind 12: 0.624 \tind 13: 0.661 \tind 14: 0.702 \tind 15: 0.595 \tind 16: 0.614 \tind 17: 0.639 \tind 18: 0.627 \tind 19: 0.627 \t\n"
     ]
    },
    {
     "name": "stderr",
     "output_type": "stream",
     "text": [
      "\n"
     ]
    },
    {
     "name": "stdout",
     "output_type": "stream",
     "text": [
      "2021-06-15 00:27:54,672 - modnet - INFO - Early stopping: same best model for 4 consecutive generations\n",
      " (1/n) Calculating accuracy metrics\n",
      " (2/n) Calculating average calibration metrics\n"
     ]
    },
    {
     "name": "stderr",
     "output_type": "stream",
     "text": [
      " 10%|█         | 1/10 [00:00<00:01,  7.80it/s]"
     ]
    },
    {
     "name": "stdout",
     "output_type": "stream",
     "text": [
      " (3/n) Calculating adversarial group calibration metrics\n",
      "  [1/2] for mean absolute calibration error\n",
      "Measuring adversarial group calibration by spanning group size between 0.0 and 1.0, in 10 intervals\n"
     ]
    },
    {
     "name": "stderr",
     "output_type": "stream",
     "text": [
      "100%|██████████| 10/10 [00:01<00:00,  6.87it/s]\n",
      " 10%|█         | 1/10 [00:00<00:01,  8.54it/s]"
     ]
    },
    {
     "name": "stdout",
     "output_type": "stream",
     "text": [
      "  [2/2] for root mean squared calibration error\n",
      "Measuring adversarial group calibration by spanning group size between 0.0 and 1.0, in 10 intervals\n"
     ]
    },
    {
     "name": "stderr",
     "output_type": "stream",
     "text": [
      "100%|██████████| 10/10 [00:01<00:00,  6.60it/s]\n"
     ]
    },
    {
     "name": "stdout",
     "output_type": "stream",
     "text": [
      " (4/n) Calculating sharpness metrics\n",
      " (n/n) Calculating proper scoring rule metrics\n",
      "**Finished Calculating All Metrics**\n",
      "\n",
      "\n",
      "===================== Accuracy Metrics =====================\n",
      "  MAE           0.347\n",
      "  RMSE          0.781\n",
      "  MDAE          0.027\n",
      "  MARPD         137.189\n",
      "  R2            0.788\n",
      "  Correlation   0.890\n",
      "=============== Average Calibration Metrics ================\n",
      "  Root-mean-squared Calibration Error   0.056\n",
      "  Mean-absolute Calibration Error       0.042\n",
      "  Miscalibration Area                   0.042\n",
      "========== Adversarial Group Calibration Metrics ===========\n",
      "  Mean-absolute Adversarial Group Calibration Error\n",
      "     Group Size: 0.11 -- Calibration Error: 0.116\n",
      "     Group Size: 0.56 -- Calibration Error: 0.051\n",
      "     Group Size: 1.00 -- Calibration Error: 0.042\n",
      "  Root-mean-squared Adversarial Group Calibration Error\n",
      "     Group Size: 0.11 -- Calibration Error: 0.131\n",
      "     Group Size: 0.56 -- Calibration Error: 0.073\n",
      "     Group Size: 1.00 -- Calibration Error: 0.056\n",
      "==================== Sharpness Metrics =====================\n",
      "  Sharpness   0.336\n",
      "=================== Scoring Rule Metrics ===================\n",
      "  Negative-log-likelihood   40.104\n",
      "  CRPS                      0.276\n",
      "  Check Score               0.139\n",
      "  Interval Score            1.824\n",
      "MAE =\n",
      "0.3467900265083331\n",
      "uncertainty =\n",
      "0.19868283\n",
      "2021-06-15 00:28:06,471 - modnet - INFO - Loaded <modnet.preprocessing.MODData object at 0x7f3b474a8550> object, created with modnet version 0.1.9\n",
      "2021-06-15 00:28:06,510 - modnet - INFO - Generation number 0\n",
      "2021-06-15 00:28:10,232 - modnet - INFO - Multiprocessing on 10 cores. Total of 128 cores available.\n"
     ]
    },
    {
     "name": "stderr",
     "output_type": "stream",
     "text": [
      "100%|██████████| 100/100 [11:36<00:00,  6.97s/it]"
     ]
    },
    {
     "name": "stdout",
     "output_type": "stream",
     "text": [
      "2021-06-15 00:39:47,145 - modnet - INFO - Loss per individual: ind 0: 1.878 \tind 1: 3.661 \tind 2: 1.410 \tind 3: 0.698 \tind 4: 0.625 \tind 5: 0.639 \tind 6: 0.631 \tind 7: 0.636 \tind 8: 0.631 \tind 9: 0.730 \tind 10: 0.649 \tind 11: 7.360 \tind 12: 0.662 \tind 13: 0.604 \tind 14: 0.668 \tind 15: 0.610 \tind 16: 0.654 \tind 17: 0.728 \tind 18: 0.708 \tind 19: 1.666 \t\n"
     ]
    },
    {
     "name": "stderr",
     "output_type": "stream",
     "text": [
      "\n"
     ]
    },
    {
     "name": "stdout",
     "output_type": "stream",
     "text": [
      "2021-06-15 00:39:48,795 - modnet - INFO - Generation number 1\n",
      "2021-06-15 00:39:52,871 - modnet - INFO - Multiprocessing on 10 cores. Total of 128 cores available.\n"
     ]
    },
    {
     "name": "stderr",
     "output_type": "stream",
     "text": [
      "100%|██████████| 100/100 [12:04<00:00,  7.25s/it]"
     ]
    },
    {
     "name": "stdout",
     "output_type": "stream",
     "text": [
      "2021-06-15 00:51:57,678 - modnet - INFO - Loss per individual: ind 0: 0.616 \tind 1: 0.614 \tind 2: 0.658 \tind 3: 0.652 \tind 4: 0.697 \tind 5: 0.634 \tind 6: 0.667 \tind 7: 0.649 \tind 8: 0.692 \tind 9: 0.626 \tind 10: 0.745 \tind 11: 0.636 \tind 12: 0.661 \tind 13: 0.611 \tind 14: 0.633 \tind 15: 0.622 \tind 16: 0.758 \tind 17: 0.630 \tind 18: 0.592 \tind 19: 0.614 \t\n"
     ]
    },
    {
     "name": "stderr",
     "output_type": "stream",
     "text": [
      "\n"
     ]
    },
    {
     "name": "stdout",
     "output_type": "stream",
     "text": [
      "2021-06-15 00:51:59,398 - modnet - INFO - Generation number 2\n",
      "2021-06-15 00:52:03,521 - modnet - INFO - Multiprocessing on 10 cores. Total of 128 cores available.\n"
     ]
    },
    {
     "name": "stderr",
     "output_type": "stream",
     "text": [
      "100%|██████████| 100/100 [10:59<00:00,  6.60s/it]"
     ]
    },
    {
     "name": "stdout",
     "output_type": "stream",
     "text": [
      "2021-06-15 01:03:03,622 - modnet - INFO - Loss per individual: ind 0: 0.682 \tind 1: 0.650 \tind 2: 0.760 \tind 3: 0.616 \tind 4: 0.633 \tind 5: 0.608 \tind 6: 0.661 \tind 7: 0.744 \tind 8: 0.647 \tind 9: 0.612 \tind 10: 0.618 \tind 11: 0.646 \tind 12: 0.675 \tind 13: 0.671 \tind 14: 0.666 \tind 15: 0.715 \tind 16: 0.643 \tind 17: 0.651 \tind 18: 0.623 \tind 19: 0.635 \t\n"
     ]
    },
    {
     "name": "stderr",
     "output_type": "stream",
     "text": [
      "\n"
     ]
    },
    {
     "name": "stdout",
     "output_type": "stream",
     "text": [
      "2021-06-15 01:03:04,778 - modnet - INFO - Generation number 3\n",
      "2021-06-15 01:03:07,795 - modnet - INFO - Multiprocessing on 10 cores. Total of 128 cores available.\n"
     ]
    },
    {
     "name": "stderr",
     "output_type": "stream",
     "text": [
      "100%|██████████| 100/100 [08:21<00:00,  5.01s/it]"
     ]
    },
    {
     "name": "stdout",
     "output_type": "stream",
     "text": [
      "2021-06-15 01:11:29,290 - modnet - INFO - Loss per individual: ind 0: 0.613 \tind 1: 0.624 \tind 2: 0.671 \tind 3: 0.627 \tind 4: 0.639 \tind 5: 0.658 \tind 6: 0.631 \tind 7: 0.682 \tind 8: 0.617 \tind 9: 0.674 \tind 10: 0.629 \tind 11: 0.624 \tind 12: 0.631 \tind 13: 0.653 \tind 14: 0.607 \tind 15: 0.605 \tind 16: 0.634 \tind 17: 0.639 \tind 18: 0.636 \tind 19: 0.647 \t\n"
     ]
    },
    {
     "name": "stderr",
     "output_type": "stream",
     "text": [
      "\n"
     ]
    },
    {
     "name": "stdout",
     "output_type": "stream",
     "text": [
      "2021-06-15 01:11:30,462 - modnet - INFO - Generation number 4\n",
      "2021-06-15 01:11:33,972 - modnet - INFO - Multiprocessing on 10 cores. Total of 128 cores available.\n"
     ]
    },
    {
     "name": "stderr",
     "output_type": "stream",
     "text": [
      "100%|██████████| 100/100 [07:40<00:00,  4.61s/it]"
     ]
    },
    {
     "name": "stdout",
     "output_type": "stream",
     "text": [
      "2021-06-15 01:19:14,940 - modnet - INFO - Loss per individual: ind 0: 0.621 \tind 1: 0.598 \tind 2: 0.617 \tind 3: 0.638 \tind 4: 0.646 \tind 5: 0.608 \tind 6: 0.618 \tind 7: 0.614 \tind 8: 0.643 \tind 9: 0.637 \tind 10: 0.614 \tind 11: 0.607 \tind 12: 0.636 \tind 13: 0.613 \tind 14: 0.601 \tind 15: 0.694 \tind 16: 0.613 \tind 17: 0.642 \tind 18: 0.650 \tind 19: 0.620 \t\n"
     ]
    },
    {
     "name": "stderr",
     "output_type": "stream",
     "text": [
      "\n"
     ]
    },
    {
     "name": "stdout",
     "output_type": "stream",
     "text": [
      "2021-06-15 01:19:15,917 - modnet - INFO - Early stopping: same best model for 4 consecutive generations\n",
      " (1/n) Calculating accuracy metrics\n",
      " (2/n) Calculating average calibration metrics\n"
     ]
    },
    {
     "name": "stderr",
     "output_type": "stream",
     "text": [
      "  0%|          | 0/10 [00:00<?, ?it/s]"
     ]
    },
    {
     "name": "stdout",
     "output_type": "stream",
     "text": [
      " (3/n) Calculating adversarial group calibration metrics\n",
      "  [1/2] for mean absolute calibration error\n",
      "Measuring adversarial group calibration by spanning group size between 0.0 and 1.0, in 10 intervals\n"
     ]
    },
    {
     "name": "stderr",
     "output_type": "stream",
     "text": [
      "100%|██████████| 10/10 [00:01<00:00,  9.88it/s]\n",
      " 20%|██        | 2/10 [00:00<00:00, 10.71it/s]"
     ]
    },
    {
     "name": "stdout",
     "output_type": "stream",
     "text": [
      "  [2/2] for root mean squared calibration error\n",
      "Measuring adversarial group calibration by spanning group size between 0.0 and 1.0, in 10 intervals\n"
     ]
    },
    {
     "name": "stderr",
     "output_type": "stream",
     "text": [
      "100%|██████████| 10/10 [00:00<00:00, 10.21it/s]"
     ]
    },
    {
     "name": "stdout",
     "output_type": "stream",
     "text": [
      " (4/n) Calculating sharpness metrics\n",
      " (n/n) Calculating proper scoring rule metrics\n",
      "**Finished Calculating All Metrics**\n",
      "\n",
      "\n",
      "===================== Accuracy Metrics =====================\n",
      "  MAE           0.395\n",
      "  RMSE          0.764\n",
      "  MDAE          0.034\n",
      "  MARPD         137.516\n",
      "  R2            0.807\n",
      "  Correlation   0.901\n",
      "=============== Average Calibration Metrics ================\n",
      "  Root-mean-squared Calibration Error   0.158\n",
      "  Mean-absolute Calibration Error       0.144\n",
      "  Miscalibration Area                   0.145\n",
      "========== Adversarial Group Calibration Metrics ===========\n",
      "  Mean-absolute Adversarial Group Calibration Error\n",
      "     Group Size: 0.11 -- Calibration Error: 0.197\n",
      "     Group Size: 0.56 -- Calibration Error: 0.163\n",
      "     Group Size: 1.00 -- Calibration Error: 0.144\n",
      "  Root-mean-squared Adversarial Group Calibration Error\n",
      "     Group Size: 0.11 -- Calibration Error: 0.225\n",
      "     Group Size: 0.56 -- Calibration Error: 0.181\n",
      "     Group Size: 1.00 -- Calibration Error: 0.158\n",
      "==================== Sharpness Metrics =====================\n",
      "  Sharpness   0.333\n",
      "=================== Scoring Rule Metrics ===================\n",
      "  Negative-log-likelihood   18.395\n",
      "  CRPS                      0.310\n",
      "  Check Score               0.156\n",
      "  Interval Score            2.055\n",
      "MAE =\n",
      "0.3950795460709225\n",
      "uncertainty =\n",
      "0.19745734\n"
     ]
    },
    {
     "name": "stderr",
     "output_type": "stream",
     "text": [
      "\n"
     ]
    }
   ],
   "source": [
    "import uncertainty_toolbox as uct\n",
    "\n",
    "k = 5\n",
    "random_state = 202010\n",
    "folds = MDKsplit(md_joint,n_splits=k,random_state=random_state)\n",
    "maes = np.ones(5)\n",
    "uncertainties = np.ones(5)\n",
    "metricss = []\n",
    "for i,f in enumerate(folds):\n",
    "    train = f[0]\n",
    "    test = f[1]\n",
    "    #train.feature_selection(n=-1, use_precomputed_cross_nmi=True)\n",
    "    fpath = 'train_{}_{}'.format(random_state,i+1)\n",
    "    if os.path.exists(fpath):\n",
    "        train = MODData.load(fpath)\n",
    "    else:\n",
    "        train.feature_selection(n=-1, use_precomputed_cross_nmi=True)\n",
    "        train.save(fpath)\n",
    "      \n",
    "    # assure no overlap\n",
    "    assert len(set(train.df_targets.index).intersection(set(test.df_targets.index))) == 0\n",
    "    \n",
    "    ga = FitGenetic(train)\n",
    "    model = ga.run(size_pop=20, num_generations=10, n_jobs=10)\n",
    "    \n",
    "    pred, std = model.predict(test, return_unc=True)\n",
    "    true = test.df_targets\n",
    "    metrics = uct.metrics.get_all_metrics(pred['exp_gap'].values, std['exp_gap'].values, true['exp_gap'].values)\n",
    "    error = pred['exp_gap']-true['exp_gap']\n",
    "    error = error.drop(pred.index[((pred['exp_gap']).abs()>20)]) # drop unrealistic values: happens extremely rarely\n",
    "    std = std['exp_gap'].drop(std.index[((std['exp_gap']).abs()>20)]) # drop unrealistic values: happens extremely rarely\n",
    "    mae = np.abs(error.values).mean()\n",
    "    uncertainty = np.abs(std).mean()\n",
    "    print('MAE =')\n",
    "    print(mae)\n",
    "    print('uncertainty =')\n",
    "    print(uncertainty)\n",
    "    maes[i] = mae\n",
    "    uncertainties[i] = uncertainty\n",
    "    metricss.append(metrics)"
   ]
  },
  {
   "cell_type": "code",
   "execution_count": 9,
   "metadata": {
    "ExecuteTime": {
     "end_time": "2021-06-14T23:19:22.259269Z",
     "start_time": "2021-06-14T23:19:22.256315Z"
    }
   },
   "outputs": [
    {
     "data": {
      "text/plain": [
       "array([0.36675306, 0.36639883, 0.28284831, 0.34679003, 0.39507955])"
      ]
     },
     "execution_count": 9,
     "metadata": {},
     "output_type": "execute_result"
    }
   ],
   "source": [
    "maes"
   ]
  },
  {
   "cell_type": "code",
   "execution_count": 10,
   "metadata": {
    "ExecuteTime": {
     "end_time": "2021-06-14T23:19:22.266555Z",
     "start_time": "2021-06-14T23:19:22.260688Z"
    }
   },
   "outputs": [
    {
     "data": {
      "text/plain": [
       "0.3515739550393092"
      ]
     },
     "execution_count": 10,
     "metadata": {},
     "output_type": "execute_result"
    }
   ],
   "source": [
    "maes.mean()"
   ]
  },
  {
   "cell_type": "code",
   "execution_count": 11,
   "metadata": {
    "ExecuteTime": {
     "end_time": "2021-06-14T23:19:22.271795Z",
     "start_time": "2021-06-14T23:19:22.267792Z"
    }
   },
   "outputs": [
    {
     "data": {
      "text/plain": [
       "array([0.24604288, 0.23338228, 0.18500507, 0.19868283, 0.19745734])"
      ]
     },
     "execution_count": 11,
     "metadata": {},
     "output_type": "execute_result"
    }
   ],
   "source": [
    "uncertainties"
   ]
  },
  {
   "cell_type": "code",
   "execution_count": 12,
   "metadata": {
    "ExecuteTime": {
     "end_time": "2021-06-14T23:19:22.292615Z",
     "start_time": "2021-06-14T23:19:22.272819Z"
    }
   },
   "outputs": [
    {
     "data": {
      "text/plain": [
       "0.21211408078670502"
      ]
     },
     "execution_count": 12,
     "metadata": {},
     "output_type": "execute_result"
    }
   ],
   "source": [
    "uncertainties.mean()"
   ]
  },
  {
   "cell_type": "code",
   "execution_count": 13,
   "metadata": {
    "ExecuteTime": {
     "end_time": "2021-06-14T23:19:22.306138Z",
     "start_time": "2021-06-14T23:19:22.293702Z"
    }
   },
   "outputs": [
    {
     "data": {
      "text/plain": [
       "[{'accuracy': {'mae': 0.3667530573177938,\n",
       "   'rmse': 0.7697104567030121,\n",
       "   'mdae': 0.06484133243560786,\n",
       "   'marpd': 133.59006994269183,\n",
       "   'r2': 0.770480081543925,\n",
       "   'corr': 0.8843674043278756},\n",
       "  'avg_calibration': {'rms_cal': 0.12101189329577201,\n",
       "   'ma_cal': 0.10626588465298142,\n",
       "   'miscal_area': 0.10732491537610164},\n",
       "  'adv_group_calibration': {'ma_adv_group_cal': {'group_sizes': array([0.        , 0.11111111, 0.22222222, 0.33333333, 0.44444444,\n",
       "           0.55555556, 0.66666667, 0.77777778, 0.88888889, 1.        ]),\n",
       "    'adv_group_cali_mean': array([0.41220707, 0.16939394, 0.14652472, 0.13480728, 0.12572608,\n",
       "           0.12490139, 0.11849757, 0.11385443, 0.1120381 , 0.10626588]),\n",
       "    'adv_group_cali_stderr': array([8.07998419e-02, 1.75891600e-02, 1.52666803e-02, 1.23398990e-02,\n",
       "           1.06878253e-02, 8.77957956e-03, 5.01146067e-03, 4.42735620e-03,\n",
       "           2.09615779e-03, 1.46284728e-17])},\n",
       "   'rms_adv_group_cal': {'group_sizes': array([0.        , 0.11111111, 0.22222222, 0.33333333, 0.44444444,\n",
       "           0.55555556, 0.66666667, 0.77777778, 0.88888889, 1.        ]),\n",
       "    'adv_group_cali_mean': array([0.51181484, 0.19457823, 0.16551347, 0.15093583, 0.1525623 ,\n",
       "           0.14260822, 0.13564744, 0.13299385, 0.1278911 , 0.12101189]),\n",
       "    'adv_group_cali_stderr': array([6.31592146e-02, 1.82052590e-02, 1.87612474e-02, 1.23142632e-02,\n",
       "           1.47181854e-02, 3.63262917e-03, 4.36367763e-03, 2.89824786e-03,\n",
       "           2.30821934e-03, 1.46284728e-17])}},\n",
       "  'sharpness': {'sharp': 0.39557084},\n",
       "  'scoring_rule': {'nll': 1.3202117060468608,\n",
       "   'crps': 0.29036254272396467,\n",
       "   'check': 0.1462947915315485,\n",
       "   'interval': 1.9001349450193918}},\n",
       " {'accuracy': {'mae': 0.3663988329019684,\n",
       "   'rmse': 0.7407156414998464,\n",
       "   'mdae': 0.05530799552798271,\n",
       "   'marpd': 134.14999710415142,\n",
       "   'r2': 0.7819589334081453,\n",
       "   'corr': 0.885157991546807},\n",
       "  'avg_calibration': {'rms_cal': 0.06439488691699088,\n",
       "   'ma_cal': 0.05539589442815249,\n",
       "   'miscal_area': 0.05593129167944698},\n",
       "  'adv_group_calibration': {'ma_adv_group_cal': {'group_sizes': array([0.        , 0.11111111, 0.22222222, 0.33333333, 0.44444444,\n",
       "           0.55555556, 0.66666667, 0.77777778, 0.88888889, 1.        ]),\n",
       "    'adv_group_cali_mean': array([0.40863636, 0.09982589, 0.08632629, 0.07709197, 0.07136291,\n",
       "           0.06685474, 0.06554879, 0.06178487, 0.06016542, 0.05539589]),\n",
       "    'adv_group_cali_stderr': array([8.05903949e-02, 1.61375693e-02, 9.44027543e-03, 8.90560520e-03,\n",
       "           6.11641305e-03, 3.41604079e-03, 3.56783225e-03, 2.76146119e-03,\n",
       "           9.07616727e-04, 7.31423639e-18])},\n",
       "   'rms_adv_group_cal': {'group_sizes': array([0.        , 0.11111111, 0.22222222, 0.33333333, 0.44444444,\n",
       "           0.55555556, 0.66666667, 0.77777778, 0.88888889, 1.        ]),\n",
       "    'adv_group_cali_mean': array([0.49052793, 0.14246164, 0.10902801, 0.09366289, 0.0825889 ,\n",
       "           0.07667582, 0.077268  , 0.0707971 , 0.06989431, 0.06439489]),\n",
       "    'adv_group_cali_stderr': array([0.04735064, 0.01886073, 0.01507344, 0.00612316, 0.00418668,\n",
       "           0.00362698, 0.00384386, 0.0017449 , 0.00196448, 0.        ])}},\n",
       "  'sharpness': {'sharp': 0.38441774},\n",
       "  'scoring_rule': {'nll': 9.12880477247725,\n",
       "   'crps': 0.2821112065271636,\n",
       "   'check': 0.14222373384271414,\n",
       "   'interval': 1.7574114941160195}},\n",
       " {'accuracy': {'mae': 522.3069796872152,\n",
       "   'rmse': 5667.7009712723575,\n",
       "   'mdae': 0.026197856292128563,\n",
       "   'marpd': 136.83758350921406,\n",
       "   'r2': -14775807.189105077,\n",
       "   'corr': -0.0201489230663798},\n",
       "  'avg_calibration': {'rms_cal': 0.047546067635927426,\n",
       "   'ma_cal': 0.04031280547409581,\n",
       "   'miscal_area': 0.04065440291468938},\n",
       "  'adv_group_calibration': {'ma_adv_group_cal': {'group_sizes': array([0.        , 0.11111111, 0.22222222, 0.33333333, 0.44444444,\n",
       "           0.55555556, 0.66666667, 0.77777778, 0.88888889, 1.        ]),\n",
       "    'adv_group_cali_mean': array([0.38338889, 0.10676396, 0.06630051, 0.0618764 , 0.0539257 ,\n",
       "           0.05226647, 0.04799074, 0.04635094, 0.04394699, 0.04031281]),\n",
       "    'adv_group_cali_stderr': array([0.07271689, 0.01895874, 0.00942073, 0.00614659, 0.00403724,\n",
       "           0.00308264, 0.00217742, 0.001243  , 0.0008968 , 0.        ])},\n",
       "   'rms_adv_group_cal': {'group_sizes': array([0.        , 0.11111111, 0.22222222, 0.33333333, 0.44444444,\n",
       "           0.55555556, 0.66666667, 0.77777778, 0.88888889, 1.        ]),\n",
       "    'adv_group_cali_mean': array([0.49145085, 0.10505677, 0.08603582, 0.06950648, 0.06412817,\n",
       "           0.06501559, 0.0566106 , 0.05511152, 0.05216822, 0.04754607]),\n",
       "    'adv_group_cali_stderr': array([7.08134965e-02, 1.00356521e-02, 8.41230573e-03, 6.17530410e-03,\n",
       "           3.39939505e-03, 8.98721227e-03, 2.82004600e-03, 2.15154636e-03,\n",
       "           1.27212433e-03, 7.31423639e-18])}},\n",
       "  'sharpness': {'sharp': 3148.1697},\n",
       "  'scoring_rule': {'nll': 2.307603722913576,\n",
       "   'crps': 366.922009362427,\n",
       "   'check': 185.3134216542082,\n",
       "   'interval': 1620.194977999948}},\n",
       " {'accuracy': {'mae': 0.3467900265083331,\n",
       "   'rmse': 0.7809931833405133,\n",
       "   'mdae': 0.02719766926020384,\n",
       "   'marpd': 137.18946313556012,\n",
       "   'r2': 0.7876186016517615,\n",
       "   'corr': 0.8900116252075754},\n",
       "  'avg_calibration': {'rms_cal': 0.055751509474303365,\n",
       "   'ma_cal': 0.04179887106357696,\n",
       "   'miscal_area': 0.042156619340999575},\n",
       "  'adv_group_calibration': {'ma_adv_group_cal': {'group_sizes': array([0.        , 0.11111111, 0.22222222, 0.33333333, 0.44444444,\n",
       "           0.55555556, 0.66666667, 0.77777778, 0.88888889, 1.        ]),\n",
       "    'adv_group_cali_mean': array([0.37830808, 0.1159487 , 0.07369577, 0.07366425, 0.05562339,\n",
       "           0.05081914, 0.04854523, 0.04696465, 0.04502636, 0.04179887]),\n",
       "    'adv_group_cali_stderr': array([8.12514955e-02, 3.56396999e-02, 7.11038805e-03, 1.38145441e-02,\n",
       "           3.03012440e-03, 1.67747312e-03, 1.31001687e-03, 1.32096161e-03,\n",
       "           1.14280402e-03, 7.31423639e-18])},\n",
       "   'rms_adv_group_cal': {'group_sizes': array([0.        , 0.11111111, 0.22222222, 0.33333333, 0.44444444,\n",
       "           0.55555556, 0.66666667, 0.77777778, 0.88888889, 1.        ]),\n",
       "    'adv_group_cali_mean': array([0.48379595, 0.13070426, 0.09303627, 0.08186062, 0.07564159,\n",
       "           0.07305425, 0.06823253, 0.06402203, 0.06077333, 0.05575151]),\n",
       "    'adv_group_cali_stderr': array([7.79667716e-02, 2.65647934e-02, 1.84841592e-02, 9.18949526e-03,\n",
       "           4.99246310e-03, 7.72537472e-03, 4.16058316e-03, 3.11488811e-03,\n",
       "           1.64836833e-03, 7.31423639e-18])}},\n",
       "  'sharpness': {'sharp': 0.33559164},\n",
       "  'scoring_rule': {'nll': 40.1038206061635,\n",
       "   'crps': 0.27587342314848523,\n",
       "   'check': 0.13896491640297742,\n",
       "   'interval': 1.8244176722842134}},\n",
       " {'accuracy': {'mae': 0.3950795460709225,\n",
       "   'rmse': 0.7644829689895257,\n",
       "   'mdae': 0.03385267093777655,\n",
       "   'marpd': 137.5156705380018,\n",
       "   'r2': 0.8070889425927977,\n",
       "   'corr': 0.9005453682197243},\n",
       "  'avg_calibration': {'rms_cal': 0.15836695963261185,\n",
       "   'ma_cal': 0.1437058823529412,\n",
       "   'miscal_area': 0.14515745692216275},\n",
       "  'adv_group_calibration': {'ma_adv_group_cal': {'group_sizes': array([0.        , 0.11111111, 0.22222222, 0.33333333, 0.44444444,\n",
       "           0.55555556, 0.66666667, 0.77777778, 0.88888889, 1.        ]),\n",
       "    'adv_group_cali_mean': array([0.37990404, 0.19712972, 0.19047368, 0.17326549, 0.16713907,\n",
       "           0.16332804, 0.1605859 , 0.15391667, 0.15189735, 0.14370588]),\n",
       "    'adv_group_cali_stderr': array([8.49843271e-02, 2.79798773e-02, 1.58215075e-02, 1.21901705e-02,\n",
       "           7.07517056e-03, 7.62257618e-03, 5.20433410e-03, 4.11202308e-03,\n",
       "           4.64644648e-03, 2.92569456e-17])},\n",
       "   'rms_adv_group_cal': {'group_sizes': array([0.        , 0.11111111, 0.22222222, 0.33333333, 0.44444444,\n",
       "           0.55555556, 0.66666667, 0.77777778, 0.88888889, 1.        ]),\n",
       "    'adv_group_cali_mean': array([0.50522262, 0.22521   , 0.19655332, 0.19199014, 0.18215565,\n",
       "           0.18136731, 0.17548074, 0.17410499, 0.16688891, 0.15836696]),\n",
       "    'adv_group_cali_stderr': array([0.07858006, 0.02970533, 0.01518441, 0.01203279, 0.00824543,\n",
       "           0.00771135, 0.00609987, 0.00484065, 0.00309845, 0.        ])}},\n",
       "  'sharpness': {'sharp': 0.3327456},\n",
       "  'scoring_rule': {'nll': 18.395344929627747,\n",
       "   'crps': 0.3103314209269535,\n",
       "   'check': 0.1563423392700425,\n",
       "   'interval': 2.0554911589443736}}]"
      ]
     },
     "execution_count": 13,
     "metadata": {},
     "output_type": "execute_result"
    }
   ],
   "source": [
    "metricss"
   ]
  },
  {
   "cell_type": "markdown",
   "metadata": {},
   "source": [
    "#### Conclusion"
   ]
  },
  {
   "cell_type": "markdown",
   "metadata": {},
   "source": [
    "Relative percentage change of the error compared to MODNet_exp_GA reference: -2%"
   ]
  }
 ],
 "metadata": {
  "kernelspec": {
   "display_name": "Python [conda env:modnet]",
   "language": "python",
   "name": "conda-env-modnet-py"
  },
  "language_info": {
   "codemirror_mode": {
    "name": "ipython",
    "version": 3
   },
   "file_extension": ".py",
   "mimetype": "text/x-python",
   "name": "python",
   "nbconvert_exporter": "python",
   "pygments_lexer": "ipython3",
   "version": "3.8.5"
  }
 },
 "nbformat": 4,
 "nbformat_minor": 4
}
